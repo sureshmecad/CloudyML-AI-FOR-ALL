{
  "nbformat": 4,
  "nbformat_minor": 0,
  "metadata": {
    "kernelspec": {
      "display_name": "Python 3",
      "language": "python",
      "name": "python3"
    },
    "language_info": {
      "codemirror_mode": {
        "name": "ipython",
        "version": 3
      },
      "file_extension": ".py",
      "mimetype": "text/x-python",
      "name": "python",
      "nbconvert_exporter": "python",
      "pygments_lexer": "ipython3",
      "version": "3.8.5"
    },
    "colab": {
      "name": "7_Exploratory Data Analysis_CloudyML.ipynb",
      "provenance": [],
      "collapsed_sections": [
        "1owWFQUxNip_",
        "8NmzOjY-NiqA",
        "GjyS2MPyNiqB",
        "Yd1LmrrNNiqD",
        "RSGTOUbUNiqG",
        "IjdlR4JnNiqG",
        "uwF2lr_0NiqH",
        "E-2tLQI7NiqI",
        "qS61cgCgNiqI",
        "KzOTHAEMNiqJ",
        "aiLScXcrNiqK",
        "bbFCpg4YNiqM",
        "YBv9bgGBNiqN",
        "D2pG07E8NiqP",
        "iInUIPWvNiqP",
        "PibpGweBNiqQ"
      ],
      "include_colab_link": true
    }
  },
  "cells": [
    {
      "cell_type": "markdown",
      "metadata": {
        "id": "view-in-github",
        "colab_type": "text"
      },
      "source": [
        "<a href=\"https://colab.research.google.com/github/sureshmecad/CloudyML-AI-FOR-ALL/blob/main/7_Exploratory_Data_Analysis_CloudyML.ipynb\" target=\"_parent\"><img src=\"https://colab.research.google.com/assets/colab-badge.svg\" alt=\"Open In Colab\"/></a>"
      ]
    },
    {
      "cell_type": "markdown",
      "metadata": {
        "id": "m14cGjDONipw"
      },
      "source": [
        "# <center><u> Exploratory Data Analysis</u> </center>"
      ]
    },
    {
      "cell_type": "markdown",
      "metadata": {
        "id": "7DuWEviyNipz"
      },
      "source": [
        "## 1. Importing the necessary libraries"
      ]
    },
    {
      "cell_type": "markdown",
      "metadata": {
        "id": "8voEorGBNip0"
      },
      "source": [
        "Import the libraries that will be used in this notebook"
      ]
    },
    {
      "cell_type": "code",
      "metadata": {
        "id": "h75Eb8Q4Nip1"
      },
      "source": [
        "import pandas as pd\n",
        "import numpy as np\n",
        "import seaborn as sns #visualisation\n",
        "import matplotlib.pyplot as plt #visualisation\n",
        "%matplotlib inline \n",
        "sns.set(color_codes=True)\n",
        "from scipy import stats\n",
        "import warnings\n",
        "warnings.filterwarnings(\"ignore\")"
      ],
      "execution_count": 1,
      "outputs": []
    },
    {
      "cell_type": "markdown",
      "metadata": {
        "id": "iGB9aBIENip1"
      },
      "source": [
        "## 2. Download the dataset and load into dataframe"
      ]
    },
    {
      "cell_type": "markdown",
      "metadata": {
        "id": "_jTWhdcyNip2"
      },
      "source": [
        "<p style='text-align: right;'> 5 points</p>\n"
      ]
    },
    {
      "cell_type": "markdown",
      "metadata": {
        "id": "nJoTXwUTNip2"
      },
      "source": [
        "Please download the dataset from [here](https://www.kaggle.com/CooperUnion/cardataset) and extract the csv file. Load the csv file as pandas dataframe. "
      ]
    },
    {
      "cell_type": "code",
      "metadata": {
        "colab": {
          "resources": {
            "http://localhost:8080/nbextensions/google.colab/files.js": {
              "data": "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",
              "ok": true,
              "headers": [
                [
                  "content-type",
                  "application/javascript"
                ]
              ],
              "status": 200,
              "status_text": "OK"
            }
          },
          "base_uri": "https://localhost:8080/",
          "height": 72
        },
        "id": "8EfM1iZWOTVv",
        "outputId": "edec6f04-55f9-40e3-a9ea-9e64d23d1f65"
      },
      "source": [
        "from google.colab import files\n",
        "uploaded = files.upload()"
      ],
      "execution_count": 2,
      "outputs": [
        {
          "output_type": "display_data",
          "data": {
            "text/html": [
              "\n",
              "     <input type=\"file\" id=\"files-d1d117f8-c0eb-4cab-b7de-30a824d7b1b6\" name=\"files[]\" multiple disabled\n",
              "        style=\"border:none\" />\n",
              "     <output id=\"result-d1d117f8-c0eb-4cab-b7de-30a824d7b1b6\">\n",
              "      Upload widget is only available when the cell has been executed in the\n",
              "      current browser session. Please rerun this cell to enable.\n",
              "      </output>\n",
              "      <script src=\"/nbextensions/google.colab/files.js\"></script> "
            ],
            "text/plain": [
              "<IPython.core.display.HTML object>"
            ]
          },
          "metadata": {
            "tags": []
          }
        },
        {
          "output_type": "stream",
          "text": [
            "Saving data.csv to data (6).csv\n"
          ],
          "name": "stdout"
        }
      ]
    },
    {
      "cell_type": "code",
      "metadata": {
        "id": "pt5QXaqHNip2"
      },
      "source": [
        "## load the csv file \n",
        "df = pd.read_csv(\"data.csv\")"
      ],
      "execution_count": 3,
      "outputs": []
    },
    {
      "cell_type": "code",
      "metadata": {
        "id": "EZNPe361Nip3",
        "colab": {
          "base_uri": "https://localhost:8080/",
          "height": 306
        },
        "outputId": "bc6c2481-6563-4179-b5bb-96fd51bc24f4"
      },
      "source": [
        "## print the head of the dataframe\n",
        "df.head()"
      ],
      "execution_count": 4,
      "outputs": [
        {
          "output_type": "execute_result",
          "data": {
            "text/html": [
              "<div>\n",
              "<style scoped>\n",
              "    .dataframe tbody tr th:only-of-type {\n",
              "        vertical-align: middle;\n",
              "    }\n",
              "\n",
              "    .dataframe tbody tr th {\n",
              "        vertical-align: top;\n",
              "    }\n",
              "\n",
              "    .dataframe thead th {\n",
              "        text-align: right;\n",
              "    }\n",
              "</style>\n",
              "<table border=\"1\" class=\"dataframe\">\n",
              "  <thead>\n",
              "    <tr style=\"text-align: right;\">\n",
              "      <th></th>\n",
              "      <th>Make</th>\n",
              "      <th>Model</th>\n",
              "      <th>Year</th>\n",
              "      <th>Engine Fuel Type</th>\n",
              "      <th>Engine HP</th>\n",
              "      <th>Engine Cylinders</th>\n",
              "      <th>Transmission Type</th>\n",
              "      <th>Driven_Wheels</th>\n",
              "      <th>Number of Doors</th>\n",
              "      <th>Market Category</th>\n",
              "      <th>Vehicle Size</th>\n",
              "      <th>Vehicle Style</th>\n",
              "      <th>highway MPG</th>\n",
              "      <th>city mpg</th>\n",
              "      <th>Popularity</th>\n",
              "      <th>MSRP</th>\n",
              "    </tr>\n",
              "  </thead>\n",
              "  <tbody>\n",
              "    <tr>\n",
              "      <th>0</th>\n",
              "      <td>BMW</td>\n",
              "      <td>1 Series M</td>\n",
              "      <td>2011</td>\n",
              "      <td>premium unleaded (required)</td>\n",
              "      <td>335.0</td>\n",
              "      <td>6.0</td>\n",
              "      <td>MANUAL</td>\n",
              "      <td>rear wheel drive</td>\n",
              "      <td>2.0</td>\n",
              "      <td>Factory Tuner,Luxury,High-Performance</td>\n",
              "      <td>Compact</td>\n",
              "      <td>Coupe</td>\n",
              "      <td>26</td>\n",
              "      <td>19</td>\n",
              "      <td>3916</td>\n",
              "      <td>46135</td>\n",
              "    </tr>\n",
              "    <tr>\n",
              "      <th>1</th>\n",
              "      <td>BMW</td>\n",
              "      <td>1 Series</td>\n",
              "      <td>2011</td>\n",
              "      <td>premium unleaded (required)</td>\n",
              "      <td>300.0</td>\n",
              "      <td>6.0</td>\n",
              "      <td>MANUAL</td>\n",
              "      <td>rear wheel drive</td>\n",
              "      <td>2.0</td>\n",
              "      <td>Luxury,Performance</td>\n",
              "      <td>Compact</td>\n",
              "      <td>Convertible</td>\n",
              "      <td>28</td>\n",
              "      <td>19</td>\n",
              "      <td>3916</td>\n",
              "      <td>40650</td>\n",
              "    </tr>\n",
              "    <tr>\n",
              "      <th>2</th>\n",
              "      <td>BMW</td>\n",
              "      <td>1 Series</td>\n",
              "      <td>2011</td>\n",
              "      <td>premium unleaded (required)</td>\n",
              "      <td>300.0</td>\n",
              "      <td>6.0</td>\n",
              "      <td>MANUAL</td>\n",
              "      <td>rear wheel drive</td>\n",
              "      <td>2.0</td>\n",
              "      <td>Luxury,High-Performance</td>\n",
              "      <td>Compact</td>\n",
              "      <td>Coupe</td>\n",
              "      <td>28</td>\n",
              "      <td>20</td>\n",
              "      <td>3916</td>\n",
              "      <td>36350</td>\n",
              "    </tr>\n",
              "    <tr>\n",
              "      <th>3</th>\n",
              "      <td>BMW</td>\n",
              "      <td>1 Series</td>\n",
              "      <td>2011</td>\n",
              "      <td>premium unleaded (required)</td>\n",
              "      <td>230.0</td>\n",
              "      <td>6.0</td>\n",
              "      <td>MANUAL</td>\n",
              "      <td>rear wheel drive</td>\n",
              "      <td>2.0</td>\n",
              "      <td>Luxury,Performance</td>\n",
              "      <td>Compact</td>\n",
              "      <td>Coupe</td>\n",
              "      <td>28</td>\n",
              "      <td>18</td>\n",
              "      <td>3916</td>\n",
              "      <td>29450</td>\n",
              "    </tr>\n",
              "    <tr>\n",
              "      <th>4</th>\n",
              "      <td>BMW</td>\n",
              "      <td>1 Series</td>\n",
              "      <td>2011</td>\n",
              "      <td>premium unleaded (required)</td>\n",
              "      <td>230.0</td>\n",
              "      <td>6.0</td>\n",
              "      <td>MANUAL</td>\n",
              "      <td>rear wheel drive</td>\n",
              "      <td>2.0</td>\n",
              "      <td>Luxury</td>\n",
              "      <td>Compact</td>\n",
              "      <td>Convertible</td>\n",
              "      <td>28</td>\n",
              "      <td>18</td>\n",
              "      <td>3916</td>\n",
              "      <td>34500</td>\n",
              "    </tr>\n",
              "  </tbody>\n",
              "</table>\n",
              "</div>"
            ],
            "text/plain": [
              "  Make       Model  Year  ... city mpg  Popularity   MSRP\n",
              "0  BMW  1 Series M  2011  ...       19        3916  46135\n",
              "1  BMW    1 Series  2011  ...       19        3916  40650\n",
              "2  BMW    1 Series  2011  ...       20        3916  36350\n",
              "3  BMW    1 Series  2011  ...       18        3916  29450\n",
              "4  BMW    1 Series  2011  ...       18        3916  34500\n",
              "\n",
              "[5 rows x 16 columns]"
            ]
          },
          "metadata": {
            "tags": []
          },
          "execution_count": 4
        }
      ]
    },
    {
      "cell_type": "markdown",
      "metadata": {
        "id": "k7tSDr56Nip6"
      },
      "source": [
        "## 3. Check the datatypes"
      ]
    },
    {
      "cell_type": "markdown",
      "metadata": {
        "id": "BqDTHYRPNip6"
      },
      "source": [
        "<p style='text-align: right;'> 2 points</p>\n"
      ]
    },
    {
      "cell_type": "code",
      "metadata": {
        "id": "ZM0VF-dDNip7",
        "colab": {
          "base_uri": "https://localhost:8080/"
        },
        "outputId": "d4ae3a6b-295c-4a5d-cf7f-72419c2198da"
      },
      "source": [
        "# Get the datatypes of each columns number of records in each column.\n",
        "df.info()"
      ],
      "execution_count": 5,
      "outputs": [
        {
          "output_type": "stream",
          "text": [
            "<class 'pandas.core.frame.DataFrame'>\n",
            "RangeIndex: 11914 entries, 0 to 11913\n",
            "Data columns (total 16 columns):\n",
            " #   Column             Non-Null Count  Dtype  \n",
            "---  ------             --------------  -----  \n",
            " 0   Make               11914 non-null  object \n",
            " 1   Model              11914 non-null  object \n",
            " 2   Year               11914 non-null  int64  \n",
            " 3   Engine Fuel Type   11911 non-null  object \n",
            " 4   Engine HP          11845 non-null  float64\n",
            " 5   Engine Cylinders   11884 non-null  float64\n",
            " 6   Transmission Type  11914 non-null  object \n",
            " 7   Driven_Wheels      11914 non-null  object \n",
            " 8   Number of Doors    11908 non-null  float64\n",
            " 9   Market Category    8172 non-null   object \n",
            " 10  Vehicle Size       11914 non-null  object \n",
            " 11  Vehicle Style      11914 non-null  object \n",
            " 12  highway MPG        11914 non-null  int64  \n",
            " 13  city mpg           11914 non-null  int64  \n",
            " 14  Popularity         11914 non-null  int64  \n",
            " 15  MSRP               11914 non-null  int64  \n",
            "dtypes: float64(3), int64(5), object(8)\n",
            "memory usage: 1.5+ MB\n"
          ],
          "name": "stdout"
        }
      ]
    },
    {
      "cell_type": "markdown",
      "metadata": {
        "id": "opi1v4M4Nip7"
      },
      "source": [
        "## 4. Dropping irrevalent columns"
      ]
    },
    {
      "cell_type": "markdown",
      "metadata": {
        "id": "vEPKDODhNip7"
      },
      "source": [
        "Reference:-https://www.youtube.com/watch?v=cRurWEfmxC0\n",
        "<p style='text-align: right;'> 5 points</p>\n"
      ]
    },
    {
      "cell_type": "markdown",
      "metadata": {
        "id": "cg_3TZFYNip8"
      },
      "source": [
        "Not all the columns are important to us in the given dataframe, and hence we would drop the columns that are irrevalent to us. <br>\n",
        "\n",
        "The list cols_to_drop contains the names of the cols that are irrevalent, drop all these cols from the dataframe\n",
        "\n",
        "cols_to_drop = [\"Engine Fuel Type\", \"Market Category\", \"Vehicle Style\", \"Popularity\", \"Number of Doors\", \"Vehicle Size\"]"
      ]
    },
    {
      "cell_type": "code",
      "metadata": {
        "id": "EHFDnMhVS3iR"
      },
      "source": [
        "# initialise cols_to_drop\n",
        "cols_to_drop = [\"Engine Fuel Type\", \"Market Category\", \"Vehicle Style\", \"Popularity\", \"Number of Doors\", \"Vehicle Size\"]"
      ],
      "execution_count": 6,
      "outputs": []
    },
    {
      "cell_type": "code",
      "metadata": {
        "id": "KxjeWjryTmw6"
      },
      "source": [
        "# drop the irrevalent cols and print the head of the dataframe\n",
        "df.drop(cols_to_drop, inplace=True, axis=1)"
      ],
      "execution_count": 7,
      "outputs": []
    },
    {
      "cell_type": "code",
      "metadata": {
        "colab": {
          "base_uri": "https://localhost:8080/",
          "height": 204
        },
        "id": "XWbSqqoTWBHK",
        "outputId": "f995235d-0373-4ccb-a0e8-abda26162650"
      },
      "source": [
        "df.head()"
      ],
      "execution_count": 8,
      "outputs": [
        {
          "output_type": "execute_result",
          "data": {
            "text/html": [
              "<div>\n",
              "<style scoped>\n",
              "    .dataframe tbody tr th:only-of-type {\n",
              "        vertical-align: middle;\n",
              "    }\n",
              "\n",
              "    .dataframe tbody tr th {\n",
              "        vertical-align: top;\n",
              "    }\n",
              "\n",
              "    .dataframe thead th {\n",
              "        text-align: right;\n",
              "    }\n",
              "</style>\n",
              "<table border=\"1\" class=\"dataframe\">\n",
              "  <thead>\n",
              "    <tr style=\"text-align: right;\">\n",
              "      <th></th>\n",
              "      <th>Make</th>\n",
              "      <th>Model</th>\n",
              "      <th>Year</th>\n",
              "      <th>Engine HP</th>\n",
              "      <th>Engine Cylinders</th>\n",
              "      <th>Transmission Type</th>\n",
              "      <th>Driven_Wheels</th>\n",
              "      <th>highway MPG</th>\n",
              "      <th>city mpg</th>\n",
              "      <th>MSRP</th>\n",
              "    </tr>\n",
              "  </thead>\n",
              "  <tbody>\n",
              "    <tr>\n",
              "      <th>0</th>\n",
              "      <td>BMW</td>\n",
              "      <td>1 Series M</td>\n",
              "      <td>2011</td>\n",
              "      <td>335.0</td>\n",
              "      <td>6.0</td>\n",
              "      <td>MANUAL</td>\n",
              "      <td>rear wheel drive</td>\n",
              "      <td>26</td>\n",
              "      <td>19</td>\n",
              "      <td>46135</td>\n",
              "    </tr>\n",
              "    <tr>\n",
              "      <th>1</th>\n",
              "      <td>BMW</td>\n",
              "      <td>1 Series</td>\n",
              "      <td>2011</td>\n",
              "      <td>300.0</td>\n",
              "      <td>6.0</td>\n",
              "      <td>MANUAL</td>\n",
              "      <td>rear wheel drive</td>\n",
              "      <td>28</td>\n",
              "      <td>19</td>\n",
              "      <td>40650</td>\n",
              "    </tr>\n",
              "    <tr>\n",
              "      <th>2</th>\n",
              "      <td>BMW</td>\n",
              "      <td>1 Series</td>\n",
              "      <td>2011</td>\n",
              "      <td>300.0</td>\n",
              "      <td>6.0</td>\n",
              "      <td>MANUAL</td>\n",
              "      <td>rear wheel drive</td>\n",
              "      <td>28</td>\n",
              "      <td>20</td>\n",
              "      <td>36350</td>\n",
              "    </tr>\n",
              "    <tr>\n",
              "      <th>3</th>\n",
              "      <td>BMW</td>\n",
              "      <td>1 Series</td>\n",
              "      <td>2011</td>\n",
              "      <td>230.0</td>\n",
              "      <td>6.0</td>\n",
              "      <td>MANUAL</td>\n",
              "      <td>rear wheel drive</td>\n",
              "      <td>28</td>\n",
              "      <td>18</td>\n",
              "      <td>29450</td>\n",
              "    </tr>\n",
              "    <tr>\n",
              "      <th>4</th>\n",
              "      <td>BMW</td>\n",
              "      <td>1 Series</td>\n",
              "      <td>2011</td>\n",
              "      <td>230.0</td>\n",
              "      <td>6.0</td>\n",
              "      <td>MANUAL</td>\n",
              "      <td>rear wheel drive</td>\n",
              "      <td>28</td>\n",
              "      <td>18</td>\n",
              "      <td>34500</td>\n",
              "    </tr>\n",
              "  </tbody>\n",
              "</table>\n",
              "</div>"
            ],
            "text/plain": [
              "  Make       Model  Year  ...  highway MPG  city mpg   MSRP\n",
              "0  BMW  1 Series M  2011  ...           26        19  46135\n",
              "1  BMW    1 Series  2011  ...           28        19  40650\n",
              "2  BMW    1 Series  2011  ...           28        20  36350\n",
              "3  BMW    1 Series  2011  ...           28        18  29450\n",
              "4  BMW    1 Series  2011  ...           28        18  34500\n",
              "\n",
              "[5 rows x 10 columns]"
            ]
          },
          "metadata": {
            "tags": []
          },
          "execution_count": 8
        }
      ]
    },
    {
      "cell_type": "markdown",
      "metadata": {
        "id": "n99D_KDfNip8"
      },
      "source": [
        "## 5.  Renaming the columns"
      ]
    },
    {
      "cell_type": "markdown",
      "metadata": {
        "id": "-uBFAGS-Nip8"
      },
      "source": [
        "<p style='text-align: right;'> 5 points</p>\n"
      ]
    },
    {
      "cell_type": "markdown",
      "metadata": {
        "id": "LUfyFqfWNip9"
      },
      "source": [
        "We have already dropped the unneccesary columns, and now we are left with useful columns. One extra thing that we would do is to rename the columns such that the name clearly represents the essence of the column.\n",
        "\n",
        "The given dict represents (in key value pair) the previous name, and the new name for the dataframe columns"
      ]
    },
    {
      "cell_type": "code",
      "metadata": {
        "id": "Ay1trgwQNip9"
      },
      "source": [
        "rename_cols = {\"Engine HP\": \"HP\", \"Engine Cylinders\": \"Cylinders\", \"Transmission Type\": \"Transmission\", \n",
        "               \"Driven_Wheels\": \"Drive Mode\",\"highway MPG\": \"MPG_H\", \"city mpg\": \"MPG-C\", \"MSRP\": \"Price\" }"
      ],
      "execution_count": 9,
      "outputs": []
    },
    {
      "cell_type": "code",
      "metadata": {
        "id": "pyKS6b9CNip9"
      },
      "source": [
        "# use a pandas function to rename the current columns with names in rename_cols \n",
        "df.rename(columns = rename_cols, inplace=True)"
      ],
      "execution_count": 10,
      "outputs": []
    },
    {
      "cell_type": "code",
      "metadata": {
        "id": "OXPf0BIZNip9",
        "colab": {
          "base_uri": "https://localhost:8080/",
          "height": 204
        },
        "outputId": "c584ca27-cf11-479c-d928-0e2650249ec7"
      },
      "source": [
        "# Print the head of the dataframe\n",
        "df.head()\n"
      ],
      "execution_count": 11,
      "outputs": [
        {
          "output_type": "execute_result",
          "data": {
            "text/html": [
              "<div>\n",
              "<style scoped>\n",
              "    .dataframe tbody tr th:only-of-type {\n",
              "        vertical-align: middle;\n",
              "    }\n",
              "\n",
              "    .dataframe tbody tr th {\n",
              "        vertical-align: top;\n",
              "    }\n",
              "\n",
              "    .dataframe thead th {\n",
              "        text-align: right;\n",
              "    }\n",
              "</style>\n",
              "<table border=\"1\" class=\"dataframe\">\n",
              "  <thead>\n",
              "    <tr style=\"text-align: right;\">\n",
              "      <th></th>\n",
              "      <th>Make</th>\n",
              "      <th>Model</th>\n",
              "      <th>Year</th>\n",
              "      <th>HP</th>\n",
              "      <th>Cylinders</th>\n",
              "      <th>Transmission</th>\n",
              "      <th>Drive Mode</th>\n",
              "      <th>MPG_H</th>\n",
              "      <th>MPG-C</th>\n",
              "      <th>Price</th>\n",
              "    </tr>\n",
              "  </thead>\n",
              "  <tbody>\n",
              "    <tr>\n",
              "      <th>0</th>\n",
              "      <td>BMW</td>\n",
              "      <td>1 Series M</td>\n",
              "      <td>2011</td>\n",
              "      <td>335.0</td>\n",
              "      <td>6.0</td>\n",
              "      <td>MANUAL</td>\n",
              "      <td>rear wheel drive</td>\n",
              "      <td>26</td>\n",
              "      <td>19</td>\n",
              "      <td>46135</td>\n",
              "    </tr>\n",
              "    <tr>\n",
              "      <th>1</th>\n",
              "      <td>BMW</td>\n",
              "      <td>1 Series</td>\n",
              "      <td>2011</td>\n",
              "      <td>300.0</td>\n",
              "      <td>6.0</td>\n",
              "      <td>MANUAL</td>\n",
              "      <td>rear wheel drive</td>\n",
              "      <td>28</td>\n",
              "      <td>19</td>\n",
              "      <td>40650</td>\n",
              "    </tr>\n",
              "    <tr>\n",
              "      <th>2</th>\n",
              "      <td>BMW</td>\n",
              "      <td>1 Series</td>\n",
              "      <td>2011</td>\n",
              "      <td>300.0</td>\n",
              "      <td>6.0</td>\n",
              "      <td>MANUAL</td>\n",
              "      <td>rear wheel drive</td>\n",
              "      <td>28</td>\n",
              "      <td>20</td>\n",
              "      <td>36350</td>\n",
              "    </tr>\n",
              "    <tr>\n",
              "      <th>3</th>\n",
              "      <td>BMW</td>\n",
              "      <td>1 Series</td>\n",
              "      <td>2011</td>\n",
              "      <td>230.0</td>\n",
              "      <td>6.0</td>\n",
              "      <td>MANUAL</td>\n",
              "      <td>rear wheel drive</td>\n",
              "      <td>28</td>\n",
              "      <td>18</td>\n",
              "      <td>29450</td>\n",
              "    </tr>\n",
              "    <tr>\n",
              "      <th>4</th>\n",
              "      <td>BMW</td>\n",
              "      <td>1 Series</td>\n",
              "      <td>2011</td>\n",
              "      <td>230.0</td>\n",
              "      <td>6.0</td>\n",
              "      <td>MANUAL</td>\n",
              "      <td>rear wheel drive</td>\n",
              "      <td>28</td>\n",
              "      <td>18</td>\n",
              "      <td>34500</td>\n",
              "    </tr>\n",
              "  </tbody>\n",
              "</table>\n",
              "</div>"
            ],
            "text/plain": [
              "  Make       Model  Year     HP  ...        Drive Mode MPG_H MPG-C  Price\n",
              "0  BMW  1 Series M  2011  335.0  ...  rear wheel drive    26    19  46135\n",
              "1  BMW    1 Series  2011  300.0  ...  rear wheel drive    28    19  40650\n",
              "2  BMW    1 Series  2011  300.0  ...  rear wheel drive    28    20  36350\n",
              "3  BMW    1 Series  2011  230.0  ...  rear wheel drive    28    18  29450\n",
              "4  BMW    1 Series  2011  230.0  ...  rear wheel drive    28    18  34500\n",
              "\n",
              "[5 rows x 10 columns]"
            ]
          },
          "metadata": {
            "tags": []
          },
          "execution_count": 11
        }
      ]
    },
    {
      "cell_type": "markdown",
      "metadata": {
        "id": "zs4atqYdNip9"
      },
      "source": [
        "## 6. Dropping the duplicate rows"
      ]
    },
    {
      "cell_type": "markdown",
      "metadata": {
        "id": "XJtAvJneNip-"
      },
      "source": [
        "Reference: https://www.youtube.com/watch?v=bFVMR1qfzXo\n",
        "<p style='text-align: right;'> 10 points</p>\n"
      ]
    },
    {
      "cell_type": "markdown",
      "metadata": {
        "id": "wJXQ2Q4_Nip-"
      },
      "source": [
        "There are many rows in the dataframe which are dublicate, and hence they are just repeating the information. Its better if we remove these rows as they don't add any value to the dataframe. \n",
        "\n",
        "For given data, we would like to see how many rows were duplicates. For this, we will count the number of rows, remove the dublicated rows, and again count the number of rows."
      ]
    },
    {
      "cell_type": "code",
      "metadata": {
        "id": "upHYjsoLNip-"
      },
      "source": [
        "# number of rows before removing duplicated rows\n",
        "\n"
      ],
      "execution_count": 12,
      "outputs": []
    },
    {
      "cell_type": "code",
      "metadata": {
        "id": "YOefOiQaNip-"
      },
      "source": [
        "# drop the duplicated rows and print its head\n",
        "\n"
      ],
      "execution_count": 13,
      "outputs": []
    },
    {
      "cell_type": "code",
      "metadata": {
        "id": "Yeiojx8KNip_"
      },
      "source": [
        "# Count Number of rows after deleting duplicated rows\n"
      ],
      "execution_count": 14,
      "outputs": []
    },
    {
      "cell_type": "markdown",
      "metadata": {
        "id": "1owWFQUxNip_"
      },
      "source": [
        "## 7. Dropping the null or missing values "
      ]
    },
    {
      "cell_type": "markdown",
      "metadata": {
        "id": "ek7Jc8mMNip_"
      },
      "source": [
        "\n",
        "\n",
        "<p style='text-align: right;'> 10 points</p>\n"
      ]
    },
    {
      "cell_type": "markdown",
      "metadata": {
        "id": "SfhJCSdsNip_"
      },
      "source": [
        "There are many values which are missing, in pandas dataframe these values are reffered to as np.nan. We want to deal with these values beause we can't use nan values to train models. Either we can remove them to apply some strategy to replace them with other values.\n",
        "\n",
        "To keep things simple we will be dropping nan values"
      ]
    },
    {
      "cell_type": "code",
      "metadata": {
        "id": "19L7CuAhNip_"
      },
      "source": [
        "# check for total nan values in each columns\n"
      ],
      "execution_count": 15,
      "outputs": []
    },
    {
      "cell_type": "code",
      "metadata": {
        "id": "w9fbajETNiqA"
      },
      "source": [
        "# drop missing values from df\n"
      ],
      "execution_count": 16,
      "outputs": []
    },
    {
      "cell_type": "code",
      "metadata": {
        "id": "goa4YWEmNiqA"
      },
      "source": [
        "# Make sure that missing values are removed\n",
        "# check total nan values in each col again\n"
      ],
      "execution_count": 17,
      "outputs": []
    },
    {
      "cell_type": "code",
      "metadata": {
        "id": "kXesshJpNiqA"
      },
      "source": [
        "#Describe statistics of df\n"
      ],
      "execution_count": 18,
      "outputs": []
    },
    {
      "cell_type": "markdown",
      "metadata": {
        "id": "8NmzOjY-NiqA"
      },
      "source": [
        "## 8. Removing outliers\n",
        "\n",
        "\n",
        "Reference: https://www.youtube.com/watch?v=yxTRB0boTVg"
      ]
    },
    {
      "cell_type": "markdown",
      "metadata": {
        "id": "VNjdWHnZNiqA"
      },
      "source": [
        "Sometimes a dataset can contain extreme values that are outside the range of what is expected and unlike the other data. These are called outliers and often machine learning modeling and model skill in general can be improved by understanding and even removing these outlier values."
      ]
    },
    {
      "cell_type": "markdown",
      "metadata": {
        "id": "GjyS2MPyNiqB"
      },
      "source": [
        "### Detecting outliers\n",
        "\n",
        "There many techiniques to detect outliers. Let us first see the simplest form of visualizing outliers.\n",
        "\n",
        "Box plots are a graphical depiction of numerical data through their quantiles. It is a very simple but effective way to visualize outliers. Think about the lower and upper whiskers as the boundaries of the data distribution. Any data points that show above or below the whiskers, can be considered outliers or anomalous."
      ]
    },
    {
      "cell_type": "markdown",
      "metadata": {
        "id": "4YJMOBVnNiqB"
      },
      "source": [
        "<p style='text-align: right;'> 15 points</p>\n"
      ]
    },
    {
      "cell_type": "code",
      "metadata": {
        "id": "wuCyklRMNiqB"
      },
      "source": [
        "## Plot a boxplot for 'Price' column in dataset. \n"
      ],
      "execution_count": 19,
      "outputs": []
    },
    {
      "cell_type": "code",
      "metadata": {
        "id": "VqMI-mfCNiqB"
      },
      "source": [
        "## PLot a boxplot for 'HP' columns in dataset\n"
      ],
      "execution_count": 20,
      "outputs": []
    },
    {
      "cell_type": "code",
      "metadata": {
        "id": "FOpZS2YdNiqC"
      },
      "source": [
        "## Plot a boxplot for 'Cylinders' column in dataset\n"
      ],
      "execution_count": 21,
      "outputs": []
    },
    {
      "cell_type": "markdown",
      "metadata": {
        "id": "hx4wF3jNNiqC"
      },
      "source": [
        "print all the columns which are of int or float datatype in df. \n",
        "\n",
        "Hint: Use loc with condition"
      ]
    },
    {
      "cell_type": "code",
      "metadata": {
        "id": "A5yXG_ZWNiqC"
      },
      "source": [
        "#code here\n"
      ],
      "execution_count": 22,
      "outputs": []
    },
    {
      "cell_type": "markdown",
      "metadata": {
        "id": "46EVAPI2NiqC"
      },
      "source": [
        "Save the column names of the above output in variable list named 'l'\n"
      ]
    },
    {
      "cell_type": "code",
      "metadata": {
        "id": "uttN6wnzNiqD"
      },
      "source": [
        "#code here\n"
      ],
      "execution_count": 23,
      "outputs": []
    },
    {
      "cell_type": "markdown",
      "metadata": {
        "id": "Yd1LmrrNNiqD"
      },
      "source": [
        "### Outliers removal techniques\n",
        "\n",
        "Reference: https://www.youtube.com/watch?v=A3gClkblXK8\n",
        "<p style='text-align: right;'> 25 points</p>\n",
        "\n",
        "1. **Using IQR Technique**\n",
        " "
      ]
    },
    {
      "cell_type": "markdown",
      "metadata": {
        "id": "llsX_oyWNiqD"
      },
      "source": [
        "**Here comes cool Fact for you!**\n",
        "\n",
        "IQR is the first quartile subtracted from the third quartile; these quartiles can be clearly seen on a box plot on the data.\n",
        "\n",
        "The anatomy of boxplot is given below.\n",
        "\n",
        "![image.png](attachment:image.png)"
      ]
    },
    {
      "cell_type": "markdown",
      "metadata": {
        "id": "OMKVzqKdNiqD"
      },
      "source": [
        "- Calculate IQR  and give a suitable threshold to remove the outliers and save this new dataframe into df2.\n",
        "\n",
        "Let us help you to decide threshold: Outliers in this case are defined as the observations that or below (Q1 − 1.5x IQR) and above (Q3 + 1.5x IQR)"
      ]
    },
    {
      "cell_type": "code",
      "metadata": {
        "id": "Gi44pHMFNiqD"
      },
      "source": [
        "## Your code here\n",
        "\n"
      ],
      "execution_count": 24,
      "outputs": []
    },
    {
      "cell_type": "markdown",
      "metadata": {
        "id": "-QPDpo93NiqE"
      },
      "source": [
        "2. **Outlier removal using Z-score function**\n",
        "\n",
        "Reference:- https://www.youtube.com/watch?v=rfmfXa0kdrQ\n",
        "  - The intuition behind Z-score is to describe any data point by finding their relationship with the Standard Deviation and Mean of the group of data points."
      ]
    },
    {
      "cell_type": "markdown",
      "metadata": {
        "id": "VEr_uubXNiqE"
      },
      "source": [
        "We will use Z-score function defined in scipy library to detect the outliers in dataframe df having columns which are in variable 'l'\n"
      ]
    },
    {
      "cell_type": "code",
      "metadata": {
        "id": "x3unisFZNiqE"
      },
      "source": [
        "# calculate absolute zscore values for each columns present in l, save it in variable z. Print z\n"
      ],
      "execution_count": 25,
      "outputs": []
    },
    {
      "cell_type": "markdown",
      "metadata": {
        "id": "GgLGrZFyNiqE"
      },
      "source": [
        "Hey buddy! do you understand the above output? Difficult right? let’s try and define a threshold to identify an outlier so that we get a clear picture of whats going on."
      ]
    },
    {
      "cell_type": "markdown",
      "metadata": {
        "id": "iXkwAoyXNiqE"
      },
      "source": [
        "We will not spare you without a good fact! ;)\n",
        "\n",
        "In most of the cases a threshold of 3 or -3 is used i.e if the Z-score value is greater than or less than 3 or -3 respectively, that data point will be identified as outliers."
      ]
    },
    {
      "cell_type": "code",
      "metadata": {
        "id": "TxSe7nHeNiqE"
      },
      "source": [
        "# print the values in dataframe which are less than the threshold and save this dataframe as df3\n"
      ],
      "execution_count": 26,
      "outputs": []
    },
    {
      "cell_type": "markdown",
      "metadata": {
        "id": "OXaqjDV8NiqF"
      },
      "source": [
        "print the shape difference of df df2 and df3. "
      ]
    },
    {
      "cell_type": "code",
      "metadata": {
        "id": "TCnlnk4ANiqF"
      },
      "source": [
        "\n",
        "\n"
      ],
      "execution_count": 26,
      "outputs": []
    },
    {
      "cell_type": "markdown",
      "metadata": {
        "id": "V2RErwGINiqF"
      },
      "source": [
        "Interesting right? Bam! you have removed 489 rows from the dataframe which was detected as outlier by Z-score technique.\n",
        "and removed 1636 rows from the dataframe which was detected as outlier by IQR technique."
      ]
    },
    {
      "cell_type": "markdown",
      "metadata": {
        "id": "e_HIM_kzNiqF"
      },
      "source": [
        "By the way there are many other techniques by which you can remove outliers. You can explore on more interesting techniques\n",
        "available.\n",
        "\n",
        "We know you must be having many questions in you mind like:\n",
        "- Which technique we should use and why?\n",
        "- Is it neccessary that whatever detected as outlier are really outliers?\n",
        "\n",
        "Dont't worry these delimma is faced my many data analyst. We provide you with good references below for you to explore further on this\n",
        "\n",
        "- https://www.theanalysisfactor.com/outliers-to-drop-or-not-to-drop/\n",
        "- https://www.researchgate.net/post/Which-is-the-best-method-for-removing-outliers-in-a-data-set"
      ]
    },
    {
      "cell_type": "markdown",
      "metadata": {
        "id": "lpxUBJINNiqF"
      },
      "source": [
        "Lets find unique values and there counts in each column in df using value counts function.\n",
        "\n",
        "Reference: https://www.youtube.com/watch?v=8wRfskrpTIk"
      ]
    },
    {
      "cell_type": "code",
      "metadata": {
        "id": "69aL4N-zNiqG"
      },
      "source": [
        "#Replicate the below output\n",
        "\n"
      ],
      "execution_count": 27,
      "outputs": []
    },
    {
      "cell_type": "code",
      "metadata": {
        "id": "xYpoxOg6NiqG"
      },
      "source": [
        "# Plot a pie chart to visualise unique value counts in column 'Make' using matplotlib\n",
        "\n"
      ],
      "execution_count": 28,
      "outputs": []
    },
    {
      "cell_type": "markdown",
      "metadata": {
        "id": "RSGTOUbUNiqG"
      },
      "source": [
        "## Visualising Univariate Distributions\n",
        "\n",
        "Reference:-https://www.youtube.com/watch?v=lI5-7rX3xPY"
      ]
    },
    {
      "cell_type": "markdown",
      "metadata": {
        "id": "GIEIFLLWNiqG"
      },
      "source": [
        "We will use seaborn library to visualize eye catchy univariate plots. \n",
        "\n",
        "Do you know? you have just now already explored one univariate plot. guess which one? Yeah its box plot.\n"
      ]
    },
    {
      "cell_type": "markdown",
      "metadata": {
        "id": "IjdlR4JnNiqG"
      },
      "source": [
        "### 1 . Histogram & Density Plots\n",
        "\n",
        "<p style='text-align: right;'> 15 points</p>\n",
        "\n",
        "Histograms and density plots show the frequency of a numeric variable along the y-axis, and the value along the x-axis. The ```sns.distplot()``` function plots a density curve. Notice that this is aesthetically better than vanilla ```matplotlib```."
      ]
    },
    {
      "cell_type": "code",
      "metadata": {
        "id": "hPHtAr-pNiqH"
      },
      "source": [
        "#ploting distplot for variable HP\n"
      ],
      "execution_count": 29,
      "outputs": []
    },
    {
      "cell_type": "markdown",
      "metadata": {
        "id": "c9-3_jNqNiqH"
      },
      "source": [
        "Since seaborn uses matplotlib behind the scenes, the usual matplotlib functions work well with seaborn. For example, you can use subplots to plot multiple univariate distributions.\n",
        "- Hint: use matplotlib subplot function\n",
        "\n",
        "Reference:- https://www.youtube.com/watch?v=Tf-dgRR1PMA"
      ]
    },
    {
      "cell_type": "code",
      "metadata": {
        "id": "IFR23WTKNiqH"
      },
      "source": [
        "# plot all the columns present in list l together using subplot of dimention (2,3).\n",
        "\n"
      ],
      "execution_count": 30,
      "outputs": []
    },
    {
      "cell_type": "markdown",
      "metadata": {
        "id": "uwF2lr_0NiqH"
      },
      "source": [
        "## 2. Bar plots\n",
        "\n",
        "<p style='text-align: right;'> 10 points</p>\n"
      ]
    },
    {
      "cell_type": "markdown",
      "metadata": {
        "id": "N-fa7VT-NiqH"
      },
      "source": [
        "Plot a histogram depicting the make in X axis and number of cars in y axis. <br>"
      ]
    },
    {
      "cell_type": "code",
      "metadata": {
        "id": "U6hpF1UWNiqH"
      },
      "source": [
        "#replicate below chart keeping nlargest as 40 and figsize as (12,6)\n",
        "\n",
        "\n"
      ],
      "execution_count": 31,
      "outputs": []
    },
    {
      "cell_type": "markdown",
      "metadata": {
        "id": "E-2tLQI7NiqI"
      },
      "source": [
        "### 3. Count Plot\n",
        "\n",
        "Reference:-https://www.youtube.com/watch?v=8U5h3EJuu8M\n",
        "\n",
        "<p style='text-align: right;'> 10 points</p>\n",
        "\n",
        "A count plot can be thought of as a histogram across a categorical, instead of quantitative, variable.\n"
      ]
    },
    {
      "cell_type": "markdown",
      "metadata": {
        "id": "d1KIbmoiNiqI"
      },
      "source": [
        " Plot a countplot for a variable Transmission vertically with hue as Drive mode"
      ]
    },
    {
      "cell_type": "code",
      "metadata": {
        "id": "PfLuC37DNiqI"
      },
      "source": [
        "\n"
      ],
      "execution_count": 31,
      "outputs": []
    },
    {
      "cell_type": "markdown",
      "metadata": {
        "id": "7fFyRi5vNiqI"
      },
      "source": [
        "# Visualising Bivariate Distributions\n",
        "\n",
        "\n",
        "Bivariate distributions are simply two univariate distributions plotted on x and y axes respectively. They help you observe the relationship between the two variables.\n",
        "\n",
        "\n"
      ]
    },
    {
      "cell_type": "markdown",
      "metadata": {
        "id": "qS61cgCgNiqI"
      },
      "source": [
        "## 1. Scatterplots\n",
        "Reference:- https://www.youtube.com/watch?v=Is9bc-WA-c8\n",
        "\n",
        "Scatterplots are used to find the correlation between two continuos variables. <br>\n",
        "<p style='text-align: right;'> 10 points</p>\n",
        "\n",
        "Using scatterplot find the correlation between 'HP' and 'Price' column of the data. \n",
        "\n"
      ]
    },
    {
      "cell_type": "code",
      "metadata": {
        "id": "UzRnudhyNiqJ"
      },
      "source": [
        "## Your code here - \n"
      ],
      "execution_count": 32,
      "outputs": []
    },
    {
      "cell_type": "markdown",
      "metadata": {
        "id": "KzOTHAEMNiqJ"
      },
      "source": [
        "## 2. Lineplot \n",
        "\n",
        "Reference: https://www.youtube.com/watch?v=CMRVEKf9jWA\n",
        "\n",
        "<p style='text-align: right;'> 10 points</p>\n",
        "\n",
        "\n",
        "Plot a lineplot where x axis is 'HP' and y axis show 'Price'\n",
        "Size of graph - (10,5)\n",
        "\n"
      ]
    },
    {
      "cell_type": "code",
      "metadata": {
        "id": "XTFk1-JYNiqJ"
      },
      "source": [
        "\n",
        "\n"
      ],
      "execution_count": 32,
      "outputs": []
    },
    {
      "cell_type": "markdown",
      "metadata": {
        "id": "5IO-NF0XNiqJ"
      },
      "source": [
        "Optional Question: - What happens to Price as we increase HP? is the trend linear?"
      ]
    },
    {
      "cell_type": "markdown",
      "metadata": {
        "id": "aiLScXcrNiqK"
      },
      "source": [
        "## 3. Box plot w.r.t various variables\n",
        "\n",
        "Reference:- https://www.youtube.com/watch?v=KoTHJPzpw0c\n",
        "\n",
        "<p style='text-align: right;'> 20 points</p>\n"
      ]
    },
    {
      "cell_type": "code",
      "metadata": {
        "id": "t7BpQI7yNiqK"
      },
      "source": [
        "# Plot boxplot of 'Price' across various 'Drive Mode'\n",
        "\n"
      ],
      "execution_count": 33,
      "outputs": []
    },
    {
      "cell_type": "markdown",
      "metadata": {
        "id": "QrYhkjbSNiqK"
      },
      "source": [
        "Try to understand the above plot. Let us help you to understand it. This chart tells you that the Price of front wheel drive, on an average, lower than the other three categories. \n",
        "\n",
        "Let's now plot the other important variable - 'Transmission'"
      ]
    },
    {
      "cell_type": "code",
      "metadata": {
        "id": "Kth7mlKQNiqK"
      },
      "source": [
        "# plot boxplot of 'Price' across various 'Transmission'\n",
        "\n",
        "\n"
      ],
      "execution_count": 34,
      "outputs": []
    },
    {
      "cell_type": "markdown",
      "metadata": {
        "id": "YkCSl5W7NiqK"
      },
      "source": [
        "Hey Techie!, just give a try to explain what insight do you get from the above chart.\n"
      ]
    },
    {
      "cell_type": "code",
      "metadata": {
        "id": "d0NnHg7oNiqL"
      },
      "source": [
        "#### comment below\n"
      ],
      "execution_count": 35,
      "outputs": []
    },
    {
      "cell_type": "markdown",
      "metadata": {
        "id": "OrqgtaDpNiqL"
      },
      "source": [
        "You can **visualise the distribution across two categorical variables** using the ```hue= ``` argument."
      ]
    },
    {
      "cell_type": "code",
      "metadata": {
        "id": "8iB9YObxNiqL",
        "colab": {
          "base_uri": "https://localhost:8080/",
          "height": 0
        },
        "outputId": "93a633af-7837-438f-bf07-9f4bc109346e"
      },
      "source": [
        "# plot a boxplot with Transmission on x axis and Price on y axis. along with huw as Drive mode\n",
        "plt.figure(num=None, figsize=(12, 8), dpi=80, facecolor='w', edgecolor='k')\n",
        "\n"
      ],
      "execution_count": 36,
      "outputs": [
        {
          "output_type": "execute_result",
          "data": {
            "text/plain": [
              "<Figure size 960x640 with 0 Axes>"
            ]
          },
          "metadata": {
            "tags": []
          },
          "execution_count": 36
        },
        {
          "output_type": "display_data",
          "data": {
            "text/plain": [
              "<Figure size 960x640 with 0 Axes>"
            ]
          },
          "metadata": {
            "tags": []
          }
        }
      ]
    },
    {
      "cell_type": "markdown",
      "metadata": {
        "id": "G5F4rS9lNiqL"
      },
      "source": [
        "Wow!! If you have plotted this for first time then this plot might look very complicated. But no, its shows some really simple and interesting insights.\n",
        "Can you help us what do you think about the above chart.\n",
        "Please comment below:"
      ]
    },
    {
      "cell_type": "code",
      "metadata": {
        "id": "VZ2o1W2oNiqL"
      },
      "source": [
        "#Comment\n"
      ],
      "execution_count": 37,
      "outputs": []
    },
    {
      "cell_type": "markdown",
      "metadata": {
        "id": "bbFCpg4YNiqM"
      },
      "source": [
        "## 4. joint distributions\n",
        "\n",
        "Reference:-https://www.youtube.com/watch?v=LrSLBbe6pGY\n",
        "<p style='text-align: right;'> 30 points</p>\n",
        "\n",
        "\n",
        "Seaborn's jointplot displays a relationship between 2 variables (bivariate) as well as 1D profiles (univariate) in the margins. This plot is a convenience class that wraps JointGrid\n"
      ]
    },
    {
      "cell_type": "code",
      "metadata": {
        "id": "Xi0Hqj38NiqM"
      },
      "source": [
        "# joint plots of MPG_H and MPG-C\n",
        "\n"
      ],
      "execution_count": 38,
      "outputs": []
    },
    {
      "cell_type": "code",
      "metadata": {
        "id": "mkn4sz1vNiqM"
      },
      "source": [
        "# joint plots of Price and Year\n",
        "\n"
      ],
      "execution_count": 39,
      "outputs": []
    },
    {
      "cell_type": "markdown",
      "metadata": {
        "id": "sHc4TOO0NiqM"
      },
      "source": [
        "You can adjust the arguments of the jointplot() to make the plot more readable. For e.g. specifying kind=hex will create a 'hexbin plot'."
      ]
    },
    {
      "cell_type": "code",
      "metadata": {
        "id": "GT8vsA3lNiqM"
      },
      "source": [
        "# plotting hex plot for Prize and HP\n",
        "# hex plot\n"
      ],
      "execution_count": 40,
      "outputs": []
    },
    {
      "cell_type": "markdown",
      "metadata": {
        "id": "YBv9bgGBNiqN"
      },
      "source": [
        "## 5. Plotting Aggregated Values across Categories\n",
        "\n",
        "Reference:-https://www.youtube.com/watch?v=yWYWmeuH7no\n",
        "\n",
        "### Bar Plots - Mean, Median and Count Plots\n",
        "\n",
        "<p style='text-align: right;'> 30 points</p>\n",
        "\n",
        "\n",
        "\n",
        "Bar plots are used to **display aggregated values** of a variable, rather than entire distributions. This is especially useful when you have a lot of data which is difficult to visualise in a single figure. \n",
        "\n",
        "For example, say you want to visualise and *compare the Price across Cylinders*. The ```sns.barplot()``` function can be used to do that.\n"
      ]
    },
    {
      "cell_type": "code",
      "metadata": {
        "id": "9qJW_b6PNiqN"
      },
      "source": [
        "# bar plot with default statistic=mean between Cylinder and Price\n",
        "\n"
      ],
      "execution_count": 41,
      "outputs": []
    },
    {
      "cell_type": "markdown",
      "metadata": {
        "id": "y9XK1LxjNiqN"
      },
      "source": [
        "Hey you smarty!!. An Amazing fact for you:\n",
        "Note that, **by default, seaborn plots the mean value across categories**, though you can plot the count, median, sum etc. Also, barplot computes and shows the confidence interval of the mean as well.\n",
        "\n"
      ]
    },
    {
      "cell_type": "markdown",
      "metadata": {
        "id": "4JHLtQX8NiqN"
      },
      "source": [
        "When you want to visualise having a large number of categories, it is helpful to plot the categories across the y-axis. Let's now *drill down into Transmission sub categories*. "
      ]
    },
    {
      "cell_type": "code",
      "metadata": {
        "id": "rWm6JhkGNiqN"
      },
      "source": [
        "# Plotting categorical variable Transmission across the y-axis\n",
        "\n"
      ],
      "execution_count": 42,
      "outputs": []
    },
    {
      "cell_type": "markdown",
      "metadata": {
        "id": "w0XPZaf2NiqO"
      },
      "source": [
        "Plot bar plot for Price and Transmission with hue=\"Drive Mode\"\n"
      ]
    },
    {
      "cell_type": "code",
      "metadata": {
        "id": "NiW731XNNiqO",
        "colab": {
          "base_uri": "https://localhost:8080/",
          "height": 0
        },
        "outputId": "9e973b1d-d5f2-4c5a-fb89-bba1ebb02dcf"
      },
      "source": [
        "plt.figure(num=None, figsize=(12, 8), dpi=80, facecolor='w', edgecolor='k')\n",
        "\n",
        "# specify hue=\"Drive Mode\"\n"
      ],
      "execution_count": 43,
      "outputs": [
        {
          "output_type": "execute_result",
          "data": {
            "text/plain": [
              "<Figure size 960x640 with 0 Axes>"
            ]
          },
          "metadata": {
            "tags": []
          },
          "execution_count": 43
        },
        {
          "output_type": "display_data",
          "data": {
            "text/plain": [
              "<Figure size 960x640 with 0 Axes>"
            ]
          },
          "metadata": {
            "tags": []
          }
        }
      ]
    },
    {
      "cell_type": "markdown",
      "metadata": {
        "id": "gVZykm2FNiqO"
      },
      "source": [
        "These plots looks beutiful isn't it? In Data Analyst life such charts are there unavoidable friend.:)"
      ]
    },
    {
      "cell_type": "markdown",
      "metadata": {
        "id": "jHNlUJUzNiqO"
      },
      "source": [
        "# Multivariate Plots\n",
        "\n"
      ]
    },
    {
      "cell_type": "markdown",
      "metadata": {
        "id": "YmWgOV7eNiqO"
      },
      "source": [
        "# 1. Pairplot\n",
        "\n",
        "Refrence:- https://www.youtube.com/watch?v=TexdD7t0IKU\n",
        "\n",
        "<p style='text-align: right;'> 10 points</p>\n",
        "\n",
        "Plot a pairplot for the dataframe df. \n",
        "\n"
      ]
    },
    {
      "cell_type": "code",
      "metadata": {
        "id": "gMwTSNbSNiqO"
      },
      "source": [
        ""
      ],
      "execution_count": 43,
      "outputs": []
    },
    {
      "cell_type": "markdown",
      "metadata": {
        "id": "D2pG07E8NiqP"
      },
      "source": [
        "## 2. Multivariate scatter plots\n",
        "\n",
        "<p style='text-align: right;'> 10 points</p>\n",
        "\n",
        "This function combines regplot() and FacetGrid. It is intended as a convenient interface to fit regression models across conditional subsets of a dataset.\n",
        "\n",
        "plot multivariate scatter plot using lmplot function of seaborn between HP and Price using hue as Transmission keeping fit_reg False."
      ]
    },
    {
      "cell_type": "code",
      "metadata": {
        "id": "f_Vm7WpsNiqP",
        "colab": {
          "base_uri": "https://localhost:8080/",
          "height": 0
        },
        "outputId": "61b0220c-b398-4134-b6ca-ff0d571898aa"
      },
      "source": [
        "plt.figure(figsize=(15,5))\n"
      ],
      "execution_count": 44,
      "outputs": [
        {
          "output_type": "execute_result",
          "data": {
            "text/plain": [
              "<Figure size 1080x360 with 0 Axes>"
            ]
          },
          "metadata": {
            "tags": []
          },
          "execution_count": 44
        },
        {
          "output_type": "display_data",
          "data": {
            "text/plain": [
              "<Figure size 1080x360 with 0 Axes>"
            ]
          },
          "metadata": {
            "tags": []
          }
        }
      ]
    },
    {
      "cell_type": "markdown",
      "metadata": {
        "id": "3XDFP_PmNiqP"
      },
      "source": [
        "Seems so interesting plot. You can clearly see in above output that the cost price increases for automated_manual transmission cars gradually"
      ]
    },
    {
      "cell_type": "markdown",
      "metadata": {
        "id": "iInUIPWvNiqP"
      },
      "source": [
        "## 3. Parallel Coordinates\n",
        "\n",
        "Reference:-https://www.youtube.com/watch?v=QVBQdS-uL_I\n",
        "\n",
        "<p style='text-align: right;'> 20 points</p>\n",
        "\n",
        "\n",
        "A parallel coordinates plot provides another way of visualizing data across many variables.\n",
        "\n",
        "In a Parallel Coordinates Plot, each variable is given its own axis and all the axes are placed in parallel to each other. Each axis can have a different scale, as each variable works off a different unit of measurement, or all the axes can be normalised to keep all the scales uniform. Values are plotted as a series of lines that connected across all the axes. This means that each line is a collection of points placed on each axis, that have all been connected together.\n"
      ]
    },
    {
      "cell_type": "code",
      "metadata": {
        "id": "fKTVmTQXNiqP"
      },
      "source": [
        "#copy l into another variable l1 and remove Price 'element' from  l1\n"
      ],
      "execution_count": 45,
      "outputs": []
    },
    {
      "cell_type": "markdown",
      "metadata": {
        "id": "VpfRgpg8NiqQ"
      },
      "source": [
        "Plot a parallel plot with columns present in l1 in df with respect to Cylinders"
      ]
    },
    {
      "cell_type": "code",
      "metadata": {
        "id": "kWjIwvdTNiqQ",
        "colab": {
          "base_uri": "https://localhost:8080/",
          "height": 0
        },
        "outputId": "01354398-4203-48ac-875d-9e34319dd2d6"
      },
      "source": [
        "from pandas.plotting import parallel_coordinates\n",
        "plt.figure(figsize=(15,5))\n",
        "\n",
        "#complete the code\n",
        "\n"
      ],
      "execution_count": 46,
      "outputs": [
        {
          "output_type": "execute_result",
          "data": {
            "text/plain": [
              "<Figure size 1080x360 with 0 Axes>"
            ]
          },
          "metadata": {
            "tags": []
          },
          "execution_count": 46
        },
        {
          "output_type": "display_data",
          "data": {
            "text/plain": [
              "<Figure size 1080x360 with 0 Axes>"
            ]
          },
          "metadata": {
            "tags": []
          }
        }
      ]
    },
    {
      "cell_type": "markdown",
      "metadata": {
        "id": "N6kPnG7yNiqQ"
      },
      "source": [
        "from the above plot we can see that mostly Cylinder 4 is majorly spread in MPG_H and MPG_C. HP variable shows some growth w.r.t year and goes constant for MPG_H and MPG-C.\n",
        "\n"
      ]
    },
    {
      "cell_type": "markdown",
      "metadata": {
        "id": "PibpGweBNiqQ"
      },
      "source": [
        "## 4.  Heatmaps\n",
        "\n",
        "Reference:- https://www.youtube.com/watch?v=ZSwXRn50lnA\n",
        "\n",
        "A heat map is a two-dimensional representation of information with the help of colors. Heat maps can help the user visualize simple or complex information"
      ]
    },
    {
      "cell_type": "markdown",
      "metadata": {
        "id": "fE3Wze-mNiqQ"
      },
      "source": [
        "<p style='text-align: right;'> 20 points</p>\n",
        "Using heatmaps plot the correlation between the features present in the dataset."
      ]
    },
    {
      "cell_type": "code",
      "metadata": {
        "id": "dIrw7kBKNiqQ"
      },
      "source": [
        "#find the correlation of features of the data df\n"
      ],
      "execution_count": 47,
      "outputs": []
    },
    {
      "cell_type": "code",
      "metadata": {
        "id": "Q9CpuTs9NiqR"
      },
      "source": [
        "# Using the correlated df, plot the heatmap \n",
        "# set cmap = 'BrBG', annot = True - to get the same graph as shown below \n",
        "# set size of graph = (12,8)\n",
        "\n"
      ],
      "execution_count": 48,
      "outputs": []
    },
    {
      "cell_type": "markdown",
      "metadata": {
        "id": "heCdBZZyNiqR"
      },
      "source": [
        " The above heatmap plot shows correlation between various variables in the colored scale of -1 to 1. \n",
        "\n",
        "Amazing work done ! you have really made eye catchy visualization plots so far.\n",
        "Did you felt its complicate to understand the above plot?. Hey smarty don't worry, in near assignments you will have enough practise to analyse and prepare insights from such plots that you will become pro in this field. \n",
        "\n",
        "Then soon you will be like below meme\n",
        "![image.png](attachment:image.png)"
      ]
    },
    {
      "cell_type": "markdown",
      "metadata": {
        "id": "QlSvL5VjNiqR"
      },
      "source": [
        "---------------------------------\n",
        "\n",
        "# Have a sweet cookie:) Congratulations! you have completed the 6th milestone challenge too. \n",
        "\n",
        "--------------------------------\n",
        "\n",
        "# FeedBack\n",
        "We hope you’ve enjoyed this course so far. We’re committed to help you use \"AI for All\" course to its full potential, so that you have a great learning experience. And that’s why we need your help in form of a feedback here.\n",
        "\n",
        "Please fill this feedback form  https://zfrmz.in/MtRG5oWXBdesm6rmSM7N"
      ]
    },
    {
      "cell_type": "markdown",
      "metadata": {
        "id": "VaNxPWI_NiqR"
      },
      "source": [
        "-----------------------------------"
      ]
    }
  ]
}