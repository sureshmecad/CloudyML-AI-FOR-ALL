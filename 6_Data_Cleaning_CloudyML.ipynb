{
  "nbformat": 4,
  "nbformat_minor": 0,
  "metadata": {
    "colab": {
      "name": "6_Data Cleaning_CloudyML.ipynb",
      "provenance": [],
      "collapsed_sections": [
        "4SgrLjyDkqhy"
      ],
      "include_colab_link": true
    },
    "kernelspec": {
      "display_name": "Python 3",
      "language": "python",
      "name": "python3"
    },
    "language_info": {
      "codemirror_mode": {
        "name": "ipython",
        "version": 3
      },
      "file_extension": ".py",
      "mimetype": "text/x-python",
      "name": "python",
      "nbconvert_exporter": "python",
      "pygments_lexer": "ipython3",
      "version": "3.8.5"
    }
  },
  "cells": [
    {
      "cell_type": "markdown",
      "metadata": {
        "id": "view-in-github",
        "colab_type": "text"
      },
      "source": [
        "<a href=\"https://colab.research.google.com/github/sureshmecad/CloudyML-AI-FOR-ALL/blob/main/6_Data_Cleaning_CloudyML.ipynb\" target=\"_parent\"><img src=\"https://colab.research.google.com/assets/colab-badge.svg\" alt=\"Open In Colab\"/></a>"
      ]
    },
    {
      "cell_type": "markdown",
      "metadata": {
        "id": "rc6I3sagkqhR"
      },
      "source": [
        "# <center><u>Data Cleaning</u></center>"
      ]
    },
    {
      "cell_type": "markdown",
      "metadata": {
        "id": "h9sXOHkckqhY"
      },
      "source": [
        " Data cleaning is a part of the process on a data science project.\n",
        " \n",
        "Data cleaning is the process of fixing or removing incorrect, corrupted, incorrectly formatted, duplicate, or incomplete data within a dataset.\n",
        "<br>\n",
        "When you clean your data, all outdated or incorrect information is gone – leaving you with the highest quality information for your analysis and model building."
      ]
    },
    {
      "cell_type": "markdown",
      "metadata": {
        "id": "p0qd3D0Lkqhc"
      },
      "source": [
        "<p style='text-align: right;'> 4 points</p>\n"
      ]
    },
    {
      "cell_type": "code",
      "metadata": {
        "id": "wF_oQrRAkqhe"
      },
      "source": [
        "# import pandas and numpy with alias pd and np respectively\n",
        "import numpy as np\n",
        "import pandas as pd"
      ],
      "execution_count": 1,
      "outputs": []
    },
    {
      "cell_type": "markdown",
      "metadata": {
        "id": "7k4VuSAekqhe"
      },
      "source": [
        "Create a dataframe, d1 = pd.DataFrame( {‘Temperature’ : [1, np.nan, 3, 2, 3] ,’Humidity’ : [22, np.nan, 2 , np.nan, 20 ] })"
      ]
    },
    {
      "cell_type": "code",
      "metadata": {
        "id": "8fjpdGnskqhe"
      },
      "source": [
        "#create d1\n",
        "d1 = pd.DataFrame( {'Temperature' : [1, np.nan, 3, 2, 3] , 'Humidity' : [22, np.nan, 2 , np.nan, 20 ] })"
      ],
      "execution_count": 2,
      "outputs": []
    },
    {
      "cell_type": "markdown",
      "metadata": {
        "id": "_6S2Agszkqhf"
      },
      "source": [
        "print the dataframe d1"
      ]
    },
    {
      "cell_type": "code",
      "metadata": {
        "colab": {
          "base_uri": "https://localhost:8080/",
          "height": 204
        },
        "id": "fauZD3xnkqhf",
        "outputId": "6fdf481d-ad6d-4f13-e6ba-abc62e730a38"
      },
      "source": [
        "#print d1\n",
        "d1"
      ],
      "execution_count": 3,
      "outputs": [
        {
          "output_type": "execute_result",
          "data": {
            "text/html": [
              "<div>\n",
              "<style scoped>\n",
              "    .dataframe tbody tr th:only-of-type {\n",
              "        vertical-align: middle;\n",
              "    }\n",
              "\n",
              "    .dataframe tbody tr th {\n",
              "        vertical-align: top;\n",
              "    }\n",
              "\n",
              "    .dataframe thead th {\n",
              "        text-align: right;\n",
              "    }\n",
              "</style>\n",
              "<table border=\"1\" class=\"dataframe\">\n",
              "  <thead>\n",
              "    <tr style=\"text-align: right;\">\n",
              "      <th></th>\n",
              "      <th>Temperature</th>\n",
              "      <th>Humidity</th>\n",
              "    </tr>\n",
              "  </thead>\n",
              "  <tbody>\n",
              "    <tr>\n",
              "      <th>0</th>\n",
              "      <td>1.0</td>\n",
              "      <td>22.0</td>\n",
              "    </tr>\n",
              "    <tr>\n",
              "      <th>1</th>\n",
              "      <td>NaN</td>\n",
              "      <td>NaN</td>\n",
              "    </tr>\n",
              "    <tr>\n",
              "      <th>2</th>\n",
              "      <td>3.0</td>\n",
              "      <td>2.0</td>\n",
              "    </tr>\n",
              "    <tr>\n",
              "      <th>3</th>\n",
              "      <td>2.0</td>\n",
              "      <td>NaN</td>\n",
              "    </tr>\n",
              "    <tr>\n",
              "      <th>4</th>\n",
              "      <td>3.0</td>\n",
              "      <td>20.0</td>\n",
              "    </tr>\n",
              "  </tbody>\n",
              "</table>\n",
              "</div>"
            ],
            "text/plain": [
              "   Temperature  Humidity\n",
              "0          1.0      22.0\n",
              "1          NaN       NaN\n",
              "2          3.0       2.0\n",
              "3          2.0       NaN\n",
              "4          3.0      20.0"
            ]
          },
          "metadata": {
            "tags": []
          },
          "execution_count": 3
        }
      ]
    },
    {
      "cell_type": "markdown",
      "metadata": {
        "id": "PIvW5svikqhg"
      },
      "source": [
        "Find whether the given dataframe contain any missing values? "
      ]
    },
    {
      "cell_type": "code",
      "metadata": {
        "colab": {
          "base_uri": "https://localhost:8080/",
          "height": 204
        },
        "id": "lJ3MiNk-kqhg",
        "outputId": "8dccb93e-f6b2-4ba7-cbfe-966f47752f63"
      },
      "source": [
        "#check for null\n",
        "d1.isnull()"
      ],
      "execution_count": 4,
      "outputs": [
        {
          "output_type": "execute_result",
          "data": {
            "text/html": [
              "<div>\n",
              "<style scoped>\n",
              "    .dataframe tbody tr th:only-of-type {\n",
              "        vertical-align: middle;\n",
              "    }\n",
              "\n",
              "    .dataframe tbody tr th {\n",
              "        vertical-align: top;\n",
              "    }\n",
              "\n",
              "    .dataframe thead th {\n",
              "        text-align: right;\n",
              "    }\n",
              "</style>\n",
              "<table border=\"1\" class=\"dataframe\">\n",
              "  <thead>\n",
              "    <tr style=\"text-align: right;\">\n",
              "      <th></th>\n",
              "      <th>Temperature</th>\n",
              "      <th>Humidity</th>\n",
              "    </tr>\n",
              "  </thead>\n",
              "  <tbody>\n",
              "    <tr>\n",
              "      <th>0</th>\n",
              "      <td>False</td>\n",
              "      <td>False</td>\n",
              "    </tr>\n",
              "    <tr>\n",
              "      <th>1</th>\n",
              "      <td>True</td>\n",
              "      <td>True</td>\n",
              "    </tr>\n",
              "    <tr>\n",
              "      <th>2</th>\n",
              "      <td>False</td>\n",
              "      <td>False</td>\n",
              "    </tr>\n",
              "    <tr>\n",
              "      <th>3</th>\n",
              "      <td>False</td>\n",
              "      <td>True</td>\n",
              "    </tr>\n",
              "    <tr>\n",
              "      <th>4</th>\n",
              "      <td>False</td>\n",
              "      <td>False</td>\n",
              "    </tr>\n",
              "  </tbody>\n",
              "</table>\n",
              "</div>"
            ],
            "text/plain": [
              "   Temperature  Humidity\n",
              "0        False     False\n",
              "1         True      True\n",
              "2        False     False\n",
              "3        False      True\n",
              "4        False     False"
            ]
          },
          "metadata": {
            "tags": []
          },
          "execution_count": 4
        }
      ]
    },
    {
      "cell_type": "markdown",
      "metadata": {
        "id": "1mR6mwjZkqhg"
      },
      "source": [
        "How many missing values does each column have?"
      ]
    },
    {
      "cell_type": "code",
      "metadata": {
        "colab": {
          "base_uri": "https://localhost:8080/"
        },
        "id": "GuttaqhSkqhg",
        "outputId": "bc8939c5-6577-46e7-bbc9-fdb58e7607c9"
      },
      "source": [
        "#total null\n",
        "d1.isnull().sum()"
      ],
      "execution_count": 5,
      "outputs": [
        {
          "output_type": "execute_result",
          "data": {
            "text/plain": [
              "Temperature    1\n",
              "Humidity       2\n",
              "dtype: int64"
            ]
          },
          "metadata": {
            "tags": []
          },
          "execution_count": 5
        }
      ]
    },
    {
      "cell_type": "markdown",
      "metadata": {
        "id": "RdJX6nKdkqhh"
      },
      "source": [
        "## Dealing with missing values\n",
        "\n",
        "Refrence:-https://www.youtube.com/watch?v=xkRz6R0FlQ4\n",
        "\n",
        "<br>Now, we know we have missing values, the next thing that we need to work on, is how to deal with these missing values"
      ]
    },
    {
      "cell_type": "markdown",
      "metadata": {
        "id": "5iYTalWckqhh"
      },
      "source": [
        " - ## Method 1: Delete the rows which contain missing values.\n",
        " This method include dropping all the rows that have missing value in any column. "
      ]
    },
    {
      "cell_type": "markdown",
      "metadata": {
        "id": "D5OwrlkXkqhh"
      },
      "source": [
        " <p style='text-align: right;'> 20 points</p>"
      ]
    },
    {
      "cell_type": "markdown",
      "metadata": {
        "id": "sB425bYFkqhh"
      },
      "source": [
        "Use a suitable method to drop all the rows having missing values and save the change in d2 variable"
      ]
    },
    {
      "cell_type": "code",
      "metadata": {
        "id": "ms-0jJZpkqhh"
      },
      "source": [
        "d2=d1.dropna()"
      ],
      "execution_count": 6,
      "outputs": []
    },
    {
      "cell_type": "markdown",
      "metadata": {
        "id": "uvJFaJ8bkqhi"
      },
      "source": [
        "Print d2"
      ]
    },
    {
      "cell_type": "code",
      "metadata": {
        "colab": {
          "base_uri": "https://localhost:8080/",
          "height": 142
        },
        "id": "YoXoAdXGkqhi",
        "outputId": "9f4e6b8c-9401-4f9d-9a70-a4ea829d54b6"
      },
      "source": [
        "#print nan\n",
        "d2"
      ],
      "execution_count": 7,
      "outputs": [
        {
          "output_type": "execute_result",
          "data": {
            "text/html": [
              "<div>\n",
              "<style scoped>\n",
              "    .dataframe tbody tr th:only-of-type {\n",
              "        vertical-align: middle;\n",
              "    }\n",
              "\n",
              "    .dataframe tbody tr th {\n",
              "        vertical-align: top;\n",
              "    }\n",
              "\n",
              "    .dataframe thead th {\n",
              "        text-align: right;\n",
              "    }\n",
              "</style>\n",
              "<table border=\"1\" class=\"dataframe\">\n",
              "  <thead>\n",
              "    <tr style=\"text-align: right;\">\n",
              "      <th></th>\n",
              "      <th>Temperature</th>\n",
              "      <th>Humidity</th>\n",
              "    </tr>\n",
              "  </thead>\n",
              "  <tbody>\n",
              "    <tr>\n",
              "      <th>0</th>\n",
              "      <td>1.0</td>\n",
              "      <td>22.0</td>\n",
              "    </tr>\n",
              "    <tr>\n",
              "      <th>2</th>\n",
              "      <td>3.0</td>\n",
              "      <td>2.0</td>\n",
              "    </tr>\n",
              "    <tr>\n",
              "      <th>4</th>\n",
              "      <td>3.0</td>\n",
              "      <td>20.0</td>\n",
              "    </tr>\n",
              "  </tbody>\n",
              "</table>\n",
              "</div>"
            ],
            "text/plain": [
              "   Temperature  Humidity\n",
              "0          1.0      22.0\n",
              "2          3.0       2.0\n",
              "4          3.0      20.0"
            ]
          },
          "metadata": {
            "tags": []
          },
          "execution_count": 7
        }
      ]
    },
    {
      "cell_type": "markdown",
      "metadata": {
        "id": "_BYBoQIFkqhi"
      },
      "source": [
        "Hey Remember : droping rows with nan is one of the method to deal with missing values. But you have to decide if you need to go for this method by checking percentage of nan present in the dataframe.\n",
        "\n",
        "If a column is having more than 60% of nan values then its better to remove such variables altogether if business permits "
      ]
    },
    {
      "cell_type": "markdown",
      "metadata": {
        "id": "0E0Gyw0mkqhi"
      },
      "source": [
        "- ## Method 2: Replacing missing values\n",
        "Sometimes rather than dropping NA values, you'd rather replace them with a valid value. This value might be a single number like zero, or it might be some sort of imputation or interpolation"
      ]
    },
    {
      "cell_type": "markdown",
      "metadata": {
        "id": "JsESq_JNkqhi"
      },
      "source": [
        "<p style='text-align: right;'> 30 points</p>\n"
      ]
    },
    {
      "cell_type": "markdown",
      "metadata": {
        "id": "rwg-9c8ukqhj"
      },
      "source": [
        "Impute the missing values with constant number of your choice"
      ]
    },
    {
      "cell_type": "code",
      "metadata": {
        "colab": {
          "base_uri": "https://localhost:8080/",
          "height": 204
        },
        "id": "CCzT8A-4kqhj",
        "outputId": "30cbe259-e18d-49d9-d3ad-9a23a01128e3"
      },
      "source": [
        "# The below output has imputed missing  values with 100\n",
        "d1.fillna(100)"
      ],
      "execution_count": 8,
      "outputs": [
        {
          "output_type": "execute_result",
          "data": {
            "text/html": [
              "<div>\n",
              "<style scoped>\n",
              "    .dataframe tbody tr th:only-of-type {\n",
              "        vertical-align: middle;\n",
              "    }\n",
              "\n",
              "    .dataframe tbody tr th {\n",
              "        vertical-align: top;\n",
              "    }\n",
              "\n",
              "    .dataframe thead th {\n",
              "        text-align: right;\n",
              "    }\n",
              "</style>\n",
              "<table border=\"1\" class=\"dataframe\">\n",
              "  <thead>\n",
              "    <tr style=\"text-align: right;\">\n",
              "      <th></th>\n",
              "      <th>Temperature</th>\n",
              "      <th>Humidity</th>\n",
              "    </tr>\n",
              "  </thead>\n",
              "  <tbody>\n",
              "    <tr>\n",
              "      <th>0</th>\n",
              "      <td>1.0</td>\n",
              "      <td>22.0</td>\n",
              "    </tr>\n",
              "    <tr>\n",
              "      <th>1</th>\n",
              "      <td>100.0</td>\n",
              "      <td>100.0</td>\n",
              "    </tr>\n",
              "    <tr>\n",
              "      <th>2</th>\n",
              "      <td>3.0</td>\n",
              "      <td>2.0</td>\n",
              "    </tr>\n",
              "    <tr>\n",
              "      <th>3</th>\n",
              "      <td>2.0</td>\n",
              "      <td>100.0</td>\n",
              "    </tr>\n",
              "    <tr>\n",
              "      <th>4</th>\n",
              "      <td>3.0</td>\n",
              "      <td>20.0</td>\n",
              "    </tr>\n",
              "  </tbody>\n",
              "</table>\n",
              "</div>"
            ],
            "text/plain": [
              "   Temperature  Humidity\n",
              "0          1.0      22.0\n",
              "1        100.0     100.0\n",
              "2          3.0       2.0\n",
              "3          2.0     100.0\n",
              "4          3.0      20.0"
            ]
          },
          "metadata": {
            "tags": []
          },
          "execution_count": 8
        }
      ]
    },
    {
      "cell_type": "markdown",
      "metadata": {
        "id": "Owk-O3CZkqhj"
      },
      "source": [
        "Do you think its a  good way to treat Nan values? What if such constant values are not suitable for our further analysis?\n",
        "Try to give your thoughts on this."
      ]
    },
    {
      "cell_type": "code",
      "metadata": {
        "id": "4Vn0HNw4kqhj"
      },
      "source": [
        "# Replacing with random number is not a good idea. In this case it will lead to outlier. It is always better to replace numerical values with median."
      ],
      "execution_count": 9,
      "outputs": []
    },
    {
      "cell_type": "markdown",
      "metadata": {
        "id": "rHxP4ad7kqhj"
      },
      "source": [
        "Impute the missing values with mean"
      ]
    },
    {
      "cell_type": "code",
      "metadata": {
        "colab": {
          "base_uri": "https://localhost:8080/",
          "height": 204
        },
        "id": "FKB7R8Takqhk",
        "outputId": "d62cb75c-e9e2-40f6-c023-0a5853118ba8"
      },
      "source": [
        "#  imputing mean\n",
        "d1.fillna(d1.mean())"
      ],
      "execution_count": 10,
      "outputs": [
        {
          "output_type": "execute_result",
          "data": {
            "text/html": [
              "<div>\n",
              "<style scoped>\n",
              "    .dataframe tbody tr th:only-of-type {\n",
              "        vertical-align: middle;\n",
              "    }\n",
              "\n",
              "    .dataframe tbody tr th {\n",
              "        vertical-align: top;\n",
              "    }\n",
              "\n",
              "    .dataframe thead th {\n",
              "        text-align: right;\n",
              "    }\n",
              "</style>\n",
              "<table border=\"1\" class=\"dataframe\">\n",
              "  <thead>\n",
              "    <tr style=\"text-align: right;\">\n",
              "      <th></th>\n",
              "      <th>Temperature</th>\n",
              "      <th>Humidity</th>\n",
              "    </tr>\n",
              "  </thead>\n",
              "  <tbody>\n",
              "    <tr>\n",
              "      <th>0</th>\n",
              "      <td>1.00</td>\n",
              "      <td>22.000000</td>\n",
              "    </tr>\n",
              "    <tr>\n",
              "      <th>1</th>\n",
              "      <td>2.25</td>\n",
              "      <td>14.666667</td>\n",
              "    </tr>\n",
              "    <tr>\n",
              "      <th>2</th>\n",
              "      <td>3.00</td>\n",
              "      <td>2.000000</td>\n",
              "    </tr>\n",
              "    <tr>\n",
              "      <th>3</th>\n",
              "      <td>2.00</td>\n",
              "      <td>14.666667</td>\n",
              "    </tr>\n",
              "    <tr>\n",
              "      <th>4</th>\n",
              "      <td>3.00</td>\n",
              "      <td>20.000000</td>\n",
              "    </tr>\n",
              "  </tbody>\n",
              "</table>\n",
              "</div>"
            ],
            "text/plain": [
              "   Temperature   Humidity\n",
              "0         1.00  22.000000\n",
              "1         2.25  14.666667\n",
              "2         3.00   2.000000\n",
              "3         2.00  14.666667\n",
              "4         3.00  20.000000"
            ]
          },
          "metadata": {
            "tags": []
          },
          "execution_count": 10
        }
      ]
    },
    {
      "cell_type": "markdown",
      "metadata": {
        "id": "wzwa_GzRkqhk"
      },
      "source": [
        "Impute the missing values with median"
      ]
    },
    {
      "cell_type": "code",
      "metadata": {
        "colab": {
          "base_uri": "https://localhost:8080/",
          "height": 204
        },
        "id": "CrDrortKkqhk",
        "outputId": "0712872e-bda7-4a7a-bf85-2ef1c36d8ec3"
      },
      "source": [
        "#median imputing\n",
        "d1.fillna(d1.median())"
      ],
      "execution_count": 11,
      "outputs": [
        {
          "output_type": "execute_result",
          "data": {
            "text/html": [
              "<div>\n",
              "<style scoped>\n",
              "    .dataframe tbody tr th:only-of-type {\n",
              "        vertical-align: middle;\n",
              "    }\n",
              "\n",
              "    .dataframe tbody tr th {\n",
              "        vertical-align: top;\n",
              "    }\n",
              "\n",
              "    .dataframe thead th {\n",
              "        text-align: right;\n",
              "    }\n",
              "</style>\n",
              "<table border=\"1\" class=\"dataframe\">\n",
              "  <thead>\n",
              "    <tr style=\"text-align: right;\">\n",
              "      <th></th>\n",
              "      <th>Temperature</th>\n",
              "      <th>Humidity</th>\n",
              "    </tr>\n",
              "  </thead>\n",
              "  <tbody>\n",
              "    <tr>\n",
              "      <th>0</th>\n",
              "      <td>1.0</td>\n",
              "      <td>22.0</td>\n",
              "    </tr>\n",
              "    <tr>\n",
              "      <th>1</th>\n",
              "      <td>2.5</td>\n",
              "      <td>20.0</td>\n",
              "    </tr>\n",
              "    <tr>\n",
              "      <th>2</th>\n",
              "      <td>3.0</td>\n",
              "      <td>2.0</td>\n",
              "    </tr>\n",
              "    <tr>\n",
              "      <th>3</th>\n",
              "      <td>2.0</td>\n",
              "      <td>20.0</td>\n",
              "    </tr>\n",
              "    <tr>\n",
              "      <th>4</th>\n",
              "      <td>3.0</td>\n",
              "      <td>20.0</td>\n",
              "    </tr>\n",
              "  </tbody>\n",
              "</table>\n",
              "</div>"
            ],
            "text/plain": [
              "   Temperature  Humidity\n",
              "0          1.0      22.0\n",
              "1          2.5      20.0\n",
              "2          3.0       2.0\n",
              "3          2.0      20.0\n",
              "4          3.0      20.0"
            ]
          },
          "metadata": {
            "tags": []
          },
          "execution_count": 11
        }
      ]
    },
    {
      "cell_type": "markdown",
      "metadata": {
        "id": "PRzK4otMkqhk"
      },
      "source": [
        "Replacing with the mean, mode or median approximations are a statistical approach of handling the missing values.\n",
        "\n",
        "Another Fun fact:\n",
        "    \n",
        "    This is an approximation which can add variance to the data set. But the loss of the data can be negated by this method which yields better results compared to removal of rows and columns."
      ]
    },
    {
      "cell_type": "markdown",
      "metadata": {
        "id": "GMtx5Urqkqhk"
      },
      "source": [
        "Impute Nan with forward fill"
      ]
    },
    {
      "cell_type": "code",
      "metadata": {
        "colab": {
          "base_uri": "https://localhost:8080/",
          "height": 204
        },
        "id": "te5396qBkqhl",
        "outputId": "91fd82ae-492b-4e65-840a-77bbb85c185f"
      },
      "source": [
        "#forward fill\n",
        "d1.fillna(method='ffill')"
      ],
      "execution_count": 12,
      "outputs": [
        {
          "output_type": "execute_result",
          "data": {
            "text/html": [
              "<div>\n",
              "<style scoped>\n",
              "    .dataframe tbody tr th:only-of-type {\n",
              "        vertical-align: middle;\n",
              "    }\n",
              "\n",
              "    .dataframe tbody tr th {\n",
              "        vertical-align: top;\n",
              "    }\n",
              "\n",
              "    .dataframe thead th {\n",
              "        text-align: right;\n",
              "    }\n",
              "</style>\n",
              "<table border=\"1\" class=\"dataframe\">\n",
              "  <thead>\n",
              "    <tr style=\"text-align: right;\">\n",
              "      <th></th>\n",
              "      <th>Temperature</th>\n",
              "      <th>Humidity</th>\n",
              "    </tr>\n",
              "  </thead>\n",
              "  <tbody>\n",
              "    <tr>\n",
              "      <th>0</th>\n",
              "      <td>1.0</td>\n",
              "      <td>22.0</td>\n",
              "    </tr>\n",
              "    <tr>\n",
              "      <th>1</th>\n",
              "      <td>1.0</td>\n",
              "      <td>22.0</td>\n",
              "    </tr>\n",
              "    <tr>\n",
              "      <th>2</th>\n",
              "      <td>3.0</td>\n",
              "      <td>2.0</td>\n",
              "    </tr>\n",
              "    <tr>\n",
              "      <th>3</th>\n",
              "      <td>2.0</td>\n",
              "      <td>2.0</td>\n",
              "    </tr>\n",
              "    <tr>\n",
              "      <th>4</th>\n",
              "      <td>3.0</td>\n",
              "      <td>20.0</td>\n",
              "    </tr>\n",
              "  </tbody>\n",
              "</table>\n",
              "</div>"
            ],
            "text/plain": [
              "   Temperature  Humidity\n",
              "0          1.0      22.0\n",
              "1          1.0      22.0\n",
              "2          3.0       2.0\n",
              "3          2.0       2.0\n",
              "4          3.0      20.0"
            ]
          },
          "metadata": {
            "tags": []
          },
          "execution_count": 12
        }
      ]
    },
    {
      "cell_type": "markdown",
      "metadata": {
        "id": "eH05-uFJkqhl"
      },
      "source": [
        "Impute Nan with backward fill"
      ]
    },
    {
      "cell_type": "code",
      "metadata": {
        "colab": {
          "base_uri": "https://localhost:8080/",
          "height": 204
        },
        "id": "8qRteICGkqhl",
        "outputId": "0d9c03da-649f-4f7d-bec2-b0130fb88340"
      },
      "source": [
        "#backward fill\n",
        "d1.fillna(method='bfill')"
      ],
      "execution_count": 13,
      "outputs": [
        {
          "output_type": "execute_result",
          "data": {
            "text/html": [
              "<div>\n",
              "<style scoped>\n",
              "    .dataframe tbody tr th:only-of-type {\n",
              "        vertical-align: middle;\n",
              "    }\n",
              "\n",
              "    .dataframe tbody tr th {\n",
              "        vertical-align: top;\n",
              "    }\n",
              "\n",
              "    .dataframe thead th {\n",
              "        text-align: right;\n",
              "    }\n",
              "</style>\n",
              "<table border=\"1\" class=\"dataframe\">\n",
              "  <thead>\n",
              "    <tr style=\"text-align: right;\">\n",
              "      <th></th>\n",
              "      <th>Temperature</th>\n",
              "      <th>Humidity</th>\n",
              "    </tr>\n",
              "  </thead>\n",
              "  <tbody>\n",
              "    <tr>\n",
              "      <th>0</th>\n",
              "      <td>1.0</td>\n",
              "      <td>22.0</td>\n",
              "    </tr>\n",
              "    <tr>\n",
              "      <th>1</th>\n",
              "      <td>3.0</td>\n",
              "      <td>2.0</td>\n",
              "    </tr>\n",
              "    <tr>\n",
              "      <th>2</th>\n",
              "      <td>3.0</td>\n",
              "      <td>2.0</td>\n",
              "    </tr>\n",
              "    <tr>\n",
              "      <th>3</th>\n",
              "      <td>2.0</td>\n",
              "      <td>20.0</td>\n",
              "    </tr>\n",
              "    <tr>\n",
              "      <th>4</th>\n",
              "      <td>3.0</td>\n",
              "      <td>20.0</td>\n",
              "    </tr>\n",
              "  </tbody>\n",
              "</table>\n",
              "</div>"
            ],
            "text/plain": [
              "   Temperature  Humidity\n",
              "0          1.0      22.0\n",
              "1          3.0       2.0\n",
              "2          3.0       2.0\n",
              "3          2.0      20.0\n",
              "4          3.0      20.0"
            ]
          },
          "metadata": {
            "tags": []
          },
          "execution_count": 13
        }
      ]
    },
    {
      "cell_type": "markdown",
      "metadata": {
        "id": "b9M8GD2Jkqhl"
      },
      "source": [
        "Hey a fun fact here, as sweet as a cookie:\n",
        "\n",
        "- ffill/pad/bfill are good imputation method if our data is of time series. This would keep the trend unaffected for our analysis."
      ]
    },
    {
      "cell_type": "markdown",
      "metadata": {
        "id": "x5J30Hulkqhl"
      },
      "source": [
        "Impute nan using interpolation method"
      ]
    },
    {
      "cell_type": "code",
      "metadata": {
        "colab": {
          "base_uri": "https://localhost:8080/",
          "height": 204
        },
        "id": "TM3KAAC0kqhl",
        "outputId": "ab93606e-c862-459d-f31c-1d7366413dea"
      },
      "source": [
        "#interpolate\n",
        "d1.interpolate(method ='linear', limit_direction ='forward')"
      ],
      "execution_count": 14,
      "outputs": [
        {
          "output_type": "execute_result",
          "data": {
            "text/html": [
              "<div>\n",
              "<style scoped>\n",
              "    .dataframe tbody tr th:only-of-type {\n",
              "        vertical-align: middle;\n",
              "    }\n",
              "\n",
              "    .dataframe tbody tr th {\n",
              "        vertical-align: top;\n",
              "    }\n",
              "\n",
              "    .dataframe thead th {\n",
              "        text-align: right;\n",
              "    }\n",
              "</style>\n",
              "<table border=\"1\" class=\"dataframe\">\n",
              "  <thead>\n",
              "    <tr style=\"text-align: right;\">\n",
              "      <th></th>\n",
              "      <th>Temperature</th>\n",
              "      <th>Humidity</th>\n",
              "    </tr>\n",
              "  </thead>\n",
              "  <tbody>\n",
              "    <tr>\n",
              "      <th>0</th>\n",
              "      <td>1.0</td>\n",
              "      <td>22.0</td>\n",
              "    </tr>\n",
              "    <tr>\n",
              "      <th>1</th>\n",
              "      <td>2.0</td>\n",
              "      <td>12.0</td>\n",
              "    </tr>\n",
              "    <tr>\n",
              "      <th>2</th>\n",
              "      <td>3.0</td>\n",
              "      <td>2.0</td>\n",
              "    </tr>\n",
              "    <tr>\n",
              "      <th>3</th>\n",
              "      <td>2.0</td>\n",
              "      <td>11.0</td>\n",
              "    </tr>\n",
              "    <tr>\n",
              "      <th>4</th>\n",
              "      <td>3.0</td>\n",
              "      <td>20.0</td>\n",
              "    </tr>\n",
              "  </tbody>\n",
              "</table>\n",
              "</div>"
            ],
            "text/plain": [
              "   Temperature  Humidity\n",
              "0          1.0      22.0\n",
              "1          2.0      12.0\n",
              "2          3.0       2.0\n",
              "3          2.0      11.0\n",
              "4          3.0      20.0"
            ]
          },
          "metadata": {
            "tags": []
          },
          "execution_count": 14
        }
      ]
    },
    {
      "cell_type": "markdown",
      "metadata": {
        "id": "RU3U6gp9kqhm"
      },
      "source": [
        "You lucky champ! you got to know another amazing fact:\n",
        " - Interpolation method by default is linear in nature. It is an imputation technique that assumes a linear relationship between data points and utilises non-missing values from adjacent data points to compute a value for a missing data point.\n",
        "\n",
        "\n",
        "You can explore other techniques involved in interplolation method, which might be usefull for your project."
      ]
    },
    {
      "cell_type": "markdown",
      "metadata": {
        "id": "o8_jyqTskqhm"
      },
      "source": [
        "Perform KNN imputation\n",
        "\n",
        "Reference: https://link.medium.com/mV3023if8gb"
      ]
    },
    {
      "cell_type": "code",
      "metadata": {
        "colab": {
          "base_uri": "https://localhost:8080/",
          "height": 204
        },
        "id": "_8fxGCuUkqhm",
        "outputId": "8f378f05-f26a-4618-b4c7-14012d7c1e7e"
      },
      "source": [
        "# Hint: Import KNNImputer and impute it on d1. Also note: Use n_neighbors=2\n",
        "from sklearn.impute import KNNImputer\n",
        "imputer = KNNImputer(n_neighbors=2)\n",
        "d1 = pd.DataFrame(imputer.fit_transform(d1), columns = d1.columns)\n",
        "d1"
      ],
      "execution_count": 15,
      "outputs": [
        {
          "output_type": "execute_result",
          "data": {
            "text/html": [
              "<div>\n",
              "<style scoped>\n",
              "    .dataframe tbody tr th:only-of-type {\n",
              "        vertical-align: middle;\n",
              "    }\n",
              "\n",
              "    .dataframe tbody tr th {\n",
              "        vertical-align: top;\n",
              "    }\n",
              "\n",
              "    .dataframe thead th {\n",
              "        text-align: right;\n",
              "    }\n",
              "</style>\n",
              "<table border=\"1\" class=\"dataframe\">\n",
              "  <thead>\n",
              "    <tr style=\"text-align: right;\">\n",
              "      <th></th>\n",
              "      <th>Temperature</th>\n",
              "      <th>Humidity</th>\n",
              "    </tr>\n",
              "  </thead>\n",
              "  <tbody>\n",
              "    <tr>\n",
              "      <th>0</th>\n",
              "      <td>1.00</td>\n",
              "      <td>22.000000</td>\n",
              "    </tr>\n",
              "    <tr>\n",
              "      <th>1</th>\n",
              "      <td>2.25</td>\n",
              "      <td>14.666667</td>\n",
              "    </tr>\n",
              "    <tr>\n",
              "      <th>2</th>\n",
              "      <td>3.00</td>\n",
              "      <td>2.000000</td>\n",
              "    </tr>\n",
              "    <tr>\n",
              "      <th>3</th>\n",
              "      <td>2.00</td>\n",
              "      <td>12.000000</td>\n",
              "    </tr>\n",
              "    <tr>\n",
              "      <th>4</th>\n",
              "      <td>3.00</td>\n",
              "      <td>20.000000</td>\n",
              "    </tr>\n",
              "  </tbody>\n",
              "</table>\n",
              "</div>"
            ],
            "text/plain": [
              "   Temperature   Humidity\n",
              "0         1.00  22.000000\n",
              "1         2.25  14.666667\n",
              "2         3.00   2.000000\n",
              "3         2.00  12.000000\n",
              "4         3.00  20.000000"
            ]
          },
          "metadata": {
            "tags": []
          },
          "execution_count": 15
        }
      ]
    },
    {
      "cell_type": "markdown",
      "metadata": {
        "id": "sESbshdUkqhm"
      },
      "source": [
        "Point to ponder: KNN is an algorithm that is useful for matching a point with its closest k neighbors in a multi-dimensional space.\n",
        "\n",
        "Do you think scaling is required to implement this method?. Yes you are right the answer is YES.\n",
        "Can you comment below why normalized data is required, so that we understand your logic on this."
      ]
    },
    {
      "cell_type": "markdown",
      "metadata": {
        "id": "xEL5JbBYkqhm"
      },
      "source": [
        "It requires us to normalize our data. Otherwise, the different scales of our data will lead the KNN Imputer to generate biased replacements for the missing values."
      ]
    },
    {
      "cell_type": "markdown",
      "metadata": {
        "id": "ReGk1Utckqhn"
      },
      "source": [
        "# Dropping Irrelevant Columns\n",
        "\n",
        "Reference:-https://www.youtube.com/watch?v=cRurWEfmxC0"
      ]
    },
    {
      "cell_type": "markdown",
      "metadata": {
        "id": "xZuUMHb3kqhn"
      },
      "source": [
        "<p style='text-align: right;'> 5 points</p>\n"
      ]
    },
    {
      "cell_type": "markdown",
      "metadata": {
        "id": "rJZ0HZJPkqhn"
      },
      "source": [
        "Create a dataframe df = pd.DataFrame(np.random.randint(0,100,size=(100, 5)), columns=list('ABCDE'))\n"
      ]
    },
    {
      "cell_type": "code",
      "metadata": {
        "id": "XtENCthAkqhn"
      },
      "source": [
        "np.random.seed(10)\n",
        "\n",
        "df = pd.DataFrame(np.random.randint(0,100,size=(100, 5)), columns=list('ABCDE'))\n"
      ],
      "execution_count": 16,
      "outputs": []
    },
    {
      "cell_type": "markdown",
      "metadata": {
        "id": "bUQ0M4CKkqhn"
      },
      "source": [
        "print df"
      ]
    },
    {
      "cell_type": "code",
      "metadata": {
        "colab": {
          "base_uri": "https://localhost:8080/"
        },
        "id": "iuFh13J_kqho",
        "outputId": "4d9dd52a-df71-4957-8b49-0564e4e4634c"
      },
      "source": [
        "print (df)"
      ],
      "execution_count": 17,
      "outputs": [
        {
          "output_type": "stream",
          "text": [
            "     A   B   C   D   E\n",
            "0    9  15  64  28  89\n",
            "1   93  29   8  73   0\n",
            "2   40  36  16  11  54\n",
            "3   88  62  33  72  78\n",
            "4   49  51  54  77  69\n",
            "..  ..  ..  ..  ..  ..\n",
            "95   3  50  59  34  21\n",
            "96  16  18  61  54  60\n",
            "97  21  87  83  71  16\n",
            "98  67  38  27  96  87\n",
            "99  98  89  16  82  19\n",
            "\n",
            "[100 rows x 5 columns]\n"
          ],
          "name": "stdout"
        }
      ]
    },
    {
      "cell_type": "markdown",
      "metadata": {
        "id": "cctu8rh5lL9j"
      },
      "source": [
        "Note: Since all the rows are having random numbers, your dataframe observations might be different than the output given above"
      ]
    },
    {
      "cell_type": "markdown",
      "metadata": {
        "id": "wwTEQf2Jkqho"
      },
      "source": [
        "Suppose for our analysis our project do not require column E. So you need to remove this column. update this new change using inplace parameter"
      ]
    },
    {
      "cell_type": "code",
      "metadata": {
        "id": "6dPLhUwikqho"
      },
      "source": [
        "#drop E\n",
        "df.drop([\"E\"], axis=1, inplace=True)"
      ],
      "execution_count": 18,
      "outputs": []
    },
    {
      "cell_type": "markdown",
      "metadata": {
        "id": "1rtM-5APkqho"
      },
      "source": [
        "Check if column **E** is removed by printing head of df"
      ]
    },
    {
      "cell_type": "code",
      "metadata": {
        "colab": {
          "base_uri": "https://localhost:8080/",
          "height": 204
        },
        "id": "yvEa_vfOkqhp",
        "outputId": "87dfd192-3c6f-4b5c-8eb1-0f46e7e9a36c"
      },
      "source": [
        "#df head\n",
        "df.head()"
      ],
      "execution_count": 19,
      "outputs": [
        {
          "output_type": "execute_result",
          "data": {
            "text/html": [
              "<div>\n",
              "<style scoped>\n",
              "    .dataframe tbody tr th:only-of-type {\n",
              "        vertical-align: middle;\n",
              "    }\n",
              "\n",
              "    .dataframe tbody tr th {\n",
              "        vertical-align: top;\n",
              "    }\n",
              "\n",
              "    .dataframe thead th {\n",
              "        text-align: right;\n",
              "    }\n",
              "</style>\n",
              "<table border=\"1\" class=\"dataframe\">\n",
              "  <thead>\n",
              "    <tr style=\"text-align: right;\">\n",
              "      <th></th>\n",
              "      <th>A</th>\n",
              "      <th>B</th>\n",
              "      <th>C</th>\n",
              "      <th>D</th>\n",
              "    </tr>\n",
              "  </thead>\n",
              "  <tbody>\n",
              "    <tr>\n",
              "      <th>0</th>\n",
              "      <td>9</td>\n",
              "      <td>15</td>\n",
              "      <td>64</td>\n",
              "      <td>28</td>\n",
              "    </tr>\n",
              "    <tr>\n",
              "      <th>1</th>\n",
              "      <td>93</td>\n",
              "      <td>29</td>\n",
              "      <td>8</td>\n",
              "      <td>73</td>\n",
              "    </tr>\n",
              "    <tr>\n",
              "      <th>2</th>\n",
              "      <td>40</td>\n",
              "      <td>36</td>\n",
              "      <td>16</td>\n",
              "      <td>11</td>\n",
              "    </tr>\n",
              "    <tr>\n",
              "      <th>3</th>\n",
              "      <td>88</td>\n",
              "      <td>62</td>\n",
              "      <td>33</td>\n",
              "      <td>72</td>\n",
              "    </tr>\n",
              "    <tr>\n",
              "      <th>4</th>\n",
              "      <td>49</td>\n",
              "      <td>51</td>\n",
              "      <td>54</td>\n",
              "      <td>77</td>\n",
              "    </tr>\n",
              "  </tbody>\n",
              "</table>\n",
              "</div>"
            ],
            "text/plain": [
              "    A   B   C   D\n",
              "0   9  15  64  28\n",
              "1  93  29   8  73\n",
              "2  40  36  16  11\n",
              "3  88  62  33  72\n",
              "4  49  51  54  77"
            ]
          },
          "metadata": {
            "tags": []
          },
          "execution_count": 19
        }
      ]
    },
    {
      "cell_type": "markdown",
      "metadata": {
        "id": "XQDwFmMKkqhq"
      },
      "source": [
        "# Ensure requirements as per domain\n",
        "\n",
        "Reference:-https://www.youtube.com/watch?v=eM7p3MVLOZ8"
      ]
    },
    {
      "cell_type": "markdown",
      "metadata": {
        "id": "uN5BNC29kqhq"
      },
      "source": [
        "<p style='text-align: right;'> 10 points</p>\n"
      ]
    },
    {
      "cell_type": "markdown",
      "metadata": {
        "id": "V1LgaSKOjnPm"
      },
      "source": [
        "\n",
        "Shallow copy the dataframe df in variable df2 and print df2 head\n",
        "\n",
        "\n",
        "\n",
        "\n"
      ]
    },
    {
      "cell_type": "code",
      "metadata": {
        "colab": {
          "base_uri": "https://localhost:8080/",
          "height": 204
        },
        "id": "uFK6ZRVZjTAt",
        "outputId": "c4b6efb9-569c-4278-a0d6-82d5a0bd4415"
      },
      "source": [
        "df2=df.copy()\n",
        "\n",
        "#df2 head\n",
        "df2.head()"
      ],
      "execution_count": 20,
      "outputs": [
        {
          "output_type": "execute_result",
          "data": {
            "text/html": [
              "<div>\n",
              "<style scoped>\n",
              "    .dataframe tbody tr th:only-of-type {\n",
              "        vertical-align: middle;\n",
              "    }\n",
              "\n",
              "    .dataframe tbody tr th {\n",
              "        vertical-align: top;\n",
              "    }\n",
              "\n",
              "    .dataframe thead th {\n",
              "        text-align: right;\n",
              "    }\n",
              "</style>\n",
              "<table border=\"1\" class=\"dataframe\">\n",
              "  <thead>\n",
              "    <tr style=\"text-align: right;\">\n",
              "      <th></th>\n",
              "      <th>A</th>\n",
              "      <th>B</th>\n",
              "      <th>C</th>\n",
              "      <th>D</th>\n",
              "    </tr>\n",
              "  </thead>\n",
              "  <tbody>\n",
              "    <tr>\n",
              "      <th>0</th>\n",
              "      <td>9</td>\n",
              "      <td>15</td>\n",
              "      <td>64</td>\n",
              "      <td>28</td>\n",
              "    </tr>\n",
              "    <tr>\n",
              "      <th>1</th>\n",
              "      <td>93</td>\n",
              "      <td>29</td>\n",
              "      <td>8</td>\n",
              "      <td>73</td>\n",
              "    </tr>\n",
              "    <tr>\n",
              "      <th>2</th>\n",
              "      <td>40</td>\n",
              "      <td>36</td>\n",
              "      <td>16</td>\n",
              "      <td>11</td>\n",
              "    </tr>\n",
              "    <tr>\n",
              "      <th>3</th>\n",
              "      <td>88</td>\n",
              "      <td>62</td>\n",
              "      <td>33</td>\n",
              "      <td>72</td>\n",
              "    </tr>\n",
              "    <tr>\n",
              "      <th>4</th>\n",
              "      <td>49</td>\n",
              "      <td>51</td>\n",
              "      <td>54</td>\n",
              "      <td>77</td>\n",
              "    </tr>\n",
              "  </tbody>\n",
              "</table>\n",
              "</div>"
            ],
            "text/plain": [
              "    A   B   C   D\n",
              "0   9  15  64  28\n",
              "1  93  29   8  73\n",
              "2  40  36  16  11\n",
              "3  88  62  33  72\n",
              "4  49  51  54  77"
            ]
          },
          "metadata": {
            "tags": []
          },
          "execution_count": 20
        }
      ]
    },
    {
      "cell_type": "markdown",
      "metadata": {
        "id": "2OmoXpwLkqhq"
      },
      "source": [
        "Suppose your domain expert says to filter column B with even numbers to do correct analysis. Implement the same below and update the change in varaible df2."
      ]
    },
    {
      "cell_type": "code",
      "metadata": {
        "id": "lOG09CHLkqhq"
      },
      "source": [
        "df2 = df2[df2['B'] % 2 == 0]"
      ],
      "execution_count": 21,
      "outputs": []
    },
    {
      "cell_type": "markdown",
      "metadata": {
        "id": "9glWk_f8kqhq"
      },
      "source": [
        "print updated head of *df2*"
      ]
    },
    {
      "cell_type": "code",
      "metadata": {
        "colab": {
          "base_uri": "https://localhost:8080/",
          "height": 204
        },
        "id": "-7DJrucnkqhq",
        "outputId": "4ea2e84b-354e-41bf-b8d8-dafc7ac8d81a"
      },
      "source": [
        "# df2 head\n",
        "df2.head()"
      ],
      "execution_count": 22,
      "outputs": [
        {
          "output_type": "execute_result",
          "data": {
            "text/html": [
              "<div>\n",
              "<style scoped>\n",
              "    .dataframe tbody tr th:only-of-type {\n",
              "        vertical-align: middle;\n",
              "    }\n",
              "\n",
              "    .dataframe tbody tr th {\n",
              "        vertical-align: top;\n",
              "    }\n",
              "\n",
              "    .dataframe thead th {\n",
              "        text-align: right;\n",
              "    }\n",
              "</style>\n",
              "<table border=\"1\" class=\"dataframe\">\n",
              "  <thead>\n",
              "    <tr style=\"text-align: right;\">\n",
              "      <th></th>\n",
              "      <th>A</th>\n",
              "      <th>B</th>\n",
              "      <th>C</th>\n",
              "      <th>D</th>\n",
              "    </tr>\n",
              "  </thead>\n",
              "  <tbody>\n",
              "    <tr>\n",
              "      <th>2</th>\n",
              "      <td>40</td>\n",
              "      <td>36</td>\n",
              "      <td>16</td>\n",
              "      <td>11</td>\n",
              "    </tr>\n",
              "    <tr>\n",
              "      <th>3</th>\n",
              "      <td>88</td>\n",
              "      <td>62</td>\n",
              "      <td>33</td>\n",
              "      <td>72</td>\n",
              "    </tr>\n",
              "    <tr>\n",
              "      <th>6</th>\n",
              "      <td>30</td>\n",
              "      <td>30</td>\n",
              "      <td>89</td>\n",
              "      <td>12</td>\n",
              "    </tr>\n",
              "    <tr>\n",
              "      <th>9</th>\n",
              "      <td>11</td>\n",
              "      <td>28</td>\n",
              "      <td>74</td>\n",
              "      <td>88</td>\n",
              "    </tr>\n",
              "    <tr>\n",
              "      <th>10</th>\n",
              "      <td>15</td>\n",
              "      <td>18</td>\n",
              "      <td>80</td>\n",
              "      <td>71</td>\n",
              "    </tr>\n",
              "  </tbody>\n",
              "</table>\n",
              "</div>"
            ],
            "text/plain": [
              "     A   B   C   D\n",
              "2   40  36  16  11\n",
              "3   88  62  33  72\n",
              "6   30  30  89  12\n",
              "9   11  28  74  88\n",
              "10  15  18  80  71"
            ]
          },
          "metadata": {
            "tags": []
          },
          "execution_count": 22
        }
      ]
    },
    {
      "cell_type": "markdown",
      "metadata": {
        "id": "dRAh9uVnkqhq"
      },
      "source": [
        "# Creating a sensible index values\n",
        "\n",
        "Reference:-https://www.youtube.com/watch?v=FQ4IB5mZOmQ\n"
      ]
    },
    {
      "cell_type": "markdown",
      "metadata": {
        "id": "ngZAGkC2kqhr"
      },
      "source": [
        "Oops. The index in this dataframe doesn't make sense. please correct index in a sequential manner starting from 1. Save the updates in df2"
      ]
    },
    {
      "cell_type": "code",
      "metadata": {
        "id": "X_M-38Qxkqhr"
      },
      "source": [
        "#set proper index\n",
        "df2 = df2.reset_index(drop=True)"
      ],
      "execution_count": 23,
      "outputs": []
    },
    {
      "cell_type": "markdown",
      "metadata": {
        "id": "k7MEL_Ldkqhr"
      },
      "source": [
        "print df2 head again"
      ]
    },
    {
      "cell_type": "code",
      "metadata": {
        "colab": {
          "base_uri": "https://localhost:8080/",
          "height": 204
        },
        "id": "_qLt44-vkqhr",
        "outputId": "d1bd812b-ee9a-4ffe-8480-7be135c905df"
      },
      "source": [
        "# df2 head\n",
        "df2.head()"
      ],
      "execution_count": 24,
      "outputs": [
        {
          "output_type": "execute_result",
          "data": {
            "text/html": [
              "<div>\n",
              "<style scoped>\n",
              "    .dataframe tbody tr th:only-of-type {\n",
              "        vertical-align: middle;\n",
              "    }\n",
              "\n",
              "    .dataframe tbody tr th {\n",
              "        vertical-align: top;\n",
              "    }\n",
              "\n",
              "    .dataframe thead th {\n",
              "        text-align: right;\n",
              "    }\n",
              "</style>\n",
              "<table border=\"1\" class=\"dataframe\">\n",
              "  <thead>\n",
              "    <tr style=\"text-align: right;\">\n",
              "      <th></th>\n",
              "      <th>A</th>\n",
              "      <th>B</th>\n",
              "      <th>C</th>\n",
              "      <th>D</th>\n",
              "    </tr>\n",
              "  </thead>\n",
              "  <tbody>\n",
              "    <tr>\n",
              "      <th>0</th>\n",
              "      <td>40</td>\n",
              "      <td>36</td>\n",
              "      <td>16</td>\n",
              "      <td>11</td>\n",
              "    </tr>\n",
              "    <tr>\n",
              "      <th>1</th>\n",
              "      <td>88</td>\n",
              "      <td>62</td>\n",
              "      <td>33</td>\n",
              "      <td>72</td>\n",
              "    </tr>\n",
              "    <tr>\n",
              "      <th>2</th>\n",
              "      <td>30</td>\n",
              "      <td>30</td>\n",
              "      <td>89</td>\n",
              "      <td>12</td>\n",
              "    </tr>\n",
              "    <tr>\n",
              "      <th>3</th>\n",
              "      <td>11</td>\n",
              "      <td>28</td>\n",
              "      <td>74</td>\n",
              "      <td>88</td>\n",
              "    </tr>\n",
              "    <tr>\n",
              "      <th>4</th>\n",
              "      <td>15</td>\n",
              "      <td>18</td>\n",
              "      <td>80</td>\n",
              "      <td>71</td>\n",
              "    </tr>\n",
              "  </tbody>\n",
              "</table>\n",
              "</div>"
            ],
            "text/plain": [
              "    A   B   C   D\n",
              "0  40  36  16  11\n",
              "1  88  62  33  72\n",
              "2  30  30  89  12\n",
              "3  11  28  74  88\n",
              "4  15  18  80  71"
            ]
          },
          "metadata": {
            "tags": []
          },
          "execution_count": 24
        }
      ]
    },
    {
      "cell_type": "markdown",
      "metadata": {
        "id": "t1htc1J-kqhr"
      },
      "source": [
        "# Renaming column names to meaningful names.\n",
        "\n",
        "Reference:- https://www.youtube.com/watch?v=YnggjqAfZCU\n",
        "<p style='text-align: right;'> 2 points</p>\n"
      ]
    },
    {
      "cell_type": "markdown",
      "metadata": {
        "id": "P3JtdP4fkqhr"
      },
      "source": [
        "Now df2 columns represents marks of the adventurous 'Anand', the brave 'Barkha', the compassionate 'Chandu' and the dashing 'Daniel'. Rename the columns with their name inplace of their first letter of their name."
      ]
    },
    {
      "cell_type": "code",
      "metadata": {
        "id": "wsQ2Sr-9kqhs"
      },
      "source": [
        "#column renaming\n",
        "df2 = df2.rename(columns={'A': 'Anand', 'B': 'Barkha', 'C': 'Chandu', 'D': 'Daniel'})"
      ],
      "execution_count": 25,
      "outputs": []
    },
    {
      "cell_type": "markdown",
      "metadata": {
        "id": "wwV5om7Ikqhs"
      },
      "source": [
        "print df2 tail with updated column names"
      ]
    },
    {
      "cell_type": "code",
      "metadata": {
        "colab": {
          "base_uri": "https://localhost:8080/",
          "height": 204
        },
        "id": "ZA5btO84kqhs",
        "outputId": "acfbb25e-29f0-443d-c68e-6b454bb99031"
      },
      "source": [
        "# df2 head\n",
        "df2.head()"
      ],
      "execution_count": 26,
      "outputs": [
        {
          "output_type": "execute_result",
          "data": {
            "text/html": [
              "<div>\n",
              "<style scoped>\n",
              "    .dataframe tbody tr th:only-of-type {\n",
              "        vertical-align: middle;\n",
              "    }\n",
              "\n",
              "    .dataframe tbody tr th {\n",
              "        vertical-align: top;\n",
              "    }\n",
              "\n",
              "    .dataframe thead th {\n",
              "        text-align: right;\n",
              "    }\n",
              "</style>\n",
              "<table border=\"1\" class=\"dataframe\">\n",
              "  <thead>\n",
              "    <tr style=\"text-align: right;\">\n",
              "      <th></th>\n",
              "      <th>Anand</th>\n",
              "      <th>Barkha</th>\n",
              "      <th>Chandu</th>\n",
              "      <th>Daniel</th>\n",
              "    </tr>\n",
              "  </thead>\n",
              "  <tbody>\n",
              "    <tr>\n",
              "      <th>0</th>\n",
              "      <td>40</td>\n",
              "      <td>36</td>\n",
              "      <td>16</td>\n",
              "      <td>11</td>\n",
              "    </tr>\n",
              "    <tr>\n",
              "      <th>1</th>\n",
              "      <td>88</td>\n",
              "      <td>62</td>\n",
              "      <td>33</td>\n",
              "      <td>72</td>\n",
              "    </tr>\n",
              "    <tr>\n",
              "      <th>2</th>\n",
              "      <td>30</td>\n",
              "      <td>30</td>\n",
              "      <td>89</td>\n",
              "      <td>12</td>\n",
              "    </tr>\n",
              "    <tr>\n",
              "      <th>3</th>\n",
              "      <td>11</td>\n",
              "      <td>28</td>\n",
              "      <td>74</td>\n",
              "      <td>88</td>\n",
              "    </tr>\n",
              "    <tr>\n",
              "      <th>4</th>\n",
              "      <td>15</td>\n",
              "      <td>18</td>\n",
              "      <td>80</td>\n",
              "      <td>71</td>\n",
              "    </tr>\n",
              "  </tbody>\n",
              "</table>\n",
              "</div>"
            ],
            "text/plain": [
              "   Anand  Barkha  Chandu  Daniel\n",
              "0     40      36      16      11\n",
              "1     88      62      33      72\n",
              "2     30      30      89      12\n",
              "3     11      28      74      88\n",
              "4     15      18      80      71"
            ]
          },
          "metadata": {
            "tags": []
          },
          "execution_count": 26
        }
      ]
    },
    {
      "cell_type": "markdown",
      "metadata": {
        "id": "OVPJo5YEkqhs"
      },
      "source": [
        "Yeah! now the data looks pretty meaningful to study"
      ]
    },
    {
      "cell_type": "markdown",
      "metadata": {
        "id": "TmIexkkOkqhs"
      },
      "source": [
        "# Treating Duplicate Data\n",
        "\n",
        "Reference: https://www.youtube.com/watch?v=bFVMR1qfzXo"
      ]
    },
    {
      "cell_type": "markdown",
      "metadata": {
        "id": "WndpHrtvkqhs"
      },
      "source": [
        "<p style='text-align: right;'> 20 points</p>\n"
      ]
    },
    {
      "cell_type": "markdown",
      "metadata": {
        "id": "FisYRuFD0CA7"
      },
      "source": [
        "Make another dataframe df3 by deep copying df2."
      ]
    },
    {
      "cell_type": "code",
      "metadata": {
        "id": "7YdZvdGozNFT"
      },
      "source": [
        "df3= df2.copy()"
      ],
      "execution_count": 27,
      "outputs": []
    },
    {
      "cell_type": "markdown",
      "metadata": {
        "id": "3hCi4Zjokqhs"
      },
      "source": [
        "Make another column in df3 with name 'dummy' having 0 as values\n",
        "throughout the rows."
      ]
    },
    {
      "cell_type": "code",
      "metadata": {
        "id": "IdXkjwYHkqht"
      },
      "source": [
        "#assign dummy column full of zero value\n",
        "df3['dummy'] = 0"
      ],
      "execution_count": 28,
      "outputs": []
    },
    {
      "cell_type": "code",
      "metadata": {
        "colab": {
          "base_uri": "https://localhost:8080/"
        },
        "id": "en7XzaxD2rrV",
        "outputId": "6e733726-5fc9-4699-8e2b-582c81111127"
      },
      "source": [
        "# print head of df, df2 and df3\n",
        "print(df.head())\n",
        "print(df2.head())\n",
        "print(df3.head())"
      ],
      "execution_count": 29,
      "outputs": [
        {
          "output_type": "stream",
          "text": [
            "    A   B   C   D\n",
            "0   9  15  64  28\n",
            "1  93  29   8  73\n",
            "2  40  36  16  11\n",
            "3  88  62  33  72\n",
            "4  49  51  54  77\n",
            "   Anand  Barkha  Chandu  Daniel\n",
            "0     40      36      16      11\n",
            "1     88      62      33      72\n",
            "2     30      30      89      12\n",
            "3     11      28      74      88\n",
            "4     15      18      80      71\n",
            "   Anand  Barkha  Chandu  Daniel  dummy\n",
            "0     40      36      16      11      0\n",
            "1     88      62      33      72      0\n",
            "2     30      30      89      12      0\n",
            "3     11      28      74      88      0\n",
            "4     15      18      80      71      0\n"
          ],
          "name": "stdout"
        }
      ]
    },
    {
      "cell_type": "markdown",
      "metadata": {
        "id": "MxcNd_Ja1YXs"
      },
      "source": [
        "Hey buddy! Don't you think, there is some difference between copy operation used for creating df2 and df3.\n",
        "\n",
        "If you think Yes, Then please comment below the difference"
      ]
    },
    {
      "cell_type": "code",
      "metadata": {
        "id": "HLLRqTPx1oRs"
      },
      "source": [
        "# comment"
      ],
      "execution_count": 30,
      "outputs": []
    },
    {
      "cell_type": "markdown",
      "metadata": {
        "id": "2vlkb3edkqht"
      },
      "source": [
        "print tail of df3"
      ]
    },
    {
      "cell_type": "code",
      "metadata": {
        "colab": {
          "base_uri": "https://localhost:8080/",
          "height": 204
        },
        "id": "asZ8XuR55qIC",
        "outputId": "c4886b34-b0d3-4b62-8178-8c0c56484e91"
      },
      "source": [
        "# df3 tail\n",
        "df3.tail()"
      ],
      "execution_count": 31,
      "outputs": [
        {
          "output_type": "execute_result",
          "data": {
            "text/html": [
              "<div>\n",
              "<style scoped>\n",
              "    .dataframe tbody tr th:only-of-type {\n",
              "        vertical-align: middle;\n",
              "    }\n",
              "\n",
              "    .dataframe tbody tr th {\n",
              "        vertical-align: top;\n",
              "    }\n",
              "\n",
              "    .dataframe thead th {\n",
              "        text-align: right;\n",
              "    }\n",
              "</style>\n",
              "<table border=\"1\" class=\"dataframe\">\n",
              "  <thead>\n",
              "    <tr style=\"text-align: right;\">\n",
              "      <th></th>\n",
              "      <th>Anand</th>\n",
              "      <th>Barkha</th>\n",
              "      <th>Chandu</th>\n",
              "      <th>Daniel</th>\n",
              "      <th>dummy</th>\n",
              "    </tr>\n",
              "  </thead>\n",
              "  <tbody>\n",
              "    <tr>\n",
              "      <th>43</th>\n",
              "      <td>1</td>\n",
              "      <td>82</td>\n",
              "      <td>34</td>\n",
              "      <td>11</td>\n",
              "      <td>0</td>\n",
              "    </tr>\n",
              "    <tr>\n",
              "      <th>44</th>\n",
              "      <td>74</td>\n",
              "      <td>36</td>\n",
              "      <td>6</td>\n",
              "      <td>63</td>\n",
              "      <td>0</td>\n",
              "    </tr>\n",
              "    <tr>\n",
              "      <th>45</th>\n",
              "      <td>3</td>\n",
              "      <td>50</td>\n",
              "      <td>59</td>\n",
              "      <td>34</td>\n",
              "      <td>0</td>\n",
              "    </tr>\n",
              "    <tr>\n",
              "      <th>46</th>\n",
              "      <td>16</td>\n",
              "      <td>18</td>\n",
              "      <td>61</td>\n",
              "      <td>54</td>\n",
              "      <td>0</td>\n",
              "    </tr>\n",
              "    <tr>\n",
              "      <th>47</th>\n",
              "      <td>67</td>\n",
              "      <td>38</td>\n",
              "      <td>27</td>\n",
              "      <td>96</td>\n",
              "      <td>0</td>\n",
              "    </tr>\n",
              "  </tbody>\n",
              "</table>\n",
              "</div>"
            ],
            "text/plain": [
              "    Anand  Barkha  Chandu  Daniel  dummy\n",
              "43      1      82      34      11      0\n",
              "44     74      36       6      63      0\n",
              "45      3      50      59      34      0\n",
              "46     16      18      61      54      0\n",
              "47     67      38      27      96      0"
            ]
          },
          "metadata": {
            "tags": []
          },
          "execution_count": 31
        }
      ]
    },
    {
      "cell_type": "markdown",
      "metadata": {
        "id": "r4ulvQTdkqht"
      },
      "source": [
        "make an array name 'ListB' with values of column 'Barkha'"
      ]
    },
    {
      "cell_type": "code",
      "metadata": {
        "id": "DDQvQNGdkqht"
      },
      "source": [
        "ListB= df3['Barkha'].values"
      ],
      "execution_count": 32,
      "outputs": []
    },
    {
      "cell_type": "markdown",
      "metadata": {
        "id": "kxp2Sttm57LA"
      },
      "source": [
        "Print ListB"
      ]
    },
    {
      "cell_type": "code",
      "metadata": {
        "colab": {
          "base_uri": "https://localhost:8080/"
        },
        "id": "fCqZUrDdkqht",
        "outputId": "c4ce1c1b-7804-4db9-ca48-55b87514e98d"
      },
      "source": [
        "#print ListB\n",
        "ListB"
      ],
      "execution_count": 33,
      "outputs": [
        {
          "output_type": "execute_result",
          "data": {
            "text/plain": [
              "array([36, 62, 30, 28, 18, 50, 88, 50, 80, 66, 96, 30,  4, 30,  2, 42, 94,\n",
              "       18, 44, 68, 58, 48, 70, 22, 36, 32, 32, 96, 30, 86,  0, 76, 88, 64,\n",
              "       52, 46, 20, 66, 56,  8, 68, 50, 28, 82, 36, 50, 18, 38])"
            ]
          },
          "metadata": {
            "tags": []
          },
          "execution_count": 33
        }
      ]
    },
    {
      "cell_type": "markdown",
      "metadata": {
        "id": "XdTgrnTJkqhu"
      },
      "source": [
        "Assign this array values as another column in df3 with name 'Anonymous'"
      ]
    },
    {
      "cell_type": "code",
      "metadata": {
        "id": "2U01qa6Akqhu"
      },
      "source": [
        "#create Anonymous column\n",
        "df3['Anonymous'] = pd.DataFrame(ListB)"
      ],
      "execution_count": 34,
      "outputs": []
    },
    {
      "cell_type": "markdown",
      "metadata": {
        "id": "9Tnv9FxNkqhu"
      },
      "source": [
        "Create a dataframe 'ListA' with values of row index 3, 10 and 40"
      ]
    },
    {
      "cell_type": "code",
      "metadata": {
        "id": "6KjmI6RRkqhu"
      },
      "source": [
        "ListA= df3.iloc[[3,10,40],]"
      ],
      "execution_count": 35,
      "outputs": []
    },
    {
      "cell_type": "markdown",
      "metadata": {
        "id": "536Zw_9kkqhu"
      },
      "source": [
        "print ListA"
      ]
    },
    {
      "cell_type": "code",
      "metadata": {
        "colab": {
          "base_uri": "https://localhost:8080/",
          "height": 142
        },
        "id": "uiwW-8S9kqhu",
        "outputId": "ef0df7b4-1251-4c91-cdcf-95b14efab952"
      },
      "source": [
        "# print ListA\n",
        "ListA"
      ],
      "execution_count": 36,
      "outputs": [
        {
          "output_type": "execute_result",
          "data": {
            "text/html": [
              "<div>\n",
              "<style scoped>\n",
              "    .dataframe tbody tr th:only-of-type {\n",
              "        vertical-align: middle;\n",
              "    }\n",
              "\n",
              "    .dataframe tbody tr th {\n",
              "        vertical-align: top;\n",
              "    }\n",
              "\n",
              "    .dataframe thead th {\n",
              "        text-align: right;\n",
              "    }\n",
              "</style>\n",
              "<table border=\"1\" class=\"dataframe\">\n",
              "  <thead>\n",
              "    <tr style=\"text-align: right;\">\n",
              "      <th></th>\n",
              "      <th>Anand</th>\n",
              "      <th>Barkha</th>\n",
              "      <th>Chandu</th>\n",
              "      <th>Daniel</th>\n",
              "      <th>dummy</th>\n",
              "      <th>Anonymous</th>\n",
              "    </tr>\n",
              "  </thead>\n",
              "  <tbody>\n",
              "    <tr>\n",
              "      <th>3</th>\n",
              "      <td>11</td>\n",
              "      <td>28</td>\n",
              "      <td>74</td>\n",
              "      <td>88</td>\n",
              "      <td>0</td>\n",
              "      <td>28</td>\n",
              "    </tr>\n",
              "    <tr>\n",
              "      <th>10</th>\n",
              "      <td>88</td>\n",
              "      <td>96</td>\n",
              "      <td>73</td>\n",
              "      <td>40</td>\n",
              "      <td>0</td>\n",
              "      <td>96</td>\n",
              "    </tr>\n",
              "    <tr>\n",
              "      <th>40</th>\n",
              "      <td>87</td>\n",
              "      <td>68</td>\n",
              "      <td>86</td>\n",
              "      <td>14</td>\n",
              "      <td>0</td>\n",
              "      <td>68</td>\n",
              "    </tr>\n",
              "  </tbody>\n",
              "</table>\n",
              "</div>"
            ],
            "text/plain": [
              "    Anand  Barkha  Chandu  Daniel  dummy  Anonymous\n",
              "3      11      28      74      88      0         28\n",
              "10     88      96      73      40      0         96\n",
              "40     87      68      86      14      0         68"
            ]
          },
          "metadata": {
            "tags": []
          },
          "execution_count": 36
        }
      ]
    },
    {
      "cell_type": "markdown",
      "metadata": {
        "id": "HLT1U7ZQkqhu"
      },
      "source": [
        "Concat ListA to df3 ignoring the index values of ListA so that we can maintain the sequential index value thoughout the dataframe."
      ]
    },
    {
      "cell_type": "code",
      "metadata": {
        "id": "zj_zUXiokqhv"
      },
      "source": [
        "df3= pd.concat([ListA, df3], axis=0, ignore_index=True)"
      ],
      "execution_count": 37,
      "outputs": []
    },
    {
      "cell_type": "markdown",
      "metadata": {
        "id": "qp2M-WnYkqhv"
      },
      "source": [
        "print head of df3"
      ]
    },
    {
      "cell_type": "code",
      "metadata": {
        "colab": {
          "base_uri": "https://localhost:8080/",
          "height": 204
        },
        "id": "GwotDl4Tkqhv",
        "outputId": "f1963753-5e05-4d2d-b39c-1b6f1bea9750"
      },
      "source": [
        "# df3 head\n",
        "df3.head()"
      ],
      "execution_count": 38,
      "outputs": [
        {
          "output_type": "execute_result",
          "data": {
            "text/html": [
              "<div>\n",
              "<style scoped>\n",
              "    .dataframe tbody tr th:only-of-type {\n",
              "        vertical-align: middle;\n",
              "    }\n",
              "\n",
              "    .dataframe tbody tr th {\n",
              "        vertical-align: top;\n",
              "    }\n",
              "\n",
              "    .dataframe thead th {\n",
              "        text-align: right;\n",
              "    }\n",
              "</style>\n",
              "<table border=\"1\" class=\"dataframe\">\n",
              "  <thead>\n",
              "    <tr style=\"text-align: right;\">\n",
              "      <th></th>\n",
              "      <th>Anand</th>\n",
              "      <th>Barkha</th>\n",
              "      <th>Chandu</th>\n",
              "      <th>Daniel</th>\n",
              "      <th>dummy</th>\n",
              "      <th>Anonymous</th>\n",
              "    </tr>\n",
              "  </thead>\n",
              "  <tbody>\n",
              "    <tr>\n",
              "      <th>0</th>\n",
              "      <td>11</td>\n",
              "      <td>28</td>\n",
              "      <td>74</td>\n",
              "      <td>88</td>\n",
              "      <td>0</td>\n",
              "      <td>28</td>\n",
              "    </tr>\n",
              "    <tr>\n",
              "      <th>1</th>\n",
              "      <td>88</td>\n",
              "      <td>96</td>\n",
              "      <td>73</td>\n",
              "      <td>40</td>\n",
              "      <td>0</td>\n",
              "      <td>96</td>\n",
              "    </tr>\n",
              "    <tr>\n",
              "      <th>2</th>\n",
              "      <td>87</td>\n",
              "      <td>68</td>\n",
              "      <td>86</td>\n",
              "      <td>14</td>\n",
              "      <td>0</td>\n",
              "      <td>68</td>\n",
              "    </tr>\n",
              "    <tr>\n",
              "      <th>3</th>\n",
              "      <td>40</td>\n",
              "      <td>36</td>\n",
              "      <td>16</td>\n",
              "      <td>11</td>\n",
              "      <td>0</td>\n",
              "      <td>36</td>\n",
              "    </tr>\n",
              "    <tr>\n",
              "      <th>4</th>\n",
              "      <td>88</td>\n",
              "      <td>62</td>\n",
              "      <td>33</td>\n",
              "      <td>72</td>\n",
              "      <td>0</td>\n",
              "      <td>62</td>\n",
              "    </tr>\n",
              "  </tbody>\n",
              "</table>\n",
              "</div>"
            ],
            "text/plain": [
              "   Anand  Barkha  Chandu  Daniel  dummy  Anonymous\n",
              "0     11      28      74      88      0         28\n",
              "1     88      96      73      40      0         96\n",
              "2     87      68      86      14      0         68\n",
              "3     40      36      16      11      0         36\n",
              "4     88      62      33      72      0         62"
            ]
          },
          "metadata": {
            "tags": []
          },
          "execution_count": 38
        }
      ]
    },
    {
      "cell_type": "markdown",
      "metadata": {
        "id": "ETx-cCU5kqhv"
      },
      "source": [
        "Check if there is any duplicate rows present in the dataframe df3"
      ]
    },
    {
      "cell_type": "code",
      "metadata": {
        "colab": {
          "base_uri": "https://localhost:8080/"
        },
        "id": "KkK9vv6Lkqhv",
        "outputId": "fddbc389-3096-4509-a5a0-3749bcd81653"
      },
      "source": [
        "#check duplicate\n",
        "df3.duplicated().sum()"
      ],
      "execution_count": 39,
      "outputs": [
        {
          "output_type": "execute_result",
          "data": {
            "text/plain": [
              "3"
            ]
          },
          "metadata": {
            "tags": []
          },
          "execution_count": 39
        }
      ]
    },
    {
      "cell_type": "markdown",
      "metadata": {
        "id": "Okvw1xgtkqhv"
      },
      "source": [
        "By above output it seems we do have duplicated rows in our dataset"
      ]
    },
    {
      "cell_type": "markdown",
      "metadata": {
        "id": "z0QOuS-_kqhw"
      },
      "source": [
        "Drop duplicated rows using pandas function keeping first values of such duplicated observations"
      ]
    },
    {
      "cell_type": "code",
      "metadata": {
        "id": "gRsgecqbkqhw"
      },
      "source": [
        "#drop duplicate\n",
        "df3.drop_duplicates(keep = False, inplace = True)"
      ],
      "execution_count": 40,
      "outputs": []
    },
    {
      "cell_type": "markdown",
      "metadata": {
        "id": "FbNFF-4jkqhw"
      },
      "source": [
        "Check again if we have any duplicate row values present "
      ]
    },
    {
      "cell_type": "code",
      "metadata": {
        "colab": {
          "base_uri": "https://localhost:8080/"
        },
        "id": "ehOxm1Mckqhw",
        "outputId": "6e421d72-d45a-40e6-adeb-d2e59eacefd0"
      },
      "source": [
        "#check duplicate\n",
        "df3.duplicated().sum()"
      ],
      "execution_count": 41,
      "outputs": [
        {
          "output_type": "execute_result",
          "data": {
            "text/plain": [
              "0"
            ]
          },
          "metadata": {
            "tags": []
          },
          "execution_count": 41
        }
      ]
    },
    {
      "cell_type": "markdown",
      "metadata": {
        "id": "7Sg80lIkkqhw"
      },
      "source": [
        "Yipeee!! Did you notice the dataframe is free from any duplicate rows now."
      ]
    },
    {
      "cell_type": "markdown",
      "metadata": {
        "id": "za0nup3Pkqhw"
      },
      "source": [
        "Drop any duplicate columns present in the dataframe df"
      ]
    },
    {
      "cell_type": "code",
      "metadata": {
        "id": "NE9l9xM0kqhw",
        "colab": {
          "base_uri": "https://localhost:8080/",
          "height": 204
        },
        "outputId": "0a28538f-8359-4a80-8613-44e1e4cf0bd2"
      },
      "source": [
        "df3= df3.T.drop_duplicates().T\n",
        "\n",
        "#print df3\n",
        "df3.head()"
      ],
      "execution_count": 42,
      "outputs": [
        {
          "output_type": "execute_result",
          "data": {
            "text/html": [
              "<div>\n",
              "<style scoped>\n",
              "    .dataframe tbody tr th:only-of-type {\n",
              "        vertical-align: middle;\n",
              "    }\n",
              "\n",
              "    .dataframe tbody tr th {\n",
              "        vertical-align: top;\n",
              "    }\n",
              "\n",
              "    .dataframe thead th {\n",
              "        text-align: right;\n",
              "    }\n",
              "</style>\n",
              "<table border=\"1\" class=\"dataframe\">\n",
              "  <thead>\n",
              "    <tr style=\"text-align: right;\">\n",
              "      <th></th>\n",
              "      <th>Anand</th>\n",
              "      <th>Barkha</th>\n",
              "      <th>Chandu</th>\n",
              "      <th>Daniel</th>\n",
              "      <th>dummy</th>\n",
              "    </tr>\n",
              "  </thead>\n",
              "  <tbody>\n",
              "    <tr>\n",
              "      <th>3</th>\n",
              "      <td>40</td>\n",
              "      <td>36</td>\n",
              "      <td>16</td>\n",
              "      <td>11</td>\n",
              "      <td>0</td>\n",
              "    </tr>\n",
              "    <tr>\n",
              "      <th>4</th>\n",
              "      <td>88</td>\n",
              "      <td>62</td>\n",
              "      <td>33</td>\n",
              "      <td>72</td>\n",
              "      <td>0</td>\n",
              "    </tr>\n",
              "    <tr>\n",
              "      <th>5</th>\n",
              "      <td>30</td>\n",
              "      <td>30</td>\n",
              "      <td>89</td>\n",
              "      <td>12</td>\n",
              "      <td>0</td>\n",
              "    </tr>\n",
              "    <tr>\n",
              "      <th>7</th>\n",
              "      <td>15</td>\n",
              "      <td>18</td>\n",
              "      <td>80</td>\n",
              "      <td>71</td>\n",
              "      <td>0</td>\n",
              "    </tr>\n",
              "    <tr>\n",
              "      <th>8</th>\n",
              "      <td>88</td>\n",
              "      <td>50</td>\n",
              "      <td>54</td>\n",
              "      <td>34</td>\n",
              "      <td>0</td>\n",
              "    </tr>\n",
              "  </tbody>\n",
              "</table>\n",
              "</div>"
            ],
            "text/plain": [
              "   Anand  Barkha  Chandu  Daniel  dummy\n",
              "3     40      36      16      11      0\n",
              "4     88      62      33      72      0\n",
              "5     30      30      89      12      0\n",
              "7     15      18      80      71      0\n",
              "8     88      50      54      34      0"
            ]
          },
          "metadata": {
            "tags": []
          },
          "execution_count": 42
        }
      ]
    },
    {
      "cell_type": "markdown",
      "metadata": {
        "id": "HAMB8--rkqhx"
      },
      "source": [
        "Did you notice which Column is dropped?\n",
        "I am sure you noticed it.\n",
        "Name that column below"
      ]
    },
    {
      "cell_type": "code",
      "metadata": {
        "id": "x7HRPWXHkqhx"
      },
      "source": [
        "#Column: Anonymous_______"
      ],
      "execution_count": 43,
      "outputs": []
    },
    {
      "cell_type": "markdown",
      "metadata": {
        "id": "n53B2-pCkqhx"
      },
      "source": [
        "# Treating constant column values\n",
        "\n",
        "<p style='text-align: right;'> 2 points</p>\n"
      ]
    },
    {
      "cell_type": "markdown",
      "metadata": {
        "id": "fDpWhHSlkqhx"
      },
      "source": [
        "Check unique values in each columns"
      ]
    },
    {
      "cell_type": "code",
      "metadata": {
        "colab": {
          "base_uri": "https://localhost:8080/"
        },
        "id": "5-L6SLhqkqhx",
        "outputId": "10cc3d36-cea8-4dbf-eb51-f3b00f7bfca3"
      },
      "source": [
        "# df3 unique value\n",
        "df3.nunique()"
      ],
      "execution_count": 51,
      "outputs": [
        {
          "output_type": "execute_result",
          "data": {
            "text/plain": [
              "Anand     40\n",
              "Barkha    32\n",
              "Chandu    38\n",
              "Daniel    35\n",
              "dummy      1\n",
              "dtype: int64"
            ]
          },
          "metadata": {
            "tags": []
          },
          "execution_count": 51
        }
      ]
    },
    {
      "cell_type": "markdown",
      "metadata": {
        "id": "4G9ZC-n-kqhx"
      },
      "source": [
        "By above output which column has only 1 value as unique throught the rows? \n",
        "Yeah! you are right, its dummy column.\n",
        "So lets drop it"
      ]
    },
    {
      "cell_type": "markdown",
      "metadata": {
        "id": "D3y3ZWW6kqhx"
      },
      "source": [
        "Drop dummy column as it has constant values which will not give us any information and save the changes to df3 using inplace parameter"
      ]
    },
    {
      "cell_type": "code",
      "metadata": {
        "id": "SR10jRVQkqhy"
      },
      "source": [
        "# drop dummy\n",
        "df3.drop('dummy', axis=1, inplace=True)"
      ],
      "execution_count": 52,
      "outputs": []
    },
    {
      "cell_type": "markdown",
      "metadata": {
        "id": "nHdi2uHskqhy"
      },
      "source": [
        "print final obtained dataframe df3"
      ]
    },
    {
      "cell_type": "code",
      "metadata": {
        "colab": {
          "base_uri": "https://localhost:8080/",
          "height": 204
        },
        "id": "0-YUwfDKkqhy",
        "outputId": "3b0b3fd0-9323-4273-f142-258c2da6fe59"
      },
      "source": [
        "# print df3\n",
        "df3.head()"
      ],
      "execution_count": 54,
      "outputs": [
        {
          "output_type": "execute_result",
          "data": {
            "text/html": [
              "<div>\n",
              "<style scoped>\n",
              "    .dataframe tbody tr th:only-of-type {\n",
              "        vertical-align: middle;\n",
              "    }\n",
              "\n",
              "    .dataframe tbody tr th {\n",
              "        vertical-align: top;\n",
              "    }\n",
              "\n",
              "    .dataframe thead th {\n",
              "        text-align: right;\n",
              "    }\n",
              "</style>\n",
              "<table border=\"1\" class=\"dataframe\">\n",
              "  <thead>\n",
              "    <tr style=\"text-align: right;\">\n",
              "      <th></th>\n",
              "      <th>Anand</th>\n",
              "      <th>Barkha</th>\n",
              "      <th>Chandu</th>\n",
              "      <th>Daniel</th>\n",
              "    </tr>\n",
              "  </thead>\n",
              "  <tbody>\n",
              "    <tr>\n",
              "      <th>3</th>\n",
              "      <td>40</td>\n",
              "      <td>36</td>\n",
              "      <td>16</td>\n",
              "      <td>11</td>\n",
              "    </tr>\n",
              "    <tr>\n",
              "      <th>4</th>\n",
              "      <td>88</td>\n",
              "      <td>62</td>\n",
              "      <td>33</td>\n",
              "      <td>72</td>\n",
              "    </tr>\n",
              "    <tr>\n",
              "      <th>5</th>\n",
              "      <td>30</td>\n",
              "      <td>30</td>\n",
              "      <td>89</td>\n",
              "      <td>12</td>\n",
              "    </tr>\n",
              "    <tr>\n",
              "      <th>7</th>\n",
              "      <td>15</td>\n",
              "      <td>18</td>\n",
              "      <td>80</td>\n",
              "      <td>71</td>\n",
              "    </tr>\n",
              "    <tr>\n",
              "      <th>8</th>\n",
              "      <td>88</td>\n",
              "      <td>50</td>\n",
              "      <td>54</td>\n",
              "      <td>34</td>\n",
              "    </tr>\n",
              "  </tbody>\n",
              "</table>\n",
              "</div>"
            ],
            "text/plain": [
              "   Anand  Barkha  Chandu  Daniel\n",
              "3     40      36      16      11\n",
              "4     88      62      33      72\n",
              "5     30      30      89      12\n",
              "7     15      18      80      71\n",
              "8     88      50      54      34"
            ]
          },
          "metadata": {
            "tags": []
          },
          "execution_count": 54
        }
      ]
    },
    {
      "cell_type": "markdown",
      "metadata": {
        "id": "aKvKQdkukafh"
      },
      "source": [
        "# Iterating dataframes\n",
        "<p style='text-align: right;'> 25 points </p>\n",
        "\n",
        "\n",
        "Reference: https://www.youtube.com/watch?v=0nI3HTLPpZI\n",
        "Let's look at three main ways to iterate over DataFrames.\n",
        "\n",
        "1. iteritems()\n",
        "2. iterrows()\n",
        "3. itertuples()\n",
        "\n",
        "We will also see time taken by these methods to print our dataframe. \n",
        "\n",
        "**1. Iterating DataFrames with iteritems()**\n",
        "\n",
        "Lets iterate over rows of df3 uisng iteritems.\n",
        "\n"
      ]
    },
    {
      "cell_type": "code",
      "metadata": {
        "id": "GBNvIdaRkafi",
        "colab": {
          "base_uri": "https://localhost:8080/"
        },
        "outputId": "37710b55-8415-49dd-a5da-719018807065"
      },
      "source": [
        "import time\n",
        "start = time.time()\n",
        "\n",
        "#Use iteritems to iterate\n",
        "\n",
        "\n",
        "\n",
        "print('Time taken(sec): ',(time.time()-start)*1000)"
      ],
      "execution_count": 47,
      "outputs": [
        {
          "output_type": "stream",
          "text": [
            "Time taken(sec):  0.07271766662597656\n"
          ],
          "name": "stdout"
        }
      ]
    },
    {
      "cell_type": "markdown",
      "metadata": {
        "id": "5TcM7XA5kafi"
      },
      "source": [
        "Did you notice buddy how iteritems are iterating over df3.\n",
        "\n",
        "Along with ways each iterating function works, also keep tallying the time taken for all other lopps too!. This will be fun, lets check iterrows()\n",
        "\n",
        "**2. Iterating DataFrames with iterrows()**"
      ]
    },
    {
      "cell_type": "code",
      "metadata": {
        "id": "JIID_HdHkafi",
        "colab": {
          "base_uri": "https://localhost:8080/"
        },
        "outputId": "09d31c54-fa34-44b3-8440-ff3e41776909"
      },
      "source": [
        "import time\n",
        "start = time.time()\n",
        "#Use iterrows to iterate\n",
        "\n",
        "print('Time taken(sec): ',(time.time()-start)*1000)"
      ],
      "execution_count": 48,
      "outputs": [
        {
          "output_type": "stream",
          "text": [
            "Time taken(sec):  0.06008148193359375\n"
          ],
          "name": "stdout"
        }
      ]
    },
    {
      "cell_type": "markdown",
      "metadata": {
        "id": "__0rZ_nzkafj"
      },
      "source": [
        "**3. Iterating DataFrames with itertuples()**"
      ]
    },
    {
      "cell_type": "code",
      "metadata": {
        "id": "GJ9mr0QUkafj",
        "colab": {
          "base_uri": "https://localhost:8080/"
        },
        "outputId": "f7585d04-6e43-4f20-9b0b-2bd13f94ebc0"
      },
      "source": [
        "#iterate df3 using itertuples\n",
        "import time\n",
        "start = time.time()\n",
        "\n",
        "#Use itertuples to iterate\n",
        "\n",
        "\n",
        "print('Time taken(sec): ',(time.time()-start)*1000)"
      ],
      "execution_count": 49,
      "outputs": [
        {
          "output_type": "stream",
          "text": [
            "Time taken(sec):  0.05841255187988281\n"
          ],
          "name": "stdout"
        }
      ]
    },
    {
      "cell_type": "markdown",
      "metadata": {
        "id": "0O_bga6Tkafj"
      },
      "source": [
        "Hey buddy! so as you have seen every method works differently \n",
        "    \n",
        "    iteritems(): Helps to iterate over each element of the set, column-wise. \n",
        "    iterrows(): Each element of the set, row-wise. \n",
        "    itertuple(): Each row and form a tuple out of them.\n",
        "\n",
        "But if you ask for speed. The most best perfromance is given by itertuples compared to other two iterating methods.\n",
        "So if anytime you need to save your computation time on iteration of dataframes you can go for itertuples. Was'nt it fun?:)"
      ]
    },
    {
      "cell_type": "markdown",
      "metadata": {
        "id": "IDYj2cP9riJM"
      },
      "source": [
        "# Regular Expression \n",
        "<p style='text-align: right;'> 15 points </p>\n",
        "\n",
        "\n",
        "Reference: https://www.youtube.com/watch?v=zTTQ8FE60j8\n",
        "\n",
        "Reference: https://www.youtube.com/watch?v=h6E1PiTXnVI\n",
        "\n",
        "Reference doc: https://www.guru99.com/python-regular-expressions-complete-tutorial.html\n",
        "\n",
        "Python has a module named re to work with RegEx\n",
        "\n",
        "\n",
        "### **!Are you ready to try regex on dataframes?**\n",
        "\n",
        "*So here we go.!*\n",
        "\n",
        "We are gonna try out following awesome re module functions\n",
        "\n",
        "1. findall \n",
        "2. search\n",
        "3. sub\n",
        "4. split\n",
        "\n",
        "If you want you can also refer the below regular expression syntax.\n",
        "\n",
        "![image.png](attachment:image.png)\n"
      ]
    },
    {
      "cell_type": "markdown",
      "metadata": {
        "id": "YCxcpQB0kafk"
      },
      "source": [
        "Hey future data scientists! we will now use regex on dataframes for data cleaning.\n",
        "\n",
        "Who doesn't know Trump?. Lets dowload this interesting dataset of Trump insult tweets :https://www.kaggle.com/ayushggarg/all-trumps-twitter-insults-20152021/download\n",
        "\n",
        "On this dataset we will learn how to use regex for data cleaning. By the way it will be also very usefull for feature engineering too!.\n",
        "\n"
      ]
    },
    {
      "cell_type": "code",
      "metadata": {
        "id": "AXem3jCAkafk",
        "colab": {
          "base_uri": "https://localhost:8080/",
          "height": 129
        },
        "outputId": "b10d6999-2d64-4f64-ad1b-0d3cdaeb7ea1"
      },
      "source": [
        "#load dataset\n",
        "tweet_data=#"
      ],
      "execution_count": 50,
      "outputs": [
        {
          "output_type": "error",
          "ename": "SyntaxError",
          "evalue": "ignored",
          "traceback": [
            "\u001b[0;36m  File \u001b[0;32m\"<ipython-input-50-22f771197350>\"\u001b[0;36m, line \u001b[0;32m2\u001b[0m\n\u001b[0;31m    tweet_data=#\u001b[0m\n\u001b[0m                ^\u001b[0m\n\u001b[0;31mSyntaxError\u001b[0m\u001b[0;31m:\u001b[0m invalid syntax\n"
          ]
        }
      ]
    },
    {
      "cell_type": "code",
      "metadata": {
        "id": "V6SwHuSjkafl"
      },
      "source": [
        "#import re module\n",
        "\n",
        "\n",
        "#print head of tweet_data\n"
      ],
      "execution_count": null,
      "outputs": []
    },
    {
      "cell_type": "markdown",
      "metadata": {
        "id": "R4QFg6Vqkafl"
      },
      "source": [
        "Lets do some analysis using regex on this dataset\n",
        "\n",
        "Before we go ahead, do you remember apply function? because you will have to require apply function to impliment regex methods.\n",
        "\n",
        "You can refer this video so that you revisit how apply function works: https://www.youtube.com/watch?v=7HN-4Df8ZpA\n",
        "\n",
        "**1. findall()**\n",
        "\n",
        "Make another column 'year' with year in each row using regex on date column.\n"
      ]
    },
    {
      "cell_type": "code",
      "metadata": {
        "id": "ro4b50Mwkafl"
      },
      "source": [
        "# create a function which takes date as parameter and applies regex on it\n",
        "\n",
        "\n",
        "#use apply function on tweet_data to use above function in order to make year column\n",
        "\n",
        "\n",
        "#print tweet_data head\n"
      ],
      "execution_count": null,
      "outputs": []
    },
    {
      "cell_type": "markdown",
      "metadata": {
        "id": "1zsDi4wykafm"
      },
      "source": [
        "lets filter year from 2020-2021 which was the election time in USA.\n",
        "\n",
        "**2. search**\n",
        "\n",
        "We will use regex search for this "
      ]
    },
    {
      "cell_type": "code",
      "metadata": {
        "id": "aJ_y4hBskafm"
      },
      "source": [
        "# create a function which takes year as parameter and applies regex on it\n",
        "\n",
        "    \n",
        "#use apply function on tweet_data to use above function in order to search tweets of 2020-2021\n",
        "\n",
        "\n",
        "#tweet_data head\n"
      ],
      "execution_count": null,
      "outputs": []
    },
    {
      "cell_type": "markdown",
      "metadata": {
        "id": "DlPVEmOykafm"
      },
      "source": [
        "You can also do the same thing using regex match function to do this which is vailable in pandas\n",
        "\n",
        "Reference: https://www.geeksforgeeks.org/python-pandas-series-str-match/"
      ]
    },
    {
      "cell_type": "code",
      "metadata": {
        "id": "PDnIHn2gkafm"
      },
      "source": [
        "# apply pandas str.match() function\n"
      ],
      "execution_count": null,
      "outputs": []
    },
    {
      "cell_type": "markdown",
      "metadata": {
        "id": "Yzf5cT2gkafm"
      },
      "source": [
        "cool right!\n",
        "\n",
        "You got some null values after applying above function. Lets drop them using dropna function. Also drop 'Unnamed: 0' column as it does not give any information.\n"
      ]
    },
    {
      "cell_type": "code",
      "metadata": {
        "id": "GpILYEOgkafn"
      },
      "source": [
        "#drop na and Unnamed: 0 column\n",
        "\n"
      ],
      "execution_count": null,
      "outputs": []
    },
    {
      "cell_type": "markdown",
      "metadata": {
        "id": "UzhKxPr9kafn"
      },
      "source": [
        "**3. sub() Function**\n",
        "\n",
        "Now you have filtered the dataset with 2739 rows. Let's remove all @ from tweet column suing re sub() function."
      ]
    },
    {
      "cell_type": "code",
      "metadata": {
        "id": "XOEu4SN5kafn"
      },
      "source": [
        "# create a function which takes tweet as parameter and applies regex on it\n",
        "\n",
        "\n",
        "\n",
        "#use apply function on tweet_data to use above function in order to remove @ from tweets\n",
        "\n",
        "#tweet_data head\n"
      ],
      "execution_count": null,
      "outputs": []
    },
    {
      "cell_type": "markdown",
      "metadata": {
        "id": "fbY7s3MMkafn"
      },
      "source": [
        "You can also use the sub function just in one line using list comprehension. Can you try doing it below?"
      ]
    },
    {
      "cell_type": "code",
      "metadata": {
        "id": "vTqCAxjFkafn"
      },
      "source": [
        "# sub() suing list comprehension\n"
      ],
      "execution_count": null,
      "outputs": []
    },
    {
      "cell_type": "markdown",
      "metadata": {
        "id": "orSj1u_ckafn"
      },
      "source": [
        "**4. split() Function**\n",
        "\n",
        "Lets now split the column target by making another column Name which has name before hyphen(\"-\")\n"
      ]
    },
    {
      "cell_type": "code",
      "metadata": {
        "id": "NFUtlKHFkafo"
      },
      "source": [
        "# create a function which takes target as parameter and applies regex on it\n",
        "\n",
        "\n",
        "#use apply function on tweet_data to use above function in order to create Name column\n",
        "\n",
        "#tweet_data head\n"
      ],
      "execution_count": null,
      "outputs": []
    },
    {
      "cell_type": "markdown",
      "metadata": {
        "id": "35sAJFmrkafo"
      },
      "source": [
        "Now can you filter out Name which are specially targetted for trump? Lets do it below and check how many such tweets are there."
      ]
    },
    {
      "cell_type": "code",
      "metadata": {
        "id": "olFobpsBkafo"
      },
      "source": [
        "#filter Name which is euqals to trump\n"
      ],
      "execution_count": null,
      "outputs": []
    },
    {
      "cell_type": "markdown",
      "metadata": {
        "id": "h27WAyjYkafo"
      },
      "source": [
        "So here you got total of 65 records which were  tweeted on Donald Trump in the span of 2020-2021. \n",
        "\n",
        "Well done buddy! You have learned how to apply regex on dataframes. Regex are mostly used for datasets which are having textual information."
      ]
    },
    {
      "cell_type": "markdown",
      "metadata": {
        "id": "__cWih9Okafo"
      },
      "source": [
        "Good job!  Now our interesting trump insult tweet data is somewhat cleaned. "
      ]
    },
    {
      "cell_type": "markdown",
      "metadata": {
        "id": "4SgrLjyDkqhy"
      },
      "source": [
        "---------------------------------\n",
        "\n",
        "# C'mon cheers:) you have completed the 5th milestone challenge too. \n",
        "\n",
        "--------------------------------"
      ]
    },
    {
      "cell_type": "markdown",
      "metadata": {
        "id": "CG6h_jBBkqhy"
      },
      "source": [
        "# FeedBack\n",
        "We hope you’ve enjoyed this course so far. We’re committed to help you use \"AI for All\" course to its full potential, so that you have a great learning experience. And that’s why we need your help in form of a feedback here.\n",
        "\n",
        "Please fill this feedback form https://docs.google.com/forms/d/e/1FAIpQLSfjBmH0yJSSA34IhSVx4h2eDMgOAeG4Dk-yHid__NMTk3Hq5g/viewform"
      ]
    }
  ]
}