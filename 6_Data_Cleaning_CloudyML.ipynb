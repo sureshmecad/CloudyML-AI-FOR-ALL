{
  "nbformat": 4,
  "nbformat_minor": 0,
  "metadata": {
    "colab": {
      "name": "6_Data Cleaning_CloudyML.ipynb",
      "provenance": [],
      "collapsed_sections": [
        "4SgrLjyDkqhy"
      ],
      "include_colab_link": true
    },
    "kernelspec": {
      "display_name": "Python 3",
      "language": "python",
      "name": "python3"
    },
    "language_info": {
      "codemirror_mode": {
        "name": "ipython",
        "version": 3
      },
      "file_extension": ".py",
      "mimetype": "text/x-python",
      "name": "python",
      "nbconvert_exporter": "python",
      "pygments_lexer": "ipython3",
      "version": "3.8.5"
    }
  },
  "cells": [
    {
      "cell_type": "markdown",
      "metadata": {
        "id": "view-in-github",
        "colab_type": "text"
      },
      "source": [
        "<a href=\"https://colab.research.google.com/github/sureshmecad/CloudyML-AI-FOR-ALL/blob/main/6_Data_Cleaning_CloudyML.ipynb\" target=\"_parent\"><img src=\"https://colab.research.google.com/assets/colab-badge.svg\" alt=\"Open In Colab\"/></a>"
      ]
    },
    {
      "cell_type": "markdown",
      "metadata": {
        "id": "rc6I3sagkqhR"
      },
      "source": [
        "# <center><u>Data Cleaning</u></center>"
      ]
    },
    {
      "cell_type": "markdown",
      "metadata": {
        "id": "h9sXOHkckqhY"
      },
      "source": [
        " Data cleaning is a part of the process on a data science project.\n",
        " \n",
        "Data cleaning is the process of fixing or removing incorrect, corrupted, incorrectly formatted, duplicate, or incomplete data within a dataset.\n",
        "<br>\n",
        "When you clean your data, all outdated or incorrect information is gone – leaving you with the highest quality information for your analysis and model building."
      ]
    },
    {
      "cell_type": "markdown",
      "metadata": {
        "id": "p0qd3D0Lkqhc"
      },
      "source": [
        "<p style='text-align: right;'> 4 points</p>\n"
      ]
    },
    {
      "cell_type": "code",
      "metadata": {
        "id": "wF_oQrRAkqhe"
      },
      "source": [
        "# import pandas and numpy with alias pd and np respectively\n"
      ],
      "execution_count": null,
      "outputs": []
    },
    {
      "cell_type": "markdown",
      "metadata": {
        "id": "7k4VuSAekqhe"
      },
      "source": [
        "Create a dataframe, d1 = pd.DataFrame( {‘Temperature’ : [1, np.nan, 3, 2, 3] ,’Humidity’ : [22, np.nan, 2 , np.nan, 20 ] })"
      ]
    },
    {
      "cell_type": "code",
      "metadata": {
        "id": "8fjpdGnskqhe"
      },
      "source": [
        "#create d1"
      ],
      "execution_count": null,
      "outputs": []
    },
    {
      "cell_type": "markdown",
      "metadata": {
        "id": "_6S2Agszkqhf"
      },
      "source": [
        "print the dataframe d1"
      ]
    },
    {
      "cell_type": "code",
      "metadata": {
        "colab": {
          "base_uri": "https://localhost:8080/",
          "height": 204
        },
        "id": "fauZD3xnkqhf",
        "outputId": "3d9adff3-434c-4fe1-a312-edc2c0dbb8b0"
      },
      "source": [
        "#print d1"
      ],
      "execution_count": null,
      "outputs": [
        {
          "output_type": "execute_result",
          "data": {
            "text/html": [
              "<div>\n",
              "<style scoped>\n",
              "    .dataframe tbody tr th:only-of-type {\n",
              "        vertical-align: middle;\n",
              "    }\n",
              "\n",
              "    .dataframe tbody tr th {\n",
              "        vertical-align: top;\n",
              "    }\n",
              "\n",
              "    .dataframe thead th {\n",
              "        text-align: right;\n",
              "    }\n",
              "</style>\n",
              "<table border=\"1\" class=\"dataframe\">\n",
              "  <thead>\n",
              "    <tr style=\"text-align: right;\">\n",
              "      <th></th>\n",
              "      <th>Temperature</th>\n",
              "      <th>Humidity</th>\n",
              "    </tr>\n",
              "  </thead>\n",
              "  <tbody>\n",
              "    <tr>\n",
              "      <th>0</th>\n",
              "      <td>1.0</td>\n",
              "      <td>22.0</td>\n",
              "    </tr>\n",
              "    <tr>\n",
              "      <th>1</th>\n",
              "      <td>NaN</td>\n",
              "      <td>NaN</td>\n",
              "    </tr>\n",
              "    <tr>\n",
              "      <th>2</th>\n",
              "      <td>3.0</td>\n",
              "      <td>2.0</td>\n",
              "    </tr>\n",
              "    <tr>\n",
              "      <th>3</th>\n",
              "      <td>2.0</td>\n",
              "      <td>NaN</td>\n",
              "    </tr>\n",
              "    <tr>\n",
              "      <th>4</th>\n",
              "      <td>3.0</td>\n",
              "      <td>20.0</td>\n",
              "    </tr>\n",
              "  </tbody>\n",
              "</table>\n",
              "</div>"
            ],
            "text/plain": [
              "   Temperature  Humidity\n",
              "0          1.0      22.0\n",
              "1          NaN       NaN\n",
              "2          3.0       2.0\n",
              "3          2.0       NaN\n",
              "4          3.0      20.0"
            ]
          },
          "metadata": {
            "tags": []
          },
          "execution_count": 3
        }
      ]
    },
    {
      "cell_type": "markdown",
      "metadata": {
        "id": "PIvW5svikqhg"
      },
      "source": [
        "Find whether the given dataframe contain any missing values? "
      ]
    },
    {
      "cell_type": "code",
      "metadata": {
        "colab": {
          "base_uri": "https://localhost:8080/",
          "height": 204
        },
        "id": "lJ3MiNk-kqhg",
        "outputId": "d58f5ba8-629f-42a0-d0af-065abfa0060f"
      },
      "source": [
        "#check for null"
      ],
      "execution_count": null,
      "outputs": [
        {
          "output_type": "execute_result",
          "data": {
            "text/html": [
              "<div>\n",
              "<style scoped>\n",
              "    .dataframe tbody tr th:only-of-type {\n",
              "        vertical-align: middle;\n",
              "    }\n",
              "\n",
              "    .dataframe tbody tr th {\n",
              "        vertical-align: top;\n",
              "    }\n",
              "\n",
              "    .dataframe thead th {\n",
              "        text-align: right;\n",
              "    }\n",
              "</style>\n",
              "<table border=\"1\" class=\"dataframe\">\n",
              "  <thead>\n",
              "    <tr style=\"text-align: right;\">\n",
              "      <th></th>\n",
              "      <th>Temperature</th>\n",
              "      <th>Humidity</th>\n",
              "    </tr>\n",
              "  </thead>\n",
              "  <tbody>\n",
              "    <tr>\n",
              "      <th>0</th>\n",
              "      <td>False</td>\n",
              "      <td>False</td>\n",
              "    </tr>\n",
              "    <tr>\n",
              "      <th>1</th>\n",
              "      <td>True</td>\n",
              "      <td>True</td>\n",
              "    </tr>\n",
              "    <tr>\n",
              "      <th>2</th>\n",
              "      <td>False</td>\n",
              "      <td>False</td>\n",
              "    </tr>\n",
              "    <tr>\n",
              "      <th>3</th>\n",
              "      <td>False</td>\n",
              "      <td>True</td>\n",
              "    </tr>\n",
              "    <tr>\n",
              "      <th>4</th>\n",
              "      <td>False</td>\n",
              "      <td>False</td>\n",
              "    </tr>\n",
              "  </tbody>\n",
              "</table>\n",
              "</div>"
            ],
            "text/plain": [
              "   Temperature  Humidity\n",
              "0        False     False\n",
              "1         True      True\n",
              "2        False     False\n",
              "3        False      True\n",
              "4        False     False"
            ]
          },
          "metadata": {
            "tags": []
          },
          "execution_count": 4
        }
      ]
    },
    {
      "cell_type": "markdown",
      "metadata": {
        "id": "1mR6mwjZkqhg"
      },
      "source": [
        "How many missing values does each column have?"
      ]
    },
    {
      "cell_type": "code",
      "metadata": {
        "colab": {
          "base_uri": "https://localhost:8080/"
        },
        "id": "GuttaqhSkqhg",
        "outputId": "2989b661-6473-4f16-b299-b3e815e00cf6"
      },
      "source": [
        "#total null"
      ],
      "execution_count": null,
      "outputs": [
        {
          "output_type": "execute_result",
          "data": {
            "text/plain": [
              "Temperature    1\n",
              "Humidity       2\n",
              "dtype: int64"
            ]
          },
          "metadata": {
            "tags": []
          },
          "execution_count": 5
        }
      ]
    },
    {
      "cell_type": "markdown",
      "metadata": {
        "id": "RdJX6nKdkqhh"
      },
      "source": [
        "## Dealing with missing values\n",
        "\n",
        "Refrence:-https://www.youtube.com/watch?v=xkRz6R0FlQ4\n",
        "\n",
        "<br>Now, we know we have missing values, the next thing that we need to work on, is how to deal with these missing values"
      ]
    },
    {
      "cell_type": "markdown",
      "metadata": {
        "id": "5iYTalWckqhh"
      },
      "source": [
        " - ## Method 1: Delete the rows which contain missing values.\n",
        " This method include dropping all the rows that have missing value in any column. "
      ]
    },
    {
      "cell_type": "markdown",
      "metadata": {
        "id": "D5OwrlkXkqhh"
      },
      "source": [
        " <p style='text-align: right;'> 20 points</p>"
      ]
    },
    {
      "cell_type": "markdown",
      "metadata": {
        "id": "sB425bYFkqhh"
      },
      "source": [
        "Use a suitable method to drop all the rows having missing values and save the change in d2 variable"
      ]
    },
    {
      "cell_type": "code",
      "metadata": {
        "id": "ms-0jJZpkqhh"
      },
      "source": [
        "d2=#drop nan"
      ],
      "execution_count": null,
      "outputs": []
    },
    {
      "cell_type": "markdown",
      "metadata": {
        "id": "uvJFaJ8bkqhi"
      },
      "source": [
        "Print d2"
      ]
    },
    {
      "cell_type": "code",
      "metadata": {
        "colab": {
          "base_uri": "https://localhost:8080/",
          "height": 142
        },
        "id": "YoXoAdXGkqhi",
        "outputId": "5d1dc740-6b5e-4c68-aa01-39ca26e0ae5b"
      },
      "source": [
        "#print nan"
      ],
      "execution_count": null,
      "outputs": [
        {
          "output_type": "execute_result",
          "data": {
            "text/html": [
              "<div>\n",
              "<style scoped>\n",
              "    .dataframe tbody tr th:only-of-type {\n",
              "        vertical-align: middle;\n",
              "    }\n",
              "\n",
              "    .dataframe tbody tr th {\n",
              "        vertical-align: top;\n",
              "    }\n",
              "\n",
              "    .dataframe thead th {\n",
              "        text-align: right;\n",
              "    }\n",
              "</style>\n",
              "<table border=\"1\" class=\"dataframe\">\n",
              "  <thead>\n",
              "    <tr style=\"text-align: right;\">\n",
              "      <th></th>\n",
              "      <th>Temperature</th>\n",
              "      <th>Humidity</th>\n",
              "    </tr>\n",
              "  </thead>\n",
              "  <tbody>\n",
              "    <tr>\n",
              "      <th>0</th>\n",
              "      <td>1.0</td>\n",
              "      <td>22.0</td>\n",
              "    </tr>\n",
              "    <tr>\n",
              "      <th>2</th>\n",
              "      <td>3.0</td>\n",
              "      <td>2.0</td>\n",
              "    </tr>\n",
              "    <tr>\n",
              "      <th>4</th>\n",
              "      <td>3.0</td>\n",
              "      <td>20.0</td>\n",
              "    </tr>\n",
              "  </tbody>\n",
              "</table>\n",
              "</div>"
            ],
            "text/plain": [
              "   Temperature  Humidity\n",
              "0          1.0      22.0\n",
              "2          3.0       2.0\n",
              "4          3.0      20.0"
            ]
          },
          "metadata": {
            "tags": []
          },
          "execution_count": 7
        }
      ]
    },
    {
      "cell_type": "markdown",
      "metadata": {
        "id": "_BYBoQIFkqhi"
      },
      "source": [
        "Hey Remember : droping rows with nan is one of the method to deal with missing values. But you have to decide if you need to go for this method by checking percentage of nan present in the dataframe.\n",
        "\n",
        "If a column is having more than 60% of nan values then its better to remove such variables altogether if business permits "
      ]
    },
    {
      "cell_type": "markdown",
      "metadata": {
        "id": "0E0Gyw0mkqhi"
      },
      "source": [
        "- ## Method 2: Replacing missing values\n",
        "Sometimes rather than dropping NA values, you'd rather replace them with a valid value. This value might be a single number like zero, or it might be some sort of imputation or interpolation"
      ]
    },
    {
      "cell_type": "markdown",
      "metadata": {
        "id": "JsESq_JNkqhi"
      },
      "source": [
        "<p style='text-align: right;'> 30 points</p>\n"
      ]
    },
    {
      "cell_type": "markdown",
      "metadata": {
        "id": "rwg-9c8ukqhj"
      },
      "source": [
        "Impute the missing values with constant number of your choice"
      ]
    },
    {
      "cell_type": "code",
      "metadata": {
        "colab": {
          "base_uri": "https://localhost:8080/",
          "height": 204
        },
        "id": "CCzT8A-4kqhj",
        "outputId": "1fb8fdea-b178-4e43-afd6-6bd5130c0d80"
      },
      "source": [
        "# The below output has imputed missing  values with 100\n",
        "\n",
        "\n"
      ],
      "execution_count": null,
      "outputs": [
        {
          "output_type": "execute_result",
          "data": {
            "text/html": [
              "<div>\n",
              "<style scoped>\n",
              "    .dataframe tbody tr th:only-of-type {\n",
              "        vertical-align: middle;\n",
              "    }\n",
              "\n",
              "    .dataframe tbody tr th {\n",
              "        vertical-align: top;\n",
              "    }\n",
              "\n",
              "    .dataframe thead th {\n",
              "        text-align: right;\n",
              "    }\n",
              "</style>\n",
              "<table border=\"1\" class=\"dataframe\">\n",
              "  <thead>\n",
              "    <tr style=\"text-align: right;\">\n",
              "      <th></th>\n",
              "      <th>Temperature</th>\n",
              "      <th>Humidity</th>\n",
              "    </tr>\n",
              "  </thead>\n",
              "  <tbody>\n",
              "    <tr>\n",
              "      <th>0</th>\n",
              "      <td>1.0</td>\n",
              "      <td>22.0</td>\n",
              "    </tr>\n",
              "    <tr>\n",
              "      <th>1</th>\n",
              "      <td>100.0</td>\n",
              "      <td>100.0</td>\n",
              "    </tr>\n",
              "    <tr>\n",
              "      <th>2</th>\n",
              "      <td>3.0</td>\n",
              "      <td>2.0</td>\n",
              "    </tr>\n",
              "    <tr>\n",
              "      <th>3</th>\n",
              "      <td>2.0</td>\n",
              "      <td>100.0</td>\n",
              "    </tr>\n",
              "    <tr>\n",
              "      <th>4</th>\n",
              "      <td>3.0</td>\n",
              "      <td>20.0</td>\n",
              "    </tr>\n",
              "  </tbody>\n",
              "</table>\n",
              "</div>"
            ],
            "text/plain": [
              "   Temperature  Humidity\n",
              "0          1.0      22.0\n",
              "1        100.0     100.0\n",
              "2          3.0       2.0\n",
              "3          2.0     100.0\n",
              "4          3.0      20.0"
            ]
          },
          "metadata": {
            "tags": []
          },
          "execution_count": 8
        }
      ]
    },
    {
      "cell_type": "markdown",
      "metadata": {
        "id": "Owk-O3CZkqhj"
      },
      "source": [
        "Do you think its a  good way to treat Nan values? What if such constant values are not suitable for our further analysis?\n",
        "Try to give your thoughts on this."
      ]
    },
    {
      "cell_type": "code",
      "metadata": {
        "id": "4Vn0HNw4kqhj"
      },
      "source": [
        ""
      ],
      "execution_count": null,
      "outputs": []
    },
    {
      "cell_type": "markdown",
      "metadata": {
        "id": "rHxP4ad7kqhj"
      },
      "source": [
        "Impute the missing values with mean"
      ]
    },
    {
      "cell_type": "code",
      "metadata": {
        "colab": {
          "base_uri": "https://localhost:8080/",
          "height": 204
        },
        "id": "FKB7R8Takqhk",
        "outputId": "713b08d2-a3e2-4b70-a90a-72d7a8eba224"
      },
      "source": [
        "#  imputing mean\n"
      ],
      "execution_count": null,
      "outputs": [
        {
          "output_type": "execute_result",
          "data": {
            "text/html": [
              "<div>\n",
              "<style scoped>\n",
              "    .dataframe tbody tr th:only-of-type {\n",
              "        vertical-align: middle;\n",
              "    }\n",
              "\n",
              "    .dataframe tbody tr th {\n",
              "        vertical-align: top;\n",
              "    }\n",
              "\n",
              "    .dataframe thead th {\n",
              "        text-align: right;\n",
              "    }\n",
              "</style>\n",
              "<table border=\"1\" class=\"dataframe\">\n",
              "  <thead>\n",
              "    <tr style=\"text-align: right;\">\n",
              "      <th></th>\n",
              "      <th>Temperature</th>\n",
              "      <th>Humidity</th>\n",
              "    </tr>\n",
              "  </thead>\n",
              "  <tbody>\n",
              "    <tr>\n",
              "      <th>0</th>\n",
              "      <td>1.00</td>\n",
              "      <td>22.000000</td>\n",
              "    </tr>\n",
              "    <tr>\n",
              "      <th>1</th>\n",
              "      <td>2.25</td>\n",
              "      <td>14.666667</td>\n",
              "    </tr>\n",
              "    <tr>\n",
              "      <th>2</th>\n",
              "      <td>3.00</td>\n",
              "      <td>2.000000</td>\n",
              "    </tr>\n",
              "    <tr>\n",
              "      <th>3</th>\n",
              "      <td>2.00</td>\n",
              "      <td>14.666667</td>\n",
              "    </tr>\n",
              "    <tr>\n",
              "      <th>4</th>\n",
              "      <td>3.00</td>\n",
              "      <td>20.000000</td>\n",
              "    </tr>\n",
              "  </tbody>\n",
              "</table>\n",
              "</div>"
            ],
            "text/plain": [
              "   Temperature   Humidity\n",
              "0         1.00  22.000000\n",
              "1         2.25  14.666667\n",
              "2         3.00   2.000000\n",
              "3         2.00  14.666667\n",
              "4         3.00  20.000000"
            ]
          },
          "metadata": {
            "tags": []
          },
          "execution_count": 9
        }
      ]
    },
    {
      "cell_type": "markdown",
      "metadata": {
        "id": "wzwa_GzRkqhk"
      },
      "source": [
        "Impute the missing values with median"
      ]
    },
    {
      "cell_type": "code",
      "metadata": {
        "colab": {
          "base_uri": "https://localhost:8080/",
          "height": 204
        },
        "id": "CrDrortKkqhk",
        "outputId": "604ad45a-6dea-4511-cf96-3b7ba815886d"
      },
      "source": [
        "#median imputing"
      ],
      "execution_count": null,
      "outputs": [
        {
          "output_type": "execute_result",
          "data": {
            "text/html": [
              "<div>\n",
              "<style scoped>\n",
              "    .dataframe tbody tr th:only-of-type {\n",
              "        vertical-align: middle;\n",
              "    }\n",
              "\n",
              "    .dataframe tbody tr th {\n",
              "        vertical-align: top;\n",
              "    }\n",
              "\n",
              "    .dataframe thead th {\n",
              "        text-align: right;\n",
              "    }\n",
              "</style>\n",
              "<table border=\"1\" class=\"dataframe\">\n",
              "  <thead>\n",
              "    <tr style=\"text-align: right;\">\n",
              "      <th></th>\n",
              "      <th>Temperature</th>\n",
              "      <th>Humidity</th>\n",
              "    </tr>\n",
              "  </thead>\n",
              "  <tbody>\n",
              "    <tr>\n",
              "      <th>0</th>\n",
              "      <td>1.0</td>\n",
              "      <td>22.0</td>\n",
              "    </tr>\n",
              "    <tr>\n",
              "      <th>1</th>\n",
              "      <td>2.5</td>\n",
              "      <td>20.0</td>\n",
              "    </tr>\n",
              "    <tr>\n",
              "      <th>2</th>\n",
              "      <td>3.0</td>\n",
              "      <td>2.0</td>\n",
              "    </tr>\n",
              "    <tr>\n",
              "      <th>3</th>\n",
              "      <td>2.0</td>\n",
              "      <td>20.0</td>\n",
              "    </tr>\n",
              "    <tr>\n",
              "      <th>4</th>\n",
              "      <td>3.0</td>\n",
              "      <td>20.0</td>\n",
              "    </tr>\n",
              "  </tbody>\n",
              "</table>\n",
              "</div>"
            ],
            "text/plain": [
              "   Temperature  Humidity\n",
              "0          1.0      22.0\n",
              "1          2.5      20.0\n",
              "2          3.0       2.0\n",
              "3          2.0      20.0\n",
              "4          3.0      20.0"
            ]
          },
          "metadata": {
            "tags": []
          },
          "execution_count": 10
        }
      ]
    },
    {
      "cell_type": "markdown",
      "metadata": {
        "id": "PRzK4otMkqhk"
      },
      "source": [
        "Replacing with the mean, mode or median approximations are a statistical approach of handling the missing values.\n",
        "\n",
        "Another Fun fact:\n",
        "    \n",
        "    This is an approximation which can add variance to the data set. But the loss of the data can be negated by this method which yields better results compared to removal of rows and columns."
      ]
    },
    {
      "cell_type": "markdown",
      "metadata": {
        "id": "GMtx5Urqkqhk"
      },
      "source": [
        "Impute Nan with forward fill"
      ]
    },
    {
      "cell_type": "code",
      "metadata": {
        "colab": {
          "base_uri": "https://localhost:8080/",
          "height": 204
        },
        "id": "te5396qBkqhl",
        "outputId": "4e6e687d-271d-4f76-c7f9-e7a9c1e1eff7"
      },
      "source": [
        "#forward fill"
      ],
      "execution_count": null,
      "outputs": [
        {
          "output_type": "execute_result",
          "data": {
            "text/html": [
              "<div>\n",
              "<style scoped>\n",
              "    .dataframe tbody tr th:only-of-type {\n",
              "        vertical-align: middle;\n",
              "    }\n",
              "\n",
              "    .dataframe tbody tr th {\n",
              "        vertical-align: top;\n",
              "    }\n",
              "\n",
              "    .dataframe thead th {\n",
              "        text-align: right;\n",
              "    }\n",
              "</style>\n",
              "<table border=\"1\" class=\"dataframe\">\n",
              "  <thead>\n",
              "    <tr style=\"text-align: right;\">\n",
              "      <th></th>\n",
              "      <th>Temperature</th>\n",
              "      <th>Humidity</th>\n",
              "    </tr>\n",
              "  </thead>\n",
              "  <tbody>\n",
              "    <tr>\n",
              "      <th>0</th>\n",
              "      <td>1.0</td>\n",
              "      <td>22.0</td>\n",
              "    </tr>\n",
              "    <tr>\n",
              "      <th>1</th>\n",
              "      <td>1.0</td>\n",
              "      <td>22.0</td>\n",
              "    </tr>\n",
              "    <tr>\n",
              "      <th>2</th>\n",
              "      <td>3.0</td>\n",
              "      <td>2.0</td>\n",
              "    </tr>\n",
              "    <tr>\n",
              "      <th>3</th>\n",
              "      <td>2.0</td>\n",
              "      <td>2.0</td>\n",
              "    </tr>\n",
              "    <tr>\n",
              "      <th>4</th>\n",
              "      <td>3.0</td>\n",
              "      <td>20.0</td>\n",
              "    </tr>\n",
              "  </tbody>\n",
              "</table>\n",
              "</div>"
            ],
            "text/plain": [
              "   Temperature  Humidity\n",
              "0          1.0      22.0\n",
              "1          1.0      22.0\n",
              "2          3.0       2.0\n",
              "3          2.0       2.0\n",
              "4          3.0      20.0"
            ]
          },
          "metadata": {
            "tags": []
          },
          "execution_count": 11
        }
      ]
    },
    {
      "cell_type": "markdown",
      "metadata": {
        "id": "eH05-uFJkqhl"
      },
      "source": [
        "Impute Nan with backward fill"
      ]
    },
    {
      "cell_type": "code",
      "metadata": {
        "colab": {
          "base_uri": "https://localhost:8080/",
          "height": 204
        },
        "id": "8qRteICGkqhl",
        "outputId": "4d5c0c21-3f4c-4966-a4fe-2aab3d998927"
      },
      "source": [
        "#backward fill"
      ],
      "execution_count": null,
      "outputs": [
        {
          "output_type": "execute_result",
          "data": {
            "text/html": [
              "<div>\n",
              "<style scoped>\n",
              "    .dataframe tbody tr th:only-of-type {\n",
              "        vertical-align: middle;\n",
              "    }\n",
              "\n",
              "    .dataframe tbody tr th {\n",
              "        vertical-align: top;\n",
              "    }\n",
              "\n",
              "    .dataframe thead th {\n",
              "        text-align: right;\n",
              "    }\n",
              "</style>\n",
              "<table border=\"1\" class=\"dataframe\">\n",
              "  <thead>\n",
              "    <tr style=\"text-align: right;\">\n",
              "      <th></th>\n",
              "      <th>Temperature</th>\n",
              "      <th>Humidity</th>\n",
              "    </tr>\n",
              "  </thead>\n",
              "  <tbody>\n",
              "    <tr>\n",
              "      <th>0</th>\n",
              "      <td>1.0</td>\n",
              "      <td>22.0</td>\n",
              "    </tr>\n",
              "    <tr>\n",
              "      <th>1</th>\n",
              "      <td>3.0</td>\n",
              "      <td>2.0</td>\n",
              "    </tr>\n",
              "    <tr>\n",
              "      <th>2</th>\n",
              "      <td>3.0</td>\n",
              "      <td>2.0</td>\n",
              "    </tr>\n",
              "    <tr>\n",
              "      <th>3</th>\n",
              "      <td>2.0</td>\n",
              "      <td>20.0</td>\n",
              "    </tr>\n",
              "    <tr>\n",
              "      <th>4</th>\n",
              "      <td>3.0</td>\n",
              "      <td>20.0</td>\n",
              "    </tr>\n",
              "  </tbody>\n",
              "</table>\n",
              "</div>"
            ],
            "text/plain": [
              "   Temperature  Humidity\n",
              "0          1.0      22.0\n",
              "1          3.0       2.0\n",
              "2          3.0       2.0\n",
              "3          2.0      20.0\n",
              "4          3.0      20.0"
            ]
          },
          "metadata": {
            "tags": []
          },
          "execution_count": 12
        }
      ]
    },
    {
      "cell_type": "markdown",
      "metadata": {
        "id": "b9M8GD2Jkqhl"
      },
      "source": [
        "Hey a fun fact here, as sweet as a cookie:\n",
        "\n",
        "- ffill/pad/bfill are good imputation method if our data is of time series. This would keep the trend unaffected for our analysis."
      ]
    },
    {
      "cell_type": "markdown",
      "metadata": {
        "id": "x5J30Hulkqhl"
      },
      "source": [
        "Impute nan using interpolation method"
      ]
    },
    {
      "cell_type": "code",
      "metadata": {
        "colab": {
          "base_uri": "https://localhost:8080/",
          "height": 204
        },
        "id": "TM3KAAC0kqhl",
        "outputId": "47d8b518-99b8-4bec-8e84-80d336a22e6e"
      },
      "source": [
        "#interpolate"
      ],
      "execution_count": null,
      "outputs": [
        {
          "output_type": "execute_result",
          "data": {
            "text/html": [
              "<div>\n",
              "<style scoped>\n",
              "    .dataframe tbody tr th:only-of-type {\n",
              "        vertical-align: middle;\n",
              "    }\n",
              "\n",
              "    .dataframe tbody tr th {\n",
              "        vertical-align: top;\n",
              "    }\n",
              "\n",
              "    .dataframe thead th {\n",
              "        text-align: right;\n",
              "    }\n",
              "</style>\n",
              "<table border=\"1\" class=\"dataframe\">\n",
              "  <thead>\n",
              "    <tr style=\"text-align: right;\">\n",
              "      <th></th>\n",
              "      <th>Temperature</th>\n",
              "      <th>Humidity</th>\n",
              "    </tr>\n",
              "  </thead>\n",
              "  <tbody>\n",
              "    <tr>\n",
              "      <th>0</th>\n",
              "      <td>1.0</td>\n",
              "      <td>22.0</td>\n",
              "    </tr>\n",
              "    <tr>\n",
              "      <th>1</th>\n",
              "      <td>2.0</td>\n",
              "      <td>12.0</td>\n",
              "    </tr>\n",
              "    <tr>\n",
              "      <th>2</th>\n",
              "      <td>3.0</td>\n",
              "      <td>2.0</td>\n",
              "    </tr>\n",
              "    <tr>\n",
              "      <th>3</th>\n",
              "      <td>2.0</td>\n",
              "      <td>11.0</td>\n",
              "    </tr>\n",
              "    <tr>\n",
              "      <th>4</th>\n",
              "      <td>3.0</td>\n",
              "      <td>20.0</td>\n",
              "    </tr>\n",
              "  </tbody>\n",
              "</table>\n",
              "</div>"
            ],
            "text/plain": [
              "   Temperature  Humidity\n",
              "0          1.0      22.0\n",
              "1          2.0      12.0\n",
              "2          3.0       2.0\n",
              "3          2.0      11.0\n",
              "4          3.0      20.0"
            ]
          },
          "metadata": {
            "tags": []
          },
          "execution_count": 13
        }
      ]
    },
    {
      "cell_type": "markdown",
      "metadata": {
        "id": "RU3U6gp9kqhm"
      },
      "source": [
        "You lucky champ! you got to know another amazing fact:\n",
        " - Interpolation method by default is linear in nature. It is an imputation technique that assumes a linear relationship between data points and utilises non-missing values from adjacent data points to compute a value for a missing data point.\n",
        "\n",
        "\n",
        "You can explore other techniques involved in interplolation method, which might be usefull for your project."
      ]
    },
    {
      "cell_type": "markdown",
      "metadata": {
        "id": "o8_jyqTskqhm"
      },
      "source": [
        "Perform KNN imputation\n",
        "\n",
        "Reference: https://link.medium.com/mV3023if8gb"
      ]
    },
    {
      "cell_type": "code",
      "metadata": {
        "colab": {
          "base_uri": "https://localhost:8080/",
          "height": 204
        },
        "id": "_8fxGCuUkqhm",
        "outputId": "8025923e-e7f3-43be-8e50-7e5f5a2472e4"
      },
      "source": [
        "# Hint: Import KNNImputer and impute it on d1. Also note: Use n_neighbors=2\n"
      ],
      "execution_count": null,
      "outputs": [
        {
          "output_type": "execute_result",
          "data": {
            "text/html": [
              "<div>\n",
              "<style scoped>\n",
              "    .dataframe tbody tr th:only-of-type {\n",
              "        vertical-align: middle;\n",
              "    }\n",
              "\n",
              "    .dataframe tbody tr th {\n",
              "        vertical-align: top;\n",
              "    }\n",
              "\n",
              "    .dataframe thead th {\n",
              "        text-align: right;\n",
              "    }\n",
              "</style>\n",
              "<table border=\"1\" class=\"dataframe\">\n",
              "  <thead>\n",
              "    <tr style=\"text-align: right;\">\n",
              "      <th></th>\n",
              "      <th>Temperature</th>\n",
              "      <th>Humidity</th>\n",
              "    </tr>\n",
              "  </thead>\n",
              "  <tbody>\n",
              "    <tr>\n",
              "      <th>0</th>\n",
              "      <td>1.00</td>\n",
              "      <td>22.000000</td>\n",
              "    </tr>\n",
              "    <tr>\n",
              "      <th>1</th>\n",
              "      <td>2.25</td>\n",
              "      <td>14.666667</td>\n",
              "    </tr>\n",
              "    <tr>\n",
              "      <th>2</th>\n",
              "      <td>3.00</td>\n",
              "      <td>2.000000</td>\n",
              "    </tr>\n",
              "    <tr>\n",
              "      <th>3</th>\n",
              "      <td>2.00</td>\n",
              "      <td>12.000000</td>\n",
              "    </tr>\n",
              "    <tr>\n",
              "      <th>4</th>\n",
              "      <td>3.00</td>\n",
              "      <td>20.000000</td>\n",
              "    </tr>\n",
              "  </tbody>\n",
              "</table>\n",
              "</div>"
            ],
            "text/plain": [
              "   Temperature   Humidity\n",
              "0         1.00  22.000000\n",
              "1         2.25  14.666667\n",
              "2         3.00   2.000000\n",
              "3         2.00  12.000000\n",
              "4         3.00  20.000000"
            ]
          },
          "metadata": {
            "tags": []
          },
          "execution_count": 14
        }
      ]
    },
    {
      "cell_type": "markdown",
      "metadata": {
        "id": "sESbshdUkqhm"
      },
      "source": [
        "Point to ponder: KNN is an algorithm that is useful for matching a point with its closest k neighbors in a multi-dimensional space.\n",
        "\n",
        "Do you think scaling is required to implement this method?. Yes you are right the answer is YES.\n",
        "Can you comment below why normalized data is required, so that we understand your logic on this."
      ]
    },
    {
      "cell_type": "markdown",
      "metadata": {
        "id": "xEL5JbBYkqhm"
      },
      "source": [
        "It requires us to normalize our data. Otherwise, the different scales of our data will lead the KNN Imputer to generate biased replacements for the missing values."
      ]
    },
    {
      "cell_type": "markdown",
      "metadata": {
        "id": "ReGk1Utckqhn"
      },
      "source": [
        "# Dropping Irrelevant Columns\n",
        "\n",
        "Reference:-https://www.youtube.com/watch?v=cRurWEfmxC0"
      ]
    },
    {
      "cell_type": "markdown",
      "metadata": {
        "id": "xZuUMHb3kqhn"
      },
      "source": [
        "<p style='text-align: right;'> 5 points</p>\n"
      ]
    },
    {
      "cell_type": "markdown",
      "metadata": {
        "id": "rJZ0HZJPkqhn"
      },
      "source": [
        "Create a dataframe df = pd.DataFrame(np.random.randint(0,100,size=(100, 5)), columns=list('ABCDE'))\n"
      ]
    },
    {
      "cell_type": "code",
      "metadata": {
        "id": "XtENCthAkqhn"
      },
      "source": [
        "np.random.seed(10)\n",
        "\n",
        "df = #define df\n"
      ],
      "execution_count": null,
      "outputs": []
    },
    {
      "cell_type": "markdown",
      "metadata": {
        "id": "bUQ0M4CKkqhn"
      },
      "source": [
        "print df"
      ]
    },
    {
      "cell_type": "code",
      "metadata": {
        "colab": {
          "base_uri": "https://localhost:8080/",
          "height": 419
        },
        "id": "iuFh13J_kqho",
        "outputId": "f3a0e545-f74b-4667-d539-32adc92fba63"
      },
      "source": [
        "print df"
      ],
      "execution_count": null,
      "outputs": [
        {
          "output_type": "execute_result",
          "data": {
            "text/html": [
              "<div>\n",
              "<style scoped>\n",
              "    .dataframe tbody tr th:only-of-type {\n",
              "        vertical-align: middle;\n",
              "    }\n",
              "\n",
              "    .dataframe tbody tr th {\n",
              "        vertical-align: top;\n",
              "    }\n",
              "\n",
              "    .dataframe thead th {\n",
              "        text-align: right;\n",
              "    }\n",
              "</style>\n",
              "<table border=\"1\" class=\"dataframe\">\n",
              "  <thead>\n",
              "    <tr style=\"text-align: right;\">\n",
              "      <th></th>\n",
              "      <th>A</th>\n",
              "      <th>B</th>\n",
              "      <th>C</th>\n",
              "      <th>D</th>\n",
              "      <th>E</th>\n",
              "    </tr>\n",
              "  </thead>\n",
              "  <tbody>\n",
              "    <tr>\n",
              "      <th>0</th>\n",
              "      <td>9</td>\n",
              "      <td>15</td>\n",
              "      <td>64</td>\n",
              "      <td>28</td>\n",
              "      <td>89</td>\n",
              "    </tr>\n",
              "    <tr>\n",
              "      <th>1</th>\n",
              "      <td>93</td>\n",
              "      <td>29</td>\n",
              "      <td>8</td>\n",
              "      <td>73</td>\n",
              "      <td>0</td>\n",
              "    </tr>\n",
              "    <tr>\n",
              "      <th>2</th>\n",
              "      <td>40</td>\n",
              "      <td>36</td>\n",
              "      <td>16</td>\n",
              "      <td>11</td>\n",
              "      <td>54</td>\n",
              "    </tr>\n",
              "    <tr>\n",
              "      <th>3</th>\n",
              "      <td>88</td>\n",
              "      <td>62</td>\n",
              "      <td>33</td>\n",
              "      <td>72</td>\n",
              "      <td>78</td>\n",
              "    </tr>\n",
              "    <tr>\n",
              "      <th>4</th>\n",
              "      <td>49</td>\n",
              "      <td>51</td>\n",
              "      <td>54</td>\n",
              "      <td>77</td>\n",
              "      <td>69</td>\n",
              "    </tr>\n",
              "    <tr>\n",
              "      <th>...</th>\n",
              "      <td>...</td>\n",
              "      <td>...</td>\n",
              "      <td>...</td>\n",
              "      <td>...</td>\n",
              "      <td>...</td>\n",
              "    </tr>\n",
              "    <tr>\n",
              "      <th>95</th>\n",
              "      <td>3</td>\n",
              "      <td>50</td>\n",
              "      <td>59</td>\n",
              "      <td>34</td>\n",
              "      <td>21</td>\n",
              "    </tr>\n",
              "    <tr>\n",
              "      <th>96</th>\n",
              "      <td>16</td>\n",
              "      <td>18</td>\n",
              "      <td>61</td>\n",
              "      <td>54</td>\n",
              "      <td>60</td>\n",
              "    </tr>\n",
              "    <tr>\n",
              "      <th>97</th>\n",
              "      <td>21</td>\n",
              "      <td>87</td>\n",
              "      <td>83</td>\n",
              "      <td>71</td>\n",
              "      <td>16</td>\n",
              "    </tr>\n",
              "    <tr>\n",
              "      <th>98</th>\n",
              "      <td>67</td>\n",
              "      <td>38</td>\n",
              "      <td>27</td>\n",
              "      <td>96</td>\n",
              "      <td>87</td>\n",
              "    </tr>\n",
              "    <tr>\n",
              "      <th>99</th>\n",
              "      <td>98</td>\n",
              "      <td>89</td>\n",
              "      <td>16</td>\n",
              "      <td>82</td>\n",
              "      <td>19</td>\n",
              "    </tr>\n",
              "  </tbody>\n",
              "</table>\n",
              "<p>100 rows × 5 columns</p>\n",
              "</div>"
            ],
            "text/plain": [
              "     A   B   C   D   E\n",
              "0    9  15  64  28  89\n",
              "1   93  29   8  73   0\n",
              "2   40  36  16  11  54\n",
              "3   88  62  33  72  78\n",
              "4   49  51  54  77  69\n",
              "..  ..  ..  ..  ..  ..\n",
              "95   3  50  59  34  21\n",
              "96  16  18  61  54  60\n",
              "97  21  87  83  71  16\n",
              "98  67  38  27  96  87\n",
              "99  98  89  16  82  19\n",
              "\n",
              "[100 rows x 5 columns]"
            ]
          },
          "metadata": {
            "tags": []
          },
          "execution_count": 16
        }
      ]
    },
    {
      "cell_type": "markdown",
      "metadata": {
        "id": "cctu8rh5lL9j"
      },
      "source": [
        "Note: Since all the rows are having random numbers, your dataframe observations might be different than the output given above"
      ]
    },
    {
      "cell_type": "markdown",
      "metadata": {
        "id": "wwTEQf2Jkqho"
      },
      "source": [
        "Suppose for our analysis our project do not require column E. So you need to remove this column. update this new change using inplace parameter"
      ]
    },
    {
      "cell_type": "code",
      "metadata": {
        "id": "6dPLhUwikqho"
      },
      "source": [
        "#drop E"
      ],
      "execution_count": null,
      "outputs": []
    },
    {
      "cell_type": "markdown",
      "metadata": {
        "id": "1rtM-5APkqho"
      },
      "source": [
        "Check if column **E** is removed by printing head of df"
      ]
    },
    {
      "cell_type": "code",
      "metadata": {
        "colab": {
          "base_uri": "https://localhost:8080/",
          "height": 204
        },
        "id": "yvEa_vfOkqhp",
        "outputId": "430c55a4-3c69-4a95-8d7b-29f1a8911882"
      },
      "source": [
        "#df head"
      ],
      "execution_count": null,
      "outputs": [
        {
          "output_type": "execute_result",
          "data": {
            "text/html": [
              "<div>\n",
              "<style scoped>\n",
              "    .dataframe tbody tr th:only-of-type {\n",
              "        vertical-align: middle;\n",
              "    }\n",
              "\n",
              "    .dataframe tbody tr th {\n",
              "        vertical-align: top;\n",
              "    }\n",
              "\n",
              "    .dataframe thead th {\n",
              "        text-align: right;\n",
              "    }\n",
              "</style>\n",
              "<table border=\"1\" class=\"dataframe\">\n",
              "  <thead>\n",
              "    <tr style=\"text-align: right;\">\n",
              "      <th></th>\n",
              "      <th>A</th>\n",
              "      <th>B</th>\n",
              "      <th>C</th>\n",
              "      <th>D</th>\n",
              "    </tr>\n",
              "  </thead>\n",
              "  <tbody>\n",
              "    <tr>\n",
              "      <th>0</th>\n",
              "      <td>9</td>\n",
              "      <td>15</td>\n",
              "      <td>64</td>\n",
              "      <td>28</td>\n",
              "    </tr>\n",
              "    <tr>\n",
              "      <th>1</th>\n",
              "      <td>93</td>\n",
              "      <td>29</td>\n",
              "      <td>8</td>\n",
              "      <td>73</td>\n",
              "    </tr>\n",
              "    <tr>\n",
              "      <th>2</th>\n",
              "      <td>40</td>\n",
              "      <td>36</td>\n",
              "      <td>16</td>\n",
              "      <td>11</td>\n",
              "    </tr>\n",
              "    <tr>\n",
              "      <th>3</th>\n",
              "      <td>88</td>\n",
              "      <td>62</td>\n",
              "      <td>33</td>\n",
              "      <td>72</td>\n",
              "    </tr>\n",
              "    <tr>\n",
              "      <th>4</th>\n",
              "      <td>49</td>\n",
              "      <td>51</td>\n",
              "      <td>54</td>\n",
              "      <td>77</td>\n",
              "    </tr>\n",
              "  </tbody>\n",
              "</table>\n",
              "</div>"
            ],
            "text/plain": [
              "    A   B   C   D\n",
              "0   9  15  64  28\n",
              "1  93  29   8  73\n",
              "2  40  36  16  11\n",
              "3  88  62  33  72\n",
              "4  49  51  54  77"
            ]
          },
          "metadata": {
            "tags": []
          },
          "execution_count": 18
        }
      ]
    },
    {
      "cell_type": "markdown",
      "metadata": {
        "id": "XQDwFmMKkqhq"
      },
      "source": [
        "# Ensure requirements as per domain\n",
        "\n",
        "Reference:-https://www.youtube.com/watch?v=eM7p3MVLOZ8"
      ]
    },
    {
      "cell_type": "markdown",
      "metadata": {
        "id": "uN5BNC29kqhq"
      },
      "source": [
        "<p style='text-align: right;'> 10 points</p>\n"
      ]
    },
    {
      "cell_type": "markdown",
      "metadata": {
        "id": "V1LgaSKOjnPm"
      },
      "source": [
        "\n",
        "Shallow copy the dataframe df in variable df2 and print df2 head\n",
        "\n",
        "\n",
        "\n",
        "\n"
      ]
    },
    {
      "cell_type": "code",
      "metadata": {
        "colab": {
          "base_uri": "https://localhost:8080/",
          "height": 204
        },
        "id": "uFK6ZRVZjTAt",
        "outputId": "f555e7df-aed0-4bbf-95fb-09e404a44e83"
      },
      "source": [
        "df2=#\n",
        "\n",
        "#df2 head\n"
      ],
      "execution_count": null,
      "outputs": [
        {
          "output_type": "execute_result",
          "data": {
            "text/html": [
              "<div>\n",
              "<style scoped>\n",
              "    .dataframe tbody tr th:only-of-type {\n",
              "        vertical-align: middle;\n",
              "    }\n",
              "\n",
              "    .dataframe tbody tr th {\n",
              "        vertical-align: top;\n",
              "    }\n",
              "\n",
              "    .dataframe thead th {\n",
              "        text-align: right;\n",
              "    }\n",
              "</style>\n",
              "<table border=\"1\" class=\"dataframe\">\n",
              "  <thead>\n",
              "    <tr style=\"text-align: right;\">\n",
              "      <th></th>\n",
              "      <th>A</th>\n",
              "      <th>B</th>\n",
              "      <th>C</th>\n",
              "      <th>D</th>\n",
              "    </tr>\n",
              "  </thead>\n",
              "  <tbody>\n",
              "    <tr>\n",
              "      <th>0</th>\n",
              "      <td>9</td>\n",
              "      <td>15</td>\n",
              "      <td>64</td>\n",
              "      <td>28</td>\n",
              "    </tr>\n",
              "    <tr>\n",
              "      <th>1</th>\n",
              "      <td>93</td>\n",
              "      <td>29</td>\n",
              "      <td>8</td>\n",
              "      <td>73</td>\n",
              "    </tr>\n",
              "    <tr>\n",
              "      <th>2</th>\n",
              "      <td>40</td>\n",
              "      <td>36</td>\n",
              "      <td>16</td>\n",
              "      <td>11</td>\n",
              "    </tr>\n",
              "    <tr>\n",
              "      <th>3</th>\n",
              "      <td>88</td>\n",
              "      <td>62</td>\n",
              "      <td>33</td>\n",
              "      <td>72</td>\n",
              "    </tr>\n",
              "    <tr>\n",
              "      <th>4</th>\n",
              "      <td>49</td>\n",
              "      <td>51</td>\n",
              "      <td>54</td>\n",
              "      <td>77</td>\n",
              "    </tr>\n",
              "  </tbody>\n",
              "</table>\n",
              "</div>"
            ],
            "text/plain": [
              "    A   B   C   D\n",
              "0   9  15  64  28\n",
              "1  93  29   8  73\n",
              "2  40  36  16  11\n",
              "3  88  62  33  72\n",
              "4  49  51  54  77"
            ]
          },
          "metadata": {
            "tags": []
          },
          "execution_count": 19
        }
      ]
    },
    {
      "cell_type": "markdown",
      "metadata": {
        "id": "2OmoXpwLkqhq"
      },
      "source": [
        "Suppose your domain expert says to filter column B with even numbers to do correct analysis. Implement the same below and update the change in varaible df2."
      ]
    },
    {
      "cell_type": "code",
      "metadata": {
        "id": "lOG09CHLkqhq"
      },
      "source": [
        "df2=#"
      ],
      "execution_count": null,
      "outputs": []
    },
    {
      "cell_type": "markdown",
      "metadata": {
        "id": "9glWk_f8kqhq"
      },
      "source": [
        "print updated head of *df2*"
      ]
    },
    {
      "cell_type": "code",
      "metadata": {
        "colab": {
          "base_uri": "https://localhost:8080/",
          "height": 204
        },
        "id": "-7DJrucnkqhq",
        "outputId": "e675f0c2-6b98-4895-e60a-f80bf94b5ae0"
      },
      "source": [
        "# df2 head\n"
      ],
      "execution_count": null,
      "outputs": [
        {
          "output_type": "execute_result",
          "data": {
            "text/html": [
              "<div>\n",
              "<style scoped>\n",
              "    .dataframe tbody tr th:only-of-type {\n",
              "        vertical-align: middle;\n",
              "    }\n",
              "\n",
              "    .dataframe tbody tr th {\n",
              "        vertical-align: top;\n",
              "    }\n",
              "\n",
              "    .dataframe thead th {\n",
              "        text-align: right;\n",
              "    }\n",
              "</style>\n",
              "<table border=\"1\" class=\"dataframe\">\n",
              "  <thead>\n",
              "    <tr style=\"text-align: right;\">\n",
              "      <th></th>\n",
              "      <th>A</th>\n",
              "      <th>B</th>\n",
              "      <th>C</th>\n",
              "      <th>D</th>\n",
              "    </tr>\n",
              "  </thead>\n",
              "  <tbody>\n",
              "    <tr>\n",
              "      <th>2</th>\n",
              "      <td>40</td>\n",
              "      <td>36</td>\n",
              "      <td>16</td>\n",
              "      <td>11</td>\n",
              "    </tr>\n",
              "    <tr>\n",
              "      <th>3</th>\n",
              "      <td>88</td>\n",
              "      <td>62</td>\n",
              "      <td>33</td>\n",
              "      <td>72</td>\n",
              "    </tr>\n",
              "    <tr>\n",
              "      <th>6</th>\n",
              "      <td>30</td>\n",
              "      <td>30</td>\n",
              "      <td>89</td>\n",
              "      <td>12</td>\n",
              "    </tr>\n",
              "    <tr>\n",
              "      <th>9</th>\n",
              "      <td>11</td>\n",
              "      <td>28</td>\n",
              "      <td>74</td>\n",
              "      <td>88</td>\n",
              "    </tr>\n",
              "    <tr>\n",
              "      <th>10</th>\n",
              "      <td>15</td>\n",
              "      <td>18</td>\n",
              "      <td>80</td>\n",
              "      <td>71</td>\n",
              "    </tr>\n",
              "  </tbody>\n",
              "</table>\n",
              "</div>"
            ],
            "text/plain": [
              "     A   B   C   D\n",
              "2   40  36  16  11\n",
              "3   88  62  33  72\n",
              "6   30  30  89  12\n",
              "9   11  28  74  88\n",
              "10  15  18  80  71"
            ]
          },
          "metadata": {
            "tags": []
          },
          "execution_count": 21
        }
      ]
    },
    {
      "cell_type": "markdown",
      "metadata": {
        "id": "dRAh9uVnkqhq"
      },
      "source": [
        "# Creating a sensible index values\n",
        "\n",
        "Reference:-https://www.youtube.com/watch?v=FQ4IB5mZOmQ\n"
      ]
    },
    {
      "cell_type": "markdown",
      "metadata": {
        "id": "ngZAGkC2kqhr"
      },
      "source": [
        "Oops. The index in this dataframe doesn't make sense. please correct index in a sequential manner starting from 1. Save the updates in df2"
      ]
    },
    {
      "cell_type": "code",
      "metadata": {
        "id": "X_M-38Qxkqhr"
      },
      "source": [
        "#set proper index"
      ],
      "execution_count": null,
      "outputs": []
    },
    {
      "cell_type": "markdown",
      "metadata": {
        "id": "k7MEL_Ldkqhr"
      },
      "source": [
        "print df2 head again"
      ]
    },
    {
      "cell_type": "code",
      "metadata": {
        "colab": {
          "base_uri": "https://localhost:8080/",
          "height": 204
        },
        "id": "_qLt44-vkqhr",
        "outputId": "688b563b-75bf-4c6e-d051-f994596791d7"
      },
      "source": [
        "# df2 head"
      ],
      "execution_count": null,
      "outputs": [
        {
          "output_type": "execute_result",
          "data": {
            "text/html": [
              "<div>\n",
              "<style scoped>\n",
              "    .dataframe tbody tr th:only-of-type {\n",
              "        vertical-align: middle;\n",
              "    }\n",
              "\n",
              "    .dataframe tbody tr th {\n",
              "        vertical-align: top;\n",
              "    }\n",
              "\n",
              "    .dataframe thead th {\n",
              "        text-align: right;\n",
              "    }\n",
              "</style>\n",
              "<table border=\"1\" class=\"dataframe\">\n",
              "  <thead>\n",
              "    <tr style=\"text-align: right;\">\n",
              "      <th></th>\n",
              "      <th>A</th>\n",
              "      <th>B</th>\n",
              "      <th>C</th>\n",
              "      <th>D</th>\n",
              "    </tr>\n",
              "  </thead>\n",
              "  <tbody>\n",
              "    <tr>\n",
              "      <th>1</th>\n",
              "      <td>40</td>\n",
              "      <td>36</td>\n",
              "      <td>16</td>\n",
              "      <td>11</td>\n",
              "    </tr>\n",
              "    <tr>\n",
              "      <th>2</th>\n",
              "      <td>88</td>\n",
              "      <td>62</td>\n",
              "      <td>33</td>\n",
              "      <td>72</td>\n",
              "    </tr>\n",
              "    <tr>\n",
              "      <th>3</th>\n",
              "      <td>30</td>\n",
              "      <td>30</td>\n",
              "      <td>89</td>\n",
              "      <td>12</td>\n",
              "    </tr>\n",
              "    <tr>\n",
              "      <th>4</th>\n",
              "      <td>11</td>\n",
              "      <td>28</td>\n",
              "      <td>74</td>\n",
              "      <td>88</td>\n",
              "    </tr>\n",
              "    <tr>\n",
              "      <th>5</th>\n",
              "      <td>15</td>\n",
              "      <td>18</td>\n",
              "      <td>80</td>\n",
              "      <td>71</td>\n",
              "    </tr>\n",
              "  </tbody>\n",
              "</table>\n",
              "</div>"
            ],
            "text/plain": [
              "    A   B   C   D\n",
              "1  40  36  16  11\n",
              "2  88  62  33  72\n",
              "3  30  30  89  12\n",
              "4  11  28  74  88\n",
              "5  15  18  80  71"
            ]
          },
          "metadata": {
            "tags": []
          },
          "execution_count": 23
        }
      ]
    },
    {
      "cell_type": "markdown",
      "metadata": {
        "id": "t1htc1J-kqhr"
      },
      "source": [
        "# Renaming column names to meaningful names.\n",
        "\n",
        "Reference:- https://www.youtube.com/watch?v=YnggjqAfZCU\n",
        "<p style='text-align: right;'> 2 points</p>\n"
      ]
    },
    {
      "cell_type": "markdown",
      "metadata": {
        "id": "P3JtdP4fkqhr"
      },
      "source": [
        "Now df2 columns represents marks of the adventurous 'Anand', the brave 'Barkha', the compassionate 'Chandu' and the dashing 'Daniel'. Rename the columns with their name inplace of their first letter of their name."
      ]
    },
    {
      "cell_type": "code",
      "metadata": {
        "id": "wsQ2Sr-9kqhs"
      },
      "source": [
        "#column renaming"
      ],
      "execution_count": null,
      "outputs": []
    },
    {
      "cell_type": "markdown",
      "metadata": {
        "id": "wwV5om7Ikqhs"
      },
      "source": [
        "print df2 tail with updated column names"
      ]
    },
    {
      "cell_type": "code",
      "metadata": {
        "colab": {
          "base_uri": "https://localhost:8080/",
          "height": 204
        },
        "id": "ZA5btO84kqhs",
        "outputId": "e2e18f76-e22a-4ee2-bcab-478ca7f83cbb"
      },
      "source": [
        "# df2 head"
      ],
      "execution_count": null,
      "outputs": [
        {
          "output_type": "execute_result",
          "data": {
            "text/html": [
              "<div>\n",
              "<style scoped>\n",
              "    .dataframe tbody tr th:only-of-type {\n",
              "        vertical-align: middle;\n",
              "    }\n",
              "\n",
              "    .dataframe tbody tr th {\n",
              "        vertical-align: top;\n",
              "    }\n",
              "\n",
              "    .dataframe thead th {\n",
              "        text-align: right;\n",
              "    }\n",
              "</style>\n",
              "<table border=\"1\" class=\"dataframe\">\n",
              "  <thead>\n",
              "    <tr style=\"text-align: right;\">\n",
              "      <th></th>\n",
              "      <th>Anand</th>\n",
              "      <th>Barkha</th>\n",
              "      <th>Chandu</th>\n",
              "      <th>Daniel</th>\n",
              "    </tr>\n",
              "  </thead>\n",
              "  <tbody>\n",
              "    <tr>\n",
              "      <th>44</th>\n",
              "      <td>1</td>\n",
              "      <td>82</td>\n",
              "      <td>34</td>\n",
              "      <td>11</td>\n",
              "    </tr>\n",
              "    <tr>\n",
              "      <th>45</th>\n",
              "      <td>74</td>\n",
              "      <td>36</td>\n",
              "      <td>6</td>\n",
              "      <td>63</td>\n",
              "    </tr>\n",
              "    <tr>\n",
              "      <th>46</th>\n",
              "      <td>3</td>\n",
              "      <td>50</td>\n",
              "      <td>59</td>\n",
              "      <td>34</td>\n",
              "    </tr>\n",
              "    <tr>\n",
              "      <th>47</th>\n",
              "      <td>16</td>\n",
              "      <td>18</td>\n",
              "      <td>61</td>\n",
              "      <td>54</td>\n",
              "    </tr>\n",
              "    <tr>\n",
              "      <th>48</th>\n",
              "      <td>67</td>\n",
              "      <td>38</td>\n",
              "      <td>27</td>\n",
              "      <td>96</td>\n",
              "    </tr>\n",
              "  </tbody>\n",
              "</table>\n",
              "</div>"
            ],
            "text/plain": [
              "    Anand  Barkha  Chandu  Daniel\n",
              "44      1      82      34      11\n",
              "45     74      36       6      63\n",
              "46      3      50      59      34\n",
              "47     16      18      61      54\n",
              "48     67      38      27      96"
            ]
          },
          "metadata": {
            "tags": []
          },
          "execution_count": 25
        }
      ]
    },
    {
      "cell_type": "markdown",
      "metadata": {
        "id": "OVPJo5YEkqhs"
      },
      "source": [
        "Yeah! now the data looks pretty meaningful to study"
      ]
    },
    {
      "cell_type": "markdown",
      "metadata": {
        "id": "TmIexkkOkqhs"
      },
      "source": [
        "# Treating Duplicate Data\n",
        "\n",
        "Reference: https://www.youtube.com/watch?v=bFVMR1qfzXo"
      ]
    },
    {
      "cell_type": "markdown",
      "metadata": {
        "id": "WndpHrtvkqhs"
      },
      "source": [
        "<p style='text-align: right;'> 20 points</p>\n"
      ]
    },
    {
      "cell_type": "markdown",
      "metadata": {
        "id": "FisYRuFD0CA7"
      },
      "source": [
        "Make another dataframe df3 by deep copying df2."
      ]
    },
    {
      "cell_type": "code",
      "metadata": {
        "id": "7YdZvdGozNFT"
      },
      "source": [
        "df3=#"
      ],
      "execution_count": null,
      "outputs": []
    },
    {
      "cell_type": "markdown",
      "metadata": {
        "id": "3hCi4Zjokqhs"
      },
      "source": [
        "Make another column in df3 with name 'dummy' having 0 as values\n",
        "throughout the rows."
      ]
    },
    {
      "cell_type": "code",
      "metadata": {
        "id": "IdXkjwYHkqht"
      },
      "source": [
        "#assign dummy column full of zero value\n"
      ],
      "execution_count": null,
      "outputs": []
    },
    {
      "cell_type": "code",
      "metadata": {
        "colab": {
          "base_uri": "https://localhost:8080/"
        },
        "id": "en7XzaxD2rrV",
        "outputId": "573367eb-8311-485e-f6d2-1903f6176c67"
      },
      "source": [
        "# print head of df, df2 and df3\n",
        "\n"
      ],
      "execution_count": null,
      "outputs": [
        {
          "output_type": "stream",
          "text": [
            "    A   B   C   D\n",
            "0   9  15  64  28\n",
            "1  93  29   8  73\n",
            "2  40  36  16  11\n",
            "3  88  62  33  72\n",
            "4  49  51  54  77\n",
            "   Anand  Barkha  Chandu  Daniel\n",
            "1     40      36      16      11\n",
            "2     88      62      33      72\n",
            "3     30      30      89      12\n",
            "4     11      28      74      88\n",
            "5     15      18      80      71\n",
            "   Anand  Barkha  Chandu  Daniel  dummy\n",
            "1     40      36      16      11      0\n",
            "2     88      62      33      72      0\n",
            "3     30      30      89      12      0\n",
            "4     11      28      74      88      0\n",
            "5     15      18      80      71      0\n"
          ],
          "name": "stdout"
        }
      ]
    },
    {
      "cell_type": "markdown",
      "metadata": {
        "id": "MxcNd_Ja1YXs"
      },
      "source": [
        "Hey buddy! Don't you think, there is some difference between copy operation used for creating df2 and df3.\n",
        "\n",
        "If you think Yes, Then please comment below the difference"
      ]
    },
    {
      "cell_type": "code",
      "metadata": {
        "id": "HLLRqTPx1oRs"
      },
      "source": [
        "# comment"
      ],
      "execution_count": null,
      "outputs": []
    },
    {
      "cell_type": "markdown",
      "metadata": {
        "id": "2vlkb3edkqht"
      },
      "source": [
        "print tail of df3"
      ]
    },
    {
      "cell_type": "code",
      "metadata": {
        "colab": {
          "base_uri": "https://localhost:8080/",
          "height": 204
        },
        "id": "asZ8XuR55qIC",
        "outputId": "70a34b6b-8f4f-410e-a9fb-571456608404"
      },
      "source": [
        "# df3 tail"
      ],
      "execution_count": null,
      "outputs": [
        {
          "output_type": "execute_result",
          "data": {
            "text/html": [
              "<div>\n",
              "<style scoped>\n",
              "    .dataframe tbody tr th:only-of-type {\n",
              "        vertical-align: middle;\n",
              "    }\n",
              "\n",
              "    .dataframe tbody tr th {\n",
              "        vertical-align: top;\n",
              "    }\n",
              "\n",
              "    .dataframe thead th {\n",
              "        text-align: right;\n",
              "    }\n",
              "</style>\n",
              "<table border=\"1\" class=\"dataframe\">\n",
              "  <thead>\n",
              "    <tr style=\"text-align: right;\">\n",
              "      <th></th>\n",
              "      <th>Anand</th>\n",
              "      <th>Barkha</th>\n",
              "      <th>Chandu</th>\n",
              "      <th>Daniel</th>\n",
              "      <th>dummy</th>\n",
              "    </tr>\n",
              "  </thead>\n",
              "  <tbody>\n",
              "    <tr>\n",
              "      <th>44</th>\n",
              "      <td>1</td>\n",
              "      <td>82</td>\n",
              "      <td>34</td>\n",
              "      <td>11</td>\n",
              "      <td>0</td>\n",
              "    </tr>\n",
              "    <tr>\n",
              "      <th>45</th>\n",
              "      <td>74</td>\n",
              "      <td>36</td>\n",
              "      <td>6</td>\n",
              "      <td>63</td>\n",
              "      <td>0</td>\n",
              "    </tr>\n",
              "    <tr>\n",
              "      <th>46</th>\n",
              "      <td>3</td>\n",
              "      <td>50</td>\n",
              "      <td>59</td>\n",
              "      <td>34</td>\n",
              "      <td>0</td>\n",
              "    </tr>\n",
              "    <tr>\n",
              "      <th>47</th>\n",
              "      <td>16</td>\n",
              "      <td>18</td>\n",
              "      <td>61</td>\n",
              "      <td>54</td>\n",
              "      <td>0</td>\n",
              "    </tr>\n",
              "    <tr>\n",
              "      <th>48</th>\n",
              "      <td>67</td>\n",
              "      <td>38</td>\n",
              "      <td>27</td>\n",
              "      <td>96</td>\n",
              "      <td>0</td>\n",
              "    </tr>\n",
              "  </tbody>\n",
              "</table>\n",
              "</div>"
            ],
            "text/plain": [
              "    Anand  Barkha  Chandu  Daniel  dummy\n",
              "44      1      82      34      11      0\n",
              "45     74      36       6      63      0\n",
              "46      3      50      59      34      0\n",
              "47     16      18      61      54      0\n",
              "48     67      38      27      96      0"
            ]
          },
          "metadata": {
            "tags": []
          },
          "execution_count": 30
        }
      ]
    },
    {
      "cell_type": "markdown",
      "metadata": {
        "id": "r4ulvQTdkqht"
      },
      "source": [
        "make an array name 'ListB' with values of column 'Barkha'"
      ]
    },
    {
      "cell_type": "code",
      "metadata": {
        "id": "DDQvQNGdkqht"
      },
      "source": [
        "ListB="
      ],
      "execution_count": null,
      "outputs": []
    },
    {
      "cell_type": "markdown",
      "metadata": {
        "id": "kxp2Sttm57LA"
      },
      "source": [
        "Print ListB"
      ]
    },
    {
      "cell_type": "code",
      "metadata": {
        "colab": {
          "base_uri": "https://localhost:8080/"
        },
        "id": "fCqZUrDdkqht",
        "outputId": "384ae6ce-911a-419a-8d6e-10a66a54b982"
      },
      "source": [
        "#print ListB"
      ],
      "execution_count": null,
      "outputs": [
        {
          "output_type": "execute_result",
          "data": {
            "text/plain": [
              "array([36, 62, 30, 28, 18, 50, 88, 50, 80, 66, 96, 30,  4, 30,  2, 42, 94,\n",
              "       18, 44, 68, 58, 48, 70, 22, 36, 32, 32, 96, 30, 86,  0, 76, 88, 64,\n",
              "       52, 46, 20, 66, 56,  8, 68, 50, 28, 82, 36, 50, 18, 38])"
            ]
          },
          "metadata": {
            "tags": []
          },
          "execution_count": 32
        }
      ]
    },
    {
      "cell_type": "markdown",
      "metadata": {
        "id": "XdTgrnTJkqhu"
      },
      "source": [
        "Assign this array values as another column in df3 with name 'Anonymous'"
      ]
    },
    {
      "cell_type": "code",
      "metadata": {
        "id": "2U01qa6Akqhu"
      },
      "source": [
        "#create Anonymous column"
      ],
      "execution_count": null,
      "outputs": []
    },
    {
      "cell_type": "markdown",
      "metadata": {
        "id": "9Tnv9FxNkqhu"
      },
      "source": [
        "Create a dataframe 'ListA' with values of row index 3, 10 and 40"
      ]
    },
    {
      "cell_type": "code",
      "metadata": {
        "id": "6KjmI6RRkqhu"
      },
      "source": [
        "ListA=#"
      ],
      "execution_count": null,
      "outputs": []
    },
    {
      "cell_type": "markdown",
      "metadata": {
        "id": "536Zw_9kkqhu"
      },
      "source": [
        "print ListA"
      ]
    },
    {
      "cell_type": "code",
      "metadata": {
        "colab": {
          "base_uri": "https://localhost:8080/",
          "height": 142
        },
        "id": "uiwW-8S9kqhu",
        "outputId": "e5b1c398-d368-4eac-d187-5a54e2a1f189"
      },
      "source": [
        "# print ListA"
      ],
      "execution_count": null,
      "outputs": [
        {
          "output_type": "execute_result",
          "data": {
            "text/html": [
              "<div>\n",
              "<style scoped>\n",
              "    .dataframe tbody tr th:only-of-type {\n",
              "        vertical-align: middle;\n",
              "    }\n",
              "\n",
              "    .dataframe tbody tr th {\n",
              "        vertical-align: top;\n",
              "    }\n",
              "\n",
              "    .dataframe thead th {\n",
              "        text-align: right;\n",
              "    }\n",
              "</style>\n",
              "<table border=\"1\" class=\"dataframe\">\n",
              "  <thead>\n",
              "    <tr style=\"text-align: right;\">\n",
              "      <th></th>\n",
              "      <th>Anand</th>\n",
              "      <th>Barkha</th>\n",
              "      <th>Chandu</th>\n",
              "      <th>Daniel</th>\n",
              "      <th>dummy</th>\n",
              "      <th>Anonymous</th>\n",
              "    </tr>\n",
              "  </thead>\n",
              "  <tbody>\n",
              "    <tr>\n",
              "      <th>3</th>\n",
              "      <td>30</td>\n",
              "      <td>30</td>\n",
              "      <td>89</td>\n",
              "      <td>12</td>\n",
              "      <td>0</td>\n",
              "      <td>30</td>\n",
              "    </tr>\n",
              "    <tr>\n",
              "      <th>10</th>\n",
              "      <td>96</td>\n",
              "      <td>66</td>\n",
              "      <td>67</td>\n",
              "      <td>62</td>\n",
              "      <td>0</td>\n",
              "      <td>66</td>\n",
              "    </tr>\n",
              "    <tr>\n",
              "      <th>40</th>\n",
              "      <td>74</td>\n",
              "      <td>8</td>\n",
              "      <td>92</td>\n",
              "      <td>32</td>\n",
              "      <td>0</td>\n",
              "      <td>8</td>\n",
              "    </tr>\n",
              "  </tbody>\n",
              "</table>\n",
              "</div>"
            ],
            "text/plain": [
              "    Anand  Barkha  Chandu  Daniel  dummy  Anonymous\n",
              "3      30      30      89      12      0         30\n",
              "10     96      66      67      62      0         66\n",
              "40     74       8      92      32      0          8"
            ]
          },
          "metadata": {
            "tags": []
          },
          "execution_count": 35
        }
      ]
    },
    {
      "cell_type": "markdown",
      "metadata": {
        "id": "HLT1U7ZQkqhu"
      },
      "source": [
        "Concat ListA to df3 ignoring the index values of ListA so that we can maintain the sequential index value thoughout the dataframe."
      ]
    },
    {
      "cell_type": "code",
      "metadata": {
        "id": "zj_zUXiokqhv"
      },
      "source": [
        "df3=#"
      ],
      "execution_count": null,
      "outputs": []
    },
    {
      "cell_type": "markdown",
      "metadata": {
        "id": "qp2M-WnYkqhv"
      },
      "source": [
        "print head of df3"
      ]
    },
    {
      "cell_type": "code",
      "metadata": {
        "colab": {
          "base_uri": "https://localhost:8080/",
          "height": 204
        },
        "id": "GwotDl4Tkqhv",
        "outputId": "39261949-ecfc-457a-8b98-f2491b480617"
      },
      "source": [
        "# df3 head"
      ],
      "execution_count": null,
      "outputs": [
        {
          "output_type": "execute_result",
          "data": {
            "text/html": [
              "<div>\n",
              "<style scoped>\n",
              "    .dataframe tbody tr th:only-of-type {\n",
              "        vertical-align: middle;\n",
              "    }\n",
              "\n",
              "    .dataframe tbody tr th {\n",
              "        vertical-align: top;\n",
              "    }\n",
              "\n",
              "    .dataframe thead th {\n",
              "        text-align: right;\n",
              "    }\n",
              "</style>\n",
              "<table border=\"1\" class=\"dataframe\">\n",
              "  <thead>\n",
              "    <tr style=\"text-align: right;\">\n",
              "      <th></th>\n",
              "      <th>Anand</th>\n",
              "      <th>Barkha</th>\n",
              "      <th>Chandu</th>\n",
              "      <th>Daniel</th>\n",
              "      <th>dummy</th>\n",
              "      <th>Anonymous</th>\n",
              "    </tr>\n",
              "  </thead>\n",
              "  <tbody>\n",
              "    <tr>\n",
              "      <th>0</th>\n",
              "      <td>40</td>\n",
              "      <td>36</td>\n",
              "      <td>16</td>\n",
              "      <td>11</td>\n",
              "      <td>0</td>\n",
              "      <td>36</td>\n",
              "    </tr>\n",
              "    <tr>\n",
              "      <th>1</th>\n",
              "      <td>88</td>\n",
              "      <td>62</td>\n",
              "      <td>33</td>\n",
              "      <td>72</td>\n",
              "      <td>0</td>\n",
              "      <td>62</td>\n",
              "    </tr>\n",
              "    <tr>\n",
              "      <th>2</th>\n",
              "      <td>30</td>\n",
              "      <td>30</td>\n",
              "      <td>89</td>\n",
              "      <td>12</td>\n",
              "      <td>0</td>\n",
              "      <td>30</td>\n",
              "    </tr>\n",
              "    <tr>\n",
              "      <th>3</th>\n",
              "      <td>11</td>\n",
              "      <td>28</td>\n",
              "      <td>74</td>\n",
              "      <td>88</td>\n",
              "      <td>0</td>\n",
              "      <td>28</td>\n",
              "    </tr>\n",
              "    <tr>\n",
              "      <th>4</th>\n",
              "      <td>15</td>\n",
              "      <td>18</td>\n",
              "      <td>80</td>\n",
              "      <td>71</td>\n",
              "      <td>0</td>\n",
              "      <td>18</td>\n",
              "    </tr>\n",
              "  </tbody>\n",
              "</table>\n",
              "</div>"
            ],
            "text/plain": [
              "   Anand  Barkha  Chandu  Daniel  dummy  Anonymous\n",
              "0     40      36      16      11      0         36\n",
              "1     88      62      33      72      0         62\n",
              "2     30      30      89      12      0         30\n",
              "3     11      28      74      88      0         28\n",
              "4     15      18      80      71      0         18"
            ]
          },
          "metadata": {
            "tags": []
          },
          "execution_count": 37
        }
      ]
    },
    {
      "cell_type": "markdown",
      "metadata": {
        "id": "ETx-cCU5kqhv"
      },
      "source": [
        "Check if there is any duplicate rows present in the dataframe df3"
      ]
    },
    {
      "cell_type": "code",
      "metadata": {
        "colab": {
          "base_uri": "https://localhost:8080/",
          "height": 142
        },
        "id": "KkK9vv6Lkqhv",
        "outputId": "37f41dcb-ff4d-46da-b633-f2b5cb6333b2"
      },
      "source": [
        "#check duplicate\n"
      ],
      "execution_count": null,
      "outputs": [
        {
          "output_type": "execute_result",
          "data": {
            "text/html": [
              "<div>\n",
              "<style scoped>\n",
              "    .dataframe tbody tr th:only-of-type {\n",
              "        vertical-align: middle;\n",
              "    }\n",
              "\n",
              "    .dataframe tbody tr th {\n",
              "        vertical-align: top;\n",
              "    }\n",
              "\n",
              "    .dataframe thead th {\n",
              "        text-align: right;\n",
              "    }\n",
              "</style>\n",
              "<table border=\"1\" class=\"dataframe\">\n",
              "  <thead>\n",
              "    <tr style=\"text-align: right;\">\n",
              "      <th></th>\n",
              "      <th>Anand</th>\n",
              "      <th>Barkha</th>\n",
              "      <th>Chandu</th>\n",
              "      <th>Daniel</th>\n",
              "      <th>dummy</th>\n",
              "      <th>Anonymous</th>\n",
              "    </tr>\n",
              "  </thead>\n",
              "  <tbody>\n",
              "    <tr>\n",
              "      <th>48</th>\n",
              "      <td>30</td>\n",
              "      <td>30</td>\n",
              "      <td>89</td>\n",
              "      <td>12</td>\n",
              "      <td>0</td>\n",
              "      <td>30</td>\n",
              "    </tr>\n",
              "    <tr>\n",
              "      <th>49</th>\n",
              "      <td>96</td>\n",
              "      <td>66</td>\n",
              "      <td>67</td>\n",
              "      <td>62</td>\n",
              "      <td>0</td>\n",
              "      <td>66</td>\n",
              "    </tr>\n",
              "    <tr>\n",
              "      <th>50</th>\n",
              "      <td>74</td>\n",
              "      <td>8</td>\n",
              "      <td>92</td>\n",
              "      <td>32</td>\n",
              "      <td>0</td>\n",
              "      <td>8</td>\n",
              "    </tr>\n",
              "  </tbody>\n",
              "</table>\n",
              "</div>"
            ],
            "text/plain": [
              "    Anand  Barkha  Chandu  Daniel  dummy  Anonymous\n",
              "48     30      30      89      12      0         30\n",
              "49     96      66      67      62      0         66\n",
              "50     74       8      92      32      0          8"
            ]
          },
          "metadata": {
            "tags": []
          },
          "execution_count": 38
        }
      ]
    },
    {
      "cell_type": "markdown",
      "metadata": {
        "id": "Okvw1xgtkqhv"
      },
      "source": [
        "By above output it seems we do have duplicated rows in our dataset"
      ]
    },
    {
      "cell_type": "markdown",
      "metadata": {
        "id": "z0QOuS-_kqhw"
      },
      "source": [
        "Drop duplicated rows using pandas function keeping first values of such duplicated observations"
      ]
    },
    {
      "cell_type": "code",
      "metadata": {
        "id": "gRsgecqbkqhw"
      },
      "source": [
        "#drop duplicate"
      ],
      "execution_count": null,
      "outputs": []
    },
    {
      "cell_type": "markdown",
      "metadata": {
        "id": "FbNFF-4jkqhw"
      },
      "source": [
        "Check again if we have any duplicate row values present "
      ]
    },
    {
      "cell_type": "code",
      "metadata": {
        "colab": {
          "base_uri": "https://localhost:8080/",
          "height": 49
        },
        "id": "ehOxm1Mckqhw",
        "outputId": "434104e4-b6c7-4d28-b807-696683b4c168"
      },
      "source": [
        "#check duplicate"
      ],
      "execution_count": null,
      "outputs": [
        {
          "output_type": "execute_result",
          "data": {
            "text/html": [
              "<div>\n",
              "<style scoped>\n",
              "    .dataframe tbody tr th:only-of-type {\n",
              "        vertical-align: middle;\n",
              "    }\n",
              "\n",
              "    .dataframe tbody tr th {\n",
              "        vertical-align: top;\n",
              "    }\n",
              "\n",
              "    .dataframe thead th {\n",
              "        text-align: right;\n",
              "    }\n",
              "</style>\n",
              "<table border=\"1\" class=\"dataframe\">\n",
              "  <thead>\n",
              "    <tr style=\"text-align: right;\">\n",
              "      <th></th>\n",
              "      <th>Anand</th>\n",
              "      <th>Barkha</th>\n",
              "      <th>Chandu</th>\n",
              "      <th>Daniel</th>\n",
              "      <th>dummy</th>\n",
              "      <th>Anonymous</th>\n",
              "    </tr>\n",
              "  </thead>\n",
              "  <tbody>\n",
              "  </tbody>\n",
              "</table>\n",
              "</div>"
            ],
            "text/plain": [
              "Empty DataFrame\n",
              "Columns: [Anand, Barkha, Chandu, Daniel, dummy, Anonymous]\n",
              "Index: []"
            ]
          },
          "metadata": {
            "tags": []
          },
          "execution_count": 40
        }
      ]
    },
    {
      "cell_type": "markdown",
      "metadata": {
        "id": "7Sg80lIkkqhw"
      },
      "source": [
        "Yipeee!! Did you notice the dataframe is free from any duplicate rows now."
      ]
    },
    {
      "cell_type": "markdown",
      "metadata": {
        "id": "za0nup3Pkqhw"
      },
      "source": [
        "Drop any duplicate columns present in the dataframe df"
      ]
    },
    {
      "cell_type": "code",
      "metadata": {
        "id": "NE9l9xM0kqhw",
        "outputId": "d8a6c5e9-68ce-4076-d1f9-abbf9690eae6"
      },
      "source": [
        "df3=#\n",
        "\n",
        "#print df3\n",
        "df3"
      ],
      "execution_count": null,
      "outputs": [
        {
          "output_type": "execute_result",
          "data": {
            "text/html": [
              "<div>\n",
              "<style scoped>\n",
              "    .dataframe tbody tr th:only-of-type {\n",
              "        vertical-align: middle;\n",
              "    }\n",
              "\n",
              "    .dataframe tbody tr th {\n",
              "        vertical-align: top;\n",
              "    }\n",
              "\n",
              "    .dataframe thead th {\n",
              "        text-align: right;\n",
              "    }\n",
              "</style>\n",
              "<table border=\"1\" class=\"dataframe\">\n",
              "  <thead>\n",
              "    <tr style=\"text-align: right;\">\n",
              "      <th></th>\n",
              "      <th>Anand</th>\n",
              "      <th>Barkha</th>\n",
              "      <th>Chandu</th>\n",
              "      <th>Daniel</th>\n",
              "      <th>dummy</th>\n",
              "    </tr>\n",
              "  </thead>\n",
              "  <tbody>\n",
              "    <tr>\n",
              "      <th>0</th>\n",
              "      <td>40</td>\n",
              "      <td>36</td>\n",
              "      <td>16</td>\n",
              "      <td>11</td>\n",
              "      <td>0</td>\n",
              "    </tr>\n",
              "    <tr>\n",
              "      <th>1</th>\n",
              "      <td>88</td>\n",
              "      <td>62</td>\n",
              "      <td>33</td>\n",
              "      <td>72</td>\n",
              "      <td>0</td>\n",
              "    </tr>\n",
              "    <tr>\n",
              "      <th>2</th>\n",
              "      <td>30</td>\n",
              "      <td>30</td>\n",
              "      <td>89</td>\n",
              "      <td>12</td>\n",
              "      <td>0</td>\n",
              "    </tr>\n",
              "    <tr>\n",
              "      <th>3</th>\n",
              "      <td>11</td>\n",
              "      <td>28</td>\n",
              "      <td>74</td>\n",
              "      <td>88</td>\n",
              "      <td>0</td>\n",
              "    </tr>\n",
              "    <tr>\n",
              "      <th>4</th>\n",
              "      <td>15</td>\n",
              "      <td>18</td>\n",
              "      <td>80</td>\n",
              "      <td>71</td>\n",
              "      <td>0</td>\n",
              "    </tr>\n",
              "    <tr>\n",
              "      <th>5</th>\n",
              "      <td>88</td>\n",
              "      <td>50</td>\n",
              "      <td>54</td>\n",
              "      <td>34</td>\n",
              "      <td>0</td>\n",
              "    </tr>\n",
              "    <tr>\n",
              "      <th>6</th>\n",
              "      <td>77</td>\n",
              "      <td>88</td>\n",
              "      <td>15</td>\n",
              "      <td>6</td>\n",
              "      <td>0</td>\n",
              "    </tr>\n",
              "    <tr>\n",
              "      <th>7</th>\n",
              "      <td>97</td>\n",
              "      <td>50</td>\n",
              "      <td>45</td>\n",
              "      <td>40</td>\n",
              "      <td>0</td>\n",
              "    </tr>\n",
              "    <tr>\n",
              "      <th>8</th>\n",
              "      <td>81</td>\n",
              "      <td>80</td>\n",
              "      <td>41</td>\n",
              "      <td>90</td>\n",
              "      <td>0</td>\n",
              "    </tr>\n",
              "    <tr>\n",
              "      <th>9</th>\n",
              "      <td>96</td>\n",
              "      <td>66</td>\n",
              "      <td>67</td>\n",
              "      <td>62</td>\n",
              "      <td>0</td>\n",
              "    </tr>\n",
              "    <tr>\n",
              "      <th>10</th>\n",
              "      <td>88</td>\n",
              "      <td>96</td>\n",
              "      <td>73</td>\n",
              "      <td>40</td>\n",
              "      <td>0</td>\n",
              "    </tr>\n",
              "    <tr>\n",
              "      <th>11</th>\n",
              "      <td>28</td>\n",
              "      <td>30</td>\n",
              "      <td>89</td>\n",
              "      <td>25</td>\n",
              "      <td>0</td>\n",
              "    </tr>\n",
              "    <tr>\n",
              "      <th>12</th>\n",
              "      <td>33</td>\n",
              "      <td>4</td>\n",
              "      <td>87</td>\n",
              "      <td>94</td>\n",
              "      <td>0</td>\n",
              "    </tr>\n",
              "    <tr>\n",
              "      <th>13</th>\n",
              "      <td>68</td>\n",
              "      <td>30</td>\n",
              "      <td>70</td>\n",
              "      <td>74</td>\n",
              "      <td>0</td>\n",
              "    </tr>\n",
              "    <tr>\n",
              "      <th>14</th>\n",
              "      <td>9</td>\n",
              "      <td>2</td>\n",
              "      <td>65</td>\n",
              "      <td>13</td>\n",
              "      <td>0</td>\n",
              "    </tr>\n",
              "    <tr>\n",
              "      <th>15</th>\n",
              "      <td>62</td>\n",
              "      <td>42</td>\n",
              "      <td>34</td>\n",
              "      <td>40</td>\n",
              "      <td>0</td>\n",
              "    </tr>\n",
              "    <tr>\n",
              "      <th>16</th>\n",
              "      <td>32</td>\n",
              "      <td>94</td>\n",
              "      <td>86</td>\n",
              "      <td>58</td>\n",
              "      <td>0</td>\n",
              "    </tr>\n",
              "    <tr>\n",
              "      <th>17</th>\n",
              "      <td>45</td>\n",
              "      <td>18</td>\n",
              "      <td>50</td>\n",
              "      <td>44</td>\n",
              "      <td>0</td>\n",
              "    </tr>\n",
              "    <tr>\n",
              "      <th>18</th>\n",
              "      <td>6</td>\n",
              "      <td>44</td>\n",
              "      <td>9</td>\n",
              "      <td>50</td>\n",
              "      <td>0</td>\n",
              "    </tr>\n",
              "    <tr>\n",
              "      <th>19</th>\n",
              "      <td>44</td>\n",
              "      <td>68</td>\n",
              "      <td>14</td>\n",
              "      <td>4</td>\n",
              "      <td>0</td>\n",
              "    </tr>\n",
              "    <tr>\n",
              "      <th>20</th>\n",
              "      <td>39</td>\n",
              "      <td>58</td>\n",
              "      <td>81</td>\n",
              "      <td>39</td>\n",
              "      <td>0</td>\n",
              "    </tr>\n",
              "    <tr>\n",
              "      <th>21</th>\n",
              "      <td>69</td>\n",
              "      <td>48</td>\n",
              "      <td>60</td>\n",
              "      <td>58</td>\n",
              "      <td>0</td>\n",
              "    </tr>\n",
              "    <tr>\n",
              "      <th>22</th>\n",
              "      <td>5</td>\n",
              "      <td>70</td>\n",
              "      <td>61</td>\n",
              "      <td>16</td>\n",
              "      <td>0</td>\n",
              "    </tr>\n",
              "    <tr>\n",
              "      <th>23</th>\n",
              "      <td>4</td>\n",
              "      <td>22</td>\n",
              "      <td>19</td>\n",
              "      <td>85</td>\n",
              "      <td>0</td>\n",
              "    </tr>\n",
              "    <tr>\n",
              "      <th>24</th>\n",
              "      <td>10</td>\n",
              "      <td>36</td>\n",
              "      <td>0</td>\n",
              "      <td>30</td>\n",
              "      <td>0</td>\n",
              "    </tr>\n",
              "    <tr>\n",
              "      <th>25</th>\n",
              "      <td>85</td>\n",
              "      <td>32</td>\n",
              "      <td>81</td>\n",
              "      <td>13</td>\n",
              "      <td>0</td>\n",
              "    </tr>\n",
              "    <tr>\n",
              "      <th>26</th>\n",
              "      <td>31</td>\n",
              "      <td>32</td>\n",
              "      <td>96</td>\n",
              "      <td>38</td>\n",
              "      <td>0</td>\n",
              "    </tr>\n",
              "    <tr>\n",
              "      <th>27</th>\n",
              "      <td>0</td>\n",
              "      <td>96</td>\n",
              "      <td>25</td>\n",
              "      <td>63</td>\n",
              "      <td>0</td>\n",
              "    </tr>\n",
              "    <tr>\n",
              "      <th>28</th>\n",
              "      <td>2</td>\n",
              "      <td>30</td>\n",
              "      <td>17</td>\n",
              "      <td>59</td>\n",
              "      <td>0</td>\n",
              "    </tr>\n",
              "    <tr>\n",
              "      <th>29</th>\n",
              "      <td>63</td>\n",
              "      <td>86</td>\n",
              "      <td>29</td>\n",
              "      <td>71</td>\n",
              "      <td>0</td>\n",
              "    </tr>\n",
              "    <tr>\n",
              "      <th>30</th>\n",
              "      <td>19</td>\n",
              "      <td>0</td>\n",
              "      <td>7</td>\n",
              "      <td>93</td>\n",
              "      <td>0</td>\n",
              "    </tr>\n",
              "    <tr>\n",
              "      <th>31</th>\n",
              "      <td>58</td>\n",
              "      <td>76</td>\n",
              "      <td>10</td>\n",
              "      <td>79</td>\n",
              "      <td>0</td>\n",
              "    </tr>\n",
              "    <tr>\n",
              "      <th>32</th>\n",
              "      <td>7</td>\n",
              "      <td>88</td>\n",
              "      <td>96</td>\n",
              "      <td>38</td>\n",
              "      <td>0</td>\n",
              "    </tr>\n",
              "    <tr>\n",
              "      <th>33</th>\n",
              "      <td>27</td>\n",
              "      <td>64</td>\n",
              "      <td>49</td>\n",
              "      <td>90</td>\n",
              "      <td>0</td>\n",
              "    </tr>\n",
              "    <tr>\n",
              "      <th>34</th>\n",
              "      <td>27</td>\n",
              "      <td>52</td>\n",
              "      <td>90</td>\n",
              "      <td>57</td>\n",
              "      <td>0</td>\n",
              "    </tr>\n",
              "    <tr>\n",
              "      <th>35</th>\n",
              "      <td>99</td>\n",
              "      <td>46</td>\n",
              "      <td>46</td>\n",
              "      <td>45</td>\n",
              "      <td>0</td>\n",
              "    </tr>\n",
              "    <tr>\n",
              "      <th>36</th>\n",
              "      <td>84</td>\n",
              "      <td>20</td>\n",
              "      <td>49</td>\n",
              "      <td>33</td>\n",
              "      <td>0</td>\n",
              "    </tr>\n",
              "    <tr>\n",
              "      <th>37</th>\n",
              "      <td>77</td>\n",
              "      <td>66</td>\n",
              "      <td>37</td>\n",
              "      <td>31</td>\n",
              "      <td>0</td>\n",
              "    </tr>\n",
              "    <tr>\n",
              "      <th>38</th>\n",
              "      <td>82</td>\n",
              "      <td>56</td>\n",
              "      <td>41</td>\n",
              "      <td>90</td>\n",
              "      <td>0</td>\n",
              "    </tr>\n",
              "    <tr>\n",
              "      <th>39</th>\n",
              "      <td>74</td>\n",
              "      <td>8</td>\n",
              "      <td>92</td>\n",
              "      <td>32</td>\n",
              "      <td>0</td>\n",
              "    </tr>\n",
              "    <tr>\n",
              "      <th>40</th>\n",
              "      <td>87</td>\n",
              "      <td>68</td>\n",
              "      <td>86</td>\n",
              "      <td>14</td>\n",
              "      <td>0</td>\n",
              "    </tr>\n",
              "    <tr>\n",
              "      <th>41</th>\n",
              "      <td>50</td>\n",
              "      <td>50</td>\n",
              "      <td>85</td>\n",
              "      <td>14</td>\n",
              "      <td>0</td>\n",
              "    </tr>\n",
              "    <tr>\n",
              "      <th>42</th>\n",
              "      <td>1</td>\n",
              "      <td>28</td>\n",
              "      <td>58</td>\n",
              "      <td>10</td>\n",
              "      <td>0</td>\n",
              "    </tr>\n",
              "    <tr>\n",
              "      <th>43</th>\n",
              "      <td>1</td>\n",
              "      <td>82</td>\n",
              "      <td>34</td>\n",
              "      <td>11</td>\n",
              "      <td>0</td>\n",
              "    </tr>\n",
              "    <tr>\n",
              "      <th>44</th>\n",
              "      <td>74</td>\n",
              "      <td>36</td>\n",
              "      <td>6</td>\n",
              "      <td>63</td>\n",
              "      <td>0</td>\n",
              "    </tr>\n",
              "    <tr>\n",
              "      <th>45</th>\n",
              "      <td>3</td>\n",
              "      <td>50</td>\n",
              "      <td>59</td>\n",
              "      <td>34</td>\n",
              "      <td>0</td>\n",
              "    </tr>\n",
              "    <tr>\n",
              "      <th>46</th>\n",
              "      <td>16</td>\n",
              "      <td>18</td>\n",
              "      <td>61</td>\n",
              "      <td>54</td>\n",
              "      <td>0</td>\n",
              "    </tr>\n",
              "    <tr>\n",
              "      <th>47</th>\n",
              "      <td>67</td>\n",
              "      <td>38</td>\n",
              "      <td>27</td>\n",
              "      <td>96</td>\n",
              "      <td>0</td>\n",
              "    </tr>\n",
              "  </tbody>\n",
              "</table>\n",
              "</div>"
            ],
            "text/plain": [
              "    Anand  Barkha  Chandu  Daniel  dummy\n",
              "0      40      36      16      11      0\n",
              "1      88      62      33      72      0\n",
              "2      30      30      89      12      0\n",
              "3      11      28      74      88      0\n",
              "4      15      18      80      71      0\n",
              "5      88      50      54      34      0\n",
              "6      77      88      15       6      0\n",
              "7      97      50      45      40      0\n",
              "8      81      80      41      90      0\n",
              "9      96      66      67      62      0\n",
              "10     88      96      73      40      0\n",
              "11     28      30      89      25      0\n",
              "12     33       4      87      94      0\n",
              "13     68      30      70      74      0\n",
              "14      9       2      65      13      0\n",
              "15     62      42      34      40      0\n",
              "16     32      94      86      58      0\n",
              "17     45      18      50      44      0\n",
              "18      6      44       9      50      0\n",
              "19     44      68      14       4      0\n",
              "20     39      58      81      39      0\n",
              "21     69      48      60      58      0\n",
              "22      5      70      61      16      0\n",
              "23      4      22      19      85      0\n",
              "24     10      36       0      30      0\n",
              "25     85      32      81      13      0\n",
              "26     31      32      96      38      0\n",
              "27      0      96      25      63      0\n",
              "28      2      30      17      59      0\n",
              "29     63      86      29      71      0\n",
              "30     19       0       7      93      0\n",
              "31     58      76      10      79      0\n",
              "32      7      88      96      38      0\n",
              "33     27      64      49      90      0\n",
              "34     27      52      90      57      0\n",
              "35     99      46      46      45      0\n",
              "36     84      20      49      33      0\n",
              "37     77      66      37      31      0\n",
              "38     82      56      41      90      0\n",
              "39     74       8      92      32      0\n",
              "40     87      68      86      14      0\n",
              "41     50      50      85      14      0\n",
              "42      1      28      58      10      0\n",
              "43      1      82      34      11      0\n",
              "44     74      36       6      63      0\n",
              "45      3      50      59      34      0\n",
              "46     16      18      61      54      0\n",
              "47     67      38      27      96      0"
            ]
          },
          "metadata": {
            "tags": []
          },
          "execution_count": 41
        }
      ]
    },
    {
      "cell_type": "markdown",
      "metadata": {
        "id": "HAMB8--rkqhx"
      },
      "source": [
        "Did you notice which Column is dropped?\n",
        "I am sure you noticed it.\n",
        "Name that column below"
      ]
    },
    {
      "cell_type": "code",
      "metadata": {
        "id": "x7HRPWXHkqhx"
      },
      "source": [
        "#Column:____________"
      ],
      "execution_count": null,
      "outputs": []
    },
    {
      "cell_type": "markdown",
      "metadata": {
        "id": "n53B2-pCkqhx"
      },
      "source": [
        "# Treating constant column values\n",
        "\n",
        "<p style='text-align: right;'> 2 points</p>\n"
      ]
    },
    {
      "cell_type": "markdown",
      "metadata": {
        "id": "fDpWhHSlkqhx"
      },
      "source": [
        "Check unique values in each columns"
      ]
    },
    {
      "cell_type": "code",
      "metadata": {
        "colab": {
          "base_uri": "https://localhost:8080/"
        },
        "id": "5-L6SLhqkqhx",
        "outputId": "f5d3cae4-e9bb-4e45-f7a8-5157f8922f96"
      },
      "source": [
        "# df3 unique value"
      ],
      "execution_count": null,
      "outputs": [
        {
          "output_type": "execute_result",
          "data": {
            "text/plain": [
              "Anand     42\n",
              "Barkha    32\n",
              "Chandu    40\n",
              "Daniel    36\n",
              "dummy      1\n",
              "dtype: int64"
            ]
          },
          "metadata": {
            "tags": []
          },
          "execution_count": 43
        }
      ]
    },
    {
      "cell_type": "markdown",
      "metadata": {
        "id": "4G9ZC-n-kqhx"
      },
      "source": [
        "By above output which column has only 1 value as unique throught the rows? \n",
        "Yeah! you are right, its dummy column.\n",
        "So lets drop it"
      ]
    },
    {
      "cell_type": "markdown",
      "metadata": {
        "id": "D3y3ZWW6kqhx"
      },
      "source": [
        "Drop dummy column as it has constant values which will not give us any information and save the changes to df3 using inplace parameter"
      ]
    },
    {
      "cell_type": "code",
      "metadata": {
        "id": "SR10jRVQkqhy"
      },
      "source": [
        "# drop dummy"
      ],
      "execution_count": null,
      "outputs": []
    },
    {
      "cell_type": "markdown",
      "metadata": {
        "id": "nHdi2uHskqhy"
      },
      "source": [
        "print final obtained dataframe df3"
      ]
    },
    {
      "cell_type": "code",
      "metadata": {
        "colab": {
          "base_uri": "https://localhost:8080/",
          "height": 1630
        },
        "id": "0-YUwfDKkqhy",
        "outputId": "b0462356-1ba3-4195-86d9-55bdf0cde10e"
      },
      "source": [
        "# print df3"
      ],
      "execution_count": null,
      "outputs": [
        {
          "output_type": "execute_result",
          "data": {
            "text/html": [
              "<div>\n",
              "<style scoped>\n",
              "    .dataframe tbody tr th:only-of-type {\n",
              "        vertical-align: middle;\n",
              "    }\n",
              "\n",
              "    .dataframe tbody tr th {\n",
              "        vertical-align: top;\n",
              "    }\n",
              "\n",
              "    .dataframe thead th {\n",
              "        text-align: right;\n",
              "    }\n",
              "</style>\n",
              "<table border=\"1\" class=\"dataframe\">\n",
              "  <thead>\n",
              "    <tr style=\"text-align: right;\">\n",
              "      <th></th>\n",
              "      <th>Anand</th>\n",
              "      <th>Barkha</th>\n",
              "      <th>Chandu</th>\n",
              "      <th>Daniel</th>\n",
              "    </tr>\n",
              "  </thead>\n",
              "  <tbody>\n",
              "    <tr>\n",
              "      <th>0</th>\n",
              "      <td>40</td>\n",
              "      <td>36</td>\n",
              "      <td>16</td>\n",
              "      <td>11</td>\n",
              "    </tr>\n",
              "    <tr>\n",
              "      <th>1</th>\n",
              "      <td>88</td>\n",
              "      <td>62</td>\n",
              "      <td>33</td>\n",
              "      <td>72</td>\n",
              "    </tr>\n",
              "    <tr>\n",
              "      <th>2</th>\n",
              "      <td>30</td>\n",
              "      <td>30</td>\n",
              "      <td>89</td>\n",
              "      <td>12</td>\n",
              "    </tr>\n",
              "    <tr>\n",
              "      <th>3</th>\n",
              "      <td>11</td>\n",
              "      <td>28</td>\n",
              "      <td>74</td>\n",
              "      <td>88</td>\n",
              "    </tr>\n",
              "    <tr>\n",
              "      <th>4</th>\n",
              "      <td>15</td>\n",
              "      <td>18</td>\n",
              "      <td>80</td>\n",
              "      <td>71</td>\n",
              "    </tr>\n",
              "    <tr>\n",
              "      <th>5</th>\n",
              "      <td>88</td>\n",
              "      <td>50</td>\n",
              "      <td>54</td>\n",
              "      <td>34</td>\n",
              "    </tr>\n",
              "    <tr>\n",
              "      <th>6</th>\n",
              "      <td>77</td>\n",
              "      <td>88</td>\n",
              "      <td>15</td>\n",
              "      <td>6</td>\n",
              "    </tr>\n",
              "    <tr>\n",
              "      <th>7</th>\n",
              "      <td>97</td>\n",
              "      <td>50</td>\n",
              "      <td>45</td>\n",
              "      <td>40</td>\n",
              "    </tr>\n",
              "    <tr>\n",
              "      <th>8</th>\n",
              "      <td>81</td>\n",
              "      <td>80</td>\n",
              "      <td>41</td>\n",
              "      <td>90</td>\n",
              "    </tr>\n",
              "    <tr>\n",
              "      <th>9</th>\n",
              "      <td>96</td>\n",
              "      <td>66</td>\n",
              "      <td>67</td>\n",
              "      <td>62</td>\n",
              "    </tr>\n",
              "    <tr>\n",
              "      <th>10</th>\n",
              "      <td>88</td>\n",
              "      <td>96</td>\n",
              "      <td>73</td>\n",
              "      <td>40</td>\n",
              "    </tr>\n",
              "    <tr>\n",
              "      <th>11</th>\n",
              "      <td>28</td>\n",
              "      <td>30</td>\n",
              "      <td>89</td>\n",
              "      <td>25</td>\n",
              "    </tr>\n",
              "    <tr>\n",
              "      <th>12</th>\n",
              "      <td>33</td>\n",
              "      <td>4</td>\n",
              "      <td>87</td>\n",
              "      <td>94</td>\n",
              "    </tr>\n",
              "    <tr>\n",
              "      <th>13</th>\n",
              "      <td>68</td>\n",
              "      <td>30</td>\n",
              "      <td>70</td>\n",
              "      <td>74</td>\n",
              "    </tr>\n",
              "    <tr>\n",
              "      <th>14</th>\n",
              "      <td>9</td>\n",
              "      <td>2</td>\n",
              "      <td>65</td>\n",
              "      <td>13</td>\n",
              "    </tr>\n",
              "    <tr>\n",
              "      <th>15</th>\n",
              "      <td>62</td>\n",
              "      <td>42</td>\n",
              "      <td>34</td>\n",
              "      <td>40</td>\n",
              "    </tr>\n",
              "    <tr>\n",
              "      <th>16</th>\n",
              "      <td>32</td>\n",
              "      <td>94</td>\n",
              "      <td>86</td>\n",
              "      <td>58</td>\n",
              "    </tr>\n",
              "    <tr>\n",
              "      <th>17</th>\n",
              "      <td>45</td>\n",
              "      <td>18</td>\n",
              "      <td>50</td>\n",
              "      <td>44</td>\n",
              "    </tr>\n",
              "    <tr>\n",
              "      <th>18</th>\n",
              "      <td>6</td>\n",
              "      <td>44</td>\n",
              "      <td>9</td>\n",
              "      <td>50</td>\n",
              "    </tr>\n",
              "    <tr>\n",
              "      <th>19</th>\n",
              "      <td>44</td>\n",
              "      <td>68</td>\n",
              "      <td>14</td>\n",
              "      <td>4</td>\n",
              "    </tr>\n",
              "    <tr>\n",
              "      <th>20</th>\n",
              "      <td>39</td>\n",
              "      <td>58</td>\n",
              "      <td>81</td>\n",
              "      <td>39</td>\n",
              "    </tr>\n",
              "    <tr>\n",
              "      <th>21</th>\n",
              "      <td>69</td>\n",
              "      <td>48</td>\n",
              "      <td>60</td>\n",
              "      <td>58</td>\n",
              "    </tr>\n",
              "    <tr>\n",
              "      <th>22</th>\n",
              "      <td>5</td>\n",
              "      <td>70</td>\n",
              "      <td>61</td>\n",
              "      <td>16</td>\n",
              "    </tr>\n",
              "    <tr>\n",
              "      <th>23</th>\n",
              "      <td>4</td>\n",
              "      <td>22</td>\n",
              "      <td>19</td>\n",
              "      <td>85</td>\n",
              "    </tr>\n",
              "    <tr>\n",
              "      <th>24</th>\n",
              "      <td>10</td>\n",
              "      <td>36</td>\n",
              "      <td>0</td>\n",
              "      <td>30</td>\n",
              "    </tr>\n",
              "    <tr>\n",
              "      <th>25</th>\n",
              "      <td>85</td>\n",
              "      <td>32</td>\n",
              "      <td>81</td>\n",
              "      <td>13</td>\n",
              "    </tr>\n",
              "    <tr>\n",
              "      <th>26</th>\n",
              "      <td>31</td>\n",
              "      <td>32</td>\n",
              "      <td>96</td>\n",
              "      <td>38</td>\n",
              "    </tr>\n",
              "    <tr>\n",
              "      <th>27</th>\n",
              "      <td>0</td>\n",
              "      <td>96</td>\n",
              "      <td>25</td>\n",
              "      <td>63</td>\n",
              "    </tr>\n",
              "    <tr>\n",
              "      <th>28</th>\n",
              "      <td>2</td>\n",
              "      <td>30</td>\n",
              "      <td>17</td>\n",
              "      <td>59</td>\n",
              "    </tr>\n",
              "    <tr>\n",
              "      <th>29</th>\n",
              "      <td>63</td>\n",
              "      <td>86</td>\n",
              "      <td>29</td>\n",
              "      <td>71</td>\n",
              "    </tr>\n",
              "    <tr>\n",
              "      <th>30</th>\n",
              "      <td>19</td>\n",
              "      <td>0</td>\n",
              "      <td>7</td>\n",
              "      <td>93</td>\n",
              "    </tr>\n",
              "    <tr>\n",
              "      <th>31</th>\n",
              "      <td>58</td>\n",
              "      <td>76</td>\n",
              "      <td>10</td>\n",
              "      <td>79</td>\n",
              "    </tr>\n",
              "    <tr>\n",
              "      <th>32</th>\n",
              "      <td>7</td>\n",
              "      <td>88</td>\n",
              "      <td>96</td>\n",
              "      <td>38</td>\n",
              "    </tr>\n",
              "    <tr>\n",
              "      <th>33</th>\n",
              "      <td>27</td>\n",
              "      <td>64</td>\n",
              "      <td>49</td>\n",
              "      <td>90</td>\n",
              "    </tr>\n",
              "    <tr>\n",
              "      <th>34</th>\n",
              "      <td>27</td>\n",
              "      <td>52</td>\n",
              "      <td>90</td>\n",
              "      <td>57</td>\n",
              "    </tr>\n",
              "    <tr>\n",
              "      <th>35</th>\n",
              "      <td>99</td>\n",
              "      <td>46</td>\n",
              "      <td>46</td>\n",
              "      <td>45</td>\n",
              "    </tr>\n",
              "    <tr>\n",
              "      <th>36</th>\n",
              "      <td>84</td>\n",
              "      <td>20</td>\n",
              "      <td>49</td>\n",
              "      <td>33</td>\n",
              "    </tr>\n",
              "    <tr>\n",
              "      <th>37</th>\n",
              "      <td>77</td>\n",
              "      <td>66</td>\n",
              "      <td>37</td>\n",
              "      <td>31</td>\n",
              "    </tr>\n",
              "    <tr>\n",
              "      <th>38</th>\n",
              "      <td>82</td>\n",
              "      <td>56</td>\n",
              "      <td>41</td>\n",
              "      <td>90</td>\n",
              "    </tr>\n",
              "    <tr>\n",
              "      <th>39</th>\n",
              "      <td>74</td>\n",
              "      <td>8</td>\n",
              "      <td>92</td>\n",
              "      <td>32</td>\n",
              "    </tr>\n",
              "    <tr>\n",
              "      <th>40</th>\n",
              "      <td>87</td>\n",
              "      <td>68</td>\n",
              "      <td>86</td>\n",
              "      <td>14</td>\n",
              "    </tr>\n",
              "    <tr>\n",
              "      <th>41</th>\n",
              "      <td>50</td>\n",
              "      <td>50</td>\n",
              "      <td>85</td>\n",
              "      <td>14</td>\n",
              "    </tr>\n",
              "    <tr>\n",
              "      <th>42</th>\n",
              "      <td>1</td>\n",
              "      <td>28</td>\n",
              "      <td>58</td>\n",
              "      <td>10</td>\n",
              "    </tr>\n",
              "    <tr>\n",
              "      <th>43</th>\n",
              "      <td>1</td>\n",
              "      <td>82</td>\n",
              "      <td>34</td>\n",
              "      <td>11</td>\n",
              "    </tr>\n",
              "    <tr>\n",
              "      <th>44</th>\n",
              "      <td>74</td>\n",
              "      <td>36</td>\n",
              "      <td>6</td>\n",
              "      <td>63</td>\n",
              "    </tr>\n",
              "    <tr>\n",
              "      <th>45</th>\n",
              "      <td>3</td>\n",
              "      <td>50</td>\n",
              "      <td>59</td>\n",
              "      <td>34</td>\n",
              "    </tr>\n",
              "    <tr>\n",
              "      <th>46</th>\n",
              "      <td>16</td>\n",
              "      <td>18</td>\n",
              "      <td>61</td>\n",
              "      <td>54</td>\n",
              "    </tr>\n",
              "    <tr>\n",
              "      <th>47</th>\n",
              "      <td>67</td>\n",
              "      <td>38</td>\n",
              "      <td>27</td>\n",
              "      <td>96</td>\n",
              "    </tr>\n",
              "  </tbody>\n",
              "</table>\n",
              "</div>"
            ],
            "text/plain": [
              "    Anand  Barkha  Chandu  Daniel\n",
              "0      40      36      16      11\n",
              "1      88      62      33      72\n",
              "2      30      30      89      12\n",
              "3      11      28      74      88\n",
              "4      15      18      80      71\n",
              "5      88      50      54      34\n",
              "6      77      88      15       6\n",
              "7      97      50      45      40\n",
              "8      81      80      41      90\n",
              "9      96      66      67      62\n",
              "10     88      96      73      40\n",
              "11     28      30      89      25\n",
              "12     33       4      87      94\n",
              "13     68      30      70      74\n",
              "14      9       2      65      13\n",
              "15     62      42      34      40\n",
              "16     32      94      86      58\n",
              "17     45      18      50      44\n",
              "18      6      44       9      50\n",
              "19     44      68      14       4\n",
              "20     39      58      81      39\n",
              "21     69      48      60      58\n",
              "22      5      70      61      16\n",
              "23      4      22      19      85\n",
              "24     10      36       0      30\n",
              "25     85      32      81      13\n",
              "26     31      32      96      38\n",
              "27      0      96      25      63\n",
              "28      2      30      17      59\n",
              "29     63      86      29      71\n",
              "30     19       0       7      93\n",
              "31     58      76      10      79\n",
              "32      7      88      96      38\n",
              "33     27      64      49      90\n",
              "34     27      52      90      57\n",
              "35     99      46      46      45\n",
              "36     84      20      49      33\n",
              "37     77      66      37      31\n",
              "38     82      56      41      90\n",
              "39     74       8      92      32\n",
              "40     87      68      86      14\n",
              "41     50      50      85      14\n",
              "42      1      28      58      10\n",
              "43      1      82      34      11\n",
              "44     74      36       6      63\n",
              "45      3      50      59      34\n",
              "46     16      18      61      54\n",
              "47     67      38      27      96"
            ]
          },
          "metadata": {
            "tags": []
          },
          "execution_count": 45
        }
      ]
    },
    {
      "cell_type": "markdown",
      "metadata": {
        "id": "aKvKQdkukafh"
      },
      "source": [
        "# Iterating dataframes\n",
        "<p style='text-align: right;'> 25 points </p>\n",
        "\n",
        "\n",
        "Reference: https://www.youtube.com/watch?v=0nI3HTLPpZI\n",
        "Let's look at three main ways to iterate over DataFrames.\n",
        "\n",
        "1. iteritems()\n",
        "2. iterrows()\n",
        "3. itertuples()\n",
        "\n",
        "We will also see time taken by these methods to print our dataframe. \n",
        "\n",
        "**1. Iterating DataFrames with iteritems()**\n",
        "\n",
        "Lets iterate over rows of df3 uisng iteritems.\n",
        "\n"
      ]
    },
    {
      "cell_type": "code",
      "metadata": {
        "id": "GBNvIdaRkafi",
        "outputId": "6e45eeb9-2209-41c1-9ab3-4e40a7a8705b"
      },
      "source": [
        "import time\n",
        "start = time.time()\n",
        "\n",
        "#Use iteritems to iterate\n",
        "\n",
        "\n",
        "\n",
        "print('Time taken(sec): ',(time.time()-start)*1000)"
      ],
      "execution_count": null,
      "outputs": [
        {
          "output_type": "stream",
          "text": [
            "Anand\n",
            "0     40\n",
            "1     88\n",
            "2     30\n",
            "3     11\n",
            "4     15\n",
            "5     88\n",
            "6     77\n",
            "7     97\n",
            "8     81\n",
            "9     96\n",
            "10    88\n",
            "11    28\n",
            "12    33\n",
            "13    68\n",
            "14     9\n",
            "15    62\n",
            "16    32\n",
            "17    45\n",
            "18     6\n",
            "19    44\n",
            "20    39\n",
            "21    69\n",
            "22     5\n",
            "23     4\n",
            "24    10\n",
            "25    85\n",
            "26    31\n",
            "27     0\n",
            "28     2\n",
            "29    63\n",
            "30    19\n",
            "31    58\n",
            "32     7\n",
            "33    27\n",
            "34    27\n",
            "35    99\n",
            "36    84\n",
            "37    77\n",
            "38    82\n",
            "39    74\n",
            "40    87\n",
            "41    50\n",
            "42     1\n",
            "43     1\n",
            "44    74\n",
            "45     3\n",
            "46    16\n",
            "47    67\n",
            "Name: Anand, dtype: int64\n",
            "Barkha\n",
            "0     36\n",
            "1     62\n",
            "2     30\n",
            "3     28\n",
            "4     18\n",
            "5     50\n",
            "6     88\n",
            "7     50\n",
            "8     80\n",
            "9     66\n",
            "10    96\n",
            "11    30\n",
            "12     4\n",
            "13    30\n",
            "14     2\n",
            "15    42\n",
            "16    94\n",
            "17    18\n",
            "18    44\n",
            "19    68\n",
            "20    58\n",
            "21    48\n",
            "22    70\n",
            "23    22\n",
            "24    36\n",
            "25    32\n",
            "26    32\n",
            "27    96\n",
            "28    30\n",
            "29    86\n",
            "30     0\n",
            "31    76\n",
            "32    88\n",
            "33    64\n",
            "34    52\n",
            "35    46\n",
            "36    20\n",
            "37    66\n",
            "38    56\n",
            "39     8\n",
            "40    68\n",
            "41    50\n",
            "42    28\n",
            "43    82\n",
            "44    36\n",
            "45    50\n",
            "46    18\n",
            "47    38\n",
            "Name: Barkha, dtype: int64\n",
            "Chandu\n",
            "0     16\n",
            "1     33\n",
            "2     89\n",
            "3     74\n",
            "4     80\n",
            "5     54\n",
            "6     15\n",
            "7     45\n",
            "8     41\n",
            "9     67\n",
            "10    73\n",
            "11    89\n",
            "12    87\n",
            "13    70\n",
            "14    65\n",
            "15    34\n",
            "16    86\n",
            "17    50\n",
            "18     9\n",
            "19    14\n",
            "20    81\n",
            "21    60\n",
            "22    61\n",
            "23    19\n",
            "24     0\n",
            "25    81\n",
            "26    96\n",
            "27    25\n",
            "28    17\n",
            "29    29\n",
            "30     7\n",
            "31    10\n",
            "32    96\n",
            "33    49\n",
            "34    90\n",
            "35    46\n",
            "36    49\n",
            "37    37\n",
            "38    41\n",
            "39    92\n",
            "40    86\n",
            "41    85\n",
            "42    58\n",
            "43    34\n",
            "44     6\n",
            "45    59\n",
            "46    61\n",
            "47    27\n",
            "Name: Chandu, dtype: int64\n",
            "Daniel\n",
            "0     11\n",
            "1     72\n",
            "2     12\n",
            "3     88\n",
            "4     71\n",
            "5     34\n",
            "6      6\n",
            "7     40\n",
            "8     90\n",
            "9     62\n",
            "10    40\n",
            "11    25\n",
            "12    94\n",
            "13    74\n",
            "14    13\n",
            "15    40\n",
            "16    58\n",
            "17    44\n",
            "18    50\n",
            "19     4\n",
            "20    39\n",
            "21    58\n",
            "22    16\n",
            "23    85\n",
            "24    30\n",
            "25    13\n",
            "26    38\n",
            "27    63\n",
            "28    59\n",
            "29    71\n",
            "30    93\n",
            "31    79\n",
            "32    38\n",
            "33    90\n",
            "34    57\n",
            "35    45\n",
            "36    33\n",
            "37    31\n",
            "38    90\n",
            "39    32\n",
            "40    14\n",
            "41    14\n",
            "42    10\n",
            "43    11\n",
            "44    63\n",
            "45    34\n",
            "46    54\n",
            "47    96\n",
            "Name: Daniel, dtype: int64\n",
            "Time taken(sec):  9.214162826538086\n"
          ],
          "name": "stdout"
        }
      ]
    },
    {
      "cell_type": "markdown",
      "metadata": {
        "id": "5TcM7XA5kafi"
      },
      "source": [
        "Did you notice buddy how iteritems are iterating over df3.\n",
        "\n",
        "Along with ways each iterating function works, also keep tallying the time taken for all other lopps too!. This will be fun, lets check iterrows()\n",
        "\n",
        "**2. Iterating DataFrames with iterrows()**"
      ]
    },
    {
      "cell_type": "code",
      "metadata": {
        "id": "JIID_HdHkafi",
        "outputId": "cf407f44-614c-4269-b454-1d4408bddad8"
      },
      "source": [
        "import time\n",
        "start = time.time()\n",
        "#Use iterrows to iterate\n",
        "\n",
        "print('Time taken(sec): ',(time.time()-start)*1000)"
      ],
      "execution_count": null,
      "outputs": [
        {
          "output_type": "stream",
          "text": [
            "0\n",
            "Anand     40\n",
            "Barkha    36\n",
            "Chandu    16\n",
            "Daniel    11\n",
            "Name: 0, dtype: int64\n",
            "1\n",
            "Anand     88\n",
            "Barkha    62\n",
            "Chandu    33\n",
            "Daniel    72\n",
            "Name: 1, dtype: int64\n",
            "2\n",
            "Anand     30\n",
            "Barkha    30\n",
            "Chandu    89\n",
            "Daniel    12\n",
            "Name: 2, dtype: int64\n",
            "3\n",
            "Anand     11\n",
            "Barkha    28\n",
            "Chandu    74\n",
            "Daniel    88\n",
            "Name: 3, dtype: int64\n",
            "4\n",
            "Anand     15\n",
            "Barkha    18\n",
            "Chandu    80\n",
            "Daniel    71\n",
            "Name: 4, dtype: int64\n",
            "5\n",
            "Anand     88\n",
            "Barkha    50\n",
            "Chandu    54\n",
            "Daniel    34\n",
            "Name: 5, dtype: int64\n",
            "6\n",
            "Anand     77\n",
            "Barkha    88\n",
            "Chandu    15\n",
            "Daniel     6\n",
            "Name: 6, dtype: int64\n",
            "7\n",
            "Anand     97\n",
            "Barkha    50\n",
            "Chandu    45\n",
            "Daniel    40\n",
            "Name: 7, dtype: int64\n",
            "8\n",
            "Anand     81\n",
            "Barkha    80\n",
            "Chandu    41\n",
            "Daniel    90\n",
            "Name: 8, dtype: int64\n",
            "9\n",
            "Anand     96\n",
            "Barkha    66\n",
            "Chandu    67\n",
            "Daniel    62\n",
            "Name: 9, dtype: int64\n",
            "10\n",
            "Anand     88\n",
            "Barkha    96\n",
            "Chandu    73\n",
            "Daniel    40\n",
            "Name: 10, dtype: int64\n",
            "11\n",
            "Anand     28\n",
            "Barkha    30\n",
            "Chandu    89\n",
            "Daniel    25\n",
            "Name: 11, dtype: int64\n",
            "12\n",
            "Anand     33\n",
            "Barkha     4\n",
            "Chandu    87\n",
            "Daniel    94\n",
            "Name: 12, dtype: int64\n",
            "13\n",
            "Anand     68\n",
            "Barkha    30\n",
            "Chandu    70\n",
            "Daniel    74\n",
            "Name: 13, dtype: int64\n",
            "14\n",
            "Anand      9\n",
            "Barkha     2\n",
            "Chandu    65\n",
            "Daniel    13\n",
            "Name: 14, dtype: int64\n",
            "15\n",
            "Anand     62\n",
            "Barkha    42\n",
            "Chandu    34\n",
            "Daniel    40\n",
            "Name: 15, dtype: int64\n",
            "16\n",
            "Anand     32\n",
            "Barkha    94\n",
            "Chandu    86\n",
            "Daniel    58\n",
            "Name: 16, dtype: int64\n",
            "17\n",
            "Anand     45\n",
            "Barkha    18\n",
            "Chandu    50\n",
            "Daniel    44\n",
            "Name: 17, dtype: int64\n",
            "18\n",
            "Anand      6\n",
            "Barkha    44\n",
            "Chandu     9\n",
            "Daniel    50\n",
            "Name: 18, dtype: int64\n",
            "19\n",
            "Anand     44\n",
            "Barkha    68\n",
            "Chandu    14\n",
            "Daniel     4\n",
            "Name: 19, dtype: int64\n",
            "20\n",
            "Anand     39\n",
            "Barkha    58\n",
            "Chandu    81\n",
            "Daniel    39\n",
            "Name: 20, dtype: int64\n",
            "21\n",
            "Anand     69\n",
            "Barkha    48\n",
            "Chandu    60\n",
            "Daniel    58\n",
            "Name: 21, dtype: int64\n",
            "22\n",
            "Anand      5\n",
            "Barkha    70\n",
            "Chandu    61\n",
            "Daniel    16\n",
            "Name: 22, dtype: int64\n",
            "23\n",
            "Anand      4\n",
            "Barkha    22\n",
            "Chandu    19\n",
            "Daniel    85\n",
            "Name: 23, dtype: int64\n",
            "24\n",
            "Anand     10\n",
            "Barkha    36\n",
            "Chandu     0\n",
            "Daniel    30\n",
            "Name: 24, dtype: int64\n",
            "25\n",
            "Anand     85\n",
            "Barkha    32\n",
            "Chandu    81\n",
            "Daniel    13\n",
            "Name: 25, dtype: int64\n",
            "26\n",
            "Anand     31\n",
            "Barkha    32\n",
            "Chandu    96\n",
            "Daniel    38\n",
            "Name: 26, dtype: int64\n",
            "27\n",
            "Anand      0\n",
            "Barkha    96\n",
            "Chandu    25\n",
            "Daniel    63\n",
            "Name: 27, dtype: int64\n",
            "28\n",
            "Anand      2\n",
            "Barkha    30\n",
            "Chandu    17\n",
            "Daniel    59\n",
            "Name: 28, dtype: int64\n",
            "29\n",
            "Anand     63\n",
            "Barkha    86\n",
            "Chandu    29\n",
            "Daniel    71\n",
            "Name: 29, dtype: int64\n",
            "30\n",
            "Anand     19\n",
            "Barkha     0\n",
            "Chandu     7\n",
            "Daniel    93\n",
            "Name: 30, dtype: int64\n",
            "31\n",
            "Anand     58\n",
            "Barkha    76\n",
            "Chandu    10\n",
            "Daniel    79\n",
            "Name: 31, dtype: int64\n",
            "32\n",
            "Anand      7\n",
            "Barkha    88\n",
            "Chandu    96\n",
            "Daniel    38\n",
            "Name: 32, dtype: int64\n",
            "33\n",
            "Anand     27\n",
            "Barkha    64\n",
            "Chandu    49\n",
            "Daniel    90\n",
            "Name: 33, dtype: int64\n",
            "34\n",
            "Anand     27\n",
            "Barkha    52\n",
            "Chandu    90\n",
            "Daniel    57\n",
            "Name: 34, dtype: int64\n",
            "35\n",
            "Anand     99\n",
            "Barkha    46\n",
            "Chandu    46\n",
            "Daniel    45\n",
            "Name: 35, dtype: int64\n",
            "36\n",
            "Anand     84\n",
            "Barkha    20\n",
            "Chandu    49\n",
            "Daniel    33\n",
            "Name: 36, dtype: int64\n",
            "37\n",
            "Anand     77\n",
            "Barkha    66\n",
            "Chandu    37\n",
            "Daniel    31\n",
            "Name: 37, dtype: int64\n",
            "38\n",
            "Anand     82\n",
            "Barkha    56\n",
            "Chandu    41\n",
            "Daniel    90\n",
            "Name: 38, dtype: int64\n",
            "39\n",
            "Anand     74\n",
            "Barkha     8\n",
            "Chandu    92\n",
            "Daniel    32\n",
            "Name: 39, dtype: int64\n",
            "40\n",
            "Anand     87\n",
            "Barkha    68\n",
            "Chandu    86\n",
            "Daniel    14\n",
            "Name: 40, dtype: int64\n",
            "41\n",
            "Anand     50\n",
            "Barkha    50\n",
            "Chandu    85\n",
            "Daniel    14\n",
            "Name: 41, dtype: int64\n",
            "42\n",
            "Anand      1\n",
            "Barkha    28\n",
            "Chandu    58\n",
            "Daniel    10\n",
            "Name: 42, dtype: int64\n",
            "43\n",
            "Anand      1\n",
            "Barkha    82\n",
            "Chandu    34\n",
            "Daniel    11\n",
            "Name: 43, dtype: int64\n",
            "44\n",
            "Anand     74\n",
            "Barkha    36\n",
            "Chandu     6\n",
            "Daniel    63\n",
            "Name: 44, dtype: int64\n",
            "45\n",
            "Anand      3\n",
            "Barkha    50\n",
            "Chandu    59\n",
            "Daniel    34\n",
            "Name: 45, dtype: int64\n",
            "46\n",
            "Anand     16\n",
            "Barkha    18\n",
            "Chandu    61\n",
            "Daniel    54\n",
            "Name: 46, dtype: int64\n",
            "47\n",
            "Anand     67\n",
            "Barkha    38\n",
            "Chandu    27\n",
            "Daniel    96\n",
            "Name: 47, dtype: int64\n",
            "Time taken(sec):  88.61041069030762\n"
          ],
          "name": "stdout"
        }
      ]
    },
    {
      "cell_type": "markdown",
      "metadata": {
        "id": "__0rZ_nzkafj"
      },
      "source": [
        "**3. Iterating DataFrames with itertuples()**"
      ]
    },
    {
      "cell_type": "code",
      "metadata": {
        "id": "GJ9mr0QUkafj",
        "outputId": "8bcc118f-6489-401f-bfa7-194613f05a57"
      },
      "source": [
        "#iterate df3 using itertuples\n",
        "import time\n",
        "start = time.time()\n",
        "\n",
        "#Use itertuples to iterate\n",
        "\n",
        "\n",
        "print('Time taken(sec): ',(time.time()-start)*1000)"
      ],
      "execution_count": null,
      "outputs": [
        {
          "output_type": "stream",
          "text": [
            "Pandas(Index=0, Anand=40, Barkha=36, Chandu=16, Daniel=11)\n",
            "Pandas(Index=1, Anand=88, Barkha=62, Chandu=33, Daniel=72)\n",
            "Pandas(Index=2, Anand=30, Barkha=30, Chandu=89, Daniel=12)\n",
            "Pandas(Index=3, Anand=11, Barkha=28, Chandu=74, Daniel=88)\n",
            "Pandas(Index=4, Anand=15, Barkha=18, Chandu=80, Daniel=71)\n",
            "Pandas(Index=5, Anand=88, Barkha=50, Chandu=54, Daniel=34)\n",
            "Pandas(Index=6, Anand=77, Barkha=88, Chandu=15, Daniel=6)\n",
            "Pandas(Index=7, Anand=97, Barkha=50, Chandu=45, Daniel=40)\n",
            "Pandas(Index=8, Anand=81, Barkha=80, Chandu=41, Daniel=90)\n",
            "Pandas(Index=9, Anand=96, Barkha=66, Chandu=67, Daniel=62)\n",
            "Pandas(Index=10, Anand=88, Barkha=96, Chandu=73, Daniel=40)\n",
            "Pandas(Index=11, Anand=28, Barkha=30, Chandu=89, Daniel=25)\n",
            "Pandas(Index=12, Anand=33, Barkha=4, Chandu=87, Daniel=94)\n",
            "Pandas(Index=13, Anand=68, Barkha=30, Chandu=70, Daniel=74)\n",
            "Pandas(Index=14, Anand=9, Barkha=2, Chandu=65, Daniel=13)\n",
            "Pandas(Index=15, Anand=62, Barkha=42, Chandu=34, Daniel=40)\n",
            "Pandas(Index=16, Anand=32, Barkha=94, Chandu=86, Daniel=58)\n",
            "Pandas(Index=17, Anand=45, Barkha=18, Chandu=50, Daniel=44)\n",
            "Pandas(Index=18, Anand=6, Barkha=44, Chandu=9, Daniel=50)\n",
            "Pandas(Index=19, Anand=44, Barkha=68, Chandu=14, Daniel=4)\n",
            "Pandas(Index=20, Anand=39, Barkha=58, Chandu=81, Daniel=39)\n",
            "Pandas(Index=21, Anand=69, Barkha=48, Chandu=60, Daniel=58)\n",
            "Pandas(Index=22, Anand=5, Barkha=70, Chandu=61, Daniel=16)\n",
            "Pandas(Index=23, Anand=4, Barkha=22, Chandu=19, Daniel=85)\n",
            "Pandas(Index=24, Anand=10, Barkha=36, Chandu=0, Daniel=30)\n",
            "Pandas(Index=25, Anand=85, Barkha=32, Chandu=81, Daniel=13)\n",
            "Pandas(Index=26, Anand=31, Barkha=32, Chandu=96, Daniel=38)\n",
            "Pandas(Index=27, Anand=0, Barkha=96, Chandu=25, Daniel=63)\n",
            "Pandas(Index=28, Anand=2, Barkha=30, Chandu=17, Daniel=59)\n",
            "Pandas(Index=29, Anand=63, Barkha=86, Chandu=29, Daniel=71)\n",
            "Pandas(Index=30, Anand=19, Barkha=0, Chandu=7, Daniel=93)\n",
            "Pandas(Index=31, Anand=58, Barkha=76, Chandu=10, Daniel=79)\n",
            "Pandas(Index=32, Anand=7, Barkha=88, Chandu=96, Daniel=38)\n",
            "Pandas(Index=33, Anand=27, Barkha=64, Chandu=49, Daniel=90)\n",
            "Pandas(Index=34, Anand=27, Barkha=52, Chandu=90, Daniel=57)\n",
            "Pandas(Index=35, Anand=99, Barkha=46, Chandu=46, Daniel=45)\n",
            "Pandas(Index=36, Anand=84, Barkha=20, Chandu=49, Daniel=33)\n",
            "Pandas(Index=37, Anand=77, Barkha=66, Chandu=37, Daniel=31)\n",
            "Pandas(Index=38, Anand=82, Barkha=56, Chandu=41, Daniel=90)\n",
            "Pandas(Index=39, Anand=74, Barkha=8, Chandu=92, Daniel=32)\n",
            "Pandas(Index=40, Anand=87, Barkha=68, Chandu=86, Daniel=14)\n",
            "Pandas(Index=41, Anand=50, Barkha=50, Chandu=85, Daniel=14)\n",
            "Pandas(Index=42, Anand=1, Barkha=28, Chandu=58, Daniel=10)\n",
            "Pandas(Index=43, Anand=1, Barkha=82, Chandu=34, Daniel=11)\n",
            "Pandas(Index=44, Anand=74, Barkha=36, Chandu=6, Daniel=63)\n",
            "Pandas(Index=45, Anand=3, Barkha=50, Chandu=59, Daniel=34)\n",
            "Pandas(Index=46, Anand=16, Barkha=18, Chandu=61, Daniel=54)\n",
            "Pandas(Index=47, Anand=67, Barkha=38, Chandu=27, Daniel=96)\n",
            "Time taken(sec):  12.319803237915039\n"
          ],
          "name": "stdout"
        }
      ]
    },
    {
      "cell_type": "markdown",
      "metadata": {
        "id": "0O_bga6Tkafj"
      },
      "source": [
        "Hey buddy! so as you have seen every method works differently \n",
        "    \n",
        "    iteritems(): Helps to iterate over each element of the set, column-wise. \n",
        "    iterrows(): Each element of the set, row-wise. \n",
        "    itertuple(): Each row and form a tuple out of them.\n",
        "\n",
        "But if you ask for speed. The most best perfromance is given by itertuples compared to other two iterating methods.\n",
        "So if anytime you need to save your computation time on iteration of dataframes you can go for itertuples. Was'nt it fun?:)"
      ]
    },
    {
      "cell_type": "markdown",
      "metadata": {
        "id": "IDYj2cP9riJM"
      },
      "source": [
        "# Regular Expression \n",
        "<p style='text-align: right;'> 15 points </p>\n",
        "\n",
        "\n",
        "Reference: https://www.youtube.com/watch?v=zTTQ8FE60j8\n",
        "\n",
        "Reference: https://www.youtube.com/watch?v=h6E1PiTXnVI\n",
        "\n",
        "Reference doc: https://www.guru99.com/python-regular-expressions-complete-tutorial.html\n",
        "\n",
        "Python has a module named re to work with RegEx\n",
        "\n",
        "\n",
        "### **!Are you ready to try regex on dataframes?**\n",
        "\n",
        "*So here we go.!*\n",
        "\n",
        "We are gonna try out following awesome re module functions\n",
        "\n",
        "1. findall \n",
        "2. search\n",
        "3. sub\n",
        "4. split\n",
        "\n",
        "If you want you can also refer the below regular expression syntax.\n",
        "\n",
        "![image.png](attachment:image.png)\n"
      ]
    },
    {
      "cell_type": "markdown",
      "metadata": {
        "id": "YCxcpQB0kafk"
      },
      "source": [
        "Hey future data scientists! we will now use regex on dataframes for data cleaning.\n",
        "\n",
        "Who doesn't know Trump?. Lets dowload this interesting dataset of Trump insult tweets :https://www.kaggle.com/ayushggarg/all-trumps-twitter-insults-20152021/download\n",
        "\n",
        "On this dataset we will learn how to use regex for data cleaning. By the way it will be also very usefull for feature engineering too!.\n",
        "\n"
      ]
    },
    {
      "cell_type": "code",
      "metadata": {
        "id": "AXem3jCAkafk"
      },
      "source": [
        "#load dataset\n",
        "tweet_data=#"
      ],
      "execution_count": null,
      "outputs": []
    },
    {
      "cell_type": "code",
      "metadata": {
        "id": "V6SwHuSjkafl",
        "outputId": "619f3526-f6e0-4061-bbd6-51ce19aa37e4"
      },
      "source": [
        "#import re module\n",
        "\n",
        "\n",
        "#print head of tweet_data\n"
      ],
      "execution_count": null,
      "outputs": [
        {
          "output_type": "execute_result",
          "data": {
            "text/html": [
              "<div>\n",
              "<style scoped>\n",
              "    .dataframe tbody tr th:only-of-type {\n",
              "        vertical-align: middle;\n",
              "    }\n",
              "\n",
              "    .dataframe tbody tr th {\n",
              "        vertical-align: top;\n",
              "    }\n",
              "\n",
              "    .dataframe thead th {\n",
              "        text-align: right;\n",
              "    }\n",
              "</style>\n",
              "<table border=\"1\" class=\"dataframe\">\n",
              "  <thead>\n",
              "    <tr style=\"text-align: right;\">\n",
              "      <th></th>\n",
              "      <th>Unnamed: 0</th>\n",
              "      <th>date</th>\n",
              "      <th>target</th>\n",
              "      <th>insult</th>\n",
              "      <th>tweet</th>\n",
              "    </tr>\n",
              "  </thead>\n",
              "  <tbody>\n",
              "    <tr>\n",
              "      <th>0</th>\n",
              "      <td>1</td>\n",
              "      <td>2014-10-09</td>\n",
              "      <td>thomas-frieden</td>\n",
              "      <td>fool</td>\n",
              "      <td>Can you believe this fool, Dr. Thomas Frieden ...</td>\n",
              "    </tr>\n",
              "    <tr>\n",
              "      <th>1</th>\n",
              "      <td>2</td>\n",
              "      <td>2014-10-09</td>\n",
              "      <td>thomas-frieden</td>\n",
              "      <td>DOPE</td>\n",
              "      <td>Can you believe this fool, Dr. Thomas Frieden ...</td>\n",
              "    </tr>\n",
              "    <tr>\n",
              "      <th>2</th>\n",
              "      <td>3</td>\n",
              "      <td>2015-06-16</td>\n",
              "      <td>politicians</td>\n",
              "      <td>all talk and no action</td>\n",
              "      <td>Big time in U.S. today - MAKE AMERICA GREAT AG...</td>\n",
              "    </tr>\n",
              "    <tr>\n",
              "      <th>3</th>\n",
              "      <td>4</td>\n",
              "      <td>2015-06-24</td>\n",
              "      <td>ben-cardin</td>\n",
              "      <td>It's politicians like Cardin that have destroy...</td>\n",
              "      <td>Politician @SenatorCardin didn't like that I s...</td>\n",
              "    </tr>\n",
              "    <tr>\n",
              "      <th>4</th>\n",
              "      <td>5</td>\n",
              "      <td>2015-06-24</td>\n",
              "      <td>neil-young</td>\n",
              "      <td>total hypocrite</td>\n",
              "      <td>For the nonbeliever, here is a photo of @Neily...</td>\n",
              "    </tr>\n",
              "  </tbody>\n",
              "</table>\n",
              "</div>"
            ],
            "text/plain": [
              "   Unnamed: 0        date          target  \\\n",
              "0           1  2014-10-09  thomas-frieden   \n",
              "1           2  2014-10-09  thomas-frieden   \n",
              "2           3  2015-06-16     politicians   \n",
              "3           4  2015-06-24      ben-cardin   \n",
              "4           5  2015-06-24      neil-young   \n",
              "\n",
              "                                              insult  \\\n",
              "0                                               fool   \n",
              "1                                               DOPE   \n",
              "2                             all talk and no action   \n",
              "3  It's politicians like Cardin that have destroy...   \n",
              "4                                    total hypocrite   \n",
              "\n",
              "                                               tweet  \n",
              "0  Can you believe this fool, Dr. Thomas Frieden ...  \n",
              "1  Can you believe this fool, Dr. Thomas Frieden ...  \n",
              "2  Big time in U.S. today - MAKE AMERICA GREAT AG...  \n",
              "3  Politician @SenatorCardin didn't like that I s...  \n",
              "4  For the nonbeliever, here is a photo of @Neily...  "
            ]
          },
          "metadata": {
            "tags": []
          },
          "execution_count": 50
        }
      ]
    },
    {
      "cell_type": "markdown",
      "metadata": {
        "id": "R4QFg6Vqkafl"
      },
      "source": [
        "Lets do some analysis using regex on this dataset\n",
        "\n",
        "Before we go ahead, do you remember apply function? because you will have to require apply function to impliment regex methods.\n",
        "\n",
        "You can refer this video so that you revisit how apply function works: https://www.youtube.com/watch?v=7HN-4Df8ZpA\n",
        "\n",
        "**1. findall()**\n",
        "\n",
        "Make another column 'year' with year in each row using regex on date column.\n"
      ]
    },
    {
      "cell_type": "code",
      "metadata": {
        "id": "ro4b50Mwkafl",
        "outputId": "766bba4b-461a-4d35-f774-675018630831"
      },
      "source": [
        "# create a function which takes date as parameter and applies regex on it\n",
        "\n",
        "\n",
        "#use apply function on tweet_data to use above function in order to make year column\n",
        "\n",
        "\n",
        "#print tweet_data head\n"
      ],
      "execution_count": null,
      "outputs": [
        {
          "output_type": "execute_result",
          "data": {
            "text/html": [
              "<div>\n",
              "<style scoped>\n",
              "    .dataframe tbody tr th:only-of-type {\n",
              "        vertical-align: middle;\n",
              "    }\n",
              "\n",
              "    .dataframe tbody tr th {\n",
              "        vertical-align: top;\n",
              "    }\n",
              "\n",
              "    .dataframe thead th {\n",
              "        text-align: right;\n",
              "    }\n",
              "</style>\n",
              "<table border=\"1\" class=\"dataframe\">\n",
              "  <thead>\n",
              "    <tr style=\"text-align: right;\">\n",
              "      <th></th>\n",
              "      <th>Unnamed: 0</th>\n",
              "      <th>date</th>\n",
              "      <th>target</th>\n",
              "      <th>insult</th>\n",
              "      <th>tweet</th>\n",
              "      <th>year</th>\n",
              "    </tr>\n",
              "  </thead>\n",
              "  <tbody>\n",
              "    <tr>\n",
              "      <th>0</th>\n",
              "      <td>1</td>\n",
              "      <td>2014-10-09</td>\n",
              "      <td>thomas-frieden</td>\n",
              "      <td>fool</td>\n",
              "      <td>Can you believe this fool, Dr. Thomas Frieden ...</td>\n",
              "      <td>2014</td>\n",
              "    </tr>\n",
              "    <tr>\n",
              "      <th>1</th>\n",
              "      <td>2</td>\n",
              "      <td>2014-10-09</td>\n",
              "      <td>thomas-frieden</td>\n",
              "      <td>DOPE</td>\n",
              "      <td>Can you believe this fool, Dr. Thomas Frieden ...</td>\n",
              "      <td>2014</td>\n",
              "    </tr>\n",
              "    <tr>\n",
              "      <th>2</th>\n",
              "      <td>3</td>\n",
              "      <td>2015-06-16</td>\n",
              "      <td>politicians</td>\n",
              "      <td>all talk and no action</td>\n",
              "      <td>Big time in U.S. today - MAKE AMERICA GREAT AG...</td>\n",
              "      <td>2015</td>\n",
              "    </tr>\n",
              "    <tr>\n",
              "      <th>3</th>\n",
              "      <td>4</td>\n",
              "      <td>2015-06-24</td>\n",
              "      <td>ben-cardin</td>\n",
              "      <td>It's politicians like Cardin that have destroy...</td>\n",
              "      <td>Politician @SenatorCardin didn't like that I s...</td>\n",
              "      <td>2015</td>\n",
              "    </tr>\n",
              "    <tr>\n",
              "      <th>4</th>\n",
              "      <td>5</td>\n",
              "      <td>2015-06-24</td>\n",
              "      <td>neil-young</td>\n",
              "      <td>total hypocrite</td>\n",
              "      <td>For the nonbeliever, here is a photo of @Neily...</td>\n",
              "      <td>2015</td>\n",
              "    </tr>\n",
              "  </tbody>\n",
              "</table>\n",
              "</div>"
            ],
            "text/plain": [
              "   Unnamed: 0        date          target  \\\n",
              "0           1  2014-10-09  thomas-frieden   \n",
              "1           2  2014-10-09  thomas-frieden   \n",
              "2           3  2015-06-16     politicians   \n",
              "3           4  2015-06-24      ben-cardin   \n",
              "4           5  2015-06-24      neil-young   \n",
              "\n",
              "                                              insult  \\\n",
              "0                                               fool   \n",
              "1                                               DOPE   \n",
              "2                             all talk and no action   \n",
              "3  It's politicians like Cardin that have destroy...   \n",
              "4                                    total hypocrite   \n",
              "\n",
              "                                               tweet  year  \n",
              "0  Can you believe this fool, Dr. Thomas Frieden ...  2014  \n",
              "1  Can you believe this fool, Dr. Thomas Frieden ...  2014  \n",
              "2  Big time in U.S. today - MAKE AMERICA GREAT AG...  2015  \n",
              "3  Politician @SenatorCardin didn't like that I s...  2015  \n",
              "4  For the nonbeliever, here is a photo of @Neily...  2015  "
            ]
          },
          "metadata": {
            "tags": []
          },
          "execution_count": 51
        }
      ]
    },
    {
      "cell_type": "markdown",
      "metadata": {
        "id": "1zsDi4wykafm"
      },
      "source": [
        "lets filter year from 2020-2021 which was the election time in USA.\n",
        "\n",
        "**2. search**\n",
        "\n",
        "We will use regex search for this "
      ]
    },
    {
      "cell_type": "code",
      "metadata": {
        "id": "aJ_y4hBskafm",
        "outputId": "a4271911-91d5-4b54-f86a-a7dfd936abd0"
      },
      "source": [
        "# create a function which takes year as parameter and applies regex on it\n",
        "\n",
        "    \n",
        "#use apply function on tweet_data to use above function in order to search tweets of 2020-2021\n",
        "\n",
        "\n",
        "#tweet_data head\n"
      ],
      "execution_count": null,
      "outputs": [
        {
          "output_type": "execute_result",
          "data": {
            "text/html": [
              "<div>\n",
              "<style scoped>\n",
              "    .dataframe tbody tr th:only-of-type {\n",
              "        vertical-align: middle;\n",
              "    }\n",
              "\n",
              "    .dataframe tbody tr th {\n",
              "        vertical-align: top;\n",
              "    }\n",
              "\n",
              "    .dataframe thead th {\n",
              "        text-align: right;\n",
              "    }\n",
              "</style>\n",
              "<table border=\"1\" class=\"dataframe\">\n",
              "  <thead>\n",
              "    <tr style=\"text-align: right;\">\n",
              "      <th></th>\n",
              "      <th>Unnamed: 0</th>\n",
              "      <th>date</th>\n",
              "      <th>target</th>\n",
              "      <th>insult</th>\n",
              "      <th>tweet</th>\n",
              "      <th>year</th>\n",
              "    </tr>\n",
              "  </thead>\n",
              "  <tbody>\n",
              "    <tr>\n",
              "      <th>0</th>\n",
              "      <td>1</td>\n",
              "      <td>2014-10-09</td>\n",
              "      <td>thomas-frieden</td>\n",
              "      <td>fool</td>\n",
              "      <td>Can you believe this fool, Dr. Thomas Frieden ...</td>\n",
              "      <td>None</td>\n",
              "    </tr>\n",
              "    <tr>\n",
              "      <th>1</th>\n",
              "      <td>2</td>\n",
              "      <td>2014-10-09</td>\n",
              "      <td>thomas-frieden</td>\n",
              "      <td>DOPE</td>\n",
              "      <td>Can you believe this fool, Dr. Thomas Frieden ...</td>\n",
              "      <td>None</td>\n",
              "    </tr>\n",
              "    <tr>\n",
              "      <th>2</th>\n",
              "      <td>3</td>\n",
              "      <td>2015-06-16</td>\n",
              "      <td>politicians</td>\n",
              "      <td>all talk and no action</td>\n",
              "      <td>Big time in U.S. today - MAKE AMERICA GREAT AG...</td>\n",
              "      <td>None</td>\n",
              "    </tr>\n",
              "    <tr>\n",
              "      <th>3</th>\n",
              "      <td>4</td>\n",
              "      <td>2015-06-24</td>\n",
              "      <td>ben-cardin</td>\n",
              "      <td>It's politicians like Cardin that have destroy...</td>\n",
              "      <td>Politician @SenatorCardin didn't like that I s...</td>\n",
              "      <td>None</td>\n",
              "    </tr>\n",
              "    <tr>\n",
              "      <th>4</th>\n",
              "      <td>5</td>\n",
              "      <td>2015-06-24</td>\n",
              "      <td>neil-young</td>\n",
              "      <td>total hypocrite</td>\n",
              "      <td>For the nonbeliever, here is a photo of @Neily...</td>\n",
              "      <td>None</td>\n",
              "    </tr>\n",
              "  </tbody>\n",
              "</table>\n",
              "</div>"
            ],
            "text/plain": [
              "   Unnamed: 0        date          target  \\\n",
              "0           1  2014-10-09  thomas-frieden   \n",
              "1           2  2014-10-09  thomas-frieden   \n",
              "2           3  2015-06-16     politicians   \n",
              "3           4  2015-06-24      ben-cardin   \n",
              "4           5  2015-06-24      neil-young   \n",
              "\n",
              "                                              insult  \\\n",
              "0                                               fool   \n",
              "1                                               DOPE   \n",
              "2                             all talk and no action   \n",
              "3  It's politicians like Cardin that have destroy...   \n",
              "4                                    total hypocrite   \n",
              "\n",
              "                                               tweet  year  \n",
              "0  Can you believe this fool, Dr. Thomas Frieden ...  None  \n",
              "1  Can you believe this fool, Dr. Thomas Frieden ...  None  \n",
              "2  Big time in U.S. today - MAKE AMERICA GREAT AG...  None  \n",
              "3  Politician @SenatorCardin didn't like that I s...  None  \n",
              "4  For the nonbeliever, here is a photo of @Neily...  None  "
            ]
          },
          "metadata": {
            "tags": []
          },
          "execution_count": 52
        }
      ]
    },
    {
      "cell_type": "markdown",
      "metadata": {
        "id": "DlPVEmOykafm"
      },
      "source": [
        "You can also do the same thing using regex match function to do this which is vailable in pandas\n",
        "\n",
        "Reference: https://www.geeksforgeeks.org/python-pandas-series-str-match/"
      ]
    },
    {
      "cell_type": "code",
      "metadata": {
        "id": "PDnIHn2gkafm",
        "outputId": "43dd9460-a599-4bc1-dff0-e574c8e6bbe0"
      },
      "source": [
        "# apply pandas str.match() function\n"
      ],
      "execution_count": null,
      "outputs": [
        {
          "output_type": "execute_result",
          "data": {
            "text/html": [
              "<div>\n",
              "<style scoped>\n",
              "    .dataframe tbody tr th:only-of-type {\n",
              "        vertical-align: middle;\n",
              "    }\n",
              "\n",
              "    .dataframe tbody tr th {\n",
              "        vertical-align: top;\n",
              "    }\n",
              "\n",
              "    .dataframe thead th {\n",
              "        text-align: right;\n",
              "    }\n",
              "</style>\n",
              "<table border=\"1\" class=\"dataframe\">\n",
              "  <thead>\n",
              "    <tr style=\"text-align: right;\">\n",
              "      <th></th>\n",
              "      <th>Unnamed: 0</th>\n",
              "      <th>date</th>\n",
              "      <th>target</th>\n",
              "      <th>insult</th>\n",
              "      <th>tweet</th>\n",
              "      <th>year</th>\n",
              "    </tr>\n",
              "  </thead>\n",
              "  <tbody>\n",
              "    <tr>\n",
              "      <th>7621</th>\n",
              "      <td>7622</td>\n",
              "      <td>2020-01-01</td>\n",
              "      <td>impeachment-inquiry</td>\n",
              "      <td>The greatest Witch Hunt in U.S. history</td>\n",
              "      <td>Thank you Steve. The greatest Witch Hunt in U....</td>\n",
              "      <td>2020</td>\n",
              "    </tr>\n",
              "    <tr>\n",
              "      <th>7622</th>\n",
              "      <td>7623</td>\n",
              "      <td>2020-01-02</td>\n",
              "      <td>impeachment-inquiry</td>\n",
              "      <td>Witch Hunt is sputtering badly, but still goin...</td>\n",
              "      <td>A lot of very good people were taken down by a...</td>\n",
              "      <td>2020</td>\n",
              "    </tr>\n",
              "    <tr>\n",
              "      <th>7623</th>\n",
              "      <td>7624</td>\n",
              "      <td>2020-01-04</td>\n",
              "      <td>impeachment-inquiry</td>\n",
              "      <td>this ridiculous Impeachment Lite Hoax</td>\n",
              "      <td>As hard as I work, &amp; as successful as our Coun...</td>\n",
              "      <td>2020</td>\n",
              "    </tr>\n",
              "    <tr>\n",
              "      <th>7624</th>\n",
              "      <td>7625</td>\n",
              "      <td>2020-01-06</td>\n",
              "      <td>los-angeles</td>\n",
              "      <td>poorly run</td>\n",
              "      <td>....If however, the city or state in question ...</td>\n",
              "      <td>2020</td>\n",
              "    </tr>\n",
              "    <tr>\n",
              "      <th>7625</th>\n",
              "      <td>7626</td>\n",
              "      <td>2020-01-06</td>\n",
              "      <td>impeachment-inquiry</td>\n",
              "      <td>The great Scam continues</td>\n",
              "      <td>“The reason they are not sending the Articles ...</td>\n",
              "      <td>2020</td>\n",
              "    </tr>\n",
              "    <tr>\n",
              "      <th>...</th>\n",
              "      <td>...</td>\n",
              "      <td>...</td>\n",
              "      <td>...</td>\n",
              "      <td>...</td>\n",
              "      <td>...</td>\n",
              "      <td>...</td>\n",
              "    </tr>\n",
              "    <tr>\n",
              "      <th>10355</th>\n",
              "      <td>10356</td>\n",
              "      <td>2021-01-06</td>\n",
              "      <td>2020-election</td>\n",
              "      <td>Many States want to decertify the mistake they...</td>\n",
              "      <td>If Vice President @Mike_Pence comes through fo...</td>\n",
              "      <td>2021</td>\n",
              "    </tr>\n",
              "    <tr>\n",
              "      <th>10356</th>\n",
              "      <td>10357</td>\n",
              "      <td>2021-01-06</td>\n",
              "      <td>2020-election</td>\n",
              "      <td>based on irregularities and fraud, plus corrup...</td>\n",
              "      <td>States want to correct their votes, which they...</td>\n",
              "      <td>2021</td>\n",
              "    </tr>\n",
              "    <tr>\n",
              "      <th>10357</th>\n",
              "      <td>10358</td>\n",
              "      <td>2021-01-06</td>\n",
              "      <td>2020-election</td>\n",
              "      <td>Our Election Process is worse than that of thi...</td>\n",
              "      <td>They just happened to find 50,000 ballots late...</td>\n",
              "      <td>2021</td>\n",
              "    </tr>\n",
              "    <tr>\n",
              "      <th>10358</th>\n",
              "      <td>10359</td>\n",
              "      <td>2021-01-06</td>\n",
              "      <td>2020-election</td>\n",
              "      <td>a FRAUD</td>\n",
              "      <td>The States want to redo their votes. They foun...</td>\n",
              "      <td>2021</td>\n",
              "    </tr>\n",
              "    <tr>\n",
              "      <th>10359</th>\n",
              "      <td>10360</td>\n",
              "      <td>2021-01-06</td>\n",
              "      <td>chuck-todd</td>\n",
              "      <td>Sleepy Eyes,  Sad to watch!</td>\n",
              "      <td>Sleepy Eyes Chuck Todd is so happy with the fa...</td>\n",
              "      <td>2021</td>\n",
              "    </tr>\n",
              "  </tbody>\n",
              "</table>\n",
              "<p>2739 rows × 6 columns</p>\n",
              "</div>"
            ],
            "text/plain": [
              "       Unnamed: 0        date               target  \\\n",
              "7621         7622  2020-01-01  impeachment-inquiry   \n",
              "7622         7623  2020-01-02  impeachment-inquiry   \n",
              "7623         7624  2020-01-04  impeachment-inquiry   \n",
              "7624         7625  2020-01-06          los-angeles   \n",
              "7625         7626  2020-01-06  impeachment-inquiry   \n",
              "...           ...         ...                  ...   \n",
              "10355       10356  2021-01-06        2020-election   \n",
              "10356       10357  2021-01-06        2020-election   \n",
              "10357       10358  2021-01-06        2020-election   \n",
              "10358       10359  2021-01-06        2020-election   \n",
              "10359       10360  2021-01-06           chuck-todd   \n",
              "\n",
              "                                                  insult  \\\n",
              "7621             The greatest Witch Hunt in U.S. history   \n",
              "7622   Witch Hunt is sputtering badly, but still goin...   \n",
              "7623               this ridiculous Impeachment Lite Hoax   \n",
              "7624                                          poorly run   \n",
              "7625                            The great Scam continues   \n",
              "...                                                  ...   \n",
              "10355  Many States want to decertify the mistake they...   \n",
              "10356  based on irregularities and fraud, plus corrup...   \n",
              "10357  Our Election Process is worse than that of thi...   \n",
              "10358                                            a FRAUD   \n",
              "10359                        Sleepy Eyes,  Sad to watch!   \n",
              "\n",
              "                                                   tweet  year  \n",
              "7621   Thank you Steve. The greatest Witch Hunt in U....  2020  \n",
              "7622   A lot of very good people were taken down by a...  2020  \n",
              "7623   As hard as I work, & as successful as our Coun...  2020  \n",
              "7624   ....If however, the city or state in question ...  2020  \n",
              "7625   “The reason they are not sending the Articles ...  2020  \n",
              "...                                                  ...   ...  \n",
              "10355  If Vice President @Mike_Pence comes through fo...  2021  \n",
              "10356  States want to correct their votes, which they...  2021  \n",
              "10357  They just happened to find 50,000 ballots late...  2021  \n",
              "10358  The States want to redo their votes. They foun...  2021  \n",
              "10359  Sleepy Eyes Chuck Todd is so happy with the fa...  2021  \n",
              "\n",
              "[2739 rows x 6 columns]"
            ]
          },
          "metadata": {
            "tags": []
          },
          "execution_count": 53
        }
      ]
    },
    {
      "cell_type": "markdown",
      "metadata": {
        "id": "Yzf5cT2gkafm"
      },
      "source": [
        "cool right!\n",
        "\n",
        "You got some null values after applying above function. Lets drop them using dropna function. Also drop 'Unnamed: 0' column as it does not give any information.\n"
      ]
    },
    {
      "cell_type": "code",
      "metadata": {
        "id": "GpILYEOgkafn"
      },
      "source": [
        "#drop na and Unnamed: 0 column\n",
        "\n"
      ],
      "execution_count": null,
      "outputs": []
    },
    {
      "cell_type": "markdown",
      "metadata": {
        "id": "UzhKxPr9kafn"
      },
      "source": [
        "**3. sub() Function**\n",
        "\n",
        "Now you have filtered the dataset with 2739 rows. Let's remove all @ from tweet column suing re sub() function."
      ]
    },
    {
      "cell_type": "code",
      "metadata": {
        "id": "XOEu4SN5kafn",
        "outputId": "a22b8181-d077-4553-d8bb-3c8afa0084ce"
      },
      "source": [
        "# create a function which takes tweet as parameter and applies regex on it\n",
        "\n",
        "\n",
        "\n",
        "#use apply function on tweet_data to use above function in order to remove @ from tweets\n",
        "\n",
        "#tweet_data head\n"
      ],
      "execution_count": null,
      "outputs": [
        {
          "output_type": "execute_result",
          "data": {
            "text/html": [
              "<div>\n",
              "<style scoped>\n",
              "    .dataframe tbody tr th:only-of-type {\n",
              "        vertical-align: middle;\n",
              "    }\n",
              "\n",
              "    .dataframe tbody tr th {\n",
              "        vertical-align: top;\n",
              "    }\n",
              "\n",
              "    .dataframe thead th {\n",
              "        text-align: right;\n",
              "    }\n",
              "</style>\n",
              "<table border=\"1\" class=\"dataframe\">\n",
              "  <thead>\n",
              "    <tr style=\"text-align: right;\">\n",
              "      <th></th>\n",
              "      <th>date</th>\n",
              "      <th>target</th>\n",
              "      <th>insult</th>\n",
              "      <th>tweet</th>\n",
              "      <th>year</th>\n",
              "    </tr>\n",
              "  </thead>\n",
              "  <tbody>\n",
              "    <tr>\n",
              "      <th>7621</th>\n",
              "      <td>2020-01-01</td>\n",
              "      <td>impeachment-inquiry</td>\n",
              "      <td>The greatest Witch Hunt in U.S. history</td>\n",
              "      <td>Thank you Steve. The greatest Witch Hunt in U....</td>\n",
              "      <td>2020</td>\n",
              "    </tr>\n",
              "    <tr>\n",
              "      <th>7622</th>\n",
              "      <td>2020-01-02</td>\n",
              "      <td>impeachment-inquiry</td>\n",
              "      <td>Witch Hunt is sputtering badly, but still goin...</td>\n",
              "      <td>A lot of very good people were taken down by a...</td>\n",
              "      <td>2020</td>\n",
              "    </tr>\n",
              "    <tr>\n",
              "      <th>7623</th>\n",
              "      <td>2020-01-04</td>\n",
              "      <td>impeachment-inquiry</td>\n",
              "      <td>this ridiculous Impeachment Lite Hoax</td>\n",
              "      <td>As hard as I work, &amp; as successful as our Coun...</td>\n",
              "      <td>2020</td>\n",
              "    </tr>\n",
              "    <tr>\n",
              "      <th>7624</th>\n",
              "      <td>2020-01-06</td>\n",
              "      <td>los-angeles</td>\n",
              "      <td>poorly run</td>\n",
              "      <td>....If however, the city or state in question ...</td>\n",
              "      <td>2020</td>\n",
              "    </tr>\n",
              "    <tr>\n",
              "      <th>7625</th>\n",
              "      <td>2020-01-06</td>\n",
              "      <td>impeachment-inquiry</td>\n",
              "      <td>The great Scam continues</td>\n",
              "      <td>“The reason they are not sending the Articles ...</td>\n",
              "      <td>2020</td>\n",
              "    </tr>\n",
              "    <tr>\n",
              "      <th>...</th>\n",
              "      <td>...</td>\n",
              "      <td>...</td>\n",
              "      <td>...</td>\n",
              "      <td>...</td>\n",
              "      <td>...</td>\n",
              "    </tr>\n",
              "    <tr>\n",
              "      <th>10355</th>\n",
              "      <td>2021-01-06</td>\n",
              "      <td>2020-election</td>\n",
              "      <td>Many States want to decertify the mistake they...</td>\n",
              "      <td>If Vice President Mike_Pence comes through for...</td>\n",
              "      <td>2021</td>\n",
              "    </tr>\n",
              "    <tr>\n",
              "      <th>10356</th>\n",
              "      <td>2021-01-06</td>\n",
              "      <td>2020-election</td>\n",
              "      <td>based on irregularities and fraud, plus corrup...</td>\n",
              "      <td>States want to correct their votes, which they...</td>\n",
              "      <td>2021</td>\n",
              "    </tr>\n",
              "    <tr>\n",
              "      <th>10357</th>\n",
              "      <td>2021-01-06</td>\n",
              "      <td>2020-election</td>\n",
              "      <td>Our Election Process is worse than that of thi...</td>\n",
              "      <td>They just happened to find 50,000 ballots late...</td>\n",
              "      <td>2021</td>\n",
              "    </tr>\n",
              "    <tr>\n",
              "      <th>10358</th>\n",
              "      <td>2021-01-06</td>\n",
              "      <td>2020-election</td>\n",
              "      <td>a FRAUD</td>\n",
              "      <td>The States want to redo their votes. They foun...</td>\n",
              "      <td>2021</td>\n",
              "    </tr>\n",
              "    <tr>\n",
              "      <th>10359</th>\n",
              "      <td>2021-01-06</td>\n",
              "      <td>chuck-todd</td>\n",
              "      <td>Sleepy Eyes,  Sad to watch!</td>\n",
              "      <td>Sleepy Eyes Chuck Todd is so happy with the fa...</td>\n",
              "      <td>2021</td>\n",
              "    </tr>\n",
              "  </tbody>\n",
              "</table>\n",
              "<p>2739 rows × 5 columns</p>\n",
              "</div>"
            ],
            "text/plain": [
              "             date               target  \\\n",
              "7621   2020-01-01  impeachment-inquiry   \n",
              "7622   2020-01-02  impeachment-inquiry   \n",
              "7623   2020-01-04  impeachment-inquiry   \n",
              "7624   2020-01-06          los-angeles   \n",
              "7625   2020-01-06  impeachment-inquiry   \n",
              "...           ...                  ...   \n",
              "10355  2021-01-06        2020-election   \n",
              "10356  2021-01-06        2020-election   \n",
              "10357  2021-01-06        2020-election   \n",
              "10358  2021-01-06        2020-election   \n",
              "10359  2021-01-06           chuck-todd   \n",
              "\n",
              "                                                  insult  \\\n",
              "7621             The greatest Witch Hunt in U.S. history   \n",
              "7622   Witch Hunt is sputtering badly, but still goin...   \n",
              "7623               this ridiculous Impeachment Lite Hoax   \n",
              "7624                                          poorly run   \n",
              "7625                            The great Scam continues   \n",
              "...                                                  ...   \n",
              "10355  Many States want to decertify the mistake they...   \n",
              "10356  based on irregularities and fraud, plus corrup...   \n",
              "10357  Our Election Process is worse than that of thi...   \n",
              "10358                                            a FRAUD   \n",
              "10359                        Sleepy Eyes,  Sad to watch!   \n",
              "\n",
              "                                                   tweet  year  \n",
              "7621   Thank you Steve. The greatest Witch Hunt in U....  2020  \n",
              "7622   A lot of very good people were taken down by a...  2020  \n",
              "7623   As hard as I work, & as successful as our Coun...  2020  \n",
              "7624   ....If however, the city or state in question ...  2020  \n",
              "7625   “The reason they are not sending the Articles ...  2020  \n",
              "...                                                  ...   ...  \n",
              "10355  If Vice President Mike_Pence comes through for...  2021  \n",
              "10356  States want to correct their votes, which they...  2021  \n",
              "10357  They just happened to find 50,000 ballots late...  2021  \n",
              "10358  The States want to redo their votes. They foun...  2021  \n",
              "10359  Sleepy Eyes Chuck Todd is so happy with the fa...  2021  \n",
              "\n",
              "[2739 rows x 5 columns]"
            ]
          },
          "metadata": {
            "tags": []
          },
          "execution_count": 55
        }
      ]
    },
    {
      "cell_type": "markdown",
      "metadata": {
        "id": "fbY7s3MMkafn"
      },
      "source": [
        "You can also use the sub function just in one line using list comprehension. Can you try doing it below?"
      ]
    },
    {
      "cell_type": "code",
      "metadata": {
        "id": "vTqCAxjFkafn"
      },
      "source": [
        "# sub() suing list comprehension\n"
      ],
      "execution_count": null,
      "outputs": []
    },
    {
      "cell_type": "markdown",
      "metadata": {
        "id": "orSj1u_ckafn"
      },
      "source": [
        "**4. split() Function**\n",
        "\n",
        "Lets now split the column target by making another column Name which has name before hyphen(\"-\")\n"
      ]
    },
    {
      "cell_type": "code",
      "metadata": {
        "id": "NFUtlKHFkafo",
        "outputId": "08db13fd-c42e-4dee-e4f8-8063c339ad5f"
      },
      "source": [
        "# create a function which takes target as parameter and applies regex on it\n",
        "\n",
        "\n",
        "#use apply function on tweet_data to use above function in order to create Name column\n",
        "\n",
        "#tweet_data head\n"
      ],
      "execution_count": null,
      "outputs": [
        {
          "output_type": "execute_result",
          "data": {
            "text/html": [
              "<div>\n",
              "<style scoped>\n",
              "    .dataframe tbody tr th:only-of-type {\n",
              "        vertical-align: middle;\n",
              "    }\n",
              "\n",
              "    .dataframe tbody tr th {\n",
              "        vertical-align: top;\n",
              "    }\n",
              "\n",
              "    .dataframe thead th {\n",
              "        text-align: right;\n",
              "    }\n",
              "</style>\n",
              "<table border=\"1\" class=\"dataframe\">\n",
              "  <thead>\n",
              "    <tr style=\"text-align: right;\">\n",
              "      <th></th>\n",
              "      <th>date</th>\n",
              "      <th>target</th>\n",
              "      <th>insult</th>\n",
              "      <th>tweet</th>\n",
              "      <th>year</th>\n",
              "      <th>Name</th>\n",
              "    </tr>\n",
              "  </thead>\n",
              "  <tbody>\n",
              "    <tr>\n",
              "      <th>7621</th>\n",
              "      <td>2020-01-01</td>\n",
              "      <td>impeachment-inquiry</td>\n",
              "      <td>The greatest Witch Hunt in U.S. history</td>\n",
              "      <td>Thank you Steve. The greatest Witch Hunt in U....</td>\n",
              "      <td>2020</td>\n",
              "      <td>impeachment</td>\n",
              "    </tr>\n",
              "    <tr>\n",
              "      <th>7622</th>\n",
              "      <td>2020-01-02</td>\n",
              "      <td>impeachment-inquiry</td>\n",
              "      <td>Witch Hunt is sputtering badly, but still goin...</td>\n",
              "      <td>A lot of very good people were taken down by a...</td>\n",
              "      <td>2020</td>\n",
              "      <td>impeachment</td>\n",
              "    </tr>\n",
              "    <tr>\n",
              "      <th>7623</th>\n",
              "      <td>2020-01-04</td>\n",
              "      <td>impeachment-inquiry</td>\n",
              "      <td>this ridiculous Impeachment Lite Hoax</td>\n",
              "      <td>As hard as I work, &amp; as successful as our Coun...</td>\n",
              "      <td>2020</td>\n",
              "      <td>impeachment</td>\n",
              "    </tr>\n",
              "    <tr>\n",
              "      <th>7624</th>\n",
              "      <td>2020-01-06</td>\n",
              "      <td>los-angeles</td>\n",
              "      <td>poorly run</td>\n",
              "      <td>....If however, the city or state in question ...</td>\n",
              "      <td>2020</td>\n",
              "      <td>los</td>\n",
              "    </tr>\n",
              "    <tr>\n",
              "      <th>7625</th>\n",
              "      <td>2020-01-06</td>\n",
              "      <td>impeachment-inquiry</td>\n",
              "      <td>The great Scam continues</td>\n",
              "      <td>“The reason they are not sending the Articles ...</td>\n",
              "      <td>2020</td>\n",
              "      <td>impeachment</td>\n",
              "    </tr>\n",
              "  </tbody>\n",
              "</table>\n",
              "</div>"
            ],
            "text/plain": [
              "            date               target  \\\n",
              "7621  2020-01-01  impeachment-inquiry   \n",
              "7622  2020-01-02  impeachment-inquiry   \n",
              "7623  2020-01-04  impeachment-inquiry   \n",
              "7624  2020-01-06          los-angeles   \n",
              "7625  2020-01-06  impeachment-inquiry   \n",
              "\n",
              "                                                 insult  \\\n",
              "7621            The greatest Witch Hunt in U.S. history   \n",
              "7622  Witch Hunt is sputtering badly, but still goin...   \n",
              "7623              this ridiculous Impeachment Lite Hoax   \n",
              "7624                                         poorly run   \n",
              "7625                           The great Scam continues   \n",
              "\n",
              "                                                  tweet  year         Name  \n",
              "7621  Thank you Steve. The greatest Witch Hunt in U....  2020  impeachment  \n",
              "7622  A lot of very good people were taken down by a...  2020  impeachment  \n",
              "7623  As hard as I work, & as successful as our Coun...  2020  impeachment  \n",
              "7624  ....If however, the city or state in question ...  2020          los  \n",
              "7625  “The reason they are not sending the Articles ...  2020  impeachment  "
            ]
          },
          "metadata": {
            "tags": []
          },
          "execution_count": 57
        }
      ]
    },
    {
      "cell_type": "markdown",
      "metadata": {
        "id": "35sAJFmrkafo"
      },
      "source": [
        "Now can you filter out Name which are specially targetted for trump? Lets do it below and check how many such tweets are there."
      ]
    },
    {
      "cell_type": "code",
      "metadata": {
        "id": "olFobpsBkafo",
        "outputId": "c362ed91-5e03-4632-d8a1-27d5a8c3bf29"
      },
      "source": [
        "#filter Name which is euqals to trump\n"
      ],
      "execution_count": null,
      "outputs": [
        {
          "output_type": "execute_result",
          "data": {
            "text/html": [
              "<div>\n",
              "<style scoped>\n",
              "    .dataframe tbody tr th:only-of-type {\n",
              "        vertical-align: middle;\n",
              "    }\n",
              "\n",
              "    .dataframe tbody tr th {\n",
              "        vertical-align: top;\n",
              "    }\n",
              "\n",
              "    .dataframe thead th {\n",
              "        text-align: right;\n",
              "    }\n",
              "</style>\n",
              "<table border=\"1\" class=\"dataframe\">\n",
              "  <thead>\n",
              "    <tr style=\"text-align: right;\">\n",
              "      <th></th>\n",
              "      <th>date</th>\n",
              "      <th>target</th>\n",
              "      <th>insult</th>\n",
              "      <th>tweet</th>\n",
              "      <th>year</th>\n",
              "      <th>Name</th>\n",
              "    </tr>\n",
              "  </thead>\n",
              "  <tbody>\n",
              "    <tr>\n",
              "      <th>7859</th>\n",
              "      <td>2020-02-09</td>\n",
              "      <td>trump-russia</td>\n",
              "      <td>THE WHOLE SCAM INVESTIGATION, THE MUELLER REPO...</td>\n",
              "      <td>FBI Director Christopher Wray just admitted th...</td>\n",
              "      <td>2020</td>\n",
              "      <td>trump</td>\n",
              "    </tr>\n",
              "    <tr>\n",
              "      <th>7860</th>\n",
              "      <td>2020-02-09</td>\n",
              "      <td>trump-russia</td>\n",
              "      <td>the biggest political crime in American Histor...</td>\n",
              "      <td>....This is the biggest political crime in Ame...</td>\n",
              "      <td>2020</td>\n",
              "      <td>trump</td>\n",
              "    </tr>\n",
              "    <tr>\n",
              "      <th>7861</th>\n",
              "      <td>2020-02-09</td>\n",
              "      <td>trump-russia</td>\n",
              "      <td>THE PARTY IN POWER ILLEGALLY SPIED ON MY CAMPAIGN</td>\n",
              "      <td>....This is the biggest political crime in Ame...</td>\n",
              "      <td>2020</td>\n",
              "      <td>trump</td>\n",
              "    </tr>\n",
              "    <tr>\n",
              "      <th>7890</th>\n",
              "      <td>2020-02-12</td>\n",
              "      <td>trump-russia</td>\n",
              "      <td>an investigation that was illegal</td>\n",
              "      <td>Who are the four prosecutors (Mueller people?)...</td>\n",
              "      <td>2020</td>\n",
              "      <td>trump</td>\n",
              "    </tr>\n",
              "    <tr>\n",
              "      <th>7891</th>\n",
              "      <td>2020-02-12</td>\n",
              "      <td>trump-russia</td>\n",
              "      <td>the Mueller Scam</td>\n",
              "      <td>Who are the four prosecutors (Mueller people?)...</td>\n",
              "      <td>2020</td>\n",
              "      <td>trump</td>\n",
              "    </tr>\n",
              "    <tr>\n",
              "      <th>...</th>\n",
              "      <td>...</td>\n",
              "      <td>...</td>\n",
              "      <td>...</td>\n",
              "      <td>...</td>\n",
              "      <td>...</td>\n",
              "      <td>...</td>\n",
              "    </tr>\n",
              "    <tr>\n",
              "      <th>9658</th>\n",
              "      <td>2020-10-07</td>\n",
              "      <td>trump-russia</td>\n",
              "      <td>Hoax Scandal</td>\n",
              "      <td>All Russia Hoax Scandal information was Declas...</td>\n",
              "      <td>2020</td>\n",
              "      <td>trump</td>\n",
              "    </tr>\n",
              "    <tr>\n",
              "      <th>9659</th>\n",
              "      <td>2020-10-07</td>\n",
              "      <td>trump-russia</td>\n",
              "      <td>the biggest political crime in the history of ...</td>\n",
              "      <td>All Russia Hoax Scandal information was Declas...</td>\n",
              "      <td>2020</td>\n",
              "      <td>trump</td>\n",
              "    </tr>\n",
              "    <tr>\n",
              "      <th>10091</th>\n",
              "      <td>2020-11-22</td>\n",
              "      <td>trump-russia</td>\n",
              "      <td>never ending Witch Hunt</td>\n",
              "      <td>Thanks Mark. It’s all a continuation of the ne...</td>\n",
              "      <td>2020</td>\n",
              "      <td>trump</td>\n",
              "    </tr>\n",
              "    <tr>\n",
              "      <th>10188</th>\n",
              "      <td>2020-12-09</td>\n",
              "      <td>trump-critics</td>\n",
              "      <td>obnoxious</td>\n",
              "      <td>Germany has consistently been used by my obnox...</td>\n",
              "      <td>2020</td>\n",
              "      <td>trump</td>\n",
              "    </tr>\n",
              "    <tr>\n",
              "      <th>10258</th>\n",
              "      <td>2020-12-18</td>\n",
              "      <td>trump-russia</td>\n",
              "      <td>Russia Hoax</td>\n",
              "      <td>The Russia Hoax becomes an even bigger lie! ht...</td>\n",
              "      <td>2020</td>\n",
              "      <td>trump</td>\n",
              "    </tr>\n",
              "  </tbody>\n",
              "</table>\n",
              "<p>65 rows × 6 columns</p>\n",
              "</div>"
            ],
            "text/plain": [
              "             date         target  \\\n",
              "7859   2020-02-09   trump-russia   \n",
              "7860   2020-02-09   trump-russia   \n",
              "7861   2020-02-09   trump-russia   \n",
              "7890   2020-02-12   trump-russia   \n",
              "7891   2020-02-12   trump-russia   \n",
              "...           ...            ...   \n",
              "9658   2020-10-07   trump-russia   \n",
              "9659   2020-10-07   trump-russia   \n",
              "10091  2020-11-22   trump-russia   \n",
              "10188  2020-12-09  trump-critics   \n",
              "10258  2020-12-18   trump-russia   \n",
              "\n",
              "                                                  insult  \\\n",
              "7859   THE WHOLE SCAM INVESTIGATION, THE MUELLER REPO...   \n",
              "7860   the biggest political crime in American Histor...   \n",
              "7861   THE PARTY IN POWER ILLEGALLY SPIED ON MY CAMPAIGN   \n",
              "7890                   an investigation that was illegal   \n",
              "7891                                    the Mueller Scam   \n",
              "...                                                  ...   \n",
              "9658                                        Hoax Scandal   \n",
              "9659   the biggest political crime in the history of ...   \n",
              "10091                            never ending Witch Hunt   \n",
              "10188                                          obnoxious   \n",
              "10258                                        Russia Hoax   \n",
              "\n",
              "                                                   tweet  year   Name  \n",
              "7859   FBI Director Christopher Wray just admitted th...  2020  trump  \n",
              "7860   ....This is the biggest political crime in Ame...  2020  trump  \n",
              "7861   ....This is the biggest political crime in Ame...  2020  trump  \n",
              "7890   Who are the four prosecutors (Mueller people?)...  2020  trump  \n",
              "7891   Who are the four prosecutors (Mueller people?)...  2020  trump  \n",
              "...                                                  ...   ...    ...  \n",
              "9658   All Russia Hoax Scandal information was Declas...  2020  trump  \n",
              "9659   All Russia Hoax Scandal information was Declas...  2020  trump  \n",
              "10091  Thanks Mark. It’s all a continuation of the ne...  2020  trump  \n",
              "10188  Germany has consistently been used by my obnox...  2020  trump  \n",
              "10258  The Russia Hoax becomes an even bigger lie! ht...  2020  trump  \n",
              "\n",
              "[65 rows x 6 columns]"
            ]
          },
          "metadata": {
            "tags": []
          },
          "execution_count": 58
        }
      ]
    },
    {
      "cell_type": "markdown",
      "metadata": {
        "id": "h27WAyjYkafo"
      },
      "source": [
        "So here you got total of 65 records which were  tweeted on Donald Trump in the span of 2020-2021. \n",
        "\n",
        "Well done buddy! You have learned how to apply regex on dataframes. Regex are mostly used for datasets which are having textual information."
      ]
    },
    {
      "cell_type": "markdown",
      "metadata": {
        "id": "__cWih9Okafo"
      },
      "source": [
        "Good job!  Now our interesting trump insult tweet data is somewhat cleaned. "
      ]
    },
    {
      "cell_type": "markdown",
      "metadata": {
        "id": "4SgrLjyDkqhy"
      },
      "source": [
        "---------------------------------\n",
        "\n",
        "# C'mon cheers:) you have completed the 5th milestone challenge too. \n",
        "\n",
        "--------------------------------"
      ]
    },
    {
      "cell_type": "markdown",
      "metadata": {
        "id": "CG6h_jBBkqhy"
      },
      "source": [
        "# FeedBack\n",
        "We hope you’ve enjoyed this course so far. We’re committed to help you use \"AI for All\" course to its full potential, so that you have a great learning experience. And that’s why we need your help in form of a feedback here.\n",
        "\n",
        "Please fill this feedback form https://docs.google.com/forms/d/e/1FAIpQLSfjBmH0yJSSA34IhSVx4h2eDMgOAeG4Dk-yHid__NMTk3Hq5g/viewform"
      ]
    }
  ]
}