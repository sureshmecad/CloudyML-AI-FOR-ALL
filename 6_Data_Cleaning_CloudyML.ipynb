{
  "nbformat": 4,
  "nbformat_minor": 0,
  "metadata": {
    "colab": {
      "name": "6_Data Cleaning_CloudyML.ipynb",
      "provenance": [],
      "collapsed_sections": [
        "4SgrLjyDkqhy"
      ],
      "include_colab_link": true
    },
    "kernelspec": {
      "display_name": "Python 3",
      "language": "python",
      "name": "python3"
    },
    "language_info": {
      "codemirror_mode": {
        "name": "ipython",
        "version": 3
      },
      "file_extension": ".py",
      "mimetype": "text/x-python",
      "name": "python",
      "nbconvert_exporter": "python",
      "pygments_lexer": "ipython3",
      "version": "3.8.5"
    }
  },
  "cells": [
    {
      "cell_type": "markdown",
      "metadata": {
        "id": "view-in-github",
        "colab_type": "text"
      },
      "source": [
        "<a href=\"https://colab.research.google.com/github/sureshmecad/CloudyML-AI-FOR-ALL/blob/main/6_Data_Cleaning_CloudyML.ipynb\" target=\"_parent\"><img src=\"https://colab.research.google.com/assets/colab-badge.svg\" alt=\"Open In Colab\"/></a>"
      ]
    },
    {
      "cell_type": "markdown",
      "metadata": {
        "id": "rc6I3sagkqhR"
      },
      "source": [
        "# <center><u>Data Cleaning</u></center>"
      ]
    },
    {
      "cell_type": "markdown",
      "metadata": {
        "id": "h9sXOHkckqhY"
      },
      "source": [
        " Data cleaning is a part of the process on a data science project.\n",
        " \n",
        "Data cleaning is the process of fixing or removing incorrect, corrupted, incorrectly formatted, duplicate, or incomplete data within a dataset.\n",
        "<br>\n",
        "When you clean your data, all outdated or incorrect information is gone – leaving you with the highest quality information for your analysis and model building."
      ]
    },
    {
      "cell_type": "markdown",
      "metadata": {
        "id": "p0qd3D0Lkqhc"
      },
      "source": [
        "<p style='text-align: right;'> 4 points</p>\n"
      ]
    },
    {
      "cell_type": "code",
      "metadata": {
        "id": "wF_oQrRAkqhe"
      },
      "source": [
        "# import pandas and numpy with alias pd and np respectively\n",
        "import numpy as np\n",
        "import pandas as pd"
      ],
      "execution_count": 1,
      "outputs": []
    },
    {
      "cell_type": "markdown",
      "metadata": {
        "id": "7k4VuSAekqhe"
      },
      "source": [
        "Create a dataframe, d1 = pd.DataFrame( {‘Temperature’ : [1, np.nan, 3, 2, 3] ,’Humidity’ : [22, np.nan, 2 , np.nan, 20 ] })"
      ]
    },
    {
      "cell_type": "code",
      "metadata": {
        "id": "8fjpdGnskqhe"
      },
      "source": [
        "#create d1\n",
        "d1 = pd.DataFrame( {'Temperature' : [1, np.nan, 3, 2, 3] , 'Humidity' : [22, np.nan, 2 , np.nan, 20 ] })"
      ],
      "execution_count": 2,
      "outputs": []
    },
    {
      "cell_type": "markdown",
      "metadata": {
        "id": "_6S2Agszkqhf"
      },
      "source": [
        "print the dataframe d1"
      ]
    },
    {
      "cell_type": "code",
      "metadata": {
        "colab": {
          "base_uri": "https://localhost:8080/",
          "height": 204
        },
        "id": "fauZD3xnkqhf",
        "outputId": "7700a3de-b4b9-48b6-aac3-0bcfe27db494"
      },
      "source": [
        "#print d1\n",
        "d1"
      ],
      "execution_count": 3,
      "outputs": [
        {
          "output_type": "execute_result",
          "data": {
            "text/html": [
              "<div>\n",
              "<style scoped>\n",
              "    .dataframe tbody tr th:only-of-type {\n",
              "        vertical-align: middle;\n",
              "    }\n",
              "\n",
              "    .dataframe tbody tr th {\n",
              "        vertical-align: top;\n",
              "    }\n",
              "\n",
              "    .dataframe thead th {\n",
              "        text-align: right;\n",
              "    }\n",
              "</style>\n",
              "<table border=\"1\" class=\"dataframe\">\n",
              "  <thead>\n",
              "    <tr style=\"text-align: right;\">\n",
              "      <th></th>\n",
              "      <th>Temperature</th>\n",
              "      <th>Humidity</th>\n",
              "    </tr>\n",
              "  </thead>\n",
              "  <tbody>\n",
              "    <tr>\n",
              "      <th>0</th>\n",
              "      <td>1.0</td>\n",
              "      <td>22.0</td>\n",
              "    </tr>\n",
              "    <tr>\n",
              "      <th>1</th>\n",
              "      <td>NaN</td>\n",
              "      <td>NaN</td>\n",
              "    </tr>\n",
              "    <tr>\n",
              "      <th>2</th>\n",
              "      <td>3.0</td>\n",
              "      <td>2.0</td>\n",
              "    </tr>\n",
              "    <tr>\n",
              "      <th>3</th>\n",
              "      <td>2.0</td>\n",
              "      <td>NaN</td>\n",
              "    </tr>\n",
              "    <tr>\n",
              "      <th>4</th>\n",
              "      <td>3.0</td>\n",
              "      <td>20.0</td>\n",
              "    </tr>\n",
              "  </tbody>\n",
              "</table>\n",
              "</div>"
            ],
            "text/plain": [
              "   Temperature  Humidity\n",
              "0          1.0      22.0\n",
              "1          NaN       NaN\n",
              "2          3.0       2.0\n",
              "3          2.0       NaN\n",
              "4          3.0      20.0"
            ]
          },
          "metadata": {
            "tags": []
          },
          "execution_count": 3
        }
      ]
    },
    {
      "cell_type": "markdown",
      "metadata": {
        "id": "PIvW5svikqhg"
      },
      "source": [
        "Find whether the given dataframe contain any missing values? "
      ]
    },
    {
      "cell_type": "code",
      "metadata": {
        "colab": {
          "base_uri": "https://localhost:8080/",
          "height": 204
        },
        "id": "lJ3MiNk-kqhg",
        "outputId": "239d74f5-85aa-489b-b483-f4170ecea3bd"
      },
      "source": [
        "#check for null\n",
        "d1.isnull()"
      ],
      "execution_count": 4,
      "outputs": [
        {
          "output_type": "execute_result",
          "data": {
            "text/html": [
              "<div>\n",
              "<style scoped>\n",
              "    .dataframe tbody tr th:only-of-type {\n",
              "        vertical-align: middle;\n",
              "    }\n",
              "\n",
              "    .dataframe tbody tr th {\n",
              "        vertical-align: top;\n",
              "    }\n",
              "\n",
              "    .dataframe thead th {\n",
              "        text-align: right;\n",
              "    }\n",
              "</style>\n",
              "<table border=\"1\" class=\"dataframe\">\n",
              "  <thead>\n",
              "    <tr style=\"text-align: right;\">\n",
              "      <th></th>\n",
              "      <th>Temperature</th>\n",
              "      <th>Humidity</th>\n",
              "    </tr>\n",
              "  </thead>\n",
              "  <tbody>\n",
              "    <tr>\n",
              "      <th>0</th>\n",
              "      <td>False</td>\n",
              "      <td>False</td>\n",
              "    </tr>\n",
              "    <tr>\n",
              "      <th>1</th>\n",
              "      <td>True</td>\n",
              "      <td>True</td>\n",
              "    </tr>\n",
              "    <tr>\n",
              "      <th>2</th>\n",
              "      <td>False</td>\n",
              "      <td>False</td>\n",
              "    </tr>\n",
              "    <tr>\n",
              "      <th>3</th>\n",
              "      <td>False</td>\n",
              "      <td>True</td>\n",
              "    </tr>\n",
              "    <tr>\n",
              "      <th>4</th>\n",
              "      <td>False</td>\n",
              "      <td>False</td>\n",
              "    </tr>\n",
              "  </tbody>\n",
              "</table>\n",
              "</div>"
            ],
            "text/plain": [
              "   Temperature  Humidity\n",
              "0        False     False\n",
              "1         True      True\n",
              "2        False     False\n",
              "3        False      True\n",
              "4        False     False"
            ]
          },
          "metadata": {
            "tags": []
          },
          "execution_count": 4
        }
      ]
    },
    {
      "cell_type": "markdown",
      "metadata": {
        "id": "1mR6mwjZkqhg"
      },
      "source": [
        "How many missing values does each column have?"
      ]
    },
    {
      "cell_type": "code",
      "metadata": {
        "colab": {
          "base_uri": "https://localhost:8080/"
        },
        "id": "GuttaqhSkqhg",
        "outputId": "0dbaacb8-d588-44a2-9bda-35080b4f6919"
      },
      "source": [
        "#total null\n",
        "d1.isnull().sum()"
      ],
      "execution_count": 5,
      "outputs": [
        {
          "output_type": "execute_result",
          "data": {
            "text/plain": [
              "Temperature    1\n",
              "Humidity       2\n",
              "dtype: int64"
            ]
          },
          "metadata": {
            "tags": []
          },
          "execution_count": 5
        }
      ]
    },
    {
      "cell_type": "markdown",
      "metadata": {
        "id": "RdJX6nKdkqhh"
      },
      "source": [
        "## Dealing with missing values\n",
        "\n",
        "Refrence:-https://www.youtube.com/watch?v=xkRz6R0FlQ4\n",
        "\n",
        "<br>Now, we know we have missing values, the next thing that we need to work on, is how to deal with these missing values"
      ]
    },
    {
      "cell_type": "markdown",
      "metadata": {
        "id": "5iYTalWckqhh"
      },
      "source": [
        " - ## Method 1: Delete the rows which contain missing values.\n",
        " This method include dropping all the rows that have missing value in any column. "
      ]
    },
    {
      "cell_type": "markdown",
      "metadata": {
        "id": "D5OwrlkXkqhh"
      },
      "source": [
        " <p style='text-align: right;'> 20 points</p>"
      ]
    },
    {
      "cell_type": "markdown",
      "metadata": {
        "id": "sB425bYFkqhh"
      },
      "source": [
        "Use a suitable method to drop all the rows having missing values and save the change in d2 variable"
      ]
    },
    {
      "cell_type": "code",
      "metadata": {
        "id": "ms-0jJZpkqhh"
      },
      "source": [
        "d2=d1.dropna()"
      ],
      "execution_count": 6,
      "outputs": []
    },
    {
      "cell_type": "markdown",
      "metadata": {
        "id": "uvJFaJ8bkqhi"
      },
      "source": [
        "Print d2"
      ]
    },
    {
      "cell_type": "code",
      "metadata": {
        "colab": {
          "base_uri": "https://localhost:8080/",
          "height": 142
        },
        "id": "YoXoAdXGkqhi",
        "outputId": "5add88e8-d685-4cbe-8fe3-f12be94a8e02"
      },
      "source": [
        "#print nan\n",
        "d2"
      ],
      "execution_count": 7,
      "outputs": [
        {
          "output_type": "execute_result",
          "data": {
            "text/html": [
              "<div>\n",
              "<style scoped>\n",
              "    .dataframe tbody tr th:only-of-type {\n",
              "        vertical-align: middle;\n",
              "    }\n",
              "\n",
              "    .dataframe tbody tr th {\n",
              "        vertical-align: top;\n",
              "    }\n",
              "\n",
              "    .dataframe thead th {\n",
              "        text-align: right;\n",
              "    }\n",
              "</style>\n",
              "<table border=\"1\" class=\"dataframe\">\n",
              "  <thead>\n",
              "    <tr style=\"text-align: right;\">\n",
              "      <th></th>\n",
              "      <th>Temperature</th>\n",
              "      <th>Humidity</th>\n",
              "    </tr>\n",
              "  </thead>\n",
              "  <tbody>\n",
              "    <tr>\n",
              "      <th>0</th>\n",
              "      <td>1.0</td>\n",
              "      <td>22.0</td>\n",
              "    </tr>\n",
              "    <tr>\n",
              "      <th>2</th>\n",
              "      <td>3.0</td>\n",
              "      <td>2.0</td>\n",
              "    </tr>\n",
              "    <tr>\n",
              "      <th>4</th>\n",
              "      <td>3.0</td>\n",
              "      <td>20.0</td>\n",
              "    </tr>\n",
              "  </tbody>\n",
              "</table>\n",
              "</div>"
            ],
            "text/plain": [
              "   Temperature  Humidity\n",
              "0          1.0      22.0\n",
              "2          3.0       2.0\n",
              "4          3.0      20.0"
            ]
          },
          "metadata": {
            "tags": []
          },
          "execution_count": 7
        }
      ]
    },
    {
      "cell_type": "markdown",
      "metadata": {
        "id": "_BYBoQIFkqhi"
      },
      "source": [
        "Hey Remember : droping rows with nan is one of the method to deal with missing values. But you have to decide if you need to go for this method by checking percentage of nan present in the dataframe.\n",
        "\n",
        "If a column is having more than 60% of nan values then its better to remove such variables altogether if business permits "
      ]
    },
    {
      "cell_type": "markdown",
      "metadata": {
        "id": "0E0Gyw0mkqhi"
      },
      "source": [
        "- ## Method 2: Replacing missing values\n",
        "Sometimes rather than dropping NA values, you'd rather replace them with a valid value. This value might be a single number like zero, or it might be some sort of imputation or interpolation"
      ]
    },
    {
      "cell_type": "markdown",
      "metadata": {
        "id": "JsESq_JNkqhi"
      },
      "source": [
        "<p style='text-align: right;'> 30 points</p>\n"
      ]
    },
    {
      "cell_type": "markdown",
      "metadata": {
        "id": "rwg-9c8ukqhj"
      },
      "source": [
        "Impute the missing values with constant number of your choice"
      ]
    },
    {
      "cell_type": "code",
      "metadata": {
        "colab": {
          "base_uri": "https://localhost:8080/",
          "height": 204
        },
        "id": "CCzT8A-4kqhj",
        "outputId": "9b25c6d3-a077-4d33-bef8-e31c58f79876"
      },
      "source": [
        "# The below output has imputed missing  values with 100\n",
        "d1.fillna(100)"
      ],
      "execution_count": 8,
      "outputs": [
        {
          "output_type": "execute_result",
          "data": {
            "text/html": [
              "<div>\n",
              "<style scoped>\n",
              "    .dataframe tbody tr th:only-of-type {\n",
              "        vertical-align: middle;\n",
              "    }\n",
              "\n",
              "    .dataframe tbody tr th {\n",
              "        vertical-align: top;\n",
              "    }\n",
              "\n",
              "    .dataframe thead th {\n",
              "        text-align: right;\n",
              "    }\n",
              "</style>\n",
              "<table border=\"1\" class=\"dataframe\">\n",
              "  <thead>\n",
              "    <tr style=\"text-align: right;\">\n",
              "      <th></th>\n",
              "      <th>Temperature</th>\n",
              "      <th>Humidity</th>\n",
              "    </tr>\n",
              "  </thead>\n",
              "  <tbody>\n",
              "    <tr>\n",
              "      <th>0</th>\n",
              "      <td>1.0</td>\n",
              "      <td>22.0</td>\n",
              "    </tr>\n",
              "    <tr>\n",
              "      <th>1</th>\n",
              "      <td>100.0</td>\n",
              "      <td>100.0</td>\n",
              "    </tr>\n",
              "    <tr>\n",
              "      <th>2</th>\n",
              "      <td>3.0</td>\n",
              "      <td>2.0</td>\n",
              "    </tr>\n",
              "    <tr>\n",
              "      <th>3</th>\n",
              "      <td>2.0</td>\n",
              "      <td>100.0</td>\n",
              "    </tr>\n",
              "    <tr>\n",
              "      <th>4</th>\n",
              "      <td>3.0</td>\n",
              "      <td>20.0</td>\n",
              "    </tr>\n",
              "  </tbody>\n",
              "</table>\n",
              "</div>"
            ],
            "text/plain": [
              "   Temperature  Humidity\n",
              "0          1.0      22.0\n",
              "1        100.0     100.0\n",
              "2          3.0       2.0\n",
              "3          2.0     100.0\n",
              "4          3.0      20.0"
            ]
          },
          "metadata": {
            "tags": []
          },
          "execution_count": 8
        }
      ]
    },
    {
      "cell_type": "markdown",
      "metadata": {
        "id": "Owk-O3CZkqhj"
      },
      "source": [
        "Do you think its a  good way to treat Nan values? What if such constant values are not suitable for our further analysis?\n",
        "Try to give your thoughts on this."
      ]
    },
    {
      "cell_type": "code",
      "metadata": {
        "id": "4Vn0HNw4kqhj"
      },
      "source": [
        "# Replacing with random number is not a good idea. In this case it will lead to outlier. It is always better to replace numerical values with median."
      ],
      "execution_count": 9,
      "outputs": []
    },
    {
      "cell_type": "markdown",
      "metadata": {
        "id": "rHxP4ad7kqhj"
      },
      "source": [
        "Impute the missing values with mean"
      ]
    },
    {
      "cell_type": "code",
      "metadata": {
        "colab": {
          "base_uri": "https://localhost:8080/",
          "height": 204
        },
        "id": "FKB7R8Takqhk",
        "outputId": "f7fb1449-c098-40c3-df72-974e2bec83e2"
      },
      "source": [
        "#  imputing mean\n",
        "d1.fillna(d1.mean())"
      ],
      "execution_count": 10,
      "outputs": [
        {
          "output_type": "execute_result",
          "data": {
            "text/html": [
              "<div>\n",
              "<style scoped>\n",
              "    .dataframe tbody tr th:only-of-type {\n",
              "        vertical-align: middle;\n",
              "    }\n",
              "\n",
              "    .dataframe tbody tr th {\n",
              "        vertical-align: top;\n",
              "    }\n",
              "\n",
              "    .dataframe thead th {\n",
              "        text-align: right;\n",
              "    }\n",
              "</style>\n",
              "<table border=\"1\" class=\"dataframe\">\n",
              "  <thead>\n",
              "    <tr style=\"text-align: right;\">\n",
              "      <th></th>\n",
              "      <th>Temperature</th>\n",
              "      <th>Humidity</th>\n",
              "    </tr>\n",
              "  </thead>\n",
              "  <tbody>\n",
              "    <tr>\n",
              "      <th>0</th>\n",
              "      <td>1.00</td>\n",
              "      <td>22.000000</td>\n",
              "    </tr>\n",
              "    <tr>\n",
              "      <th>1</th>\n",
              "      <td>2.25</td>\n",
              "      <td>14.666667</td>\n",
              "    </tr>\n",
              "    <tr>\n",
              "      <th>2</th>\n",
              "      <td>3.00</td>\n",
              "      <td>2.000000</td>\n",
              "    </tr>\n",
              "    <tr>\n",
              "      <th>3</th>\n",
              "      <td>2.00</td>\n",
              "      <td>14.666667</td>\n",
              "    </tr>\n",
              "    <tr>\n",
              "      <th>4</th>\n",
              "      <td>3.00</td>\n",
              "      <td>20.000000</td>\n",
              "    </tr>\n",
              "  </tbody>\n",
              "</table>\n",
              "</div>"
            ],
            "text/plain": [
              "   Temperature   Humidity\n",
              "0         1.00  22.000000\n",
              "1         2.25  14.666667\n",
              "2         3.00   2.000000\n",
              "3         2.00  14.666667\n",
              "4         3.00  20.000000"
            ]
          },
          "metadata": {
            "tags": []
          },
          "execution_count": 10
        }
      ]
    },
    {
      "cell_type": "markdown",
      "metadata": {
        "id": "wzwa_GzRkqhk"
      },
      "source": [
        "Impute the missing values with median"
      ]
    },
    {
      "cell_type": "code",
      "metadata": {
        "colab": {
          "base_uri": "https://localhost:8080/",
          "height": 204
        },
        "id": "CrDrortKkqhk",
        "outputId": "3a9ca12a-c7ee-4e40-a89a-8add630b225c"
      },
      "source": [
        "#median imputing\n",
        "d1.fillna(d1.median())"
      ],
      "execution_count": 11,
      "outputs": [
        {
          "output_type": "execute_result",
          "data": {
            "text/html": [
              "<div>\n",
              "<style scoped>\n",
              "    .dataframe tbody tr th:only-of-type {\n",
              "        vertical-align: middle;\n",
              "    }\n",
              "\n",
              "    .dataframe tbody tr th {\n",
              "        vertical-align: top;\n",
              "    }\n",
              "\n",
              "    .dataframe thead th {\n",
              "        text-align: right;\n",
              "    }\n",
              "</style>\n",
              "<table border=\"1\" class=\"dataframe\">\n",
              "  <thead>\n",
              "    <tr style=\"text-align: right;\">\n",
              "      <th></th>\n",
              "      <th>Temperature</th>\n",
              "      <th>Humidity</th>\n",
              "    </tr>\n",
              "  </thead>\n",
              "  <tbody>\n",
              "    <tr>\n",
              "      <th>0</th>\n",
              "      <td>1.0</td>\n",
              "      <td>22.0</td>\n",
              "    </tr>\n",
              "    <tr>\n",
              "      <th>1</th>\n",
              "      <td>2.5</td>\n",
              "      <td>20.0</td>\n",
              "    </tr>\n",
              "    <tr>\n",
              "      <th>2</th>\n",
              "      <td>3.0</td>\n",
              "      <td>2.0</td>\n",
              "    </tr>\n",
              "    <tr>\n",
              "      <th>3</th>\n",
              "      <td>2.0</td>\n",
              "      <td>20.0</td>\n",
              "    </tr>\n",
              "    <tr>\n",
              "      <th>4</th>\n",
              "      <td>3.0</td>\n",
              "      <td>20.0</td>\n",
              "    </tr>\n",
              "  </tbody>\n",
              "</table>\n",
              "</div>"
            ],
            "text/plain": [
              "   Temperature  Humidity\n",
              "0          1.0      22.0\n",
              "1          2.5      20.0\n",
              "2          3.0       2.0\n",
              "3          2.0      20.0\n",
              "4          3.0      20.0"
            ]
          },
          "metadata": {
            "tags": []
          },
          "execution_count": 11
        }
      ]
    },
    {
      "cell_type": "markdown",
      "metadata": {
        "id": "PRzK4otMkqhk"
      },
      "source": [
        "Replacing with the mean, mode or median approximations are a statistical approach of handling the missing values.\n",
        "\n",
        "Another Fun fact:\n",
        "    \n",
        "    This is an approximation which can add variance to the data set. But the loss of the data can be negated by this method which yields better results compared to removal of rows and columns."
      ]
    },
    {
      "cell_type": "markdown",
      "metadata": {
        "id": "GMtx5Urqkqhk"
      },
      "source": [
        "Impute Nan with forward fill"
      ]
    },
    {
      "cell_type": "code",
      "metadata": {
        "colab": {
          "base_uri": "https://localhost:8080/",
          "height": 204
        },
        "id": "te5396qBkqhl",
        "outputId": "bef74659-936b-495c-d2df-015573fa684f"
      },
      "source": [
        "#forward fill\n",
        "d1.fillna(method='ffill')"
      ],
      "execution_count": 12,
      "outputs": [
        {
          "output_type": "execute_result",
          "data": {
            "text/html": [
              "<div>\n",
              "<style scoped>\n",
              "    .dataframe tbody tr th:only-of-type {\n",
              "        vertical-align: middle;\n",
              "    }\n",
              "\n",
              "    .dataframe tbody tr th {\n",
              "        vertical-align: top;\n",
              "    }\n",
              "\n",
              "    .dataframe thead th {\n",
              "        text-align: right;\n",
              "    }\n",
              "</style>\n",
              "<table border=\"1\" class=\"dataframe\">\n",
              "  <thead>\n",
              "    <tr style=\"text-align: right;\">\n",
              "      <th></th>\n",
              "      <th>Temperature</th>\n",
              "      <th>Humidity</th>\n",
              "    </tr>\n",
              "  </thead>\n",
              "  <tbody>\n",
              "    <tr>\n",
              "      <th>0</th>\n",
              "      <td>1.0</td>\n",
              "      <td>22.0</td>\n",
              "    </tr>\n",
              "    <tr>\n",
              "      <th>1</th>\n",
              "      <td>1.0</td>\n",
              "      <td>22.0</td>\n",
              "    </tr>\n",
              "    <tr>\n",
              "      <th>2</th>\n",
              "      <td>3.0</td>\n",
              "      <td>2.0</td>\n",
              "    </tr>\n",
              "    <tr>\n",
              "      <th>3</th>\n",
              "      <td>2.0</td>\n",
              "      <td>2.0</td>\n",
              "    </tr>\n",
              "    <tr>\n",
              "      <th>4</th>\n",
              "      <td>3.0</td>\n",
              "      <td>20.0</td>\n",
              "    </tr>\n",
              "  </tbody>\n",
              "</table>\n",
              "</div>"
            ],
            "text/plain": [
              "   Temperature  Humidity\n",
              "0          1.0      22.0\n",
              "1          1.0      22.0\n",
              "2          3.0       2.0\n",
              "3          2.0       2.0\n",
              "4          3.0      20.0"
            ]
          },
          "metadata": {
            "tags": []
          },
          "execution_count": 12
        }
      ]
    },
    {
      "cell_type": "markdown",
      "metadata": {
        "id": "eH05-uFJkqhl"
      },
      "source": [
        "Impute Nan with backward fill"
      ]
    },
    {
      "cell_type": "code",
      "metadata": {
        "colab": {
          "base_uri": "https://localhost:8080/",
          "height": 204
        },
        "id": "8qRteICGkqhl",
        "outputId": "e59e3ab7-cdbf-4133-d3bc-75ad231304b0"
      },
      "source": [
        "#backward fill\n",
        "d1.fillna(method='bfill')"
      ],
      "execution_count": 13,
      "outputs": [
        {
          "output_type": "execute_result",
          "data": {
            "text/html": [
              "<div>\n",
              "<style scoped>\n",
              "    .dataframe tbody tr th:only-of-type {\n",
              "        vertical-align: middle;\n",
              "    }\n",
              "\n",
              "    .dataframe tbody tr th {\n",
              "        vertical-align: top;\n",
              "    }\n",
              "\n",
              "    .dataframe thead th {\n",
              "        text-align: right;\n",
              "    }\n",
              "</style>\n",
              "<table border=\"1\" class=\"dataframe\">\n",
              "  <thead>\n",
              "    <tr style=\"text-align: right;\">\n",
              "      <th></th>\n",
              "      <th>Temperature</th>\n",
              "      <th>Humidity</th>\n",
              "    </tr>\n",
              "  </thead>\n",
              "  <tbody>\n",
              "    <tr>\n",
              "      <th>0</th>\n",
              "      <td>1.0</td>\n",
              "      <td>22.0</td>\n",
              "    </tr>\n",
              "    <tr>\n",
              "      <th>1</th>\n",
              "      <td>3.0</td>\n",
              "      <td>2.0</td>\n",
              "    </tr>\n",
              "    <tr>\n",
              "      <th>2</th>\n",
              "      <td>3.0</td>\n",
              "      <td>2.0</td>\n",
              "    </tr>\n",
              "    <tr>\n",
              "      <th>3</th>\n",
              "      <td>2.0</td>\n",
              "      <td>20.0</td>\n",
              "    </tr>\n",
              "    <tr>\n",
              "      <th>4</th>\n",
              "      <td>3.0</td>\n",
              "      <td>20.0</td>\n",
              "    </tr>\n",
              "  </tbody>\n",
              "</table>\n",
              "</div>"
            ],
            "text/plain": [
              "   Temperature  Humidity\n",
              "0          1.0      22.0\n",
              "1          3.0       2.0\n",
              "2          3.0       2.0\n",
              "3          2.0      20.0\n",
              "4          3.0      20.0"
            ]
          },
          "metadata": {
            "tags": []
          },
          "execution_count": 13
        }
      ]
    },
    {
      "cell_type": "markdown",
      "metadata": {
        "id": "b9M8GD2Jkqhl"
      },
      "source": [
        "Hey a fun fact here, as sweet as a cookie:\n",
        "\n",
        "- ffill/pad/bfill are good imputation method if our data is of time series. This would keep the trend unaffected for our analysis."
      ]
    },
    {
      "cell_type": "markdown",
      "metadata": {
        "id": "x5J30Hulkqhl"
      },
      "source": [
        "Impute nan using interpolation method"
      ]
    },
    {
      "cell_type": "code",
      "metadata": {
        "colab": {
          "base_uri": "https://localhost:8080/",
          "height": 204
        },
        "id": "TM3KAAC0kqhl",
        "outputId": "30605534-ad5e-49ca-a18d-bc18874aa729"
      },
      "source": [
        "#interpolate\n",
        "d1.interpolate(method ='linear', limit_direction ='forward')"
      ],
      "execution_count": 14,
      "outputs": [
        {
          "output_type": "execute_result",
          "data": {
            "text/html": [
              "<div>\n",
              "<style scoped>\n",
              "    .dataframe tbody tr th:only-of-type {\n",
              "        vertical-align: middle;\n",
              "    }\n",
              "\n",
              "    .dataframe tbody tr th {\n",
              "        vertical-align: top;\n",
              "    }\n",
              "\n",
              "    .dataframe thead th {\n",
              "        text-align: right;\n",
              "    }\n",
              "</style>\n",
              "<table border=\"1\" class=\"dataframe\">\n",
              "  <thead>\n",
              "    <tr style=\"text-align: right;\">\n",
              "      <th></th>\n",
              "      <th>Temperature</th>\n",
              "      <th>Humidity</th>\n",
              "    </tr>\n",
              "  </thead>\n",
              "  <tbody>\n",
              "    <tr>\n",
              "      <th>0</th>\n",
              "      <td>1.0</td>\n",
              "      <td>22.0</td>\n",
              "    </tr>\n",
              "    <tr>\n",
              "      <th>1</th>\n",
              "      <td>2.0</td>\n",
              "      <td>12.0</td>\n",
              "    </tr>\n",
              "    <tr>\n",
              "      <th>2</th>\n",
              "      <td>3.0</td>\n",
              "      <td>2.0</td>\n",
              "    </tr>\n",
              "    <tr>\n",
              "      <th>3</th>\n",
              "      <td>2.0</td>\n",
              "      <td>11.0</td>\n",
              "    </tr>\n",
              "    <tr>\n",
              "      <th>4</th>\n",
              "      <td>3.0</td>\n",
              "      <td>20.0</td>\n",
              "    </tr>\n",
              "  </tbody>\n",
              "</table>\n",
              "</div>"
            ],
            "text/plain": [
              "   Temperature  Humidity\n",
              "0          1.0      22.0\n",
              "1          2.0      12.0\n",
              "2          3.0       2.0\n",
              "3          2.0      11.0\n",
              "4          3.0      20.0"
            ]
          },
          "metadata": {
            "tags": []
          },
          "execution_count": 14
        }
      ]
    },
    {
      "cell_type": "markdown",
      "metadata": {
        "id": "RU3U6gp9kqhm"
      },
      "source": [
        "You lucky champ! you got to know another amazing fact:\n",
        " - Interpolation method by default is linear in nature. It is an imputation technique that assumes a linear relationship between data points and utilises non-missing values from adjacent data points to compute a value for a missing data point.\n",
        "\n",
        "\n",
        "You can explore other techniques involved in interplolation method, which might be usefull for your project."
      ]
    },
    {
      "cell_type": "markdown",
      "metadata": {
        "id": "o8_jyqTskqhm"
      },
      "source": [
        "Perform KNN imputation\n",
        "\n",
        "Reference: https://link.medium.com/mV3023if8gb"
      ]
    },
    {
      "cell_type": "code",
      "metadata": {
        "colab": {
          "base_uri": "https://localhost:8080/",
          "height": 204
        },
        "id": "_8fxGCuUkqhm",
        "outputId": "3d076486-3cd2-4fc1-aa94-31fd3ac99119"
      },
      "source": [
        "# Hint: Import KNNImputer and impute it on d1. Also note: Use n_neighbors=2\n",
        "from sklearn.impute import KNNImputer\n",
        "imputer = KNNImputer(n_neighbors=2)\n",
        "d1 = pd.DataFrame(imputer.fit_transform(d1), columns = d1.columns)\n",
        "d1"
      ],
      "execution_count": 15,
      "outputs": [
        {
          "output_type": "execute_result",
          "data": {
            "text/html": [
              "<div>\n",
              "<style scoped>\n",
              "    .dataframe tbody tr th:only-of-type {\n",
              "        vertical-align: middle;\n",
              "    }\n",
              "\n",
              "    .dataframe tbody tr th {\n",
              "        vertical-align: top;\n",
              "    }\n",
              "\n",
              "    .dataframe thead th {\n",
              "        text-align: right;\n",
              "    }\n",
              "</style>\n",
              "<table border=\"1\" class=\"dataframe\">\n",
              "  <thead>\n",
              "    <tr style=\"text-align: right;\">\n",
              "      <th></th>\n",
              "      <th>Temperature</th>\n",
              "      <th>Humidity</th>\n",
              "    </tr>\n",
              "  </thead>\n",
              "  <tbody>\n",
              "    <tr>\n",
              "      <th>0</th>\n",
              "      <td>1.00</td>\n",
              "      <td>22.000000</td>\n",
              "    </tr>\n",
              "    <tr>\n",
              "      <th>1</th>\n",
              "      <td>2.25</td>\n",
              "      <td>14.666667</td>\n",
              "    </tr>\n",
              "    <tr>\n",
              "      <th>2</th>\n",
              "      <td>3.00</td>\n",
              "      <td>2.000000</td>\n",
              "    </tr>\n",
              "    <tr>\n",
              "      <th>3</th>\n",
              "      <td>2.00</td>\n",
              "      <td>12.000000</td>\n",
              "    </tr>\n",
              "    <tr>\n",
              "      <th>4</th>\n",
              "      <td>3.00</td>\n",
              "      <td>20.000000</td>\n",
              "    </tr>\n",
              "  </tbody>\n",
              "</table>\n",
              "</div>"
            ],
            "text/plain": [
              "   Temperature   Humidity\n",
              "0         1.00  22.000000\n",
              "1         2.25  14.666667\n",
              "2         3.00   2.000000\n",
              "3         2.00  12.000000\n",
              "4         3.00  20.000000"
            ]
          },
          "metadata": {
            "tags": []
          },
          "execution_count": 15
        }
      ]
    },
    {
      "cell_type": "markdown",
      "metadata": {
        "id": "sESbshdUkqhm"
      },
      "source": [
        "Point to ponder: KNN is an algorithm that is useful for matching a point with its closest k neighbors in a multi-dimensional space.\n",
        "\n",
        "Do you think scaling is required to implement this method?. Yes you are right the answer is YES.\n",
        "Can you comment below why normalized data is required, so that we understand your logic on this."
      ]
    },
    {
      "cell_type": "markdown",
      "metadata": {
        "id": "xEL5JbBYkqhm"
      },
      "source": [
        "It requires us to normalize our data. Otherwise, the different scales of our data will lead the KNN Imputer to generate biased replacements for the missing values."
      ]
    },
    {
      "cell_type": "markdown",
      "metadata": {
        "id": "ReGk1Utckqhn"
      },
      "source": [
        "# Dropping Irrelevant Columns\n",
        "\n",
        "Reference:-https://www.youtube.com/watch?v=cRurWEfmxC0"
      ]
    },
    {
      "cell_type": "markdown",
      "metadata": {
        "id": "xZuUMHb3kqhn"
      },
      "source": [
        "<p style='text-align: right;'> 5 points</p>\n"
      ]
    },
    {
      "cell_type": "markdown",
      "metadata": {
        "id": "rJZ0HZJPkqhn"
      },
      "source": [
        "Create a dataframe df = pd.DataFrame(np.random.randint(0,100,size=(100, 5)), columns=list('ABCDE'))\n"
      ]
    },
    {
      "cell_type": "code",
      "metadata": {
        "id": "XtENCthAkqhn"
      },
      "source": [
        "np.random.seed(10)\n",
        "\n",
        "df = pd.DataFrame(np.random.randint(0,100,size=(100, 5)), columns=list('ABCDE'))\n"
      ],
      "execution_count": 16,
      "outputs": []
    },
    {
      "cell_type": "markdown",
      "metadata": {
        "id": "bUQ0M4CKkqhn"
      },
      "source": [
        "print df"
      ]
    },
    {
      "cell_type": "code",
      "metadata": {
        "colab": {
          "base_uri": "https://localhost:8080/"
        },
        "id": "iuFh13J_kqho",
        "outputId": "55b629ed-cfeb-4bc2-b4a6-23c17bddb931"
      },
      "source": [
        "print (df)"
      ],
      "execution_count": 17,
      "outputs": [
        {
          "output_type": "stream",
          "text": [
            "     A   B   C   D   E\n",
            "0    9  15  64  28  89\n",
            "1   93  29   8  73   0\n",
            "2   40  36  16  11  54\n",
            "3   88  62  33  72  78\n",
            "4   49  51  54  77  69\n",
            "..  ..  ..  ..  ..  ..\n",
            "95   3  50  59  34  21\n",
            "96  16  18  61  54  60\n",
            "97  21  87  83  71  16\n",
            "98  67  38  27  96  87\n",
            "99  98  89  16  82  19\n",
            "\n",
            "[100 rows x 5 columns]\n"
          ],
          "name": "stdout"
        }
      ]
    },
    {
      "cell_type": "markdown",
      "metadata": {
        "id": "cctu8rh5lL9j"
      },
      "source": [
        "Note: Since all the rows are having random numbers, your dataframe observations might be different than the output given above"
      ]
    },
    {
      "cell_type": "markdown",
      "metadata": {
        "id": "wwTEQf2Jkqho"
      },
      "source": [
        "Suppose for our analysis our project do not require column E. So you need to remove this column. update this new change using inplace parameter"
      ]
    },
    {
      "cell_type": "code",
      "metadata": {
        "id": "6dPLhUwikqho"
      },
      "source": [
        "#drop E\n",
        "df.drop([\"E\"], axis=1, inplace=True)"
      ],
      "execution_count": 18,
      "outputs": []
    },
    {
      "cell_type": "markdown",
      "metadata": {
        "id": "1rtM-5APkqho"
      },
      "source": [
        "Check if column **E** is removed by printing head of df"
      ]
    },
    {
      "cell_type": "code",
      "metadata": {
        "colab": {
          "base_uri": "https://localhost:8080/",
          "height": 204
        },
        "id": "yvEa_vfOkqhp",
        "outputId": "a11da548-5c27-46f4-98e1-8c22ba63a432"
      },
      "source": [
        "#df head\n",
        "df.head()"
      ],
      "execution_count": 19,
      "outputs": [
        {
          "output_type": "execute_result",
          "data": {
            "text/html": [
              "<div>\n",
              "<style scoped>\n",
              "    .dataframe tbody tr th:only-of-type {\n",
              "        vertical-align: middle;\n",
              "    }\n",
              "\n",
              "    .dataframe tbody tr th {\n",
              "        vertical-align: top;\n",
              "    }\n",
              "\n",
              "    .dataframe thead th {\n",
              "        text-align: right;\n",
              "    }\n",
              "</style>\n",
              "<table border=\"1\" class=\"dataframe\">\n",
              "  <thead>\n",
              "    <tr style=\"text-align: right;\">\n",
              "      <th></th>\n",
              "      <th>A</th>\n",
              "      <th>B</th>\n",
              "      <th>C</th>\n",
              "      <th>D</th>\n",
              "    </tr>\n",
              "  </thead>\n",
              "  <tbody>\n",
              "    <tr>\n",
              "      <th>0</th>\n",
              "      <td>9</td>\n",
              "      <td>15</td>\n",
              "      <td>64</td>\n",
              "      <td>28</td>\n",
              "    </tr>\n",
              "    <tr>\n",
              "      <th>1</th>\n",
              "      <td>93</td>\n",
              "      <td>29</td>\n",
              "      <td>8</td>\n",
              "      <td>73</td>\n",
              "    </tr>\n",
              "    <tr>\n",
              "      <th>2</th>\n",
              "      <td>40</td>\n",
              "      <td>36</td>\n",
              "      <td>16</td>\n",
              "      <td>11</td>\n",
              "    </tr>\n",
              "    <tr>\n",
              "      <th>3</th>\n",
              "      <td>88</td>\n",
              "      <td>62</td>\n",
              "      <td>33</td>\n",
              "      <td>72</td>\n",
              "    </tr>\n",
              "    <tr>\n",
              "      <th>4</th>\n",
              "      <td>49</td>\n",
              "      <td>51</td>\n",
              "      <td>54</td>\n",
              "      <td>77</td>\n",
              "    </tr>\n",
              "  </tbody>\n",
              "</table>\n",
              "</div>"
            ],
            "text/plain": [
              "    A   B   C   D\n",
              "0   9  15  64  28\n",
              "1  93  29   8  73\n",
              "2  40  36  16  11\n",
              "3  88  62  33  72\n",
              "4  49  51  54  77"
            ]
          },
          "metadata": {
            "tags": []
          },
          "execution_count": 19
        }
      ]
    },
    {
      "cell_type": "markdown",
      "metadata": {
        "id": "XQDwFmMKkqhq"
      },
      "source": [
        "# Ensure requirements as per domain\n",
        "\n",
        "Reference:-https://www.youtube.com/watch?v=eM7p3MVLOZ8"
      ]
    },
    {
      "cell_type": "markdown",
      "metadata": {
        "id": "uN5BNC29kqhq"
      },
      "source": [
        "<p style='text-align: right;'> 10 points</p>\n"
      ]
    },
    {
      "cell_type": "markdown",
      "metadata": {
        "id": "V1LgaSKOjnPm"
      },
      "source": [
        "\n",
        "Shallow copy the dataframe df in variable df2 and print df2 head\n",
        "\n",
        "\n",
        "\n",
        "\n"
      ]
    },
    {
      "cell_type": "code",
      "metadata": {
        "colab": {
          "base_uri": "https://localhost:8080/",
          "height": 204
        },
        "id": "uFK6ZRVZjTAt",
        "outputId": "9eba1013-695c-4f07-9913-5241df7800ba"
      },
      "source": [
        "df2=df.copy()\n",
        "\n",
        "#df2 head\n",
        "df2.head()"
      ],
      "execution_count": 20,
      "outputs": [
        {
          "output_type": "execute_result",
          "data": {
            "text/html": [
              "<div>\n",
              "<style scoped>\n",
              "    .dataframe tbody tr th:only-of-type {\n",
              "        vertical-align: middle;\n",
              "    }\n",
              "\n",
              "    .dataframe tbody tr th {\n",
              "        vertical-align: top;\n",
              "    }\n",
              "\n",
              "    .dataframe thead th {\n",
              "        text-align: right;\n",
              "    }\n",
              "</style>\n",
              "<table border=\"1\" class=\"dataframe\">\n",
              "  <thead>\n",
              "    <tr style=\"text-align: right;\">\n",
              "      <th></th>\n",
              "      <th>A</th>\n",
              "      <th>B</th>\n",
              "      <th>C</th>\n",
              "      <th>D</th>\n",
              "    </tr>\n",
              "  </thead>\n",
              "  <tbody>\n",
              "    <tr>\n",
              "      <th>0</th>\n",
              "      <td>9</td>\n",
              "      <td>15</td>\n",
              "      <td>64</td>\n",
              "      <td>28</td>\n",
              "    </tr>\n",
              "    <tr>\n",
              "      <th>1</th>\n",
              "      <td>93</td>\n",
              "      <td>29</td>\n",
              "      <td>8</td>\n",
              "      <td>73</td>\n",
              "    </tr>\n",
              "    <tr>\n",
              "      <th>2</th>\n",
              "      <td>40</td>\n",
              "      <td>36</td>\n",
              "      <td>16</td>\n",
              "      <td>11</td>\n",
              "    </tr>\n",
              "    <tr>\n",
              "      <th>3</th>\n",
              "      <td>88</td>\n",
              "      <td>62</td>\n",
              "      <td>33</td>\n",
              "      <td>72</td>\n",
              "    </tr>\n",
              "    <tr>\n",
              "      <th>4</th>\n",
              "      <td>49</td>\n",
              "      <td>51</td>\n",
              "      <td>54</td>\n",
              "      <td>77</td>\n",
              "    </tr>\n",
              "  </tbody>\n",
              "</table>\n",
              "</div>"
            ],
            "text/plain": [
              "    A   B   C   D\n",
              "0   9  15  64  28\n",
              "1  93  29   8  73\n",
              "2  40  36  16  11\n",
              "3  88  62  33  72\n",
              "4  49  51  54  77"
            ]
          },
          "metadata": {
            "tags": []
          },
          "execution_count": 20
        }
      ]
    },
    {
      "cell_type": "markdown",
      "metadata": {
        "id": "2OmoXpwLkqhq"
      },
      "source": [
        "Suppose your domain expert says to filter column B with even numbers to do correct analysis. Implement the same below and update the change in varaible df2."
      ]
    },
    {
      "cell_type": "code",
      "metadata": {
        "id": "lOG09CHLkqhq"
      },
      "source": [
        "df2 = df2[df2['B'] % 2 == 0]"
      ],
      "execution_count": 21,
      "outputs": []
    },
    {
      "cell_type": "markdown",
      "metadata": {
        "id": "9glWk_f8kqhq"
      },
      "source": [
        "print updated head of *df2*"
      ]
    },
    {
      "cell_type": "code",
      "metadata": {
        "colab": {
          "base_uri": "https://localhost:8080/",
          "height": 204
        },
        "id": "-7DJrucnkqhq",
        "outputId": "9b89ef86-558b-478b-f005-43b51b18035c"
      },
      "source": [
        "# df2 head\n",
        "df2.head()"
      ],
      "execution_count": 22,
      "outputs": [
        {
          "output_type": "execute_result",
          "data": {
            "text/html": [
              "<div>\n",
              "<style scoped>\n",
              "    .dataframe tbody tr th:only-of-type {\n",
              "        vertical-align: middle;\n",
              "    }\n",
              "\n",
              "    .dataframe tbody tr th {\n",
              "        vertical-align: top;\n",
              "    }\n",
              "\n",
              "    .dataframe thead th {\n",
              "        text-align: right;\n",
              "    }\n",
              "</style>\n",
              "<table border=\"1\" class=\"dataframe\">\n",
              "  <thead>\n",
              "    <tr style=\"text-align: right;\">\n",
              "      <th></th>\n",
              "      <th>A</th>\n",
              "      <th>B</th>\n",
              "      <th>C</th>\n",
              "      <th>D</th>\n",
              "    </tr>\n",
              "  </thead>\n",
              "  <tbody>\n",
              "    <tr>\n",
              "      <th>2</th>\n",
              "      <td>40</td>\n",
              "      <td>36</td>\n",
              "      <td>16</td>\n",
              "      <td>11</td>\n",
              "    </tr>\n",
              "    <tr>\n",
              "      <th>3</th>\n",
              "      <td>88</td>\n",
              "      <td>62</td>\n",
              "      <td>33</td>\n",
              "      <td>72</td>\n",
              "    </tr>\n",
              "    <tr>\n",
              "      <th>6</th>\n",
              "      <td>30</td>\n",
              "      <td>30</td>\n",
              "      <td>89</td>\n",
              "      <td>12</td>\n",
              "    </tr>\n",
              "    <tr>\n",
              "      <th>9</th>\n",
              "      <td>11</td>\n",
              "      <td>28</td>\n",
              "      <td>74</td>\n",
              "      <td>88</td>\n",
              "    </tr>\n",
              "    <tr>\n",
              "      <th>10</th>\n",
              "      <td>15</td>\n",
              "      <td>18</td>\n",
              "      <td>80</td>\n",
              "      <td>71</td>\n",
              "    </tr>\n",
              "  </tbody>\n",
              "</table>\n",
              "</div>"
            ],
            "text/plain": [
              "     A   B   C   D\n",
              "2   40  36  16  11\n",
              "3   88  62  33  72\n",
              "6   30  30  89  12\n",
              "9   11  28  74  88\n",
              "10  15  18  80  71"
            ]
          },
          "metadata": {
            "tags": []
          },
          "execution_count": 22
        }
      ]
    },
    {
      "cell_type": "markdown",
      "metadata": {
        "id": "dRAh9uVnkqhq"
      },
      "source": [
        "# Creating a sensible index values\n",
        "\n",
        "Reference:-https://www.youtube.com/watch?v=FQ4IB5mZOmQ\n"
      ]
    },
    {
      "cell_type": "markdown",
      "metadata": {
        "id": "ngZAGkC2kqhr"
      },
      "source": [
        "Oops. The index in this dataframe doesn't make sense. please correct index in a sequential manner starting from 1. Save the updates in df2"
      ]
    },
    {
      "cell_type": "code",
      "metadata": {
        "id": "X_M-38Qxkqhr"
      },
      "source": [
        "#set proper index\n",
        "df2 = df2.reset_index(drop=True)"
      ],
      "execution_count": 23,
      "outputs": []
    },
    {
      "cell_type": "markdown",
      "metadata": {
        "id": "k7MEL_Ldkqhr"
      },
      "source": [
        "print df2 head again"
      ]
    },
    {
      "cell_type": "code",
      "metadata": {
        "colab": {
          "base_uri": "https://localhost:8080/",
          "height": 204
        },
        "id": "_qLt44-vkqhr",
        "outputId": "2e895ec7-6d9a-425d-8eb9-fa1e0de57bab"
      },
      "source": [
        "# df2 head\n",
        "df2.head()"
      ],
      "execution_count": 24,
      "outputs": [
        {
          "output_type": "execute_result",
          "data": {
            "text/html": [
              "<div>\n",
              "<style scoped>\n",
              "    .dataframe tbody tr th:only-of-type {\n",
              "        vertical-align: middle;\n",
              "    }\n",
              "\n",
              "    .dataframe tbody tr th {\n",
              "        vertical-align: top;\n",
              "    }\n",
              "\n",
              "    .dataframe thead th {\n",
              "        text-align: right;\n",
              "    }\n",
              "</style>\n",
              "<table border=\"1\" class=\"dataframe\">\n",
              "  <thead>\n",
              "    <tr style=\"text-align: right;\">\n",
              "      <th></th>\n",
              "      <th>A</th>\n",
              "      <th>B</th>\n",
              "      <th>C</th>\n",
              "      <th>D</th>\n",
              "    </tr>\n",
              "  </thead>\n",
              "  <tbody>\n",
              "    <tr>\n",
              "      <th>0</th>\n",
              "      <td>40</td>\n",
              "      <td>36</td>\n",
              "      <td>16</td>\n",
              "      <td>11</td>\n",
              "    </tr>\n",
              "    <tr>\n",
              "      <th>1</th>\n",
              "      <td>88</td>\n",
              "      <td>62</td>\n",
              "      <td>33</td>\n",
              "      <td>72</td>\n",
              "    </tr>\n",
              "    <tr>\n",
              "      <th>2</th>\n",
              "      <td>30</td>\n",
              "      <td>30</td>\n",
              "      <td>89</td>\n",
              "      <td>12</td>\n",
              "    </tr>\n",
              "    <tr>\n",
              "      <th>3</th>\n",
              "      <td>11</td>\n",
              "      <td>28</td>\n",
              "      <td>74</td>\n",
              "      <td>88</td>\n",
              "    </tr>\n",
              "    <tr>\n",
              "      <th>4</th>\n",
              "      <td>15</td>\n",
              "      <td>18</td>\n",
              "      <td>80</td>\n",
              "      <td>71</td>\n",
              "    </tr>\n",
              "  </tbody>\n",
              "</table>\n",
              "</div>"
            ],
            "text/plain": [
              "    A   B   C   D\n",
              "0  40  36  16  11\n",
              "1  88  62  33  72\n",
              "2  30  30  89  12\n",
              "3  11  28  74  88\n",
              "4  15  18  80  71"
            ]
          },
          "metadata": {
            "tags": []
          },
          "execution_count": 24
        }
      ]
    },
    {
      "cell_type": "markdown",
      "metadata": {
        "id": "t1htc1J-kqhr"
      },
      "source": [
        "# Renaming column names to meaningful names.\n",
        "\n",
        "Reference:- https://www.youtube.com/watch?v=YnggjqAfZCU\n",
        "<p style='text-align: right;'> 2 points</p>\n"
      ]
    },
    {
      "cell_type": "markdown",
      "metadata": {
        "id": "P3JtdP4fkqhr"
      },
      "source": [
        "Now df2 columns represents marks of the adventurous 'Anand', the brave 'Barkha', the compassionate 'Chandu' and the dashing 'Daniel'. Rename the columns with their name inplace of their first letter of their name."
      ]
    },
    {
      "cell_type": "code",
      "metadata": {
        "id": "wsQ2Sr-9kqhs"
      },
      "source": [
        "#column renaming\n",
        "df2 = df2.rename(columns={'A': 'Anand', 'B': 'Barkha', 'C': 'Chandu', 'D': 'Daniel'})"
      ],
      "execution_count": 25,
      "outputs": []
    },
    {
      "cell_type": "markdown",
      "metadata": {
        "id": "wwV5om7Ikqhs"
      },
      "source": [
        "print df2 tail with updated column names"
      ]
    },
    {
      "cell_type": "code",
      "metadata": {
        "colab": {
          "base_uri": "https://localhost:8080/",
          "height": 204
        },
        "id": "ZA5btO84kqhs",
        "outputId": "1f4a2e0c-88f4-4fd9-baeb-6ed99d30d4f7"
      },
      "source": [
        "# df2 head\n",
        "df2.head()"
      ],
      "execution_count": 26,
      "outputs": [
        {
          "output_type": "execute_result",
          "data": {
            "text/html": [
              "<div>\n",
              "<style scoped>\n",
              "    .dataframe tbody tr th:only-of-type {\n",
              "        vertical-align: middle;\n",
              "    }\n",
              "\n",
              "    .dataframe tbody tr th {\n",
              "        vertical-align: top;\n",
              "    }\n",
              "\n",
              "    .dataframe thead th {\n",
              "        text-align: right;\n",
              "    }\n",
              "</style>\n",
              "<table border=\"1\" class=\"dataframe\">\n",
              "  <thead>\n",
              "    <tr style=\"text-align: right;\">\n",
              "      <th></th>\n",
              "      <th>Anand</th>\n",
              "      <th>Barkha</th>\n",
              "      <th>Chandu</th>\n",
              "      <th>Daniel</th>\n",
              "    </tr>\n",
              "  </thead>\n",
              "  <tbody>\n",
              "    <tr>\n",
              "      <th>0</th>\n",
              "      <td>40</td>\n",
              "      <td>36</td>\n",
              "      <td>16</td>\n",
              "      <td>11</td>\n",
              "    </tr>\n",
              "    <tr>\n",
              "      <th>1</th>\n",
              "      <td>88</td>\n",
              "      <td>62</td>\n",
              "      <td>33</td>\n",
              "      <td>72</td>\n",
              "    </tr>\n",
              "    <tr>\n",
              "      <th>2</th>\n",
              "      <td>30</td>\n",
              "      <td>30</td>\n",
              "      <td>89</td>\n",
              "      <td>12</td>\n",
              "    </tr>\n",
              "    <tr>\n",
              "      <th>3</th>\n",
              "      <td>11</td>\n",
              "      <td>28</td>\n",
              "      <td>74</td>\n",
              "      <td>88</td>\n",
              "    </tr>\n",
              "    <tr>\n",
              "      <th>4</th>\n",
              "      <td>15</td>\n",
              "      <td>18</td>\n",
              "      <td>80</td>\n",
              "      <td>71</td>\n",
              "    </tr>\n",
              "  </tbody>\n",
              "</table>\n",
              "</div>"
            ],
            "text/plain": [
              "   Anand  Barkha  Chandu  Daniel\n",
              "0     40      36      16      11\n",
              "1     88      62      33      72\n",
              "2     30      30      89      12\n",
              "3     11      28      74      88\n",
              "4     15      18      80      71"
            ]
          },
          "metadata": {
            "tags": []
          },
          "execution_count": 26
        }
      ]
    },
    {
      "cell_type": "markdown",
      "metadata": {
        "id": "OVPJo5YEkqhs"
      },
      "source": [
        "Yeah! now the data looks pretty meaningful to study"
      ]
    },
    {
      "cell_type": "markdown",
      "metadata": {
        "id": "TmIexkkOkqhs"
      },
      "source": [
        "# Treating Duplicate Data\n",
        "\n",
        "Reference: https://www.youtube.com/watch?v=bFVMR1qfzXo"
      ]
    },
    {
      "cell_type": "markdown",
      "metadata": {
        "id": "WndpHrtvkqhs"
      },
      "source": [
        "<p style='text-align: right;'> 20 points</p>\n"
      ]
    },
    {
      "cell_type": "markdown",
      "metadata": {
        "id": "FisYRuFD0CA7"
      },
      "source": [
        "Make another dataframe df3 by deep copying df2."
      ]
    },
    {
      "cell_type": "code",
      "metadata": {
        "id": "7YdZvdGozNFT"
      },
      "source": [
        "df3= df2.copy()"
      ],
      "execution_count": 27,
      "outputs": []
    },
    {
      "cell_type": "markdown",
      "metadata": {
        "id": "3hCi4Zjokqhs"
      },
      "source": [
        "Make another column in df3 with name 'dummy' having 0 as values\n",
        "throughout the rows."
      ]
    },
    {
      "cell_type": "code",
      "metadata": {
        "id": "IdXkjwYHkqht"
      },
      "source": [
        "#assign dummy column full of zero value\n",
        "df3['dummy'] = 0"
      ],
      "execution_count": 28,
      "outputs": []
    },
    {
      "cell_type": "code",
      "metadata": {
        "colab": {
          "base_uri": "https://localhost:8080/"
        },
        "id": "en7XzaxD2rrV",
        "outputId": "c8955307-f98e-4427-f925-a7310baa900d"
      },
      "source": [
        "# print head of df, df2 and df3\n",
        "print(df.head())\n",
        "print(df2.head())\n",
        "print(df3.head())"
      ],
      "execution_count": 29,
      "outputs": [
        {
          "output_type": "stream",
          "text": [
            "    A   B   C   D\n",
            "0   9  15  64  28\n",
            "1  93  29   8  73\n",
            "2  40  36  16  11\n",
            "3  88  62  33  72\n",
            "4  49  51  54  77\n",
            "   Anand  Barkha  Chandu  Daniel\n",
            "0     40      36      16      11\n",
            "1     88      62      33      72\n",
            "2     30      30      89      12\n",
            "3     11      28      74      88\n",
            "4     15      18      80      71\n",
            "   Anand  Barkha  Chandu  Daniel  dummy\n",
            "0     40      36      16      11      0\n",
            "1     88      62      33      72      0\n",
            "2     30      30      89      12      0\n",
            "3     11      28      74      88      0\n",
            "4     15      18      80      71      0\n"
          ],
          "name": "stdout"
        }
      ]
    },
    {
      "cell_type": "markdown",
      "metadata": {
        "id": "MxcNd_Ja1YXs"
      },
      "source": [
        "Hey buddy! Don't you think, there is some difference between copy operation used for creating df2 and df3.\n",
        "\n",
        "If you think Yes, Then please comment below the difference"
      ]
    },
    {
      "cell_type": "code",
      "metadata": {
        "id": "HLLRqTPx1oRs"
      },
      "source": [
        "# comment"
      ],
      "execution_count": 30,
      "outputs": []
    },
    {
      "cell_type": "markdown",
      "metadata": {
        "id": "2vlkb3edkqht"
      },
      "source": [
        "print tail of df3"
      ]
    },
    {
      "cell_type": "code",
      "metadata": {
        "colab": {
          "base_uri": "https://localhost:8080/",
          "height": 204
        },
        "id": "asZ8XuR55qIC",
        "outputId": "fc518259-7983-4175-ee3b-0b26af6b300f"
      },
      "source": [
        "# df3 tail\n",
        "df3.tail()"
      ],
      "execution_count": 31,
      "outputs": [
        {
          "output_type": "execute_result",
          "data": {
            "text/html": [
              "<div>\n",
              "<style scoped>\n",
              "    .dataframe tbody tr th:only-of-type {\n",
              "        vertical-align: middle;\n",
              "    }\n",
              "\n",
              "    .dataframe tbody tr th {\n",
              "        vertical-align: top;\n",
              "    }\n",
              "\n",
              "    .dataframe thead th {\n",
              "        text-align: right;\n",
              "    }\n",
              "</style>\n",
              "<table border=\"1\" class=\"dataframe\">\n",
              "  <thead>\n",
              "    <tr style=\"text-align: right;\">\n",
              "      <th></th>\n",
              "      <th>Anand</th>\n",
              "      <th>Barkha</th>\n",
              "      <th>Chandu</th>\n",
              "      <th>Daniel</th>\n",
              "      <th>dummy</th>\n",
              "    </tr>\n",
              "  </thead>\n",
              "  <tbody>\n",
              "    <tr>\n",
              "      <th>43</th>\n",
              "      <td>1</td>\n",
              "      <td>82</td>\n",
              "      <td>34</td>\n",
              "      <td>11</td>\n",
              "      <td>0</td>\n",
              "    </tr>\n",
              "    <tr>\n",
              "      <th>44</th>\n",
              "      <td>74</td>\n",
              "      <td>36</td>\n",
              "      <td>6</td>\n",
              "      <td>63</td>\n",
              "      <td>0</td>\n",
              "    </tr>\n",
              "    <tr>\n",
              "      <th>45</th>\n",
              "      <td>3</td>\n",
              "      <td>50</td>\n",
              "      <td>59</td>\n",
              "      <td>34</td>\n",
              "      <td>0</td>\n",
              "    </tr>\n",
              "    <tr>\n",
              "      <th>46</th>\n",
              "      <td>16</td>\n",
              "      <td>18</td>\n",
              "      <td>61</td>\n",
              "      <td>54</td>\n",
              "      <td>0</td>\n",
              "    </tr>\n",
              "    <tr>\n",
              "      <th>47</th>\n",
              "      <td>67</td>\n",
              "      <td>38</td>\n",
              "      <td>27</td>\n",
              "      <td>96</td>\n",
              "      <td>0</td>\n",
              "    </tr>\n",
              "  </tbody>\n",
              "</table>\n",
              "</div>"
            ],
            "text/plain": [
              "    Anand  Barkha  Chandu  Daniel  dummy\n",
              "43      1      82      34      11      0\n",
              "44     74      36       6      63      0\n",
              "45      3      50      59      34      0\n",
              "46     16      18      61      54      0\n",
              "47     67      38      27      96      0"
            ]
          },
          "metadata": {
            "tags": []
          },
          "execution_count": 31
        }
      ]
    },
    {
      "cell_type": "markdown",
      "metadata": {
        "id": "r4ulvQTdkqht"
      },
      "source": [
        "make an array name 'ListB' with values of column 'Barkha'"
      ]
    },
    {
      "cell_type": "code",
      "metadata": {
        "id": "DDQvQNGdkqht"
      },
      "source": [
        "ListB= df3['Barkha'].values"
      ],
      "execution_count": 32,
      "outputs": []
    },
    {
      "cell_type": "markdown",
      "metadata": {
        "id": "kxp2Sttm57LA"
      },
      "source": [
        "Print ListB"
      ]
    },
    {
      "cell_type": "code",
      "metadata": {
        "colab": {
          "base_uri": "https://localhost:8080/"
        },
        "id": "fCqZUrDdkqht",
        "outputId": "5988c404-af47-4e25-eebf-a8f40cf4698f"
      },
      "source": [
        "#print ListB\n",
        "ListB"
      ],
      "execution_count": 33,
      "outputs": [
        {
          "output_type": "execute_result",
          "data": {
            "text/plain": [
              "array([36, 62, 30, 28, 18, 50, 88, 50, 80, 66, 96, 30,  4, 30,  2, 42, 94,\n",
              "       18, 44, 68, 58, 48, 70, 22, 36, 32, 32, 96, 30, 86,  0, 76, 88, 64,\n",
              "       52, 46, 20, 66, 56,  8, 68, 50, 28, 82, 36, 50, 18, 38])"
            ]
          },
          "metadata": {
            "tags": []
          },
          "execution_count": 33
        }
      ]
    },
    {
      "cell_type": "markdown",
      "metadata": {
        "id": "XdTgrnTJkqhu"
      },
      "source": [
        "Assign this array values as another column in df3 with name 'Anonymous'"
      ]
    },
    {
      "cell_type": "code",
      "metadata": {
        "id": "2U01qa6Akqhu"
      },
      "source": [
        "#create Anonymous column\n",
        "df3['Anonymous'] = pd.DataFrame(ListB)"
      ],
      "execution_count": 34,
      "outputs": []
    },
    {
      "cell_type": "markdown",
      "metadata": {
        "id": "9Tnv9FxNkqhu"
      },
      "source": [
        "Create a dataframe 'ListA' with values of row index 3, 10 and 40"
      ]
    },
    {
      "cell_type": "code",
      "metadata": {
        "id": "6KjmI6RRkqhu"
      },
      "source": [
        "ListA= df3.iloc[[3,10,40],]"
      ],
      "execution_count": 35,
      "outputs": []
    },
    {
      "cell_type": "markdown",
      "metadata": {
        "id": "536Zw_9kkqhu"
      },
      "source": [
        "print ListA"
      ]
    },
    {
      "cell_type": "code",
      "metadata": {
        "colab": {
          "base_uri": "https://localhost:8080/",
          "height": 142
        },
        "id": "uiwW-8S9kqhu",
        "outputId": "de26485f-4e3a-4706-fdda-553274a21b05"
      },
      "source": [
        "# print ListA\n",
        "ListA"
      ],
      "execution_count": 36,
      "outputs": [
        {
          "output_type": "execute_result",
          "data": {
            "text/html": [
              "<div>\n",
              "<style scoped>\n",
              "    .dataframe tbody tr th:only-of-type {\n",
              "        vertical-align: middle;\n",
              "    }\n",
              "\n",
              "    .dataframe tbody tr th {\n",
              "        vertical-align: top;\n",
              "    }\n",
              "\n",
              "    .dataframe thead th {\n",
              "        text-align: right;\n",
              "    }\n",
              "</style>\n",
              "<table border=\"1\" class=\"dataframe\">\n",
              "  <thead>\n",
              "    <tr style=\"text-align: right;\">\n",
              "      <th></th>\n",
              "      <th>Anand</th>\n",
              "      <th>Barkha</th>\n",
              "      <th>Chandu</th>\n",
              "      <th>Daniel</th>\n",
              "      <th>dummy</th>\n",
              "      <th>Anonymous</th>\n",
              "    </tr>\n",
              "  </thead>\n",
              "  <tbody>\n",
              "    <tr>\n",
              "      <th>3</th>\n",
              "      <td>11</td>\n",
              "      <td>28</td>\n",
              "      <td>74</td>\n",
              "      <td>88</td>\n",
              "      <td>0</td>\n",
              "      <td>28</td>\n",
              "    </tr>\n",
              "    <tr>\n",
              "      <th>10</th>\n",
              "      <td>88</td>\n",
              "      <td>96</td>\n",
              "      <td>73</td>\n",
              "      <td>40</td>\n",
              "      <td>0</td>\n",
              "      <td>96</td>\n",
              "    </tr>\n",
              "    <tr>\n",
              "      <th>40</th>\n",
              "      <td>87</td>\n",
              "      <td>68</td>\n",
              "      <td>86</td>\n",
              "      <td>14</td>\n",
              "      <td>0</td>\n",
              "      <td>68</td>\n",
              "    </tr>\n",
              "  </tbody>\n",
              "</table>\n",
              "</div>"
            ],
            "text/plain": [
              "    Anand  Barkha  Chandu  Daniel  dummy  Anonymous\n",
              "3      11      28      74      88      0         28\n",
              "10     88      96      73      40      0         96\n",
              "40     87      68      86      14      0         68"
            ]
          },
          "metadata": {
            "tags": []
          },
          "execution_count": 36
        }
      ]
    },
    {
      "cell_type": "markdown",
      "metadata": {
        "id": "HLT1U7ZQkqhu"
      },
      "source": [
        "Concat ListA to df3 ignoring the index values of ListA so that we can maintain the sequential index value thoughout the dataframe."
      ]
    },
    {
      "cell_type": "code",
      "metadata": {
        "id": "zj_zUXiokqhv"
      },
      "source": [
        "df3= pd.concat([ListA, df3], axis=0, ignore_index=True)"
      ],
      "execution_count": 37,
      "outputs": []
    },
    {
      "cell_type": "markdown",
      "metadata": {
        "id": "qp2M-WnYkqhv"
      },
      "source": [
        "print head of df3"
      ]
    },
    {
      "cell_type": "code",
      "metadata": {
        "colab": {
          "base_uri": "https://localhost:8080/",
          "height": 204
        },
        "id": "GwotDl4Tkqhv",
        "outputId": "242a7b5b-589e-4aaa-c3ee-049b797ec9ab"
      },
      "source": [
        "# df3 head\n",
        "df3.head()"
      ],
      "execution_count": 38,
      "outputs": [
        {
          "output_type": "execute_result",
          "data": {
            "text/html": [
              "<div>\n",
              "<style scoped>\n",
              "    .dataframe tbody tr th:only-of-type {\n",
              "        vertical-align: middle;\n",
              "    }\n",
              "\n",
              "    .dataframe tbody tr th {\n",
              "        vertical-align: top;\n",
              "    }\n",
              "\n",
              "    .dataframe thead th {\n",
              "        text-align: right;\n",
              "    }\n",
              "</style>\n",
              "<table border=\"1\" class=\"dataframe\">\n",
              "  <thead>\n",
              "    <tr style=\"text-align: right;\">\n",
              "      <th></th>\n",
              "      <th>Anand</th>\n",
              "      <th>Barkha</th>\n",
              "      <th>Chandu</th>\n",
              "      <th>Daniel</th>\n",
              "      <th>dummy</th>\n",
              "      <th>Anonymous</th>\n",
              "    </tr>\n",
              "  </thead>\n",
              "  <tbody>\n",
              "    <tr>\n",
              "      <th>0</th>\n",
              "      <td>11</td>\n",
              "      <td>28</td>\n",
              "      <td>74</td>\n",
              "      <td>88</td>\n",
              "      <td>0</td>\n",
              "      <td>28</td>\n",
              "    </tr>\n",
              "    <tr>\n",
              "      <th>1</th>\n",
              "      <td>88</td>\n",
              "      <td>96</td>\n",
              "      <td>73</td>\n",
              "      <td>40</td>\n",
              "      <td>0</td>\n",
              "      <td>96</td>\n",
              "    </tr>\n",
              "    <tr>\n",
              "      <th>2</th>\n",
              "      <td>87</td>\n",
              "      <td>68</td>\n",
              "      <td>86</td>\n",
              "      <td>14</td>\n",
              "      <td>0</td>\n",
              "      <td>68</td>\n",
              "    </tr>\n",
              "    <tr>\n",
              "      <th>3</th>\n",
              "      <td>40</td>\n",
              "      <td>36</td>\n",
              "      <td>16</td>\n",
              "      <td>11</td>\n",
              "      <td>0</td>\n",
              "      <td>36</td>\n",
              "    </tr>\n",
              "    <tr>\n",
              "      <th>4</th>\n",
              "      <td>88</td>\n",
              "      <td>62</td>\n",
              "      <td>33</td>\n",
              "      <td>72</td>\n",
              "      <td>0</td>\n",
              "      <td>62</td>\n",
              "    </tr>\n",
              "  </tbody>\n",
              "</table>\n",
              "</div>"
            ],
            "text/plain": [
              "   Anand  Barkha  Chandu  Daniel  dummy  Anonymous\n",
              "0     11      28      74      88      0         28\n",
              "1     88      96      73      40      0         96\n",
              "2     87      68      86      14      0         68\n",
              "3     40      36      16      11      0         36\n",
              "4     88      62      33      72      0         62"
            ]
          },
          "metadata": {
            "tags": []
          },
          "execution_count": 38
        }
      ]
    },
    {
      "cell_type": "markdown",
      "metadata": {
        "id": "ETx-cCU5kqhv"
      },
      "source": [
        "Check if there is any duplicate rows present in the dataframe df3"
      ]
    },
    {
      "cell_type": "code",
      "metadata": {
        "colab": {
          "base_uri": "https://localhost:8080/"
        },
        "id": "KkK9vv6Lkqhv",
        "outputId": "04fd67c2-7e21-43c1-d3a1-fe3b3894e36f"
      },
      "source": [
        "#check duplicate\n",
        "df3.duplicated().sum()"
      ],
      "execution_count": 39,
      "outputs": [
        {
          "output_type": "execute_result",
          "data": {
            "text/plain": [
              "3"
            ]
          },
          "metadata": {
            "tags": []
          },
          "execution_count": 39
        }
      ]
    },
    {
      "cell_type": "markdown",
      "metadata": {
        "id": "Okvw1xgtkqhv"
      },
      "source": [
        "By above output it seems we do have duplicated rows in our dataset"
      ]
    },
    {
      "cell_type": "markdown",
      "metadata": {
        "id": "z0QOuS-_kqhw"
      },
      "source": [
        "Drop duplicated rows using pandas function keeping first values of such duplicated observations"
      ]
    },
    {
      "cell_type": "code",
      "metadata": {
        "id": "gRsgecqbkqhw"
      },
      "source": [
        "#drop duplicate\n",
        "df3.drop_duplicates(keep = False, inplace = True)"
      ],
      "execution_count": 40,
      "outputs": []
    },
    {
      "cell_type": "markdown",
      "metadata": {
        "id": "FbNFF-4jkqhw"
      },
      "source": [
        "Check again if we have any duplicate row values present "
      ]
    },
    {
      "cell_type": "code",
      "metadata": {
        "colab": {
          "base_uri": "https://localhost:8080/"
        },
        "id": "ehOxm1Mckqhw",
        "outputId": "44dfb0bf-37d8-4019-9601-84c62473049c"
      },
      "source": [
        "#check duplicate\n",
        "df3.duplicated().sum()"
      ],
      "execution_count": 41,
      "outputs": [
        {
          "output_type": "execute_result",
          "data": {
            "text/plain": [
              "0"
            ]
          },
          "metadata": {
            "tags": []
          },
          "execution_count": 41
        }
      ]
    },
    {
      "cell_type": "markdown",
      "metadata": {
        "id": "7Sg80lIkkqhw"
      },
      "source": [
        "Yipeee!! Did you notice the dataframe is free from any duplicate rows now."
      ]
    },
    {
      "cell_type": "markdown",
      "metadata": {
        "id": "za0nup3Pkqhw"
      },
      "source": [
        "Drop any duplicate columns present in the dataframe df"
      ]
    },
    {
      "cell_type": "code",
      "metadata": {
        "id": "NE9l9xM0kqhw",
        "colab": {
          "base_uri": "https://localhost:8080/",
          "height": 204
        },
        "outputId": "c74316b2-f997-40f6-c160-6cb988a5b2ec"
      },
      "source": [
        "df3= df3.T.drop_duplicates().T\n",
        "\n",
        "#print df3\n",
        "df3.head()"
      ],
      "execution_count": 42,
      "outputs": [
        {
          "output_type": "execute_result",
          "data": {
            "text/html": [
              "<div>\n",
              "<style scoped>\n",
              "    .dataframe tbody tr th:only-of-type {\n",
              "        vertical-align: middle;\n",
              "    }\n",
              "\n",
              "    .dataframe tbody tr th {\n",
              "        vertical-align: top;\n",
              "    }\n",
              "\n",
              "    .dataframe thead th {\n",
              "        text-align: right;\n",
              "    }\n",
              "</style>\n",
              "<table border=\"1\" class=\"dataframe\">\n",
              "  <thead>\n",
              "    <tr style=\"text-align: right;\">\n",
              "      <th></th>\n",
              "      <th>Anand</th>\n",
              "      <th>Barkha</th>\n",
              "      <th>Chandu</th>\n",
              "      <th>Daniel</th>\n",
              "      <th>dummy</th>\n",
              "    </tr>\n",
              "  </thead>\n",
              "  <tbody>\n",
              "    <tr>\n",
              "      <th>3</th>\n",
              "      <td>40</td>\n",
              "      <td>36</td>\n",
              "      <td>16</td>\n",
              "      <td>11</td>\n",
              "      <td>0</td>\n",
              "    </tr>\n",
              "    <tr>\n",
              "      <th>4</th>\n",
              "      <td>88</td>\n",
              "      <td>62</td>\n",
              "      <td>33</td>\n",
              "      <td>72</td>\n",
              "      <td>0</td>\n",
              "    </tr>\n",
              "    <tr>\n",
              "      <th>5</th>\n",
              "      <td>30</td>\n",
              "      <td>30</td>\n",
              "      <td>89</td>\n",
              "      <td>12</td>\n",
              "      <td>0</td>\n",
              "    </tr>\n",
              "    <tr>\n",
              "      <th>7</th>\n",
              "      <td>15</td>\n",
              "      <td>18</td>\n",
              "      <td>80</td>\n",
              "      <td>71</td>\n",
              "      <td>0</td>\n",
              "    </tr>\n",
              "    <tr>\n",
              "      <th>8</th>\n",
              "      <td>88</td>\n",
              "      <td>50</td>\n",
              "      <td>54</td>\n",
              "      <td>34</td>\n",
              "      <td>0</td>\n",
              "    </tr>\n",
              "  </tbody>\n",
              "</table>\n",
              "</div>"
            ],
            "text/plain": [
              "   Anand  Barkha  Chandu  Daniel  dummy\n",
              "3     40      36      16      11      0\n",
              "4     88      62      33      72      0\n",
              "5     30      30      89      12      0\n",
              "7     15      18      80      71      0\n",
              "8     88      50      54      34      0"
            ]
          },
          "metadata": {
            "tags": []
          },
          "execution_count": 42
        }
      ]
    },
    {
      "cell_type": "markdown",
      "metadata": {
        "id": "HAMB8--rkqhx"
      },
      "source": [
        "Did you notice which Column is dropped?\n",
        "I am sure you noticed it.\n",
        "Name that column below"
      ]
    },
    {
      "cell_type": "code",
      "metadata": {
        "id": "x7HRPWXHkqhx"
      },
      "source": [
        "#Column: Anonymous_______"
      ],
      "execution_count": 43,
      "outputs": []
    },
    {
      "cell_type": "markdown",
      "metadata": {
        "id": "n53B2-pCkqhx"
      },
      "source": [
        "# Treating constant column values\n",
        "\n",
        "<p style='text-align: right;'> 2 points</p>\n"
      ]
    },
    {
      "cell_type": "markdown",
      "metadata": {
        "id": "fDpWhHSlkqhx"
      },
      "source": [
        "Check unique values in each columns"
      ]
    },
    {
      "cell_type": "code",
      "metadata": {
        "colab": {
          "base_uri": "https://localhost:8080/"
        },
        "id": "5-L6SLhqkqhx",
        "outputId": "3af3e8a7-c13a-4f5e-aceb-e4d91ae6f01a"
      },
      "source": [
        "# df3 unique value\n",
        "df3.nunique()"
      ],
      "execution_count": 44,
      "outputs": [
        {
          "output_type": "execute_result",
          "data": {
            "text/plain": [
              "Anand     40\n",
              "Barkha    32\n",
              "Chandu    38\n",
              "Daniel    35\n",
              "dummy      1\n",
              "dtype: int64"
            ]
          },
          "metadata": {
            "tags": []
          },
          "execution_count": 44
        }
      ]
    },
    {
      "cell_type": "markdown",
      "metadata": {
        "id": "4G9ZC-n-kqhx"
      },
      "source": [
        "By above output which column has only 1 value as unique throught the rows? \n",
        "Yeah! you are right, its dummy column.\n",
        "So lets drop it"
      ]
    },
    {
      "cell_type": "markdown",
      "metadata": {
        "id": "D3y3ZWW6kqhx"
      },
      "source": [
        "Drop dummy column as it has constant values which will not give us any information and save the changes to df3 using inplace parameter"
      ]
    },
    {
      "cell_type": "code",
      "metadata": {
        "id": "SR10jRVQkqhy"
      },
      "source": [
        "# drop dummy\n",
        "df3.drop('dummy', axis=1, inplace=True)"
      ],
      "execution_count": 45,
      "outputs": []
    },
    {
      "cell_type": "markdown",
      "metadata": {
        "id": "nHdi2uHskqhy"
      },
      "source": [
        "print final obtained dataframe df3"
      ]
    },
    {
      "cell_type": "code",
      "metadata": {
        "colab": {
          "base_uri": "https://localhost:8080/",
          "height": 204
        },
        "id": "0-YUwfDKkqhy",
        "outputId": "6b08a1ba-c56f-40dc-ce5b-cdbc545e494a"
      },
      "source": [
        "# print df3\n",
        "df3.head()"
      ],
      "execution_count": 46,
      "outputs": [
        {
          "output_type": "execute_result",
          "data": {
            "text/html": [
              "<div>\n",
              "<style scoped>\n",
              "    .dataframe tbody tr th:only-of-type {\n",
              "        vertical-align: middle;\n",
              "    }\n",
              "\n",
              "    .dataframe tbody tr th {\n",
              "        vertical-align: top;\n",
              "    }\n",
              "\n",
              "    .dataframe thead th {\n",
              "        text-align: right;\n",
              "    }\n",
              "</style>\n",
              "<table border=\"1\" class=\"dataframe\">\n",
              "  <thead>\n",
              "    <tr style=\"text-align: right;\">\n",
              "      <th></th>\n",
              "      <th>Anand</th>\n",
              "      <th>Barkha</th>\n",
              "      <th>Chandu</th>\n",
              "      <th>Daniel</th>\n",
              "    </tr>\n",
              "  </thead>\n",
              "  <tbody>\n",
              "    <tr>\n",
              "      <th>3</th>\n",
              "      <td>40</td>\n",
              "      <td>36</td>\n",
              "      <td>16</td>\n",
              "      <td>11</td>\n",
              "    </tr>\n",
              "    <tr>\n",
              "      <th>4</th>\n",
              "      <td>88</td>\n",
              "      <td>62</td>\n",
              "      <td>33</td>\n",
              "      <td>72</td>\n",
              "    </tr>\n",
              "    <tr>\n",
              "      <th>5</th>\n",
              "      <td>30</td>\n",
              "      <td>30</td>\n",
              "      <td>89</td>\n",
              "      <td>12</td>\n",
              "    </tr>\n",
              "    <tr>\n",
              "      <th>7</th>\n",
              "      <td>15</td>\n",
              "      <td>18</td>\n",
              "      <td>80</td>\n",
              "      <td>71</td>\n",
              "    </tr>\n",
              "    <tr>\n",
              "      <th>8</th>\n",
              "      <td>88</td>\n",
              "      <td>50</td>\n",
              "      <td>54</td>\n",
              "      <td>34</td>\n",
              "    </tr>\n",
              "  </tbody>\n",
              "</table>\n",
              "</div>"
            ],
            "text/plain": [
              "   Anand  Barkha  Chandu  Daniel\n",
              "3     40      36      16      11\n",
              "4     88      62      33      72\n",
              "5     30      30      89      12\n",
              "7     15      18      80      71\n",
              "8     88      50      54      34"
            ]
          },
          "metadata": {
            "tags": []
          },
          "execution_count": 46
        }
      ]
    },
    {
      "cell_type": "markdown",
      "metadata": {
        "id": "aKvKQdkukafh"
      },
      "source": [
        "# Iterating dataframes\n",
        "<p style='text-align: right;'> 25 points </p>\n",
        "\n",
        "\n",
        "Reference: https://www.youtube.com/watch?v=0nI3HTLPpZI\n",
        "Let's look at three main ways to iterate over DataFrames.\n",
        "\n",
        "1. iteritems()\n",
        "2. iterrows()\n",
        "3. itertuples()\n",
        "\n",
        "We will also see time taken by these methods to print our dataframe. \n",
        "\n",
        "**1. Iterating DataFrames with iteritems()**\n",
        "\n",
        "Lets iterate over rows of df3 uisng iteritems.\n",
        "\n"
      ]
    },
    {
      "cell_type": "code",
      "metadata": {
        "id": "GBNvIdaRkafi",
        "colab": {
          "base_uri": "https://localhost:8080/"
        },
        "outputId": "484c4e96-1018-4c8a-a51b-2b6595039ba7"
      },
      "source": [
        "import time\n",
        "start = time.time()\n",
        "\n",
        "#Use iteritems to iterate\n",
        "for label, content in df3.items():\n",
        "    print(f'label: {label}')\n",
        "    print(f'content: {content}', sep='\\n')\n",
        "\n",
        "\n",
        "print('Time taken(sec): ',(time.time()-start)*1000)"
      ],
      "execution_count": 47,
      "outputs": [
        {
          "output_type": "stream",
          "text": [
            "label: Anand\n",
            "content: 3     40\n",
            "4     88\n",
            "5     30\n",
            "7     15\n",
            "8     88\n",
            "9     77\n",
            "10    97\n",
            "11    81\n",
            "12    96\n",
            "14    28\n",
            "15    33\n",
            "16    68\n",
            "17     9\n",
            "18    62\n",
            "19    32\n",
            "20    45\n",
            "21     6\n",
            "22    44\n",
            "23    39\n",
            "24    69\n",
            "25     5\n",
            "26     4\n",
            "27    10\n",
            "28    85\n",
            "29    31\n",
            "30     0\n",
            "31     2\n",
            "32    63\n",
            "33    19\n",
            "34    58\n",
            "35     7\n",
            "36    27\n",
            "37    27\n",
            "38    99\n",
            "39    84\n",
            "40    77\n",
            "41    82\n",
            "42    74\n",
            "44    50\n",
            "45     1\n",
            "46     1\n",
            "47    74\n",
            "48     3\n",
            "49    16\n",
            "50    67\n",
            "Name: Anand, dtype: int64\n",
            "label: Barkha\n",
            "content: 3     36\n",
            "4     62\n",
            "5     30\n",
            "7     18\n",
            "8     50\n",
            "9     88\n",
            "10    50\n",
            "11    80\n",
            "12    66\n",
            "14    30\n",
            "15     4\n",
            "16    30\n",
            "17     2\n",
            "18    42\n",
            "19    94\n",
            "20    18\n",
            "21    44\n",
            "22    68\n",
            "23    58\n",
            "24    48\n",
            "25    70\n",
            "26    22\n",
            "27    36\n",
            "28    32\n",
            "29    32\n",
            "30    96\n",
            "31    30\n",
            "32    86\n",
            "33     0\n",
            "34    76\n",
            "35    88\n",
            "36    64\n",
            "37    52\n",
            "38    46\n",
            "39    20\n",
            "40    66\n",
            "41    56\n",
            "42     8\n",
            "44    50\n",
            "45    28\n",
            "46    82\n",
            "47    36\n",
            "48    50\n",
            "49    18\n",
            "50    38\n",
            "Name: Barkha, dtype: int64\n",
            "label: Chandu\n",
            "content: 3     16\n",
            "4     33\n",
            "5     89\n",
            "7     80\n",
            "8     54\n",
            "9     15\n",
            "10    45\n",
            "11    41\n",
            "12    67\n",
            "14    89\n",
            "15    87\n",
            "16    70\n",
            "17    65\n",
            "18    34\n",
            "19    86\n",
            "20    50\n",
            "21     9\n",
            "22    14\n",
            "23    81\n",
            "24    60\n",
            "25    61\n",
            "26    19\n",
            "27     0\n",
            "28    81\n",
            "29    96\n",
            "30    25\n",
            "31    17\n",
            "32    29\n",
            "33     7\n",
            "34    10\n",
            "35    96\n",
            "36    49\n",
            "37    90\n",
            "38    46\n",
            "39    49\n",
            "40    37\n",
            "41    41\n",
            "42    92\n",
            "44    85\n",
            "45    58\n",
            "46    34\n",
            "47     6\n",
            "48    59\n",
            "49    61\n",
            "50    27\n",
            "Name: Chandu, dtype: int64\n",
            "label: Daniel\n",
            "content: 3     11\n",
            "4     72\n",
            "5     12\n",
            "7     71\n",
            "8     34\n",
            "9      6\n",
            "10    40\n",
            "11    90\n",
            "12    62\n",
            "14    25\n",
            "15    94\n",
            "16    74\n",
            "17    13\n",
            "18    40\n",
            "19    58\n",
            "20    44\n",
            "21    50\n",
            "22     4\n",
            "23    39\n",
            "24    58\n",
            "25    16\n",
            "26    85\n",
            "27    30\n",
            "28    13\n",
            "29    38\n",
            "30    63\n",
            "31    59\n",
            "32    71\n",
            "33    93\n",
            "34    79\n",
            "35    38\n",
            "36    90\n",
            "37    57\n",
            "38    45\n",
            "39    33\n",
            "40    31\n",
            "41    90\n",
            "42    32\n",
            "44    14\n",
            "45    10\n",
            "46    11\n",
            "47    63\n",
            "48    34\n",
            "49    54\n",
            "50    96\n",
            "Name: Daniel, dtype: int64\n",
            "Time taken(sec):  4.713773727416992\n"
          ],
          "name": "stdout"
        }
      ]
    },
    {
      "cell_type": "markdown",
      "metadata": {
        "id": "5TcM7XA5kafi"
      },
      "source": [
        "Did you notice buddy how iteritems are iterating over df3.\n",
        "\n",
        "Along with ways each iterating function works, also keep tallying the time taken for all other lopps too!. This will be fun, lets check iterrows()\n",
        "\n",
        "**2. Iterating DataFrames with iterrows()**"
      ]
    },
    {
      "cell_type": "code",
      "metadata": {
        "id": "JIID_HdHkafi",
        "colab": {
          "base_uri": "https://localhost:8080/"
        },
        "outputId": "695391dd-0e1a-4238-eaf8-fa3e2bcc0aae"
      },
      "source": [
        "import time\n",
        "start = time.time()\n",
        "#Use iterrows to iterate\n",
        "for i, row in df3.iterrows():\n",
        "\tprint(f\"Index: {i}\")\n",
        "\tprint(f\"{row}\\n\")\n",
        " \n",
        "print('Time taken(sec): ',(time.time()-start)*1000)"
      ],
      "execution_count": 48,
      "outputs": [
        {
          "output_type": "stream",
          "text": [
            "Index: 3\n",
            "Anand     40\n",
            "Barkha    36\n",
            "Chandu    16\n",
            "Daniel    11\n",
            "Name: 3, dtype: int64\n",
            "\n",
            "Index: 4\n",
            "Anand     88\n",
            "Barkha    62\n",
            "Chandu    33\n",
            "Daniel    72\n",
            "Name: 4, dtype: int64\n",
            "\n",
            "Index: 5\n",
            "Anand     30\n",
            "Barkha    30\n",
            "Chandu    89\n",
            "Daniel    12\n",
            "Name: 5, dtype: int64\n",
            "\n",
            "Index: 7\n",
            "Anand     15\n",
            "Barkha    18\n",
            "Chandu    80\n",
            "Daniel    71\n",
            "Name: 7, dtype: int64\n",
            "\n",
            "Index: 8\n",
            "Anand     88\n",
            "Barkha    50\n",
            "Chandu    54\n",
            "Daniel    34\n",
            "Name: 8, dtype: int64\n",
            "\n",
            "Index: 9\n",
            "Anand     77\n",
            "Barkha    88\n",
            "Chandu    15\n",
            "Daniel     6\n",
            "Name: 9, dtype: int64\n",
            "\n",
            "Index: 10\n",
            "Anand     97\n",
            "Barkha    50\n",
            "Chandu    45\n",
            "Daniel    40\n",
            "Name: 10, dtype: int64\n",
            "\n",
            "Index: 11\n",
            "Anand     81\n",
            "Barkha    80\n",
            "Chandu    41\n",
            "Daniel    90\n",
            "Name: 11, dtype: int64\n",
            "\n",
            "Index: 12\n",
            "Anand     96\n",
            "Barkha    66\n",
            "Chandu    67\n",
            "Daniel    62\n",
            "Name: 12, dtype: int64\n",
            "\n",
            "Index: 14\n",
            "Anand     28\n",
            "Barkha    30\n",
            "Chandu    89\n",
            "Daniel    25\n",
            "Name: 14, dtype: int64\n",
            "\n",
            "Index: 15\n",
            "Anand     33\n",
            "Barkha     4\n",
            "Chandu    87\n",
            "Daniel    94\n",
            "Name: 15, dtype: int64\n",
            "\n",
            "Index: 16\n",
            "Anand     68\n",
            "Barkha    30\n",
            "Chandu    70\n",
            "Daniel    74\n",
            "Name: 16, dtype: int64\n",
            "\n",
            "Index: 17\n",
            "Anand      9\n",
            "Barkha     2\n",
            "Chandu    65\n",
            "Daniel    13\n",
            "Name: 17, dtype: int64\n",
            "\n",
            "Index: 18\n",
            "Anand     62\n",
            "Barkha    42\n",
            "Chandu    34\n",
            "Daniel    40\n",
            "Name: 18, dtype: int64\n",
            "\n",
            "Index: 19\n",
            "Anand     32\n",
            "Barkha    94\n",
            "Chandu    86\n",
            "Daniel    58\n",
            "Name: 19, dtype: int64\n",
            "\n",
            "Index: 20\n",
            "Anand     45\n",
            "Barkha    18\n",
            "Chandu    50\n",
            "Daniel    44\n",
            "Name: 20, dtype: int64\n",
            "\n",
            "Index: 21\n",
            "Anand      6\n",
            "Barkha    44\n",
            "Chandu     9\n",
            "Daniel    50\n",
            "Name: 21, dtype: int64\n",
            "\n",
            "Index: 22\n",
            "Anand     44\n",
            "Barkha    68\n",
            "Chandu    14\n",
            "Daniel     4\n",
            "Name: 22, dtype: int64\n",
            "\n",
            "Index: 23\n",
            "Anand     39\n",
            "Barkha    58\n",
            "Chandu    81\n",
            "Daniel    39\n",
            "Name: 23, dtype: int64\n",
            "\n",
            "Index: 24\n",
            "Anand     69\n",
            "Barkha    48\n",
            "Chandu    60\n",
            "Daniel    58\n",
            "Name: 24, dtype: int64\n",
            "\n",
            "Index: 25\n",
            "Anand      5\n",
            "Barkha    70\n",
            "Chandu    61\n",
            "Daniel    16\n",
            "Name: 25, dtype: int64\n",
            "\n",
            "Index: 26\n",
            "Anand      4\n",
            "Barkha    22\n",
            "Chandu    19\n",
            "Daniel    85\n",
            "Name: 26, dtype: int64\n",
            "\n",
            "Index: 27\n",
            "Anand     10\n",
            "Barkha    36\n",
            "Chandu     0\n",
            "Daniel    30\n",
            "Name: 27, dtype: int64\n",
            "\n",
            "Index: 28\n",
            "Anand     85\n",
            "Barkha    32\n",
            "Chandu    81\n",
            "Daniel    13\n",
            "Name: 28, dtype: int64\n",
            "\n",
            "Index: 29\n",
            "Anand     31\n",
            "Barkha    32\n",
            "Chandu    96\n",
            "Daniel    38\n",
            "Name: 29, dtype: int64\n",
            "\n",
            "Index: 30\n",
            "Anand      0\n",
            "Barkha    96\n",
            "Chandu    25\n",
            "Daniel    63\n",
            "Name: 30, dtype: int64\n",
            "\n",
            "Index: 31\n",
            "Anand      2\n",
            "Barkha    30\n",
            "Chandu    17\n",
            "Daniel    59\n",
            "Name: 31, dtype: int64\n",
            "\n",
            "Index: 32\n",
            "Anand     63\n",
            "Barkha    86\n",
            "Chandu    29\n",
            "Daniel    71\n",
            "Name: 32, dtype: int64\n",
            "\n",
            "Index: 33\n",
            "Anand     19\n",
            "Barkha     0\n",
            "Chandu     7\n",
            "Daniel    93\n",
            "Name: 33, dtype: int64\n",
            "\n",
            "Index: 34\n",
            "Anand     58\n",
            "Barkha    76\n",
            "Chandu    10\n",
            "Daniel    79\n",
            "Name: 34, dtype: int64\n",
            "\n",
            "Index: 35\n",
            "Anand      7\n",
            "Barkha    88\n",
            "Chandu    96\n",
            "Daniel    38\n",
            "Name: 35, dtype: int64\n",
            "\n",
            "Index: 36\n",
            "Anand     27\n",
            "Barkha    64\n",
            "Chandu    49\n",
            "Daniel    90\n",
            "Name: 36, dtype: int64\n",
            "\n",
            "Index: 37\n",
            "Anand     27\n",
            "Barkha    52\n",
            "Chandu    90\n",
            "Daniel    57\n",
            "Name: 37, dtype: int64\n",
            "\n",
            "Index: 38\n",
            "Anand     99\n",
            "Barkha    46\n",
            "Chandu    46\n",
            "Daniel    45\n",
            "Name: 38, dtype: int64\n",
            "\n",
            "Index: 39\n",
            "Anand     84\n",
            "Barkha    20\n",
            "Chandu    49\n",
            "Daniel    33\n",
            "Name: 39, dtype: int64\n",
            "\n",
            "Index: 40\n",
            "Anand     77\n",
            "Barkha    66\n",
            "Chandu    37\n",
            "Daniel    31\n",
            "Name: 40, dtype: int64\n",
            "\n",
            "Index: 41\n",
            "Anand     82\n",
            "Barkha    56\n",
            "Chandu    41\n",
            "Daniel    90\n",
            "Name: 41, dtype: int64\n",
            "\n",
            "Index: 42\n",
            "Anand     74\n",
            "Barkha     8\n",
            "Chandu    92\n",
            "Daniel    32\n",
            "Name: 42, dtype: int64\n",
            "\n",
            "Index: 44\n",
            "Anand     50\n",
            "Barkha    50\n",
            "Chandu    85\n",
            "Daniel    14\n",
            "Name: 44, dtype: int64\n",
            "\n",
            "Index: 45\n",
            "Anand      1\n",
            "Barkha    28\n",
            "Chandu    58\n",
            "Daniel    10\n",
            "Name: 45, dtype: int64\n",
            "\n",
            "Index: 46\n",
            "Anand      1\n",
            "Barkha    82\n",
            "Chandu    34\n",
            "Daniel    11\n",
            "Name: 46, dtype: int64\n",
            "\n",
            "Index: 47\n",
            "Anand     74\n",
            "Barkha    36\n",
            "Chandu     6\n",
            "Daniel    63\n",
            "Name: 47, dtype: int64\n",
            "\n",
            "Index: 48\n",
            "Anand      3\n",
            "Barkha    50\n",
            "Chandu    59\n",
            "Daniel    34\n",
            "Name: 48, dtype: int64\n",
            "\n",
            "Index: 49\n",
            "Anand     16\n",
            "Barkha    18\n",
            "Chandu    61\n",
            "Daniel    54\n",
            "Name: 49, dtype: int64\n",
            "\n",
            "Index: 50\n",
            "Anand     67\n",
            "Barkha    38\n",
            "Chandu    27\n",
            "Daniel    96\n",
            "Name: 50, dtype: int64\n",
            "\n",
            "Time taken(sec):  36.740779876708984\n"
          ],
          "name": "stdout"
        }
      ]
    },
    {
      "cell_type": "markdown",
      "metadata": {
        "id": "__0rZ_nzkafj"
      },
      "source": [
        "**3. Iterating DataFrames with itertuples()**"
      ]
    },
    {
      "cell_type": "code",
      "metadata": {
        "id": "GJ9mr0QUkafj",
        "colab": {
          "base_uri": "https://localhost:8080/"
        },
        "outputId": "1392ab2e-4a01-4b6f-f1fe-3d88c3da901c"
      },
      "source": [
        "#iterate df3 using itertuples\n",
        "import time\n",
        "start = time.time()\n",
        "\n",
        "#Use itertuples to iterate\n",
        "for row in df3.itertuples():\n",
        "    print(row)\n",
        "\n",
        "print('Time taken(sec): ',(time.time()-start)*1000)"
      ],
      "execution_count": 49,
      "outputs": [
        {
          "output_type": "stream",
          "text": [
            "Pandas(Index=3, Anand=40, Barkha=36, Chandu=16, Daniel=11)\n",
            "Pandas(Index=4, Anand=88, Barkha=62, Chandu=33, Daniel=72)\n",
            "Pandas(Index=5, Anand=30, Barkha=30, Chandu=89, Daniel=12)\n",
            "Pandas(Index=7, Anand=15, Barkha=18, Chandu=80, Daniel=71)\n",
            "Pandas(Index=8, Anand=88, Barkha=50, Chandu=54, Daniel=34)\n",
            "Pandas(Index=9, Anand=77, Barkha=88, Chandu=15, Daniel=6)\n",
            "Pandas(Index=10, Anand=97, Barkha=50, Chandu=45, Daniel=40)\n",
            "Pandas(Index=11, Anand=81, Barkha=80, Chandu=41, Daniel=90)\n",
            "Pandas(Index=12, Anand=96, Barkha=66, Chandu=67, Daniel=62)\n",
            "Pandas(Index=14, Anand=28, Barkha=30, Chandu=89, Daniel=25)\n",
            "Pandas(Index=15, Anand=33, Barkha=4, Chandu=87, Daniel=94)\n",
            "Pandas(Index=16, Anand=68, Barkha=30, Chandu=70, Daniel=74)\n",
            "Pandas(Index=17, Anand=9, Barkha=2, Chandu=65, Daniel=13)\n",
            "Pandas(Index=18, Anand=62, Barkha=42, Chandu=34, Daniel=40)\n",
            "Pandas(Index=19, Anand=32, Barkha=94, Chandu=86, Daniel=58)\n",
            "Pandas(Index=20, Anand=45, Barkha=18, Chandu=50, Daniel=44)\n",
            "Pandas(Index=21, Anand=6, Barkha=44, Chandu=9, Daniel=50)\n",
            "Pandas(Index=22, Anand=44, Barkha=68, Chandu=14, Daniel=4)\n",
            "Pandas(Index=23, Anand=39, Barkha=58, Chandu=81, Daniel=39)\n",
            "Pandas(Index=24, Anand=69, Barkha=48, Chandu=60, Daniel=58)\n",
            "Pandas(Index=25, Anand=5, Barkha=70, Chandu=61, Daniel=16)\n",
            "Pandas(Index=26, Anand=4, Barkha=22, Chandu=19, Daniel=85)\n",
            "Pandas(Index=27, Anand=10, Barkha=36, Chandu=0, Daniel=30)\n",
            "Pandas(Index=28, Anand=85, Barkha=32, Chandu=81, Daniel=13)\n",
            "Pandas(Index=29, Anand=31, Barkha=32, Chandu=96, Daniel=38)\n",
            "Pandas(Index=30, Anand=0, Barkha=96, Chandu=25, Daniel=63)\n",
            "Pandas(Index=31, Anand=2, Barkha=30, Chandu=17, Daniel=59)\n",
            "Pandas(Index=32, Anand=63, Barkha=86, Chandu=29, Daniel=71)\n",
            "Pandas(Index=33, Anand=19, Barkha=0, Chandu=7, Daniel=93)\n",
            "Pandas(Index=34, Anand=58, Barkha=76, Chandu=10, Daniel=79)\n",
            "Pandas(Index=35, Anand=7, Barkha=88, Chandu=96, Daniel=38)\n",
            "Pandas(Index=36, Anand=27, Barkha=64, Chandu=49, Daniel=90)\n",
            "Pandas(Index=37, Anand=27, Barkha=52, Chandu=90, Daniel=57)\n",
            "Pandas(Index=38, Anand=99, Barkha=46, Chandu=46, Daniel=45)\n",
            "Pandas(Index=39, Anand=84, Barkha=20, Chandu=49, Daniel=33)\n",
            "Pandas(Index=40, Anand=77, Barkha=66, Chandu=37, Daniel=31)\n",
            "Pandas(Index=41, Anand=82, Barkha=56, Chandu=41, Daniel=90)\n",
            "Pandas(Index=42, Anand=74, Barkha=8, Chandu=92, Daniel=32)\n",
            "Pandas(Index=44, Anand=50, Barkha=50, Chandu=85, Daniel=14)\n",
            "Pandas(Index=45, Anand=1, Barkha=28, Chandu=58, Daniel=10)\n",
            "Pandas(Index=46, Anand=1, Barkha=82, Chandu=34, Daniel=11)\n",
            "Pandas(Index=47, Anand=74, Barkha=36, Chandu=6, Daniel=63)\n",
            "Pandas(Index=48, Anand=3, Barkha=50, Chandu=59, Daniel=34)\n",
            "Pandas(Index=49, Anand=16, Barkha=18, Chandu=61, Daniel=54)\n",
            "Pandas(Index=50, Anand=67, Barkha=38, Chandu=27, Daniel=96)\n",
            "Time taken(sec):  2.294301986694336\n"
          ],
          "name": "stdout"
        }
      ]
    },
    {
      "cell_type": "markdown",
      "metadata": {
        "id": "0O_bga6Tkafj"
      },
      "source": [
        "Hey buddy! so as you have seen every method works differently \n",
        "    \n",
        "    iteritems(): Helps to iterate over each element of the set, column-wise. \n",
        "    iterrows(): Each element of the set, row-wise. \n",
        "    itertuple(): Each row and form a tuple out of them.\n",
        "\n",
        "But if you ask for speed. The most best perfromance is given by itertuples compared to other two iterating methods.\n",
        "So if anytime you need to save your computation time on iteration of dataframes you can go for itertuples. Was'nt it fun?:)"
      ]
    },
    {
      "cell_type": "markdown",
      "metadata": {
        "id": "IDYj2cP9riJM"
      },
      "source": [
        "# Regular Expression \n",
        "<p style='text-align: right;'> 15 points </p>\n",
        "\n",
        "\n",
        "Reference: https://www.youtube.com/watch?v=zTTQ8FE60j8\n",
        "\n",
        "Reference: https://www.youtube.com/watch?v=h6E1PiTXnVI\n",
        "\n",
        "Reference doc: https://www.guru99.com/python-regular-expressions-complete-tutorial.html\n",
        "\n",
        "Python has a module named re to work with RegEx\n",
        "\n",
        "\n",
        "### **!Are you ready to try regex on dataframes?**\n",
        "\n",
        "*So here we go.!*\n",
        "\n",
        "We are gonna try out following awesome re module functions\n",
        "\n",
        "1. findall \n",
        "2. search\n",
        "3. sub\n",
        "4. split\n",
        "\n",
        "If you want you can also refer the below regular expression syntax.\n",
        "\n",
        "![image.png](attachment:image.png)\n"
      ]
    },
    {
      "cell_type": "markdown",
      "metadata": {
        "id": "YCxcpQB0kafk"
      },
      "source": [
        "Hey future data scientists! we will now use regex on dataframes for data cleaning.\n",
        "\n",
        "Who doesn't know Trump?. Lets dowload this interesting dataset of Trump insult tweets :https://www.kaggle.com/ayushggarg/all-trumps-twitter-insults-20152021/download\n",
        "\n",
        "On this dataset we will learn how to use regex for data cleaning. By the way it will be also very usefull for feature engineering too!.\n",
        "\n"
      ]
    },
    {
      "cell_type": "code",
      "metadata": {
        "colab": {
          "resources": {
            "http://localhost:8080/nbextensions/google.colab/files.js": {
              "data": "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",
              "ok": true,
              "headers": [
                [
                  "content-type",
                  "application/javascript"
                ]
              ],
              "status": 200,
              "status_text": "OK"
            }
          },
          "base_uri": "https://localhost:8080/",
          "height": 72
        },
        "id": "YeKiBuwc_0gG",
        "outputId": "dc2ca600-01f8-41ee-b6ca-f31e3a95f3b2"
      },
      "source": [
        "from google.colab import files\n",
        "uploaded = files.upload()"
      ],
      "execution_count": 50,
      "outputs": [
        {
          "output_type": "display_data",
          "data": {
            "text/html": [
              "\n",
              "     <input type=\"file\" id=\"files-330d47ac-9b39-4d86-a4d6-f6c695451f6e\" name=\"files[]\" multiple disabled\n",
              "        style=\"border:none\" />\n",
              "     <output id=\"result-330d47ac-9b39-4d86-a4d6-f6c695451f6e\">\n",
              "      Upload widget is only available when the cell has been executed in the\n",
              "      current browser session. Please rerun this cell to enable.\n",
              "      </output>\n",
              "      <script src=\"/nbextensions/google.colab/files.js\"></script> "
            ],
            "text/plain": [
              "<IPython.core.display.HTML object>"
            ]
          },
          "metadata": {
            "tags": []
          }
        },
        {
          "output_type": "stream",
          "text": [
            "Saving trump_insult_tweets_2014_to_2021.csv to trump_insult_tweets_2014_to_2021 (1).csv\n"
          ],
          "name": "stdout"
        }
      ]
    },
    {
      "cell_type": "code",
      "metadata": {
        "id": "AXem3jCAkafk"
      },
      "source": [
        "#load dataset\n",
        "tweet_data= pd.read_csv(\"trump_insult_tweets_2014_to_2021.csv\")"
      ],
      "execution_count": 51,
      "outputs": []
    },
    {
      "cell_type": "code",
      "metadata": {
        "id": "V6SwHuSjkafl",
        "colab": {
          "base_uri": "https://localhost:8080/",
          "height": 204
        },
        "outputId": "841a711a-3030-491a-b082-bf6e95baaf67"
      },
      "source": [
        "#import re module\n",
        "import re\n",
        "\n",
        "#print head of tweet_data\n",
        "tweet_data.head()"
      ],
      "execution_count": 52,
      "outputs": [
        {
          "output_type": "execute_result",
          "data": {
            "text/html": [
              "<div>\n",
              "<style scoped>\n",
              "    .dataframe tbody tr th:only-of-type {\n",
              "        vertical-align: middle;\n",
              "    }\n",
              "\n",
              "    .dataframe tbody tr th {\n",
              "        vertical-align: top;\n",
              "    }\n",
              "\n",
              "    .dataframe thead th {\n",
              "        text-align: right;\n",
              "    }\n",
              "</style>\n",
              "<table border=\"1\" class=\"dataframe\">\n",
              "  <thead>\n",
              "    <tr style=\"text-align: right;\">\n",
              "      <th></th>\n",
              "      <th>Unnamed: 0</th>\n",
              "      <th>date</th>\n",
              "      <th>target</th>\n",
              "      <th>insult</th>\n",
              "      <th>tweet</th>\n",
              "    </tr>\n",
              "  </thead>\n",
              "  <tbody>\n",
              "    <tr>\n",
              "      <th>0</th>\n",
              "      <td>1</td>\n",
              "      <td>2014-10-09</td>\n",
              "      <td>thomas-frieden</td>\n",
              "      <td>fool</td>\n",
              "      <td>Can you believe this fool, Dr. Thomas Frieden ...</td>\n",
              "    </tr>\n",
              "    <tr>\n",
              "      <th>1</th>\n",
              "      <td>2</td>\n",
              "      <td>2014-10-09</td>\n",
              "      <td>thomas-frieden</td>\n",
              "      <td>DOPE</td>\n",
              "      <td>Can you believe this fool, Dr. Thomas Frieden ...</td>\n",
              "    </tr>\n",
              "    <tr>\n",
              "      <th>2</th>\n",
              "      <td>3</td>\n",
              "      <td>2015-06-16</td>\n",
              "      <td>politicians</td>\n",
              "      <td>all talk and no action</td>\n",
              "      <td>Big time in U.S. today - MAKE AMERICA GREAT AG...</td>\n",
              "    </tr>\n",
              "    <tr>\n",
              "      <th>3</th>\n",
              "      <td>4</td>\n",
              "      <td>2015-06-24</td>\n",
              "      <td>ben-cardin</td>\n",
              "      <td>It's politicians like Cardin that have destroy...</td>\n",
              "      <td>Politician @SenatorCardin didn't like that I s...</td>\n",
              "    </tr>\n",
              "    <tr>\n",
              "      <th>4</th>\n",
              "      <td>5</td>\n",
              "      <td>2015-06-24</td>\n",
              "      <td>neil-young</td>\n",
              "      <td>total hypocrite</td>\n",
              "      <td>For the nonbeliever, here is a photo of @Neily...</td>\n",
              "    </tr>\n",
              "  </tbody>\n",
              "</table>\n",
              "</div>"
            ],
            "text/plain": [
              "   Unnamed: 0  ...                                              tweet\n",
              "0           1  ...  Can you believe this fool, Dr. Thomas Frieden ...\n",
              "1           2  ...  Can you believe this fool, Dr. Thomas Frieden ...\n",
              "2           3  ...  Big time in U.S. today - MAKE AMERICA GREAT AG...\n",
              "3           4  ...  Politician @SenatorCardin didn't like that I s...\n",
              "4           5  ...  For the nonbeliever, here is a photo of @Neily...\n",
              "\n",
              "[5 rows x 5 columns]"
            ]
          },
          "metadata": {
            "tags": []
          },
          "execution_count": 52
        }
      ]
    },
    {
      "cell_type": "markdown",
      "metadata": {
        "id": "R4QFg6Vqkafl"
      },
      "source": [
        "Lets do some analysis using regex on this dataset\n",
        "\n",
        "Before we go ahead, do you remember apply function? because you will have to require apply function to impliment regex methods.\n",
        "\n",
        "You can refer this video so that you revisit how apply function works: https://www.youtube.com/watch?v=7HN-4Df8ZpA\n",
        "\n",
        "**1. findall()**\n",
        "\n",
        "Make another column 'year' with year in each row using regex on date column.\n"
      ]
    },
    {
      "cell_type": "code",
      "metadata": {
        "id": "ro4b50Mwkafl",
        "colab": {
          "base_uri": "https://localhost:8080/",
          "height": 204
        },
        "outputId": "5afc04fd-518c-47da-c29d-f80a83bdf076"
      },
      "source": [
        "# create a function which takes date as parameter and applies regex on it\n",
        "def get_year(date):\n",
        "  return re.findall('(\\d{4})', date)[0]\n",
        "\n",
        "#use apply function on tweet_data to use above function in order to make year column\n",
        "tweet_data['year'] = tweet_data['date'].apply(get_year)\n",
        "\n",
        "#print tweet_data head\n",
        "tweet_data.head()"
      ],
      "execution_count": 59,
      "outputs": [
        {
          "output_type": "execute_result",
          "data": {
            "text/html": [
              "<div>\n",
              "<style scoped>\n",
              "    .dataframe tbody tr th:only-of-type {\n",
              "        vertical-align: middle;\n",
              "    }\n",
              "\n",
              "    .dataframe tbody tr th {\n",
              "        vertical-align: top;\n",
              "    }\n",
              "\n",
              "    .dataframe thead th {\n",
              "        text-align: right;\n",
              "    }\n",
              "</style>\n",
              "<table border=\"1\" class=\"dataframe\">\n",
              "  <thead>\n",
              "    <tr style=\"text-align: right;\">\n",
              "      <th></th>\n",
              "      <th>date</th>\n",
              "      <th>target</th>\n",
              "      <th>insult</th>\n",
              "      <th>tweet</th>\n",
              "      <th>year</th>\n",
              "    </tr>\n",
              "  </thead>\n",
              "  <tbody>\n",
              "    <tr>\n",
              "      <th>0</th>\n",
              "      <td>2014-10-09</td>\n",
              "      <td>thomas-frieden</td>\n",
              "      <td>fool</td>\n",
              "      <td>Can you believe this fool, Dr. Thomas Frieden ...</td>\n",
              "      <td>2014</td>\n",
              "    </tr>\n",
              "    <tr>\n",
              "      <th>1</th>\n",
              "      <td>2014-10-09</td>\n",
              "      <td>thomas-frieden</td>\n",
              "      <td>DOPE</td>\n",
              "      <td>Can you believe this fool, Dr. Thomas Frieden ...</td>\n",
              "      <td>2014</td>\n",
              "    </tr>\n",
              "    <tr>\n",
              "      <th>2</th>\n",
              "      <td>2015-06-16</td>\n",
              "      <td>politicians</td>\n",
              "      <td>all talk and no action</td>\n",
              "      <td>Big time in U.S. today - MAKE AMERICA GREAT AG...</td>\n",
              "      <td>2015</td>\n",
              "    </tr>\n",
              "    <tr>\n",
              "      <th>3</th>\n",
              "      <td>2015-06-24</td>\n",
              "      <td>ben-cardin</td>\n",
              "      <td>It's politicians like Cardin that have destroy...</td>\n",
              "      <td>Politician @SenatorCardin didn't like that I s...</td>\n",
              "      <td>2015</td>\n",
              "    </tr>\n",
              "    <tr>\n",
              "      <th>4</th>\n",
              "      <td>2015-06-24</td>\n",
              "      <td>neil-young</td>\n",
              "      <td>total hypocrite</td>\n",
              "      <td>For the nonbeliever, here is a photo of @Neily...</td>\n",
              "      <td>2015</td>\n",
              "    </tr>\n",
              "  </tbody>\n",
              "</table>\n",
              "</div>"
            ],
            "text/plain": [
              "         date  ...  year\n",
              "0  2014-10-09  ...  2014\n",
              "1  2014-10-09  ...  2014\n",
              "2  2015-06-16  ...  2015\n",
              "3  2015-06-24  ...  2015\n",
              "4  2015-06-24  ...  2015\n",
              "\n",
              "[5 rows x 5 columns]"
            ]
          },
          "metadata": {
            "tags": []
          },
          "execution_count": 59
        }
      ]
    },
    {
      "cell_type": "markdown",
      "metadata": {
        "id": "1zsDi4wykafm"
      },
      "source": [
        "lets filter year from 2020-2021 which was the election time in USA.\n",
        "\n",
        "**2. search**\n",
        "\n",
        "We will use regex search for this "
      ]
    },
    {
      "cell_type": "code",
      "metadata": {
        "id": "aJ_y4hBskafm",
        "colab": {
          "base_uri": "https://localhost:8080/",
          "height": 204
        },
        "outputId": "c47d76bf-cf01-4fa0-effd-84978d5fe8dc"
      },
      "source": [
        "# create a function which takes year as parameter and applies regex on it\n",
        "def year_filter(year):\n",
        "  x=re.search('^202\\d', year)\n",
        "  if x:\n",
        "    return year\n",
        "    \n",
        "#use apply function on tweet_data to use above function in order to search tweets of 2020-2021\n",
        "tweet_data['year'] = tweet_data['year'].apply(year_filter)\n",
        "\n",
        "#tweet_data head\n",
        "tweet_data.head()"
      ],
      "execution_count": 60,
      "outputs": [
        {
          "output_type": "execute_result",
          "data": {
            "text/html": [
              "<div>\n",
              "<style scoped>\n",
              "    .dataframe tbody tr th:only-of-type {\n",
              "        vertical-align: middle;\n",
              "    }\n",
              "\n",
              "    .dataframe tbody tr th {\n",
              "        vertical-align: top;\n",
              "    }\n",
              "\n",
              "    .dataframe thead th {\n",
              "        text-align: right;\n",
              "    }\n",
              "</style>\n",
              "<table border=\"1\" class=\"dataframe\">\n",
              "  <thead>\n",
              "    <tr style=\"text-align: right;\">\n",
              "      <th></th>\n",
              "      <th>date</th>\n",
              "      <th>target</th>\n",
              "      <th>insult</th>\n",
              "      <th>tweet</th>\n",
              "      <th>year</th>\n",
              "    </tr>\n",
              "  </thead>\n",
              "  <tbody>\n",
              "    <tr>\n",
              "      <th>0</th>\n",
              "      <td>2014-10-09</td>\n",
              "      <td>thomas-frieden</td>\n",
              "      <td>fool</td>\n",
              "      <td>Can you believe this fool, Dr. Thomas Frieden ...</td>\n",
              "      <td>None</td>\n",
              "    </tr>\n",
              "    <tr>\n",
              "      <th>1</th>\n",
              "      <td>2014-10-09</td>\n",
              "      <td>thomas-frieden</td>\n",
              "      <td>DOPE</td>\n",
              "      <td>Can you believe this fool, Dr. Thomas Frieden ...</td>\n",
              "      <td>None</td>\n",
              "    </tr>\n",
              "    <tr>\n",
              "      <th>2</th>\n",
              "      <td>2015-06-16</td>\n",
              "      <td>politicians</td>\n",
              "      <td>all talk and no action</td>\n",
              "      <td>Big time in U.S. today - MAKE AMERICA GREAT AG...</td>\n",
              "      <td>None</td>\n",
              "    </tr>\n",
              "    <tr>\n",
              "      <th>3</th>\n",
              "      <td>2015-06-24</td>\n",
              "      <td>ben-cardin</td>\n",
              "      <td>It's politicians like Cardin that have destroy...</td>\n",
              "      <td>Politician @SenatorCardin didn't like that I s...</td>\n",
              "      <td>None</td>\n",
              "    </tr>\n",
              "    <tr>\n",
              "      <th>4</th>\n",
              "      <td>2015-06-24</td>\n",
              "      <td>neil-young</td>\n",
              "      <td>total hypocrite</td>\n",
              "      <td>For the nonbeliever, here is a photo of @Neily...</td>\n",
              "      <td>None</td>\n",
              "    </tr>\n",
              "  </tbody>\n",
              "</table>\n",
              "</div>"
            ],
            "text/plain": [
              "         date  ...  year\n",
              "0  2014-10-09  ...  None\n",
              "1  2014-10-09  ...  None\n",
              "2  2015-06-16  ...  None\n",
              "3  2015-06-24  ...  None\n",
              "4  2015-06-24  ...  None\n",
              "\n",
              "[5 rows x 5 columns]"
            ]
          },
          "metadata": {
            "tags": []
          },
          "execution_count": 60
        }
      ]
    },
    {
      "cell_type": "markdown",
      "metadata": {
        "id": "DlPVEmOykafm"
      },
      "source": [
        "You can also do the same thing using regex match function to do this which is vailable in pandas\n",
        "\n",
        "Reference: https://www.geeksforgeeks.org/python-pandas-series-str-match/"
      ]
    },
    {
      "cell_type": "code",
      "metadata": {
        "id": "PDnIHn2gkafm",
        "colab": {
          "base_uri": "https://localhost:8080/",
          "height": 419
        },
        "outputId": "3554320f-fa68-4d2c-acec-84fb51fde57c"
      },
      "source": [
        "# apply pandas str.match() function\n",
        "tweet_data[tweet_data['year'].str.match('^202\\d')==True]"
      ],
      "execution_count": 61,
      "outputs": [
        {
          "output_type": "execute_result",
          "data": {
            "text/html": [
              "<div>\n",
              "<style scoped>\n",
              "    .dataframe tbody tr th:only-of-type {\n",
              "        vertical-align: middle;\n",
              "    }\n",
              "\n",
              "    .dataframe tbody tr th {\n",
              "        vertical-align: top;\n",
              "    }\n",
              "\n",
              "    .dataframe thead th {\n",
              "        text-align: right;\n",
              "    }\n",
              "</style>\n",
              "<table border=\"1\" class=\"dataframe\">\n",
              "  <thead>\n",
              "    <tr style=\"text-align: right;\">\n",
              "      <th></th>\n",
              "      <th>date</th>\n",
              "      <th>target</th>\n",
              "      <th>insult</th>\n",
              "      <th>tweet</th>\n",
              "      <th>year</th>\n",
              "    </tr>\n",
              "  </thead>\n",
              "  <tbody>\n",
              "    <tr>\n",
              "      <th>7621</th>\n",
              "      <td>2020-01-01</td>\n",
              "      <td>impeachment-inquiry</td>\n",
              "      <td>The greatest Witch Hunt in U.S. history</td>\n",
              "      <td>Thank you Steve. The greatest Witch Hunt in U....</td>\n",
              "      <td>2020</td>\n",
              "    </tr>\n",
              "    <tr>\n",
              "      <th>7622</th>\n",
              "      <td>2020-01-02</td>\n",
              "      <td>impeachment-inquiry</td>\n",
              "      <td>Witch Hunt is sputtering badly, but still goin...</td>\n",
              "      <td>A lot of very good people were taken down by a...</td>\n",
              "      <td>2020</td>\n",
              "    </tr>\n",
              "    <tr>\n",
              "      <th>7623</th>\n",
              "      <td>2020-01-04</td>\n",
              "      <td>impeachment-inquiry</td>\n",
              "      <td>this ridiculous Impeachment Lite Hoax</td>\n",
              "      <td>As hard as I work, &amp; as successful as our Coun...</td>\n",
              "      <td>2020</td>\n",
              "    </tr>\n",
              "    <tr>\n",
              "      <th>7624</th>\n",
              "      <td>2020-01-06</td>\n",
              "      <td>los-angeles</td>\n",
              "      <td>poorly run</td>\n",
              "      <td>....If however, the city or state in question ...</td>\n",
              "      <td>2020</td>\n",
              "    </tr>\n",
              "    <tr>\n",
              "      <th>7625</th>\n",
              "      <td>2020-01-06</td>\n",
              "      <td>impeachment-inquiry</td>\n",
              "      <td>The great Scam continues</td>\n",
              "      <td>“The reason they are not sending the Articles ...</td>\n",
              "      <td>2020</td>\n",
              "    </tr>\n",
              "    <tr>\n",
              "      <th>...</th>\n",
              "      <td>...</td>\n",
              "      <td>...</td>\n",
              "      <td>...</td>\n",
              "      <td>...</td>\n",
              "      <td>...</td>\n",
              "    </tr>\n",
              "    <tr>\n",
              "      <th>10355</th>\n",
              "      <td>2021-01-06</td>\n",
              "      <td>2020-election</td>\n",
              "      <td>Many States want to decertify the mistake they...</td>\n",
              "      <td>If Vice President @Mike_Pence comes through fo...</td>\n",
              "      <td>2021</td>\n",
              "    </tr>\n",
              "    <tr>\n",
              "      <th>10356</th>\n",
              "      <td>2021-01-06</td>\n",
              "      <td>2020-election</td>\n",
              "      <td>based on irregularities and fraud, plus corrup...</td>\n",
              "      <td>States want to correct their votes, which they...</td>\n",
              "      <td>2021</td>\n",
              "    </tr>\n",
              "    <tr>\n",
              "      <th>10357</th>\n",
              "      <td>2021-01-06</td>\n",
              "      <td>2020-election</td>\n",
              "      <td>Our Election Process is worse than that of thi...</td>\n",
              "      <td>They just happened to find 50,000 ballots late...</td>\n",
              "      <td>2021</td>\n",
              "    </tr>\n",
              "    <tr>\n",
              "      <th>10358</th>\n",
              "      <td>2021-01-06</td>\n",
              "      <td>2020-election</td>\n",
              "      <td>a FRAUD</td>\n",
              "      <td>The States want to redo their votes. They foun...</td>\n",
              "      <td>2021</td>\n",
              "    </tr>\n",
              "    <tr>\n",
              "      <th>10359</th>\n",
              "      <td>2021-01-06</td>\n",
              "      <td>chuck-todd</td>\n",
              "      <td>Sleepy Eyes,  Sad to watch!</td>\n",
              "      <td>Sleepy Eyes Chuck Todd is so happy with the fa...</td>\n",
              "      <td>2021</td>\n",
              "    </tr>\n",
              "  </tbody>\n",
              "</table>\n",
              "<p>2739 rows × 5 columns</p>\n",
              "</div>"
            ],
            "text/plain": [
              "             date  ...  year\n",
              "7621   2020-01-01  ...  2020\n",
              "7622   2020-01-02  ...  2020\n",
              "7623   2020-01-04  ...  2020\n",
              "7624   2020-01-06  ...  2020\n",
              "7625   2020-01-06  ...  2020\n",
              "...           ...  ...   ...\n",
              "10355  2021-01-06  ...  2021\n",
              "10356  2021-01-06  ...  2021\n",
              "10357  2021-01-06  ...  2021\n",
              "10358  2021-01-06  ...  2021\n",
              "10359  2021-01-06  ...  2021\n",
              "\n",
              "[2739 rows x 5 columns]"
            ]
          },
          "metadata": {
            "tags": []
          },
          "execution_count": 61
        }
      ]
    },
    {
      "cell_type": "markdown",
      "metadata": {
        "id": "Yzf5cT2gkafm"
      },
      "source": [
        "cool right!\n",
        "\n",
        "You got some null values after applying above function. Lets drop them using dropna function. Also drop 'Unnamed: 0' column as it does not give any information.\n"
      ]
    },
    {
      "cell_type": "code",
      "metadata": {
        "id": "GpILYEOgkafn"
      },
      "source": [
        "#drop na and Unnamed: 0 column\n",
        "tweet_data.dropna(inplace=True)\n",
        "tweet_data.drop(['Unnamed: 0'], axis=1, inplace=True)"
      ],
      "execution_count": 57,
      "outputs": []
    },
    {
      "cell_type": "markdown",
      "metadata": {
        "id": "UzhKxPr9kafn"
      },
      "source": [
        "**3. sub() Function**\n",
        "\n",
        "Now you have filtered the dataset with 2739 rows. Let's remove all @ from tweet column suing re sub() function."
      ]
    },
    {
      "cell_type": "code",
      "metadata": {
        "id": "XOEu4SN5kafn",
        "colab": {
          "base_uri": "https://localhost:8080/",
          "height": 419
        },
        "outputId": "056bc3b0-ada2-4234-c8e5-118f35ab31c8"
      },
      "source": [
        "# create a function which takes tweet as parameter and applies regex on it\n",
        "def tweet(tweet):\n",
        "  return re.sub(r'@', '', tweet)\n",
        "\n",
        "\n",
        "#use apply function on tweet_data to use above function in order to remove @ from tweets\n",
        "tweet_data['tweet'] = tweet_data['tweet'].apply(tweet)\n",
        "\n",
        "#tweet_data head\n",
        "tweet_data"
      ],
      "execution_count": 62,
      "outputs": [
        {
          "output_type": "execute_result",
          "data": {
            "text/html": [
              "<div>\n",
              "<style scoped>\n",
              "    .dataframe tbody tr th:only-of-type {\n",
              "        vertical-align: middle;\n",
              "    }\n",
              "\n",
              "    .dataframe tbody tr th {\n",
              "        vertical-align: top;\n",
              "    }\n",
              "\n",
              "    .dataframe thead th {\n",
              "        text-align: right;\n",
              "    }\n",
              "</style>\n",
              "<table border=\"1\" class=\"dataframe\">\n",
              "  <thead>\n",
              "    <tr style=\"text-align: right;\">\n",
              "      <th></th>\n",
              "      <th>date</th>\n",
              "      <th>target</th>\n",
              "      <th>insult</th>\n",
              "      <th>tweet</th>\n",
              "      <th>year</th>\n",
              "    </tr>\n",
              "  </thead>\n",
              "  <tbody>\n",
              "    <tr>\n",
              "      <th>0</th>\n",
              "      <td>2014-10-09</td>\n",
              "      <td>thomas-frieden</td>\n",
              "      <td>fool</td>\n",
              "      <td>Can you believe this fool, Dr. Thomas Frieden ...</td>\n",
              "      <td>None</td>\n",
              "    </tr>\n",
              "    <tr>\n",
              "      <th>1</th>\n",
              "      <td>2014-10-09</td>\n",
              "      <td>thomas-frieden</td>\n",
              "      <td>DOPE</td>\n",
              "      <td>Can you believe this fool, Dr. Thomas Frieden ...</td>\n",
              "      <td>None</td>\n",
              "    </tr>\n",
              "    <tr>\n",
              "      <th>2</th>\n",
              "      <td>2015-06-16</td>\n",
              "      <td>politicians</td>\n",
              "      <td>all talk and no action</td>\n",
              "      <td>Big time in U.S. today - MAKE AMERICA GREAT AG...</td>\n",
              "      <td>None</td>\n",
              "    </tr>\n",
              "    <tr>\n",
              "      <th>3</th>\n",
              "      <td>2015-06-24</td>\n",
              "      <td>ben-cardin</td>\n",
              "      <td>It's politicians like Cardin that have destroy...</td>\n",
              "      <td>Politician SenatorCardin didn't like that I sa...</td>\n",
              "      <td>None</td>\n",
              "    </tr>\n",
              "    <tr>\n",
              "      <th>4</th>\n",
              "      <td>2015-06-24</td>\n",
              "      <td>neil-young</td>\n",
              "      <td>total hypocrite</td>\n",
              "      <td>For the nonbeliever, here is a photo of Neilyo...</td>\n",
              "      <td>None</td>\n",
              "    </tr>\n",
              "    <tr>\n",
              "      <th>...</th>\n",
              "      <td>...</td>\n",
              "      <td>...</td>\n",
              "      <td>...</td>\n",
              "      <td>...</td>\n",
              "      <td>...</td>\n",
              "    </tr>\n",
              "    <tr>\n",
              "      <th>10355</th>\n",
              "      <td>2021-01-06</td>\n",
              "      <td>2020-election</td>\n",
              "      <td>Many States want to decertify the mistake they...</td>\n",
              "      <td>If Vice President Mike_Pence comes through for...</td>\n",
              "      <td>2021</td>\n",
              "    </tr>\n",
              "    <tr>\n",
              "      <th>10356</th>\n",
              "      <td>2021-01-06</td>\n",
              "      <td>2020-election</td>\n",
              "      <td>based on irregularities and fraud, plus corrup...</td>\n",
              "      <td>States want to correct their votes, which they...</td>\n",
              "      <td>2021</td>\n",
              "    </tr>\n",
              "    <tr>\n",
              "      <th>10357</th>\n",
              "      <td>2021-01-06</td>\n",
              "      <td>2020-election</td>\n",
              "      <td>Our Election Process is worse than that of thi...</td>\n",
              "      <td>They just happened to find 50,000 ballots late...</td>\n",
              "      <td>2021</td>\n",
              "    </tr>\n",
              "    <tr>\n",
              "      <th>10358</th>\n",
              "      <td>2021-01-06</td>\n",
              "      <td>2020-election</td>\n",
              "      <td>a FRAUD</td>\n",
              "      <td>The States want to redo their votes. They foun...</td>\n",
              "      <td>2021</td>\n",
              "    </tr>\n",
              "    <tr>\n",
              "      <th>10359</th>\n",
              "      <td>2021-01-06</td>\n",
              "      <td>chuck-todd</td>\n",
              "      <td>Sleepy Eyes,  Sad to watch!</td>\n",
              "      <td>Sleepy Eyes Chuck Todd is so happy with the fa...</td>\n",
              "      <td>2021</td>\n",
              "    </tr>\n",
              "  </tbody>\n",
              "</table>\n",
              "<p>10358 rows × 5 columns</p>\n",
              "</div>"
            ],
            "text/plain": [
              "             date  ...  year\n",
              "0      2014-10-09  ...  None\n",
              "1      2014-10-09  ...  None\n",
              "2      2015-06-16  ...  None\n",
              "3      2015-06-24  ...  None\n",
              "4      2015-06-24  ...  None\n",
              "...           ...  ...   ...\n",
              "10355  2021-01-06  ...  2021\n",
              "10356  2021-01-06  ...  2021\n",
              "10357  2021-01-06  ...  2021\n",
              "10358  2021-01-06  ...  2021\n",
              "10359  2021-01-06  ...  2021\n",
              "\n",
              "[10358 rows x 5 columns]"
            ]
          },
          "metadata": {
            "tags": []
          },
          "execution_count": 62
        }
      ]
    },
    {
      "cell_type": "markdown",
      "metadata": {
        "id": "fbY7s3MMkafn"
      },
      "source": [
        "You can also use the sub function just in one line using list comprehension. Can you try doing it below?"
      ]
    },
    {
      "cell_type": "code",
      "metadata": {
        "id": "vTqCAxjFkafn"
      },
      "source": [
        "# sub() suing list comprehension\n",
        "tweet_data['tweet'] = [re.sub(r'@', '', str(x)) for x in tweet_data['tweet']]"
      ],
      "execution_count": 63,
      "outputs": []
    },
    {
      "cell_type": "markdown",
      "metadata": {
        "id": "orSj1u_ckafn"
      },
      "source": [
        "**4. split() Function**\n",
        "\n",
        "Lets now split the column target by making another column Name which has name before hyphen(\"-\")\n"
      ]
    },
    {
      "cell_type": "code",
      "metadata": {
        "id": "NFUtlKHFkafo",
        "colab": {
          "base_uri": "https://localhost:8080/",
          "height": 204
        },
        "outputId": "1db4bb0a-6399-4175-e919-6d40fe725dc4"
      },
      "source": [
        "# create a function which takes target as parameter and applies regex on it\n",
        "def name(target):\n",
        "  x = re.split(\"-\", target, 1)\n",
        "  if x:\n",
        "    return x[0]\n",
        "\n",
        "#use apply function on tweet_data to use above function in order to create Name column\n",
        "tweet_data['Name'] = tweet_data['target'].apply(name)\n",
        "\n",
        "#tweet_data head\n",
        "tweet_data.head()"
      ],
      "execution_count": 64,
      "outputs": [
        {
          "output_type": "execute_result",
          "data": {
            "text/html": [
              "<div>\n",
              "<style scoped>\n",
              "    .dataframe tbody tr th:only-of-type {\n",
              "        vertical-align: middle;\n",
              "    }\n",
              "\n",
              "    .dataframe tbody tr th {\n",
              "        vertical-align: top;\n",
              "    }\n",
              "\n",
              "    .dataframe thead th {\n",
              "        text-align: right;\n",
              "    }\n",
              "</style>\n",
              "<table border=\"1\" class=\"dataframe\">\n",
              "  <thead>\n",
              "    <tr style=\"text-align: right;\">\n",
              "      <th></th>\n",
              "      <th>date</th>\n",
              "      <th>target</th>\n",
              "      <th>insult</th>\n",
              "      <th>tweet</th>\n",
              "      <th>year</th>\n",
              "      <th>Name</th>\n",
              "    </tr>\n",
              "  </thead>\n",
              "  <tbody>\n",
              "    <tr>\n",
              "      <th>0</th>\n",
              "      <td>2014-10-09</td>\n",
              "      <td>thomas-frieden</td>\n",
              "      <td>fool</td>\n",
              "      <td>Can you believe this fool, Dr. Thomas Frieden ...</td>\n",
              "      <td>None</td>\n",
              "      <td>thomas</td>\n",
              "    </tr>\n",
              "    <tr>\n",
              "      <th>1</th>\n",
              "      <td>2014-10-09</td>\n",
              "      <td>thomas-frieden</td>\n",
              "      <td>DOPE</td>\n",
              "      <td>Can you believe this fool, Dr. Thomas Frieden ...</td>\n",
              "      <td>None</td>\n",
              "      <td>thomas</td>\n",
              "    </tr>\n",
              "    <tr>\n",
              "      <th>2</th>\n",
              "      <td>2015-06-16</td>\n",
              "      <td>politicians</td>\n",
              "      <td>all talk and no action</td>\n",
              "      <td>Big time in U.S. today - MAKE AMERICA GREAT AG...</td>\n",
              "      <td>None</td>\n",
              "      <td>politicians</td>\n",
              "    </tr>\n",
              "    <tr>\n",
              "      <th>3</th>\n",
              "      <td>2015-06-24</td>\n",
              "      <td>ben-cardin</td>\n",
              "      <td>It's politicians like Cardin that have destroy...</td>\n",
              "      <td>Politician SenatorCardin didn't like that I sa...</td>\n",
              "      <td>None</td>\n",
              "      <td>ben</td>\n",
              "    </tr>\n",
              "    <tr>\n",
              "      <th>4</th>\n",
              "      <td>2015-06-24</td>\n",
              "      <td>neil-young</td>\n",
              "      <td>total hypocrite</td>\n",
              "      <td>For the nonbeliever, here is a photo of Neilyo...</td>\n",
              "      <td>None</td>\n",
              "      <td>neil</td>\n",
              "    </tr>\n",
              "  </tbody>\n",
              "</table>\n",
              "</div>"
            ],
            "text/plain": [
              "         date          target  ...  year         Name\n",
              "0  2014-10-09  thomas-frieden  ...  None       thomas\n",
              "1  2014-10-09  thomas-frieden  ...  None       thomas\n",
              "2  2015-06-16     politicians  ...  None  politicians\n",
              "3  2015-06-24      ben-cardin  ...  None          ben\n",
              "4  2015-06-24      neil-young  ...  None         neil\n",
              "\n",
              "[5 rows x 6 columns]"
            ]
          },
          "metadata": {
            "tags": []
          },
          "execution_count": 64
        }
      ]
    },
    {
      "cell_type": "markdown",
      "metadata": {
        "id": "35sAJFmrkafo"
      },
      "source": [
        "Now can you filter out Name which are specially targetted for trump? Lets do it below and check how many such tweets are there."
      ]
    },
    {
      "cell_type": "code",
      "metadata": {
        "id": "olFobpsBkafo",
        "colab": {
          "base_uri": "https://localhost:8080/",
          "height": 419
        },
        "outputId": "6704463b-b743-4905-fd0f-ad892ce8a251"
      },
      "source": [
        "#filter Name which is euqals to trump\n",
        "tweet_data[tweet_data['Name']=='trump']"
      ],
      "execution_count": 65,
      "outputs": [
        {
          "output_type": "execute_result",
          "data": {
            "text/html": [
              "<div>\n",
              "<style scoped>\n",
              "    .dataframe tbody tr th:only-of-type {\n",
              "        vertical-align: middle;\n",
              "    }\n",
              "\n",
              "    .dataframe tbody tr th {\n",
              "        vertical-align: top;\n",
              "    }\n",
              "\n",
              "    .dataframe thead th {\n",
              "        text-align: right;\n",
              "    }\n",
              "</style>\n",
              "<table border=\"1\" class=\"dataframe\">\n",
              "  <thead>\n",
              "    <tr style=\"text-align: right;\">\n",
              "      <th></th>\n",
              "      <th>date</th>\n",
              "      <th>target</th>\n",
              "      <th>insult</th>\n",
              "      <th>tweet</th>\n",
              "      <th>year</th>\n",
              "      <th>Name</th>\n",
              "    </tr>\n",
              "  </thead>\n",
              "  <tbody>\n",
              "    <tr>\n",
              "      <th>861</th>\n",
              "      <td>2016-01-22</td>\n",
              "      <td>trump-opposition</td>\n",
              "      <td>are totally ineffective &amp; have been for years</td>\n",
              "      <td>Wow! This might be my highest # yet! Thank you...</td>\n",
              "      <td>None</td>\n",
              "      <td>trump</td>\n",
              "    </tr>\n",
              "    <tr>\n",
              "      <th>2323</th>\n",
              "      <td>2017-01-11</td>\n",
              "      <td>trump-report</td>\n",
              "      <td>FAKE NEWS - A TOTAL POLITICAL WITCH HUNT!</td>\n",
              "      <td>FAKE NEWS - A TOTAL POLITICAL WITCH HUNT!</td>\n",
              "      <td>None</td>\n",
              "      <td>trump</td>\n",
              "    </tr>\n",
              "    <tr>\n",
              "      <th>2324</th>\n",
              "      <td>2017-01-11</td>\n",
              "      <td>trump-report</td>\n",
              "      <td>Very unfair!</td>\n",
              "      <td>Russia just said the unverified report paid fo...</td>\n",
              "      <td>None</td>\n",
              "      <td>trump</td>\n",
              "    </tr>\n",
              "    <tr>\n",
              "      <th>2325</th>\n",
              "      <td>2017-01-11</td>\n",
              "      <td>trump-opposition</td>\n",
              "      <td>crooked</td>\n",
              "      <td>I win an election easily, a great \"movement\" i...</td>\n",
              "      <td>None</td>\n",
              "      <td>trump</td>\n",
              "    </tr>\n",
              "    <tr>\n",
              "      <th>2326</th>\n",
              "      <td>2017-01-11</td>\n",
              "      <td>trump-opposition</td>\n",
              "      <td>try to belittle our victory with FAKE NEWS</td>\n",
              "      <td>I win an election easily, a great \"movement\" i...</td>\n",
              "      <td>None</td>\n",
              "      <td>trump</td>\n",
              "    </tr>\n",
              "    <tr>\n",
              "      <th>...</th>\n",
              "      <td>...</td>\n",
              "      <td>...</td>\n",
              "      <td>...</td>\n",
              "      <td>...</td>\n",
              "      <td>...</td>\n",
              "      <td>...</td>\n",
              "    </tr>\n",
              "    <tr>\n",
              "      <th>9658</th>\n",
              "      <td>2020-10-07</td>\n",
              "      <td>trump-russia</td>\n",
              "      <td>Hoax Scandal</td>\n",
              "      <td>All Russia Hoax Scandal information was Declas...</td>\n",
              "      <td>2020</td>\n",
              "      <td>trump</td>\n",
              "    </tr>\n",
              "    <tr>\n",
              "      <th>9659</th>\n",
              "      <td>2020-10-07</td>\n",
              "      <td>trump-russia</td>\n",
              "      <td>the biggest political crime in the history of ...</td>\n",
              "      <td>All Russia Hoax Scandal information was Declas...</td>\n",
              "      <td>2020</td>\n",
              "      <td>trump</td>\n",
              "    </tr>\n",
              "    <tr>\n",
              "      <th>10091</th>\n",
              "      <td>2020-11-22</td>\n",
              "      <td>trump-russia</td>\n",
              "      <td>never ending Witch Hunt</td>\n",
              "      <td>Thanks Mark. It’s all a continuation of the ne...</td>\n",
              "      <td>2020</td>\n",
              "      <td>trump</td>\n",
              "    </tr>\n",
              "    <tr>\n",
              "      <th>10188</th>\n",
              "      <td>2020-12-09</td>\n",
              "      <td>trump-critics</td>\n",
              "      <td>obnoxious</td>\n",
              "      <td>Germany has consistently been used by my obnox...</td>\n",
              "      <td>2020</td>\n",
              "      <td>trump</td>\n",
              "    </tr>\n",
              "    <tr>\n",
              "      <th>10258</th>\n",
              "      <td>2020-12-18</td>\n",
              "      <td>trump-russia</td>\n",
              "      <td>Russia Hoax</td>\n",
              "      <td>The Russia Hoax becomes an even bigger lie! ht...</td>\n",
              "      <td>2020</td>\n",
              "      <td>trump</td>\n",
              "    </tr>\n",
              "  </tbody>\n",
              "</table>\n",
              "<p>485 rows × 6 columns</p>\n",
              "</div>"
            ],
            "text/plain": [
              "             date            target  ...  year   Name\n",
              "861    2016-01-22  trump-opposition  ...  None  trump\n",
              "2323   2017-01-11      trump-report  ...  None  trump\n",
              "2324   2017-01-11      trump-report  ...  None  trump\n",
              "2325   2017-01-11  trump-opposition  ...  None  trump\n",
              "2326   2017-01-11  trump-opposition  ...  None  trump\n",
              "...           ...               ...  ...   ...    ...\n",
              "9658   2020-10-07      trump-russia  ...  2020  trump\n",
              "9659   2020-10-07      trump-russia  ...  2020  trump\n",
              "10091  2020-11-22      trump-russia  ...  2020  trump\n",
              "10188  2020-12-09     trump-critics  ...  2020  trump\n",
              "10258  2020-12-18      trump-russia  ...  2020  trump\n",
              "\n",
              "[485 rows x 6 columns]"
            ]
          },
          "metadata": {
            "tags": []
          },
          "execution_count": 65
        }
      ]
    },
    {
      "cell_type": "markdown",
      "metadata": {
        "id": "h27WAyjYkafo"
      },
      "source": [
        "So here you got total of 65 records which were  tweeted on Donald Trump in the span of 2020-2021. \n",
        "\n",
        "Well done buddy! You have learned how to apply regex on dataframes. Regex are mostly used for datasets which are having textual information."
      ]
    },
    {
      "cell_type": "markdown",
      "metadata": {
        "id": "__cWih9Okafo"
      },
      "source": [
        "Good job!  Now our interesting trump insult tweet data is somewhat cleaned. "
      ]
    },
    {
      "cell_type": "markdown",
      "metadata": {
        "id": "4SgrLjyDkqhy"
      },
      "source": [
        "---------------------------------\n",
        "\n",
        "# C'mon cheers:) you have completed the 5th milestone challenge too. \n",
        "\n",
        "--------------------------------"
      ]
    },
    {
      "cell_type": "markdown",
      "metadata": {
        "id": "CG6h_jBBkqhy"
      },
      "source": [
        "# FeedBack\n",
        "We hope you’ve enjoyed this course so far. We’re committed to help you use \"AI for All\" course to its full potential, so that you have a great learning experience. And that’s why we need your help in form of a feedback here.\n",
        "\n",
        "Please fill this feedback form https://docs.google.com/forms/d/e/1FAIpQLSfjBmH0yJSSA34IhSVx4h2eDMgOAeG4Dk-yHid__NMTk3Hq5g/viewform"
      ]
    }
  ]
}