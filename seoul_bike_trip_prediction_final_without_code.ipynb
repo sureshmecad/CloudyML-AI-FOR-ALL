{
  "nbformat": 4,
  "nbformat_minor": 0,
  "metadata": {
    "colab": {
      "name": "seoul_bike_trip_prediction_final_without_code.ipynb",
      "provenance": [],
      "collapsed_sections": [
        "TQSiKH2f3XNo",
        "-qW9-zzP4Fvb"
      ],
      "include_colab_link": true
    },
    "kernelspec": {
      "display_name": "Python 3",
      "language": "python",
      "name": "python3"
    },
    "language_info": {
      "codemirror_mode": {
        "name": "ipython",
        "version": 3
      },
      "file_extension": ".py",
      "mimetype": "text/x-python",
      "name": "python",
      "nbconvert_exporter": "python",
      "pygments_lexer": "ipython3",
      "version": "3.7.6"
    }
  },
  "cells": [
    {
      "cell_type": "markdown",
      "metadata": {
        "id": "view-in-github",
        "colab_type": "text"
      },
      "source": [
        "<a href=\"https://colab.research.google.com/github/sureshmecad/CloudyML-AI-FOR-ALL/blob/main/seoul_bike_trip_prediction_final_without_code.ipynb\" target=\"_parent\"><img src=\"https://colab.research.google.com/assets/colab-badge.svg\" alt=\"Open In Colab\"/></a>"
      ]
    },
    {
      "cell_type": "markdown",
      "metadata": {
        "id": "TQSiKH2f3XNo"
      },
      "source": [
        "# SEOUL BIKE TRIP DURATION PREDICTION\n",
        "\n",
        "We need to **predict the trip duration** from all the other data from dataset like **distance, location and weather information.**\n",
        "Trip duration is the most fundamental measure in all modes of transportation. Hence, it is crucial to predict the trip-time precisely for the advancement of Intelligent Transport Systems (ITS) and traveller information systems.\n"
      ]
    },
    {
      "cell_type": "markdown",
      "metadata": {
        "id": "-qW9-zzP4Fvb"
      },
      "source": [
        "# ABOUT DATASET \n",
        "Dataset contains 1 file for_modeling.csv ( 9601139 , 26 )"
      ]
    },
    {
      "cell_type": "markdown",
      "metadata": {
        "id": "UCxa772j-nNy"
      },
      "source": [
        "# COLUMNS IN THE DATASET\n",
        "Unnamed: 0\n",
        "\n",
        "Duration \n",
        "\n",
        "Distance\n",
        "\n",
        "PLong\n",
        "\n",
        "PLatd\n",
        "\n",
        "DLong\n",
        "\n",
        "DLatd\n",
        "\n",
        "Haversine\n",
        "\n",
        "Pmonth\n",
        "\n",
        "Pday\n",
        "\n",
        "Phour\n",
        "\n",
        "Pmin\n",
        "\n",
        "PDweek\n",
        "\n",
        "Dmonth\n",
        "\n",
        "Dday\n",
        "\n",
        "Dhour\n",
        "\n",
        "Dmin\n",
        "\n",
        "DDweek\n",
        "\n",
        "Temp\n",
        "\n",
        "Precip\n",
        "\n",
        "Wind\n",
        "\n",
        "Humid\n",
        "\n",
        "Solar\n",
        "\n",
        "Snow\n",
        "\n",
        "GroundTemp\n",
        "\n",
        "Dust"
      ]
    },
    {
      "cell_type": "markdown",
      "metadata": {
        "id": "RtrdqvjCSDd8"
      },
      "source": [
        "### Importing required libraries\n"
      ]
    },
    {
      "cell_type": "code",
      "metadata": {
        "id": "QJKmzXuPAMOO"
      },
      "source": [
        "# import libraries\n",
        "import numpy as np\n",
        "import pandas as pd\n",
        "\n",
        "import matplotlib.pyplot as plt\n",
        "%matplotlib inline\n",
        "import seaborn as sns"
      ],
      "execution_count": 1,
      "outputs": []
    },
    {
      "cell_type": "code",
      "metadata": {
        "colab": {
          "base_uri": "https://localhost:8080/"
        },
        "id": "I_ni6s7ozkRp",
        "outputId": "1805a4c3-53fc-4ef1-9c61-3e5169625d63"
      },
      "source": [
        " # import dataset\n",
        "from google.colab import drive\n",
        "drive.mount('/content/drive')"
      ],
      "execution_count": 2,
      "outputs": [
        {
          "output_type": "stream",
          "name": "stdout",
          "text": [
            "Drive already mounted at /content/drive; to attempt to forcibly remount, call drive.mount(\"/content/drive\", force_remount=True).\n"
          ]
        }
      ]
    },
    {
      "cell_type": "markdown",
      "metadata": {
        "id": "zldrFWomSRkI"
      },
      "source": [
        "### Importing the dataset"
      ]
    },
    {
      "cell_type": "code",
      "metadata": {
        "id": "v_mByuFCzkMH"
      },
      "source": [
        "# Read csv using pandas\n",
        "train = pd.read_csv(\"/content/drive/MyDrive/TMLC/Seoul-Bike-Trip-Duration.zip\")"
      ],
      "execution_count": 3,
      "outputs": []
    },
    {
      "cell_type": "code",
      "metadata": {
        "colab": {
          "base_uri": "https://localhost:8080/",
          "height": 202
        },
        "id": "UJyTQcaNzkHx",
        "outputId": "be9a8b45-96af-4959-b2b8-68c105811d36"
      },
      "source": [
        "train.head()"
      ],
      "execution_count": 4,
      "outputs": [
        {
          "output_type": "execute_result",
          "data": {
            "text/html": [
              "<div>\n",
              "<style scoped>\n",
              "    .dataframe tbody tr th:only-of-type {\n",
              "        vertical-align: middle;\n",
              "    }\n",
              "\n",
              "    .dataframe tbody tr th {\n",
              "        vertical-align: top;\n",
              "    }\n",
              "\n",
              "    .dataframe thead th {\n",
              "        text-align: right;\n",
              "    }\n",
              "</style>\n",
              "<table border=\"1\" class=\"dataframe\">\n",
              "  <thead>\n",
              "    <tr style=\"text-align: right;\">\n",
              "      <th></th>\n",
              "      <th>Unnamed: 0</th>\n",
              "      <th>Duration</th>\n",
              "      <th>Distance</th>\n",
              "      <th>PLong</th>\n",
              "      <th>PLatd</th>\n",
              "      <th>DLong</th>\n",
              "      <th>DLatd</th>\n",
              "      <th>Haversine</th>\n",
              "      <th>Pmonth</th>\n",
              "      <th>Pday</th>\n",
              "      <th>Phour</th>\n",
              "      <th>Pmin</th>\n",
              "      <th>PDweek</th>\n",
              "      <th>Dmonth</th>\n",
              "      <th>Dday</th>\n",
              "      <th>Dhour</th>\n",
              "      <th>Dmin</th>\n",
              "      <th>DDweek</th>\n",
              "      <th>Temp</th>\n",
              "      <th>Precip</th>\n",
              "      <th>Wind</th>\n",
              "      <th>Humid</th>\n",
              "      <th>Solar</th>\n",
              "      <th>Snow</th>\n",
              "      <th>GroundTemp</th>\n",
              "      <th>Dust</th>\n",
              "    </tr>\n",
              "  </thead>\n",
              "  <tbody>\n",
              "    <tr>\n",
              "      <th>0</th>\n",
              "      <td>0</td>\n",
              "      <td>3</td>\n",
              "      <td>50</td>\n",
              "      <td>37.544666</td>\n",
              "      <td>126.888359</td>\n",
              "      <td>37.544666</td>\n",
              "      <td>126.888359</td>\n",
              "      <td>0.000000</td>\n",
              "      <td>1</td>\n",
              "      <td>1</td>\n",
              "      <td>0</td>\n",
              "      <td>0</td>\n",
              "      <td>0</td>\n",
              "      <td>1</td>\n",
              "      <td>1</td>\n",
              "      <td>0</td>\n",
              "      <td>4</td>\n",
              "      <td>0</td>\n",
              "      <td>-3.2</td>\n",
              "      <td>0.0</td>\n",
              "      <td>0.5</td>\n",
              "      <td>40.0</td>\n",
              "      <td>0.0</td>\n",
              "      <td>0.0</td>\n",
              "      <td>-2.2</td>\n",
              "      <td>25.0</td>\n",
              "    </tr>\n",
              "    <tr>\n",
              "      <th>1</th>\n",
              "      <td>1</td>\n",
              "      <td>24</td>\n",
              "      <td>7670</td>\n",
              "      <td>37.506199</td>\n",
              "      <td>127.003944</td>\n",
              "      <td>37.551250</td>\n",
              "      <td>127.035103</td>\n",
              "      <td>5.713529</td>\n",
              "      <td>1</td>\n",
              "      <td>1</td>\n",
              "      <td>0</td>\n",
              "      <td>0</td>\n",
              "      <td>0</td>\n",
              "      <td>1</td>\n",
              "      <td>1</td>\n",
              "      <td>0</td>\n",
              "      <td>25</td>\n",
              "      <td>0</td>\n",
              "      <td>-3.2</td>\n",
              "      <td>0.0</td>\n",
              "      <td>0.5</td>\n",
              "      <td>40.0</td>\n",
              "      <td>0.0</td>\n",
              "      <td>0.0</td>\n",
              "      <td>-2.2</td>\n",
              "      <td>25.0</td>\n",
              "    </tr>\n",
              "    <tr>\n",
              "      <th>2</th>\n",
              "      <td>2</td>\n",
              "      <td>8</td>\n",
              "      <td>1390</td>\n",
              "      <td>37.544590</td>\n",
              "      <td>127.057083</td>\n",
              "      <td>37.537014</td>\n",
              "      <td>127.061096</td>\n",
              "      <td>0.913702</td>\n",
              "      <td>1</td>\n",
              "      <td>1</td>\n",
              "      <td>0</td>\n",
              "      <td>0</td>\n",
              "      <td>0</td>\n",
              "      <td>1</td>\n",
              "      <td>1</td>\n",
              "      <td>0</td>\n",
              "      <td>9</td>\n",
              "      <td>0</td>\n",
              "      <td>-3.2</td>\n",
              "      <td>0.0</td>\n",
              "      <td>0.5</td>\n",
              "      <td>40.0</td>\n",
              "      <td>0.0</td>\n",
              "      <td>0.0</td>\n",
              "      <td>-2.2</td>\n",
              "      <td>25.0</td>\n",
              "    </tr>\n",
              "    <tr>\n",
              "      <th>3</th>\n",
              "      <td>3</td>\n",
              "      <td>8</td>\n",
              "      <td>1820</td>\n",
              "      <td>37.571102</td>\n",
              "      <td>127.023560</td>\n",
              "      <td>37.561447</td>\n",
              "      <td>127.034920</td>\n",
              "      <td>1.468027</td>\n",
              "      <td>1</td>\n",
              "      <td>1</td>\n",
              "      <td>0</td>\n",
              "      <td>1</td>\n",
              "      <td>0</td>\n",
              "      <td>1</td>\n",
              "      <td>1</td>\n",
              "      <td>0</td>\n",
              "      <td>10</td>\n",
              "      <td>0</td>\n",
              "      <td>-3.2</td>\n",
              "      <td>0.0</td>\n",
              "      <td>0.5</td>\n",
              "      <td>40.0</td>\n",
              "      <td>0.0</td>\n",
              "      <td>0.0</td>\n",
              "      <td>-2.2</td>\n",
              "      <td>25.0</td>\n",
              "    </tr>\n",
              "    <tr>\n",
              "      <th>4</th>\n",
              "      <td>4</td>\n",
              "      <td>4</td>\n",
              "      <td>850</td>\n",
              "      <td>37.573242</td>\n",
              "      <td>127.015907</td>\n",
              "      <td>37.565849</td>\n",
              "      <td>127.016403</td>\n",
              "      <td>0.823227</td>\n",
              "      <td>1</td>\n",
              "      <td>1</td>\n",
              "      <td>0</td>\n",
              "      <td>1</td>\n",
              "      <td>0</td>\n",
              "      <td>1</td>\n",
              "      <td>1</td>\n",
              "      <td>0</td>\n",
              "      <td>6</td>\n",
              "      <td>0</td>\n",
              "      <td>-3.2</td>\n",
              "      <td>0.0</td>\n",
              "      <td>0.5</td>\n",
              "      <td>40.0</td>\n",
              "      <td>0.0</td>\n",
              "      <td>0.0</td>\n",
              "      <td>-2.2</td>\n",
              "      <td>25.0</td>\n",
              "    </tr>\n",
              "  </tbody>\n",
              "</table>\n",
              "</div>"
            ],
            "text/plain": [
              "   Unnamed: 0  Duration  Distance      PLong  ...  Solar  Snow  GroundTemp  Dust\n",
              "0           0         3        50  37.544666  ...    0.0   0.0        -2.2  25.0\n",
              "1           1        24      7670  37.506199  ...    0.0   0.0        -2.2  25.0\n",
              "2           2         8      1390  37.544590  ...    0.0   0.0        -2.2  25.0\n",
              "3           3         8      1820  37.571102  ...    0.0   0.0        -2.2  25.0\n",
              "4           4         4       850  37.573242  ...    0.0   0.0        -2.2  25.0\n",
              "\n",
              "[5 rows x 26 columns]"
            ]
          },
          "metadata": {},
          "execution_count": 4
        }
      ]
    },
    {
      "cell_type": "markdown",
      "metadata": {
        "id": "UjA0-n5YSexu"
      },
      "source": [
        "# Identifying the number of features or columns"
      ]
    },
    {
      "cell_type": "markdown",
      "metadata": {
        "id": "Cj3Ob2XQShHt"
      },
      "source": [
        "# Know all the names of the columns"
      ]
    },
    {
      "cell_type": "code",
      "metadata": {
        "colab": {
          "base_uri": "https://localhost:8080/"
        },
        "id": "DzMeIi7p4FuA",
        "outputId": "24155d2f-d351-421d-f8ea-201db51f5085"
      },
      "source": [
        "# Check all the columns in the dataset\n",
        "train.columns"
      ],
      "execution_count": 5,
      "outputs": [
        {
          "output_type": "execute_result",
          "data": {
            "text/plain": [
              "Index(['Unnamed: 0', 'Duration', 'Distance', 'PLong', 'PLatd', 'DLong',\n",
              "       'DLatd', 'Haversine', 'Pmonth', 'Pday', 'Phour', 'Pmin', 'PDweek',\n",
              "       'Dmonth', 'Dday', 'Dhour', 'Dmin', 'DDweek', 'Temp', 'Precip', 'Wind',\n",
              "       'Humid', 'Solar', 'Snow', 'GroundTemp', 'Dust'],\n",
              "      dtype='object')"
            ]
          },
          "metadata": {},
          "execution_count": 5
        }
      ]
    },
    {
      "cell_type": "markdown",
      "metadata": {
        "id": "gzm3jGrDSrWB"
      },
      "source": [
        "# Drop irrelevant columns from dataset"
      ]
    },
    {
      "cell_type": "code",
      "metadata": {
        "id": "vJf9Zcb5WZH_"
      },
      "source": [
        "# Dropping irrelevant column from the dataset i.e Unnamed: 0\n",
        "train.drop('Unnamed: 0', axis=1, inplace=True)"
      ],
      "execution_count": 5,
      "outputs": []
    },
    {
      "cell_type": "markdown",
      "metadata": {
        "id": "h07rq4XLS8gu"
      },
      "source": [
        "# Knows more about the data in the columns like data type it contains and total samples of each"
      ]
    },
    {
      "cell_type": "code",
      "metadata": {
        "colab": {
          "base_uri": "https://localhost:8080/"
        },
        "id": "SnCXTQ5T4F-t",
        "outputId": "87149368-7e02-4eb8-d66c-3d5b46c93ce0"
      },
      "source": [
        "# Check which columns are having categorical, numerical or boolean values\n",
        "train.info()"
      ],
      "execution_count": 7,
      "outputs": [
        {
          "output_type": "stream",
          "name": "stdout",
          "text": [
            "<class 'pandas.core.frame.DataFrame'>\n",
            "RangeIndex: 9601139 entries, 0 to 9601138\n",
            "Data columns (total 25 columns):\n",
            " #   Column      Dtype  \n",
            "---  ------      -----  \n",
            " 0   Duration    int64  \n",
            " 1   Distance    int64  \n",
            " 2   PLong       float64\n",
            " 3   PLatd       float64\n",
            " 4   DLong       float64\n",
            " 5   DLatd       float64\n",
            " 6   Haversine   float64\n",
            " 7   Pmonth      int64  \n",
            " 8   Pday        int64  \n",
            " 9   Phour       int64  \n",
            " 10  Pmin        int64  \n",
            " 11  PDweek      int64  \n",
            " 12  Dmonth      int64  \n",
            " 13  Dday        int64  \n",
            " 14  Dhour       int64  \n",
            " 15  Dmin        int64  \n",
            " 16  DDweek      int64  \n",
            " 17  Temp        float64\n",
            " 18  Precip      float64\n",
            " 19  Wind        float64\n",
            " 20  Humid       float64\n",
            " 21  Solar       float64\n",
            " 22  Snow        float64\n",
            " 23  GroundTemp  float64\n",
            " 24  Dust        float64\n",
            "dtypes: float64(13), int64(12)\n",
            "memory usage: 1.8 GB\n"
          ]
        }
      ]
    },
    {
      "cell_type": "markdown",
      "metadata": {
        "id": "qwMf-V9cBQ0s"
      },
      "source": [
        "**After checking the Dtypes of all the columns**\n",
        "\n",
        "**object - String values**\n",
        "\n",
        "**float64 - Numerical values**\n",
        "\n",
        "**Observation: There are no String values so there are no categorical data**"
      ]
    },
    {
      "cell_type": "markdown",
      "metadata": {
        "id": "DYyz_CkXTIx0"
      },
      "source": [
        "# Know more mathematical relations of the dataset like count, min, max values, standarad deviation values, mean and different percentile values"
      ]
    },
    {
      "cell_type": "code",
      "metadata": {
        "colab": {
          "base_uri": "https://localhost:8080/",
          "height": 314
        },
        "id": "18TrIIH54GOl",
        "outputId": "a4658e64-adcd-4a84-9065-326985e72b80"
      },
      "source": [
        "# For more information on the dataset like the total count in all the columns\n",
        "# min, max values and more information of the respective columns \n",
        "train.describe()"
      ],
      "execution_count": 8,
      "outputs": [
        {
          "output_type": "execute_result",
          "data": {
            "text/html": [
              "<div>\n",
              "<style scoped>\n",
              "    .dataframe tbody tr th:only-of-type {\n",
              "        vertical-align: middle;\n",
              "    }\n",
              "\n",
              "    .dataframe tbody tr th {\n",
              "        vertical-align: top;\n",
              "    }\n",
              "\n",
              "    .dataframe thead th {\n",
              "        text-align: right;\n",
              "    }\n",
              "</style>\n",
              "<table border=\"1\" class=\"dataframe\">\n",
              "  <thead>\n",
              "    <tr style=\"text-align: right;\">\n",
              "      <th></th>\n",
              "      <th>Duration</th>\n",
              "      <th>Distance</th>\n",
              "      <th>PLong</th>\n",
              "      <th>PLatd</th>\n",
              "      <th>DLong</th>\n",
              "      <th>DLatd</th>\n",
              "      <th>Haversine</th>\n",
              "      <th>Pmonth</th>\n",
              "      <th>Pday</th>\n",
              "      <th>Phour</th>\n",
              "      <th>Pmin</th>\n",
              "      <th>PDweek</th>\n",
              "      <th>Dmonth</th>\n",
              "      <th>Dday</th>\n",
              "      <th>Dhour</th>\n",
              "      <th>Dmin</th>\n",
              "      <th>DDweek</th>\n",
              "      <th>Temp</th>\n",
              "      <th>Precip</th>\n",
              "      <th>Wind</th>\n",
              "      <th>Humid</th>\n",
              "      <th>Solar</th>\n",
              "      <th>Snow</th>\n",
              "      <th>GroundTemp</th>\n",
              "      <th>Dust</th>\n",
              "    </tr>\n",
              "  </thead>\n",
              "  <tbody>\n",
              "    <tr>\n",
              "      <th>count</th>\n",
              "      <td>9.601139e+06</td>\n",
              "      <td>9.601139e+06</td>\n",
              "      <td>9.601139e+06</td>\n",
              "      <td>9.601139e+06</td>\n",
              "      <td>9.601139e+06</td>\n",
              "      <td>9.601139e+06</td>\n",
              "      <td>9.601139e+06</td>\n",
              "      <td>9.601139e+06</td>\n",
              "      <td>9.601139e+06</td>\n",
              "      <td>9.601139e+06</td>\n",
              "      <td>9.601139e+06</td>\n",
              "      <td>9.601139e+06</td>\n",
              "      <td>9.601139e+06</td>\n",
              "      <td>9.601139e+06</td>\n",
              "      <td>9.601139e+06</td>\n",
              "      <td>9.601139e+06</td>\n",
              "      <td>9.601139e+06</td>\n",
              "      <td>9.601139e+06</td>\n",
              "      <td>9.601139e+06</td>\n",
              "      <td>9.601139e+06</td>\n",
              "      <td>9.601139e+06</td>\n",
              "      <td>9.601139e+06</td>\n",
              "      <td>9.601139e+06</td>\n",
              "      <td>9.601139e+06</td>\n",
              "      <td>9.601139e+06</td>\n",
              "    </tr>\n",
              "    <tr>\n",
              "      <th>mean</th>\n",
              "      <td>2.580294e+01</td>\n",
              "      <td>3.713519e+03</td>\n",
              "      <td>3.754761e+01</td>\n",
              "      <td>1.269908e+02</td>\n",
              "      <td>3.754770e+01</td>\n",
              "      <td>1.269907e+02</td>\n",
              "      <td>1.870315e+00</td>\n",
              "      <td>7.578754e+00</td>\n",
              "      <td>1.576714e+01</td>\n",
              "      <td>1.437801e+01</td>\n",
              "      <td>2.914948e+01</td>\n",
              "      <td>2.943812e+00</td>\n",
              "      <td>7.579198e+00</td>\n",
              "      <td>1.576666e+01</td>\n",
              "      <td>1.442620e+01</td>\n",
              "      <td>2.999278e+01</td>\n",
              "      <td>2.945771e+00</td>\n",
              "      <td>1.856201e+01</td>\n",
              "      <td>1.784856e-02</td>\n",
              "      <td>1.819274e+00</td>\n",
              "      <td>5.397565e+01</td>\n",
              "      <td>7.300679e-01</td>\n",
              "      <td>9.948924e-03</td>\n",
              "      <td>2.072376e+01</td>\n",
              "      <td>3.245798e+01</td>\n",
              "    </tr>\n",
              "    <tr>\n",
              "      <th>std</th>\n",
              "      <td>2.504333e+01</td>\n",
              "      <td>3.956611e+03</td>\n",
              "      <td>4.441376e-02</td>\n",
              "      <td>8.257065e-02</td>\n",
              "      <td>4.445305e-02</td>\n",
              "      <td>8.323726e-02</td>\n",
              "      <td>1.995361e+00</td>\n",
              "      <td>2.696797e+00</td>\n",
              "      <td>8.748012e+00</td>\n",
              "      <td>6.249244e+00</td>\n",
              "      <td>1.725837e+01</td>\n",
              "      <td>1.976063e+00</td>\n",
              "      <td>2.696781e+00</td>\n",
              "      <td>8.747788e+00</td>\n",
              "      <td>6.484493e+00</td>\n",
              "      <td>1.730960e+01</td>\n",
              "      <td>1.977624e+00</td>\n",
              "      <td>9.498075e+00</td>\n",
              "      <td>3.736282e-01</td>\n",
              "      <td>9.710258e-01</td>\n",
              "      <td>1.742159e+01</td>\n",
              "      <td>9.175004e-01</td>\n",
              "      <td>1.628091e-01</td>\n",
              "      <td>1.265221e+01</td>\n",
              "      <td>2.407264e+01</td>\n",
              "    </tr>\n",
              "    <tr>\n",
              "      <th>min</th>\n",
              "      <td>1.000000e+00</td>\n",
              "      <td>1.000000e+00</td>\n",
              "      <td>3.743727e+01</td>\n",
              "      <td>1.267986e+02</td>\n",
              "      <td>3.743727e+01</td>\n",
              "      <td>1.267986e+02</td>\n",
              "      <td>0.000000e+00</td>\n",
              "      <td>1.000000e+00</td>\n",
              "      <td>1.000000e+00</td>\n",
              "      <td>0.000000e+00</td>\n",
              "      <td>0.000000e+00</td>\n",
              "      <td>0.000000e+00</td>\n",
              "      <td>1.000000e+00</td>\n",
              "      <td>1.000000e+00</td>\n",
              "      <td>0.000000e+00</td>\n",
              "      <td>0.000000e+00</td>\n",
              "      <td>0.000000e+00</td>\n",
              "      <td>-1.780000e+01</td>\n",
              "      <td>0.000000e+00</td>\n",
              "      <td>0.000000e+00</td>\n",
              "      <td>1.000000e+01</td>\n",
              "      <td>0.000000e+00</td>\n",
              "      <td>0.000000e+00</td>\n",
              "      <td>-1.360000e+01</td>\n",
              "      <td>0.000000e+00</td>\n",
              "    </tr>\n",
              "    <tr>\n",
              "      <th>25%</th>\n",
              "      <td>8.000000e+00</td>\n",
              "      <td>1.230000e+03</td>\n",
              "      <td>3.751424e+01</td>\n",
              "      <td>1.269200e+02</td>\n",
              "      <td>3.751424e+01</td>\n",
              "      <td>1.269194e+02</td>\n",
              "      <td>6.758669e-01</td>\n",
              "      <td>6.000000e+00</td>\n",
              "      <td>8.000000e+00</td>\n",
              "      <td>1.000000e+01</td>\n",
              "      <td>1.400000e+01</td>\n",
              "      <td>1.000000e+00</td>\n",
              "      <td>6.000000e+00</td>\n",
              "      <td>8.000000e+00</td>\n",
              "      <td>1.000000e+01</td>\n",
              "      <td>1.500000e+01</td>\n",
              "      <td>1.000000e+00</td>\n",
              "      <td>1.220000e+01</td>\n",
              "      <td>0.000000e+00</td>\n",
              "      <td>1.100000e+00</td>\n",
              "      <td>4.100000e+01</td>\n",
              "      <td>0.000000e+00</td>\n",
              "      <td>0.000000e+00</td>\n",
              "      <td>1.160000e+01</td>\n",
              "      <td>1.600000e+01</td>\n",
              "    </tr>\n",
              "    <tr>\n",
              "      <th>50%</th>\n",
              "      <td>1.600000e+01</td>\n",
              "      <td>2.280000e+03</td>\n",
              "      <td>3.754693e+01</td>\n",
              "      <td>1.269943e+02</td>\n",
              "      <td>3.754655e+01</td>\n",
              "      <td>1.269947e+02</td>\n",
              "      <td>1.257498e+00</td>\n",
              "      <td>8.000000e+00</td>\n",
              "      <td>1.600000e+01</td>\n",
              "      <td>1.600000e+01</td>\n",
              "      <td>2.900000e+01</td>\n",
              "      <td>3.000000e+00</td>\n",
              "      <td>8.000000e+00</td>\n",
              "      <td>1.600000e+01</td>\n",
              "      <td>1.600000e+01</td>\n",
              "      <td>3.000000e+01</td>\n",
              "      <td>3.000000e+00</td>\n",
              "      <td>2.010000e+01</td>\n",
              "      <td>0.000000e+00</td>\n",
              "      <td>1.700000e+00</td>\n",
              "      <td>5.300000e+01</td>\n",
              "      <td>2.700000e-01</td>\n",
              "      <td>0.000000e+00</td>\n",
              "      <td>2.110000e+01</td>\n",
              "      <td>2.700000e+01</td>\n",
              "    </tr>\n",
              "    <tr>\n",
              "      <th>75%</th>\n",
              "      <td>3.600000e+01</td>\n",
              "      <td>4.620000e+03</td>\n",
              "      <td>3.757324e+01</td>\n",
              "      <td>1.270618e+02</td>\n",
              "      <td>3.757324e+01</td>\n",
              "      <td>1.270624e+02</td>\n",
              "      <td>2.363812e+00</td>\n",
              "      <td>1.000000e+01</td>\n",
              "      <td>2.300000e+01</td>\n",
              "      <td>1.900000e+01</td>\n",
              "      <td>4.400000e+01</td>\n",
              "      <td>5.000000e+00</td>\n",
              "      <td>1.000000e+01</td>\n",
              "      <td>2.300000e+01</td>\n",
              "      <td>2.000000e+01</td>\n",
              "      <td>4.500000e+01</td>\n",
              "      <td>5.000000e+00</td>\n",
              "      <td>2.550000e+01</td>\n",
              "      <td>0.000000e+00</td>\n",
              "      <td>2.400000e+00</td>\n",
              "      <td>6.700000e+01</td>\n",
              "      <td>1.260000e+00</td>\n",
              "      <td>0.000000e+00</td>\n",
              "      <td>2.850000e+01</td>\n",
              "      <td>4.200000e+01</td>\n",
              "    </tr>\n",
              "    <tr>\n",
              "      <th>max</th>\n",
              "      <td>1.190000e+02</td>\n",
              "      <td>3.329000e+04</td>\n",
              "      <td>3.768972e+01</td>\n",
              "      <td>1.271803e+02</td>\n",
              "      <td>3.768972e+01</td>\n",
              "      <td>1.271803e+02</td>\n",
              "      <td>2.863448e+01</td>\n",
              "      <td>1.200000e+01</td>\n",
              "      <td>3.100000e+01</td>\n",
              "      <td>2.300000e+01</td>\n",
              "      <td>5.900000e+01</td>\n",
              "      <td>6.000000e+00</td>\n",
              "      <td>1.200000e+01</td>\n",
              "      <td>3.100000e+01</td>\n",
              "      <td>2.300000e+01</td>\n",
              "      <td>5.900000e+01</td>\n",
              "      <td>6.000000e+00</td>\n",
              "      <td>3.940000e+01</td>\n",
              "      <td>3.500000e+01</td>\n",
              "      <td>7.400000e+00</td>\n",
              "      <td>9.800000e+01</td>\n",
              "      <td>3.520000e+00</td>\n",
              "      <td>8.800000e+00</td>\n",
              "      <td>6.220000e+01</td>\n",
              "      <td>3.040000e+02</td>\n",
              "    </tr>\n",
              "  </tbody>\n",
              "</table>\n",
              "</div>"
            ],
            "text/plain": [
              "           Duration      Distance  ...    GroundTemp          Dust\n",
              "count  9.601139e+06  9.601139e+06  ...  9.601139e+06  9.601139e+06\n",
              "mean   2.580294e+01  3.713519e+03  ...  2.072376e+01  3.245798e+01\n",
              "std    2.504333e+01  3.956611e+03  ...  1.265221e+01  2.407264e+01\n",
              "min    1.000000e+00  1.000000e+00  ... -1.360000e+01  0.000000e+00\n",
              "25%    8.000000e+00  1.230000e+03  ...  1.160000e+01  1.600000e+01\n",
              "50%    1.600000e+01  2.280000e+03  ...  2.110000e+01  2.700000e+01\n",
              "75%    3.600000e+01  4.620000e+03  ...  2.850000e+01  4.200000e+01\n",
              "max    1.190000e+02  3.329000e+04  ...  6.220000e+01  3.040000e+02\n",
              "\n",
              "[8 rows x 25 columns]"
            ]
          },
          "metadata": {},
          "execution_count": 8
        }
      ]
    },
    {
      "cell_type": "markdown",
      "metadata": {
        "id": "yuNr2NopTVnC"
      },
      "source": [
        "# Get the total number of samples in the dataset using the len() function"
      ]
    },
    {
      "cell_type": "code",
      "metadata": {
        "colab": {
          "base_uri": "https://localhost:8080/"
        },
        "id": "OrvntdIh4GZp",
        "outputId": "62fe47f7-9205-493f-cf5b-3c1b81da0a4f"
      },
      "source": [
        "# check length of dataset\n",
        "\n",
        "len(train)"
      ],
      "execution_count": null,
      "outputs": [
        {
          "output_type": "execute_result",
          "data": {
            "text/plain": [
              "9601139"
            ]
          },
          "metadata": {},
          "execution_count": 9
        }
      ]
    },
    {
      "cell_type": "markdown",
      "metadata": {
        "id": "PcUIIYspyeFW"
      },
      "source": [
        "#Get unique values"
      ]
    },
    {
      "cell_type": "code",
      "metadata": {
        "colab": {
          "base_uri": "https://localhost:8080/"
        },
        "id": "nSbydUaFyjbQ",
        "outputId": "a4822589-b581-4175-e59e-2bc69cf69142"
      },
      "source": [
        "# check for unique values in dataset\n",
        "train.nunique()"
      ],
      "execution_count": null,
      "outputs": [
        {
          "output_type": "execute_result",
          "data": {
            "text/plain": [
              "Duration         119\n",
              "Distance        3385\n",
              "PLong           1497\n",
              "PLatd           1504\n",
              "DLong           1501\n",
              "DLatd           1508\n",
              "Haversine     238583\n",
              "Pmonth            12\n",
              "Pday              31\n",
              "Phour             24\n",
              "Pmin              60\n",
              "PDweek             7\n",
              "Dmonth            12\n",
              "Dday              31\n",
              "Dhour             24\n",
              "Dmin              60\n",
              "DDweek             7\n",
              "Temp             547\n",
              "Precip            60\n",
              "Wind              65\n",
              "Humid             89\n",
              "Solar            345\n",
              "Snow              42\n",
              "GroundTemp       700\n",
              "Dust             163\n",
              "dtype: int64"
            ]
          },
          "metadata": {},
          "execution_count": 10
        }
      ]
    },
    {
      "cell_type": "markdown",
      "metadata": {
        "id": "aL09Bsy9Ttl0"
      },
      "source": [
        "# Counting the total number of missing value"
      ]
    },
    {
      "cell_type": "code",
      "metadata": {
        "colab": {
          "base_uri": "https://localhost:8080/"
        },
        "id": "qHiTa26b4G1X",
        "outputId": "4b822a12-a039-41b5-c5bb-f7b565f867d1"
      },
      "source": [
        "# Check for missing values in all the columnns of the dataset\n",
        "train.isnull().sum()"
      ],
      "execution_count": null,
      "outputs": [
        {
          "output_type": "execute_result",
          "data": {
            "text/plain": [
              "Duration      0\n",
              "Distance      0\n",
              "PLong         0\n",
              "PLatd         0\n",
              "DLong         0\n",
              "DLatd         0\n",
              "Haversine     0\n",
              "Pmonth        0\n",
              "Pday          0\n",
              "Phour         0\n",
              "Pmin          0\n",
              "PDweek        0\n",
              "Dmonth        0\n",
              "Dday          0\n",
              "Dhour         0\n",
              "Dmin          0\n",
              "DDweek        0\n",
              "Temp          0\n",
              "Precip        0\n",
              "Wind          0\n",
              "Humid         0\n",
              "Solar         0\n",
              "Snow          0\n",
              "GroundTemp    0\n",
              "Dust          0\n",
              "dtype: int64"
            ]
          },
          "metadata": {},
          "execution_count": 11
        }
      ]
    },
    {
      "cell_type": "markdown",
      "metadata": {
        "id": "xb2JbyQICMkY"
      },
      "source": [
        "There is no missing values in this dataset"
      ]
    },
    {
      "cell_type": "markdown",
      "metadata": {
        "id": "z9--iGgCTzeX"
      },
      "source": [
        "#EDA"
      ]
    },
    {
      "cell_type": "markdown",
      "metadata": {
        "id": "WwtXSvUuSu3u"
      },
      "source": [
        "# CORRELATION MATRIX\n",
        "\n",
        "\n",
        "Why ?\n",
        "\n",
        "**A correlation matrix is a table showing correlation coefficients between variables**\n",
        "\n",
        "There are three broad reasons for computing a correlation matrix:\n",
        "1. To summarize a large amount of data where the goal is to see patterns. In our example above, the observable pattern is that all the variables highly correlate with each other.\n",
        "2. To input into other analyses. For example, people commonly use correlation matrixes as inputs for exploratory factor analysis, confirmatory factor analysis, structural equation models, and linear regression when excluding missing values pairwise.\n",
        "3. As a diagnostic when checking other analyses. For example, with linear regression, a high amount of correlations suggests that the linear regression estimates will be unreliable.\n"
      ]
    },
    {
      "cell_type": "code",
      "metadata": {
        "colab": {
          "base_uri": "https://localhost:8080/",
          "height": 532
        },
        "id": "D2qOKdrU-TE6",
        "outputId": "a75d08df-320e-46f0-a00d-fe49db8948fe"
      },
      "source": [
        "#correlation matrix Using pandas\n",
        "corr = train.corr()\n",
        "corr.style.background_gradient(cmap='coolwarm').set_precision(2)"
      ],
      "execution_count": null,
      "outputs": [
        {
          "output_type": "execute_result",
          "data": {
            "text/html": [
              "<style  type=\"text/css\" >\n",
              "#T_2a31ef60_0da4_11ec_8b13_0242ac1c0002row0_col0,#T_2a31ef60_0da4_11ec_8b13_0242ac1c0002row1_col1,#T_2a31ef60_0da4_11ec_8b13_0242ac1c0002row2_col2,#T_2a31ef60_0da4_11ec_8b13_0242ac1c0002row3_col3,#T_2a31ef60_0da4_11ec_8b13_0242ac1c0002row4_col4,#T_2a31ef60_0da4_11ec_8b13_0242ac1c0002row5_col5,#T_2a31ef60_0da4_11ec_8b13_0242ac1c0002row6_col6,#T_2a31ef60_0da4_11ec_8b13_0242ac1c0002row7_col7,#T_2a31ef60_0da4_11ec_8b13_0242ac1c0002row7_col12,#T_2a31ef60_0da4_11ec_8b13_0242ac1c0002row8_col8,#T_2a31ef60_0da4_11ec_8b13_0242ac1c0002row8_col13,#T_2a31ef60_0da4_11ec_8b13_0242ac1c0002row9_col9,#T_2a31ef60_0da4_11ec_8b13_0242ac1c0002row10_col10,#T_2a31ef60_0da4_11ec_8b13_0242ac1c0002row11_col11,#T_2a31ef60_0da4_11ec_8b13_0242ac1c0002row12_col7,#T_2a31ef60_0da4_11ec_8b13_0242ac1c0002row12_col12,#T_2a31ef60_0da4_11ec_8b13_0242ac1c0002row13_col8,#T_2a31ef60_0da4_11ec_8b13_0242ac1c0002row13_col13,#T_2a31ef60_0da4_11ec_8b13_0242ac1c0002row14_col14,#T_2a31ef60_0da4_11ec_8b13_0242ac1c0002row15_col15,#T_2a31ef60_0da4_11ec_8b13_0242ac1c0002row16_col16,#T_2a31ef60_0da4_11ec_8b13_0242ac1c0002row17_col17,#T_2a31ef60_0da4_11ec_8b13_0242ac1c0002row18_col18,#T_2a31ef60_0da4_11ec_8b13_0242ac1c0002row19_col19,#T_2a31ef60_0da4_11ec_8b13_0242ac1c0002row20_col20,#T_2a31ef60_0da4_11ec_8b13_0242ac1c0002row21_col21,#T_2a31ef60_0da4_11ec_8b13_0242ac1c0002row22_col22,#T_2a31ef60_0da4_11ec_8b13_0242ac1c0002row23_col23,#T_2a31ef60_0da4_11ec_8b13_0242ac1c0002row24_col24{\n",
              "            background-color:  #b40426;\n",
              "            color:  #f1f1f1;\n",
              "        }#T_2a31ef60_0da4_11ec_8b13_0242ac1c0002row0_col1{\n",
              "            background-color:  #f4987a;\n",
              "            color:  #000000;\n",
              "        }#T_2a31ef60_0da4_11ec_8b13_0242ac1c0002row0_col2,#T_2a31ef60_0da4_11ec_8b13_0242ac1c0002row0_col4,#T_2a31ef60_0da4_11ec_8b13_0242ac1c0002row1_col2,#T_2a31ef60_0da4_11ec_8b13_0242ac1c0002row1_col3,#T_2a31ef60_0da4_11ec_8b13_0242ac1c0002row1_col4,#T_2a31ef60_0da4_11ec_8b13_0242ac1c0002row1_col5,#T_2a31ef60_0da4_11ec_8b13_0242ac1c0002row2_col1,#T_2a31ef60_0da4_11ec_8b13_0242ac1c0002row2_col6,#T_2a31ef60_0da4_11ec_8b13_0242ac1c0002row6_col10,#T_2a31ef60_0da4_11ec_8b13_0242ac1c0002row7_col8,#T_2a31ef60_0da4_11ec_8b13_0242ac1c0002row7_col13,#T_2a31ef60_0da4_11ec_8b13_0242ac1c0002row7_col23,#T_2a31ef60_0da4_11ec_8b13_0242ac1c0002row9_col10,#T_2a31ef60_0da4_11ec_8b13_0242ac1c0002row9_col15,#T_2a31ef60_0da4_11ec_8b13_0242ac1c0002row12_col8,#T_2a31ef60_0da4_11ec_8b13_0242ac1c0002row12_col13,#T_2a31ef60_0da4_11ec_8b13_0242ac1c0002row12_col23,#T_2a31ef60_0da4_11ec_8b13_0242ac1c0002row14_col15,#T_2a31ef60_0da4_11ec_8b13_0242ac1c0002row17_col22,#T_2a31ef60_0da4_11ec_8b13_0242ac1c0002row17_col24,#T_2a31ef60_0da4_11ec_8b13_0242ac1c0002row19_col7,#T_2a31ef60_0da4_11ec_8b13_0242ac1c0002row19_col12,#T_2a31ef60_0da4_11ec_8b13_0242ac1c0002row20_col0,#T_2a31ef60_0da4_11ec_8b13_0242ac1c0002row20_col9,#T_2a31ef60_0da4_11ec_8b13_0242ac1c0002row20_col11,#T_2a31ef60_0da4_11ec_8b13_0242ac1c0002row20_col14,#T_2a31ef60_0da4_11ec_8b13_0242ac1c0002row20_col16,#T_2a31ef60_0da4_11ec_8b13_0242ac1c0002row20_col19,#T_2a31ef60_0da4_11ec_8b13_0242ac1c0002row20_col21,#T_2a31ef60_0da4_11ec_8b13_0242ac1c0002row21_col6,#T_2a31ef60_0da4_11ec_8b13_0242ac1c0002row21_col18,#T_2a31ef60_0da4_11ec_8b13_0242ac1c0002row21_col20,#T_2a31ef60_0da4_11ec_8b13_0242ac1c0002row24_col17,#T_2a31ef60_0da4_11ec_8b13_0242ac1c0002row24_col18{\n",
              "            background-color:  #3b4cc0;\n",
              "            color:  #f1f1f1;\n",
              "        }#T_2a31ef60_0da4_11ec_8b13_0242ac1c0002row0_col3,#T_2a31ef60_0da4_11ec_8b13_0242ac1c0002row0_col5,#T_2a31ef60_0da4_11ec_8b13_0242ac1c0002row1_col10,#T_2a31ef60_0da4_11ec_8b13_0242ac1c0002row7_col1,#T_2a31ef60_0da4_11ec_8b13_0242ac1c0002row12_col1,#T_2a31ef60_0da4_11ec_8b13_0242ac1c0002row16_col15,#T_2a31ef60_0da4_11ec_8b13_0242ac1c0002row17_col15,#T_2a31ef60_0da4_11ec_8b13_0242ac1c0002row18_col3,#T_2a31ef60_0da4_11ec_8b13_0242ac1c0002row18_col5,#T_2a31ef60_0da4_11ec_8b13_0242ac1c0002row19_col3,#T_2a31ef60_0da4_11ec_8b13_0242ac1c0002row19_col5,#T_2a31ef60_0da4_11ec_8b13_0242ac1c0002row19_col15,#T_2a31ef60_0da4_11ec_8b13_0242ac1c0002row20_col5,#T_2a31ef60_0da4_11ec_8b13_0242ac1c0002row21_col3,#T_2a31ef60_0da4_11ec_8b13_0242ac1c0002row21_col5,#T_2a31ef60_0da4_11ec_8b13_0242ac1c0002row22_col3,#T_2a31ef60_0da4_11ec_8b13_0242ac1c0002row22_col5,#T_2a31ef60_0da4_11ec_8b13_0242ac1c0002row24_col3,#T_2a31ef60_0da4_11ec_8b13_0242ac1c0002row24_col5{\n",
              "            background-color:  #3d50c3;\n",
              "            color:  #f1f1f1;\n",
              "        }#T_2a31ef60_0da4_11ec_8b13_0242ac1c0002row0_col6,#T_2a31ef60_0da4_11ec_8b13_0242ac1c0002row0_col21,#T_2a31ef60_0da4_11ec_8b13_0242ac1c0002row11_col21,#T_2a31ef60_0da4_11ec_8b13_0242ac1c0002row16_col21{\n",
              "            background-color:  #b9d0f9;\n",
              "            color:  #000000;\n",
              "        }#T_2a31ef60_0da4_11ec_8b13_0242ac1c0002row0_col7,#T_2a31ef60_0da4_11ec_8b13_0242ac1c0002row0_col12,#T_2a31ef60_0da4_11ec_8b13_0242ac1c0002row15_col23,#T_2a31ef60_0da4_11ec_8b13_0242ac1c0002row18_col22,#T_2a31ef60_0da4_11ec_8b13_0242ac1c0002row22_col8,#T_2a31ef60_0da4_11ec_8b13_0242ac1c0002row22_col13{\n",
              "            background-color:  #5e7de7;\n",
              "            color:  #000000;\n",
              "        }#T_2a31ef60_0da4_11ec_8b13_0242ac1c0002row0_col8,#T_2a31ef60_0da4_11ec_8b13_0242ac1c0002row0_col13,#T_2a31ef60_0da4_11ec_8b13_0242ac1c0002row1_col8,#T_2a31ef60_0da4_11ec_8b13_0242ac1c0002row1_col13,#T_2a31ef60_0da4_11ec_8b13_0242ac1c0002row21_col2{\n",
              "            background-color:  #4b64d5;\n",
              "            color:  #f1f1f1;\n",
              "        }#T_2a31ef60_0da4_11ec_8b13_0242ac1c0002row0_col9,#T_2a31ef60_0da4_11ec_8b13_0242ac1c0002row16_col20{\n",
              "            background-color:  #96b7ff;\n",
              "            color:  #000000;\n",
              "        }#T_2a31ef60_0da4_11ec_8b13_0242ac1c0002row0_col10,#T_2a31ef60_0da4_11ec_8b13_0242ac1c0002row3_col15,#T_2a31ef60_0da4_11ec_8b13_0242ac1c0002row4_col15,#T_2a31ef60_0da4_11ec_8b13_0242ac1c0002row5_col15,#T_2a31ef60_0da4_11ec_8b13_0242ac1c0002row6_col4,#T_2a31ef60_0da4_11ec_8b13_0242ac1c0002row9_col3,#T_2a31ef60_0da4_11ec_8b13_0242ac1c0002row11_col3,#T_2a31ef60_0da4_11ec_8b13_0242ac1c0002row11_col5,#T_2a31ef60_0da4_11ec_8b13_0242ac1c0002row12_col15,#T_2a31ef60_0da4_11ec_8b13_0242ac1c0002row14_col5,#T_2a31ef60_0da4_11ec_8b13_0242ac1c0002row16_col3,#T_2a31ef60_0da4_11ec_8b13_0242ac1c0002row16_col5,#T_2a31ef60_0da4_11ec_8b13_0242ac1c0002row17_col3,#T_2a31ef60_0da4_11ec_8b13_0242ac1c0002row17_col5,#T_2a31ef60_0da4_11ec_8b13_0242ac1c0002row19_col18,#T_2a31ef60_0da4_11ec_8b13_0242ac1c0002row20_col10,#T_2a31ef60_0da4_11ec_8b13_0242ac1c0002row22_col15,#T_2a31ef60_0da4_11ec_8b13_0242ac1c0002row23_col22{\n",
              "            background-color:  #3f53c6;\n",
              "            color:  #f1f1f1;\n",
              "        }#T_2a31ef60_0da4_11ec_8b13_0242ac1c0002row0_col11,#T_2a31ef60_0da4_11ec_8b13_0242ac1c0002row0_col16,#T_2a31ef60_0da4_11ec_8b13_0242ac1c0002row2_col9,#T_2a31ef60_0da4_11ec_8b13_0242ac1c0002row7_col9,#T_2a31ef60_0da4_11ec_8b13_0242ac1c0002row8_col22,#T_2a31ef60_0da4_11ec_8b13_0242ac1c0002row12_col9,#T_2a31ef60_0da4_11ec_8b13_0242ac1c0002row13_col22,#T_2a31ef60_0da4_11ec_8b13_0242ac1c0002row18_col7,#T_2a31ef60_0da4_11ec_8b13_0242ac1c0002row18_col12{\n",
              "            background-color:  #6a8bef;\n",
              "            color:  #000000;\n",
              "        }#T_2a31ef60_0da4_11ec_8b13_0242ac1c0002row0_col14,#T_2a31ef60_0da4_11ec_8b13_0242ac1c0002row0_col19{\n",
              "            background-color:  #9ebeff;\n",
              "            color:  #000000;\n",
              "        }#T_2a31ef60_0da4_11ec_8b13_0242ac1c0002row0_col15,#T_2a31ef60_0da4_11ec_8b13_0242ac1c0002row4_col1,#T_2a31ef60_0da4_11ec_8b13_0242ac1c0002row14_col10{\n",
              "            background-color:  #3c4ec2;\n",
              "            color:  #f1f1f1;\n",
              "        }#T_2a31ef60_0da4_11ec_8b13_0242ac1c0002row0_col17,#T_2a31ef60_0da4_11ec_8b13_0242ac1c0002row19_col23{\n",
              "            background-color:  #9bbcff;\n",
              "            color:  #000000;\n",
              "        }#T_2a31ef60_0da4_11ec_8b13_0242ac1c0002row0_col18,#T_2a31ef60_0da4_11ec_8b13_0242ac1c0002row1_col18,#T_2a31ef60_0da4_11ec_8b13_0242ac1c0002row2_col10,#T_2a31ef60_0da4_11ec_8b13_0242ac1c0002row2_col15,#T_2a31ef60_0da4_11ec_8b13_0242ac1c0002row3_col10,#T_2a31ef60_0da4_11ec_8b13_0242ac1c0002row4_col10,#T_2a31ef60_0da4_11ec_8b13_0242ac1c0002row5_col10,#T_2a31ef60_0da4_11ec_8b13_0242ac1c0002row6_col3,#T_2a31ef60_0da4_11ec_8b13_0242ac1c0002row6_col5,#T_2a31ef60_0da4_11ec_8b13_0242ac1c0002row6_col15,#T_2a31ef60_0da4_11ec_8b13_0242ac1c0002row7_col10,#T_2a31ef60_0da4_11ec_8b13_0242ac1c0002row7_col15,#T_2a31ef60_0da4_11ec_8b13_0242ac1c0002row8_col10,#T_2a31ef60_0da4_11ec_8b13_0242ac1c0002row8_col15,#T_2a31ef60_0da4_11ec_8b13_0242ac1c0002row9_col5,#T_2a31ef60_0da4_11ec_8b13_0242ac1c0002row9_col18,#T_2a31ef60_0da4_11ec_8b13_0242ac1c0002row10_col6,#T_2a31ef60_0da4_11ec_8b13_0242ac1c0002row12_col10,#T_2a31ef60_0da4_11ec_8b13_0242ac1c0002row13_col10,#T_2a31ef60_0da4_11ec_8b13_0242ac1c0002row13_col15,#T_2a31ef60_0da4_11ec_8b13_0242ac1c0002row14_col18,#T_2a31ef60_0da4_11ec_8b13_0242ac1c0002row17_col10,#T_2a31ef60_0da4_11ec_8b13_0242ac1c0002row18_col15,#T_2a31ef60_0da4_11ec_8b13_0242ac1c0002row19_col10,#T_2a31ef60_0da4_11ec_8b13_0242ac1c0002row21_col15,#T_2a31ef60_0da4_11ec_8b13_0242ac1c0002row22_col10,#T_2a31ef60_0da4_11ec_8b13_0242ac1c0002row24_col6,#T_2a31ef60_0da4_11ec_8b13_0242ac1c0002row24_col15,#T_2a31ef60_0da4_11ec_8b13_0242ac1c0002row24_col23{\n",
              "            background-color:  #4055c8;\n",
              "            color:  #f1f1f1;\n",
              "        }#T_2a31ef60_0da4_11ec_8b13_0242ac1c0002row0_col20,#T_2a31ef60_0da4_11ec_8b13_0242ac1c0002row1_col14,#T_2a31ef60_0da4_11ec_8b13_0242ac1c0002row1_col17{\n",
              "            background-color:  #92b4fe;\n",
              "            color:  #000000;\n",
              "        }#T_2a31ef60_0da4_11ec_8b13_0242ac1c0002row0_col22,#T_2a31ef60_0da4_11ec_8b13_0242ac1c0002row1_col22,#T_2a31ef60_0da4_11ec_8b13_0242ac1c0002row8_col7,#T_2a31ef60_0da4_11ec_8b13_0242ac1c0002row8_col11,#T_2a31ef60_0da4_11ec_8b13_0242ac1c0002row8_col12,#T_2a31ef60_0da4_11ec_8b13_0242ac1c0002row13_col7,#T_2a31ef60_0da4_11ec_8b13_0242ac1c0002row13_col11,#T_2a31ef60_0da4_11ec_8b13_0242ac1c0002row13_col12,#T_2a31ef60_0da4_11ec_8b13_0242ac1c0002row21_col9,#T_2a31ef60_0da4_11ec_8b13_0242ac1c0002row22_col17,#T_2a31ef60_0da4_11ec_8b13_0242ac1c0002row23_col24{\n",
              "            background-color:  #5673e0;\n",
              "            color:  #000000;\n",
              "        }#T_2a31ef60_0da4_11ec_8b13_0242ac1c0002row0_col23,#T_2a31ef60_0da4_11ec_8b13_0242ac1c0002row8_col19,#T_2a31ef60_0da4_11ec_8b13_0242ac1c0002row13_col19{\n",
              "            background-color:  #85a8fc;\n",
              "            color:  #000000;\n",
              "        }#T_2a31ef60_0da4_11ec_8b13_0242ac1c0002row0_col24,#T_2a31ef60_0da4_11ec_8b13_0242ac1c0002row3_col4,#T_2a31ef60_0da4_11ec_8b13_0242ac1c0002row3_col7,#T_2a31ef60_0da4_11ec_8b13_0242ac1c0002row3_col9,#T_2a31ef60_0da4_11ec_8b13_0242ac1c0002row3_col12,#T_2a31ef60_0da4_11ec_8b13_0242ac1c0002row5_col4,#T_2a31ef60_0da4_11ec_8b13_0242ac1c0002row5_col7,#T_2a31ef60_0da4_11ec_8b13_0242ac1c0002row5_col12{\n",
              "            background-color:  #6f92f3;\n",
              "            color:  #000000;\n",
              "        }#T_2a31ef60_0da4_11ec_8b13_0242ac1c0002row1_col0{\n",
              "            background-color:  #f39475;\n",
              "            color:  #000000;\n",
              "        }#T_2a31ef60_0da4_11ec_8b13_0242ac1c0002row1_col6{\n",
              "            background-color:  #f1ccb8;\n",
              "            color:  #000000;\n",
              "        }#T_2a31ef60_0da4_11ec_8b13_0242ac1c0002row1_col7,#T_2a31ef60_0da4_11ec_8b13_0242ac1c0002row1_col12,#T_2a31ef60_0da4_11ec_8b13_0242ac1c0002row7_col24,#T_2a31ef60_0da4_11ec_8b13_0242ac1c0002row12_col24{\n",
              "            background-color:  #5f7fe8;\n",
              "            color:  #000000;\n",
              "        }#T_2a31ef60_0da4_11ec_8b13_0242ac1c0002row1_col9,#T_2a31ef60_0da4_11ec_8b13_0242ac1c0002row2_col19,#T_2a31ef60_0da4_11ec_8b13_0242ac1c0002row4_col19,#T_2a31ef60_0da4_11ec_8b13_0242ac1c0002row5_col19{\n",
              "            background-color:  #8badfd;\n",
              "            color:  #000000;\n",
              "        }#T_2a31ef60_0da4_11ec_8b13_0242ac1c0002row1_col11{\n",
              "            background-color:  #6282ea;\n",
              "            color:  #000000;\n",
              "        }#T_2a31ef60_0da4_11ec_8b13_0242ac1c0002row1_col15,#T_2a31ef60_0da4_11ec_8b13_0242ac1c0002row4_col6,#T_2a31ef60_0da4_11ec_8b13_0242ac1c0002row6_col2,#T_2a31ef60_0da4_11ec_8b13_0242ac1c0002row7_col6,#T_2a31ef60_0da4_11ec_8b13_0242ac1c0002row8_col3,#T_2a31ef60_0da4_11ec_8b13_0242ac1c0002row8_col5,#T_2a31ef60_0da4_11ec_8b13_0242ac1c0002row10_col3,#T_2a31ef60_0da4_11ec_8b13_0242ac1c0002row10_col5,#T_2a31ef60_0da4_11ec_8b13_0242ac1c0002row11_col15,#T_2a31ef60_0da4_11ec_8b13_0242ac1c0002row12_col6,#T_2a31ef60_0da4_11ec_8b13_0242ac1c0002row13_col3,#T_2a31ef60_0da4_11ec_8b13_0242ac1c0002row13_col5,#T_2a31ef60_0da4_11ec_8b13_0242ac1c0002row14_col3,#T_2a31ef60_0da4_11ec_8b13_0242ac1c0002row15_col3,#T_2a31ef60_0da4_11ec_8b13_0242ac1c0002row15_col5,#T_2a31ef60_0da4_11ec_8b13_0242ac1c0002row20_col1,#T_2a31ef60_0da4_11ec_8b13_0242ac1c0002row20_col3,#T_2a31ef60_0da4_11ec_8b13_0242ac1c0002row23_col3,#T_2a31ef60_0da4_11ec_8b13_0242ac1c0002row23_col5,#T_2a31ef60_0da4_11ec_8b13_0242ac1c0002row23_col15,#T_2a31ef60_0da4_11ec_8b13_0242ac1c0002row24_col1{\n",
              "            background-color:  #3e51c5;\n",
              "            color:  #f1f1f1;\n",
              "        }#T_2a31ef60_0da4_11ec_8b13_0242ac1c0002row1_col16,#T_2a31ef60_0da4_11ec_8b13_0242ac1c0002row2_col23,#T_2a31ef60_0da4_11ec_8b13_0242ac1c0002row3_col23,#T_2a31ef60_0da4_11ec_8b13_0242ac1c0002row4_col23,#T_2a31ef60_0da4_11ec_8b13_0242ac1c0002row5_col23,#T_2a31ef60_0da4_11ec_8b13_0242ac1c0002row6_col23,#T_2a31ef60_0da4_11ec_8b13_0242ac1c0002row18_col23{\n",
              "            background-color:  #6180e9;\n",
              "            color:  #000000;\n",
              "        }#T_2a31ef60_0da4_11ec_8b13_0242ac1c0002row1_col19,#T_2a31ef60_0da4_11ec_8b13_0242ac1c0002row11_col19,#T_2a31ef60_0da4_11ec_8b13_0242ac1c0002row16_col19{\n",
              "            background-color:  #93b5fe;\n",
              "            color:  #000000;\n",
              "        }#T_2a31ef60_0da4_11ec_8b13_0242ac1c0002row1_col20,#T_2a31ef60_0da4_11ec_8b13_0242ac1c0002row17_col19{\n",
              "            background-color:  #a1c0ff;\n",
              "            color:  #000000;\n",
              "        }#T_2a31ef60_0da4_11ec_8b13_0242ac1c0002row1_col21,#T_2a31ef60_0da4_11ec_8b13_0242ac1c0002row3_col21,#T_2a31ef60_0da4_11ec_8b13_0242ac1c0002row5_col20,#T_2a31ef60_0da4_11ec_8b13_0242ac1c0002row5_col21,#T_2a31ef60_0da4_11ec_8b13_0242ac1c0002row10_col20{\n",
              "            background-color:  #a7c5fe;\n",
              "            color:  #000000;\n",
              "        }#T_2a31ef60_0da4_11ec_8b13_0242ac1c0002row1_col23,#T_2a31ef60_0da4_11ec_8b13_0242ac1c0002row2_col17,#T_2a31ef60_0da4_11ec_8b13_0242ac1c0002row3_col24,#T_2a31ef60_0da4_11ec_8b13_0242ac1c0002row5_col24,#T_2a31ef60_0da4_11ec_8b13_0242ac1c0002row8_col14,#T_2a31ef60_0da4_11ec_8b13_0242ac1c0002row13_col14,#T_2a31ef60_0da4_11ec_8b13_0242ac1c0002row18_col14{\n",
              "            background-color:  #7597f6;\n",
              "            color:  #000000;\n",
              "        }#T_2a31ef60_0da4_11ec_8b13_0242ac1c0002row1_col24,#T_2a31ef60_0da4_11ec_8b13_0242ac1c0002row10_col7,#T_2a31ef60_0da4_11ec_8b13_0242ac1c0002row10_col12,#T_2a31ef60_0da4_11ec_8b13_0242ac1c0002row11_col9,#T_2a31ef60_0da4_11ec_8b13_0242ac1c0002row15_col7,#T_2a31ef60_0da4_11ec_8b13_0242ac1c0002row15_col12,#T_2a31ef60_0da4_11ec_8b13_0242ac1c0002row19_col0,#T_2a31ef60_0da4_11ec_8b13_0242ac1c0002row21_col0{\n",
              "            background-color:  #6b8df0;\n",
              "            color:  #000000;\n",
              "        }#T_2a31ef60_0da4_11ec_8b13_0242ac1c0002row2_col0,#T_2a31ef60_0da4_11ec_8b13_0242ac1c0002row3_col6,#T_2a31ef60_0da4_11ec_8b13_0242ac1c0002row7_col0,#T_2a31ef60_0da4_11ec_8b13_0242ac1c0002row10_col4,#T_2a31ef60_0da4_11ec_8b13_0242ac1c0002row12_col0,#T_2a31ef60_0da4_11ec_8b13_0242ac1c0002row17_col2,#T_2a31ef60_0da4_11ec_8b13_0242ac1c0002row18_col2,#T_2a31ef60_0da4_11ec_8b13_0242ac1c0002row19_col2,#T_2a31ef60_0da4_11ec_8b13_0242ac1c0002row19_col8,#T_2a31ef60_0da4_11ec_8b13_0242ac1c0002row20_col4,#T_2a31ef60_0da4_11ec_8b13_0242ac1c0002row20_col6,#T_2a31ef60_0da4_11ec_8b13_0242ac1c0002row21_col1,#T_2a31ef60_0da4_11ec_8b13_0242ac1c0002row21_col4,#T_2a31ef60_0da4_11ec_8b13_0242ac1c0002row22_col2,#T_2a31ef60_0da4_11ec_8b13_0242ac1c0002row24_col4{\n",
              "            background-color:  #485fd1;\n",
              "            color:  #f1f1f1;\n",
              "        }#T_2a31ef60_0da4_11ec_8b13_0242ac1c0002row2_col3,#T_2a31ef60_0da4_11ec_8b13_0242ac1c0002row2_col5,#T_2a31ef60_0da4_11ec_8b13_0242ac1c0002row9_col7,#T_2a31ef60_0da4_11ec_8b13_0242ac1c0002row9_col12,#T_2a31ef60_0da4_11ec_8b13_0242ac1c0002row11_col22,#T_2a31ef60_0da4_11ec_8b13_0242ac1c0002row14_col1,#T_2a31ef60_0da4_11ec_8b13_0242ac1c0002row14_col7,#T_2a31ef60_0da4_11ec_8b13_0242ac1c0002row14_col12,#T_2a31ef60_0da4_11ec_8b13_0242ac1c0002row16_col22,#T_2a31ef60_0da4_11ec_8b13_0242ac1c0002row17_col1,#T_2a31ef60_0da4_11ec_8b13_0242ac1c0002row21_col16,#T_2a31ef60_0da4_11ec_8b13_0242ac1c0002row24_col9{\n",
              "            background-color:  #6687ed;\n",
              "            color:  #000000;\n",
              "        }#T_2a31ef60_0da4_11ec_8b13_0242ac1c0002row2_col4,#T_2a31ef60_0da4_11ec_8b13_0242ac1c0002row4_col2{\n",
              "            background-color:  #cc403a;\n",
              "            color:  #f1f1f1;\n",
              "        }#T_2a31ef60_0da4_11ec_8b13_0242ac1c0002row2_col7,#T_2a31ef60_0da4_11ec_8b13_0242ac1c0002row2_col12,#T_2a31ef60_0da4_11ec_8b13_0242ac1c0002row4_col7,#T_2a31ef60_0da4_11ec_8b13_0242ac1c0002row4_col12,#T_2a31ef60_0da4_11ec_8b13_0242ac1c0002row10_col9,#T_2a31ef60_0da4_11ec_8b13_0242ac1c0002row15_col9,#T_2a31ef60_0da4_11ec_8b13_0242ac1c0002row22_col7,#T_2a31ef60_0da4_11ec_8b13_0242ac1c0002row22_col9,#T_2a31ef60_0da4_11ec_8b13_0242ac1c0002row22_col12{\n",
              "            background-color:  #688aef;\n",
              "            color:  #000000;\n",
              "        }#T_2a31ef60_0da4_11ec_8b13_0242ac1c0002row2_col8,#T_2a31ef60_0da4_11ec_8b13_0242ac1c0002row2_col13,#T_2a31ef60_0da4_11ec_8b13_0242ac1c0002row3_col8,#T_2a31ef60_0da4_11ec_8b13_0242ac1c0002row3_col13,#T_2a31ef60_0da4_11ec_8b13_0242ac1c0002row4_col8,#T_2a31ef60_0da4_11ec_8b13_0242ac1c0002row4_col13,#T_2a31ef60_0da4_11ec_8b13_0242ac1c0002row5_col8,#T_2a31ef60_0da4_11ec_8b13_0242ac1c0002row5_col13,#T_2a31ef60_0da4_11ec_8b13_0242ac1c0002row7_col11,#T_2a31ef60_0da4_11ec_8b13_0242ac1c0002row9_col11,#T_2a31ef60_0da4_11ec_8b13_0242ac1c0002row9_col16,#T_2a31ef60_0da4_11ec_8b13_0242ac1c0002row10_col8,#T_2a31ef60_0da4_11ec_8b13_0242ac1c0002row10_col13,#T_2a31ef60_0da4_11ec_8b13_0242ac1c0002row12_col11,#T_2a31ef60_0da4_11ec_8b13_0242ac1c0002row14_col11,#T_2a31ef60_0da4_11ec_8b13_0242ac1c0002row14_col16,#T_2a31ef60_0da4_11ec_8b13_0242ac1c0002row15_col8,#T_2a31ef60_0da4_11ec_8b13_0242ac1c0002row15_col13,#T_2a31ef60_0da4_11ec_8b13_0242ac1c0002row15_col16,#T_2a31ef60_0da4_11ec_8b13_0242ac1c0002row24_col0{\n",
              "            background-color:  #4f69d9;\n",
              "            color:  #000000;\n",
              "        }#T_2a31ef60_0da4_11ec_8b13_0242ac1c0002row2_col11,#T_2a31ef60_0da4_11ec_8b13_0242ac1c0002row2_col16,#T_2a31ef60_0da4_11ec_8b13_0242ac1c0002row8_col0,#T_2a31ef60_0da4_11ec_8b13_0242ac1c0002row10_col11,#T_2a31ef60_0da4_11ec_8b13_0242ac1c0002row10_col16,#T_2a31ef60_0da4_11ec_8b13_0242ac1c0002row11_col8,#T_2a31ef60_0da4_11ec_8b13_0242ac1c0002row11_col13,#T_2a31ef60_0da4_11ec_8b13_0242ac1c0002row13_col0,#T_2a31ef60_0da4_11ec_8b13_0242ac1c0002row16_col8,#T_2a31ef60_0da4_11ec_8b13_0242ac1c0002row16_col13,#T_2a31ef60_0da4_11ec_8b13_0242ac1c0002row18_col0{\n",
              "            background-color:  #536edd;\n",
              "            color:  #000000;\n",
              "        }#T_2a31ef60_0da4_11ec_8b13_0242ac1c0002row2_col14,#T_2a31ef60_0da4_11ec_8b13_0242ac1c0002row3_col2,#T_2a31ef60_0da4_11ec_8b13_0242ac1c0002row5_col2,#T_2a31ef60_0da4_11ec_8b13_0242ac1c0002row5_col9,#T_2a31ef60_0da4_11ec_8b13_0242ac1c0002row6_col24,#T_2a31ef60_0da4_11ec_8b13_0242ac1c0002row12_col14,#T_2a31ef60_0da4_11ec_8b13_0242ac1c0002row15_col14,#T_2a31ef60_0da4_11ec_8b13_0242ac1c0002row22_col14{\n",
              "            background-color:  #7093f3;\n",
              "            color:  #000000;\n",
              "        }#T_2a31ef60_0da4_11ec_8b13_0242ac1c0002row2_col18,#T_2a31ef60_0da4_11ec_8b13_0242ac1c0002row4_col18,#T_2a31ef60_0da4_11ec_8b13_0242ac1c0002row7_col3,#T_2a31ef60_0da4_11ec_8b13_0242ac1c0002row7_col5,#T_2a31ef60_0da4_11ec_8b13_0242ac1c0002row12_col3,#T_2a31ef60_0da4_11ec_8b13_0242ac1c0002row12_col5,#T_2a31ef60_0da4_11ec_8b13_0242ac1c0002row15_col18,#T_2a31ef60_0da4_11ec_8b13_0242ac1c0002row16_col18,#T_2a31ef60_0da4_11ec_8b13_0242ac1c0002row20_col8,#T_2a31ef60_0da4_11ec_8b13_0242ac1c0002row20_col13,#T_2a31ef60_0da4_11ec_8b13_0242ac1c0002row20_col23,#T_2a31ef60_0da4_11ec_8b13_0242ac1c0002row22_col6,#T_2a31ef60_0da4_11ec_8b13_0242ac1c0002row24_col11{\n",
              "            background-color:  #4358cb;\n",
              "            color:  #f1f1f1;\n",
              "        }#T_2a31ef60_0da4_11ec_8b13_0242ac1c0002row2_col20,#T_2a31ef60_0da4_11ec_8b13_0242ac1c0002row3_col20,#T_2a31ef60_0da4_11ec_8b13_0242ac1c0002row4_col20,#T_2a31ef60_0da4_11ec_8b13_0242ac1c0002row4_col21,#T_2a31ef60_0da4_11ec_8b13_0242ac1c0002row8_col21,#T_2a31ef60_0da4_11ec_8b13_0242ac1c0002row13_col21,#T_2a31ef60_0da4_11ec_8b13_0242ac1c0002row15_col21{\n",
              "            background-color:  #a9c6fd;\n",
              "            color:  #000000;\n",
              "        }#T_2a31ef60_0da4_11ec_8b13_0242ac1c0002row2_col21,#T_2a31ef60_0da4_11ec_8b13_0242ac1c0002row6_col20,#T_2a31ef60_0da4_11ec_8b13_0242ac1c0002row15_col20,#T_2a31ef60_0da4_11ec_8b13_0242ac1c0002row24_col19{\n",
              "            background-color:  #aac7fd;\n",
              "            color:  #000000;\n",
              "        }#T_2a31ef60_0da4_11ec_8b13_0242ac1c0002row2_col22,#T_2a31ef60_0da4_11ec_8b13_0242ac1c0002row4_col22,#T_2a31ef60_0da4_11ec_8b13_0242ac1c0002row8_col23,#T_2a31ef60_0da4_11ec_8b13_0242ac1c0002row13_col23,#T_2a31ef60_0da4_11ec_8b13_0242ac1c0002row15_col22{\n",
              "            background-color:  #5a78e4;\n",
              "            color:  #000000;\n",
              "        }#T_2a31ef60_0da4_11ec_8b13_0242ac1c0002row2_col24,#T_2a31ef60_0da4_11ec_8b13_0242ac1c0002row4_col24,#T_2a31ef60_0da4_11ec_8b13_0242ac1c0002row5_col14,#T_2a31ef60_0da4_11ec_8b13_0242ac1c0002row5_col17,#T_2a31ef60_0da4_11ec_8b13_0242ac1c0002row10_col24{\n",
              "            background-color:  #779af7;\n",
              "            color:  #000000;\n",
              "        }#T_2a31ef60_0da4_11ec_8b13_0242ac1c0002row3_col0,#T_2a31ef60_0da4_11ec_8b13_0242ac1c0002row3_col11,#T_2a31ef60_0da4_11ec_8b13_0242ac1c0002row3_col16,#T_2a31ef60_0da4_11ec_8b13_0242ac1c0002row5_col0,#T_2a31ef60_0da4_11ec_8b13_0242ac1c0002row5_col11,#T_2a31ef60_0da4_11ec_8b13_0242ac1c0002row5_col16,#T_2a31ef60_0da4_11ec_8b13_0242ac1c0002row10_col0,#T_2a31ef60_0da4_11ec_8b13_0242ac1c0002row21_col22,#T_2a31ef60_0da4_11ec_8b13_0242ac1c0002row24_col7{\n",
              "            background-color:  #5470de;\n",
              "            color:  #000000;\n",
              "        }#T_2a31ef60_0da4_11ec_8b13_0242ac1c0002row3_col1,#T_2a31ef60_0da4_11ec_8b13_0242ac1c0002row5_col1,#T_2a31ef60_0da4_11ec_8b13_0242ac1c0002row7_col4,#T_2a31ef60_0da4_11ec_8b13_0242ac1c0002row9_col4,#T_2a31ef60_0da4_11ec_8b13_0242ac1c0002row10_col1,#T_2a31ef60_0da4_11ec_8b13_0242ac1c0002row10_col18,#T_2a31ef60_0da4_11ec_8b13_0242ac1c0002row11_col6,#T_2a31ef60_0da4_11ec_8b13_0242ac1c0002row12_col4,#T_2a31ef60_0da4_11ec_8b13_0242ac1c0002row15_col6,#T_2a31ef60_0da4_11ec_8b13_0242ac1c0002row16_col6,#T_2a31ef60_0da4_11ec_8b13_0242ac1c0002row21_col7,#T_2a31ef60_0da4_11ec_8b13_0242ac1c0002row21_col12,#T_2a31ef60_0da4_11ec_8b13_0242ac1c0002row22_col4,#T_2a31ef60_0da4_11ec_8b13_0242ac1c0002row22_col23,#T_2a31ef60_0da4_11ec_8b13_0242ac1c0002row23_col12{\n",
              "            background-color:  #455cce;\n",
              "            color:  #f1f1f1;\n",
              "        }#T_2a31ef60_0da4_11ec_8b13_0242ac1c0002row3_col5,#T_2a31ef60_0da4_11ec_8b13_0242ac1c0002row5_col3{\n",
              "            background-color:  #c12b30;\n",
              "            color:  #f1f1f1;\n",
              "        }#T_2a31ef60_0da4_11ec_8b13_0242ac1c0002row3_col14,#T_2a31ef60_0da4_11ec_8b13_0242ac1c0002row3_col17,#T_2a31ef60_0da4_11ec_8b13_0242ac1c0002row4_col17,#T_2a31ef60_0da4_11ec_8b13_0242ac1c0002row10_col17,#T_2a31ef60_0da4_11ec_8b13_0242ac1c0002row15_col24{\n",
              "            background-color:  #7699f6;\n",
              "            color:  #000000;\n",
              "        }#T_2a31ef60_0da4_11ec_8b13_0242ac1c0002row3_col18,#T_2a31ef60_0da4_11ec_8b13_0242ac1c0002row5_col18,#T_2a31ef60_0da4_11ec_8b13_0242ac1c0002row6_col18,#T_2a31ef60_0da4_11ec_8b13_0242ac1c0002row7_col18,#T_2a31ef60_0da4_11ec_8b13_0242ac1c0002row11_col10,#T_2a31ef60_0da4_11ec_8b13_0242ac1c0002row11_col18,#T_2a31ef60_0da4_11ec_8b13_0242ac1c0002row12_col18,#T_2a31ef60_0da4_11ec_8b13_0242ac1c0002row16_col10,#T_2a31ef60_0da4_11ec_8b13_0242ac1c0002row18_col10,#T_2a31ef60_0da4_11ec_8b13_0242ac1c0002row20_col15,#T_2a31ef60_0da4_11ec_8b13_0242ac1c0002row20_col24,#T_2a31ef60_0da4_11ec_8b13_0242ac1c0002row24_col10,#T_2a31ef60_0da4_11ec_8b13_0242ac1c0002row24_col16{\n",
              "            background-color:  #4257c9;\n",
              "            color:  #f1f1f1;\n",
              "        }#T_2a31ef60_0da4_11ec_8b13_0242ac1c0002row3_col19,#T_2a31ef60_0da4_11ec_8b13_0242ac1c0002row15_col19,#T_2a31ef60_0da4_11ec_8b13_0242ac1c0002row23_col9{\n",
              "            background-color:  #89acfd;\n",
              "            color:  #000000;\n",
              "        }#T_2a31ef60_0da4_11ec_8b13_0242ac1c0002row3_col22,#T_2a31ef60_0da4_11ec_8b13_0242ac1c0002row5_col22,#T_2a31ef60_0da4_11ec_8b13_0242ac1c0002row7_col22,#T_2a31ef60_0da4_11ec_8b13_0242ac1c0002row12_col22{\n",
              "            background-color:  #5977e3;\n",
              "            color:  #000000;\n",
              "        }#T_2a31ef60_0da4_11ec_8b13_0242ac1c0002row4_col0,#T_2a31ef60_0da4_11ec_8b13_0242ac1c0002row5_col6,#T_2a31ef60_0da4_11ec_8b13_0242ac1c0002row8_col2,#T_2a31ef60_0da4_11ec_8b13_0242ac1c0002row9_col6,#T_2a31ef60_0da4_11ec_8b13_0242ac1c0002row10_col2,#T_2a31ef60_0da4_11ec_8b13_0242ac1c0002row11_col2,#T_2a31ef60_0da4_11ec_8b13_0242ac1c0002row13_col2,#T_2a31ef60_0da4_11ec_8b13_0242ac1c0002row15_col2,#T_2a31ef60_0da4_11ec_8b13_0242ac1c0002row16_col2,#T_2a31ef60_0da4_11ec_8b13_0242ac1c0002row19_col13,#T_2a31ef60_0da4_11ec_8b13_0242ac1c0002row21_col10,#T_2a31ef60_0da4_11ec_8b13_0242ac1c0002row23_col2,#T_2a31ef60_0da4_11ec_8b13_0242ac1c0002row23_col8,#T_2a31ef60_0da4_11ec_8b13_0242ac1c0002row23_col13{\n",
              "            background-color:  #4961d2;\n",
              "            color:  #f1f1f1;\n",
              "        }#T_2a31ef60_0da4_11ec_8b13_0242ac1c0002row4_col3,#T_2a31ef60_0da4_11ec_8b13_0242ac1c0002row4_col5,#T_2a31ef60_0da4_11ec_8b13_0242ac1c0002row9_col1,#T_2a31ef60_0da4_11ec_8b13_0242ac1c0002row11_col7,#T_2a31ef60_0da4_11ec_8b13_0242ac1c0002row11_col12,#T_2a31ef60_0da4_11ec_8b13_0242ac1c0002row11_col24,#T_2a31ef60_0da4_11ec_8b13_0242ac1c0002row16_col7,#T_2a31ef60_0da4_11ec_8b13_0242ac1c0002row16_col12,#T_2a31ef60_0da4_11ec_8b13_0242ac1c0002row16_col24,#T_2a31ef60_0da4_11ec_8b13_0242ac1c0002row21_col11,#T_2a31ef60_0da4_11ec_8b13_0242ac1c0002row24_col8,#T_2a31ef60_0da4_11ec_8b13_0242ac1c0002row24_col13{\n",
              "            background-color:  #6788ee;\n",
              "            color:  #000000;\n",
              "        }#T_2a31ef60_0da4_11ec_8b13_0242ac1c0002row4_col9,#T_2a31ef60_0da4_11ec_8b13_0242ac1c0002row8_col9,#T_2a31ef60_0da4_11ec_8b13_0242ac1c0002row13_col9,#T_2a31ef60_0da4_11ec_8b13_0242ac1c0002row16_col9,#T_2a31ef60_0da4_11ec_8b13_0242ac1c0002row18_col9,#T_2a31ef60_0da4_11ec_8b13_0242ac1c0002row20_col22{\n",
              "            background-color:  #6c8ff1;\n",
              "            color:  #000000;\n",
              "        }#T_2a31ef60_0da4_11ec_8b13_0242ac1c0002row4_col11,#T_2a31ef60_0da4_11ec_8b13_0242ac1c0002row4_col16,#T_2a31ef60_0da4_11ec_8b13_0242ac1c0002row6_col11,#T_2a31ef60_0da4_11ec_8b13_0242ac1c0002row6_col16,#T_2a31ef60_0da4_11ec_8b13_0242ac1c0002row15_col0,#T_2a31ef60_0da4_11ec_8b13_0242ac1c0002row18_col8,#T_2a31ef60_0da4_11ec_8b13_0242ac1c0002row18_col11,#T_2a31ef60_0da4_11ec_8b13_0242ac1c0002row18_col13,#T_2a31ef60_0da4_11ec_8b13_0242ac1c0002row18_col16,#T_2a31ef60_0da4_11ec_8b13_0242ac1c0002row19_col1{\n",
              "            background-color:  #516ddb;\n",
              "            color:  #000000;\n",
              "        }#T_2a31ef60_0da4_11ec_8b13_0242ac1c0002row4_col14,#T_2a31ef60_0da4_11ec_8b13_0242ac1c0002row11_col14,#T_2a31ef60_0da4_11ec_8b13_0242ac1c0002row11_col23,#T_2a31ef60_0da4_11ec_8b13_0242ac1c0002row14_col20,#T_2a31ef60_0da4_11ec_8b13_0242ac1c0002row14_col24,#T_2a31ef60_0da4_11ec_8b13_0242ac1c0002row15_col17,#T_2a31ef60_0da4_11ec_8b13_0242ac1c0002row16_col14,#T_2a31ef60_0da4_11ec_8b13_0242ac1c0002row16_col23,#T_2a31ef60_0da4_11ec_8b13_0242ac1c0002row24_col14{\n",
              "            background-color:  #7396f5;\n",
              "            color:  #000000;\n",
              "        }#T_2a31ef60_0da4_11ec_8b13_0242ac1c0002row6_col0{\n",
              "            background-color:  #c3d5f4;\n",
              "            color:  #000000;\n",
              "        }#T_2a31ef60_0da4_11ec_8b13_0242ac1c0002row6_col1{\n",
              "            background-color:  #f2cbb7;\n",
              "            color:  #000000;\n",
              "        }#T_2a31ef60_0da4_11ec_8b13_0242ac1c0002row6_col7,#T_2a31ef60_0da4_11ec_8b13_0242ac1c0002row6_col12,#T_2a31ef60_0da4_11ec_8b13_0242ac1c0002row20_col18{\n",
              "            background-color:  #6384eb;\n",
              "            color:  #000000;\n",
              "        }#T_2a31ef60_0da4_11ec_8b13_0242ac1c0002row6_col8,#T_2a31ef60_0da4_11ec_8b13_0242ac1c0002row6_col13,#T_2a31ef60_0da4_11ec_8b13_0242ac1c0002row7_col16,#T_2a31ef60_0da4_11ec_8b13_0242ac1c0002row12_col16,#T_2a31ef60_0da4_11ec_8b13_0242ac1c0002row17_col6,#T_2a31ef60_0da4_11ec_8b13_0242ac1c0002row21_col8,#T_2a31ef60_0da4_11ec_8b13_0242ac1c0002row21_col13{\n",
              "            background-color:  #4e68d8;\n",
              "            color:  #000000;\n",
              "        }#T_2a31ef60_0da4_11ec_8b13_0242ac1c0002row6_col9,#T_2a31ef60_0da4_11ec_8b13_0242ac1c0002row7_col14,#T_2a31ef60_0da4_11ec_8b13_0242ac1c0002row10_col14,#T_2a31ef60_0da4_11ec_8b13_0242ac1c0002row20_col7,#T_2a31ef60_0da4_11ec_8b13_0242ac1c0002row20_col12{\n",
              "            background-color:  #7295f4;\n",
              "            color:  #000000;\n",
              "        }#T_2a31ef60_0da4_11ec_8b13_0242ac1c0002row6_col14,#T_2a31ef60_0da4_11ec_8b13_0242ac1c0002row9_col20,#T_2a31ef60_0da4_11ec_8b13_0242ac1c0002row23_col0,#T_2a31ef60_0da4_11ec_8b13_0242ac1c0002row24_col20{\n",
              "            background-color:  #7a9df8;\n",
              "            color:  #000000;\n",
              "        }#T_2a31ef60_0da4_11ec_8b13_0242ac1c0002row6_col17,#T_2a31ef60_0da4_11ec_8b13_0242ac1c0002row17_col0{\n",
              "            background-color:  #7da0f9;\n",
              "            color:  #000000;\n",
              "        }#T_2a31ef60_0da4_11ec_8b13_0242ac1c0002row6_col19,#T_2a31ef60_0da4_11ec_8b13_0242ac1c0002row10_col19,#T_2a31ef60_0da4_11ec_8b13_0242ac1c0002row20_col17{\n",
              "            background-color:  #8caffe;\n",
              "            color:  #000000;\n",
              "        }#T_2a31ef60_0da4_11ec_8b13_0242ac1c0002row6_col21,#T_2a31ef60_0da4_11ec_8b13_0242ac1c0002row8_col20,#T_2a31ef60_0da4_11ec_8b13_0242ac1c0002row13_col20,#T_2a31ef60_0da4_11ec_8b13_0242ac1c0002row17_col9{\n",
              "            background-color:  #9fbfff;\n",
              "            color:  #000000;\n",
              "        }#T_2a31ef60_0da4_11ec_8b13_0242ac1c0002row6_col22,#T_2a31ef60_0da4_11ec_8b13_0242ac1c0002row7_col17,#T_2a31ef60_0da4_11ec_8b13_0242ac1c0002row11_col1,#T_2a31ef60_0da4_11ec_8b13_0242ac1c0002row12_col17,#T_2a31ef60_0da4_11ec_8b13_0242ac1c0002row16_col1,#T_2a31ef60_0da4_11ec_8b13_0242ac1c0002row19_col22{\n",
              "            background-color:  #5875e1;\n",
              "            color:  #000000;\n",
              "        }#T_2a31ef60_0da4_11ec_8b13_0242ac1c0002row7_col2,#T_2a31ef60_0da4_11ec_8b13_0242ac1c0002row8_col1,#T_2a31ef60_0da4_11ec_8b13_0242ac1c0002row8_col4,#T_2a31ef60_0da4_11ec_8b13_0242ac1c0002row8_col18,#T_2a31ef60_0da4_11ec_8b13_0242ac1c0002row11_col4,#T_2a31ef60_0da4_11ec_8b13_0242ac1c0002row12_col2,#T_2a31ef60_0da4_11ec_8b13_0242ac1c0002row13_col1,#T_2a31ef60_0da4_11ec_8b13_0242ac1c0002row13_col4,#T_2a31ef60_0da4_11ec_8b13_0242ac1c0002row13_col18,#T_2a31ef60_0da4_11ec_8b13_0242ac1c0002row15_col1,#T_2a31ef60_0da4_11ec_8b13_0242ac1c0002row15_col4,#T_2a31ef60_0da4_11ec_8b13_0242ac1c0002row16_col4,#T_2a31ef60_0da4_11ec_8b13_0242ac1c0002row17_col4,#T_2a31ef60_0da4_11ec_8b13_0242ac1c0002row17_col8,#T_2a31ef60_0da4_11ec_8b13_0242ac1c0002row17_col13,#T_2a31ef60_0da4_11ec_8b13_0242ac1c0002row17_col18,#T_2a31ef60_0da4_11ec_8b13_0242ac1c0002row18_col1,#T_2a31ef60_0da4_11ec_8b13_0242ac1c0002row18_col4,#T_2a31ef60_0da4_11ec_8b13_0242ac1c0002row19_col4,#T_2a31ef60_0da4_11ec_8b13_0242ac1c0002row19_col6,#T_2a31ef60_0da4_11ec_8b13_0242ac1c0002row22_col18,#T_2a31ef60_0da4_11ec_8b13_0242ac1c0002row23_col4,#T_2a31ef60_0da4_11ec_8b13_0242ac1c0002row23_col6{\n",
              "            background-color:  #465ecf;\n",
              "            color:  #f1f1f1;\n",
              "        }#T_2a31ef60_0da4_11ec_8b13_0242ac1c0002row7_col19,#T_2a31ef60_0da4_11ec_8b13_0242ac1c0002row10_col22,#T_2a31ef60_0da4_11ec_8b13_0242ac1c0002row12_col19,#T_2a31ef60_0da4_11ec_8b13_0242ac1c0002row17_col16,#T_2a31ef60_0da4_11ec_8b13_0242ac1c0002row19_col11,#T_2a31ef60_0da4_11ec_8b13_0242ac1c0002row19_col16{\n",
              "            background-color:  #5b7ae5;\n",
              "            color:  #000000;\n",
              "        }#T_2a31ef60_0da4_11ec_8b13_0242ac1c0002row7_col20,#T_2a31ef60_0da4_11ec_8b13_0242ac1c0002row12_col20{\n",
              "            background-color:  #aec9fc;\n",
              "            color:  #000000;\n",
              "        }#T_2a31ef60_0da4_11ec_8b13_0242ac1c0002row7_col21,#T_2a31ef60_0da4_11ec_8b13_0242ac1c0002row12_col21,#T_2a31ef60_0da4_11ec_8b13_0242ac1c0002row18_col19,#T_2a31ef60_0da4_11ec_8b13_0242ac1c0002row22_col19{\n",
              "            background-color:  #88abfd;\n",
              "            color:  #000000;\n",
              "        }#T_2a31ef60_0da4_11ec_8b13_0242ac1c0002row8_col6,#T_2a31ef60_0da4_11ec_8b13_0242ac1c0002row9_col2,#T_2a31ef60_0da4_11ec_8b13_0242ac1c0002row13_col6,#T_2a31ef60_0da4_11ec_8b13_0242ac1c0002row14_col2,#T_2a31ef60_0da4_11ec_8b13_0242ac1c0002row14_col4,#T_2a31ef60_0da4_11ec_8b13_0242ac1c0002row18_col6,#T_2a31ef60_0da4_11ec_8b13_0242ac1c0002row22_col1,#T_2a31ef60_0da4_11ec_8b13_0242ac1c0002row23_col7,#T_2a31ef60_0da4_11ec_8b13_0242ac1c0002row23_col10,#T_2a31ef60_0da4_11ec_8b13_0242ac1c0002row23_col18{\n",
              "            background-color:  #445acc;\n",
              "            color:  #f1f1f1;\n",
              "        }#T_2a31ef60_0da4_11ec_8b13_0242ac1c0002row8_col16,#T_2a31ef60_0da4_11ec_8b13_0242ac1c0002row9_col22,#T_2a31ef60_0da4_11ec_8b13_0242ac1c0002row10_col15,#T_2a31ef60_0da4_11ec_8b13_0242ac1c0002row13_col16,#T_2a31ef60_0da4_11ec_8b13_0242ac1c0002row14_col22,#T_2a31ef60_0da4_11ec_8b13_0242ac1c0002row15_col10,#T_2a31ef60_0da4_11ec_8b13_0242ac1c0002row24_col12{\n",
              "            background-color:  #5572df;\n",
              "            color:  #000000;\n",
              "        }#T_2a31ef60_0da4_11ec_8b13_0242ac1c0002row8_col17,#T_2a31ef60_0da4_11ec_8b13_0242ac1c0002row9_col24,#T_2a31ef60_0da4_11ec_8b13_0242ac1c0002row11_col0,#T_2a31ef60_0da4_11ec_8b13_0242ac1c0002row13_col17,#T_2a31ef60_0da4_11ec_8b13_0242ac1c0002row16_col0,#T_2a31ef60_0da4_11ec_8b13_0242ac1c0002row18_col24,#T_2a31ef60_0da4_11ec_8b13_0242ac1c0002row21_col14{\n",
              "            background-color:  #6e90f2;\n",
              "            color:  #000000;\n",
              "        }#T_2a31ef60_0da4_11ec_8b13_0242ac1c0002row8_col24,#T_2a31ef60_0da4_11ec_8b13_0242ac1c0002row13_col24,#T_2a31ef60_0da4_11ec_8b13_0242ac1c0002row19_col17{\n",
              "            background-color:  #8db0fe;\n",
              "            color:  #000000;\n",
              "        }#T_2a31ef60_0da4_11ec_8b13_0242ac1c0002row9_col0{\n",
              "            background-color:  #7ea1fa;\n",
              "            color:  #000000;\n",
              "        }#T_2a31ef60_0da4_11ec_8b13_0242ac1c0002row9_col8,#T_2a31ef60_0da4_11ec_8b13_0242ac1c0002row9_col13,#T_2a31ef60_0da4_11ec_8b13_0242ac1c0002row14_col8,#T_2a31ef60_0da4_11ec_8b13_0242ac1c0002row14_col13,#T_2a31ef60_0da4_11ec_8b13_0242ac1c0002row17_col7,#T_2a31ef60_0da4_11ec_8b13_0242ac1c0002row17_col12{\n",
              "            background-color:  #4c66d6;\n",
              "            color:  #000000;\n",
              "        }#T_2a31ef60_0da4_11ec_8b13_0242ac1c0002row9_col14{\n",
              "            background-color:  #d24b40;\n",
              "            color:  #f1f1f1;\n",
              "        }#T_2a31ef60_0da4_11ec_8b13_0242ac1c0002row9_col17,#T_2a31ef60_0da4_11ec_8b13_0242ac1c0002row14_col17,#T_2a31ef60_0da4_11ec_8b13_0242ac1c0002row17_col14{\n",
              "            background-color:  #a6c4fe;\n",
              "            color:  #000000;\n",
              "        }#T_2a31ef60_0da4_11ec_8b13_0242ac1c0002row9_col19,#T_2a31ef60_0da4_11ec_8b13_0242ac1c0002row21_col17{\n",
              "            background-color:  #c5d6f2;\n",
              "            color:  #000000;\n",
              "        }#T_2a31ef60_0da4_11ec_8b13_0242ac1c0002row9_col21,#T_2a31ef60_0da4_11ec_8b13_0242ac1c0002row11_col20{\n",
              "            background-color:  #94b6ff;\n",
              "            color:  #000000;\n",
              "        }#T_2a31ef60_0da4_11ec_8b13_0242ac1c0002row9_col23{\n",
              "            background-color:  #7b9ff9;\n",
              "            color:  #000000;\n",
              "        }#T_2a31ef60_0da4_11ec_8b13_0242ac1c0002row10_col21,#T_2a31ef60_0da4_11ec_8b13_0242ac1c0002row21_col24{\n",
              "            background-color:  #afcafc;\n",
              "            color:  #000000;\n",
              "        }#T_2a31ef60_0da4_11ec_8b13_0242ac1c0002row10_col23,#T_2a31ef60_0da4_11ec_8b13_0242ac1c0002row23_col11,#T_2a31ef60_0da4_11ec_8b13_0242ac1c0002row23_col16{\n",
              "            background-color:  #6485ec;\n",
              "            color:  #000000;\n",
              "        }#T_2a31ef60_0da4_11ec_8b13_0242ac1c0002row11_col16,#T_2a31ef60_0da4_11ec_8b13_0242ac1c0002row16_col11{\n",
              "            background-color:  #b70d28;\n",
              "            color:  #f1f1f1;\n",
              "        }#T_2a31ef60_0da4_11ec_8b13_0242ac1c0002row11_col17,#T_2a31ef60_0da4_11ec_8b13_0242ac1c0002row16_col17{\n",
              "            background-color:  #80a3fa;\n",
              "            color:  #000000;\n",
              "        }#T_2a31ef60_0da4_11ec_8b13_0242ac1c0002row14_col0{\n",
              "            background-color:  #81a4fb;\n",
              "            color:  #000000;\n",
              "        }#T_2a31ef60_0da4_11ec_8b13_0242ac1c0002row14_col6,#T_2a31ef60_0da4_11ec_8b13_0242ac1c0002row20_col2,#T_2a31ef60_0da4_11ec_8b13_0242ac1c0002row24_col2{\n",
              "            background-color:  #4a63d3;\n",
              "            color:  #f1f1f1;\n",
              "        }#T_2a31ef60_0da4_11ec_8b13_0242ac1c0002row14_col9{\n",
              "            background-color:  #d44e41;\n",
              "            color:  #000000;\n",
              "        }#T_2a31ef60_0da4_11ec_8b13_0242ac1c0002row14_col19{\n",
              "            background-color:  #cbd8ee;\n",
              "            color:  #000000;\n",
              "        }#T_2a31ef60_0da4_11ec_8b13_0242ac1c0002row14_col21,#T_2a31ef60_0da4_11ec_8b13_0242ac1c0002row18_col21,#T_2a31ef60_0da4_11ec_8b13_0242ac1c0002row22_col21{\n",
              "            background-color:  #a2c1ff;\n",
              "            color:  #000000;\n",
              "        }#T_2a31ef60_0da4_11ec_8b13_0242ac1c0002row14_col23{\n",
              "            background-color:  #82a6fb;\n",
              "            color:  #000000;\n",
              "        }#T_2a31ef60_0da4_11ec_8b13_0242ac1c0002row15_col11,#T_2a31ef60_0da4_11ec_8b13_0242ac1c0002row22_col0{\n",
              "            background-color:  #506bda;\n",
              "            color:  #000000;\n",
              "        }#T_2a31ef60_0da4_11ec_8b13_0242ac1c0002row17_col11,#T_2a31ef60_0da4_11ec_8b13_0242ac1c0002row19_col20,#T_2a31ef60_0da4_11ec_8b13_0242ac1c0002row22_col11,#T_2a31ef60_0da4_11ec_8b13_0242ac1c0002row22_col16,#T_2a31ef60_0da4_11ec_8b13_0242ac1c0002row23_col1,#T_2a31ef60_0da4_11ec_8b13_0242ac1c0002row24_col22{\n",
              "            background-color:  #5d7ce6;\n",
              "            color:  #000000;\n",
              "        }#T_2a31ef60_0da4_11ec_8b13_0242ac1c0002row17_col20{\n",
              "            background-color:  #bad0f8;\n",
              "            color:  #000000;\n",
              "        }#T_2a31ef60_0da4_11ec_8b13_0242ac1c0002row17_col21{\n",
              "            background-color:  #e2dad5;\n",
              "            color:  #000000;\n",
              "        }#T_2a31ef60_0da4_11ec_8b13_0242ac1c0002row17_col23{\n",
              "            background-color:  #d1493f;\n",
              "            color:  #f1f1f1;\n",
              "        }#T_2a31ef60_0da4_11ec_8b13_0242ac1c0002row18_col17,#T_2a31ef60_0da4_11ec_8b13_0242ac1c0002row22_col24{\n",
              "            background-color:  #799cf8;\n",
              "            color:  #000000;\n",
              "        }#T_2a31ef60_0da4_11ec_8b13_0242ac1c0002row18_col20{\n",
              "            background-color:  #bfd3f6;\n",
              "            color:  #000000;\n",
              "        }#T_2a31ef60_0da4_11ec_8b13_0242ac1c0002row19_col9{\n",
              "            background-color:  #b1cbfc;\n",
              "            color:  #000000;\n",
              "        }#T_2a31ef60_0da4_11ec_8b13_0242ac1c0002row19_col14{\n",
              "            background-color:  #bcd2f7;\n",
              "            color:  #000000;\n",
              "        }#T_2a31ef60_0da4_11ec_8b13_0242ac1c0002row19_col21{\n",
              "            background-color:  #ead5c9;\n",
              "            color:  #000000;\n",
              "        }#T_2a31ef60_0da4_11ec_8b13_0242ac1c0002row19_col24,#T_2a31ef60_0da4_11ec_8b13_0242ac1c0002row23_col14{\n",
              "            background-color:  #97b8ff;\n",
              "            color:  #000000;\n",
              "        }#T_2a31ef60_0da4_11ec_8b13_0242ac1c0002row21_col19{\n",
              "            background-color:  #dbdcde;\n",
              "            color:  #000000;\n",
              "        }#T_2a31ef60_0da4_11ec_8b13_0242ac1c0002row21_col23{\n",
              "            background-color:  #f7b99e;\n",
              "            color:  #000000;\n",
              "        }#T_2a31ef60_0da4_11ec_8b13_0242ac1c0002row22_col20{\n",
              "            background-color:  #b6cefa;\n",
              "            color:  #000000;\n",
              "        }#T_2a31ef60_0da4_11ec_8b13_0242ac1c0002row23_col17{\n",
              "            background-color:  #d0473d;\n",
              "            color:  #f1f1f1;\n",
              "        }#T_2a31ef60_0da4_11ec_8b13_0242ac1c0002row23_col19{\n",
              "            background-color:  #bed2f6;\n",
              "            color:  #000000;\n",
              "        }#T_2a31ef60_0da4_11ec_8b13_0242ac1c0002row23_col20{\n",
              "            background-color:  #8fb1fe;\n",
              "            color:  #000000;\n",
              "        }#T_2a31ef60_0da4_11ec_8b13_0242ac1c0002row23_col21{\n",
              "            background-color:  #f59d7e;\n",
              "            color:  #000000;\n",
              "        }#T_2a31ef60_0da4_11ec_8b13_0242ac1c0002row24_col21{\n",
              "            background-color:  #d4dbe6;\n",
              "            color:  #000000;\n",
              "        }</style><table id=\"T_2a31ef60_0da4_11ec_8b13_0242ac1c0002\" ><thead>    <tr>        <th class=\"blank level0\" ></th>        <th class=\"col_heading level0 col0\" >Duration</th>        <th class=\"col_heading level0 col1\" >Distance</th>        <th class=\"col_heading level0 col2\" >PLong</th>        <th class=\"col_heading level0 col3\" >PLatd</th>        <th class=\"col_heading level0 col4\" >DLong</th>        <th class=\"col_heading level0 col5\" >DLatd</th>        <th class=\"col_heading level0 col6\" >Haversine</th>        <th class=\"col_heading level0 col7\" >Pmonth</th>        <th class=\"col_heading level0 col8\" >Pday</th>        <th class=\"col_heading level0 col9\" >Phour</th>        <th class=\"col_heading level0 col10\" >Pmin</th>        <th class=\"col_heading level0 col11\" >PDweek</th>        <th class=\"col_heading level0 col12\" >Dmonth</th>        <th class=\"col_heading level0 col13\" >Dday</th>        <th class=\"col_heading level0 col14\" >Dhour</th>        <th class=\"col_heading level0 col15\" >Dmin</th>        <th class=\"col_heading level0 col16\" >DDweek</th>        <th class=\"col_heading level0 col17\" >Temp</th>        <th class=\"col_heading level0 col18\" >Precip</th>        <th class=\"col_heading level0 col19\" >Wind</th>        <th class=\"col_heading level0 col20\" >Humid</th>        <th class=\"col_heading level0 col21\" >Solar</th>        <th class=\"col_heading level0 col22\" >Snow</th>        <th class=\"col_heading level0 col23\" >GroundTemp</th>        <th class=\"col_heading level0 col24\" >Dust</th>    </tr></thead><tbody>\n",
              "                <tr>\n",
              "                        <th id=\"T_2a31ef60_0da4_11ec_8b13_0242ac1c0002level0_row0\" class=\"row_heading level0 row0\" >Duration</th>\n",
              "                        <td id=\"T_2a31ef60_0da4_11ec_8b13_0242ac1c0002row0_col0\" class=\"data row0 col0\" >1.00</td>\n",
              "                        <td id=\"T_2a31ef60_0da4_11ec_8b13_0242ac1c0002row0_col1\" class=\"data row0 col1\" >0.74</td>\n",
              "                        <td id=\"T_2a31ef60_0da4_11ec_8b13_0242ac1c0002row0_col2\" class=\"data row0 col2\" >-0.05</td>\n",
              "                        <td id=\"T_2a31ef60_0da4_11ec_8b13_0242ac1c0002row0_col3\" class=\"data row0 col3\" >-0.00</td>\n",
              "                        <td id=\"T_2a31ef60_0da4_11ec_8b13_0242ac1c0002row0_col4\" class=\"data row0 col4\" >-0.04</td>\n",
              "                        <td id=\"T_2a31ef60_0da4_11ec_8b13_0242ac1c0002row0_col5\" class=\"data row0 col5\" >-0.00</td>\n",
              "                        <td id=\"T_2a31ef60_0da4_11ec_8b13_0242ac1c0002row0_col6\" class=\"data row0 col6\" >0.35</td>\n",
              "                        <td id=\"T_2a31ef60_0da4_11ec_8b13_0242ac1c0002row0_col7\" class=\"data row0 col7\" >-0.05</td>\n",
              "                        <td id=\"T_2a31ef60_0da4_11ec_8b13_0242ac1c0002row0_col8\" class=\"data row0 col8\" >-0.01</td>\n",
              "                        <td id=\"T_2a31ef60_0da4_11ec_8b13_0242ac1c0002row0_col9\" class=\"data row0 col9\" >0.13</td>\n",
              "                        <td id=\"T_2a31ef60_0da4_11ec_8b13_0242ac1c0002row0_col10\" class=\"data row0 col10\" >-0.00</td>\n",
              "                        <td id=\"T_2a31ef60_0da4_11ec_8b13_0242ac1c0002row0_col11\" class=\"data row0 col11\" >0.08</td>\n",
              "                        <td id=\"T_2a31ef60_0da4_11ec_8b13_0242ac1c0002row0_col12\" class=\"data row0 col12\" >-0.05</td>\n",
              "                        <td id=\"T_2a31ef60_0da4_11ec_8b13_0242ac1c0002row0_col13\" class=\"data row0 col13\" >-0.01</td>\n",
              "                        <td id=\"T_2a31ef60_0da4_11ec_8b13_0242ac1c0002row0_col14\" class=\"data row0 col14\" >0.14</td>\n",
              "                        <td id=\"T_2a31ef60_0da4_11ec_8b13_0242ac1c0002row0_col15\" class=\"data row0 col15\" >-0.01</td>\n",
              "                        <td id=\"T_2a31ef60_0da4_11ec_8b13_0242ac1c0002row0_col16\" class=\"data row0 col16\" >0.08</td>\n",
              "                        <td id=\"T_2a31ef60_0da4_11ec_8b13_0242ac1c0002row0_col17\" class=\"data row0 col17\" >0.13</td>\n",
              "                        <td id=\"T_2a31ef60_0da4_11ec_8b13_0242ac1c0002row0_col18\" class=\"data row0 col18\" >-0.01</td>\n",
              "                        <td id=\"T_2a31ef60_0da4_11ec_8b13_0242ac1c0002row0_col19\" class=\"data row0 col19\" >0.07</td>\n",
              "                        <td id=\"T_2a31ef60_0da4_11ec_8b13_0242ac1c0002row0_col20\" class=\"data row0 col20\" >-0.10</td>\n",
              "                        <td id=\"T_2a31ef60_0da4_11ec_8b13_0242ac1c0002row0_col21\" class=\"data row0 col21\" >0.07</td>\n",
              "                        <td id=\"T_2a31ef60_0da4_11ec_8b13_0242ac1c0002row0_col22\" class=\"data row0 col22\" >-0.02</td>\n",
              "                        <td id=\"T_2a31ef60_0da4_11ec_8b13_0242ac1c0002row0_col23\" class=\"data row0 col23\" >0.12</td>\n",
              "                        <td id=\"T_2a31ef60_0da4_11ec_8b13_0242ac1c0002row0_col24\" class=\"data row0 col24\" >-0.02</td>\n",
              "            </tr>\n",
              "            <tr>\n",
              "                        <th id=\"T_2a31ef60_0da4_11ec_8b13_0242ac1c0002level0_row1\" class=\"row_heading level0 row1\" >Distance</th>\n",
              "                        <td id=\"T_2a31ef60_0da4_11ec_8b13_0242ac1c0002row1_col0\" class=\"data row1 col0\" >0.74</td>\n",
              "                        <td id=\"T_2a31ef60_0da4_11ec_8b13_0242ac1c0002row1_col1\" class=\"data row1 col1\" >1.00</td>\n",
              "                        <td id=\"T_2a31ef60_0da4_11ec_8b13_0242ac1c0002row1_col2\" class=\"data row1 col2\" >-0.05</td>\n",
              "                        <td id=\"T_2a31ef60_0da4_11ec_8b13_0242ac1c0002row1_col3\" class=\"data row1 col3\" >-0.01</td>\n",
              "                        <td id=\"T_2a31ef60_0da4_11ec_8b13_0242ac1c0002row1_col4\" class=\"data row1 col4\" >-0.04</td>\n",
              "                        <td id=\"T_2a31ef60_0da4_11ec_8b13_0242ac1c0002row1_col5\" class=\"data row1 col5\" >-0.01</td>\n",
              "                        <td id=\"T_2a31ef60_0da4_11ec_8b13_0242ac1c0002row1_col6\" class=\"data row1 col6\" >0.58</td>\n",
              "                        <td id=\"T_2a31ef60_0da4_11ec_8b13_0242ac1c0002row1_col7\" class=\"data row1 col7\" >-0.04</td>\n",
              "                        <td id=\"T_2a31ef60_0da4_11ec_8b13_0242ac1c0002row1_col8\" class=\"data row1 col8\" >-0.01</td>\n",
              "                        <td id=\"T_2a31ef60_0da4_11ec_8b13_0242ac1c0002row1_col9\" class=\"data row1 col9\" >0.10</td>\n",
              "                        <td id=\"T_2a31ef60_0da4_11ec_8b13_0242ac1c0002row1_col10\" class=\"data row1 col10\" >-0.01</td>\n",
              "                        <td id=\"T_2a31ef60_0da4_11ec_8b13_0242ac1c0002row1_col11\" class=\"data row1 col11\" >0.05</td>\n",
              "                        <td id=\"T_2a31ef60_0da4_11ec_8b13_0242ac1c0002row1_col12\" class=\"data row1 col12\" >-0.04</td>\n",
              "                        <td id=\"T_2a31ef60_0da4_11ec_8b13_0242ac1c0002row1_col13\" class=\"data row1 col13\" >-0.01</td>\n",
              "                        <td id=\"T_2a31ef60_0da4_11ec_8b13_0242ac1c0002row1_col14\" class=\"data row1 col14\" >0.10</td>\n",
              "                        <td id=\"T_2a31ef60_0da4_11ec_8b13_0242ac1c0002row1_col15\" class=\"data row1 col15\" >-0.01</td>\n",
              "                        <td id=\"T_2a31ef60_0da4_11ec_8b13_0242ac1c0002row1_col16\" class=\"data row1 col16\" >0.05</td>\n",
              "                        <td id=\"T_2a31ef60_0da4_11ec_8b13_0242ac1c0002row1_col17\" class=\"data row1 col17\" >0.10</td>\n",
              "                        <td id=\"T_2a31ef60_0da4_11ec_8b13_0242ac1c0002row1_col18\" class=\"data row1 col18\" >-0.01</td>\n",
              "                        <td id=\"T_2a31ef60_0da4_11ec_8b13_0242ac1c0002row1_col19\" class=\"data row1 col19\" >0.03</td>\n",
              "                        <td id=\"T_2a31ef60_0da4_11ec_8b13_0242ac1c0002row1_col20\" class=\"data row1 col20\" >-0.03</td>\n",
              "                        <td id=\"T_2a31ef60_0da4_11ec_8b13_0242ac1c0002row1_col21\" class=\"data row1 col21\" >-0.00</td>\n",
              "                        <td id=\"T_2a31ef60_0da4_11ec_8b13_0242ac1c0002row1_col22\" class=\"data row1 col22\" >-0.02</td>\n",
              "                        <td id=\"T_2a31ef60_0da4_11ec_8b13_0242ac1c0002row1_col23\" class=\"data row1 col23\" >0.07</td>\n",
              "                        <td id=\"T_2a31ef60_0da4_11ec_8b13_0242ac1c0002row1_col24\" class=\"data row1 col24\" >-0.04</td>\n",
              "            </tr>\n",
              "            <tr>\n",
              "                        <th id=\"T_2a31ef60_0da4_11ec_8b13_0242ac1c0002level0_row2\" class=\"row_heading level0 row2\" >PLong</th>\n",
              "                        <td id=\"T_2a31ef60_0da4_11ec_8b13_0242ac1c0002row2_col0\" class=\"data row2 col0\" >-0.05</td>\n",
              "                        <td id=\"T_2a31ef60_0da4_11ec_8b13_0242ac1c0002row2_col1\" class=\"data row2 col1\" >-0.05</td>\n",
              "                        <td id=\"T_2a31ef60_0da4_11ec_8b13_0242ac1c0002row2_col2\" class=\"data row2 col2\" >1.00</td>\n",
              "                        <td id=\"T_2a31ef60_0da4_11ec_8b13_0242ac1c0002row2_col3\" class=\"data row2 col3\" >0.13</td>\n",
              "                        <td id=\"T_2a31ef60_0da4_11ec_8b13_0242ac1c0002row2_col4\" class=\"data row2 col4\" >0.93</td>\n",
              "                        <td id=\"T_2a31ef60_0da4_11ec_8b13_0242ac1c0002row2_col5\" class=\"data row2 col5\" >0.13</td>\n",
              "                        <td id=\"T_2a31ef60_0da4_11ec_8b13_0242ac1c0002row2_col6\" class=\"data row2 col6\" >-0.04</td>\n",
              "                        <td id=\"T_2a31ef60_0da4_11ec_8b13_0242ac1c0002row2_col7\" class=\"data row2 col7\" >-0.01</td>\n",
              "                        <td id=\"T_2a31ef60_0da4_11ec_8b13_0242ac1c0002row2_col8\" class=\"data row2 col8\" >0.00</td>\n",
              "                        <td id=\"T_2a31ef60_0da4_11ec_8b13_0242ac1c0002row2_col9\" class=\"data row2 col9\" >-0.01</td>\n",
              "                        <td id=\"T_2a31ef60_0da4_11ec_8b13_0242ac1c0002row2_col10\" class=\"data row2 col10\" >0.00</td>\n",
              "                        <td id=\"T_2a31ef60_0da4_11ec_8b13_0242ac1c0002row2_col11\" class=\"data row2 col11\" >0.00</td>\n",
              "                        <td id=\"T_2a31ef60_0da4_11ec_8b13_0242ac1c0002row2_col12\" class=\"data row2 col12\" >-0.01</td>\n",
              "                        <td id=\"T_2a31ef60_0da4_11ec_8b13_0242ac1c0002row2_col13\" class=\"data row2 col13\" >0.00</td>\n",
              "                        <td id=\"T_2a31ef60_0da4_11ec_8b13_0242ac1c0002row2_col14\" class=\"data row2 col14\" >-0.02</td>\n",
              "                        <td id=\"T_2a31ef60_0da4_11ec_8b13_0242ac1c0002row2_col15\" class=\"data row2 col15\" >0.00</td>\n",
              "                        <td id=\"T_2a31ef60_0da4_11ec_8b13_0242ac1c0002row2_col16\" class=\"data row2 col16\" >0.00</td>\n",
              "                        <td id=\"T_2a31ef60_0da4_11ec_8b13_0242ac1c0002row2_col17\" class=\"data row2 col17\" >-0.00</td>\n",
              "                        <td id=\"T_2a31ef60_0da4_11ec_8b13_0242ac1c0002row2_col18\" class=\"data row2 col18\" >-0.00</td>\n",
              "                        <td id=\"T_2a31ef60_0da4_11ec_8b13_0242ac1c0002row2_col19\" class=\"data row2 col19\" >-0.00</td>\n",
              "                        <td id=\"T_2a31ef60_0da4_11ec_8b13_0242ac1c0002row2_col20\" class=\"data row2 col20\" >0.00</td>\n",
              "                        <td id=\"T_2a31ef60_0da4_11ec_8b13_0242ac1c0002row2_col21\" class=\"data row2 col21\" >0.01</td>\n",
              "                        <td id=\"T_2a31ef60_0da4_11ec_8b13_0242ac1c0002row2_col22\" class=\"data row2 col22\" >-0.00</td>\n",
              "                        <td id=\"T_2a31ef60_0da4_11ec_8b13_0242ac1c0002row2_col23\" class=\"data row2 col23\" >0.00</td>\n",
              "                        <td id=\"T_2a31ef60_0da4_11ec_8b13_0242ac1c0002row2_col24\" class=\"data row2 col24\" >0.00</td>\n",
              "            </tr>\n",
              "            <tr>\n",
              "                        <th id=\"T_2a31ef60_0da4_11ec_8b13_0242ac1c0002level0_row3\" class=\"row_heading level0 row3\" >PLatd</th>\n",
              "                        <td id=\"T_2a31ef60_0da4_11ec_8b13_0242ac1c0002row3_col0\" class=\"data row3 col0\" >-0.00</td>\n",
              "                        <td id=\"T_2a31ef60_0da4_11ec_8b13_0242ac1c0002row3_col1\" class=\"data row3 col1\" >-0.01</td>\n",
              "                        <td id=\"T_2a31ef60_0da4_11ec_8b13_0242ac1c0002row3_col2\" class=\"data row3 col2\" >0.13</td>\n",
              "                        <td id=\"T_2a31ef60_0da4_11ec_8b13_0242ac1c0002row3_col3\" class=\"data row3 col3\" >1.00</td>\n",
              "                        <td id=\"T_2a31ef60_0da4_11ec_8b13_0242ac1c0002row3_col4\" class=\"data row3 col4\" >0.13</td>\n",
              "                        <td id=\"T_2a31ef60_0da4_11ec_8b13_0242ac1c0002row3_col5\" class=\"data row3 col5\" >0.96</td>\n",
              "                        <td id=\"T_2a31ef60_0da4_11ec_8b13_0242ac1c0002row3_col6\" class=\"data row3 col6\" >0.01</td>\n",
              "                        <td id=\"T_2a31ef60_0da4_11ec_8b13_0242ac1c0002row3_col7\" class=\"data row3 col7\" >0.02</td>\n",
              "                        <td id=\"T_2a31ef60_0da4_11ec_8b13_0242ac1c0002row3_col8\" class=\"data row3 col8\" >0.00</td>\n",
              "                        <td id=\"T_2a31ef60_0da4_11ec_8b13_0242ac1c0002row3_col9\" class=\"data row3 col9\" >0.00</td>\n",
              "                        <td id=\"T_2a31ef60_0da4_11ec_8b13_0242ac1c0002row3_col10\" class=\"data row3 col10\" >0.00</td>\n",
              "                        <td id=\"T_2a31ef60_0da4_11ec_8b13_0242ac1c0002row3_col11\" class=\"data row3 col11\" >0.01</td>\n",
              "                        <td id=\"T_2a31ef60_0da4_11ec_8b13_0242ac1c0002row3_col12\" class=\"data row3 col12\" >0.02</td>\n",
              "                        <td id=\"T_2a31ef60_0da4_11ec_8b13_0242ac1c0002row3_col13\" class=\"data row3 col13\" >0.00</td>\n",
              "                        <td id=\"T_2a31ef60_0da4_11ec_8b13_0242ac1c0002row3_col14\" class=\"data row3 col14\" >0.00</td>\n",
              "                        <td id=\"T_2a31ef60_0da4_11ec_8b13_0242ac1c0002row3_col15\" class=\"data row3 col15\" >-0.00</td>\n",
              "                        <td id=\"T_2a31ef60_0da4_11ec_8b13_0242ac1c0002row3_col16\" class=\"data row3 col16\" >0.01</td>\n",
              "                        <td id=\"T_2a31ef60_0da4_11ec_8b13_0242ac1c0002row3_col17\" class=\"data row3 col17\" >0.00</td>\n",
              "                        <td id=\"T_2a31ef60_0da4_11ec_8b13_0242ac1c0002row3_col18\" class=\"data row3 col18\" >-0.00</td>\n",
              "                        <td id=\"T_2a31ef60_0da4_11ec_8b13_0242ac1c0002row3_col19\" class=\"data row3 col19\" >-0.00</td>\n",
              "                        <td id=\"T_2a31ef60_0da4_11ec_8b13_0242ac1c0002row3_col20\" class=\"data row3 col20\" >-0.00</td>\n",
              "                        <td id=\"T_2a31ef60_0da4_11ec_8b13_0242ac1c0002row3_col21\" class=\"data row3 col21\" >-0.00</td>\n",
              "                        <td id=\"T_2a31ef60_0da4_11ec_8b13_0242ac1c0002row3_col22\" class=\"data row3 col22\" >-0.00</td>\n",
              "                        <td id=\"T_2a31ef60_0da4_11ec_8b13_0242ac1c0002row3_col23\" class=\"data row3 col23\" >0.00</td>\n",
              "                        <td id=\"T_2a31ef60_0da4_11ec_8b13_0242ac1c0002row3_col24\" class=\"data row3 col24\" >-0.00</td>\n",
              "            </tr>\n",
              "            <tr>\n",
              "                        <th id=\"T_2a31ef60_0da4_11ec_8b13_0242ac1c0002level0_row4\" class=\"row_heading level0 row4\" >DLong</th>\n",
              "                        <td id=\"T_2a31ef60_0da4_11ec_8b13_0242ac1c0002row4_col0\" class=\"data row4 col0\" >-0.04</td>\n",
              "                        <td id=\"T_2a31ef60_0da4_11ec_8b13_0242ac1c0002row4_col1\" class=\"data row4 col1\" >-0.04</td>\n",
              "                        <td id=\"T_2a31ef60_0da4_11ec_8b13_0242ac1c0002row4_col2\" class=\"data row4 col2\" >0.93</td>\n",
              "                        <td id=\"T_2a31ef60_0da4_11ec_8b13_0242ac1c0002row4_col3\" class=\"data row4 col3\" >0.13</td>\n",
              "                        <td id=\"T_2a31ef60_0da4_11ec_8b13_0242ac1c0002row4_col4\" class=\"data row4 col4\" >1.00</td>\n",
              "                        <td id=\"T_2a31ef60_0da4_11ec_8b13_0242ac1c0002row4_col5\" class=\"data row4 col5\" >0.13</td>\n",
              "                        <td id=\"T_2a31ef60_0da4_11ec_8b13_0242ac1c0002row4_col6\" class=\"data row4 col6\" >-0.02</td>\n",
              "                        <td id=\"T_2a31ef60_0da4_11ec_8b13_0242ac1c0002row4_col7\" class=\"data row4 col7\" >-0.01</td>\n",
              "                        <td id=\"T_2a31ef60_0da4_11ec_8b13_0242ac1c0002row4_col8\" class=\"data row4 col8\" >0.00</td>\n",
              "                        <td id=\"T_2a31ef60_0da4_11ec_8b13_0242ac1c0002row4_col9\" class=\"data row4 col9\" >-0.01</td>\n",
              "                        <td id=\"T_2a31ef60_0da4_11ec_8b13_0242ac1c0002row4_col10\" class=\"data row4 col10\" >0.00</td>\n",
              "                        <td id=\"T_2a31ef60_0da4_11ec_8b13_0242ac1c0002row4_col11\" class=\"data row4 col11\" >-0.00</td>\n",
              "                        <td id=\"T_2a31ef60_0da4_11ec_8b13_0242ac1c0002row4_col12\" class=\"data row4 col12\" >-0.01</td>\n",
              "                        <td id=\"T_2a31ef60_0da4_11ec_8b13_0242ac1c0002row4_col13\" class=\"data row4 col13\" >0.00</td>\n",
              "                        <td id=\"T_2a31ef60_0da4_11ec_8b13_0242ac1c0002row4_col14\" class=\"data row4 col14\" >-0.01</td>\n",
              "                        <td id=\"T_2a31ef60_0da4_11ec_8b13_0242ac1c0002row4_col15\" class=\"data row4 col15\" >0.00</td>\n",
              "                        <td id=\"T_2a31ef60_0da4_11ec_8b13_0242ac1c0002row4_col16\" class=\"data row4 col16\" >-0.00</td>\n",
              "                        <td id=\"T_2a31ef60_0da4_11ec_8b13_0242ac1c0002row4_col17\" class=\"data row4 col17\" >-0.00</td>\n",
              "                        <td id=\"T_2a31ef60_0da4_11ec_8b13_0242ac1c0002row4_col18\" class=\"data row4 col18\" >-0.00</td>\n",
              "                        <td id=\"T_2a31ef60_0da4_11ec_8b13_0242ac1c0002row4_col19\" class=\"data row4 col19\" >-0.00</td>\n",
              "                        <td id=\"T_2a31ef60_0da4_11ec_8b13_0242ac1c0002row4_col20\" class=\"data row4 col20\" >0.00</td>\n",
              "                        <td id=\"T_2a31ef60_0da4_11ec_8b13_0242ac1c0002row4_col21\" class=\"data row4 col21\" >0.00</td>\n",
              "                        <td id=\"T_2a31ef60_0da4_11ec_8b13_0242ac1c0002row4_col22\" class=\"data row4 col22\" >-0.00</td>\n",
              "                        <td id=\"T_2a31ef60_0da4_11ec_8b13_0242ac1c0002row4_col23\" class=\"data row4 col23\" >0.00</td>\n",
              "                        <td id=\"T_2a31ef60_0da4_11ec_8b13_0242ac1c0002row4_col24\" class=\"data row4 col24\" >0.00</td>\n",
              "            </tr>\n",
              "            <tr>\n",
              "                        <th id=\"T_2a31ef60_0da4_11ec_8b13_0242ac1c0002level0_row5\" class=\"row_heading level0 row5\" >DLatd</th>\n",
              "                        <td id=\"T_2a31ef60_0da4_11ec_8b13_0242ac1c0002row5_col0\" class=\"data row5 col0\" >-0.00</td>\n",
              "                        <td id=\"T_2a31ef60_0da4_11ec_8b13_0242ac1c0002row5_col1\" class=\"data row5 col1\" >-0.01</td>\n",
              "                        <td id=\"T_2a31ef60_0da4_11ec_8b13_0242ac1c0002row5_col2\" class=\"data row5 col2\" >0.13</td>\n",
              "                        <td id=\"T_2a31ef60_0da4_11ec_8b13_0242ac1c0002row5_col3\" class=\"data row5 col3\" >0.96</td>\n",
              "                        <td id=\"T_2a31ef60_0da4_11ec_8b13_0242ac1c0002row5_col4\" class=\"data row5 col4\" >0.13</td>\n",
              "                        <td id=\"T_2a31ef60_0da4_11ec_8b13_0242ac1c0002row5_col5\" class=\"data row5 col5\" >1.00</td>\n",
              "                        <td id=\"T_2a31ef60_0da4_11ec_8b13_0242ac1c0002row5_col6\" class=\"data row5 col6\" >0.01</td>\n",
              "                        <td id=\"T_2a31ef60_0da4_11ec_8b13_0242ac1c0002row5_col7\" class=\"data row5 col7\" >0.02</td>\n",
              "                        <td id=\"T_2a31ef60_0da4_11ec_8b13_0242ac1c0002row5_col8\" class=\"data row5 col8\" >0.00</td>\n",
              "                        <td id=\"T_2a31ef60_0da4_11ec_8b13_0242ac1c0002row5_col9\" class=\"data row5 col9\" >0.01</td>\n",
              "                        <td id=\"T_2a31ef60_0da4_11ec_8b13_0242ac1c0002row5_col10\" class=\"data row5 col10\" >0.00</td>\n",
              "                        <td id=\"T_2a31ef60_0da4_11ec_8b13_0242ac1c0002row5_col11\" class=\"data row5 col11\" >0.01</td>\n",
              "                        <td id=\"T_2a31ef60_0da4_11ec_8b13_0242ac1c0002row5_col12\" class=\"data row5 col12\" >0.02</td>\n",
              "                        <td id=\"T_2a31ef60_0da4_11ec_8b13_0242ac1c0002row5_col13\" class=\"data row5 col13\" >0.00</td>\n",
              "                        <td id=\"T_2a31ef60_0da4_11ec_8b13_0242ac1c0002row5_col14\" class=\"data row5 col14\" >0.00</td>\n",
              "                        <td id=\"T_2a31ef60_0da4_11ec_8b13_0242ac1c0002row5_col15\" class=\"data row5 col15\" >-0.00</td>\n",
              "                        <td id=\"T_2a31ef60_0da4_11ec_8b13_0242ac1c0002row5_col16\" class=\"data row5 col16\" >0.01</td>\n",
              "                        <td id=\"T_2a31ef60_0da4_11ec_8b13_0242ac1c0002row5_col17\" class=\"data row5 col17\" >0.00</td>\n",
              "                        <td id=\"T_2a31ef60_0da4_11ec_8b13_0242ac1c0002row5_col18\" class=\"data row5 col18\" >-0.00</td>\n",
              "                        <td id=\"T_2a31ef60_0da4_11ec_8b13_0242ac1c0002row5_col19\" class=\"data row5 col19\" >-0.00</td>\n",
              "                        <td id=\"T_2a31ef60_0da4_11ec_8b13_0242ac1c0002row5_col20\" class=\"data row5 col20\" >-0.00</td>\n",
              "                        <td id=\"T_2a31ef60_0da4_11ec_8b13_0242ac1c0002row5_col21\" class=\"data row5 col21\" >-0.00</td>\n",
              "                        <td id=\"T_2a31ef60_0da4_11ec_8b13_0242ac1c0002row5_col22\" class=\"data row5 col22\" >-0.00</td>\n",
              "                        <td id=\"T_2a31ef60_0da4_11ec_8b13_0242ac1c0002row5_col23\" class=\"data row5 col23\" >0.00</td>\n",
              "                        <td id=\"T_2a31ef60_0da4_11ec_8b13_0242ac1c0002row5_col24\" class=\"data row5 col24\" >-0.00</td>\n",
              "            </tr>\n",
              "            <tr>\n",
              "                        <th id=\"T_2a31ef60_0da4_11ec_8b13_0242ac1c0002level0_row6\" class=\"row_heading level0 row6\" >Haversine</th>\n",
              "                        <td id=\"T_2a31ef60_0da4_11ec_8b13_0242ac1c0002row6_col0\" class=\"data row6 col0\" >0.35</td>\n",
              "                        <td id=\"T_2a31ef60_0da4_11ec_8b13_0242ac1c0002row6_col1\" class=\"data row6 col1\" >0.58</td>\n",
              "                        <td id=\"T_2a31ef60_0da4_11ec_8b13_0242ac1c0002row6_col2\" class=\"data row6 col2\" >-0.04</td>\n",
              "                        <td id=\"T_2a31ef60_0da4_11ec_8b13_0242ac1c0002row6_col3\" class=\"data row6 col3\" >0.01</td>\n",
              "                        <td id=\"T_2a31ef60_0da4_11ec_8b13_0242ac1c0002row6_col4\" class=\"data row6 col4\" >-0.02</td>\n",
              "                        <td id=\"T_2a31ef60_0da4_11ec_8b13_0242ac1c0002row6_col5\" class=\"data row6 col5\" >0.01</td>\n",
              "                        <td id=\"T_2a31ef60_0da4_11ec_8b13_0242ac1c0002row6_col6\" class=\"data row6 col6\" >1.00</td>\n",
              "                        <td id=\"T_2a31ef60_0da4_11ec_8b13_0242ac1c0002row6_col7\" class=\"data row6 col7\" >-0.03</td>\n",
              "                        <td id=\"T_2a31ef60_0da4_11ec_8b13_0242ac1c0002row6_col8\" class=\"data row6 col8\" >-0.00</td>\n",
              "                        <td id=\"T_2a31ef60_0da4_11ec_8b13_0242ac1c0002row6_col9\" class=\"data row6 col9\" >0.01</td>\n",
              "                        <td id=\"T_2a31ef60_0da4_11ec_8b13_0242ac1c0002row6_col10\" class=\"data row6 col10\" >-0.02</td>\n",
              "                        <td id=\"T_2a31ef60_0da4_11ec_8b13_0242ac1c0002row6_col11\" class=\"data row6 col11\" >-0.00</td>\n",
              "                        <td id=\"T_2a31ef60_0da4_11ec_8b13_0242ac1c0002row6_col12\" class=\"data row6 col12\" >-0.03</td>\n",
              "                        <td id=\"T_2a31ef60_0da4_11ec_8b13_0242ac1c0002row6_col13\" class=\"data row6 col13\" >-0.00</td>\n",
              "                        <td id=\"T_2a31ef60_0da4_11ec_8b13_0242ac1c0002row6_col14\" class=\"data row6 col14\" >0.02</td>\n",
              "                        <td id=\"T_2a31ef60_0da4_11ec_8b13_0242ac1c0002row6_col15\" class=\"data row6 col15\" >0.00</td>\n",
              "                        <td id=\"T_2a31ef60_0da4_11ec_8b13_0242ac1c0002row6_col16\" class=\"data row6 col16\" >-0.00</td>\n",
              "                        <td id=\"T_2a31ef60_0da4_11ec_8b13_0242ac1c0002row6_col17\" class=\"data row6 col17\" >0.03</td>\n",
              "                        <td id=\"T_2a31ef60_0da4_11ec_8b13_0242ac1c0002row6_col18\" class=\"data row6 col18\" >-0.01</td>\n",
              "                        <td id=\"T_2a31ef60_0da4_11ec_8b13_0242ac1c0002row6_col19\" class=\"data row6 col19\" >0.00</td>\n",
              "                        <td id=\"T_2a31ef60_0da4_11ec_8b13_0242ac1c0002row6_col20\" class=\"data row6 col20\" >0.01</td>\n",
              "                        <td id=\"T_2a31ef60_0da4_11ec_8b13_0242ac1c0002row6_col21\" class=\"data row6 col21\" >-0.04</td>\n",
              "                        <td id=\"T_2a31ef60_0da4_11ec_8b13_0242ac1c0002row6_col22\" class=\"data row6 col22\" >-0.01</td>\n",
              "                        <td id=\"T_2a31ef60_0da4_11ec_8b13_0242ac1c0002row6_col23\" class=\"data row6 col23\" >0.00</td>\n",
              "                        <td id=\"T_2a31ef60_0da4_11ec_8b13_0242ac1c0002row6_col24\" class=\"data row6 col24\" >-0.02</td>\n",
              "            </tr>\n",
              "            <tr>\n",
              "                        <th id=\"T_2a31ef60_0da4_11ec_8b13_0242ac1c0002level0_row7\" class=\"row_heading level0 row7\" >Pmonth</th>\n",
              "                        <td id=\"T_2a31ef60_0da4_11ec_8b13_0242ac1c0002row7_col0\" class=\"data row7 col0\" >-0.05</td>\n",
              "                        <td id=\"T_2a31ef60_0da4_11ec_8b13_0242ac1c0002row7_col1\" class=\"data row7 col1\" >-0.04</td>\n",
              "                        <td id=\"T_2a31ef60_0da4_11ec_8b13_0242ac1c0002row7_col2\" class=\"data row7 col2\" >-0.01</td>\n",
              "                        <td id=\"T_2a31ef60_0da4_11ec_8b13_0242ac1c0002row7_col3\" class=\"data row7 col3\" >0.02</td>\n",
              "                        <td id=\"T_2a31ef60_0da4_11ec_8b13_0242ac1c0002row7_col4\" class=\"data row7 col4\" >-0.01</td>\n",
              "                        <td id=\"T_2a31ef60_0da4_11ec_8b13_0242ac1c0002row7_col5\" class=\"data row7 col5\" >0.02</td>\n",
              "                        <td id=\"T_2a31ef60_0da4_11ec_8b13_0242ac1c0002row7_col6\" class=\"data row7 col6\" >-0.03</td>\n",
              "                        <td id=\"T_2a31ef60_0da4_11ec_8b13_0242ac1c0002row7_col7\" class=\"data row7 col7\" >1.00</td>\n",
              "                        <td id=\"T_2a31ef60_0da4_11ec_8b13_0242ac1c0002row7_col8\" class=\"data row7 col8\" >-0.07</td>\n",
              "                        <td id=\"T_2a31ef60_0da4_11ec_8b13_0242ac1c0002row7_col9\" class=\"data row7 col9\" >-0.02</td>\n",
              "                        <td id=\"T_2a31ef60_0da4_11ec_8b13_0242ac1c0002row7_col10\" class=\"data row7 col10\" >-0.00</td>\n",
              "                        <td id=\"T_2a31ef60_0da4_11ec_8b13_0242ac1c0002row7_col11\" class=\"data row7 col11\" >-0.01</td>\n",
              "                        <td id=\"T_2a31ef60_0da4_11ec_8b13_0242ac1c0002row7_col12\" class=\"data row7 col12\" >1.00</td>\n",
              "                        <td id=\"T_2a31ef60_0da4_11ec_8b13_0242ac1c0002row7_col13\" class=\"data row7 col13\" >-0.07</td>\n",
              "                        <td id=\"T_2a31ef60_0da4_11ec_8b13_0242ac1c0002row7_col14\" class=\"data row7 col14\" >-0.02</td>\n",
              "                        <td id=\"T_2a31ef60_0da4_11ec_8b13_0242ac1c0002row7_col15\" class=\"data row7 col15\" >0.00</td>\n",
              "                        <td id=\"T_2a31ef60_0da4_11ec_8b13_0242ac1c0002row7_col16\" class=\"data row7 col16\" >-0.01</td>\n",
              "                        <td id=\"T_2a31ef60_0da4_11ec_8b13_0242ac1c0002row7_col17\" class=\"data row7 col17\" >-0.11</td>\n",
              "                        <td id=\"T_2a31ef60_0da4_11ec_8b13_0242ac1c0002row7_col18\" class=\"data row7 col18\" >-0.00</td>\n",
              "                        <td id=\"T_2a31ef60_0da4_11ec_8b13_0242ac1c0002row7_col19\" class=\"data row7 col19\" >-0.18</td>\n",
              "                        <td id=\"T_2a31ef60_0da4_11ec_8b13_0242ac1c0002row7_col20\" class=\"data row7 col20\" >0.02</td>\n",
              "                        <td id=\"T_2a31ef60_0da4_11ec_8b13_0242ac1c0002row7_col21\" class=\"data row7 col21\" >-0.14</td>\n",
              "                        <td id=\"T_2a31ef60_0da4_11ec_8b13_0242ac1c0002row7_col22\" class=\"data row7 col22\" >-0.01</td>\n",
              "                        <td id=\"T_2a31ef60_0da4_11ec_8b13_0242ac1c0002row7_col23\" class=\"data row7 col23\" >-0.14</td>\n",
              "                        <td id=\"T_2a31ef60_0da4_11ec_8b13_0242ac1c0002row7_col24\" class=\"data row7 col24\" >-0.08</td>\n",
              "            </tr>\n",
              "            <tr>\n",
              "                        <th id=\"T_2a31ef60_0da4_11ec_8b13_0242ac1c0002level0_row8\" class=\"row_heading level0 row8\" >Pday</th>\n",
              "                        <td id=\"T_2a31ef60_0da4_11ec_8b13_0242ac1c0002row8_col0\" class=\"data row8 col0\" >-0.01</td>\n",
              "                        <td id=\"T_2a31ef60_0da4_11ec_8b13_0242ac1c0002row8_col1\" class=\"data row8 col1\" >-0.01</td>\n",
              "                        <td id=\"T_2a31ef60_0da4_11ec_8b13_0242ac1c0002row8_col2\" class=\"data row8 col2\" >0.00</td>\n",
              "                        <td id=\"T_2a31ef60_0da4_11ec_8b13_0242ac1c0002row8_col3\" class=\"data row8 col3\" >0.00</td>\n",
              "                        <td id=\"T_2a31ef60_0da4_11ec_8b13_0242ac1c0002row8_col4\" class=\"data row8 col4\" >0.00</td>\n",
              "                        <td id=\"T_2a31ef60_0da4_11ec_8b13_0242ac1c0002row8_col5\" class=\"data row8 col5\" >0.00</td>\n",
              "                        <td id=\"T_2a31ef60_0da4_11ec_8b13_0242ac1c0002row8_col6\" class=\"data row8 col6\" >-0.00</td>\n",
              "                        <td id=\"T_2a31ef60_0da4_11ec_8b13_0242ac1c0002row8_col7\" class=\"data row8 col7\" >-0.07</td>\n",
              "                        <td id=\"T_2a31ef60_0da4_11ec_8b13_0242ac1c0002row8_col8\" class=\"data row8 col8\" >1.00</td>\n",
              "                        <td id=\"T_2a31ef60_0da4_11ec_8b13_0242ac1c0002row8_col9\" class=\"data row8 col9\" >-0.01</td>\n",
              "                        <td id=\"T_2a31ef60_0da4_11ec_8b13_0242ac1c0002row8_col10\" class=\"data row8 col10\" >0.00</td>\n",
              "                        <td id=\"T_2a31ef60_0da4_11ec_8b13_0242ac1c0002row8_col11\" class=\"data row8 col11\" >0.01</td>\n",
              "                        <td id=\"T_2a31ef60_0da4_11ec_8b13_0242ac1c0002row8_col12\" class=\"data row8 col12\" >-0.07</td>\n",
              "                        <td id=\"T_2a31ef60_0da4_11ec_8b13_0242ac1c0002row8_col13\" class=\"data row8 col13\" >1.00</td>\n",
              "                        <td id=\"T_2a31ef60_0da4_11ec_8b13_0242ac1c0002row8_col14\" class=\"data row8 col14\" >-0.01</td>\n",
              "                        <td id=\"T_2a31ef60_0da4_11ec_8b13_0242ac1c0002row8_col15\" class=\"data row8 col15\" >0.00</td>\n",
              "                        <td id=\"T_2a31ef60_0da4_11ec_8b13_0242ac1c0002row8_col16\" class=\"data row8 col16\" >0.01</td>\n",
              "                        <td id=\"T_2a31ef60_0da4_11ec_8b13_0242ac1c0002row8_col17\" class=\"data row8 col17\" >-0.03</td>\n",
              "                        <td id=\"T_2a31ef60_0da4_11ec_8b13_0242ac1c0002row8_col18\" class=\"data row8 col18\" >0.01</td>\n",
              "                        <td id=\"T_2a31ef60_0da4_11ec_8b13_0242ac1c0002row8_col19\" class=\"data row8 col19\" >-0.02</td>\n",
              "                        <td id=\"T_2a31ef60_0da4_11ec_8b13_0242ac1c0002row8_col20\" class=\"data row8 col20\" >-0.04</td>\n",
              "                        <td id=\"T_2a31ef60_0da4_11ec_8b13_0242ac1c0002row8_col21\" class=\"data row8 col21\" >-0.00</td>\n",
              "                        <td id=\"T_2a31ef60_0da4_11ec_8b13_0242ac1c0002row8_col22\" class=\"data row8 col22\" >0.05</td>\n",
              "                        <td id=\"T_2a31ef60_0da4_11ec_8b13_0242ac1c0002row8_col23\" class=\"data row8 col23\" >-0.02</td>\n",
              "                        <td id=\"T_2a31ef60_0da4_11ec_8b13_0242ac1c0002row8_col24\" class=\"data row8 col24\" >0.08</td>\n",
              "            </tr>\n",
              "            <tr>\n",
              "                        <th id=\"T_2a31ef60_0da4_11ec_8b13_0242ac1c0002level0_row9\" class=\"row_heading level0 row9\" >Phour</th>\n",
              "                        <td id=\"T_2a31ef60_0da4_11ec_8b13_0242ac1c0002row9_col0\" class=\"data row9 col0\" >0.13</td>\n",
              "                        <td id=\"T_2a31ef60_0da4_11ec_8b13_0242ac1c0002row9_col1\" class=\"data row9 col1\" >0.10</td>\n",
              "                        <td id=\"T_2a31ef60_0da4_11ec_8b13_0242ac1c0002row9_col2\" class=\"data row9 col2\" >-0.01</td>\n",
              "                        <td id=\"T_2a31ef60_0da4_11ec_8b13_0242ac1c0002row9_col3\" class=\"data row9 col3\" >0.00</td>\n",
              "                        <td id=\"T_2a31ef60_0da4_11ec_8b13_0242ac1c0002row9_col4\" class=\"data row9 col4\" >-0.01</td>\n",
              "                        <td id=\"T_2a31ef60_0da4_11ec_8b13_0242ac1c0002row9_col5\" class=\"data row9 col5\" >0.01</td>\n",
              "                        <td id=\"T_2a31ef60_0da4_11ec_8b13_0242ac1c0002row9_col6\" class=\"data row9 col6\" >0.01</td>\n",
              "                        <td id=\"T_2a31ef60_0da4_11ec_8b13_0242ac1c0002row9_col7\" class=\"data row9 col7\" >-0.02</td>\n",
              "                        <td id=\"T_2a31ef60_0da4_11ec_8b13_0242ac1c0002row9_col8\" class=\"data row9 col8\" >-0.01</td>\n",
              "                        <td id=\"T_2a31ef60_0da4_11ec_8b13_0242ac1c0002row9_col9\" class=\"data row9 col9\" >1.00</td>\n",
              "                        <td id=\"T_2a31ef60_0da4_11ec_8b13_0242ac1c0002row9_col10\" class=\"data row9 col10\" >-0.02</td>\n",
              "                        <td id=\"T_2a31ef60_0da4_11ec_8b13_0242ac1c0002row9_col11\" class=\"data row9 col11\" >-0.01</td>\n",
              "                        <td id=\"T_2a31ef60_0da4_11ec_8b13_0242ac1c0002row9_col12\" class=\"data row9 col12\" >-0.02</td>\n",
              "                        <td id=\"T_2a31ef60_0da4_11ec_8b13_0242ac1c0002row9_col13\" class=\"data row9 col13\" >-0.01</td>\n",
              "                        <td id=\"T_2a31ef60_0da4_11ec_8b13_0242ac1c0002row9_col14\" class=\"data row9 col14\" >0.89</td>\n",
              "                        <td id=\"T_2a31ef60_0da4_11ec_8b13_0242ac1c0002row9_col15\" class=\"data row9 col15\" >-0.02</td>\n",
              "                        <td id=\"T_2a31ef60_0da4_11ec_8b13_0242ac1c0002row9_col16\" class=\"data row9 col16\" >-0.01</td>\n",
              "                        <td id=\"T_2a31ef60_0da4_11ec_8b13_0242ac1c0002row9_col17\" class=\"data row9 col17\" >0.17</td>\n",
              "                        <td id=\"T_2a31ef60_0da4_11ec_8b13_0242ac1c0002row9_col18\" class=\"data row9 col18\" >-0.01</td>\n",
              "                        <td id=\"T_2a31ef60_0da4_11ec_8b13_0242ac1c0002row9_col19\" class=\"data row9 col19\" >0.23</td>\n",
              "                        <td id=\"T_2a31ef60_0da4_11ec_8b13_0242ac1c0002row9_col20\" class=\"data row9 col20\" >-0.20</td>\n",
              "                        <td id=\"T_2a31ef60_0da4_11ec_8b13_0242ac1c0002row9_col21\" class=\"data row9 col21\" >-0.08</td>\n",
              "                        <td id=\"T_2a31ef60_0da4_11ec_8b13_0242ac1c0002row9_col22\" class=\"data row9 col22\" >-0.02</td>\n",
              "                        <td id=\"T_2a31ef60_0da4_11ec_8b13_0242ac1c0002row9_col23\" class=\"data row9 col23\" >0.09</td>\n",
              "                        <td id=\"T_2a31ef60_0da4_11ec_8b13_0242ac1c0002row9_col24\" class=\"data row9 col24\" >-0.03</td>\n",
              "            </tr>\n",
              "            <tr>\n",
              "                        <th id=\"T_2a31ef60_0da4_11ec_8b13_0242ac1c0002level0_row10\" class=\"row_heading level0 row10\" >Pmin</th>\n",
              "                        <td id=\"T_2a31ef60_0da4_11ec_8b13_0242ac1c0002row10_col0\" class=\"data row10 col0\" >-0.00</td>\n",
              "                        <td id=\"T_2a31ef60_0da4_11ec_8b13_0242ac1c0002row10_col1\" class=\"data row10 col1\" >-0.01</td>\n",
              "                        <td id=\"T_2a31ef60_0da4_11ec_8b13_0242ac1c0002row10_col2\" class=\"data row10 col2\" >0.00</td>\n",
              "                        <td id=\"T_2a31ef60_0da4_11ec_8b13_0242ac1c0002row10_col3\" class=\"data row10 col3\" >0.00</td>\n",
              "                        <td id=\"T_2a31ef60_0da4_11ec_8b13_0242ac1c0002row10_col4\" class=\"data row10 col4\" >0.00</td>\n",
              "                        <td id=\"T_2a31ef60_0da4_11ec_8b13_0242ac1c0002row10_col5\" class=\"data row10 col5\" >0.00</td>\n",
              "                        <td id=\"T_2a31ef60_0da4_11ec_8b13_0242ac1c0002row10_col6\" class=\"data row10 col6\" >-0.02</td>\n",
              "                        <td id=\"T_2a31ef60_0da4_11ec_8b13_0242ac1c0002row10_col7\" class=\"data row10 col7\" >-0.00</td>\n",
              "                        <td id=\"T_2a31ef60_0da4_11ec_8b13_0242ac1c0002row10_col8\" class=\"data row10 col8\" >0.00</td>\n",
              "                        <td id=\"T_2a31ef60_0da4_11ec_8b13_0242ac1c0002row10_col9\" class=\"data row10 col9\" >-0.02</td>\n",
              "                        <td id=\"T_2a31ef60_0da4_11ec_8b13_0242ac1c0002row10_col10\" class=\"data row10 col10\" >1.00</td>\n",
              "                        <td id=\"T_2a31ef60_0da4_11ec_8b13_0242ac1c0002row10_col11\" class=\"data row10 col11\" >0.00</td>\n",
              "                        <td id=\"T_2a31ef60_0da4_11ec_8b13_0242ac1c0002row10_col12\" class=\"data row10 col12\" >-0.00</td>\n",
              "                        <td id=\"T_2a31ef60_0da4_11ec_8b13_0242ac1c0002row10_col13\" class=\"data row10 col13\" >0.00</td>\n",
              "                        <td id=\"T_2a31ef60_0da4_11ec_8b13_0242ac1c0002row10_col14\" class=\"data row10 col14\" >-0.01</td>\n",
              "                        <td id=\"T_2a31ef60_0da4_11ec_8b13_0242ac1c0002row10_col15\" class=\"data row10 col15\" >0.07</td>\n",
              "                        <td id=\"T_2a31ef60_0da4_11ec_8b13_0242ac1c0002row10_col16\" class=\"data row10 col16\" >0.00</td>\n",
              "                        <td id=\"T_2a31ef60_0da4_11ec_8b13_0242ac1c0002row10_col17\" class=\"data row10 col17\" >0.00</td>\n",
              "                        <td id=\"T_2a31ef60_0da4_11ec_8b13_0242ac1c0002row10_col18\" class=\"data row10 col18\" >0.01</td>\n",
              "                        <td id=\"T_2a31ef60_0da4_11ec_8b13_0242ac1c0002row10_col19\" class=\"data row10 col19\" >0.00</td>\n",
              "                        <td id=\"T_2a31ef60_0da4_11ec_8b13_0242ac1c0002row10_col20\" class=\"data row10 col20\" >-0.00</td>\n",
              "                        <td id=\"T_2a31ef60_0da4_11ec_8b13_0242ac1c0002row10_col21\" class=\"data row10 col21\" >0.03</td>\n",
              "                        <td id=\"T_2a31ef60_0da4_11ec_8b13_0242ac1c0002row10_col22\" class=\"data row10 col22\" >0.00</td>\n",
              "                        <td id=\"T_2a31ef60_0da4_11ec_8b13_0242ac1c0002row10_col23\" class=\"data row10 col23\" >0.01</td>\n",
              "                        <td id=\"T_2a31ef60_0da4_11ec_8b13_0242ac1c0002row10_col24\" class=\"data row10 col24\" >0.01</td>\n",
              "            </tr>\n",
              "            <tr>\n",
              "                        <th id=\"T_2a31ef60_0da4_11ec_8b13_0242ac1c0002level0_row11\" class=\"row_heading level0 row11\" >PDweek</th>\n",
              "                        <td id=\"T_2a31ef60_0da4_11ec_8b13_0242ac1c0002row11_col0\" class=\"data row11 col0\" >0.08</td>\n",
              "                        <td id=\"T_2a31ef60_0da4_11ec_8b13_0242ac1c0002row11_col1\" class=\"data row11 col1\" >0.05</td>\n",
              "                        <td id=\"T_2a31ef60_0da4_11ec_8b13_0242ac1c0002row11_col2\" class=\"data row11 col2\" >0.00</td>\n",
              "                        <td id=\"T_2a31ef60_0da4_11ec_8b13_0242ac1c0002row11_col3\" class=\"data row11 col3\" >0.01</td>\n",
              "                        <td id=\"T_2a31ef60_0da4_11ec_8b13_0242ac1c0002row11_col4\" class=\"data row11 col4\" >-0.00</td>\n",
              "                        <td id=\"T_2a31ef60_0da4_11ec_8b13_0242ac1c0002row11_col5\" class=\"data row11 col5\" >0.01</td>\n",
              "                        <td id=\"T_2a31ef60_0da4_11ec_8b13_0242ac1c0002row11_col6\" class=\"data row11 col6\" >-0.00</td>\n",
              "                        <td id=\"T_2a31ef60_0da4_11ec_8b13_0242ac1c0002row11_col7\" class=\"data row11 col7\" >-0.01</td>\n",
              "                        <td id=\"T_2a31ef60_0da4_11ec_8b13_0242ac1c0002row11_col8\" class=\"data row11 col8\" >0.01</td>\n",
              "                        <td id=\"T_2a31ef60_0da4_11ec_8b13_0242ac1c0002row11_col9\" class=\"data row11 col9\" >-0.01</td>\n",
              "                        <td id=\"T_2a31ef60_0da4_11ec_8b13_0242ac1c0002row11_col10\" class=\"data row11 col10\" >0.00</td>\n",
              "                        <td id=\"T_2a31ef60_0da4_11ec_8b13_0242ac1c0002row11_col11\" class=\"data row11 col11\" >1.00</td>\n",
              "                        <td id=\"T_2a31ef60_0da4_11ec_8b13_0242ac1c0002row11_col12\" class=\"data row11 col12\" >-0.01</td>\n",
              "                        <td id=\"T_2a31ef60_0da4_11ec_8b13_0242ac1c0002row11_col13\" class=\"data row11 col13\" >0.01</td>\n",
              "                        <td id=\"T_2a31ef60_0da4_11ec_8b13_0242ac1c0002row11_col14\" class=\"data row11 col14\" >-0.01</td>\n",
              "                        <td id=\"T_2a31ef60_0da4_11ec_8b13_0242ac1c0002row11_col15\" class=\"data row11 col15\" >-0.01</td>\n",
              "                        <td id=\"T_2a31ef60_0da4_11ec_8b13_0242ac1c0002row11_col16\" class=\"data row11 col16\" >0.99</td>\n",
              "                        <td id=\"T_2a31ef60_0da4_11ec_8b13_0242ac1c0002row11_col17\" class=\"data row11 col17\" >0.04</td>\n",
              "                        <td id=\"T_2a31ef60_0da4_11ec_8b13_0242ac1c0002row11_col18\" class=\"data row11 col18\" >-0.00</td>\n",
              "                        <td id=\"T_2a31ef60_0da4_11ec_8b13_0242ac1c0002row11_col19\" class=\"data row11 col19\" >0.03</td>\n",
              "                        <td id=\"T_2a31ef60_0da4_11ec_8b13_0242ac1c0002row11_col20\" class=\"data row11 col20\" >-0.08</td>\n",
              "                        <td id=\"T_2a31ef60_0da4_11ec_8b13_0242ac1c0002row11_col21\" class=\"data row11 col21\" >0.07</td>\n",
              "                        <td id=\"T_2a31ef60_0da4_11ec_8b13_0242ac1c0002row11_col22\" class=\"data row11 col22\" >0.04</td>\n",
              "                        <td id=\"T_2a31ef60_0da4_11ec_8b13_0242ac1c0002row11_col23\" class=\"data row11 col23\" >0.06</td>\n",
              "                        <td id=\"T_2a31ef60_0da4_11ec_8b13_0242ac1c0002row11_col24\" class=\"data row11 col24\" >-0.05</td>\n",
              "            </tr>\n",
              "            <tr>\n",
              "                        <th id=\"T_2a31ef60_0da4_11ec_8b13_0242ac1c0002level0_row12\" class=\"row_heading level0 row12\" >Dmonth</th>\n",
              "                        <td id=\"T_2a31ef60_0da4_11ec_8b13_0242ac1c0002row12_col0\" class=\"data row12 col0\" >-0.05</td>\n",
              "                        <td id=\"T_2a31ef60_0da4_11ec_8b13_0242ac1c0002row12_col1\" class=\"data row12 col1\" >-0.04</td>\n",
              "                        <td id=\"T_2a31ef60_0da4_11ec_8b13_0242ac1c0002row12_col2\" class=\"data row12 col2\" >-0.01</td>\n",
              "                        <td id=\"T_2a31ef60_0da4_11ec_8b13_0242ac1c0002row12_col3\" class=\"data row12 col3\" >0.02</td>\n",
              "                        <td id=\"T_2a31ef60_0da4_11ec_8b13_0242ac1c0002row12_col4\" class=\"data row12 col4\" >-0.01</td>\n",
              "                        <td id=\"T_2a31ef60_0da4_11ec_8b13_0242ac1c0002row12_col5\" class=\"data row12 col5\" >0.02</td>\n",
              "                        <td id=\"T_2a31ef60_0da4_11ec_8b13_0242ac1c0002row12_col6\" class=\"data row12 col6\" >-0.03</td>\n",
              "                        <td id=\"T_2a31ef60_0da4_11ec_8b13_0242ac1c0002row12_col7\" class=\"data row12 col7\" >1.00</td>\n",
              "                        <td id=\"T_2a31ef60_0da4_11ec_8b13_0242ac1c0002row12_col8\" class=\"data row12 col8\" >-0.07</td>\n",
              "                        <td id=\"T_2a31ef60_0da4_11ec_8b13_0242ac1c0002row12_col9\" class=\"data row12 col9\" >-0.02</td>\n",
              "                        <td id=\"T_2a31ef60_0da4_11ec_8b13_0242ac1c0002row12_col10\" class=\"data row12 col10\" >-0.00</td>\n",
              "                        <td id=\"T_2a31ef60_0da4_11ec_8b13_0242ac1c0002row12_col11\" class=\"data row12 col11\" >-0.01</td>\n",
              "                        <td id=\"T_2a31ef60_0da4_11ec_8b13_0242ac1c0002row12_col12\" class=\"data row12 col12\" >1.00</td>\n",
              "                        <td id=\"T_2a31ef60_0da4_11ec_8b13_0242ac1c0002row12_col13\" class=\"data row12 col13\" >-0.07</td>\n",
              "                        <td id=\"T_2a31ef60_0da4_11ec_8b13_0242ac1c0002row12_col14\" class=\"data row12 col14\" >-0.02</td>\n",
              "                        <td id=\"T_2a31ef60_0da4_11ec_8b13_0242ac1c0002row12_col15\" class=\"data row12 col15\" >0.00</td>\n",
              "                        <td id=\"T_2a31ef60_0da4_11ec_8b13_0242ac1c0002row12_col16\" class=\"data row12 col16\" >-0.01</td>\n",
              "                        <td id=\"T_2a31ef60_0da4_11ec_8b13_0242ac1c0002row12_col17\" class=\"data row12 col17\" >-0.11</td>\n",
              "                        <td id=\"T_2a31ef60_0da4_11ec_8b13_0242ac1c0002row12_col18\" class=\"data row12 col18\" >-0.00</td>\n",
              "                        <td id=\"T_2a31ef60_0da4_11ec_8b13_0242ac1c0002row12_col19\" class=\"data row12 col19\" >-0.18</td>\n",
              "                        <td id=\"T_2a31ef60_0da4_11ec_8b13_0242ac1c0002row12_col20\" class=\"data row12 col20\" >0.02</td>\n",
              "                        <td id=\"T_2a31ef60_0da4_11ec_8b13_0242ac1c0002row12_col21\" class=\"data row12 col21\" >-0.14</td>\n",
              "                        <td id=\"T_2a31ef60_0da4_11ec_8b13_0242ac1c0002row12_col22\" class=\"data row12 col22\" >-0.01</td>\n",
              "                        <td id=\"T_2a31ef60_0da4_11ec_8b13_0242ac1c0002row12_col23\" class=\"data row12 col23\" >-0.14</td>\n",
              "                        <td id=\"T_2a31ef60_0da4_11ec_8b13_0242ac1c0002row12_col24\" class=\"data row12 col24\" >-0.08</td>\n",
              "            </tr>\n",
              "            <tr>\n",
              "                        <th id=\"T_2a31ef60_0da4_11ec_8b13_0242ac1c0002level0_row13\" class=\"row_heading level0 row13\" >Dday</th>\n",
              "                        <td id=\"T_2a31ef60_0da4_11ec_8b13_0242ac1c0002row13_col0\" class=\"data row13 col0\" >-0.01</td>\n",
              "                        <td id=\"T_2a31ef60_0da4_11ec_8b13_0242ac1c0002row13_col1\" class=\"data row13 col1\" >-0.01</td>\n",
              "                        <td id=\"T_2a31ef60_0da4_11ec_8b13_0242ac1c0002row13_col2\" class=\"data row13 col2\" >0.00</td>\n",
              "                        <td id=\"T_2a31ef60_0da4_11ec_8b13_0242ac1c0002row13_col3\" class=\"data row13 col3\" >0.00</td>\n",
              "                        <td id=\"T_2a31ef60_0da4_11ec_8b13_0242ac1c0002row13_col4\" class=\"data row13 col4\" >0.00</td>\n",
              "                        <td id=\"T_2a31ef60_0da4_11ec_8b13_0242ac1c0002row13_col5\" class=\"data row13 col5\" >0.00</td>\n",
              "                        <td id=\"T_2a31ef60_0da4_11ec_8b13_0242ac1c0002row13_col6\" class=\"data row13 col6\" >-0.00</td>\n",
              "                        <td id=\"T_2a31ef60_0da4_11ec_8b13_0242ac1c0002row13_col7\" class=\"data row13 col7\" >-0.07</td>\n",
              "                        <td id=\"T_2a31ef60_0da4_11ec_8b13_0242ac1c0002row13_col8\" class=\"data row13 col8\" >1.00</td>\n",
              "                        <td id=\"T_2a31ef60_0da4_11ec_8b13_0242ac1c0002row13_col9\" class=\"data row13 col9\" >-0.01</td>\n",
              "                        <td id=\"T_2a31ef60_0da4_11ec_8b13_0242ac1c0002row13_col10\" class=\"data row13 col10\" >0.00</td>\n",
              "                        <td id=\"T_2a31ef60_0da4_11ec_8b13_0242ac1c0002row13_col11\" class=\"data row13 col11\" >0.01</td>\n",
              "                        <td id=\"T_2a31ef60_0da4_11ec_8b13_0242ac1c0002row13_col12\" class=\"data row13 col12\" >-0.07</td>\n",
              "                        <td id=\"T_2a31ef60_0da4_11ec_8b13_0242ac1c0002row13_col13\" class=\"data row13 col13\" >1.00</td>\n",
              "                        <td id=\"T_2a31ef60_0da4_11ec_8b13_0242ac1c0002row13_col14\" class=\"data row13 col14\" >-0.01</td>\n",
              "                        <td id=\"T_2a31ef60_0da4_11ec_8b13_0242ac1c0002row13_col15\" class=\"data row13 col15\" >0.00</td>\n",
              "                        <td id=\"T_2a31ef60_0da4_11ec_8b13_0242ac1c0002row13_col16\" class=\"data row13 col16\" >0.01</td>\n",
              "                        <td id=\"T_2a31ef60_0da4_11ec_8b13_0242ac1c0002row13_col17\" class=\"data row13 col17\" >-0.03</td>\n",
              "                        <td id=\"T_2a31ef60_0da4_11ec_8b13_0242ac1c0002row13_col18\" class=\"data row13 col18\" >0.01</td>\n",
              "                        <td id=\"T_2a31ef60_0da4_11ec_8b13_0242ac1c0002row13_col19\" class=\"data row13 col19\" >-0.02</td>\n",
              "                        <td id=\"T_2a31ef60_0da4_11ec_8b13_0242ac1c0002row13_col20\" class=\"data row13 col20\" >-0.04</td>\n",
              "                        <td id=\"T_2a31ef60_0da4_11ec_8b13_0242ac1c0002row13_col21\" class=\"data row13 col21\" >-0.00</td>\n",
              "                        <td id=\"T_2a31ef60_0da4_11ec_8b13_0242ac1c0002row13_col22\" class=\"data row13 col22\" >0.05</td>\n",
              "                        <td id=\"T_2a31ef60_0da4_11ec_8b13_0242ac1c0002row13_col23\" class=\"data row13 col23\" >-0.02</td>\n",
              "                        <td id=\"T_2a31ef60_0da4_11ec_8b13_0242ac1c0002row13_col24\" class=\"data row13 col24\" >0.08</td>\n",
              "            </tr>\n",
              "            <tr>\n",
              "                        <th id=\"T_2a31ef60_0da4_11ec_8b13_0242ac1c0002level0_row14\" class=\"row_heading level0 row14\" >Dhour</th>\n",
              "                        <td id=\"T_2a31ef60_0da4_11ec_8b13_0242ac1c0002row14_col0\" class=\"data row14 col0\" >0.14</td>\n",
              "                        <td id=\"T_2a31ef60_0da4_11ec_8b13_0242ac1c0002row14_col1\" class=\"data row14 col1\" >0.10</td>\n",
              "                        <td id=\"T_2a31ef60_0da4_11ec_8b13_0242ac1c0002row14_col2\" class=\"data row14 col2\" >-0.02</td>\n",
              "                        <td id=\"T_2a31ef60_0da4_11ec_8b13_0242ac1c0002row14_col3\" class=\"data row14 col3\" >0.00</td>\n",
              "                        <td id=\"T_2a31ef60_0da4_11ec_8b13_0242ac1c0002row14_col4\" class=\"data row14 col4\" >-0.01</td>\n",
              "                        <td id=\"T_2a31ef60_0da4_11ec_8b13_0242ac1c0002row14_col5\" class=\"data row14 col5\" >0.00</td>\n",
              "                        <td id=\"T_2a31ef60_0da4_11ec_8b13_0242ac1c0002row14_col6\" class=\"data row14 col6\" >0.02</td>\n",
              "                        <td id=\"T_2a31ef60_0da4_11ec_8b13_0242ac1c0002row14_col7\" class=\"data row14 col7\" >-0.02</td>\n",
              "                        <td id=\"T_2a31ef60_0da4_11ec_8b13_0242ac1c0002row14_col8\" class=\"data row14 col8\" >-0.01</td>\n",
              "                        <td id=\"T_2a31ef60_0da4_11ec_8b13_0242ac1c0002row14_col9\" class=\"data row14 col9\" >0.89</td>\n",
              "                        <td id=\"T_2a31ef60_0da4_11ec_8b13_0242ac1c0002row14_col10\" class=\"data row14 col10\" >-0.01</td>\n",
              "                        <td id=\"T_2a31ef60_0da4_11ec_8b13_0242ac1c0002row14_col11\" class=\"data row14 col11\" >-0.01</td>\n",
              "                        <td id=\"T_2a31ef60_0da4_11ec_8b13_0242ac1c0002row14_col12\" class=\"data row14 col12\" >-0.02</td>\n",
              "                        <td id=\"T_2a31ef60_0da4_11ec_8b13_0242ac1c0002row14_col13\" class=\"data row14 col13\" >-0.01</td>\n",
              "                        <td id=\"T_2a31ef60_0da4_11ec_8b13_0242ac1c0002row14_col14\" class=\"data row14 col14\" >1.00</td>\n",
              "                        <td id=\"T_2a31ef60_0da4_11ec_8b13_0242ac1c0002row14_col15\" class=\"data row14 col15\" >-0.02</td>\n",
              "                        <td id=\"T_2a31ef60_0da4_11ec_8b13_0242ac1c0002row14_col16\" class=\"data row14 col16\" >-0.01</td>\n",
              "                        <td id=\"T_2a31ef60_0da4_11ec_8b13_0242ac1c0002row14_col17\" class=\"data row14 col17\" >0.17</td>\n",
              "                        <td id=\"T_2a31ef60_0da4_11ec_8b13_0242ac1c0002row14_col18\" class=\"data row14 col18\" >-0.01</td>\n",
              "                        <td id=\"T_2a31ef60_0da4_11ec_8b13_0242ac1c0002row14_col19\" class=\"data row14 col19\" >0.25</td>\n",
              "                        <td id=\"T_2a31ef60_0da4_11ec_8b13_0242ac1c0002row14_col20\" class=\"data row14 col20\" >-0.23</td>\n",
              "                        <td id=\"T_2a31ef60_0da4_11ec_8b13_0242ac1c0002row14_col21\" class=\"data row14 col21\" >-0.03</td>\n",
              "                        <td id=\"T_2a31ef60_0da4_11ec_8b13_0242ac1c0002row14_col22\" class=\"data row14 col22\" >-0.02</td>\n",
              "                        <td id=\"T_2a31ef60_0da4_11ec_8b13_0242ac1c0002row14_col23\" class=\"data row14 col23\" >0.11</td>\n",
              "                        <td id=\"T_2a31ef60_0da4_11ec_8b13_0242ac1c0002row14_col24\" class=\"data row14 col24\" >-0.01</td>\n",
              "            </tr>\n",
              "            <tr>\n",
              "                        <th id=\"T_2a31ef60_0da4_11ec_8b13_0242ac1c0002level0_row15\" class=\"row_heading level0 row15\" >Dmin</th>\n",
              "                        <td id=\"T_2a31ef60_0da4_11ec_8b13_0242ac1c0002row15_col0\" class=\"data row15 col0\" >-0.01</td>\n",
              "                        <td id=\"T_2a31ef60_0da4_11ec_8b13_0242ac1c0002row15_col1\" class=\"data row15 col1\" >-0.01</td>\n",
              "                        <td id=\"T_2a31ef60_0da4_11ec_8b13_0242ac1c0002row15_col2\" class=\"data row15 col2\" >0.00</td>\n",
              "                        <td id=\"T_2a31ef60_0da4_11ec_8b13_0242ac1c0002row15_col3\" class=\"data row15 col3\" >-0.00</td>\n",
              "                        <td id=\"T_2a31ef60_0da4_11ec_8b13_0242ac1c0002row15_col4\" class=\"data row15 col4\" >0.00</td>\n",
              "                        <td id=\"T_2a31ef60_0da4_11ec_8b13_0242ac1c0002row15_col5\" class=\"data row15 col5\" >-0.00</td>\n",
              "                        <td id=\"T_2a31ef60_0da4_11ec_8b13_0242ac1c0002row15_col6\" class=\"data row15 col6\" >0.00</td>\n",
              "                        <td id=\"T_2a31ef60_0da4_11ec_8b13_0242ac1c0002row15_col7\" class=\"data row15 col7\" >0.00</td>\n",
              "                        <td id=\"T_2a31ef60_0da4_11ec_8b13_0242ac1c0002row15_col8\" class=\"data row15 col8\" >0.00</td>\n",
              "                        <td id=\"T_2a31ef60_0da4_11ec_8b13_0242ac1c0002row15_col9\" class=\"data row15 col9\" >-0.02</td>\n",
              "                        <td id=\"T_2a31ef60_0da4_11ec_8b13_0242ac1c0002row15_col10\" class=\"data row15 col10\" >0.07</td>\n",
              "                        <td id=\"T_2a31ef60_0da4_11ec_8b13_0242ac1c0002row15_col11\" class=\"data row15 col11\" >-0.01</td>\n",
              "                        <td id=\"T_2a31ef60_0da4_11ec_8b13_0242ac1c0002row15_col12\" class=\"data row15 col12\" >0.00</td>\n",
              "                        <td id=\"T_2a31ef60_0da4_11ec_8b13_0242ac1c0002row15_col13\" class=\"data row15 col13\" >0.00</td>\n",
              "                        <td id=\"T_2a31ef60_0da4_11ec_8b13_0242ac1c0002row15_col14\" class=\"data row15 col14\" >-0.02</td>\n",
              "                        <td id=\"T_2a31ef60_0da4_11ec_8b13_0242ac1c0002row15_col15\" class=\"data row15 col15\" >1.00</td>\n",
              "                        <td id=\"T_2a31ef60_0da4_11ec_8b13_0242ac1c0002row15_col16\" class=\"data row15 col16\" >-0.01</td>\n",
              "                        <td id=\"T_2a31ef60_0da4_11ec_8b13_0242ac1c0002row15_col17\" class=\"data row15 col17\" >-0.01</td>\n",
              "                        <td id=\"T_2a31ef60_0da4_11ec_8b13_0242ac1c0002row15_col18\" class=\"data row15 col18\" >0.00</td>\n",
              "                        <td id=\"T_2a31ef60_0da4_11ec_8b13_0242ac1c0002row15_col19\" class=\"data row15 col19\" >-0.01</td>\n",
              "                        <td id=\"T_2a31ef60_0da4_11ec_8b13_0242ac1c0002row15_col20\" class=\"data row15 col20\" >0.01</td>\n",
              "                        <td id=\"T_2a31ef60_0da4_11ec_8b13_0242ac1c0002row15_col21\" class=\"data row15 col21\" >0.00</td>\n",
              "                        <td id=\"T_2a31ef60_0da4_11ec_8b13_0242ac1c0002row15_col22\" class=\"data row15 col22\" >0.00</td>\n",
              "                        <td id=\"T_2a31ef60_0da4_11ec_8b13_0242ac1c0002row15_col23\" class=\"data row15 col23\" >-0.01</td>\n",
              "                        <td id=\"T_2a31ef60_0da4_11ec_8b13_0242ac1c0002row15_col24\" class=\"data row15 col24\" >0.00</td>\n",
              "            </tr>\n",
              "            <tr>\n",
              "                        <th id=\"T_2a31ef60_0da4_11ec_8b13_0242ac1c0002level0_row16\" class=\"row_heading level0 row16\" >DDweek</th>\n",
              "                        <td id=\"T_2a31ef60_0da4_11ec_8b13_0242ac1c0002row16_col0\" class=\"data row16 col0\" >0.08</td>\n",
              "                        <td id=\"T_2a31ef60_0da4_11ec_8b13_0242ac1c0002row16_col1\" class=\"data row16 col1\" >0.05</td>\n",
              "                        <td id=\"T_2a31ef60_0da4_11ec_8b13_0242ac1c0002row16_col2\" class=\"data row16 col2\" >0.00</td>\n",
              "                        <td id=\"T_2a31ef60_0da4_11ec_8b13_0242ac1c0002row16_col3\" class=\"data row16 col3\" >0.01</td>\n",
              "                        <td id=\"T_2a31ef60_0da4_11ec_8b13_0242ac1c0002row16_col4\" class=\"data row16 col4\" >-0.00</td>\n",
              "                        <td id=\"T_2a31ef60_0da4_11ec_8b13_0242ac1c0002row16_col5\" class=\"data row16 col5\" >0.01</td>\n",
              "                        <td id=\"T_2a31ef60_0da4_11ec_8b13_0242ac1c0002row16_col6\" class=\"data row16 col6\" >-0.00</td>\n",
              "                        <td id=\"T_2a31ef60_0da4_11ec_8b13_0242ac1c0002row16_col7\" class=\"data row16 col7\" >-0.01</td>\n",
              "                        <td id=\"T_2a31ef60_0da4_11ec_8b13_0242ac1c0002row16_col8\" class=\"data row16 col8\" >0.01</td>\n",
              "                        <td id=\"T_2a31ef60_0da4_11ec_8b13_0242ac1c0002row16_col9\" class=\"data row16 col9\" >-0.01</td>\n",
              "                        <td id=\"T_2a31ef60_0da4_11ec_8b13_0242ac1c0002row16_col10\" class=\"data row16 col10\" >0.00</td>\n",
              "                        <td id=\"T_2a31ef60_0da4_11ec_8b13_0242ac1c0002row16_col11\" class=\"data row16 col11\" >0.99</td>\n",
              "                        <td id=\"T_2a31ef60_0da4_11ec_8b13_0242ac1c0002row16_col12\" class=\"data row16 col12\" >-0.01</td>\n",
              "                        <td id=\"T_2a31ef60_0da4_11ec_8b13_0242ac1c0002row16_col13\" class=\"data row16 col13\" >0.01</td>\n",
              "                        <td id=\"T_2a31ef60_0da4_11ec_8b13_0242ac1c0002row16_col14\" class=\"data row16 col14\" >-0.01</td>\n",
              "                        <td id=\"T_2a31ef60_0da4_11ec_8b13_0242ac1c0002row16_col15\" class=\"data row16 col15\" >-0.01</td>\n",
              "                        <td id=\"T_2a31ef60_0da4_11ec_8b13_0242ac1c0002row16_col16\" class=\"data row16 col16\" >1.00</td>\n",
              "                        <td id=\"T_2a31ef60_0da4_11ec_8b13_0242ac1c0002row16_col17\" class=\"data row16 col17\" >0.04</td>\n",
              "                        <td id=\"T_2a31ef60_0da4_11ec_8b13_0242ac1c0002row16_col18\" class=\"data row16 col18\" >-0.00</td>\n",
              "                        <td id=\"T_2a31ef60_0da4_11ec_8b13_0242ac1c0002row16_col19\" class=\"data row16 col19\" >0.03</td>\n",
              "                        <td id=\"T_2a31ef60_0da4_11ec_8b13_0242ac1c0002row16_col20\" class=\"data row16 col20\" >-0.08</td>\n",
              "                        <td id=\"T_2a31ef60_0da4_11ec_8b13_0242ac1c0002row16_col21\" class=\"data row16 col21\" >0.07</td>\n",
              "                        <td id=\"T_2a31ef60_0da4_11ec_8b13_0242ac1c0002row16_col22\" class=\"data row16 col22\" >0.04</td>\n",
              "                        <td id=\"T_2a31ef60_0da4_11ec_8b13_0242ac1c0002row16_col23\" class=\"data row16 col23\" >0.06</td>\n",
              "                        <td id=\"T_2a31ef60_0da4_11ec_8b13_0242ac1c0002row16_col24\" class=\"data row16 col24\" >-0.05</td>\n",
              "            </tr>\n",
              "            <tr>\n",
              "                        <th id=\"T_2a31ef60_0da4_11ec_8b13_0242ac1c0002level0_row17\" class=\"row_heading level0 row17\" >Temp</th>\n",
              "                        <td id=\"T_2a31ef60_0da4_11ec_8b13_0242ac1c0002row17_col0\" class=\"data row17 col0\" >0.13</td>\n",
              "                        <td id=\"T_2a31ef60_0da4_11ec_8b13_0242ac1c0002row17_col1\" class=\"data row17 col1\" >0.10</td>\n",
              "                        <td id=\"T_2a31ef60_0da4_11ec_8b13_0242ac1c0002row17_col2\" class=\"data row17 col2\" >-0.00</td>\n",
              "                        <td id=\"T_2a31ef60_0da4_11ec_8b13_0242ac1c0002row17_col3\" class=\"data row17 col3\" >0.00</td>\n",
              "                        <td id=\"T_2a31ef60_0da4_11ec_8b13_0242ac1c0002row17_col4\" class=\"data row17 col4\" >-0.00</td>\n",
              "                        <td id=\"T_2a31ef60_0da4_11ec_8b13_0242ac1c0002row17_col5\" class=\"data row17 col5\" >0.00</td>\n",
              "                        <td id=\"T_2a31ef60_0da4_11ec_8b13_0242ac1c0002row17_col6\" class=\"data row17 col6\" >0.03</td>\n",
              "                        <td id=\"T_2a31ef60_0da4_11ec_8b13_0242ac1c0002row17_col7\" class=\"data row17 col7\" >-0.11</td>\n",
              "                        <td id=\"T_2a31ef60_0da4_11ec_8b13_0242ac1c0002row17_col8\" class=\"data row17 col8\" >-0.03</td>\n",
              "                        <td id=\"T_2a31ef60_0da4_11ec_8b13_0242ac1c0002row17_col9\" class=\"data row17 col9\" >0.17</td>\n",
              "                        <td id=\"T_2a31ef60_0da4_11ec_8b13_0242ac1c0002row17_col10\" class=\"data row17 col10\" >0.00</td>\n",
              "                        <td id=\"T_2a31ef60_0da4_11ec_8b13_0242ac1c0002row17_col11\" class=\"data row17 col11\" >0.04</td>\n",
              "                        <td id=\"T_2a31ef60_0da4_11ec_8b13_0242ac1c0002row17_col12\" class=\"data row17 col12\" >-0.11</td>\n",
              "                        <td id=\"T_2a31ef60_0da4_11ec_8b13_0242ac1c0002row17_col13\" class=\"data row17 col13\" >-0.03</td>\n",
              "                        <td id=\"T_2a31ef60_0da4_11ec_8b13_0242ac1c0002row17_col14\" class=\"data row17 col14\" >0.17</td>\n",
              "                        <td id=\"T_2a31ef60_0da4_11ec_8b13_0242ac1c0002row17_col15\" class=\"data row17 col15\" >-0.01</td>\n",
              "                        <td id=\"T_2a31ef60_0da4_11ec_8b13_0242ac1c0002row17_col16\" class=\"data row17 col16\" >0.04</td>\n",
              "                        <td id=\"T_2a31ef60_0da4_11ec_8b13_0242ac1c0002row17_col17\" class=\"data row17 col17\" >1.00</td>\n",
              "                        <td id=\"T_2a31ef60_0da4_11ec_8b13_0242ac1c0002row17_col18\" class=\"data row17 col18\" >0.01</td>\n",
              "                        <td id=\"T_2a31ef60_0da4_11ec_8b13_0242ac1c0002row17_col19\" class=\"data row17 col19\" >0.08</td>\n",
              "                        <td id=\"T_2a31ef60_0da4_11ec_8b13_0242ac1c0002row17_col20\" class=\"data row17 col20\" >0.08</td>\n",
              "                        <td id=\"T_2a31ef60_0da4_11ec_8b13_0242ac1c0002row17_col21\" class=\"data row17 col21\" >0.28</td>\n",
              "                        <td id=\"T_2a31ef60_0da4_11ec_8b13_0242ac1c0002row17_col22\" class=\"data row17 col22\" >-0.12</td>\n",
              "                        <td id=\"T_2a31ef60_0da4_11ec_8b13_0242ac1c0002row17_col23\" class=\"data row17 col23\" >0.90</td>\n",
              "                        <td id=\"T_2a31ef60_0da4_11ec_8b13_0242ac1c0002row17_col24\" class=\"data row17 col24\" >-0.23</td>\n",
              "            </tr>\n",
              "            <tr>\n",
              "                        <th id=\"T_2a31ef60_0da4_11ec_8b13_0242ac1c0002level0_row18\" class=\"row_heading level0 row18\" >Precip</th>\n",
              "                        <td id=\"T_2a31ef60_0da4_11ec_8b13_0242ac1c0002row18_col0\" class=\"data row18 col0\" >-0.01</td>\n",
              "                        <td id=\"T_2a31ef60_0da4_11ec_8b13_0242ac1c0002row18_col1\" class=\"data row18 col1\" >-0.01</td>\n",
              "                        <td id=\"T_2a31ef60_0da4_11ec_8b13_0242ac1c0002row18_col2\" class=\"data row18 col2\" >-0.00</td>\n",
              "                        <td id=\"T_2a31ef60_0da4_11ec_8b13_0242ac1c0002row18_col3\" class=\"data row18 col3\" >-0.00</td>\n",
              "                        <td id=\"T_2a31ef60_0da4_11ec_8b13_0242ac1c0002row18_col4\" class=\"data row18 col4\" >-0.00</td>\n",
              "                        <td id=\"T_2a31ef60_0da4_11ec_8b13_0242ac1c0002row18_col5\" class=\"data row18 col5\" >-0.00</td>\n",
              "                        <td id=\"T_2a31ef60_0da4_11ec_8b13_0242ac1c0002row18_col6\" class=\"data row18 col6\" >-0.01</td>\n",
              "                        <td id=\"T_2a31ef60_0da4_11ec_8b13_0242ac1c0002row18_col7\" class=\"data row18 col7\" >-0.00</td>\n",
              "                        <td id=\"T_2a31ef60_0da4_11ec_8b13_0242ac1c0002row18_col8\" class=\"data row18 col8\" >0.01</td>\n",
              "                        <td id=\"T_2a31ef60_0da4_11ec_8b13_0242ac1c0002row18_col9\" class=\"data row18 col9\" >-0.01</td>\n",
              "                        <td id=\"T_2a31ef60_0da4_11ec_8b13_0242ac1c0002row18_col10\" class=\"data row18 col10\" >0.01</td>\n",
              "                        <td id=\"T_2a31ef60_0da4_11ec_8b13_0242ac1c0002row18_col11\" class=\"data row18 col11\" >-0.00</td>\n",
              "                        <td id=\"T_2a31ef60_0da4_11ec_8b13_0242ac1c0002row18_col12\" class=\"data row18 col12\" >-0.00</td>\n",
              "                        <td id=\"T_2a31ef60_0da4_11ec_8b13_0242ac1c0002row18_col13\" class=\"data row18 col13\" >0.01</td>\n",
              "                        <td id=\"T_2a31ef60_0da4_11ec_8b13_0242ac1c0002row18_col14\" class=\"data row18 col14\" >-0.01</td>\n",
              "                        <td id=\"T_2a31ef60_0da4_11ec_8b13_0242ac1c0002row18_col15\" class=\"data row18 col15\" >0.00</td>\n",
              "                        <td id=\"T_2a31ef60_0da4_11ec_8b13_0242ac1c0002row18_col16\" class=\"data row18 col16\" >-0.00</td>\n",
              "                        <td id=\"T_2a31ef60_0da4_11ec_8b13_0242ac1c0002row18_col17\" class=\"data row18 col17\" >0.01</td>\n",
              "                        <td id=\"T_2a31ef60_0da4_11ec_8b13_0242ac1c0002row18_col18\" class=\"data row18 col18\" >1.00</td>\n",
              "                        <td id=\"T_2a31ef60_0da4_11ec_8b13_0242ac1c0002row18_col19\" class=\"data row18 col19\" >-0.01</td>\n",
              "                        <td id=\"T_2a31ef60_0da4_11ec_8b13_0242ac1c0002row18_col20\" class=\"data row18 col20\" >0.10</td>\n",
              "                        <td id=\"T_2a31ef60_0da4_11ec_8b13_0242ac1c0002row18_col21\" class=\"data row18 col21\" >-0.03</td>\n",
              "                        <td id=\"T_2a31ef60_0da4_11ec_8b13_0242ac1c0002row18_col22\" class=\"data row18 col22\" >0.01</td>\n",
              "                        <td id=\"T_2a31ef60_0da4_11ec_8b13_0242ac1c0002row18_col23\" class=\"data row18 col23\" >0.00</td>\n",
              "                        <td id=\"T_2a31ef60_0da4_11ec_8b13_0242ac1c0002row18_col24\" class=\"data row18 col24\" >-0.03</td>\n",
              "            </tr>\n",
              "            <tr>\n",
              "                        <th id=\"T_2a31ef60_0da4_11ec_8b13_0242ac1c0002level0_row19\" class=\"row_heading level0 row19\" >Wind</th>\n",
              "                        <td id=\"T_2a31ef60_0da4_11ec_8b13_0242ac1c0002row19_col0\" class=\"data row19 col0\" >0.07</td>\n",
              "                        <td id=\"T_2a31ef60_0da4_11ec_8b13_0242ac1c0002row19_col1\" class=\"data row19 col1\" >0.03</td>\n",
              "                        <td id=\"T_2a31ef60_0da4_11ec_8b13_0242ac1c0002row19_col2\" class=\"data row19 col2\" >-0.00</td>\n",
              "                        <td id=\"T_2a31ef60_0da4_11ec_8b13_0242ac1c0002row19_col3\" class=\"data row19 col3\" >-0.00</td>\n",
              "                        <td id=\"T_2a31ef60_0da4_11ec_8b13_0242ac1c0002row19_col4\" class=\"data row19 col4\" >-0.00</td>\n",
              "                        <td id=\"T_2a31ef60_0da4_11ec_8b13_0242ac1c0002row19_col5\" class=\"data row19 col5\" >-0.00</td>\n",
              "                        <td id=\"T_2a31ef60_0da4_11ec_8b13_0242ac1c0002row19_col6\" class=\"data row19 col6\" >0.00</td>\n",
              "                        <td id=\"T_2a31ef60_0da4_11ec_8b13_0242ac1c0002row19_col7\" class=\"data row19 col7\" >-0.18</td>\n",
              "                        <td id=\"T_2a31ef60_0da4_11ec_8b13_0242ac1c0002row19_col8\" class=\"data row19 col8\" >-0.02</td>\n",
              "                        <td id=\"T_2a31ef60_0da4_11ec_8b13_0242ac1c0002row19_col9\" class=\"data row19 col9\" >0.23</td>\n",
              "                        <td id=\"T_2a31ef60_0da4_11ec_8b13_0242ac1c0002row19_col10\" class=\"data row19 col10\" >0.00</td>\n",
              "                        <td id=\"T_2a31ef60_0da4_11ec_8b13_0242ac1c0002row19_col11\" class=\"data row19 col11\" >0.03</td>\n",
              "                        <td id=\"T_2a31ef60_0da4_11ec_8b13_0242ac1c0002row19_col12\" class=\"data row19 col12\" >-0.18</td>\n",
              "                        <td id=\"T_2a31ef60_0da4_11ec_8b13_0242ac1c0002row19_col13\" class=\"data row19 col13\" >-0.02</td>\n",
              "                        <td id=\"T_2a31ef60_0da4_11ec_8b13_0242ac1c0002row19_col14\" class=\"data row19 col14\" >0.25</td>\n",
              "                        <td id=\"T_2a31ef60_0da4_11ec_8b13_0242ac1c0002row19_col15\" class=\"data row19 col15\" >-0.01</td>\n",
              "                        <td id=\"T_2a31ef60_0da4_11ec_8b13_0242ac1c0002row19_col16\" class=\"data row19 col16\" >0.03</td>\n",
              "                        <td id=\"T_2a31ef60_0da4_11ec_8b13_0242ac1c0002row19_col17\" class=\"data row19 col17\" >0.08</td>\n",
              "                        <td id=\"T_2a31ef60_0da4_11ec_8b13_0242ac1c0002row19_col18\" class=\"data row19 col18\" >-0.01</td>\n",
              "                        <td id=\"T_2a31ef60_0da4_11ec_8b13_0242ac1c0002row19_col19\" class=\"data row19 col19\" >1.00</td>\n",
              "                        <td id=\"T_2a31ef60_0da4_11ec_8b13_0242ac1c0002row19_col20\" class=\"data row19 col20\" >-0.32</td>\n",
              "                        <td id=\"T_2a31ef60_0da4_11ec_8b13_0242ac1c0002row19_col21\" class=\"data row19 col21\" >0.33</td>\n",
              "                        <td id=\"T_2a31ef60_0da4_11ec_8b13_0242ac1c0002row19_col22\" class=\"data row19 col22\" >-0.01</td>\n",
              "                        <td id=\"T_2a31ef60_0da4_11ec_8b13_0242ac1c0002row19_col23\" class=\"data row19 col23\" >0.19</td>\n",
              "                        <td id=\"T_2a31ef60_0da4_11ec_8b13_0242ac1c0002row19_col24\" class=\"data row19 col24\" >0.12</td>\n",
              "            </tr>\n",
              "            <tr>\n",
              "                        <th id=\"T_2a31ef60_0da4_11ec_8b13_0242ac1c0002level0_row20\" class=\"row_heading level0 row20\" >Humid</th>\n",
              "                        <td id=\"T_2a31ef60_0da4_11ec_8b13_0242ac1c0002row20_col0\" class=\"data row20 col0\" >-0.10</td>\n",
              "                        <td id=\"T_2a31ef60_0da4_11ec_8b13_0242ac1c0002row20_col1\" class=\"data row20 col1\" >-0.03</td>\n",
              "                        <td id=\"T_2a31ef60_0da4_11ec_8b13_0242ac1c0002row20_col2\" class=\"data row20 col2\" >0.00</td>\n",
              "                        <td id=\"T_2a31ef60_0da4_11ec_8b13_0242ac1c0002row20_col3\" class=\"data row20 col3\" >-0.00</td>\n",
              "                        <td id=\"T_2a31ef60_0da4_11ec_8b13_0242ac1c0002row20_col4\" class=\"data row20 col4\" >0.00</td>\n",
              "                        <td id=\"T_2a31ef60_0da4_11ec_8b13_0242ac1c0002row20_col5\" class=\"data row20 col5\" >-0.00</td>\n",
              "                        <td id=\"T_2a31ef60_0da4_11ec_8b13_0242ac1c0002row20_col6\" class=\"data row20 col6\" >0.01</td>\n",
              "                        <td id=\"T_2a31ef60_0da4_11ec_8b13_0242ac1c0002row20_col7\" class=\"data row20 col7\" >0.02</td>\n",
              "                        <td id=\"T_2a31ef60_0da4_11ec_8b13_0242ac1c0002row20_col8\" class=\"data row20 col8\" >-0.04</td>\n",
              "                        <td id=\"T_2a31ef60_0da4_11ec_8b13_0242ac1c0002row20_col9\" class=\"data row20 col9\" >-0.20</td>\n",
              "                        <td id=\"T_2a31ef60_0da4_11ec_8b13_0242ac1c0002row20_col10\" class=\"data row20 col10\" >-0.00</td>\n",
              "                        <td id=\"T_2a31ef60_0da4_11ec_8b13_0242ac1c0002row20_col11\" class=\"data row20 col11\" >-0.08</td>\n",
              "                        <td id=\"T_2a31ef60_0da4_11ec_8b13_0242ac1c0002row20_col12\" class=\"data row20 col12\" >0.02</td>\n",
              "                        <td id=\"T_2a31ef60_0da4_11ec_8b13_0242ac1c0002row20_col13\" class=\"data row20 col13\" >-0.04</td>\n",
              "                        <td id=\"T_2a31ef60_0da4_11ec_8b13_0242ac1c0002row20_col14\" class=\"data row20 col14\" >-0.23</td>\n",
              "                        <td id=\"T_2a31ef60_0da4_11ec_8b13_0242ac1c0002row20_col15\" class=\"data row20 col15\" >0.01</td>\n",
              "                        <td id=\"T_2a31ef60_0da4_11ec_8b13_0242ac1c0002row20_col16\" class=\"data row20 col16\" >-0.08</td>\n",
              "                        <td id=\"T_2a31ef60_0da4_11ec_8b13_0242ac1c0002row20_col17\" class=\"data row20 col17\" >0.08</td>\n",
              "                        <td id=\"T_2a31ef60_0da4_11ec_8b13_0242ac1c0002row20_col18\" class=\"data row20 col18\" >0.10</td>\n",
              "                        <td id=\"T_2a31ef60_0da4_11ec_8b13_0242ac1c0002row20_col19\" class=\"data row20 col19\" >-0.32</td>\n",
              "                        <td id=\"T_2a31ef60_0da4_11ec_8b13_0242ac1c0002row20_col20\" class=\"data row20 col20\" >1.00</td>\n",
              "                        <td id=\"T_2a31ef60_0da4_11ec_8b13_0242ac1c0002row20_col21\" class=\"data row20 col21\" >-0.49</td>\n",
              "                        <td id=\"T_2a31ef60_0da4_11ec_8b13_0242ac1c0002row20_col22\" class=\"data row20 col22\" >0.06</td>\n",
              "                        <td id=\"T_2a31ef60_0da4_11ec_8b13_0242ac1c0002row20_col23\" class=\"data row20 col23\" >-0.11</td>\n",
              "                        <td id=\"T_2a31ef60_0da4_11ec_8b13_0242ac1c0002row20_col24\" class=\"data row20 col24\" >-0.19</td>\n",
              "            </tr>\n",
              "            <tr>\n",
              "                        <th id=\"T_2a31ef60_0da4_11ec_8b13_0242ac1c0002level0_row21\" class=\"row_heading level0 row21\" >Solar</th>\n",
              "                        <td id=\"T_2a31ef60_0da4_11ec_8b13_0242ac1c0002row21_col0\" class=\"data row21 col0\" >0.07</td>\n",
              "                        <td id=\"T_2a31ef60_0da4_11ec_8b13_0242ac1c0002row21_col1\" class=\"data row21 col1\" >-0.00</td>\n",
              "                        <td id=\"T_2a31ef60_0da4_11ec_8b13_0242ac1c0002row21_col2\" class=\"data row21 col2\" >0.01</td>\n",
              "                        <td id=\"T_2a31ef60_0da4_11ec_8b13_0242ac1c0002row21_col3\" class=\"data row21 col3\" >-0.00</td>\n",
              "                        <td id=\"T_2a31ef60_0da4_11ec_8b13_0242ac1c0002row21_col4\" class=\"data row21 col4\" >0.00</td>\n",
              "                        <td id=\"T_2a31ef60_0da4_11ec_8b13_0242ac1c0002row21_col5\" class=\"data row21 col5\" >-0.00</td>\n",
              "                        <td id=\"T_2a31ef60_0da4_11ec_8b13_0242ac1c0002row21_col6\" class=\"data row21 col6\" >-0.04</td>\n",
              "                        <td id=\"T_2a31ef60_0da4_11ec_8b13_0242ac1c0002row21_col7\" class=\"data row21 col7\" >-0.14</td>\n",
              "                        <td id=\"T_2a31ef60_0da4_11ec_8b13_0242ac1c0002row21_col8\" class=\"data row21 col8\" >-0.00</td>\n",
              "                        <td id=\"T_2a31ef60_0da4_11ec_8b13_0242ac1c0002row21_col9\" class=\"data row21 col9\" >-0.08</td>\n",
              "                        <td id=\"T_2a31ef60_0da4_11ec_8b13_0242ac1c0002row21_col10\" class=\"data row21 col10\" >0.03</td>\n",
              "                        <td id=\"T_2a31ef60_0da4_11ec_8b13_0242ac1c0002row21_col11\" class=\"data row21 col11\" >0.07</td>\n",
              "                        <td id=\"T_2a31ef60_0da4_11ec_8b13_0242ac1c0002row21_col12\" class=\"data row21 col12\" >-0.14</td>\n",
              "                        <td id=\"T_2a31ef60_0da4_11ec_8b13_0242ac1c0002row21_col13\" class=\"data row21 col13\" >-0.00</td>\n",
              "                        <td id=\"T_2a31ef60_0da4_11ec_8b13_0242ac1c0002row21_col14\" class=\"data row21 col14\" >-0.03</td>\n",
              "                        <td id=\"T_2a31ef60_0da4_11ec_8b13_0242ac1c0002row21_col15\" class=\"data row21 col15\" >0.00</td>\n",
              "                        <td id=\"T_2a31ef60_0da4_11ec_8b13_0242ac1c0002row21_col16\" class=\"data row21 col16\" >0.07</td>\n",
              "                        <td id=\"T_2a31ef60_0da4_11ec_8b13_0242ac1c0002row21_col17\" class=\"data row21 col17\" >0.28</td>\n",
              "                        <td id=\"T_2a31ef60_0da4_11ec_8b13_0242ac1c0002row21_col18\" class=\"data row21 col18\" >-0.03</td>\n",
              "                        <td id=\"T_2a31ef60_0da4_11ec_8b13_0242ac1c0002row21_col19\" class=\"data row21 col19\" >0.33</td>\n",
              "                        <td id=\"T_2a31ef60_0da4_11ec_8b13_0242ac1c0002row21_col20\" class=\"data row21 col20\" >-0.49</td>\n",
              "                        <td id=\"T_2a31ef60_0da4_11ec_8b13_0242ac1c0002row21_col21\" class=\"data row21 col21\" >1.00</td>\n",
              "                        <td id=\"T_2a31ef60_0da4_11ec_8b13_0242ac1c0002row21_col22\" class=\"data row21 col22\" >-0.03</td>\n",
              "                        <td id=\"T_2a31ef60_0da4_11ec_8b13_0242ac1c0002row21_col23\" class=\"data row21 col23\" >0.61</td>\n",
              "                        <td id=\"T_2a31ef60_0da4_11ec_8b13_0242ac1c0002row21_col24\" class=\"data row21 col24\" >0.20</td>\n",
              "            </tr>\n",
              "            <tr>\n",
              "                        <th id=\"T_2a31ef60_0da4_11ec_8b13_0242ac1c0002level0_row22\" class=\"row_heading level0 row22\" >Snow</th>\n",
              "                        <td id=\"T_2a31ef60_0da4_11ec_8b13_0242ac1c0002row22_col0\" class=\"data row22 col0\" >-0.02</td>\n",
              "                        <td id=\"T_2a31ef60_0da4_11ec_8b13_0242ac1c0002row22_col1\" class=\"data row22 col1\" >-0.02</td>\n",
              "                        <td id=\"T_2a31ef60_0da4_11ec_8b13_0242ac1c0002row22_col2\" class=\"data row22 col2\" >-0.00</td>\n",
              "                        <td id=\"T_2a31ef60_0da4_11ec_8b13_0242ac1c0002row22_col3\" class=\"data row22 col3\" >-0.00</td>\n",
              "                        <td id=\"T_2a31ef60_0da4_11ec_8b13_0242ac1c0002row22_col4\" class=\"data row22 col4\" >-0.00</td>\n",
              "                        <td id=\"T_2a31ef60_0da4_11ec_8b13_0242ac1c0002row22_col5\" class=\"data row22 col5\" >-0.00</td>\n",
              "                        <td id=\"T_2a31ef60_0da4_11ec_8b13_0242ac1c0002row22_col6\" class=\"data row22 col6\" >-0.01</td>\n",
              "                        <td id=\"T_2a31ef60_0da4_11ec_8b13_0242ac1c0002row22_col7\" class=\"data row22 col7\" >-0.01</td>\n",
              "                        <td id=\"T_2a31ef60_0da4_11ec_8b13_0242ac1c0002row22_col8\" class=\"data row22 col8\" >0.05</td>\n",
              "                        <td id=\"T_2a31ef60_0da4_11ec_8b13_0242ac1c0002row22_col9\" class=\"data row22 col9\" >-0.02</td>\n",
              "                        <td id=\"T_2a31ef60_0da4_11ec_8b13_0242ac1c0002row22_col10\" class=\"data row22 col10\" >0.00</td>\n",
              "                        <td id=\"T_2a31ef60_0da4_11ec_8b13_0242ac1c0002row22_col11\" class=\"data row22 col11\" >0.04</td>\n",
              "                        <td id=\"T_2a31ef60_0da4_11ec_8b13_0242ac1c0002row22_col12\" class=\"data row22 col12\" >-0.01</td>\n",
              "                        <td id=\"T_2a31ef60_0da4_11ec_8b13_0242ac1c0002row22_col13\" class=\"data row22 col13\" >0.05</td>\n",
              "                        <td id=\"T_2a31ef60_0da4_11ec_8b13_0242ac1c0002row22_col14\" class=\"data row22 col14\" >-0.02</td>\n",
              "                        <td id=\"T_2a31ef60_0da4_11ec_8b13_0242ac1c0002row22_col15\" class=\"data row22 col15\" >0.00</td>\n",
              "                        <td id=\"T_2a31ef60_0da4_11ec_8b13_0242ac1c0002row22_col16\" class=\"data row22 col16\" >0.04</td>\n",
              "                        <td id=\"T_2a31ef60_0da4_11ec_8b13_0242ac1c0002row22_col17\" class=\"data row22 col17\" >-0.12</td>\n",
              "                        <td id=\"T_2a31ef60_0da4_11ec_8b13_0242ac1c0002row22_col18\" class=\"data row22 col18\" >0.01</td>\n",
              "                        <td id=\"T_2a31ef60_0da4_11ec_8b13_0242ac1c0002row22_col19\" class=\"data row22 col19\" >-0.01</td>\n",
              "                        <td id=\"T_2a31ef60_0da4_11ec_8b13_0242ac1c0002row22_col20\" class=\"data row22 col20\" >0.06</td>\n",
              "                        <td id=\"T_2a31ef60_0da4_11ec_8b13_0242ac1c0002row22_col21\" class=\"data row22 col21\" >-0.03</td>\n",
              "                        <td id=\"T_2a31ef60_0da4_11ec_8b13_0242ac1c0002row22_col22\" class=\"data row22 col22\" >1.00</td>\n",
              "                        <td id=\"T_2a31ef60_0da4_11ec_8b13_0242ac1c0002row22_col23\" class=\"data row22 col23\" >-0.10</td>\n",
              "                        <td id=\"T_2a31ef60_0da4_11ec_8b13_0242ac1c0002row22_col24\" class=\"data row22 col24\" >0.01</td>\n",
              "            </tr>\n",
              "            <tr>\n",
              "                        <th id=\"T_2a31ef60_0da4_11ec_8b13_0242ac1c0002level0_row23\" class=\"row_heading level0 row23\" >GroundTemp</th>\n",
              "                        <td id=\"T_2a31ef60_0da4_11ec_8b13_0242ac1c0002row23_col0\" class=\"data row23 col0\" >0.12</td>\n",
              "                        <td id=\"T_2a31ef60_0da4_11ec_8b13_0242ac1c0002row23_col1\" class=\"data row23 col1\" >0.07</td>\n",
              "                        <td id=\"T_2a31ef60_0da4_11ec_8b13_0242ac1c0002row23_col2\" class=\"data row23 col2\" >0.00</td>\n",
              "                        <td id=\"T_2a31ef60_0da4_11ec_8b13_0242ac1c0002row23_col3\" class=\"data row23 col3\" >0.00</td>\n",
              "                        <td id=\"T_2a31ef60_0da4_11ec_8b13_0242ac1c0002row23_col4\" class=\"data row23 col4\" >0.00</td>\n",
              "                        <td id=\"T_2a31ef60_0da4_11ec_8b13_0242ac1c0002row23_col5\" class=\"data row23 col5\" >0.00</td>\n",
              "                        <td id=\"T_2a31ef60_0da4_11ec_8b13_0242ac1c0002row23_col6\" class=\"data row23 col6\" >0.00</td>\n",
              "                        <td id=\"T_2a31ef60_0da4_11ec_8b13_0242ac1c0002row23_col7\" class=\"data row23 col7\" >-0.14</td>\n",
              "                        <td id=\"T_2a31ef60_0da4_11ec_8b13_0242ac1c0002row23_col8\" class=\"data row23 col8\" >-0.02</td>\n",
              "                        <td id=\"T_2a31ef60_0da4_11ec_8b13_0242ac1c0002row23_col9\" class=\"data row23 col9\" >0.09</td>\n",
              "                        <td id=\"T_2a31ef60_0da4_11ec_8b13_0242ac1c0002row23_col10\" class=\"data row23 col10\" >0.01</td>\n",
              "                        <td id=\"T_2a31ef60_0da4_11ec_8b13_0242ac1c0002row23_col11\" class=\"data row23 col11\" >0.06</td>\n",
              "                        <td id=\"T_2a31ef60_0da4_11ec_8b13_0242ac1c0002row23_col12\" class=\"data row23 col12\" >-0.14</td>\n",
              "                        <td id=\"T_2a31ef60_0da4_11ec_8b13_0242ac1c0002row23_col13\" class=\"data row23 col13\" >-0.02</td>\n",
              "                        <td id=\"T_2a31ef60_0da4_11ec_8b13_0242ac1c0002row23_col14\" class=\"data row23 col14\" >0.11</td>\n",
              "                        <td id=\"T_2a31ef60_0da4_11ec_8b13_0242ac1c0002row23_col15\" class=\"data row23 col15\" >-0.01</td>\n",
              "                        <td id=\"T_2a31ef60_0da4_11ec_8b13_0242ac1c0002row23_col16\" class=\"data row23 col16\" >0.06</td>\n",
              "                        <td id=\"T_2a31ef60_0da4_11ec_8b13_0242ac1c0002row23_col17\" class=\"data row23 col17\" >0.90</td>\n",
              "                        <td id=\"T_2a31ef60_0da4_11ec_8b13_0242ac1c0002row23_col18\" class=\"data row23 col18\" >0.00</td>\n",
              "                        <td id=\"T_2a31ef60_0da4_11ec_8b13_0242ac1c0002row23_col19\" class=\"data row23 col19\" >0.19</td>\n",
              "                        <td id=\"T_2a31ef60_0da4_11ec_8b13_0242ac1c0002row23_col20\" class=\"data row23 col20\" >-0.11</td>\n",
              "                        <td id=\"T_2a31ef60_0da4_11ec_8b13_0242ac1c0002row23_col21\" class=\"data row23 col21\" >0.61</td>\n",
              "                        <td id=\"T_2a31ef60_0da4_11ec_8b13_0242ac1c0002row23_col22\" class=\"data row23 col22\" >-0.10</td>\n",
              "                        <td id=\"T_2a31ef60_0da4_11ec_8b13_0242ac1c0002row23_col23\" class=\"data row23 col23\" >1.00</td>\n",
              "                        <td id=\"T_2a31ef60_0da4_11ec_8b13_0242ac1c0002row23_col24\" class=\"data row23 col24\" >-0.12</td>\n",
              "            </tr>\n",
              "            <tr>\n",
              "                        <th id=\"T_2a31ef60_0da4_11ec_8b13_0242ac1c0002level0_row24\" class=\"row_heading level0 row24\" >Dust</th>\n",
              "                        <td id=\"T_2a31ef60_0da4_11ec_8b13_0242ac1c0002row24_col0\" class=\"data row24 col0\" >-0.02</td>\n",
              "                        <td id=\"T_2a31ef60_0da4_11ec_8b13_0242ac1c0002row24_col1\" class=\"data row24 col1\" >-0.04</td>\n",
              "                        <td id=\"T_2a31ef60_0da4_11ec_8b13_0242ac1c0002row24_col2\" class=\"data row24 col2\" >0.00</td>\n",
              "                        <td id=\"T_2a31ef60_0da4_11ec_8b13_0242ac1c0002row24_col3\" class=\"data row24 col3\" >-0.00</td>\n",
              "                        <td id=\"T_2a31ef60_0da4_11ec_8b13_0242ac1c0002row24_col4\" class=\"data row24 col4\" >0.00</td>\n",
              "                        <td id=\"T_2a31ef60_0da4_11ec_8b13_0242ac1c0002row24_col5\" class=\"data row24 col5\" >-0.00</td>\n",
              "                        <td id=\"T_2a31ef60_0da4_11ec_8b13_0242ac1c0002row24_col6\" class=\"data row24 col6\" >-0.02</td>\n",
              "                        <td id=\"T_2a31ef60_0da4_11ec_8b13_0242ac1c0002row24_col7\" class=\"data row24 col7\" >-0.08</td>\n",
              "                        <td id=\"T_2a31ef60_0da4_11ec_8b13_0242ac1c0002row24_col8\" class=\"data row24 col8\" >0.08</td>\n",
              "                        <td id=\"T_2a31ef60_0da4_11ec_8b13_0242ac1c0002row24_col9\" class=\"data row24 col9\" >-0.03</td>\n",
              "                        <td id=\"T_2a31ef60_0da4_11ec_8b13_0242ac1c0002row24_col10\" class=\"data row24 col10\" >0.01</td>\n",
              "                        <td id=\"T_2a31ef60_0da4_11ec_8b13_0242ac1c0002row24_col11\" class=\"data row24 col11\" >-0.05</td>\n",
              "                        <td id=\"T_2a31ef60_0da4_11ec_8b13_0242ac1c0002row24_col12\" class=\"data row24 col12\" >-0.08</td>\n",
              "                        <td id=\"T_2a31ef60_0da4_11ec_8b13_0242ac1c0002row24_col13\" class=\"data row24 col13\" >0.08</td>\n",
              "                        <td id=\"T_2a31ef60_0da4_11ec_8b13_0242ac1c0002row24_col14\" class=\"data row24 col14\" >-0.01</td>\n",
              "                        <td id=\"T_2a31ef60_0da4_11ec_8b13_0242ac1c0002row24_col15\" class=\"data row24 col15\" >0.00</td>\n",
              "                        <td id=\"T_2a31ef60_0da4_11ec_8b13_0242ac1c0002row24_col16\" class=\"data row24 col16\" >-0.05</td>\n",
              "                        <td id=\"T_2a31ef60_0da4_11ec_8b13_0242ac1c0002row24_col17\" class=\"data row24 col17\" >-0.23</td>\n",
              "                        <td id=\"T_2a31ef60_0da4_11ec_8b13_0242ac1c0002row24_col18\" class=\"data row24 col18\" >-0.03</td>\n",
              "                        <td id=\"T_2a31ef60_0da4_11ec_8b13_0242ac1c0002row24_col19\" class=\"data row24 col19\" >0.12</td>\n",
              "                        <td id=\"T_2a31ef60_0da4_11ec_8b13_0242ac1c0002row24_col20\" class=\"data row24 col20\" >-0.19</td>\n",
              "                        <td id=\"T_2a31ef60_0da4_11ec_8b13_0242ac1c0002row24_col21\" class=\"data row24 col21\" >0.20</td>\n",
              "                        <td id=\"T_2a31ef60_0da4_11ec_8b13_0242ac1c0002row24_col22\" class=\"data row24 col22\" >0.01</td>\n",
              "                        <td id=\"T_2a31ef60_0da4_11ec_8b13_0242ac1c0002row24_col23\" class=\"data row24 col23\" >-0.12</td>\n",
              "                        <td id=\"T_2a31ef60_0da4_11ec_8b13_0242ac1c0002row24_col24\" class=\"data row24 col24\" >1.00</td>\n",
              "            </tr>\n",
              "    </tbody></table>"
            ],
            "text/plain": [
              "<pandas.io.formats.style.Styler at 0x7fd2694bc090>"
            ]
          },
          "metadata": {},
          "execution_count": 12
        }
      ]
    },
    {
      "cell_type": "code",
      "metadata": {
        "colab": {
          "base_uri": "https://localhost:8080/",
          "height": 693
        },
        "id": "Pa9K6Hhn-S7q",
        "outputId": "db5749c9-444b-4643-b794-26d265bc3d5a"
      },
      "source": [
        "plt.figure(figsize=(12,12))\n",
        "ax = sns.heatmap(\n",
        "    corr, vmin=-1, vmax=1, center=0,\n",
        "    cmap=sns.diverging_palette(20, 200, n=200),\n",
        "    square=True)\n",
        "\n",
        "ax.set_xticklabels(\n",
        "    ax.get_xticklabels(),\n",
        "    rotation=45,\n",
        "    horizontalalignment='right');"
      ],
      "execution_count": null,
      "outputs": [
        {
          "output_type": "display_data",
          "data": {
            "image/png": "[encoded data removed]",
            "text/plain": [
              "<Figure size 864x864 with 2 Axes>"
            ]
          },
          "metadata": {
            "needs_background": "light"
          }
        }
      ]
    },
    {
      "cell_type": "markdown",
      "metadata": {
        "id": "rcdtnddwZKE5"
      },
      "source": [
        "**Observation from above correlation mattix**\n",
        "1. **distance and duration** are **strongly related**\n",
        "2. **haversine and duration** and **correlated** with each other\n",
        "3. **gound temperature and solar radiation** are **correlated**\n",
        "4. **temperature and solar radiations** are **correlated**\n",
        "5. **phour and dhour** are not related to **humidity**"
      ]
    },
    {
      "cell_type": "markdown",
      "metadata": {
        "id": "Xlof-1eBTZwD"
      },
      "source": [
        "# SCATTER PLOT"
      ]
    },
    {
      "cell_type": "markdown",
      "metadata": {
        "id": "Y0AQGwF7NE6F"
      },
      "source": [
        "1. A scatter plot is a type of plot using Cartesian coordinates to display values for typically two variables for a set of data.\n",
        "\n",
        "2. The data are displayed as a collection of points, each having the value of one variable determining the position on the horizontal axis and the value of the other variable determining the position on the vertical axis.\n",
        "\n",
        "3. Scatter plot's are used to observe and show **relationships between two numeric variables.**"
      ]
    },
    {
      "cell_type": "code",
      "metadata": {
        "colab": {
          "base_uri": "https://localhost:8080/"
        },
        "id": "-V47-hyFFBu_",
        "outputId": "6e7267cd-c891-4433-e438-420f9d3ff432"
      },
      "source": [
        "columns = list(train.columns)\n",
        "n = len(columns)\n",
        "\n",
        "fig, ax = plt.subplots(n*n - n, 1, figsize = (7, 100))\n",
        "fig.tight_layout(pad=3.0)\n",
        "idx = 0\n",
        "for col1 in columns:\n",
        "    for col2 in columns[1:]:\n",
        "        ax[idx].plot(train[col1], train[col2], 'o')\n",
        "        ax[idx].set_xlabel(col1)\n",
        "        ax[idx].set_title(col2)\n",
        "        idx += 1\n",
        "\n",
        "plt.show()"
      ],
      "execution_count": null,
      "outputs": [
        {
          "output_type": "stream",
          "name": "stderr",
          "text": [
            "/usr/local/lib/python3.7/dist-packages/ipykernel_launcher.py:5: UserWarning: Tight layout not applied. tight_layout cannot make axes height small enough to accommodate all axes decorations\n",
            "  \"\"\"\n"
          ]
        }
      ]
    },
    {
      "cell_type": "code",
      "metadata": {
        "colab": {
          "base_uri": "https://localhost:8080/",
          "height": 1000
        },
        "id": "UDz0KWKzEwkt",
        "outputId": "f0990fe4-8638-4e76-f534-8906f00a6992"
      },
      "source": [
        "# Scatter plot using matplotlib \n",
        "# create function for ploting scatterplot between two columns of dataset\n",
        "\n",
        "columns = list(train.columns)\n",
        "columns.remove('Duration')\n",
        "\n",
        "fig, ax = plt.subplots(len(columns), 1, figsize = (7, 100))   #a,b can be set by you\n",
        "\n",
        "fig.tight_layout(pad=3.0)\n",
        "\n",
        "for idx, col in enumerate(columns, 0):\n",
        "    ax[idx].plot(train['Duration'], train[col], 'o')\n",
        "    ax[idx].set_xlabel('Duration')\n",
        "    ax[idx].set_title(col)\n",
        "\n",
        "plt.show()\n",
        "\n",
        "#  return scatterplot\n",
        "\n",
        "\n",
        "# Loop through numerical data list and use function to scatter plot between two columns\n",
        "\n",
        "#scatterplot(train)\n",
        "\n",
        "# OR\n",
        "\n",
        "# plot all pair of scatterplot by writing code for each pair"
      ],
      "execution_count": 6,
      "outputs": [
        {
          "output_type": "display_data",
          "data": {
            "image/png": "[encoded data removed]",
            "text/plain": [
              "<Figure size 504x7200 with 24 Axes>"
            ]
          },
          "metadata": {
            "needs_background": "light"
          }
        }
      ]
    },
    {
      "cell_type": "code",
      "metadata": {
        "id": "PgZEDJdkmC15",
        "colab": {
          "base_uri": "https://localhost:8080/",
          "height": 1000
        },
        "outputId": "8072871e-2f62-4de8-8ef0-34e580a3ce47"
      },
      "source": [
        "columns = list(train.columns)\n",
        "columns.remove('Distance')\n",
        "\n",
        "fig, ax = plt.subplots(len(columns), 1, figsize = (7, 100))   #a,b can be set by you\n",
        "\n",
        "fig.tight_layout(pad=3.0)\n",
        "\n",
        "for idx, col in enumerate(columns, 0):\n",
        "    ax[idx].plot(train['Duration'], train[col], 'o')\n",
        "    ax[idx].set_xlabel('Duration')\n",
        "    ax[idx].set_title(col)\n",
        "\n",
        "plt.show()"
      ],
      "execution_count": 12,
      "outputs": [
        {
          "output_type": "display_data",
          "data": {
            "image/png": "[encoded data removed]",
            "text/plain": [
              "<Figure size 504x7200 with 24 Axes>"
            ]
          },
          "metadata": {
            "needs_background": "light"
          }
        }
      ]
    },
    {
      "cell_type": "markdown",
      "metadata": {
        "id": "NH7EkukZYwxu"
      },
      "source": [
        "**PLong and DLong** are **correlated**\n",
        "\n",
        "**PLatd and DLatd** are **correlated**\n",
        "\n",
        "**Pmonth and Dmonth** are **correlated**"
      ]
    },
    {
      "cell_type": "markdown",
      "metadata": {
        "id": "sxvvJsIQXNeg"
      },
      "source": [
        "# HISTOGRAM"
      ]
    },
    {
      "cell_type": "markdown",
      "metadata": {
        "id": "9ZI5vQc5U1ez"
      },
      "source": [
        "1. A **histogram** is an approximate representation of the distribution of **numerical data**.\n",
        "\n",
        "2. To construct a histogram, the first step is to \"bin\" (or \"bucket\") the range of values—that is, divide the entire range of values into a series of intervals—and then count how many values fall into each interval.\n",
        "\n",
        "3. The words used to describe the patterns in a **histogram** are: **\"symmetric\", \"skewed left\" or \"right\", \"unimodal\", \"bimodal\" or \"multimodal\"**."
      ]
    },
    {
      "cell_type": "code",
      "metadata": {
        "id": "-Vx_iLkk-SqN",
        "colab": {
          "base_uri": "https://localhost:8080/",
          "height": 878
        },
        "outputId": "08c048b7-ec32-4ab9-a994-53bf181c92fe"
      },
      "source": [
        "#Histogram Using pandas \n",
        "train.hist(figsize=(18, 15), legend=True);"
      ],
      "execution_count": null,
      "outputs": [
        {
          "output_type": "display_data",
          "data": {
            "image/png": "[encoded data removed]",
            "text/plain": [
              "<Figure size 1296x1080 with 25 Axes>"
            ]
          },
          "metadata": {
            "needs_background": "light"
          }
        }
      ]
    },
    {
      "cell_type": "markdown",
      "metadata": {
        "id": "eCo3lcHzKb7K"
      },
      "source": [
        "Observation -\n",
        "2. data distribution of **duration, distance, haversine, precipation, solar radiation, snow and dust** are **skewed left**.\n",
        "3. data distribution of **humidity** is **symmetrical**\n",
        "4. data distribution of **Pmin and Dmin** is **right skewed**.\n",
        "4. data distribution of **Phour and Dhour** is **same**.\n",
        "4. data distribution of **pday and Dday** is **same**.\n",
        "4. data distribution of **Pmonth and Dmonth** is **same**"
      ]
    },
    {
      "cell_type": "markdown",
      "metadata": {
        "id": "IpC58RDNzDRF"
      },
      "source": [
        "#VIF - Variance inflation factor\n",
        "1. The variance inflation factor (VIF) quantifies the extent of correlation between one predictor and the other predictors in a model.\n",
        "2. It is used for diagnosing **collinearity/multicollinearity.**\n",
        "3. Higher values signify that it is difficult to impossible to assess accurately the contribution of predictors to a model."
      ]
    },
    {
      "cell_type": "code",
      "metadata": {
        "id": "Z05XdBxlzUpu",
        "colab": {
          "base_uri": "https://localhost:8080/"
        },
        "outputId": "29fbc87b-7a01-411d-c925-4c3bdabdb82b"
      },
      "source": [
        "# import statsmodle library for vif \n",
        "from statsmodels.stats.outliers_influence import variance_inflation_factor"
      ],
      "execution_count": null,
      "outputs": [
        {
          "output_type": "stream",
          "name": "stderr",
          "text": [
            "/usr/local/lib/python3.7/dist-packages/statsmodels/tools/_testing.py:19: FutureWarning: pandas.util.testing is deprecated. Use the functions in the public API at pandas.testing instead.\n",
            "  import pandas.util.testing as tm\n"
          ]
        }
      ]
    },
    {
      "cell_type": "code",
      "metadata": {
        "id": "hq9YmZ1kzUZC"
      },
      "source": [
        "# creating a dataframe of just numerical values\n",
        "train_for_vif = train.drop(['Duration'] ,axis=1)\n",
        "\n",
        "# target values\n",
        "y = train['Duration']\n",
        "\n",
        "# numerical values column names\n",
        "names = ['Distance', 'PLong', 'PLatd', 'DLong',\n",
        "       'DLatd', 'Haversine', 'Pmonth', 'Pday', 'Phour', 'Pmin', 'PDweek',\n",
        "       'Dmonth', 'Dday', 'Dhour', 'Dmin', 'DDweek', 'Temp', 'Precip', 'Wind',\n",
        "       'Humid', 'Solar', 'Snow', 'GroundTemp', 'Dust']"
      ],
      "execution_count": null,
      "outputs": []
    },
    {
      "cell_type": "code",
      "metadata": {
        "id": "b6sKkV5PzT1B",
        "colab": {
          "base_uri": "https://localhost:8080/"
        },
        "outputId": "0138f20d-6d5d-4d6c-e49d-ba5b96fcf5c2"
      },
      "source": [
        "# droping rows with empty cells\n",
        "train_for_vif.columns == names[1]"
      ],
      "execution_count": null,
      "outputs": [
        {
          "output_type": "execute_result",
          "data": {
            "text/plain": [
              "array([False,  True, False, False, False, False, False, False, False,\n",
              "       False, False, False, False, False, False, False, False, False,\n",
              "       False, False, False, False, False, False])"
            ]
          },
          "metadata": {},
          "execution_count": 18
        }
      ]
    },
    {
      "cell_type": "code",
      "metadata": {
        "id": "dDeoUUAnzTit"
      },
      "source": [
        "# Calculating VIF for each feature.\n",
        "\n",
        "  "
      ],
      "execution_count": null,
      "outputs": []
    },
    {
      "cell_type": "markdown",
      "metadata": {
        "id": "dOH4lusNXibh"
      },
      "source": [
        "there is **colinearity/multicolinearity** between variables as the VIF value is almost upto **2.5**\n",
        "\n",
        "**Distance', 'PLong', 'PLatd', 'DLong','DLatd',  'Phour',  'PDweek', 'Dday', 'Dhour', 'Dmin', 'DDweek', 'Temp', 'Precip', 'Humid', 'Solar', 'Snow', 'GroundTemp'**,  have colinearity with all the variables."
      ]
    },
    {
      "cell_type": "markdown",
      "metadata": {
        "id": "oIMZ8mQWOTfA"
      },
      "source": [
        "# box plot"
      ]
    },
    {
      "cell_type": "markdown",
      "metadata": {
        "id": "xRtv_YwrU8_f"
      },
      "source": [
        "A boxplot is a standardized way of displaying the dataset based on a five-number summary:\n",
        "\n",
        "    1. Minimum (Q0 or 0th percentile): the lowest data point excluding any outliers.\n",
        "\n",
        "    2. Maximum (Q4 or 100th percentile): the largest data point excluding any outliers.\n",
        "\n",
        "    3. Median (Q2 or 50th percentile): the middle value of the dataset.\n",
        "\n",
        "    4. First quartile (Q1 or 25th percentile): also known as the lower quartile qn(0.25), is the median of the lower half of the dataset.\n",
        "\n",
        "    5. Third quartile (Q3 or 75th percentile): also known as the upper quartile qn(0.75), is the median of the upper half of the dataset"
      ]
    },
    {
      "cell_type": "code",
      "metadata": {
        "id": "erppX5_R-SlL"
      },
      "source": [
        "# Perform boxplot on Duration column of the dataset\n"
      ],
      "execution_count": null,
      "outputs": []
    },
    {
      "cell_type": "markdown",
      "metadata": {
        "id": "7-GmFO9TDaT-"
      },
      "source": [
        "from above box plot graph:\n",
        "\n",
        "duration\n",
        "\n",
        "25% of duration have value between range 0 to 8\n",
        "\n",
        "25% of duration have value between range 8 to 18\n",
        "\n",
        "25% of duration have value between range 18 to 35\n",
        "\n",
        "25% of duration have value between range 35 to 77\n",
        "\n",
        "The mean duration is around 18\n",
        "\n",
        "**Mostly the duration are on the lower side of the spectrum. Means small duration trips are the common trips**\n"
      ]
    },
    {
      "cell_type": "code",
      "metadata": {
        "id": "voTO-_PkDkD4"
      },
      "source": [
        "# Perform boxplot on Distance column of the dataset\n"
      ],
      "execution_count": null,
      "outputs": []
    },
    {
      "cell_type": "markdown",
      "metadata": {
        "id": "WzxPUZQVDySx"
      },
      "source": [
        "from above box plot graph:\n",
        "\n",
        "distance\n",
        "\n",
        "25% of distance have value between range 0 to 1000\n",
        "\n",
        "25% of distance have value between range 1000 to 2500\n",
        "\n",
        "25% of distance have value between range 2500 to 4900\n",
        "\n",
        "25% of distance have value between range 4900 to 9900\n",
        "\n",
        "The mean distance is around 2500\n",
        "\n",
        " Mostly the distance are on the lower side of the spectrum. Means small distance trips are the common trips\n",
        "\n"
      ]
    },
    {
      "cell_type": "code",
      "metadata": {
        "id": "PLBMBWqXGDeh"
      },
      "source": [
        "# Perform boxplot on PLong column of the dataset\n"
      ],
      "execution_count": null,
      "outputs": []
    },
    {
      "cell_type": "markdown",
      "metadata": {
        "id": "tFjQuSZKRhpZ"
      },
      "source": [
        "from above box plot graph:\n",
        "\n",
        "PLong\n",
        "\n",
        "25% of PLong have value between range 37.44 to 37.52\n",
        "\n",
        "25% of PLong have value between range 37.52 to 37.559\n",
        "\n",
        "25% of PLong have value between range 37.559 to 37.58\n",
        "\n",
        "25% of PLong have value between range 37.58 to 37.66\n",
        "\n",
        "The mean PLong is around 37.559"
      ]
    },
    {
      "cell_type": "code",
      "metadata": {
        "id": "9tzgABU8GDaI"
      },
      "source": [
        "# Perform boxplot on PLatd column of the dataset\n"
      ],
      "execution_count": null,
      "outputs": []
    },
    {
      "cell_type": "markdown",
      "metadata": {
        "id": "VxhNoJh2R943"
      },
      "source": [
        "from above box plot graph:\n",
        "\n",
        "PLatd\n",
        "\n",
        "25% of PLatd have value between range 126.80 to 162.92\n",
        "\n",
        "25% of PLatd have value between range 126.92 to 126.99\n",
        "\n",
        "25% of PLatd have value between range 126.99 to 127.07\n",
        "\n",
        "25% of PLatd have value between range 127.07 to 127.18\n",
        "\n",
        "The mean PLatd is around 126.99"
      ]
    },
    {
      "cell_type": "code",
      "metadata": {
        "id": "6ynU7sD0GDYg"
      },
      "source": [
        "# Perform boxplot on Dlong column of the dataset\n"
      ],
      "execution_count": null,
      "outputs": []
    },
    {
      "cell_type": "markdown",
      "metadata": {
        "id": "h7Of9rj5SRF8"
      },
      "source": [
        "from above box plot graph:\n",
        "\n",
        "DLong\n",
        "\n",
        "25% of DLong have value between range 37.43 to 37.52\n",
        "\n",
        "25% of DLong have value between range 37.52 to 37.545\n",
        "\n",
        "25% of DLong have value between range 37.545 to 37.575\n",
        "\n",
        "25% of DLong have value between range 37.575 to 37.665\n",
        "\n",
        "The mean DLong is around 37.545"
      ]
    },
    {
      "cell_type": "code",
      "metadata": {
        "id": "X6Hko96jGDUH"
      },
      "source": [
        "# Perform boxplot on DLatd column of the dataset\n"
      ],
      "execution_count": null,
      "outputs": []
    },
    {
      "cell_type": "markdown",
      "metadata": {
        "id": "WyWx_l3cSszU"
      },
      "source": [
        "from above box plot graph:\n",
        "\n",
        "DLatd\n",
        "\n",
        "25% of DLatd have value between range 126.80 to 126.92\n",
        "\n",
        "25% of DLatd have value between range 126.92 to 126.995\n",
        "\n",
        "25% of DLatd have value between range 126.995 to 127.055\n",
        "\n",
        "25% of DLatd have value between range 127.055 to 127.175\n",
        "\n",
        "The mean DLatd is around 126.995"
      ]
    },
    {
      "cell_type": "code",
      "metadata": {
        "id": "SPs7djHRGDSu"
      },
      "source": [
        "# Perform boxplot on Haversine column of the dataset\n"
      ],
      "execution_count": null,
      "outputs": []
    },
    {
      "cell_type": "markdown",
      "metadata": {
        "id": "H1VREzhuTN5a"
      },
      "source": [
        "from above box plot graph:\n",
        "\n",
        "haversine\n",
        "\n",
        "25% of haversine have value between range 0 to 0.25\n",
        "\n",
        "25% of haversine have value between range 0.25 to 1\n",
        "\n",
        "25% of haversine have value between range 1 to 2.5\n",
        "\n",
        "25% of haversine have value between range 2.5 to 5\n",
        "\n",
        "The mean haversine is around 1"
      ]
    },
    {
      "cell_type": "markdown",
      "metadata": {
        "id": "sFoDl88y9uLb"
      },
      "source": [
        "Observation: Mostly the haversine are on the lower side of the spectrum. Means small distance trips are the common trips"
      ]
    },
    {
      "cell_type": "code",
      "metadata": {
        "id": "gWQjWdPjGDQE"
      },
      "source": [
        "# Perform boxplot on pmonth column of the dataset\n"
      ],
      "execution_count": null,
      "outputs": []
    },
    {
      "cell_type": "markdown",
      "metadata": {
        "id": "4hWw8JDgTd5n"
      },
      "source": [
        "from above box plot graph:\n",
        "\n",
        "Pmonth\n",
        "\n",
        "25% of Pmonth have value between range 1 to 6\n",
        "\n",
        "25% of Pmonth have value between range 6 to 8\n",
        "\n",
        "25% of Pmonth have value between range 8 to 10\n",
        "\n",
        "25% of Pmonth have value between range 10 to 12\n",
        "\n",
        "The mean Pmonth is around 8"
      ]
    },
    {
      "cell_type": "markdown",
      "metadata": {
        "id": "tBO5rAXHNEzK"
      },
      "source": [
        "more pickups are in the month which are at the end of the year"
      ]
    },
    {
      "cell_type": "code",
      "metadata": {
        "id": "qTQKEosWGDNw"
      },
      "source": [
        "# Perform boxplot on Pday column of the dataset\n"
      ],
      "execution_count": null,
      "outputs": []
    },
    {
      "cell_type": "markdown",
      "metadata": {
        "id": "YbzgHeFLTtE8"
      },
      "source": [
        "from above box plot graph:\n",
        "\n",
        "Pday\n",
        "\n",
        "25% of Pday have value between range 1 to 8\n",
        "\n",
        "25% of Pday have value between range 8 to 16\n",
        "\n",
        "25% of Pday have value between range 16 to 23\n",
        "\n",
        "25% of Pday have value between range 23 to 31\n",
        "\n",
        "The mean Pday is around 16"
      ]
    },
    {
      "cell_type": "markdown",
      "metadata": {
        "id": "cMMxUgTcOBIo"
      },
      "source": [
        "pickups are almost same on every day of month"
      ]
    },
    {
      "cell_type": "code",
      "metadata": {
        "id": "FiiCk1JwGDLy"
      },
      "source": [
        "# Perform boxplot on Phour column of the dataset\n"
      ],
      "execution_count": null,
      "outputs": []
    },
    {
      "cell_type": "markdown",
      "metadata": {
        "id": "k7sxnMx-T9T3"
      },
      "source": [
        "from above box plot graph:\n",
        "\n",
        "Phour\n",
        "\n",
        "25% of Phour have value between range 0 to 10\n",
        "\n",
        "25% of Phour have value between range 10 to 16\n",
        "\n",
        "25% of Phour have value between range 16 to 19\n",
        "\n",
        "25% of Phour have value between range 19 to 24\n",
        "\n",
        "The mean Phour is around 16"
      ]
    },
    {
      "cell_type": "markdown",
      "metadata": {
        "id": "87X6dyNQOPpI"
      },
      "source": [
        "more pickups are towards the end of the day"
      ]
    },
    {
      "cell_type": "code",
      "metadata": {
        "id": "JIqQUcI-GDHp"
      },
      "source": [
        "# Perform boxplot on Pmin column of the dataset\n"
      ],
      "execution_count": null,
      "outputs": []
    },
    {
      "cell_type": "markdown",
      "metadata": {
        "id": "AJ5r4E1IUKZi"
      },
      "source": [
        "from above box plot graph:\n",
        "\n",
        "Pmin\n",
        "\n",
        "25% of Pmin have value between range 0 to 14\n",
        "\n",
        "25% of Pmin have value between range 14 to 29\n",
        "\n",
        "25% of Pmin have value between range 29 to 44\n",
        "\n",
        "25% of Pmin have value between range 44 to 60\n",
        "\n",
        "The mean Pmin is around 29"
      ]
    },
    {
      "cell_type": "code",
      "metadata": {
        "id": "oovyOBWlGDBa"
      },
      "source": [
        "# Perform boxplot on PDweek column of the dataset \n"
      ],
      "execution_count": null,
      "outputs": []
    },
    {
      "cell_type": "markdown",
      "metadata": {
        "id": "YhW9ly4jUUMi"
      },
      "source": [
        "from above box plot graph:\n",
        "\n",
        "PDweek\n",
        "\n",
        "25% of PDweek have value between range 0 to 1\n",
        "\n",
        "25% of PDweek have value between range 1 to 3\n",
        "\n",
        "25% of PDweek have value between range 3 to 5\n",
        "\n",
        "25% of PDweek have value between range 3 to 6\n",
        "\n",
        "The mean PDweek is around 3"
      ]
    },
    {
      "cell_type": "markdown",
      "metadata": {
        "id": "06Bmnt_LO3j9"
      },
      "source": [
        "equal pickups throughout the week"
      ]
    },
    {
      "cell_type": "code",
      "metadata": {
        "id": "MfEMulDZGC_v"
      },
      "source": [
        "# Perform boxplot on Dmonth column of the dataset\n"
      ],
      "execution_count": null,
      "outputs": []
    },
    {
      "cell_type": "markdown",
      "metadata": {
        "id": "KLnjuGJKUnJX"
      },
      "source": [
        "from above box plot graph:\n",
        "\n",
        "Dmonth\n",
        "\n",
        "25% of Dmonth have value between range 1 to 6\n",
        "\n",
        "25% of Dmonth have value between range 6 to 8\n",
        "\n",
        "25% of Dmonth have value between range 8 to 10\n",
        "\n",
        "25% of Dmonth have value between range 10 to 12\n",
        "\n",
        "The mean Dmonth is around 8"
      ]
    },
    {
      "cell_type": "markdown",
      "metadata": {
        "id": "8ofuP8t9O94E"
      },
      "source": [
        "more drop offs are towords the end months of the year"
      ]
    },
    {
      "cell_type": "code",
      "metadata": {
        "id": "CfJdd-8kGC0x"
      },
      "source": [
        "# Perform boxplot on Dday column of the dataset \n"
      ],
      "execution_count": null,
      "outputs": []
    },
    {
      "cell_type": "markdown",
      "metadata": {
        "id": "iuIavDPpUxH5"
      },
      "source": [
        "from above box plot graph:\n",
        "\n",
        "Dday\n",
        "\n",
        "25% of Dday have value between range 1 to 8\n",
        "\n",
        "25% of Dday have value between range 8 to 16\n",
        "\n",
        "25% of Dday have value between range 16 to 23\n",
        "\n",
        "25% of Dday have value between range 23 to 31\n",
        "\n",
        "The mean Dday is around 16"
      ]
    },
    {
      "cell_type": "markdown",
      "metadata": {
        "id": "VI-LmZNIPHog"
      },
      "source": [
        "drops the equal throughout all the days of month"
      ]
    },
    {
      "cell_type": "code",
      "metadata": {
        "id": "m8XosTRKHLMJ"
      },
      "source": [
        "# Perform boxplot on Dhour column of the dataset\n"
      ],
      "execution_count": null,
      "outputs": []
    },
    {
      "cell_type": "markdown",
      "metadata": {
        "id": "i3yRGNxmU8dZ"
      },
      "source": [
        "from above box plot graph:\n",
        "\n",
        "Dhour\n",
        "\n",
        "25% of Dhour have value between range 0 to 10\n",
        "\n",
        "25% of Dhour have value between range 10 to 16\n",
        "\n",
        "25% of Dhour have value between range 16 to 20\n",
        "\n",
        "25% of Dhour have value between range 20 to 24\n",
        "\n",
        "The mean Dhour is around 16"
      ]
    },
    {
      "cell_type": "markdown",
      "metadata": {
        "id": "QF7f5juXPStt"
      },
      "source": [
        "drops offs are more towards the end hours of the day"
      ]
    },
    {
      "cell_type": "code",
      "metadata": {
        "id": "vjFjgdFiHNWU"
      },
      "source": [
        "# Perform boxplot on Dmin column of the dataset\n"
      ],
      "execution_count": null,
      "outputs": []
    },
    {
      "cell_type": "markdown",
      "metadata": {
        "id": "egYxaapaV3st"
      },
      "source": [
        "from above box plot graph:\n",
        "\n",
        "Dmin\n",
        "\n",
        "25% of Dmin have value between range 0 to 15\n",
        "\n",
        "25% of Dmin have value between range 15 to 30\n",
        "\n",
        "25% of Dmin have value between range 30 to 45\n",
        "\n",
        "25% of Dmin have value between range 45 to 60\n",
        "\n",
        "The mean Dmin is around 30"
      ]
    },
    {
      "cell_type": "code",
      "metadata": {
        "id": "vdU65TRZHMyV"
      },
      "source": [
        "# Perform boxplot on DDweek column of the dataset\n"
      ],
      "execution_count": null,
      "outputs": []
    },
    {
      "cell_type": "markdown",
      "metadata": {
        "id": "fRCpmjTNWBRx"
      },
      "source": [
        "from above box plot graph:\n",
        "\n",
        "DDweek\n",
        "\n",
        "25% of DDweek have value between range 0 to 1\n",
        "\n",
        "25% of DDweek have value between range 1 to 3\n",
        "\n",
        "25% of DDweek have value between range 3 to 5\n",
        "\n",
        "25% of DDweek have value between range 5 to 6\n",
        "\n",
        "The mean DDweek is around 3"
      ]
    },
    {
      "cell_type": "markdown",
      "metadata": {
        "id": "h85le4wYP3HK"
      },
      "source": [
        "drops are equal throughout the week"
      ]
    },
    {
      "cell_type": "code",
      "metadata": {
        "id": "23AAH6O_HMbZ"
      },
      "source": [
        "# Perform boxplot on Temp column of the dataset\n"
      ],
      "execution_count": null,
      "outputs": []
    },
    {
      "cell_type": "markdown",
      "metadata": {
        "id": "NFKS6nqOWPX1"
      },
      "source": [
        "from above box plot graph:\n",
        "\n",
        "temperature\n",
        "\n",
        "25% of temperature have value between range -8 to 2\n",
        "\n",
        "25% of temperature have value between range 2 to 20\n",
        "\n",
        "25% of temperature have value between range 20 to 26\n",
        "\n",
        "25% of temperature have value between range 26 to 40\n",
        "\n",
        "The mean temperature is around 20"
      ]
    },
    {
      "cell_type": "markdown",
      "metadata": {
        "id": "ih9N4Ye8QIEv"
      },
      "source": [
        "trips are planned in slightly high temperature"
      ]
    },
    {
      "cell_type": "code",
      "metadata": {
        "id": "ZCteo8brHMK2"
      },
      "source": [
        "# Perform boxplot on Precip column of the dataset\n",
        "# Using pandas \n"
      ],
      "execution_count": null,
      "outputs": []
    },
    {
      "cell_type": "markdown",
      "metadata": {
        "id": "UK9NCMwlWaK2"
      },
      "source": [
        "from above box plot graph:\n",
        "\n",
        "precip\n",
        "\n",
        "25% of precip have value between range 0 to 0\n",
        "\n",
        "25% of precip have value between range 0 to 0\n",
        "\n",
        "25% of precip have value between range 0 to 0\n",
        "\n",
        "25% of precip have value between range 0 to 0\n",
        "\n",
        "The mean precip is around 0"
      ]
    },
    {
      "cell_type": "markdown",
      "metadata": {
        "id": "zzwmshPVQrr_"
      },
      "source": [
        "more trips are planned when there is no rain or snow fall"
      ]
    },
    {
      "cell_type": "code",
      "metadata": {
        "id": "zJQ4kEiuHK02"
      },
      "source": [
        "# Perform boxplot on wind column of the dataset\n"
      ],
      "execution_count": null,
      "outputs": []
    },
    {
      "cell_type": "markdown",
      "metadata": {
        "id": "rr0W1-l5Wk5f"
      },
      "source": [
        "from above box plot graph:\n",
        "\n",
        "wind\n",
        "\n",
        "25% of wind have value between range 0 to 1.1\n",
        "\n",
        "25% of wind have value between range 1.1 to 1.8\n",
        "\n",
        "25% of wind have value between range 1.8 to 2.5\n",
        "\n",
        "25% of wind have value between range 2.5 to 4.2\n",
        "\n",
        "The mean wind is around 1.8"
      ]
    },
    {
      "cell_type": "markdown",
      "metadata": {
        "id": "32VZzVT2Q1N2"
      },
      "source": [
        "more trips are during less windy wheather"
      ]
    },
    {
      "cell_type": "code",
      "metadata": {
        "id": "ZXCpE0piHKl5"
      },
      "source": [
        "# Perform boxplot on humid column of the dataset\n"
      ],
      "execution_count": null,
      "outputs": []
    },
    {
      "cell_type": "markdown",
      "metadata": {
        "id": "z0gyPXbEWxFZ"
      },
      "source": [
        "from above box plot graph:\n",
        "\n",
        "humid\n",
        "\n",
        "25% of humid have value between range 10 to 41\n",
        "\n",
        "25% of humid have value between range 41 to 56\n",
        "\n",
        "25% of humid have value between range 56 to 64\n",
        "\n",
        "25% of humid have value between range 64 to 99\n",
        "\n",
        "The mean humid is around 56"
      ]
    },
    {
      "cell_type": "code",
      "metadata": {
        "id": "ji6Q3qHtHKXB"
      },
      "source": [
        "# Perform boxplot on solar column of the dataset \n"
      ],
      "execution_count": null,
      "outputs": []
    },
    {
      "cell_type": "markdown",
      "metadata": {
        "id": "4LXy6RNGW9MP"
      },
      "source": [
        "from above box plot graph:\n",
        "\n",
        "solar\n",
        "\n",
        "25% of solar have value between range 0 to 0\n",
        "\n",
        "25% of solar have value between range 0 to 0.25\n",
        "\n",
        "25% of solar have value between range 0.25 to 1.25\n",
        "\n",
        "25% of solar have value between range 1.25 to 3.1\n",
        "\n",
        "The mean solar is around 0.25"
      ]
    },
    {
      "cell_type": "code",
      "metadata": {
        "id": "ih9NUI-PHvG8"
      },
      "source": [
        "# Perform boxplot on snow column of the dataset \n"
      ],
      "execution_count": null,
      "outputs": []
    },
    {
      "cell_type": "markdown",
      "metadata": {
        "id": "kTQOI-ZLXSjI"
      },
      "source": [
        "from above box plot graph:\n",
        "\n",
        "snow\n",
        "\n",
        "25% of snow have value between range 0 to 0\n",
        "\n",
        "25% of snow have value between range 0 to 0\n",
        "\n",
        "25% of snow have value between range 0 to 0\n",
        "\n",
        "25% of snow have value between range 0 to 0\n",
        "\n",
        "The mean snow is around 0"
      ]
    },
    {
      "cell_type": "markdown",
      "metadata": {
        "id": "seO8UaUR_toE"
      },
      "source": [
        "more trips are during when there is no snow fall"
      ]
    },
    {
      "cell_type": "code",
      "metadata": {
        "id": "iIB8xdi3Hu58"
      },
      "source": [
        "# Perform boxplot on GroundTemp column of the dataset\n"
      ],
      "execution_count": null,
      "outputs": []
    },
    {
      "cell_type": "markdown",
      "metadata": {
        "id": "Y-E9P9cwXVq8"
      },
      "source": [
        "from above box plot graph:\n",
        "\n",
        "groundtemperature\n",
        "\n",
        "25% of groundtemperature have value between range -12 to 11\n",
        "\n",
        "25% of groundtemperature have value between range 11 to 21\n",
        "\n",
        "25% of groundtemperature have value between range 21 to 29\n",
        "\n",
        "25% of groundtemperature have value between range 29 to 52\n",
        "\n",
        "The mean groundtemperature is around 21"
      ]
    },
    {
      "cell_type": "code",
      "metadata": {
        "id": "28p22NjJHupw"
      },
      "source": [
        "# Perform boxplot on dust column of the dataset\n"
      ],
      "execution_count": null,
      "outputs": []
    },
    {
      "cell_type": "markdown",
      "metadata": {
        "id": "QkNAXkKAXh4W"
      },
      "source": [
        "from above box plot graph:\n",
        "\n",
        "dust\n",
        "\n",
        "25% of dust have value between range 0 to 20\n",
        "\n",
        "25% of dust have value between range 20 to 30\n",
        "\n",
        "25% of dust have value between range 30 to 45\n",
        "\n",
        "25% of dust have value between range 45 to 80\n",
        "\n",
        "The mean dust is around 30"
      ]
    },
    {
      "cell_type": "markdown",
      "metadata": {
        "id": "5heorC90-hwJ"
      },
      "source": [
        "Observation: Mostly the dust are on the lower side of the spectrum. Means people preffer to travel in less dust concentration"
      ]
    },
    {
      "cell_type": "markdown",
      "metadata": {
        "id": "KR-blDxsTPuF"
      },
      "source": [
        "# POINT PLOT"
      ]
    },
    {
      "cell_type": "markdown",
      "metadata": {
        "id": "MCS3F9DoVG3O"
      },
      "source": [
        "\n",
        "1. A point plot uses scatter plot glyphs to visualize features like point estimates and confidence intervals.\n",
        "\n",
        "2. A point plot uses scatter plot points to represent the central tendency of numeric data.\n",
        "\n",
        "3. These plots make use of error bars to indicate any uncertainty around the numeric"
      ]
    },
    {
      "cell_type": "code",
      "metadata": {
        "id": "s2zAB4zGVQYJ"
      },
      "source": [
        "# Perform point plot between Phour and Duration values \n"
      ],
      "execution_count": null,
      "outputs": []
    },
    {
      "cell_type": "markdown",
      "metadata": {
        "id": "dSq-KECE7I9f"
      },
      "source": [
        "duration is more during morning and evening\n",
        "\n",
        "after 8 duration is increasing and after 20 its again decreasing"
      ]
    },
    {
      "cell_type": "code",
      "metadata": {
        "id": "CR4DNAH3NjFh"
      },
      "source": [
        "# Perform point plot between distance and Duration values \n"
      ],
      "execution_count": null,
      "outputs": []
    },
    {
      "cell_type": "markdown",
      "metadata": {
        "id": "UQXNV0tLR9b2"
      },
      "source": [
        "duration and distance have a positive correlation between them\n",
        "\n",
        "\n",
        "\n",
        "as duration increases distance also increases"
      ]
    },
    {
      "cell_type": "code",
      "metadata": {
        "id": "l_ui9CK7NjDm"
      },
      "source": [
        "# Perform point plot between PLong and Duration values \n"
      ],
      "execution_count": null,
      "outputs": []
    },
    {
      "cell_type": "markdown",
      "metadata": {
        "id": "5ny_Z242SETH"
      },
      "source": [
        "as duration  increases  pickup longitude decreases"
      ]
    },
    {
      "cell_type": "code",
      "metadata": {
        "id": "xq1jN6anNi6Q"
      },
      "source": [
        "# Perform point plot between PLatd and Duration values \n"
      ],
      "execution_count": null,
      "outputs": []
    },
    {
      "cell_type": "markdown",
      "metadata": {
        "id": "h3a4ktV6fPRX"
      },
      "source": [
        "duration and PLatd has negative correlation between them.\n",
        "\n",
        "as the value of duration increases value of PLatd decreases"
      ]
    },
    {
      "cell_type": "code",
      "metadata": {
        "id": "5Rzk6OuLNvxX"
      },
      "source": [
        "# Perform point plot between DLong and Duration values \n"
      ],
      "execution_count": null,
      "outputs": []
    },
    {
      "cell_type": "markdown",
      "metadata": {
        "id": "ftRP7FGhe4t9"
      },
      "source": [
        "duration and DLong has negative correlation between them.\n",
        "\n",
        "as the value of duration increases value of DLong decreases"
      ]
    },
    {
      "cell_type": "code",
      "metadata": {
        "id": "wAKQibxFNvps"
      },
      "source": [
        "# Perform point plot between haversine and Duration values \n"
      ],
      "execution_count": null,
      "outputs": []
    },
    {
      "cell_type": "markdown",
      "metadata": {
        "id": "fltSyKzuVTnz"
      },
      "source": [
        "duration and haversine are correlated \n",
        "\n",
        "they have positive correlation between them"
      ]
    },
    {
      "cell_type": "code",
      "metadata": {
        "id": "hws6pITZNvnR"
      },
      "source": [
        "# Perform point plot between Pmonth and Duration values \n"
      ],
      "execution_count": null,
      "outputs": []
    },
    {
      "cell_type": "markdown",
      "metadata": {
        "id": "-OYn57sRTxTL"
      },
      "source": [
        "pmonth and duration are positively correlated\n",
        "\n",
        "as the value of duration increases value of Pmonth also increases\n",
        "\n",
        "\n",
        "\n",
        "\n"
      ]
    },
    {
      "cell_type": "code",
      "metadata": {
        "id": "octc-Cs5Nvk-"
      },
      "source": [
        "# Perform point plot between Pday and Duration values \n"
      ],
      "execution_count": null,
      "outputs": []
    },
    {
      "cell_type": "markdown",
      "metadata": {
        "id": "FsenFRDqiEsB"
      },
      "source": [
        "most of the points are between 14.0 and 15.0\n",
        "\n",
        "very few are above 15,0 and below 14.0"
      ]
    },
    {
      "cell_type": "code",
      "metadata": {
        "id": "5BKwhdNQNveG"
      },
      "source": [
        "# Perform point plot between PDweek and Duration values \n"
      ],
      "execution_count": null,
      "outputs": []
    },
    {
      "cell_type": "markdown",
      "metadata": {
        "id": "LyORl7X8idR2"
      },
      "source": [
        "Duration has a positive correlation with PDweek\n",
        "\n",
        "as the value of duration increasing value of PDweek is also increasing"
      ]
    },
    {
      "cell_type": "code",
      "metadata": {
        "id": "7XjKjcWnNvcL"
      },
      "source": [
        "# Perform point plot between Dmonth and Duration values \n"
      ],
      "execution_count": null,
      "outputs": []
    },
    {
      "cell_type": "markdown",
      "metadata": {
        "id": "GbvNmsiviwaz"
      },
      "source": [
        "all values are between 7.5 and 7.8 \n",
        "\n",
        "there is no relation between Dmonth and Duration"
      ]
    },
    {
      "cell_type": "code",
      "metadata": {
        "id": "FuNA_3xhNvU1"
      },
      "source": [
        "# Perform point plot between Dhour and Duration values \n"
      ],
      "execution_count": null,
      "outputs": []
    },
    {
      "cell_type": "markdown",
      "metadata": {
        "id": "7gWzAvRRjflY"
      },
      "source": [
        "there is a positive relation between duration and Dhour \n",
        "\n",
        "as the value of duration increases value of Dhour also increases"
      ]
    },
    {
      "cell_type": "code",
      "metadata": {
        "id": "CpBDFd4zNvSD"
      },
      "source": [
        "# Perform point plot between DDweek and Duration values \n"
      ],
      "execution_count": null,
      "outputs": []
    },
    {
      "cell_type": "markdown",
      "metadata": {
        "id": "jAcrmVYpj1Sr"
      },
      "source": [
        "there is increase in DDweek when there is increase in duration\n",
        "\n",
        "they are correlated to each other"
      ]
    },
    {
      "cell_type": "code",
      "metadata": {
        "id": "uRwhbQFxNvP2"
      },
      "source": [
        "# Perform point plot between Temp and Duration values \n"
      ],
      "execution_count": null,
      "outputs": []
    },
    {
      "cell_type": "markdown",
      "metadata": {
        "id": "QLXSwVgtoAJg"
      },
      "source": [
        "duration and templerature have a positive relation between them\n"
      ]
    },
    {
      "cell_type": "code",
      "metadata": {
        "id": "hKdnj15INvNj"
      },
      "source": [
        "# Perform point plot between Precip and Duration values \n"
      ],
      "execution_count": null,
      "outputs": []
    },
    {
      "cell_type": "markdown",
      "metadata": {
        "id": "lwXC4YrJnyfX"
      },
      "source": [
        "most of the values are between 0.0 and 0.01\n",
        "\n",
        "very few values are above 0.01"
      ]
    },
    {
      "cell_type": "code",
      "metadata": {
        "id": "OVF-IlPCNvLl"
      },
      "source": [
        "# Perform point plot between wind and Duration values \n"
      ],
      "execution_count": null,
      "outputs": []
    },
    {
      "cell_type": "markdown",
      "metadata": {
        "id": "U-Wq6tmwoUws"
      },
      "source": [
        "duration and wind are correlated \n",
        "\n",
        "as the value of duration increases value of wind is also increasing"
      ]
    },
    {
      "cell_type": "code",
      "metadata": {
        "id": "HhxZfQAlNvJJ"
      },
      "source": [
        "# Perform point plot between humid and Duration values \n"
      ],
      "execution_count": null,
      "outputs": []
    },
    {
      "cell_type": "markdown",
      "metadata": {
        "id": "CMZ8Q8LColNg"
      },
      "source": [
        "duration and humidity are negatively correlated \n",
        "\n",
        "as the value of duration is increasing value of humidity decreases"
      ]
    },
    {
      "cell_type": "code",
      "metadata": {
        "id": "9wp3uGRcNvEz"
      },
      "source": [
        "# Perform point plot between solar and Duration values \n"
      ],
      "execution_count": null,
      "outputs": []
    },
    {
      "cell_type": "markdown",
      "metadata": {
        "id": "lSFZIAppo1eS"
      },
      "source": [
        "as the value of duration is increasing value of solar radiations is also increasing\n",
        "\n",
        "they are correlated to each other"
      ]
    },
    {
      "cell_type": "code",
      "metadata": {
        "id": "DDwdQU3eNvCg"
      },
      "source": [
        "# Perform point plot between snow and Duration values \n"
      ],
      "execution_count": null,
      "outputs": []
    },
    {
      "cell_type": "markdown",
      "metadata": {
        "id": "QlfaX30o2LAF"
      },
      "source": [
        "snow and duration are correlated \n",
        "\n",
        "they have negative relation between them"
      ]
    },
    {
      "cell_type": "code",
      "metadata": {
        "id": "-NF4rkEdNvAp"
      },
      "source": [
        "# Perform point plot between GroundTemp and Duration values \n"
      ],
      "execution_count": null,
      "outputs": []
    },
    {
      "cell_type": "markdown",
      "metadata": {
        "id": "k9au-OlApQ5s"
      },
      "source": [
        "ground temperature and duration are correlated to each other.\n",
        "\n",
        "as the value of duration increases value of ground temperature also increases"
      ]
    },
    {
      "cell_type": "code",
      "metadata": {
        "id": "z1asoODFNu-P"
      },
      "source": [
        "# Perform point plot between dust and Duration values \n"
      ],
      "execution_count": null,
      "outputs": []
    },
    {
      "cell_type": "markdown",
      "metadata": {
        "id": "StvXx81M0hrY"
      },
      "source": [
        "dust and duration are correlated to each other.\n",
        "\n",
        "as the value of duration increases value of dust also increases"
      ]
    },
    {
      "cell_type": "code",
      "metadata": {
        "id": "Y2-_ZgHEPl5U"
      },
      "source": [
        "# Perform point plot between precip and distance values \n"
      ],
      "execution_count": null,
      "outputs": []
    },
    {
      "cell_type": "markdown",
      "metadata": {
        "id": "5gB0yPEHp1qL"
      },
      "source": [
        "all the values are around 0.00\n",
        "\n",
        "very few are above 0.00"
      ]
    },
    {
      "cell_type": "code",
      "metadata": {
        "id": "8AetYyTGPlcT"
      },
      "source": [
        "# Perform point plot between PLong and Dlong values \n"
      ],
      "execution_count": null,
      "outputs": []
    },
    {
      "cell_type": "markdown",
      "metadata": {
        "id": "GZ3DvivNM16o"
      },
      "source": [
        "Plong and Dlong are corelated"
      ]
    },
    {
      "cell_type": "code",
      "metadata": {
        "id": "e--5y2a0PlVP"
      },
      "source": [
        "# Perform point plot between PLong and haversine values \n"
      ],
      "execution_count": null,
      "outputs": []
    },
    {
      "cell_type": "markdown",
      "metadata": {
        "id": "ZPacpixeqRX_"
      },
      "source": [
        "all the values are between 1 and 3\n",
        "\n",
        "very few are above 3 and below 1"
      ]
    },
    {
      "cell_type": "code",
      "metadata": {
        "id": "fzeXPO7MPlML"
      },
      "source": [
        "# Perform point plot between PLong and Pday values \n"
      ],
      "execution_count": null,
      "outputs": []
    },
    {
      "cell_type": "markdown",
      "metadata": {
        "id": "hVGpOfghqgzm"
      },
      "source": [
        "all the values are between 12.5 to 17.5\n",
        "\n",
        "very few are above 17.5 and below 12.5"
      ]
    },
    {
      "cell_type": "code",
      "metadata": {
        "id": "wgSIptvTPlDh"
      },
      "source": [
        "# Perform point plot between PLong and Pmin values \n"
      ],
      "execution_count": null,
      "outputs": []
    },
    {
      "cell_type": "markdown",
      "metadata": {
        "id": "s6Vn1ZbIrEZv"
      },
      "source": [
        "all the values are between 25 to 35\n",
        "\n",
        "very few are above and below of this range"
      ]
    },
    {
      "cell_type": "code",
      "metadata": {
        "id": "K2zWhePrPlA2"
      },
      "source": [
        "# Perform point plot between PLong and PDweek values \n"
      ],
      "execution_count": null,
      "outputs": []
    },
    {
      "cell_type": "markdown",
      "metadata": {
        "id": "lEWWA01wrkpt"
      },
      "source": [
        "all the values are between 2 to 4\n",
        "\n",
        "very few are above and below of this range"
      ]
    },
    {
      "cell_type": "code",
      "metadata": {
        "id": "fEuBJJNVPk6c"
      },
      "source": [
        "# Perform point plot between PLong and Dday values \n"
      ],
      "execution_count": null,
      "outputs": []
    },
    {
      "cell_type": "markdown",
      "metadata": {
        "id": "vncnRFaGrrNH"
      },
      "source": [
        "all the values are between 12 to 17\n",
        "\n",
        "very few are above and below of this range"
      ]
    },
    {
      "cell_type": "code",
      "metadata": {
        "id": "j2HUwtmmQVHN"
      },
      "source": [
        "# Perform point plot between PLong and Precip values \n"
      ],
      "execution_count": null,
      "outputs": []
    },
    {
      "cell_type": "markdown",
      "metadata": {
        "id": "u3nTZVlYsxlk"
      },
      "source": [
        "all values are around 0.00 \n",
        "\n",
        "very few are above 0.00"
      ]
    },
    {
      "cell_type": "code",
      "metadata": {
        "id": "5-vEcenuQU-x"
      },
      "source": [
        "# Perform point plot between PLong and Humind values \n"
      ],
      "execution_count": null,
      "outputs": []
    },
    {
      "cell_type": "markdown",
      "metadata": {
        "id": "kBzXfXl--3LQ"
      },
      "source": [
        "as the distribution value of PLong is increasing the value of distribution of humidity is same"
      ]
    },
    {
      "cell_type": "code",
      "metadata": {
        "id": "Gu993AXgQUCN"
      },
      "source": [
        "# Perform point plot between PLatd and Dday values \n"
      ],
      "execution_count": null,
      "outputs": []
    },
    {
      "cell_type": "markdown",
      "metadata": {
        "id": "2GtC6YXMs7t6"
      },
      "source": [
        "all valies are around 15\n",
        "\n",
        "very few are above and below of 15"
      ]
    },
    {
      "cell_type": "markdown",
      "metadata": {
        "id": "4F4kX3JMThG_"
      },
      "source": [
        "# COUNT PLOT"
      ]
    },
    {
      "cell_type": "markdown",
      "metadata": {
        "id": "zQ4niTHTVYAA"
      },
      "source": [
        "1. A countplot is kind of like a histogram or a bar graph for some categorical area.\n",
        "\n",
        "2. It simply shows the number of occurrences of an item based on a certain type of category.\n"
      ]
    },
    {
      "cell_type": "code",
      "metadata": {
        "id": "XSzd6ctM-SbC"
      },
      "source": [
        "# Perform the countplot on the pickup hour data\n"
      ],
      "execution_count": null,
      "outputs": []
    },
    {
      "cell_type": "markdown",
      "metadata": {
        "id": "qVhMT7dxKza8"
      },
      "source": [
        "more pickups are on morning and evening "
      ]
    },
    {
      "cell_type": "code",
      "metadata": {
        "id": "u_B2L8ge-SXJ"
      },
      "source": [
        "# Perform the countplot on the drop hour data\n"
      ],
      "execution_count": null,
      "outputs": []
    },
    {
      "cell_type": "markdown",
      "metadata": {
        "id": "O7eksE--GCGQ"
      },
      "source": [
        "Observation:  Dropoff hour are high at the office hours both at morning and evening\n",
        "\n"
      ]
    },
    {
      "cell_type": "code",
      "metadata": {
        "id": "t0O9LwpRJe9d"
      },
      "source": [
        "# Perform the countplot on the duration data\n"
      ],
      "execution_count": null,
      "outputs": []
    },
    {
      "cell_type": "markdown",
      "metadata": {
        "id": "gIqS02xLWDYj"
      },
      "source": [
        "distribution of duration is skewed left side\n",
        "\n"
      ]
    },
    {
      "cell_type": "markdown",
      "metadata": {
        "id": "qeWn2EQfFJ2N"
      },
      "source": [
        "short duration trips are common"
      ]
    },
    {
      "cell_type": "code",
      "metadata": {
        "id": "B937iOa1Je6B"
      },
      "source": [
        "# Perform the countplot on the distance data\n"
      ],
      "execution_count": null,
      "outputs": []
    },
    {
      "cell_type": "markdown",
      "metadata": {
        "id": "fMzs0a-Dtfdr"
      },
      "source": [
        "distribution of data is skewed towards left "
      ]
    },
    {
      "cell_type": "markdown",
      "metadata": {
        "id": "cGCYrr5yFRI7"
      },
      "source": [
        "short distance trips are common"
      ]
    },
    {
      "cell_type": "code",
      "metadata": {
        "id": "AhiqG80fJe2r"
      },
      "source": [
        "# Perform the countplot on the PLong data\n"
      ],
      "execution_count": null,
      "outputs": []
    },
    {
      "cell_type": "markdown",
      "metadata": {
        "id": "u7QLtV0FtobD"
      },
      "source": [
        "distribution of data is multimodal"
      ]
    },
    {
      "cell_type": "code",
      "metadata": {
        "id": "EIltEvfIJe0a"
      },
      "source": [
        "# Perform the countplot on the Platd data\n",
        "\n"
      ],
      "execution_count": null,
      "outputs": []
    },
    {
      "cell_type": "markdown",
      "metadata": {
        "id": "1_y9axLPtvby"
      },
      "source": [
        "distribution of data is multimodal"
      ]
    },
    {
      "cell_type": "code",
      "metadata": {
        "id": "5e97lvzzJexR"
      },
      "source": [
        "# Perform the countplot on the Dlong data\n"
      ],
      "execution_count": null,
      "outputs": []
    },
    {
      "cell_type": "markdown",
      "metadata": {
        "id": "mMlsw8k-tzfB"
      },
      "source": [
        "distribution of data is multimodal"
      ]
    },
    {
      "cell_type": "code",
      "metadata": {
        "id": "N9TblcFAJevn"
      },
      "source": [
        "# Perform the countplot on the Dlatd data\n"
      ],
      "execution_count": null,
      "outputs": []
    },
    {
      "cell_type": "markdown",
      "metadata": {
        "id": "dzWH7WOMt2xT"
      },
      "source": [
        "distribution of data is multimodal"
      ]
    },
    {
      "cell_type": "code",
      "metadata": {
        "id": "RTHc1xkFJesY"
      },
      "source": [
        "# Perform the countplot on the Pmonth data\n"
      ],
      "execution_count": null,
      "outputs": []
    },
    {
      "cell_type": "markdown",
      "metadata": {
        "id": "_pWR0PwvLmbm"
      },
      "source": [
        "more picks are on end of the year"
      ]
    },
    {
      "cell_type": "code",
      "metadata": {
        "id": "MAhEoIlOJeqe"
      },
      "source": [
        "# Perform the countplot on the Pday data\n"
      ],
      "execution_count": null,
      "outputs": []
    },
    {
      "cell_type": "markdown",
      "metadata": {
        "id": "Sh5YI2_Gt-Jf"
      },
      "source": [
        "distribution of data is multimodal"
      ]
    },
    {
      "cell_type": "markdown",
      "metadata": {
        "id": "baCupOHgLv-t"
      },
      "source": [
        "pickups are  almost similar on every day of a month"
      ]
    },
    {
      "cell_type": "code",
      "metadata": {
        "id": "1oAzVNcVJenR"
      },
      "source": [
        "# Perform the countplot on the pmin data\n"
      ],
      "execution_count": null,
      "outputs": []
    },
    {
      "cell_type": "markdown",
      "metadata": {
        "id": "zPb2u_CHuEpe"
      },
      "source": [
        "data is distributed equally"
      ]
    },
    {
      "cell_type": "code",
      "metadata": {
        "id": "uiJKZqFKJelP"
      },
      "source": [
        "# Perform the countplot on the PDweek data\n"
      ],
      "execution_count": null,
      "outputs": []
    },
    {
      "cell_type": "markdown",
      "metadata": {
        "id": "Uf0ee3V0uL9E"
      },
      "source": [
        "data is distributed equally"
      ]
    },
    {
      "cell_type": "code",
      "metadata": {
        "id": "nAMHBOmZJeiO"
      },
      "source": [
        "# Perform the countplot on the Dday data\n"
      ],
      "execution_count": null,
      "outputs": []
    },
    {
      "cell_type": "markdown",
      "metadata": {
        "id": "7mjiB73LuSBD"
      },
      "source": [
        "distribution of data is similar"
      ]
    },
    {
      "cell_type": "markdown",
      "metadata": {
        "id": "7RahUVviMQpT"
      },
      "source": [
        "drop-offs are almost similar on every day of a month"
      ]
    },
    {
      "cell_type": "code",
      "metadata": {
        "id": "XNREinK8Jefw"
      },
      "source": [
        "# Perform the countplot on the Dmin data\n"
      ],
      "execution_count": null,
      "outputs": []
    },
    {
      "cell_type": "markdown",
      "metadata": {
        "id": "N7j6BCXDuWw8"
      },
      "source": [
        "data is distribited equally"
      ]
    },
    {
      "cell_type": "markdown",
      "metadata": {
        "id": "FC3x1SHEXO_R"
      },
      "source": [
        "drops on every minute of hour is similar"
      ]
    },
    {
      "cell_type": "code",
      "metadata": {
        "id": "R36Jtp6vJecz"
      },
      "source": [
        "# Perform the countplot on the DDweek data\n"
      ],
      "execution_count": null,
      "outputs": []
    },
    {
      "cell_type": "markdown",
      "metadata": {
        "id": "qi-F7eL-XCqY"
      },
      "source": [
        "drop offs on every day of a week are almost similar"
      ]
    },
    {
      "cell_type": "code",
      "metadata": {
        "id": "KVR-ELktJeYk"
      },
      "source": [
        "# Perform the countplot on the Temp data\n"
      ],
      "execution_count": null,
      "outputs": []
    },
    {
      "cell_type": "markdown",
      "metadata": {
        "id": "agZRZoCRul8F"
      },
      "source": [
        "the distribution of data is skewed toward right"
      ]
    },
    {
      "cell_type": "markdown",
      "metadata": {
        "id": "Hsa4txQ-IuQG"
      },
      "source": [
        "trips are avoided in less temperature"
      ]
    },
    {
      "cell_type": "code",
      "metadata": {
        "id": "NMjEG3YhJeW1"
      },
      "source": [
        "# Perform the countplot on the Precip data\n"
      ],
      "execution_count": null,
      "outputs": []
    },
    {
      "cell_type": "markdown",
      "metadata": {
        "id": "aRH2nRtDuszS"
      },
      "source": [
        "the distribution of data is skewed towards left"
      ]
    },
    {
      "cell_type": "markdown",
      "metadata": {
        "id": "_VwRNZLaIHl3"
      },
      "source": [
        "no trips are planned during rainy or snowy wheather"
      ]
    },
    {
      "cell_type": "code",
      "metadata": {
        "id": "k9ipNlbcJeTU"
      },
      "source": [
        "# Perform the countplot on the wind data\n"
      ],
      "execution_count": null,
      "outputs": []
    },
    {
      "cell_type": "markdown",
      "metadata": {
        "id": "FG6wxb97u1Pq"
      },
      "source": [
        "the distribution of data is skewed towards left"
      ]
    },
    {
      "cell_type": "markdown",
      "metadata": {
        "id": "IszZCvAdHlIf"
      },
      "source": [
        "trips are mostly avoided in windy wheather"
      ]
    },
    {
      "cell_type": "code",
      "metadata": {
        "id": "iPLYQOdKJeQ4"
      },
      "source": [
        "# Perform the countplot on the himid hour data\n",
        "\n"
      ],
      "execution_count": null,
      "outputs": []
    },
    {
      "cell_type": "markdown",
      "metadata": {
        "id": "VRYsrZ_9HLfS"
      },
      "source": [
        "people mostly avoid to go on trips on less humid or in extra humid wheather"
      ]
    },
    {
      "cell_type": "code",
      "metadata": {
        "id": "WIYYZ7m6JeMX"
      },
      "source": [
        "# Perform the countplot on the solar data\n"
      ],
      "execution_count": null,
      "outputs": []
    },
    {
      "cell_type": "markdown",
      "metadata": {
        "id": "jadjPrtfvVbr"
      },
      "source": [
        "the data distribution is skewed towards left side"
      ]
    },
    {
      "cell_type": "code",
      "metadata": {
        "id": "_9gb8SQkJeIk"
      },
      "source": [
        "# Perform the countplot on the snow data\n"
      ],
      "execution_count": null,
      "outputs": []
    },
    {
      "cell_type": "markdown",
      "metadata": {
        "id": "VzC75tHnvg3K"
      },
      "source": [
        "the data distribution is skewed towards left side"
      ]
    },
    {
      "cell_type": "markdown",
      "metadata": {
        "id": "odgPb9zqGvfA"
      },
      "source": [
        "more trips are during  when there is no snowfall."
      ]
    },
    {
      "cell_type": "code",
      "metadata": {
        "id": "rUdL56M0JeGG"
      },
      "source": [
        "# Perform the countplot on the GroundTemp data\n"
      ],
      "execution_count": null,
      "outputs": []
    },
    {
      "cell_type": "markdown",
      "metadata": {
        "id": "b7_9kDDWvpoN"
      },
      "source": [
        "the distribution of data is multimodel"
      ]
    },
    {
      "cell_type": "code",
      "metadata": {
        "id": "FLJ3kEPhJeEJ"
      },
      "source": [
        "# Perform the countplot on the dust data\n"
      ],
      "execution_count": null,
      "outputs": []
    },
    {
      "cell_type": "markdown",
      "metadata": {
        "id": "JVD2MC2lv-QN"
      },
      "source": [
        "distribution of data is skewed towards left"
      ]
    },
    {
      "cell_type": "markdown",
      "metadata": {
        "id": "x5Oor-EwGPz_"
      },
      "source": [
        "more trips are done when there is less dust"
      ]
    },
    {
      "cell_type": "markdown",
      "metadata": {
        "id": "elv28Y8qkOVY"
      },
      "source": [
        "# boxen plot\n",
        "\n",
        "The boxen plot, otherwise known as a Letter-value plot, is a box plot meant for large data sets (n > 10,000).\n",
        "\n",
        "The Boxen plot is very similar to box plot, except for the fact that it plots different quartile values.\n",
        "\n",
        "By plotting different quartile values, we are able to understand the shape of the distribution particularly in the head end and tail end."
      ]
    },
    {
      "cell_type": "code",
      "metadata": {
        "id": "xz-KWDQHJd9T"
      },
      "source": [
        "# Perform boxen plot between distance and Duration \n",
        "\n"
      ],
      "execution_count": null,
      "outputs": []
    },
    {
      "cell_type": "markdown",
      "metadata": {
        "id": "XSjRKFitXxa-"
      },
      "source": [
        "distribution of distance is increasing as the duration  is increasing"
      ]
    },
    {
      "cell_type": "code",
      "metadata": {
        "id": "kBeHrKSOkpOM"
      },
      "source": [
        "# Perform boxen plot between Duration and Plong \n"
      ],
      "execution_count": null,
      "outputs": []
    },
    {
      "cell_type": "markdown",
      "metadata": {
        "id": "hA6yKKyrcJzq"
      },
      "source": [
        "from above boxen plot:\n",
        "\n",
        "The distribution between lower adjacent value and upper adjacent value is symmetrical.\n",
        "There is no relation between Plong and  Duration"
      ]
    },
    {
      "cell_type": "code",
      "metadata": {
        "id": "LhArKbDOkpHB"
      },
      "source": [
        "# Perform boxen plot between PLatd and Duration \n",
        "\n"
      ],
      "execution_count": null,
      "outputs": []
    },
    {
      "cell_type": "markdown",
      "metadata": {
        "id": "gSdL0tDgcoFo"
      },
      "source": [
        "from above boxen plot:\n",
        "\n",
        "The distribution between lower adjacent value and upper adjacent value is symmetrical.\n",
        "There is no relation between duration and Platd\n",
        "\n"
      ]
    },
    {
      "cell_type": "code",
      "metadata": {
        "id": "QOptmFKdkpAP"
      },
      "source": [
        "# Perform boxen plot between DLong and Duration \n"
      ],
      "execution_count": null,
      "outputs": []
    },
    {
      "cell_type": "markdown",
      "metadata": {
        "id": "nyrpCO2Dc-bu"
      },
      "source": [
        "from above boxen plot:\n",
        "\n",
        "The distribution between lower adjacent value and upper adjacent value is symmetrical.\n",
        "There is no relation between duration and Dlong"
      ]
    },
    {
      "cell_type": "code",
      "metadata": {
        "id": "cnK8WwjKko4F"
      },
      "source": [
        "# Perform boxen plot between Dlatd and Duration \n"
      ],
      "execution_count": null,
      "outputs": []
    },
    {
      "cell_type": "markdown",
      "metadata": {
        "id": "EcHw9Mv30pQf"
      },
      "source": [
        "from above boxen plot:\n",
        "\n",
        "The distribution between lower adjacent value and upper adjacent value is symmetrical. There is no relation between duration and Dlatd"
      ]
    },
    {
      "cell_type": "code",
      "metadata": {
        "id": "boLRuvHjkoiu"
      },
      "source": [
        "# Perform boxen plot between Pday and Duration \n"
      ],
      "execution_count": null,
      "outputs": []
    },
    {
      "cell_type": "markdown",
      "metadata": {
        "id": "47mGTLwF0uvN"
      },
      "source": [
        "from above boxen plot:\n",
        "\n",
        "The distribution between lower adjacent value and upper adjacent value is symmetrical. There is no relation between duration and pday"
      ]
    },
    {
      "cell_type": "code",
      "metadata": {
        "id": "3U8g9yV5kobq"
      },
      "source": [
        "# Perform boxen plot between Phour and Duration "
      ],
      "execution_count": null,
      "outputs": []
    },
    {
      "cell_type": "markdown",
      "metadata": {
        "id": "Uas6XRV91JKh"
      },
      "source": [
        "there is weak relation between duration and Phours"
      ]
    },
    {
      "cell_type": "code",
      "metadata": {
        "id": "5FGMNkyXkoUZ"
      },
      "source": [
        "# Perform boxen plot between Pmin and Duration \n"
      ],
      "execution_count": null,
      "outputs": []
    },
    {
      "cell_type": "markdown",
      "metadata": {
        "id": "5RcG_vSv01Tn"
      },
      "source": [
        "from above boxen plot:\n",
        "\n",
        "The distribution between lower adjacent value and upper adjacent value is symmetrical. There is no relation between duration and Pmin"
      ]
    },
    {
      "cell_type": "code",
      "metadata": {
        "id": "xOVV3kOMkoAM"
      },
      "source": [
        "# Perform boxen plot between Dday and Duration \n"
      ],
      "execution_count": null,
      "outputs": []
    },
    {
      "cell_type": "markdown",
      "metadata": {
        "id": "HOv6b6uI052u"
      },
      "source": [
        "from above boxen plot:\n",
        "\n",
        "The distribution between lower adjacent value and upper adjacent value is symmetrical. There is no relation between duration and Dday"
      ]
    },
    {
      "cell_type": "code",
      "metadata": {
        "id": "3wJ5hv_rkn5X"
      },
      "source": [
        "# Perform boxen plot between Dhour and Duration \n",
        "\n"
      ],
      "execution_count": null,
      "outputs": []
    },
    {
      "cell_type": "markdown",
      "metadata": {
        "id": "qYZdmyVY27t9"
      },
      "source": [
        "there is weak relation between duration and Dhour"
      ]
    },
    {
      "cell_type": "code",
      "metadata": {
        "id": "ed50qX9Zknyp"
      },
      "source": [
        "# Perform boxen plot between Dmin and Duration "
      ],
      "execution_count": null,
      "outputs": []
    },
    {
      "cell_type": "markdown",
      "metadata": {
        "id": "g1ma_XX13HoJ"
      },
      "source": [
        "there is no relation between duration and Dmin"
      ]
    },
    {
      "cell_type": "code",
      "metadata": {
        "id": "Le9BJsLBkndT"
      },
      "source": [
        "# Perform boxen plot between Dday and Duration "
      ],
      "execution_count": null,
      "outputs": []
    },
    {
      "cell_type": "markdown",
      "metadata": {
        "id": "XXueebmv2JwD"
      },
      "source": [
        "from above boxen plot:\n",
        "\n",
        "The distribution between lower adjacent value and upper adjacent value is symmetrical. There is no relation between duration and Dday"
      ]
    },
    {
      "cell_type": "code",
      "metadata": {
        "id": "-u6tAk-CknOr"
      },
      "source": [
        "# Perform boxen plot between Dmin and Duration \n"
      ],
      "execution_count": null,
      "outputs": []
    },
    {
      "cell_type": "markdown",
      "metadata": {
        "id": "7_NFRgal3WzM"
      },
      "source": [
        "there is no relation between duration and Dmin"
      ]
    },
    {
      "cell_type": "code",
      "metadata": {
        "id": "h3PONegZkm-K"
      },
      "source": [
        "# Perform boxen plot between temp and Duration "
      ],
      "execution_count": null,
      "outputs": []
    },
    {
      "cell_type": "markdown",
      "metadata": {
        "id": "RWfqQ-La3eME"
      },
      "source": [
        "there is positive relation between duration and temperature"
      ]
    },
    {
      "cell_type": "code",
      "metadata": {
        "id": "PKLmQtA7km1z"
      },
      "source": [
        "# Perform boxen plot between precip and Duration \n"
      ],
      "execution_count": null,
      "outputs": []
    },
    {
      "cell_type": "markdown",
      "metadata": {
        "id": "B2QBZw9M4WDu"
      },
      "source": [
        "no relation between duration and precipitation"
      ]
    },
    {
      "cell_type": "code",
      "metadata": {
        "id": "utFlq2uNkmuE"
      },
      "source": [
        "# Perform boxen plot between wind and Duration \n"
      ],
      "execution_count": null,
      "outputs": []
    },
    {
      "cell_type": "markdown",
      "metadata": {
        "id": "EI-JKx4B2t7U"
      },
      "source": [
        "from above boxen plot:\n",
        "\n",
        "The distribution between lower adjacent value and upper adjacent value is symmetrical. There is no relation between duration and wind"
      ]
    },
    {
      "cell_type": "code",
      "metadata": {
        "id": "vhGLWZiMkmmd"
      },
      "source": [
        "# Perform boxen plot between humid and Duration "
      ],
      "execution_count": null,
      "outputs": []
    },
    {
      "cell_type": "markdown",
      "metadata": {
        "id": "VYuJNMjA4hrB"
      },
      "source": [
        "duration and humidity have weak correlation between them"
      ]
    },
    {
      "cell_type": "code",
      "metadata": {
        "id": "WLPJ2AWakmeI"
      },
      "source": [
        "# Perform boxen plot between solar and Duration \n"
      ],
      "execution_count": null,
      "outputs": []
    },
    {
      "cell_type": "markdown",
      "metadata": {
        "id": "LZpVHaFz3ms6"
      },
      "source": [
        "solar raditation and duration are correlated to eachother.\n",
        "\n",
        "as the solar radiation increases duration also increases"
      ]
    },
    {
      "cell_type": "code",
      "metadata": {
        "id": "nKM3cHBOkmXm"
      },
      "source": [
        "# Perform boxen plot between snow and Duration \n"
      ],
      "execution_count": null,
      "outputs": []
    },
    {
      "cell_type": "markdown",
      "metadata": {
        "id": "Ybjc-6uK4qoG"
      },
      "source": [
        "no relation between snow and duration"
      ]
    },
    {
      "cell_type": "code",
      "metadata": {
        "id": "zrLUTdmmkmRb"
      },
      "source": [
        "# Perform boxen plot between GroundTemp and Duration \n"
      ],
      "execution_count": null,
      "outputs": []
    },
    {
      "cell_type": "markdown",
      "metadata": {
        "id": "fPyrTiEm4wip"
      },
      "source": [
        "duration and ground temperature are correlated"
      ]
    },
    {
      "cell_type": "code",
      "metadata": {
        "id": "YQ8CTxlUkmD0"
      },
      "source": [
        "# Perform boxen plot between dust and Duration \n"
      ],
      "execution_count": null,
      "outputs": []
    },
    {
      "cell_type": "markdown",
      "metadata": {
        "id": "YRUZU2zo42ti"
      },
      "source": [
        "there is not much difference in the value of dust as duration increases.\n",
        "\n",
        "there is weak relation between duration and dust."
      ]
    },
    {
      "cell_type": "code",
      "metadata": {
        "id": "eJay8pbVkljz"
      },
      "source": [
        "# Perform boxen plot between distance and haversine \n"
      ],
      "execution_count": null,
      "outputs": []
    },
    {
      "cell_type": "markdown",
      "metadata": {
        "id": "XjsYm1Ga4_S5"
      },
      "source": [
        "there is weak relation between distance and haversine"
      ]
    },
    {
      "cell_type": "code",
      "metadata": {
        "id": "6DoWVtu7klea"
      },
      "source": [
        "# Perform boxen plot between distance and Pmonth \n",
        "\n"
      ],
      "execution_count": null,
      "outputs": []
    },
    {
      "cell_type": "markdown",
      "metadata": {
        "id": "iyIlJUP-5K87"
      },
      "source": [
        "there is no relation between distance and Pmonth"
      ]
    },
    {
      "cell_type": "code",
      "metadata": {
        "id": "itmuZcUdklY4"
      },
      "source": [
        "# Perform boxen plot between distance and Pday \n",
        "\n"
      ],
      "execution_count": null,
      "outputs": []
    },
    {
      "cell_type": "markdown",
      "metadata": {
        "id": "5tcNdj5X5TJl"
      },
      "source": [
        "no relation between distance Pday"
      ]
    },
    {
      "cell_type": "code",
      "metadata": {
        "id": "bebmNsQ4klNE"
      },
      "source": [
        "# Perform boxen plot between distance and Pmin \n"
      ],
      "execution_count": null,
      "outputs": []
    },
    {
      "cell_type": "markdown",
      "metadata": {
        "id": "GV7P33FG5rNn"
      },
      "source": [
        "there is no relation between distance and Pmin"
      ]
    },
    {
      "cell_type": "code",
      "metadata": {
        "id": "2rt7I2EYklIC"
      },
      "source": [
        "# Perform boxen plot between distance and PDweek \n"
      ],
      "execution_count": null,
      "outputs": []
    },
    {
      "cell_type": "markdown",
      "metadata": {
        "id": "ALa5bB9r593Q"
      },
      "source": [
        "there is no relation between distance and PDweek"
      ]
    },
    {
      "cell_type": "code",
      "metadata": {
        "id": "s6DKb368klCA"
      },
      "source": [
        "# Perform boxen plot between distance and Dmonth \n",
        "\n"
      ],
      "execution_count": null,
      "outputs": []
    },
    {
      "cell_type": "markdown",
      "metadata": {
        "id": "xdNf8Zrd6GVE"
      },
      "source": [
        "there is no relation bertween distance and Dmonth"
      ]
    },
    {
      "cell_type": "code",
      "metadata": {
        "id": "ee65H6B_kk8T"
      },
      "source": [
        "# Perform boxen plot between distance and Dday \n"
      ],
      "execution_count": null,
      "outputs": []
    },
    {
      "cell_type": "markdown",
      "metadata": {
        "id": "OhPoOxZM6QV2"
      },
      "source": [
        "there is no relation between distance and Dday"
      ]
    },
    {
      "cell_type": "markdown",
      "metadata": {
        "id": "HjxNi24ldMNU"
      },
      "source": [
        "### DENDOGRAM"
      ]
    },
    {
      "cell_type": "markdown",
      "metadata": {
        "id": "n2N7f536dkIn"
      },
      "source": [
        "The dendrogram is a visual representation of the compound correlation data. The individual compounds are arranged along the bottom of the dendrogram and referred to as leaf nodes. Compound clusters are formed by joining individual compounds or existing compound clusters with the join point referred to as a node."
      ]
    },
    {
      "cell_type": "code",
      "metadata": {
        "id": "8-ePPovI-SHo"
      },
      "source": [
        "# Plot a Dendrogram on the columns of the dataset\n",
        "\n"
      ],
      "execution_count": null,
      "outputs": []
    },
    {
      "cell_type": "markdown",
      "metadata": {
        "id": "C8ZswPkKdpJt"
      },
      "source": [
        "\n",
        "Observation: All connected are compoundly related to each other like latitudes to longitudes, distance to duration and many more."
      ]
    },
    {
      "cell_type": "markdown",
      "metadata": {
        "id": "_RDgKAoaoviA"
      },
      "source": [
        "# violin plot\n",
        "\n",
        "1. A violin plot is a method of plotting numeric data.\n",
        "\n",
        "1. Violin plots are similar to box plots, except that they also show the probability density of the data at different values, usually smoothed by a kernel density estimator.\n",
        "\n",
        "3. It has:\n",
        "\n",
        "    1. Median (a white dot on the violin plot)\n",
        "    2. Interquartile range (the black bar in the center of violin)\n",
        "    3. The lower/upper adjacent values (the black lines stretched from the bar) — defined as first quartile — 1.5 IQR and third quartile + 1.5 IQR respectively."
      ]
    },
    {
      "cell_type": "code",
      "metadata": {
        "id": "qMuxSOwc-SGs"
      },
      "source": [
        "# Perform violin plot between distance and Duration \n"
      ],
      "execution_count": null,
      "outputs": []
    },
    {
      "cell_type": "markdown",
      "metadata": {
        "id": "dTwQcCLHIrwn"
      },
      "source": [
        "Distance and duration arecorrelated\n",
        "\n",
        "as duration increases distance also increases"
      ]
    },
    {
      "cell_type": "code",
      "metadata": {
        "id": "VwN69Md3-SC-"
      },
      "source": [
        "# Perform violin plot between PLong and Duration \n",
        "\n"
      ],
      "execution_count": null,
      "outputs": []
    },
    {
      "cell_type": "markdown",
      "metadata": {
        "id": "yFInW5qjJo6E"
      },
      "source": [
        "from above violin plot:\n",
        "\n",
        "The distribution between lower adjacent value and upper adjacent value is symmetrical.\n",
        "There is no relation between duration and PLong "
      ]
    },
    {
      "cell_type": "code",
      "metadata": {
        "id": "1YAb6hWa-SB7"
      },
      "source": [
        "# Perform violin plot between Platd and Duration \n",
        "\n"
      ],
      "execution_count": null,
      "outputs": []
    },
    {
      "cell_type": "markdown",
      "metadata": {
        "id": "0b8NI2ZjKC0h"
      },
      "source": [
        "from above violin plot:\n",
        "\n",
        "The distribution between lower adjacent value and upper adjacent value is symmetrical.\n",
        "\n",
        "There is no relation between duration and PLatd "
      ]
    },
    {
      "cell_type": "code",
      "metadata": {
        "id": "NaBNI3F4-R9B"
      },
      "source": [
        "# Perform violin plot between Dlong and Duration \n"
      ],
      "execution_count": null,
      "outputs": []
    },
    {
      "cell_type": "markdown",
      "metadata": {
        "id": "-jWikxYtPy4G"
      },
      "source": [
        "Dlong distribution for all values of duration is simmilar.\n",
        "\n",
        "there is no relation between DLong and duration."
      ]
    },
    {
      "cell_type": "code",
      "metadata": {
        "id": "8-balYs4-R8E"
      },
      "source": [
        "# Perform violin plot between DLatd and Duration \n",
        "\n"
      ],
      "execution_count": null,
      "outputs": []
    },
    {
      "cell_type": "markdown",
      "metadata": {
        "id": "chw4UgbcSgvm"
      },
      "source": [
        "from above violin plot:\n",
        "\n",
        "The distribution between lower adjacent value and upper adjacent value is symmetrical.\n",
        "There is no relation between duration and DLatd "
      ]
    },
    {
      "cell_type": "code",
      "metadata": {
        "id": "-P2S51824H5f"
      },
      "source": [
        "# Perform violin plot between Pmin and Duration \n"
      ],
      "execution_count": null,
      "outputs": []
    },
    {
      "cell_type": "markdown",
      "metadata": {
        "id": "o5tzOy1Q6CXh"
      },
      "source": [
        "from above violin plot:\n",
        "\n",
        "The distribution between lower adjacent value and upper adjacent value is symmetrical. \n",
        "\n",
        "There is no relation between duration and Pmin"
      ]
    },
    {
      "cell_type": "code",
      "metadata": {
        "id": "L58fqQEj4IXG"
      },
      "source": [
        "# Perform violin plot between Dhour and Duration \n",
        "\n"
      ],
      "execution_count": null,
      "outputs": []
    },
    {
      "cell_type": "markdown",
      "metadata": {
        "id": "FeNG-hzQ6Rik"
      },
      "source": [
        "from above violin plot:\n",
        "\n",
        "The distribution between lower adjacent value and upper adjacent value is symmetrical. \n",
        "\n",
        "There is no relation between duration and Dday"
      ]
    },
    {
      "cell_type": "code",
      "metadata": {
        "id": "HyE0jhtu4IpS"
      },
      "source": [
        "# Perform violin plot between Dmin and Duration \n"
      ],
      "execution_count": null,
      "outputs": []
    },
    {
      "cell_type": "markdown",
      "metadata": {
        "id": "fPSzOWhpPabc"
      },
      "source": [
        "Dmin distribution for all values of Duration is similar."
      ]
    },
    {
      "cell_type": "code",
      "metadata": {
        "id": "xQCd_GSe4JE-"
      },
      "source": [
        "# Perform violin plot between Precip and Duration \n"
      ],
      "execution_count": null,
      "outputs": []
    },
    {
      "cell_type": "markdown",
      "metadata": {
        "id": "H-uUaE1BO4G8"
      },
      "source": [
        "precip distribution for all values of duration is simmilar."
      ]
    },
    {
      "cell_type": "code",
      "metadata": {
        "id": "_-kPQcFszkG3"
      },
      "source": [
        "# Perform violin plot between wind and Duration \n"
      ],
      "execution_count": null,
      "outputs": []
    },
    {
      "cell_type": "markdown",
      "metadata": {
        "id": "dsusiEmJOhBk"
      },
      "source": [
        "wind distribution for all values of duration is simmilar.\n"
      ]
    },
    {
      "cell_type": "code",
      "metadata": {
        "id": "allEwlW0zkCd"
      },
      "source": [
        "# Perform violin plot between humid and Duration \n"
      ],
      "execution_count": null,
      "outputs": []
    },
    {
      "cell_type": "markdown",
      "metadata": {
        "id": "WxjtL4NuOSde"
      },
      "source": [
        "as duration increases there is slight change in the humidity \n",
        "\n",
        "humidity is decreasing as duration is increasing"
      ]
    },
    {
      "cell_type": "code",
      "metadata": {
        "id": "PnjD9AHQzkBm"
      },
      "source": [
        "# Perform violin plot between solar and Duration \n"
      ],
      "execution_count": null,
      "outputs": []
    },
    {
      "cell_type": "markdown",
      "metadata": {
        "id": "PyXlSx7sOG6H"
      },
      "source": [
        "solar radiation and duration have positive correlation\n",
        "\n",
        "as value of solar radiation increases duration also increases."
      ]
    },
    {
      "cell_type": "code",
      "metadata": {
        "id": "yZoWZdUjzj8T"
      },
      "source": [
        "# Perform violin plot between GroundTemp and Duration \n"
      ],
      "execution_count": null,
      "outputs": []
    },
    {
      "cell_type": "markdown",
      "metadata": {
        "id": "dplZUzdLNp1-"
      },
      "source": [
        "as the value of duration increases value of ground temperature also slightly increases \n",
        "\n",
        "there is weak correlation between ground temperature and duration."
      ]
    },
    {
      "cell_type": "code",
      "metadata": {
        "id": "GhDbggthzj3W"
      },
      "source": [
        "# Perform violin plot between dust and Duration \n"
      ],
      "execution_count": null,
      "outputs": []
    },
    {
      "cell_type": "markdown",
      "metadata": {
        "id": "xYL7ArKa66J8"
      },
      "source": [
        "from above violin plot:\n",
        "\n",
        "The distribution between lower adjacent value and upper adjacent value is symmetrical. "
      ]
    },
    {
      "cell_type": "markdown",
      "metadata": {
        "id": "MjuIraTIRwbi"
      },
      "source": [
        "There is weak relation between duration and dust"
      ]
    },
    {
      "cell_type": "code",
      "metadata": {
        "id": "_nDCFtvfzjxc"
      },
      "source": [
        "# Perform violin plot between distance and Plong \n"
      ],
      "execution_count": null,
      "outputs": []
    },
    {
      "cell_type": "markdown",
      "metadata": {
        "id": "F2iYxkSF7Hgm"
      },
      "source": [
        "there is no relation between PLong and Distance"
      ]
    },
    {
      "cell_type": "code",
      "metadata": {
        "id": "ka2WlT1mzjwj"
      },
      "source": [
        "# Perform violin plot between distance and PLatd \n"
      ],
      "execution_count": null,
      "outputs": []
    },
    {
      "cell_type": "markdown",
      "metadata": {
        "id": "UDjqshd_7Ven"
      },
      "source": [
        "there is no relation between PLatd and Distance"
      ]
    },
    {
      "cell_type": "code",
      "metadata": {
        "id": "8mShk03MnQEy"
      },
      "source": [
        "# Perform violin plot between distance and Dlong \n"
      ],
      "execution_count": null,
      "outputs": []
    },
    {
      "cell_type": "markdown",
      "metadata": {
        "id": "-bflIjys7d2s"
      },
      "source": [
        "there is no relation between DLatd and Distance"
      ]
    },
    {
      "cell_type": "code",
      "metadata": {
        "id": "AB9EpUExof2H"
      },
      "source": [
        "# Perform violin plot between distance and Dlatd \n"
      ],
      "execution_count": null,
      "outputs": []
    },
    {
      "cell_type": "markdown",
      "metadata": {
        "id": "ZGfSNKdc7kH2"
      },
      "source": [
        "there is no relation between DLatd and Distance"
      ]
    },
    {
      "cell_type": "code",
      "metadata": {
        "id": "myC31tZiofnM"
      },
      "source": [
        "# Perform violin plot between distance and Pday\n"
      ],
      "execution_count": null,
      "outputs": []
    },
    {
      "cell_type": "markdown",
      "metadata": {
        "id": "yvy7HomE8J9Y"
      },
      "source": [
        "there is no relation between Pday and Distance"
      ]
    },
    {
      "cell_type": "markdown",
      "metadata": {
        "id": "ot90YW1tZg6Y"
      },
      "source": [
        "# Modelling\n",
        "\n",
        "NOTE:\n",
        "The dataset has 9.6 million samples.\n",
        "\n",
        "We have used only 100000 samples for training.\n",
        "\n",
        "If you want you can use complete dataset.\n",
        "\n",
        "Using complete dataset will take longer time to train the model."
      ]
    },
    {
      "cell_type": "code",
      "metadata": {
        "id": "HFTce-FJe59b"
      },
      "source": [
        ""
      ],
      "execution_count": null,
      "outputs": []
    },
    {
      "cell_type": "code",
      "metadata": {
        "id": "gz8sG9gNZjie"
      },
      "source": [
        "# Splitting data into Labels and target\n",
        "  "
      ],
      "execution_count": null,
      "outputs": []
    },
    {
      "cell_type": "code",
      "metadata": {
        "id": "BUIGS6-pbAqQ"
      },
      "source": [
        "# Processing the whole dataframe\n"
      ],
      "execution_count": null,
      "outputs": []
    },
    {
      "cell_type": "code",
      "metadata": {
        "id": "DGpO4E38Q3R0"
      },
      "source": [
        "# Splitting the dataset into train and test set\n"
      ],
      "execution_count": null,
      "outputs": []
    },
    {
      "cell_type": "code",
      "metadata": {
        "id": "5XLPYAnyRAXO"
      },
      "source": [
        "# Check the shape of all the splitted dataset\n"
      ],
      "execution_count": null,
      "outputs": []
    },
    {
      "cell_type": "code",
      "metadata": {
        "id": "OQdFUIVVRMpn"
      },
      "source": [
        "# importing necessary libraries for geting metrics of models\n",
        "\n",
        "\n",
        "# Function for calculating RMSE \n",
        "\n",
        "\n",
        "# Function for calculating all the relevant metrics \n",
        " "
      ],
      "execution_count": null,
      "outputs": []
    },
    {
      "cell_type": "code",
      "metadata": {
        "id": "yvud38fmRSHq"
      },
      "source": [
        "# Visualize importance of all the features in the dataset for the prediction\n",
        "\n",
        "\n",
        "     # creating dataframe for feature name and feature importance\n",
        "   \n",
        "\n",
        "    # grouping all data and sorting in descending order\n",
        "  \n",
        "\n",
        "    # ploting feature importance data using boxenplot\n",
        "    \n",
        "\n",
        "\n",
        "\n",
        "    # return fig, ax\n",
        "\n",
        "\n"
      ],
      "execution_count": null,
      "outputs": []
    },
    {
      "cell_type": "markdown",
      "metadata": {
        "id": "l8BjCLgZinW5"
      },
      "source": [
        "\n",
        "# Linear Regression"
      ]
    },
    {
      "cell_type": "markdown",
      "metadata": {
        "id": "rcLd8D2ePYrE"
      },
      "source": [
        "Linear regression attempts to model the relationship between two variables by fitting a linear equation to observed data. One variable is considered to be an explanatory variable, and the other is considered to be a dependent variable."
      ]
    },
    {
      "cell_type": "code",
      "metadata": {
        "id": "AGjr14AERckl",
        "colab": {
          "base_uri": "https://localhost:8080/"
        },
        "outputId": "6ab99ac0-2d04-44ad-ffd1-91a3f7f15ac1"
      },
      "source": [
        "%%time\n",
        "# Fit a Linear Regression model to the train dataset\n",
        "\n",
        "# Import LinearRegressor\n",
        "\n",
        "# Instantiate the model\n",
        "\n",
        "# Fit the model to the data\n",
        "\n",
        "\n",
        "# print score of the model\n",
        "\n",
        "# visualizing the importance of features.\n"
      ],
      "execution_count": null,
      "outputs": [
        {
          "output_type": "stream",
          "name": "stdout",
          "text": [
            "CPU times: user 5 µs, sys: 0 ns, total: 5 µs\n",
            "Wall time: 9.54 µs\n"
          ]
        }
      ]
    },
    {
      "cell_type": "markdown",
      "metadata": {
        "id": "FkubZPWL2A-o"
      },
      "source": [
        "#Random Forest Regressor"
      ]
    },
    {
      "cell_type": "markdown",
      "metadata": {
        "id": "njdsYwgoQSk8"
      },
      "source": [
        "Random forest is a flexible, easy to use machine learning algorithm that produces, even without hyper-parameter tuning, a great result most of the time. It is also one of the most used algorithms, because of its simplicity and diversity."
      ]
    },
    {
      "cell_type": "code",
      "metadata": {
        "id": "qTFQ85T32HGL",
        "colab": {
          "base_uri": "https://localhost:8080/"
        },
        "outputId": "0e737210-c354-4f8e-a08d-1bc2caf2dffb"
      },
      "source": [
        "%%time\n",
        "# Fit a Random Forest Regressor model to the train dataset\n",
        "\n",
        "# Import RandomForrestRegressor\n",
        "\n",
        "# Instantiate the model\n",
        "\n",
        "# Fit the model to the data\n",
        "\n",
        "# print score of the model\n",
        "\n",
        "# visualizing the importance of features.\n"
      ],
      "execution_count": null,
      "outputs": [
        {
          "output_type": "stream",
          "name": "stdout",
          "text": [
            "CPU times: user 4 µs, sys: 0 ns, total: 4 µs\n",
            "Wall time: 9.3 µs\n"
          ]
        }
      ]
    },
    {
      "cell_type": "markdown",
      "metadata": {
        "id": "08wPRquGizaE"
      },
      "source": [
        "#KNeighbors Regressor"
      ]
    },
    {
      "cell_type": "markdown",
      "metadata": {
        "id": "Rq8JtxXHSMCt"
      },
      "source": [
        "KNN regression is a non-parametric method that, in an intuitive manner, approximates the association between independent variables and the continuous outcome by averaging the observations in the same neighbourhood. The size of the neighbourhood needs to be set by the analyst or can be chosen using cross-validation to select the size that minimises the mean-squared error."
      ]
    },
    {
      "cell_type": "code",
      "metadata": {
        "id": "zc3DsWlKa_LK",
        "colab": {
          "base_uri": "https://localhost:8080/"
        },
        "outputId": "e9ba1c9f-e329-4bc2-aafb-d74df803c3ea"
      },
      "source": [
        "%%time\n",
        "# Fit a K-Neighbour Regressor model to the train dataset\n",
        "\n",
        "# Import KNeighbourRegressor\n",
        "\n",
        "# Instantiate the model\n",
        "\n",
        "# Fit the model to the data\n",
        "\n",
        "# print score of the model\n",
        "\n"
      ],
      "execution_count": null,
      "outputs": [
        {
          "output_type": "stream",
          "name": "stdout",
          "text": [
            "CPU times: user 4 µs, sys: 0 ns, total: 4 µs\n",
            "Wall time: 8.34 µs\n"
          ]
        }
      ]
    },
    {
      "cell_type": "markdown",
      "metadata": {
        "id": "o4Bnh-fZ2SMz"
      },
      "source": [
        "#Gradient Boosting Regressor"
      ]
    },
    {
      "cell_type": "markdown",
      "metadata": {
        "id": "rjkexk-sTMMG"
      },
      "source": [
        "Gradient Boosting Algorithm is generally used when we want to decrease the Bias error. it builds an additive model in a forward stage-wise fashion; it allows for the optimization of arbitrary differentiable loss functions. In each stage a regression tree is fit on the negative gradient of the given loss function."
      ]
    },
    {
      "cell_type": "code",
      "metadata": {
        "id": "KEGokOF02YmT",
        "colab": {
          "base_uri": "https://localhost:8080/"
        },
        "outputId": "6571b1ea-e95a-4c72-c200-cd3f3777c516"
      },
      "source": [
        "%%time\n",
        "\n",
        "# Fit a Gradient Boosting Regressor model to the train dataset\n",
        "\n",
        "# Import GradientBoostingRegressor\n",
        "\n",
        "# Instantiate the model\n",
        "\n",
        "# Fit the model to the data\n",
        "\n",
        "\n",
        "# print score of the model\n",
        "\n",
        "# visualizing the importance of features.\n"
      ],
      "execution_count": null,
      "outputs": [
        {
          "output_type": "stream",
          "name": "stdout",
          "text": [
            "CPU times: user 5 µs, sys: 0 ns, total: 5 µs\n",
            "Wall time: 8.82 µs\n"
          ]
        }
      ]
    },
    {
      "cell_type": "markdown",
      "metadata": {
        "id": "S-2EADna2vZ6"
      },
      "source": [
        "#Decision Tree Regressor"
      ]
    },
    {
      "cell_type": "markdown",
      "metadata": {
        "id": "NYZS9JnGTfZb"
      },
      "source": [
        "Decision tree builds regression or classification models in the form of a tree structure. It breaks down a dataset into smaller and smaller subsets while at the same time an associated decision tree is incrementally developed. The final result is a tree with decision nodes and leaf nodes."
      ]
    },
    {
      "cell_type": "code",
      "metadata": {
        "id": "KUYTQChTa94x",
        "colab": {
          "base_uri": "https://localhost:8080/"
        },
        "outputId": "417d1466-3bac-401c-f4b3-c522b1aef332"
      },
      "source": [
        "%%time\n",
        "# Fit a Decision Tree Regressor model to the train dataset\n",
        "\n",
        "# Import DecisionTreeRegressor\n",
        "\n",
        "# Instantiate the model\n",
        "\n",
        "# Fit the model to the data\n",
        "\n",
        "# print score of the model\n",
        "\n",
        "# visualizing the importance of features.\n"
      ],
      "execution_count": null,
      "outputs": [
        {
          "output_type": "stream",
          "name": "stdout",
          "text": [
            "CPU times: user 3 µs, sys: 0 ns, total: 3 µs\n",
            "Wall time: 5.96 µs\n"
          ]
        }
      ]
    },
    {
      "cell_type": "markdown",
      "metadata": {
        "id": "-gHvnesT24i9"
      },
      "source": [
        "#AdaBoostRegressor"
      ]
    },
    {
      "cell_type": "markdown",
      "metadata": {
        "id": "wfec03RyTtI-"
      },
      "source": [
        "An AdaBoost regressor is a meta-estimator that begins by fitting a regressor on the original dataset and then fits additional copies of the regressor on the same dataset but where the weights of instances are adjusted according to the error of the current prediction."
      ]
    },
    {
      "cell_type": "code",
      "metadata": {
        "id": "2WWtJYhFa9vf",
        "colab": {
          "base_uri": "https://localhost:8080/"
        },
        "outputId": "33d92296-bf27-4796-955e-9800750f5964"
      },
      "source": [
        "%%time\n",
        "# Fit a AdaBoost Regressor model to the train dataset\n",
        "\n",
        "# Import AdaBoostRegressor\n",
        "\n",
        "# Instantiate the model\n",
        "\n",
        "# Fit the model to the data\n",
        "\n",
        "# print score of the model\n",
        "\n",
        "# visualizing the importance of features.\n"
      ],
      "execution_count": null,
      "outputs": [
        {
          "output_type": "stream",
          "name": "stdout",
          "text": [
            "CPU times: user 5 µs, sys: 0 ns, total: 5 µs\n",
            "Wall time: 21.5 µs\n"
          ]
        }
      ]
    },
    {
      "cell_type": "markdown",
      "metadata": {
        "id": "zJLJxSlB2_rl"
      },
      "source": [
        "#XGB Regressor"
      ]
    },
    {
      "cell_type": "markdown",
      "metadata": {
        "id": "A8-R0acqTzj4"
      },
      "source": [
        "XGBoost is an ensemble learning method. Sometimes, it may not be sufficient to rely upon the results of just one machine learning model. Ensemble learning offers a systematic solution to combine the predictive power of multiple learners. The resultant is a single model which gives the aggregated output from several models."
      ]
    },
    {
      "cell_type": "code",
      "metadata": {
        "id": "UHqToMSHa9l9",
        "colab": {
          "base_uri": "https://localhost:8080/"
        },
        "outputId": "3ead3787-8076-483f-b095-657fe1120d05"
      },
      "source": [
        "%%time\n",
        "# Import XGBRegressor\n",
        "\n",
        "# Instantiate the model\n",
        "\n",
        "# Fit the model to the data\n",
        "\n",
        "# print score of the model\n",
        "\n",
        "# visualizing the importance of features.\n"
      ],
      "execution_count": null,
      "outputs": [
        {
          "output_type": "stream",
          "name": "stdout",
          "text": [
            "CPU times: user 4 µs, sys: 0 ns, total: 4 µs\n",
            "Wall time: 8.82 µs\n"
          ]
        }
      ]
    },
    {
      "cell_type": "markdown",
      "metadata": {
        "id": "ShMXfHCM2mzW"
      },
      "source": [
        "#Light Gradient Boosted Machine"
      ]
    },
    {
      "cell_type": "code",
      "metadata": {
        "id": "eGsIaS8a2sk4",
        "colab": {
          "base_uri": "https://localhost:8080/"
        },
        "outputId": "63f4af25-80c8-4abe-a8de-35fbbad0716e"
      },
      "source": [
        "%%time\n",
        "# import LGBMregressor\n",
        "\n",
        "# Instantiate the model\n",
        "\n",
        "# Fit the model to the data\n",
        "\n",
        "# print score of the model\n",
        "\n",
        "# visualizing the importance of features.\n"
      ],
      "execution_count": null,
      "outputs": [
        {
          "output_type": "stream",
          "name": "stdout",
          "text": [
            "CPU times: user 4 µs, sys: 0 ns, total: 4 µs\n",
            "Wall time: 9.06 µs\n"
          ]
        }
      ]
    },
    {
      "cell_type": "markdown",
      "metadata": {
        "id": "WsVdXO0z2fxH"
      },
      "source": [
        "###Comparing all the model based on metric"
      ]
    },
    {
      "cell_type": "code",
      "metadata": {
        "id": "5znI_97Ocy1Y"
      },
      "source": [
        "# Helper function for comparing models metrics\n",
        "\n",
        "    # the libraries we need\n",
        "  \n",
        "\n",
        "\n",
        "    # now, create a list with the objects \n",
        "   \n",
        "\n",
        "    # then predict on the test set\n",
        "        \n",
        "    # get metrics of each model, and add to dataframe \n",
        "     "
      ],
      "execution_count": null,
      "outputs": []
    },
    {
      "cell_type": "code",
      "metadata": {
        "id": "8oBEAS41c7hC"
      },
      "source": [
        ""
      ],
      "execution_count": null,
      "outputs": []
    },
    {
      "cell_type": "code",
      "metadata": {
        "id": "vlyLv6rAc3ye"
      },
      "source": [
        "# list of models object\n",
        "\n",
        "# list of models name\n",
        "\n",
        "# use function for comparing models by passing list of models object, names, train and test data\n"
      ],
      "execution_count": null,
      "outputs": []
    },
    {
      "cell_type": "markdown",
      "metadata": {
        "id": "W7iV9aXu2Vz2"
      },
      "source": [
        "### RMSE of all models on train and test data"
      ]
    },
    {
      "cell_type": "code",
      "metadata": {
        "id": "Zo8YdrG0dOtY"
      },
      "source": [
        "# printing rmse comparision of model on train and test\n"
      ],
      "execution_count": null,
      "outputs": []
    },
    {
      "cell_type": "markdown",
      "metadata": {
        "id": "v9whTxbb2KQ1"
      },
      "source": [
        "### All metrics on train and test data"
      ]
    },
    {
      "cell_type": "code",
      "metadata": {
        "id": "PlKCJS60dR5H"
      },
      "source": [
        "# printing comparision of model on train and test\n"
      ],
      "execution_count": null,
      "outputs": []
    },
    {
      "cell_type": "code",
      "metadata": {
        "id": "x3iR7vSPz_C_"
      },
      "source": [
        ""
      ],
      "execution_count": null,
      "outputs": []
    },
    {
      "cell_type": "markdown",
      "metadata": {
        "id": "ULYcTFbT1ymI"
      },
      "source": [
        "# Hyperparameter Tunning"
      ]
    },
    {
      "cell_type": "markdown",
      "metadata": {
        "id": "U6iVGo3G123r"
      },
      "source": [
        "A hyperparameter is a parameter whose value is set before the learning process begins.\n",
        "\n",
        "Hyperparameters tuning is crucial as they control the overall behavior of a machine learning model.\n",
        "\n",
        "Every machine learning models will have different hyperparameters that can be set."
      ]
    },
    {
      "cell_type": "markdown",
      "metadata": {
        "id": "7O7pl8LT17Rg"
      },
      "source": [
        "#RamdomizedSearchCV"
      ]
    },
    {
      "cell_type": "markdown",
      "metadata": {
        "id": "y_3h_XmK1_g7"
      },
      "source": [
        "RandomizedSearchCV is very useful when we have many parameters to try and the training time is very long.\n",
        "\n",
        "1. The first step is to write the parameters that we want to consider\n",
        "2. From these parameters select the best ones.(which are printed in output)"
      ]
    },
    {
      "cell_type": "code",
      "metadata": {
        "id": "u5o_3aH3a8t9"
      },
      "source": [
        "# Use the random grid to search for best hyperparameters\n",
        "\n",
        "\n",
        "  # Random search of parameters, using 3 fold cross validation, \n",
        "  # search across 100 different combinations, and use all available cores\n"
      ],
      "execution_count": null,
      "outputs": []
    },
    {
      "cell_type": "code",
      "metadata": {
        "id": "VM4ROtfYa8lq",
        "colab": {
          "base_uri": "https://localhost:8080/"
        },
        "outputId": "aa9ac92d-236c-4f62-8c9f-482836a48f39"
      },
      "source": [
        "%%time\n",
        "# create random forest regressor parameters dict in list for tunning\n",
        "\n",
        "# passing data for hyper parameter tunning with RandomSearchCV\n"
      ],
      "execution_count": null,
      "outputs": [
        {
          "output_type": "stream",
          "name": "stdout",
          "text": [
            "CPU times: user 4 µs, sys: 0 ns, total: 4 µs\n",
            "Wall time: 9.06 µs\n"
          ]
        }
      ]
    },
    {
      "cell_type": "code",
      "metadata": {
        "id": "j1E-0LFDa8df",
        "colab": {
          "base_uri": "https://localhost:8080/"
        },
        "outputId": "38089fa2-1d9c-4e73-c9ba-63d7f7f35286"
      },
      "source": [
        "%%time\n",
        "# create KNN regressor parameters dict in list for tunning\n",
        "\n",
        "# passing data for hyper parameter tunning with RandomSearchCV\n"
      ],
      "execution_count": null,
      "outputs": [
        {
          "output_type": "stream",
          "name": "stdout",
          "text": [
            "CPU times: user 4 µs, sys: 0 ns, total: 4 µs\n",
            "Wall time: 8.34 µs\n"
          ]
        }
      ]
    },
    {
      "cell_type": "code",
      "metadata": {
        "id": "PJtLZpk-a8Qd",
        "colab": {
          "base_uri": "https://localhost:8080/"
        },
        "outputId": "38c1cb4f-ff59-41c0-9f04-356f5a282622"
      },
      "source": [
        "%%time\n",
        "# create ada boost regressor parameters dict in list for tunning\n",
        "\n",
        "# passing data for hyper parameter tunning with RandomSearchCV\n"
      ],
      "execution_count": null,
      "outputs": [
        {
          "output_type": "stream",
          "name": "stdout",
          "text": [
            "CPU times: user 20 µs, sys: 0 ns, total: 20 µs\n",
            "Wall time: 104 µs\n"
          ]
        }
      ]
    },
    {
      "cell_type": "code",
      "metadata": {
        "id": "2_gr2WTMa8IL",
        "colab": {
          "base_uri": "https://localhost:8080/"
        },
        "outputId": "72de2788-ce29-4ccc-9185-fb8bbf040317"
      },
      "source": [
        "%%time\n",
        "# create XGBoost regressor parameters dict in list for tunning\n",
        "\n",
        "# passing data for hyper parameter tunning with RandomSearchCV\n"
      ],
      "execution_count": null,
      "outputs": [
        {
          "output_type": "stream",
          "name": "stdout",
          "text": [
            "CPU times: user 4 µs, sys: 0 ns, total: 4 µs\n",
            "Wall time: 8.82 µs\n"
          ]
        }
      ]
    },
    {
      "cell_type": "code",
      "metadata": {
        "id": "Y4X69xpDa7_t",
        "colab": {
          "base_uri": "https://localhost:8080/"
        },
        "outputId": "e61957dd-0525-4798-cd6d-bb8888dd26a8"
      },
      "source": [
        "%%time\n",
        "# create Gradient boost regressor parameters dict in list for tunning\n",
        "\n",
        "# passing data for hyper parameter tunning with RandomSearchCV\n"
      ],
      "execution_count": null,
      "outputs": [
        {
          "output_type": "stream",
          "name": "stdout",
          "text": [
            "CPU times: user 4 µs, sys: 0 ns, total: 4 µs\n",
            "Wall time: 8.34 µs\n"
          ]
        }
      ]
    },
    {
      "cell_type": "markdown",
      "metadata": {
        "id": "I4ngqJIPgPjs"
      },
      "source": [
        "#CONCLUSION\n",
        "\n",
        "Distance is the most important feature of them all.\n",
        "\n",
        "We have performed EDA, preprocessing, build different models, visualized feature importance, did hyper parameter tunning of each model \n"
      ]
    },
    {
      "cell_type": "markdown",
      "metadata": {
        "id": "Np7i5zx3gecC"
      },
      "source": [
        "#Congratulation for completing the assignment.\n",
        "\n",
        "You have learned a lot while doing this assignment."
      ]
    }
  ]
}