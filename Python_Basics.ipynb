{
  "nbformat": 4,
  "nbformat_minor": 0,
  "metadata": {
    "colab": {
      "name": "Python Basics.ipynb",
      "provenance": [],
      "include_colab_link": true
    },
    "kernelspec": {
      "display_name": "Python 3",
      "language": "python",
      "name": "python3"
    },
    "language_info": {
      "codemirror_mode": {
        "name": "ipython",
        "version": 3
      },
      "file_extension": ".py",
      "mimetype": "text/x-python",
      "name": "python",
      "nbconvert_exporter": "python",
      "pygments_lexer": "ipython3",
      "version": "3.8.5"
    }
  },
  "cells": [
    {
      "cell_type": "markdown",
      "metadata": {
        "id": "view-in-github",
        "colab_type": "text"
      },
      "source": [
        "<a href=\"https://colab.research.google.com/github/sureshmecad/CloudyML-AI-FOR-ALL/blob/main/Python_Basics.ipynb\" target=\"_parent\"><img src=\"https://colab.research.google.com/assets/colab-badge.svg\" alt=\"Open In Colab\"/></a>"
      ]
    },
    {
      "cell_type": "markdown",
      "metadata": {
        "id": "9O9iu4BwXAbQ"
      },
      "source": [
        "# <center><u> Python basics</u></center>\n",
        "![image.png](attachment:image.png)"
      ]
    },
    {
      "cell_type": "markdown",
      "metadata": {
        "id": "LWsT9cd3XAbS"
      },
      "source": [
        "Python is emerging as the popular language used more in data science applications.\n",
        "\n",
        "Take the case of the tech giant Google that has created the deep learning framework called tensorflow – Python is the primary language used for creating this framework. Its footprint has continued to increase in the environment promoted by Netflix. Production engineers at Facebook and Khan Academy have for long been using it as a prominent language in their environment.\n",
        "\n",
        "Python became the most popular language in the data science world.\n",
        "So what are you waiting for? Lets start learning python basic as your first assignment.\n",
        "\n",
        "\n",
        "Add-on Reference: https://youtu.be/HGOBQPFzWKo\n",
        "\n",
        "Add-on reference: https://youtu.be/8DvywoWv6fI\n",
        "\n",
        "\n",
        "## Variable declaration"
      ]
    },
    {
      "cell_type": "markdown",
      "metadata": {
        "id": "4__2KbhxXAbT"
      },
      "source": [
        "Covers the topic of variable declaration and type of variables\n",
        "\n",
        "reference:- https://youtu.be/RVYY7zMiPbg\n",
        "\n",
        "<p style='text-align: right;'> 1+1+1+1+1 = 5 points</p>\n"
      ]
    },
    {
      "cell_type": "code",
      "metadata": {
        "id": "eEQcbafdXAbT"
      },
      "source": [
        "# declare two variables, a = 5, b = 'city'\n",
        "a = 5\n",
        "b = 'city'"
      ],
      "execution_count": 1,
      "outputs": []
    },
    {
      "cell_type": "code",
      "metadata": {
        "colab": {
          "base_uri": "https://localhost:8080/"
        },
        "id": "Dw8z6EGOXAbU",
        "outputId": "5481f440-13c2-42a5-f8a4-1796ae841f55"
      },
      "source": [
        "# print type of a\n",
        "print(type(a))\n"
      ],
      "execution_count": 2,
      "outputs": [
        {
          "output_type": "stream",
          "text": [
            "<class 'int'>\n"
          ],
          "name": "stdout"
        }
      ]
    },
    {
      "cell_type": "code",
      "metadata": {
        "colab": {
          "base_uri": "https://localhost:8080/"
        },
        "id": "RezZt3U-XAbV",
        "outputId": "00cffbab-8415-4033-cd8d-245da17a5e07"
      },
      "source": [
        "# print type of b\n",
        "print(type(b))"
      ],
      "execution_count": 3,
      "outputs": [
        {
          "output_type": "stream",
          "text": [
            "<class 'str'>\n"
          ],
          "name": "stdout"
        }
      ]
    },
    {
      "cell_type": "code",
      "metadata": {
        "id": "jRFGqnRAXAbV"
      },
      "source": [
        "# swap the values of a and b\n",
        "a, b = b, a\n"
      ],
      "execution_count": 4,
      "outputs": []
    },
    {
      "cell_type": "code",
      "metadata": {
        "colab": {
          "base_uri": "https://localhost:8080/"
        },
        "id": "PBbjuVdjXAbV",
        "outputId": "42613212-0797-4213-d824-a0cdf4bc544c"
      },
      "source": [
        "# run this to confirm \n",
        "print('a =', a, ', b =', b)"
      ],
      "execution_count": 5,
      "outputs": [
        {
          "output_type": "stream",
          "text": [
            "a = city , b = 5\n"
          ],
          "name": "stdout"
        }
      ]
    },
    {
      "cell_type": "markdown",
      "metadata": {
        "id": "It4CQp93XAbW"
      },
      "source": [
        "Cool! so variable declaration and getting it's type was easy."
      ]
    },
    {
      "cell_type": "markdown",
      "metadata": {
        "id": "C3TbHgpgXAbW"
      },
      "source": [
        "## Arithmetic Operations"
      ]
    },
    {
      "cell_type": "markdown",
      "metadata": {
        "id": "CNtVG5riXAbW"
      },
      "source": [
        "Hey novice! this will be easy for you until you know basic arithmetic symbols like +, -, /, * etc.\n",
        "\n",
        "reference:- https://youtu.be/0-hzxfkpHy8\n",
        "\n",
        "<p style='text-align: right;'> 1 + 7 = 8 points </p>\n"
      ]
    },
    {
      "cell_type": "code",
      "metadata": {
        "colab": {
          "base_uri": "https://localhost:8080/"
        },
        "id": "FuI4eIn1XAbW",
        "outputId": "6cf2e8a0-d0c2-4154-82ea-54459bdc07c9"
      },
      "source": [
        "# declare two variables, a = 24, b = 3\n",
        "\n",
        "a = 24\n",
        "b = 3\n",
        "print('a = {}, b = {}'.format(a,b))"
      ],
      "execution_count": 6,
      "outputs": [
        {
          "output_type": "stream",
          "text": [
            "a = 24, b = 3\n"
          ],
          "name": "stdout"
        }
      ]
    },
    {
      "cell_type": "code",
      "metadata": {
        "colab": {
          "base_uri": "https://localhost:8080/"
        },
        "id": "aNu4pLOuXAbX",
        "outputId": "ea2ee2a1-d6ac-4a84-b2a2-c3c382000659"
      },
      "source": [
        "# calculate and print all the possible numerical operations on a and b (There are total 7 operations)\n",
        "print('a + b =', a+b)\n",
        "print('a - b =', a-b)\n",
        "print('a * b =', a*b)\n",
        "print('a / b =', a/b)\n",
        "print('a % b =', a%b)\n",
        "print('a // b =', a//b)\n",
        "print('a ^ b =', a**b)"
      ],
      "execution_count": 7,
      "outputs": [
        {
          "output_type": "stream",
          "text": [
            "a + b = 27\n",
            "a - b = 21\n",
            "a * b = 72\n",
            "a / b = 8.0\n",
            "a % b = 0\n",
            "a // b = 8\n",
            "a ^ b = 13824\n"
          ],
          "name": "stdout"
        }
      ]
    },
    {
      "cell_type": "markdown",
      "metadata": {
        "id": "AolgOCmtXAbX"
      },
      "source": [
        "## Math Functions"
      ]
    },
    {
      "cell_type": "markdown",
      "metadata": {
        "id": "ASevlDxSXAbX"
      },
      "source": [
        "Lets do some simple mathematical operations by using math module. Math module contains various mathematical functions. So here we go!\n",
        "\n",
        "Reference:- https://youtu.be/gktjNyV0xks\n",
        "\n",
        "Reference document: https://docs.python.org/3/library/math.html\n",
        "<p style='text-align: right;'> 10 points </p>\n",
        "\n",
        "\n"
      ]
    },
    {
      "cell_type": "code",
      "metadata": {
        "id": "QMyPcjfWXAbX"
      },
      "source": [
        "#import math\n",
        "import math"
      ],
      "execution_count": 8,
      "outputs": []
    },
    {
      "cell_type": "code",
      "metadata": {
        "id": "GzlfNd0YXAbY"
      },
      "source": [
        "# declare a variable x = 2 and y=5.32167\n",
        "x = 2\n",
        "y = 5.32167"
      ],
      "execution_count": 9,
      "outputs": []
    },
    {
      "cell_type": "code",
      "metadata": {
        "colab": {
          "base_uri": "https://localhost:8080/"
        },
        "id": "lX0JxZeeXAbY",
        "outputId": "7a599dac-8736-4559-c547-a9817bdb48ee"
      },
      "source": [
        "# Print the maximum value between x and y\n",
        "print(max(x, y))"
      ],
      "execution_count": 10,
      "outputs": [
        {
          "output_type": "stream",
          "text": [
            "5.32167\n"
          ],
          "name": "stdout"
        }
      ]
    },
    {
      "cell_type": "code",
      "metadata": {
        "colab": {
          "base_uri": "https://localhost:8080/"
        },
        "id": "PQdDRbBSXAbY",
        "outputId": "86cc1d7e-755a-474c-ef16-40fa585c473a"
      },
      "source": [
        "# Print the minimum value between x and y\n",
        "print(min(x, y))"
      ],
      "execution_count": 11,
      "outputs": [
        {
          "output_type": "stream",
          "text": [
            "2\n"
          ],
          "name": "stdout"
        }
      ]
    },
    {
      "cell_type": "code",
      "metadata": {
        "colab": {
          "base_uri": "https://localhost:8080/"
        },
        "id": "uGJ4I2eiXAbY",
        "outputId": "bea12115-3e5b-4702-b1ad-367aa6622c61"
      },
      "source": [
        "# Print square and cube of x and store in a and b variable\n",
        "a = math.pow(x, 2)\n",
        "b = math.pow(x, 3)\n",
        "print(a)\n",
        "print(b)"
      ],
      "execution_count": 12,
      "outputs": [
        {
          "output_type": "stream",
          "text": [
            "4.0\n",
            "8.0\n"
          ],
          "name": "stdout"
        }
      ]
    },
    {
      "cell_type": "code",
      "metadata": {
        "colab": {
          "base_uri": "https://localhost:8080/"
        },
        "id": "izl9RQMJXAbZ",
        "outputId": "6304b61a-a262-469e-cf71-a1dda174b9fd"
      },
      "source": [
        "#print log of x and store it in variable c\n",
        "c = math.log(x)\n",
        "print(c)"
      ],
      "execution_count": 13,
      "outputs": [
        {
          "output_type": "stream",
          "text": [
            "0.6931471805599453\n"
          ],
          "name": "stdout"
        }
      ]
    },
    {
      "cell_type": "code",
      "metadata": {
        "id": "NYN7miPvXAbZ",
        "colab": {
          "base_uri": "https://localhost:8080/"
        },
        "outputId": "81d4de43-d673-4e20-e496-8c2179f43894"
      },
      "source": [
        "#print minimum value between x,y,a, b and c\n",
        "print(min(x, y, a, b, c))"
      ],
      "execution_count": 14,
      "outputs": [
        {
          "output_type": "stream",
          "text": [
            "0.6931471805599453\n"
          ],
          "name": "stdout"
        }
      ]
    },
    {
      "cell_type": "code",
      "metadata": {
        "id": "P6pvK3o_XAbZ",
        "colab": {
          "base_uri": "https://localhost:8080/"
        },
        "outputId": "29b7ed0f-3181-4a35-b891-5b4ee3adf6af"
      },
      "source": [
        "#print maximum value between x,y,a, b and c\n",
        "print(max(x, y, a, b, c))"
      ],
      "execution_count": 15,
      "outputs": [
        {
          "output_type": "stream",
          "text": [
            "8.0\n"
          ],
          "name": "stdout"
        }
      ]
    },
    {
      "cell_type": "markdown",
      "metadata": {
        "id": "fSyf3cP7To41"
      },
      "source": [
        "- The built-in **round()** function rounds values up and down.\n",
        "- The **math.floor()** function **rounds down** to the next full integer.\n",
        "- The **math.ceil()** function **rounds up** to the next full integer."
      ]
    },
    {
      "cell_type": "code",
      "metadata": {
        "id": "-O2GV8nbXAbZ",
        "colab": {
          "base_uri": "https://localhost:8080/"
        },
        "outputId": "5b89640c-5ae3-4cd0-a467-b26654e7d4c5"
      },
      "source": [
        "#print the largest integer that is smaller than or equal to c. ie.round down\n",
        "print(math.floor(c))"
      ],
      "execution_count": 16,
      "outputs": [
        {
          "output_type": "stream",
          "text": [
            "0\n"
          ],
          "name": "stdout"
        }
      ]
    },
    {
      "cell_type": "code",
      "metadata": {
        "id": "VlnyFQt4XAba",
        "colab": {
          "base_uri": "https://localhost:8080/"
        },
        "outputId": "ecaf1c1e-3da5-4bbb-e139-dd49248bbcca"
      },
      "source": [
        "#print the smallest integer that is greater than or equal to c ie. round up\n",
        "print(math.ceil(c))"
      ],
      "execution_count": 17,
      "outputs": [
        {
          "output_type": "stream",
          "text": [
            "1\n"
          ],
          "name": "stdout"
        }
      ]
    },
    {
      "cell_type": "markdown",
      "metadata": {
        "id": "qWan1SfjXAba"
      },
      "source": [
        "## Logical operations\n",
        "\n",
        "You must be aware of some logical operations you did in college, like 'and', 'or', 'not' etc. These operations becomes even more easy to implement when you have friend like python.\n",
        "\n",
        "Reference:- https://youtu.be/9w992l9TFIs\n",
        "\n",
        "<p style='text-align: right;'> 1 + 1 + 1 + 6 = 9 points </p>\n"
      ]
    },
    {
      "cell_type": "code",
      "metadata": {
        "id": "7hX6x1jdXAba",
        "colab": {
          "base_uri": "https://localhost:8080/"
        },
        "outputId": "9cba7bde-2371-4022-a6a9-deb758f209d8"
      },
      "source": [
        "# declare two variables, a = True, b = False\n",
        "a = True\n",
        "b = False\n",
        "print(a)\n",
        "print(b)"
      ],
      "execution_count": 18,
      "outputs": [
        {
          "output_type": "stream",
          "text": [
            "True\n",
            "False\n"
          ],
          "name": "stdout"
        }
      ]
    },
    {
      "cell_type": "code",
      "metadata": {
        "id": "eh4MdBc-XAbb",
        "colab": {
          "base_uri": "https://localhost:8080/"
        },
        "outputId": "df3c9e14-c768-4b23-aa75-8c4da7b5ae14"
      },
      "source": [
        "# print type of a and type of b\n",
        "print(type(a))\n",
        "print(type(b))"
      ],
      "execution_count": 19,
      "outputs": [
        {
          "output_type": "stream",
          "text": [
            "<class 'bool'>\n",
            "<class 'bool'>\n"
          ],
          "name": "stdout"
        }
      ]
    },
    {
      "cell_type": "markdown",
      "metadata": {
        "id": "xvKvfXsUXAbb"
      },
      "source": [
        "A fun fact for you !\n",
        "The Python Boolean type is one of Python's built-in data types. It's used to represent the truth value of an expression"
      ]
    },
    {
      "cell_type": "code",
      "metadata": {
        "id": "TvnWb433XAbb",
        "colab": {
          "base_uri": "https://localhost:8080/"
        },
        "outputId": "bddb74a4-4ebc-48ab-9ca4-76cd626f835e"
      },
      "source": [
        "# print int(a) and int(b)\n",
        "print('int of a is', int(a))\n",
        "print('int of b is', int(b))"
      ],
      "execution_count": 20,
      "outputs": [
        {
          "output_type": "stream",
          "text": [
            "int of a is 1\n",
            "int of b is 0\n"
          ],
          "name": "stdout"
        }
      ]
    },
    {
      "cell_type": "markdown",
      "metadata": {
        "id": "i9Tgb3vWXAbb"
      },
      "source": [
        "We are sure you must have seen that, values for 'True' is 1 and for 'False' is 0."
      ]
    },
    {
      "cell_type": "code",
      "metadata": {
        "id": "QuLEubgsXAbb",
        "colab": {
          "base_uri": "https://localhost:8080/"
        },
        "outputId": "7bf1f7da-5be1-4e6b-d3f8-f222800a4010"
      },
      "source": [
        "# Find and print the values of not a, not b, a and b, a or b, a and not b\n",
        "print('not a =', not a)\n",
        "print('not b =', not b)\n",
        "print('a and b =', a and b)\n",
        "print('a or b =', a or b)\n",
        "print('a and not b =', a and not b)"
      ],
      "execution_count": 21,
      "outputs": [
        {
          "output_type": "stream",
          "text": [
            "not a = False\n",
            "not b = True\n",
            "a and b = False\n",
            "a or b = True\n",
            "a and not b = True\n"
          ],
          "name": "stdout"
        }
      ]
    },
    {
      "cell_type": "markdown",
      "metadata": {
        "id": "0ONJ6BtMXAbc"
      },
      "source": [
        "We hope you tried to undertand the above output! "
      ]
    },
    {
      "cell_type": "markdown",
      "metadata": {
        "id": "cbjCGJ2SXAbc"
      },
      "source": [
        "## List Comprehensions\n",
        "\n",
        "Hey buddy! Python has really amazing thing called list comprehension. List comprehension offers a shorter syntax when you want to create a new list based on the values of an existing list. Cool right? Let's dive into this more by doing it. \n",
        "\n",
        "Reference:- https://youtu.be/17gTGqHG5xQ\n",
        "\n",
        "<p style='text-align: right;'> 10 + 10 + 10= 30 points </p>\n",
        "\n"
      ]
    },
    {
      "cell_type": "code",
      "metadata": {
        "id": "mjXgP9_cXAbc",
        "colab": {
          "base_uri": "https://localhost:8080/"
        },
        "outputId": "7a6feff4-3dd3-490b-f16a-7f27957f38da"
      },
      "source": [
        "# Using list comprehension, create a list containing numbers from 1 to 20. \n",
        "# Hint: You can use range function of python to do this.\n",
        "list(range(1,21))"
      ],
      "execution_count": 22,
      "outputs": [
        {
          "output_type": "execute_result",
          "data": {
            "text/plain": [
              "[1, 2, 3, 4, 5, 6, 7, 8, 9, 10, 11, 12, 13, 14, 15, 16, 17, 18, 19, 20]"
            ]
          },
          "metadata": {
            "tags": []
          },
          "execution_count": 22
        }
      ]
    },
    {
      "cell_type": "code",
      "metadata": {
        "id": "3_sNiQBtXAbc",
        "colab": {
          "base_uri": "https://localhost:8080/"
        },
        "outputId": "147da904-c72b-4903-d950-d8ca529ac45f"
      },
      "source": [
        "# Using list comprehension, create a list containing numbers from 1 to 20 that are even\n",
        "list(range(2, 21, 2))"
      ],
      "execution_count": 23,
      "outputs": [
        {
          "output_type": "execute_result",
          "data": {
            "text/plain": [
              "[2, 4, 6, 8, 10, 12, 14, 16, 18, 20]"
            ]
          },
          "metadata": {
            "tags": []
          },
          "execution_count": 23
        }
      ]
    },
    {
      "cell_type": "markdown",
      "metadata": {
        "id": "cBLqm24IXAbd"
      },
      "source": [
        "Create a list of all the fruits you like. Using list comprehension, create another list which contains the total number of charachters for each corresponding fruits.\n",
        "- Eg. fruits = [‘apple’,’kiwi’,’orange’], then output would be - [5,4,6]\n"
      ]
    },
    {
      "cell_type": "code",
      "metadata": {
        "id": "sLMDFNDSXAbd",
        "colab": {
          "base_uri": "https://localhost:8080/"
        },
        "outputId": "4bad02e3-054e-45e1-d0b8-4d04047eb681"
      },
      "source": [
        "fruits = ['apple', 'kiwi', 'orange']\n",
        "len_fruits =  [len(i) for i in fruits]\n",
        "\n",
        "print(fruits)\n",
        "print(len_fruits)"
      ],
      "execution_count": 24,
      "outputs": [
        {
          "output_type": "stream",
          "text": [
            "['apple', 'kiwi', 'orange']\n",
            "[5, 4, 6]\n"
          ],
          "name": "stdout"
        }
      ]
    },
    {
      "cell_type": "markdown",
      "metadata": {
        "id": "B5nU7nxBXAbd"
      },
      "source": [
        "The above output is shown if fruits = ['apple','kiwi,'orange'], it can vary for different values of fruits\n",
        "\n",
        "Amazing right?\n"
      ]
    },
    {
      "cell_type": "markdown",
      "metadata": {
        "id": "ZFga_EhIXAbd"
      },
      "source": [
        "## String value and operators\n",
        "\n",
        "<p style='text-align: right;'> 1 + 1 + 1 + 1 + 1 = 5 points </p>\n"
      ]
    },
    {
      "cell_type": "markdown",
      "metadata": {
        "id": "fDmPbqVqXAbe"
      },
      "source": [
        "### Characters in strings\n",
        "\n",
        "\n",
        "Reference:- https://www.programiz.com/python-programming/string\n",
        "\n",
        "Reference:-  https://youtu.be/LnQDWIMaJlA\n"
      ]
    },
    {
      "cell_type": "code",
      "metadata": {
        "id": "j1vNELDIXAbe",
        "colab": {
          "base_uri": "https://localhost:8080/"
        },
        "outputId": "0edadc50-53b6-43d5-858b-4ae4075aacb5"
      },
      "source": [
        "# declare the variables x = cat and y = dog and print it\n",
        "x =  'cat'\n",
        "y = 'dog'\n",
        "\n",
        "print(x)\n",
        "print(y)"
      ],
      "execution_count": 25,
      "outputs": [
        {
          "output_type": "stream",
          "text": [
            "cat\n",
            "dog\n"
          ],
          "name": "stdout"
        }
      ]
    },
    {
      "cell_type": "code",
      "metadata": {
        "id": "U_ofyQecXAbe",
        "colab": {
          "base_uri": "https://localhost:8080/"
        },
        "outputId": "856b80a1-def9-49af-84b3-69456a7bdc82"
      },
      "source": [
        "#Print first character of both x and y. \n",
        "print('First ch of x =', x[0])\n",
        "print('First ch of y =', y[0])"
      ],
      "execution_count": 26,
      "outputs": [
        {
          "output_type": "stream",
          "text": [
            "First ch of x = c\n",
            "First ch of y = d\n"
          ],
          "name": "stdout"
        }
      ]
    },
    {
      "cell_type": "code",
      "metadata": {
        "id": "M8KXgZ5AXAbe",
        "colab": {
          "base_uri": "https://localhost:8080/"
        },
        "outputId": "76ad443f-3772-46e9-af0a-aed8495336e2"
      },
      "source": [
        "#Print last character of both x and y.\n",
        "print('Last ch of x =', x[2])\n",
        "print('Last ch of y =', y[2])"
      ],
      "execution_count": 27,
      "outputs": [
        {
          "output_type": "stream",
          "text": [
            "Last ch of x = t\n",
            "Last ch of y = g\n"
          ],
          "name": "stdout"
        }
      ]
    },
    {
      "cell_type": "code",
      "metadata": {
        "id": "0Nvef4IZXAbf",
        "colab": {
          "base_uri": "https://localhost:8080/"
        },
        "outputId": "54752ef7-aadc-4c20-c68f-62e1c44dd521"
      },
      "source": [
        "#Print len of both x and y\n",
        "print('Length of x is', len(x))\n",
        "print('Length of y is', len(y))"
      ],
      "execution_count": 28,
      "outputs": [
        {
          "output_type": "stream",
          "text": [
            "Length of x is 3\n",
            "Length of y is 3\n"
          ],
          "name": "stdout"
        }
      ]
    },
    {
      "cell_type": "code",
      "metadata": {
        "id": "jtF0Ee0-XAbf",
        "colab": {
          "base_uri": "https://localhost:8080/"
        },
        "outputId": "2341e5f6-7b1e-4176-bb8f-a2f2abc701ee"
      },
      "source": [
        "#concatenate both x and y and store it in variable z and print z\n",
        "z = x + y\n",
        "print(z)"
      ],
      "execution_count": 29,
      "outputs": [
        {
          "output_type": "stream",
          "text": [
            "catdog\n"
          ],
          "name": "stdout"
        }
      ]
    },
    {
      "cell_type": "code",
      "metadata": {
        "id": "BD6hXjDKXAbf",
        "colab": {
          "base_uri": "https://localhost:8080/"
        },
        "outputId": "88e8b40c-9514-4dbc-95ff-6a6beee36a94"
      },
      "source": [
        "#check if x is part of z \n",
        "if x in z:\n",
        "    print(\"True\")\n",
        "else:\n",
        "    print(\"False\")"
      ],
      "execution_count": 30,
      "outputs": [
        {
          "output_type": "stream",
          "text": [
            "True\n"
          ],
          "name": "stdout"
        }
      ]
    },
    {
      "cell_type": "markdown",
      "metadata": {
        "id": "cZIkTIC7XAbf"
      },
      "source": [
        "### String slicing\n",
        "\n",
        "\n",
        "\n",
        "Hey coder, do you know? Python slicing is about obtaining a sub-string from the given string by slicing it respectively from start to end\n",
        "\n",
        "So be ready to implement it today!\n",
        "<p style='text-align: right;'> 2 points </p>"
      ]
    },
    {
      "cell_type": "code",
      "metadata": {
        "id": "LBQNSGx4XAbf",
        "colab": {
          "base_uri": "https://localhost:8080/"
        },
        "outputId": "a423ef0b-a414-49ce-d530-9974980e9b75"
      },
      "source": [
        "#Create variable a = “pineapple”\n",
        "a = \"pineapple\"\n",
        "print(a)"
      ],
      "execution_count": 31,
      "outputs": [
        {
          "output_type": "stream",
          "text": [
            "pineapple\n"
          ],
          "name": "stdout"
        }
      ]
    },
    {
      "cell_type": "code",
      "metadata": {
        "id": "Uh7z0it0XAbg",
        "colab": {
          "base_uri": "https://localhost:8080/"
        },
        "outputId": "dd8e9985-fb03-4a0f-f8fa-1c22496ef4e5"
      },
      "source": [
        "# Using index slicing, print the words ‘pine’ and “apple”.\n",
        "# HINT - a[:]\n",
        "print(a[0:4])\n",
        "print(a[4:9])"
      ],
      "execution_count": 32,
      "outputs": [
        {
          "output_type": "stream",
          "text": [
            "pine\n",
            "apple\n"
          ],
          "name": "stdout"
        }
      ]
    },
    {
      "cell_type": "code",
      "metadata": {
        "id": "WaJg7FkYXAbg",
        "colab": {
          "base_uri": "https://localhost:8080/",
          "height": 35
        },
        "outputId": "1f4ad9d0-e81c-4a06-fa45-8a64637baf8e"
      },
      "source": [
        "#Convert a into upper case\n",
        "a.upper()"
      ],
      "execution_count": 33,
      "outputs": [
        {
          "output_type": "execute_result",
          "data": {
            "application/vnd.google.colaboratory.intrinsic+json": {
              "type": "string"
            },
            "text/plain": [
              "'PINEAPPLE'"
            ]
          },
          "metadata": {
            "tags": []
          },
          "execution_count": 33
        }
      ]
    },
    {
      "cell_type": "markdown",
      "metadata": {
        "id": "euxx4RK-XAbg"
      },
      "source": [
        "## Dealing with Sentences\n",
        "\n",
        "<p style='text-align: right;'> 1+1+1+1+1+1 = 6 points </p>\n"
      ]
    },
    {
      "cell_type": "code",
      "metadata": {
        "id": "OILNhEG0XAbg",
        "colab": {
          "base_uri": "https://localhost:8080/"
        },
        "outputId": "505ad9ee-b008-4d92-f754-73791f0f6ee7"
      },
      "source": [
        "# Declare a sentence of ‘I am flying to London’ and print it\n",
        "h = 'I am flying to London'\n",
        "print(h)"
      ],
      "execution_count": 34,
      "outputs": [
        {
          "output_type": "stream",
          "text": [
            "I am flying to London\n"
          ],
          "name": "stdout"
        }
      ]
    },
    {
      "cell_type": "code",
      "metadata": {
        "id": "jvjVtCEzXAbh",
        "colab": {
          "base_uri": "https://localhost:8080/"
        },
        "outputId": "2be07380-c56b-4e04-e6c6-3e68b10a2a71"
      },
      "source": [
        "#Print length of the sentence\n",
        "print('Len of sentence is', len(h))"
      ],
      "execution_count": 35,
      "outputs": [
        {
          "output_type": "stream",
          "text": [
            "Len of sentence is 21\n"
          ],
          "name": "stdout"
        }
      ]
    },
    {
      "cell_type": "code",
      "metadata": {
        "id": "4wCg3CB0XAbh",
        "colab": {
          "base_uri": "https://localhost:8080/"
        },
        "outputId": "6145a75f-618f-4ef3-c175-622039fc8788"
      },
      "source": [
        "#Using list indexing, to print the word London\n",
        "print(h[14:])"
      ],
      "execution_count": 36,
      "outputs": [
        {
          "output_type": "stream",
          "text": [
            " London\n"
          ],
          "name": "stdout"
        }
      ]
    },
    {
      "cell_type": "code",
      "metadata": {
        "id": "wQ8-_7L5XAbh",
        "colab": {
          "base_uri": "https://localhost:8080/"
        },
        "outputId": "063e3fc6-773f-4838-8982-9e7124355590"
      },
      "source": [
        "# Use .split to get list of individual words in the sentence\n",
        "print(h.split())"
      ],
      "execution_count": 37,
      "outputs": [
        {
          "output_type": "stream",
          "text": [
            "['I', 'am', 'flying', 'to', 'London']\n"
          ],
          "name": "stdout"
        }
      ]
    },
    {
      "cell_type": "code",
      "metadata": {
        "id": "Q9Hk0WnEXAbh",
        "colab": {
          "base_uri": "https://localhost:8080/"
        },
        "outputId": "874aa679-f377-4bc4-ad0d-8d11bff4e86d"
      },
      "source": [
        "# Convert sentence in lower case \n",
        "print(h.lower())"
      ],
      "execution_count": 38,
      "outputs": [
        {
          "output_type": "stream",
          "text": [
            "i am flying to london\n"
          ],
          "name": "stdout"
        }
      ]
    },
    {
      "cell_type": "code",
      "metadata": {
        "id": "qiilKYIpXAbh",
        "colab": {
          "base_uri": "https://localhost:8080/"
        },
        "outputId": "0409484b-30db-4929-8d83-b0f25d916d3b"
      },
      "source": [
        "# Convert sentence in upper case .\n",
        "print(h.upper())"
      ],
      "execution_count": 39,
      "outputs": [
        {
          "output_type": "stream",
          "text": [
            "I AM FLYING TO LONDON\n"
          ],
          "name": "stdout"
        }
      ]
    },
    {
      "cell_type": "markdown",
      "metadata": {
        "id": "yxaUJ3E7XAbi"
      },
      "source": [
        "Great job! Slicing is fun."
      ]
    },
    {
      "cell_type": "markdown",
      "metadata": {
        "id": "DzSyRi1fXAbi"
      },
      "source": [
        "## Functions\n",
        "\n",
        "Declare a function named square, which takes an input as x, and returns the square of x.\n",
        "\n",
        "Reference:- https://youtu.be/Rpq9MC67M08\n",
        "\n",
        "<p style='text-align: right;'> 5 + 3 = 8 points </p>\n"
      ]
    },
    {
      "cell_type": "code",
      "metadata": {
        "id": "5iYwCdiUXAbi"
      },
      "source": [
        "def square(x):\n",
        "  y = x ** 2\n",
        "  return y"
      ],
      "execution_count": 40,
      "outputs": []
    },
    {
      "cell_type": "markdown",
      "metadata": {
        "id": "9b2-3vYhXAbi"
      },
      "source": [
        "Call the function to find the value of square of 9."
      ]
    },
    {
      "cell_type": "code",
      "metadata": {
        "id": "-RT-JKQXXAbi",
        "colab": {
          "base_uri": "https://localhost:8080/"
        },
        "outputId": "22fdea6b-81ef-490c-c4aa-a5a24b5dfe39"
      },
      "source": [
        "# find the square of 9 using the function square you have just created.\n",
        "print('Square of 9 is', square(9))"
      ],
      "execution_count": 41,
      "outputs": [
        {
          "output_type": "stream",
          "text": [
            "Square of 9 is 81\n"
          ],
          "name": "stdout"
        }
      ]
    },
    {
      "cell_type": "markdown",
      "metadata": {
        "id": "C_dCq8LFXAbj"
      },
      "source": [
        "Wohoo! see, defining function was simple"
      ]
    },
    {
      "cell_type": "markdown",
      "metadata": {
        "id": "_S0Qy7riXAbj"
      },
      "source": [
        "#### Define another function which checks whether a given is number is odd or even for a given input and it should print whether the  number is odd or even as an output\n",
        "<p style='text-align: right;'> 5 + 3 = 8 points </p>\n"
      ]
    },
    {
      "cell_type": "code",
      "metadata": {
        "id": "k0D_km0bXAbj",
        "colab": {
          "base_uri": "https://localhost:8080/"
        },
        "outputId": "166d9990-f0c0-4522-f615-c1d9887eb775"
      },
      "source": [
        "# your code here\n",
        "def number(num):\n",
        "  if (num % 2) == 0:  \n",
        "   print(\"{0} is Even number\".format(num))  \n",
        "  else:  \n",
        "   print(\"{0} is Odd number\".format(num))\n",
        "\n",
        "   return\n",
        "\n",
        "number(3)"
      ],
      "execution_count": 42,
      "outputs": [
        {
          "output_type": "stream",
          "text": [
            "3 is Odd number\n"
          ],
          "name": "stdout"
        }
      ]
    },
    {
      "cell_type": "markdown",
      "metadata": {
        "id": "2Rgi1FaHXAbj"
      },
      "source": [
        "Hey smarty! lets use both the functions together to check whether the square of 3,6 and 21 are odd or even.\n"
      ]
    },
    {
      "cell_type": "code",
      "metadata": {
        "id": "xTfbZNF7XAbj",
        "colab": {
          "base_uri": "https://localhost:8080/"
        },
        "outputId": "39b81676-8310-4b1e-e9f3-1bec2f88122e"
      },
      "source": [
        "# your code here\n",
        "def number_square(x):\n",
        "  y = x ** 2\n",
        "\n",
        "  if (y % 2) == 0:  \n",
        "   print(\"{0} is Even\".format(y))  \n",
        "  else:  \n",
        "   print(\"{0} is Odd\".format(y))\n",
        "\n",
        "number_square(3)\n",
        "number_square(6)\n",
        "number_square(21)"
      ],
      "execution_count": 43,
      "outputs": [
        {
          "output_type": "stream",
          "text": [
            "9 is Odd\n",
            "36 is Even\n",
            "441 is Odd\n"
          ],
          "name": "stdout"
        }
      ]
    },
    {
      "cell_type": "markdown",
      "metadata": {
        "id": "TC44FHJqXAbj"
      },
      "source": [
        "hey hey! You did a great code. Did you see the benefit of using functions"
      ]
    },
    {
      "cell_type": "markdown",
      "metadata": {
        "id": "KUocFNx-XAbk"
      },
      "source": [
        "# Loops and Iterations\n",
        "Reference:- https://youtu.be/6iF8Xb7Z3wQ"
      ]
    },
    {
      "cell_type": "markdown",
      "metadata": {
        "id": "bDFPBpbUXAbk"
      },
      "source": [
        "## If statement\n",
        "\n",
        "<p style='text-align: right;'> 1 + 2 + 3 = 6 points </p>\n"
      ]
    },
    {
      "cell_type": "code",
      "metadata": {
        "id": "UNcH3SvIXAbk",
        "colab": {
          "base_uri": "https://localhost:8080/"
        },
        "outputId": "ecb59ac3-2eb1-4b80-bf6d-791a89747b61"
      },
      "source": [
        "#Declare a variable x equal to a number of your choice.\n",
        "#your code here\n",
        "x = 3\n",
        "print(x)"
      ],
      "execution_count": 44,
      "outputs": [
        {
          "output_type": "stream",
          "text": [
            "3\n"
          ],
          "name": "stdout"
        }
      ]
    },
    {
      "cell_type": "code",
      "metadata": {
        "id": "Z7gQDy2rXAbk",
        "colab": {
          "base_uri": "https://localhost:8080/"
        },
        "outputId": "7b8f6d46-05bd-40b2-fec6-d66abea102cd"
      },
      "source": [
        "#Using an if statement, print whether x is zero, positive or negative.\n",
        "if x > 0:\n",
        "   print(x,\"is positive\")\n",
        "elif x == 0:\n",
        "   print(\"It is Zero\")\n",
        "else:\n",
        "   print(x, \"is negative\")"
      ],
      "execution_count": 45,
      "outputs": [
        {
          "output_type": "stream",
          "text": [
            "3 is positive\n"
          ],
          "name": "stdout"
        }
      ]
    },
    {
      "cell_type": "code",
      "metadata": {
        "id": "wOtZfCKeXAbk",
        "colab": {
          "base_uri": "https://localhost:8080/"
        },
        "outputId": "cd71d875-babb-45dd-ac4c-509752006a24"
      },
      "source": [
        "# Now Define a function, which takes input from the user and prints whether the given input is zero,positive or negative.\n",
        "def check_num(x):\n",
        "  if x > 0:\n",
        "   print(x,\"is positive\")\n",
        "  elif x == 0:\n",
        "   print(x,\"if Zero\")\n",
        "  else:\n",
        "   print(x, \"is negative\")\n",
        "\n",
        "check_num(10)\n",
        "check_num(-2)\n",
        "check_num(0)"
      ],
      "execution_count": 46,
      "outputs": [
        {
          "output_type": "stream",
          "text": [
            "10 is positive\n",
            "-2 is negative\n",
            "0 if Zero\n"
          ],
          "name": "stdout"
        }
      ]
    },
    {
      "cell_type": "markdown",
      "metadata": {
        "id": "deRGZzckXAbl"
      },
      "source": [
        "## For loop"
      ]
    },
    {
      "cell_type": "markdown",
      "metadata": {
        "id": "gfgiLOC4XAbl"
      },
      "source": [
        "<p style='text-align: right;'> 2 points </p>\n"
      ]
    },
    {
      "cell_type": "code",
      "metadata": {
        "id": "DKIwZYABXAbl"
      },
      "source": [
        "#Create a list x, such that it contains the elements - ‘India’, ‘Israel’,’Canada’.\n",
        "x = ['India', 'Israel','Canada']"
      ],
      "execution_count": 47,
      "outputs": []
    },
    {
      "cell_type": "code",
      "metadata": {
        "id": "K5X1XxJTXAbl",
        "colab": {
          "base_uri": "https://localhost:8080/"
        },
        "outputId": "c278737d-ecab-41ba-e1f6-130d25ac5a16"
      },
      "source": [
        "#Using For loop, iterate over the list and print the elements.\n",
        "for i in x:\n",
        "  print(i)"
      ],
      "execution_count": 48,
      "outputs": [
        {
          "output_type": "stream",
          "text": [
            "India\n",
            "Israel\n",
            "Canada\n"
          ],
          "name": "stdout"
        }
      ]
    },
    {
      "cell_type": "markdown",
      "metadata": {
        "id": "lYI9U7XMXAbl"
      },
      "source": [
        "<p style='text-align: right;'> 2 points </p>\n"
      ]
    },
    {
      "cell_type": "code",
      "metadata": {
        "id": "LWcKaDM9XAbl",
        "colab": {
          "base_uri": "https://localhost:8080/"
        },
        "outputId": "644b78d1-6417-42fa-d13c-d66d23fda88f"
      },
      "source": [
        "# Using For loop, print the table of 2.\n",
        "for i in range(2,11):    \n",
        "   print(2,'x',i,'=',2*i)"
      ],
      "execution_count": 49,
      "outputs": [
        {
          "output_type": "stream",
          "text": [
            "2 x 2 = 4\n",
            "2 x 3 = 6\n",
            "2 x 4 = 8\n",
            "2 x 5 = 10\n",
            "2 x 6 = 12\n",
            "2 x 7 = 14\n",
            "2 x 8 = 16\n",
            "2 x 9 = 18\n",
            "2 x 10 = 20\n"
          ],
          "name": "stdout"
        }
      ]
    },
    {
      "cell_type": "markdown",
      "metadata": {
        "id": "XHconXO9XAbm"
      },
      "source": [
        "For a given list, x = [21, ‘hello,’cream’, 20,19,’village’], using for loop to iterate over the items and using - if statement print the items that are of type int"
      ]
    },
    {
      "cell_type": "code",
      "metadata": {
        "id": "13OLwLoXXAbm",
        "colab": {
          "base_uri": "https://localhost:8080/"
        },
        "outputId": "556bf325-e4b5-41b2-c2ed-9f108760fe67"
      },
      "source": [
        "#code here\n",
        "x = [21, 'hello', 'cream', 20, 19, 'village']\n",
        "\n",
        "integer = []\n",
        "for i in x:\n",
        "  if type(i) == int:\n",
        "    integer.append(i)\n",
        "\n",
        "integer"
      ],
      "execution_count": 50,
      "outputs": [
        {
          "output_type": "execute_result",
          "data": {
            "text/plain": [
              "[21, 20, 19]"
            ]
          },
          "metadata": {
            "tags": []
          },
          "execution_count": 50
        }
      ]
    },
    {
      "cell_type": "markdown",
      "metadata": {
        "id": "XTQkVbyjXAbm"
      },
      "source": [
        "Using For loop, lets create a pattern. "
      ]
    },
    {
      "cell_type": "markdown",
      "metadata": {
        "id": "QuiD7KYDXAbm"
      },
      "source": [
        "<p style='text-align: right;'> 10 points </p>\n"
      ]
    },
    {
      "cell_type": "code",
      "metadata": {
        "id": "0PRrqmzZXAbm",
        "colab": {
          "base_uri": "https://localhost:8080/"
        },
        "outputId": "0fde6f60-8daa-4d64-aa1b-c8b644b6daa7"
      },
      "source": [
        "# print the following pattern\n",
        "def pyramid(n):\n",
        "  for i in range(0, n):\n",
        "    for j in range(0, i+1):\n",
        "      print(\"* \",end=\"\")\n",
        "    print(\"\\r\")\n",
        "\n",
        "n = 5\n",
        "pyramid(n)"
      ],
      "execution_count": 51,
      "outputs": [
        {
          "output_type": "stream",
          "text": [
            "* \r\n",
            "* * \r\n",
            "* * * \r\n",
            "* * * * \r\n",
            "* * * * * \r\n"
          ],
          "name": "stdout"
        }
      ]
    },
    {
      "cell_type": "markdown",
      "metadata": {
        "id": "jip7B1M9XAbm"
      },
      "source": [
        "## While loop"
      ]
    },
    {
      "cell_type": "markdown",
      "metadata": {
        "id": "EeKPmvRhXAbn"
      },
      "source": [
        "- Using while loop make a function that prints all the values between 1 to n. "
      ]
    },
    {
      "cell_type": "markdown",
      "metadata": {
        "id": "QFxbC3ngXAbn"
      },
      "source": [
        "<p style='text-align: right;'> 10 points </p>\n"
      ]
    },
    {
      "cell_type": "code",
      "metadata": {
        "id": "0vkdyzF2XAbn"
      },
      "source": [
        "def counter(n):\n",
        "  i=1\n",
        "  while(i<=9):\n",
        "    print(i)\n",
        "    i += 1 "
      ],
      "execution_count": 52,
      "outputs": []
    },
    {
      "cell_type": "code",
      "metadata": {
        "id": "TkFMwJjuXAbn",
        "colab": {
          "base_uri": "https://localhost:8080/"
        },
        "outputId": "fa7cd180-21e8-4d87-aa90-90740148093b"
      },
      "source": [
        "counter(10) #this should print numbers from 1 to 10"
      ],
      "execution_count": 53,
      "outputs": [
        {
          "output_type": "stream",
          "text": [
            "1\n",
            "2\n",
            "3\n",
            "4\n",
            "5\n",
            "6\n",
            "7\n",
            "8\n",
            "9\n"
          ],
          "name": "stdout"
        }
      ]
    },
    {
      "cell_type": "markdown",
      "metadata": {
        "id": "6uHDc7mCXAbn"
      },
      "source": [
        "### Write the code for the following, what is the output obtained?\n",
        "- Set a variable flag = True, num = 5\n",
        "- Run a while loop till flag = True\n",
        "- Inside the while loop - \n",
        "    - Increment the value of num by 5\n",
        "    - If value of num is greater then 50, set flag to be False"
      ]
    },
    {
      "cell_type": "code",
      "metadata": {
        "id": "cB_o4osDXAbn",
        "colab": {
          "base_uri": "https://localhost:8080/"
        },
        "outputId": "35f9e68e-c742-40b3-bb75-41a876de3a9b"
      },
      "source": [
        "# your code here\n",
        "num = 0\n",
        "while num < 50:\n",
        "    num += 5\n",
        "    print(num)\n",
        "    if num == 50:\n",
        "        break"
      ],
      "execution_count": 54,
      "outputs": [
        {
          "output_type": "stream",
          "text": [
            "5\n",
            "10\n",
            "15\n",
            "20\n",
            "25\n",
            "30\n",
            "35\n",
            "40\n",
            "45\n",
            "50\n"
          ],
          "name": "stdout"
        }
      ]
    },
    {
      "cell_type": "markdown",
      "metadata": {
        "id": "tO-Q4GQBXAbo"
      },
      "source": [
        "Awsesome! Great job so far. Hope you fell in love with python now."
      ]
    },
    {
      "cell_type": "markdown",
      "metadata": {
        "id": "y2fhyOgGXAbo"
      },
      "source": [
        "----------------------------------------------------------------------"
      ]
    },
    {
      "cell_type": "markdown",
      "metadata": {
        "id": "mQFP12uvXAbo"
      },
      "source": [
        "# Smile, you completed the first milestone :)!! "
      ]
    },
    {
      "cell_type": "markdown",
      "metadata": {
        "id": "vmOuxZPCXAbo"
      },
      "source": [
        "# Its Feedback Time!\n",
        "\n",
        "We hope you’ve enjoyed this course so far. We’re committed to help you use \"AI for All\" course to its full potential, so that you have a great learning experience. And that’s why we need your help in form of a feedback here.\n",
        "\n",
        "**Please fill this feedback form**\n",
        " https://zfrmz.in/MtRG5oWXBdesm6rmSM7N\n",
        " \n",
        "-------------------------------------\n",
        " "
      ]
    }
  ]
}