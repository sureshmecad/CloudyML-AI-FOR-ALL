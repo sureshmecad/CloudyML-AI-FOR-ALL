{
  "nbformat": 4,
  "nbformat_minor": 0,
  "metadata": {
    "colab": {
      "name": "Boosting_CloudyML.ipynb",
      "provenance": [],
      "collapsed_sections": [],
      "include_colab_link": true
    },
    "kernelspec": {
      "display_name": "Python 3",
      "language": "python",
      "name": "python3"
    },
    "language_info": {
      "codemirror_mode": {
        "name": "ipython",
        "version": 3
      },
      "file_extension": ".py",
      "mimetype": "text/x-python",
      "name": "python",
      "nbconvert_exporter": "python",
      "pygments_lexer": "ipython3",
      "version": "3.8.5"
    }
  },
  "cells": [
    {
      "cell_type": "markdown",
      "metadata": {
        "id": "view-in-github",
        "colab_type": "text"
      },
      "source": [
        "<a href=\"https://colab.research.google.com/github/sureshmecad/CloudyML-AI-FOR-ALL/blob/main/Boosting_CloudyML.ipynb\" target=\"_parent\"><img src=\"https://colab.research.google.com/assets/colab-badge.svg\" alt=\"Open In Colab\"/></a>"
      ]
    },
    {
      "cell_type": "markdown",
      "metadata": {
        "_cell_guid": "79c7e3d0-c299-4dcb-8224-4455121ee9b0",
        "_uuid": "d629ff2d2480ee46fbb7e2d37f6b5fab8052498a",
        "collapsed": true,
        "id": "u93kzhf1D3UX"
      },
      "source": [
        "\n",
        "# <center><u>Ensemble ML Algorithms - Boosting</u></center>\n",
        "\n",
        "\n",
        "\n",
        "\n",
        "## TalkingData: Fraudulent Click Prediction\n",
        "\n",
        "\n",
        "\n",
        "\n"
      ]
    },
    {
      "cell_type": "markdown",
      "metadata": {
        "id": "DThpWOx6D3UZ"
      },
      "source": [
        "In this assignment, we will apply various boosting algorithms to solve an interesting classification problem from the domain of 'digital fraud'.\n",
        "\n",
        "The analysis is divided into the following sections:\n",
        "- Understanding the business problem\n",
        "- Understanding and exploring the data\n",
        "- Feature engineering: Creating new features\n",
        "- Model building and evaluation: AdaBoost\n",
        "- Modelling building and evaluation: Gradient Boosting\n",
        "- Modelling building and evaluation: XGBoost\n",
        "- Modelling building and evaluation: LightGBM\n",
        "- Modelling building and evaluation: CatBoost\n",
        "\n",
        "\n"
      ]
    },
    {
      "cell_type": "markdown",
      "metadata": {
        "id": "AZvCLMIhD3Ua"
      },
      "source": [
        "## Understanding the Business Problem\n",
        "\n",
        "<p style='text-align: right;'> 5 points</p>\n",
        "\n",
        "\n",
        "<a href=\"https://www.talkingdata.com/\">TalkingData</a> is a Chinese big data company, and one of their areas of expertise is mobile advertisements.\n",
        "\n",
        "In mobile advertisements, **click fraud** is a major source of losses. Click fraud is the practice of repeatedly clicking on an advertisement hosted on a website with the intention of generating revenue for the host website or draining revenue from the advertiser.\n",
        "\n",
        "In this case, TalkingData happens to be serving the advertisers (their clients). TalkingData cover a whopping **approx. 70% of the active mobile devices in China**, of which 90% are potentially fraudulent (i.e. the user is actually not going to download the app after clicking).\n",
        "\n",
        "You can imagine the amount of money they can help clients save if they are able to predict whether a given click is fraudulent (or equivalently, whether a given click will result in a download). \n",
        "\n",
        "Their current approach to solve this problem is that they've generated a blacklist of IP addresses - those IPs which produce lots of clicks, but never install any apps. Now, they want to try some advanced techniques to predict the probability of a click being genuine/fraud.\n",
        "\n",
        "In this problem, we will use the features associated with clicks, such as IP address, operating system, device type, time of click etc. to predict the probability of a click being fraud.\n",
        "\n",
        "They have released <a href=\"https://www.kaggle.com/c/talkingdata-adtracking-fraud-detection\">the problem on Kaggle here.</a>."
      ]
    },
    {
      "cell_type": "markdown",
      "metadata": {
        "id": "mOroROEND3Ub"
      },
      "source": [
        "## Understanding and Exploring the Data\n",
        "\n",
        "The data contains observations of about 240 million clicks, and whether a given click resulted in a download or not (1/0). \n",
        "\n",
        "On Kaggle, the data is split into train.csv and train_sample.csv (100,000 observations). We'll use the smaller train_sample.csv in this notebook for speed, though while training the model for Kaggle submissions, the full training data will obviously produce better results.\n",
        "\n",
        "The detailed data dictionary is mentioned here:\n",
        "- ```ip```: ip address of click.\n",
        "- ```app```: app id for marketing.\n",
        "- ```device```: device type id of user mobile phone (e.g., iphone 6 plus, iphone 7, huawei mate 7, etc.)\n",
        "- ```os```: os version id of user mobile phone\n",
        "- ```channel```: channel id of mobile ad publisher\n",
        "- ```click_time```: timestamp of click (UTC)\n",
        "- ```attributed_time```: if user download the app for after clicking an ad, this is the time of the app download\n",
        "- ```is_attributed```: the target that is to be predicted, indicating the app was downloaded\n",
        "\n",
        "Let's try finding some useful trends in the data."
      ]
    },
    {
      "cell_type": "code",
      "metadata": {
        "_cell_guid": "5ba86a36-b8be-44db-ad92-e3cddbb354d1",
        "_uuid": "cd4d66f4ecc6daa0ea4cab6359fc5203112f245c",
        "id": "wEs3rPsoD3Uc"
      },
      "source": [
        "#importing important libraries which are going to be used\n",
        "\n",
        "import numpy as np \n",
        "import pandas as pd \n",
        "import sklearn\n",
        "import matplotlib.pyplot as plt\n",
        "import seaborn as sns\n",
        "\n",
        "from sklearn.model_selection import train_test_split\n",
        "from sklearn.model_selection import KFold\n",
        "from sklearn.model_selection import GridSearchCV\n",
        "from sklearn.model_selection import RandomizedSearchCV\n",
        "\n",
        "from sklearn.model_selection import cross_val_score\n",
        "from sklearn.preprocessing import LabelEncoder\n",
        "from sklearn.tree import DecisionTreeClassifier\n",
        "from sklearn.ensemble import AdaBoostClassifier\n",
        "from sklearn.ensemble import GradientBoostingClassifier\n",
        "from lightgbm import LGBMClassifier\n",
        "from sklearn import metrics\n",
        "import xgboost as xgb\n",
        "from xgboost import XGBClassifier\n",
        "from xgboost import plot_importance\n",
        "import gc # for deleting unused variables\n",
        "%matplotlib inline\n",
        "\n",
        "import os\n",
        "import warnings\n",
        "warnings.filterwarnings('ignore')"
      ],
      "execution_count": 77,
      "outputs": []
    },
    {
      "cell_type": "markdown",
      "metadata": {
        "_cell_guid": "d408baf0-f640-45f3-8dec-141746a985a8",
        "_uuid": "7a3dc1d7ebed1cdc9818338682bf5858e276681e",
        "id": "4rn6B52SD3Ud"
      },
      "source": [
        "#### Reading the Data  \n",
        "\n",
        "The code below reads the train_sample.csv file if you set testing = True, else reads the full train.csv file. You can read the sample while tuning the model etc., and then run the model on the full data once done.\n",
        "\n",
        "#### Important Note: Save memory when the data is huge\n",
        "\n",
        "Since the training data is quite huge, the program will be quite slow if you don't consciously follow some best practices to save memory. This notebook demonstrates some of those practices. \n",
        "\n",
        "We will provide you the code this time. But rember that you need to learn these best practices to optimize any ML project."
      ]
    },
    {
      "cell_type": "code",
      "source": [
        "from google.colab import drive\n",
        "drive.mount('/content/drive')"
      ],
      "metadata": {
        "colab": {
          "base_uri": "https://localhost:8080/"
        },
        "id": "41nkmcWIW25o",
        "outputId": "9b2b9a0a-438e-48c9-e612-5627c05ec313"
      },
      "execution_count": 2,
      "outputs": [
        {
          "output_type": "stream",
          "name": "stdout",
          "text": [
            "Drive already mounted at /content/drive; to attempt to forcibly remount, call drive.mount(\"/content/drive\", force_remount=True).\n"
          ]
        }
      ]
    },
    {
      "cell_type": "code",
      "metadata": {
        "_cell_guid": "54ed4833-efb3-4adf-971b-28a56ae19d01",
        "_uuid": "bac7dea7334ff1fb925347f9302b3d06e189fbc7",
        "id": "ylU947HvD3Ue",
        "scrolled": false
      },
      "source": [
        "# reading training data\n",
        "\n",
        "# specify column dtypes to save memory (by default pandas reads some columns as floats)\n",
        "# note that click_id is only in test data, not training data\n",
        "dtypes = {\n",
        "        'ip'            : 'uint16',\n",
        "        'app'           : 'uint16',\n",
        "        'device'        : 'uint16',\n",
        "        'os'            : 'uint16',\n",
        "        'channel'       : 'uint16',\n",
        "        'is_attributed' : 'uint8',\n",
        "        'click_id'      : 'uint32' \n",
        "        }\n",
        "\n",
        "# read training_sample.csv for quick testing/debug, else read the full train.csv\n",
        "testing = True\n",
        "if testing:\n",
        "    train_path = \"/content/drive/MyDrive/CloudyML/Fraudulent Click Prediction.zip\"\n",
        "    skiprows = None\n",
        "    nrows = None\n",
        "    colnames=['ip','app','device','os', 'channel', 'click_time', 'is_attributed']\n",
        "else:\n",
        "    train_path = \"train.csv\"\n",
        "    skiprows = range(1, 144903891)\n",
        "    nrows = 10000000\n",
        "    colnames=['ip','app','device','os', 'channel', 'click_time', 'is_attributed']\n",
        "\n",
        "# read training data (train_sample.csv)\n",
        "train_sample = pd.read_csv(train_path, skiprows=skiprows, nrows=nrows, dtype=dtypes, usecols=colnames)"
      ],
      "execution_count": 3,
      "outputs": []
    },
    {
      "cell_type": "code",
      "metadata": {
        "_cell_guid": "98d1b00a-8ee6-4959-9091-e8b56e4bcb15",
        "_uuid": "a9f5559317e6cc476c47b166bd95118c9f29dbbe",
        "colab": {
          "base_uri": "https://localhost:8080/"
        },
        "id": "__DK7dKCD3Ug",
        "outputId": "01ab9cf1-2a10-45cd-c866-7d79743c2b0a"
      },
      "source": [
        "# Printing length of training data\n",
        "len(train_sample.index)"
      ],
      "execution_count": 4,
      "outputs": [
        {
          "output_type": "execute_result",
          "data": {
            "text/plain": [
              "100000"
            ]
          },
          "metadata": {},
          "execution_count": 4
        }
      ]
    },
    {
      "cell_type": "markdown",
      "metadata": {
        "id": "MCt2oiT6D3Uj"
      },
      "source": [
        "To get memory consumed by each column use memory_usage() function on train_sample\n",
        "\n",
        "Refer: https://www.w3resource.com/pandas/dataframe/dataframe-memory_usage.php"
      ]
    },
    {
      "cell_type": "code",
      "metadata": {
        "_cell_guid": "7743ffd9-a38c-4130-b7d4-373e324bd9ae",
        "_uuid": "663ed1e0137fce0f2a5b2ebd02c7bf6a35c506c7",
        "colab": {
          "base_uri": "https://localhost:8080/"
        },
        "id": "pqrdhOIyD3Uk",
        "scrolled": true,
        "outputId": "7693472b-c99d-4477-efe1-299ba8b9fe46"
      },
      "source": [
        "# Displays memory consumed by each column ---\n",
        "print(train_sample.memory_usage())"
      ],
      "execution_count": 5,
      "outputs": [
        {
          "output_type": "stream",
          "name": "stdout",
          "text": [
            "Index               128\n",
            "ip               200000\n",
            "app              200000\n",
            "device           200000\n",
            "os               200000\n",
            "channel          200000\n",
            "click_time       800000\n",
            "is_attributed    100000\n",
            "dtype: int64\n"
          ]
        }
      ]
    },
    {
      "cell_type": "markdown",
      "metadata": {
        "id": "2oETlzPKD3Ul"
      },
      "source": [
        "To get space used by training data then use sum of memory consumed by each variable divided by 1024**2\n"
      ]
    },
    {
      "cell_type": "code",
      "metadata": {
        "_cell_guid": "196408ab-7891-4f75-bf3a-c491525ab4ff",
        "_uuid": "4c4323fe3fdf0f12fd065c83b253385a5826413c",
        "colab": {
          "base_uri": "https://localhost:8080/"
        },
        "id": "BW05Lt3DD3Ul",
        "outputId": "b9852706-6c63-4113-f425-55af968a0933"
      },
      "source": [
        "# space used by training data\n",
        "print(\"Training dataset uses {0} MB\".format(train_sample.memory_usage().sum()/1024**2))"
      ],
      "execution_count": 6,
      "outputs": [
        {
          "output_type": "stream",
          "name": "stdout",
          "text": [
            "Training dataset uses 1.812103271484375 MB\n"
          ]
        }
      ]
    },
    {
      "cell_type": "code",
      "metadata": {
        "_cell_guid": "85dce024-c56b-412d-b230-7a42d1e61661",
        "_uuid": "831d573b61c925fed93c55d4a4094e2f374e727b",
        "colab": {
          "base_uri": "https://localhost:8080/",
          "height": 206
        },
        "id": "tAPg-EDgD3Um",
        "scrolled": true,
        "outputId": "d12636df-e647-4256-9121-3e7a79b7e465"
      },
      "source": [
        "# training data top rows\n",
        "train_sample.head()"
      ],
      "execution_count": 7,
      "outputs": [
        {
          "output_type": "execute_result",
          "data": {
            "text/html": [
              "\n",
              "  <div id=\"df-33bc6ae6-0adb-4534-b24d-45331e96d2d1\">\n",
              "    <div class=\"colab-df-container\">\n",
              "      <div>\n",
              "<style scoped>\n",
              "    .dataframe tbody tr th:only-of-type {\n",
              "        vertical-align: middle;\n",
              "    }\n",
              "\n",
              "    .dataframe tbody tr th {\n",
              "        vertical-align: top;\n",
              "    }\n",
              "\n",
              "    .dataframe thead th {\n",
              "        text-align: right;\n",
              "    }\n",
              "</style>\n",
              "<table border=\"1\" class=\"dataframe\">\n",
              "  <thead>\n",
              "    <tr style=\"text-align: right;\">\n",
              "      <th></th>\n",
              "      <th>ip</th>\n",
              "      <th>app</th>\n",
              "      <th>device</th>\n",
              "      <th>os</th>\n",
              "      <th>channel</th>\n",
              "      <th>click_time</th>\n",
              "      <th>is_attributed</th>\n",
              "    </tr>\n",
              "  </thead>\n",
              "  <tbody>\n",
              "    <tr>\n",
              "      <th>0</th>\n",
              "      <td>22004</td>\n",
              "      <td>12</td>\n",
              "      <td>1</td>\n",
              "      <td>13</td>\n",
              "      <td>497</td>\n",
              "      <td>2017-11-07 09:30:38</td>\n",
              "      <td>0</td>\n",
              "    </tr>\n",
              "    <tr>\n",
              "      <th>1</th>\n",
              "      <td>40024</td>\n",
              "      <td>25</td>\n",
              "      <td>1</td>\n",
              "      <td>17</td>\n",
              "      <td>259</td>\n",
              "      <td>2017-11-07 13:40:27</td>\n",
              "      <td>0</td>\n",
              "    </tr>\n",
              "    <tr>\n",
              "      <th>2</th>\n",
              "      <td>35888</td>\n",
              "      <td>12</td>\n",
              "      <td>1</td>\n",
              "      <td>19</td>\n",
              "      <td>212</td>\n",
              "      <td>2017-11-07 18:05:24</td>\n",
              "      <td>0</td>\n",
              "    </tr>\n",
              "    <tr>\n",
              "      <th>3</th>\n",
              "      <td>29048</td>\n",
              "      <td>13</td>\n",
              "      <td>1</td>\n",
              "      <td>13</td>\n",
              "      <td>477</td>\n",
              "      <td>2017-11-07 04:58:08</td>\n",
              "      <td>0</td>\n",
              "    </tr>\n",
              "    <tr>\n",
              "      <th>4</th>\n",
              "      <td>2877</td>\n",
              "      <td>12</td>\n",
              "      <td>1</td>\n",
              "      <td>1</td>\n",
              "      <td>178</td>\n",
              "      <td>2017-11-09 09:00:09</td>\n",
              "      <td>0</td>\n",
              "    </tr>\n",
              "  </tbody>\n",
              "</table>\n",
              "</div>\n",
              "      <button class=\"colab-df-convert\" onclick=\"convertToInteractive('df-33bc6ae6-0adb-4534-b24d-45331e96d2d1')\"\n",
              "              title=\"Convert this dataframe to an interactive table.\"\n",
              "              style=\"display:none;\">\n",
              "        \n",
              "  <svg xmlns=\"http://www.w3.org/2000/svg\" height=\"24px\"viewBox=\"0 0 24 24\"\n",
              "       width=\"24px\">\n",
              "    <path d=\"M0 0h24v24H0V0z\" fill=\"none\"/>\n",
              "    <path d=\"M18.56 5.44l.94 2.06.94-2.06 2.06-.94-2.06-.94-.94-2.06-.94 2.06-2.06.94zm-11 1L8.5 8.5l.94-2.06 2.06-.94-2.06-.94L8.5 2.5l-.94 2.06-2.06.94zm10 10l.94 2.06.94-2.06 2.06-.94-2.06-.94-.94-2.06-.94 2.06-2.06.94z\"/><path d=\"M17.41 7.96l-1.37-1.37c-.4-.4-.92-.59-1.43-.59-.52 0-1.04.2-1.43.59L10.3 9.45l-7.72 7.72c-.78.78-.78 2.05 0 2.83L4 21.41c.39.39.9.59 1.41.59.51 0 1.02-.2 1.41-.59l7.78-7.78 2.81-2.81c.8-.78.8-2.07 0-2.86zM5.41 20L4 18.59l7.72-7.72 1.47 1.35L5.41 20z\"/>\n",
              "  </svg>\n",
              "      </button>\n",
              "      \n",
              "  <style>\n",
              "    .colab-df-container {\n",
              "      display:flex;\n",
              "      flex-wrap:wrap;\n",
              "      gap: 12px;\n",
              "    }\n",
              "\n",
              "    .colab-df-convert {\n",
              "      background-color: #E8F0FE;\n",
              "      border: none;\n",
              "      border-radius: 50%;\n",
              "      cursor: pointer;\n",
              "      display: none;\n",
              "      fill: #1967D2;\n",
              "      height: 32px;\n",
              "      padding: 0 0 0 0;\n",
              "      width: 32px;\n",
              "    }\n",
              "\n",
              "    .colab-df-convert:hover {\n",
              "      background-color: #E2EBFA;\n",
              "      box-shadow: 0px 1px 2px rgba(60, 64, 67, 0.3), 0px 1px 3px 1px rgba(60, 64, 67, 0.15);\n",
              "      fill: #174EA6;\n",
              "    }\n",
              "\n",
              "    [theme=dark] .colab-df-convert {\n",
              "      background-color: #3B4455;\n",
              "      fill: #D2E3FC;\n",
              "    }\n",
              "\n",
              "    [theme=dark] .colab-df-convert:hover {\n",
              "      background-color: #434B5C;\n",
              "      box-shadow: 0px 1px 3px 1px rgba(0, 0, 0, 0.15);\n",
              "      filter: drop-shadow(0px 1px 2px rgba(0, 0, 0, 0.3));\n",
              "      fill: #FFFFFF;\n",
              "    }\n",
              "  </style>\n",
              "\n",
              "      <script>\n",
              "        const buttonEl =\n",
              "          document.querySelector('#df-33bc6ae6-0adb-4534-b24d-45331e96d2d1 button.colab-df-convert');\n",
              "        buttonEl.style.display =\n",
              "          google.colab.kernel.accessAllowed ? 'block' : 'none';\n",
              "\n",
              "        async function convertToInteractive(key) {\n",
              "          const element = document.querySelector('#df-33bc6ae6-0adb-4534-b24d-45331e96d2d1');\n",
              "          const dataTable =\n",
              "            await google.colab.kernel.invokeFunction('convertToInteractive',\n",
              "                                                     [key], {});\n",
              "          if (!dataTable) return;\n",
              "\n",
              "          const docLinkHtml = 'Like what you see? Visit the ' +\n",
              "            '<a target=\"_blank\" href=https://colab.research.google.com/notebooks/data_table.ipynb>data table notebook</a>'\n",
              "            + ' to learn more about interactive tables.';\n",
              "          element.innerHTML = '';\n",
              "          dataTable['output_type'] = 'display_data';\n",
              "          await google.colab.output.renderOutput(dataTable, element);\n",
              "          const docLink = document.createElement('div');\n",
              "          docLink.innerHTML = docLinkHtml;\n",
              "          element.appendChild(docLink);\n",
              "        }\n",
              "      </script>\n",
              "    </div>\n",
              "  </div>\n",
              "  "
            ],
            "text/plain": [
              "      ip  app  device  os  channel           click_time  is_attributed\n",
              "0  22004   12       1  13      497  2017-11-07 09:30:38              0\n",
              "1  40024   25       1  17      259  2017-11-07 13:40:27              0\n",
              "2  35888   12       1  19      212  2017-11-07 18:05:24              0\n",
              "3  29048   13       1  13      477  2017-11-07 04:58:08              0\n",
              "4   2877   12       1   1      178  2017-11-09 09:00:09              0"
            ]
          },
          "metadata": {},
          "execution_count": 7
        }
      ]
    },
    {
      "cell_type": "markdown",
      "metadata": {
        "_cell_guid": "047cdedb-b9a4-4185-9079-31d19e418dd5",
        "_uuid": "bdca59dbbab3ea6e7938ed6348bda8b022b54437",
        "id": "r_u94Wa8D3Un"
      },
      "source": [
        "### Exploring the Data - Univariate Analysis\n"
      ]
    },
    {
      "cell_type": "markdown",
      "metadata": {
        "_cell_guid": "f1924177-9395-4f17-bbec-6746cf8c360e",
        "_uuid": "778a6efbfc8c7c9d82f6aa6c84af3e145777be13",
        "id": "RAONtm2kD3Un"
      },
      "source": [
        "Let's now understand and explore the data. Let's start with understanding the size and data types of the train_sample data."
      ]
    },
    {
      "cell_type": "code",
      "metadata": {
        "_cell_guid": "4539d9f9-fe8e-438b-9c6e-8d0f4d089e17",
        "_uuid": "0aff4ad2d4abb7a49cfeccbd0d65f96a5256eab8",
        "colab": {
          "base_uri": "https://localhost:8080/"
        },
        "id": "VFe2i-5fD3Un",
        "outputId": "c66f987e-b7e4-497c-b63d-1797a65946f2"
      },
      "source": [
        "# look at non-null values, null values, number of entries etc.\n",
        "train_sample.info()"
      ],
      "execution_count": 8,
      "outputs": [
        {
          "output_type": "stream",
          "name": "stdout",
          "text": [
            "<class 'pandas.core.frame.DataFrame'>\n",
            "RangeIndex: 100000 entries, 0 to 99999\n",
            "Data columns (total 7 columns):\n",
            " #   Column         Non-Null Count   Dtype \n",
            "---  ------         --------------   ----- \n",
            " 0   ip             100000 non-null  uint16\n",
            " 1   app            100000 non-null  uint16\n",
            " 2   device         100000 non-null  uint16\n",
            " 3   os             100000 non-null  uint16\n",
            " 4   channel        100000 non-null  uint16\n",
            " 5   click_time     100000 non-null  object\n",
            " 6   is_attributed  100000 non-null  uint8 \n",
            "dtypes: object(1), uint16(5), uint8(1)\n",
            "memory usage: 1.8+ MB\n"
          ]
        }
      ]
    },
    {
      "cell_type": "markdown",
      "metadata": {
        "id": "AiyvMM1rD3Uo"
      },
      "source": [
        "You can see that there is no missing values\n",
        "\n",
        "## Basic exploratory analysis \n",
        "\n",
        "<p style='text-align: right;'> 10 points</p>\n",
        "\n",
        "\n",
        "1. Number of unique values in each column\n"
      ]
    },
    {
      "cell_type": "code",
      "metadata": {
        "_cell_guid": "dd930aa6-557f-4b59-9a36-8f940324f594",
        "_uuid": "816535e82869da6601f9dd7227a201adda9843d1",
        "colab": {
          "base_uri": "https://localhost:8080/"
        },
        "id": "DD8nAsb-D3Uo",
        "scrolled": false,
        "outputId": "6017eaa5-32d3-421e-9cb3-e87c526d668a"
      },
      "source": [
        "# Define a function to fetch unique values in each column\n",
        "def fraction_unique(x):\n",
        "    return len(train_sample[x].unique())\n",
        "\n",
        "# one line code to use above function and creating a dictionary\n",
        "number_unique_vals = {x: fraction_unique(x) for x in train_sample.columns}\n",
        "\n",
        "# print dictionary of Unique values\n",
        "number_unique_vals"
      ],
      "execution_count": 9,
      "outputs": [
        {
          "output_type": "execute_result",
          "data": {
            "text/plain": [
              "{'app': 161,\n",
              " 'channel': 161,\n",
              " 'click_time': 80350,\n",
              " 'device': 100,\n",
              " 'ip': 28470,\n",
              " 'is_attributed': 2,\n",
              " 'os': 130}"
            ]
          },
          "metadata": {},
          "execution_count": 9
        }
      ]
    },
    {
      "cell_type": "markdown",
      "metadata": {
        "id": "ZNc24VdED3Uo"
      },
      "source": [
        "2. Checking data type of each columns"
      ]
    },
    {
      "cell_type": "code",
      "metadata": {
        "_cell_guid": "408e795a-2d0d-4ae0-bf96-868721d9394d",
        "_uuid": "c6bd82f7f439f73bf543d2313c82e4d3e99519e4",
        "colab": {
          "base_uri": "https://localhost:8080/"
        },
        "id": "TIBrWcz8D3Up",
        "outputId": "3d70ad05-b741-428f-b112-e3f53e1adb21"
      },
      "source": [
        "# each column data type\n",
        "train_sample.dtypes"
      ],
      "execution_count": 10,
      "outputs": [
        {
          "output_type": "execute_result",
          "data": {
            "text/plain": [
              "ip               uint16\n",
              "app              uint16\n",
              "device           uint16\n",
              "os               uint16\n",
              "channel          uint16\n",
              "click_time       object\n",
              "is_attributed     uint8\n",
              "dtype: object"
            ]
          },
          "metadata": {},
          "execution_count": 10
        }
      ]
    },
    {
      "cell_type": "markdown",
      "metadata": {
        "id": "2T3DGwEID3Up"
      },
      "source": [
        "You will see that all columns apart from click time are originally int type, though note that they are all actually categorical "
      ]
    },
    {
      "cell_type": "markdown",
      "metadata": {
        "_cell_guid": "a329709b-2d48-4b32-8491-d0a3a57a9635",
        "_uuid": "16271bff54cffd07c656c21023b0a1cb62297960",
        "id": "oiX69GjLD3Uq"
      },
      "source": [
        "There are certain 'apps' which have quite high number of instances/rows (each row is a click). So lets plot it below "
      ]
    },
    {
      "cell_type": "code",
      "metadata": {
        "_cell_guid": "3e9c25d8-31a7-4b43-b2ac-5ecc21921f26",
        "_uuid": "b99fbb4955c7f05d78495d958d16d673479aca64",
        "colab": {
          "base_uri": "https://localhost:8080/",
          "height": 388
        },
        "id": "CLmSle3kD3Uq",
        "scrolled": false,
        "outputId": "0cfb4604-f06d-4f67-9769-2f1b1eba925c"
      },
      "source": [
        "# count distribution of 'app' \n",
        "plt.figure(figsize=(15,6))\n",
        "sns.countplot(x=\"app\", data=train_sample)\n",
        "plt.show()"
      ],
      "execution_count": 11,
      "outputs": [
        {
          "output_type": "display_data",
          "data": {
            "image/png": "[encoded data removed]",
            "text/plain": [
              "<Figure size 1080x432 with 1 Axes>"
            ]
          },
          "metadata": {
            "needs_background": "light"
          }
        }
      ]
    },
    {
      "cell_type": "markdown",
      "metadata": {
        "id": "6Tb5ICFGD3Ur"
      },
      "source": [
        "some 'apps' have a disproportionately high number of clicks (>15k), and some are very rare (3-4)\n",
        "\n",
        "Let us now plot device distribution below "
      ]
    },
    {
      "cell_type": "code",
      "metadata": {
        "_cell_guid": "77e73dce-cf2f-43a9-b0a8-fe5956ff99a9",
        "_uuid": "d3815fab7e31db39452c9fca0b3ade757124da25",
        "colab": {
          "base_uri": "https://localhost:8080/",
          "height": 388
        },
        "id": "ljelEux4D3Ur",
        "outputId": "bc07ba56-0635-4dff-ddfc-c6647de3f52f"
      },
      "source": [
        "# distribution count of 'device' \n",
        "plt.figure(figsize=(15,6))\n",
        "sns.countplot(x=\"device\", data=train_sample)\n",
        "plt.show()"
      ],
      "execution_count": 12,
      "outputs": [
        {
          "output_type": "display_data",
          "data": {
            "image/png": "[encoded data removed]",
            "text/plain": [
              "<Figure size 1080x432 with 1 Axes>"
            ]
          },
          "metadata": {
            "needs_background": "light"
          }
        }
      ]
    },
    {
      "cell_type": "markdown",
      "metadata": {
        "id": "BhKCORYWD3Ur"
      },
      "source": [
        "The above result is expected because a few popular devices are used heavily\n",
        "\n",
        "Let us now plot channel below"
      ]
    },
    {
      "cell_type": "code",
      "metadata": {
        "_cell_guid": "098c5d37-5302-45e8-9845-eb3dfa7be87b",
        "_uuid": "656c6cfa30d189febea9bb4c12b2f2519c0b0cef",
        "colab": {
          "base_uri": "https://localhost:8080/",
          "height": 388
        },
        "id": "e23wBoTRD3Us",
        "outputId": "03bb04e5-9036-4a78-8973-606f45136d87"
      },
      "source": [
        "# distribution count of 'channel' \n",
        "plt.figure(figsize=(15,6))\n",
        "sns.countplot(x=\"channel\", data=train_sample)\n",
        "plt.show()"
      ],
      "execution_count": 13,
      "outputs": [
        {
          "output_type": "display_data",
          "data": {
            "image/png": "[encoded data removed]",
            "text/plain": [
              "<Figure size 1080x432 with 1 Axes>"
            ]
          },
          "metadata": {
            "needs_background": "light"
          }
        }
      ]
    },
    {
      "cell_type": "markdown",
      "metadata": {
        "id": "rdMi9jwED3Us"
      },
      "source": [
        "you can see abobe that various channels get clicks in comparable quantities\n",
        "\n",
        "Lets see distribution of 'os' now "
      ]
    },
    {
      "cell_type": "code",
      "metadata": {
        "_cell_guid": "c39356d4-3f97-41be-944f-ce88db264365",
        "_uuid": "8f33610186e195da39033b9a64cd2d11b244113a",
        "colab": {
          "base_uri": "https://localhost:8080/",
          "height": 391
        },
        "id": "HTxIlxxND3Us",
        "scrolled": false,
        "outputId": "0df6aed1-380e-4a5c-9d5d-76c189e3e183"
      },
      "source": [
        "# distribution count of 'os' \n",
        "plt.figure(figsize=(15,6))\n",
        "sns.countplot(x=\"os\", data=train_sample)\n",
        "plt.show()"
      ],
      "execution_count": 14,
      "outputs": [
        {
          "output_type": "display_data",
          "data": {
            "image/png": "[encoded data removed]",
            "text/plain": [
              "<Figure size 1080x432 with 1 Axes>"
            ]
          },
          "metadata": {
            "needs_background": "light"
          }
        }
      ]
    },
    {
      "cell_type": "markdown",
      "metadata": {
        "id": "EhwMZakkD3Ut"
      },
      "source": [
        "there are a couple commos OSes (android and ios?), though some are rare and can indicate suspicion \n"
      ]
    },
    {
      "cell_type": "markdown",
      "metadata": {
        "_cell_guid": "a52d4651-f5ca-45e0-8b20-ec1f70d80edb",
        "_uuid": "6604d330cee83328b4e28790829c82b40fe83ef1",
        "id": "G6082JlGD3Ut"
      },
      "source": [
        "Let's now look at the distribution of the target  variable 'is_attributed'."
      ]
    },
    {
      "cell_type": "code",
      "metadata": {
        "_cell_guid": "332d0c92-31f6-4109-91ba-5d1f38725ca8",
        "_uuid": "755b0ff3de0028805b6e33fe5b6fb70e5a1247d5",
        "colab": {
          "base_uri": "https://localhost:8080/"
        },
        "id": "--eILMxTD3Ut",
        "scrolled": true,
        "outputId": "1c3101e4-624d-4208-dd71-75176fb1f42f"
      },
      "source": [
        "# target variable distribution count\n",
        "100*(train_sample['is_attributed'].astype('object').value_counts()/len(train_sample.index))"
      ],
      "execution_count": 15,
      "outputs": [
        {
          "output_type": "execute_result",
          "data": {
            "text/plain": [
              "0    99.773\n",
              "1     0.227\n",
              "Name: is_attributed, dtype: float64"
            ]
          },
          "metadata": {},
          "execution_count": 15
        }
      ]
    },
    {
      "cell_type": "markdown",
      "metadata": {
        "_cell_guid": "030933bd-d06b-42c8-8d1e-882f70776a74",
        "_uuid": "b604a87e4ca95bbcbe40e3192f7b66774c03d84d",
        "id": "c9tYYBg1D3Ut"
      },
      "source": [
        "Only **about 0.2% of clicks are 'fraudulent'**, which is expected in a fraud detection problem. Such high class imbalance is probably going to be the toughest challenge of this problem."
      ]
    },
    {
      "cell_type": "markdown",
      "metadata": {
        "_cell_guid": "7285fbce-6dd1-4638-80c6-8f8d94d1593c",
        "_uuid": "bca20461412ff0d2ba2d87a515785e8a762fd343",
        "id": "6jEZyNtED3Uu"
      },
      "source": [
        "### Exploring the Data - Segmented Univariate Analysis\n",
        "\n",
        "Let's now look at how the target variable varies with the various predictors."
      ]
    },
    {
      "cell_type": "code",
      "metadata": {
        "_cell_guid": "73089123-995e-4142-8aa9-784bbcddccb2",
        "_uuid": "1a5d777dc7d2a003752eefd8af94c4433099bf44",
        "colab": {
          "base_uri": "https://localhost:8080/",
          "height": 455
        },
        "id": "JGkQoYTSD3Uu",
        "scrolled": true,
        "outputId": "deb4898f-b10b-481b-bf70-852915274296"
      },
      "source": [
        "# Get average of 'is_attributed', or 'download rate' grouped with app\n",
        "app_target = train_sample.groupby('app').is_attributed.agg(['mean', 'count'])\n",
        "\n",
        "# print app_target\n",
        "app_target"
      ],
      "execution_count": 16,
      "outputs": [
        {
          "output_type": "execute_result",
          "data": {
            "text/html": [
              "\n",
              "  <div id=\"df-9ae357cd-9302-4585-92db-d02fe83fa505\">\n",
              "    <div class=\"colab-df-container\">\n",
              "      <div>\n",
              "<style scoped>\n",
              "    .dataframe tbody tr th:only-of-type {\n",
              "        vertical-align: middle;\n",
              "    }\n",
              "\n",
              "    .dataframe tbody tr th {\n",
              "        vertical-align: top;\n",
              "    }\n",
              "\n",
              "    .dataframe thead th {\n",
              "        text-align: right;\n",
              "    }\n",
              "</style>\n",
              "<table border=\"1\" class=\"dataframe\">\n",
              "  <thead>\n",
              "    <tr style=\"text-align: right;\">\n",
              "      <th></th>\n",
              "      <th>mean</th>\n",
              "      <th>count</th>\n",
              "    </tr>\n",
              "    <tr>\n",
              "      <th>app</th>\n",
              "      <th></th>\n",
              "      <th></th>\n",
              "    </tr>\n",
              "  </thead>\n",
              "  <tbody>\n",
              "    <tr>\n",
              "      <th>1</th>\n",
              "      <td>0.000000</td>\n",
              "      <td>3135</td>\n",
              "    </tr>\n",
              "    <tr>\n",
              "      <th>2</th>\n",
              "      <td>0.000000</td>\n",
              "      <td>11737</td>\n",
              "    </tr>\n",
              "    <tr>\n",
              "      <th>3</th>\n",
              "      <td>0.000219</td>\n",
              "      <td>18279</td>\n",
              "    </tr>\n",
              "    <tr>\n",
              "      <th>4</th>\n",
              "      <td>0.000000</td>\n",
              "      <td>58</td>\n",
              "    </tr>\n",
              "    <tr>\n",
              "      <th>5</th>\n",
              "      <td>0.074468</td>\n",
              "      <td>188</td>\n",
              "    </tr>\n",
              "    <tr>\n",
              "      <th>...</th>\n",
              "      <td>...</td>\n",
              "      <td>...</td>\n",
              "    </tr>\n",
              "    <tr>\n",
              "      <th>486</th>\n",
              "      <td>0.000000</td>\n",
              "      <td>1</td>\n",
              "    </tr>\n",
              "    <tr>\n",
              "      <th>536</th>\n",
              "      <td>0.000000</td>\n",
              "      <td>1</td>\n",
              "    </tr>\n",
              "    <tr>\n",
              "      <th>538</th>\n",
              "      <td>0.000000</td>\n",
              "      <td>1</td>\n",
              "    </tr>\n",
              "    <tr>\n",
              "      <th>548</th>\n",
              "      <td>0.000000</td>\n",
              "      <td>1</td>\n",
              "    </tr>\n",
              "    <tr>\n",
              "      <th>551</th>\n",
              "      <td>0.000000</td>\n",
              "      <td>1</td>\n",
              "    </tr>\n",
              "  </tbody>\n",
              "</table>\n",
              "<p>161 rows × 2 columns</p>\n",
              "</div>\n",
              "      <button class=\"colab-df-convert\" onclick=\"convertToInteractive('df-9ae357cd-9302-4585-92db-d02fe83fa505')\"\n",
              "              title=\"Convert this dataframe to an interactive table.\"\n",
              "              style=\"display:none;\">\n",
              "        \n",
              "  <svg xmlns=\"http://www.w3.org/2000/svg\" height=\"24px\"viewBox=\"0 0 24 24\"\n",
              "       width=\"24px\">\n",
              "    <path d=\"M0 0h24v24H0V0z\" fill=\"none\"/>\n",
              "    <path d=\"M18.56 5.44l.94 2.06.94-2.06 2.06-.94-2.06-.94-.94-2.06-.94 2.06-2.06.94zm-11 1L8.5 8.5l.94-2.06 2.06-.94-2.06-.94L8.5 2.5l-.94 2.06-2.06.94zm10 10l.94 2.06.94-2.06 2.06-.94-2.06-.94-.94-2.06-.94 2.06-2.06.94z\"/><path d=\"M17.41 7.96l-1.37-1.37c-.4-.4-.92-.59-1.43-.59-.52 0-1.04.2-1.43.59L10.3 9.45l-7.72 7.72c-.78.78-.78 2.05 0 2.83L4 21.41c.39.39.9.59 1.41.59.51 0 1.02-.2 1.41-.59l7.78-7.78 2.81-2.81c.8-.78.8-2.07 0-2.86zM5.41 20L4 18.59l7.72-7.72 1.47 1.35L5.41 20z\"/>\n",
              "  </svg>\n",
              "      </button>\n",
              "      \n",
              "  <style>\n",
              "    .colab-df-container {\n",
              "      display:flex;\n",
              "      flex-wrap:wrap;\n",
              "      gap: 12px;\n",
              "    }\n",
              "\n",
              "    .colab-df-convert {\n",
              "      background-color: #E8F0FE;\n",
              "      border: none;\n",
              "      border-radius: 50%;\n",
              "      cursor: pointer;\n",
              "      display: none;\n",
              "      fill: #1967D2;\n",
              "      height: 32px;\n",
              "      padding: 0 0 0 0;\n",
              "      width: 32px;\n",
              "    }\n",
              "\n",
              "    .colab-df-convert:hover {\n",
              "      background-color: #E2EBFA;\n",
              "      box-shadow: 0px 1px 2px rgba(60, 64, 67, 0.3), 0px 1px 3px 1px rgba(60, 64, 67, 0.15);\n",
              "      fill: #174EA6;\n",
              "    }\n",
              "\n",
              "    [theme=dark] .colab-df-convert {\n",
              "      background-color: #3B4455;\n",
              "      fill: #D2E3FC;\n",
              "    }\n",
              "\n",
              "    [theme=dark] .colab-df-convert:hover {\n",
              "      background-color: #434B5C;\n",
              "      box-shadow: 0px 1px 3px 1px rgba(0, 0, 0, 0.15);\n",
              "      filter: drop-shadow(0px 1px 2px rgba(0, 0, 0, 0.3));\n",
              "      fill: #FFFFFF;\n",
              "    }\n",
              "  </style>\n",
              "\n",
              "      <script>\n",
              "        const buttonEl =\n",
              "          document.querySelector('#df-9ae357cd-9302-4585-92db-d02fe83fa505 button.colab-df-convert');\n",
              "        buttonEl.style.display =\n",
              "          google.colab.kernel.accessAllowed ? 'block' : 'none';\n",
              "\n",
              "        async function convertToInteractive(key) {\n",
              "          const element = document.querySelector('#df-9ae357cd-9302-4585-92db-d02fe83fa505');\n",
              "          const dataTable =\n",
              "            await google.colab.kernel.invokeFunction('convertToInteractive',\n",
              "                                                     [key], {});\n",
              "          if (!dataTable) return;\n",
              "\n",
              "          const docLinkHtml = 'Like what you see? Visit the ' +\n",
              "            '<a target=\"_blank\" href=https://colab.research.google.com/notebooks/data_table.ipynb>data table notebook</a>'\n",
              "            + ' to learn more about interactive tables.';\n",
              "          element.innerHTML = '';\n",
              "          dataTable['output_type'] = 'display_data';\n",
              "          await google.colab.output.renderOutput(dataTable, element);\n",
              "          const docLink = document.createElement('div');\n",
              "          docLink.innerHTML = docLinkHtml;\n",
              "          element.appendChild(docLink);\n",
              "        }\n",
              "      </script>\n",
              "    </div>\n",
              "  </div>\n",
              "  "
            ],
            "text/plain": [
              "         mean  count\n",
              "app                 \n",
              "1    0.000000   3135\n",
              "2    0.000000  11737\n",
              "3    0.000219  18279\n",
              "4    0.000000     58\n",
              "5    0.074468    188\n",
              "..        ...    ...\n",
              "486  0.000000      1\n",
              "536  0.000000      1\n",
              "538  0.000000      1\n",
              "548  0.000000      1\n",
              "551  0.000000      1\n",
              "\n",
              "[161 rows x 2 columns]"
            ]
          },
          "metadata": {},
          "execution_count": 16
        }
      ]
    },
    {
      "cell_type": "markdown",
      "metadata": {
        "id": "-9re9UfeD3Uu"
      },
      "source": [
        "This is clearly non-readable, so let's first get rid of all the apps that are very rare (say which comprise of less than 20% clicks) and plot the rest."
      ]
    },
    {
      "cell_type": "code",
      "metadata": {
        "colab": {
          "base_uri": "https://localhost:8080/",
          "height": 206
        },
        "id": "tpClVS04D3Uu",
        "scrolled": true,
        "outputId": "9becd11e-cdf6-46a1-c067-e86c38a1e702"
      },
      "source": [
        "# Make a 'count' column based on app size and reset index on count\n",
        "frequent_apps = train_sample.groupby('app').size().reset_index(name='count')\n",
        "\n",
        "# filter count greater than count above 80% quantile range\n",
        "frequent_apps = frequent_apps[frequent_apps['count'] > frequent_apps['count'].quantile(0.80)]\n",
        "\n",
        "# inner join frequent_apps with train_sample on 'app'\n",
        "frequent_apps = frequent_apps.merge(train_sample, on='app', how='inner')\n",
        "\n",
        "# print head of frequent_apps\n",
        "frequent_apps.head()"
      ],
      "execution_count": 17,
      "outputs": [
        {
          "output_type": "execute_result",
          "data": {
            "text/html": [
              "\n",
              "  <div id=\"df-b5e8fcd8-cae1-4fd3-8d6f-115ab518ef5b\">\n",
              "    <div class=\"colab-df-container\">\n",
              "      <div>\n",
              "<style scoped>\n",
              "    .dataframe tbody tr th:only-of-type {\n",
              "        vertical-align: middle;\n",
              "    }\n",
              "\n",
              "    .dataframe tbody tr th {\n",
              "        vertical-align: top;\n",
              "    }\n",
              "\n",
              "    .dataframe thead th {\n",
              "        text-align: right;\n",
              "    }\n",
              "</style>\n",
              "<table border=\"1\" class=\"dataframe\">\n",
              "  <thead>\n",
              "    <tr style=\"text-align: right;\">\n",
              "      <th></th>\n",
              "      <th>app</th>\n",
              "      <th>count</th>\n",
              "      <th>ip</th>\n",
              "      <th>device</th>\n",
              "      <th>os</th>\n",
              "      <th>channel</th>\n",
              "      <th>click_time</th>\n",
              "      <th>is_attributed</th>\n",
              "    </tr>\n",
              "  </thead>\n",
              "  <tbody>\n",
              "    <tr>\n",
              "      <th>0</th>\n",
              "      <td>1</td>\n",
              "      <td>3135</td>\n",
              "      <td>17059</td>\n",
              "      <td>1</td>\n",
              "      <td>17</td>\n",
              "      <td>135</td>\n",
              "      <td>2017-11-09 01:17:58</td>\n",
              "      <td>0</td>\n",
              "    </tr>\n",
              "    <tr>\n",
              "      <th>1</th>\n",
              "      <td>1</td>\n",
              "      <td>3135</td>\n",
              "      <td>52432</td>\n",
              "      <td>1</td>\n",
              "      <td>13</td>\n",
              "      <td>115</td>\n",
              "      <td>2017-11-07 17:22:52</td>\n",
              "      <td>0</td>\n",
              "    </tr>\n",
              "    <tr>\n",
              "      <th>2</th>\n",
              "      <td>1</td>\n",
              "      <td>3135</td>\n",
              "      <td>23706</td>\n",
              "      <td>1</td>\n",
              "      <td>27</td>\n",
              "      <td>124</td>\n",
              "      <td>2017-11-07 09:37:21</td>\n",
              "      <td>0</td>\n",
              "    </tr>\n",
              "    <tr>\n",
              "      <th>3</th>\n",
              "      <td>1</td>\n",
              "      <td>3135</td>\n",
              "      <td>58458</td>\n",
              "      <td>1</td>\n",
              "      <td>19</td>\n",
              "      <td>101</td>\n",
              "      <td>2017-11-09 14:27:57</td>\n",
              "      <td>0</td>\n",
              "    </tr>\n",
              "    <tr>\n",
              "      <th>4</th>\n",
              "      <td>1</td>\n",
              "      <td>3135</td>\n",
              "      <td>34067</td>\n",
              "      <td>1</td>\n",
              "      <td>15</td>\n",
              "      <td>134</td>\n",
              "      <td>2017-11-07 15:06:06</td>\n",
              "      <td>0</td>\n",
              "    </tr>\n",
              "  </tbody>\n",
              "</table>\n",
              "</div>\n",
              "      <button class=\"colab-df-convert\" onclick=\"convertToInteractive('df-b5e8fcd8-cae1-4fd3-8d6f-115ab518ef5b')\"\n",
              "              title=\"Convert this dataframe to an interactive table.\"\n",
              "              style=\"display:none;\">\n",
              "        \n",
              "  <svg xmlns=\"http://www.w3.org/2000/svg\" height=\"24px\"viewBox=\"0 0 24 24\"\n",
              "       width=\"24px\">\n",
              "    <path d=\"M0 0h24v24H0V0z\" fill=\"none\"/>\n",
              "    <path d=\"M18.56 5.44l.94 2.06.94-2.06 2.06-.94-2.06-.94-.94-2.06-.94 2.06-2.06.94zm-11 1L8.5 8.5l.94-2.06 2.06-.94-2.06-.94L8.5 2.5l-.94 2.06-2.06.94zm10 10l.94 2.06.94-2.06 2.06-.94-2.06-.94-.94-2.06-.94 2.06-2.06.94z\"/><path d=\"M17.41 7.96l-1.37-1.37c-.4-.4-.92-.59-1.43-.59-.52 0-1.04.2-1.43.59L10.3 9.45l-7.72 7.72c-.78.78-.78 2.05 0 2.83L4 21.41c.39.39.9.59 1.41.59.51 0 1.02-.2 1.41-.59l7.78-7.78 2.81-2.81c.8-.78.8-2.07 0-2.86zM5.41 20L4 18.59l7.72-7.72 1.47 1.35L5.41 20z\"/>\n",
              "  </svg>\n",
              "      </button>\n",
              "      \n",
              "  <style>\n",
              "    .colab-df-container {\n",
              "      display:flex;\n",
              "      flex-wrap:wrap;\n",
              "      gap: 12px;\n",
              "    }\n",
              "\n",
              "    .colab-df-convert {\n",
              "      background-color: #E8F0FE;\n",
              "      border: none;\n",
              "      border-radius: 50%;\n",
              "      cursor: pointer;\n",
              "      display: none;\n",
              "      fill: #1967D2;\n",
              "      height: 32px;\n",
              "      padding: 0 0 0 0;\n",
              "      width: 32px;\n",
              "    }\n",
              "\n",
              "    .colab-df-convert:hover {\n",
              "      background-color: #E2EBFA;\n",
              "      box-shadow: 0px 1px 2px rgba(60, 64, 67, 0.3), 0px 1px 3px 1px rgba(60, 64, 67, 0.15);\n",
              "      fill: #174EA6;\n",
              "    }\n",
              "\n",
              "    [theme=dark] .colab-df-convert {\n",
              "      background-color: #3B4455;\n",
              "      fill: #D2E3FC;\n",
              "    }\n",
              "\n",
              "    [theme=dark] .colab-df-convert:hover {\n",
              "      background-color: #434B5C;\n",
              "      box-shadow: 0px 1px 3px 1px rgba(0, 0, 0, 0.15);\n",
              "      filter: drop-shadow(0px 1px 2px rgba(0, 0, 0, 0.3));\n",
              "      fill: #FFFFFF;\n",
              "    }\n",
              "  </style>\n",
              "\n",
              "      <script>\n",
              "        const buttonEl =\n",
              "          document.querySelector('#df-b5e8fcd8-cae1-4fd3-8d6f-115ab518ef5b button.colab-df-convert');\n",
              "        buttonEl.style.display =\n",
              "          google.colab.kernel.accessAllowed ? 'block' : 'none';\n",
              "\n",
              "        async function convertToInteractive(key) {\n",
              "          const element = document.querySelector('#df-b5e8fcd8-cae1-4fd3-8d6f-115ab518ef5b');\n",
              "          const dataTable =\n",
              "            await google.colab.kernel.invokeFunction('convertToInteractive',\n",
              "                                                     [key], {});\n",
              "          if (!dataTable) return;\n",
              "\n",
              "          const docLinkHtml = 'Like what you see? Visit the ' +\n",
              "            '<a target=\"_blank\" href=https://colab.research.google.com/notebooks/data_table.ipynb>data table notebook</a>'\n",
              "            + ' to learn more about interactive tables.';\n",
              "          element.innerHTML = '';\n",
              "          dataTable['output_type'] = 'display_data';\n",
              "          await google.colab.output.renderOutput(dataTable, element);\n",
              "          const docLink = document.createElement('div');\n",
              "          docLink.innerHTML = docLinkHtml;\n",
              "          element.appendChild(docLink);\n",
              "        }\n",
              "      </script>\n",
              "    </div>\n",
              "  </div>\n",
              "  "
            ],
            "text/plain": [
              "   app  count     ip  device  os  channel           click_time  is_attributed\n",
              "0    1   3135  17059       1  17      135  2017-11-09 01:17:58              0\n",
              "1    1   3135  52432       1  13      115  2017-11-07 17:22:52              0\n",
              "2    1   3135  23706       1  27      124  2017-11-07 09:37:21              0\n",
              "3    1   3135  58458       1  19      101  2017-11-09 14:27:57              0\n",
              "4    1   3135  34067       1  15      134  2017-11-07 15:06:06              0"
            ]
          },
          "metadata": {},
          "execution_count": 17
        }
      ]
    },
    {
      "cell_type": "code",
      "metadata": {
        "colab": {
          "base_uri": "https://localhost:8080/",
          "height": 606
        },
        "id": "_2xSWynTD3Uv",
        "outputId": "30d28864-f718-47d1-cbfa-7595d17928ce"
      },
      "source": [
        "# plot count distribution of 'app' hued with 'is_attributed'\n",
        "plt.figure(figsize=(10,10))\n",
        "sns.countplot(y='app', hue='is_attributed', data=frequent_apps)\n",
        "plt.show()"
      ],
      "execution_count": 18,
      "outputs": [
        {
          "output_type": "display_data",
          "data": {
            "image/png": "[encoded data removed]",
            "text/plain": [
              "<Figure size 720x720 with 1 Axes>"
            ]
          },
          "metadata": {
            "needs_background": "light"
          }
        }
      ]
    },
    {
      "cell_type": "markdown",
      "metadata": {
        "id": "slP7NO3rD3Uv"
      },
      "source": [
        "You can do lots of other interesting ananlysis with the existing features. For now, let's create some new features which will probably improve the model."
      ]
    },
    {
      "cell_type": "markdown",
      "metadata": {
        "_cell_guid": "40f6f8d9-bd39-4876-bca8-5dcaa14eed04",
        "_uuid": "b76d4314871b8db705dc26b51f4ba07df2cd857b",
        "id": "x8O9K64TD3Uv"
      },
      "source": [
        "## Feature Engineering\n",
        "\n",
        "<p style='text-align: right;'> 10 points</p>\n"
      ]
    },
    {
      "cell_type": "markdown",
      "metadata": {
        "id": "cMwV3jpuD3Uv"
      },
      "source": [
        "Let's now derive some new features from the existing ones. There are a number of features one can extract from ```click_time``` itself, and by grouping combinations of IP with other features."
      ]
    },
    {
      "cell_type": "markdown",
      "metadata": {
        "_cell_guid": "9963886f-8f33-4ff4-be76-0a28e8d6ba8b",
        "_uuid": "833037301451ca4d6939909f8cfd47314834b7b9",
        "id": "u8txepiAD3Uw"
      },
      "source": [
        "### Datetime Based Features\n"
      ]
    },
    {
      "cell_type": "code",
      "metadata": {
        "_cell_guid": "fd611758-c8ec-4401-9875-1eb760ccddb7",
        "_uuid": "a38688f6b07581964699b4a8c41100844f21090c",
        "id": "4IdMw79vD3Uw"
      },
      "source": [
        "# Create a function which takes in a df, adds date/time based columns to it and returns the modified df\n",
        "\n",
        "def timeFeatures(df):\n",
        "    # Creating datetime variables using the click_time column \n",
        "    df['datetime'] = pd.to_datetime(df['click_time'])\n",
        "    \n",
        "    # Creating day_of_week variables extracting week from the datetime column \n",
        "\n",
        "    df['day_of_week'] = df['datetime'].dt.dayofweek\n",
        "    \n",
        "    # Creating day_of_year variables extracting day from the datetime column \n",
        "\n",
        "    df[\"day_of_year\"] = df['datetime'].dt.dayofyear\n",
        "    \n",
        "    # Creating month variables extracting month from the datetime column \n",
        "\n",
        "    df[\"month\"] = df['datetime'].dt.month\n",
        "    \n",
        "    # Creating hour variables extracting hour from the datetime column \n",
        "\n",
        "    df[\"hour\"] = df['datetime'].dt.hour\n",
        "    \n",
        "    # return df\n",
        "    return df"
      ],
      "execution_count": 19,
      "outputs": []
    },
    {
      "cell_type": "code",
      "metadata": {
        "_cell_guid": "237df241-844b-4003-b906-298432b8d868",
        "_uuid": "694177530d20a1e33801d6053a88d99f28cfd88c",
        "colab": {
          "base_uri": "https://localhost:8080/",
          "height": 206
        },
        "id": "k4H_zncvD3Uw",
        "scrolled": true,
        "outputId": "72e88c5a-9e5f-4da2-e0d8-6fdbae855658"
      },
      "source": [
        "# creating new variables using above function with df as train_sample \n",
        "train_sample = timeFeatures(train_sample)\n",
        "\n",
        "# dropping the click_time and datetime variables from train_sample\n",
        "train_sample.drop(['click_time', 'datetime'], axis=1, inplace=True)\n",
        "\n",
        "# print train_sample head\n",
        "train_sample.head()"
      ],
      "execution_count": 20,
      "outputs": [
        {
          "output_type": "execute_result",
          "data": {
            "text/html": [
              "\n",
              "  <div id=\"df-eb3abafb-2264-40a2-be61-4173530101be\">\n",
              "    <div class=\"colab-df-container\">\n",
              "      <div>\n",
              "<style scoped>\n",
              "    .dataframe tbody tr th:only-of-type {\n",
              "        vertical-align: middle;\n",
              "    }\n",
              "\n",
              "    .dataframe tbody tr th {\n",
              "        vertical-align: top;\n",
              "    }\n",
              "\n",
              "    .dataframe thead th {\n",
              "        text-align: right;\n",
              "    }\n",
              "</style>\n",
              "<table border=\"1\" class=\"dataframe\">\n",
              "  <thead>\n",
              "    <tr style=\"text-align: right;\">\n",
              "      <th></th>\n",
              "      <th>ip</th>\n",
              "      <th>app</th>\n",
              "      <th>device</th>\n",
              "      <th>os</th>\n",
              "      <th>channel</th>\n",
              "      <th>is_attributed</th>\n",
              "      <th>day_of_week</th>\n",
              "      <th>day_of_year</th>\n",
              "      <th>month</th>\n",
              "      <th>hour</th>\n",
              "    </tr>\n",
              "  </thead>\n",
              "  <tbody>\n",
              "    <tr>\n",
              "      <th>0</th>\n",
              "      <td>22004</td>\n",
              "      <td>12</td>\n",
              "      <td>1</td>\n",
              "      <td>13</td>\n",
              "      <td>497</td>\n",
              "      <td>0</td>\n",
              "      <td>1</td>\n",
              "      <td>311</td>\n",
              "      <td>11</td>\n",
              "      <td>9</td>\n",
              "    </tr>\n",
              "    <tr>\n",
              "      <th>1</th>\n",
              "      <td>40024</td>\n",
              "      <td>25</td>\n",
              "      <td>1</td>\n",
              "      <td>17</td>\n",
              "      <td>259</td>\n",
              "      <td>0</td>\n",
              "      <td>1</td>\n",
              "      <td>311</td>\n",
              "      <td>11</td>\n",
              "      <td>13</td>\n",
              "    </tr>\n",
              "    <tr>\n",
              "      <th>2</th>\n",
              "      <td>35888</td>\n",
              "      <td>12</td>\n",
              "      <td>1</td>\n",
              "      <td>19</td>\n",
              "      <td>212</td>\n",
              "      <td>0</td>\n",
              "      <td>1</td>\n",
              "      <td>311</td>\n",
              "      <td>11</td>\n",
              "      <td>18</td>\n",
              "    </tr>\n",
              "    <tr>\n",
              "      <th>3</th>\n",
              "      <td>29048</td>\n",
              "      <td>13</td>\n",
              "      <td>1</td>\n",
              "      <td>13</td>\n",
              "      <td>477</td>\n",
              "      <td>0</td>\n",
              "      <td>1</td>\n",
              "      <td>311</td>\n",
              "      <td>11</td>\n",
              "      <td>4</td>\n",
              "    </tr>\n",
              "    <tr>\n",
              "      <th>4</th>\n",
              "      <td>2877</td>\n",
              "      <td>12</td>\n",
              "      <td>1</td>\n",
              "      <td>1</td>\n",
              "      <td>178</td>\n",
              "      <td>0</td>\n",
              "      <td>3</td>\n",
              "      <td>313</td>\n",
              "      <td>11</td>\n",
              "      <td>9</td>\n",
              "    </tr>\n",
              "  </tbody>\n",
              "</table>\n",
              "</div>\n",
              "      <button class=\"colab-df-convert\" onclick=\"convertToInteractive('df-eb3abafb-2264-40a2-be61-4173530101be')\"\n",
              "              title=\"Convert this dataframe to an interactive table.\"\n",
              "              style=\"display:none;\">\n",
              "        \n",
              "  <svg xmlns=\"http://www.w3.org/2000/svg\" height=\"24px\"viewBox=\"0 0 24 24\"\n",
              "       width=\"24px\">\n",
              "    <path d=\"M0 0h24v24H0V0z\" fill=\"none\"/>\n",
              "    <path d=\"M18.56 5.44l.94 2.06.94-2.06 2.06-.94-2.06-.94-.94-2.06-.94 2.06-2.06.94zm-11 1L8.5 8.5l.94-2.06 2.06-.94-2.06-.94L8.5 2.5l-.94 2.06-2.06.94zm10 10l.94 2.06.94-2.06 2.06-.94-2.06-.94-.94-2.06-.94 2.06-2.06.94z\"/><path d=\"M17.41 7.96l-1.37-1.37c-.4-.4-.92-.59-1.43-.59-.52 0-1.04.2-1.43.59L10.3 9.45l-7.72 7.72c-.78.78-.78 2.05 0 2.83L4 21.41c.39.39.9.59 1.41.59.51 0 1.02-.2 1.41-.59l7.78-7.78 2.81-2.81c.8-.78.8-2.07 0-2.86zM5.41 20L4 18.59l7.72-7.72 1.47 1.35L5.41 20z\"/>\n",
              "  </svg>\n",
              "      </button>\n",
              "      \n",
              "  <style>\n",
              "    .colab-df-container {\n",
              "      display:flex;\n",
              "      flex-wrap:wrap;\n",
              "      gap: 12px;\n",
              "    }\n",
              "\n",
              "    .colab-df-convert {\n",
              "      background-color: #E8F0FE;\n",
              "      border: none;\n",
              "      border-radius: 50%;\n",
              "      cursor: pointer;\n",
              "      display: none;\n",
              "      fill: #1967D2;\n",
              "      height: 32px;\n",
              "      padding: 0 0 0 0;\n",
              "      width: 32px;\n",
              "    }\n",
              "\n",
              "    .colab-df-convert:hover {\n",
              "      background-color: #E2EBFA;\n",
              "      box-shadow: 0px 1px 2px rgba(60, 64, 67, 0.3), 0px 1px 3px 1px rgba(60, 64, 67, 0.15);\n",
              "      fill: #174EA6;\n",
              "    }\n",
              "\n",
              "    [theme=dark] .colab-df-convert {\n",
              "      background-color: #3B4455;\n",
              "      fill: #D2E3FC;\n",
              "    }\n",
              "\n",
              "    [theme=dark] .colab-df-convert:hover {\n",
              "      background-color: #434B5C;\n",
              "      box-shadow: 0px 1px 3px 1px rgba(0, 0, 0, 0.15);\n",
              "      filter: drop-shadow(0px 1px 2px rgba(0, 0, 0, 0.3));\n",
              "      fill: #FFFFFF;\n",
              "    }\n",
              "  </style>\n",
              "\n",
              "      <script>\n",
              "        const buttonEl =\n",
              "          document.querySelector('#df-eb3abafb-2264-40a2-be61-4173530101be button.colab-df-convert');\n",
              "        buttonEl.style.display =\n",
              "          google.colab.kernel.accessAllowed ? 'block' : 'none';\n",
              "\n",
              "        async function convertToInteractive(key) {\n",
              "          const element = document.querySelector('#df-eb3abafb-2264-40a2-be61-4173530101be');\n",
              "          const dataTable =\n",
              "            await google.colab.kernel.invokeFunction('convertToInteractive',\n",
              "                                                     [key], {});\n",
              "          if (!dataTable) return;\n",
              "\n",
              "          const docLinkHtml = 'Like what you see? Visit the ' +\n",
              "            '<a target=\"_blank\" href=https://colab.research.google.com/notebooks/data_table.ipynb>data table notebook</a>'\n",
              "            + ' to learn more about interactive tables.';\n",
              "          element.innerHTML = '';\n",
              "          dataTable['output_type'] = 'display_data';\n",
              "          await google.colab.output.renderOutput(dataTable, element);\n",
              "          const docLink = document.createElement('div');\n",
              "          docLink.innerHTML = docLinkHtml;\n",
              "          element.appendChild(docLink);\n",
              "        }\n",
              "      </script>\n",
              "    </div>\n",
              "  </div>\n",
              "  "
            ],
            "text/plain": [
              "      ip  app  device  os  ...  day_of_week  day_of_year  month  hour\n",
              "0  22004   12       1  13  ...            1          311     11     9\n",
              "1  40024   25       1  17  ...            1          311     11    13\n",
              "2  35888   12       1  19  ...            1          311     11    18\n",
              "3  29048   13       1  13  ...            1          311     11     4\n",
              "4   2877   12       1   1  ...            3          313     11     9\n",
              "\n",
              "[5 rows x 10 columns]"
            ]
          },
          "metadata": {},
          "execution_count": 20
        }
      ]
    },
    {
      "cell_type": "code",
      "metadata": {
        "_cell_guid": "4cfe36bc-b218-48ce-ac97-9b9da3758d2f",
        "_uuid": "0eead49461cc6e85bf733b2682c95b098c6b4762",
        "colab": {
          "base_uri": "https://localhost:8080/"
        },
        "id": "ii_XjPN6D3Uw",
        "outputId": "7e3f71ce-8422-4a65-e78a-02159cb02f3c"
      },
      "source": [
        "# datatypes  of all variables in train_sample\n",
        "train_sample.dtypes"
      ],
      "execution_count": 21,
      "outputs": [
        {
          "output_type": "execute_result",
          "data": {
            "text/plain": [
              "ip               uint16\n",
              "app              uint16\n",
              "device           uint16\n",
              "os               uint16\n",
              "channel          uint16\n",
              "is_attributed     uint8\n",
              "day_of_week       int64\n",
              "day_of_year       int64\n",
              "month             int64\n",
              "hour              int64\n",
              "dtype: object"
            ]
          },
          "metadata": {},
          "execution_count": 21
        }
      ]
    },
    {
      "cell_type": "markdown",
      "metadata": {
        "id": "X7T47X_5D3Ux"
      },
      "source": [
        "note that by default the new datetime variables are int64\n"
      ]
    },
    {
      "cell_type": "code",
      "metadata": {
        "_cell_guid": "2c94cc5a-7f24-4321-8b64-75835eb769a1",
        "_uuid": "72fab86bd46e38c8707d48a88d4cfd9122768e5b",
        "colab": {
          "base_uri": "https://localhost:8080/"
        },
        "id": "pZlihUcqD3Ux",
        "outputId": "0197515e-2d85-4c0c-d913-41e97fc4aa53"
      },
      "source": [
        "# check memory/space used by training data\n",
        "print(\"Training dataset uses {0} MB\".format(train_sample.memory_usage().sum()/1024**2))"
      ],
      "execution_count": 22,
      "outputs": [
        {
          "output_type": "stream",
          "name": "stdout",
          "text": [
            "Training dataset uses 4.100921630859375 MB\n"
          ]
        }
      ]
    },
    {
      "cell_type": "markdown",
      "metadata": {
        "id": "b0pfN189D3Ux"
      },
      "source": [
        "Lets convert the variables back to lower dtype again\n"
      ]
    },
    {
      "cell_type": "code",
      "metadata": {
        "_cell_guid": "630048e3-b363-4eb7-8620-fc7c0aed8794",
        "_uuid": "f358d55b47fdd1f3458fc640a37b83f93abd01d9",
        "id": "pLGQLqTzD3Ux"
      },
      "source": [
        "# get all int variables in a list\n",
        "int_vars = ['app', 'device', 'os', 'channel', 'day_of_week', 'day_of_year', 'month', 'hour']\n",
        "\n",
        "# convert all above variables into uint16 type\n",
        "train_sample[int_vars] = train_sample[int_vars].astype('uint16')"
      ],
      "execution_count": 23,
      "outputs": []
    },
    {
      "cell_type": "code",
      "metadata": {
        "_cell_guid": "bfb0e108-be87-4f1f-8690-b6a0dd253d5f",
        "_uuid": "2ad5b5082c465d89a3749ef500121a0068fc7abe",
        "colab": {
          "base_uri": "https://localhost:8080/"
        },
        "id": "q91YeRMND3Ux",
        "scrolled": true,
        "outputId": "803f9673-e017-4b49-af4c-573ddf778d1a"
      },
      "source": [
        "# print datatype of all variables in train_sample\n",
        "train_sample.dtypes"
      ],
      "execution_count": 24,
      "outputs": [
        {
          "output_type": "execute_result",
          "data": {
            "text/plain": [
              "ip               uint16\n",
              "app              uint16\n",
              "device           uint16\n",
              "os               uint16\n",
              "channel          uint16\n",
              "is_attributed     uint8\n",
              "day_of_week      uint16\n",
              "day_of_year      uint16\n",
              "month            uint16\n",
              "hour             uint16\n",
              "dtype: object"
            ]
          },
          "metadata": {},
          "execution_count": 24
        }
      ]
    },
    {
      "cell_type": "code",
      "metadata": {
        "_cell_guid": "097f83a0-d7a0-486e-8315-33e4d351349e",
        "_uuid": "7d31b2a2d63b9a7637489768da96c6833079e19e",
        "colab": {
          "base_uri": "https://localhost:8080/"
        },
        "id": "tH3IujidD3Uy",
        "scrolled": true,
        "outputId": "52777b09-2d02-4fed-d106-1baba5e8c679"
      },
      "source": [
        "# space used by training data\n",
        "print(\"Training dataset uses {0} MB\".format(train_sample.memory_usage().sum()/1024**2))"
      ],
      "execution_count": 25,
      "outputs": [
        {
          "output_type": "stream",
          "name": "stdout",
          "text": [
            "Training dataset uses 1.812103271484375 MB\n"
          ]
        }
      ]
    },
    {
      "cell_type": "markdown",
      "metadata": {
        "id": "YhU-mXtLD3Uy"
      },
      "source": [
        "Hope you undertood why we converted variables into uint16 datatype\n",
        "\n",
        "Yes, you are right:) The primitive data types prefixed with \"u\" are unsigned versions with the same bit sizes. Effectively, this means they cannot store negative numbers, but on the other hand they can store positive numbers twice as large as their signed counterparts. \n",
        "\n",
        "This is why it saves memory usage."
      ]
    },
    {
      "cell_type": "markdown",
      "metadata": {
        "_cell_guid": "f1a41e27-1c82-42a1-b06f-2b2d384cecee",
        "_uuid": "1a82f07ac45c9a68893d104349971344ef7aa32b",
        "id": "nc9Y8lyKD3Uy"
      },
      "source": [
        "### IP Grouping Based Features"
      ]
    },
    {
      "cell_type": "markdown",
      "metadata": {
        "_cell_guid": "1cbfe97f-6915-4e84-b63b-35c3b3933f68",
        "_uuid": "0af86c9bec412b948482bcec80c7df233f1b7c39",
        "id": "rYPRHb3ID3Uy"
      },
      "source": [
        "Let's now create some important features by grouping IP addresses with features such as os, channel, hour, day etc. Also, count of each IP address will also be a feature.\n",
        "\n",
        "Note that though we are deriving new features by grouping IP addresses, using IP adress itself as a features is not a good idea. This is because (in the test data) if a new IP address is seen, the model will see a new 'category' and will not be able to make predictions (IP is a categorical variable, it has just been encoded with numbers).\n",
        "\n",
        "`number of clicks by count of IP address\n",
        "Note that we are explicitly asking pandas to re-encode the aggregated features as 'int16' to save memory`"
      ]
    },
    {
      "cell_type": "code",
      "metadata": {
        "_cell_guid": "b0cd1ca3-e3ef-414b-b9cc-add42aebf813",
        "_uuid": "59690cdbb2b67074d81b9be15375e6ffb0b8f85e",
        "colab": {
          "base_uri": "https://localhost:8080/",
          "height": 206
        },
        "id": "PxvwoC5yD3Uy",
        "scrolled": false,
        "outputId": "4d5a2770-5e93-44c0-e98e-3067814a6b24"
      },
      "source": [
        "# Create a column 'ip_count' using number of clicks by count of IP address \n",
        "ip_count = train_sample.groupby('ip').size().reset_index(name='ip_count').astype('int16')\n",
        "\n",
        "# print head of ip_count \n",
        "ip_count.head()"
      ],
      "execution_count": 26,
      "outputs": [
        {
          "output_type": "execute_result",
          "data": {
            "text/html": [
              "\n",
              "  <div id=\"df-02d6b198-1ef2-4a8b-9dde-043dab1ad275\">\n",
              "    <div class=\"colab-df-container\">\n",
              "      <div>\n",
              "<style scoped>\n",
              "    .dataframe tbody tr th:only-of-type {\n",
              "        vertical-align: middle;\n",
              "    }\n",
              "\n",
              "    .dataframe tbody tr th {\n",
              "        vertical-align: top;\n",
              "    }\n",
              "\n",
              "    .dataframe thead th {\n",
              "        text-align: right;\n",
              "    }\n",
              "</style>\n",
              "<table border=\"1\" class=\"dataframe\">\n",
              "  <thead>\n",
              "    <tr style=\"text-align: right;\">\n",
              "      <th></th>\n",
              "      <th>ip</th>\n",
              "      <th>ip_count</th>\n",
              "    </tr>\n",
              "  </thead>\n",
              "  <tbody>\n",
              "    <tr>\n",
              "      <th>0</th>\n",
              "      <td>8</td>\n",
              "      <td>1</td>\n",
              "    </tr>\n",
              "    <tr>\n",
              "      <th>1</th>\n",
              "      <td>9</td>\n",
              "      <td>1</td>\n",
              "    </tr>\n",
              "    <tr>\n",
              "      <th>2</th>\n",
              "      <td>10</td>\n",
              "      <td>3</td>\n",
              "    </tr>\n",
              "    <tr>\n",
              "      <th>3</th>\n",
              "      <td>14</td>\n",
              "      <td>1</td>\n",
              "    </tr>\n",
              "    <tr>\n",
              "      <th>4</th>\n",
              "      <td>16</td>\n",
              "      <td>6</td>\n",
              "    </tr>\n",
              "  </tbody>\n",
              "</table>\n",
              "</div>\n",
              "      <button class=\"colab-df-convert\" onclick=\"convertToInteractive('df-02d6b198-1ef2-4a8b-9dde-043dab1ad275')\"\n",
              "              title=\"Convert this dataframe to an interactive table.\"\n",
              "              style=\"display:none;\">\n",
              "        \n",
              "  <svg xmlns=\"http://www.w3.org/2000/svg\" height=\"24px\"viewBox=\"0 0 24 24\"\n",
              "       width=\"24px\">\n",
              "    <path d=\"M0 0h24v24H0V0z\" fill=\"none\"/>\n",
              "    <path d=\"M18.56 5.44l.94 2.06.94-2.06 2.06-.94-2.06-.94-.94-2.06-.94 2.06-2.06.94zm-11 1L8.5 8.5l.94-2.06 2.06-.94-2.06-.94L8.5 2.5l-.94 2.06-2.06.94zm10 10l.94 2.06.94-2.06 2.06-.94-2.06-.94-.94-2.06-.94 2.06-2.06.94z\"/><path d=\"M17.41 7.96l-1.37-1.37c-.4-.4-.92-.59-1.43-.59-.52 0-1.04.2-1.43.59L10.3 9.45l-7.72 7.72c-.78.78-.78 2.05 0 2.83L4 21.41c.39.39.9.59 1.41.59.51 0 1.02-.2 1.41-.59l7.78-7.78 2.81-2.81c.8-.78.8-2.07 0-2.86zM5.41 20L4 18.59l7.72-7.72 1.47 1.35L5.41 20z\"/>\n",
              "  </svg>\n",
              "      </button>\n",
              "      \n",
              "  <style>\n",
              "    .colab-df-container {\n",
              "      display:flex;\n",
              "      flex-wrap:wrap;\n",
              "      gap: 12px;\n",
              "    }\n",
              "\n",
              "    .colab-df-convert {\n",
              "      background-color: #E8F0FE;\n",
              "      border: none;\n",
              "      border-radius: 50%;\n",
              "      cursor: pointer;\n",
              "      display: none;\n",
              "      fill: #1967D2;\n",
              "      height: 32px;\n",
              "      padding: 0 0 0 0;\n",
              "      width: 32px;\n",
              "    }\n",
              "\n",
              "    .colab-df-convert:hover {\n",
              "      background-color: #E2EBFA;\n",
              "      box-shadow: 0px 1px 2px rgba(60, 64, 67, 0.3), 0px 1px 3px 1px rgba(60, 64, 67, 0.15);\n",
              "      fill: #174EA6;\n",
              "    }\n",
              "\n",
              "    [theme=dark] .colab-df-convert {\n",
              "      background-color: #3B4455;\n",
              "      fill: #D2E3FC;\n",
              "    }\n",
              "\n",
              "    [theme=dark] .colab-df-convert:hover {\n",
              "      background-color: #434B5C;\n",
              "      box-shadow: 0px 1px 3px 1px rgba(0, 0, 0, 0.15);\n",
              "      filter: drop-shadow(0px 1px 2px rgba(0, 0, 0, 0.3));\n",
              "      fill: #FFFFFF;\n",
              "    }\n",
              "  </style>\n",
              "\n",
              "      <script>\n",
              "        const buttonEl =\n",
              "          document.querySelector('#df-02d6b198-1ef2-4a8b-9dde-043dab1ad275 button.colab-df-convert');\n",
              "        buttonEl.style.display =\n",
              "          google.colab.kernel.accessAllowed ? 'block' : 'none';\n",
              "\n",
              "        async function convertToInteractive(key) {\n",
              "          const element = document.querySelector('#df-02d6b198-1ef2-4a8b-9dde-043dab1ad275');\n",
              "          const dataTable =\n",
              "            await google.colab.kernel.invokeFunction('convertToInteractive',\n",
              "                                                     [key], {});\n",
              "          if (!dataTable) return;\n",
              "\n",
              "          const docLinkHtml = 'Like what you see? Visit the ' +\n",
              "            '<a target=\"_blank\" href=https://colab.research.google.com/notebooks/data_table.ipynb>data table notebook</a>'\n",
              "            + ' to learn more about interactive tables.';\n",
              "          element.innerHTML = '';\n",
              "          dataTable['output_type'] = 'display_data';\n",
              "          await google.colab.output.renderOutput(dataTable, element);\n",
              "          const docLink = document.createElement('div');\n",
              "          docLink.innerHTML = docLinkHtml;\n",
              "          element.appendChild(docLink);\n",
              "        }\n",
              "      </script>\n",
              "    </div>\n",
              "  </div>\n",
              "  "
            ],
            "text/plain": [
              "   ip  ip_count\n",
              "0   8         1\n",
              "1   9         1\n",
              "2  10         3\n",
              "3  14         1\n",
              "4  16         6"
            ]
          },
          "metadata": {},
          "execution_count": 26
        }
      ]
    },
    {
      "cell_type": "markdown",
      "metadata": {
        "id": "7BxrNr9DD3Uz"
      },
      "source": [
        "We can now merge this dataframe with the original training df. Similarly, we can create combinations of various features such as ip_day_hour (count of ip-day-hour combinations), ip_hour_channel, ip_hour_app, etc. \n",
        "\n",
        "The following function takes in a dataframe and creates these features."
      ]
    },
    {
      "cell_type": "code",
      "metadata": {
        "id": "_Ui3nAEPD3Uz"
      },
      "source": [
        "'''creates groupings of IP addresses with other features and appends the new features to the df'''\n",
        "\n",
        "def grouped_features(df):\n",
        "    # ip_count\n",
        "    ip_count = df.groupby('ip').size().reset_index(name='ip_count').astype('uint16')\n",
        "\n",
        "    # ip_day_hour\n",
        "    ip_day_hour = df.groupby(['ip', 'day_of_week', 'hour']).size().reset_index(name='ip_day_hour').astype('uint16')\n",
        "\n",
        "#   ip_hour_channel\n",
        "    ip_hour_channel = df[['ip', 'hour', 'channel']].groupby(['ip', 'hour', 'channel']).size().reset_index(name='ip_hour_channel').astype('uint16')\n",
        "\n",
        "#   ip_hour_os\n",
        "    ip_hour_os = df.groupby(['ip', 'hour', 'os']).channel.count().reset_index(name='ip_hour_os').astype('uint16')\n",
        "\n",
        "#   ip_hour_app\n",
        "    ip_hour_app = df.groupby(['ip', 'hour', 'app']).channel.count().reset_index(name='ip_hour_app').astype('uint16')\n",
        "\n",
        "#   ip_hour_device\n",
        "    ip_hour_device = df.groupby(['ip', 'hour', 'device']).channel.count().reset_index(name='ip_hour_device').astype('uint16')\n",
        "    \n",
        "    '''merge the new aggregated features with the df'''\n",
        "    \n",
        "#   left join ip_count to df on ip\n",
        "    df = pd.merge(df, ip_count, on='ip', how='left')\n",
        "    \n",
        "#   delete ip_count\n",
        "    del ip_count\n",
        "    \n",
        "    # left join ip_day_hour to df on ip, day_of_week and hour\n",
        "    df = pd.merge(df, ip_day_hour, on=['ip', 'day_of_week', 'hour'], how='left')\n",
        "    \n",
        "    # delete ip_day_hour\n",
        "    del ip_day_hour\n",
        "    \n",
        "#   left join ip_hour_channel to df on ip, hour, channel\n",
        "    df = pd.merge(df, ip_hour_channel, on=['ip', 'hour', 'channel'], how='left')\n",
        "\n",
        "    # delete ip_hour_channel\n",
        "    del ip_hour_channel\n",
        "\n",
        "    # left join ip_hour_os to df on ip, hour and os\n",
        "    df = pd.merge(df, ip_hour_os, on=['ip', 'hour', 'os'], how='left')\n",
        "\n",
        "    # delete ip_hour_os\n",
        "    del ip_hour_os\n",
        "    \n",
        "    # left join ip_hour_app to df on ip, hour and app\n",
        "    df = pd.merge(df, ip_hour_app, on=['ip', 'hour', 'app'], how='left')\n",
        "    \n",
        "    # delete ip_hour_app\n",
        "    del ip_hour_app\n",
        "    \n",
        "    # left join ip_hour_device to df on ip , hour and device\n",
        "    df = pd.merge(df, ip_hour_device, on=['ip', 'hour', 'device'], how='left')\n",
        "\n",
        "    # delete ip_hour_device\n",
        "    del ip_hour_device\n",
        "    \n",
        "#  return df\n",
        "    return df"
      ],
      "execution_count": 27,
      "outputs": []
    },
    {
      "cell_type": "code",
      "metadata": {
        "id": "K4zweDWED3Uz"
      },
      "source": [
        "# Use above grouped_features() function with train_sample as parameter to create your new train_sample data \n",
        "train_sample = grouped_features(train_sample)"
      ],
      "execution_count": 28,
      "outputs": []
    },
    {
      "cell_type": "code",
      "metadata": {
        "_cell_guid": "dcb86f85-6418-40dd-8e4a-670f1df0b3fc",
        "_uuid": "3fffc4f935664d861cc0556f78f654c0c7121dac",
        "colab": {
          "base_uri": "https://localhost:8080/",
          "height": 206
        },
        "id": "kiGA5NwLD3U0",
        "scrolled": true,
        "outputId": "65b38c1c-64f7-4560-9a0a-df90176426e6"
      },
      "source": [
        "# print head of train_sample\n",
        "train_sample.head()"
      ],
      "execution_count": 29,
      "outputs": [
        {
          "output_type": "execute_result",
          "data": {
            "text/html": [
              "\n",
              "  <div id=\"df-bbc804ae-aa8d-4ffa-a4c0-2f61027ec7b8\">\n",
              "    <div class=\"colab-df-container\">\n",
              "      <div>\n",
              "<style scoped>\n",
              "    .dataframe tbody tr th:only-of-type {\n",
              "        vertical-align: middle;\n",
              "    }\n",
              "\n",
              "    .dataframe tbody tr th {\n",
              "        vertical-align: top;\n",
              "    }\n",
              "\n",
              "    .dataframe thead th {\n",
              "        text-align: right;\n",
              "    }\n",
              "</style>\n",
              "<table border=\"1\" class=\"dataframe\">\n",
              "  <thead>\n",
              "    <tr style=\"text-align: right;\">\n",
              "      <th></th>\n",
              "      <th>ip</th>\n",
              "      <th>app</th>\n",
              "      <th>device</th>\n",
              "      <th>os</th>\n",
              "      <th>channel</th>\n",
              "      <th>is_attributed</th>\n",
              "      <th>day_of_week</th>\n",
              "      <th>day_of_year</th>\n",
              "      <th>month</th>\n",
              "      <th>hour</th>\n",
              "      <th>ip_count</th>\n",
              "      <th>ip_day_hour</th>\n",
              "      <th>ip_hour_channel</th>\n",
              "      <th>ip_hour_os</th>\n",
              "      <th>ip_hour_app</th>\n",
              "      <th>ip_hour_device</th>\n",
              "    </tr>\n",
              "  </thead>\n",
              "  <tbody>\n",
              "    <tr>\n",
              "      <th>0</th>\n",
              "      <td>22004</td>\n",
              "      <td>12</td>\n",
              "      <td>1</td>\n",
              "      <td>13</td>\n",
              "      <td>497</td>\n",
              "      <td>0</td>\n",
              "      <td>1</td>\n",
              "      <td>311</td>\n",
              "      <td>11</td>\n",
              "      <td>9</td>\n",
              "      <td>8</td>\n",
              "      <td>1</td>\n",
              "      <td>1</td>\n",
              "      <td>1</td>\n",
              "      <td>1</td>\n",
              "      <td>1</td>\n",
              "    </tr>\n",
              "    <tr>\n",
              "      <th>1</th>\n",
              "      <td>40024</td>\n",
              "      <td>25</td>\n",
              "      <td>1</td>\n",
              "      <td>17</td>\n",
              "      <td>259</td>\n",
              "      <td>0</td>\n",
              "      <td>1</td>\n",
              "      <td>311</td>\n",
              "      <td>11</td>\n",
              "      <td>13</td>\n",
              "      <td>149</td>\n",
              "      <td>4</td>\n",
              "      <td>1</td>\n",
              "      <td>1</td>\n",
              "      <td>1</td>\n",
              "      <td>8</td>\n",
              "    </tr>\n",
              "    <tr>\n",
              "      <th>2</th>\n",
              "      <td>35888</td>\n",
              "      <td>12</td>\n",
              "      <td>1</td>\n",
              "      <td>19</td>\n",
              "      <td>212</td>\n",
              "      <td>0</td>\n",
              "      <td>1</td>\n",
              "      <td>311</td>\n",
              "      <td>11</td>\n",
              "      <td>18</td>\n",
              "      <td>2</td>\n",
              "      <td>1</td>\n",
              "      <td>1</td>\n",
              "      <td>1</td>\n",
              "      <td>1</td>\n",
              "      <td>1</td>\n",
              "    </tr>\n",
              "    <tr>\n",
              "      <th>3</th>\n",
              "      <td>29048</td>\n",
              "      <td>13</td>\n",
              "      <td>1</td>\n",
              "      <td>13</td>\n",
              "      <td>477</td>\n",
              "      <td>0</td>\n",
              "      <td>1</td>\n",
              "      <td>311</td>\n",
              "      <td>11</td>\n",
              "      <td>4</td>\n",
              "      <td>3</td>\n",
              "      <td>1</td>\n",
              "      <td>1</td>\n",
              "      <td>1</td>\n",
              "      <td>1</td>\n",
              "      <td>1</td>\n",
              "    </tr>\n",
              "    <tr>\n",
              "      <th>4</th>\n",
              "      <td>2877</td>\n",
              "      <td>12</td>\n",
              "      <td>1</td>\n",
              "      <td>1</td>\n",
              "      <td>178</td>\n",
              "      <td>0</td>\n",
              "      <td>3</td>\n",
              "      <td>313</td>\n",
              "      <td>11</td>\n",
              "      <td>9</td>\n",
              "      <td>4</td>\n",
              "      <td>1</td>\n",
              "      <td>1</td>\n",
              "      <td>1</td>\n",
              "      <td>1</td>\n",
              "      <td>1</td>\n",
              "    </tr>\n",
              "  </tbody>\n",
              "</table>\n",
              "</div>\n",
              "      <button class=\"colab-df-convert\" onclick=\"convertToInteractive('df-bbc804ae-aa8d-4ffa-a4c0-2f61027ec7b8')\"\n",
              "              title=\"Convert this dataframe to an interactive table.\"\n",
              "              style=\"display:none;\">\n",
              "        \n",
              "  <svg xmlns=\"http://www.w3.org/2000/svg\" height=\"24px\"viewBox=\"0 0 24 24\"\n",
              "       width=\"24px\">\n",
              "    <path d=\"M0 0h24v24H0V0z\" fill=\"none\"/>\n",
              "    <path d=\"M18.56 5.44l.94 2.06.94-2.06 2.06-.94-2.06-.94-.94-2.06-.94 2.06-2.06.94zm-11 1L8.5 8.5l.94-2.06 2.06-.94-2.06-.94L8.5 2.5l-.94 2.06-2.06.94zm10 10l.94 2.06.94-2.06 2.06-.94-2.06-.94-.94-2.06-.94 2.06-2.06.94z\"/><path d=\"M17.41 7.96l-1.37-1.37c-.4-.4-.92-.59-1.43-.59-.52 0-1.04.2-1.43.59L10.3 9.45l-7.72 7.72c-.78.78-.78 2.05 0 2.83L4 21.41c.39.39.9.59 1.41.59.51 0 1.02-.2 1.41-.59l7.78-7.78 2.81-2.81c.8-.78.8-2.07 0-2.86zM5.41 20L4 18.59l7.72-7.72 1.47 1.35L5.41 20z\"/>\n",
              "  </svg>\n",
              "      </button>\n",
              "      \n",
              "  <style>\n",
              "    .colab-df-container {\n",
              "      display:flex;\n",
              "      flex-wrap:wrap;\n",
              "      gap: 12px;\n",
              "    }\n",
              "\n",
              "    .colab-df-convert {\n",
              "      background-color: #E8F0FE;\n",
              "      border: none;\n",
              "      border-radius: 50%;\n",
              "      cursor: pointer;\n",
              "      display: none;\n",
              "      fill: #1967D2;\n",
              "      height: 32px;\n",
              "      padding: 0 0 0 0;\n",
              "      width: 32px;\n",
              "    }\n",
              "\n",
              "    .colab-df-convert:hover {\n",
              "      background-color: #E2EBFA;\n",
              "      box-shadow: 0px 1px 2px rgba(60, 64, 67, 0.3), 0px 1px 3px 1px rgba(60, 64, 67, 0.15);\n",
              "      fill: #174EA6;\n",
              "    }\n",
              "\n",
              "    [theme=dark] .colab-df-convert {\n",
              "      background-color: #3B4455;\n",
              "      fill: #D2E3FC;\n",
              "    }\n",
              "\n",
              "    [theme=dark] .colab-df-convert:hover {\n",
              "      background-color: #434B5C;\n",
              "      box-shadow: 0px 1px 3px 1px rgba(0, 0, 0, 0.15);\n",
              "      filter: drop-shadow(0px 1px 2px rgba(0, 0, 0, 0.3));\n",
              "      fill: #FFFFFF;\n",
              "    }\n",
              "  </style>\n",
              "\n",
              "      <script>\n",
              "        const buttonEl =\n",
              "          document.querySelector('#df-bbc804ae-aa8d-4ffa-a4c0-2f61027ec7b8 button.colab-df-convert');\n",
              "        buttonEl.style.display =\n",
              "          google.colab.kernel.accessAllowed ? 'block' : 'none';\n",
              "\n",
              "        async function convertToInteractive(key) {\n",
              "          const element = document.querySelector('#df-bbc804ae-aa8d-4ffa-a4c0-2f61027ec7b8');\n",
              "          const dataTable =\n",
              "            await google.colab.kernel.invokeFunction('convertToInteractive',\n",
              "                                                     [key], {});\n",
              "          if (!dataTable) return;\n",
              "\n",
              "          const docLinkHtml = 'Like what you see? Visit the ' +\n",
              "            '<a target=\"_blank\" href=https://colab.research.google.com/notebooks/data_table.ipynb>data table notebook</a>'\n",
              "            + ' to learn more about interactive tables.';\n",
              "          element.innerHTML = '';\n",
              "          dataTable['output_type'] = 'display_data';\n",
              "          await google.colab.output.renderOutput(dataTable, element);\n",
              "          const docLink = document.createElement('div');\n",
              "          docLink.innerHTML = docLinkHtml;\n",
              "          element.appendChild(docLink);\n",
              "        }\n",
              "      </script>\n",
              "    </div>\n",
              "  </div>\n",
              "  "
            ],
            "text/plain": [
              "      ip  app  device  ...  ip_hour_os  ip_hour_app  ip_hour_device\n",
              "0  22004   12       1  ...           1            1               1\n",
              "1  40024   25       1  ...           1            1               8\n",
              "2  35888   12       1  ...           1            1               1\n",
              "3  29048   13       1  ...           1            1               1\n",
              "4   2877   12       1  ...           1            1               1\n",
              "\n",
              "[5 rows x 16 columns]"
            ]
          },
          "metadata": {},
          "execution_count": 29
        }
      ]
    },
    {
      "cell_type": "code",
      "metadata": {
        "_cell_guid": "e01b730e-a9a3-4899-a867-3d3da43d1670",
        "_uuid": "e819b6938609e7a2c96e3bea97d83afeea10457d",
        "colab": {
          "base_uri": "https://localhost:8080/"
        },
        "id": "aHQ_6EUbD3U0",
        "scrolled": true,
        "outputId": "f4a46ef2-008a-44f7-d691-ffb09435f77f"
      },
      "source": [
        "# check space usage of train_sample again\n",
        "print(\"Training dataset uses {0} MB\".format(train_sample.memory_usage().sum()/1024**2))"
      ],
      "execution_count": 30,
      "outputs": [
        {
          "output_type": "stream",
          "name": "stdout",
          "text": [
            "Training dataset uses 3.719329833984375 MB\n"
          ]
        }
      ]
    },
    {
      "cell_type": "code",
      "metadata": {
        "_cell_guid": "e1c25766-1a45-416e-bcd0-865aa8c83e0f",
        "_uuid": "70d49f6f951fc870e404dc11f5643b39a5fe2a36",
        "colab": {
          "base_uri": "https://localhost:8080/"
        },
        "id": "BkjGM0yuD3U2",
        "scrolled": true,
        "outputId": "434fa27a-fa1a-468d-f4eb-bb29fa281216"
      },
      "source": [
        "# garbage collect (unused) object using gc.collect()\n",
        "gc.collect()"
      ],
      "execution_count": 31,
      "outputs": [
        {
          "output_type": "execute_result",
          "data": {
            "text/plain": [
              "49032"
            ]
          },
          "metadata": {},
          "execution_count": 31
        }
      ]
    },
    {
      "cell_type": "markdown",
      "metadata": {
        "id": "w6ffnEGQD3U3"
      },
      "source": [
        "## Modelling\n",
        "\n",
        "<p style='text-align: right;'> 75 points</p>\n",
        "\n",
        "\n",
        "Let's now build models to predict the variable ```is_attributed``` (downloaded). We'll try the several variants of boosting (adaboost, gradient boosting and XGBoost, LightGBM and Catboost), tune the hyperparameters in each model and choose the one which gives the best performance.\n",
        "\n",
        "In the original Kaggle competition, the metric for model evaluation is **area under the ROC curve**.\n"
      ]
    },
    {
      "cell_type": "code",
      "metadata": {
        "_cell_guid": "2b85ad1e-932b-4570-99ad-df89d8e09eee",
        "_uuid": "fb851915b9cd57bb5fd85a0d08b317c695db015b",
        "colab": {
          "base_uri": "https://localhost:8080/"
        },
        "id": "SnK-PVG8D3U3",
        "scrolled": false,
        "outputId": "15e2f6a0-4d8a-4508-b203-610167941f6a"
      },
      "source": [
        "# create X and y train\n",
        "X = train_sample.drop('is_attributed', axis=1)\n",
        "y = train_sample[['is_attributed']]\n",
        "\n",
        "# split data into train and test/validation sets with test_size as 20% and random state as 101\n",
        "X_train, X_test, y_train, y_test = train_test_split(X, y, test_size=0.2, random_state=101)\n",
        "\n",
        "# print shape of X_train, y_train, X_test and y_test\n",
        "print(X_train.shape)\n",
        "print(y_train.shape)\n",
        "print(X_test.shape)\n",
        "print(X_test.shape)"
      ],
      "execution_count": 32,
      "outputs": [
        {
          "output_type": "stream",
          "name": "stdout",
          "text": [
            "(80000, 15)\n",
            "(80000, 1)\n",
            "(20000, 15)\n",
            "(20000, 15)\n"
          ]
        }
      ]
    },
    {
      "cell_type": "code",
      "metadata": {
        "_cell_guid": "d0e93c90-38df-486b-b7e5-52c82b21d821",
        "_uuid": "116f681214fa50bf5710df325d37203a10d66df2",
        "colab": {
          "base_uri": "https://localhost:8080/"
        },
        "id": "t5n0S7z7D3U3",
        "scrolled": true,
        "outputId": "32437953-05c8-423f-fa50-bb6723793135"
      },
      "source": [
        "# check the average download rates in train \n",
        "print(y_train.mean())\n",
        "\n",
        "# check the average download rates in test data, and check they should be comparable\n",
        "print(y_test.mean())"
      ],
      "execution_count": 33,
      "outputs": [
        {
          "output_type": "stream",
          "name": "stdout",
          "text": [
            "is_attributed    0.002275\n",
            "dtype: float64\n",
            "is_attributed    0.00225\n",
            "dtype: float64\n"
          ]
        }
      ]
    },
    {
      "cell_type": "markdown",
      "metadata": {
        "id": "ZIkG7IwtD3U4"
      },
      "source": [
        "### 1.  AdaBoost\n",
        "\n",
        "Reference doc: https://scikit-learn.org/stable/modules/generated/sklearn.ensemble.AdaBoostClassifier.html\n",
        "\n",
        "Reference video: https://www.youtube.com/watch?v=NLRO1-jp5F8\n",
        "\n",
        "AdaBoost algorithm, short for Adaptive Boosting, is a Boosting technique that is used as an Ensemble Method in Machine Learning. It is called Adaptive Boosting as the weights are re-assigned to each instance, with higher weights to incorrectly classified instances. Boosting is used to reduce bias as well as the variance for supervised learning. It works on the principle where learners are grown sequentially. Except for the first, each subsequent learner is grown from previously grown learners. In simple words, weak learners are converted into strong ones. Adaboost algorithm also works on the same principle as boosting, but there is a slight difference in working. "
      ]
    },
    {
      "cell_type": "code",
      "metadata": {
        "id": "dCSn9O8AD3U4"
      },
      "source": [
        "# Instantiate DecisionTreeClassifier with max_depth as 2 and random state as 1\n",
        "tree = DecisionTreeClassifier(max_depth=2, random_state=1)\n",
        "\n",
        "'''adaboost with the tree as base estimator, max 600 decision trees of depth=2, \n",
        "learning_rate/shrinkage=1.5 and algorithm as \"SAMME\" and random_state as 1'''\n",
        "\n",
        "adaboost_model_1 = AdaBoostClassifier(\n",
        "    base_estimator=tree,\n",
        "    n_estimators=600,\n",
        "    learning_rate=1.5,\n",
        "    algorithm='SAMME',\n",
        "    random_state=1\n",
        ")"
      ],
      "execution_count": 37,
      "outputs": []
    },
    {
      "cell_type": "code",
      "metadata": {
        "colab": {
          "base_uri": "https://localhost:8080/"
        },
        "id": "oi2t_42lD3U4",
        "outputId": "c5835bd0-a7fe-44fe-c774-1be319d7f5f1"
      },
      "source": [
        "# fit adaboost_model_1 with training dataset\n",
        "adaboost_model_1.fit(X_train, y_train)"
      ],
      "execution_count": 38,
      "outputs": [
        {
          "output_type": "execute_result",
          "data": {
            "text/plain": [
              "AdaBoostClassifier(algorithm='SAMME',\n",
              "                   base_estimator=DecisionTreeClassifier(max_depth=2,\n",
              "                                                         random_state=1),\n",
              "                   learning_rate=1.5, n_estimators=600, random_state=1)"
            ]
          },
          "metadata": {},
          "execution_count": 38
        }
      ]
    },
    {
      "cell_type": "code",
      "metadata": {
        "colab": {
          "base_uri": "https://localhost:8080/"
        },
        "id": "SxtEqrLMD3U5",
        "scrolled": true,
        "outputId": "be0ba5f9-65fd-4e2e-90af-a8f1a90d070d"
      },
      "source": [
        "# prediction probability on X_test\n",
        "predictions = adaboost_model_1.predict_proba(X_test)\n",
        "\n",
        "# print top 10 prediction result\n",
        "predictions[:10]"
      ],
      "execution_count": 39,
      "outputs": [
        {
          "output_type": "execute_result",
          "data": {
            "text/plain": [
              "array([[0.54049582, 0.45950418],\n",
              "       [0.53588662, 0.46411338],\n",
              "       [0.53885559, 0.46114441],\n",
              "       [0.52427816, 0.47572184],\n",
              "       [0.52018053, 0.47981947],\n",
              "       [0.5308397 , 0.4691603 ],\n",
              "       [0.53055748, 0.46944252],\n",
              "       [0.54126954, 0.45873046],\n",
              "       [0.52347347, 0.47652653],\n",
              "       [0.51624249, 0.48375751]])"
            ]
          },
          "metadata": {},
          "execution_count": 39
        }
      ]
    },
    {
      "cell_type": "markdown",
      "metadata": {
        "id": "af07mdE7D3U5"
      },
      "source": [
        "In above result the second column represents the probability of a click resulting in a download\n"
      ]
    },
    {
      "cell_type": "code",
      "metadata": {
        "colab": {
          "base_uri": "https://localhost:8080/"
        },
        "id": "2A8LQ5HGD3U5",
        "outputId": "c9d3462b-f71e-49b1-a69f-41b56a14214c"
      },
      "source": [
        "# metrics: Get AUC score with parameters y_test and predicted probability result\n",
        "metrics.roc_auc_score(y_test, predictions[:,1])"
      ],
      "execution_count": 40,
      "outputs": [
        {
          "output_type": "execute_result",
          "data": {
            "text/plain": [
              "0.9523839750549848"
            ]
          },
          "metadata": {},
          "execution_count": 40
        }
      ]
    },
    {
      "cell_type": "markdown",
      "metadata": {
        "id": "1ZD_mU_zD3U6"
      },
      "source": [
        "### AdaBoost - Hyperparameter Tuning\n",
        "\n",
        "Let's now tune the hyperparameters of the AdaBoost classifier. In this case, we have two types of hyperparameters - those of the component trees (max_depth etc.) and those of the ensemble (n_estimators, learning_rate etc.). \n",
        "\n",
        "\n",
        "We can tune both using the following technique - the keys of the form ```base_estimator_parameter_name``` belong to the trees (base estimator), and the rest belong to the ensemble."
      ]
    },
    {
      "cell_type": "code",
      "metadata": {
        "id": "EA716bp0D3U6"
      },
      "source": [
        "# parameter grid with base_estimator__max_depth as [2,5] and n_estimators as [200, 400, 600]\n",
        "param_grid = {\"base_estimator__max_depth\" : [2,5],\n",
        "              \"n_estimators\" : [200, 400, 600]}"
      ],
      "execution_count": 41,
      "outputs": []
    },
    {
      "cell_type": "code",
      "metadata": {
        "id": "7sCbHLMdD3U6"
      },
      "source": [
        "# DecisionTreeClassifier as base estimator with random_state=1\n",
        "tree = DecisionTreeClassifier(random_state=1)\n",
        "\n",
        "'''adaboost with the tree as base estimator and learning rate is arbitrarily set to 0.6, \n",
        "we'll discuss learning_rate below and algorithm as \"SAMME\"'''\n",
        "\n",
        "ABC = AdaBoostClassifier(\n",
        "    base_estimator=tree,\n",
        "    learning_rate=0.6,\n",
        "    algorithm='SAMME'\n",
        "    )"
      ],
      "execution_count": 42,
      "outputs": []
    },
    {
      "cell_type": "markdown",
      "metadata": {
        "id": "ymh6clcUD3U6"
      },
      "source": [
        "#### Run grid search CV\n"
      ]
    },
    {
      "cell_type": "code",
      "metadata": {
        "id": "AqYdCANaD3U7"
      },
      "source": [
        "# Keep cross validation fold as 3\n",
        "folds = 3\n",
        "\n",
        "# run grid search with ABC, folds, param_grid and scoring as roc_auc, return_train_score as True and verbose as 1\n",
        "grid_search_ABC = GridSearchCV(ABC,\n",
        "                               cv=folds,\n",
        "                               param_grid = param_grid,\n",
        "                               scoring='roc_auc',\n",
        "                               return_train_score=True,\n",
        "                               verbose=1)"
      ],
      "execution_count": 43,
      "outputs": []
    },
    {
      "cell_type": "code",
      "metadata": {
        "colab": {
          "base_uri": "https://localhost:8080/"
        },
        "id": "noipaXniD3U7",
        "outputId": "3f9aa8e6-9814-4cc4-9274-4a9d3a95ebd4"
      },
      "source": [
        "# fit grid_search_ABC on training data\n",
        "grid_search_ABC.fit(X_train, y_train)"
      ],
      "execution_count": 44,
      "outputs": [
        {
          "output_type": "stream",
          "name": "stdout",
          "text": [
            "Fitting 3 folds for each of 6 candidates, totalling 18 fits\n"
          ]
        },
        {
          "output_type": "execute_result",
          "data": {
            "text/plain": [
              "GridSearchCV(cv=3,\n",
              "             estimator=AdaBoostClassifier(algorithm='SAMME',\n",
              "                                          base_estimator=DecisionTreeClassifier(random_state=1),\n",
              "                                          learning_rate=0.6),\n",
              "             param_grid={'base_estimator__max_depth': [2, 5],\n",
              "                         'n_estimators': [200, 400, 600]},\n",
              "             return_train_score=True, scoring='roc_auc', verbose=1)"
            ]
          },
          "metadata": {},
          "execution_count": 44
        }
      ]
    },
    {
      "cell_type": "markdown",
      "metadata": {
        "id": "yEWrY38FcMmy"
      },
      "source": [
        "You must be thinking what is \"SAMME\" here, refer this doc: https://scikit-learn.org/stable/auto_examples/ensemble/plot_adaboost_multiclass.html"
      ]
    },
    {
      "cell_type": "code",
      "metadata": {
        "colab": {
          "base_uri": "https://localhost:8080/",
          "height": 406
        },
        "id": "tf1glbAeD3U7",
        "scrolled": true,
        "outputId": "d1967e2d-dcc7-44e8-f6e0-78e48e3a3327"
      },
      "source": [
        "# cv results\n",
        "cv_results = pd.DataFrame(grid_search_ABC.cv_results_)\n",
        "cv_results"
      ],
      "execution_count": 45,
      "outputs": [
        {
          "output_type": "execute_result",
          "data": {
            "text/html": [
              "\n",
              "  <div id=\"df-60b0fe15-2e8d-4e9a-99a3-296b184e1ebd\">\n",
              "    <div class=\"colab-df-container\">\n",
              "      <div>\n",
              "<style scoped>\n",
              "    .dataframe tbody tr th:only-of-type {\n",
              "        vertical-align: middle;\n",
              "    }\n",
              "\n",
              "    .dataframe tbody tr th {\n",
              "        vertical-align: top;\n",
              "    }\n",
              "\n",
              "    .dataframe thead th {\n",
              "        text-align: right;\n",
              "    }\n",
              "</style>\n",
              "<table border=\"1\" class=\"dataframe\">\n",
              "  <thead>\n",
              "    <tr style=\"text-align: right;\">\n",
              "      <th></th>\n",
              "      <th>mean_fit_time</th>\n",
              "      <th>std_fit_time</th>\n",
              "      <th>mean_score_time</th>\n",
              "      <th>std_score_time</th>\n",
              "      <th>param_base_estimator__max_depth</th>\n",
              "      <th>param_n_estimators</th>\n",
              "      <th>params</th>\n",
              "      <th>split0_test_score</th>\n",
              "      <th>split1_test_score</th>\n",
              "      <th>split2_test_score</th>\n",
              "      <th>mean_test_score</th>\n",
              "      <th>std_test_score</th>\n",
              "      <th>rank_test_score</th>\n",
              "      <th>split0_train_score</th>\n",
              "      <th>split1_train_score</th>\n",
              "      <th>split2_train_score</th>\n",
              "      <th>mean_train_score</th>\n",
              "      <th>std_train_score</th>\n",
              "    </tr>\n",
              "  </thead>\n",
              "  <tbody>\n",
              "    <tr>\n",
              "      <th>0</th>\n",
              "      <td>11.779247</td>\n",
              "      <td>0.132932</td>\n",
              "      <td>0.338566</td>\n",
              "      <td>0.007344</td>\n",
              "      <td>2</td>\n",
              "      <td>200</td>\n",
              "      <td>{'base_estimator__max_depth': 2, 'n_estimators...</td>\n",
              "      <td>0.926966</td>\n",
              "      <td>0.975725</td>\n",
              "      <td>0.955801</td>\n",
              "      <td>0.952831</td>\n",
              "      <td>0.020017</td>\n",
              "      <td>1</td>\n",
              "      <td>0.996306</td>\n",
              "      <td>0.995094</td>\n",
              "      <td>0.996461</td>\n",
              "      <td>0.995954</td>\n",
              "      <td>0.000611</td>\n",
              "    </tr>\n",
              "    <tr>\n",
              "      <th>1</th>\n",
              "      <td>23.430034</td>\n",
              "      <td>0.294544</td>\n",
              "      <td>0.640196</td>\n",
              "      <td>0.040624</td>\n",
              "      <td>2</td>\n",
              "      <td>400</td>\n",
              "      <td>{'base_estimator__max_depth': 2, 'n_estimators...</td>\n",
              "      <td>0.920643</td>\n",
              "      <td>0.974585</td>\n",
              "      <td>0.956496</td>\n",
              "      <td>0.950575</td>\n",
              "      <td>0.022416</td>\n",
              "      <td>2</td>\n",
              "      <td>0.997991</td>\n",
              "      <td>0.996683</td>\n",
              "      <td>0.997996</td>\n",
              "      <td>0.997556</td>\n",
              "      <td>0.000618</td>\n",
              "    </tr>\n",
              "    <tr>\n",
              "      <th>2</th>\n",
              "      <td>35.377212</td>\n",
              "      <td>0.414279</td>\n",
              "      <td>0.995096</td>\n",
              "      <td>0.002709</td>\n",
              "      <td>2</td>\n",
              "      <td>600</td>\n",
              "      <td>{'base_estimator__max_depth': 2, 'n_estimators...</td>\n",
              "      <td>0.921720</td>\n",
              "      <td>0.973335</td>\n",
              "      <td>0.953955</td>\n",
              "      <td>0.949670</td>\n",
              "      <td>0.021288</td>\n",
              "      <td>3</td>\n",
              "      <td>0.998494</td>\n",
              "      <td>0.997923</td>\n",
              "      <td>0.998417</td>\n",
              "      <td>0.998278</td>\n",
              "      <td>0.000253</td>\n",
              "    </tr>\n",
              "    <tr>\n",
              "      <th>3</th>\n",
              "      <td>24.911413</td>\n",
              "      <td>0.123239</td>\n",
              "      <td>0.427758</td>\n",
              "      <td>0.005286</td>\n",
              "      <td>5</td>\n",
              "      <td>200</td>\n",
              "      <td>{'base_estimator__max_depth': 5, 'n_estimators...</td>\n",
              "      <td>0.902355</td>\n",
              "      <td>0.940022</td>\n",
              "      <td>0.937285</td>\n",
              "      <td>0.926554</td>\n",
              "      <td>0.017148</td>\n",
              "      <td>4</td>\n",
              "      <td>1.000000</td>\n",
              "      <td>1.000000</td>\n",
              "      <td>1.000000</td>\n",
              "      <td>1.000000</td>\n",
              "      <td>0.000000</td>\n",
              "    </tr>\n",
              "    <tr>\n",
              "      <th>4</th>\n",
              "      <td>50.034078</td>\n",
              "      <td>0.287966</td>\n",
              "      <td>0.813779</td>\n",
              "      <td>0.004995</td>\n",
              "      <td>5</td>\n",
              "      <td>400</td>\n",
              "      <td>{'base_estimator__max_depth': 5, 'n_estimators...</td>\n",
              "      <td>0.900435</td>\n",
              "      <td>0.938838</td>\n",
              "      <td>0.935341</td>\n",
              "      <td>0.924871</td>\n",
              "      <td>0.017338</td>\n",
              "      <td>5</td>\n",
              "      <td>1.000000</td>\n",
              "      <td>1.000000</td>\n",
              "      <td>1.000000</td>\n",
              "      <td>1.000000</td>\n",
              "      <td>0.000000</td>\n",
              "    </tr>\n",
              "    <tr>\n",
              "      <th>5</th>\n",
              "      <td>76.213153</td>\n",
              "      <td>0.765317</td>\n",
              "      <td>1.227174</td>\n",
              "      <td>0.022321</td>\n",
              "      <td>5</td>\n",
              "      <td>600</td>\n",
              "      <td>{'base_estimator__max_depth': 5, 'n_estimators...</td>\n",
              "      <td>0.889016</td>\n",
              "      <td>0.940330</td>\n",
              "      <td>0.934168</td>\n",
              "      <td>0.921171</td>\n",
              "      <td>0.022876</td>\n",
              "      <td>6</td>\n",
              "      <td>1.000000</td>\n",
              "      <td>1.000000</td>\n",
              "      <td>1.000000</td>\n",
              "      <td>1.000000</td>\n",
              "      <td>0.000000</td>\n",
              "    </tr>\n",
              "  </tbody>\n",
              "</table>\n",
              "</div>\n",
              "      <button class=\"colab-df-convert\" onclick=\"convertToInteractive('df-60b0fe15-2e8d-4e9a-99a3-296b184e1ebd')\"\n",
              "              title=\"Convert this dataframe to an interactive table.\"\n",
              "              style=\"display:none;\">\n",
              "        \n",
              "  <svg xmlns=\"http://www.w3.org/2000/svg\" height=\"24px\"viewBox=\"0 0 24 24\"\n",
              "       width=\"24px\">\n",
              "    <path d=\"M0 0h24v24H0V0z\" fill=\"none\"/>\n",
              "    <path d=\"M18.56 5.44l.94 2.06.94-2.06 2.06-.94-2.06-.94-.94-2.06-.94 2.06-2.06.94zm-11 1L8.5 8.5l.94-2.06 2.06-.94-2.06-.94L8.5 2.5l-.94 2.06-2.06.94zm10 10l.94 2.06.94-2.06 2.06-.94-2.06-.94-.94-2.06-.94 2.06-2.06.94z\"/><path d=\"M17.41 7.96l-1.37-1.37c-.4-.4-.92-.59-1.43-.59-.52 0-1.04.2-1.43.59L10.3 9.45l-7.72 7.72c-.78.78-.78 2.05 0 2.83L4 21.41c.39.39.9.59 1.41.59.51 0 1.02-.2 1.41-.59l7.78-7.78 2.81-2.81c.8-.78.8-2.07 0-2.86zM5.41 20L4 18.59l7.72-7.72 1.47 1.35L5.41 20z\"/>\n",
              "  </svg>\n",
              "      </button>\n",
              "      \n",
              "  <style>\n",
              "    .colab-df-container {\n",
              "      display:flex;\n",
              "      flex-wrap:wrap;\n",
              "      gap: 12px;\n",
              "    }\n",
              "\n",
              "    .colab-df-convert {\n",
              "      background-color: #E8F0FE;\n",
              "      border: none;\n",
              "      border-radius: 50%;\n",
              "      cursor: pointer;\n",
              "      display: none;\n",
              "      fill: #1967D2;\n",
              "      height: 32px;\n",
              "      padding: 0 0 0 0;\n",
              "      width: 32px;\n",
              "    }\n",
              "\n",
              "    .colab-df-convert:hover {\n",
              "      background-color: #E2EBFA;\n",
              "      box-shadow: 0px 1px 2px rgba(60, 64, 67, 0.3), 0px 1px 3px 1px rgba(60, 64, 67, 0.15);\n",
              "      fill: #174EA6;\n",
              "    }\n",
              "\n",
              "    [theme=dark] .colab-df-convert {\n",
              "      background-color: #3B4455;\n",
              "      fill: #D2E3FC;\n",
              "    }\n",
              "\n",
              "    [theme=dark] .colab-df-convert:hover {\n",
              "      background-color: #434B5C;\n",
              "      box-shadow: 0px 1px 3px 1px rgba(0, 0, 0, 0.15);\n",
              "      filter: drop-shadow(0px 1px 2px rgba(0, 0, 0, 0.3));\n",
              "      fill: #FFFFFF;\n",
              "    }\n",
              "  </style>\n",
              "\n",
              "      <script>\n",
              "        const buttonEl =\n",
              "          document.querySelector('#df-60b0fe15-2e8d-4e9a-99a3-296b184e1ebd button.colab-df-convert');\n",
              "        buttonEl.style.display =\n",
              "          google.colab.kernel.accessAllowed ? 'block' : 'none';\n",
              "\n",
              "        async function convertToInteractive(key) {\n",
              "          const element = document.querySelector('#df-60b0fe15-2e8d-4e9a-99a3-296b184e1ebd');\n",
              "          const dataTable =\n",
              "            await google.colab.kernel.invokeFunction('convertToInteractive',\n",
              "                                                     [key], {});\n",
              "          if (!dataTable) return;\n",
              "\n",
              "          const docLinkHtml = 'Like what you see? Visit the ' +\n",
              "            '<a target=\"_blank\" href=https://colab.research.google.com/notebooks/data_table.ipynb>data table notebook</a>'\n",
              "            + ' to learn more about interactive tables.';\n",
              "          element.innerHTML = '';\n",
              "          dataTable['output_type'] = 'display_data';\n",
              "          await google.colab.output.renderOutput(dataTable, element);\n",
              "          const docLink = document.createElement('div');\n",
              "          docLink.innerHTML = docLinkHtml;\n",
              "          element.appendChild(docLink);\n",
              "        }\n",
              "      </script>\n",
              "    </div>\n",
              "  </div>\n",
              "  "
            ],
            "text/plain": [
              "   mean_fit_time  std_fit_time  ...  mean_train_score  std_train_score\n",
              "0      11.779247      0.132932  ...          0.995954         0.000611\n",
              "1      23.430034      0.294544  ...          0.997556         0.000618\n",
              "2      35.377212      0.414279  ...          0.998278         0.000253\n",
              "3      24.911413      0.123239  ...          1.000000         0.000000\n",
              "4      50.034078      0.287966  ...          1.000000         0.000000\n",
              "5      76.213153      0.765317  ...          1.000000         0.000000\n",
              "\n",
              "[6 rows x 18 columns]"
            ]
          },
          "metadata": {},
          "execution_count": 45
        }
      ]
    },
    {
      "cell_type": "code",
      "metadata": {
        "colab": {
          "base_uri": "https://localhost:8080/",
          "height": 407
        },
        "id": "42TG9kveD3U7",
        "outputId": "7014ea7d-2778-4280-f89e-4e6ca0d19bb3"
      },
      "source": [
        "# plotting AUC with hyperparameter combinations\n",
        "\n",
        "plt.figure(figsize=(16,6))\n",
        "for n, depth in enumerate(param_grid['base_estimator__max_depth']):\n",
        "    \n",
        "\n",
        "    # subplot 1/n\n",
        "    plt.subplot(1,3, n+1)\n",
        "    depth_df = cv_results[cv_results['param_base_estimator__max_depth']==depth]\n",
        "\n",
        "    plt.plot(depth_df[\"param_n_estimators\"], depth_df[\"mean_test_score\"])    \n",
        "    plt.plot(depth_df[\"param_n_estimators\"], depth_df[\"mean_train_score\"])\n",
        "    plt.xlabel(\"n_estimators\")\n",
        "    plt.ylabel(\"AUC\")\n",
        "    plt.title(\"max_depth={0}\".format(depth))\n",
        "    plt.ylim([0.60, 1])\n",
        "    plt.legend(['test score', 'train score'], loc='upper left')\n",
        "    plt.xscale('log')"
      ],
      "execution_count": 46,
      "outputs": [
        {
          "output_type": "display_data",
          "data": {
            "image/png": "[encoded data removed]",
            "text/plain": [
              "<Figure size 1152x432 with 2 Axes>"
            ]
          },
          "metadata": {
            "needs_background": "light"
          }
        }
      ]
    },
    {
      "cell_type": "markdown",
      "metadata": {
        "id": "b0QPPEx8D3U8"
      },
      "source": [
        "The results above show that:\n",
        "- The ensemble with max_depth=5 is clearly overfitting (training auc is almost 1, while the test score is much lower)\n",
        "- At max_depth=2, the model performs slightly better (approx 95% AUC) with a higher test score \n",
        "\n",
        "Thus, we should go ahead with ```max_depth=2``` and ```n_estimators=200```.\n",
        "\n",
        "Note that we haven't experimented with many other important hyperparameters till now, such as ```learning rate```, ```subsample``` etc., and the results might be considerably improved by tuning them. We'll next experiment with these hyperparameters.\n",
        "\n",
        "As of now again rebuild AdaBoostClassifier with chosen hyperparameters"
      ]
    },
    {
      "cell_type": "code",
      "metadata": {
        "colab": {
          "base_uri": "https://localhost:8080/"
        },
        "id": "nhE0yFVqD3U8",
        "outputId": "64bf7af3-732e-456e-d805-d11a1d52bffc"
      },
      "source": [
        "# DecisionTreeClassifier  as base estimator with max_depth as 2 and random_state as 1\n",
        "tree = DecisionTreeClassifier(max_depth=2, random_state=1)\n",
        "\n",
        "'''adaboost with the tree as base estimator learning rate is arbitrarily set as 0.6, \n",
        "    n_eastimator as 200, random_state as 1, algorithm as \"SAMME\" '''\n",
        "\n",
        "ABC = AdaBoostClassifier(\n",
        "    base_estimator=tree,\n",
        "    learning_rate=0.6,\n",
        "    n_estimators=200,\n",
        "    algorithm='SAMME',\n",
        "    random_state=1\n",
        "    )\n",
        "\n",
        "# fitting ABCon training data\n",
        "ABC.fit(X_train, y_train)"
      ],
      "execution_count": 48,
      "outputs": [
        {
          "output_type": "execute_result",
          "data": {
            "text/plain": [
              "AdaBoostClassifier(algorithm='SAMME',\n",
              "                   base_estimator=DecisionTreeClassifier(max_depth=2,\n",
              "                                                         random_state=1),\n",
              "                   learning_rate=0.6, n_estimators=200, random_state=1)"
            ]
          },
          "metadata": {},
          "execution_count": 48
        }
      ]
    },
    {
      "cell_type": "code",
      "metadata": {
        "colab": {
          "base_uri": "https://localhost:8080/"
        },
        "id": "pxaRQB8eD3U8",
        "outputId": "ee1f8cb7-9c8f-44f3-993b-b27e36124e78"
      },
      "source": [
        "# predict on test data\n",
        "predictions = ABC.predict_proba(X_test)\n",
        "\n",
        "# print top 10 prediction probabilities\n",
        "predictions[:10]"
      ],
      "execution_count": 49,
      "outputs": [
        {
          "output_type": "execute_result",
          "data": {
            "text/plain": [
              "array([[0.61058431, 0.38941569],\n",
              "       [0.60742586, 0.39257414],\n",
              "       [0.63265753, 0.36734247],\n",
              "       [0.58758342, 0.41241658],\n",
              "       [0.57045678, 0.42954322],\n",
              "       [0.61162484, 0.38837516],\n",
              "       [0.59403993, 0.40596007],\n",
              "       [0.60805124, 0.39194876],\n",
              "       [0.60362848, 0.39637152],\n",
              "       [0.57654304, 0.42345696]])"
            ]
          },
          "metadata": {},
          "execution_count": 49
        }
      ]
    },
    {
      "cell_type": "code",
      "metadata": {
        "colab": {
          "base_uri": "https://localhost:8080/"
        },
        "id": "PvTVp3a-D3U9",
        "outputId": "0bdeb254-bafc-474a-a8ea-834a67989562"
      },
      "source": [
        "# Calculate roc auc score \n",
        "metrics.roc_auc_score(y_test, predictions[:,1])"
      ],
      "execution_count": 50,
      "outputs": [
        {
          "output_type": "execute_result",
          "data": {
            "text/plain": [
              "0.960727748545338"
            ]
          },
          "metadata": {},
          "execution_count": 50
        }
      ]
    },
    {
      "cell_type": "markdown",
      "metadata": {
        "id": "2QlUGz4mD3U9"
      },
      "source": [
        "Well done, you have improved the model and adaboost gave us 96% of roc_auc coverage, which is a kind of good coverage\n",
        "\n",
        "### 2. Gradient Boosting Classifier\n",
        "\n",
        "\n",
        "\n",
        "Reference doc: https://scikit-learn.org/stable/modules/generated/sklearn.ensemble.GradientBoostingClassifier.html\n",
        "\n",
        "Reference video: https://www.youtube.com/watch?v=j034-r3O2Cg\n",
        "\n",
        "Boosting is a method of converting weak learners into strong learners. In boosting, each new tree is a fit on a modified version of the original data set. \n",
        "\n",
        "Let's now try the gradient boosting classifier. We'll experiment with two main hyperparameters now - ```learning_rate``` (shrinkage) and ```subsample```. \n",
        "\n",
        "By adjusting the learning rate to less than 1, we can regularize the model. A model with higher learning_rate learns fast, but is prone to overfitting; one with a lower learning rate learns slowly, but avoids overfitting.\n",
        "\n",
        "Also, there's a trade-off between ```learning_rate``` and ```n_estimators``` - the higher the learning rate, the lesser trees the model needs (and thus we usually tune only one of them).\n",
        "\n",
        "Also, by subsampling (setting ```subsample``` to less than 1), we can have the individual models built on random subsamples of size ```subsample```. That way, each tree will be trained on different subsets and reduce the model's variance."
      ]
    },
    {
      "cell_type": "code",
      "metadata": {
        "id": "i4RK3nuZD3U9"
      },
      "source": [
        "# parameter grid with learning_rate as [0.2, 0.6, 0.9] and subsample as [0.3, 0.6, 0.9]\n",
        "param_grid = {'learning_rate': [0.2, 0.6, 0.9],\n",
        "              \"subsample\": [0.3, 0.6, 0.9]\n",
        "              }"
      ],
      "execution_count": 51,
      "outputs": []
    },
    {
      "cell_type": "code",
      "metadata": {
        "id": "zFpD3jmkD3U9"
      },
      "source": [
        "# Gradient boost as base estimator with max_depth as 2 and n_estimators as 200 and random_state as 1\n",
        "GBC = GradientBoostingClassifier(max_depth=2, n_estimators=200, random_state=1)"
      ],
      "execution_count": 52,
      "outputs": []
    },
    {
      "cell_type": "markdown",
      "metadata": {
        "id": "VGYdbjKLD3U-"
      },
      "source": [
        "##### Run grid search\n"
      ]
    },
    {
      "cell_type": "code",
      "metadata": {
        "colab": {
          "base_uri": "https://localhost:8080/"
        },
        "id": "VtnUljW9D3U-",
        "scrolled": true,
        "outputId": "0f031deb-596b-45da-b35f-b2d44c9a51b1"
      },
      "source": [
        "# CV folds as 3\n",
        "folds = 3\n",
        "\n",
        "#Instantiate grid search with GBC, folds, param_grid and scoring as roc_auc, return_train_score as True and verbose as 1\n",
        "\n",
        "grid_search_GBC = GridSearchCV(GBC,\n",
        "                               cv = folds,\n",
        "                               param_grid = param_grid,\n",
        "                               scoring = 'roc_auc',\n",
        "                               return_train_score=True,\n",
        "                               verbose=1)\n",
        "\n",
        "# grid_search_GBC fit on training data \n",
        "grid_search_GBC.fit(X_train, y_train)"
      ],
      "execution_count": 53,
      "outputs": [
        {
          "output_type": "stream",
          "name": "stdout",
          "text": [
            "Fitting 3 folds for each of 9 candidates, totalling 27 fits\n"
          ]
        },
        {
          "output_type": "execute_result",
          "data": {
            "text/plain": [
              "GridSearchCV(cv=3,\n",
              "             estimator=GradientBoostingClassifier(max_depth=2, n_estimators=200,\n",
              "                                                  random_state=1),\n",
              "             param_grid={'learning_rate': [0.2, 0.6, 0.9],\n",
              "                         'subsample': [0.3, 0.6, 0.9]},\n",
              "             return_train_score=True, scoring='roc_auc', verbose=1)"
            ]
          },
          "metadata": {},
          "execution_count": 53
        }
      ]
    },
    {
      "cell_type": "code",
      "metadata": {
        "colab": {
          "base_uri": "https://localhost:8080/",
          "height": 530
        },
        "id": "Mm1tYS_iD3U-",
        "scrolled": true,
        "outputId": "bd2c8cb4-e8e6-41ac-ac1f-b2a186e0a2a6"
      },
      "source": [
        "# cv results\n",
        "\n",
        "cv_results = pd.DataFrame(grid_search_GBC.cv_results_)\n",
        "cv_results.head()"
      ],
      "execution_count": 54,
      "outputs": [
        {
          "output_type": "execute_result",
          "data": {
            "text/html": [
              "\n",
              "  <div id=\"df-e9c1fc14-af94-4dd0-bc68-b44b70d8fae2\">\n",
              "    <div class=\"colab-df-container\">\n",
              "      <div>\n",
              "<style scoped>\n",
              "    .dataframe tbody tr th:only-of-type {\n",
              "        vertical-align: middle;\n",
              "    }\n",
              "\n",
              "    .dataframe tbody tr th {\n",
              "        vertical-align: top;\n",
              "    }\n",
              "\n",
              "    .dataframe thead th {\n",
              "        text-align: right;\n",
              "    }\n",
              "</style>\n",
              "<table border=\"1\" class=\"dataframe\">\n",
              "  <thead>\n",
              "    <tr style=\"text-align: right;\">\n",
              "      <th></th>\n",
              "      <th>mean_fit_time</th>\n",
              "      <th>std_fit_time</th>\n",
              "      <th>mean_score_time</th>\n",
              "      <th>std_score_time</th>\n",
              "      <th>param_learning_rate</th>\n",
              "      <th>param_subsample</th>\n",
              "      <th>params</th>\n",
              "      <th>split0_test_score</th>\n",
              "      <th>split1_test_score</th>\n",
              "      <th>split2_test_score</th>\n",
              "      <th>mean_test_score</th>\n",
              "      <th>std_test_score</th>\n",
              "      <th>rank_test_score</th>\n",
              "      <th>split0_train_score</th>\n",
              "      <th>split1_train_score</th>\n",
              "      <th>split2_train_score</th>\n",
              "      <th>mean_train_score</th>\n",
              "      <th>std_train_score</th>\n",
              "    </tr>\n",
              "  </thead>\n",
              "  <tbody>\n",
              "    <tr>\n",
              "      <th>0</th>\n",
              "      <td>5.612534</td>\n",
              "      <td>0.060564</td>\n",
              "      <td>0.041285</td>\n",
              "      <td>0.000757</td>\n",
              "      <td>0.2</td>\n",
              "      <td>0.3</td>\n",
              "      <td>{'learning_rate': 0.2, 'subsample': 0.3}</td>\n",
              "      <td>0.777582</td>\n",
              "      <td>0.667045</td>\n",
              "      <td>0.884576</td>\n",
              "      <td>0.776401</td>\n",
              "      <td>0.088811</td>\n",
              "      <td>3</td>\n",
              "      <td>0.848509</td>\n",
              "      <td>0.771451</td>\n",
              "      <td>0.843124</td>\n",
              "      <td>0.821028</td>\n",
              "      <td>0.035125</td>\n",
              "    </tr>\n",
              "    <tr>\n",
              "      <th>1</th>\n",
              "      <td>8.234514</td>\n",
              "      <td>0.011760</td>\n",
              "      <td>0.042288</td>\n",
              "      <td>0.000936</td>\n",
              "      <td>0.2</td>\n",
              "      <td>0.6</td>\n",
              "      <td>{'learning_rate': 0.2, 'subsample': 0.6}</td>\n",
              "      <td>0.880967</td>\n",
              "      <td>0.878956</td>\n",
              "      <td>0.751848</td>\n",
              "      <td>0.837257</td>\n",
              "      <td>0.060399</td>\n",
              "      <td>2</td>\n",
              "      <td>0.905836</td>\n",
              "      <td>0.949851</td>\n",
              "      <td>0.741464</td>\n",
              "      <td>0.865717</td>\n",
              "      <td>0.089679</td>\n",
              "    </tr>\n",
              "    <tr>\n",
              "      <th>2</th>\n",
              "      <td>10.290275</td>\n",
              "      <td>0.066038</td>\n",
              "      <td>0.041532</td>\n",
              "      <td>0.001219</td>\n",
              "      <td>0.2</td>\n",
              "      <td>0.9</td>\n",
              "      <td>{'learning_rate': 0.2, 'subsample': 0.9}</td>\n",
              "      <td>0.799695</td>\n",
              "      <td>0.823715</td>\n",
              "      <td>0.899856</td>\n",
              "      <td>0.841089</td>\n",
              "      <td>0.042696</td>\n",
              "      <td>1</td>\n",
              "      <td>0.858151</td>\n",
              "      <td>0.815856</td>\n",
              "      <td>0.904002</td>\n",
              "      <td>0.859336</td>\n",
              "      <td>0.035995</td>\n",
              "    </tr>\n",
              "    <tr>\n",
              "      <th>3</th>\n",
              "      <td>5.604543</td>\n",
              "      <td>0.038262</td>\n",
              "      <td>0.041212</td>\n",
              "      <td>0.000432</td>\n",
              "      <td>0.6</td>\n",
              "      <td>0.3</td>\n",
              "      <td>{'learning_rate': 0.6, 'subsample': 0.3}</td>\n",
              "      <td>0.712614</td>\n",
              "      <td>0.171713</td>\n",
              "      <td>0.632072</td>\n",
              "      <td>0.505466</td>\n",
              "      <td>0.238279</td>\n",
              "      <td>7</td>\n",
              "      <td>0.617595</td>\n",
              "      <td>0.177567</td>\n",
              "      <td>0.654294</td>\n",
              "      <td>0.483152</td>\n",
              "      <td>0.216600</td>\n",
              "    </tr>\n",
              "    <tr>\n",
              "      <th>4</th>\n",
              "      <td>8.208991</td>\n",
              "      <td>0.011718</td>\n",
              "      <td>0.040497</td>\n",
              "      <td>0.000584</td>\n",
              "      <td>0.6</td>\n",
              "      <td>0.6</td>\n",
              "      <td>{'learning_rate': 0.6, 'subsample': 0.6}</td>\n",
              "      <td>0.489959</td>\n",
              "      <td>0.654872</td>\n",
              "      <td>0.603384</td>\n",
              "      <td>0.582738</td>\n",
              "      <td>0.068890</td>\n",
              "      <td>6</td>\n",
              "      <td>0.452552</td>\n",
              "      <td>0.684572</td>\n",
              "      <td>0.634142</td>\n",
              "      <td>0.590422</td>\n",
              "      <td>0.099639</td>\n",
              "    </tr>\n",
              "  </tbody>\n",
              "</table>\n",
              "</div>\n",
              "      <button class=\"colab-df-convert\" onclick=\"convertToInteractive('df-e9c1fc14-af94-4dd0-bc68-b44b70d8fae2')\"\n",
              "              title=\"Convert this dataframe to an interactive table.\"\n",
              "              style=\"display:none;\">\n",
              "        \n",
              "  <svg xmlns=\"http://www.w3.org/2000/svg\" height=\"24px\"viewBox=\"0 0 24 24\"\n",
              "       width=\"24px\">\n",
              "    <path d=\"M0 0h24v24H0V0z\" fill=\"none\"/>\n",
              "    <path d=\"M18.56 5.44l.94 2.06.94-2.06 2.06-.94-2.06-.94-.94-2.06-.94 2.06-2.06.94zm-11 1L8.5 8.5l.94-2.06 2.06-.94-2.06-.94L8.5 2.5l-.94 2.06-2.06.94zm10 10l.94 2.06.94-2.06 2.06-.94-2.06-.94-.94-2.06-.94 2.06-2.06.94z\"/><path d=\"M17.41 7.96l-1.37-1.37c-.4-.4-.92-.59-1.43-.59-.52 0-1.04.2-1.43.59L10.3 9.45l-7.72 7.72c-.78.78-.78 2.05 0 2.83L4 21.41c.39.39.9.59 1.41.59.51 0 1.02-.2 1.41-.59l7.78-7.78 2.81-2.81c.8-.78.8-2.07 0-2.86zM5.41 20L4 18.59l7.72-7.72 1.47 1.35L5.41 20z\"/>\n",
              "  </svg>\n",
              "      </button>\n",
              "      \n",
              "  <style>\n",
              "    .colab-df-container {\n",
              "      display:flex;\n",
              "      flex-wrap:wrap;\n",
              "      gap: 12px;\n",
              "    }\n",
              "\n",
              "    .colab-df-convert {\n",
              "      background-color: #E8F0FE;\n",
              "      border: none;\n",
              "      border-radius: 50%;\n",
              "      cursor: pointer;\n",
              "      display: none;\n",
              "      fill: #1967D2;\n",
              "      height: 32px;\n",
              "      padding: 0 0 0 0;\n",
              "      width: 32px;\n",
              "    }\n",
              "\n",
              "    .colab-df-convert:hover {\n",
              "      background-color: #E2EBFA;\n",
              "      box-shadow: 0px 1px 2px rgba(60, 64, 67, 0.3), 0px 1px 3px 1px rgba(60, 64, 67, 0.15);\n",
              "      fill: #174EA6;\n",
              "    }\n",
              "\n",
              "    [theme=dark] .colab-df-convert {\n",
              "      background-color: #3B4455;\n",
              "      fill: #D2E3FC;\n",
              "    }\n",
              "\n",
              "    [theme=dark] .colab-df-convert:hover {\n",
              "      background-color: #434B5C;\n",
              "      box-shadow: 0px 1px 3px 1px rgba(0, 0, 0, 0.15);\n",
              "      filter: drop-shadow(0px 1px 2px rgba(0, 0, 0, 0.3));\n",
              "      fill: #FFFFFF;\n",
              "    }\n",
              "  </style>\n",
              "\n",
              "      <script>\n",
              "        const buttonEl =\n",
              "          document.querySelector('#df-e9c1fc14-af94-4dd0-bc68-b44b70d8fae2 button.colab-df-convert');\n",
              "        buttonEl.style.display =\n",
              "          google.colab.kernel.accessAllowed ? 'block' : 'none';\n",
              "\n",
              "        async function convertToInteractive(key) {\n",
              "          const element = document.querySelector('#df-e9c1fc14-af94-4dd0-bc68-b44b70d8fae2');\n",
              "          const dataTable =\n",
              "            await google.colab.kernel.invokeFunction('convertToInteractive',\n",
              "                                                     [key], {});\n",
              "          if (!dataTable) return;\n",
              "\n",
              "          const docLinkHtml = 'Like what you see? Visit the ' +\n",
              "            '<a target=\"_blank\" href=https://colab.research.google.com/notebooks/data_table.ipynb>data table notebook</a>'\n",
              "            + ' to learn more about interactive tables.';\n",
              "          element.innerHTML = '';\n",
              "          dataTable['output_type'] = 'display_data';\n",
              "          await google.colab.output.renderOutput(dataTable, element);\n",
              "          const docLink = document.createElement('div');\n",
              "          docLink.innerHTML = docLinkHtml;\n",
              "          element.appendChild(docLink);\n",
              "        }\n",
              "      </script>\n",
              "    </div>\n",
              "  </div>\n",
              "  "
            ],
            "text/plain": [
              "   mean_fit_time  std_fit_time  ...  mean_train_score  std_train_score\n",
              "0       5.612534      0.060564  ...          0.821028         0.035125\n",
              "1       8.234514      0.011760  ...          0.865717         0.089679\n",
              "2      10.290275      0.066038  ...          0.859336         0.035995\n",
              "3       5.604543      0.038262  ...          0.483152         0.216600\n",
              "4       8.208991      0.011718  ...          0.590422         0.099639\n",
              "\n",
              "[5 rows x 18 columns]"
            ]
          },
          "metadata": {},
          "execution_count": 54
        }
      ]
    },
    {
      "cell_type": "code",
      "metadata": {
        "colab": {
          "base_uri": "https://localhost:8080/",
          "height": 407
        },
        "id": "ZEM6khM6D3U-",
        "outputId": "de621c95-3186-46a9-d153-64562e211dcc"
      },
      "source": [
        "# # plotting AUC with hyperparameter combinations i.e subsample\n",
        "\n",
        "plt.figure(figsize=(16,6))\n",
        "\n",
        "\n",
        "for n, subsample in enumerate(param_grid['subsample']):\n",
        "    \n",
        "\n",
        "    # subplot 1/n\n",
        "    plt.subplot(1, len(param_grid['subsample']), n+1)\n",
        "    df = cv_results[cv_results['param_subsample']==subsample]\n",
        "\n",
        "    plt.plot(df[\"param_learning_rate\"], df[\"mean_test_score\"])    \n",
        "    plt.plot(df[\"param_learning_rate\"], df[\"mean_train_score\"])\n",
        "    plt.xlabel(\"learning_rate\")\n",
        "    plt.ylabel(\"AUC\")\n",
        "    plt.title(\"subsample={0}\".format(subsample))\n",
        "    plt.ylim([0.60, 1])\n",
        "    plt.legend(['test score', 'train score'], loc='upper left')\n",
        "    plt.xscale('log')"
      ],
      "execution_count": 55,
      "outputs": [
        {
          "output_type": "display_data",
          "data": {
            "image/png": "[encoded data removed]",
            "text/plain": [
              "<Figure size 1152x432 with 3 Axes>"
            ]
          },
          "metadata": {
            "needs_background": "light"
          }
        }
      ]
    },
    {
      "cell_type": "markdown",
      "metadata": {
        "id": "ZCLdKflSD3U_"
      },
      "source": [
        "It is clear from the plot above that the model with a lower subsample ratio performs better, while those with higher subsamples tend to overfit. \n",
        "\n",
        "Also, a lower learning rate results in less overfitting."
      ]
    },
    {
      "cell_type": "code",
      "metadata": {
        "colab": {
          "base_uri": "https://localhost:8080/"
        },
        "id": "4fdnUAobRGSx",
        "outputId": "4befdefd-60bb-424e-e5b8-734bf47a4794"
      },
      "source": [
        "# fitting GBC training data\n",
        "GBC.fit(X_train, y_train)\n",
        "\n",
        "# predict probabilities on test data\n",
        "predictions = GBC.predict_proba(X_test)\n",
        "\n",
        "# print top 10 prediction probabilities\n",
        "predictions[:10]"
      ],
      "execution_count": 56,
      "outputs": [
        {
          "output_type": "execute_result",
          "data": {
            "text/plain": [
              "array([[9.99759635e-01, 2.40365249e-04],\n",
              "       [9.99683461e-01, 3.16539468e-04],\n",
              "       [9.99385527e-01, 6.14472923e-04],\n",
              "       [9.99790280e-01, 2.09720179e-04],\n",
              "       [9.99189954e-01, 8.10045513e-04],\n",
              "       [9.99824758e-01, 1.75242409e-04],\n",
              "       [9.99618179e-01, 3.81820940e-04],\n",
              "       [9.99712348e-01, 2.87651814e-04],\n",
              "       [9.99781825e-01, 2.18175325e-04],\n",
              "       [9.98997601e-01, 1.00239939e-03]])"
            ]
          },
          "metadata": {},
          "execution_count": 56
        }
      ]
    },
    {
      "cell_type": "code",
      "metadata": {
        "colab": {
          "base_uri": "https://localhost:8080/"
        },
        "id": "jdt8L_PrS54b",
        "outputId": "3c7088a6-a867-4aa4-abdf-0bc2f33d038d"
      },
      "source": [
        "# Calculate roc auc score \n",
        "metrics.roc_auc_score(y_test, predictions[:, 1])"
      ],
      "execution_count": 57,
      "outputs": [
        {
          "output_type": "execute_result",
          "data": {
            "text/plain": [
              "0.9599148083187171"
            ]
          },
          "metadata": {},
          "execution_count": 57
        }
      ]
    },
    {
      "cell_type": "markdown",
      "metadata": {
        "id": "D_UuYzsnD3U_"
      },
      "source": [
        "So Gradient boosting also gives us 96% of roc_auc coverage\n",
        "\n",
        "### 3. XGBoost\n",
        "\n",
        "Reference video: https://www.youtube.com/watch?v=gPciUPwWJQQ\n",
        "\n",
        "Reference doc:https://www.analyticsvidhya.com/blog/2018/09/an-end-to-end-guide-to-understand-the-math-behind-xgboost/\n",
        "\n",
        "XGBoost is a decision-tree-based ensemble Machine Learning algorithm that uses a gradient boosting framework. In prediction problems involving unstructured data (images, text, etc.) artificial neural networks tend to outperform all other algorithms or frameworks. However, when it comes to small-to-medium structured/tabular data, decision tree based algorithms are considered best-in-class right now. Please see the chart below for the evolution of tree-based algorithms over the years.\n",
        "\n",
        "Let's finally try XGBoost. The hyperparameters are the same, some important ones being ```subsample```, ```learning_rate```, ```max_depth``` etc.\n"
      ]
    },
    {
      "cell_type": "code",
      "metadata": {
        "_cell_guid": "2c974205-ceae-45d7-ac5c-06c49449e772",
        "_uuid": "25d4621636d95e27ee661f4d6a62532671f678b6",
        "colab": {
          "base_uri": "https://localhost:8080/"
        },
        "id": "ENbuiar_D3U_",
        "outputId": "490ea0b0-eb6e-4c8c-f58d-b7c29525ba13"
      },
      "source": [
        "# Instantiate XGBClassifier with default hyperparameters and random_state=1\n",
        "model = XGBClassifier(random_state=1)\n",
        " \n",
        "# fit model on training data\n",
        "model.fit(X_train, y_train)"
      ],
      "execution_count": 58,
      "outputs": [
        {
          "output_type": "execute_result",
          "data": {
            "text/plain": [
              "XGBClassifier(random_state=1)"
            ]
          },
          "metadata": {},
          "execution_count": 58
        }
      ]
    },
    {
      "cell_type": "markdown",
      "metadata": {
        "id": "kOjxFItyD3VA"
      },
      "source": [
        "Make predictions for test data\n"
      ]
    },
    {
      "cell_type": "code",
      "metadata": {
        "_cell_guid": "3d7ecd8f-856e-4405-9251-4128a31501b4",
        "_uuid": "92d6a9195af92f42514cbeec09585b083bc304cf",
        "colab": {
          "base_uri": "https://localhost:8080/"
        },
        "id": "jc4iDFrGD3VA",
        "outputId": "6ac427d7-7a71-4c34-893a-fe8305398916"
      },
      "source": [
        "# use predict_proba since we need probabilities to compute auc\n",
        "y_pred = model.predict_proba(X_test)\n",
        "\n",
        "# print top 10 y_pred result\n",
        "y_pred[:10]"
      ],
      "execution_count": 59,
      "outputs": [
        {
          "output_type": "execute_result",
          "data": {
            "text/plain": [
              "array([[9.9987620e-01, 1.2377757e-04],\n",
              "       [9.9980235e-01, 1.9764129e-04],\n",
              "       [9.9981219e-01, 1.8779545e-04],\n",
              "       [9.9935341e-01, 6.4659910e-04],\n",
              "       [9.9839455e-01, 1.6054598e-03],\n",
              "       [9.9982888e-01, 1.7113073e-04],\n",
              "       [9.9954700e-01, 4.5297624e-04],\n",
              "       [9.9944913e-01, 5.5086729e-04],\n",
              "       [9.9976951e-01, 2.3048650e-04],\n",
              "       [9.9696469e-01, 3.0353032e-03]], dtype=float32)"
            ]
          },
          "metadata": {},
          "execution_count": 59
        }
      ]
    },
    {
      "cell_type": "code",
      "metadata": {
        "_cell_guid": "26c5a5e3-b0ab-4b38-b31e-02aa2f94b6d2",
        "_uuid": "6761becf4d2447a77b9df32f7bb36b9331a16234",
        "colab": {
          "base_uri": "https://localhost:8080/"
        },
        "id": "_9soR1CLD3VA",
        "scrolled": false,
        "outputId": "61e870c4-d34e-4322-85ca-ee4018f8bea3"
      },
      "source": [
        "# evaluate predictions using roc_auc score\n",
        "roc = metrics.roc_auc_score(y_test, y_pred[:,1])\n",
        "print(\"AUC: %.2f%%\" % (roc * 100.0))"
      ],
      "execution_count": 60,
      "outputs": [
        {
          "output_type": "stream",
          "name": "stdout",
          "text": [
            "AUC: 94.85%\n"
          ]
        }
      ]
    },
    {
      "cell_type": "markdown",
      "metadata": {
        "_cell_guid": "b1724bd9-058a-428a-8052-67fb1eaf4e71",
        "_uuid": "9966ae6ab65c76abfa72e8d9503959a21665072d",
        "id": "D0R5HGVmD3VB"
      },
      "source": [
        "The roc_auc in this case is about 0.95% with default hyperparameters. Let's try changing the hyperparameters - an exhaustive list of XGBoost hyperparameters is here: http://xgboost.readthedocs.io/en/latest/parameter.html\n"
      ]
    },
    {
      "cell_type": "markdown",
      "metadata": {
        "_cell_guid": "2b2f8b31-33e9-454e-9393-263e628c3719",
        "_uuid": "309df6cbd77f3c31140606f4e0b620db53b87f35",
        "id": "uW5ayn7oD3VB"
      },
      "source": [
        "Let's now try tuning the hyperparameters using k-fold CV. We'll then use grid search CV to find the optimal values of hyperparameters.\n",
        "\n",
        "##### hyperparameter tuning with XGBoost\n"
      ]
    },
    {
      "cell_type": "code",
      "metadata": {
        "_cell_guid": "06427904-5c5e-4e36-bef9-1cf74e1be8c6",
        "_uuid": "7189e86b264593e6946cac56b267f38640257c49",
        "id": "cELevyotD3VB"
      },
      "source": [
        "# creating a KFold object( 3 )\n",
        "folds = 3\n",
        "\n",
        "# specify range of hyperparameters with learning_rate as [0.2, 0.6] ans subsample as [0.3, 0.6, 0.9]\n",
        "param_grid = {'learning_rate': [0.2, 0.6, 0.9],\n",
        "              \"subsample\": [0.3, 0.6, 0.9]\n",
        "              }      \n",
        "\n",
        "\n",
        "# specify model with max_depth as 2 and n_estimators as 200 and random_state as 1\n",
        "xgb_model = XGBClassifier(max_depth=2, n_estimators=200, random_state=1)\n",
        "\n",
        "# set up GridSearchCV() with xgb_model, param_grid, folds, return_train_score and verbose as 1 and scoring as roc_auc\n",
        "model_cv = GridSearchCV(estimator = xgb_model, \n",
        "                        param_grid = param_grid, \n",
        "                        scoring= 'roc_auc', \n",
        "                        cv = folds, \n",
        "                        verbose = 1,\n",
        "                        return_train_score=True)"
      ],
      "execution_count": 61,
      "outputs": []
    },
    {
      "cell_type": "code",
      "metadata": {
        "_cell_guid": "bfbc46d5-708a-477c-bd72-7722bf09e6ba",
        "_uuid": "dd828f9d6467b353a835f4163fcda0e6d662c24b",
        "colab": {
          "base_uri": "https://localhost:8080/"
        },
        "id": "IIvxhmnKD3VB",
        "scrolled": false,
        "outputId": "ea4f4be8-e212-4209-df0f-d5e91b96670e"
      },
      "source": [
        "# fit the model_cv on training data\n",
        "model_cv.fit(X_train, y_train)"
      ],
      "execution_count": 62,
      "outputs": [
        {
          "output_type": "stream",
          "name": "stdout",
          "text": [
            "Fitting 3 folds for each of 9 candidates, totalling 27 fits\n"
          ]
        },
        {
          "output_type": "execute_result",
          "data": {
            "text/plain": [
              "GridSearchCV(cv=3,\n",
              "             estimator=XGBClassifier(max_depth=2, n_estimators=200,\n",
              "                                     random_state=1),\n",
              "             param_grid={'learning_rate': [0.2, 0.6, 0.9],\n",
              "                         'subsample': [0.3, 0.6, 0.9]},\n",
              "             return_train_score=True, scoring='roc_auc', verbose=1)"
            ]
          },
          "metadata": {},
          "execution_count": 62
        }
      ]
    },
    {
      "cell_type": "code",
      "metadata": {
        "_cell_guid": "f858e220-b38f-41e2-b083-06d8f5eb742b",
        "_uuid": "afd9d9144b8f8817cdc03b1a1f568f920650a48b",
        "colab": {
          "base_uri": "https://localhost:8080/",
          "height": 864
        },
        "id": "JdN7so49D3VC",
        "scrolled": true,
        "outputId": "2ce33b2a-0da4-4088-bea6-2dcce5cf6633"
      },
      "source": [
        "# Get cv results as datafame\n",
        "cv_results = pd.DataFrame(model_cv.cv_results_)\n",
        "cv_results"
      ],
      "execution_count": 64,
      "outputs": [
        {
          "output_type": "execute_result",
          "data": {
            "text/html": [
              "\n",
              "  <div id=\"df-1257e05e-2e1c-4bb1-acb9-b6c6996302e4\">\n",
              "    <div class=\"colab-df-container\">\n",
              "      <div>\n",
              "<style scoped>\n",
              "    .dataframe tbody tr th:only-of-type {\n",
              "        vertical-align: middle;\n",
              "    }\n",
              "\n",
              "    .dataframe tbody tr th {\n",
              "        vertical-align: top;\n",
              "    }\n",
              "\n",
              "    .dataframe thead th {\n",
              "        text-align: right;\n",
              "    }\n",
              "</style>\n",
              "<table border=\"1\" class=\"dataframe\">\n",
              "  <thead>\n",
              "    <tr style=\"text-align: right;\">\n",
              "      <th></th>\n",
              "      <th>mean_fit_time</th>\n",
              "      <th>std_fit_time</th>\n",
              "      <th>mean_score_time</th>\n",
              "      <th>std_score_time</th>\n",
              "      <th>param_learning_rate</th>\n",
              "      <th>param_subsample</th>\n",
              "      <th>params</th>\n",
              "      <th>split0_test_score</th>\n",
              "      <th>split1_test_score</th>\n",
              "      <th>split2_test_score</th>\n",
              "      <th>mean_test_score</th>\n",
              "      <th>std_test_score</th>\n",
              "      <th>rank_test_score</th>\n",
              "      <th>split0_train_score</th>\n",
              "      <th>split1_train_score</th>\n",
              "      <th>split2_train_score</th>\n",
              "      <th>mean_train_score</th>\n",
              "      <th>std_train_score</th>\n",
              "    </tr>\n",
              "  </thead>\n",
              "  <tbody>\n",
              "    <tr>\n",
              "      <th>0</th>\n",
              "      <td>5.307076</td>\n",
              "      <td>0.047857</td>\n",
              "      <td>0.137319</td>\n",
              "      <td>0.004110</td>\n",
              "      <td>0.2</td>\n",
              "      <td>0.3</td>\n",
              "      <td>{'learning_rate': 0.2, 'subsample': 0.3}</td>\n",
              "      <td>0.918476</td>\n",
              "      <td>0.966470</td>\n",
              "      <td>0.959373</td>\n",
              "      <td>0.948106</td>\n",
              "      <td>0.021151</td>\n",
              "      <td>3</td>\n",
              "      <td>0.990313</td>\n",
              "      <td>0.984284</td>\n",
              "      <td>0.993700</td>\n",
              "      <td>0.989432</td>\n",
              "      <td>0.003894</td>\n",
              "    </tr>\n",
              "    <tr>\n",
              "      <th>1</th>\n",
              "      <td>5.916973</td>\n",
              "      <td>0.016394</td>\n",
              "      <td>0.134923</td>\n",
              "      <td>0.003158</td>\n",
              "      <td>0.2</td>\n",
              "      <td>0.6</td>\n",
              "      <td>{'learning_rate': 0.2, 'subsample': 0.6}</td>\n",
              "      <td>0.933275</td>\n",
              "      <td>0.978913</td>\n",
              "      <td>0.950468</td>\n",
              "      <td>0.954218</td>\n",
              "      <td>0.018819</td>\n",
              "      <td>1</td>\n",
              "      <td>0.993116</td>\n",
              "      <td>0.987288</td>\n",
              "      <td>0.994242</td>\n",
              "      <td>0.991549</td>\n",
              "      <td>0.003047</td>\n",
              "    </tr>\n",
              "    <tr>\n",
              "      <th>2</th>\n",
              "      <td>5.011908</td>\n",
              "      <td>0.061707</td>\n",
              "      <td>0.133797</td>\n",
              "      <td>0.005775</td>\n",
              "      <td>0.2</td>\n",
              "      <td>0.9</td>\n",
              "      <td>{'learning_rate': 0.2, 'subsample': 0.9}</td>\n",
              "      <td>0.924940</td>\n",
              "      <td>0.973210</td>\n",
              "      <td>0.950138</td>\n",
              "      <td>0.949429</td>\n",
              "      <td>0.019712</td>\n",
              "      <td>2</td>\n",
              "      <td>0.993739</td>\n",
              "      <td>0.989940</td>\n",
              "      <td>0.994238</td>\n",
              "      <td>0.992639</td>\n",
              "      <td>0.001919</td>\n",
              "    </tr>\n",
              "    <tr>\n",
              "      <th>3</th>\n",
              "      <td>5.326837</td>\n",
              "      <td>0.024471</td>\n",
              "      <td>0.137967</td>\n",
              "      <td>0.002460</td>\n",
              "      <td>0.6</td>\n",
              "      <td>0.3</td>\n",
              "      <td>{'learning_rate': 0.6, 'subsample': 0.3}</td>\n",
              "      <td>0.903041</td>\n",
              "      <td>0.948284</td>\n",
              "      <td>0.920718</td>\n",
              "      <td>0.924014</td>\n",
              "      <td>0.018617</td>\n",
              "      <td>8</td>\n",
              "      <td>0.997775</td>\n",
              "      <td>0.995323</td>\n",
              "      <td>0.996475</td>\n",
              "      <td>0.996525</td>\n",
              "      <td>0.001002</td>\n",
              "    </tr>\n",
              "    <tr>\n",
              "      <th>4</th>\n",
              "      <td>5.967507</td>\n",
              "      <td>0.020774</td>\n",
              "      <td>0.138790</td>\n",
              "      <td>0.001289</td>\n",
              "      <td>0.6</td>\n",
              "      <td>0.6</td>\n",
              "      <td>{'learning_rate': 0.6, 'subsample': 0.6}</td>\n",
              "      <td>0.909776</td>\n",
              "      <td>0.970954</td>\n",
              "      <td>0.944572</td>\n",
              "      <td>0.941768</td>\n",
              "      <td>0.025054</td>\n",
              "      <td>5</td>\n",
              "      <td>0.999613</td>\n",
              "      <td>0.998645</td>\n",
              "      <td>0.999649</td>\n",
              "      <td>0.999303</td>\n",
              "      <td>0.000465</td>\n",
              "    </tr>\n",
              "    <tr>\n",
              "      <th>5</th>\n",
              "      <td>5.042507</td>\n",
              "      <td>0.033769</td>\n",
              "      <td>0.135234</td>\n",
              "      <td>0.003325</td>\n",
              "      <td>0.6</td>\n",
              "      <td>0.9</td>\n",
              "      <td>{'learning_rate': 0.6, 'subsample': 0.9}</td>\n",
              "      <td>0.900652</td>\n",
              "      <td>0.967076</td>\n",
              "      <td>0.950202</td>\n",
              "      <td>0.939310</td>\n",
              "      <td>0.028190</td>\n",
              "      <td>6</td>\n",
              "      <td>0.999575</td>\n",
              "      <td>0.999293</td>\n",
              "      <td>0.999550</td>\n",
              "      <td>0.999473</td>\n",
              "      <td>0.000127</td>\n",
              "    </tr>\n",
              "    <tr>\n",
              "      <th>6</th>\n",
              "      <td>5.354876</td>\n",
              "      <td>0.033479</td>\n",
              "      <td>0.139081</td>\n",
              "      <td>0.002533</td>\n",
              "      <td>0.9</td>\n",
              "      <td>0.3</td>\n",
              "      <td>{'learning_rate': 0.9, 'subsample': 0.3}</td>\n",
              "      <td>0.885261</td>\n",
              "      <td>0.912978</td>\n",
              "      <td>0.891769</td>\n",
              "      <td>0.896670</td>\n",
              "      <td>0.011834</td>\n",
              "      <td>9</td>\n",
              "      <td>0.997112</td>\n",
              "      <td>0.992989</td>\n",
              "      <td>0.996279</td>\n",
              "      <td>0.995460</td>\n",
              "      <td>0.001780</td>\n",
              "    </tr>\n",
              "    <tr>\n",
              "      <th>7</th>\n",
              "      <td>5.954346</td>\n",
              "      <td>0.016830</td>\n",
              "      <td>0.137621</td>\n",
              "      <td>0.001030</td>\n",
              "      <td>0.9</td>\n",
              "      <td>0.6</td>\n",
              "      <td>{'learning_rate': 0.9, 'subsample': 0.6}</td>\n",
              "      <td>0.895158</td>\n",
              "      <td>0.960072</td>\n",
              "      <td>0.931473</td>\n",
              "      <td>0.928901</td>\n",
              "      <td>0.026563</td>\n",
              "      <td>7</td>\n",
              "      <td>0.999721</td>\n",
              "      <td>0.999680</td>\n",
              "      <td>0.999739</td>\n",
              "      <td>0.999713</td>\n",
              "      <td>0.000025</td>\n",
              "    </tr>\n",
              "    <tr>\n",
              "      <th>8</th>\n",
              "      <td>5.057719</td>\n",
              "      <td>0.032414</td>\n",
              "      <td>0.134390</td>\n",
              "      <td>0.002403</td>\n",
              "      <td>0.9</td>\n",
              "      <td>0.9</td>\n",
              "      <td>{'learning_rate': 0.9, 'subsample': 0.9}</td>\n",
              "      <td>0.924113</td>\n",
              "      <td>0.967477</td>\n",
              "      <td>0.945696</td>\n",
              "      <td>0.945762</td>\n",
              "      <td>0.017704</td>\n",
              "      <td>4</td>\n",
              "      <td>0.999967</td>\n",
              "      <td>0.999853</td>\n",
              "      <td>0.999943</td>\n",
              "      <td>0.999921</td>\n",
              "      <td>0.000049</td>\n",
              "    </tr>\n",
              "  </tbody>\n",
              "</table>\n",
              "</div>\n",
              "      <button class=\"colab-df-convert\" onclick=\"convertToInteractive('df-1257e05e-2e1c-4bb1-acb9-b6c6996302e4')\"\n",
              "              title=\"Convert this dataframe to an interactive table.\"\n",
              "              style=\"display:none;\">\n",
              "        \n",
              "  <svg xmlns=\"http://www.w3.org/2000/svg\" height=\"24px\"viewBox=\"0 0 24 24\"\n",
              "       width=\"24px\">\n",
              "    <path d=\"M0 0h24v24H0V0z\" fill=\"none\"/>\n",
              "    <path d=\"M18.56 5.44l.94 2.06.94-2.06 2.06-.94-2.06-.94-.94-2.06-.94 2.06-2.06.94zm-11 1L8.5 8.5l.94-2.06 2.06-.94-2.06-.94L8.5 2.5l-.94 2.06-2.06.94zm10 10l.94 2.06.94-2.06 2.06-.94-2.06-.94-.94-2.06-.94 2.06-2.06.94z\"/><path d=\"M17.41 7.96l-1.37-1.37c-.4-.4-.92-.59-1.43-.59-.52 0-1.04.2-1.43.59L10.3 9.45l-7.72 7.72c-.78.78-.78 2.05 0 2.83L4 21.41c.39.39.9.59 1.41.59.51 0 1.02-.2 1.41-.59l7.78-7.78 2.81-2.81c.8-.78.8-2.07 0-2.86zM5.41 20L4 18.59l7.72-7.72 1.47 1.35L5.41 20z\"/>\n",
              "  </svg>\n",
              "      </button>\n",
              "      \n",
              "  <style>\n",
              "    .colab-df-container {\n",
              "      display:flex;\n",
              "      flex-wrap:wrap;\n",
              "      gap: 12px;\n",
              "    }\n",
              "\n",
              "    .colab-df-convert {\n",
              "      background-color: #E8F0FE;\n",
              "      border: none;\n",
              "      border-radius: 50%;\n",
              "      cursor: pointer;\n",
              "      display: none;\n",
              "      fill: #1967D2;\n",
              "      height: 32px;\n",
              "      padding: 0 0 0 0;\n",
              "      width: 32px;\n",
              "    }\n",
              "\n",
              "    .colab-df-convert:hover {\n",
              "      background-color: #E2EBFA;\n",
              "      box-shadow: 0px 1px 2px rgba(60, 64, 67, 0.3), 0px 1px 3px 1px rgba(60, 64, 67, 0.15);\n",
              "      fill: #174EA6;\n",
              "    }\n",
              "\n",
              "    [theme=dark] .colab-df-convert {\n",
              "      background-color: #3B4455;\n",
              "      fill: #D2E3FC;\n",
              "    }\n",
              "\n",
              "    [theme=dark] .colab-df-convert:hover {\n",
              "      background-color: #434B5C;\n",
              "      box-shadow: 0px 1px 3px 1px rgba(0, 0, 0, 0.15);\n",
              "      filter: drop-shadow(0px 1px 2px rgba(0, 0, 0, 0.3));\n",
              "      fill: #FFFFFF;\n",
              "    }\n",
              "  </style>\n",
              "\n",
              "      <script>\n",
              "        const buttonEl =\n",
              "          document.querySelector('#df-1257e05e-2e1c-4bb1-acb9-b6c6996302e4 button.colab-df-convert');\n",
              "        buttonEl.style.display =\n",
              "          google.colab.kernel.accessAllowed ? 'block' : 'none';\n",
              "\n",
              "        async function convertToInteractive(key) {\n",
              "          const element = document.querySelector('#df-1257e05e-2e1c-4bb1-acb9-b6c6996302e4');\n",
              "          const dataTable =\n",
              "            await google.colab.kernel.invokeFunction('convertToInteractive',\n",
              "                                                     [key], {});\n",
              "          if (!dataTable) return;\n",
              "\n",
              "          const docLinkHtml = 'Like what you see? Visit the ' +\n",
              "            '<a target=\"_blank\" href=https://colab.research.google.com/notebooks/data_table.ipynb>data table notebook</a>'\n",
              "            + ' to learn more about interactive tables.';\n",
              "          element.innerHTML = '';\n",
              "          dataTable['output_type'] = 'display_data';\n",
              "          await google.colab.output.renderOutput(dataTable, element);\n",
              "          const docLink = document.createElement('div');\n",
              "          docLink.innerHTML = docLinkHtml;\n",
              "          element.appendChild(docLink);\n",
              "        }\n",
              "      </script>\n",
              "    </div>\n",
              "  </div>\n",
              "  "
            ],
            "text/plain": [
              "   mean_fit_time  std_fit_time  ...  mean_train_score  std_train_score\n",
              "0       5.307076      0.047857  ...          0.989432         0.003894\n",
              "1       5.916973      0.016394  ...          0.991549         0.003047\n",
              "2       5.011908      0.061707  ...          0.992639         0.001919\n",
              "3       5.326837      0.024471  ...          0.996525         0.001002\n",
              "4       5.967507      0.020774  ...          0.999303         0.000465\n",
              "5       5.042507      0.033769  ...          0.999473         0.000127\n",
              "6       5.354876      0.033479  ...          0.995460         0.001780\n",
              "7       5.954346      0.016830  ...          0.999713         0.000025\n",
              "8       5.057719      0.032414  ...          0.999921         0.000049\n",
              "\n",
              "[9 rows x 18 columns]"
            ]
          },
          "metadata": {},
          "execution_count": 64
        }
      ]
    },
    {
      "cell_type": "markdown",
      "metadata": {
        "id": "DhdqhKH7D3VC"
      },
      "source": [
        "Convert parameters to int for plotting on x-axis\n"
      ]
    },
    {
      "cell_type": "code",
      "metadata": {
        "_cell_guid": "fdb04f9e-4ada-4413-a8ae-a8bbb2cf2fac",
        "_uuid": "6e4a1bf2aea84e1361fd3234c228991273fa3ac5",
        "colab": {
          "base_uri": "https://localhost:8080/",
          "height": 407
        },
        "id": "e5o4sgkTD3VD",
        "scrolled": false,
        "outputId": "9912737b-e22a-4e34-c260-68aed3f13a6a"
      },
      "source": [
        "# # plotting\n",
        "plt.figure(figsize=(16,6))\n",
        "\n",
        "param_grid = {'learning_rate': [0.2, 0.6], \n",
        "             'subsample': [0.3, 0.6, 0.9]} \n",
        "\n",
        "\n",
        "for n, subsample in enumerate(param_grid['subsample']):\n",
        "    \n",
        "\n",
        "    # subplot 1/n\n",
        "    plt.subplot(1, len(param_grid['subsample']), n+1)\n",
        "    df = cv_results[cv_results['param_subsample']==subsample]\n",
        "\n",
        "    plt.plot(df[\"param_learning_rate\"], df[\"mean_test_score\"])    \n",
        "    plt.plot(df[\"param_learning_rate\"], df[\"mean_train_score\"])\n",
        "    plt.xlabel(\"learning_rate\")\n",
        "    plt.ylabel(\"AUC\")\n",
        "    plt.title(\"subsample={0}\".format(subsample))\n",
        "    plt.ylim([0.60, 1])\n",
        "    plt.legend(['test score', 'train score'], loc='upper left')\n",
        "    plt.xscale('log')"
      ],
      "execution_count": 65,
      "outputs": [
        {
          "output_type": "display_data",
          "data": {
            "image/png": "[encoded data removed]",
            "text/plain": [
              "<Figure size 1152x432 with 3 Axes>"
            ]
          },
          "metadata": {
            "needs_background": "light"
          }
        }
      ]
    },
    {
      "cell_type": "markdown",
      "metadata": {
        "_cell_guid": "21bd521a-86d8-4e42-8e98-c2bfb83f5248",
        "_uuid": "853a028f77dfabc43dc167b4cd92ca9418818106",
        "id": "k-x6BYIqD3VD"
      },
      "source": [
        "The results show that a subsample size of 0.6 and learning_rate of about 0.2 seems optimal. \n",
        "\n",
        "Also, XGBoost has resulted in the highest ROC AUC obtained (across various hyperparameters). \n",
        "\n",
        "\n",
        "Let's build a final model with the chosen hyperparameters ie.\n",
        "\n",
        "\n",
        "`'learning_rate': 0.2,\n",
        "'max_depth': 2, \n",
        "'n_estimators':200,\n",
        "'subsample':0.6,\n",
        "'random_state':1`\n"
      ]
    },
    {
      "cell_type": "code",
      "metadata": {
        "_cell_guid": "f64f6dd4-1594-434d-b006-2607929c7848",
        "_uuid": "f6d26a03087caa6804c67bec109399f32a86e4fb",
        "colab": {
          "base_uri": "https://localhost:8080/"
        },
        "id": "gj0OA89XD3VE",
        "outputId": "4882932e-b3a6-48fc-d7db-36a51e3e1403"
      },
      "source": [
        "# 4 chosen hyperparameters and use 'objective':'binary:logistic' which outputs probability rather than label, which we need for auc\n",
        "params = {'learning_rate': 0.2,\n",
        "          'max_depth': 2,\n",
        "          'n_estimators': 200,\n",
        "          'subsample': 0.6,\n",
        "          'objective': 'binary:logistic',\n",
        "          'random_state': 1}\n",
        "\n",
        "\n",
        "# Instantiate XGBClassifier with params\n",
        "XGB = XGBClassifier(params = params)\n",
        "\n",
        "# fit model on training data\n",
        "XGB.fit(X_train, y_train)"
      ],
      "execution_count": 66,
      "outputs": [
        {
          "output_type": "execute_result",
          "data": {
            "text/plain": [
              "XGBClassifier(params={'learning_rate': 0.2, 'max_depth': 2, 'n_estimators': 200,\n",
              "                      'objective': 'binary:logistic', 'random_state': 1,\n",
              "                      'subsample': 0.6})"
            ]
          },
          "metadata": {},
          "execution_count": 66
        }
      ]
    },
    {
      "cell_type": "code",
      "metadata": {
        "_cell_guid": "4a8c73d2-d546-4741-9f81-99359a268e7d",
        "_uuid": "2bdcff9ae7faeeeac19bce56367f6f559fe9835e",
        "colab": {
          "base_uri": "https://localhost:8080/"
        },
        "id": "R80-UXyED3VE",
        "scrolled": false,
        "outputId": "67448467-e3c8-47f4-881a-329b96b85d98"
      },
      "source": [
        "# get prediction probability\n",
        "y_pred = model.predict_proba(X_test)\n",
        "\n",
        "# print to 10 prediction result\n",
        "y_pred[:10]"
      ],
      "execution_count": 67,
      "outputs": [
        {
          "output_type": "execute_result",
          "data": {
            "text/plain": [
              "array([[9.9987620e-01, 1.2377757e-04],\n",
              "       [9.9980235e-01, 1.9764129e-04],\n",
              "       [9.9981219e-01, 1.8779545e-04],\n",
              "       [9.9935341e-01, 6.4659910e-04],\n",
              "       [9.9839455e-01, 1.6054598e-03],\n",
              "       [9.9982888e-01, 1.7113073e-04],\n",
              "       [9.9954700e-01, 4.5297624e-04],\n",
              "       [9.9944913e-01, 5.5086729e-04],\n",
              "       [9.9976951e-01, 2.3048650e-04],\n",
              "       [9.9696469e-01, 3.0353032e-03]], dtype=float32)"
            ]
          },
          "metadata": {},
          "execution_count": 67
        }
      ]
    },
    {
      "cell_type": "markdown",
      "metadata": {
        "_cell_guid": "02d2e492-87ef-4eb8-b028-09089fbaae18",
        "_uuid": "072559ae029cf30f092bd89c571ac7e981e1a0bf",
        "id": "k9dONIr8D3VE"
      },
      "source": [
        "The first column in y_pred is the P(0), i.e. P(not fraud), and the second column is P(1/fraud)."
      ]
    },
    {
      "cell_type": "code",
      "metadata": {
        "_cell_guid": "fbf9a886-13ce-44f2-8489-7f903236f938",
        "_uuid": "fa63f1fa85a985837b2c77af4208b98522c86632",
        "colab": {
          "base_uri": "https://localhost:8080/"
        },
        "id": "G78YhoVzD3VF",
        "scrolled": false,
        "outputId": "c4703cd3-f2ea-4e54-ae29-5d64f28933d9"
      },
      "source": [
        "# print roc_auc score\n",
        "auc = sklearn.metrics.roc_auc_score(y_test, y_pred[:,1])\n",
        "auc"
      ],
      "execution_count": 68,
      "outputs": [
        {
          "output_type": "execute_result",
          "data": {
            "text/plain": [
              "0.9484868732425735"
            ]
          },
          "metadata": {},
          "execution_count": 68
        }
      ]
    },
    {
      "cell_type": "markdown",
      "metadata": {
        "id": "V4H3vgzPD3VF"
      },
      "source": [
        "Even after hyerparameter tuning we got same roc_auc score. Finally, let's also look at the feature importances."
      ]
    },
    {
      "cell_type": "code",
      "metadata": {
        "colab": {
          "base_uri": "https://localhost:8080/"
        },
        "id": "7IlzyzlQD3VF",
        "scrolled": true,
        "outputId": "b9cbd68e-a2f1-443b-94ff-fc82f256c341"
      },
      "source": [
        "# print feature importance for each column in  a dictionary form\n",
        "importance = dict(zip(X_train.columns, model.feature_importances_))\n",
        "importance"
      ],
      "execution_count": 70,
      "outputs": [
        {
          "output_type": "execute_result",
          "data": {
            "text/plain": [
              "{'app': 0.27878824,\n",
              " 'channel': 0.21394157,\n",
              " 'day_of_week': 0.02267693,\n",
              " 'day_of_year': 0.0,\n",
              " 'device': 0.17192616,\n",
              " 'hour': 0.03604142,\n",
              " 'ip': 0.04729222,\n",
              " 'ip_count': 0.121292084,\n",
              " 'ip_day_hour': 0.0,\n",
              " 'ip_hour_app': 0.0,\n",
              " 'ip_hour_channel': 0.0,\n",
              " 'ip_hour_device': 0.0,\n",
              " 'ip_hour_os': 0.008167093,\n",
              " 'month': 0.0,\n",
              " 'os': 0.09987429}"
            ]
          },
          "metadata": {},
          "execution_count": 70
        }
      ]
    },
    {
      "cell_type": "code",
      "metadata": {
        "colab": {
          "base_uri": "https://localhost:8080/",
          "height": 265
        },
        "id": "qSJTQbzdD3VF",
        "outputId": "a807e796-8d82-4988-ff7f-ae5436a1aad5"
      },
      "source": [
        "# plot feature importance for every column\n",
        "plt.bar(range(len(model.feature_importances_)), model.feature_importances_)\n",
        "plt.show()"
      ],
      "execution_count": 72,
      "outputs": [
        {
          "output_type": "display_data",
          "data": {
            "image/png": "[encoded data removed]",
            "text/plain": [
              "<Figure size 432x288 with 1 Axes>"
            ]
          },
          "metadata": {
            "needs_background": "light"
          }
        }
      ]
    },
    {
      "cell_type": "markdown",
      "metadata": {
        "id": "a8RhPIPsD3VG"
      },
      "source": [
        "## 4.  LightGBM\n",
        "\n",
        "Reference doc: https://lightgbm.readthedocs.io/en/latest/Python-Intro.html\n",
        "\n",
        "Reference video: https://www.youtube.com/watch?v=Ph2nbuhOT04\n",
        "\n",
        "Light GBM is a fast, distributed, high-performance gradient boosting framework based on decision tree algorithm, used for ranking, classification and many other machine learning tasks.\n",
        "\n",
        "Since it is based on decision tree algorithms, it splits the tree leaf wise with the best fit whereas other boosting algorithms split the tree depth wise or level wise rather than leaf-wise. So when growing on the same leaf in Light GBM, the leaf-wise algorithm can reduce more loss than the level-wise algorithm and hence results in much better accuracy which can rarely be achieved by any of the existing boosting algorithms. Also, it is surprisingly very fast, hence the word ‘Light’.\n",
        "\n",
        "**Advantages of Light GBM**\n",
        "\n",
        "1. Faster training speed and higher efficiency: Light GBM use histogram based algorithm i.e it buckets continuous feature values into discrete bins which fasten the training procedure.\n",
        "2. Lower memory usage: Replaces continuous values to discrete bins which result in lower memory usage.\n",
        "3. Better accuracy than any other boosting algorithm: It produces much more complex trees by following leaf wise split approach rather than a level-wise approach which is the main factor in achieving higher accuracy. However, it can sometimes lead to overfitting which can be avoided by setting the max_depth parameter.\n",
        "4. Compatibility with Large Datasets: It is capable of performing equally good with large datasets with a significant reduction in training time as compared to XGBOOST.\n",
        "5. Parallel learning supported.\n",
        "\n",
        "I guess you must have got excited about the advantages of Light GBM. So lets get started with it"
      ]
    },
    {
      "cell_type": "code",
      "metadata": {
        "colab": {
          "base_uri": "https://localhost:8080/"
        },
        "id": "5StvwjP5D3VG",
        "outputId": "ebfd9326-4b82-4fe3-950b-1eb6dc2ef7e6"
      },
      "source": [
        "# import lightgbm as LGBMClassifier\n",
        "from lightgbm import LGBMClassifier\n",
        "\n",
        "# Instantiate LGBMClassifier with default hyperparameters and random_state=1\n",
        "LGB = LGBMClassifier(random_state=1)\n",
        " \n",
        "# fit model on training data\n",
        "LGB.fit(X_train, y_train)"
      ],
      "execution_count": 73,
      "outputs": [
        {
          "output_type": "execute_result",
          "data": {
            "text/plain": [
              "LGBMClassifier(random_state=1)"
            ]
          },
          "metadata": {},
          "execution_count": 73
        }
      ]
    },
    {
      "cell_type": "code",
      "metadata": {
        "colab": {
          "base_uri": "https://localhost:8080/"
        },
        "id": "7U6GwUphD3VG",
        "outputId": "0fb9b0c8-e351-4f9f-e209-8417d85bfab9"
      },
      "source": [
        "# use predict_proba since we need probabilities to compute auc\n",
        "y_pred = LGB.predict_proba(X_test)\n",
        "\n",
        "# print top 10 y_pred result\n",
        "y_pred[:10]"
      ],
      "execution_count": 74,
      "outputs": [
        {
          "output_type": "execute_result",
          "data": {
            "text/plain": [
              "array([[1.00000000e+000, 0.00000000e+000],\n",
              "       [9.99998990e-001, 1.01030903e-006],\n",
              "       [1.00000000e+000, 2.82994650e-030],\n",
              "       [1.00000000e+000, 7.33590054e-049],\n",
              "       [9.99994630e-001, 5.36963442e-006],\n",
              "       [1.15824239e-009, 9.99999999e-001],\n",
              "       [1.00000000e+000, 6.24697059e-143],\n",
              "       [1.00000000e+000, 7.99709263e-127],\n",
              "       [1.00000000e+000, 0.00000000e+000],\n",
              "       [9.99938530e-001, 6.14704228e-005]])"
            ]
          },
          "metadata": {},
          "execution_count": 74
        }
      ]
    },
    {
      "cell_type": "code",
      "metadata": {
        "colab": {
          "base_uri": "https://localhost:8080/"
        },
        "id": "fTMKpaisD3VG",
        "outputId": "e5fb5432-499d-4c65-860c-f962934ec46f"
      },
      "source": [
        "# evaluate predictions using roc_auc score\n",
        "roc = metrics.roc_auc_score(y_test, y_pred[:, 1])\n",
        "print(\"AUC: %.2f%%\" % (roc * 100.0))"
      ],
      "execution_count": 75,
      "outputs": [
        {
          "output_type": "stream",
          "name": "stdout",
          "text": [
            "AUC: 80.28%\n"
          ]
        }
      ]
    },
    {
      "cell_type": "markdown",
      "metadata": {
        "id": "A83xQgyOD3VH"
      },
      "source": [
        "Now lets tune above model. The exhaustive list of hyperparameters in LightGBM are https://lightgbm.readthedocs.io/en/latest/Parameters-Tuning.html\n",
        "\n",
        "But lets run the LightGBM with previous selected hyperparamters i.e.\n",
        "\n",
        "`'learning_rate': 0.2,\n",
        "'max_depth': 2, \n",
        "'n_estimators':200,\n",
        "'subsample':0.6,\n",
        "'random_state':1`\n",
        "         \n",
        "Lets see if it improves"
      ]
    },
    {
      "cell_type": "code",
      "metadata": {
        "colab": {
          "base_uri": "https://localhost:8080/"
        },
        "id": "_W1CMCORD3VH",
        "outputId": "0db4a6c5-e649-4419-c96a-6afeaae89b89"
      },
      "source": [
        "# Instantiate LGBClassifier with above parameters\n",
        "LGB = LGBMClassifier(learning_rate=0.2, max_depth=2, n_estimators=200, subsample=0.6, random_state=1)\n",
        " \n",
        "# fit model on training data\n",
        "LGB.fit(X_train, y_train)"
      ],
      "execution_count": 79,
      "outputs": [
        {
          "output_type": "execute_result",
          "data": {
            "text/plain": [
              "LGBMClassifier(learning_rate=0.2, max_depth=2, n_estimators=200, random_state=1,\n",
              "               subsample=0.6)"
            ]
          },
          "metadata": {},
          "execution_count": 79
        }
      ]
    },
    {
      "cell_type": "code",
      "metadata": {
        "colab": {
          "base_uri": "https://localhost:8080/"
        },
        "id": "B6PQTjksD3VH",
        "outputId": "bad7e8ba-1d9e-4ff7-88b2-404e080aa327"
      },
      "source": [
        "# use predict_proba since we need probabilities to compute auc\n",
        "y_pred = LGB.predict_proba(X_test)\n",
        "\n",
        "# evaluate predictions using roc_auc score\n",
        "roc = metrics.roc_auc_score(y_test, y_pred[:, 1])\n",
        "print(\"AUC: %.2f%%\" % (roc * 100.0))"
      ],
      "execution_count": 80,
      "outputs": [
        {
          "output_type": "stream",
          "name": "stdout",
          "text": [
            "AUC: 73.16%\n"
          ]
        }
      ]
    },
    {
      "cell_type": "markdown",
      "metadata": {
        "id": "XIQE73rfD3VH"
      },
      "source": [
        "Oh man! even after tuning we have got lower AUC score. That's fine let us try our final model which is CatBoost.\n",
        "\n",
        "\n",
        "## 5. CatBoost\n",
        "\n",
        "Reference doc: https://catboost.ai/docs/concepts/python-reference_catboostclassifier.html4\n",
        "\n",
        "Reference video: https://youtu.be/7FOP3yBhXnw\n",
        "\n",
        "\n",
        "CatBoost is a recently open-sourced machine learning algorithm from Yandex. It can easily integrate with deep learning frameworks like Google’s TensorFlow and Apple’s Core ML. It can work with diverse data types to help solve a wide range of problems that businesses face today. To top it up, it provides best-in-class accuracy.\n",
        "\n",
        "It is especially powerful in two ways:\n",
        "\n",
        "It yields state-of-the-art results without extensive data training typically required by other machine learning methods, and\n",
        "Provides powerful out-of-the-box support for the more descriptive data formats that accompany many business problems.\n",
        "“CatBoost” name comes from two words “Category” and “Boosting”.\n",
        "\n",
        "As discussed, the library works well with multiple Categories of data, such as audio, text, image including historical data.\n"
      ]
    },
    {
      "cell_type": "code",
      "source": [
        "pip install catboost"
      ],
      "metadata": {
        "colab": {
          "base_uri": "https://localhost:8080/"
        },
        "id": "eGAdTw4s3UMy",
        "outputId": "8df3c637-1cfd-4aa5-a0c9-af2161096389"
      },
      "execution_count": 83,
      "outputs": [
        {
          "output_type": "stream",
          "name": "stdout",
          "text": [
            "Collecting catboost\n",
            "  Downloading catboost-1.0.3-cp37-none-manylinux1_x86_64.whl (76.3 MB)\n",
            "\u001b[K     |████████████████████████████████| 76.3 MB 1.2 MB/s \n",
            "\u001b[?25hRequirement already satisfied: matplotlib in /usr/local/lib/python3.7/dist-packages (from catboost) (3.2.2)\n",
            "Requirement already satisfied: plotly in /usr/local/lib/python3.7/dist-packages (from catboost) (4.4.1)\n",
            "Requirement already satisfied: scipy in /usr/local/lib/python3.7/dist-packages (from catboost) (1.4.1)\n",
            "Requirement already satisfied: numpy>=1.16.0 in /usr/local/lib/python3.7/dist-packages (from catboost) (1.19.5)\n",
            "Requirement already satisfied: graphviz in /usr/local/lib/python3.7/dist-packages (from catboost) (0.10.1)\n",
            "Requirement already satisfied: six in /usr/local/lib/python3.7/dist-packages (from catboost) (1.15.0)\n",
            "Requirement already satisfied: pandas>=0.24.0 in /usr/local/lib/python3.7/dist-packages (from catboost) (1.1.5)\n",
            "Requirement already satisfied: pytz>=2017.2 in /usr/local/lib/python3.7/dist-packages (from pandas>=0.24.0->catboost) (2018.9)\n",
            "Requirement already satisfied: python-dateutil>=2.7.3 in /usr/local/lib/python3.7/dist-packages (from pandas>=0.24.0->catboost) (2.8.2)\n",
            "Requirement already satisfied: kiwisolver>=1.0.1 in /usr/local/lib/python3.7/dist-packages (from matplotlib->catboost) (1.3.2)\n",
            "Requirement already satisfied: pyparsing!=2.0.4,!=2.1.2,!=2.1.6,>=2.0.1 in /usr/local/lib/python3.7/dist-packages (from matplotlib->catboost) (3.0.6)\n",
            "Requirement already satisfied: cycler>=0.10 in /usr/local/lib/python3.7/dist-packages (from matplotlib->catboost) (0.11.0)\n",
            "Requirement already satisfied: retrying>=1.3.3 in /usr/local/lib/python3.7/dist-packages (from plotly->catboost) (1.3.3)\n",
            "Installing collected packages: catboost\n",
            "Successfully installed catboost-1.0.3\n"
          ]
        }
      ]
    },
    {
      "cell_type": "code",
      "metadata": {
        "colab": {
          "base_uri": "https://localhost:8080/"
        },
        "id": "HSk1lnbkD3VI",
        "outputId": "41185fbb-c371-4b48-9448-2eeb02d7f669"
      },
      "source": [
        "# import CatBoostClassifier\n",
        "from catboost import CatBoostClassifier\n",
        "\n",
        "# Instantiate CatBoostClassifier with default hyperparameters and random_state=1\n",
        "Cat = CatBoostClassifier(random_state=1)\n",
        " \n",
        "# fit model on training data\n",
        "Cat.fit(X_train, y_train)"
      ],
      "execution_count": 84,
      "outputs": [
        {
          "output_type": "stream",
          "name": "stdout",
          "text": [
            "Learning rate set to 0.06692\n",
            "0:\tlearn: 0.5107569\ttotal: 69.2ms\tremaining: 1m 9s\n",
            "1:\tlearn: 0.3708133\ttotal: 87.8ms\tremaining: 43.8s\n",
            "2:\tlearn: 0.2729211\ttotal: 108ms\tremaining: 35.7s\n",
            "3:\tlearn: 0.2003287\ttotal: 133ms\tremaining: 33.1s\n",
            "4:\tlearn: 0.1525553\ttotal: 169ms\tremaining: 33.6s\n",
            "5:\tlearn: 0.1183012\ttotal: 188ms\tremaining: 31.1s\n",
            "6:\tlearn: 0.0926958\ttotal: 215ms\tremaining: 30.5s\n",
            "7:\tlearn: 0.0741227\ttotal: 235ms\tremaining: 29.2s\n",
            "8:\tlearn: 0.0608923\ttotal: 255ms\tremaining: 28.1s\n",
            "9:\tlearn: 0.0465873\ttotal: 275ms\tremaining: 27.2s\n",
            "10:\tlearn: 0.0387760\ttotal: 294ms\tremaining: 26.4s\n",
            "11:\tlearn: 0.0329883\ttotal: 312ms\tremaining: 25.7s\n",
            "12:\tlearn: 0.0289558\ttotal: 332ms\tremaining: 25.2s\n",
            "13:\tlearn: 0.0251152\ttotal: 351ms\tremaining: 24.7s\n",
            "14:\tlearn: 0.0217928\ttotal: 371ms\tremaining: 24.3s\n",
            "15:\tlearn: 0.0196789\ttotal: 389ms\tremaining: 23.9s\n",
            "16:\tlearn: 0.0177198\ttotal: 413ms\tremaining: 23.9s\n",
            "17:\tlearn: 0.0161779\ttotal: 435ms\tremaining: 23.7s\n",
            "18:\tlearn: 0.0150968\ttotal: 454ms\tremaining: 23.5s\n",
            "19:\tlearn: 0.0141161\ttotal: 473ms\tremaining: 23.2s\n",
            "20:\tlearn: 0.0133998\ttotal: 496ms\tremaining: 23.1s\n",
            "21:\tlearn: 0.0129615\ttotal: 516ms\tremaining: 22.9s\n",
            "22:\tlearn: 0.0125281\ttotal: 536ms\tremaining: 22.7s\n",
            "23:\tlearn: 0.0122184\ttotal: 555ms\tremaining: 22.6s\n",
            "24:\tlearn: 0.0117517\ttotal: 575ms\tremaining: 22.4s\n",
            "25:\tlearn: 0.0115375\ttotal: 594ms\tremaining: 22.3s\n",
            "26:\tlearn: 0.0112136\ttotal: 619ms\tremaining: 22.3s\n",
            "27:\tlearn: 0.0110500\ttotal: 640ms\tremaining: 22.2s\n",
            "28:\tlearn: 0.0109127\ttotal: 660ms\tremaining: 22.1s\n",
            "29:\tlearn: 0.0107840\ttotal: 680ms\tremaining: 22s\n",
            "30:\tlearn: 0.0105823\ttotal: 700ms\tremaining: 21.9s\n",
            "31:\tlearn: 0.0104227\ttotal: 720ms\tremaining: 21.8s\n",
            "32:\tlearn: 0.0103461\ttotal: 739ms\tremaining: 21.6s\n",
            "33:\tlearn: 0.0101729\ttotal: 758ms\tremaining: 21.5s\n",
            "34:\tlearn: 0.0100636\ttotal: 780ms\tremaining: 21.5s\n",
            "35:\tlearn: 0.0099755\ttotal: 801ms\tremaining: 21.4s\n",
            "36:\tlearn: 0.0098380\ttotal: 827ms\tremaining: 21.5s\n",
            "37:\tlearn: 0.0097276\ttotal: 854ms\tremaining: 21.6s\n",
            "38:\tlearn: 0.0096457\ttotal: 879ms\tremaining: 21.7s\n",
            "39:\tlearn: 0.0095461\ttotal: 896ms\tremaining: 21.5s\n",
            "40:\tlearn: 0.0094761\ttotal: 914ms\tremaining: 21.4s\n",
            "41:\tlearn: 0.0093802\ttotal: 933ms\tremaining: 21.3s\n",
            "42:\tlearn: 0.0093038\ttotal: 952ms\tremaining: 21.2s\n",
            "43:\tlearn: 0.0092401\ttotal: 970ms\tremaining: 21.1s\n",
            "44:\tlearn: 0.0091775\ttotal: 989ms\tremaining: 21s\n",
            "45:\tlearn: 0.0091221\ttotal: 1.01s\tremaining: 20.9s\n",
            "46:\tlearn: 0.0090486\ttotal: 1.03s\tremaining: 20.9s\n",
            "47:\tlearn: 0.0089725\ttotal: 1.05s\tremaining: 20.8s\n",
            "48:\tlearn: 0.0089161\ttotal: 1.07s\tremaining: 20.8s\n",
            "49:\tlearn: 0.0088386\ttotal: 1.09s\tremaining: 20.8s\n",
            "50:\tlearn: 0.0088010\ttotal: 1.12s\tremaining: 20.8s\n",
            "51:\tlearn: 0.0087466\ttotal: 1.14s\tremaining: 20.7s\n",
            "52:\tlearn: 0.0086931\ttotal: 1.16s\tremaining: 20.7s\n",
            "53:\tlearn: 0.0086227\ttotal: 1.18s\tremaining: 20.7s\n",
            "54:\tlearn: 0.0085691\ttotal: 1.2s\tremaining: 20.7s\n",
            "55:\tlearn: 0.0085383\ttotal: 1.22s\tremaining: 20.6s\n",
            "56:\tlearn: 0.0085008\ttotal: 1.24s\tremaining: 20.6s\n",
            "57:\tlearn: 0.0084493\ttotal: 1.26s\tremaining: 20.5s\n",
            "58:\tlearn: 0.0083963\ttotal: 1.28s\tremaining: 20.4s\n",
            "59:\tlearn: 0.0083778\ttotal: 1.29s\tremaining: 20.3s\n",
            "60:\tlearn: 0.0083596\ttotal: 1.31s\tremaining: 20.2s\n",
            "61:\tlearn: 0.0083449\ttotal: 1.33s\tremaining: 20.1s\n",
            "62:\tlearn: 0.0083126\ttotal: 1.35s\tremaining: 20s\n",
            "63:\tlearn: 0.0082676\ttotal: 1.37s\tremaining: 20s\n",
            "64:\tlearn: 0.0082506\ttotal: 1.39s\tremaining: 19.9s\n",
            "65:\tlearn: 0.0082238\ttotal: 1.4s\tremaining: 19.9s\n",
            "66:\tlearn: 0.0081960\ttotal: 1.42s\tremaining: 19.8s\n",
            "67:\tlearn: 0.0081444\ttotal: 1.45s\tremaining: 19.8s\n",
            "68:\tlearn: 0.0081140\ttotal: 1.47s\tremaining: 19.8s\n",
            "69:\tlearn: 0.0080727\ttotal: 1.48s\tremaining: 19.7s\n",
            "70:\tlearn: 0.0080558\ttotal: 1.5s\tremaining: 19.7s\n",
            "71:\tlearn: 0.0080215\ttotal: 1.52s\tremaining: 19.6s\n",
            "72:\tlearn: 0.0079760\ttotal: 1.54s\tremaining: 19.5s\n",
            "73:\tlearn: 0.0079634\ttotal: 1.55s\tremaining: 19.5s\n",
            "74:\tlearn: 0.0079422\ttotal: 1.57s\tremaining: 19.4s\n",
            "75:\tlearn: 0.0077745\ttotal: 1.6s\tremaining: 19.5s\n",
            "76:\tlearn: 0.0077610\ttotal: 1.62s\tremaining: 19.4s\n",
            "77:\tlearn: 0.0077373\ttotal: 1.64s\tremaining: 19.3s\n",
            "78:\tlearn: 0.0077153\ttotal: 1.66s\tremaining: 19.3s\n",
            "79:\tlearn: 0.0075993\ttotal: 1.68s\tremaining: 19.3s\n",
            "80:\tlearn: 0.0075846\ttotal: 1.7s\tremaining: 19.2s\n",
            "81:\tlearn: 0.0075698\ttotal: 1.71s\tremaining: 19.2s\n",
            "82:\tlearn: 0.0075337\ttotal: 1.73s\tremaining: 19.2s\n",
            "83:\tlearn: 0.0075114\ttotal: 1.75s\tremaining: 19.1s\n",
            "84:\tlearn: 0.0074743\ttotal: 1.77s\tremaining: 19.1s\n",
            "85:\tlearn: 0.0074433\ttotal: 1.79s\tremaining: 19s\n",
            "86:\tlearn: 0.0074165\ttotal: 1.81s\tremaining: 19s\n",
            "87:\tlearn: 0.0074118\ttotal: 1.83s\tremaining: 19s\n",
            "88:\tlearn: 0.0073841\ttotal: 1.85s\tremaining: 18.9s\n",
            "89:\tlearn: 0.0073636\ttotal: 1.87s\tremaining: 18.9s\n",
            "90:\tlearn: 0.0072568\ttotal: 1.92s\tremaining: 19.2s\n",
            "91:\tlearn: 0.0072443\ttotal: 1.94s\tremaining: 19.1s\n",
            "92:\tlearn: 0.0072251\ttotal: 1.96s\tremaining: 19.1s\n",
            "93:\tlearn: 0.0072153\ttotal: 1.97s\tremaining: 19s\n",
            "94:\tlearn: 0.0071005\ttotal: 1.99s\tremaining: 19s\n",
            "95:\tlearn: 0.0070003\ttotal: 2.01s\tremaining: 18.9s\n",
            "96:\tlearn: 0.0069554\ttotal: 2.03s\tremaining: 18.9s\n",
            "97:\tlearn: 0.0069431\ttotal: 2.05s\tremaining: 18.9s\n",
            "98:\tlearn: 0.0069284\ttotal: 2.07s\tremaining: 18.8s\n",
            "99:\tlearn: 0.0069074\ttotal: 2.09s\tremaining: 18.8s\n",
            "100:\tlearn: 0.0068945\ttotal: 2.11s\tremaining: 18.8s\n",
            "101:\tlearn: 0.0068108\ttotal: 2.13s\tremaining: 18.7s\n",
            "102:\tlearn: 0.0067985\ttotal: 2.14s\tremaining: 18.7s\n",
            "103:\tlearn: 0.0067160\ttotal: 2.18s\tremaining: 18.8s\n",
            "104:\tlearn: 0.0066780\ttotal: 2.2s\tremaining: 18.7s\n",
            "105:\tlearn: 0.0066001\ttotal: 2.22s\tremaining: 18.8s\n",
            "106:\tlearn: 0.0065919\ttotal: 2.24s\tremaining: 18.7s\n",
            "107:\tlearn: 0.0065765\ttotal: 2.26s\tremaining: 18.7s\n",
            "108:\tlearn: 0.0064886\ttotal: 2.28s\tremaining: 18.6s\n",
            "109:\tlearn: 0.0064586\ttotal: 2.3s\tremaining: 18.6s\n",
            "110:\tlearn: 0.0063820\ttotal: 2.32s\tremaining: 18.6s\n",
            "111:\tlearn: 0.0063605\ttotal: 2.34s\tremaining: 18.5s\n",
            "112:\tlearn: 0.0063462\ttotal: 2.36s\tremaining: 18.5s\n",
            "113:\tlearn: 0.0063234\ttotal: 2.38s\tremaining: 18.5s\n",
            "114:\tlearn: 0.0063174\ttotal: 2.39s\tremaining: 18.4s\n",
            "115:\tlearn: 0.0063058\ttotal: 2.41s\tremaining: 18.4s\n",
            "116:\tlearn: 0.0062697\ttotal: 2.43s\tremaining: 18.3s\n",
            "117:\tlearn: 0.0062172\ttotal: 2.45s\tremaining: 18.3s\n",
            "118:\tlearn: 0.0062025\ttotal: 2.47s\tremaining: 18.3s\n",
            "119:\tlearn: 0.0061310\ttotal: 2.48s\tremaining: 18.2s\n",
            "120:\tlearn: 0.0061256\ttotal: 2.5s\tremaining: 18.2s\n",
            "121:\tlearn: 0.0060849\ttotal: 2.53s\tremaining: 18.2s\n",
            "122:\tlearn: 0.0060369\ttotal: 2.55s\tremaining: 18.2s\n",
            "123:\tlearn: 0.0060245\ttotal: 2.56s\tremaining: 18.1s\n",
            "124:\tlearn: 0.0060057\ttotal: 2.58s\tremaining: 18.1s\n",
            "125:\tlearn: 0.0059914\ttotal: 2.6s\tremaining: 18.1s\n",
            "126:\tlearn: 0.0059878\ttotal: 2.62s\tremaining: 18s\n",
            "127:\tlearn: 0.0059731\ttotal: 2.64s\tremaining: 18s\n",
            "128:\tlearn: 0.0059632\ttotal: 2.66s\tremaining: 18s\n",
            "129:\tlearn: 0.0059591\ttotal: 2.68s\tremaining: 17.9s\n",
            "130:\tlearn: 0.0059297\ttotal: 2.7s\tremaining: 17.9s\n",
            "131:\tlearn: 0.0059053\ttotal: 2.73s\tremaining: 17.9s\n",
            "132:\tlearn: 0.0058676\ttotal: 2.75s\tremaining: 17.9s\n",
            "133:\tlearn: 0.0058495\ttotal: 2.76s\tremaining: 17.9s\n",
            "134:\tlearn: 0.0058295\ttotal: 2.78s\tremaining: 17.8s\n",
            "135:\tlearn: 0.0058135\ttotal: 2.8s\tremaining: 17.8s\n",
            "136:\tlearn: 0.0058076\ttotal: 2.82s\tremaining: 17.8s\n",
            "137:\tlearn: 0.0058040\ttotal: 2.84s\tremaining: 17.7s\n",
            "138:\tlearn: 0.0057930\ttotal: 2.85s\tremaining: 17.7s\n",
            "139:\tlearn: 0.0057506\ttotal: 2.87s\tremaining: 17.7s\n",
            "140:\tlearn: 0.0057298\ttotal: 2.89s\tremaining: 17.6s\n",
            "141:\tlearn: 0.0056974\ttotal: 2.91s\tremaining: 17.6s\n",
            "142:\tlearn: 0.0056903\ttotal: 2.94s\tremaining: 17.6s\n",
            "143:\tlearn: 0.0056772\ttotal: 2.96s\tremaining: 17.6s\n",
            "144:\tlearn: 0.0056582\ttotal: 2.98s\tremaining: 17.6s\n",
            "145:\tlearn: 0.0056536\ttotal: 3s\tremaining: 17.6s\n",
            "146:\tlearn: 0.0056369\ttotal: 3.02s\tremaining: 17.5s\n",
            "147:\tlearn: 0.0056253\ttotal: 3.04s\tremaining: 17.5s\n",
            "148:\tlearn: 0.0055988\ttotal: 3.06s\tremaining: 17.5s\n",
            "149:\tlearn: 0.0055907\ttotal: 3.08s\tremaining: 17.4s\n",
            "150:\tlearn: 0.0055639\ttotal: 3.09s\tremaining: 17.4s\n",
            "151:\tlearn: 0.0055238\ttotal: 3.12s\tremaining: 17.4s\n",
            "152:\tlearn: 0.0055147\ttotal: 3.15s\tremaining: 17.4s\n",
            "153:\tlearn: 0.0055020\ttotal: 3.17s\tremaining: 17.4s\n",
            "154:\tlearn: 0.0054975\ttotal: 3.19s\tremaining: 17.4s\n",
            "155:\tlearn: 0.0054900\ttotal: 3.21s\tremaining: 17.4s\n",
            "156:\tlearn: 0.0054717\ttotal: 3.23s\tremaining: 17.3s\n",
            "157:\tlearn: 0.0054599\ttotal: 3.25s\tremaining: 17.3s\n",
            "158:\tlearn: 0.0054462\ttotal: 3.27s\tremaining: 17.3s\n",
            "159:\tlearn: 0.0054397\ttotal: 3.29s\tremaining: 17.2s\n",
            "160:\tlearn: 0.0054372\ttotal: 3.3s\tremaining: 17.2s\n",
            "161:\tlearn: 0.0054274\ttotal: 3.32s\tremaining: 17.2s\n",
            "162:\tlearn: 0.0053993\ttotal: 3.34s\tremaining: 17.1s\n",
            "163:\tlearn: 0.0053938\ttotal: 3.36s\tremaining: 17.1s\n",
            "164:\tlearn: 0.0053756\ttotal: 3.38s\tremaining: 17.1s\n",
            "165:\tlearn: 0.0053650\ttotal: 3.4s\tremaining: 17.1s\n",
            "166:\tlearn: 0.0053603\ttotal: 3.42s\tremaining: 17s\n",
            "167:\tlearn: 0.0053533\ttotal: 3.44s\tremaining: 17s\n",
            "168:\tlearn: 0.0053489\ttotal: 3.45s\tremaining: 17s\n",
            "169:\tlearn: 0.0053265\ttotal: 3.47s\tremaining: 16.9s\n",
            "170:\tlearn: 0.0053160\ttotal: 3.49s\tremaining: 16.9s\n",
            "171:\tlearn: 0.0053128\ttotal: 3.51s\tremaining: 16.9s\n",
            "172:\tlearn: 0.0053005\ttotal: 3.52s\tremaining: 16.8s\n",
            "173:\tlearn: 0.0052964\ttotal: 3.54s\tremaining: 16.8s\n",
            "174:\tlearn: 0.0052909\ttotal: 3.56s\tremaining: 16.8s\n",
            "175:\tlearn: 0.0052888\ttotal: 3.58s\tremaining: 16.8s\n",
            "176:\tlearn: 0.0052782\ttotal: 3.6s\tremaining: 16.7s\n",
            "177:\tlearn: 0.0052751\ttotal: 3.62s\tremaining: 16.7s\n",
            "178:\tlearn: 0.0052714\ttotal: 3.63s\tremaining: 16.7s\n",
            "179:\tlearn: 0.0052504\ttotal: 3.65s\tremaining: 16.6s\n",
            "180:\tlearn: 0.0052450\ttotal: 3.67s\tremaining: 16.6s\n",
            "181:\tlearn: 0.0052321\ttotal: 3.69s\tremaining: 16.6s\n",
            "182:\tlearn: 0.0052281\ttotal: 3.71s\tremaining: 16.6s\n",
            "183:\tlearn: 0.0052165\ttotal: 3.73s\tremaining: 16.5s\n",
            "184:\tlearn: 0.0052134\ttotal: 3.74s\tremaining: 16.5s\n",
            "185:\tlearn: 0.0052060\ttotal: 3.77s\tremaining: 16.5s\n",
            "186:\tlearn: 0.0052029\ttotal: 3.78s\tremaining: 16.5s\n",
            "187:\tlearn: 0.0051879\ttotal: 3.81s\tremaining: 16.4s\n",
            "188:\tlearn: 0.0051863\ttotal: 3.82s\tremaining: 16.4s\n",
            "189:\tlearn: 0.0051837\ttotal: 3.84s\tremaining: 16.4s\n",
            "190:\tlearn: 0.0051797\ttotal: 3.86s\tremaining: 16.3s\n",
            "191:\tlearn: 0.0051776\ttotal: 3.88s\tremaining: 16.3s\n",
            "192:\tlearn: 0.0051741\ttotal: 3.91s\tremaining: 16.3s\n",
            "193:\tlearn: 0.0051489\ttotal: 3.93s\tremaining: 16.3s\n",
            "194:\tlearn: 0.0051356\ttotal: 3.95s\tremaining: 16.3s\n",
            "195:\tlearn: 0.0051211\ttotal: 3.97s\tremaining: 16.3s\n",
            "196:\tlearn: 0.0051140\ttotal: 3.99s\tremaining: 16.3s\n",
            "197:\tlearn: 0.0051039\ttotal: 4.01s\tremaining: 16.2s\n",
            "198:\tlearn: 0.0050857\ttotal: 4.02s\tremaining: 16.2s\n",
            "199:\tlearn: 0.0050825\ttotal: 4.04s\tremaining: 16.2s\n",
            "200:\tlearn: 0.0050803\ttotal: 4.06s\tremaining: 16.1s\n",
            "201:\tlearn: 0.0050681\ttotal: 4.08s\tremaining: 16.1s\n",
            "202:\tlearn: 0.0050663\ttotal: 4.1s\tremaining: 16.1s\n",
            "203:\tlearn: 0.0050607\ttotal: 4.11s\tremaining: 16.1s\n",
            "204:\tlearn: 0.0050584\ttotal: 4.13s\tremaining: 16s\n",
            "205:\tlearn: 0.0050569\ttotal: 4.15s\tremaining: 16s\n",
            "206:\tlearn: 0.0050377\ttotal: 4.18s\tremaining: 16s\n",
            "207:\tlearn: 0.0050258\ttotal: 4.2s\tremaining: 16s\n",
            "208:\tlearn: 0.0050101\ttotal: 4.21s\tremaining: 16s\n",
            "209:\tlearn: 0.0050087\ttotal: 4.23s\tremaining: 15.9s\n",
            "210:\tlearn: 0.0050070\ttotal: 4.25s\tremaining: 15.9s\n",
            "211:\tlearn: 0.0049943\ttotal: 4.27s\tremaining: 15.9s\n",
            "212:\tlearn: 0.0049930\ttotal: 4.28s\tremaining: 15.8s\n",
            "213:\tlearn: 0.0049906\ttotal: 4.3s\tremaining: 15.8s\n",
            "214:\tlearn: 0.0049819\ttotal: 4.32s\tremaining: 15.8s\n",
            "215:\tlearn: 0.0049782\ttotal: 4.34s\tremaining: 15.7s\n",
            "216:\tlearn: 0.0049672\ttotal: 4.36s\tremaining: 15.7s\n",
            "217:\tlearn: 0.0049659\ttotal: 4.38s\tremaining: 15.7s\n",
            "218:\tlearn: 0.0049501\ttotal: 4.4s\tremaining: 15.7s\n",
            "219:\tlearn: 0.0049480\ttotal: 4.42s\tremaining: 15.7s\n",
            "220:\tlearn: 0.0049356\ttotal: 4.44s\tremaining: 15.6s\n",
            "221:\tlearn: 0.0049245\ttotal: 4.46s\tremaining: 15.6s\n",
            "222:\tlearn: 0.0049143\ttotal: 4.47s\tremaining: 15.6s\n",
            "223:\tlearn: 0.0049103\ttotal: 4.49s\tremaining: 15.6s\n",
            "224:\tlearn: 0.0049081\ttotal: 4.51s\tremaining: 15.5s\n",
            "225:\tlearn: 0.0049033\ttotal: 4.53s\tremaining: 15.5s\n",
            "226:\tlearn: 0.0049014\ttotal: 4.54s\tremaining: 15.5s\n",
            "227:\tlearn: 0.0048910\ttotal: 4.56s\tremaining: 15.4s\n",
            "228:\tlearn: 0.0048892\ttotal: 4.58s\tremaining: 15.4s\n",
            "229:\tlearn: 0.0048812\ttotal: 4.6s\tremaining: 15.4s\n",
            "230:\tlearn: 0.0048663\ttotal: 4.62s\tremaining: 15.4s\n",
            "231:\tlearn: 0.0048585\ttotal: 4.64s\tremaining: 15.4s\n",
            "232:\tlearn: 0.0048541\ttotal: 4.66s\tremaining: 15.3s\n",
            "233:\tlearn: 0.0048454\ttotal: 4.69s\tremaining: 15.3s\n",
            "234:\tlearn: 0.0048358\ttotal: 4.71s\tremaining: 15.3s\n",
            "235:\tlearn: 0.0048341\ttotal: 4.73s\tremaining: 15.3s\n",
            "236:\tlearn: 0.0048228\ttotal: 4.75s\tremaining: 15.3s\n",
            "237:\tlearn: 0.0048214\ttotal: 4.77s\tremaining: 15.3s\n",
            "238:\tlearn: 0.0048197\ttotal: 4.79s\tremaining: 15.3s\n",
            "239:\tlearn: 0.0048051\ttotal: 4.81s\tremaining: 15.2s\n",
            "240:\tlearn: 0.0047972\ttotal: 4.83s\tremaining: 15.2s\n",
            "241:\tlearn: 0.0047768\ttotal: 4.85s\tremaining: 15.2s\n",
            "242:\tlearn: 0.0047671\ttotal: 4.87s\tremaining: 15.2s\n",
            "243:\tlearn: 0.0047438\ttotal: 4.88s\tremaining: 15.1s\n",
            "244:\tlearn: 0.0047367\ttotal: 4.9s\tremaining: 15.1s\n",
            "245:\tlearn: 0.0047320\ttotal: 4.92s\tremaining: 15.1s\n",
            "246:\tlearn: 0.0047306\ttotal: 4.94s\tremaining: 15.1s\n",
            "247:\tlearn: 0.0047234\ttotal: 4.96s\tremaining: 15s\n",
            "248:\tlearn: 0.0047173\ttotal: 4.97s\tremaining: 15s\n",
            "249:\tlearn: 0.0047132\ttotal: 4.99s\tremaining: 15s\n",
            "250:\tlearn: 0.0047049\ttotal: 5.02s\tremaining: 15s\n",
            "251:\tlearn: 0.0047015\ttotal: 5.04s\tremaining: 14.9s\n",
            "252:\tlearn: 0.0046980\ttotal: 5.05s\tremaining: 14.9s\n",
            "253:\tlearn: 0.0046963\ttotal: 5.07s\tremaining: 14.9s\n",
            "254:\tlearn: 0.0046888\ttotal: 5.09s\tremaining: 14.9s\n",
            "255:\tlearn: 0.0046744\ttotal: 5.11s\tremaining: 14.9s\n",
            "256:\tlearn: 0.0046611\ttotal: 5.13s\tremaining: 14.8s\n",
            "257:\tlearn: 0.0046478\ttotal: 5.15s\tremaining: 14.8s\n",
            "258:\tlearn: 0.0046429\ttotal: 5.17s\tremaining: 14.8s\n",
            "259:\tlearn: 0.0046400\ttotal: 5.2s\tremaining: 14.8s\n",
            "260:\tlearn: 0.0046346\ttotal: 5.22s\tremaining: 14.8s\n",
            "261:\tlearn: 0.0046234\ttotal: 5.24s\tremaining: 14.8s\n",
            "262:\tlearn: 0.0046154\ttotal: 5.26s\tremaining: 14.7s\n",
            "263:\tlearn: 0.0046089\ttotal: 5.27s\tremaining: 14.7s\n",
            "264:\tlearn: 0.0046064\ttotal: 5.29s\tremaining: 14.7s\n",
            "265:\tlearn: 0.0045923\ttotal: 5.31s\tremaining: 14.7s\n",
            "266:\tlearn: 0.0045872\ttotal: 5.33s\tremaining: 14.6s\n",
            "267:\tlearn: 0.0045827\ttotal: 5.35s\tremaining: 14.6s\n",
            "268:\tlearn: 0.0045646\ttotal: 5.37s\tremaining: 14.6s\n",
            "269:\tlearn: 0.0045607\ttotal: 5.38s\tremaining: 14.6s\n",
            "270:\tlearn: 0.0045524\ttotal: 5.4s\tremaining: 14.5s\n",
            "271:\tlearn: 0.0045505\ttotal: 5.42s\tremaining: 14.5s\n",
            "272:\tlearn: 0.0045443\ttotal: 5.44s\tremaining: 14.5s\n",
            "273:\tlearn: 0.0045345\ttotal: 5.46s\tremaining: 14.5s\n",
            "274:\tlearn: 0.0045236\ttotal: 5.48s\tremaining: 14.4s\n",
            "275:\tlearn: 0.0045197\ttotal: 5.5s\tremaining: 14.4s\n",
            "276:\tlearn: 0.0045174\ttotal: 5.52s\tremaining: 14.4s\n",
            "277:\tlearn: 0.0045131\ttotal: 5.53s\tremaining: 14.4s\n",
            "278:\tlearn: 0.0045071\ttotal: 5.55s\tremaining: 14.4s\n",
            "279:\tlearn: 0.0044901\ttotal: 5.57s\tremaining: 14.3s\n",
            "280:\tlearn: 0.0044762\ttotal: 5.59s\tremaining: 14.3s\n",
            "281:\tlearn: 0.0044721\ttotal: 5.61s\tremaining: 14.3s\n",
            "282:\tlearn: 0.0044589\ttotal: 5.63s\tremaining: 14.3s\n",
            "283:\tlearn: 0.0044445\ttotal: 5.65s\tremaining: 14.2s\n",
            "284:\tlearn: 0.0044420\ttotal: 5.67s\tremaining: 14.2s\n",
            "285:\tlearn: 0.0044365\ttotal: 5.69s\tremaining: 14.2s\n",
            "286:\tlearn: 0.0044280\ttotal: 5.71s\tremaining: 14.2s\n",
            "287:\tlearn: 0.0044201\ttotal: 5.72s\tremaining: 14.1s\n",
            "288:\tlearn: 0.0044146\ttotal: 5.74s\tremaining: 14.1s\n",
            "289:\tlearn: 0.0044113\ttotal: 5.76s\tremaining: 14.1s\n",
            "290:\tlearn: 0.0044009\ttotal: 5.78s\tremaining: 14.1s\n",
            "291:\tlearn: 0.0043843\ttotal: 5.79s\tremaining: 14.1s\n",
            "292:\tlearn: 0.0043693\ttotal: 5.81s\tremaining: 14s\n",
            "293:\tlearn: 0.0043584\ttotal: 5.84s\tremaining: 14s\n",
            "294:\tlearn: 0.0043468\ttotal: 5.86s\tremaining: 14s\n",
            "295:\tlearn: 0.0043201\ttotal: 5.88s\tremaining: 14s\n",
            "296:\tlearn: 0.0043180\ttotal: 5.9s\tremaining: 14s\n",
            "297:\tlearn: 0.0043127\ttotal: 5.92s\tremaining: 13.9s\n",
            "298:\tlearn: 0.0043089\ttotal: 5.93s\tremaining: 13.9s\n",
            "299:\tlearn: 0.0042997\ttotal: 5.96s\tremaining: 13.9s\n",
            "300:\tlearn: 0.0042977\ttotal: 5.98s\tremaining: 13.9s\n",
            "301:\tlearn: 0.0042958\ttotal: 6s\tremaining: 13.9s\n",
            "302:\tlearn: 0.0042836\ttotal: 6.02s\tremaining: 13.8s\n",
            "303:\tlearn: 0.0042817\ttotal: 6.03s\tremaining: 13.8s\n",
            "304:\tlearn: 0.0042782\ttotal: 6.05s\tremaining: 13.8s\n",
            "305:\tlearn: 0.0042711\ttotal: 6.07s\tremaining: 13.8s\n",
            "306:\tlearn: 0.0042664\ttotal: 6.09s\tremaining: 13.7s\n",
            "307:\tlearn: 0.0042585\ttotal: 6.11s\tremaining: 13.7s\n",
            "308:\tlearn: 0.0042492\ttotal: 6.13s\tremaining: 13.7s\n",
            "309:\tlearn: 0.0042392\ttotal: 6.14s\tremaining: 13.7s\n",
            "310:\tlearn: 0.0042317\ttotal: 6.16s\tremaining: 13.7s\n",
            "311:\tlearn: 0.0042285\ttotal: 6.19s\tremaining: 13.7s\n",
            "312:\tlearn: 0.0042116\ttotal: 6.21s\tremaining: 13.6s\n",
            "313:\tlearn: 0.0042099\ttotal: 6.23s\tremaining: 13.6s\n",
            "314:\tlearn: 0.0042025\ttotal: 6.25s\tremaining: 13.6s\n",
            "315:\tlearn: 0.0041888\ttotal: 6.27s\tremaining: 13.6s\n",
            "316:\tlearn: 0.0041855\ttotal: 6.29s\tremaining: 13.5s\n",
            "317:\tlearn: 0.0041768\ttotal: 6.31s\tremaining: 13.5s\n",
            "318:\tlearn: 0.0041736\ttotal: 6.33s\tremaining: 13.5s\n",
            "319:\tlearn: 0.0041714\ttotal: 6.34s\tremaining: 13.5s\n",
            "320:\tlearn: 0.0041611\ttotal: 6.36s\tremaining: 13.5s\n",
            "321:\tlearn: 0.0041522\ttotal: 6.38s\tremaining: 13.4s\n",
            "322:\tlearn: 0.0041447\ttotal: 6.4s\tremaining: 13.4s\n",
            "323:\tlearn: 0.0041413\ttotal: 6.42s\tremaining: 13.4s\n",
            "324:\tlearn: 0.0041399\ttotal: 6.44s\tremaining: 13.4s\n",
            "325:\tlearn: 0.0041302\ttotal: 6.46s\tremaining: 13.3s\n",
            "326:\tlearn: 0.0041285\ttotal: 6.48s\tremaining: 13.3s\n",
            "327:\tlearn: 0.0041247\ttotal: 6.5s\tremaining: 13.3s\n",
            "328:\tlearn: 0.0041187\ttotal: 6.51s\tremaining: 13.3s\n",
            "329:\tlearn: 0.0041125\ttotal: 6.53s\tremaining: 13.3s\n",
            "330:\tlearn: 0.0041034\ttotal: 6.55s\tremaining: 13.2s\n",
            "331:\tlearn: 0.0040887\ttotal: 6.57s\tremaining: 13.2s\n",
            "332:\tlearn: 0.0040859\ttotal: 6.59s\tremaining: 13.2s\n",
            "333:\tlearn: 0.0040742\ttotal: 6.61s\tremaining: 13.2s\n",
            "334:\tlearn: 0.0040684\ttotal: 6.62s\tremaining: 13.2s\n",
            "335:\tlearn: 0.0040642\ttotal: 6.64s\tremaining: 13.1s\n",
            "336:\tlearn: 0.0040618\ttotal: 6.66s\tremaining: 13.1s\n",
            "337:\tlearn: 0.0040580\ttotal: 6.68s\tremaining: 13.1s\n",
            "338:\tlearn: 0.0040548\ttotal: 6.7s\tremaining: 13.1s\n",
            "339:\tlearn: 0.0040391\ttotal: 6.72s\tremaining: 13s\n",
            "340:\tlearn: 0.0040309\ttotal: 6.74s\tremaining: 13s\n",
            "341:\tlearn: 0.0040252\ttotal: 6.76s\tremaining: 13s\n",
            "342:\tlearn: 0.0040223\ttotal: 6.78s\tremaining: 13s\n",
            "343:\tlearn: 0.0040205\ttotal: 6.79s\tremaining: 13s\n",
            "344:\tlearn: 0.0040169\ttotal: 6.81s\tremaining: 12.9s\n",
            "345:\tlearn: 0.0040142\ttotal: 6.83s\tremaining: 12.9s\n",
            "346:\tlearn: 0.0040115\ttotal: 6.85s\tremaining: 12.9s\n",
            "347:\tlearn: 0.0040049\ttotal: 6.87s\tremaining: 12.9s\n",
            "348:\tlearn: 0.0039992\ttotal: 6.89s\tremaining: 12.8s\n",
            "349:\tlearn: 0.0039979\ttotal: 6.91s\tremaining: 12.8s\n",
            "350:\tlearn: 0.0039948\ttotal: 6.93s\tremaining: 12.8s\n",
            "351:\tlearn: 0.0039863\ttotal: 6.95s\tremaining: 12.8s\n",
            "352:\tlearn: 0.0039767\ttotal: 6.96s\tremaining: 12.8s\n",
            "353:\tlearn: 0.0039707\ttotal: 6.98s\tremaining: 12.7s\n",
            "354:\tlearn: 0.0039698\ttotal: 7s\tremaining: 12.7s\n",
            "355:\tlearn: 0.0039604\ttotal: 7.02s\tremaining: 12.7s\n",
            "356:\tlearn: 0.0039446\ttotal: 7.04s\tremaining: 12.7s\n",
            "357:\tlearn: 0.0039375\ttotal: 7.06s\tremaining: 12.7s\n",
            "358:\tlearn: 0.0039358\ttotal: 7.08s\tremaining: 12.6s\n",
            "359:\tlearn: 0.0039322\ttotal: 7.1s\tremaining: 12.6s\n",
            "360:\tlearn: 0.0039282\ttotal: 7.12s\tremaining: 12.6s\n",
            "361:\tlearn: 0.0039164\ttotal: 7.14s\tremaining: 12.6s\n",
            "362:\tlearn: 0.0039153\ttotal: 7.15s\tremaining: 12.6s\n",
            "363:\tlearn: 0.0039098\ttotal: 7.18s\tremaining: 12.5s\n",
            "364:\tlearn: 0.0039056\ttotal: 7.2s\tremaining: 12.5s\n",
            "365:\tlearn: 0.0039031\ttotal: 7.22s\tremaining: 12.5s\n",
            "366:\tlearn: 0.0039011\ttotal: 7.24s\tremaining: 12.5s\n",
            "367:\tlearn: 0.0038919\ttotal: 7.26s\tremaining: 12.5s\n",
            "368:\tlearn: 0.0038879\ttotal: 7.29s\tremaining: 12.5s\n",
            "369:\tlearn: 0.0038841\ttotal: 7.31s\tremaining: 12.4s\n",
            "370:\tlearn: 0.0038744\ttotal: 7.33s\tremaining: 12.4s\n",
            "371:\tlearn: 0.0038739\ttotal: 7.35s\tremaining: 12.4s\n",
            "372:\tlearn: 0.0038616\ttotal: 7.38s\tremaining: 12.4s\n",
            "373:\tlearn: 0.0038517\ttotal: 7.4s\tremaining: 12.4s\n",
            "374:\tlearn: 0.0038500\ttotal: 7.42s\tremaining: 12.4s\n",
            "375:\tlearn: 0.0038472\ttotal: 7.44s\tremaining: 12.3s\n",
            "376:\tlearn: 0.0038447\ttotal: 7.46s\tremaining: 12.3s\n",
            "377:\tlearn: 0.0038391\ttotal: 7.48s\tremaining: 12.3s\n",
            "378:\tlearn: 0.0038385\ttotal: 7.5s\tremaining: 12.3s\n",
            "379:\tlearn: 0.0038357\ttotal: 7.52s\tremaining: 12.3s\n",
            "380:\tlearn: 0.0038254\ttotal: 7.54s\tremaining: 12.3s\n",
            "381:\tlearn: 0.0038194\ttotal: 7.56s\tremaining: 12.2s\n",
            "382:\tlearn: 0.0038147\ttotal: 7.59s\tremaining: 12.2s\n",
            "383:\tlearn: 0.0038035\ttotal: 7.61s\tremaining: 12.2s\n",
            "384:\tlearn: 0.0037975\ttotal: 7.63s\tremaining: 12.2s\n",
            "385:\tlearn: 0.0037855\ttotal: 7.64s\tremaining: 12.2s\n",
            "386:\tlearn: 0.0037822\ttotal: 7.66s\tremaining: 12.1s\n",
            "387:\tlearn: 0.0037743\ttotal: 7.68s\tremaining: 12.1s\n",
            "388:\tlearn: 0.0037697\ttotal: 7.7s\tremaining: 12.1s\n",
            "389:\tlearn: 0.0037591\ttotal: 7.72s\tremaining: 12.1s\n",
            "390:\tlearn: 0.0037559\ttotal: 7.74s\tremaining: 12.1s\n",
            "391:\tlearn: 0.0037516\ttotal: 7.76s\tremaining: 12s\n",
            "392:\tlearn: 0.0037505\ttotal: 7.78s\tremaining: 12s\n",
            "393:\tlearn: 0.0037491\ttotal: 7.8s\tremaining: 12s\n",
            "394:\tlearn: 0.0037369\ttotal: 7.81s\tremaining: 12s\n",
            "395:\tlearn: 0.0037275\ttotal: 7.83s\tremaining: 11.9s\n",
            "396:\tlearn: 0.0037204\ttotal: 7.85s\tremaining: 11.9s\n",
            "397:\tlearn: 0.0037192\ttotal: 7.87s\tremaining: 11.9s\n",
            "398:\tlearn: 0.0037172\ttotal: 7.88s\tremaining: 11.9s\n",
            "399:\tlearn: 0.0037142\ttotal: 7.9s\tremaining: 11.9s\n",
            "400:\tlearn: 0.0037073\ttotal: 7.92s\tremaining: 11.8s\n",
            "401:\tlearn: 0.0037064\ttotal: 7.94s\tremaining: 11.8s\n",
            "402:\tlearn: 0.0037058\ttotal: 7.96s\tremaining: 11.8s\n",
            "403:\tlearn: 0.0037044\ttotal: 7.98s\tremaining: 11.8s\n",
            "404:\tlearn: 0.0036952\ttotal: 8s\tremaining: 11.8s\n",
            "405:\tlearn: 0.0036860\ttotal: 8.02s\tremaining: 11.7s\n",
            "406:\tlearn: 0.0036834\ttotal: 8.04s\tremaining: 11.7s\n",
            "407:\tlearn: 0.0036757\ttotal: 8.06s\tremaining: 11.7s\n",
            "408:\tlearn: 0.0036693\ttotal: 8.08s\tremaining: 11.7s\n",
            "409:\tlearn: 0.0036682\ttotal: 8.1s\tremaining: 11.6s\n",
            "410:\tlearn: 0.0036674\ttotal: 8.11s\tremaining: 11.6s\n",
            "411:\tlearn: 0.0036574\ttotal: 8.13s\tremaining: 11.6s\n",
            "412:\tlearn: 0.0036381\ttotal: 8.15s\tremaining: 11.6s\n",
            "413:\tlearn: 0.0036376\ttotal: 8.19s\tremaining: 11.6s\n",
            "414:\tlearn: 0.0036370\ttotal: 8.21s\tremaining: 11.6s\n",
            "415:\tlearn: 0.0036285\ttotal: 8.22s\tremaining: 11.5s\n",
            "416:\tlearn: 0.0036219\ttotal: 8.24s\tremaining: 11.5s\n",
            "417:\tlearn: 0.0036214\ttotal: 8.26s\tremaining: 11.5s\n",
            "418:\tlearn: 0.0036131\ttotal: 8.28s\tremaining: 11.5s\n",
            "419:\tlearn: 0.0036096\ttotal: 8.3s\tremaining: 11.5s\n",
            "420:\tlearn: 0.0036044\ttotal: 8.32s\tremaining: 11.4s\n",
            "421:\tlearn: 0.0035980\ttotal: 8.34s\tremaining: 11.4s\n",
            "422:\tlearn: 0.0035857\ttotal: 8.36s\tremaining: 11.4s\n",
            "423:\tlearn: 0.0035768\ttotal: 8.38s\tremaining: 11.4s\n",
            "424:\tlearn: 0.0035747\ttotal: 8.39s\tremaining: 11.4s\n",
            "425:\tlearn: 0.0035741\ttotal: 8.41s\tremaining: 11.3s\n",
            "426:\tlearn: 0.0035727\ttotal: 8.43s\tremaining: 11.3s\n",
            "427:\tlearn: 0.0035715\ttotal: 8.45s\tremaining: 11.3s\n",
            "428:\tlearn: 0.0035624\ttotal: 8.47s\tremaining: 11.3s\n",
            "429:\tlearn: 0.0035556\ttotal: 8.48s\tremaining: 11.2s\n",
            "430:\tlearn: 0.0035478\ttotal: 8.51s\tremaining: 11.2s\n",
            "431:\tlearn: 0.0035377\ttotal: 8.52s\tremaining: 11.2s\n",
            "432:\tlearn: 0.0035359\ttotal: 8.54s\tremaining: 11.2s\n",
            "433:\tlearn: 0.0035326\ttotal: 8.56s\tremaining: 11.2s\n",
            "434:\tlearn: 0.0035302\ttotal: 8.58s\tremaining: 11.1s\n",
            "435:\tlearn: 0.0035285\ttotal: 8.6s\tremaining: 11.1s\n",
            "436:\tlearn: 0.0035214\ttotal: 8.62s\tremaining: 11.1s\n",
            "437:\tlearn: 0.0035206\ttotal: 8.63s\tremaining: 11.1s\n",
            "438:\tlearn: 0.0035184\ttotal: 8.65s\tremaining: 11.1s\n",
            "439:\tlearn: 0.0035142\ttotal: 8.67s\tremaining: 11s\n",
            "440:\tlearn: 0.0035078\ttotal: 8.69s\tremaining: 11s\n",
            "441:\tlearn: 0.0034892\ttotal: 8.71s\tremaining: 11s\n",
            "442:\tlearn: 0.0034866\ttotal: 8.73s\tremaining: 11s\n",
            "443:\tlearn: 0.0034853\ttotal: 8.75s\tremaining: 11s\n",
            "444:\tlearn: 0.0034679\ttotal: 8.77s\tremaining: 10.9s\n",
            "445:\tlearn: 0.0034666\ttotal: 8.79s\tremaining: 10.9s\n",
            "446:\tlearn: 0.0034635\ttotal: 8.81s\tremaining: 10.9s\n",
            "447:\tlearn: 0.0034612\ttotal: 8.82s\tremaining: 10.9s\n",
            "448:\tlearn: 0.0034602\ttotal: 8.84s\tremaining: 10.9s\n",
            "449:\tlearn: 0.0034559\ttotal: 8.86s\tremaining: 10.8s\n",
            "450:\tlearn: 0.0034528\ttotal: 8.88s\tremaining: 10.8s\n",
            "451:\tlearn: 0.0034509\ttotal: 8.9s\tremaining: 10.8s\n",
            "452:\tlearn: 0.0034426\ttotal: 8.92s\tremaining: 10.8s\n",
            "453:\tlearn: 0.0034408\ttotal: 8.94s\tremaining: 10.7s\n",
            "454:\tlearn: 0.0034400\ttotal: 8.96s\tremaining: 10.7s\n",
            "455:\tlearn: 0.0034181\ttotal: 8.98s\tremaining: 10.7s\n",
            "456:\tlearn: 0.0034141\ttotal: 9s\tremaining: 10.7s\n",
            "457:\tlearn: 0.0034135\ttotal: 9.02s\tremaining: 10.7s\n",
            "458:\tlearn: 0.0034106\ttotal: 9.03s\tremaining: 10.6s\n",
            "459:\tlearn: 0.0034100\ttotal: 9.05s\tremaining: 10.6s\n",
            "460:\tlearn: 0.0034073\ttotal: 9.07s\tremaining: 10.6s\n",
            "461:\tlearn: 0.0034013\ttotal: 9.09s\tremaining: 10.6s\n",
            "462:\tlearn: 0.0033998\ttotal: 9.11s\tremaining: 10.6s\n",
            "463:\tlearn: 0.0033971\ttotal: 9.12s\tremaining: 10.5s\n",
            "464:\tlearn: 0.0033964\ttotal: 9.14s\tremaining: 10.5s\n",
            "465:\tlearn: 0.0033957\ttotal: 9.16s\tremaining: 10.5s\n",
            "466:\tlearn: 0.0033841\ttotal: 9.2s\tremaining: 10.5s\n",
            "467:\tlearn: 0.0033647\ttotal: 9.22s\tremaining: 10.5s\n",
            "468:\tlearn: 0.0033622\ttotal: 9.24s\tremaining: 10.5s\n",
            "469:\tlearn: 0.0033574\ttotal: 9.25s\tremaining: 10.4s\n",
            "470:\tlearn: 0.0033562\ttotal: 9.27s\tremaining: 10.4s\n",
            "471:\tlearn: 0.0033548\ttotal: 9.29s\tremaining: 10.4s\n",
            "472:\tlearn: 0.0033524\ttotal: 9.31s\tremaining: 10.4s\n",
            "473:\tlearn: 0.0033500\ttotal: 9.32s\tremaining: 10.3s\n",
            "474:\tlearn: 0.0033314\ttotal: 9.34s\tremaining: 10.3s\n",
            "475:\tlearn: 0.0033301\ttotal: 9.36s\tremaining: 10.3s\n",
            "476:\tlearn: 0.0033159\ttotal: 9.38s\tremaining: 10.3s\n",
            "477:\tlearn: 0.0033140\ttotal: 9.4s\tremaining: 10.3s\n",
            "478:\tlearn: 0.0033016\ttotal: 9.43s\tremaining: 10.3s\n",
            "479:\tlearn: 0.0032997\ttotal: 9.45s\tremaining: 10.2s\n",
            "480:\tlearn: 0.0032960\ttotal: 9.46s\tremaining: 10.2s\n",
            "481:\tlearn: 0.0032930\ttotal: 9.48s\tremaining: 10.2s\n",
            "482:\tlearn: 0.0032849\ttotal: 9.5s\tremaining: 10.2s\n",
            "483:\tlearn: 0.0032835\ttotal: 9.52s\tremaining: 10.1s\n",
            "484:\tlearn: 0.0032787\ttotal: 9.54s\tremaining: 10.1s\n",
            "485:\tlearn: 0.0032673\ttotal: 9.56s\tremaining: 10.1s\n",
            "486:\tlearn: 0.0032661\ttotal: 9.57s\tremaining: 10.1s\n",
            "487:\tlearn: 0.0032638\ttotal: 9.59s\tremaining: 10.1s\n",
            "488:\tlearn: 0.0032607\ttotal: 9.62s\tremaining: 10.1s\n",
            "489:\tlearn: 0.0032516\ttotal: 9.63s\tremaining: 10s\n",
            "490:\tlearn: 0.0032495\ttotal: 9.65s\tremaining: 10s\n",
            "491:\tlearn: 0.0032467\ttotal: 9.67s\tremaining: 9.99s\n",
            "492:\tlearn: 0.0032448\ttotal: 9.69s\tremaining: 9.96s\n",
            "493:\tlearn: 0.0032413\ttotal: 9.71s\tremaining: 9.95s\n",
            "494:\tlearn: 0.0032401\ttotal: 9.73s\tremaining: 9.92s\n",
            "495:\tlearn: 0.0032394\ttotal: 9.75s\tremaining: 9.9s\n",
            "496:\tlearn: 0.0032191\ttotal: 9.77s\tremaining: 9.88s\n",
            "497:\tlearn: 0.0032155\ttotal: 9.79s\tremaining: 9.86s\n",
            "498:\tlearn: 0.0032144\ttotal: 9.8s\tremaining: 9.84s\n",
            "499:\tlearn: 0.0032083\ttotal: 9.83s\tremaining: 9.83s\n",
            "500:\tlearn: 0.0032038\ttotal: 9.85s\tremaining: 9.81s\n",
            "501:\tlearn: 0.0032012\ttotal: 9.86s\tremaining: 9.78s\n",
            "502:\tlearn: 0.0031970\ttotal: 9.88s\tremaining: 9.77s\n",
            "503:\tlearn: 0.0031808\ttotal: 9.91s\tremaining: 9.75s\n",
            "504:\tlearn: 0.0031790\ttotal: 9.93s\tremaining: 9.73s\n",
            "505:\tlearn: 0.0031744\ttotal: 9.95s\tremaining: 9.71s\n",
            "506:\tlearn: 0.0031702\ttotal: 9.96s\tremaining: 9.69s\n",
            "507:\tlearn: 0.0031685\ttotal: 9.98s\tremaining: 9.67s\n",
            "508:\tlearn: 0.0031568\ttotal: 10s\tremaining: 9.64s\n",
            "509:\tlearn: 0.0031534\ttotal: 10s\tremaining: 9.62s\n",
            "510:\tlearn: 0.0031505\ttotal: 10s\tremaining: 9.61s\n",
            "511:\tlearn: 0.0031493\ttotal: 10.1s\tremaining: 9.59s\n",
            "512:\tlearn: 0.0031331\ttotal: 10.1s\tremaining: 9.57s\n",
            "513:\tlearn: 0.0031317\ttotal: 10.1s\tremaining: 9.55s\n",
            "514:\tlearn: 0.0031310\ttotal: 10.1s\tremaining: 9.53s\n",
            "515:\tlearn: 0.0031241\ttotal: 10.1s\tremaining: 9.5s\n",
            "516:\tlearn: 0.0031188\ttotal: 10.2s\tremaining: 9.48s\n",
            "517:\tlearn: 0.0031095\ttotal: 10.2s\tremaining: 9.46s\n",
            "518:\tlearn: 0.0031061\ttotal: 10.2s\tremaining: 9.46s\n",
            "519:\tlearn: 0.0031008\ttotal: 10.2s\tremaining: 9.44s\n",
            "520:\tlearn: 0.0030981\ttotal: 10.3s\tremaining: 9.42s\n",
            "521:\tlearn: 0.0030879\ttotal: 10.3s\tremaining: 9.41s\n",
            "522:\tlearn: 0.0030808\ttotal: 10.3s\tremaining: 9.38s\n",
            "523:\tlearn: 0.0030732\ttotal: 10.3s\tremaining: 9.36s\n",
            "524:\tlearn: 0.0030626\ttotal: 10.3s\tremaining: 9.34s\n",
            "525:\tlearn: 0.0030616\ttotal: 10.3s\tremaining: 9.32s\n",
            "526:\tlearn: 0.0030592\ttotal: 10.4s\tremaining: 9.3s\n",
            "527:\tlearn: 0.0030459\ttotal: 10.4s\tremaining: 9.28s\n",
            "528:\tlearn: 0.0030447\ttotal: 10.4s\tremaining: 9.26s\n",
            "529:\tlearn: 0.0030432\ttotal: 10.4s\tremaining: 9.24s\n",
            "530:\tlearn: 0.0030373\ttotal: 10.4s\tremaining: 9.22s\n",
            "531:\tlearn: 0.0030355\ttotal: 10.5s\tremaining: 9.2s\n",
            "532:\tlearn: 0.0030344\ttotal: 10.5s\tremaining: 9.18s\n",
            "533:\tlearn: 0.0030199\ttotal: 10.5s\tremaining: 9.16s\n",
            "534:\tlearn: 0.0030154\ttotal: 10.5s\tremaining: 9.14s\n",
            "535:\tlearn: 0.0030019\ttotal: 10.5s\tremaining: 9.12s\n",
            "536:\tlearn: 0.0029987\ttotal: 10.6s\tremaining: 9.1s\n",
            "537:\tlearn: 0.0029937\ttotal: 10.6s\tremaining: 9.08s\n",
            "538:\tlearn: 0.0029924\ttotal: 10.6s\tremaining: 9.06s\n",
            "539:\tlearn: 0.0029903\ttotal: 10.6s\tremaining: 9.04s\n",
            "540:\tlearn: 0.0029855\ttotal: 10.6s\tremaining: 9.02s\n",
            "541:\tlearn: 0.0029756\ttotal: 10.6s\tremaining: 9s\n",
            "542:\tlearn: 0.0029744\ttotal: 10.7s\tremaining: 8.98s\n",
            "543:\tlearn: 0.0029707\ttotal: 10.7s\tremaining: 8.96s\n",
            "544:\tlearn: 0.0029683\ttotal: 10.7s\tremaining: 8.94s\n",
            "545:\tlearn: 0.0029608\ttotal: 10.7s\tremaining: 8.92s\n",
            "546:\tlearn: 0.0029462\ttotal: 10.7s\tremaining: 8.9s\n",
            "547:\tlearn: 0.0029459\ttotal: 10.8s\tremaining: 8.88s\n",
            "548:\tlearn: 0.0029439\ttotal: 10.8s\tremaining: 8.86s\n",
            "549:\tlearn: 0.0029432\ttotal: 10.8s\tremaining: 8.84s\n",
            "550:\tlearn: 0.0029398\ttotal: 10.8s\tremaining: 8.82s\n",
            "551:\tlearn: 0.0029230\ttotal: 10.8s\tremaining: 8.8s\n",
            "552:\tlearn: 0.0029201\ttotal: 10.9s\tremaining: 8.78s\n",
            "553:\tlearn: 0.0029164\ttotal: 10.9s\tremaining: 8.77s\n",
            "554:\tlearn: 0.0029122\ttotal: 10.9s\tremaining: 8.74s\n",
            "555:\tlearn: 0.0029113\ttotal: 10.9s\tremaining: 8.72s\n",
            "556:\tlearn: 0.0029105\ttotal: 10.9s\tremaining: 8.7s\n",
            "557:\tlearn: 0.0029063\ttotal: 11s\tremaining: 8.68s\n",
            "558:\tlearn: 0.0029055\ttotal: 11s\tremaining: 8.66s\n",
            "559:\tlearn: 0.0029047\ttotal: 11s\tremaining: 8.64s\n",
            "560:\tlearn: 0.0029022\ttotal: 11s\tremaining: 8.62s\n",
            "561:\tlearn: 0.0028944\ttotal: 11s\tremaining: 8.6s\n",
            "562:\tlearn: 0.0028791\ttotal: 11.1s\tremaining: 8.58s\n",
            "563:\tlearn: 0.0028778\ttotal: 11.1s\tremaining: 8.56s\n",
            "564:\tlearn: 0.0028774\ttotal: 11.1s\tremaining: 8.54s\n",
            "565:\tlearn: 0.0028698\ttotal: 11.1s\tremaining: 8.52s\n",
            "566:\tlearn: 0.0028683\ttotal: 11.1s\tremaining: 8.5s\n",
            "567:\tlearn: 0.0028679\ttotal: 11.2s\tremaining: 8.48s\n",
            "568:\tlearn: 0.0028662\ttotal: 11.2s\tremaining: 8.46s\n",
            "569:\tlearn: 0.0028648\ttotal: 11.2s\tremaining: 8.45s\n",
            "570:\tlearn: 0.0028626\ttotal: 11.2s\tremaining: 8.43s\n",
            "571:\tlearn: 0.0028612\ttotal: 11.2s\tremaining: 8.41s\n",
            "572:\tlearn: 0.0028589\ttotal: 11.3s\tremaining: 8.39s\n",
            "573:\tlearn: 0.0028571\ttotal: 11.3s\tremaining: 8.37s\n",
            "574:\tlearn: 0.0028545\ttotal: 11.3s\tremaining: 8.35s\n",
            "575:\tlearn: 0.0028531\ttotal: 11.3s\tremaining: 8.33s\n",
            "576:\tlearn: 0.0028393\ttotal: 11.3s\tremaining: 8.31s\n",
            "577:\tlearn: 0.0028325\ttotal: 11.4s\tremaining: 8.29s\n",
            "578:\tlearn: 0.0028256\ttotal: 11.4s\tremaining: 8.27s\n",
            "579:\tlearn: 0.0028176\ttotal: 11.4s\tremaining: 8.25s\n",
            "580:\tlearn: 0.0028118\ttotal: 11.4s\tremaining: 8.23s\n",
            "581:\tlearn: 0.0028054\ttotal: 11.4s\tremaining: 8.21s\n",
            "582:\tlearn: 0.0027997\ttotal: 11.5s\tremaining: 8.19s\n",
            "583:\tlearn: 0.0027977\ttotal: 11.5s\tremaining: 8.17s\n",
            "584:\tlearn: 0.0027957\ttotal: 11.5s\tremaining: 8.15s\n",
            "585:\tlearn: 0.0027929\ttotal: 11.5s\tremaining: 8.14s\n",
            "586:\tlearn: 0.0027913\ttotal: 11.5s\tremaining: 8.12s\n",
            "587:\tlearn: 0.0027884\ttotal: 11.6s\tremaining: 8.1s\n",
            "588:\tlearn: 0.0027880\ttotal: 11.6s\tremaining: 8.08s\n",
            "589:\tlearn: 0.0027793\ttotal: 11.6s\tremaining: 8.05s\n",
            "590:\tlearn: 0.0027775\ttotal: 11.6s\tremaining: 8.04s\n",
            "591:\tlearn: 0.0027690\ttotal: 11.6s\tremaining: 8.02s\n",
            "592:\tlearn: 0.0027626\ttotal: 11.7s\tremaining: 8s\n",
            "593:\tlearn: 0.0027588\ttotal: 11.7s\tremaining: 7.98s\n",
            "594:\tlearn: 0.0027577\ttotal: 11.7s\tremaining: 7.96s\n",
            "595:\tlearn: 0.0027553\ttotal: 11.7s\tremaining: 7.93s\n",
            "596:\tlearn: 0.0027529\ttotal: 11.7s\tremaining: 7.92s\n",
            "597:\tlearn: 0.0027522\ttotal: 11.7s\tremaining: 7.9s\n",
            "598:\tlearn: 0.0027427\ttotal: 11.8s\tremaining: 7.88s\n",
            "599:\tlearn: 0.0027383\ttotal: 11.8s\tremaining: 7.86s\n",
            "600:\tlearn: 0.0027307\ttotal: 11.8s\tremaining: 7.84s\n",
            "601:\tlearn: 0.0027303\ttotal: 11.8s\tremaining: 7.82s\n",
            "602:\tlearn: 0.0027264\ttotal: 11.9s\tremaining: 7.8s\n",
            "603:\tlearn: 0.0027262\ttotal: 11.9s\tremaining: 7.78s\n",
            "604:\tlearn: 0.0027259\ttotal: 11.9s\tremaining: 7.76s\n",
            "605:\tlearn: 0.0027203\ttotal: 11.9s\tremaining: 7.75s\n",
            "606:\tlearn: 0.0027191\ttotal: 11.9s\tremaining: 7.73s\n",
            "607:\tlearn: 0.0027123\ttotal: 12s\tremaining: 7.71s\n",
            "608:\tlearn: 0.0027026\ttotal: 12s\tremaining: 7.7s\n",
            "609:\tlearn: 0.0026957\ttotal: 12s\tremaining: 7.68s\n",
            "610:\tlearn: 0.0026905\ttotal: 12s\tremaining: 7.66s\n",
            "611:\tlearn: 0.0026882\ttotal: 12.1s\tremaining: 7.64s\n",
            "612:\tlearn: 0.0026857\ttotal: 12.1s\tremaining: 7.63s\n",
            "613:\tlearn: 0.0026801\ttotal: 12.1s\tremaining: 7.61s\n",
            "614:\tlearn: 0.0026768\ttotal: 12.1s\tremaining: 7.59s\n",
            "615:\tlearn: 0.0026758\ttotal: 12.1s\tremaining: 7.57s\n",
            "616:\tlearn: 0.0026722\ttotal: 12.2s\tremaining: 7.55s\n",
            "617:\tlearn: 0.0026712\ttotal: 12.2s\tremaining: 7.54s\n",
            "618:\tlearn: 0.0026687\ttotal: 12.2s\tremaining: 7.52s\n",
            "619:\tlearn: 0.0026682\ttotal: 12.2s\tremaining: 7.5s\n",
            "620:\tlearn: 0.0026658\ttotal: 12.3s\tremaining: 7.48s\n",
            "621:\tlearn: 0.0026647\ttotal: 12.3s\tremaining: 7.46s\n",
            "622:\tlearn: 0.0026605\ttotal: 12.3s\tremaining: 7.44s\n",
            "623:\tlearn: 0.0026537\ttotal: 12.3s\tremaining: 7.43s\n",
            "624:\tlearn: 0.0026512\ttotal: 12.3s\tremaining: 7.41s\n",
            "625:\tlearn: 0.0026480\ttotal: 12.4s\tremaining: 7.39s\n",
            "626:\tlearn: 0.0026443\ttotal: 12.4s\tremaining: 7.37s\n",
            "627:\tlearn: 0.0026410\ttotal: 12.4s\tremaining: 7.35s\n",
            "628:\tlearn: 0.0026398\ttotal: 12.4s\tremaining: 7.33s\n",
            "629:\tlearn: 0.0026282\ttotal: 12.4s\tremaining: 7.31s\n",
            "630:\tlearn: 0.0026272\ttotal: 12.5s\tremaining: 7.29s\n",
            "631:\tlearn: 0.0026262\ttotal: 12.5s\tremaining: 7.27s\n",
            "632:\tlearn: 0.0026243\ttotal: 12.5s\tremaining: 7.25s\n",
            "633:\tlearn: 0.0026235\ttotal: 12.5s\tremaining: 7.23s\n",
            "634:\tlearn: 0.0026227\ttotal: 12.5s\tremaining: 7.21s\n",
            "635:\tlearn: 0.0026204\ttotal: 12.6s\tremaining: 7.19s\n",
            "636:\tlearn: 0.0026097\ttotal: 12.6s\tremaining: 7.17s\n",
            "637:\tlearn: 0.0026040\ttotal: 12.6s\tremaining: 7.15s\n",
            "638:\tlearn: 0.0026012\ttotal: 12.6s\tremaining: 7.13s\n",
            "639:\tlearn: 0.0025984\ttotal: 12.6s\tremaining: 7.11s\n",
            "640:\tlearn: 0.0025944\ttotal: 12.7s\tremaining: 7.09s\n",
            "641:\tlearn: 0.0025934\ttotal: 12.7s\tremaining: 7.07s\n",
            "642:\tlearn: 0.0025894\ttotal: 12.7s\tremaining: 7.05s\n",
            "643:\tlearn: 0.0025848\ttotal: 12.7s\tremaining: 7.03s\n",
            "644:\tlearn: 0.0025842\ttotal: 12.7s\tremaining: 7.01s\n",
            "645:\tlearn: 0.0025747\ttotal: 12.8s\tremaining: 6.99s\n",
            "646:\tlearn: 0.0025740\ttotal: 12.8s\tremaining: 6.97s\n",
            "647:\tlearn: 0.0025699\ttotal: 12.8s\tremaining: 6.95s\n",
            "648:\tlearn: 0.0025661\ttotal: 12.8s\tremaining: 6.93s\n",
            "649:\tlearn: 0.0025615\ttotal: 12.8s\tremaining: 6.91s\n",
            "650:\tlearn: 0.0025596\ttotal: 12.9s\tremaining: 6.89s\n",
            "651:\tlearn: 0.0025593\ttotal: 12.9s\tremaining: 6.87s\n",
            "652:\tlearn: 0.0025589\ttotal: 12.9s\tremaining: 6.85s\n",
            "653:\tlearn: 0.0025581\ttotal: 12.9s\tremaining: 6.83s\n",
            "654:\tlearn: 0.0025578\ttotal: 12.9s\tremaining: 6.81s\n",
            "655:\tlearn: 0.0025538\ttotal: 12.9s\tremaining: 6.79s\n",
            "656:\tlearn: 0.0025496\ttotal: 13s\tremaining: 6.77s\n",
            "657:\tlearn: 0.0025466\ttotal: 13s\tremaining: 6.75s\n",
            "658:\tlearn: 0.0025447\ttotal: 13s\tremaining: 6.73s\n",
            "659:\tlearn: 0.0025408\ttotal: 13s\tremaining: 6.71s\n",
            "660:\tlearn: 0.0025339\ttotal: 13s\tremaining: 6.69s\n",
            "661:\tlearn: 0.0025306\ttotal: 13.1s\tremaining: 6.67s\n",
            "662:\tlearn: 0.0025295\ttotal: 13.1s\tremaining: 6.65s\n",
            "663:\tlearn: 0.0025277\ttotal: 13.1s\tremaining: 6.63s\n",
            "664:\tlearn: 0.0025241\ttotal: 13.1s\tremaining: 6.61s\n",
            "665:\tlearn: 0.0025238\ttotal: 13.1s\tremaining: 6.59s\n",
            "666:\tlearn: 0.0025213\ttotal: 13.2s\tremaining: 6.57s\n",
            "667:\tlearn: 0.0025197\ttotal: 13.2s\tremaining: 6.55s\n",
            "668:\tlearn: 0.0025175\ttotal: 13.2s\tremaining: 6.54s\n",
            "669:\tlearn: 0.0025118\ttotal: 13.2s\tremaining: 6.52s\n",
            "670:\tlearn: 0.0025077\ttotal: 13.2s\tremaining: 6.5s\n",
            "671:\tlearn: 0.0025074\ttotal: 13.3s\tremaining: 6.47s\n",
            "672:\tlearn: 0.0025046\ttotal: 13.3s\tremaining: 6.45s\n",
            "673:\tlearn: 0.0024970\ttotal: 13.3s\tremaining: 6.43s\n",
            "674:\tlearn: 0.0024941\ttotal: 13.3s\tremaining: 6.41s\n",
            "675:\tlearn: 0.0024918\ttotal: 13.3s\tremaining: 6.39s\n",
            "676:\tlearn: 0.0024916\ttotal: 13.4s\tremaining: 6.37s\n",
            "677:\tlearn: 0.0024893\ttotal: 13.4s\tremaining: 6.35s\n",
            "678:\tlearn: 0.0024854\ttotal: 13.4s\tremaining: 6.33s\n",
            "679:\tlearn: 0.0024852\ttotal: 13.4s\tremaining: 6.31s\n",
            "680:\tlearn: 0.0024769\ttotal: 13.4s\tremaining: 6.29s\n",
            "681:\tlearn: 0.0024750\ttotal: 13.5s\tremaining: 6.27s\n",
            "682:\tlearn: 0.0024699\ttotal: 13.5s\tremaining: 6.25s\n",
            "683:\tlearn: 0.0024692\ttotal: 13.5s\tremaining: 6.23s\n",
            "684:\tlearn: 0.0024640\ttotal: 13.5s\tremaining: 6.21s\n",
            "685:\tlearn: 0.0024574\ttotal: 13.5s\tremaining: 6.19s\n",
            "686:\tlearn: 0.0024559\ttotal: 13.5s\tremaining: 6.17s\n",
            "687:\tlearn: 0.0024524\ttotal: 13.6s\tremaining: 6.15s\n",
            "688:\tlearn: 0.0024478\ttotal: 13.6s\tremaining: 6.13s\n",
            "689:\tlearn: 0.0024440\ttotal: 13.6s\tremaining: 6.11s\n",
            "690:\tlearn: 0.0024435\ttotal: 13.6s\tremaining: 6.09s\n",
            "691:\tlearn: 0.0024402\ttotal: 13.6s\tremaining: 6.07s\n",
            "692:\tlearn: 0.0024361\ttotal: 13.7s\tremaining: 6.05s\n",
            "693:\tlearn: 0.0024328\ttotal: 13.7s\tremaining: 6.03s\n",
            "694:\tlearn: 0.0024282\ttotal: 13.7s\tremaining: 6.01s\n",
            "695:\tlearn: 0.0024251\ttotal: 13.7s\tremaining: 5.99s\n",
            "696:\tlearn: 0.0024245\ttotal: 13.7s\tremaining: 5.97s\n",
            "697:\tlearn: 0.0024204\ttotal: 13.8s\tremaining: 5.95s\n",
            "698:\tlearn: 0.0024193\ttotal: 13.8s\tremaining: 5.93s\n",
            "699:\tlearn: 0.0024185\ttotal: 13.8s\tremaining: 5.91s\n",
            "700:\tlearn: 0.0024178\ttotal: 13.8s\tremaining: 5.89s\n",
            "701:\tlearn: 0.0024134\ttotal: 13.8s\tremaining: 5.88s\n",
            "702:\tlearn: 0.0024121\ttotal: 13.9s\tremaining: 5.85s\n",
            "703:\tlearn: 0.0024074\ttotal: 13.9s\tremaining: 5.83s\n",
            "704:\tlearn: 0.0024045\ttotal: 13.9s\tremaining: 5.81s\n",
            "705:\tlearn: 0.0024025\ttotal: 13.9s\tremaining: 5.79s\n",
            "706:\tlearn: 0.0023962\ttotal: 13.9s\tremaining: 5.77s\n",
            "707:\tlearn: 0.0023960\ttotal: 13.9s\tremaining: 5.75s\n",
            "708:\tlearn: 0.0023900\ttotal: 14s\tremaining: 5.73s\n",
            "709:\tlearn: 0.0023894\ttotal: 14s\tremaining: 5.71s\n",
            "710:\tlearn: 0.0023846\ttotal: 14s\tremaining: 5.69s\n",
            "711:\tlearn: 0.0023844\ttotal: 14s\tremaining: 5.67s\n",
            "712:\tlearn: 0.0023811\ttotal: 14s\tremaining: 5.65s\n",
            "713:\tlearn: 0.0023810\ttotal: 14.1s\tremaining: 5.63s\n",
            "714:\tlearn: 0.0023778\ttotal: 14.1s\tremaining: 5.62s\n",
            "715:\tlearn: 0.0023750\ttotal: 14.1s\tremaining: 5.6s\n",
            "716:\tlearn: 0.0023739\ttotal: 14.1s\tremaining: 5.58s\n",
            "717:\tlearn: 0.0023728\ttotal: 14.2s\tremaining: 5.56s\n",
            "718:\tlearn: 0.0023704\ttotal: 14.2s\tremaining: 5.54s\n",
            "719:\tlearn: 0.0023690\ttotal: 14.2s\tremaining: 5.52s\n",
            "720:\tlearn: 0.0023649\ttotal: 14.2s\tremaining: 5.5s\n",
            "721:\tlearn: 0.0023636\ttotal: 14.2s\tremaining: 5.49s\n",
            "722:\tlearn: 0.0023625\ttotal: 14.3s\tremaining: 5.46s\n",
            "723:\tlearn: 0.0023595\ttotal: 14.3s\tremaining: 5.45s\n",
            "724:\tlearn: 0.0023564\ttotal: 14.3s\tremaining: 5.42s\n",
            "725:\tlearn: 0.0023506\ttotal: 14.3s\tremaining: 5.4s\n",
            "726:\tlearn: 0.0023496\ttotal: 14.3s\tremaining: 5.38s\n",
            "727:\tlearn: 0.0023470\ttotal: 14.4s\tremaining: 5.36s\n",
            "728:\tlearn: 0.0023467\ttotal: 14.4s\tremaining: 5.34s\n",
            "729:\tlearn: 0.0023428\ttotal: 14.4s\tremaining: 5.32s\n",
            "730:\tlearn: 0.0023426\ttotal: 14.4s\tremaining: 5.3s\n",
            "731:\tlearn: 0.0023397\ttotal: 14.4s\tremaining: 5.28s\n",
            "732:\tlearn: 0.0023354\ttotal: 14.5s\tremaining: 5.27s\n",
            "733:\tlearn: 0.0023330\ttotal: 14.5s\tremaining: 5.25s\n",
            "734:\tlearn: 0.0023283\ttotal: 14.5s\tremaining: 5.22s\n",
            "735:\tlearn: 0.0023191\ttotal: 14.5s\tremaining: 5.21s\n",
            "736:\tlearn: 0.0023173\ttotal: 14.5s\tremaining: 5.18s\n",
            "737:\tlearn: 0.0023153\ttotal: 14.5s\tremaining: 5.16s\n",
            "738:\tlearn: 0.0023151\ttotal: 14.6s\tremaining: 5.14s\n",
            "739:\tlearn: 0.0023123\ttotal: 14.6s\tremaining: 5.12s\n",
            "740:\tlearn: 0.0023077\ttotal: 14.6s\tremaining: 5.1s\n",
            "741:\tlearn: 0.0023074\ttotal: 14.6s\tremaining: 5.08s\n",
            "742:\tlearn: 0.0023047\ttotal: 14.6s\tremaining: 5.06s\n",
            "743:\tlearn: 0.0023016\ttotal: 14.7s\tremaining: 5.05s\n",
            "744:\tlearn: 0.0022995\ttotal: 14.7s\tremaining: 5.03s\n",
            "745:\tlearn: 0.0022969\ttotal: 14.7s\tremaining: 5s\n",
            "746:\tlearn: 0.0022966\ttotal: 14.7s\tremaining: 4.99s\n",
            "747:\tlearn: 0.0022952\ttotal: 14.7s\tremaining: 4.96s\n",
            "748:\tlearn: 0.0022950\ttotal: 14.8s\tremaining: 4.95s\n",
            "749:\tlearn: 0.0022909\ttotal: 14.8s\tremaining: 4.92s\n",
            "750:\tlearn: 0.0022892\ttotal: 14.8s\tremaining: 4.91s\n",
            "751:\tlearn: 0.0022844\ttotal: 14.8s\tremaining: 4.89s\n",
            "752:\tlearn: 0.0022819\ttotal: 14.8s\tremaining: 4.87s\n",
            "753:\tlearn: 0.0022737\ttotal: 14.9s\tremaining: 4.85s\n",
            "754:\tlearn: 0.0022716\ttotal: 14.9s\tremaining: 4.83s\n",
            "755:\tlearn: 0.0022694\ttotal: 14.9s\tremaining: 4.81s\n",
            "756:\tlearn: 0.0022687\ttotal: 14.9s\tremaining: 4.79s\n",
            "757:\tlearn: 0.0022666\ttotal: 14.9s\tremaining: 4.77s\n",
            "758:\tlearn: 0.0022641\ttotal: 14.9s\tremaining: 4.75s\n",
            "759:\tlearn: 0.0022621\ttotal: 15s\tremaining: 4.73s\n",
            "760:\tlearn: 0.0022594\ttotal: 15s\tremaining: 4.71s\n",
            "761:\tlearn: 0.0022591\ttotal: 15s\tremaining: 4.69s\n",
            "762:\tlearn: 0.0022568\ttotal: 15s\tremaining: 4.67s\n",
            "763:\tlearn: 0.0022516\ttotal: 15s\tremaining: 4.65s\n",
            "764:\tlearn: 0.0022499\ttotal: 15.1s\tremaining: 4.63s\n",
            "765:\tlearn: 0.0022480\ttotal: 15.1s\tremaining: 4.61s\n",
            "766:\tlearn: 0.0022455\ttotal: 15.1s\tremaining: 4.59s\n",
            "767:\tlearn: 0.0022446\ttotal: 15.1s\tremaining: 4.57s\n",
            "768:\tlearn: 0.0022442\ttotal: 15.1s\tremaining: 4.55s\n",
            "769:\tlearn: 0.0022437\ttotal: 15.2s\tremaining: 4.53s\n",
            "770:\tlearn: 0.0022396\ttotal: 15.2s\tremaining: 4.51s\n",
            "771:\tlearn: 0.0022340\ttotal: 15.2s\tremaining: 4.49s\n",
            "772:\tlearn: 0.0022297\ttotal: 15.2s\tremaining: 4.47s\n",
            "773:\tlearn: 0.0022278\ttotal: 15.2s\tremaining: 4.45s\n",
            "774:\tlearn: 0.0022246\ttotal: 15.3s\tremaining: 4.43s\n",
            "775:\tlearn: 0.0022207\ttotal: 15.3s\tremaining: 4.41s\n",
            "776:\tlearn: 0.0022198\ttotal: 15.3s\tremaining: 4.39s\n",
            "777:\tlearn: 0.0022154\ttotal: 15.3s\tremaining: 4.37s\n",
            "778:\tlearn: 0.0022141\ttotal: 15.3s\tremaining: 4.35s\n",
            "779:\tlearn: 0.0022120\ttotal: 15.4s\tremaining: 4.33s\n",
            "780:\tlearn: 0.0022098\ttotal: 15.4s\tremaining: 4.31s\n",
            "781:\tlearn: 0.0022066\ttotal: 15.4s\tremaining: 4.29s\n",
            "782:\tlearn: 0.0022047\ttotal: 15.4s\tremaining: 4.27s\n",
            "783:\tlearn: 0.0022022\ttotal: 15.4s\tremaining: 4.25s\n",
            "784:\tlearn: 0.0021977\ttotal: 15.5s\tremaining: 4.23s\n",
            "785:\tlearn: 0.0021913\ttotal: 15.5s\tremaining: 4.21s\n",
            "786:\tlearn: 0.0021898\ttotal: 15.5s\tremaining: 4.2s\n",
            "787:\tlearn: 0.0021867\ttotal: 15.5s\tremaining: 4.17s\n",
            "788:\tlearn: 0.0021857\ttotal: 15.5s\tremaining: 4.16s\n",
            "789:\tlearn: 0.0021841\ttotal: 15.6s\tremaining: 4.13s\n",
            "790:\tlearn: 0.0021836\ttotal: 15.6s\tremaining: 4.12s\n",
            "791:\tlearn: 0.0021804\ttotal: 15.6s\tremaining: 4.09s\n",
            "792:\tlearn: 0.0021786\ttotal: 15.6s\tremaining: 4.08s\n",
            "793:\tlearn: 0.0021729\ttotal: 15.6s\tremaining: 4.05s\n",
            "794:\tlearn: 0.0021684\ttotal: 15.6s\tremaining: 4.04s\n",
            "795:\tlearn: 0.0021665\ttotal: 15.7s\tremaining: 4.02s\n",
            "796:\tlearn: 0.0021662\ttotal: 15.7s\tremaining: 4s\n",
            "797:\tlearn: 0.0021623\ttotal: 15.7s\tremaining: 3.98s\n",
            "798:\tlearn: 0.0021601\ttotal: 15.7s\tremaining: 3.96s\n",
            "799:\tlearn: 0.0021524\ttotal: 15.8s\tremaining: 3.94s\n",
            "800:\tlearn: 0.0021489\ttotal: 15.8s\tremaining: 3.92s\n",
            "801:\tlearn: 0.0021487\ttotal: 15.8s\tremaining: 3.9s\n",
            "802:\tlearn: 0.0021436\ttotal: 15.8s\tremaining: 3.88s\n",
            "803:\tlearn: 0.0021434\ttotal: 15.8s\tremaining: 3.86s\n",
            "804:\tlearn: 0.0021382\ttotal: 15.8s\tremaining: 3.84s\n",
            "805:\tlearn: 0.0021363\ttotal: 15.9s\tremaining: 3.82s\n",
            "806:\tlearn: 0.0021362\ttotal: 15.9s\tremaining: 3.8s\n",
            "807:\tlearn: 0.0021350\ttotal: 15.9s\tremaining: 3.78s\n",
            "808:\tlearn: 0.0021305\ttotal: 15.9s\tremaining: 3.76s\n",
            "809:\tlearn: 0.0021289\ttotal: 15.9s\tremaining: 3.74s\n",
            "810:\tlearn: 0.0021288\ttotal: 16s\tremaining: 3.72s\n",
            "811:\tlearn: 0.0021254\ttotal: 16s\tremaining: 3.7s\n",
            "812:\tlearn: 0.0021245\ttotal: 16s\tremaining: 3.68s\n",
            "813:\tlearn: 0.0021230\ttotal: 16s\tremaining: 3.66s\n",
            "814:\tlearn: 0.0021180\ttotal: 16s\tremaining: 3.64s\n",
            "815:\tlearn: 0.0021176\ttotal: 16.1s\tremaining: 3.62s\n",
            "816:\tlearn: 0.0021156\ttotal: 16.1s\tremaining: 3.6s\n",
            "817:\tlearn: 0.0021150\ttotal: 16.1s\tremaining: 3.58s\n",
            "818:\tlearn: 0.0021115\ttotal: 16.1s\tremaining: 3.56s\n",
            "819:\tlearn: 0.0021092\ttotal: 16.1s\tremaining: 3.54s\n",
            "820:\tlearn: 0.0021051\ttotal: 16.2s\tremaining: 3.52s\n",
            "821:\tlearn: 0.0021028\ttotal: 16.2s\tremaining: 3.5s\n",
            "822:\tlearn: 0.0020979\ttotal: 16.2s\tremaining: 3.48s\n",
            "823:\tlearn: 0.0020944\ttotal: 16.2s\tremaining: 3.47s\n",
            "824:\tlearn: 0.0020895\ttotal: 16.2s\tremaining: 3.45s\n",
            "825:\tlearn: 0.0020891\ttotal: 16.3s\tremaining: 3.43s\n",
            "826:\tlearn: 0.0020871\ttotal: 16.3s\tremaining: 3.41s\n",
            "827:\tlearn: 0.0020829\ttotal: 16.3s\tremaining: 3.39s\n",
            "828:\tlearn: 0.0020825\ttotal: 16.3s\tremaining: 3.37s\n",
            "829:\tlearn: 0.0020781\ttotal: 16.3s\tremaining: 3.35s\n",
            "830:\tlearn: 0.0020766\ttotal: 16.4s\tremaining: 3.33s\n",
            "831:\tlearn: 0.0020718\ttotal: 16.4s\tremaining: 3.31s\n",
            "832:\tlearn: 0.0020709\ttotal: 16.4s\tremaining: 3.29s\n",
            "833:\tlearn: 0.0020629\ttotal: 16.4s\tremaining: 3.27s\n",
            "834:\tlearn: 0.0020597\ttotal: 16.4s\tremaining: 3.25s\n",
            "835:\tlearn: 0.0020566\ttotal: 16.5s\tremaining: 3.23s\n",
            "836:\tlearn: 0.0020545\ttotal: 16.5s\tremaining: 3.21s\n",
            "837:\tlearn: 0.0020543\ttotal: 16.5s\tremaining: 3.19s\n",
            "838:\tlearn: 0.0020508\ttotal: 16.5s\tremaining: 3.17s\n",
            "839:\tlearn: 0.0020501\ttotal: 16.5s\tremaining: 3.15s\n",
            "840:\tlearn: 0.0020491\ttotal: 16.6s\tremaining: 3.13s\n",
            "841:\tlearn: 0.0020473\ttotal: 16.6s\tremaining: 3.11s\n",
            "842:\tlearn: 0.0020432\ttotal: 16.6s\tremaining: 3.09s\n",
            "843:\tlearn: 0.0020425\ttotal: 16.6s\tremaining: 3.07s\n",
            "844:\tlearn: 0.0020399\ttotal: 16.6s\tremaining: 3.05s\n",
            "845:\tlearn: 0.0020374\ttotal: 16.7s\tremaining: 3.03s\n",
            "846:\tlearn: 0.0020345\ttotal: 16.7s\tremaining: 3.01s\n",
            "847:\tlearn: 0.0020338\ttotal: 16.7s\tremaining: 2.99s\n",
            "848:\tlearn: 0.0020324\ttotal: 16.7s\tremaining: 2.97s\n",
            "849:\tlearn: 0.0020317\ttotal: 16.7s\tremaining: 2.95s\n",
            "850:\tlearn: 0.0020313\ttotal: 16.8s\tremaining: 2.93s\n",
            "851:\tlearn: 0.0020308\ttotal: 16.8s\tremaining: 2.91s\n",
            "852:\tlearn: 0.0020294\ttotal: 16.8s\tremaining: 2.89s\n",
            "853:\tlearn: 0.0020278\ttotal: 16.8s\tremaining: 2.87s\n",
            "854:\tlearn: 0.0020255\ttotal: 16.8s\tremaining: 2.85s\n",
            "855:\tlearn: 0.0020233\ttotal: 16.8s\tremaining: 2.83s\n",
            "856:\tlearn: 0.0020212\ttotal: 16.9s\tremaining: 2.81s\n",
            "857:\tlearn: 0.0020107\ttotal: 16.9s\tremaining: 2.79s\n",
            "858:\tlearn: 0.0020105\ttotal: 16.9s\tremaining: 2.77s\n",
            "859:\tlearn: 0.0020084\ttotal: 16.9s\tremaining: 2.75s\n",
            "860:\tlearn: 0.0020075\ttotal: 16.9s\tremaining: 2.73s\n",
            "861:\tlearn: 0.0020062\ttotal: 17s\tremaining: 2.71s\n",
            "862:\tlearn: 0.0020042\ttotal: 17s\tremaining: 2.7s\n",
            "863:\tlearn: 0.0020037\ttotal: 17s\tremaining: 2.68s\n",
            "864:\tlearn: 0.0020036\ttotal: 17s\tremaining: 2.66s\n",
            "865:\tlearn: 0.0020010\ttotal: 17s\tremaining: 2.64s\n",
            "866:\tlearn: 0.0020008\ttotal: 17.1s\tremaining: 2.62s\n",
            "867:\tlearn: 0.0019982\ttotal: 17.1s\tremaining: 2.6s\n",
            "868:\tlearn: 0.0019960\ttotal: 17.1s\tremaining: 2.58s\n",
            "869:\tlearn: 0.0019900\ttotal: 17.1s\tremaining: 2.56s\n",
            "870:\tlearn: 0.0019854\ttotal: 17.1s\tremaining: 2.54s\n",
            "871:\tlearn: 0.0019819\ttotal: 17.2s\tremaining: 2.52s\n",
            "872:\tlearn: 0.0019789\ttotal: 17.2s\tremaining: 2.5s\n",
            "873:\tlearn: 0.0019774\ttotal: 17.2s\tremaining: 2.48s\n",
            "874:\tlearn: 0.0019755\ttotal: 17.2s\tremaining: 2.46s\n",
            "875:\tlearn: 0.0019754\ttotal: 17.2s\tremaining: 2.44s\n",
            "876:\tlearn: 0.0019731\ttotal: 17.3s\tremaining: 2.42s\n",
            "877:\tlearn: 0.0019687\ttotal: 17.3s\tremaining: 2.4s\n",
            "878:\tlearn: 0.0019681\ttotal: 17.3s\tremaining: 2.38s\n",
            "879:\tlearn: 0.0019653\ttotal: 17.3s\tremaining: 2.36s\n",
            "880:\tlearn: 0.0019562\ttotal: 17.3s\tremaining: 2.34s\n",
            "881:\tlearn: 0.0019520\ttotal: 17.4s\tremaining: 2.32s\n",
            "882:\tlearn: 0.0019463\ttotal: 17.4s\tremaining: 2.3s\n",
            "883:\tlearn: 0.0019448\ttotal: 17.4s\tremaining: 2.28s\n",
            "884:\tlearn: 0.0019435\ttotal: 17.4s\tremaining: 2.26s\n",
            "885:\tlearn: 0.0019406\ttotal: 17.4s\tremaining: 2.24s\n",
            "886:\tlearn: 0.0019404\ttotal: 17.5s\tremaining: 2.22s\n",
            "887:\tlearn: 0.0019386\ttotal: 17.5s\tremaining: 2.2s\n",
            "888:\tlearn: 0.0019384\ttotal: 17.5s\tremaining: 2.18s\n",
            "889:\tlearn: 0.0019382\ttotal: 17.5s\tremaining: 2.16s\n",
            "890:\tlearn: 0.0019370\ttotal: 17.5s\tremaining: 2.14s\n",
            "891:\tlearn: 0.0019364\ttotal: 17.5s\tremaining: 2.12s\n",
            "892:\tlearn: 0.0019351\ttotal: 17.6s\tremaining: 2.1s\n",
            "893:\tlearn: 0.0019323\ttotal: 17.6s\tremaining: 2.08s\n",
            "894:\tlearn: 0.0019305\ttotal: 17.6s\tremaining: 2.07s\n",
            "895:\tlearn: 0.0019281\ttotal: 17.6s\tremaining: 2.05s\n",
            "896:\tlearn: 0.0019269\ttotal: 17.7s\tremaining: 2.03s\n",
            "897:\tlearn: 0.0019193\ttotal: 17.7s\tremaining: 2.01s\n",
            "898:\tlearn: 0.0019182\ttotal: 17.7s\tremaining: 1.99s\n",
            "899:\tlearn: 0.0019175\ttotal: 17.7s\tremaining: 1.97s\n",
            "900:\tlearn: 0.0019168\ttotal: 17.7s\tremaining: 1.95s\n",
            "901:\tlearn: 0.0019134\ttotal: 17.8s\tremaining: 1.93s\n",
            "902:\tlearn: 0.0019128\ttotal: 17.8s\tremaining: 1.91s\n",
            "903:\tlearn: 0.0019092\ttotal: 17.8s\tremaining: 1.89s\n",
            "904:\tlearn: 0.0019051\ttotal: 17.8s\tremaining: 1.87s\n",
            "905:\tlearn: 0.0019042\ttotal: 17.8s\tremaining: 1.85s\n",
            "906:\tlearn: 0.0019023\ttotal: 17.8s\tremaining: 1.83s\n",
            "907:\tlearn: 0.0019017\ttotal: 17.9s\tremaining: 1.81s\n",
            "908:\tlearn: 0.0018984\ttotal: 17.9s\tremaining: 1.79s\n",
            "909:\tlearn: 0.0018947\ttotal: 17.9s\tremaining: 1.77s\n",
            "910:\tlearn: 0.0018944\ttotal: 17.9s\tremaining: 1.75s\n",
            "911:\tlearn: 0.0018908\ttotal: 17.9s\tremaining: 1.73s\n",
            "912:\tlearn: 0.0018875\ttotal: 18s\tremaining: 1.71s\n",
            "913:\tlearn: 0.0018873\ttotal: 18s\tremaining: 1.69s\n",
            "914:\tlearn: 0.0018851\ttotal: 18s\tremaining: 1.67s\n",
            "915:\tlearn: 0.0018850\ttotal: 18s\tremaining: 1.65s\n",
            "916:\tlearn: 0.0018843\ttotal: 18s\tremaining: 1.63s\n",
            "917:\tlearn: 0.0018823\ttotal: 18.1s\tremaining: 1.61s\n",
            "918:\tlearn: 0.0018779\ttotal: 18.1s\tremaining: 1.59s\n",
            "919:\tlearn: 0.0018775\ttotal: 18.1s\tremaining: 1.57s\n",
            "920:\tlearn: 0.0018754\ttotal: 18.1s\tremaining: 1.55s\n",
            "921:\tlearn: 0.0018742\ttotal: 18.1s\tremaining: 1.53s\n",
            "922:\tlearn: 0.0018737\ttotal: 18.2s\tremaining: 1.51s\n",
            "923:\tlearn: 0.0018718\ttotal: 18.2s\tremaining: 1.49s\n",
            "924:\tlearn: 0.0018717\ttotal: 18.2s\tremaining: 1.48s\n",
            "925:\tlearn: 0.0018688\ttotal: 18.2s\tremaining: 1.46s\n",
            "926:\tlearn: 0.0018649\ttotal: 18.2s\tremaining: 1.44s\n",
            "927:\tlearn: 0.0018624\ttotal: 18.3s\tremaining: 1.42s\n",
            "928:\tlearn: 0.0018579\ttotal: 18.3s\tremaining: 1.4s\n",
            "929:\tlearn: 0.0018567\ttotal: 18.3s\tremaining: 1.38s\n",
            "930:\tlearn: 0.0018556\ttotal: 18.3s\tremaining: 1.36s\n",
            "931:\tlearn: 0.0018554\ttotal: 18.3s\tremaining: 1.34s\n",
            "932:\tlearn: 0.0018542\ttotal: 18.4s\tremaining: 1.32s\n",
            "933:\tlearn: 0.0018519\ttotal: 18.4s\tremaining: 1.3s\n",
            "934:\tlearn: 0.0018495\ttotal: 18.4s\tremaining: 1.28s\n",
            "935:\tlearn: 0.0018474\ttotal: 18.4s\tremaining: 1.26s\n",
            "936:\tlearn: 0.0018459\ttotal: 18.4s\tremaining: 1.24s\n",
            "937:\tlearn: 0.0018429\ttotal: 18.5s\tremaining: 1.22s\n",
            "938:\tlearn: 0.0018397\ttotal: 18.5s\tremaining: 1.2s\n",
            "939:\tlearn: 0.0018369\ttotal: 18.5s\tremaining: 1.18s\n",
            "940:\tlearn: 0.0018341\ttotal: 18.5s\tremaining: 1.16s\n",
            "941:\tlearn: 0.0018339\ttotal: 18.5s\tremaining: 1.14s\n",
            "942:\tlearn: 0.0018299\ttotal: 18.6s\tremaining: 1.12s\n",
            "943:\tlearn: 0.0018292\ttotal: 18.6s\tremaining: 1.1s\n",
            "944:\tlearn: 0.0018268\ttotal: 18.6s\tremaining: 1.08s\n",
            "945:\tlearn: 0.0018244\ttotal: 18.6s\tremaining: 1.06s\n",
            "946:\tlearn: 0.0018233\ttotal: 18.6s\tremaining: 1.04s\n",
            "947:\tlearn: 0.0018217\ttotal: 18.6s\tremaining: 1.02s\n",
            "948:\tlearn: 0.0018183\ttotal: 18.7s\tremaining: 1s\n",
            "949:\tlearn: 0.0018174\ttotal: 18.7s\tremaining: 984ms\n",
            "950:\tlearn: 0.0018163\ttotal: 18.7s\tremaining: 964ms\n",
            "951:\tlearn: 0.0018144\ttotal: 18.7s\tremaining: 945ms\n",
            "952:\tlearn: 0.0018133\ttotal: 18.8s\tremaining: 925ms\n",
            "953:\tlearn: 0.0018080\ttotal: 18.8s\tremaining: 905ms\n",
            "954:\tlearn: 0.0018041\ttotal: 18.8s\tremaining: 885ms\n",
            "955:\tlearn: 0.0018038\ttotal: 18.8s\tremaining: 866ms\n",
            "956:\tlearn: 0.0018018\ttotal: 18.8s\tremaining: 846ms\n",
            "957:\tlearn: 0.0017971\ttotal: 18.8s\tremaining: 826ms\n",
            "958:\tlearn: 0.0017956\ttotal: 18.9s\tremaining: 806ms\n",
            "959:\tlearn: 0.0017954\ttotal: 18.9s\tremaining: 787ms\n",
            "960:\tlearn: 0.0017906\ttotal: 18.9s\tremaining: 767ms\n",
            "961:\tlearn: 0.0017830\ttotal: 18.9s\tremaining: 748ms\n",
            "962:\tlearn: 0.0017791\ttotal: 18.9s\tremaining: 728ms\n",
            "963:\tlearn: 0.0017775\ttotal: 19s\tremaining: 708ms\n",
            "964:\tlearn: 0.0017759\ttotal: 19s\tremaining: 689ms\n",
            "965:\tlearn: 0.0017739\ttotal: 19s\tremaining: 669ms\n",
            "966:\tlearn: 0.0017719\ttotal: 19s\tremaining: 649ms\n",
            "967:\tlearn: 0.0017708\ttotal: 19s\tremaining: 629ms\n",
            "968:\tlearn: 0.0017699\ttotal: 19.1s\tremaining: 610ms\n",
            "969:\tlearn: 0.0017689\ttotal: 19.1s\tremaining: 590ms\n",
            "970:\tlearn: 0.0017685\ttotal: 19.1s\tremaining: 570ms\n",
            "971:\tlearn: 0.0017672\ttotal: 19.1s\tremaining: 551ms\n",
            "972:\tlearn: 0.0017646\ttotal: 19.1s\tremaining: 531ms\n",
            "973:\tlearn: 0.0017632\ttotal: 19.2s\tremaining: 511ms\n",
            "974:\tlearn: 0.0017622\ttotal: 19.2s\tremaining: 492ms\n",
            "975:\tlearn: 0.0017605\ttotal: 19.2s\tremaining: 472ms\n",
            "976:\tlearn: 0.0017600\ttotal: 19.2s\tremaining: 452ms\n",
            "977:\tlearn: 0.0017598\ttotal: 19.2s\tremaining: 433ms\n",
            "978:\tlearn: 0.0017587\ttotal: 19.3s\tremaining: 413ms\n",
            "979:\tlearn: 0.0017579\ttotal: 19.3s\tremaining: 394ms\n",
            "980:\tlearn: 0.0017578\ttotal: 19.3s\tremaining: 374ms\n",
            "981:\tlearn: 0.0017545\ttotal: 19.3s\tremaining: 354ms\n",
            "982:\tlearn: 0.0017533\ttotal: 19.4s\tremaining: 335ms\n",
            "983:\tlearn: 0.0017498\ttotal: 19.4s\tremaining: 315ms\n",
            "984:\tlearn: 0.0017473\ttotal: 19.4s\tremaining: 295ms\n",
            "985:\tlearn: 0.0017466\ttotal: 19.4s\tremaining: 276ms\n",
            "986:\tlearn: 0.0017457\ttotal: 19.4s\tremaining: 256ms\n",
            "987:\tlearn: 0.0017446\ttotal: 19.4s\tremaining: 236ms\n",
            "988:\tlearn: 0.0017444\ttotal: 19.5s\tremaining: 216ms\n",
            "989:\tlearn: 0.0017435\ttotal: 19.5s\tremaining: 197ms\n",
            "990:\tlearn: 0.0017426\ttotal: 19.5s\tremaining: 177ms\n",
            "991:\tlearn: 0.0017418\ttotal: 19.5s\tremaining: 157ms\n",
            "992:\tlearn: 0.0017412\ttotal: 19.5s\tremaining: 138ms\n",
            "993:\tlearn: 0.0017388\ttotal: 19.6s\tremaining: 118ms\n",
            "994:\tlearn: 0.0017380\ttotal: 19.6s\tremaining: 98.4ms\n",
            "995:\tlearn: 0.0017331\ttotal: 19.6s\tremaining: 78.7ms\n",
            "996:\tlearn: 0.0017268\ttotal: 19.6s\tremaining: 59ms\n",
            "997:\tlearn: 0.0017249\ttotal: 19.6s\tremaining: 39.4ms\n",
            "998:\tlearn: 0.0017231\ttotal: 19.7s\tremaining: 19.7ms\n",
            "999:\tlearn: 0.0017229\ttotal: 19.7s\tremaining: 0us\n"
          ]
        },
        {
          "output_type": "execute_result",
          "data": {
            "text/plain": [
              "<catboost.core.CatBoostClassifier at 0x7f17af12c210>"
            ]
          },
          "metadata": {},
          "execution_count": 84
        }
      ]
    },
    {
      "cell_type": "markdown",
      "metadata": {
        "id": "TpVMMbBbD3VI"
      },
      "source": [
        "Now lets tune above model. The exhaustive list of hyperparameters in LightGBM are https://lightgbm.readthedocs.io/en/latest/Parameters-Tuning.html\n",
        "\n",
        "But lets run the CatBoost with previous selected hyperparamters i.e\n",
        "\n",
        "`learning_rate=0.2,\n",
        "max_depth=2,\n",
        "n_estimators=200,\n",
        "subsample=0.6,\n",
        "random_state=1`\n",
        "\n",
        "and lets see if it improves"
      ]
    },
    {
      "cell_type": "code",
      "metadata": {
        "colab": {
          "base_uri": "https://localhost:8080/"
        },
        "id": "oQDFvB9yD3VI",
        "outputId": "40ae972c-b8cc-4e7f-efc0-ec8627ffb941"
      },
      "source": [
        "# Instantiate CatBoostClassifier mentioned parameters\n",
        "Cat = CatBoostClassifier(learning_rate=0.2, max_depth=2, n_estimators=200, subsample=0.6, random_state=1)\n",
        " \n",
        "# fit model on training data\n",
        "Cat.fit(X_train, y_train)"
      ],
      "execution_count": 85,
      "outputs": [
        {
          "output_type": "stream",
          "name": "stdout",
          "text": [
            "0:\tlearn: 0.2613976\ttotal: 14ms\tremaining: 2.78s\n",
            "1:\tlearn: 0.1107186\ttotal: 31.6ms\tremaining: 3.13s\n",
            "2:\tlearn: 0.0567430\ttotal: 42.7ms\tremaining: 2.81s\n",
            "3:\tlearn: 0.0348212\ttotal: 54.8ms\tremaining: 2.69s\n",
            "4:\tlearn: 0.0248359\ttotal: 65.8ms\tremaining: 2.56s\n",
            "5:\tlearn: 0.0195197\ttotal: 76.9ms\tremaining: 2.48s\n",
            "6:\tlearn: 0.0164362\ttotal: 88.2ms\tremaining: 2.43s\n",
            "7:\tlearn: 0.0144481\ttotal: 100ms\tremaining: 2.41s\n",
            "8:\tlearn: 0.0137617\ttotal: 111ms\tremaining: 2.35s\n",
            "9:\tlearn: 0.0130998\ttotal: 122ms\tremaining: 2.31s\n",
            "10:\tlearn: 0.0127017\ttotal: 133ms\tremaining: 2.28s\n",
            "11:\tlearn: 0.0125860\ttotal: 145ms\tremaining: 2.28s\n",
            "12:\tlearn: 0.0123629\ttotal: 158ms\tremaining: 2.27s\n",
            "13:\tlearn: 0.0122493\ttotal: 171ms\tremaining: 2.27s\n",
            "14:\tlearn: 0.0119358\ttotal: 182ms\tremaining: 2.24s\n",
            "15:\tlearn: 0.0118869\ttotal: 195ms\tremaining: 2.24s\n",
            "16:\tlearn: 0.0116832\ttotal: 206ms\tremaining: 2.22s\n",
            "17:\tlearn: 0.0115108\ttotal: 224ms\tremaining: 2.27s\n",
            "18:\tlearn: 0.0114066\ttotal: 236ms\tremaining: 2.25s\n",
            "19:\tlearn: 0.0112929\ttotal: 249ms\tremaining: 2.24s\n",
            "20:\tlearn: 0.0112445\ttotal: 261ms\tremaining: 2.23s\n",
            "21:\tlearn: 0.0111500\ttotal: 276ms\tremaining: 2.24s\n",
            "22:\tlearn: 0.0110376\ttotal: 287ms\tremaining: 2.21s\n",
            "23:\tlearn: 0.0110122\ttotal: 300ms\tremaining: 2.2s\n",
            "24:\tlearn: 0.0109757\ttotal: 313ms\tremaining: 2.19s\n",
            "25:\tlearn: 0.0109185\ttotal: 326ms\tremaining: 2.18s\n",
            "26:\tlearn: 0.0107729\ttotal: 337ms\tremaining: 2.16s\n",
            "27:\tlearn: 0.0107181\ttotal: 350ms\tremaining: 2.15s\n",
            "28:\tlearn: 0.0106688\ttotal: 367ms\tremaining: 2.16s\n",
            "29:\tlearn: 0.0105540\ttotal: 378ms\tremaining: 2.14s\n",
            "30:\tlearn: 0.0105088\ttotal: 389ms\tremaining: 2.12s\n",
            "31:\tlearn: 0.0104756\ttotal: 401ms\tremaining: 2.11s\n",
            "32:\tlearn: 0.0104385\ttotal: 413ms\tremaining: 2.09s\n",
            "33:\tlearn: 0.0103865\ttotal: 430ms\tremaining: 2.1s\n",
            "34:\tlearn: 0.0100880\ttotal: 441ms\tremaining: 2.08s\n",
            "35:\tlearn: 0.0100087\ttotal: 454ms\tremaining: 2.06s\n",
            "36:\tlearn: 0.0099819\ttotal: 465ms\tremaining: 2.05s\n",
            "37:\tlearn: 0.0098858\ttotal: 477ms\tremaining: 2.04s\n",
            "38:\tlearn: 0.0098137\ttotal: 487ms\tremaining: 2.01s\n",
            "39:\tlearn: 0.0097942\ttotal: 500ms\tremaining: 2s\n",
            "40:\tlearn: 0.0097732\ttotal: 512ms\tremaining: 1.99s\n",
            "41:\tlearn: 0.0096331\ttotal: 525ms\tremaining: 1.97s\n",
            "42:\tlearn: 0.0094092\ttotal: 535ms\tremaining: 1.95s\n",
            "43:\tlearn: 0.0093982\ttotal: 548ms\tremaining: 1.94s\n",
            "44:\tlearn: 0.0093810\ttotal: 560ms\tremaining: 1.93s\n",
            "45:\tlearn: 0.0093610\ttotal: 572ms\tremaining: 1.91s\n",
            "46:\tlearn: 0.0093080\ttotal: 583ms\tremaining: 1.9s\n",
            "47:\tlearn: 0.0092808\ttotal: 595ms\tremaining: 1.88s\n",
            "48:\tlearn: 0.0092169\ttotal: 607ms\tremaining: 1.87s\n",
            "49:\tlearn: 0.0092071\ttotal: 620ms\tremaining: 1.86s\n",
            "50:\tlearn: 0.0090900\ttotal: 637ms\tremaining: 1.86s\n",
            "51:\tlearn: 0.0090136\ttotal: 664ms\tremaining: 1.89s\n",
            "52:\tlearn: 0.0090061\ttotal: 678ms\tremaining: 1.88s\n",
            "53:\tlearn: 0.0089929\ttotal: 690ms\tremaining: 1.86s\n",
            "54:\tlearn: 0.0089799\ttotal: 701ms\tremaining: 1.85s\n",
            "55:\tlearn: 0.0089260\ttotal: 714ms\tremaining: 1.83s\n",
            "56:\tlearn: 0.0088480\ttotal: 726ms\tremaining: 1.82s\n",
            "57:\tlearn: 0.0088346\ttotal: 738ms\tremaining: 1.81s\n",
            "58:\tlearn: 0.0087863\ttotal: 752ms\tremaining: 1.8s\n",
            "59:\tlearn: 0.0087458\ttotal: 765ms\tremaining: 1.78s\n",
            "60:\tlearn: 0.0087372\ttotal: 777ms\tremaining: 1.77s\n",
            "61:\tlearn: 0.0087172\ttotal: 790ms\tremaining: 1.76s\n",
            "62:\tlearn: 0.0086675\ttotal: 802ms\tremaining: 1.74s\n",
            "63:\tlearn: 0.0086622\ttotal: 814ms\tremaining: 1.73s\n",
            "64:\tlearn: 0.0086285\ttotal: 826ms\tremaining: 1.72s\n",
            "65:\tlearn: 0.0086177\ttotal: 843ms\tremaining: 1.71s\n",
            "66:\tlearn: 0.0086048\ttotal: 856ms\tremaining: 1.7s\n",
            "67:\tlearn: 0.0085967\ttotal: 868ms\tremaining: 1.69s\n",
            "68:\tlearn: 0.0085905\ttotal: 882ms\tremaining: 1.67s\n",
            "69:\tlearn: 0.0085547\ttotal: 894ms\tremaining: 1.66s\n",
            "70:\tlearn: 0.0085405\ttotal: 909ms\tremaining: 1.65s\n",
            "71:\tlearn: 0.0085359\ttotal: 922ms\tremaining: 1.64s\n",
            "72:\tlearn: 0.0085017\ttotal: 933ms\tremaining: 1.62s\n",
            "73:\tlearn: 0.0084798\ttotal: 945ms\tremaining: 1.61s\n",
            "74:\tlearn: 0.0084725\ttotal: 958ms\tremaining: 1.6s\n",
            "75:\tlearn: 0.0084504\ttotal: 970ms\tremaining: 1.58s\n",
            "76:\tlearn: 0.0084418\ttotal: 982ms\tremaining: 1.57s\n",
            "77:\tlearn: 0.0084378\ttotal: 995ms\tremaining: 1.55s\n",
            "78:\tlearn: 0.0084243\ttotal: 1.01s\tremaining: 1.54s\n",
            "79:\tlearn: 0.0084102\ttotal: 1.02s\tremaining: 1.53s\n",
            "80:\tlearn: 0.0082351\ttotal: 1.03s\tremaining: 1.51s\n",
            "81:\tlearn: 0.0082299\ttotal: 1.05s\tremaining: 1.51s\n",
            "82:\tlearn: 0.0082165\ttotal: 1.07s\tremaining: 1.5s\n",
            "83:\tlearn: 0.0082118\ttotal: 1.08s\tremaining: 1.49s\n",
            "84:\tlearn: 0.0082068\ttotal: 1.09s\tremaining: 1.48s\n",
            "85:\tlearn: 0.0081951\ttotal: 1.1s\tremaining: 1.46s\n",
            "86:\tlearn: 0.0081675\ttotal: 1.11s\tremaining: 1.45s\n",
            "87:\tlearn: 0.0081604\ttotal: 1.13s\tremaining: 1.44s\n",
            "88:\tlearn: 0.0081553\ttotal: 1.14s\tremaining: 1.42s\n",
            "89:\tlearn: 0.0081406\ttotal: 1.15s\tremaining: 1.41s\n",
            "90:\tlearn: 0.0081262\ttotal: 1.16s\tremaining: 1.39s\n",
            "91:\tlearn: 0.0081191\ttotal: 1.18s\tremaining: 1.38s\n",
            "92:\tlearn: 0.0079846\ttotal: 1.19s\tremaining: 1.37s\n",
            "93:\tlearn: 0.0079810\ttotal: 1.2s\tremaining: 1.35s\n",
            "94:\tlearn: 0.0079659\ttotal: 1.21s\tremaining: 1.34s\n",
            "95:\tlearn: 0.0079583\ttotal: 1.23s\tremaining: 1.33s\n",
            "96:\tlearn: 0.0078603\ttotal: 1.24s\tremaining: 1.31s\n",
            "97:\tlearn: 0.0078559\ttotal: 1.25s\tremaining: 1.3s\n",
            "98:\tlearn: 0.0078332\ttotal: 1.27s\tremaining: 1.29s\n",
            "99:\tlearn: 0.0078239\ttotal: 1.28s\tremaining: 1.28s\n",
            "100:\tlearn: 0.0078201\ttotal: 1.29s\tremaining: 1.27s\n",
            "101:\tlearn: 0.0078163\ttotal: 1.31s\tremaining: 1.26s\n",
            "102:\tlearn: 0.0078015\ttotal: 1.32s\tremaining: 1.24s\n",
            "103:\tlearn: 0.0077980\ttotal: 1.33s\tremaining: 1.23s\n",
            "104:\tlearn: 0.0077819\ttotal: 1.34s\tremaining: 1.22s\n",
            "105:\tlearn: 0.0077790\ttotal: 1.36s\tremaining: 1.2s\n",
            "106:\tlearn: 0.0077723\ttotal: 1.37s\tremaining: 1.19s\n",
            "107:\tlearn: 0.0077500\ttotal: 1.38s\tremaining: 1.18s\n",
            "108:\tlearn: 0.0077461\ttotal: 1.39s\tremaining: 1.16s\n",
            "109:\tlearn: 0.0077431\ttotal: 1.41s\tremaining: 1.15s\n",
            "110:\tlearn: 0.0077332\ttotal: 1.42s\tremaining: 1.14s\n",
            "111:\tlearn: 0.0077200\ttotal: 1.44s\tremaining: 1.13s\n",
            "112:\tlearn: 0.0077137\ttotal: 1.45s\tremaining: 1.11s\n",
            "113:\tlearn: 0.0077108\ttotal: 1.47s\tremaining: 1.1s\n",
            "114:\tlearn: 0.0077029\ttotal: 1.48s\tremaining: 1.09s\n",
            "115:\tlearn: 0.0076948\ttotal: 1.49s\tremaining: 1.08s\n",
            "116:\tlearn: 0.0076881\ttotal: 1.5s\tremaining: 1.07s\n",
            "117:\tlearn: 0.0076793\ttotal: 1.52s\tremaining: 1.05s\n",
            "118:\tlearn: 0.0076741\ttotal: 1.53s\tremaining: 1.04s\n",
            "119:\tlearn: 0.0076529\ttotal: 1.54s\tremaining: 1.03s\n",
            "120:\tlearn: 0.0076450\ttotal: 1.55s\tremaining: 1.01s\n",
            "121:\tlearn: 0.0075794\ttotal: 1.57s\tremaining: 1s\n",
            "122:\tlearn: 0.0075074\ttotal: 1.58s\tremaining: 988ms\n",
            "123:\tlearn: 0.0074948\ttotal: 1.59s\tremaining: 975ms\n",
            "124:\tlearn: 0.0074867\ttotal: 1.6s\tremaining: 961ms\n",
            "125:\tlearn: 0.0074779\ttotal: 1.61s\tremaining: 949ms\n",
            "126:\tlearn: 0.0074719\ttotal: 1.63s\tremaining: 935ms\n",
            "127:\tlearn: 0.0074694\ttotal: 1.64s\tremaining: 922ms\n",
            "128:\tlearn: 0.0074576\ttotal: 1.66s\tremaining: 913ms\n",
            "129:\tlearn: 0.0074498\ttotal: 1.68s\tremaining: 904ms\n",
            "130:\tlearn: 0.0073954\ttotal: 1.69s\tremaining: 891ms\n",
            "131:\tlearn: 0.0073934\ttotal: 1.7s\tremaining: 878ms\n",
            "132:\tlearn: 0.0073837\ttotal: 1.71s\tremaining: 864ms\n",
            "133:\tlearn: 0.0072353\ttotal: 1.73s\tremaining: 851ms\n",
            "134:\tlearn: 0.0072338\ttotal: 1.74s\tremaining: 838ms\n",
            "135:\tlearn: 0.0072309\ttotal: 1.75s\tremaining: 825ms\n",
            "136:\tlearn: 0.0072249\ttotal: 1.76s\tremaining: 812ms\n",
            "137:\tlearn: 0.0071897\ttotal: 1.78s\tremaining: 798ms\n",
            "138:\tlearn: 0.0071805\ttotal: 1.79s\tremaining: 785ms\n",
            "139:\tlearn: 0.0071537\ttotal: 1.8s\tremaining: 772ms\n",
            "140:\tlearn: 0.0071519\ttotal: 1.81s\tremaining: 759ms\n",
            "141:\tlearn: 0.0071412\ttotal: 1.83s\tremaining: 748ms\n",
            "142:\tlearn: 0.0071374\ttotal: 1.84s\tremaining: 734ms\n",
            "143:\tlearn: 0.0071344\ttotal: 1.85s\tremaining: 721ms\n",
            "144:\tlearn: 0.0071298\ttotal: 1.87s\tremaining: 708ms\n",
            "145:\tlearn: 0.0071116\ttotal: 1.89s\tremaining: 699ms\n",
            "146:\tlearn: 0.0071092\ttotal: 1.9s\tremaining: 686ms\n",
            "147:\tlearn: 0.0071055\ttotal: 1.91s\tremaining: 673ms\n",
            "148:\tlearn: 0.0070885\ttotal: 1.93s\tremaining: 659ms\n",
            "149:\tlearn: 0.0070852\ttotal: 1.94s\tremaining: 646ms\n",
            "150:\tlearn: 0.0070804\ttotal: 1.95s\tremaining: 633ms\n",
            "151:\tlearn: 0.0070786\ttotal: 1.96s\tremaining: 620ms\n",
            "152:\tlearn: 0.0070755\ttotal: 1.98s\tremaining: 607ms\n",
            "153:\tlearn: 0.0070719\ttotal: 1.99s\tremaining: 594ms\n",
            "154:\tlearn: 0.0070644\ttotal: 2s\tremaining: 580ms\n",
            "155:\tlearn: 0.0070555\ttotal: 2.01s\tremaining: 568ms\n",
            "156:\tlearn: 0.0070528\ttotal: 2.02s\tremaining: 555ms\n",
            "157:\tlearn: 0.0070507\ttotal: 2.04s\tremaining: 542ms\n",
            "158:\tlearn: 0.0070496\ttotal: 2.05s\tremaining: 529ms\n",
            "159:\tlearn: 0.0070253\ttotal: 2.06s\tremaining: 516ms\n",
            "160:\tlearn: 0.0070185\ttotal: 2.08s\tremaining: 504ms\n",
            "161:\tlearn: 0.0069923\ttotal: 2.1s\tremaining: 492ms\n",
            "162:\tlearn: 0.0069908\ttotal: 2.11s\tremaining: 479ms\n",
            "163:\tlearn: 0.0069866\ttotal: 2.12s\tremaining: 466ms\n",
            "164:\tlearn: 0.0069523\ttotal: 2.13s\tremaining: 453ms\n",
            "165:\tlearn: 0.0069510\ttotal: 2.15s\tremaining: 440ms\n",
            "166:\tlearn: 0.0069462\ttotal: 2.16s\tremaining: 427ms\n",
            "167:\tlearn: 0.0069339\ttotal: 2.17s\tremaining: 414ms\n",
            "168:\tlearn: 0.0069331\ttotal: 2.18s\tremaining: 401ms\n",
            "169:\tlearn: 0.0069286\ttotal: 2.2s\tremaining: 388ms\n",
            "170:\tlearn: 0.0069078\ttotal: 2.21s\tremaining: 375ms\n",
            "171:\tlearn: 0.0069026\ttotal: 2.22s\tremaining: 362ms\n",
            "172:\tlearn: 0.0068902\ttotal: 2.23s\tremaining: 349ms\n",
            "173:\tlearn: 0.0068762\ttotal: 2.25s\tremaining: 336ms\n",
            "174:\tlearn: 0.0068707\ttotal: 2.26s\tremaining: 323ms\n",
            "175:\tlearn: 0.0068693\ttotal: 2.27s\tremaining: 310ms\n",
            "176:\tlearn: 0.0068639\ttotal: 2.29s\tremaining: 297ms\n",
            "177:\tlearn: 0.0068627\ttotal: 2.3s\tremaining: 285ms\n",
            "178:\tlearn: 0.0068606\ttotal: 2.31s\tremaining: 272ms\n",
            "179:\tlearn: 0.0068555\ttotal: 2.33s\tremaining: 259ms\n",
            "180:\tlearn: 0.0068255\ttotal: 2.34s\tremaining: 246ms\n",
            "181:\tlearn: 0.0068190\ttotal: 2.35s\tremaining: 233ms\n",
            "182:\tlearn: 0.0068120\ttotal: 2.37s\tremaining: 220ms\n",
            "183:\tlearn: 0.0068090\ttotal: 2.38s\tremaining: 207ms\n",
            "184:\tlearn: 0.0068037\ttotal: 2.4s\tremaining: 194ms\n",
            "185:\tlearn: 0.0068005\ttotal: 2.41s\tremaining: 181ms\n",
            "186:\tlearn: 0.0067972\ttotal: 2.43s\tremaining: 169ms\n",
            "187:\tlearn: 0.0067797\ttotal: 2.44s\tremaining: 156ms\n",
            "188:\tlearn: 0.0067786\ttotal: 2.45s\tremaining: 143ms\n",
            "189:\tlearn: 0.0067716\ttotal: 2.47s\tremaining: 130ms\n",
            "190:\tlearn: 0.0067603\ttotal: 2.48s\tremaining: 117ms\n",
            "191:\tlearn: 0.0067573\ttotal: 2.49s\tremaining: 104ms\n",
            "192:\tlearn: 0.0067546\ttotal: 2.51s\tremaining: 91ms\n",
            "193:\tlearn: 0.0067361\ttotal: 2.52s\tremaining: 78ms\n",
            "194:\tlearn: 0.0067341\ttotal: 2.53s\tremaining: 65ms\n",
            "195:\tlearn: 0.0067160\ttotal: 2.55s\tremaining: 52ms\n",
            "196:\tlearn: 0.0067064\ttotal: 2.56s\tremaining: 39ms\n",
            "197:\tlearn: 0.0067002\ttotal: 2.58s\tremaining: 26.1ms\n",
            "198:\tlearn: 0.0066999\ttotal: 2.6s\tremaining: 13.1ms\n",
            "199:\tlearn: 0.0066785\ttotal: 2.61s\tremaining: 0us\n"
          ]
        },
        {
          "output_type": "execute_result",
          "data": {
            "text/plain": [
              "<catboost.core.CatBoostClassifier at 0x7f17a2ee7150>"
            ]
          },
          "metadata": {},
          "execution_count": 85
        }
      ]
    },
    {
      "cell_type": "code",
      "metadata": {
        "colab": {
          "base_uri": "https://localhost:8080/"
        },
        "id": "AS4dO6AkD3VI",
        "outputId": "7a7b47d5-4396-452b-e13e-5534b8789f69"
      },
      "source": [
        "# use predict_proba since we need probabilities to compute auc\n",
        "y_pred = Cat.predict_proba(X_test)\n",
        "\n",
        "# evaluate predictions using roc_auc score\n",
        "roc = metrics.roc_auc_score(y_test, y_pred[:, 1])\n",
        "print(\"AUC: %.2f%%\" % (roc * 100.0))"
      ],
      "execution_count": 86,
      "outputs": [
        {
          "output_type": "stream",
          "name": "stdout",
          "text": [
            "AUC: 96.31%\n"
          ]
        }
      ]
    },
    {
      "cell_type": "markdown",
      "metadata": {
        "id": "7PevkKhdD3VJ"
      },
      "source": [
        "Wohoo! oh yes. Your final model can come to your rescue. CatBoost gives slightly better result than all other models which we tried till now."
      ]
    },
    {
      "cell_type": "markdown",
      "metadata": {
        "_cell_guid": "b753bc69-f824-4ed5-8f27-ec391f0cb820",
        "_uuid": "e02e3ccc572ac3bbcc9a40b8dd2bbe269a36994d",
        "id": "ll4QNddSD3VJ"
      },
      "source": [
        "\n",
        "Recommendations for training:\n",
        "- We have used only a fraction of the training set (train_sample, 100k rows), the full training data on Kaggle (train.csv) has about 180 million rows. You'll get good results only if you train the model on a significant portion of the training dataset.  \n",
        "- Because of the size, you'll need to use Colab kernels to train the model on full training data. Colab kernels provide powerful computation capacities on cloud (for free). \n",
        "- Even on the kernel, you may need to use a portion of the training dataset (try using the last 20-30 million rows).\n",
        "- Make sure you save memory by following some tricks and best practices, else you won't be able to train the model at all on a large dataset.\n",
        "\n",
        "\n",
        "Finally in this assignment you have learned about various boosting techniques and in previous assignment you had learned about Bagging techniques. We hope you understood the difference between them and their use.\n",
        "\n",
        "To get a short ensemble summary refer: https://www.youtube.com/watch?v=m-S9Hojj1as\n",
        "\n",
        "You can refer below videos to know interesting Interview questions on Boosting techniques. \n",
        "\n",
        "https://www.youtube.com/watch?v=EHewTwtYcgE\n",
        "\n",
        "\n"
      ]
    },
    {
      "cell_type": "markdown",
      "metadata": {
        "id": "O-jAA4y9D3VJ"
      },
      "source": [
        "From above you can see that most of the International footbal tournament were on sunday. Such small small analysis becomes usefull for our machine learning problems to solve.\n",
        "\n",
        "All these feature engineering techniques becomes very important to bring good insights and results for any machine learning problems, hence we hope that you understand the importance of feature engineering as part of data science.\n",
        "\n",
        "---------------------\n",
        "# Peaceable with ensemble! Congrats..you have completed your ML Ensemble challenge\n",
        "---------------------\n",
        "\n",
        "\n",
        "# FeedBack\n",
        "We hope you’ve enjoyed this course so far. We’re committed to help you use \"AI for All\" course to its full potential, so that you have a great learning experience. And that’s why we need your help in form of a feedback here.\n",
        "\n",
        "Please fill this feedback form https://zfrmz.in/MtRG5oWXBdesm6rmSM7N"
      ]
    }
  ]
}