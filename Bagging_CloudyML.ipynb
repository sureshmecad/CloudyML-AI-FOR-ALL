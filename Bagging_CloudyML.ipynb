{
  "nbformat": 4,
  "nbformat_minor": 0,
  "metadata": {
    "kernelspec": {
      "display_name": "Python 3",
      "language": "python",
      "name": "python3"
    },
    "language_info": {
      "codemirror_mode": {
        "name": "ipython",
        "version": 3
      },
      "file_extension": ".py",
      "mimetype": "text/x-python",
      "name": "python",
      "nbconvert_exporter": "python",
      "pygments_lexer": "ipython3",
      "version": "3.8.5"
    },
    "colab": {
      "name": "Bagging_CloudyML.ipynb",
      "provenance": [],
      "collapsed_sections": [],
      "include_colab_link": true
    }
  },
  "cells": [
    {
      "cell_type": "markdown",
      "metadata": {
        "id": "view-in-github",
        "colab_type": "text"
      },
      "source": [
        "<a href=\"https://colab.research.google.com/github/sureshmecad/CloudyML-AI-FOR-ALL/blob/main/Bagging_CloudyML.ipynb\" target=\"_parent\"><img src=\"https://colab.research.google.com/assets/colab-badge.svg\" alt=\"Open In Colab\"/></a>"
      ]
    },
    {
      "cell_type": "markdown",
      "metadata": {
        "id": "u2Mi2OrCYVTz"
      },
      "source": [
        "## <center><u>Bagging and Random Forest Ensemble Algorithms</u></center>\n"
      ]
    },
    {
      "cell_type": "markdown",
      "metadata": {
        "id": "iLTTPVzyYVT-"
      },
      "source": [
        "Decision trees are a simple and powerful predictive modeling technique, but they suffer from high-variance.\n",
        "\n",
        "This means that trees can get very different results given different training data.\n",
        "\n",
        "A technique to make decision trees more robust and to achieve better performance is called bootstrap aggregation or bagging for short.\n",
        "\n",
        "In this assignment, you will discover how to implement the bagging procedure with Python.\n",
        "\n",
        "To know more about Bagging do refer this video: https://youtu.be/mvNRa-VI7xw\n",
        "\n",
        "-------------------------\n",
        "\n",
        "Here you will be using 3 different types of boosting methods:\n",
        "\n",
        "1. Bagging classifier: an ensemble meta-estimator\n",
        "2. RandomForest Classifier\n",
        "3. ExtraTree Classifier\n",
        "\n",
        "\n",
        "#### PROBLEM STATEMENT: Credit Default Prediction\n",
        "\n",
        "Build a model to predict whether a given customer defaults or not. Credit default is one of the most important problems in the banking and risk analytics industry. There are various attributes which can be used to predict default, such as demographic data (age, income, employment status, etc.), (credit) behavioural data (past loans, payment, number of times a credit payment has been delayed by the customer etc.).\n",
        "\n"
      ]
    },
    {
      "cell_type": "markdown",
      "metadata": {
        "id": "jYVEEvNaYVUA"
      },
      "source": [
        "### 1. Data Understanding and Cleaning\n",
        "\n",
        "<p style='text-align: right;'> 10 points</p>"
      ]
    },
    {
      "cell_type": "code",
      "metadata": {
        "id": "MnlXAs9IYVUB"
      },
      "source": [
        "# Importing the required libraries\n",
        "import pandas as pd\n",
        "import numpy as np\n",
        "import matplotlib.pyplot as plt\n",
        "import seaborn as sns\n",
        "%matplotlib inline\n",
        "\n",
        "# To ignore warnings\n",
        "import warnings\n",
        "warnings.filterwarnings(\"ignore\")"
      ],
      "execution_count": 5,
      "outputs": []
    },
    {
      "cell_type": "code",
      "source": [
        "from google.colab import drive\n",
        "drive.mount('/content/drive')"
      ],
      "metadata": {
        "colab": {
          "base_uri": "https://localhost:8080/"
        },
        "id": "ac9yzVNN_uqn",
        "outputId": "8cfb1e43-41e3-4d56-e13c-aa209363efef"
      },
      "execution_count": null,
      "outputs": [
        {
          "output_type": "stream",
          "name": "stdout",
          "text": [
            "Mounted at /content/drive\n"
          ]
        }
      ]
    },
    {
      "cell_type": "code",
      "metadata": {
        "id": "Xzfuy8JEYVUE",
        "outputId": "dc5b23c6-9acd-492a-aa0e-48fe0d86c26c",
        "colab": {
          "base_uri": "https://localhost:8080/"
        }
      },
      "source": [
        "# Reading the csv file and putting it into 'df' object.\n",
        "df = pd.read_csv(\"/content/drive/MyDrive/CloudyML/credit-card-default.zip\")\n",
        "\n",
        "# printing head\n",
        "df.head()"
      ],
      "execution_count": null,
      "outputs": [
        {
          "output_type": "execute_result",
          "data": {
            "text/html": [
              "\n",
              "  <div id=\"df-69de2531-e1f3-4128-a769-8aa8ed939bd5\">\n",
              "    <div class=\"colab-df-container\">\n",
              "      <div>\n",
              "<style scoped>\n",
              "    .dataframe tbody tr th:only-of-type {\n",
              "        vertical-align: middle;\n",
              "    }\n",
              "\n",
              "    .dataframe tbody tr th {\n",
              "        vertical-align: top;\n",
              "    }\n",
              "\n",
              "    .dataframe thead th {\n",
              "        text-align: right;\n",
              "    }\n",
              "</style>\n",
              "<table border=\"1\" class=\"dataframe\">\n",
              "  <thead>\n",
              "    <tr style=\"text-align: right;\">\n",
              "      <th></th>\n",
              "      <th>ID</th>\n",
              "      <th>LIMIT_BAL</th>\n",
              "      <th>SEX</th>\n",
              "      <th>EDUCATION</th>\n",
              "      <th>MARRIAGE</th>\n",
              "      <th>AGE</th>\n",
              "      <th>PAY_0</th>\n",
              "      <th>PAY_2</th>\n",
              "      <th>PAY_3</th>\n",
              "      <th>PAY_4</th>\n",
              "      <th>PAY_5</th>\n",
              "      <th>PAY_6</th>\n",
              "      <th>BILL_AMT1</th>\n",
              "      <th>BILL_AMT2</th>\n",
              "      <th>BILL_AMT3</th>\n",
              "      <th>BILL_AMT4</th>\n",
              "      <th>BILL_AMT5</th>\n",
              "      <th>BILL_AMT6</th>\n",
              "      <th>PAY_AMT1</th>\n",
              "      <th>PAY_AMT2</th>\n",
              "      <th>PAY_AMT3</th>\n",
              "      <th>PAY_AMT4</th>\n",
              "      <th>PAY_AMT5</th>\n",
              "      <th>PAY_AMT6</th>\n",
              "      <th>defaulted</th>\n",
              "    </tr>\n",
              "  </thead>\n",
              "  <tbody>\n",
              "    <tr>\n",
              "      <th>0</th>\n",
              "      <td>1</td>\n",
              "      <td>20000</td>\n",
              "      <td>2</td>\n",
              "      <td>2</td>\n",
              "      <td>1</td>\n",
              "      <td>24</td>\n",
              "      <td>2</td>\n",
              "      <td>2</td>\n",
              "      <td>-1</td>\n",
              "      <td>-1</td>\n",
              "      <td>-2</td>\n",
              "      <td>-2</td>\n",
              "      <td>3913</td>\n",
              "      <td>3102</td>\n",
              "      <td>689</td>\n",
              "      <td>0</td>\n",
              "      <td>0</td>\n",
              "      <td>0</td>\n",
              "      <td>0</td>\n",
              "      <td>689</td>\n",
              "      <td>0</td>\n",
              "      <td>0</td>\n",
              "      <td>0</td>\n",
              "      <td>0</td>\n",
              "      <td>1</td>\n",
              "    </tr>\n",
              "    <tr>\n",
              "      <th>1</th>\n",
              "      <td>2</td>\n",
              "      <td>120000</td>\n",
              "      <td>2</td>\n",
              "      <td>2</td>\n",
              "      <td>2</td>\n",
              "      <td>26</td>\n",
              "      <td>-1</td>\n",
              "      <td>2</td>\n",
              "      <td>0</td>\n",
              "      <td>0</td>\n",
              "      <td>0</td>\n",
              "      <td>2</td>\n",
              "      <td>2682</td>\n",
              "      <td>1725</td>\n",
              "      <td>2682</td>\n",
              "      <td>3272</td>\n",
              "      <td>3455</td>\n",
              "      <td>3261</td>\n",
              "      <td>0</td>\n",
              "      <td>1000</td>\n",
              "      <td>1000</td>\n",
              "      <td>1000</td>\n",
              "      <td>0</td>\n",
              "      <td>2000</td>\n",
              "      <td>1</td>\n",
              "    </tr>\n",
              "    <tr>\n",
              "      <th>2</th>\n",
              "      <td>3</td>\n",
              "      <td>90000</td>\n",
              "      <td>2</td>\n",
              "      <td>2</td>\n",
              "      <td>2</td>\n",
              "      <td>34</td>\n",
              "      <td>0</td>\n",
              "      <td>0</td>\n",
              "      <td>0</td>\n",
              "      <td>0</td>\n",
              "      <td>0</td>\n",
              "      <td>0</td>\n",
              "      <td>29239</td>\n",
              "      <td>14027</td>\n",
              "      <td>13559</td>\n",
              "      <td>14331</td>\n",
              "      <td>14948</td>\n",
              "      <td>15549</td>\n",
              "      <td>1518</td>\n",
              "      <td>1500</td>\n",
              "      <td>1000</td>\n",
              "      <td>1000</td>\n",
              "      <td>1000</td>\n",
              "      <td>5000</td>\n",
              "      <td>0</td>\n",
              "    </tr>\n",
              "    <tr>\n",
              "      <th>3</th>\n",
              "      <td>4</td>\n",
              "      <td>50000</td>\n",
              "      <td>2</td>\n",
              "      <td>2</td>\n",
              "      <td>1</td>\n",
              "      <td>37</td>\n",
              "      <td>0</td>\n",
              "      <td>0</td>\n",
              "      <td>0</td>\n",
              "      <td>0</td>\n",
              "      <td>0</td>\n",
              "      <td>0</td>\n",
              "      <td>46990</td>\n",
              "      <td>48233</td>\n",
              "      <td>49291</td>\n",
              "      <td>28314</td>\n",
              "      <td>28959</td>\n",
              "      <td>29547</td>\n",
              "      <td>2000</td>\n",
              "      <td>2019</td>\n",
              "      <td>1200</td>\n",
              "      <td>1100</td>\n",
              "      <td>1069</td>\n",
              "      <td>1000</td>\n",
              "      <td>0</td>\n",
              "    </tr>\n",
              "    <tr>\n",
              "      <th>4</th>\n",
              "      <td>5</td>\n",
              "      <td>50000</td>\n",
              "      <td>1</td>\n",
              "      <td>2</td>\n",
              "      <td>1</td>\n",
              "      <td>57</td>\n",
              "      <td>-1</td>\n",
              "      <td>0</td>\n",
              "      <td>-1</td>\n",
              "      <td>0</td>\n",
              "      <td>0</td>\n",
              "      <td>0</td>\n",
              "      <td>8617</td>\n",
              "      <td>5670</td>\n",
              "      <td>35835</td>\n",
              "      <td>20940</td>\n",
              "      <td>19146</td>\n",
              "      <td>19131</td>\n",
              "      <td>2000</td>\n",
              "      <td>36681</td>\n",
              "      <td>10000</td>\n",
              "      <td>9000</td>\n",
              "      <td>689</td>\n",
              "      <td>679</td>\n",
              "      <td>0</td>\n",
              "    </tr>\n",
              "  </tbody>\n",
              "</table>\n",
              "</div>\n",
              "      <button class=\"colab-df-convert\" onclick=\"convertToInteractive('df-69de2531-e1f3-4128-a769-8aa8ed939bd5')\"\n",
              "              title=\"Convert this dataframe to an interactive table.\"\n",
              "              style=\"display:none;\">\n",
              "        \n",
              "  <svg xmlns=\"http://www.w3.org/2000/svg\" height=\"24px\"viewBox=\"0 0 24 24\"\n",
              "       width=\"24px\">\n",
              "    <path d=\"M0 0h24v24H0V0z\" fill=\"none\"/>\n",
              "    <path d=\"M18.56 5.44l.94 2.06.94-2.06 2.06-.94-2.06-.94-.94-2.06-.94 2.06-2.06.94zm-11 1L8.5 8.5l.94-2.06 2.06-.94-2.06-.94L8.5 2.5l-.94 2.06-2.06.94zm10 10l.94 2.06.94-2.06 2.06-.94-2.06-.94-.94-2.06-.94 2.06-2.06.94z\"/><path d=\"M17.41 7.96l-1.37-1.37c-.4-.4-.92-.59-1.43-.59-.52 0-1.04.2-1.43.59L10.3 9.45l-7.72 7.72c-.78.78-.78 2.05 0 2.83L4 21.41c.39.39.9.59 1.41.59.51 0 1.02-.2 1.41-.59l7.78-7.78 2.81-2.81c.8-.78.8-2.07 0-2.86zM5.41 20L4 18.59l7.72-7.72 1.47 1.35L5.41 20z\"/>\n",
              "  </svg>\n",
              "      </button>\n",
              "      \n",
              "  <style>\n",
              "    .colab-df-container {\n",
              "      display:flex;\n",
              "      flex-wrap:wrap;\n",
              "      gap: 12px;\n",
              "    }\n",
              "\n",
              "    .colab-df-convert {\n",
              "      background-color: #E8F0FE;\n",
              "      border: none;\n",
              "      border-radius: 50%;\n",
              "      cursor: pointer;\n",
              "      display: none;\n",
              "      fill: #1967D2;\n",
              "      height: 32px;\n",
              "      padding: 0 0 0 0;\n",
              "      width: 32px;\n",
              "    }\n",
              "\n",
              "    .colab-df-convert:hover {\n",
              "      background-color: #E2EBFA;\n",
              "      box-shadow: 0px 1px 2px rgba(60, 64, 67, 0.3), 0px 1px 3px 1px rgba(60, 64, 67, 0.15);\n",
              "      fill: #174EA6;\n",
              "    }\n",
              "\n",
              "    [theme=dark] .colab-df-convert {\n",
              "      background-color: #3B4455;\n",
              "      fill: #D2E3FC;\n",
              "    }\n",
              "\n",
              "    [theme=dark] .colab-df-convert:hover {\n",
              "      background-color: #434B5C;\n",
              "      box-shadow: 0px 1px 3px 1px rgba(0, 0, 0, 0.15);\n",
              "      filter: drop-shadow(0px 1px 2px rgba(0, 0, 0, 0.3));\n",
              "      fill: #FFFFFF;\n",
              "    }\n",
              "  </style>\n",
              "\n",
              "      <script>\n",
              "        const buttonEl =\n",
              "          document.querySelector('#df-69de2531-e1f3-4128-a769-8aa8ed939bd5 button.colab-df-convert');\n",
              "        buttonEl.style.display =\n",
              "          google.colab.kernel.accessAllowed ? 'block' : 'none';\n",
              "\n",
              "        async function convertToInteractive(key) {\n",
              "          const element = document.querySelector('#df-69de2531-e1f3-4128-a769-8aa8ed939bd5');\n",
              "          const dataTable =\n",
              "            await google.colab.kernel.invokeFunction('convertToInteractive',\n",
              "                                                     [key], {});\n",
              "          if (!dataTable) return;\n",
              "\n",
              "          const docLinkHtml = 'Like what you see? Visit the ' +\n",
              "            '<a target=\"_blank\" href=https://colab.research.google.com/notebooks/data_table.ipynb>data table notebook</a>'\n",
              "            + ' to learn more about interactive tables.';\n",
              "          element.innerHTML = '';\n",
              "          dataTable['output_type'] = 'display_data';\n",
              "          await google.colab.output.renderOutput(dataTable, element);\n",
              "          const docLink = document.createElement('div');\n",
              "          docLink.innerHTML = docLinkHtml;\n",
              "          element.appendChild(docLink);\n",
              "        }\n",
              "      </script>\n",
              "    </div>\n",
              "  </div>\n",
              "  "
            ],
            "text/plain": [
              "   ID  LIMIT_BAL  SEX  EDUCATION  ...  PAY_AMT4  PAY_AMT5  PAY_AMT6  defaulted\n",
              "0   1      20000    2          2  ...         0         0         0          1\n",
              "1   2     120000    2          2  ...      1000         0      2000          1\n",
              "2   3      90000    2          2  ...      1000      1000      5000          0\n",
              "3   4      50000    2          2  ...      1100      1069      1000          0\n",
              "4   5      50000    1          2  ...      9000       689       679          0\n",
              "\n",
              "[5 rows x 25 columns]"
            ]
          },
          "metadata": {},
          "execution_count": 4
        }
      ]
    },
    {
      "cell_type": "code",
      "metadata": {
        "id": "DszWPJvWYVUG",
        "outputId": "df180583-37c6-4db2-99a7-8a3071054e34",
        "colab": {
          "base_uri": "https://localhost:8080/"
        }
      },
      "source": [
        "# Let's understand the type of columns\n",
        "df.info()"
      ],
      "execution_count": 6,
      "outputs": [
        {
          "output_type": "stream",
          "name": "stdout",
          "text": [
            "<class 'pandas.core.frame.DataFrame'>\n",
            "RangeIndex: 30000 entries, 0 to 29999\n",
            "Data columns (total 25 columns):\n",
            " #   Column     Non-Null Count  Dtype\n",
            "---  ------     --------------  -----\n",
            " 0   ID         30000 non-null  int64\n",
            " 1   LIMIT_BAL  30000 non-null  int64\n",
            " 2   SEX        30000 non-null  int64\n",
            " 3   EDUCATION  30000 non-null  int64\n",
            " 4   MARRIAGE   30000 non-null  int64\n",
            " 5   AGE        30000 non-null  int64\n",
            " 6   PAY_0      30000 non-null  int64\n",
            " 7   PAY_2      30000 non-null  int64\n",
            " 8   PAY_3      30000 non-null  int64\n",
            " 9   PAY_4      30000 non-null  int64\n",
            " 10  PAY_5      30000 non-null  int64\n",
            " 11  PAY_6      30000 non-null  int64\n",
            " 12  BILL_AMT1  30000 non-null  int64\n",
            " 13  BILL_AMT2  30000 non-null  int64\n",
            " 14  BILL_AMT3  30000 non-null  int64\n",
            " 15  BILL_AMT4  30000 non-null  int64\n",
            " 16  BILL_AMT5  30000 non-null  int64\n",
            " 17  BILL_AMT6  30000 non-null  int64\n",
            " 18  PAY_AMT1   30000 non-null  int64\n",
            " 19  PAY_AMT2   30000 non-null  int64\n",
            " 20  PAY_AMT3   30000 non-null  int64\n",
            " 21  PAY_AMT4   30000 non-null  int64\n",
            " 22  PAY_AMT5   30000 non-null  int64\n",
            " 23  PAY_AMT6   30000 non-null  int64\n",
            " 24  defaulted  30000 non-null  int64\n",
            "dtypes: int64(25)\n",
            "memory usage: 5.7 MB\n"
          ]
        }
      ]
    },
    {
      "cell_type": "markdown",
      "metadata": {
        "id": "oG4jUR4yYVUI"
      },
      "source": [
        "In this case, we know that there are no major data quality issues, so we'll go ahead and build the model."
      ]
    },
    {
      "cell_type": "markdown",
      "metadata": {
        "id": "EM9rMMBqYVUJ"
      },
      "source": [
        "### 2. Data Preparation and Model Building\n",
        "\n",
        "\n",
        "<p style='text-align: right;'> 10 points</p>"
      ]
    },
    {
      "cell_type": "code",
      "metadata": {
        "id": "lEI3M6roYVUL"
      },
      "source": [
        "# Importing test_train_split from sklearn library\n",
        "from sklearn.model_selection import train_test_split"
      ],
      "execution_count": 7,
      "outputs": []
    },
    {
      "cell_type": "code",
      "metadata": {
        "id": "Obu0I9uoYVUN"
      },
      "source": [
        "# Putting feature variable to X\n",
        "X = df.drop('defaulted', axis=1)\n",
        "\n",
        "# Putting response variable to y\n",
        "y = df['defaulted']\n",
        "\n",
        "# Splitting the data into train and test with test size as 30% and random state as 101\n",
        "X_train, X_test, y_train, y_test = train_test_split(X, y, test_size=0.3, random_state=101)"
      ],
      "execution_count": 8,
      "outputs": []
    },
    {
      "cell_type": "markdown",
      "metadata": {
        "id": "XH08jEIoYVUO"
      },
      "source": [
        "### 3. Applying Bagging"
      ]
    },
    {
      "cell_type": "markdown",
      "metadata": {
        "id": "hJleI7FGYVUP"
      },
      "source": [
        "\n",
        "##### 1. Bagging classifier: an ensemble meta-estimator\n",
        "\n",
        "<p style='text-align: right;'> 20 points</p>\n",
        "\n",
        "\n",
        "Bagging classifier can be called as an ensemble meta-estimator which is created by fitting multiple versions of base estimator, trained with modified training data set created using bagging sampling technique (data sampled using replacement) or otherwise. The nagging sampling technique can result in the training set consisting of duplicate dataset or unique data set. This sampling technique is also called as bootstrap aggregation. The final predictor (also called as bagging classifier) combines the predictions made by each estimator / classifier by voting (classification) or by averaging (regression). \n",
        "\n",
        "Bagging classifier helps in reducing the variance of individual estimators by introducing randomisation into the training stage of each of the estimators and making an ensemble out of all the estimators. \n",
        "\n",
        "Lets first check this using **simple Decision Tree** to build this model"
      ]
    },
    {
      "cell_type": "code",
      "metadata": {
        "id": "xRxMx_R4YVUQ"
      },
      "source": [
        "# import StandardScaler, DecisionTreeClassifier and make_pipeline\n",
        "from sklearn.preprocessing import StandardScaler\n",
        "from sklearn.tree import DecisionTreeClassifier\n",
        "from sklearn.pipeline import make_pipeline"
      ],
      "execution_count": 9,
      "outputs": []
    },
    {
      "cell_type": "markdown",
      "metadata": {
        "id": "gmW_REUfYVUR"
      },
      "source": [
        "Make a pipeline Estimator to standardize X and use DecisionTreeClassifier with random_state=1 as model. \n",
        "\n",
        "Reference: https://youtu.be/Bui97ZbNED8"
      ]
    },
    {
      "cell_type": "code",
      "metadata": {
        "id": "DCTTH0hUYVUS",
        "outputId": "ceb8f3bf-3e6e-450c-b3d6-df166c9611f9",
        "colab": {
          "base_uri": "https://localhost:8080/"
        }
      },
      "source": [
        "# Pipeline Estimator \n",
        "pipeline = make_pipeline(StandardScaler(), DecisionTreeClassifier(random_state=1))\n",
        "\n",
        "# fit model on training data\n",
        "pipeline.fit(X_train, y_train)"
      ],
      "execution_count": 10,
      "outputs": [
        {
          "output_type": "execute_result",
          "data": {
            "text/plain": [
              "Pipeline(steps=[('standardscaler', StandardScaler()),\n",
              "                ('decisiontreeclassifier',\n",
              "                 DecisionTreeClassifier(random_state=1))])"
            ]
          },
          "metadata": {},
          "execution_count": 10
        }
      ]
    },
    {
      "cell_type": "code",
      "metadata": {
        "id": "5O2lChM8YVUT",
        "outputId": "382ed2b6-b9cf-44b2-ecc9-d18be7e4fb66",
        "colab": {
          "base_uri": "https://localhost:8080/"
        }
      },
      "source": [
        "# Model scores on test and training data\n",
        "print(\"Model test score: %.3f, \" %pipeline.score(X_test, y_test),\n",
        "      \"Model training score: %.3f, \" %pipeline.score(X_train, y_train))"
      ],
      "execution_count": 11,
      "outputs": [
        {
          "output_type": "stream",
          "name": "stdout",
          "text": [
            "Model test score: 0.728,  Model training score: 1.000, \n"
          ]
        }
      ]
    },
    {
      "cell_type": "markdown",
      "metadata": {
        "id": "DI4ux9XuYVUU"
      },
      "source": [
        "The model comes up with the above scores. Note that the model tends to overfit the data as the test score is 0.72 and training score is 1.00.\n",
        "\n",
        "Here naturally reducing this overfitting issue is required. Lets do this using various bagging methods\n",
        "\n",
        "#### 1. Bagging classifier: an ensemble meta-estimator\n",
        "\n",
        "Reference doc link: https://scikit-learn.org/stable/modules/generated/sklearn.ensemble.BaggingClassifier.html\n",
        "\n",
        "Reference YouTube link: https://youtu.be/69vSVnByBNI\n",
        "\n",
        "We will fit a bagging classifier using default hyperparameters and base estimator as pipeline built using Decision Tree Classifier. Note that you can further perform a Grid Search or Randomized search to get the most appropriate estimator."
      ]
    },
    {
      "cell_type": "code",
      "metadata": {
        "id": "ryxb3tFwYVUU",
        "outputId": "f8a6370e-f524-4610-aded-678624eb6468",
        "colab": {
          "base_uri": "https://localhost:8080/"
        }
      },
      "source": [
        "# import BaggingClassifier\n",
        "from sklearn.ensemble import BaggingClassifier\n",
        "\n",
        "# Instantiate the bagging classifier\n",
        "bgclassifier = BaggingClassifier(base_estimator=pipeline, random_state=1)\n",
        "\n",
        "# fitting above model on training data\n",
        "bgclassifier.fit(X_train, y_train)\n",
        "\n",
        "# Model scores on test and training data\n",
        "print(\"Model test score: %.3f, \" %bgclassifier.score(X_test, y_test),\n",
        "      \"Model training score: %.3f, \" %bgclassifier.score(X_train, y_train))"
      ],
      "execution_count": 12,
      "outputs": [
        {
          "output_type": "stream",
          "name": "stdout",
          "text": [
            "Model test score: 0.810,  Model training score: 0.979, \n"
          ]
        }
      ]
    },
    {
      "cell_type": "markdown",
      "metadata": {
        "id": "STK-HBsqYVUV"
      },
      "source": [
        "The model comes up with the following scores. Note that the model tends to overfit the data as the test score is 0.81 and training score is 0.98. However, the model will give better generalization performance than the model fit with Descision Tree alone.\n",
        "\n",
        "Note: You can use any algorithm with bagging classifier \n",
        "\n",
        "#### Tuning BaggingClassifier\n",
        "<p style='text-align: right;'> 5 points</p>\n",
        "\n",
        "We will further perform a Grid Search or Randomized search to get the most appropriate estimator.\n",
        "\n",
        "I would like to use GridSearchCV to find the best parameters for both BaggingClassifier and DecisionTreeClassifier (e.g. max_depth from DecisionTreeClassifier and max_samples & max_features from BaggingClassifier), what is the syntax for this?\n",
        "\n",
        "\n"
      ]
    },
    {
      "cell_type": "code",
      "metadata": {
        "id": "3mEz9S6TYVUW",
        "outputId": "122e1158-bdd0-4f29-f72d-dc16b889644f",
        "colab": {
          "base_uri": "https://localhost:8080/"
        }
      },
      "source": [
        "# import GridSearchCV\n",
        "from sklearn.model_selection import GridSearchCV\n",
        "\n",
        "'''A dictionary with base_estimator__max_depth from 1 to 20 with step size as 5\n",
        "A max_samples with [0.05, 0.1, 0.2, 0.5] and max_features form 1 to 20 with step size as 5'''\n",
        "\n",
        "\n",
        "param_grid = {\n",
        "    'base_estimator__max_depth' : [1, 5, 10, 15, 20],\n",
        "    'max_samples' : [0.05, 0.1, 0.2, 0.5],\n",
        "    'max_features' : [1, 5, 10, 15, 20]\n",
        "}\n",
        "\n",
        "# Instantiate gridsearch with BaggingClassifier with base estimator DecisionTreeClassifier\n",
        "gs = GridSearchCV(BaggingClassifier(DecisionTreeClassifier(), random_state=1),\n",
        "                  param_grid, scoring='accuracy')\n",
        "\n",
        "# fit grid search on training data\n",
        "gs.fit(X_train, y_train)"
      ],
      "execution_count": 13,
      "outputs": [
        {
          "output_type": "execute_result",
          "data": {
            "text/plain": [
              "GridSearchCV(estimator=BaggingClassifier(base_estimator=DecisionTreeClassifier(),\n",
              "                                         random_state=1),\n",
              "             param_grid={'base_estimator__max_depth': [1, 5, 10, 15, 20],\n",
              "                         'max_features': [1, 5, 10, 15, 20],\n",
              "                         'max_samples': [0.05, 0.1, 0.2, 0.5]},\n",
              "             scoring='accuracy')"
            ]
          },
          "metadata": {},
          "execution_count": 13
        }
      ]
    },
    {
      "cell_type": "code",
      "metadata": {
        "id": "vO7gYnBrYVUX",
        "outputId": "e1d61de5-29f9-4757-98a8-e0080eec30f6",
        "colab": {
          "base_uri": "https://localhost:8080/"
        }
      },
      "source": [
        "# print best paramaters selected by gridsearch\n",
        "print(\"Optimal hyperparameter combination: \", gs.best_params_)\n",
        "\n",
        "# print mean accuracy score on final tuned  BaggingClassifier\n",
        "print(\"Mean cross-validated training accuracy score:\", gs.best_score_)"
      ],
      "execution_count": 14,
      "outputs": [
        {
          "output_type": "stream",
          "name": "stdout",
          "text": [
            "Optimal hyperparameter combination:  {'base_estimator__max_depth': 5, 'max_features': 20, 'max_samples': 0.5}\n",
            "Mean cross-validated training accuracy score: 0.8177619047619048\n"
          ]
        }
      ]
    },
    {
      "cell_type": "markdown",
      "metadata": {
        "id": "isS2IogMYVUY"
      },
      "source": [
        "Check our BaggingClassifier again on optimized parameters"
      ]
    },
    {
      "cell_type": "code",
      "metadata": {
        "id": "3EumPHoXYVUY",
        "outputId": "3413df13-0479-4565-818b-ce918d6fa834",
        "colab": {
          "base_uri": "https://localhost:8080/"
        }
      },
      "source": [
        "# Instantiate the bagging classifier with optimized parameter by grid search\n",
        "bgclassifier = BaggingClassifier(DecisionTreeClassifier(max_depth=5), max_features=20, max_samples=0.5)\n",
        "\n",
        "# fitting above model on training data\n",
        "bgclassifier.fit(X_train, y_train)\n",
        "\n",
        "# Model scores on test and training data\n",
        "print(\"Model test score: %.3f, \" %bgclassifier.score(X_test, y_test),\n",
        "      \"Model training score: %.3f, \" %bgclassifier.score(X_train, y_train))"
      ],
      "execution_count": 15,
      "outputs": [
        {
          "output_type": "stream",
          "name": "stdout",
          "text": [
            "Model test score: 0.824,  Model training score: 0.823, \n"
          ]
        }
      ]
    },
    {
      "cell_type": "markdown",
      "metadata": {
        "id": "_f_jniy0YVUZ"
      },
      "source": [
        "Wohooo! did you observe that we have succesfully eliminated problem of overfitting using bagging method and hyperparameter tuning it."
      ]
    },
    {
      "cell_type": "markdown",
      "metadata": {
        "id": "4GK2mKxkYVUa"
      },
      "source": [
        "\n",
        "#### 2. RandomForest Classifier\n",
        "\n",
        "<p style='text-align: right;'> 20 points</p>\n",
        "\n",
        "\n",
        "Reference doc: https://scikit-learn.org/stable/modules/generated/sklearn.ensemble.RandomForestClassifier.html\n",
        "\n",
        "Reference video: https://www.youtube.com/watch?v=nxFG5xdpDto\n",
        "\n",
        "Now lets check RandomForest algorithm for doing bagging.\n",
        "\n",
        "\n",
        "Random forest, like its name implies, consists of a large number of individual decision trees that operate as an ensemble. Each individual tree in the random forest spits out a class prediction and the class with the most votes becomes our model’s prediction (see figure below).\n",
        "\n",
        "Random forest is an extension of bagging that also randomly selects subsets of features used in each data sample."
      ]
    },
    {
      "cell_type": "code",
      "metadata": {
        "id": "scdP2sCBYVUa",
        "outputId": "f856ad5e-22cd-4428-8600-d58e4f4bbc88",
        "colab": {
          "base_uri": "https://localhost:8080/"
        }
      },
      "source": [
        "# Importing random forest classifier from sklearn library\n",
        "from sklearn.ensemble import RandomForestClassifier\n",
        "\n",
        "# Running the random forest with default parameters.\n",
        "rfc = RandomForestClassifier(random_state=1)\n",
        "\n",
        "# fit model on training data\n",
        "rfc.fit(X_train, y_train)"
      ],
      "execution_count": 16,
      "outputs": [
        {
          "output_type": "execute_result",
          "data": {
            "text/plain": [
              "RandomForestClassifier(random_state=1)"
            ]
          },
          "metadata": {},
          "execution_count": 16
        }
      ]
    },
    {
      "cell_type": "code",
      "metadata": {
        "id": "BGjIm8qoYVUb"
      },
      "source": [
        "# Making predictions\n",
        "predictions = rfc.predict(X_test)"
      ],
      "execution_count": 17,
      "outputs": []
    },
    {
      "cell_type": "code",
      "metadata": {
        "id": "Q3U1Q796YVUc",
        "outputId": "9366dfa1-934b-4e3d-e8e7-1e1683bda79d",
        "colab": {
          "base_uri": "https://localhost:8080/"
        }
      },
      "source": [
        "# Importing classification report and confusion matrix from sklearn metrics\n",
        "from sklearn.metrics import confusion_matrix, classification_report, accuracy_score\n",
        "\n",
        "# Let's check the report of our default model\n",
        "print(classification_report(y_test, predictions))\n"
      ],
      "execution_count": 18,
      "outputs": [
        {
          "output_type": "stream",
          "name": "stdout",
          "text": [
            "              precision    recall  f1-score   support\n",
            "\n",
            "           0       0.85      0.95      0.89      7058\n",
            "           1       0.66      0.37      0.47      1942\n",
            "\n",
            "    accuracy                           0.82      9000\n",
            "   macro avg       0.75      0.66      0.68      9000\n",
            "weighted avg       0.80      0.82      0.80      9000\n",
            "\n"
          ]
        }
      ]
    },
    {
      "cell_type": "code",
      "metadata": {
        "id": "cg7wjrAoYVUc",
        "outputId": "12fd4732-d0e3-4f27-e86d-0b35cef84c68",
        "colab": {
          "base_uri": "https://localhost:8080/"
        }
      },
      "source": [
        "# Printing confusion matrix\n",
        "print(confusion_matrix(y_test, predictions))\n",
        "\n",
        "# Printing accuracy\n",
        "print(accuracy_score(y_test, predictions))"
      ],
      "execution_count": 19,
      "outputs": [
        {
          "output_type": "stream",
          "name": "stdout",
          "text": [
            "[[6683  375]\n",
            " [1224  718]]\n",
            "0.8223333333333334\n"
          ]
        }
      ]
    },
    {
      "cell_type": "markdown",
      "metadata": {
        "id": "bnT1KpREYVUd"
      },
      "source": [
        "So far so good, let's now look at the list of hyperparameters which we can tune to improve model performance."
      ]
    },
    {
      "cell_type": "markdown",
      "metadata": {
        "id": "jpXxq8bBYVUd"
      },
      "source": [
        "#### Hyperparameter Tuning RF\n",
        "\n",
        "<p style='text-align: right;'> 10 points</p>\n",
        "\n",
        "The following hyperparameters are present in a random forest classifier. Note that most of these hypereparameters are actually of the decision trees that are in the forest.\n",
        "\n",
        "\n",
        "- **n_estimators**: integer, optional (default=10): The number of trees in the forest.\n",
        "- **criterion**: string, optional (default=”gini”)The function to measure the quality of a split. Supported criteria are “gini” for the Gini impurity and “entropy” for the information gain. Note: this parameter is tree-specific.\n",
        "- **max_features** : int, float, string or None, optional (default=”auto”)The number of features to consider when looking for the best split:\n",
        "    - If int, then consider max_features features at each split.\n",
        "    - If float, then max_features is a percentage and int(max_features * n_features) features are considered at each split.\n",
        "    - If “auto”, then max_features=sqrt(n_features).\n",
        "    - If “sqrt”, then max_features=sqrt(n_features) (same as “auto”).\n",
        "    - If “log2”, then max_features=log2(n_features).\n",
        "    - If None, then max_features=n_features.\n",
        "    - Note: the search for a split does not stop until at least one valid partition of the node samples is found, even if it requires to effectively inspect more than max_features features.\n",
        "- **max_depth** : integer or None, optional (default=None)The maximum depth of the tree. If None, then nodes are expanded until all leaves are pure or until all leaves contain less than min_samples_split samples.\n",
        "- **min_samples_split** : int, float, optional (default=2)The minimum number of samples required to split an internal node:**\n",
        "    - **If int, then consider min_samples_split as the minimum number.\n",
        "    - **If float, then min_samples_split is a percentage and ceil(min_samples_split, n_samples) are the minimum number of samples for each split.\n",
        "- **min_samples_leaf** : int, float, optional (default=1)The minimum number of samples required to be at a leaf node:**\n",
        "    - **If int, then consider min_samples_leaf as the minimum number.**\n",
        "    - **If float, then min_samples_leaf is a percentage and ceil(min_samples_leaf * n_samples) are the minimum number of samples for each node.**\n",
        "- **min_weight_fraction_leaf** : float, optional (default=0.)The minimum weighted fraction of the sum total of weights (of all the input samples) required to be at a leaf node. Samples have equal weight when sample_weight is not provided.\n",
        "- **max_leaf_nodes** : int or None, optional (default=None)Grow trees with max_leaf_nodes in best-first fashion. Best nodes are defined as relative reduction in impurity. If None then unlimited number of leaf nodes.\n",
        "- **min_impurity_split** : float,Threshold for early stopping in tree growth. A node will split if its impurity is above the threshold, otherwise it is a leaf.\n",
        "\n",
        "\n",
        "### Tuning max_depth\n",
        "\n",
        "\n",
        "Let's try to find the optimum values for ```max_depth``` and understand how the value of max_depth impacts the overall accuracy of the ensemble.\n"
      ]
    },
    {
      "cell_type": "code",
      "metadata": {
        "id": "imqai5LbYVUe",
        "outputId": "59a0d36a-483b-4f4f-c411-5559a10909a5",
        "colab": {
          "base_uri": "https://localhost:8080/"
        }
      },
      "source": [
        "# import Kfold \n",
        "from sklearn.model_selection import KFold\n",
        "\n",
        "# specify number of folds for k-fold CV which is 5\n",
        "n_folds = 5\n",
        "\n",
        "# parameters to build the model on here max_depth with range(2, 20, 5)\n",
        "parameters = {'max_depth': range(2,20,5)}\n",
        "\n",
        "# instantiate the model\n",
        "rf = RandomForestClassifier(random_state=1)\n",
        "\n",
        "\n",
        "# Instantiate GridSearchCVwith rf, parameter, cv and scoring as accuracy and return_train_score=True\n",
        "rf = GridSearchCV(rf, parameters, cv=n_folds, scoring='accuracy', return_train_score=True)\n",
        "\n",
        "# fit tree on training data\n",
        "rf.fit(X_train, y_train)"
      ],
      "execution_count": 20,
      "outputs": [
        {
          "output_type": "execute_result",
          "data": {
            "text/plain": [
              "GridSearchCV(cv=5, estimator=RandomForestClassifier(random_state=1),\n",
              "             param_grid={'max_depth': range(2, 20, 5)}, return_train_score=True,\n",
              "             scoring='accuracy')"
            ]
          },
          "metadata": {},
          "execution_count": 20
        }
      ]
    },
    {
      "cell_type": "code",
      "metadata": {
        "id": "SMrPd_VnYVUf",
        "outputId": "fbd21bfd-baa2-4b9f-f5d0-024e0f184026",
        "colab": {
          "base_uri": "https://localhost:8080/",
          "height": 308
        }
      },
      "source": [
        "# scores of GridSearch CV\n",
        "scores = rf.cv_results_\n",
        "pd.DataFrame(scores).head()"
      ],
      "execution_count": 22,
      "outputs": [
        {
          "output_type": "execute_result",
          "data": {
            "text/html": [
              "\n",
              "  <div id=\"df-fe17222b-4549-468c-b7ae-0448e73e66df\">\n",
              "    <div class=\"colab-df-container\">\n",
              "      <div>\n",
              "<style scoped>\n",
              "    .dataframe tbody tr th:only-of-type {\n",
              "        vertical-align: middle;\n",
              "    }\n",
              "\n",
              "    .dataframe tbody tr th {\n",
              "        vertical-align: top;\n",
              "    }\n",
              "\n",
              "    .dataframe thead th {\n",
              "        text-align: right;\n",
              "    }\n",
              "</style>\n",
              "<table border=\"1\" class=\"dataframe\">\n",
              "  <thead>\n",
              "    <tr style=\"text-align: right;\">\n",
              "      <th></th>\n",
              "      <th>mean_fit_time</th>\n",
              "      <th>std_fit_time</th>\n",
              "      <th>mean_score_time</th>\n",
              "      <th>std_score_time</th>\n",
              "      <th>param_max_depth</th>\n",
              "      <th>params</th>\n",
              "      <th>split0_test_score</th>\n",
              "      <th>split1_test_score</th>\n",
              "      <th>split2_test_score</th>\n",
              "      <th>split3_test_score</th>\n",
              "      <th>split4_test_score</th>\n",
              "      <th>mean_test_score</th>\n",
              "      <th>std_test_score</th>\n",
              "      <th>rank_test_score</th>\n",
              "      <th>split0_train_score</th>\n",
              "      <th>split1_train_score</th>\n",
              "      <th>split2_train_score</th>\n",
              "      <th>split3_train_score</th>\n",
              "      <th>split4_train_score</th>\n",
              "      <th>mean_train_score</th>\n",
              "      <th>std_train_score</th>\n",
              "    </tr>\n",
              "  </thead>\n",
              "  <tbody>\n",
              "    <tr>\n",
              "      <th>0</th>\n",
              "      <td>0.953433</td>\n",
              "      <td>0.012311</td>\n",
              "      <td>0.036387</td>\n",
              "      <td>0.002121</td>\n",
              "      <td>2</td>\n",
              "      <td>{'max_depth': 2}</td>\n",
              "      <td>0.803095</td>\n",
              "      <td>0.803095</td>\n",
              "      <td>0.800476</td>\n",
              "      <td>0.796905</td>\n",
              "      <td>0.800952</td>\n",
              "      <td>0.800905</td>\n",
              "      <td>0.002271</td>\n",
              "      <td>4</td>\n",
              "      <td>0.801190</td>\n",
              "      <td>0.799464</td>\n",
              "      <td>0.801667</td>\n",
              "      <td>0.803333</td>\n",
              "      <td>0.801786</td>\n",
              "      <td>0.801488</td>\n",
              "      <td>0.001242</td>\n",
              "    </tr>\n",
              "    <tr>\n",
              "      <th>1</th>\n",
              "      <td>2.377159</td>\n",
              "      <td>0.012657</td>\n",
              "      <td>0.052193</td>\n",
              "      <td>0.003207</td>\n",
              "      <td>7</td>\n",
              "      <td>{'max_depth': 7}</td>\n",
              "      <td>0.815238</td>\n",
              "      <td>0.819762</td>\n",
              "      <td>0.818095</td>\n",
              "      <td>0.817857</td>\n",
              "      <td>0.817381</td>\n",
              "      <td>0.817667</td>\n",
              "      <td>0.001455</td>\n",
              "      <td>1</td>\n",
              "      <td>0.831012</td>\n",
              "      <td>0.831071</td>\n",
              "      <td>0.831548</td>\n",
              "      <td>0.833333</td>\n",
              "      <td>0.834107</td>\n",
              "      <td>0.832214</td>\n",
              "      <td>0.001267</td>\n",
              "    </tr>\n",
              "    <tr>\n",
              "      <th>2</th>\n",
              "      <td>3.635717</td>\n",
              "      <td>0.004334</td>\n",
              "      <td>0.075070</td>\n",
              "      <td>0.002779</td>\n",
              "      <td>12</td>\n",
              "      <td>{'max_depth': 12}</td>\n",
              "      <td>0.813095</td>\n",
              "      <td>0.819286</td>\n",
              "      <td>0.820476</td>\n",
              "      <td>0.814286</td>\n",
              "      <td>0.817381</td>\n",
              "      <td>0.816905</td>\n",
              "      <td>0.002829</td>\n",
              "      <td>2</td>\n",
              "      <td>0.883929</td>\n",
              "      <td>0.886012</td>\n",
              "      <td>0.884345</td>\n",
              "      <td>0.887560</td>\n",
              "      <td>0.885298</td>\n",
              "      <td>0.885429</td>\n",
              "      <td>0.001290</td>\n",
              "    </tr>\n",
              "    <tr>\n",
              "      <th>3</th>\n",
              "      <td>4.576171</td>\n",
              "      <td>0.017017</td>\n",
              "      <td>0.094392</td>\n",
              "      <td>0.001030</td>\n",
              "      <td>17</td>\n",
              "      <td>{'max_depth': 17}</td>\n",
              "      <td>0.812143</td>\n",
              "      <td>0.815952</td>\n",
              "      <td>0.820000</td>\n",
              "      <td>0.808571</td>\n",
              "      <td>0.819286</td>\n",
              "      <td>0.815190</td>\n",
              "      <td>0.004326</td>\n",
              "      <td>3</td>\n",
              "      <td>0.926845</td>\n",
              "      <td>0.930536</td>\n",
              "      <td>0.931548</td>\n",
              "      <td>0.929524</td>\n",
              "      <td>0.927857</td>\n",
              "      <td>0.929262</td>\n",
              "      <td>0.001716</td>\n",
              "    </tr>\n",
              "  </tbody>\n",
              "</table>\n",
              "</div>\n",
              "      <button class=\"colab-df-convert\" onclick=\"convertToInteractive('df-fe17222b-4549-468c-b7ae-0448e73e66df')\"\n",
              "              title=\"Convert this dataframe to an interactive table.\"\n",
              "              style=\"display:none;\">\n",
              "        \n",
              "  <svg xmlns=\"http://www.w3.org/2000/svg\" height=\"24px\"viewBox=\"0 0 24 24\"\n",
              "       width=\"24px\">\n",
              "    <path d=\"M0 0h24v24H0V0z\" fill=\"none\"/>\n",
              "    <path d=\"M18.56 5.44l.94 2.06.94-2.06 2.06-.94-2.06-.94-.94-2.06-.94 2.06-2.06.94zm-11 1L8.5 8.5l.94-2.06 2.06-.94-2.06-.94L8.5 2.5l-.94 2.06-2.06.94zm10 10l.94 2.06.94-2.06 2.06-.94-2.06-.94-.94-2.06-.94 2.06-2.06.94z\"/><path d=\"M17.41 7.96l-1.37-1.37c-.4-.4-.92-.59-1.43-.59-.52 0-1.04.2-1.43.59L10.3 9.45l-7.72 7.72c-.78.78-.78 2.05 0 2.83L4 21.41c.39.39.9.59 1.41.59.51 0 1.02-.2 1.41-.59l7.78-7.78 2.81-2.81c.8-.78.8-2.07 0-2.86zM5.41 20L4 18.59l7.72-7.72 1.47 1.35L5.41 20z\"/>\n",
              "  </svg>\n",
              "      </button>\n",
              "      \n",
              "  <style>\n",
              "    .colab-df-container {\n",
              "      display:flex;\n",
              "      flex-wrap:wrap;\n",
              "      gap: 12px;\n",
              "    }\n",
              "\n",
              "    .colab-df-convert {\n",
              "      background-color: #E8F0FE;\n",
              "      border: none;\n",
              "      border-radius: 50%;\n",
              "      cursor: pointer;\n",
              "      display: none;\n",
              "      fill: #1967D2;\n",
              "      height: 32px;\n",
              "      padding: 0 0 0 0;\n",
              "      width: 32px;\n",
              "    }\n",
              "\n",
              "    .colab-df-convert:hover {\n",
              "      background-color: #E2EBFA;\n",
              "      box-shadow: 0px 1px 2px rgba(60, 64, 67, 0.3), 0px 1px 3px 1px rgba(60, 64, 67, 0.15);\n",
              "      fill: #174EA6;\n",
              "    }\n",
              "\n",
              "    [theme=dark] .colab-df-convert {\n",
              "      background-color: #3B4455;\n",
              "      fill: #D2E3FC;\n",
              "    }\n",
              "\n",
              "    [theme=dark] .colab-df-convert:hover {\n",
              "      background-color: #434B5C;\n",
              "      box-shadow: 0px 1px 3px 1px rgba(0, 0, 0, 0.15);\n",
              "      filter: drop-shadow(0px 1px 2px rgba(0, 0, 0, 0.3));\n",
              "      fill: #FFFFFF;\n",
              "    }\n",
              "  </style>\n",
              "\n",
              "      <script>\n",
              "        const buttonEl =\n",
              "          document.querySelector('#df-fe17222b-4549-468c-b7ae-0448e73e66df button.colab-df-convert');\n",
              "        buttonEl.style.display =\n",
              "          google.colab.kernel.accessAllowed ? 'block' : 'none';\n",
              "\n",
              "        async function convertToInteractive(key) {\n",
              "          const element = document.querySelector('#df-fe17222b-4549-468c-b7ae-0448e73e66df');\n",
              "          const dataTable =\n",
              "            await google.colab.kernel.invokeFunction('convertToInteractive',\n",
              "                                                     [key], {});\n",
              "          if (!dataTable) return;\n",
              "\n",
              "          const docLinkHtml = 'Like what you see? Visit the ' +\n",
              "            '<a target=\"_blank\" href=https://colab.research.google.com/notebooks/data_table.ipynb>data table notebook</a>'\n",
              "            + ' to learn more about interactive tables.';\n",
              "          element.innerHTML = '';\n",
              "          dataTable['output_type'] = 'display_data';\n",
              "          await google.colab.output.renderOutput(dataTable, element);\n",
              "          const docLink = document.createElement('div');\n",
              "          docLink.innerHTML = docLinkHtml;\n",
              "          element.appendChild(docLink);\n",
              "        }\n",
              "      </script>\n",
              "    </div>\n",
              "  </div>\n",
              "  "
            ],
            "text/plain": [
              "   mean_fit_time  std_fit_time  ...  mean_train_score  std_train_score\n",
              "0       0.953433      0.012311  ...          0.801488         0.001242\n",
              "1       2.377159      0.012657  ...          0.832214         0.001267\n",
              "2       3.635717      0.004334  ...          0.885429         0.001290\n",
              "3       4.576171      0.017017  ...          0.929262         0.001716\n",
              "\n",
              "[4 rows x 21 columns]"
            ]
          },
          "metadata": {},
          "execution_count": 22
        }
      ]
    },
    {
      "cell_type": "code",
      "metadata": {
        "id": "eu_dhZ-xYVUg",
        "outputId": "823161e1-4b19-4062-dc9b-ca31ef4092e2",
        "colab": {
          "base_uri": "https://localhost:8080/",
          "height": 280
        }
      },
      "source": [
        "# plotting accuracies with max_depth\n",
        "plt.figure()\n",
        "plt.plot(scores[\"param_max_depth\"], scores[\"mean_train_score\"], label=[\"training accuracy\"])\n",
        "plt.plot(scores[\"param_max_depth\"], scores[\"mean_test_score\"], label=[\"test accuracy\"])\n",
        "plt.xlabel(\"max_depth\")\n",
        "plt.ylabel(\"Accuracy\")\n",
        "plt.legend()\n",
        "plt.show()"
      ],
      "execution_count": 23,
      "outputs": [
        {
          "output_type": "display_data",
          "data": {
            "image/png": "[encoded data removed]",
            "text/plain": [
              "<Figure size 432x288 with 1 Axes>"
            ]
          },
          "metadata": {
            "needs_background": "light"
          }
        }
      ]
    },
    {
      "cell_type": "markdown",
      "metadata": {
        "id": "KyB5IhOKYVUg"
      },
      "source": [
        "You can see that as we increase the value of max_depth, both train and test scores increase till a point, but after that test score starts to decrease. The ensemble tries to overfit as we increase the max_depth.\n",
        "\n",
        "Thus, controlling the depth of the constituent trees will help reduce overfitting in the forest."
      ]
    },
    {
      "cell_type": "markdown",
      "metadata": {
        "id": "lzNa8lj3YVUh"
      },
      "source": [
        "Let's try to find the optimum values for n_estimators and understand how the value of n_estimators impacts the overall accuracy. Notice that we'll specify an appropriately low value of max_depth, so that the trees do not overfit.\n",
        "<br>\n",
        "\n",
        "### Tuning n_estimators\n",
        "Let's try to find the optimum values for n_estimators and understand how the value of n_estimators impacts the overall accuracy. Notice that we'll specify an appropriately low value of max_depth, so that the trees do not overfit.\n",
        "<br>\n"
      ]
    },
    {
      "cell_type": "code",
      "metadata": {
        "id": "NrEYEX_fYVUh",
        "outputId": "0139cc80-0f8c-4f2b-93a6-4cab405060a3"
      },
      "source": [
        "# parameters to build the model on (here n_estimators with range(100, 1500, 400))\n",
        "parameters = {'n_estimators' : range(100, 1500, 400)}\n",
        "\n",
        "# instantiate the model (note we are specifying a max_depth as 4)\n",
        "rf = RandomForestClassifier(max_depth=4, random_state=1)\n",
        "\n",
        "# Instantiate GridSearchCVwith rf, parameter, cv and scoring as accuracy and return_train_score as True\n",
        "rf = GridSearchCV(rf, parameters, cv=n_folds, scoring='accuracy', return_train_score=True)\n",
        "\n",
        "# fit tree on training data\n",
        "rf.fit(X_train, y_train)"
      ],
      "execution_count": null,
      "outputs": [
        {
          "data": {
            "text/plain": [
              "GridSearchCV(cv=5, estimator=RandomForestClassifier(max_depth=4),\n",
              "             param_grid={'n_estimators': range(100, 1500, 400)},\n",
              "             return_train_score=True, scoring='accuracy')"
            ]
          },
          "execution_count": 20,
          "metadata": {},
          "output_type": "execute_result"
        }
      ]
    },
    {
      "cell_type": "code",
      "metadata": {
        "id": "SgrEvS-pYVUi",
        "outputId": "3e062723-2418-4133-a455-7b44e592afe1",
        "colab": {
          "base_uri": "https://localhost:8080/",
          "height": 308
        }
      },
      "source": [
        "# scores of GridSearch CV\n",
        "scores = rf.cv_results_\n",
        "pd.DataFrame(scores).head()"
      ],
      "execution_count": 24,
      "outputs": [
        {
          "output_type": "execute_result",
          "data": {
            "text/html": [
              "\n",
              "  <div id=\"df-e4cc03b1-83ea-40b3-9ae3-fd7ba59f399b\">\n",
              "    <div class=\"colab-df-container\">\n",
              "      <div>\n",
              "<style scoped>\n",
              "    .dataframe tbody tr th:only-of-type {\n",
              "        vertical-align: middle;\n",
              "    }\n",
              "\n",
              "    .dataframe tbody tr th {\n",
              "        vertical-align: top;\n",
              "    }\n",
              "\n",
              "    .dataframe thead th {\n",
              "        text-align: right;\n",
              "    }\n",
              "</style>\n",
              "<table border=\"1\" class=\"dataframe\">\n",
              "  <thead>\n",
              "    <tr style=\"text-align: right;\">\n",
              "      <th></th>\n",
              "      <th>mean_fit_time</th>\n",
              "      <th>std_fit_time</th>\n",
              "      <th>mean_score_time</th>\n",
              "      <th>std_score_time</th>\n",
              "      <th>param_max_depth</th>\n",
              "      <th>params</th>\n",
              "      <th>split0_test_score</th>\n",
              "      <th>split1_test_score</th>\n",
              "      <th>split2_test_score</th>\n",
              "      <th>split3_test_score</th>\n",
              "      <th>split4_test_score</th>\n",
              "      <th>mean_test_score</th>\n",
              "      <th>std_test_score</th>\n",
              "      <th>rank_test_score</th>\n",
              "      <th>split0_train_score</th>\n",
              "      <th>split1_train_score</th>\n",
              "      <th>split2_train_score</th>\n",
              "      <th>split3_train_score</th>\n",
              "      <th>split4_train_score</th>\n",
              "      <th>mean_train_score</th>\n",
              "      <th>std_train_score</th>\n",
              "    </tr>\n",
              "  </thead>\n",
              "  <tbody>\n",
              "    <tr>\n",
              "      <th>0</th>\n",
              "      <td>0.953433</td>\n",
              "      <td>0.012311</td>\n",
              "      <td>0.036387</td>\n",
              "      <td>0.002121</td>\n",
              "      <td>2</td>\n",
              "      <td>{'max_depth': 2}</td>\n",
              "      <td>0.803095</td>\n",
              "      <td>0.803095</td>\n",
              "      <td>0.800476</td>\n",
              "      <td>0.796905</td>\n",
              "      <td>0.800952</td>\n",
              "      <td>0.800905</td>\n",
              "      <td>0.002271</td>\n",
              "      <td>4</td>\n",
              "      <td>0.801190</td>\n",
              "      <td>0.799464</td>\n",
              "      <td>0.801667</td>\n",
              "      <td>0.803333</td>\n",
              "      <td>0.801786</td>\n",
              "      <td>0.801488</td>\n",
              "      <td>0.001242</td>\n",
              "    </tr>\n",
              "    <tr>\n",
              "      <th>1</th>\n",
              "      <td>2.377159</td>\n",
              "      <td>0.012657</td>\n",
              "      <td>0.052193</td>\n",
              "      <td>0.003207</td>\n",
              "      <td>7</td>\n",
              "      <td>{'max_depth': 7}</td>\n",
              "      <td>0.815238</td>\n",
              "      <td>0.819762</td>\n",
              "      <td>0.818095</td>\n",
              "      <td>0.817857</td>\n",
              "      <td>0.817381</td>\n",
              "      <td>0.817667</td>\n",
              "      <td>0.001455</td>\n",
              "      <td>1</td>\n",
              "      <td>0.831012</td>\n",
              "      <td>0.831071</td>\n",
              "      <td>0.831548</td>\n",
              "      <td>0.833333</td>\n",
              "      <td>0.834107</td>\n",
              "      <td>0.832214</td>\n",
              "      <td>0.001267</td>\n",
              "    </tr>\n",
              "    <tr>\n",
              "      <th>2</th>\n",
              "      <td>3.635717</td>\n",
              "      <td>0.004334</td>\n",
              "      <td>0.075070</td>\n",
              "      <td>0.002779</td>\n",
              "      <td>12</td>\n",
              "      <td>{'max_depth': 12}</td>\n",
              "      <td>0.813095</td>\n",
              "      <td>0.819286</td>\n",
              "      <td>0.820476</td>\n",
              "      <td>0.814286</td>\n",
              "      <td>0.817381</td>\n",
              "      <td>0.816905</td>\n",
              "      <td>0.002829</td>\n",
              "      <td>2</td>\n",
              "      <td>0.883929</td>\n",
              "      <td>0.886012</td>\n",
              "      <td>0.884345</td>\n",
              "      <td>0.887560</td>\n",
              "      <td>0.885298</td>\n",
              "      <td>0.885429</td>\n",
              "      <td>0.001290</td>\n",
              "    </tr>\n",
              "    <tr>\n",
              "      <th>3</th>\n",
              "      <td>4.576171</td>\n",
              "      <td>0.017017</td>\n",
              "      <td>0.094392</td>\n",
              "      <td>0.001030</td>\n",
              "      <td>17</td>\n",
              "      <td>{'max_depth': 17}</td>\n",
              "      <td>0.812143</td>\n",
              "      <td>0.815952</td>\n",
              "      <td>0.820000</td>\n",
              "      <td>0.808571</td>\n",
              "      <td>0.819286</td>\n",
              "      <td>0.815190</td>\n",
              "      <td>0.004326</td>\n",
              "      <td>3</td>\n",
              "      <td>0.926845</td>\n",
              "      <td>0.930536</td>\n",
              "      <td>0.931548</td>\n",
              "      <td>0.929524</td>\n",
              "      <td>0.927857</td>\n",
              "      <td>0.929262</td>\n",
              "      <td>0.001716</td>\n",
              "    </tr>\n",
              "  </tbody>\n",
              "</table>\n",
              "</div>\n",
              "      <button class=\"colab-df-convert\" onclick=\"convertToInteractive('df-e4cc03b1-83ea-40b3-9ae3-fd7ba59f399b')\"\n",
              "              title=\"Convert this dataframe to an interactive table.\"\n",
              "              style=\"display:none;\">\n",
              "        \n",
              "  <svg xmlns=\"http://www.w3.org/2000/svg\" height=\"24px\"viewBox=\"0 0 24 24\"\n",
              "       width=\"24px\">\n",
              "    <path d=\"M0 0h24v24H0V0z\" fill=\"none\"/>\n",
              "    <path d=\"M18.56 5.44l.94 2.06.94-2.06 2.06-.94-2.06-.94-.94-2.06-.94 2.06-2.06.94zm-11 1L8.5 8.5l.94-2.06 2.06-.94-2.06-.94L8.5 2.5l-.94 2.06-2.06.94zm10 10l.94 2.06.94-2.06 2.06-.94-2.06-.94-.94-2.06-.94 2.06-2.06.94z\"/><path d=\"M17.41 7.96l-1.37-1.37c-.4-.4-.92-.59-1.43-.59-.52 0-1.04.2-1.43.59L10.3 9.45l-7.72 7.72c-.78.78-.78 2.05 0 2.83L4 21.41c.39.39.9.59 1.41.59.51 0 1.02-.2 1.41-.59l7.78-7.78 2.81-2.81c.8-.78.8-2.07 0-2.86zM5.41 20L4 18.59l7.72-7.72 1.47 1.35L5.41 20z\"/>\n",
              "  </svg>\n",
              "      </button>\n",
              "      \n",
              "  <style>\n",
              "    .colab-df-container {\n",
              "      display:flex;\n",
              "      flex-wrap:wrap;\n",
              "      gap: 12px;\n",
              "    }\n",
              "\n",
              "    .colab-df-convert {\n",
              "      background-color: #E8F0FE;\n",
              "      border: none;\n",
              "      border-radius: 50%;\n",
              "      cursor: pointer;\n",
              "      display: none;\n",
              "      fill: #1967D2;\n",
              "      height: 32px;\n",
              "      padding: 0 0 0 0;\n",
              "      width: 32px;\n",
              "    }\n",
              "\n",
              "    .colab-df-convert:hover {\n",
              "      background-color: #E2EBFA;\n",
              "      box-shadow: 0px 1px 2px rgba(60, 64, 67, 0.3), 0px 1px 3px 1px rgba(60, 64, 67, 0.15);\n",
              "      fill: #174EA6;\n",
              "    }\n",
              "\n",
              "    [theme=dark] .colab-df-convert {\n",
              "      background-color: #3B4455;\n",
              "      fill: #D2E3FC;\n",
              "    }\n",
              "\n",
              "    [theme=dark] .colab-df-convert:hover {\n",
              "      background-color: #434B5C;\n",
              "      box-shadow: 0px 1px 3px 1px rgba(0, 0, 0, 0.15);\n",
              "      filter: drop-shadow(0px 1px 2px rgba(0, 0, 0, 0.3));\n",
              "      fill: #FFFFFF;\n",
              "    }\n",
              "  </style>\n",
              "\n",
              "      <script>\n",
              "        const buttonEl =\n",
              "          document.querySelector('#df-e4cc03b1-83ea-40b3-9ae3-fd7ba59f399b button.colab-df-convert');\n",
              "        buttonEl.style.display =\n",
              "          google.colab.kernel.accessAllowed ? 'block' : 'none';\n",
              "\n",
              "        async function convertToInteractive(key) {\n",
              "          const element = document.querySelector('#df-e4cc03b1-83ea-40b3-9ae3-fd7ba59f399b');\n",
              "          const dataTable =\n",
              "            await google.colab.kernel.invokeFunction('convertToInteractive',\n",
              "                                                     [key], {});\n",
              "          if (!dataTable) return;\n",
              "\n",
              "          const docLinkHtml = 'Like what you see? Visit the ' +\n",
              "            '<a target=\"_blank\" href=https://colab.research.google.com/notebooks/data_table.ipynb>data table notebook</a>'\n",
              "            + ' to learn more about interactive tables.';\n",
              "          element.innerHTML = '';\n",
              "          dataTable['output_type'] = 'display_data';\n",
              "          await google.colab.output.renderOutput(dataTable, element);\n",
              "          const docLink = document.createElement('div');\n",
              "          docLink.innerHTML = docLinkHtml;\n",
              "          element.appendChild(docLink);\n",
              "        }\n",
              "      </script>\n",
              "    </div>\n",
              "  </div>\n",
              "  "
            ],
            "text/plain": [
              "   mean_fit_time  std_fit_time  ...  mean_train_score  std_train_score\n",
              "0       0.953433      0.012311  ...          0.801488         0.001242\n",
              "1       2.377159      0.012657  ...          0.832214         0.001267\n",
              "2       3.635717      0.004334  ...          0.885429         0.001290\n",
              "3       4.576171      0.017017  ...          0.929262         0.001716\n",
              "\n",
              "[4 rows x 21 columns]"
            ]
          },
          "metadata": {},
          "execution_count": 24
        }
      ]
    },
    {
      "cell_type": "code",
      "metadata": {
        "id": "djm3jE7BYVUi",
        "outputId": "7e4c5966-007b-4b95-b8a0-146361256d1d",
        "colab": {
          "base_uri": "https://localhost:8080/",
          "height": 252
        }
      },
      "source": [
        "# plotting accuracies with n_estimators\n",
        "plt.figure()\n",
        "plt.plot(scores[\"param_n_estimators\"], scores[\"mean_train_score\"], label=\"training accuracy\")\n",
        "plt.plot(scores[\"param_n_estimators\"], scores[\"mean_test_score\"], label=\"test accuracy\")\n",
        "plt.xlabel(\"n_estimators\")\n",
        "plt.ylabel(\"Accuracy\")\n",
        "plt.legend()\n",
        "plt.show()"
      ],
      "execution_count": 28,
      "outputs": [
        {
          "output_type": "error",
          "ename": "KeyError",
          "evalue": "ignored",
          "traceback": [
            "\u001b[0;31m---------------------------------------------------------------------------\u001b[0m",
            "\u001b[0;31mKeyError\u001b[0m                                  Traceback (most recent call last)",
            "\u001b[0;32m<ipython-input-28-6d4a2fb9f870>\u001b[0m in \u001b[0;36m<module>\u001b[0;34m()\u001b[0m\n\u001b[1;32m      1\u001b[0m \u001b[0;31m# plotting accuracies with n_estimators\u001b[0m\u001b[0;34m\u001b[0m\u001b[0;34m\u001b[0m\u001b[0;34m\u001b[0m\u001b[0m\n\u001b[1;32m      2\u001b[0m \u001b[0mplt\u001b[0m\u001b[0;34m.\u001b[0m\u001b[0mfigure\u001b[0m\u001b[0;34m(\u001b[0m\u001b[0;34m)\u001b[0m\u001b[0;34m\u001b[0m\u001b[0;34m\u001b[0m\u001b[0m\n\u001b[0;32m----> 3\u001b[0;31m \u001b[0mplt\u001b[0m\u001b[0;34m.\u001b[0m\u001b[0mplot\u001b[0m\u001b[0;34m(\u001b[0m\u001b[0mscores\u001b[0m\u001b[0;34m[\u001b[0m\u001b[0;34m\"param_n_estimators\"\u001b[0m\u001b[0;34m]\u001b[0m\u001b[0;34m,\u001b[0m \u001b[0mscores\u001b[0m\u001b[0;34m[\u001b[0m\u001b[0;34m\"mean_train_score\"\u001b[0m\u001b[0;34m]\u001b[0m\u001b[0;34m,\u001b[0m \u001b[0mlabel\u001b[0m\u001b[0;34m=\u001b[0m\u001b[0;34m\"training accuracy\"\u001b[0m\u001b[0;34m)\u001b[0m\u001b[0;34m\u001b[0m\u001b[0;34m\u001b[0m\u001b[0m\n\u001b[0m\u001b[1;32m      4\u001b[0m \u001b[0mplt\u001b[0m\u001b[0;34m.\u001b[0m\u001b[0mplot\u001b[0m\u001b[0;34m(\u001b[0m\u001b[0mscores\u001b[0m\u001b[0;34m[\u001b[0m\u001b[0;34m\"param_n_estimators\"\u001b[0m\u001b[0;34m]\u001b[0m\u001b[0;34m,\u001b[0m \u001b[0mscores\u001b[0m\u001b[0;34m[\u001b[0m\u001b[0;34m\"mean_test_score\"\u001b[0m\u001b[0;34m]\u001b[0m\u001b[0;34m,\u001b[0m \u001b[0mlabel\u001b[0m\u001b[0;34m=\u001b[0m\u001b[0;34m\"test accuracy\"\u001b[0m\u001b[0;34m)\u001b[0m\u001b[0;34m\u001b[0m\u001b[0;34m\u001b[0m\u001b[0m\n\u001b[1;32m      5\u001b[0m \u001b[0mplt\u001b[0m\u001b[0;34m.\u001b[0m\u001b[0mxlabel\u001b[0m\u001b[0;34m(\u001b[0m\u001b[0;34m\"n_estimators\"\u001b[0m\u001b[0;34m)\u001b[0m\u001b[0;34m\u001b[0m\u001b[0;34m\u001b[0m\u001b[0m\n",
            "\u001b[0;31mKeyError\u001b[0m: 'param_n_estimators'"
          ]
        },
        {
          "output_type": "display_data",
          "data": {
            "text/plain": [
              "<Figure size 432x288 with 0 Axes>"
            ]
          },
          "metadata": {}
        }
      ]
    },
    {
      "cell_type": "markdown",
      "metadata": {
        "id": "4Xsq-xGaYVUj"
      },
      "source": [
        "### Tuning max_features\n",
        "\n",
        "Let's see how the model performance varies with ```max_features```, which is the maximum numbre of features considered for splitting at a node."
      ]
    },
    {
      "cell_type": "code",
      "metadata": {
        "id": "vseRtWiUYVUj",
        "outputId": "ee541e5b-6563-44d5-d44f-47a4b6ef1336",
        "colab": {
          "base_uri": "https://localhost:8080/"
        }
      },
      "source": [
        "# parameters to build the model on max_features with [4, 8, 14, 20, 24]\n",
        "parameters = {'max_features' : [4, 8, 14, 20, 24]}\n",
        "\n",
        "# instantiate the model (note we are specifying a max_depth as 4)\n",
        "rf = RandomForestClassifier(max_depth=4, random_state=1)\n",
        "\n",
        "# Instantiate GridSearchCVwith rf, parameter, cv and scoring as accuracy and return_train_score as True\n",
        "rf = GridSearchCV(rf, parameters, cv=n_folds, scoring='accuracy', return_train_score=True)\n",
        "\n",
        "# fit tree on training data\n",
        "rf.fit(X_train, y_train)"
      ],
      "execution_count": 29,
      "outputs": [
        {
          "output_type": "execute_result",
          "data": {
            "text/plain": [
              "GridSearchCV(cv=5,\n",
              "             estimator=RandomForestClassifier(max_depth=4, random_state=1),\n",
              "             param_grid={'max_features': [4, 8, 14, 20, 24]},\n",
              "             return_train_score=True, scoring='accuracy')"
            ]
          },
          "metadata": {},
          "execution_count": 29
        }
      ]
    },
    {
      "cell_type": "code",
      "metadata": {
        "id": "56D2YcR6YVUj",
        "outputId": "effcc910-bf13-40d4-c6d7-b6bc1fc50c11",
        "colab": {
          "base_uri": "https://localhost:8080/",
          "height": 357
        }
      },
      "source": [
        "# scores of GridSearch CV\n",
        "scores = rf.cv_results_\n",
        "pd.DataFrame(scores).head()"
      ],
      "execution_count": 30,
      "outputs": [
        {
          "output_type": "execute_result",
          "data": {
            "text/html": [
              "\n",
              "  <div id=\"df-447df5aa-ac21-4b42-b6b2-39fa497e2287\">\n",
              "    <div class=\"colab-df-container\">\n",
              "      <div>\n",
              "<style scoped>\n",
              "    .dataframe tbody tr th:only-of-type {\n",
              "        vertical-align: middle;\n",
              "    }\n",
              "\n",
              "    .dataframe tbody tr th {\n",
              "        vertical-align: top;\n",
              "    }\n",
              "\n",
              "    .dataframe thead th {\n",
              "        text-align: right;\n",
              "    }\n",
              "</style>\n",
              "<table border=\"1\" class=\"dataframe\">\n",
              "  <thead>\n",
              "    <tr style=\"text-align: right;\">\n",
              "      <th></th>\n",
              "      <th>mean_fit_time</th>\n",
              "      <th>std_fit_time</th>\n",
              "      <th>mean_score_time</th>\n",
              "      <th>std_score_time</th>\n",
              "      <th>param_max_features</th>\n",
              "      <th>params</th>\n",
              "      <th>split0_test_score</th>\n",
              "      <th>split1_test_score</th>\n",
              "      <th>split2_test_score</th>\n",
              "      <th>split3_test_score</th>\n",
              "      <th>split4_test_score</th>\n",
              "      <th>mean_test_score</th>\n",
              "      <th>std_test_score</th>\n",
              "      <th>rank_test_score</th>\n",
              "      <th>split0_train_score</th>\n",
              "      <th>split1_train_score</th>\n",
              "      <th>split2_train_score</th>\n",
              "      <th>split3_train_score</th>\n",
              "      <th>split4_train_score</th>\n",
              "      <th>mean_train_score</th>\n",
              "      <th>std_train_score</th>\n",
              "    </tr>\n",
              "  </thead>\n",
              "  <tbody>\n",
              "    <tr>\n",
              "      <th>0</th>\n",
              "      <td>1.561117</td>\n",
              "      <td>0.021062</td>\n",
              "      <td>0.043706</td>\n",
              "      <td>0.004973</td>\n",
              "      <td>4</td>\n",
              "      <td>{'max_features': 4}</td>\n",
              "      <td>0.812143</td>\n",
              "      <td>0.813333</td>\n",
              "      <td>0.812619</td>\n",
              "      <td>0.805000</td>\n",
              "      <td>0.810000</td>\n",
              "      <td>0.810619</td>\n",
              "      <td>0.003021</td>\n",
              "      <td>5</td>\n",
              "      <td>0.811131</td>\n",
              "      <td>0.809643</td>\n",
              "      <td>0.812976</td>\n",
              "      <td>0.813214</td>\n",
              "      <td>0.813631</td>\n",
              "      <td>0.812119</td>\n",
              "      <td>0.001505</td>\n",
              "    </tr>\n",
              "    <tr>\n",
              "      <th>1</th>\n",
              "      <td>2.637044</td>\n",
              "      <td>0.012244</td>\n",
              "      <td>0.040768</td>\n",
              "      <td>0.001110</td>\n",
              "      <td>8</td>\n",
              "      <td>{'max_features': 8}</td>\n",
              "      <td>0.817619</td>\n",
              "      <td>0.820952</td>\n",
              "      <td>0.820000</td>\n",
              "      <td>0.817381</td>\n",
              "      <td>0.818571</td>\n",
              "      <td>0.818905</td>\n",
              "      <td>0.001377</td>\n",
              "      <td>1</td>\n",
              "      <td>0.821369</td>\n",
              "      <td>0.820179</td>\n",
              "      <td>0.821726</td>\n",
              "      <td>0.821369</td>\n",
              "      <td>0.821131</td>\n",
              "      <td>0.821155</td>\n",
              "      <td>0.000524</td>\n",
              "    </tr>\n",
              "    <tr>\n",
              "      <th>2</th>\n",
              "      <td>4.375568</td>\n",
              "      <td>0.035240</td>\n",
              "      <td>0.043429</td>\n",
              "      <td>0.003451</td>\n",
              "      <td>14</td>\n",
              "      <td>{'max_features': 14}</td>\n",
              "      <td>0.817619</td>\n",
              "      <td>0.821429</td>\n",
              "      <td>0.817857</td>\n",
              "      <td>0.816429</td>\n",
              "      <td>0.819524</td>\n",
              "      <td>0.818571</td>\n",
              "      <td>0.001737</td>\n",
              "      <td>4</td>\n",
              "      <td>0.822321</td>\n",
              "      <td>0.820952</td>\n",
              "      <td>0.821726</td>\n",
              "      <td>0.822321</td>\n",
              "      <td>0.821310</td>\n",
              "      <td>0.821726</td>\n",
              "      <td>0.000544</td>\n",
              "    </tr>\n",
              "    <tr>\n",
              "      <th>3</th>\n",
              "      <td>6.261281</td>\n",
              "      <td>0.106935</td>\n",
              "      <td>0.041820</td>\n",
              "      <td>0.002078</td>\n",
              "      <td>20</td>\n",
              "      <td>{'max_features': 20}</td>\n",
              "      <td>0.817619</td>\n",
              "      <td>0.821905</td>\n",
              "      <td>0.819762</td>\n",
              "      <td>0.815476</td>\n",
              "      <td>0.818333</td>\n",
              "      <td>0.818619</td>\n",
              "      <td>0.002148</td>\n",
              "      <td>3</td>\n",
              "      <td>0.822262</td>\n",
              "      <td>0.820774</td>\n",
              "      <td>0.821369</td>\n",
              "      <td>0.822798</td>\n",
              "      <td>0.821964</td>\n",
              "      <td>0.821833</td>\n",
              "      <td>0.000703</td>\n",
              "    </tr>\n",
              "    <tr>\n",
              "      <th>4</th>\n",
              "      <td>7.459976</td>\n",
              "      <td>0.036784</td>\n",
              "      <td>0.043393</td>\n",
              "      <td>0.001948</td>\n",
              "      <td>24</td>\n",
              "      <td>{'max_features': 24}</td>\n",
              "      <td>0.818095</td>\n",
              "      <td>0.821667</td>\n",
              "      <td>0.819762</td>\n",
              "      <td>0.815000</td>\n",
              "      <td>0.818810</td>\n",
              "      <td>0.818667</td>\n",
              "      <td>0.002190</td>\n",
              "      <td>2</td>\n",
              "      <td>0.822976</td>\n",
              "      <td>0.821250</td>\n",
              "      <td>0.821726</td>\n",
              "      <td>0.823214</td>\n",
              "      <td>0.822976</td>\n",
              "      <td>0.822429</td>\n",
              "      <td>0.000787</td>\n",
              "    </tr>\n",
              "  </tbody>\n",
              "</table>\n",
              "</div>\n",
              "      <button class=\"colab-df-convert\" onclick=\"convertToInteractive('df-447df5aa-ac21-4b42-b6b2-39fa497e2287')\"\n",
              "              title=\"Convert this dataframe to an interactive table.\"\n",
              "              style=\"display:none;\">\n",
              "        \n",
              "  <svg xmlns=\"http://www.w3.org/2000/svg\" height=\"24px\"viewBox=\"0 0 24 24\"\n",
              "       width=\"24px\">\n",
              "    <path d=\"M0 0h24v24H0V0z\" fill=\"none\"/>\n",
              "    <path d=\"M18.56 5.44l.94 2.06.94-2.06 2.06-.94-2.06-.94-.94-2.06-.94 2.06-2.06.94zm-11 1L8.5 8.5l.94-2.06 2.06-.94-2.06-.94L8.5 2.5l-.94 2.06-2.06.94zm10 10l.94 2.06.94-2.06 2.06-.94-2.06-.94-.94-2.06-.94 2.06-2.06.94z\"/><path d=\"M17.41 7.96l-1.37-1.37c-.4-.4-.92-.59-1.43-.59-.52 0-1.04.2-1.43.59L10.3 9.45l-7.72 7.72c-.78.78-.78 2.05 0 2.83L4 21.41c.39.39.9.59 1.41.59.51 0 1.02-.2 1.41-.59l7.78-7.78 2.81-2.81c.8-.78.8-2.07 0-2.86zM5.41 20L4 18.59l7.72-7.72 1.47 1.35L5.41 20z\"/>\n",
              "  </svg>\n",
              "      </button>\n",
              "      \n",
              "  <style>\n",
              "    .colab-df-container {\n",
              "      display:flex;\n",
              "      flex-wrap:wrap;\n",
              "      gap: 12px;\n",
              "    }\n",
              "\n",
              "    .colab-df-convert {\n",
              "      background-color: #E8F0FE;\n",
              "      border: none;\n",
              "      border-radius: 50%;\n",
              "      cursor: pointer;\n",
              "      display: none;\n",
              "      fill: #1967D2;\n",
              "      height: 32px;\n",
              "      padding: 0 0 0 0;\n",
              "      width: 32px;\n",
              "    }\n",
              "\n",
              "    .colab-df-convert:hover {\n",
              "      background-color: #E2EBFA;\n",
              "      box-shadow: 0px 1px 2px rgba(60, 64, 67, 0.3), 0px 1px 3px 1px rgba(60, 64, 67, 0.15);\n",
              "      fill: #174EA6;\n",
              "    }\n",
              "\n",
              "    [theme=dark] .colab-df-convert {\n",
              "      background-color: #3B4455;\n",
              "      fill: #D2E3FC;\n",
              "    }\n",
              "\n",
              "    [theme=dark] .colab-df-convert:hover {\n",
              "      background-color: #434B5C;\n",
              "      box-shadow: 0px 1px 3px 1px rgba(0, 0, 0, 0.15);\n",
              "      filter: drop-shadow(0px 1px 2px rgba(0, 0, 0, 0.3));\n",
              "      fill: #FFFFFF;\n",
              "    }\n",
              "  </style>\n",
              "\n",
              "      <script>\n",
              "        const buttonEl =\n",
              "          document.querySelector('#df-447df5aa-ac21-4b42-b6b2-39fa497e2287 button.colab-df-convert');\n",
              "        buttonEl.style.display =\n",
              "          google.colab.kernel.accessAllowed ? 'block' : 'none';\n",
              "\n",
              "        async function convertToInteractive(key) {\n",
              "          const element = document.querySelector('#df-447df5aa-ac21-4b42-b6b2-39fa497e2287');\n",
              "          const dataTable =\n",
              "            await google.colab.kernel.invokeFunction('convertToInteractive',\n",
              "                                                     [key], {});\n",
              "          if (!dataTable) return;\n",
              "\n",
              "          const docLinkHtml = 'Like what you see? Visit the ' +\n",
              "            '<a target=\"_blank\" href=https://colab.research.google.com/notebooks/data_table.ipynb>data table notebook</a>'\n",
              "            + ' to learn more about interactive tables.';\n",
              "          element.innerHTML = '';\n",
              "          dataTable['output_type'] = 'display_data';\n",
              "          await google.colab.output.renderOutput(dataTable, element);\n",
              "          const docLink = document.createElement('div');\n",
              "          docLink.innerHTML = docLinkHtml;\n",
              "          element.appendChild(docLink);\n",
              "        }\n",
              "      </script>\n",
              "    </div>\n",
              "  </div>\n",
              "  "
            ],
            "text/plain": [
              "   mean_fit_time  std_fit_time  ...  mean_train_score  std_train_score\n",
              "0       1.561117      0.021062  ...          0.812119         0.001505\n",
              "1       2.637044      0.012244  ...          0.821155         0.000524\n",
              "2       4.375568      0.035240  ...          0.821726         0.000544\n",
              "3       6.261281      0.106935  ...          0.821833         0.000703\n",
              "4       7.459976      0.036784  ...          0.822429         0.000787\n",
              "\n",
              "[5 rows x 21 columns]"
            ]
          },
          "metadata": {},
          "execution_count": 30
        }
      ]
    },
    {
      "cell_type": "code",
      "metadata": {
        "id": "gED0pNplYVUk",
        "outputId": "4cfc0628-3ad0-47d0-cebe-a52ff185feb0",
        "colab": {
          "base_uri": "https://localhost:8080/",
          "height": 280
        }
      },
      "source": [
        "# plotting accuracies with max_features\n",
        "plt.figure()\n",
        "plt.plot(scores[\"param_max_features\"], scores[\"mean_train_score\"], label=\"training accuracy\")\n",
        "plt.plot(scores[\"param_max_features\"], scores[\"mean_test_score\"], label=\"test accuracy\")\n",
        "plt.xlabel(\"max_features\")\n",
        "plt.ylabel(\"Accuracy\")\n",
        "plt.legend()\n",
        "plt.show()"
      ],
      "execution_count": 31,
      "outputs": [
        {
          "output_type": "display_data",
          "data": {
            "image/png": "[encoded data removed]",
            "text/plain": [
              "<Figure size 432x288 with 1 Axes>"
            ]
          },
          "metadata": {
            "needs_background": "light"
          }
        }
      ]
    },
    {
      "cell_type": "markdown",
      "metadata": {
        "id": "Xmn_kOMgYVUk"
      },
      "source": [
        "Apparently, the training and test scores *both* seem to increase as we increase max_features, and the model doesn't seem to overfit more with increasing max_features. Think about why that might be the case.\n",
        "\n",
        "### Tuning min_samples_leaf\n",
        "\n",
        "The hyperparameter **min_samples_leaf** is the minimum number of samples required to be at a leaf node:\n",
        "- If int, then consider min_samples_leaf as the minimum number.\n",
        "- If float, then min_samples_leaf is a percentage and ceil(min_samples_leaf * n_samples) are the minimum number of samples for each node.\n",
        "\n",
        "Let's now check the optimum value for min samples leaf in our case."
      ]
    },
    {
      "cell_type": "code",
      "metadata": {
        "id": "FJCBNqnDYVUl",
        "outputId": "ad739d2b-85f4-49bd-d752-936feb654384",
        "colab": {
          "base_uri": "https://localhost:8080/"
        }
      },
      "source": [
        "# parameters to build the model on min_samples_leaf of range(100, 400, 50)\n",
        "parameters = {'min_samples_leaf' : range(100, 400, 50)}\n",
        "\n",
        "# instantiate the model (not specifying any max_depth)\n",
        "rf = RandomForestClassifier(random_state=1)\n",
        "\n",
        "# Instantiate GridSearchCVwith rf, parameter, cv and scoring as accuracy and return_train_score as True\n",
        "rf = GridSearchCV(rf, parameters, cv=n_folds, scoring='accuracy', return_train_score=True)\n",
        "\n",
        "# fit tree on training data\n",
        "rf.fit(X_train, y_train)"
      ],
      "execution_count": 32,
      "outputs": [
        {
          "output_type": "execute_result",
          "data": {
            "text/plain": [
              "GridSearchCV(cv=5, estimator=RandomForestClassifier(random_state=1),\n",
              "             param_grid={'min_samples_leaf': range(100, 400, 50)},\n",
              "             return_train_score=True, scoring='accuracy')"
            ]
          },
          "metadata": {},
          "execution_count": 32
        }
      ]
    },
    {
      "cell_type": "code",
      "metadata": {
        "id": "te9WFounYVUl",
        "outputId": "f3da583d-18bb-4fa1-9555-abac11192259",
        "colab": {
          "base_uri": "https://localhost:8080/",
          "height": 357
        }
      },
      "source": [
        "# scores of GridSearch CV\n",
        "scores = rf.cv_results_\n",
        "pd.DataFrame(scores).head()"
      ],
      "execution_count": 33,
      "outputs": [
        {
          "output_type": "execute_result",
          "data": {
            "text/html": [
              "\n",
              "  <div id=\"df-5e1f32d5-ff69-4553-a6d0-4c38c86ac403\">\n",
              "    <div class=\"colab-df-container\">\n",
              "      <div>\n",
              "<style scoped>\n",
              "    .dataframe tbody tr th:only-of-type {\n",
              "        vertical-align: middle;\n",
              "    }\n",
              "\n",
              "    .dataframe tbody tr th {\n",
              "        vertical-align: top;\n",
              "    }\n",
              "\n",
              "    .dataframe thead th {\n",
              "        text-align: right;\n",
              "    }\n",
              "</style>\n",
              "<table border=\"1\" class=\"dataframe\">\n",
              "  <thead>\n",
              "    <tr style=\"text-align: right;\">\n",
              "      <th></th>\n",
              "      <th>mean_fit_time</th>\n",
              "      <th>std_fit_time</th>\n",
              "      <th>mean_score_time</th>\n",
              "      <th>std_score_time</th>\n",
              "      <th>param_min_samples_leaf</th>\n",
              "      <th>params</th>\n",
              "      <th>split0_test_score</th>\n",
              "      <th>split1_test_score</th>\n",
              "      <th>split2_test_score</th>\n",
              "      <th>split3_test_score</th>\n",
              "      <th>split4_test_score</th>\n",
              "      <th>mean_test_score</th>\n",
              "      <th>std_test_score</th>\n",
              "      <th>rank_test_score</th>\n",
              "      <th>split0_train_score</th>\n",
              "      <th>split1_train_score</th>\n",
              "      <th>split2_train_score</th>\n",
              "      <th>split3_train_score</th>\n",
              "      <th>split4_train_score</th>\n",
              "      <th>mean_train_score</th>\n",
              "      <th>std_train_score</th>\n",
              "    </tr>\n",
              "  </thead>\n",
              "  <tbody>\n",
              "    <tr>\n",
              "      <th>0</th>\n",
              "      <td>2.953903</td>\n",
              "      <td>0.048069</td>\n",
              "      <td>0.065049</td>\n",
              "      <td>0.002536</td>\n",
              "      <td>100</td>\n",
              "      <td>{'min_samples_leaf': 100}</td>\n",
              "      <td>0.815238</td>\n",
              "      <td>0.817857</td>\n",
              "      <td>0.815238</td>\n",
              "      <td>0.811667</td>\n",
              "      <td>0.811429</td>\n",
              "      <td>0.814286</td>\n",
              "      <td>0.002433</td>\n",
              "      <td>1</td>\n",
              "      <td>0.817679</td>\n",
              "      <td>0.816012</td>\n",
              "      <td>0.816964</td>\n",
              "      <td>0.817619</td>\n",
              "      <td>0.818333</td>\n",
              "      <td>0.817321</td>\n",
              "      <td>0.000785</td>\n",
              "    </tr>\n",
              "    <tr>\n",
              "      <th>1</th>\n",
              "      <td>2.652404</td>\n",
              "      <td>0.065351</td>\n",
              "      <td>0.059417</td>\n",
              "      <td>0.001336</td>\n",
              "      <td>150</td>\n",
              "      <td>{'min_samples_leaf': 150}</td>\n",
              "      <td>0.812381</td>\n",
              "      <td>0.814524</td>\n",
              "      <td>0.812381</td>\n",
              "      <td>0.808095</td>\n",
              "      <td>0.808095</td>\n",
              "      <td>0.811095</td>\n",
              "      <td>0.002571</td>\n",
              "      <td>2</td>\n",
              "      <td>0.810952</td>\n",
              "      <td>0.812262</td>\n",
              "      <td>0.812500</td>\n",
              "      <td>0.814702</td>\n",
              "      <td>0.812560</td>\n",
              "      <td>0.812595</td>\n",
              "      <td>0.001205</td>\n",
              "    </tr>\n",
              "    <tr>\n",
              "      <th>2</th>\n",
              "      <td>2.460372</td>\n",
              "      <td>0.045524</td>\n",
              "      <td>0.057794</td>\n",
              "      <td>0.002064</td>\n",
              "      <td>200</td>\n",
              "      <td>{'min_samples_leaf': 200}</td>\n",
              "      <td>0.810952</td>\n",
              "      <td>0.811429</td>\n",
              "      <td>0.811190</td>\n",
              "      <td>0.805476</td>\n",
              "      <td>0.808095</td>\n",
              "      <td>0.809429</td>\n",
              "      <td>0.002316</td>\n",
              "      <td>3</td>\n",
              "      <td>0.808810</td>\n",
              "      <td>0.809821</td>\n",
              "      <td>0.809583</td>\n",
              "      <td>0.811131</td>\n",
              "      <td>0.811845</td>\n",
              "      <td>0.810238</td>\n",
              "      <td>0.001098</td>\n",
              "    </tr>\n",
              "    <tr>\n",
              "      <th>3</th>\n",
              "      <td>2.319486</td>\n",
              "      <td>0.016801</td>\n",
              "      <td>0.055078</td>\n",
              "      <td>0.001134</td>\n",
              "      <td>250</td>\n",
              "      <td>{'min_samples_leaf': 250}</td>\n",
              "      <td>0.810952</td>\n",
              "      <td>0.811429</td>\n",
              "      <td>0.809762</td>\n",
              "      <td>0.803571</td>\n",
              "      <td>0.806905</td>\n",
              "      <td>0.808524</td>\n",
              "      <td>0.002933</td>\n",
              "      <td>4</td>\n",
              "      <td>0.808631</td>\n",
              "      <td>0.808155</td>\n",
              "      <td>0.810298</td>\n",
              "      <td>0.810298</td>\n",
              "      <td>0.810714</td>\n",
              "      <td>0.809619</td>\n",
              "      <td>0.001024</td>\n",
              "    </tr>\n",
              "    <tr>\n",
              "      <th>4</th>\n",
              "      <td>2.184826</td>\n",
              "      <td>0.013825</td>\n",
              "      <td>0.054618</td>\n",
              "      <td>0.002716</td>\n",
              "      <td>300</td>\n",
              "      <td>{'min_samples_leaf': 300}</td>\n",
              "      <td>0.809286</td>\n",
              "      <td>0.809524</td>\n",
              "      <td>0.808810</td>\n",
              "      <td>0.804762</td>\n",
              "      <td>0.805000</td>\n",
              "      <td>0.807476</td>\n",
              "      <td>0.002133</td>\n",
              "      <td>5</td>\n",
              "      <td>0.807798</td>\n",
              "      <td>0.806429</td>\n",
              "      <td>0.808750</td>\n",
              "      <td>0.808988</td>\n",
              "      <td>0.808869</td>\n",
              "      <td>0.808167</td>\n",
              "      <td>0.000966</td>\n",
              "    </tr>\n",
              "  </tbody>\n",
              "</table>\n",
              "</div>\n",
              "      <button class=\"colab-df-convert\" onclick=\"convertToInteractive('df-5e1f32d5-ff69-4553-a6d0-4c38c86ac403')\"\n",
              "              title=\"Convert this dataframe to an interactive table.\"\n",
              "              style=\"display:none;\">\n",
              "        \n",
              "  <svg xmlns=\"http://www.w3.org/2000/svg\" height=\"24px\"viewBox=\"0 0 24 24\"\n",
              "       width=\"24px\">\n",
              "    <path d=\"M0 0h24v24H0V0z\" fill=\"none\"/>\n",
              "    <path d=\"M18.56 5.44l.94 2.06.94-2.06 2.06-.94-2.06-.94-.94-2.06-.94 2.06-2.06.94zm-11 1L8.5 8.5l.94-2.06 2.06-.94-2.06-.94L8.5 2.5l-.94 2.06-2.06.94zm10 10l.94 2.06.94-2.06 2.06-.94-2.06-.94-.94-2.06-.94 2.06-2.06.94z\"/><path d=\"M17.41 7.96l-1.37-1.37c-.4-.4-.92-.59-1.43-.59-.52 0-1.04.2-1.43.59L10.3 9.45l-7.72 7.72c-.78.78-.78 2.05 0 2.83L4 21.41c.39.39.9.59 1.41.59.51 0 1.02-.2 1.41-.59l7.78-7.78 2.81-2.81c.8-.78.8-2.07 0-2.86zM5.41 20L4 18.59l7.72-7.72 1.47 1.35L5.41 20z\"/>\n",
              "  </svg>\n",
              "      </button>\n",
              "      \n",
              "  <style>\n",
              "    .colab-df-container {\n",
              "      display:flex;\n",
              "      flex-wrap:wrap;\n",
              "      gap: 12px;\n",
              "    }\n",
              "\n",
              "    .colab-df-convert {\n",
              "      background-color: #E8F0FE;\n",
              "      border: none;\n",
              "      border-radius: 50%;\n",
              "      cursor: pointer;\n",
              "      display: none;\n",
              "      fill: #1967D2;\n",
              "      height: 32px;\n",
              "      padding: 0 0 0 0;\n",
              "      width: 32px;\n",
              "    }\n",
              "\n",
              "    .colab-df-convert:hover {\n",
              "      background-color: #E2EBFA;\n",
              "      box-shadow: 0px 1px 2px rgba(60, 64, 67, 0.3), 0px 1px 3px 1px rgba(60, 64, 67, 0.15);\n",
              "      fill: #174EA6;\n",
              "    }\n",
              "\n",
              "    [theme=dark] .colab-df-convert {\n",
              "      background-color: #3B4455;\n",
              "      fill: #D2E3FC;\n",
              "    }\n",
              "\n",
              "    [theme=dark] .colab-df-convert:hover {\n",
              "      background-color: #434B5C;\n",
              "      box-shadow: 0px 1px 3px 1px rgba(0, 0, 0, 0.15);\n",
              "      filter: drop-shadow(0px 1px 2px rgba(0, 0, 0, 0.3));\n",
              "      fill: #FFFFFF;\n",
              "    }\n",
              "  </style>\n",
              "\n",
              "      <script>\n",
              "        const buttonEl =\n",
              "          document.querySelector('#df-5e1f32d5-ff69-4553-a6d0-4c38c86ac403 button.colab-df-convert');\n",
              "        buttonEl.style.display =\n",
              "          google.colab.kernel.accessAllowed ? 'block' : 'none';\n",
              "\n",
              "        async function convertToInteractive(key) {\n",
              "          const element = document.querySelector('#df-5e1f32d5-ff69-4553-a6d0-4c38c86ac403');\n",
              "          const dataTable =\n",
              "            await google.colab.kernel.invokeFunction('convertToInteractive',\n",
              "                                                     [key], {});\n",
              "          if (!dataTable) return;\n",
              "\n",
              "          const docLinkHtml = 'Like what you see? Visit the ' +\n",
              "            '<a target=\"_blank\" href=https://colab.research.google.com/notebooks/data_table.ipynb>data table notebook</a>'\n",
              "            + ' to learn more about interactive tables.';\n",
              "          element.innerHTML = '';\n",
              "          dataTable['output_type'] = 'display_data';\n",
              "          await google.colab.output.renderOutput(dataTable, element);\n",
              "          const docLink = document.createElement('div');\n",
              "          docLink.innerHTML = docLinkHtml;\n",
              "          element.appendChild(docLink);\n",
              "        }\n",
              "      </script>\n",
              "    </div>\n",
              "  </div>\n",
              "  "
            ],
            "text/plain": [
              "   mean_fit_time  std_fit_time  ...  mean_train_score  std_train_score\n",
              "0       2.953903      0.048069  ...          0.817321         0.000785\n",
              "1       2.652404      0.065351  ...          0.812595         0.001205\n",
              "2       2.460372      0.045524  ...          0.810238         0.001098\n",
              "3       2.319486      0.016801  ...          0.809619         0.001024\n",
              "4       2.184826      0.013825  ...          0.808167         0.000966\n",
              "\n",
              "[5 rows x 21 columns]"
            ]
          },
          "metadata": {},
          "execution_count": 33
        }
      ]
    },
    {
      "cell_type": "code",
      "metadata": {
        "id": "40GEiecBYVUm",
        "outputId": "4871db3b-34c4-479c-e710-9dadbb5bb7e6",
        "colab": {
          "base_uri": "https://localhost:8080/",
          "height": 280
        }
      },
      "source": [
        "# plotting accuracies with min_samples_leaf\n",
        "plt.figure()\n",
        "plt.plot(scores[\"param_min_samples_leaf\"], scores[\"mean_train_score\"], label=\"training accuracy\")\n",
        "plt.plot(scores[\"param_min_samples_leaf\"], scores[\"mean_test_score\"], label=\"test accuracy\")\n",
        "plt.xlabel(\"min_samples_leaf\")\n",
        "plt.ylabel(\"Accuracy\")\n",
        "plt.legend()\n",
        "plt.show()"
      ],
      "execution_count": 34,
      "outputs": [
        {
          "output_type": "display_data",
          "data": {
            "image/png": "[encoded data removed]",
            "text/plain": [
              "<Figure size 432x288 with 1 Axes>"
            ]
          },
          "metadata": {
            "needs_background": "light"
          }
        }
      ]
    },
    {
      "cell_type": "markdown",
      "metadata": {
        "id": "gNitrDwAYVUm"
      },
      "source": [
        "You can see that the model starts of overfit as you decrease the value of min_samples_leaf. \n",
        "\n",
        "### Tuning min_samples_split\n",
        "\n",
        "Let's now look at the performance of the ensemble as we vary min_samples_split.\n",
        "\n",
        "\n"
      ]
    },
    {
      "cell_type": "code",
      "metadata": {
        "id": "Y7npLzP8YVUm",
        "outputId": "4a68e031-d854-424a-8f32-3df8abf86796",
        "colab": {
          "base_uri": "https://localhost:8080/"
        }
      },
      "source": [
        "# parameters to build the model on (min_samples_split with range(200, 500, 50))\n",
        "parameters = {'min_samples_split' : range(200, 500, 50)}\n",
        "\n",
        "# instantiate the model\n",
        "rf = RandomForestClassifier(random_state=1)\n",
        "\n",
        "\n",
        "# Instantiate GridSearchCVwith rf, parameter, cv and scoring as accuracy and return_train_score as True\n",
        "rf = GridSearchCV(rf, parameters, cv=n_folds, scoring='accuracy', return_train_score=True)\n",
        "\n",
        "# fitting model on training data\n",
        "rf.fit(X_train, y_train)"
      ],
      "execution_count": 35,
      "outputs": [
        {
          "output_type": "execute_result",
          "data": {
            "text/plain": [
              "GridSearchCV(cv=5, estimator=RandomForestClassifier(random_state=1),\n",
              "             param_grid={'min_samples_split': range(200, 500, 50)},\n",
              "             return_train_score=True, scoring='accuracy')"
            ]
          },
          "metadata": {},
          "execution_count": 35
        }
      ]
    },
    {
      "cell_type": "code",
      "metadata": {
        "id": "f1qSMzvUYVUn",
        "outputId": "93f69d54-2bcc-4fc1-8150-bb0f4cb6f22c",
        "colab": {
          "base_uri": "https://localhost:8080/",
          "height": 357
        }
      },
      "source": [
        "# scores of GridSearch CV\n",
        "scores = rf.cv_results_\n",
        "pd.DataFrame(scores).head()"
      ],
      "execution_count": 36,
      "outputs": [
        {
          "output_type": "execute_result",
          "data": {
            "text/html": [
              "\n",
              "  <div id=\"df-b4ef9344-7aec-4db2-8e2d-344c40fc2d74\">\n",
              "    <div class=\"colab-df-container\">\n",
              "      <div>\n",
              "<style scoped>\n",
              "    .dataframe tbody tr th:only-of-type {\n",
              "        vertical-align: middle;\n",
              "    }\n",
              "\n",
              "    .dataframe tbody tr th {\n",
              "        vertical-align: top;\n",
              "    }\n",
              "\n",
              "    .dataframe thead th {\n",
              "        text-align: right;\n",
              "    }\n",
              "</style>\n",
              "<table border=\"1\" class=\"dataframe\">\n",
              "  <thead>\n",
              "    <tr style=\"text-align: right;\">\n",
              "      <th></th>\n",
              "      <th>mean_fit_time</th>\n",
              "      <th>std_fit_time</th>\n",
              "      <th>mean_score_time</th>\n",
              "      <th>std_score_time</th>\n",
              "      <th>param_min_samples_split</th>\n",
              "      <th>params</th>\n",
              "      <th>split0_test_score</th>\n",
              "      <th>split1_test_score</th>\n",
              "      <th>split2_test_score</th>\n",
              "      <th>split3_test_score</th>\n",
              "      <th>split4_test_score</th>\n",
              "      <th>mean_test_score</th>\n",
              "      <th>std_test_score</th>\n",
              "      <th>rank_test_score</th>\n",
              "      <th>split0_train_score</th>\n",
              "      <th>split1_train_score</th>\n",
              "      <th>split2_train_score</th>\n",
              "      <th>split3_train_score</th>\n",
              "      <th>split4_train_score</th>\n",
              "      <th>mean_train_score</th>\n",
              "      <th>std_train_score</th>\n",
              "    </tr>\n",
              "  </thead>\n",
              "  <tbody>\n",
              "    <tr>\n",
              "      <th>0</th>\n",
              "      <td>3.800326</td>\n",
              "      <td>0.019766</td>\n",
              "      <td>0.070283</td>\n",
              "      <td>0.003506</td>\n",
              "      <td>200</td>\n",
              "      <td>{'min_samples_split': 200}</td>\n",
              "      <td>0.818571</td>\n",
              "      <td>0.820714</td>\n",
              "      <td>0.820714</td>\n",
              "      <td>0.817381</td>\n",
              "      <td>0.818571</td>\n",
              "      <td>0.819190</td>\n",
              "      <td>0.001318</td>\n",
              "      <td>1</td>\n",
              "      <td>0.824286</td>\n",
              "      <td>0.823333</td>\n",
              "      <td>0.823274</td>\n",
              "      <td>0.824048</td>\n",
              "      <td>0.823988</td>\n",
              "      <td>0.823786</td>\n",
              "      <td>0.000407</td>\n",
              "    </tr>\n",
              "    <tr>\n",
              "      <th>1</th>\n",
              "      <td>3.648037</td>\n",
              "      <td>0.046447</td>\n",
              "      <td>0.069179</td>\n",
              "      <td>0.001838</td>\n",
              "      <td>250</td>\n",
              "      <td>{'min_samples_split': 250}</td>\n",
              "      <td>0.818810</td>\n",
              "      <td>0.821667</td>\n",
              "      <td>0.820000</td>\n",
              "      <td>0.816905</td>\n",
              "      <td>0.818333</td>\n",
              "      <td>0.819143</td>\n",
              "      <td>0.001605</td>\n",
              "      <td>2</td>\n",
              "      <td>0.822321</td>\n",
              "      <td>0.821607</td>\n",
              "      <td>0.822976</td>\n",
              "      <td>0.822976</td>\n",
              "      <td>0.823274</td>\n",
              "      <td>0.822631</td>\n",
              "      <td>0.000599</td>\n",
              "    </tr>\n",
              "    <tr>\n",
              "      <th>2</th>\n",
              "      <td>3.515933</td>\n",
              "      <td>0.015092</td>\n",
              "      <td>0.066045</td>\n",
              "      <td>0.002516</td>\n",
              "      <td>300</td>\n",
              "      <td>{'min_samples_split': 300}</td>\n",
              "      <td>0.817381</td>\n",
              "      <td>0.821667</td>\n",
              "      <td>0.822143</td>\n",
              "      <td>0.816667</td>\n",
              "      <td>0.815714</td>\n",
              "      <td>0.818714</td>\n",
              "      <td>0.002662</td>\n",
              "      <td>3</td>\n",
              "      <td>0.821667</td>\n",
              "      <td>0.821131</td>\n",
              "      <td>0.821726</td>\n",
              "      <td>0.821964</td>\n",
              "      <td>0.822679</td>\n",
              "      <td>0.821833</td>\n",
              "      <td>0.000503</td>\n",
              "    </tr>\n",
              "    <tr>\n",
              "      <th>3</th>\n",
              "      <td>3.382272</td>\n",
              "      <td>0.011360</td>\n",
              "      <td>0.062516</td>\n",
              "      <td>0.000608</td>\n",
              "      <td>350</td>\n",
              "      <td>{'min_samples_split': 350}</td>\n",
              "      <td>0.817857</td>\n",
              "      <td>0.821429</td>\n",
              "      <td>0.820714</td>\n",
              "      <td>0.815714</td>\n",
              "      <td>0.815238</td>\n",
              "      <td>0.818190</td>\n",
              "      <td>0.002522</td>\n",
              "      <td>6</td>\n",
              "      <td>0.820119</td>\n",
              "      <td>0.820833</td>\n",
              "      <td>0.820655</td>\n",
              "      <td>0.822440</td>\n",
              "      <td>0.821726</td>\n",
              "      <td>0.821155</td>\n",
              "      <td>0.000825</td>\n",
              "    </tr>\n",
              "    <tr>\n",
              "      <th>4</th>\n",
              "      <td>3.299469</td>\n",
              "      <td>0.028801</td>\n",
              "      <td>0.061519</td>\n",
              "      <td>0.000761</td>\n",
              "      <td>400</td>\n",
              "      <td>{'min_samples_split': 400}</td>\n",
              "      <td>0.816905</td>\n",
              "      <td>0.820476</td>\n",
              "      <td>0.820952</td>\n",
              "      <td>0.815952</td>\n",
              "      <td>0.817619</td>\n",
              "      <td>0.818381</td>\n",
              "      <td>0.001983</td>\n",
              "      <td>4</td>\n",
              "      <td>0.819762</td>\n",
              "      <td>0.819881</td>\n",
              "      <td>0.820298</td>\n",
              "      <td>0.820476</td>\n",
              "      <td>0.821071</td>\n",
              "      <td>0.820298</td>\n",
              "      <td>0.000467</td>\n",
              "    </tr>\n",
              "  </tbody>\n",
              "</table>\n",
              "</div>\n",
              "      <button class=\"colab-df-convert\" onclick=\"convertToInteractive('df-b4ef9344-7aec-4db2-8e2d-344c40fc2d74')\"\n",
              "              title=\"Convert this dataframe to an interactive table.\"\n",
              "              style=\"display:none;\">\n",
              "        \n",
              "  <svg xmlns=\"http://www.w3.org/2000/svg\" height=\"24px\"viewBox=\"0 0 24 24\"\n",
              "       width=\"24px\">\n",
              "    <path d=\"M0 0h24v24H0V0z\" fill=\"none\"/>\n",
              "    <path d=\"M18.56 5.44l.94 2.06.94-2.06 2.06-.94-2.06-.94-.94-2.06-.94 2.06-2.06.94zm-11 1L8.5 8.5l.94-2.06 2.06-.94-2.06-.94L8.5 2.5l-.94 2.06-2.06.94zm10 10l.94 2.06.94-2.06 2.06-.94-2.06-.94-.94-2.06-.94 2.06-2.06.94z\"/><path d=\"M17.41 7.96l-1.37-1.37c-.4-.4-.92-.59-1.43-.59-.52 0-1.04.2-1.43.59L10.3 9.45l-7.72 7.72c-.78.78-.78 2.05 0 2.83L4 21.41c.39.39.9.59 1.41.59.51 0 1.02-.2 1.41-.59l7.78-7.78 2.81-2.81c.8-.78.8-2.07 0-2.86zM5.41 20L4 18.59l7.72-7.72 1.47 1.35L5.41 20z\"/>\n",
              "  </svg>\n",
              "      </button>\n",
              "      \n",
              "  <style>\n",
              "    .colab-df-container {\n",
              "      display:flex;\n",
              "      flex-wrap:wrap;\n",
              "      gap: 12px;\n",
              "    }\n",
              "\n",
              "    .colab-df-convert {\n",
              "      background-color: #E8F0FE;\n",
              "      border: none;\n",
              "      border-radius: 50%;\n",
              "      cursor: pointer;\n",
              "      display: none;\n",
              "      fill: #1967D2;\n",
              "      height: 32px;\n",
              "      padding: 0 0 0 0;\n",
              "      width: 32px;\n",
              "    }\n",
              "\n",
              "    .colab-df-convert:hover {\n",
              "      background-color: #E2EBFA;\n",
              "      box-shadow: 0px 1px 2px rgba(60, 64, 67, 0.3), 0px 1px 3px 1px rgba(60, 64, 67, 0.15);\n",
              "      fill: #174EA6;\n",
              "    }\n",
              "\n",
              "    [theme=dark] .colab-df-convert {\n",
              "      background-color: #3B4455;\n",
              "      fill: #D2E3FC;\n",
              "    }\n",
              "\n",
              "    [theme=dark] .colab-df-convert:hover {\n",
              "      background-color: #434B5C;\n",
              "      box-shadow: 0px 1px 3px 1px rgba(0, 0, 0, 0.15);\n",
              "      filter: drop-shadow(0px 1px 2px rgba(0, 0, 0, 0.3));\n",
              "      fill: #FFFFFF;\n",
              "    }\n",
              "  </style>\n",
              "\n",
              "      <script>\n",
              "        const buttonEl =\n",
              "          document.querySelector('#df-b4ef9344-7aec-4db2-8e2d-344c40fc2d74 button.colab-df-convert');\n",
              "        buttonEl.style.display =\n",
              "          google.colab.kernel.accessAllowed ? 'block' : 'none';\n",
              "\n",
              "        async function convertToInteractive(key) {\n",
              "          const element = document.querySelector('#df-b4ef9344-7aec-4db2-8e2d-344c40fc2d74');\n",
              "          const dataTable =\n",
              "            await google.colab.kernel.invokeFunction('convertToInteractive',\n",
              "                                                     [key], {});\n",
              "          if (!dataTable) return;\n",
              "\n",
              "          const docLinkHtml = 'Like what you see? Visit the ' +\n",
              "            '<a target=\"_blank\" href=https://colab.research.google.com/notebooks/data_table.ipynb>data table notebook</a>'\n",
              "            + ' to learn more about interactive tables.';\n",
              "          element.innerHTML = '';\n",
              "          dataTable['output_type'] = 'display_data';\n",
              "          await google.colab.output.renderOutput(dataTable, element);\n",
              "          const docLink = document.createElement('div');\n",
              "          docLink.innerHTML = docLinkHtml;\n",
              "          element.appendChild(docLink);\n",
              "        }\n",
              "      </script>\n",
              "    </div>\n",
              "  </div>\n",
              "  "
            ],
            "text/plain": [
              "   mean_fit_time  std_fit_time  ...  mean_train_score  std_train_score\n",
              "0       3.800326      0.019766  ...          0.823786         0.000407\n",
              "1       3.648037      0.046447  ...          0.822631         0.000599\n",
              "2       3.515933      0.015092  ...          0.821833         0.000503\n",
              "3       3.382272      0.011360  ...          0.821155         0.000825\n",
              "4       3.299469      0.028801  ...          0.820298         0.000467\n",
              "\n",
              "[5 rows x 21 columns]"
            ]
          },
          "metadata": {},
          "execution_count": 36
        }
      ]
    },
    {
      "cell_type": "code",
      "metadata": {
        "id": "OrEeheVfYVUo",
        "outputId": "f0da05b3-f2cb-4433-ddc7-744b9fae9c1f",
        "colab": {
          "base_uri": "https://localhost:8080/",
          "height": 282
        }
      },
      "source": [
        "# plotting accuracies with min_samples_split\n",
        "plt.figure()\n",
        "plt.plot(scores[\"param_min_samples_split\"], scores[\"mean_train_score\"], label=\"training accuracy\")\n",
        "plt.plot(scores[\"param_min_samples_split\"], scores[\"mean_test_score\"], label=\"test accuracy\")\n",
        "plt.xlabel(\"min_samples_split\")\n",
        "plt.ylabel(\"Accuracy\")\n",
        "plt.legend()\n",
        "plt.show()"
      ],
      "execution_count": 37,
      "outputs": [
        {
          "output_type": "display_data",
          "data": {
            "image/png": "[encoded data removed]",
            "text/plain": [
              "<Figure size 432x288 with 1 Axes>"
            ]
          },
          "metadata": {
            "needs_background": "light"
          }
        }
      ]
    },
    {
      "cell_type": "markdown",
      "metadata": {
        "id": "IFaMyB1HYVUo"
      },
      "source": [
        "#### Random Search to Find Optimal Hyperparameters\n",
        "\n",
        "We can now find the optimal hyperparameters using RandomizedSearchCV. \n",
        "\n",
        "with following  parameter values: \n",
        "\n",
        "`'max_depth': [4,8,10],\n",
        "'min_samples_leaf': range(100, 400, 200),\n",
        "'min_samples_split': range(200, 500, 200),\n",
        "'n_estimators': [100,200, 300], \n",
        "'max_features': [5, 10]`\n",
        "\n",
        "Note : here we are avoiding grid search because using it your system might crash, whereas RandomizedSearchCV is fater than grid search  ;)"
      ]
    },
    {
      "cell_type": "code",
      "metadata": {
        "id": "2tqzVjJaYVUo"
      },
      "source": [
        "# import RandomizedSearchCV\n",
        "from sklearn.model_selection import RandomizedSearchCV\n",
        "\n",
        "# Create the parameter grid based on the results of random search \n",
        "param_grid = {\n",
        "    'max_depth': [4,8,10],\n",
        "    'min_samples_leaf': range(100, 400, 200),\n",
        "    'min_samples_split': range(200, 500, 200),\n",
        "    'n_estimators': [100,200, 300],\n",
        "    'max_features': [5, 10]\n",
        "}\n",
        "\n",
        "# Create a based model (i.e RF)\n",
        "rf = RandomForestClassifier(random_state=1)\n",
        "\n",
        "# Instantiate the radom search model with estimator, param_grid, and random_state as 0\n",
        "rs = RandomizedSearchCV(rf, param_grid, random_state=1)"
      ],
      "execution_count": 38,
      "outputs": []
    },
    {
      "cell_type": "code",
      "metadata": {
        "id": "-y2fKD33YVUp",
        "outputId": "e70c1e3d-9659-4fd0-809b-ae116fee6948",
        "colab": {
          "base_uri": "https://localhost:8080/"
        }
      },
      "source": [
        "# Fit the grid search to the data\n",
        "rs.fit(X_train, y_train)"
      ],
      "execution_count": 39,
      "outputs": [
        {
          "output_type": "execute_result",
          "data": {
            "text/plain": [
              "RandomizedSearchCV(estimator=RandomForestClassifier(random_state=1),\n",
              "                   param_distributions={'max_depth': [4, 8, 10],\n",
              "                                        'max_features': [5, 10],\n",
              "                                        'min_samples_leaf': range(100, 400, 200),\n",
              "                                        'min_samples_split': range(200, 500, 200),\n",
              "                                        'n_estimators': [100, 200, 300]},\n",
              "                   random_state=1)"
            ]
          },
          "metadata": {},
          "execution_count": 39
        }
      ]
    },
    {
      "cell_type": "code",
      "metadata": {
        "id": "PrBFy-gNYVUp",
        "outputId": "d70ad3a3-9c99-49d2-aed7-a93a60d3b5eb",
        "colab": {
          "base_uri": "https://localhost:8080/"
        }
      },
      "source": [
        "# printing the optimal accuracy score and hyperparameters\n",
        "print(\"we can get accuracy of\", rs.best_score_, 'using', rs.best_params_)"
      ],
      "execution_count": 40,
      "outputs": [
        {
          "output_type": "stream",
          "name": "stdout",
          "text": [
            "we can get accuracy of 0.8179047619047619 using {'n_estimators': 100, 'min_samples_split': 400, 'min_samples_leaf': 100, 'max_features': 10, 'max_depth': 8}\n"
          ]
        }
      ]
    },
    {
      "cell_type": "markdown",
      "metadata": {
        "id": "WYVjDSpuYVUq"
      },
      "source": [
        "**Fitting the final model with the best parameters obtained from grid search.**"
      ]
    },
    {
      "cell_type": "code",
      "metadata": {
        "id": "MBz0zKg6YVUq"
      },
      "source": [
        "# Instantiate RF model with the best hyperparameters\n",
        "rfc = RandomForestClassifier(max_depth=8,\n",
        "                             min_samples_leaf=100,\n",
        "                             min_samples_split=400,\n",
        "                             max_features=10,\n",
        "                             n_estimators=100,\n",
        "                             random_state=1)"
      ],
      "execution_count": 41,
      "outputs": []
    },
    {
      "cell_type": "code",
      "metadata": {
        "id": "EjwUatSrYVUr",
        "outputId": "5a4511b0-3a74-4a2b-b830-ee1484b5009a",
        "colab": {
          "base_uri": "https://localhost:8080/"
        }
      },
      "source": [
        "# fit rfc on training data\n",
        "rfc.fit(X_train, y_train)"
      ],
      "execution_count": 42,
      "outputs": [
        {
          "output_type": "execute_result",
          "data": {
            "text/plain": [
              "RandomForestClassifier(max_depth=8, max_features=10, min_samples_leaf=100,\n",
              "                       min_samples_split=400, random_state=1)"
            ]
          },
          "metadata": {},
          "execution_count": 42
        }
      ]
    },
    {
      "cell_type": "code",
      "metadata": {
        "id": "I8Sk9CDWYVUr"
      },
      "source": [
        "# predict\n",
        "predictions = rfc.predict(X_test)"
      ],
      "execution_count": 43,
      "outputs": []
    },
    {
      "cell_type": "code",
      "metadata": {
        "id": "Fz-zuapxYVUr",
        "outputId": "368ae652-cc98-4de4-f556-cd05e2863a01",
        "colab": {
          "base_uri": "https://localhost:8080/"
        }
      },
      "source": [
        "# evaluation metrics using classification_report\n",
        "print(classification_report(y_test, predictions))"
      ],
      "execution_count": 44,
      "outputs": [
        {
          "output_type": "stream",
          "name": "stdout",
          "text": [
            "              precision    recall  f1-score   support\n",
            "\n",
            "           0       0.84      0.96      0.90      7058\n",
            "           1       0.69      0.36      0.47      1942\n",
            "\n",
            "    accuracy                           0.83      9000\n",
            "   macro avg       0.77      0.66      0.68      9000\n",
            "weighted avg       0.81      0.83      0.80      9000\n",
            "\n"
          ]
        }
      ]
    },
    {
      "cell_type": "code",
      "metadata": {
        "id": "75qOI_2IYVUs",
        "outputId": "e281b883-5011-4724-b9b1-faf10af68d72",
        "colab": {
          "base_uri": "https://localhost:8080/"
        }
      },
      "source": [
        "# print confusion_matrix and \n",
        "print(confusion_matrix(y_test, predictions))\n",
        "\n",
        "# print accuracy\n",
        "print(accuracy_score(y_test, predictions))"
      ],
      "execution_count": 45,
      "outputs": [
        {
          "output_type": "stream",
          "name": "stdout",
          "text": [
            "[[6748  310]\n",
            " [1249  693]]\n",
            "0.8267777777777777\n"
          ]
        }
      ]
    },
    {
      "cell_type": "markdown",
      "metadata": {
        "id": "Fr1HhgZqYVUs"
      },
      "source": [
        "Oh yeah ! after hyper parameter tuning Random forest accuracy is improved."
      ]
    },
    {
      "cell_type": "markdown",
      "metadata": {
        "id": "T0CRq78aYVUt"
      },
      "source": [
        "### 3. Extra Trees ALgorithm\n",
        "\n",
        "<p style='text-align: right;'> 20 points</p>\n",
        "\n",
        "Reference doc: https://scikit-learn.org/stable/modules/generated/sklearn.ensemble.ExtraTreesClassifier.html\n",
        "\n",
        "Reference link: https://youtu.be/UhgkP9Fsbgo\n",
        " \n",
        "Extra Trees and Random Forest are two very similar ensemble methods\n",
        "The two ensembles have a lot in common. Both of them are composed of a large number of decision trees. The main difference between descision tree , random Forest and Extra trees are shown below:\n",
        "\n",
        "Unlike bagging and random forest that develop each decision tree from a bootstrap sample of the training dataset, the Extra Trees algorithm fits each decision tree on the whole training dataset.\n",
        "\n",
        "Like random forest, the Extra Trees algorithm will randomly sample the features at each split point of a decision tree. Unlike random forest, which uses a greedy algorithm to select an optimal split point, the Extra Trees algorithm selects a split point at random."
      ]
    },
    {
      "cell_type": "code",
      "metadata": {
        "id": "cln9ZSM2YVUt",
        "outputId": "30ffa4f5-370e-4b39-901d-fa51aec89660",
        "colab": {
          "base_uri": "https://localhost:8080/"
        }
      },
      "source": [
        "# import ExtraTreesClassifier \n",
        "from sklearn.ensemble import ExtraTreesClassifier\n",
        "\n",
        "# Instantiate ExtraTreesClassifier with default parameters\n",
        "et = ExtraTreesClassifier(random_state=1)\n",
        "\n",
        "# fitting model on training data\n",
        "et.fit(X_train, y_train)"
      ],
      "execution_count": 46,
      "outputs": [
        {
          "output_type": "execute_result",
          "data": {
            "text/plain": [
              "ExtraTreesClassifier(random_state=1)"
            ]
          },
          "metadata": {},
          "execution_count": 46
        }
      ]
    },
    {
      "cell_type": "code",
      "metadata": {
        "id": "GmR5CajpYVUt"
      },
      "source": [
        "# Making predictions\n",
        "predictions = et.predict(X_test)"
      ],
      "execution_count": 47,
      "outputs": []
    },
    {
      "cell_type": "code",
      "metadata": {
        "id": "1D9nPzmeYVUu",
        "outputId": "16d5d051-f94e-464e-c60b-84b0a57f5f71",
        "colab": {
          "base_uri": "https://localhost:8080/"
        }
      },
      "source": [
        "# Let's check the report of our default model\n",
        "print(classification_report(y_test, predictions))"
      ],
      "execution_count": 48,
      "outputs": [
        {
          "output_type": "stream",
          "name": "stdout",
          "text": [
            "              precision    recall  f1-score   support\n",
            "\n",
            "           0       0.84      0.94      0.89      7058\n",
            "           1       0.62      0.36      0.45      1942\n",
            "\n",
            "    accuracy                           0.81      9000\n",
            "   macro avg       0.73      0.65      0.67      9000\n",
            "weighted avg       0.79      0.81      0.79      9000\n",
            "\n"
          ]
        }
      ]
    },
    {
      "cell_type": "code",
      "metadata": {
        "id": "h_7lrZSpYVUu",
        "outputId": "53f1dda7-6d8a-4de1-f08b-557f9241a54b",
        "colab": {
          "base_uri": "https://localhost:8080/"
        }
      },
      "source": [
        "# Printing confusion matrix\n",
        "print(confusion_matrix(y_test, predictions))"
      ],
      "execution_count": 49,
      "outputs": [
        {
          "output_type": "stream",
          "name": "stdout",
          "text": [
            "[[6629  429]\n",
            " [1248  694]]\n"
          ]
        }
      ]
    },
    {
      "cell_type": "code",
      "metadata": {
        "id": "aQdcoyX_YVUv",
        "outputId": "776433a3-fff0-45da-ed34-2ad681e79d19",
        "colab": {
          "base_uri": "https://localhost:8080/"
        }
      },
      "source": [
        "# printing accuracy_score\n",
        "print(accuracy_score(y_test, predictions))"
      ],
      "execution_count": 50,
      "outputs": [
        {
          "output_type": "stream",
          "name": "stdout",
          "text": [
            "0.8136666666666666\n"
          ]
        }
      ]
    },
    {
      "cell_type": "markdown",
      "metadata": {
        "id": "bb-t4hs4YVUv"
      },
      "source": [
        "cool! so we got 81 % accuracy here. We can even try hyperparameter tuning here in order to improve the result. So lets Tune the mode\n",
        "\n",
        "\n",
        "##### Random Search to Find Optimal Hyperparameters\n",
        "\n",
        "<p style='text-align: right;'> 5 points</p>\n",
        "\n",
        "Reference doc: https://scikit-learn.org/stable/modules/generated/sklearn.model_selection.RandomizedSearchCV.html\n",
        "\n",
        "Reference video: https://youtu.be/v5aSDMzgVDQ\n",
        "\n",
        "We can now find the optimal hyperparameters using GridSearchCV."
      ]
    },
    {
      "cell_type": "code",
      "metadata": {
        "id": "puoincu7YVUv",
        "outputId": "7cec5846-2989-49ff-cfbb-9ad22d7954b9",
        "colab": {
          "base_uri": "https://localhost:8080/"
        }
      },
      "source": [
        "# Create the parameter grid similar to random forest\n",
        "param_grid = {\n",
        "    'max_depth': [4,8,10],\n",
        "    'min_samples_leaf': range(100, 400, 200),\n",
        "    'min_samples_split': range(200, 500, 200),\n",
        "    'n_estimators': [100,200, 300],\n",
        "    'max_features': [5, 10]\n",
        "}\n",
        "\n",
        "\n",
        "# Instantiate RandomizedSearchCV with et , param_grid and random state=0\n",
        "rs = RandomizedSearchCV(et, param_grid, random_state=1)\n",
        "\n",
        "# Fit the random search to the training data\n",
        "rs.fit(X_train, y_train)\n",
        "\n",
        "# printing the optimal accuracy score and hyperparameters\n",
        "print(\"we can get accuracy of\", rs.best_score_, 'using', rs.best_params_)"
      ],
      "execution_count": 51,
      "outputs": [
        {
          "output_type": "stream",
          "name": "stdout",
          "text": [
            "we can get accuracy of 0.8113333333333334 using {'n_estimators': 100, 'min_samples_split': 400, 'min_samples_leaf': 100, 'max_features': 10, 'max_depth': 8}\n"
          ]
        }
      ]
    },
    {
      "cell_type": "markdown",
      "metadata": {
        "id": "54ZkL1SRYVUw"
      },
      "source": [
        "Now lets try using above chosen best parameters into extra trees and tune it."
      ]
    },
    {
      "cell_type": "code",
      "metadata": {
        "id": "lcAN_GRqYVUw",
        "outputId": "b221d52b-5dd1-4e3d-f147-ab74487a4ff8",
        "colab": {
          "base_uri": "https://localhost:8080/"
        }
      },
      "source": [
        "# Instantiate ExtraTreesClassifier with default parameters\n",
        "et = ExtraTreesClassifier(n_estimators=100, min_samples_split=400, min_samples_leaf=100, max_features=10, max_depth=8)\n",
        "\n",
        "# fitting model on training data\n",
        "et.fit(X_train, y_train)"
      ],
      "execution_count": 52,
      "outputs": [
        {
          "output_type": "execute_result",
          "data": {
            "text/plain": [
              "ExtraTreesClassifier(max_depth=8, max_features=10, min_samples_leaf=100,\n",
              "                     min_samples_split=400)"
            ]
          },
          "metadata": {},
          "execution_count": 52
        }
      ]
    },
    {
      "cell_type": "code",
      "metadata": {
        "id": "V4R1jxLWYVUw"
      },
      "source": [
        "# Making predictions\n",
        "predictions = et.predict(X_test)"
      ],
      "execution_count": 53,
      "outputs": []
    },
    {
      "cell_type": "code",
      "metadata": {
        "id": "Fb76nsilYVUx",
        "outputId": "1ddcef4c-73ca-4bb3-b212-9d455566d119",
        "colab": {
          "base_uri": "https://localhost:8080/"
        }
      },
      "source": [
        "# printing accuracy_score\n",
        "print(accuracy_score(y_test, predictions))"
      ],
      "execution_count": 54,
      "outputs": [
        {
          "output_type": "stream",
          "name": "stdout",
          "text": [
            "0.8186666666666667\n"
          ]
        }
      ]
    },
    {
      "cell_type": "markdown",
      "metadata": {
        "id": "XI0ZmWVUYVUx"
      },
      "source": [
        "Well here even after doing hyperparameter tuning, yo can see that there is not much improvement on the model performance. \n",
        "\n",
        "Now you have seen ensemble bootstrap aggregation using 3 different methods, namely bagging classifier, Random Forest and Extra tree Regressor\n",
        "\n",
        "Can you tell for our problem statement of Credit Default Prediction which ensemble method worked best here . Please do comment below:\n",
        "    "
      ]
    },
    {
      "cell_type": "code",
      "metadata": {
        "id": "uPrccjgxYVUx"
      },
      "source": [
        "#here "
      ],
      "execution_count": null,
      "outputs": []
    },
    {
      "cell_type": "markdown",
      "metadata": {
        "id": "ZYihZmDeYVUy"
      },
      "source": [
        "\n",
        "---------------------------------\n",
        "\n",
        "# Fantastic:) Congratulations! you have completed the Ensemble: Bagging assignment. \n",
        "\n",
        "--------------------------------\n",
        "\n",
        "# FeedBack\n",
        "We hope you’ve enjoyed this course so far. We’re committed to help you use \"AI for All\" course to its full potential, so that you have a great learning experience. And that’s why we need your help in form of a feedback here.\n",
        "\n",
        "Please fill this feedback form  https://zfrmz.in/MtRG5oWXBdesm6rmSM7N"
      ]
    }
  ]
}