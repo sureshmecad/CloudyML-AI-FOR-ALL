{
  "nbformat": 4,
  "nbformat_minor": 0,
  "metadata": {
    "kernelspec": {
      "display_name": "Python 3",
      "language": "python",
      "name": "python3"
    },
    "language_info": {
      "codemirror_mode": {
        "name": "ipython",
        "version": 3
      },
      "file_extension": ".py",
      "mimetype": "text/x-python",
      "name": "python",
      "nbconvert_exporter": "python",
      "pygments_lexer": "ipython3",
      "version": "3.8.5"
    },
    "colab": {
      "name": "6_Regex_CloudyML.ipynb",
      "provenance": [],
      "collapsed_sections": [],
      "include_colab_link": true
    }
  },
  "cells": [
    {
      "cell_type": "markdown",
      "metadata": {
        "id": "view-in-github",
        "colab_type": "text"
      },
      "source": [
        "<a href=\"https://colab.research.google.com/github/sureshmecad/CloudyML-AI-FOR-ALL/blob/main/6_Regex_CloudyML.ipynb\" target=\"_parent\"><img src=\"https://colab.research.google.com/assets/colab-badge.svg\" alt=\"Open In Colab\"/></a>"
      ]
    },
    {
      "cell_type": "markdown",
      "metadata": {
        "id": "5TiBUHlWOLte"
      },
      "source": [
        "## <center><u>Regular Expression</u></center>\n",
        "\n",
        "\n",
        "**Regular Expression** – better known as Regex – is pattern matching. As regular expressions are regular, it means they are used to match well-defined patterns. Regular expression or pattern matching tools identify words and phrases with common patterns.  A typical use case for Regex is find and replace, however as it is not able to understand syntax, grammar, or context, Regex solutions tend to operate on a very small well-defined problem set. Basically, Regex solutions are using pattern matching to merely identify similarities and differences in patterns of words and phrases. They are not able to identify words and phrases taking into consideration syntax, grammar and ultimately context.\n",
        "\n",
        "\n",
        "- You will be facing some challenging questions on Regex in this assignment. Below following steps would help you to complete this assignment:\n",
        "\n",
        " 1. Read the question\n",
        " 2. Go to the link given under the question\n",
        " 3. You will land on Hakerrank page, if not then create your Hakerrank account.\n",
        " 4. Once you land on hankerank page mentioned under question, go through the given problem carefully.\n",
        " 5. Solve it in the editor given in the page. Select python3 as your language in the editor and click 'Run Code' Button\n",
        " 6. Once you have passed all the sample test cases, write your solution in this assignment against each question.`\n",
        "\n",
        "\n",
        "- If you need any assistence on Regex, then please refer below links:\n",
        "\n",
        "- YouTube reference: https://www.youtube.com/watch?v=zN8rwVXwRUE\n",
        "\n",
        "- Regex doc: https://docs.python.org/3/howto/regex.html\n",
        "\n",
        "\n"
      ]
    },
    {
      "cell_type": "markdown",
      "metadata": {
        "id": "0md2wdPSOLth"
      },
      "source": [
        "#### Q1. Matching string problem\n",
        "\n",
        "https://www.hackerrank.com/challenges/matching-specific-string/problem"
      ]
    },
    {
      "cell_type": "code",
      "metadata": {
        "id": "PPDcGz5n2yuW"
      },
      "source": [
        "Regex_Pattern = r'hackerrank'"
      ],
      "execution_count": null,
      "outputs": []
    },
    {
      "cell_type": "markdown",
      "metadata": {
        "id": "nPVGyrDwOLti"
      },
      "source": [
        "#### Q2 Matching anything\n",
        "\n",
        "link - https://www.hackerrank.com/challenges/matching-anything-but-new-line/problem\n"
      ]
    },
    {
      "cell_type": "code",
      "metadata": {
        "id": "Kz4PNbB221x2"
      },
      "source": [
        "regex_pattern = r\"^...\\....\\....\\....$\""
      ],
      "execution_count": null,
      "outputs": []
    },
    {
      "cell_type": "markdown",
      "metadata": {
        "id": "rVJre7OKOLtj"
      },
      "source": [
        "#### Q3 Matching non digit character\n",
        "\n",
        "link - https://www.hackerrank.com/challenges/matching-digits-non-digit-character/problem"
      ]
    },
    {
      "cell_type": "code",
      "metadata": {
        "id": "sBMuYLad25HF"
      },
      "source": [
        "Regex_Pattern = r\"\\d\\d\\D\\d\\d\\D\\d\\d\\d\\d\"\t# Do not delete 'r'.\n",
        "\n",
        "or\n",
        "\n",
        "\n",
        "Regex_Pattern = r\"\\d{2}\\D\\d{2}\\D\\d{4}\"    # Do not delete 'r'"
      ],
      "execution_count": null,
      "outputs": []
    },
    {
      "cell_type": "markdown",
      "metadata": {
        "id": "x-caJXjhOLtk"
      },
      "source": [
        "#### Q4 matching whitespace - non whitespace\n",
        "\n",
        "\n",
        "link - https://www.hackerrank.com/challenges/matching-whitespace-non-whitespace-character/problem?h_r=next-challenge&h_v=zen\n"
      ]
    },
    {
      "cell_type": "code",
      "metadata": {
        "id": "CDomSfIL28id"
      },
      "source": [
        "Regex_Pattern = r\"\\S{2}\\s\\S{2}\\s\\S{2}\""
      ],
      "execution_count": null,
      "outputs": []
    },
    {
      "cell_type": "markdown",
      "metadata": {
        "id": "nDobTn-vOLtk"
      },
      "source": [
        "#### Q5 matching start end problem\n",
        "\n",
        "\n",
        "\n",
        "link - https://www.hackerrank.com/challenges/matching-start-end/problem?h_r=next-challenge&h_v=zen&h_r=next-challenge&h_v=zen&h_r=next-challenge&h_v=zen"
      ]
    },
    {
      "cell_type": "code",
      "metadata": {
        "id": "Jg-oh4mH2_Hl"
      },
      "source": [
        "Regex_Pattern = r\"^\\d\\w{4}\\.$\""
      ],
      "execution_count": null,
      "outputs": []
    },
    {
      "cell_type": "markdown",
      "metadata": {
        "id": "m5w1nKAHOLtl"
      },
      "source": [
        "#### Q6 negative lookbehind\n",
        "\n",
        "link - https://www.hackerrank.com/challenges/negative-lookbehind/problem"
      ]
    },
    {
      "cell_type": "code",
      "metadata": {
        "id": "wOzrw50U3CCe"
      },
      "source": [
        "Regex_Pattern = r\"(?<![aeiouAEIOU]).\""
      ],
      "execution_count": null,
      "outputs": []
    },
    {
      "cell_type": "markdown",
      "metadata": {
        "id": "YcaJr0b5OLtl"
      },
      "source": [
        "#### Q7 Html attribute problem\n",
        "\n",
        "link - https://www.hackerrank.com/challenges/html-attributes/problem"
      ]
    },
    {
      "cell_type": "code",
      "metadata": {
        "id": "r4HgvUoP3Fil"
      },
      "source": [
        "import re\n",
        "from collections import defaultdict\n",
        "N = int(input())\n",
        "mystr = ''.join(input() for _ in range(N))\n",
        "tags = re.findall(r\"<(\\w+)(|\\s+.*?)>\", mystr)\n",
        "tagsAttr = [re.findall(\"(\\w+)=[\\'\\\"]\", i[i]) for i in tags]\n",
        "mydict = defaultdict(list)\n",
        "for i in range(len(tags)):\n",
        "    mydict[tags[i][0]].extend(tagsAttr[i])\n",
        "    \n",
        "mydict = {k:','.join(sorted(set(v))) for k,v in sorted(mydict.items())}\n",
        "\n",
        "for k,v in mydict.items():\n",
        "    print(\"{}:{}\".format(k,v))"
      ],
      "execution_count": null,
      "outputs": []
    },
    {
      "cell_type": "markdown",
      "metadata": {
        "id": "inPLtlrUOLtm"
      },
      "source": [
        "#### Q8 detect html tags\n",
        "\n",
        "link - https://www.hackerrank.com/challenges/detect-html-tags/problem\n"
      ]
    },
    {
      "cell_type": "code",
      "metadata": {
        "id": "dbzHe-7x3I2f"
      },
      "source": [
        "import re, sys\n",
        "\n",
        "print(';'.join(sorted(set(re.findall('<(\\w+)', sys.stdin.read())))))"
      ],
      "execution_count": null,
      "outputs": []
    },
    {
      "cell_type": "markdown",
      "metadata": {
        "id": "LOCuNhMZOLtm"
      },
      "source": [
        "#### Q9 final substring problem\n",
        "\n",
        "link - https://www.hackerrank.com/challenges/find-substring/problem\n"
      ]
    },
    {
      "cell_type": "code",
      "metadata": {
        "id": "LWfeuvft3Lw1"
      },
      "source": [
        "import re\n",
        "\n",
        "n = int(input())\n",
        "text = \"\\n\".join(input() for _ in range(n))\n",
        "\n",
        "t = int(input())\n",
        "\n",
        "for _ in range(t):\n",
        "    print(len(re.findall(r'\\B(%s)\\B' % input().strip(), text)))"
      ],
      "execution_count": null,
      "outputs": []
    },
    {
      "cell_type": "markdown",
      "metadata": {
        "id": "t6kNxKL8OLtm"
      },
      "source": [
        "#### Q 10 Alien username\n",
        "\n",
        "link - https://www.hackerrank.com/challenges/alien-username/problem"
      ]
    },
    {
      "cell_type": "code",
      "metadata": {
        "id": "OdJoJ1c63Ox1"
      },
      "source": [
        "import re\n",
        "\n",
        "n = int(input())\n",
        "for _ in range(n):\n",
        "    if re.match(\"^[_.]{1}[0-9]{1,}[a-zA-Z]{0,}[_]{0,1}$\", input()):\n",
        "        print(\"VALID\")\n",
        "        \n",
        "    else:\n",
        "        print(\"INVALID\")"
      ],
      "execution_count": null,
      "outputs": []
    },
    {
      "cell_type": "markdown",
      "metadata": {
        "id": "gftlAvUuOLtn"
      },
      "source": [
        "#### Q11 ip address validation\n",
        "\n",
        "link - https://www.hackerrank.com/challenges/ip-address-validation/problem"
      ]
    },
    {
      "cell_type": "code",
      "metadata": {
        "id": "vPzqgwz_3SX9"
      },
      "source": [
        "import re\n",
        "n = int(input())\n",
        "s4 = ('^'+\"{v}\\.\"*3+\"{v}$\").format(v=\"(25[0-5]|2[0-4]\\d|[01]?\\d?\\d)\")\n",
        "s6 = ('^'+\"{v}:\"*7+\"{v}$\").format(v=\"[\\da-f]{1,4}\")\n",
        "ip4 = re.compile(s4)\n",
        "ip6 = re.compile(s6)\n",
        "\n",
        "while n:\n",
        "    s = input()\n",
        "    if ip4.match(s):\n",
        "        print(\"IPv4\")\n",
        "    elif ip6.match(s):\n",
        "        print(\"IPv6\")\n",
        "    else:\n",
        "        print(\"Neither\")\n",
        "    n-=1"
      ],
      "execution_count": null,
      "outputs": []
    },
    {
      "cell_type": "markdown",
      "metadata": {
        "id": "QIpyE1AqOLtn"
      },
      "source": [
        "\n",
        "#### Q 12 find a word problem\n",
        "\n",
        "link - https://www.hackerrank.com/challenges/find-a-word/problem\n"
      ]
    },
    {
      "cell_type": "code",
      "metadata": {
        "id": "PXBydFyI3VK-"
      },
      "source": [
        "import re\n",
        "ss = ''\n",
        "\n",
        "for _ in range(int(input())):\n",
        "    ss += input() + '\\n'\n",
        "    \n",
        "for _ in range(int(input())):\n",
        "    wrd = input()\n",
        "    print(len(re.findall(rf'\\b{wrd}\\b', ss)))"
      ],
      "execution_count": null,
      "outputs": []
    },
    {
      "cell_type": "markdown",
      "metadata": {
        "id": "N2-xmfEUOLto"
      },
      "source": [
        "#### Q13 detect the email address\n",
        "\n",
        "link - https://www.hackerrank.com/challenges/detect-the-email-addresses/problem"
      ]
    },
    {
      "cell_type": "code",
      "metadata": {
        "id": "fSze1WHR3X1j"
      },
      "source": [
        "import re\n",
        "N = int(input())\n",
        "mystr = ' '.join([input() for i in range(N)])\n",
        "print(';'.join(sorted(set([i for i in re.findall(r\"([\\w.]+@[\\w.]+\\w+)\", mystr)]))))"
      ],
      "execution_count": null,
      "outputs": []
    },
    {
      "cell_type": "markdown",
      "metadata": {
        "id": "ZV3Z4k7WOLto"
      },
      "source": [
        "Q14 detect the domain problem\n",
        "\n",
        "link - https://www.hackerrank.com/challenges/detect-the-domain-name/problem"
      ]
    },
    {
      "cell_type": "code",
      "metadata": {
        "id": "DORvgkbM3awV"
      },
      "source": [
        "import re\n",
        "pat = r'(?:http://|https://)(?:www.|ww2.)?((?:[0-9a-zA-Z_\\.-]+)\\.[a-zA-Z]+)'\n",
        "\n",
        "N = int(input())\n",
        "\n",
        "res = []\n",
        "for _ in range(N):\n",
        "    txt = input()\n",
        "    ans = re.findall(pat, txt)\n",
        "    res += ans\n",
        "    \n",
        "print(':'.join(sorted(set(res))))"
      ],
      "execution_count": null,
      "outputs": []
    },
    {
      "cell_type": "markdown",
      "metadata": {
        "id": "4NsotWayOLto"
      },
      "source": [
        "#### Q15 ide challenge\n",
        "\n",
        "link - https://www.hackerrank.com/challenges/ide-identifying-comments/problem"
      ]
    },
    {
      "cell_type": "code",
      "metadata": {
        "id": "uLjHFcBq3d2D"
      },
      "source": [
        "import re\n",
        "import sys\n",
        "\n",
        "t = \"\\n\".join([i.strip() for i in sys.stdin])\n",
        "print(\"\\n\".join(re.findall(r\"//.*|/\\*[\\S\\s]*?\\*/\", t)))"
      ],
      "execution_count": null,
      "outputs": []
    },
    {
      "cell_type": "markdown",
      "metadata": {
        "id": "6x4Y4c7FOLtp"
      },
      "source": [
        "#### Q16 programming language detection problem\n",
        "\n",
        "link - https://www.hackerrank.com/challenges/programming-language-detection/problem"
      ]
    },
    {
      "cell_type": "code",
      "metadata": {
        "id": "zKPOK9pJ3hCt"
      },
      "source": [
        "import re\n",
        "import sys\n",
        "\n",
        "src = ''.join(sys.stdin.readlines())\n",
        "\n",
        "if 'java' in src:\n",
        "    print(\"Java\")\n",
        "elif '#include' in src:\n",
        "    print(\"C\")\n",
        "else:\n",
        "    print('Python')"
      ],
      "execution_count": null,
      "outputs": []
    },
    {
      "cell_type": "markdown",
      "metadata": {
        "id": "r90hQ5MrOLtp"
      },
      "source": [
        "\n",
        "---------------------------------\n",
        "\n",
        "# \"Holly jolly\":) Congratulations! you have completed the REGEX assignment. \n",
        "\n",
        "--------------------------------\n",
        "\n",
        "# FeedBack\n",
        "We hope you’ve enjoyed this course so far. We’re committed to help you use \"AI for All\" course to its full potential, so that you have a great learning experience. And that’s why we need your help in form of a feedback here.\n",
        "\n",
        "Please fill this feedback form  https://zfrmz.in/MtRG5oWXBdesm6rmSM7N"
      ]
    }
  ]
}