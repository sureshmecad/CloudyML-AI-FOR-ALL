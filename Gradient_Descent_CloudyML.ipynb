{
  "cells": [
    {
      "cell_type": "markdown",
      "metadata": {
        "id": "view-in-github",
        "colab_type": "text"
      },
      "source": [
        "<a href=\"https://colab.research.google.com/github/sureshmecad/CloudyML-AI-FOR-ALL/blob/main/Gradient_Descent_CloudyML.ipynb\" target=\"_parent\"><img src=\"https://colab.research.google.com/assets/colab-badge.svg\" alt=\"Open In Colab\"/></a>"
      ]
    },
    {
      "cell_type": "markdown",
      "metadata": {
        "id": "shXFOufCWd7N"
      },
      "source": [
        "# <center><u> Gradient Descent</u> </center>"
      ]
    },
    {
      "cell_type": "markdown",
      "metadata": {
        "id": "DS4-v1TXWd7P"
      },
      "source": [
        "Optimization is a big part of machine learning. Almost every machine learning algorithm has an optimization algorithm at it’s core.Gradient descent is an optimization algorithm used to find the values of parameters (coefficients) of a function (f) that minimizes a cost function (cost).\n",
        "\n",
        "Gradient descent is best used when the parameters cannot be calculated analytically (e.g. using linear algebra) and must be searched for by an optimization algorithm.\n",
        "\n",
        "\n",
        "In this assignment we will go through an example of implementing **Gradient Descent** in simple and multiple linear regression, for this we will be using housing dataset."
      ]
    },
    {
      "cell_type": "code",
      "source": [
        "from google.colab import drive\n",
        "drive.mount('/content/drive')"
      ],
      "metadata": {
        "colab": {
          "base_uri": "https://localhost:8080/"
        },
        "id": "Jhh6eUUKW_t9",
        "outputId": "513a8020-0c89-4028-bf40-c5459a39d8bb"
      },
      "execution_count": 1,
      "outputs": [
        {
          "output_type": "stream",
          "name": "stdout",
          "text": [
            "Mounted at /content/drive\n"
          ]
        }
      ]
    },
    {
      "cell_type": "code",
      "source": [
        "# Importing pandas \n",
        "import pandas as pd\n",
        "import numpy as np"
      ],
      "metadata": {
        "id": "Jc7DfXd6MElm"
      },
      "execution_count": 12,
      "outputs": []
    },
    {
      "cell_type": "code",
      "execution_count": 2,
      "metadata": {
        "colab": {
          "base_uri": "https://localhost:8080/",
          "height": 206
        },
        "id": "XoNGbHdmWd7Q",
        "outputId": "3f67b781-9625-4221-e06e-ee740708294f"
      },
      "outputs": [
        {
          "output_type": "execute_result",
          "data": {
            "text/html": [
              "\n",
              "  <div id=\"df-6baeed2e-697b-4cd8-bfff-ebdf795e4fd5\">\n",
              "    <div class=\"colab-df-container\">\n",
              "      <div>\n",
              "<style scoped>\n",
              "    .dataframe tbody tr th:only-of-type {\n",
              "        vertical-align: middle;\n",
              "    }\n",
              "\n",
              "    .dataframe tbody tr th {\n",
              "        vertical-align: top;\n",
              "    }\n",
              "\n",
              "    .dataframe thead th {\n",
              "        text-align: right;\n",
              "    }\n",
              "</style>\n",
              "<table border=\"1\" class=\"dataframe\">\n",
              "  <thead>\n",
              "    <tr style=\"text-align: right;\">\n",
              "      <th></th>\n",
              "      <th>price</th>\n",
              "      <th>area</th>\n",
              "      <th>bedrooms</th>\n",
              "      <th>bathrooms</th>\n",
              "      <th>stories</th>\n",
              "      <th>mainroad</th>\n",
              "      <th>guestroom</th>\n",
              "      <th>basement</th>\n",
              "      <th>hotwaterheating</th>\n",
              "      <th>airconditioning</th>\n",
              "      <th>parking</th>\n",
              "      <th>prefarea</th>\n",
              "      <th>furnishingstatus</th>\n",
              "    </tr>\n",
              "  </thead>\n",
              "  <tbody>\n",
              "    <tr>\n",
              "      <th>0</th>\n",
              "      <td>13300000</td>\n",
              "      <td>7420</td>\n",
              "      <td>4</td>\n",
              "      <td>2</td>\n",
              "      <td>3</td>\n",
              "      <td>yes</td>\n",
              "      <td>no</td>\n",
              "      <td>no</td>\n",
              "      <td>no</td>\n",
              "      <td>yes</td>\n",
              "      <td>2</td>\n",
              "      <td>yes</td>\n",
              "      <td>furnished</td>\n",
              "    </tr>\n",
              "    <tr>\n",
              "      <th>1</th>\n",
              "      <td>12250000</td>\n",
              "      <td>8960</td>\n",
              "      <td>4</td>\n",
              "      <td>4</td>\n",
              "      <td>4</td>\n",
              "      <td>yes</td>\n",
              "      <td>no</td>\n",
              "      <td>no</td>\n",
              "      <td>no</td>\n",
              "      <td>yes</td>\n",
              "      <td>3</td>\n",
              "      <td>no</td>\n",
              "      <td>furnished</td>\n",
              "    </tr>\n",
              "    <tr>\n",
              "      <th>2</th>\n",
              "      <td>12250000</td>\n",
              "      <td>9960</td>\n",
              "      <td>3</td>\n",
              "      <td>2</td>\n",
              "      <td>2</td>\n",
              "      <td>yes</td>\n",
              "      <td>no</td>\n",
              "      <td>yes</td>\n",
              "      <td>no</td>\n",
              "      <td>no</td>\n",
              "      <td>2</td>\n",
              "      <td>yes</td>\n",
              "      <td>semi-furnished</td>\n",
              "    </tr>\n",
              "    <tr>\n",
              "      <th>3</th>\n",
              "      <td>12215000</td>\n",
              "      <td>7500</td>\n",
              "      <td>4</td>\n",
              "      <td>2</td>\n",
              "      <td>2</td>\n",
              "      <td>yes</td>\n",
              "      <td>no</td>\n",
              "      <td>yes</td>\n",
              "      <td>no</td>\n",
              "      <td>yes</td>\n",
              "      <td>3</td>\n",
              "      <td>yes</td>\n",
              "      <td>furnished</td>\n",
              "    </tr>\n",
              "    <tr>\n",
              "      <th>4</th>\n",
              "      <td>11410000</td>\n",
              "      <td>7420</td>\n",
              "      <td>4</td>\n",
              "      <td>1</td>\n",
              "      <td>2</td>\n",
              "      <td>yes</td>\n",
              "      <td>yes</td>\n",
              "      <td>yes</td>\n",
              "      <td>no</td>\n",
              "      <td>yes</td>\n",
              "      <td>2</td>\n",
              "      <td>no</td>\n",
              "      <td>furnished</td>\n",
              "    </tr>\n",
              "  </tbody>\n",
              "</table>\n",
              "</div>\n",
              "      <button class=\"colab-df-convert\" onclick=\"convertToInteractive('df-6baeed2e-697b-4cd8-bfff-ebdf795e4fd5')\"\n",
              "              title=\"Convert this dataframe to an interactive table.\"\n",
              "              style=\"display:none;\">\n",
              "        \n",
              "  <svg xmlns=\"http://www.w3.org/2000/svg\" height=\"24px\"viewBox=\"0 0 24 24\"\n",
              "       width=\"24px\">\n",
              "    <path d=\"M0 0h24v24H0V0z\" fill=\"none\"/>\n",
              "    <path d=\"M18.56 5.44l.94 2.06.94-2.06 2.06-.94-2.06-.94-.94-2.06-.94 2.06-2.06.94zm-11 1L8.5 8.5l.94-2.06 2.06-.94-2.06-.94L8.5 2.5l-.94 2.06-2.06.94zm10 10l.94 2.06.94-2.06 2.06-.94-2.06-.94-.94-2.06-.94 2.06-2.06.94z\"/><path d=\"M17.41 7.96l-1.37-1.37c-.4-.4-.92-.59-1.43-.59-.52 0-1.04.2-1.43.59L10.3 9.45l-7.72 7.72c-.78.78-.78 2.05 0 2.83L4 21.41c.39.39.9.59 1.41.59.51 0 1.02-.2 1.41-.59l7.78-7.78 2.81-2.81c.8-.78.8-2.07 0-2.86zM5.41 20L4 18.59l7.72-7.72 1.47 1.35L5.41 20z\"/>\n",
              "  </svg>\n",
              "      </button>\n",
              "      \n",
              "  <style>\n",
              "    .colab-df-container {\n",
              "      display:flex;\n",
              "      flex-wrap:wrap;\n",
              "      gap: 12px;\n",
              "    }\n",
              "\n",
              "    .colab-df-convert {\n",
              "      background-color: #E8F0FE;\n",
              "      border: none;\n",
              "      border-radius: 50%;\n",
              "      cursor: pointer;\n",
              "      display: none;\n",
              "      fill: #1967D2;\n",
              "      height: 32px;\n",
              "      padding: 0 0 0 0;\n",
              "      width: 32px;\n",
              "    }\n",
              "\n",
              "    .colab-df-convert:hover {\n",
              "      background-color: #E2EBFA;\n",
              "      box-shadow: 0px 1px 2px rgba(60, 64, 67, 0.3), 0px 1px 3px 1px rgba(60, 64, 67, 0.15);\n",
              "      fill: #174EA6;\n",
              "    }\n",
              "\n",
              "    [theme=dark] .colab-df-convert {\n",
              "      background-color: #3B4455;\n",
              "      fill: #D2E3FC;\n",
              "    }\n",
              "\n",
              "    [theme=dark] .colab-df-convert:hover {\n",
              "      background-color: #434B5C;\n",
              "      box-shadow: 0px 1px 3px 1px rgba(0, 0, 0, 0.15);\n",
              "      filter: drop-shadow(0px 1px 2px rgba(0, 0, 0, 0.3));\n",
              "      fill: #FFFFFF;\n",
              "    }\n",
              "  </style>\n",
              "\n",
              "      <script>\n",
              "        const buttonEl =\n",
              "          document.querySelector('#df-6baeed2e-697b-4cd8-bfff-ebdf795e4fd5 button.colab-df-convert');\n",
              "        buttonEl.style.display =\n",
              "          google.colab.kernel.accessAllowed ? 'block' : 'none';\n",
              "\n",
              "        async function convertToInteractive(key) {\n",
              "          const element = document.querySelector('#df-6baeed2e-697b-4cd8-bfff-ebdf795e4fd5');\n",
              "          const dataTable =\n",
              "            await google.colab.kernel.invokeFunction('convertToInteractive',\n",
              "                                                     [key], {});\n",
              "          if (!dataTable) return;\n",
              "\n",
              "          const docLinkHtml = 'Like what you see? Visit the ' +\n",
              "            '<a target=\"_blank\" href=https://colab.research.google.com/notebooks/data_table.ipynb>data table notebook</a>'\n",
              "            + ' to learn more about interactive tables.';\n",
              "          element.innerHTML = '';\n",
              "          dataTable['output_type'] = 'display_data';\n",
              "          await google.colab.output.renderOutput(dataTable, element);\n",
              "          const docLink = document.createElement('div');\n",
              "          docLink.innerHTML = docLinkHtml;\n",
              "          element.appendChild(docLink);\n",
              "        }\n",
              "      </script>\n",
              "    </div>\n",
              "  </div>\n",
              "  "
            ],
            "text/plain": [
              "      price  area  bedrooms  ...  parking  prefarea furnishingstatus\n",
              "0  13300000  7420         4  ...        2       yes        furnished\n",
              "1  12250000  8960         4  ...        3        no        furnished\n",
              "2  12250000  9960         3  ...        2       yes   semi-furnished\n",
              "3  12215000  7500         4  ...        3       yes        furnished\n",
              "4  11410000  7420         4  ...        2        no        furnished\n",
              "\n",
              "[5 rows x 13 columns]"
            ]
          },
          "metadata": {},
          "execution_count": 2
        }
      ],
      "source": [
        "# read Housing dataset\n",
        "housing = pd.read_csv(\"/content/drive/MyDrive/CloudyML/Housing.zip\")\n",
        "\n",
        "# print head\n",
        "housing.head()"
      ]
    },
    {
      "cell_type": "code",
      "execution_count": 3,
      "metadata": {
        "colab": {
          "base_uri": "https://localhost:8080/"
        },
        "id": "nlJrsD-xWd7R",
        "outputId": "abb118e5-3198-4279-b42c-1eb8f8e99729"
      },
      "outputs": [
        {
          "output_type": "stream",
          "name": "stdout",
          "text": [
            "<class 'pandas.core.frame.DataFrame'>\n",
            "RangeIndex: 545 entries, 0 to 544\n",
            "Data columns (total 13 columns):\n",
            " #   Column            Non-Null Count  Dtype \n",
            "---  ------            --------------  ----- \n",
            " 0   price             545 non-null    int64 \n",
            " 1   area              545 non-null    int64 \n",
            " 2   bedrooms          545 non-null    int64 \n",
            " 3   bathrooms         545 non-null    int64 \n",
            " 4   stories           545 non-null    int64 \n",
            " 5   mainroad          545 non-null    object\n",
            " 6   guestroom         545 non-null    object\n",
            " 7   basement          545 non-null    object\n",
            " 8   hotwaterheating   545 non-null    object\n",
            " 9   airconditioning   545 non-null    object\n",
            " 10  parking           545 non-null    int64 \n",
            " 11  prefarea          545 non-null    object\n",
            " 12  furnishingstatus  545 non-null    object\n",
            "dtypes: int64(6), object(7)\n",
            "memory usage: 55.5+ KB\n"
          ]
        }
      ],
      "source": [
        "# print housing datatype information\n",
        "housing.info()"
      ]
    },
    {
      "cell_type": "code",
      "execution_count": 4,
      "metadata": {
        "id": "5O1e1aJLWd7S"
      },
      "outputs": [],
      "source": [
        "# Converting columns with Yes and No values (Yes to 1 and No to 0)\n",
        "housing['mainroad'] = housing['mainroad'].map({'Yes':1, \"No\":0})\n",
        "housing['guestroom'] = housing['guestroom'].map({'Yes':1, \"No\":0})\n",
        "housing['basement'] = housing['basement'].map({'Yes':1, \"No\":0})\n",
        "housing['hotwaterheating'] = housing['hotwaterheating'].map({'Yes':1, \"No\":0})\n",
        "housing['airconditioning'] = housing['airconditioning'].map({'Yes':1, \"No\":0})\n",
        "housing['prefarea'] = housing['prefarea'].map({'Yes':1, \"No\":0})"
      ]
    },
    {
      "cell_type": "code",
      "execution_count": 5,
      "metadata": {
        "id": "or80yhVFWd7S"
      },
      "outputs": [],
      "source": [
        "# Converting furnishingstatus column to binary column using get_dummies\n",
        "status = pd.get_dummies(housing['furnishingstatus'], drop_first=True)\n",
        "\n",
        "# concat housing and status \n",
        "housing = pd.concat([housing, status], axis=1)\n",
        "\n",
        "# drop furnishingstatus columns from housing\n",
        "housing.drop('furnishingstatus', axis=1, inplace=True)"
      ]
    },
    {
      "cell_type": "code",
      "execution_count": 6,
      "metadata": {
        "id": "tsiITisNWd7T",
        "outputId": "e5e33940-1201-416a-b0e7-0b7c4eb290a1",
        "colab": {
          "base_uri": "https://localhost:8080/",
          "height": 206
        }
      },
      "outputs": [
        {
          "output_type": "execute_result",
          "data": {
            "text/html": [
              "\n",
              "  <div id=\"df-edd56ca0-ac8b-4e6f-83db-c071856ed37c\">\n",
              "    <div class=\"colab-df-container\">\n",
              "      <div>\n",
              "<style scoped>\n",
              "    .dataframe tbody tr th:only-of-type {\n",
              "        vertical-align: middle;\n",
              "    }\n",
              "\n",
              "    .dataframe tbody tr th {\n",
              "        vertical-align: top;\n",
              "    }\n",
              "\n",
              "    .dataframe thead th {\n",
              "        text-align: right;\n",
              "    }\n",
              "</style>\n",
              "<table border=\"1\" class=\"dataframe\">\n",
              "  <thead>\n",
              "    <tr style=\"text-align: right;\">\n",
              "      <th></th>\n",
              "      <th>price</th>\n",
              "      <th>area</th>\n",
              "      <th>bedrooms</th>\n",
              "      <th>bathrooms</th>\n",
              "      <th>stories</th>\n",
              "      <th>mainroad</th>\n",
              "      <th>guestroom</th>\n",
              "      <th>basement</th>\n",
              "      <th>hotwaterheating</th>\n",
              "      <th>airconditioning</th>\n",
              "      <th>parking</th>\n",
              "      <th>prefarea</th>\n",
              "      <th>semi-furnished</th>\n",
              "      <th>unfurnished</th>\n",
              "    </tr>\n",
              "  </thead>\n",
              "  <tbody>\n",
              "    <tr>\n",
              "      <th>0</th>\n",
              "      <td>13300000</td>\n",
              "      <td>7420</td>\n",
              "      <td>4</td>\n",
              "      <td>2</td>\n",
              "      <td>3</td>\n",
              "      <td>NaN</td>\n",
              "      <td>NaN</td>\n",
              "      <td>NaN</td>\n",
              "      <td>NaN</td>\n",
              "      <td>NaN</td>\n",
              "      <td>2</td>\n",
              "      <td>NaN</td>\n",
              "      <td>0</td>\n",
              "      <td>0</td>\n",
              "    </tr>\n",
              "    <tr>\n",
              "      <th>1</th>\n",
              "      <td>12250000</td>\n",
              "      <td>8960</td>\n",
              "      <td>4</td>\n",
              "      <td>4</td>\n",
              "      <td>4</td>\n",
              "      <td>NaN</td>\n",
              "      <td>NaN</td>\n",
              "      <td>NaN</td>\n",
              "      <td>NaN</td>\n",
              "      <td>NaN</td>\n",
              "      <td>3</td>\n",
              "      <td>NaN</td>\n",
              "      <td>0</td>\n",
              "      <td>0</td>\n",
              "    </tr>\n",
              "    <tr>\n",
              "      <th>2</th>\n",
              "      <td>12250000</td>\n",
              "      <td>9960</td>\n",
              "      <td>3</td>\n",
              "      <td>2</td>\n",
              "      <td>2</td>\n",
              "      <td>NaN</td>\n",
              "      <td>NaN</td>\n",
              "      <td>NaN</td>\n",
              "      <td>NaN</td>\n",
              "      <td>NaN</td>\n",
              "      <td>2</td>\n",
              "      <td>NaN</td>\n",
              "      <td>1</td>\n",
              "      <td>0</td>\n",
              "    </tr>\n",
              "    <tr>\n",
              "      <th>3</th>\n",
              "      <td>12215000</td>\n",
              "      <td>7500</td>\n",
              "      <td>4</td>\n",
              "      <td>2</td>\n",
              "      <td>2</td>\n",
              "      <td>NaN</td>\n",
              "      <td>NaN</td>\n",
              "      <td>NaN</td>\n",
              "      <td>NaN</td>\n",
              "      <td>NaN</td>\n",
              "      <td>3</td>\n",
              "      <td>NaN</td>\n",
              "      <td>0</td>\n",
              "      <td>0</td>\n",
              "    </tr>\n",
              "    <tr>\n",
              "      <th>4</th>\n",
              "      <td>11410000</td>\n",
              "      <td>7420</td>\n",
              "      <td>4</td>\n",
              "      <td>1</td>\n",
              "      <td>2</td>\n",
              "      <td>NaN</td>\n",
              "      <td>NaN</td>\n",
              "      <td>NaN</td>\n",
              "      <td>NaN</td>\n",
              "      <td>NaN</td>\n",
              "      <td>2</td>\n",
              "      <td>NaN</td>\n",
              "      <td>0</td>\n",
              "      <td>0</td>\n",
              "    </tr>\n",
              "  </tbody>\n",
              "</table>\n",
              "</div>\n",
              "      <button class=\"colab-df-convert\" onclick=\"convertToInteractive('df-edd56ca0-ac8b-4e6f-83db-c071856ed37c')\"\n",
              "              title=\"Convert this dataframe to an interactive table.\"\n",
              "              style=\"display:none;\">\n",
              "        \n",
              "  <svg xmlns=\"http://www.w3.org/2000/svg\" height=\"24px\"viewBox=\"0 0 24 24\"\n",
              "       width=\"24px\">\n",
              "    <path d=\"M0 0h24v24H0V0z\" fill=\"none\"/>\n",
              "    <path d=\"M18.56 5.44l.94 2.06.94-2.06 2.06-.94-2.06-.94-.94-2.06-.94 2.06-2.06.94zm-11 1L8.5 8.5l.94-2.06 2.06-.94-2.06-.94L8.5 2.5l-.94 2.06-2.06.94zm10 10l.94 2.06.94-2.06 2.06-.94-2.06-.94-.94-2.06-.94 2.06-2.06.94z\"/><path d=\"M17.41 7.96l-1.37-1.37c-.4-.4-.92-.59-1.43-.59-.52 0-1.04.2-1.43.59L10.3 9.45l-7.72 7.72c-.78.78-.78 2.05 0 2.83L4 21.41c.39.39.9.59 1.41.59.51 0 1.02-.2 1.41-.59l7.78-7.78 2.81-2.81c.8-.78.8-2.07 0-2.86zM5.41 20L4 18.59l7.72-7.72 1.47 1.35L5.41 20z\"/>\n",
              "  </svg>\n",
              "      </button>\n",
              "      \n",
              "  <style>\n",
              "    .colab-df-container {\n",
              "      display:flex;\n",
              "      flex-wrap:wrap;\n",
              "      gap: 12px;\n",
              "    }\n",
              "\n",
              "    .colab-df-convert {\n",
              "      background-color: #E8F0FE;\n",
              "      border: none;\n",
              "      border-radius: 50%;\n",
              "      cursor: pointer;\n",
              "      display: none;\n",
              "      fill: #1967D2;\n",
              "      height: 32px;\n",
              "      padding: 0 0 0 0;\n",
              "      width: 32px;\n",
              "    }\n",
              "\n",
              "    .colab-df-convert:hover {\n",
              "      background-color: #E2EBFA;\n",
              "      box-shadow: 0px 1px 2px rgba(60, 64, 67, 0.3), 0px 1px 3px 1px rgba(60, 64, 67, 0.15);\n",
              "      fill: #174EA6;\n",
              "    }\n",
              "\n",
              "    [theme=dark] .colab-df-convert {\n",
              "      background-color: #3B4455;\n",
              "      fill: #D2E3FC;\n",
              "    }\n",
              "\n",
              "    [theme=dark] .colab-df-convert:hover {\n",
              "      background-color: #434B5C;\n",
              "      box-shadow: 0px 1px 3px 1px rgba(0, 0, 0, 0.15);\n",
              "      filter: drop-shadow(0px 1px 2px rgba(0, 0, 0, 0.3));\n",
              "      fill: #FFFFFF;\n",
              "    }\n",
              "  </style>\n",
              "\n",
              "      <script>\n",
              "        const buttonEl =\n",
              "          document.querySelector('#df-edd56ca0-ac8b-4e6f-83db-c071856ed37c button.colab-df-convert');\n",
              "        buttonEl.style.display =\n",
              "          google.colab.kernel.accessAllowed ? 'block' : 'none';\n",
              "\n",
              "        async function convertToInteractive(key) {\n",
              "          const element = document.querySelector('#df-edd56ca0-ac8b-4e6f-83db-c071856ed37c');\n",
              "          const dataTable =\n",
              "            await google.colab.kernel.invokeFunction('convertToInteractive',\n",
              "                                                     [key], {});\n",
              "          if (!dataTable) return;\n",
              "\n",
              "          const docLinkHtml = 'Like what you see? Visit the ' +\n",
              "            '<a target=\"_blank\" href=https://colab.research.google.com/notebooks/data_table.ipynb>data table notebook</a>'\n",
              "            + ' to learn more about interactive tables.';\n",
              "          element.innerHTML = '';\n",
              "          dataTable['output_type'] = 'display_data';\n",
              "          await google.colab.output.renderOutput(dataTable, element);\n",
              "          const docLink = document.createElement('div');\n",
              "          docLink.innerHTML = docLinkHtml;\n",
              "          element.appendChild(docLink);\n",
              "        }\n",
              "      </script>\n",
              "    </div>\n",
              "  </div>\n",
              "  "
            ],
            "text/plain": [
              "      price  area  bedrooms  ...  prefarea  semi-furnished  unfurnished\n",
              "0  13300000  7420         4  ...       NaN               0            0\n",
              "1  12250000  8960         4  ...       NaN               0            0\n",
              "2  12250000  9960         3  ...       NaN               1            0\n",
              "3  12215000  7500         4  ...       NaN               0            0\n",
              "4  11410000  7420         4  ...       NaN               0            0\n",
              "\n",
              "[5 rows x 14 columns]"
            ]
          },
          "metadata": {},
          "execution_count": 6
        }
      ],
      "source": [
        "# print head\n",
        "housing.head()"
      ]
    },
    {
      "cell_type": "markdown",
      "source": [
        "#### Scaling (Normalization)"
      ],
      "metadata": {
        "id": "WFNA-q4eHhdt"
      }
    },
    {
      "cell_type": "markdown",
      "source": [
        "![1.JPG](data:image/jpeg;base64,/9j/4AAQSkZJRgABAQEAeAB4AAD/4REiRXhpZgAATU0AKgAAAAgABAE7AAIAAAAdAAAISodpAAQAAAABAAAIaJydAAEAAAA6AAAQ4OocAAcAAAgMAAAAPgAAAAAc6gAAAAgAAAAAAAAAAAAAAAAAAAAAAAAAAAAAAAAAAAAAAAAAAAAAAAAAAAAAAAAAAAAAAAAAAAAAAAAAAAAAAAAAAAAAAAAAAAAAAAAAAAAAAAAAAAAAAAAAAAAAAAAAAAAAAAAAAAAAAAAAAAAAAAAAAAAAAAAAAAAAAAAAAAAAAAAAAAAAAAAAAAAAAAAAAAAAAAAAAAAAAAAAAAAAAAAAAAAAAAAAAAAAAAAAAAAAAAAAAAAAAAAAAAAAAAAAAAAAAAAAAAAAAAAAAAAAAAAAAAAAAAAAAAAAAAAAAAAAAAAAAAAAAAAAAAAAAAAAAAAAAAAAAAAAAAAAAAAAAAAAAAAAAAAAAAAAAAAAAAAAAAAAAAAAAAAAAAAAAAAAAAAAAAAAAAAAAAAAAAAAAAAAAAAAAAAAAAAAAAAAAAAAAAAAAAAAAAAAAAAAAAAAAAAAAAAAAAAAAAAAAAAAAAAAAAAAAAAAAAAAAAAAAAAAAAAAAAAAAAAAAAAAAAAAAAAAAAAAAAAAAAAAAAAAAAAAAAAAAAAAAAAAAAAAAAAAAAAAAAAAAAAAAAAAAAAAAAAAAAAAAAAAAAAAAAAAAAAAAAAAAAAAAAAAAAAAAAAAAAAAAAAAAAAAAAAAAAAAAAAAAAAAAAAAAAAAAAAAAAAAAAAAAAAAAAAAAAAAAAAAAAAAAAAAAAAAAAAAAAAAAAAAAAAAAAAAAAAAAAAAAAAAAAAAAAAAAAAAAAAAAAAAAAAAAAAAAAAAAAAAAAAAAAAAAAAAAAAAAAAAAAAAAAAAAAAAAAAAAAAAAAAAAAAAAAAAAAAAAAAAAAAAAAAAAAAAAAAAAAAAAAAAAAAAAAAAAAAAAAAAAAAAAAAAAAAAAAAAAAAAAAAAAAAAAAAAAAAAAAAAAAAAAAAAAAAAAAAAAAAAAAAAAAAAAAAAAAAAAAAAAAAAAAAAAAAAAAAAAAAAAAAAAAAAAAAAAAAAAAAAAAAAAAAAAAAAAAAAAAAAAAAAAAAAAAAAAAAAAAAAAAAAAAAAAAAAAAAAAAAAAAAAAAAAAAAAAAAAAAAAAAAAAAAAAAAAAAAAAAAAAAAAAAAAAAAAAAAAAAAAAAAAAAAAAAAAAAAAAAAAAAAAAAAAAAAAAAAAAAAAAAAAAAAAAAAAAAAAAAAAAAAAAAAAAAAAAAAAAAAAAAAAAAAAAAAAAAAAAAAAAAAAAAAAAAAAAAAAAAAAAAAAAAAAAAAAAAAAAAAAAAAAAAAAAAAAAAAAAAAAAAAAAAAAAAAAAAAAAAAAAAAAAAAAAAAAAAAAAAAAAAAAAAAAAAAAAAAAAAAAAAAAAAAAAAAAAAAAAAAAAAAAAAAAAAAAAAAAAAAAAAAAAAAAAAAAAAAAAAAAAAAAAAAAAAAAAAAAAAAAAAAAAAAAAAAAAAAAAAAAAAAAAAAAAAAAAAAAAAAAAAAAAAAAAAAAAAAAAAAAAAAAAAAAAAAAAAAAAAAAAAAAAAAAAAAAAAAAAAAAAAAAAAAAAAAAAAAAAAAAAAAAAAAAAAAAAAAAAAAAAAAAAAAAAAAAAAAAAAAAAAAAAAAAAAAAAAAAAAAAAAAAAAAAAAAAAAAAAAAAAAAAAAAAAAAAAAAAAAAAAAAAAAAAAAAAAAAAAAAAAAAAAAAAAAAAAAAAAAAAAAAAAAAAAAAAAAAAAAAAAAAAAAAAAAAAAAAAAAAAAAAAAAAAAAAAAAAAAAAAAAAAAAAAAAAAAAAAAAAAAAAAAAAAAAAAAAAAAAAAAAAAAAAAAAAAAAAAAAAAAAAAAAAAAAAAAAAAAAAAAAAAAAAAAAAAAAAAAAAAAAAAAAAAAAAAAAAAAAAAAAAAAAAAAAAAAAAAAAAAAAAAAAAAAAAAAAAAAAAAAAAAAAAAAAAAAAAAAAAAAAAAAAAAAAAAAAAAAAAAAAAAAAAAAAAAAAAAAAAAAAAAAAAAAAAAAAAAAAAAAAAAAAAAAAAAAAAAAAAAAAAAAAAAAAAAAAAAAAAAAAAAAAAAAAAAAAAAAAAAAAAAAAAAAAAAAAAAAAAAAAAAAAAAAAAAAAAAAAAAAAAAAAAAAAAAAAAAAAAAAAAAAAAAAAAAAAAAAAAAAAAAAAAAAAAAAAAAAAAAAAAAAAAAAAAAAAAAAAAAAAAAAAAAAAAAAAAAAAAAAAAAAAAAAAAAAAAAAAAAAAAAAAAAAAAAAAAAAAAAAAAAAAAAAAAAAAAAAAAAAAAAAAAAAAAAAAAAAAAAAAAAAAAAAAAAAAAAAAAAAAAAAAAAAAAAAAAAAAAAAAAAAAAAAAAAAAAAAAAAAAAAAAAAAAAAAAAAAAAAAAAAAAAAAAAAAAAAAAAAAAAAAAAAAAAAAAAAAAAAAAAAAAAAAAAAAAAAAAAAAAAAAAAAAAAAAAAAAAAAAAAAAAAAAAAAAAAAAAAAAAAAAAAAAAAAAAAAAAAAAAAAAAAAAAAAAAAAAAAAAAAAAAAAAAAAAAAAAAAAAAAAAAAAAAAAAAAAAAAAAAAAAAAAAAAAAAAAAAAAAAAAAAAAAAAAAAAAAAAAAAAAAAAAAAAAAAAAAAAAAAAAAAAAAAAAAAAAAAAAAAAAAAAAAAAAAAAAAAAAAAAAAAAAAAAAAAAAAAAAAAAAAAAAAAAAAAAAAAAAAAAAAAAAAAAAAAAAAAAAAAAAAAAAAAAAAAAAAAAAAAAAAAAAAAAAAAAAAAAAAAAAAAAAAAAAAAAAAAAAAAAAAAAAAAAAAAAAAAAAAEFudWdhbnRpIFN1cmVzaCAoQ29uc3VsdGFudCkAAAAFkAMAAgAAABQAABC2kAQAAgAAABQAABDKkpEAAgAAAAMxOAAAkpIAAgAAAAMxOAAA6hwABwAACAwAAAiqAAAAABzqAAAACAAAAAAAAAAAAAAAAAAAAAAAAAAAAAAAAAAAAAAAAAAAAAAAAAAAAAAAAAAAAAAAAAAAAAAAAAAAAAAAAAAAAAAAAAAAAAAAAAAAAAAAAAAAAAAAAAAAAAAAAAAAAAAAAAAAAAAAAAAAAAAAAAAAAAAAAAAAAAAAAAAAAAAAAAAAAAAAAAAAAAAAAAAAAAAAAAAAAAAAAAAAAAAAAAAAAAAAAAAAAAAAAAAAAAAAAAAAAAAAAAAAAAAAAAAAAAAAAAAAAAAAAAAAAAAAAAAAAAAAAAAAAAAAAAAAAAAAAAAAAAAAAAAAAAAAAAAAAAAAAAAAAAAAAAAAAAAAAAAAAAAAAAAAAAAAAAAAAAAAAAAAAAAAAAAAAAAAAAAAAAAAAAAAAAAAAAAAAAAAAAAAAAAAAAAAAAAAAAAAAAAAAAAAAAAAAAAAAAAAAAAAAAAAAAAAAAAAAAAAAAAAAAAAAAAAAAAAAAAAAAAAAAAAAAAAAAAAAAAAAAAAAAAAAAAAAAAAAAAAAAAAAAAAAAAAAAAAAAAAAAAAAAAAAAAAAAAAAAAAAAAAAAAAAAAAAAAAAAAAAAAAAAAAAAAAAAAAAAAAAAAAAAAAAAAAAAAAAAAAAAAAAAAAAAAAAAAAAAAAAAAAAAAAAAAAAAAAAAAAAAAAAAAAAAAAAAAAAAAAAAAAAAAAAAAAAAAAAAAAAAAAAAAAAAAAAAAAAAAAAAAAAAAAAAAAAAAAAAAAAAAAAAAAAAAAAAAAAAAAAAAAAAAAAAAAAAAAAAAAAAAAAAAAAAAAAAAAAAAAAAAAAAAAAAAAAAAAAAAAAAAAAAAAAAAAAAAAAAAAAAAAAAAAAAAAAAAAAAAAAAAAAAAAAAAAAAAAAAAAAAAAAAAAAAAAAAAAAAAAAAAAAAAAAAAAAAAAAAAAAAAAAAAAAAAAAAAAAAAAAAAAAAAAAAAAAAAAAAAAAAAAAAAAAAAAAAAAAAAAAAAAAAAAAAAAAAAAAAAAAAAAAAAAAAAAAAAAAAAAAAAAAAAAAAAAAAAAAAAAAAAAAAAAAAAAAAAAAAAAAAAAAAAAAAAAAAAAAAAAAAAAAAAAAAAAAAAAAAAAAAAAAAAAAAAAAAAAAAAAAAAAAAAAAAAAAAAAAAAAAAAAAAAAAAAAAAAAAAAAAAAAAAAAAAAAAAAAAAAAAAAAAAAAAAAAAAAAAAAAAAAAAAAAAAAAAAAAAAAAAAAAAAAAAAAAAAAAAAAAAAAAAAAAAAAAAAAAAAAAAAAAAAAAAAAAAAAAAAAAAAAAAAAAAAAAAAAAAAAAAAAAAAAAAAAAAAAAAAAAAAAAAAAAAAAAAAAAAAAAAAAAAAAAAAAAAAAAAAAAAAAAAAAAAAAAAAAAAAAAAAAAAAAAAAAAAAAAAAAAAAAAAAAAAAAAAAAAAAAAAAAAAAAAAAAAAAAAAAAAAAAAAAAAAAAAAAAAAAAAAAAAAAAAAAAAAAAAAAAAAAAAAAAAAAAAAAAAAAAAAAAAAAAAAAAAAAAAAAAAAAAAAAAAAAAAAAAAAAAAAAAAAAAAAAAAAAAAAAAAAAAAAAAAAAAAAAAAAAAAAAAAAAAAAAAAAAAAAAAAAAAAAAAAAAAAAAAAAAAAAAAAAAAAAAAAAAAAAAAAAAAAAAAAAAAAAAAAAAAAAAAAAAAAAAAAAAAAAAAAAAAAAAAAAAAAAAAAAAAAAAAAAAAAAAAAAAAAAAAAAAAAAAAAAAAAAAAAAAAAAAAAAAAAAAAAAAAAAAAAAAAAAAAAAAAAAAAAAAAAAAAAAAAAAAAAAAAAAAAAAAAAAAAAAAAAAAAAAAAAAAAAAAAAAAAAAAAAAAAAAAAAAAAAAAAAAAAAAAAAAAAAAAAAAAAAAAAAAAAAAAAAAAAAAAAAAAAAAAAAAAAAAAAAAAAAAAAAAAAAAAAAAAAAAAAAAAAAAAAAAAAAAAAAAAAAAAAAAAAAAAAAAAAAAAAAAAAAAAAAAAAAAAAAAAAAAAAAAAAAAAAAAAAAAAAAAAAAAAAAAAAAAAAAAAAAAAAAAAAAAAAAAAAAAAAAAAAAAAAAAAAAAAAAAAAAAAAAAAAAAAAAAAAAAAAAAAAAAAAAAAAAAAAAAAAAAAAAAAAAAAAAAAAAAAAAAAAAAAAAAAAAAAAAAAAAAAAAAAAAAAAAAAAAAAAAAAAAAAAAAAAAAAAAAAAAAAAAAAAAAAAAAAAAAAAAAAAAAAAAAAAAAAAAAAAAAAAAAAAAAAAAAAAAAAAAAAAAAAAAAAAAAAAAAAAAAAAAAAAAAAAAAAAAAAAAAAAAAAAAAAAAAAAAAAAAAAAAAAAAAAAAAAAAAAAAAAAAAAAAAAAAAAAAAAAAAAAAAAAAAAAAAAAAAAAAAAAAAAAAAAAAAAAAAAAAAAAAAAAAAAAAAAAAAAAAAAAAAAAAAAAAAAAAAAAAAAAAAAAAAAAAAAAAAAAAAAAAAAAAAAAAAAAAAAAAAAAAAAAAAAAAAAAAAAAAAAAAAAAAAAAAAAAAAAAAAAAAAAAAAAAAAAAAAAAAAAAAAAAAAAAAAAAAAAAAAAAAAAAAAAAAAAAAAAAAAAAAAAAAAAAAAAAAAAAAAAAAAAAAAAAAAAAAAAAAAAAAAAAAAAAAAAAAAAAAAAAAAAAAAAAAAAAAAAAAAAAAAAAAAAAAAAAAAAAAAAAAAAAAAAAAAAAAAAAAAAAAAAAAAAAAAAAAAAAAAAAAAAAAAAAAAAAAAAAAAAAAAAAAMjAyMjowMToxOCAxMzowNjozMgAyMDIyOjAxOjE4IDEzOjA2OjMyAAAAQQBuAHUAZwBhAG4AdABpACAAUwB1AHIAZQBzAGgAIAAoAEMAbwBuAHMAdQBsAHQAYQBuAHQAKQAAAP/hCy9odHRwOi8vbnMuYWRvYmUuY29tL3hhcC8xLjAvADw/eHBhY2tldCBiZWdpbj0n77u/JyBpZD0nVzVNME1wQ2VoaUh6cmVTek5UY3prYzlkJz8+DQo8eDp4bXBtZXRhIHhtbG5zOng9ImFkb2JlOm5zOm1ldGEvIj48cmRmOlJERiB4bWxuczpyZGY9Imh0dHA6Ly93d3cudzMub3JnLzE5OTkvMDIvMjItcmRmLXN5bnRheC1ucyMiPjxyZGY6RGVzY3JpcHRpb24gcmRmOmFib3V0PSJ1dWlkOmZhZjViZGQ1LWJhM2QtMTFkYS1hZDMxLWQzM2Q3NTE4MmYxYiIgeG1sbnM6ZGM9Imh0dHA6Ly9wdXJsLm9yZy9kYy9lbGVtZW50cy8xLjEvIi8+PHJkZjpEZXNjcmlwdGlvbiByZGY6YWJvdXQ9InV1aWQ6ZmFmNWJkZDUtYmEzZC0xMWRhLWFkMzEtZDMzZDc1MTgyZjFiIiB4bWxuczp4bXA9Imh0dHA6Ly9ucy5hZG9iZS5jb20veGFwLzEuMC8iPjx4bXA6Q3JlYXRlRGF0ZT4yMDIyLTAxLTE4VDEzOjA2OjMyLjE4MjwveG1wOkNyZWF0ZURhdGU+PC9yZGY6RGVzY3JpcHRpb24+PHJkZjpEZXNjcmlwdGlvbiByZGY6YWJvdXQ9InV1aWQ6ZmFmNWJkZDUtYmEzZC0xMWRhLWFkMzEtZDMzZDc1MTgyZjFiIiB4bWxuczpkYz0iaHR0cDovL3B1cmwub3JnL2RjL2VsZW1lbnRzLzEuMS8iPjxkYzpjcmVhdG9yPjxyZGY6U2VxIHhtbG5zOnJkZj0iaHR0cDovL3d3dy53My5vcmcvMTk5OS8wMi8yMi1yZGYtc3ludGF4LW5zIyI+PHJkZjpsaT5BbnVnYW50aSBTdXJlc2ggKENvbnN1bHRhbnQpPC9yZGY6bGk+PC9yZGY6U2VxPg0KCQkJPC9kYzpjcmVhdG9yPjwvcmRmOkRlc2NyaXB0aW9uPjwvcmRmOlJERj48L3g6eG1wbWV0YT4NCiAgICAgICAgICAgICAgICAgICAgICAgICAgICAgICAgICAgICAgICAgICAgICAgICAgICAgICAgICAgICAgICAgICAgICAgICAgICAgICAgICAgICAgICAgICAgICAgICAgICAKICAgICAgICAgICAgICAgICAgICAgICAgICAgICAgICAgICAgICAgICAgICAgICAgICAgICAgICAgICAgICAgICAgICAgICAgICAgICAgICAgICAgICAgICAgICAgICAgICAgIAogICAgICAgICAgICAgICAgICAgICAgICAgICAgICAgICAgICAgICAgICAgICAgICAgICAgICAgICAgICAgICAgICAgICAgICAgICAgICAgICAgICAgICAgICAgICAgICAgICAgCiAgICAgICAgICAgICAgICAgICAgICAgICAgICAgICAgICAgICAgICAgICAgICAgICAgICAgICAgICAgICAgICAgICAgICAgICAgICAgICAgICAgICAgICAgICAgICAgICAgICAKICAgICAgICAgICAgICAgICAgICAgICAgICAgICAgICAgICAgICAgICAgICAgICAgICAgICAgICAgICAgICAgICAgICAgICAgICAgICAgICAgICAgICAgICAgICAgICAgICAgIAogICAgICAgICAgICAgICAgICAgICAgICAgICAgICAgICAgICAgICAgICAgICAgICAgICAgICAgICAgICAgICAgICAgICAgICAgICAgICAgICAgICAgICAgICAgICAgICAgICAgCiAgICAgICAgICAgICAgICAgICAgICAgICAgICAgICAgICAgICAgICAgICAgICAgICAgICAgICAgICAgICAgICAgICAgICAgICAgICAgICAgICAgICAgICAgICAgICAgICAgICAKICAgICAgICAgICAgICAgICAgICAgICAgICAgICAgICAgICAgICAgICAgICAgICAgICAgICAgICAgICAgICAgICAgICAgICAgICAgICAgICAgICAgICAgICAgICAgICAgICAgIAogICAgICAgICAgICAgICAgICAgICAgICAgICAgICAgICAgICAgICAgICAgICAgICAgICAgICAgICAgICAgICAgICAgICAgICAgICAgICAgICAgICAgICAgICAgICAgICAgICAgCiAgICAgICAgICAgICAgICAgICAgICAgICAgICAgICAgICAgICAgICAgICAgICAgICAgICAgICAgICAgICAgICAgICAgICAgICAgICAgICAgICAgICAgICAgICAgICAgICAgICAKICAgICAgICAgICAgICAgICAgICAgICAgICAgICAgICAgICAgICAgICAgICAgICAgICAgICAgICAgICAgICAgICAgICAgICAgICAgICAgICAgICAgICAgICAgICAgICAgICAgIAogICAgICAgICAgICAgICAgICAgICAgICAgICAgICAgICAgICAgICAgICAgICAgICAgICAgICAgICAgICAgICAgICAgICAgICAgICAgICAgICAgICAgICAgICAgICAgICAgICAgCiAgICAgICAgICAgICAgICAgICAgICAgICAgICAgICAgICAgICAgICAgICAgICAgICAgICAgICAgICAgICAgICAgICAgICAgICAgICAgICAgICAgICAgICAgICAgICAgICAgICAKICAgICAgICAgICAgICAgICAgICAgICAgICAgICAgICAgICAgICAgICAgICAgICAgICAgICAgICAgICAgICAgICAgICAgICAgICAgICAgICAgICAgICAgICAgICAgICAgICAgIAogICAgICAgICAgICAgICAgICAgICAgICAgICAgICAgICAgICAgICAgICAgICAgICAgICAgICAgICAgICAgICAgICAgICAgICAgICAgICAgICAgICAgICAgICAgICAgICAgICAgCiAgICAgICAgICAgICAgICAgICAgICAgICAgICAgICAgICAgICAgICAgICAgICAgICAgICAgICAgICAgICAgICAgICAgICAgICAgICAgICAgICAgICAgICAgICAgICAgICAgICAKICAgICAgICAgICAgICAgICAgICAgICAgICAgICAgICAgICAgICAgICAgICAgICAgICAgICAgICAgICAgICAgICAgICAgICAgICAgICAgICAgICAgICAgICAgICAgICAgICAgIAogICAgICAgICAgICAgICAgICAgICAgICAgICAgICAgICAgICAgICAgICAgICAgICAgICAgICAgICAgICAgICAgICAgICAgICAgICAgICAgICAgICAgICAgICAgICAgICAgICAgCiAgICAgICAgICAgICAgICAgICAgICAgICAgICAgICAgICAgICAgICAgICAgICAgICAgICAgICAgICAgICAgICAgICAgICAgICAgICAgICAgICAgICAgICAgICAgICAgICAgICAKICAgICAgICAgICAgICAgICAgICAgICAgICAgICAgICAgICAgICAgICAgICAgICAgICAgICAgICAgICAgICAgICAgICAgICAgICAgICAgICAgICAgICAgICAgICAgICAgICAgIAogICAgICAgICAgICAgICAgICAgICAgICAgICAgPD94cGFja2V0IGVuZD0ndyc/Pv/bAEMABwUFBgUEBwYFBggHBwgKEQsKCQkKFQ8QDBEYFRoZGBUYFxseJyEbHSUdFxgiLiIlKCkrLCsaIC8zLyoyJyorKv/bAEMBBwgICgkKFAsLFCocGBwqKioqKioqKioqKioqKioqKioqKioqKioqKioqKioqKioqKioqKioqKioqKioqKioqKv/AABEIAGUAywMBIgACEQEDEQH/xAAfAAABBQEBAQEBAQAAAAAAAAAAAQIDBAUGBwgJCgv/xAC1EAACAQMDAgQDBQUEBAAAAX0BAgMABBEFEiExQQYTUWEHInEUMoGRoQgjQrHBFVLR8CQzYnKCCQoWFxgZGiUmJygpKjQ1Njc4OTpDREVGR0hJSlNUVVZXWFlaY2RlZmdoaWpzdHV2d3h5eoOEhYaHiImKkpOUlZaXmJmaoqOkpaanqKmqsrO0tba3uLm6wsPExcbHyMnK0tPU1dbX2Nna4eLj5OXm5+jp6vHy8/T19vf4+fr/xAAfAQADAQEBAQEBAQEBAAAAAAAAAQIDBAUGBwgJCgv/xAC1EQACAQIEBAMEBwUEBAABAncAAQIDEQQFITEGEkFRB2FxEyIygQgUQpGhscEJIzNS8BVictEKFiQ04SXxFxgZGiYnKCkqNTY3ODk6Q0RFRkdISUpTVFVWV1hZWmNkZWZnaGlqc3R1dnd4eXqCg4SFhoeIiYqSk5SVlpeYmZqio6Slpqeoqaqys7S1tre4ubrCw8TFxsfIycrS09TV1tfY2dri4+Tl5ufo6ery8/T19vf4+fr/2gAMAwEAAhEDEQA/APpGiiigAooooAKKKKACiiigAooooAKKKKACiiigAooooAKKKKACiiigAprsEUseAKdWfqVxhfLU896aV2TKXKrmfcSmaYsenaowCTgUVasIPNm3HotdD0RwK8pGhZQeTAPVuTVmgcUtc71PQSsrEH2yH+9S/a4f79Y1FPlOb2zNn7VD/fFKLiM9HFYtFPlH7Z9jbEyH+IU7zF9RWFRk0coe38je3e9G6sHJ9aNx9aOUPb+RvZozWFvb1o8xv7xo5R+28jdzRmsPznHRjVHWJ9TOkzDSW/0o7QmcdNw3deOmaORh7dHTiaMymIOpcDO3POKVZUdiqMCV6gHpXiPju3k0UaHZaTe3I1K61CGMymZjuRiwPBOOuO9bmi+Gtb03xnHqJ1KU2AhXfCx3b3KMG/i45OelHIw9uj1SlrF+2zD+KsO+8cCxu2gaGRyvUhW/wo5GP20TtqK4H/hYi/8APrJ/3y3/AMTVzTfGw1G7FukLozdCyt6e4o5GHtonZU13WNSznao6k1lf2lL6CvOvjB4hvl0az0qwlMU+oSMgKEgjaA39KORj9tE9ZlkEcbMewrBmkMspY965b4ka3PpXgadLZyjzn7NGQx3ZcEDn61d8I28lt4P0tbh3kma0iaRnOTuKLn9a0hGxhVqc2xtAFiAO9bdpCIYQO/eqGnweZLvPRa1hUTZpRhpzMWjNFJWZ0mDRRRWh5wUUUdOtMAopizRvnZIjY64YHFODBhlSCPUUALSUppKYBRRRQIK5/wAaHWl8Mzt4c/4/QU2hc7iN65xgema6A0lMDya6tPEF/wCJNH13UdLvJbfT9sbQLCxmZw+/ftPGMZGc+ld5pL6pqGqS310JrSy2gQ2sgKuTyCWXp6EYNbtFACUUGimAUhpaQ0xBXj/i3Uri6+L9j9jsZ9Rg0qPzZYbePexLK6cAH1+lewVxnhLwteaX4o1rWNSxvvJWWIcHEe8lTwT2NAGF43XXPEp0ya00i7TTrS9ilnglhYXDhWzlVGQRjPUjtXZ+FY9Qlt5Jb4SxK0hW3t5Bgxxfw5HZscHtW5V/ToNz+Yw4HSk3ZFQjzOxftoRDEFH41NRRXOeglZWCiiigZgUUUVoecFUtXtZ73TJbe2uDbu+AZFOCF7/pV2uc8VPrVyken6DFgzBvOuCy/uwMEDBIJyMjI6UwOQg8HSQasbfwtrt6xLbb2fKFAM/MuQD8/wB04PavSrG0Sxso7eLog5Pqe5/OvPLOXxdbqdBstB+yL91tRa5ifI6byuck/jmvRraNobWNJG3OqgMx7nvQBW1a1uru1VLG6a2kD5LqcZGDx0NY/wDYuvf9BqT/AL6/+xrY1bSoNYtVt7mSeNVfeDBKY2zgjqO3NY//AAgmm/8AP5qn/gfJ/jTAT+xde/6DUn/fQ/8Aia2NLtbu1ttt9dNcyZ+8xz/QVkf8IJpv/P5qn/gfJ/jWvpekwaRbmG2knkXOczymQ/maBF41zOs+NItG1JrN9D1q7KgHzbS0DxnPodwrpjTGjRjlkUn1Ipgcd/wsmD/oWPEn/gAP/i6P+Fkwf9Cx4k/8AB/8XXYeTF/zzT/vkUeTF/zzT/vkUAccfiTB/wBCz4k/8AB/8XR/wsmD/oWfEn/gAP8A4uuwMMX/ADzT/vkUeTF/zzT/AL5FMDj/APhZMH/Qs+JP/AAf/F0n/CyYP+hZ8Sf+AA/+LrsfJi/55p/3yKTyYv8Anmn/AHyKYjj/APhZMH/Qs+JP/AAf/F0n/CyYP+hZ8Sf+AA/+LrsfJi/55p/3yKTyYv8Anmn/AHyKAORj+IsMkgUeGfEnJx/x4D/4qup0TxpBqF7b2Eeg65amU4825swka8E8nccVrabZRZMhiT2+UVprFGpyqKCO4FZTep2UY2Vx9FFFZm4UUUUAYLAgkHrSVfvbb/log+tUK0RwyjysKKKKZAUUUUABpKU0lMAooooEBpKU0lMAooooAQ0dOtBrg/iVrN7Gun6DpEjR3WqOymRTgoEAfg8dQCOtMDavfHvhiwm8qfW7Hf3C3MfH1+apNL8Z6BrV4LXTdStp5j0RJkYnjPQE+lcf498FeHtK8A3bLbgTxxv5UzDLs+xioLYyea6HwF4fsbDwxpl0LC3jupLWJjKIlDcoOcjnuaYjrKfFGZZAo7mmVpabBgeYw+lKTsi4R5nYuxRiONVHYVJRRXOd6VlYKKKKBhRRRQAjLuUg9KybuDypOOh6Vr1FNEJYyp/CmjOpHmRi0U+WMxuVPamVZx2s9QooopiA0lKaSmAUUUUCA0lKaSmAUUUUAIa5rxT4am1W8sNT0yRYtR09naIucK25dpBOD2zXSmimByd34d1LxFfW7eIzBHaWsqzJb27lldlOQTkA+orqkjWKJY4xtRAFUDsBTqKYh8ERmlCit1ECKFHQVT06DYnmMOTV6sZO7O2lGyuFFFFQbBRRRQAUUUUAFGKKKAKd9CrR7+hFZlFFWjkrJXCiiiqMQNJRRTAKKKKBAaSiimAUUUUAIaKKKYgp8CiSZVPTNFFKWxUdWjdRQqgCnUUVgegtgooooGFFFFABRRRQB//Z)"
      ],
      "metadata": {
        "id": "d4ZwCzcBHhU1"
      }
    },
    {
      "cell_type": "markdown",
      "metadata": {
        "id": "ZdkxkEuHWd7U"
      },
      "source": [
        "where:\n",
        "\n",
        "- μ is the mean of the population.\n",
        "- σ is the standard deviation of the population."
      ]
    },
    {
      "cell_type": "code",
      "execution_count": 7,
      "metadata": {
        "id": "Z4HRiatZWd7U",
        "outputId": "9b8d2c71-93b5-4494-e606-c56b45f68cbd",
        "colab": {
          "base_uri": "https://localhost:8080/",
          "height": 206
        }
      },
      "outputs": [
        {
          "output_type": "execute_result",
          "data": {
            "text/html": [
              "\n",
              "  <div id=\"df-e35e2dfc-88e5-4204-8a77-b1c7f3d46bbe\">\n",
              "    <div class=\"colab-df-container\">\n",
              "      <div>\n",
              "<style scoped>\n",
              "    .dataframe tbody tr th:only-of-type {\n",
              "        vertical-align: middle;\n",
              "    }\n",
              "\n",
              "    .dataframe tbody tr th {\n",
              "        vertical-align: top;\n",
              "    }\n",
              "\n",
              "    .dataframe thead th {\n",
              "        text-align: right;\n",
              "    }\n",
              "</style>\n",
              "<table border=\"1\" class=\"dataframe\">\n",
              "  <thead>\n",
              "    <tr style=\"text-align: right;\">\n",
              "      <th></th>\n",
              "      <th>price</th>\n",
              "      <th>area</th>\n",
              "      <th>bedrooms</th>\n",
              "      <th>bathrooms</th>\n",
              "      <th>stories</th>\n",
              "      <th>mainroad</th>\n",
              "      <th>guestroom</th>\n",
              "      <th>basement</th>\n",
              "      <th>hotwaterheating</th>\n",
              "      <th>airconditioning</th>\n",
              "      <th>parking</th>\n",
              "      <th>prefarea</th>\n",
              "      <th>semi-furnished</th>\n",
              "      <th>unfurnished</th>\n",
              "    </tr>\n",
              "  </thead>\n",
              "  <tbody>\n",
              "    <tr>\n",
              "      <th>0</th>\n",
              "      <td>4.562174</td>\n",
              "      <td>1.045766</td>\n",
              "      <td>1.402131</td>\n",
              "      <td>1.420507</td>\n",
              "      <td>1.376952</td>\n",
              "      <td>NaN</td>\n",
              "      <td>NaN</td>\n",
              "      <td>NaN</td>\n",
              "      <td>NaN</td>\n",
              "      <td>NaN</td>\n",
              "      <td>1.516299</td>\n",
              "      <td>NaN</td>\n",
              "      <td>-0.844113</td>\n",
              "      <td>-0.69579</td>\n",
              "    </tr>\n",
              "    <tr>\n",
              "      <th>1</th>\n",
              "      <td>4.000809</td>\n",
              "      <td>1.755397</td>\n",
              "      <td>1.402131</td>\n",
              "      <td>5.400847</td>\n",
              "      <td>2.529700</td>\n",
              "      <td>NaN</td>\n",
              "      <td>NaN</td>\n",
              "      <td>NaN</td>\n",
              "      <td>NaN</td>\n",
              "      <td>NaN</td>\n",
              "      <td>2.676950</td>\n",
              "      <td>NaN</td>\n",
              "      <td>-0.844113</td>\n",
              "      <td>-0.69579</td>\n",
              "    </tr>\n",
              "    <tr>\n",
              "      <th>2</th>\n",
              "      <td>4.000809</td>\n",
              "      <td>2.216196</td>\n",
              "      <td>0.047235</td>\n",
              "      <td>1.420507</td>\n",
              "      <td>0.224204</td>\n",
              "      <td>NaN</td>\n",
              "      <td>NaN</td>\n",
              "      <td>NaN</td>\n",
              "      <td>NaN</td>\n",
              "      <td>NaN</td>\n",
              "      <td>1.516299</td>\n",
              "      <td>NaN</td>\n",
              "      <td>1.182502</td>\n",
              "      <td>-0.69579</td>\n",
              "    </tr>\n",
              "    <tr>\n",
              "      <th>3</th>\n",
              "      <td>3.982096</td>\n",
              "      <td>1.082630</td>\n",
              "      <td>1.402131</td>\n",
              "      <td>1.420507</td>\n",
              "      <td>0.224204</td>\n",
              "      <td>NaN</td>\n",
              "      <td>NaN</td>\n",
              "      <td>NaN</td>\n",
              "      <td>NaN</td>\n",
              "      <td>NaN</td>\n",
              "      <td>2.676950</td>\n",
              "      <td>NaN</td>\n",
              "      <td>-0.844113</td>\n",
              "      <td>-0.69579</td>\n",
              "    </tr>\n",
              "    <tr>\n",
              "      <th>4</th>\n",
              "      <td>3.551716</td>\n",
              "      <td>1.045766</td>\n",
              "      <td>1.402131</td>\n",
              "      <td>-0.569663</td>\n",
              "      <td>0.224204</td>\n",
              "      <td>NaN</td>\n",
              "      <td>NaN</td>\n",
              "      <td>NaN</td>\n",
              "      <td>NaN</td>\n",
              "      <td>NaN</td>\n",
              "      <td>1.516299</td>\n",
              "      <td>NaN</td>\n",
              "      <td>-0.844113</td>\n",
              "      <td>-0.69579</td>\n",
              "    </tr>\n",
              "  </tbody>\n",
              "</table>\n",
              "</div>\n",
              "      <button class=\"colab-df-convert\" onclick=\"convertToInteractive('df-e35e2dfc-88e5-4204-8a77-b1c7f3d46bbe')\"\n",
              "              title=\"Convert this dataframe to an interactive table.\"\n",
              "              style=\"display:none;\">\n",
              "        \n",
              "  <svg xmlns=\"http://www.w3.org/2000/svg\" height=\"24px\"viewBox=\"0 0 24 24\"\n",
              "       width=\"24px\">\n",
              "    <path d=\"M0 0h24v24H0V0z\" fill=\"none\"/>\n",
              "    <path d=\"M18.56 5.44l.94 2.06.94-2.06 2.06-.94-2.06-.94-.94-2.06-.94 2.06-2.06.94zm-11 1L8.5 8.5l.94-2.06 2.06-.94-2.06-.94L8.5 2.5l-.94 2.06-2.06.94zm10 10l.94 2.06.94-2.06 2.06-.94-2.06-.94-.94-2.06-.94 2.06-2.06.94z\"/><path d=\"M17.41 7.96l-1.37-1.37c-.4-.4-.92-.59-1.43-.59-.52 0-1.04.2-1.43.59L10.3 9.45l-7.72 7.72c-.78.78-.78 2.05 0 2.83L4 21.41c.39.39.9.59 1.41.59.51 0 1.02-.2 1.41-.59l7.78-7.78 2.81-2.81c.8-.78.8-2.07 0-2.86zM5.41 20L4 18.59l7.72-7.72 1.47 1.35L5.41 20z\"/>\n",
              "  </svg>\n",
              "      </button>\n",
              "      \n",
              "  <style>\n",
              "    .colab-df-container {\n",
              "      display:flex;\n",
              "      flex-wrap:wrap;\n",
              "      gap: 12px;\n",
              "    }\n",
              "\n",
              "    .colab-df-convert {\n",
              "      background-color: #E8F0FE;\n",
              "      border: none;\n",
              "      border-radius: 50%;\n",
              "      cursor: pointer;\n",
              "      display: none;\n",
              "      fill: #1967D2;\n",
              "      height: 32px;\n",
              "      padding: 0 0 0 0;\n",
              "      width: 32px;\n",
              "    }\n",
              "\n",
              "    .colab-df-convert:hover {\n",
              "      background-color: #E2EBFA;\n",
              "      box-shadow: 0px 1px 2px rgba(60, 64, 67, 0.3), 0px 1px 3px 1px rgba(60, 64, 67, 0.15);\n",
              "      fill: #174EA6;\n",
              "    }\n",
              "\n",
              "    [theme=dark] .colab-df-convert {\n",
              "      background-color: #3B4455;\n",
              "      fill: #D2E3FC;\n",
              "    }\n",
              "\n",
              "    [theme=dark] .colab-df-convert:hover {\n",
              "      background-color: #434B5C;\n",
              "      box-shadow: 0px 1px 3px 1px rgba(0, 0, 0, 0.15);\n",
              "      filter: drop-shadow(0px 1px 2px rgba(0, 0, 0, 0.3));\n",
              "      fill: #FFFFFF;\n",
              "    }\n",
              "  </style>\n",
              "\n",
              "      <script>\n",
              "        const buttonEl =\n",
              "          document.querySelector('#df-e35e2dfc-88e5-4204-8a77-b1c7f3d46bbe button.colab-df-convert');\n",
              "        buttonEl.style.display =\n",
              "          google.colab.kernel.accessAllowed ? 'block' : 'none';\n",
              "\n",
              "        async function convertToInteractive(key) {\n",
              "          const element = document.querySelector('#df-e35e2dfc-88e5-4204-8a77-b1c7f3d46bbe');\n",
              "          const dataTable =\n",
              "            await google.colab.kernel.invokeFunction('convertToInteractive',\n",
              "                                                     [key], {});\n",
              "          if (!dataTable) return;\n",
              "\n",
              "          const docLinkHtml = 'Like what you see? Visit the ' +\n",
              "            '<a target=\"_blank\" href=https://colab.research.google.com/notebooks/data_table.ipynb>data table notebook</a>'\n",
              "            + ' to learn more about interactive tables.';\n",
              "          element.innerHTML = '';\n",
              "          dataTable['output_type'] = 'display_data';\n",
              "          await google.colab.output.renderOutput(dataTable, element);\n",
              "          const docLink = document.createElement('div');\n",
              "          docLink.innerHTML = docLinkHtml;\n",
              "          element.appendChild(docLink);\n",
              "        }\n",
              "      </script>\n",
              "    </div>\n",
              "  </div>\n",
              "  "
            ],
            "text/plain": [
              "      price      area  bedrooms  ...  prefarea  semi-furnished  unfurnished\n",
              "0  4.562174  1.045766  1.402131  ...       NaN       -0.844113     -0.69579\n",
              "1  4.000809  1.755397  1.402131  ...       NaN       -0.844113     -0.69579\n",
              "2  4.000809  2.216196  0.047235  ...       NaN        1.182502     -0.69579\n",
              "3  3.982096  1.082630  1.402131  ...       NaN       -0.844113     -0.69579\n",
              "4  3.551716  1.045766  1.402131  ...       NaN       -0.844113     -0.69579\n",
              "\n",
              "[5 rows x 14 columns]"
            ]
          },
          "metadata": {},
          "execution_count": 7
        }
      ],
      "source": [
        "# Normalising Housing dataset using above formula\n",
        "housing = (housing - housing.mean()) / housing.std()\n",
        "\n",
        "# print head \n",
        "housing.head()"
      ]
    },
    {
      "cell_type": "markdown",
      "metadata": {
        "id": "ct3_QNe5Wd7V"
      },
      "source": [
        "## 1. Gradient Descent in Simple Linear Regression\n",
        "\n",
        "Reference video: https://www.youtube.com/watch?v=4PHI11lX11I\n",
        "\n",
        "Let us first make Simple linear regression. Fot this we will just take area as our feature and price as our predictor"
      ]
    },
    {
      "cell_type": "code",
      "execution_count": 8,
      "metadata": {
        "id": "5HcGsXbwWd7V"
      },
      "outputs": [],
      "source": [
        "# Assign feature variable X\n",
        "X = housing['area']\n",
        "\n",
        "# Assign response variable to y\n",
        "y = housing['price']"
      ]
    },
    {
      "cell_type": "code",
      "execution_count": 9,
      "metadata": {
        "id": "99RNuh_LWd7W"
      },
      "outputs": [],
      "source": [
        "# import seaborn\n",
        "import seaborn as sns\n",
        "import matplotlib.pyplot as plt\n",
        "\n",
        "# Magic matplotlib inline for visualise in the notebook\n",
        "%matplotlib inline"
      ]
    },
    {
      "cell_type": "code",
      "execution_count": 10,
      "metadata": {
        "id": "TgK35gQzWd7W",
        "outputId": "897d2a1b-5795-463c-84b6-f3d71ef6081d",
        "colab": {
          "base_uri": "https://localhost:8080/",
          "height": 374
        }
      },
      "outputs": [
        {
          "output_type": "display_data",
          "data": {
            "image/png": "[encoded data removed]",
            "text/plain": [
              "<Figure size 360x360 with 6 Axes>"
            ]
          },
          "metadata": {
            "needs_background": "light"
          }
        }
      ],
      "source": [
        "# Visualise the relationship between the features and the response using pairplots\n",
        "sns.pairplot(housing[['area', 'price']]);"
      ]
    },
    {
      "cell_type": "markdown",
      "source": [
        "### Steps to implement gradient Descent\n",
        "\n",
        "1. **We all know to define a linear relationship between these two variables as follows:**"
      ],
      "metadata": {
        "id": "Xl6mJzstH4Sl"
      }
    },
    {
      "cell_type": "markdown",
      "source": [
        "![2.JPG](data:image/jpeg;base64,/9j/4AAQSkZJRgABAQEAeAB4AAD/4REiRXhpZgAATU0AKgAAAAgABAE7AAIAAAAdAAAISodpAAQAAAABAAAIaJydAAEAAAA6AAAQ4OocAAcAAAgMAAAAPgAAAAAc6gAAAAgAAAAAAAAAAAAAAAAAAAAAAAAAAAAAAAAAAAAAAAAAAAAAAAAAAAAAAAAAAAAAAAAAAAAAAAAAAAAAAAAAAAAAAAAAAAAAAAAAAAAAAAAAAAAAAAAAAAAAAAAAAAAAAAAAAAAAAAAAAAAAAAAAAAAAAAAAAAAAAAAAAAAAAAAAAAAAAAAAAAAAAAAAAAAAAAAAAAAAAAAAAAAAAAAAAAAAAAAAAAAAAAAAAAAAAAAAAAAAAAAAAAAAAAAAAAAAAAAAAAAAAAAAAAAAAAAAAAAAAAAAAAAAAAAAAAAAAAAAAAAAAAAAAAAAAAAAAAAAAAAAAAAAAAAAAAAAAAAAAAAAAAAAAAAAAAAAAAAAAAAAAAAAAAAAAAAAAAAAAAAAAAAAAAAAAAAAAAAAAAAAAAAAAAAAAAAAAAAAAAAAAAAAAAAAAAAAAAAAAAAAAAAAAAAAAAAAAAAAAAAAAAAAAAAAAAAAAAAAAAAAAAAAAAAAAAAAAAAAAAAAAAAAAAAAAAAAAAAAAAAAAAAAAAAAAAAAAAAAAAAAAAAAAAAAAAAAAAAAAAAAAAAAAAAAAAAAAAAAAAAAAAAAAAAAAAAAAAAAAAAAAAAAAAAAAAAAAAAAAAAAAAAAAAAAAAAAAAAAAAAAAAAAAAAAAAAAAAAAAAAAAAAAAAAAAAAAAAAAAAAAAAAAAAAAAAAAAAAAAAAAAAAAAAAAAAAAAAAAAAAAAAAAAAAAAAAAAAAAAAAAAAAAAAAAAAAAAAAAAAAAAAAAAAAAAAAAAAAAAAAAAAAAAAAAAAAAAAAAAAAAAAAAAAAAAAAAAAAAAAAAAAAAAAAAAAAAAAAAAAAAAAAAAAAAAAAAAAAAAAAAAAAAAAAAAAAAAAAAAAAAAAAAAAAAAAAAAAAAAAAAAAAAAAAAAAAAAAAAAAAAAAAAAAAAAAAAAAAAAAAAAAAAAAAAAAAAAAAAAAAAAAAAAAAAAAAAAAAAAAAAAAAAAAAAAAAAAAAAAAAAAAAAAAAAAAAAAAAAAAAAAAAAAAAAAAAAAAAAAAAAAAAAAAAAAAAAAAAAAAAAAAAAAAAAAAAAAAAAAAAAAAAAAAAAAAAAAAAAAAAAAAAAAAAAAAAAAAAAAAAAAAAAAAAAAAAAAAAAAAAAAAAAAAAAAAAAAAAAAAAAAAAAAAAAAAAAAAAAAAAAAAAAAAAAAAAAAAAAAAAAAAAAAAAAAAAAAAAAAAAAAAAAAAAAAAAAAAAAAAAAAAAAAAAAAAAAAAAAAAAAAAAAAAAAAAAAAAAAAAAAAAAAAAAAAAAAAAAAAAAAAAAAAAAAAAAAAAAAAAAAAAAAAAAAAAAAAAAAAAAAAAAAAAAAAAAAAAAAAAAAAAAAAAAAAAAAAAAAAAAAAAAAAAAAAAAAAAAAAAAAAAAAAAAAAAAAAAAAAAAAAAAAAAAAAAAAAAAAAAAAAAAAAAAAAAAAAAAAAAAAAAAAAAAAAAAAAAAAAAAAAAAAAAAAAAAAAAAAAAAAAAAAAAAAAAAAAAAAAAAAAAAAAAAAAAAAAAAAAAAAAAAAAAAAAAAAAAAAAAAAAAAAAAAAAAAAAAAAAAAAAAAAAAAAAAAAAAAAAAAAAAAAAAAAAAAAAAAAAAAAAAAAAAAAAAAAAAAAAAAAAAAAAAAAAAAAAAAAAAAAAAAAAAAAAAAAAAAAAAAAAAAAAAAAAAAAAAAAAAAAAAAAAAAAAAAAAAAAAAAAAAAAAAAAAAAAAAAAAAAAAAAAAAAAAAAAAAAAAAAAAAAAAAAAAAAAAAAAAAAAAAAAAAAAAAAAAAAAAAAAAAAAAAAAAAAAAAAAAAAAAAAAAAAAAAAAAAAAAAAAAAAAAAAAAAAAAAAAAAAAAAAAAAAAAAAAAAAAAAAAAAAAAAAAAAAAAAAAAAAAAAAAAAAAAAAAAAAAAAAAAAAAAAAAAAAAAAAAAAAAAAAAAAAAAAAAAAAAAAAAAAAAAAAAAAAAAAAAAAAAAAAAAAAAAAAAAAAAAAAAAAAAAAAAAAAAAAAAAAAAAAAAAAAAAAAAAAAAAAAAAAAAAAAAAAAAAAAAAAAAAAAAAAAAAAAAAAAAAAAAAAAAAAAAAAAAAAAAAAAAAAAAAAAAAAAAAAAAAAAAAAAAAAAAAAAAAAAAAAAAAAAAAAAAAAAAAAAAAAAAAAAAAAAAAAAAAAAAAAAAAAAAAAAAAAAAAAAAAAAAAAAAAAAAAAAAAAAAAAAAAAAAAAAAAAAAAAAAAAAAAAAAAAAAAAAAAAAAAAAAAAAAAAAAAAAAAAAAAAAAAAAAAAAAAAAAAAAAAAAAAAAAAAAAAAAAAAAAAAAAAAAAAAAAAAAAAAAAAAAAAAAAAAAAAAAAAAAAAAAAAAAAAAAAAAAAAAAAAAAAAAAAAAAAAAAAAAAAAAAAAAAAAAAAAAAAAAAAAAAAAAAAAAAAAAAAAAAAAAAAAAAAAAAAAAAAAAAAAAAAAAAAAAAAAAAAAAAAAAAAAAAAAAAAAAAAAAAAAAAAAAAAAAAAAAAAAAAAAAAAAAAAAAAAAAAAAAAAAAAAAAAAAAAAAAAAAAAAAAAAAAAAAAAAAAAAAAAAAAAAAAAAAAAAAAAAAAAAAAAAAAAAAAAAAAAAAAAAAAAAAAAAAAAAAAAAAAAAAAAAAAAAAAAAAAAAAAAAAAAAAAAAAAAAAAAAAAAAAAAAAAAAAAAAAAAAAAAAAAAAAAAAAAAAAAAAAAAAAAAAAAAAAAAAAAAAAAAAAEFudWdhbnRpIFN1cmVzaCAoQ29uc3VsdGFudCkAAAAFkAMAAgAAABQAABC2kAQAAgAAABQAABDKkpEAAgAAAAM3MwAAkpIAAgAAAAM3MwAA6hwABwAACAwAAAiqAAAAABzqAAAACAAAAAAAAAAAAAAAAAAAAAAAAAAAAAAAAAAAAAAAAAAAAAAAAAAAAAAAAAAAAAAAAAAAAAAAAAAAAAAAAAAAAAAAAAAAAAAAAAAAAAAAAAAAAAAAAAAAAAAAAAAAAAAAAAAAAAAAAAAAAAAAAAAAAAAAAAAAAAAAAAAAAAAAAAAAAAAAAAAAAAAAAAAAAAAAAAAAAAAAAAAAAAAAAAAAAAAAAAAAAAAAAAAAAAAAAAAAAAAAAAAAAAAAAAAAAAAAAAAAAAAAAAAAAAAAAAAAAAAAAAAAAAAAAAAAAAAAAAAAAAAAAAAAAAAAAAAAAAAAAAAAAAAAAAAAAAAAAAAAAAAAAAAAAAAAAAAAAAAAAAAAAAAAAAAAAAAAAAAAAAAAAAAAAAAAAAAAAAAAAAAAAAAAAAAAAAAAAAAAAAAAAAAAAAAAAAAAAAAAAAAAAAAAAAAAAAAAAAAAAAAAAAAAAAAAAAAAAAAAAAAAAAAAAAAAAAAAAAAAAAAAAAAAAAAAAAAAAAAAAAAAAAAAAAAAAAAAAAAAAAAAAAAAAAAAAAAAAAAAAAAAAAAAAAAAAAAAAAAAAAAAAAAAAAAAAAAAAAAAAAAAAAAAAAAAAAAAAAAAAAAAAAAAAAAAAAAAAAAAAAAAAAAAAAAAAAAAAAAAAAAAAAAAAAAAAAAAAAAAAAAAAAAAAAAAAAAAAAAAAAAAAAAAAAAAAAAAAAAAAAAAAAAAAAAAAAAAAAAAAAAAAAAAAAAAAAAAAAAAAAAAAAAAAAAAAAAAAAAAAAAAAAAAAAAAAAAAAAAAAAAAAAAAAAAAAAAAAAAAAAAAAAAAAAAAAAAAAAAAAAAAAAAAAAAAAAAAAAAAAAAAAAAAAAAAAAAAAAAAAAAAAAAAAAAAAAAAAAAAAAAAAAAAAAAAAAAAAAAAAAAAAAAAAAAAAAAAAAAAAAAAAAAAAAAAAAAAAAAAAAAAAAAAAAAAAAAAAAAAAAAAAAAAAAAAAAAAAAAAAAAAAAAAAAAAAAAAAAAAAAAAAAAAAAAAAAAAAAAAAAAAAAAAAAAAAAAAAAAAAAAAAAAAAAAAAAAAAAAAAAAAAAAAAAAAAAAAAAAAAAAAAAAAAAAAAAAAAAAAAAAAAAAAAAAAAAAAAAAAAAAAAAAAAAAAAAAAAAAAAAAAAAAAAAAAAAAAAAAAAAAAAAAAAAAAAAAAAAAAAAAAAAAAAAAAAAAAAAAAAAAAAAAAAAAAAAAAAAAAAAAAAAAAAAAAAAAAAAAAAAAAAAAAAAAAAAAAAAAAAAAAAAAAAAAAAAAAAAAAAAAAAAAAAAAAAAAAAAAAAAAAAAAAAAAAAAAAAAAAAAAAAAAAAAAAAAAAAAAAAAAAAAAAAAAAAAAAAAAAAAAAAAAAAAAAAAAAAAAAAAAAAAAAAAAAAAAAAAAAAAAAAAAAAAAAAAAAAAAAAAAAAAAAAAAAAAAAAAAAAAAAAAAAAAAAAAAAAAAAAAAAAAAAAAAAAAAAAAAAAAAAAAAAAAAAAAAAAAAAAAAAAAAAAAAAAAAAAAAAAAAAAAAAAAAAAAAAAAAAAAAAAAAAAAAAAAAAAAAAAAAAAAAAAAAAAAAAAAAAAAAAAAAAAAAAAAAAAAAAAAAAAAAAAAAAAAAAAAAAAAAAAAAAAAAAAAAAAAAAAAAAAAAAAAAAAAAAAAAAAAAAAAAAAAAAAAAAAAAAAAAAAAAAAAAAAAAAAAAAAAAAAAAAAAAAAAAAAAAAAAAAAAAAAAAAAAAAAAAAAAAAAAAAAAAAAAAAAAAAAAAAAAAAAAAAAAAAAAAAAAAAAAAAAAAAAAAAAAAAAAAAAAAAAAAAAAAAAAAAAAAAAAAAAAAAAAAAAAAAAAAAAAAAAAAAAAAAAAAAAAAAAAAAAAAAAAAAAAAAAAAAAAAAAAAAAAAAAAAAAAAAAAAAAAAAAAAAAAAAAAAAAAAAAAAAAAAAAAAAAAAAAAAAAAAAAAAAAAAAAAAAAAAAAAAAAAAAAAAAAAAAAAAAAAAAAAAAAAAAAAAAAAAAAAAAAAAAAAAAAAAAAAAAAAAAAAAAAAAAAAAAAAAAAAAAAAAAAAAAAAAAAAAAAAAAAAAAAAAAAAAAAAAAAAAAAAAAAAAAAAAAAAAAAAAAAAAAAAAAAAAAAAAAAAAAAAAAAAAAAAAAAAAAAAAAAAAAAAAAAAAAAAAAAAAAAAAAAAAAAAAAAAAAAAAAAAAAAAAAAAAAAAAAAAAAAAAAAAAAAAAAAAAAAAAAAAAAAAAAAAAAAAAAAAAAAAAAAAAAAAAAAAAAAAAAAAAAAAAAAAAAAAAAAAAAAAAAAAAAAAAAAAAAAAAAAAAAAAAAAAAAAAAAAAAAAAAAAAAAAAAAAAAAAAAAAAAAAAAAAAAAAAAAAAAAAAAAAAAAAAAAAAAAAAAAAAAAAAAAAAAAAAAAAAAAAAAAAAAAAAAAAAAAAAAAAAAAAAAAAAAAAAAAAAAAAAAAAAAAAAAAAAAAAAAAAAAAAAAAAAAAAAAAAAAAAAAAAAAAAAAAAAAAAAAAAAAAAAAAAAAAAAAAAAAAAAAAAAAAAAAAAAAAAAAAAAAAAAAAAAAAAAAAAAAAAAAAAAAAAAAAAAAAAAAAAAAAAAAAAAAAAAAAAAAAAAAAAAAAAAAAAAAAAAAAAAAAAAAAAAAAAAAAAAAAAAAAAAAAAAAAAAAAAAAAAAAAAAAAAAAAAAAAAAAAAAAAAAAAAAAAAAAAAAAAAAAAAAAAMjAyMjowMToxOCAxMzowOTowNgAyMDIyOjAxOjE4IDEzOjA5OjA2AAAAQQBuAHUAZwBhAG4AdABpACAAUwB1AHIAZQBzAGgAIAAoAEMAbwBuAHMAdQBsAHQAYQBuAHQAKQAAAP/hCy9odHRwOi8vbnMuYWRvYmUuY29tL3hhcC8xLjAvADw/eHBhY2tldCBiZWdpbj0n77u/JyBpZD0nVzVNME1wQ2VoaUh6cmVTek5UY3prYzlkJz8+DQo8eDp4bXBtZXRhIHhtbG5zOng9ImFkb2JlOm5zOm1ldGEvIj48cmRmOlJERiB4bWxuczpyZGY9Imh0dHA6Ly93d3cudzMub3JnLzE5OTkvMDIvMjItcmRmLXN5bnRheC1ucyMiPjxyZGY6RGVzY3JpcHRpb24gcmRmOmFib3V0PSJ1dWlkOmZhZjViZGQ1LWJhM2QtMTFkYS1hZDMxLWQzM2Q3NTE4MmYxYiIgeG1sbnM6ZGM9Imh0dHA6Ly9wdXJsLm9yZy9kYy9lbGVtZW50cy8xLjEvIi8+PHJkZjpEZXNjcmlwdGlvbiByZGY6YWJvdXQ9InV1aWQ6ZmFmNWJkZDUtYmEzZC0xMWRhLWFkMzEtZDMzZDc1MTgyZjFiIiB4bWxuczp4bXA9Imh0dHA6Ly9ucy5hZG9iZS5jb20veGFwLzEuMC8iPjx4bXA6Q3JlYXRlRGF0ZT4yMDIyLTAxLTE4VDEzOjA5OjA2LjczMjwveG1wOkNyZWF0ZURhdGU+PC9yZGY6RGVzY3JpcHRpb24+PHJkZjpEZXNjcmlwdGlvbiByZGY6YWJvdXQ9InV1aWQ6ZmFmNWJkZDUtYmEzZC0xMWRhLWFkMzEtZDMzZDc1MTgyZjFiIiB4bWxuczpkYz0iaHR0cDovL3B1cmwub3JnL2RjL2VsZW1lbnRzLzEuMS8iPjxkYzpjcmVhdG9yPjxyZGY6U2VxIHhtbG5zOnJkZj0iaHR0cDovL3d3dy53My5vcmcvMTk5OS8wMi8yMi1yZGYtc3ludGF4LW5zIyI+PHJkZjpsaT5BbnVnYW50aSBTdXJlc2ggKENvbnN1bHRhbnQpPC9yZGY6bGk+PC9yZGY6U2VxPg0KCQkJPC9kYzpjcmVhdG9yPjwvcmRmOkRlc2NyaXB0aW9uPjwvcmRmOlJERj48L3g6eG1wbWV0YT4NCiAgICAgICAgICAgICAgICAgICAgICAgICAgICAgICAgICAgICAgICAgICAgICAgICAgICAgICAgICAgICAgICAgICAgICAgICAgICAgICAgICAgICAgICAgICAgICAgICAgICAKICAgICAgICAgICAgICAgICAgICAgICAgICAgICAgICAgICAgICAgICAgICAgICAgICAgICAgICAgICAgICAgICAgICAgICAgICAgICAgICAgICAgICAgICAgICAgICAgICAgIAogICAgICAgICAgICAgICAgICAgICAgICAgICAgICAgICAgICAgICAgICAgICAgICAgICAgICAgICAgICAgICAgICAgICAgICAgICAgICAgICAgICAgICAgICAgICAgICAgICAgCiAgICAgICAgICAgICAgICAgICAgICAgICAgICAgICAgICAgICAgICAgICAgICAgICAgICAgICAgICAgICAgICAgICAgICAgICAgICAgICAgICAgICAgICAgICAgICAgICAgICAKICAgICAgICAgICAgICAgICAgICAgICAgICAgICAgICAgICAgICAgICAgICAgICAgICAgICAgICAgICAgICAgICAgICAgICAgICAgICAgICAgICAgICAgICAgICAgICAgICAgIAogICAgICAgICAgICAgICAgICAgICAgICAgICAgICAgICAgICAgICAgICAgICAgICAgICAgICAgICAgICAgICAgICAgICAgICAgICAgICAgICAgICAgICAgICAgICAgICAgICAgCiAgICAgICAgICAgICAgICAgICAgICAgICAgICAgICAgICAgICAgICAgICAgICAgICAgICAgICAgICAgICAgICAgICAgICAgICAgICAgICAgICAgICAgICAgICAgICAgICAgICAKICAgICAgICAgICAgICAgICAgICAgICAgICAgICAgICAgICAgICAgICAgICAgICAgICAgICAgICAgICAgICAgICAgICAgICAgICAgICAgICAgICAgICAgICAgICAgICAgICAgIAogICAgICAgICAgICAgICAgICAgICAgICAgICAgICAgICAgICAgICAgICAgICAgICAgICAgICAgICAgICAgICAgICAgICAgICAgICAgICAgICAgICAgICAgICAgICAgICAgICAgCiAgICAgICAgICAgICAgICAgICAgICAgICAgICAgICAgICAgICAgICAgICAgICAgICAgICAgICAgICAgICAgICAgICAgICAgICAgICAgICAgICAgICAgICAgICAgICAgICAgICAKICAgICAgICAgICAgICAgICAgICAgICAgICAgICAgICAgICAgICAgICAgICAgICAgICAgICAgICAgICAgICAgICAgICAgICAgICAgICAgICAgICAgICAgICAgICAgICAgICAgIAogICAgICAgICAgICAgICAgICAgICAgICAgICAgICAgICAgICAgICAgICAgICAgICAgICAgICAgICAgICAgICAgICAgICAgICAgICAgICAgICAgICAgICAgICAgICAgICAgICAgCiAgICAgICAgICAgICAgICAgICAgICAgICAgICAgICAgICAgICAgICAgICAgICAgICAgICAgICAgICAgICAgICAgICAgICAgICAgICAgICAgICAgICAgICAgICAgICAgICAgICAKICAgICAgICAgICAgICAgICAgICAgICAgICAgICAgICAgICAgICAgICAgICAgICAgICAgICAgICAgICAgICAgICAgICAgICAgICAgICAgICAgICAgICAgICAgICAgICAgICAgIAogICAgICAgICAgICAgICAgICAgICAgICAgICAgICAgICAgICAgICAgICAgICAgICAgICAgICAgICAgICAgICAgICAgICAgICAgICAgICAgICAgICAgICAgICAgICAgICAgICAgCiAgICAgICAgICAgICAgICAgICAgICAgICAgICAgICAgICAgICAgICAgICAgICAgICAgICAgICAgICAgICAgICAgICAgICAgICAgICAgICAgICAgICAgICAgICAgICAgICAgICAKICAgICAgICAgICAgICAgICAgICAgICAgICAgICAgICAgICAgICAgICAgICAgICAgICAgICAgICAgICAgICAgICAgICAgICAgICAgICAgICAgICAgICAgICAgICAgICAgICAgIAogICAgICAgICAgICAgICAgICAgICAgICAgICAgICAgICAgICAgICAgICAgICAgICAgICAgICAgICAgICAgICAgICAgICAgICAgICAgICAgICAgICAgICAgICAgICAgICAgICAgCiAgICAgICAgICAgICAgICAgICAgICAgICAgICAgICAgICAgICAgICAgICAgICAgICAgICAgICAgICAgICAgICAgICAgICAgICAgICAgICAgICAgICAgICAgICAgICAgICAgICAKICAgICAgICAgICAgICAgICAgICAgICAgICAgICAgICAgICAgICAgICAgICAgICAgICAgICAgICAgICAgICAgICAgICAgICAgICAgICAgICAgICAgICAgICAgICAgICAgICAgIAogICAgICAgICAgICAgICAgICAgICAgICAgICAgPD94cGFja2V0IGVuZD0ndyc/Pv/bAEMABwUFBgUEBwYFBggHBwgKEQsKCQkKFQ8QDBEYFRoZGBUYFxseJyEbHSUdFxgiLiIlKCkrLCsaIC8zLyoyJyorKv/bAEMBBwgICgkKFAsLFCocGBwqKioqKioqKioqKioqKioqKioqKioqKioqKioqKioqKioqKioqKioqKioqKioqKioqKv/AABEIADUAsQMBIgACEQEDEQH/xAAfAAABBQEBAQEBAQAAAAAAAAAAAQIDBAUGBwgJCgv/xAC1EAACAQMDAgQDBQUEBAAAAX0BAgMABBEFEiExQQYTUWEHInEUMoGRoQgjQrHBFVLR8CQzYnKCCQoWFxgZGiUmJygpKjQ1Njc4OTpDREVGR0hJSlNUVVZXWFlaY2RlZmdoaWpzdHV2d3h5eoOEhYaHiImKkpOUlZaXmJmaoqOkpaanqKmqsrO0tba3uLm6wsPExcbHyMnK0tPU1dbX2Nna4eLj5OXm5+jp6vHy8/T19vf4+fr/xAAfAQADAQEBAQEBAQEBAAAAAAAAAQIDBAUGBwgJCgv/xAC1EQACAQIEBAMEBwUEBAABAncAAQIDEQQFITEGEkFRB2FxEyIygQgUQpGhscEJIzNS8BVictEKFiQ04SXxFxgZGiYnKCkqNTY3ODk6Q0RFRkdISUpTVFVWV1hZWmNkZWZnaGlqc3R1dnd4eXqCg4SFhoeIiYqSk5SVlpeYmZqio6Slpqeoqaqys7S1tre4ubrCw8TFxsfIycrS09TV1tfY2dri4+Tl5ufo6ery8/T19vf4+fr/2gAMAwEAAhEDEQA/APpGiigkKCWOAOpNABRUEd9aTPshuYZG/urICaWS8toZAk1xFG56KzgE0ATUUUUAFFFFABRRRQAUUUE4GTwKACiq41CzaTYt3AXzjaJRn8s0+a7t7bH2ieKLPTe4XP50AS0UiOsihkYMp5BByDS0AFFFFABRRRQAUUUUAFFFFABTXRJY2SRVdGGGVhkEU6igDwXwtY6d4I/aX8QabNbW8FrqduLy0dkAEX8TBfQZLdPSuzg8N2PxA8aw+J9RsITpmmFksFeMZun7ytx90Y4HfrXF/Emwt/Fv7RvhzRIVO61tN966HBKZJ2n25H/fVe728EVrbxwW6COKNQqKowAB2oh8EW+l0vk3qE/jku9m/uJKKK8b8W6B8I7rxVfTeJPEv2XU3fNxD/azRbDgfwg8cUr6jtoeyUV4F/wjHwL/AOhv/wDK4/8AjXf/AAy0vwNp39of8IFq/wDaW/Z9p/043Gzrt6njvVJXJZ3xIAJJwB1NYkHjLw9dX95ZwatbvPYx+bdDJxCucZZug6+tbMsixQvI/CopY/QV4d8KtNXX/EHi7xdqSKNLk1AlEI4l8oHBP+yBzj1x6VKervslcb2uu9j1TTfHXhnV9PvL7T9Yt5Laycx3EjZQRsOx3AVZ0HxJovi3TpbrQr2O+tkkaGQhSMMOqkMAf0rx34W2Yn8NeJPGurxqtncXc93bwsPlJGQGI9u1df8AArS2sfhwt/Omy41i6lv5F9N7YH6D9apLe/ZP5vp+Ym+3dr7v6RwnjfR9K+Hfx80TxNLZW6aRqeYpgY1CQydC2MYHrXb3Wi2Pxb8R21/e2UT+G9HlbyJHT59Qm6Eg/wDPFf8Ax4+w5xfjDa3fxF0XUNK8P2ySwaMDPNeMMhpV/wCWSep9a674OeI4fEvwt0m4iCpJbR/ZZkUY2unHT3GD+NKnrH/Dt6Pr8nt8hz0l66P1XT5o7W3t4bS3SC1iSGGMbUjjUKqj0AFSUVyHi7VPHljqcMfg3w9p2p2ZhBklurzymWTJ+UDuMYOfehsEtCxL4pnj+JcHhkW8ZhlsmuTNk7gQcYxXT18/zaz8Sz8YbadvC2lDVhprqlsL/wDdmPIy2719q9N8Kar8QL3V2i8XeHNN02x8okTWt75rF8jAx6YzRHWK+f5sT3fy/JHZ1UvtVsdN2C+uUiaQ4jj6vJ/uqOT+AqxNKsEEkr/dRSx/CvK/g3PL40m1fx3qx82a8u3t7FG5FvbocBVHYk5ye9C1du2o3or/ACPSNM1zTdZMy6bdLM9u22aMgq8Z9GVgCPxFX6x9K8L6Tour6jqen2/l3epOHuZN2d5H8q2KOgdQooooAKZMJTCwgZEkx8rOpYA+4BGfzp9FAHmmhfC7WNK+J9/41vPElpe3V8hjeH+zGRUXgAKfOJGAoHOa9L+tFFHRR7B1b7hWPd+D/DWoXT3N/wCHdJubiQ5eWaxjd2PuSuTWxRQBgf8ACB+EP+hV0T/wXQ//ABNaGmaDpGi+Z/Y2lWWn+bjzPslukW/HTO0DNX6KAKGuWE2q6FeWFrci0luYWjWcpv2ZGM4yM/nXN6d8PzpHwnk8G6ZqXkyPavAb/wAnJ3Pnc+zd1wfWuzopNJpruNNpp9jjZvh8h+E//CFWmoNbr9kFsbtYsk8cttz3+tRf8ILrFj4LXRdB8SCzu2t0t5L+WzMjKirgCNA6hO5ydx5+mO3opy969+olpa3QwfD3h6fQPCEOjJcW0ssUWzzxbFVc92Zd5JJ7/NXLfDr4Z6v8P9Q1JovEdreafqNwbiSz/s5oxE5J+43mnHBxyD0Fej0U7vm5uorLl5QooopDOPm8PX7/ABettfVF+wR6c9uzbud5II4rsKKKForf1vcOt/67DXRZI2RxlWGCPUVwnhj4d6j4LF3YeG/ECRaLcztMtrcWXmS25bqI5A4AH+8jV3tFGzuHSxXsbNLC0SBJJZdvJeVyzMe5JqxRRQAUUUUAFFFFABRRRQAUUUUAFFFFABRRRQAUUUUAFFFFABRRRQAUUUUAFFFFABRRRQAUUUUAf//Z)"
      ],
      "metadata": {
        "id": "jrqGP61oIC6T"
      }
    },
    {
      "cell_type": "markdown",
      "metadata": {
        "id": "1cnvv81oWd7W"
      },
      "source": [
        "This is the equation for a line that you studied in high school. m is the slope of the line and c is the y intercept. Today we will use this equation to train our model with a given dataset and predict the value of Y for any given value of X. Our challenge today is to determine the value of m and c, such that the line corresponding to those values is the best fitting line or gives the minimum error.\n",
        "\n",
        "\n",
        "2. **For linear regression we use a cost function known as the mean squared error or MSE.**"
      ]
    },
    {
      "cell_type": "markdown",
      "source": [
        "![3.JPG](data:image/jpeg;base64,/9j/4AAQSkZJRgABAQEAeAB4AAD/4REiRXhpZgAATU0AKgAAAAgABAE7AAIAAAAdAAAISodpAAQAAAABAAAIaJydAAEAAAA6AAAQ4OocAAcAAAgMAAAAPgAAAAAc6gAAAAgAAAAAAAAAAAAAAAAAAAAAAAAAAAAAAAAAAAAAAAAAAAAAAAAAAAAAAAAAAAAAAAAAAAAAAAAAAAAAAAAAAAAAAAAAAAAAAAAAAAAAAAAAAAAAAAAAAAAAAAAAAAAAAAAAAAAAAAAAAAAAAAAAAAAAAAAAAAAAAAAAAAAAAAAAAAAAAAAAAAAAAAAAAAAAAAAAAAAAAAAAAAAAAAAAAAAAAAAAAAAAAAAAAAAAAAAAAAAAAAAAAAAAAAAAAAAAAAAAAAAAAAAAAAAAAAAAAAAAAAAAAAAAAAAAAAAAAAAAAAAAAAAAAAAAAAAAAAAAAAAAAAAAAAAAAAAAAAAAAAAAAAAAAAAAAAAAAAAAAAAAAAAAAAAAAAAAAAAAAAAAAAAAAAAAAAAAAAAAAAAAAAAAAAAAAAAAAAAAAAAAAAAAAAAAAAAAAAAAAAAAAAAAAAAAAAAAAAAAAAAAAAAAAAAAAAAAAAAAAAAAAAAAAAAAAAAAAAAAAAAAAAAAAAAAAAAAAAAAAAAAAAAAAAAAAAAAAAAAAAAAAAAAAAAAAAAAAAAAAAAAAAAAAAAAAAAAAAAAAAAAAAAAAAAAAAAAAAAAAAAAAAAAAAAAAAAAAAAAAAAAAAAAAAAAAAAAAAAAAAAAAAAAAAAAAAAAAAAAAAAAAAAAAAAAAAAAAAAAAAAAAAAAAAAAAAAAAAAAAAAAAAAAAAAAAAAAAAAAAAAAAAAAAAAAAAAAAAAAAAAAAAAAAAAAAAAAAAAAAAAAAAAAAAAAAAAAAAAAAAAAAAAAAAAAAAAAAAAAAAAAAAAAAAAAAAAAAAAAAAAAAAAAAAAAAAAAAAAAAAAAAAAAAAAAAAAAAAAAAAAAAAAAAAAAAAAAAAAAAAAAAAAAAAAAAAAAAAAAAAAAAAAAAAAAAAAAAAAAAAAAAAAAAAAAAAAAAAAAAAAAAAAAAAAAAAAAAAAAAAAAAAAAAAAAAAAAAAAAAAAAAAAAAAAAAAAAAAAAAAAAAAAAAAAAAAAAAAAAAAAAAAAAAAAAAAAAAAAAAAAAAAAAAAAAAAAAAAAAAAAAAAAAAAAAAAAAAAAAAAAAAAAAAAAAAAAAAAAAAAAAAAAAAAAAAAAAAAAAAAAAAAAAAAAAAAAAAAAAAAAAAAAAAAAAAAAAAAAAAAAAAAAAAAAAAAAAAAAAAAAAAAAAAAAAAAAAAAAAAAAAAAAAAAAAAAAAAAAAAAAAAAAAAAAAAAAAAAAAAAAAAAAAAAAAAAAAAAAAAAAAAAAAAAAAAAAAAAAAAAAAAAAAAAAAAAAAAAAAAAAAAAAAAAAAAAAAAAAAAAAAAAAAAAAAAAAAAAAAAAAAAAAAAAAAAAAAAAAAAAAAAAAAAAAAAAAAAAAAAAAAAAAAAAAAAAAAAAAAAAAAAAAAAAAAAAAAAAAAAAAAAAAAAAAAAAAAAAAAAAAAAAAAAAAAAAAAAAAAAAAAAAAAAAAAAAAAAAAAAAAAAAAAAAAAAAAAAAAAAAAAAAAAAAAAAAAAAAAAAAAAAAAAAAAAAAAAAAAAAAAAAAAAAAAAAAAAAAAAAAAAAAAAAAAAAAAAAAAAAAAAAAAAAAAAAAAAAAAAAAAAAAAAAAAAAAAAAAAAAAAAAAAAAAAAAAAAAAAAAAAAAAAAAAAAAAAAAAAAAAAAAAAAAAAAAAAAAAAAAAAAAAAAAAAAAAAAAAAAAAAAAAAAAAAAAAAAAAAAAAAAAAAAAAAAAAAAAAAAAAAAAAAAAAAAAAAAAAAAAAAAAAAAAAAAAAAAAAAAAAAAAAAAAAAAAAAAAAAAAAAAAAAAAAAAAAAAAAAAAAAAAAAAAAAAAAAAAAAAAAAAAAAAAAAAAAAAAAAAAAAAAAAAAAAAAAAAAAAAAAAAAAAAAAAAAAAAAAAAAAAAAAAAAAAAAAAAAAAAAAAAAAAAAAAAAAAAAAAAAAAAAAAAAAAAAAAAAAAAAAAAAAAAAAAAAAAAAAAAAAAAAAAAAAAAAAAAAAAAAAAAAAAAAAAAAAAAAAAAAAAAAAAAAAAAAAAAAAAAAAAAAAAAAAAAAAAAAAAAAAAAAAAAAAAAAAAAAAAAAAAAAAAAAAAAAAAAAAAAAAAAAAAAAAAAAAAAAAAAAAAAAAAAAAAAAAAAAAAAAAAAAAAAAAAAAAAAAAAAAAAAAAAAAAAAAAAAAAAAAAAAAAAAAAAAAAAAAAAAAAAAAAAAAAAAAAAAAAAAAAAAAAAAAAAAAAAAAAAAAAAAAAAAAAAAAAAAAAAAAAAAAAAAAAAAAAAAAAAAAAAAAAAAAAAAAAAAAAAAAAAAAAAAAAAAAAAAAAAAAAAAAAAAAAAAAAAAAAAAAAAAAAAAAAAAAAAAAAAAAAAAAAAAAAAAAAAAAAAAAAAAAAAAAAAAAAAAAAAAAAAAAAAAAAAAAAAAAAAAAAAAAAAAAAAAAAAAAAAAAAAAAAAAAAAAAAAAAAAAAAAAAAAAAAAAAAAAAAAAAAAAAAAAAAAAAAAAAAAAAAAAAAAAAAAAAAAAAAAAAAAAAAAAAAAAAAAAAAAAAAAAAAAAAAAAAAAAAAAAAAAAAAAAAAAAAAAAAAAAAAAAAAAAAAAAAAAAAAAAAAAAAAAAAAAAAAAAAAAAAAAAAAAAAAAAAAAAAAAAAAAAAAAAAAAAAAAAAAAAAAAAAAAAAAAAAAAAAAAAAAAAAAAAAAAAAAAAAAAAAAAAAAAAAAAAAAAAAAAAAAAAAAAAAAAAAAAAAAAAAEFudWdhbnRpIFN1cmVzaCAoQ29uc3VsdGFudCkAAAAFkAMAAgAAABQAABC2kAQAAgAAABQAABDKkpEAAgAAAAM1OQAAkpIAAgAAAAM1OQAA6hwABwAACAwAAAiqAAAAABzqAAAACAAAAAAAAAAAAAAAAAAAAAAAAAAAAAAAAAAAAAAAAAAAAAAAAAAAAAAAAAAAAAAAAAAAAAAAAAAAAAAAAAAAAAAAAAAAAAAAAAAAAAAAAAAAAAAAAAAAAAAAAAAAAAAAAAAAAAAAAAAAAAAAAAAAAAAAAAAAAAAAAAAAAAAAAAAAAAAAAAAAAAAAAAAAAAAAAAAAAAAAAAAAAAAAAAAAAAAAAAAAAAAAAAAAAAAAAAAAAAAAAAAAAAAAAAAAAAAAAAAAAAAAAAAAAAAAAAAAAAAAAAAAAAAAAAAAAAAAAAAAAAAAAAAAAAAAAAAAAAAAAAAAAAAAAAAAAAAAAAAAAAAAAAAAAAAAAAAAAAAAAAAAAAAAAAAAAAAAAAAAAAAAAAAAAAAAAAAAAAAAAAAAAAAAAAAAAAAAAAAAAAAAAAAAAAAAAAAAAAAAAAAAAAAAAAAAAAAAAAAAAAAAAAAAAAAAAAAAAAAAAAAAAAAAAAAAAAAAAAAAAAAAAAAAAAAAAAAAAAAAAAAAAAAAAAAAAAAAAAAAAAAAAAAAAAAAAAAAAAAAAAAAAAAAAAAAAAAAAAAAAAAAAAAAAAAAAAAAAAAAAAAAAAAAAAAAAAAAAAAAAAAAAAAAAAAAAAAAAAAAAAAAAAAAAAAAAAAAAAAAAAAAAAAAAAAAAAAAAAAAAAAAAAAAAAAAAAAAAAAAAAAAAAAAAAAAAAAAAAAAAAAAAAAAAAAAAAAAAAAAAAAAAAAAAAAAAAAAAAAAAAAAAAAAAAAAAAAAAAAAAAAAAAAAAAAAAAAAAAAAAAAAAAAAAAAAAAAAAAAAAAAAAAAAAAAAAAAAAAAAAAAAAAAAAAAAAAAAAAAAAAAAAAAAAAAAAAAAAAAAAAAAAAAAAAAAAAAAAAAAAAAAAAAAAAAAAAAAAAAAAAAAAAAAAAAAAAAAAAAAAAAAAAAAAAAAAAAAAAAAAAAAAAAAAAAAAAAAAAAAAAAAAAAAAAAAAAAAAAAAAAAAAAAAAAAAAAAAAAAAAAAAAAAAAAAAAAAAAAAAAAAAAAAAAAAAAAAAAAAAAAAAAAAAAAAAAAAAAAAAAAAAAAAAAAAAAAAAAAAAAAAAAAAAAAAAAAAAAAAAAAAAAAAAAAAAAAAAAAAAAAAAAAAAAAAAAAAAAAAAAAAAAAAAAAAAAAAAAAAAAAAAAAAAAAAAAAAAAAAAAAAAAAAAAAAAAAAAAAAAAAAAAAAAAAAAAAAAAAAAAAAAAAAAAAAAAAAAAAAAAAAAAAAAAAAAAAAAAAAAAAAAAAAAAAAAAAAAAAAAAAAAAAAAAAAAAAAAAAAAAAAAAAAAAAAAAAAAAAAAAAAAAAAAAAAAAAAAAAAAAAAAAAAAAAAAAAAAAAAAAAAAAAAAAAAAAAAAAAAAAAAAAAAAAAAAAAAAAAAAAAAAAAAAAAAAAAAAAAAAAAAAAAAAAAAAAAAAAAAAAAAAAAAAAAAAAAAAAAAAAAAAAAAAAAAAAAAAAAAAAAAAAAAAAAAAAAAAAAAAAAAAAAAAAAAAAAAAAAAAAAAAAAAAAAAAAAAAAAAAAAAAAAAAAAAAAAAAAAAAAAAAAAAAAAAAAAAAAAAAAAAAAAAAAAAAAAAAAAAAAAAAAAAAAAAAAAAAAAAAAAAAAAAAAAAAAAAAAAAAAAAAAAAAAAAAAAAAAAAAAAAAAAAAAAAAAAAAAAAAAAAAAAAAAAAAAAAAAAAAAAAAAAAAAAAAAAAAAAAAAAAAAAAAAAAAAAAAAAAAAAAAAAAAAAAAAAAAAAAAAAAAAAAAAAAAAAAAAAAAAAAAAAAAAAAAAAAAAAAAAAAAAAAAAAAAAAAAAAAAAAAAAAAAAAAAAAAAAAAAAAAAAAAAAAAAAAAAAAAAAAAAAAAAAAAAAAAAAAAAAAAAAAAAAAAAAAAAAAAAAAAAAAAAAAAAAAAAAAAAAAAAAAAAAAAAAAAAAAAAAAAAAAAAAAAAAAAAAAAAAAAAAAAAAAAAAAAAAAAAAAAAAAAAAAAAAAAAAAAAAAAAAAAAAAAAAAAAAAAAAAAAAAAAAAAAAAAAAAAAAAAAAAAAAAAAAAAAAAAAAAAAAAAAAAAAAAAAAAAAAAAAAAAAAAAAAAAAAAAAAAAAAAAAAAAAAAAAAAAAAAAAAAAAAAAAAAAAAAAAAAAAAAAAAAAAAAAAAAAAAAAAAAAAAAAAAAAAAAAAAAAAAAAAAAAAAAAAAAAAAAAAAAAAAAAAAAAAAAAAAAAAAAAAAAAAAAAAAAAAAAAAAAAAAAAAAAAAAAAAAAAAAAAAAAAAAAAAAAAAAAAAAAAAAAAAAAAAAAAAAAAAAAAAAAAAAAAAAAAAAAAAAAAAAAAAAAAAAAAAAAAAAAAAAAAAAAAAAAAAAAAAAAAAAAAAAAAAAAAAAAAAAAAAAAAAAAAAAAAAAAAAAAAAAAAAAAAAAAAAAAAAAAAAAAAAAAAAAAAAAAAAAAAAAAAAAAAAAAAAAAAAAAAAAAAAAAAAAAAAAAAAAAAAAAAAAAAAAAAAAAAAAAAAAAAAAAAAAAAAAAAAAAAAAAAAAAAAAAAAAAAAAAAAAAAAAAAAAAAAAAAAAAAAAAAAAAAAAAAAAAAAAAAAAAAAAAAAAAAAAAAAAAAAAAAAAAAAAAAAAAAAAAAAAAAAAAAAAAAAAAAAAAAAAAAAAAAAAAAAAAAAAAAAAAAAAAAAAAAAAAAAAAAAAAAAAAAAAAAAAAAAAAAAAAAAAAAAAAAAMjAyMjowMToxOCAxMzoxMDoyNAAyMDIyOjAxOjE4IDEzOjEwOjI0AAAAQQBuAHUAZwBhAG4AdABpACAAUwB1AHIAZQBzAGgAIAAoAEMAbwBuAHMAdQBsAHQAYQBuAHQAKQAAAP/hCy9odHRwOi8vbnMuYWRvYmUuY29tL3hhcC8xLjAvADw/eHBhY2tldCBiZWdpbj0n77u/JyBpZD0nVzVNME1wQ2VoaUh6cmVTek5UY3prYzlkJz8+DQo8eDp4bXBtZXRhIHhtbG5zOng9ImFkb2JlOm5zOm1ldGEvIj48cmRmOlJERiB4bWxuczpyZGY9Imh0dHA6Ly93d3cudzMub3JnLzE5OTkvMDIvMjItcmRmLXN5bnRheC1ucyMiPjxyZGY6RGVzY3JpcHRpb24gcmRmOmFib3V0PSJ1dWlkOmZhZjViZGQ1LWJhM2QtMTFkYS1hZDMxLWQzM2Q3NTE4MmYxYiIgeG1sbnM6ZGM9Imh0dHA6Ly9wdXJsLm9yZy9kYy9lbGVtZW50cy8xLjEvIi8+PHJkZjpEZXNjcmlwdGlvbiByZGY6YWJvdXQ9InV1aWQ6ZmFmNWJkZDUtYmEzZC0xMWRhLWFkMzEtZDMzZDc1MTgyZjFiIiB4bWxuczp4bXA9Imh0dHA6Ly9ucy5hZG9iZS5jb20veGFwLzEuMC8iPjx4bXA6Q3JlYXRlRGF0ZT4yMDIyLTAxLTE4VDEzOjEwOjI0LjU5NDwveG1wOkNyZWF0ZURhdGU+PC9yZGY6RGVzY3JpcHRpb24+PHJkZjpEZXNjcmlwdGlvbiByZGY6YWJvdXQ9InV1aWQ6ZmFmNWJkZDUtYmEzZC0xMWRhLWFkMzEtZDMzZDc1MTgyZjFiIiB4bWxuczpkYz0iaHR0cDovL3B1cmwub3JnL2RjL2VsZW1lbnRzLzEuMS8iPjxkYzpjcmVhdG9yPjxyZGY6U2VxIHhtbG5zOnJkZj0iaHR0cDovL3d3dy53My5vcmcvMTk5OS8wMi8yMi1yZGYtc3ludGF4LW5zIyI+PHJkZjpsaT5BbnVnYW50aSBTdXJlc2ggKENvbnN1bHRhbnQpPC9yZGY6bGk+PC9yZGY6U2VxPg0KCQkJPC9kYzpjcmVhdG9yPjwvcmRmOkRlc2NyaXB0aW9uPjwvcmRmOlJERj48L3g6eG1wbWV0YT4NCiAgICAgICAgICAgICAgICAgICAgICAgICAgICAgICAgICAgICAgICAgICAgICAgICAgICAgICAgICAgICAgICAgICAgICAgICAgICAgICAgICAgICAgICAgICAgICAgICAgICAKICAgICAgICAgICAgICAgICAgICAgICAgICAgICAgICAgICAgICAgICAgICAgICAgICAgICAgICAgICAgICAgICAgICAgICAgICAgICAgICAgICAgICAgICAgICAgICAgICAgIAogICAgICAgICAgICAgICAgICAgICAgICAgICAgICAgICAgICAgICAgICAgICAgICAgICAgICAgICAgICAgICAgICAgICAgICAgICAgICAgICAgICAgICAgICAgICAgICAgICAgCiAgICAgICAgICAgICAgICAgICAgICAgICAgICAgICAgICAgICAgICAgICAgICAgICAgICAgICAgICAgICAgICAgICAgICAgICAgICAgICAgICAgICAgICAgICAgICAgICAgICAKICAgICAgICAgICAgICAgICAgICAgICAgICAgICAgICAgICAgICAgICAgICAgICAgICAgICAgICAgICAgICAgICAgICAgICAgICAgICAgICAgICAgICAgICAgICAgICAgICAgIAogICAgICAgICAgICAgICAgICAgICAgICAgICAgICAgICAgICAgICAgICAgICAgICAgICAgICAgICAgICAgICAgICAgICAgICAgICAgICAgICAgICAgICAgICAgICAgICAgICAgCiAgICAgICAgICAgICAgICAgICAgICAgICAgICAgICAgICAgICAgICAgICAgICAgICAgICAgICAgICAgICAgICAgICAgICAgICAgICAgICAgICAgICAgICAgICAgICAgICAgICAKICAgICAgICAgICAgICAgICAgICAgICAgICAgICAgICAgICAgICAgICAgICAgICAgICAgICAgICAgICAgICAgICAgICAgICAgICAgICAgICAgICAgICAgICAgICAgICAgICAgIAogICAgICAgICAgICAgICAgICAgICAgICAgICAgICAgICAgICAgICAgICAgICAgICAgICAgICAgICAgICAgICAgICAgICAgICAgICAgICAgICAgICAgICAgICAgICAgICAgICAgCiAgICAgICAgICAgICAgICAgICAgICAgICAgICAgICAgICAgICAgICAgICAgICAgICAgICAgICAgICAgICAgICAgICAgICAgICAgICAgICAgICAgICAgICAgICAgICAgICAgICAKICAgICAgICAgICAgICAgICAgICAgICAgICAgICAgICAgICAgICAgICAgICAgICAgICAgICAgICAgICAgICAgICAgICAgICAgICAgICAgICAgICAgICAgICAgICAgICAgICAgIAogICAgICAgICAgICAgICAgICAgICAgICAgICAgICAgICAgICAgICAgICAgICAgICAgICAgICAgICAgICAgICAgICAgICAgICAgICAgICAgICAgICAgICAgICAgICAgICAgICAgCiAgICAgICAgICAgICAgICAgICAgICAgICAgICAgICAgICAgICAgICAgICAgICAgICAgICAgICAgICAgICAgICAgICAgICAgICAgICAgICAgICAgICAgICAgICAgICAgICAgICAKICAgICAgICAgICAgICAgICAgICAgICAgICAgICAgICAgICAgICAgICAgICAgICAgICAgICAgICAgICAgICAgICAgICAgICAgICAgICAgICAgICAgICAgICAgICAgICAgICAgIAogICAgICAgICAgICAgICAgICAgICAgICAgICAgICAgICAgICAgICAgICAgICAgICAgICAgICAgICAgICAgICAgICAgICAgICAgICAgICAgICAgICAgICAgICAgICAgICAgICAgCiAgICAgICAgICAgICAgICAgICAgICAgICAgICAgICAgICAgICAgICAgICAgICAgICAgICAgICAgICAgICAgICAgICAgICAgICAgICAgICAgICAgICAgICAgICAgICAgICAgICAKICAgICAgICAgICAgICAgICAgICAgICAgICAgICAgICAgICAgICAgICAgICAgICAgICAgICAgICAgICAgICAgICAgICAgICAgICAgICAgICAgICAgICAgICAgICAgICAgICAgIAogICAgICAgICAgICAgICAgICAgICAgICAgICAgICAgICAgICAgICAgICAgICAgICAgICAgICAgICAgICAgICAgICAgICAgICAgICAgICAgICAgICAgICAgICAgICAgICAgICAgCiAgICAgICAgICAgICAgICAgICAgICAgICAgICAgICAgICAgICAgICAgICAgICAgICAgICAgICAgICAgICAgICAgICAgICAgICAgICAgICAgICAgICAgICAgICAgICAgICAgICAKICAgICAgICAgICAgICAgICAgICAgICAgICAgICAgICAgICAgICAgICAgICAgICAgICAgICAgICAgICAgICAgICAgICAgICAgICAgICAgICAgICAgICAgICAgICAgICAgICAgIAogICAgICAgICAgICAgICAgICAgICAgICAgICAgPD94cGFja2V0IGVuZD0ndyc/Pv/bAEMABwUFBgUEBwYFBggHBwgKEQsKCQkKFQ8QDBEYFRoZGBUYFxseJyEbHSUdFxgiLiIlKCkrLCsaIC8zLyoyJyorKv/bAEMBBwgICgkKFAsLFCocGBwqKioqKioqKioqKioqKioqKioqKioqKioqKioqKioqKioqKioqKioqKioqKioqKioqKv/AABEIALICNAMBIgACEQEDEQH/xAAfAAABBQEBAQEBAQAAAAAAAAAAAQIDBAUGBwgJCgv/xAC1EAACAQMDAgQDBQUEBAAAAX0BAgMABBEFEiExQQYTUWEHInEUMoGRoQgjQrHBFVLR8CQzYnKCCQoWFxgZGiUmJygpKjQ1Njc4OTpDREVGR0hJSlNUVVZXWFlaY2RlZmdoaWpzdHV2d3h5eoOEhYaHiImKkpOUlZaXmJmaoqOkpaanqKmqsrO0tba3uLm6wsPExcbHyMnK0tPU1dbX2Nna4eLj5OXm5+jp6vHy8/T19vf4+fr/xAAfAQADAQEBAQEBAQEBAAAAAAAAAQIDBAUGBwgJCgv/xAC1EQACAQIEBAMEBwUEBAABAncAAQIDEQQFITEGEkFRB2FxEyIygQgUQpGhscEJIzNS8BVictEKFiQ04SXxFxgZGiYnKCkqNTY3ODk6Q0RFRkdISUpTVFVWV1hZWmNkZWZnaGlqc3R1dnd4eXqCg4SFhoeIiYqSk5SVlpeYmZqio6Slpqeoqaqys7S1tre4ubrCw8TFxsfIycrS09TV1tfY2dri4+Tl5ufo6ery8/T19vf4+fr/2gAMAwEAAhEDEQA/APpGiig9KACimbzRvNAD6KZvPtTEuEkJEbo204O05xQBNRTN5o3mgB9FM3mjeaAH0UzeaN5oAfRTN5o3n2oAfRTN59qPM5wcUAPopm80bzQA+imbzRvPtQA+imbz7Ubz7UAPopm8+1G8+1AD6KZvPtRvPtQA+imbz7Ubz7UAPopm8+1G8+1AD6KZvPtRvPtQA+imbzRvNAD6KZvNG80APopm80bzQA+imbzRvNAD6KZvNG80APopm80bzQA+imbzRvNAD6KZvNG80APopm80bzQA+imbzRvNAD6KZvNG80APopm80bzQA+imbzRvNAD6KZvNG80APopm80bzQA+imbzRvNAD6KZvNG80APopm80bzQA+imbzRvNAD6KZvNFAD6D0NFB6GgCOsDxV4y0nwfp/2nVZsO3EUKDLyH0Arfrw34qXnh/xB4kitpdVOkatpjfu5LlP3b/nxQM9A8MeMdR8V6bfTtoN1pcaRE27zkZk44461zfwJdp9G1ae7u5p71rxxMsrZ2HPaofhR4+1fXtevNA1Lyb+C1iyt/br8h6DHHHeneA1/sj4veK9ItxthkPnoo6Ak5pAetYpPqa+fLnVPGGpeIvEFpN4k/sy70ktPbwOAqyxDn+tU/EfjvxHrvw10jWra4ks7qG8FvLJGcLJ82N1FwPo0SxFyglQuOqhhn8qJZo4IzJPIkSDqzsAB+JrwLWNI0PQNHF83jK7XXmhEuxJyxZyMgbazPiLr/imf4Z+H31ITRi4ci4IyhcZ4z6cUAfR1vdQXcXm2s8c0ecbo3DD8xUteR/A62i0fSJ7e41qG6uLt/NS1SXf5QxXrlMArgfFWp/EL+3zZ+E9LszZhc/arh+p+ma76koA8QvvE/j7wl480KLxZfW0thqD7GW3TCqTnjOK9ne2innhuWZg0YypDYHI715X8frnT/8AhG7WB5dupwzLPbooyxAPOKu6b4qn8a+BbjTbO0v7O5Fiw+1MhUBwvY0gPTnkRBl3VR6scUqOrjKMrD1U5r5r8BaB4o+KNtcf2z4kubW006Q24SJsMxHc1s65o/ib4ONBrtnrdxqujpKBcwTnOF7mgDuvDnju8u/iRr/h3WDBFFYkNA+dvy5PXP0rvYLmC6jL2s8cyg4LRuGH6V88+I9Hstb+N1hczXcsWna7arIHgcruPpkV7joehad4V0p7TSVbYAW2s+5mIFAGs88MTASyxoW6BmAzRJPFFt82VE3HC7mA3H2r5UuNP8dfEzx9qPkag9itpOV8p5dnlDPTFew+JPBurXPwrtrVNUefVtJxcJMjf6xl6g/hmgD0qaeG3jL3EqRIP4nYKP1qNL60kh82O6haPON4kG3P1rwHwKutfGPVprnxJfy29jpxEbWkLbd7DjnFdD46sUPxB8K+ELSV7HTJP38gibaZCuTgn/gNAHsENzBcAm3mjlCnBKMGwfwqWvLrHTdR+F+n+JtTd/tOnAefbIzZYHHQ143N8TfiJ4puHuLJruGFzhEtocgD60AfWtFfOfw8vvii3im3k1EXkmlg5mNwhAxWlpmseO/H/jDXZvDmrfYLPT5/KiidBtbBP+FAHvVcV8U/FGs+EfB7apoNtFPKkgEnm9FU9/5Vydx8SvFvgqeGLxtpcM9s7iP7Vbt698Cur+Jl2Lj4S6ndQIrpNaq6h+wbBH480AUPhvr3jrX1ivPEtlYxabNHvjkhbLH0716LXiHw18J+K4vBVjqkPiCYptEkNkRwVz92va4S7QRtINrlRuHocc0ASUUUUwCiiigAooooAKKKKACiiigAooooAKKKKACiiigAooooAKKKKACiiigAooooAKKKKACiiigAooooAKKKKACiiigAooooAKKKKACiiigCSg9DRQehoER1k6v4Y0TXhjWNMt7r3defzFa1FAzO0jQNK0C38jRrGG0jPJEY6/jUNr4a0208RXWtwREXt0oWR88ECteigDiPGXwq0PxpqcN/fSXFtcRja7WzhfNX0bg1ifFLwpY6d8H5bHS4BFBYbZFUdeOpr1Ksbxbpb614R1LT4hukuIGRB74oA5zwH4U8MT+GdN1e20mF57iBXaWUlzkcdz7V0uo2eia7HJo+oR210AuWtiRlR9ByKzfhzpN9ofgPTtO1VdlzArKy+g3EiuQ8Oea/7QGuvMsgRbcBCQdp4pAd9ofhHQvDmf7G02K2J6sCSfzJrapKKYC0UlFAFa502yu5llu7SGaRBhWkQEip1hjSPYkaqmMbVUAVgaf4ys9R8ZX3h6KKUT2aBmkZcK3A4B/GuioAw/DfhHSvCkd0mjxNGLqYzSbmzljVrXtDs/EeiXOlamhe2uUKOB1wfStGigDz/wAUfCXTde0nTbSxu59Nl0xdtvPEQWC+nIq54T+HMfhu6F5d61qOq3S/da5kG0fgAK7SigDhPEnwk0TxFrjasLm90+6k/wBabOUIJPrkGuk8P+GbHw5ppsrJppEYfO077mateigDlfCHgGw8G3+p3OnTSv8A2hMZWRyMISc4HFZ3xM8CXniyGwvtBu1sdY06XfBMwyCO4Nd3RQBzOkaBqd14Pk0rxneR6hPOpSV402jBrzuH4c+P/BsjweCdatZ9O3Fkhu4QWT2zxXtdFIDz7w/p3xGl58R6np0MWOUggO4/jurjvh3pF7qcnjnR9O1OTTZBqYxPEoLAZfPWvcT0P0ryj4RxyQeNvHKToyM2oBl3LjIy/NAFzSPgppVtfx3uvapqGtyxncq3Ug2A+uABWx8VbSef4X6pb6fCXYRKBGgz8oI4Ars6GVXUqwBB6g96YHB/CbV7q98H2NnPpFxZR2sIQSzHHmH2GK7ykVVRQqAKo6ADpS0ALRSUhkQOELAMegz1oAdRRSUALRSUUALRSUUALRSUUALRSUUALRSUUALRSUUALRSUUALRSUUALRSUUALRSUUALRSUUALRSUUALRSUUALRSUUALRSVk+JfEVp4Y0SXUb7cypwqIMs59AKANalrxqT4mePJbdtZtvCbLo8fzEOCHZfXFeoeGtdh8SeHrTVbZGjS5jD7HGCp7igDVooooAKKKKAJKD0NFB6GgRHRRRQMKKKKAENJSmkoADXm0Gbb46SgdJrbmvSTXm10PL+OlszcCS3wvvSA9JooopgFFFFAHmuoY0j44W0qDYmoW4DY7nH/ANavSq80+JgNj4s8N6qOAs/lsfrmvSY23xqw6MAaAHUUUUAFFFFABRRRQAUUUUAFFFFABXN6L4RGj+KtT1eO7Z0vzkwkdD9fxrpKKAClpKKAFrD8Y32o6b4Wu7zRwpuoV3AMM8d626q6rGJdHvIyMhoHGP8AgJoA4jwD8SG8SzLYatbi2vWXMbA/LJVP7RPq/wAc2hWZxBp8AygPGea5W1sprfwNb+IdPU/a9Iu3LbRyUyCR+lbXwz1FPEHxE1vV4z8siLwe3WkB69SUtU7i+WP5YsM3r2FUlclyUVqWyQoyTgUVizXEk33249KgvNYfStMnunb93ChYhqrkZj7dXN7z4jN5IkXzMZ2Z5x9KfXnvw0EmrSXfibUZGNxeOVhRjwiDjj8q9DqDdNPVCUUtJQMKKKKACiiigAooooAKKKKACiiigAooooAKKKKACiiigAooooAKKKKACqGuX8ml6Hd3sEfmyQRl1X1wKv1HcQJc20kEgysiFSPYigDI8I683iTw5BqMkaxvJkMqngGrGs+HtP177ONSiMq2770XPGfeuN+Gty+napq/h24+U28pkiU/3TXd6pLcQ6VcSWUfmXCxkxp6mgDjviP4jh03R/7D09RLf3w8qKJP4R610Hg/Rm0DwnYac/34YgH/AN7HNeOaTpvjmTxFNqraOZb12OyWc8R/Su60nQPHdzqkFzrerpFCjBmij/i9qQHotLSDhR9KWmAUUUUASUHoaKD0NAiOiiigYUUUUAIaSlNNWRHzsdWwcHBzigDlfHFrr4tE1Lw3etHLaDc1t/DMK8VvvifqM3i2z1a6sES7svlZBxu+tfSpGRg15N46+Eb6zr0V/oWyETN/pC5xj3oA6D4ceNNU8YwXM9/p629uhAjkXo3tXc1naDo0Gg6Jb6daqAkK4JA+8e5rRoAKparq9lotkbvUphDCDgsRV2quoabaaraNbahAs8LdVYUAeS/E/wAceH9Z0a3h027864guFcYHGO9dLp3xY8NCzs4DcSPOypGQE79K4z4kfCpNLtZNW8ORExf8tYAM7R6ip/hH8PkuEGua3bcq37iJ1x074pAe1IwdFdejAEUtAGAAOB2opgFFFFABRRRQAUUUUAFFFFABRRRQAUUUUAFNljEsLxngOpUn6in015FjXc5wKBXMLRfCdppGiXOmFzPFcuzPvH97tXn/AMMtPTwt4y17TrlWDKQUfHBXJr024vmcFYvlHr3rzTxpr09xq6eG/DoU6lcj9/Oo5iT3P51SiYSrdEeiy3zXP+rYbO201BWb4f0j+xNFhsjM87IPmkc5JPetKtEczbb1CuD+J2oS/YrLRLRsTalMEbB/gzzXeV554gj/ALR+L2kW45FrEZGpknbaVYppek21nANqwxhRiti21Bo/lmyw7HuKp0hp2THGTi9DdjnjmH7twfan1z6yGNwVba3bmtG31IHCz8f7QrNwtsdUKyejL9FAIYZByKWszoEooooAKKKRmCKWcgKBkk9qAForlPD/AIruvEfiC7SxtgNJtjs+0H/lo3tXV0AFFFFABRRRQAUUUUAFFFFABRRRQAUUU2VPNhePcV3KVyO2RQAoYN90g/Q06vLZ9P8AGHgW4uL3TpDrGnuxd4mOWUe1dv4X8T2fijSlu7Q7XB2yxN96NvQigDkfHVrL4Z8TWni+xB2AiO7Ud19a9DtLqK9s4rm3bdFKgdT6g1U13S49a0O6sJhlZoyB7GuW+FWozSeHZtKvGzc6ZKYGB64HSgDuqSiigBRS0gpaACiiigCSg9DRVbUbxNO0u6vZVZo7aF5mVBliFUkgDueKBEtFeYv8aLYgm18N6zMM4BFo+D+lQH4r+IbjJsPAmpsoGd0kbL/SlcZ6pS15Lp3j/wAfeJraSXQfDVusauYzJJMPkYdc1teGrf4kSa0k/iWewisR96GIAsf1oA6Lxlry+HvDFzef8tSvlxL3LHgfzrM+HWh3Ol6B9pv55Zbm+PnOHYnbnnArB8XyHxL8UdL8OK3+j2YF1OB3+9gfyr0xFCIqqMBRgCmAtFFFABRRRQAUUUUADKrqVcBlPUEZzSKiooVFCqOgAwBS0UAcheeM5bX4iQ+H5I44rZ493mvwWPtXX1ynjnwZH4osVlt38jUbf5oJl4OeuDWf8PfFd1fvPoOtrs1Ox4Yn+NfWgDu6KKKACiiigAooooAKKKKAFoopKAFpCQBknAqGW7iiB+bc3oKzprmSY/McD0FNIylUUS3Pf7SVhAPuapSSvKcu2ahllSCF5ZWCoilmJ7AV5F4m+MUV3ePpXhyWOFi2xryZsKPXGau1jllOUtzsvGvjWPQLT7Np2LrVJvlhgXkg+ppngTwm+i20mo6qfO1a8O+aRjkrn+GuZ8LSeDtFmGpar4gtb7U5OWleUEKfauwPxE8Jgf8AIctP+/gpknTUlc3H8QvC0pGzWrU5OB+8FdErq6B0IZWGQR3qhDq860xjdfG3UnbnybYKvtwK9Frzjwt83xa8QN1woGaBF3X9d1ZfiVpGi6dOsMEiGSbKg7wASR+ldxXm3xHMuh+KNE8TJE7wW7+XOyKThTkf1qzcfGPw0sObR5rqXHEccZJz6UwKHji+vo/ih4dtbS7kijdgXjVsA885Femj3r5/udT1XV/ipo2s6lZTWVvLMqQLKpHAYev1r3bUb+LTNNmvJ8+XCm4470xGhDdSwfcbj0PNaVtfpNhXwj/oa8Tu/i7fW0K3jaE8dixyryNtZh6gGvR9I1KPWNJt7+FWRJkDBW6ik4pmkakonX0tY1tfvCcPl09PStOK6hm+44J9OhrFxaOuNSMiauS+JOrSaX4NuBbH9/c/uY8dcniutrz7x+ftfivw3p55SS5DsvrgipNTqPCekR6H4XsrKNcFYwznHVjyTWxXnHi3x1d+EfHEMd8p/sprcFQq5LNzVvTPi1ot/Z3csySWklshfypRguPbNAHeUV5XafF693wXWpaHLBpdy2I7nBxg967zWvE+naHoQ1S7l/csoMYHVyegFAGxRXmlt8U72K8t5Na0Say026bbFO4I69M8V0ukeONP1vxPPo9grSmFNxnXlfpmgDpqKK4bxV8UdO8OXslnHbS3c8IzLsBwg9zQB3NFUND1eHXdGg1G1BWOZdwDDkVfoAKKoX+t6fpl3b217cLFLcttiVj941oUAJRSSSJFG0kjBUUZZicACubh+IXhmfVV06HVIXuGbaADwT6ZoA6UjIIPQ15brlm3gHx9a6xp2V0/VHEdxCD8ofPXH4ivUq4L4vwlvB8U46wXKMD+IoA7tHDorL0YZFec6F/xKfjNrNl0jvYxOo7Z5/xrutGl8/RLOTruhU/pXCy/N8eRt522Yz7UAekUUtJQAopaQUtABRRRQBJSMAVIIyCOQaWg9DQIgEUYGBGoHsoqG/8Al02528fum6fSrFQX/wDyDrj/AK5N/KgZ5x8DG3eGdVyST/aEmefc16fXlnwJ/wCQDrQ9NRf+Zr1OgDy3wyRd/H3xPMPmFvaxID6dK9JvbyLT7Ca7uDiKFC7H2FeY+AENr8aPGcE3+skWN1z3HFek6xaC+0W7tW6Swsv6UAV7TxHpl3pUGofao4oJxlDIwBPOP6VauNStLbTnvpJ0+zou4yA5GK8T+HnhEeK7q/j1y5le105zBDEjYxzn+tZ/jG51Lwet74VM0k9jdEGBmPKj0oA9EtvjBpE+oJFJazxWsj7EumHyk/lXoEUqTRLJEwZGGVI7iuKm8IWl/wDC+LTBAgkFrvRgOQ+OtJ8KdWlv/Cxs7o5nsX8psntQB3FFFUNeu5LHw/e3UIy8ULMv1xQBzviL4iWmj6idOsLWTUb1Rl44uQn1rW8LeJYfE+mNcxRNC8blJI26q1c18KNKgPhs6zMRPe6hI7yyNyR8x4rtbDTLTTEkWyiEYkcu+O5NAFuvLvGUa+G/iZouuxDy4rlxDOR3GR/jXqNeb/GgL/wj9gR/rhdr5f50AekAgqCOhGaKhs932KHzPvbBn8qmoAKKKKACilpKAKF/rmm6XNHFqF3HA8gyoc4zVd/FmhIu5tTt8D/bFN17TtAvdja8luSg+UzMAQK4y+k+HVqxBawXHq4P6UEyko7nf2usWF9b+fZ3KTR5xlDmobi8aX5U+Vf51zvh270W5tXHh/YYVPJjHGa2apI5Z1W9EFFFFUZDXRZI2RwGVhgg9xXPy+AvDM0heTSICxOScGuiooA5n/hXnhYf8weD9ax/Eug+CvDGkve3uk2+QP3cYzlz6Cut1vW7Hw/pkl/qUwihjGeTy3sK880HSr74ga//AMJDr0bR6XG3+h2zD7w9TTEZXhX4bReJNSGvataiysy26C0QYyO2a9lVFjQIgwqjAHpSoixoEjUKqjAA7UtUADqK858I/wDJUvEXrmvRq840n/QfjVqcT/KLmAOvvwKBHoU0EVxEY541kRuqsMg1Sg0LSrZ90Gn26NnORGK0KKYHmfxeX7OfD96oAEF6MkDpyv8AhXoJSK700LMAY5Yxuz05FcL8aI8+DYZe8d0hB9K39Rmc/DuSWJiH+x5BHXpTEUNN+Geg21x9quA96+7cnmNlVHYAV2McaRIqRKFRRgKBwK5L4X3ct78P7CW4kMjjKlicntXX96YFPU9VstHszdajOsEIONzetclc/Fvw7bvi1ee5cdPKQ11eraPY63aC21KATRBt20+tQ2nhzSLFQtrp1vGB6IKBmLo/xgOo6jDaDQrwpI23ziMbfc8Vd8XyK/xC8Lyqcq0uM/iK3Ehjj/1car9BXE/Es3On2un67abi2mzrIwAz8ueaiVO+xvCs1oy38aBHDHol1KgYR3POR24rmPilpUFxrWhXNqoiW9jVW28Ajiu71ywtPiP4bsf9JWEZWVJV5B6ZH6VL4r8Cz61b6OlhMinT2XLP3ArFprc6oyUloQfErTbfT/hcbWCMBLcxqgx0xWzoelWeu+CdLj1OETKsauobsRWd8XGK+AZVAzulQH9a6LwrH5XhTTkHaBf5UijnfizbRN8Pbj5VHlEFOOlcx8AlhbSdRk6zmQBieuOK3vixpuuaxp1np+j27S28so88oMkVi/DvTJvCfxDu9EKt5M9uHBxxkDP9KQHrdcXrfwz0TW9dbUb+WUPLgNEGAV8VevPFs6eJDo2n6TPdSJgyTdEUH3rnvGtzd2/xE8Mf6Q6wTShWhVsDOR1/OgD0GztIbC0jtrVBHFGu1VHYVmeJfE1r4ZsknuopZmkbakcQyWNbNMlgin2+dEj7TldwzimB4X448VahresaPPb6RLatFN+5M38Zr1PwzN4puJmk8RR20MJX5Y4wc5/Oua+LkflJotyBgRXQyR2r0W3cSW0TjoyKf0pAcd8VdTlsPBzxQOUe6kWLI9CcGr/hnwhpGm6JYYsYmnWJXaVly24jOc/jWN8XrSSXwtDcxgsLW4SRgB2Brb0jxn4fudItZBqtsp8ldytIAQQOaAOkrl/iRai68A6kp6rHvH1FdDZX1tqFuJ7OQSxE8MOhrnfiJd+T4PuLZF3z3n7iJB1Ynj+tMCfwHdG78EabI3URAHPtXM+Ff+Jp8WfEGo/eS3xArfQmui05R4V+H0f2shDa2+X9jisn4S2Ui+F5dTuVIm1GZpiSOSD0pAd5RRRTAUUtIKWgAooooAkoPQ0UHoaBGP4k0y41jw7eWNncta3E0ZEcy9VbtXltv8Utd8JiTS/iBpEpKKUS9gXKyfWvZqr3dja38fl3tvFcJ/dkQMP1pDPNfgVDOdB1i/lgeGG9vmlhVxglct/jXqVRwwxW8KxQRrHGowFQYA/CpKYHmGsQnw18Z7bWWBW01SFbeR+wYZxn8hXphAkjI6hhVXVNJs9YszbahCJUzkeqn1B7VNa262lrHBGWZYxgFjk4oA4nwT4U1Dw34s1uSQD7BduHiOe9ZXxf8OXOrS6Vc2Fs0sqShWKjoM16hRigCCziMVhBE/VYwp/KuG8E6HfaN431zfEyWUx3Rt2JzXoFLQBiXvi3StP8Qw6NdTFLucZQY4P41rzwpc28kMo3JIpVh6g1yfi7wpLrXiDRr+0jjBtZd00h4O2uvHAFAHlyaD4s8C3Uw8MhNQ0uSQyC3c8pk5wK6zwvrOv6pM39taQLGMDht2STXTUUAITjrXnd5bnxt8QYEZS2laSdzH+GST0/Su/uoPtNrJDvaPeu3cvUVFpum2+lWa21om1V5J7sfU0AWgMDA6CilooASilqvPeJFkD5m9BQJySWpPnHWq019GmQnzH9Koy3Ekp+ZuPQVFTOaVb+UyPEHhjTfE91HPq8PnNGMKM4AFVLTwF4aspA8GlQ7x0LLmuiopmDbe5HDBFbxhII1jUdlGKkFFApiDtRR2opjCsHxT4ssPC1j51426V+IoV+85q14i1608OaNNf3rgLGvyr3duwFcN4O8PXfijUz4r8Urv8AMYmztm5CJ2OKAIdK8N6r471JdX8XBo9PRt1vZHoR716fDDHBCkUKBEQYVQOAKeAFAAGAOgFFUIKSlpKYBXm3jzdpHjzQtaX5Y3cQSt9a9JrlviHop1nwlOIhme3xNHj1FAjpkYOqsvIIBFeea3f+KvCWszXNrAdV0udt3lj70ftXR+B9bTXfCtrMG/fRL5UynqrDiugNMDxjxBr2sfEb7Jodto89nGZg88kg4AFem6jZi18HT2i/N5dqUHvxWyEVTlVUH2FIyhlKsAQeCD3piOJ+EasvgCBXUqRKwwR9K7fvUcFvDbRCO3jWJBztQYFPpgLSUUUwCoLu1hvbWS2uUEkUilWU9xU1FAzzi30zXvAV840tG1HRHbcIM/NFnrivSdM1WVrWKYKyo6gmN+oplFFk9xptbGu0tlqcRguI1dSc7JBwauoixxqiAKqjAA7VzVW4NRmhwGO9R2NZSp9jojW6SNum+VH5vm7F34xuxzUdvdxXK/uzz3U9anrJq250ppq6E2jcSAMnqcVwHjPR9QvfH/hy8trdpba3lBkYfw8ivQKKQxKKKKAM3W9BsfEFmttqMe9EcOvsa0Io1hhSJBhUUKv0FOooAZPBFcwPDOiyRuMMrDgiuZj+G3hWK689NKh353dOM11NFADYoo4IljhQIijAUDgVSvNGtr7U7a9uQXe1B8tT0BPer9DMFUsxwoGSfSgDz34p3kl1bWXh2zyZ9QlAYD+7XcaZYx6ZplvZQDEcEYQfhXE+HrGTxF47u/Ed2jLb2p8m0DdD6kV6BQAUUUUAKKWkFLQAUUUUASUHoaKD0NAiOiiigYUUUUAIaSlNJQAUUUUAFFFFABRRRQAUUUUAFFFI8ixjLsAPegB1RTTpCuWPPYCqtxf/AMMH/fVUmYs2WOT70GE6yWiLM187jEY2D9aq0UUzmcnLcKKKKYgooooEFAooFMA7UUU2SRYomkc4VAWJ9hTGeJ/EXXJL7xzBZalaXL6VZMGKRoT5hFdAnxctoYkis9BviiKFUCMjAFb2keNvD/iHXn02K3IuBna00Aw+PQkV1Qs7Zfu28I+kYoA83f4t3b8W3hm9Y+6mmf8AC09afiPwtclj0yDXpohiXpGg+iil2IOiL+VMR5lF8QvF006BPCkioWAJPpXpcTs8KM67WYZK+lSdKSmAU11DKVYZBGCKdSGmI80vNJ1LwF4hl1fQ4XutKum3XVsvJQ/3gK7vSdYtNas1uLJ8gj5lIwVPoRV8gEEEAg9QahhtLe2ZjbwpEWOW2LjNMCWkpaSmIKSlpO9MApyIZJFRepOBTa0tLtuTMw9lpN2Vy4R5nYBpBxzLz7Cj+x/+m3/jtalFY88js9lDsZf9j/8ATb/x2k/sb/pt/wCO1q0Uc8g9lDsZX9jf9Nv/AB2s2VBHMyKdwU4z61uX9yLe3OD87cAVg1rTcnqznqqMdECu0bbkJUjuK0bfViuFuFz/ALQrNpKtxUtzOM3HY6aKVJl3RsGHtT65mKaSFt0bFT7VrW2qRyKBOdj+vY1hKm1sdUKye5fopFZXXKEMPUGlrM3CiiigAooooAKRlDqVYZVhgg96WigBkMEVvGI4EWNB0VRgU+iigAooooAUUtIKWgAooooAkoPQ0UHoaBEdFFFAwooooAQ0lKaSgAooooAKKKKACilpKAFoqvPdJBweW9BWfLdyy5BbC+goMpVFEuz3yR5EfzN+lZ0kjytuc5NNooOWU3IBS0gpaCAq3Z2gmG+T7vYetVUQu4VeprbjQRxhV6AUzalDmd2RfYoP7n60hsYP7p/OrNFI6uSPYqnT4T2b86T+zof9r86t0UC5I9in/Z0Xq350f2bH/earlFFw9nHsUv7Nj/vtVTVNGa50m6gt5ikskZVGx0NbFMm3eQ/l/e2nb9cU7sXs49jzP4ffDVtJlfU9Ykd78MyICOFWvQP7NH/PQ/lXIfDLUbm5k1q11Gd5LmG7bIY9BntXTeINYvNJgjaw0qXUZHONsbY2/Xii7D2cexYOmf8ATT9Kr3tulhYzXVxMFjhQuxx2FZWi6h4u1DVEfUrC10+xzkoW3SEfn/StnxJaNfeGtQtkOGkgYD8qOZi9lEz9Cng8QaWl/YyfuXJA3LitH+y3/wCei/lXN/CedX8Ex24+/bSNG4967bFPmYeygZn9lyf31pP7Mk/vLWpilo5mL2MTJ/syX+8tIdLm9V/OteinzsPYxMf+zJ/VfzpP7Nn/ANn862aKOdi9hExDp1wP4R+dQzQSQECQYz05roCcc1hXk3n3DMPujgVcJNsyqU4wWhHBEZp1QdzXQIgRAqjAAwKz9Lt8KZmHJ4FaVTN3ZrRjaNwooorM3CkJxS1T1G48m3IU/M/AppXdiZOyuZV7cfaLlm/hHAqvRRXWlZWPPbu7sSkpaSmISg0UhpgWLa8ltW+Q5U9VNbFrqEVzhQdr/wB01z9AJVsjg9iKzlBSNYVHE6uisG31WeFgJD5i+/WtiC5iuEDRMD6juKwlBxOqM1IloooqDQKKKKACiiigAooooAUUtIKWgAooooAkoPQ0UHoaBEdFFFAwooooAQ0lKaSgAoopaAEpaQnHJqlcagoBWHk/3vSgmUlHctSzRwrl2x7VQn1B34i+UeveqjOztliSfekpHJKq3sKSTyTk+9FIaWgyCiiigAFLSCpYIjNMFH40xpXdi5p9v/y1b8BV+kVQqgDoKWg74x5VYKKKKCgooooAKKKKACiiigDgNF8P65oXjzULm3hjk0+/fe0jHla7TU7SW+0+S3guWtpHHEqDlat0UAcpo/ggafqaX93qt1eTqcgO2F/KuonGbeQbd2VPHrT6KAOC+G2lappk2rfbbc29pNOXhVuvU13tFFABRRRQAUUUUAFFFIzBVJJwB1oApajdeVH5a/eYfkKzbeA3EwQdO59BSTymadnPc8fStPTIdkHmMPmc8fStvhicf8SfkXEQIgVegGKdRRWJ2BRRRQA1mCqSeAOTWBeXBuZy3RegFaOqT7IBGp5fr9Kx62px6nJWlryiUUUVuc4lJS0lACUhpaQ0wCg0UGgYlKkjxMGjYqR3FNNFIpGtbayNoW5U5/vL/hWpHKkyBo2DD1FcpUlvdS20m6JseoPQ1lKmnsbxqtbnVUlUbTVYrghH+SQ8AdjV+sGmtzoTT2EooopDCiiigBRS0gpaACiiigCSg9DRRQIjooooGFFFFACGkoooAKWiigBr/wCrb6Vg96KKTOWvuhaKKKRzAaWiimMKKKKAAVc03/j4b/doopmlP40alFFFB3BRRRQAUUUUAFFFFABRRRQAUUUUAFFFFABRRRQAUUUUAFFFFABVa/8A+PN6KKa3Jn8LMQfeH1roo+I1x6UUVpUObD9R1FFFZHWFJRRQBian/wAfh+lU6KK6ofCefU+NiUUUVZAlJRRQAlIaKKYBQaKKBjTRRRQMSm0UUiixY/8AIQh/3xXUUUVz1NzppbCUUUVkbBRRRQAopaKKACiiigD/2Q==)"
      ],
      "metadata": {
        "id": "wY_6TB7gIRCr"
      }
    },
    {
      "cell_type": "markdown",
      "metadata": {
        "id": "aHQFZQ1uWd7X"
      },
      "source": [
        "The loss/cost is the error in our predicted value of m and c. Our goal is to minimize this error to obtain the most accurate value of m and c.\n",
        "So we square the error and find the mean. hence the name Mean Squared Error. Now that we have defined the loss function, lets get into the interesting part — minimizing it and finding m and c.\n",
        "\n",
        "3. **Gradient Descent**\n",
        "\n",
        "Now that we have defined the loss function, lets get into the interesting part — minimizing it and finding m and c.\n",
        "\n",
        "Gradient descent is an iterative optimization algorithm to find the minimum of a function. Here that function is our Loss Function.\n",
        "\n",
        "    3.1 Initially let m = 0 and c = 0. Let L be our learning rate. This controls how much the value of m changes with each step. L could be a small value like 0.0001 for good accuracy.\n",
        "\n"
      ]
    },
    {
      "cell_type": "markdown",
      "metadata": {
        "id": "CgEPheLJWd7X"
      },
      "source": [
        "    3.2. Now we will apply partial derivative with respect to m and c and will equate it to zero to find the least value of m and c for which our cost function get the lowest value as possible.**"
      ]
    },
    {
      "cell_type": "markdown",
      "source": [
        "![Adhesive_1.JPG](data:image/jpeg;base64,/9j/4AAQSkZJRgABAQEAeAB4AAD/4REiRXhpZgAATU0AKgAAAAgABAE7AAIAAAAdAAAISodpAAQAAAABAAAIaJydAAEAAAA6AAAQ4OocAAcAAAgMAAAAPgAAAAAc6gAAAAgAAAAAAAAAAAAAAAAAAAAAAAAAAAAAAAAAAAAAAAAAAAAAAAAAAAAAAAAAAAAAAAAAAAAAAAAAAAAAAAAAAAAAAAAAAAAAAAAAAAAAAAAAAAAAAAAAAAAAAAAAAAAAAAAAAAAAAAAAAAAAAAAAAAAAAAAAAAAAAAAAAAAAAAAAAAAAAAAAAAAAAAAAAAAAAAAAAAAAAAAAAAAAAAAAAAAAAAAAAAAAAAAAAAAAAAAAAAAAAAAAAAAAAAAAAAAAAAAAAAAAAAAAAAAAAAAAAAAAAAAAAAAAAAAAAAAAAAAAAAAAAAAAAAAAAAAAAAAAAAAAAAAAAAAAAAAAAAAAAAAAAAAAAAAAAAAAAAAAAAAAAAAAAAAAAAAAAAAAAAAAAAAAAAAAAAAAAAAAAAAAAAAAAAAAAAAAAAAAAAAAAAAAAAAAAAAAAAAAAAAAAAAAAAAAAAAAAAAAAAAAAAAAAAAAAAAAAAAAAAAAAAAAAAAAAAAAAAAAAAAAAAAAAAAAAAAAAAAAAAAAAAAAAAAAAAAAAAAAAAAAAAAAAAAAAAAAAAAAAAAAAAAAAAAAAAAAAAAAAAAAAAAAAAAAAAAAAAAAAAAAAAAAAAAAAAAAAAAAAAAAAAAAAAAAAAAAAAAAAAAAAAAAAAAAAAAAAAAAAAAAAAAAAAAAAAAAAAAAAAAAAAAAAAAAAAAAAAAAAAAAAAAAAAAAAAAAAAAAAAAAAAAAAAAAAAAAAAAAAAAAAAAAAAAAAAAAAAAAAAAAAAAAAAAAAAAAAAAAAAAAAAAAAAAAAAAAAAAAAAAAAAAAAAAAAAAAAAAAAAAAAAAAAAAAAAAAAAAAAAAAAAAAAAAAAAAAAAAAAAAAAAAAAAAAAAAAAAAAAAAAAAAAAAAAAAAAAAAAAAAAAAAAAAAAAAAAAAAAAAAAAAAAAAAAAAAAAAAAAAAAAAAAAAAAAAAAAAAAAAAAAAAAAAAAAAAAAAAAAAAAAAAAAAAAAAAAAAAAAAAAAAAAAAAAAAAAAAAAAAAAAAAAAAAAAAAAAAAAAAAAAAAAAAAAAAAAAAAAAAAAAAAAAAAAAAAAAAAAAAAAAAAAAAAAAAAAAAAAAAAAAAAAAAAAAAAAAAAAAAAAAAAAAAAAAAAAAAAAAAAAAAAAAAAAAAAAAAAAAAAAAAAAAAAAAAAAAAAAAAAAAAAAAAAAAAAAAAAAAAAAAAAAAAAAAAAAAAAAAAAAAAAAAAAAAAAAAAAAAAAAAAAAAAAAAAAAAAAAAAAAAAAAAAAAAAAAAAAAAAAAAAAAAAAAAAAAAAAAAAAAAAAAAAAAAAAAAAAAAAAAAAAAAAAAAAAAAAAAAAAAAAAAAAAAAAAAAAAAAAAAAAAAAAAAAAAAAAAAAAAAAAAAAAAAAAAAAAAAAAAAAAAAAAAAAAAAAAAAAAAAAAAAAAAAAAAAAAAAAAAAAAAAAAAAAAAAAAAAAAAAAAAAAAAAAAAAAAAAAAAAAAAAAAAAAAAAAAAAAAAAAAAAAAAAAAAAAAAAAAAAAAAAAAAAAAAAAAAAAAAAAAAAAAAAAAAAAAAAAAAAAAAAAAAAAAAAAAAAAAAAAAAAAAAAAAAAAAAAAAAAAAAAAAAAAAAAAAAAAAAAAAAAAAAAAAAAAAAAAAAAAAAAAAAAAAAAAAAAAAAAAAAAAAAAAAAAAAAAAAAAAAAAAAAAAAAAAAAAAAAAAAAAAAAAAAAAAAAAAAAAAAAAAAAAAAAAAAAAAAAAAAAAAAAAAAAAAAAAAAAAAAAAAAAAAAAAAAAAAAAAAAAAAAAAAAAAAAAAAAAAAAAAAAAAAAAAAAAAAAAAAAAAAAAAAAAAAAAAAAAAAAAAAAAAAAAAAAAAAAAAAAAAAAAAAAAAAAAAAAAAAAAAAAAAAAAAAAAAAAAAAAAAAAAAAAAAAAAAAAAAAAAAAAAAAAAAAAAAAAAAAAAAAAAAAAAAAAAAAAAAAAAAAAAAAAAAAAAAAAAAAAAAAAAAAAAAAAAAAAAAAAAAAAAAAAAAAAAAAAAAAAAAAAAAAAAAAAAAAAAAAAAAAAAAAAAAAAAAAAAAAAAAAAAAAAAAAAAAAAAAAAAAAAAAAAAAAAAAAAAAAAAAAAAAAAAAAAAAAAAAAAAAAAAAAAAAAAAAAAAAAAAAAAAAAAAAAAAAAAAAAAAAAAAAAAAAAAAAAAAAAAAAAAAAAAAAAAAAAAAAAAAAAAAAAAAAAAAAAAAAAAAAAAAAAAAAAAAAAAAAAAAAAAAAAAAAAAAAAAAAAAAAAAAAAAAAAAAAAAAAAAAAAAAAAAAAAAAAAAAAAAAAAAAAAAAAAAAAAAAAAAAAAAAAAAAAAAAAAAAAAAAAAAAAAAAAAAAAAAAAAAAAAAAAAAAAAAAAAAAAAAAAAAAAAAAAAAAAAAAAAAAAAAAAAAAAAAAAAAAAAAAAAAAAAAAAAAAAAAAAAAAAAAAAAAAAAAAAAAAAAAAAAAAAAAAAAAAAAAAAAAAAAAAAAAAAAAAAAAAAAAAAAAAAAAAAAAAAAAAAAAAAAAAAAAAAAAAAAAAAAAAAAAAAAAAAAAAAAAAAAAAAAAAAAAAAAAAAAAAAAAAAAAAAAAAAAAAAAAAAAAAAAAAAAAAAAAAAAAAAAAAAAAAAAAAAAAAAAAAAAAAAAAAAAAAAAAAAAAAAAAAAAAAAAAAAAAAAAAAAAAAAAAAAAAAAAAAAAAAAAAAAAAAAAAAAAAAAAAAAAAAAAAAAAAAAAAAAAEFudWdhbnRpIFN1cmVzaCAoQ29uc3VsdGFudCkAAAAFkAMAAgAAABQAABC2kAQAAgAAABQAABDKkpEAAgAAAAM5NwAAkpIAAgAAAAM5NwAA6hwABwAACAwAAAiqAAAAABzqAAAACAAAAAAAAAAAAAAAAAAAAAAAAAAAAAAAAAAAAAAAAAAAAAAAAAAAAAAAAAAAAAAAAAAAAAAAAAAAAAAAAAAAAAAAAAAAAAAAAAAAAAAAAAAAAAAAAAAAAAAAAAAAAAAAAAAAAAAAAAAAAAAAAAAAAAAAAAAAAAAAAAAAAAAAAAAAAAAAAAAAAAAAAAAAAAAAAAAAAAAAAAAAAAAAAAAAAAAAAAAAAAAAAAAAAAAAAAAAAAAAAAAAAAAAAAAAAAAAAAAAAAAAAAAAAAAAAAAAAAAAAAAAAAAAAAAAAAAAAAAAAAAAAAAAAAAAAAAAAAAAAAAAAAAAAAAAAAAAAAAAAAAAAAAAAAAAAAAAAAAAAAAAAAAAAAAAAAAAAAAAAAAAAAAAAAAAAAAAAAAAAAAAAAAAAAAAAAAAAAAAAAAAAAAAAAAAAAAAAAAAAAAAAAAAAAAAAAAAAAAAAAAAAAAAAAAAAAAAAAAAAAAAAAAAAAAAAAAAAAAAAAAAAAAAAAAAAAAAAAAAAAAAAAAAAAAAAAAAAAAAAAAAAAAAAAAAAAAAAAAAAAAAAAAAAAAAAAAAAAAAAAAAAAAAAAAAAAAAAAAAAAAAAAAAAAAAAAAAAAAAAAAAAAAAAAAAAAAAAAAAAAAAAAAAAAAAAAAAAAAAAAAAAAAAAAAAAAAAAAAAAAAAAAAAAAAAAAAAAAAAAAAAAAAAAAAAAAAAAAAAAAAAAAAAAAAAAAAAAAAAAAAAAAAAAAAAAAAAAAAAAAAAAAAAAAAAAAAAAAAAAAAAAAAAAAAAAAAAAAAAAAAAAAAAAAAAAAAAAAAAAAAAAAAAAAAAAAAAAAAAAAAAAAAAAAAAAAAAAAAAAAAAAAAAAAAAAAAAAAAAAAAAAAAAAAAAAAAAAAAAAAAAAAAAAAAAAAAAAAAAAAAAAAAAAAAAAAAAAAAAAAAAAAAAAAAAAAAAAAAAAAAAAAAAAAAAAAAAAAAAAAAAAAAAAAAAAAAAAAAAAAAAAAAAAAAAAAAAAAAAAAAAAAAAAAAAAAAAAAAAAAAAAAAAAAAAAAAAAAAAAAAAAAAAAAAAAAAAAAAAAAAAAAAAAAAAAAAAAAAAAAAAAAAAAAAAAAAAAAAAAAAAAAAAAAAAAAAAAAAAAAAAAAAAAAAAAAAAAAAAAAAAAAAAAAAAAAAAAAAAAAAAAAAAAAAAAAAAAAAAAAAAAAAAAAAAAAAAAAAAAAAAAAAAAAAAAAAAAAAAAAAAAAAAAAAAAAAAAAAAAAAAAAAAAAAAAAAAAAAAAAAAAAAAAAAAAAAAAAAAAAAAAAAAAAAAAAAAAAAAAAAAAAAAAAAAAAAAAAAAAAAAAAAAAAAAAAAAAAAAAAAAAAAAAAAAAAAAAAAAAAAAAAAAAAAAAAAAAAAAAAAAAAAAAAAAAAAAAAAAAAAAAAAAAAAAAAAAAAAAAAAAAAAAAAAAAAAAAAAAAAAAAAAAAAAAAAAAAAAAAAAAAAAAAAAAAAAAAAAAAAAAAAAAAAAAAAAAAAAAAAAAAAAAAAAAAAAAAAAAAAAAAAAAAAAAAAAAAAAAAAAAAAAAAAAAAAAAAAAAAAAAAAAAAAAAAAAAAAAAAAAAAAAAAAAAAAAAAAAAAAAAAAAAAAAAAAAAAAAAAAAAAAAAAAAAAAAAAAAAAAAAAAAAAAAAAAAAAAAAAAAAAAAAAAAAAAAAAAAAAAAAAAAAAAAAAAAAAAAAAAAAAAAAAAAAAAAAAAAAAAAAAAAAAAAAAAAAAAAAAAAAAAAAAAAAAAAAAAAAAAAAAAAAAAAAAAAAAAAAAAAAAAAAAAAAAAAAAAAAAAAAAAAAAAAAAAAAAAAAAAAAAAAAAAAAAAAAAAAAAAAAAAAAAAAAAAAAAAAAAAAAAAAAAAAAAAAAAAAAAAAAAAAAAAAAAAAAAAAAAAAAAAAAAAAAAAAAAAAAAAAAAAAAAAAAAAAAAAAAAAAAAAAAAAAAAAAAAAAAAAAAAAAAAAAAAAAAAAAAAAAAAAAAAAAAAAAAAAAAAAAAAAAAAAAAAAAAAAAAAAAAAAAAAAAAAAAAAAAAAAAAAAAAAAAAAAAAAAAAAAAAAAAAAAAAAAAAAAAAAAAAAAAAAAAAAAAAAAAAAAAAAAAAAAAAAAAAAAAAAAAAAAAAAAAAAAAAAAAAAAAAAAAAAAAAAAAAAAAAAAAAAAAAAAAAAAAAAAAAAAAAAAAAAAAAAAAAAAAAAAAAAAAAAAAAAAAAAAAAAAAAAAAAAAAAAAAAAAAAAAAAAAAAAAAAAAAAAAAAAAAAAAAAAAAAAAAAAAAAAAAAAAAAAAAAAAAAAAAAAAAAAAAAAAAAAAAAAAAAAAAAAAAAAAAAAAAAAAAAAAAAAAAAAAAAAAAAAAAAAAAAAAAAAAAAAAAAAAAAAAAAAAAAAAAAAAAAAAAAAAAAAAAAAAAAAAAAAAAAAAAAAAAAAAAAAAAAAAAAAAAAAAAAAAAAAAAAAAAAAAAAAAAAAAAAAAAAAAAAAAAAAAAAAAAAAAAAAAAAAAAAAAAAAAAAAAAAAAAAAAAAAAAAAAAAAAAAAAAAAAAAAAAAAAAAAAAAAAAAAAAAAAAAAAAAAAAAAAAAAAAAAAAAAAAAAAAAAAAAAAAAAAAAAAAAAAAAAAAAAAAAAAAAAAAAAAAAAAAAAAAAAAAAAAAAAAAAAAAAAAAAAAAAAAAAAAAAAAAAAAAAAAAAAAAAAAAAAAAAAAAAAAAAAAAAAAAAAAAAMjAyMjowMToxOCAxMzoxMToxMQAyMDIyOjAxOjE4IDEzOjExOjExAAAAQQBuAHUAZwBhAG4AdABpACAAUwB1AHIAZQBzAGgAIAAoAEMAbwBuAHMAdQBsAHQAYQBuAHQAKQAAAP/hCy9odHRwOi8vbnMuYWRvYmUuY29tL3hhcC8xLjAvADw/eHBhY2tldCBiZWdpbj0n77u/JyBpZD0nVzVNME1wQ2VoaUh6cmVTek5UY3prYzlkJz8+DQo8eDp4bXBtZXRhIHhtbG5zOng9ImFkb2JlOm5zOm1ldGEvIj48cmRmOlJERiB4bWxuczpyZGY9Imh0dHA6Ly93d3cudzMub3JnLzE5OTkvMDIvMjItcmRmLXN5bnRheC1ucyMiPjxyZGY6RGVzY3JpcHRpb24gcmRmOmFib3V0PSJ1dWlkOmZhZjViZGQ1LWJhM2QtMTFkYS1hZDMxLWQzM2Q3NTE4MmYxYiIgeG1sbnM6ZGM9Imh0dHA6Ly9wdXJsLm9yZy9kYy9lbGVtZW50cy8xLjEvIi8+PHJkZjpEZXNjcmlwdGlvbiByZGY6YWJvdXQ9InV1aWQ6ZmFmNWJkZDUtYmEzZC0xMWRhLWFkMzEtZDMzZDc1MTgyZjFiIiB4bWxuczp4bXA9Imh0dHA6Ly9ucy5hZG9iZS5jb20veGFwLzEuMC8iPjx4bXA6Q3JlYXRlRGF0ZT4yMDIyLTAxLTE4VDEzOjExOjExLjk2OTwveG1wOkNyZWF0ZURhdGU+PC9yZGY6RGVzY3JpcHRpb24+PHJkZjpEZXNjcmlwdGlvbiByZGY6YWJvdXQ9InV1aWQ6ZmFmNWJkZDUtYmEzZC0xMWRhLWFkMzEtZDMzZDc1MTgyZjFiIiB4bWxuczpkYz0iaHR0cDovL3B1cmwub3JnL2RjL2VsZW1lbnRzLzEuMS8iPjxkYzpjcmVhdG9yPjxyZGY6U2VxIHhtbG5zOnJkZj0iaHR0cDovL3d3dy53My5vcmcvMTk5OS8wMi8yMi1yZGYtc3ludGF4LW5zIyI+PHJkZjpsaT5BbnVnYW50aSBTdXJlc2ggKENvbnN1bHRhbnQpPC9yZGY6bGk+PC9yZGY6U2VxPg0KCQkJPC9kYzpjcmVhdG9yPjwvcmRmOkRlc2NyaXB0aW9uPjwvcmRmOlJERj48L3g6eG1wbWV0YT4NCiAgICAgICAgICAgICAgICAgICAgICAgICAgICAgICAgICAgICAgICAgICAgICAgICAgICAgICAgICAgICAgICAgICAgICAgICAgICAgICAgICAgICAgICAgICAgICAgICAgICAKICAgICAgICAgICAgICAgICAgICAgICAgICAgICAgICAgICAgICAgICAgICAgICAgICAgICAgICAgICAgICAgICAgICAgICAgICAgICAgICAgICAgICAgICAgICAgICAgICAgIAogICAgICAgICAgICAgICAgICAgICAgICAgICAgICAgICAgICAgICAgICAgICAgICAgICAgICAgICAgICAgICAgICAgICAgICAgICAgICAgICAgICAgICAgICAgICAgICAgICAgCiAgICAgICAgICAgICAgICAgICAgICAgICAgICAgICAgICAgICAgICAgICAgICAgICAgICAgICAgICAgICAgICAgICAgICAgICAgICAgICAgICAgICAgICAgICAgICAgICAgICAKICAgICAgICAgICAgICAgICAgICAgICAgICAgICAgICAgICAgICAgICAgICAgICAgICAgICAgICAgICAgICAgICAgICAgICAgICAgICAgICAgICAgICAgICAgICAgICAgICAgIAogICAgICAgICAgICAgICAgICAgICAgICAgICAgICAgICAgICAgICAgICAgICAgICAgICAgICAgICAgICAgICAgICAgICAgICAgICAgICAgICAgICAgICAgICAgICAgICAgICAgCiAgICAgICAgICAgICAgICAgICAgICAgICAgICAgICAgICAgICAgICAgICAgICAgICAgICAgICAgICAgICAgICAgICAgICAgICAgICAgICAgICAgICAgICAgICAgICAgICAgICAKICAgICAgICAgICAgICAgICAgICAgICAgICAgICAgICAgICAgICAgICAgICAgICAgICAgICAgICAgICAgICAgICAgICAgICAgICAgICAgICAgICAgICAgICAgICAgICAgICAgIAogICAgICAgICAgICAgICAgICAgICAgICAgICAgICAgICAgICAgICAgICAgICAgICAgICAgICAgICAgICAgICAgICAgICAgICAgICAgICAgICAgICAgICAgICAgICAgICAgICAgCiAgICAgICAgICAgICAgICAgICAgICAgICAgICAgICAgICAgICAgICAgICAgICAgICAgICAgICAgICAgICAgICAgICAgICAgICAgICAgICAgICAgICAgICAgICAgICAgICAgICAKICAgICAgICAgICAgICAgICAgICAgICAgICAgICAgICAgICAgICAgICAgICAgICAgICAgICAgICAgICAgICAgICAgICAgICAgICAgICAgICAgICAgICAgICAgICAgICAgICAgIAogICAgICAgICAgICAgICAgICAgICAgICAgICAgICAgICAgICAgICAgICAgICAgICAgICAgICAgICAgICAgICAgICAgICAgICAgICAgICAgICAgICAgICAgICAgICAgICAgICAgCiAgICAgICAgICAgICAgICAgICAgICAgICAgICAgICAgICAgICAgICAgICAgICAgICAgICAgICAgICAgICAgICAgICAgICAgICAgICAgICAgICAgICAgICAgICAgICAgICAgICAKICAgICAgICAgICAgICAgICAgICAgICAgICAgICAgICAgICAgICAgICAgICAgICAgICAgICAgICAgICAgICAgICAgICAgICAgICAgICAgICAgICAgICAgICAgICAgICAgICAgIAogICAgICAgICAgICAgICAgICAgICAgICAgICAgICAgICAgICAgICAgICAgICAgICAgICAgICAgICAgICAgICAgICAgICAgICAgICAgICAgICAgICAgICAgICAgICAgICAgICAgCiAgICAgICAgICAgICAgICAgICAgICAgICAgICAgICAgICAgICAgICAgICAgICAgICAgICAgICAgICAgICAgICAgICAgICAgICAgICAgICAgICAgICAgICAgICAgICAgICAgICAKICAgICAgICAgICAgICAgICAgICAgICAgICAgICAgICAgICAgICAgICAgICAgICAgICAgICAgICAgICAgICAgICAgICAgICAgICAgICAgICAgICAgICAgICAgICAgICAgICAgIAogICAgICAgICAgICAgICAgICAgICAgICAgICAgICAgICAgICAgICAgICAgICAgICAgICAgICAgICAgICAgICAgICAgICAgICAgICAgICAgICAgICAgICAgICAgICAgICAgICAgCiAgICAgICAgICAgICAgICAgICAgICAgICAgICAgICAgICAgICAgICAgICAgICAgICAgICAgICAgICAgICAgICAgICAgICAgICAgICAgICAgICAgICAgICAgICAgICAgICAgICAKICAgICAgICAgICAgICAgICAgICAgICAgICAgICAgICAgICAgICAgICAgICAgICAgICAgICAgICAgICAgICAgICAgICAgICAgICAgICAgICAgICAgICAgICAgICAgICAgICAgIAogICAgICAgICAgICAgICAgICAgICAgICAgICAgPD94cGFja2V0IGVuZD0ndyc/Pv/bAEMABwUFBgUEBwYFBggHBwgKEQsKCQkKFQ8QDBEYFRoZGBUYFxseJyEbHSUdFxgiLiIlKCkrLCsaIC8zLyoyJyorKv/bAEMBBwgICgkKFAsLFCocGBwqKioqKioqKioqKioqKioqKioqKioqKioqKioqKioqKioqKioqKioqKioqKioqKioqKv/AABEIASQCKwMBIgACEQEDEQH/xAAfAAABBQEBAQEBAQAAAAAAAAAAAQIDBAUGBwgJCgv/xAC1EAACAQMDAgQDBQUEBAAAAX0BAgMABBEFEiExQQYTUWEHInEUMoGRoQgjQrHBFVLR8CQzYnKCCQoWFxgZGiUmJygpKjQ1Njc4OTpDREVGR0hJSlNUVVZXWFlaY2RlZmdoaWpzdHV2d3h5eoOEhYaHiImKkpOUlZaXmJmaoqOkpaanqKmqsrO0tba3uLm6wsPExcbHyMnK0tPU1dbX2Nna4eLj5OXm5+jp6vHy8/T19vf4+fr/xAAfAQADAQEBAQEBAQEBAAAAAAAAAQIDBAUGBwgJCgv/xAC1EQACAQIEBAMEBwUEBAABAncAAQIDEQQFITEGEkFRB2FxEyIygQgUQpGhscEJIzNS8BVictEKFiQ04SXxFxgZGiYnKCkqNTY3ODk6Q0RFRkdISUpTVFVWV1hZWmNkZWZnaGlqc3R1dnd4eXqCg4SFhoeIiYqSk5SVlpeYmZqio6Slpqeoqaqys7S1tre4ubrCw8TFxsfIycrS09TV1tfY2dri4+Tl5ufo6ery8/T19vf4+fr/2gAMAwEAAhEDEQA/APpGgnFFNfpQAbxRvFNooGO3ijeKbRQA7eKN4ptFADt4o3im0UAO3ijeKbRQA7eKN4ptFADt4o3im0UAO3ijeKbRQA7eKN4ptFADt4o3iopJUhTfK6ovdmOBTgQwBU5B6EUASbxSbxXEeHfiCviDx9q/h6CzKx6ao3T56sSeP0rtaAHbxRvFNooAdvFG8U2igB28UbxTaKAHbxRvFNooAdvFG8U2igB28UbxTaKAHbxRvFNooAdvFG8U2igB28UbxTaKAHbxRvFNooAdvFG8U2igB28UbxTaKAHbxRvFNooAdvFG8U2igB28UbxTaKAHbxRvFNooAdvFG8U2igB28UbxTaKAHbxRvFNooAdvFG8U2igB28UbxTaKAHbxRvFNooAfuFLUY6ipKBBTX6U6mv0oAbRRRQMKKKKACiiigAooooAKKKKACiiigAooooAKKKKACiiigDhvjHbXVz8LdVNjI8UsSrKGQ4OFYE/yrkPgn8Rb7UoI/D/ic7b1Y91rK3/LVMV6l4pgW58IavC/R7KYf+OGvB7Dw/eap8ItO8RaICur6LLJ5bJ1dA54pAdL8JyT8YfHG7++n8zXtNeD/s9XVzrPiLxPrd1GUe4ZA2R/ECc17xTAKKKKACiiigAooooAKKKKACiiigAooooAKKKKACiiigAooooAKKKKACiiigAooooAKKKKACiiigAooooAKKKKACiiigAooooAKKKKACiiigAooooAKKKKAAdRUlRjqKkoAKa/SnU1+lAhtFFFAwopCQBknArNuPEejWk3lXOp2scn91pBmgDToqKC5guoxJbTJKh6FGyK4/xr4+k8O3kOlaPpsupatcLujhUfKo9SaAO1orwbw/d+OvHvjK+sNT1qXSIrHDSRWpK49sivcrSFraziheRpTGgUyOclsdzQBPRRRQAUUUUAFFFFABRRRQAUUUUAMliSeF4pV3JIpVlPcEYIqppujWGkaf8AYtPtkhtsk+WOnPWr1NeRY42eRgqqMkntQBQ0rRNN0NJU0u1jtlmfe+wY3NWjXkV34l1P4hfEODRvDc8lvo2lyrLeXcZI81gfug/h+teuKNqgdcDGTQAtFFFABRRRQAUUUUAFFFFABRRRQAUUUUAFFFFABRRRQAUUUUAFFFFABRRRQAUUUUAFFFFABRRRQAUVW1C9TTtNub2YEx28TSsB1IAzVPw5r9p4m0OHVLDPkzZwG6jBxQBq0UUUAFFFFABRRRQAUUUUAFFFFABRRRQAUUUUAA6ipKjHUVJQAU1+lOpr9KBDaKKKBnB+OtD8Z+IrxbHQNRg03TGXEs+f3h9QKwbT9n3w6LZjq9/fX10w+adpiMH1r1G/vYdN0+e8uWCxQIXcn0FeQWj+Kvi5dy3EN7LonhyOQpH5XDz475pAY+p6Zq/wX1C31fSNWl1TQHkCXEEkm8xivcdOkstUt7bVbeKNjNEGSXaN209s1438Q/A2neDPhvrEi6hdXP2lQqx3Epb5vUZr0r4bRyxfDjRUuAQ4txkHrQBx3gWX7H8bPFNlNw8wEig9xmvWq8g8ZRN4e+OGga3GdkV8v2eX3Oe9evnigAooopgFFFFABRRWV4l8QWnhfQbjVdQOIoVzgdWPoKANWivFx4q+JniSxl1vQ7ODT9MjUyRxzqN0ijnvXffDnxc3jXwdbatLF5M7fLKg7MOtAHVUUV578VfHmq+DbCKPQ9Jlvrm4B2uqkrHQB1+ueItJ8N2DXmtX0VrEoz87ct9B1NeR6n4v8RfFe6fRfBVtPYaOx2z6lMuzcO+3PNeYabrd9qniFtU+Iuj6pqiq26K3CsEX04Feo2vx30bSLIQweF72zhjH3FhKgCkB6f4P8J2Hg7QItN09ASPmllI+aRu5Jrerm/BHjXT/AB1oP9qaWrpGHKMrjBBGP8a6SmAUhOBk8D3pa89+Lfim40jRINJ0p8alqsghi29VB6n8qAL+n+PBrPxDn0DR4Bc2dnDuurxT8qPkfKD3612dcx4D8HWvg3w5FaQruuZAJLmY/ekc8nJ+tdPQAUUUUAFFFFABRRRQAUUUUAFFFJnmgBaKKKACiiigAooooAKKKKACiiigAooooAKKZ5sYlERdfMIyEzyafQBDdWyXlnNbS/cmjaNvoRivLvgzfnTZNY8I3mUudOuWZFb+JDzkV6vXkfjCMeGfjToeuR/u4dRXyJ8cAnPegD1yij6UUAFc/rvjTSPD+p2enXsrPd3jhYoYlLN9TjoK0tZ1KPR9Eu9RnICW0Rc5/SvNfhVo03iG9ufHPiBfNurxz9kVxkRR54wPpQB6uOQDS0UUAFFFFABRRRQAUUU12KxswG4gEgetADqK43wV8QYPFmoalp01s1lf2EzRvA/UgHhq7KgAHUVJUY6ipKACmv0p1NfpQIbRRRQM474qwXVx8NdWSxVmk8okhOpHesPwL8QvB+mfDrTUn1m0tjbQ7ZYncB1YE54616W6LJGySKGVhgg9xXHz/CnwdcX7XcmjRGRm3EDoT9KAPO7u7vPjb4ut7eyhlg8LWEgaSZ1I88g9q9nnvNO0HT4vtlxDZW0YEaNK4VfYZNTWOnWmmWq29hbxwRKOERcCqniDw/p/ibSJNN1aHzbd+cZwQfUUAeZfGDULS/1fwtbWFxHcXLXgdViYMdvrxXsJ61wfhj4ReH/DGrjUoTNdXCcRNO27yx7V3lABRRRQAVyPjG58bW95B/wh9lZXUBT979obBDZ+o7YrrqxvFFjq9/ozReH74WN4GBWRhkfSgDjLOx+LF7eRyX19pVjCGBZEjLnHp96ux8R+GbTxTpcNjqrOY45FkYIcbiPX2rmNM8HeL5byKfX/ABVI6IwYwwKAG9q9BHAA9qQHNeM9TtPC/gHULhsRxQ2xjjUcc4wAKw/ghpM+lfC7ThdqVluB5xU9Ru5rm/i3qEnijxbo3gTTyW86YTXe3+FR6/nXsFrbR2lrHbwLtiiUIoHYCgCamvGkn+sRW/3gDTqKYEJtbc9YIv8AvgV5J8adbh+yw+EtBtopdX1NgjCOMExqT3x0re+I/wATIvCyLpejR/btcuvkggTnYTxk1R+Gnw6u9OvpPFHi2U3Wt3XzYbkQj0FIDrvAvha38H+EbTSrZQGVd0rD+Jz1NdHSUtMArx+GIeMvj7NK/wA9poMZC+m/pXq+o3Is9Mubg8eVEz/kK8y+BEDXOh6nrc3M1/dMxY9SM0gPVaWmu2yNmP8ACCa5bwT4y/4S7+0yLcQiyumgGD97B60wOrorI8T+IrTwp4euNX1DcYLcZYL1NP8ADuu23iXQbbVbEMIbhcqG6igDUoqL7RCZvKEsfmf3Nwz+VS0AFFFFABRRRQBgeMvFVp4P8Nz6peZYqMRRjq7dgK5r4c6b4kv7qTxR4nv5FN4v+j6evCRJ2J96x/HJPi74taN4XH/HrZAXNwOzdx/SvWAFt7fAGEjXoOwFICSiub8L+NtN8UaXPfQN9njhmMLeawHIrau9Ss7GyN3d3MUVuBnzGYYpgWqK5rTviF4W1a9+yWGs20s2cBA3WuieWOMZkdVHqxxQA+imq6uuUYMPUHNRpd28tw8EcyNNHy6BuVoAmorhfiLrviXT3sbHwnBGbi6JLzyj5UAqf4ZeMbjxj4aknv4ljvLWdrefb91mGOR+dAHZ0UVl/wDCR6Z/wkf9h/aF/tAR+YYu4X1oA1KKKrX2o2mm27T39xHBEvJaRsUAeWfEHUrnwr8WvD2v3LuNLm/0WXB+VWYEAn869aR1kjV0O5WGQR3Fch4h07Rvif4NurSxuUnU/wCqmT+CQcj9awPhL4tvJvtHhLxFldW0o+WC3WRB0P5YpAeoV5v8bdMa58EpqUI/faZOs6kemRn+VekVleJrBNT8L6haSjcskDDH4UwE8L6tHrnhfT9RiOVngVvxxWtXnHwOvWuPh4LV/vWNw8P4DpXo9AHnPxv1M2nw/wDsMRIm1O5jtlx6E5P/AKDXY+GdLTRfDGn6fH0ggVT7nFecfF8NqPjLwZpAPyyX3msPYKf8a9bUbVA9BikAtFFFMAooooAKKKKACiiigDxv4kW8ngj4g6X4009NttcOtvfKvAOeMn9K9etLiO7tIriFg0cqB1I7g1jeNtAi8S+D7/TpRlniJQ46MOR/KuY+C/iCTVPCUmmXhzdaVKbd8+g6UgPRh1FSVGPvD61JTAKa/SnU1+lAhtFIa8s1P4qa8viG90nR/ClzcvC2yKVhhWPqfagZ6pUcs8UC7p5EjUd2bFeUiz+K3iZQ1xd2+gwn+FMlsfhVlPgwL9Q/iPxDf38p+8A+FpAdjqXjvwxpCk3+tWkZH8IkBNc5N8b/AAZHxBc3N03YQQ7s/rVzTvhF4P07BGmLO/8AemO410tr4f0iyUC1062j29MRigDz6T40S3Mm3RfB+rXg7My7Af0NQyeKvinrGDpHha106JujXU5LD8Nor1ZIo0+5Gq/RQKfQBkeGY9bj0OIeJpYJb/q5gGFFa9FFMAooooAKKKKAPn+98AfEyx+IWp69ob2TSXRKRzzNkohPp+VdP4W0b4sweILeTxBq1jJp6n96iKSSPavWaKVgCuK+JfjuHwXoH7oebqV3+7tYR1LHvXYzzR21vJNMwWONSzMewFeI+FIj8UfixeeIrxC+k6U5itFboWHGf0pgdB8LPh5Jpyt4o8UH7Vrt8TJl+fJU9h74r1GgDAAHQUUALRRRQBh+M5DF4J1dx1Fq9ct8DIgnwr09h1fLH866/wAUW5u/CmpwKMl7ZwB+FcT8BrkTfDSCHPzW8rRsPTml1A9LZdylT0IxXjHgzULfwF8TvEOja3cpa2t45urd5DhTnmvaK5zxP4D0Dxe8T63ZLM8X3X6HHpTA8l+MPxT0vxB4VvdB8Nwzalkj7RdRj93EAfXvXo/w8ePTvhLp0tnG9z5dtvEa/eY46CpNa8F6TY/D/VdN0awit1e2cgKvJIGf6VmfA+/F38N4IGP7y1leJh6YNIDzHR/D3i/V/GVvfWun6nZXC3hluLq7lIQx5Hyhcex719IoCEUNyccmuL8MeMrnW/H3iDRJY1WHTXVY2HU59a7agArgfGV/8RbfWAnhDTbC4sdvLzyENn6YrvqKYHkH9ofGo9NM0kf9tD/hXpXhx9Xk0K3bxHHDFqBH71YTlRWrRQB5H4bPn/tFa+8hyYrdVTPptFetsodSrchhg15Drbnwj8ebTVrobLLVohD5nYN05/KvXlYMAynIPINID5Y0PwZe658VtW8JTahcW2mW8jTFImxkmjw7oGseKPiTJ4D13VLiTR9KZ5NhJy6ggAGvetL8BW2meP7/AMTx3DNLeKFMXZas2PgbS9P8bXfieAML26i8tx2xQB558RPhN4c0bwXPqnhyy+xX+n4ljljbk49am0jwvdfFPw5pGtaj4gu7a1+yiNra34y4ABYnPse1emeJdJbW/Dd9psbBHuIiisexrM+Hvhifwf4JtdHuZFllh3FmXpyaAPGdK+I1z8PG8Q+G3uptTuYZzFpyyHLZJwM1pfs/S6lfeMfEt5r7u2oEqJAx+7kA4/I0vgz4fT6t8atb13XbMrb21wzQB14Zs8EU+w1qD4XfGLxAdejlSw1ULLDMiEjOBx+lAHo/xF8Pwavo/wBqv9Zu9NsrNS8/2bq69x1q94CsNDsPB9p/wjCt9gmBkV3+85zgk+/FUfF+pW+t/CnVL203eTNZuy7hg4xUXwecv8KdGJ7Iw/8AHjQBoeKPHuleEriOHUoL2VpBkfZ4d4/mK8bi+I9lH8cLvWbHS9QvI7m0WNIfJ2yAj254r6HeGKX/AFkaOf8AaUGvLrnSZx+0Tb3UdoRaiwwZAny5oA9D0PVn1jSUvZbGexZhnyZxhhXj2l6Q/wAW/H+tyeIbuYaVpVw0EVlG2A2CRk/lXueK8S1NtS+FHxGvtYgsZbzQtXYyTeUMmNzyf1JoA9d0jRNP0DT1stItUtoF6Ig/WvLPiNH/AMI18WPDfiG1HlC7cW9ww439Rz+GK67w78UdC8TahFZWCXQnk7PEQB9TXK/HY+Y3hiBOZG1BSAOuM0AevK25Qw6EA1Fdrusp19Y2H6U63GLWIHqEX+VMvXEdhcO3RYmJ/KmB5j8Cjt0nXoR0TUW/ma9Vryr4Ejfo+uXA+7LqLEfrXqtAHknjL/Sfj/4TgbpFDJIPrXrdeR+Jzt/aN8NFuAbSQA/lXrdIBaKa+7y22Y3YOM+tecXtj8Urq6lS31DT7aAsdjhTkDtTA9Jrznxhqnjq78WJovg+CG1gWPfJe3CkqfYVVsvBXxBfUYJ9T8YZhjcM0cYPzDPIr01V2qu45YDBPrSA858A+NNam8Rap4Y8Z+QNR09RKJ4eFkQ55/SsOX4vXev/ABbsvDPhUxGzjkIuZnGd4HXFcD8RdV1NfjlqmmaErfatSgjtSy9VHOf51t6L4Tt/Anxr8OWkYwZrY+a5/ic9aAPb/FurT6F4T1DU7OISzW8RZFPQ15f8K/iL4p8UeK/supLHdWDxl2lijKiE9hnvXr2qm2XSbpr5BJbrGTIpHUCsfwRqmj614ejvdBtUtrcsUChQOhoA6LGeD3rx/wABhtF+OPiXSUwIbpBOB7/5Few15FaYX9pyUJxmwO73+VqAPXR1FSVGPvCpKYBTX6U6mv0oENpAADkAAnqRS01m2IzHooJoGOoryfUvEHxE8S6lOnhKwSwsYHKCa5ABkIOMjNZlz43+I3gWRJ/F+lpqGmk4ea2AJjHrxSA9rorK8O+IbDxNo0OpaXMJIZRng8qfQ1z/AIn+KXh7w3ayMZ/tdysvki2h+Zy/pj8aYHa0Vw3hH4p6N4paeF1k0+7gXe9vcja2315rjtT+Ot+19dzeHtAlvtIsZNk94Bx16igD2qisrw3r1r4l8P2uq2J/dXCBgPT2rVoAKKKKACiiigAooooA474rLq0nw21WLQYWmu5IwoRD8xUkZx+FeS+CvHniTwj4Zt9H0rwBdSGMfvJWON7dya+gjf2Yuhatcw+eekRcbj+FThEHRVH4UgPFn+IfxW1DCad4Lity/AeWT7tIr/HG8GD/AGbbe5A/+Jr2yigDynQ/DHxRm1a2n8QeJrZLRHDSxQJy4z06CvVQMKATn3paKYDJYxLC8bdHUqfxryT4TTf8I74w8Q+Erk7XSczQZ/iBPavXq8k+K+iXeia1Y+OtEDedZMFu0QffT1NAHrdFZnh/XLTxHodtqenyLJFOgbg/dOOQfxqbVrm6s9JuJ7C2+03EaFkizjefSgCe7CtZTh/umJs/TFeTfAZiI/Eca/6pL9tnp1rO1P4l+OtXtZtGsfCFxa3txmIysPlQHjOa9A+Gng9vB3hNLW5Ia8mYy3DDux7UgOU8KQT2X7QnidEidLaeGOTcV4Jye9et0wQxCUyiNRIwwXxyfxp9MAooooAKKKKAOd8aeDrHxpobWN6WjkX5oZk4aNuxFcx4Q1bxX4d1CDw54r097y3zsttTgOQR2D5xXpNIQD1GaAFooooAKKKKAEqpfaTp+p7P7Rsbe62HK+dGG2/TNXKKAMzW9ITVPDd5pcIWITwNEuBgLkY6Vn+AvDk/hPwZZ6PdTLNLb7suvQ5JNdHRQAUmBnOBn1paKACmSRpKhSVFdT1VhkGn0UAV4LC0tmLW1rBCx6mOMKf0rzXWNKuvF3xntBLA6aboaB/MYcSORnA/OvUqaFUMSFAJ6nHWgBRxXMfEbWRoXgLU7zdh/JKJ7kjFdRXj/wAUbxvFXjTR/BVi24eYJ7vB4C56H8qAOm+D2lNpXw1sPMTbLc5nkz6tXdVFbW8dpaxW8ICxxIEUDsBUtAHkXxeWTQ/GHhTxWi5jtrr7POewVgf8K9ZgmS4gSaJgySKGUg8EGsjxd4dt/FXhe80q6UETJlD/AHWHINcf8INZ1AWN14Z11JFvdJYxq7jh0BwDmkB6XSYpaKYBSUtFAHF23w202H4kXXjCWRprqZAqRsvEfqc1k/FfwdqWr/2fr/htQ2raXJvRM48xe4r0qigDldC1XVfEfhO6bXtHbTLgxMjRM27dx1Fcx8CZSPC2o2Z4+y3zqB6cmvUCAykHkEYNZ2j+H9O0EXA0y3WEXMhlkx3Y96QGl0rx3wc51r9oDXtRjG6Gyg8gP2zgj+tej+MdaTw94Tv9Qflo4iEA6ljwP51y3wd8NTaN4Xl1G/BF7qspuJN3UA9BQB6IOoqSox1FSUwCmv0p1NfpQIbRRRQMThVPRQPwArz7xB8TNHOrP4esdNm16R/3dwkC7kQHg5J4pvxf8T3Wi6DbabpjbLzVZhbpJ/cBOCateHNM8N/DfwwrXl3bxTMnmXNxK43SNjJpAcV8KWm8OfFDXPDK7ks5QLiGJj/q8jOK5/VPDcNn+1NZxypm2uh9qVD93fnriul+GHm+K/ilrni+ONlsD+5t3YY38dRXc+IPAiaz470bxJHP5MmnBg645kBxgfzoA81/aK8OfYNPg8T6Pm1ulJhmeEbdy++K6n4aaLbS/ASG2SFR9stHaTjl2I6mu08Y+GLfxh4YutHum2LOOHx90+tHhbw6vhjwbaaJHKZhbQ+XvI+8cUAcJ+z5el/Bd1p0h+exumTHoMmvWa8t+Dnh3U9Cu/EJ1K1kt457tmi3rjcM9RXqVMAooooAKKKKACsnxNqj6N4cvL6KCWd44ztSIZbPrWtSFQwwwBB6g0AfKNjHda3q+mXOlrrUviWa/wDMmmlLLFFHk8Y4HSvqyIMIUEnLhRuPvXm3h/WriP44azoc3li1FsJIF2AEH5en5mu48QeIdO8M6U+oatN5UC8ZxyT6CkBqU2SRIoy8rKiLyWY4ArkfCXxI0nxlqMlppUN0DGm4ySRFVI+tS/E0Tf8ACt9Y+zFhILckFetMDqI5EmjDxOro3RlOQafXGfCW7+1/C/SJN5dhGVYk5OQa7OgAqG6tYb20ktrqNZIZVKujDgg1NRQB4fImo/BLxQ8lvHNeeEtQkyyjLG1Yn9BXsmmanaaxp8V7p8yzQSqGVlNSX1ha6lZyWt/Ak8EgwyOMg1HpelWWjWK2emQLBAvRF6CgC3jv39cUUtFABRUNrd297EZbSZJkBK7kORn0qagAooooAKKKKACiiigAooooAKKKKACiiigAooooAKKKKACiiigAooooA57xn4wsPBvh641G+kXzEQ+TDn5pH7ADr1rj/hJ4Wut134w8QBm1TVW3qH6xJ2A9K6vW/AWi+IdettV1WOSeS2xsiZ/3eR3xXSIixoEjUKqjAA7UAOooooAKjW3hSZpkhjWVvvOFAY/U1JRQAUUUUAFFFFABRRRQAUUUUAVdQ02z1W2+z6hAs8W4NsbpkVYRFjRUQBVUYAHYU6igAHUVJUY6ipKACmv0p1NfpQIbRRRQM57xd4L0nxpp6WusRv8Aum3RyRttZD6g1yln8CfC0UyyahLf6jtOQtzOSP0xXplFAFXT9OtNKs0tNOt47eCMYVEGAKtUUUAJS0UUAFFFFABRRRQAUUUUAFFFFAHmOueHdUHx20XW9PtmNoYWS5lHQcHr+ldh4w0K78QaG1lYXSWs24MJHjDgfga3qKAPM9H+H3i2y1C3kufFzC2jcM8UFuibwD0Jx0rv9WtFvNFu7WQb1khZSD34q7SUAeYfAeWaPwffadcIy/Y7+RV3DHBAr1CoYLWC1DC2hSIO25ti4yfWpqACiiigAooooAKKKKAIre1gtI/LtoliTJO1RxmpaKKACiiigAooooAKKKKACiiigAooooAKKKKACiiigAooooAKKKKACiiigAooooAKKKKACiiigAooooAKKKKACiiigAooooAKKKKAAdRUlRjqKkoAKa/SnU1+lAhtFFFAwooooAKKKKACiiigAooooAKKKKACiiigAooooAKKKKACiiigAoprukUbPIwVFGWYnAAqO2uoL2ATWsqyxN0dDkGgCaism68TaTZa/baLcXaJqFypeKHuwGMn9a1qACiiigAooooAKKKKACiiigAooooAKKKKACiiigAooooAKKKKACiiigAooooAKKKKACiiigAooooAKKKKACiiigAooooAKKKKACiiigAooooAKKKKAAdRUlRjqKkoAKa/SnU1+lAhtFFFAwooooAKKKKACiiigAooooAKKKKACiiigAooooAKKKKACiiigDz343axcaN8L71rMkS3LCD5euGzkVY+FHiHSNX8F2ltpgEE1qgWW2bhlPrisz49Hb8PIX7JfRE/may/EnhG+0UWfjbwSuy6jhVrq0TgTLjJ49aQFbVv9I/am01F58qwYn25Wvaa+ePCXiq28Y/tD2WrWqtHu01lljYYMbjbkV9D0ALRRRTAKKKKACiiigAooooAKKKKACiiigAooooAKKKKACiiigAooooAKKKKACiiigAooooAKKKKACiiigAooooAKKKKACiiigAooooAKKKKACiiigAHUVJUY6ipKACmv0p1NfpQIbRRRQMKa8iRLukdUUdSxxTq8/8AGXw/1fxjraNN4hlsdJRQPs1uMMx75NAHax6pYTSeXFe27v8A3VkBNWJJUhiaSV1RFGWZjgAV5JqPwEsYrFpfD2saha6ig3RyvLuBP5Vb+GviCbxdoGq+EvFe86np58i5OdrSIeAf0NIDpNT+KPhPSsrLqkcrj+CEFjWZZ/Fyw1XUIbbRtJv7sSOFMojwq+9b1j4C8N6Xa+XZaTbgqpAdxub681zPwgvpZ4/EOn3Oxm0/UpI0YIAdpJ4/SgD0kHKg4xkdKWiimAUUUUAFFFFABRRRQAUUUUAFFFFAHP8AjTwnb+M/DjaTdytEjSLIHTqCK2LS0S10+G0B3pHGE57gDFWKKAPPdG+E2n6H8TrnxXZS7FnjI+zgYCsTkmvQqxfEHivSvDLWiapPtkvJRFDGo3Mx+g7Vsg5UEdCM0ALRRRQAUUUUAFFcfqfi2YfEaw8NaYqyN5RmvGIzsU9P5GuwoAKKKKACiiigAooooAKKKKACiiigAooooAKKKKACiiigAooooAKKKKACivN9U8Qah4f+M9jb6lcldH1SDyoAfuiXn9ckV6RQAUUUUAFFFFABRRRQAUUUUAFFFFABRRRQAUUUUAA6ipKjHUVJQAU1+lOpr9KBDaKKKBhWP4r8Qw+FvC97rFwm9bZMhR/ETwB+dbFZ2vaJa+ItDutK1AEwXKbWx1HoaAPHmh+I3ijQ5PEMuurpNk6GWK3iAzt7dax/gANX1f4g67reoOzqIliklxxI2WrrE+CmpmMWEvjK9OlLwtsqYO30zur0bw14Y0zwppKafpEPlxKcsT95z6k0gNdvun6V5Z8Hv+Rg8bf9hVv5tVnxLe/FOx1SaTRLDTr6wz+7TeVfHvxVj4S+GNZ0Ox1W/wDEkccF9qt0bh4UbITr3/GgD0OiiimAUUUUAFFFFABUM15bW7BZ7iKMnoHcCsLx54kbwp4Lv9WjTfLCn7tT/ePArzrw98KrjxbocWueMtbvJdQvYxKqQPtSLIyAKAPZ1ZXUMpBB6EHrS15d8H9TvoLvW/Cuq3L3Uuky/upXPJjJ4/mK9RoAKKKKACuc8a+MbHwZob314Q8rfLDCDzI3pWhr+v6f4Z0WfVNWmENtAuST1PsPevKfCOi33xN8Vnxf4ljePSoGxp9o44b/AGjQBpeBvCOo+I9aXxr423Ncv81lZn7sCnnOPXpXq9IAAAAAAOwpaACiiigAqK5uI7W1luJm2xxKWYnsBUtcD8Ytcl0nwDc29mf9M1D/AEaBR1JbigDM+Edu2tX2teMbrLSajctHAT2jXpj8zXqNYXgvRU8PeDtN0xVCtDCN4/2jyf51u0AFFFFABRRRQAUUVn67q8Gg6De6pdnEVpC0re+BnFAEg1SybVDpwuEN2F3mIHkCrleZ/CXSJryC58X6ud9/qjloyf4I+wr0ygAooooAKKKKACiiigAooooAKKKKAE6daxdK8X6LreqXOn6ZerPc2pxKi9jW0RkYPQ8GvEoIz8I/idcTXkIbQtbkylyBzC57E/WgDtPi54eOueBbqe1XF9p4+1WzjqrJ839K2PAevDxH4L0/UN252jCyf7w4NbhEN9Zlch4Z0xkcgqRXl/wauv7Nute8LT5EthdsyA91NID1aiiimBU1PUbbSNMuL++kEcFuhd2PYVneE/FNr4u0YanYRSRwMxVfMH3veuM+OOpSL4d03Qrc4k1e+SFsf3Bkn+Qr0HRtOh0jRbWxtV2xQRKij6CgC9RRRQAVDdStBaSyom9kQsFHepqQjIIPQ0Act4A8Zjxtoc161uLWaCdoZIc8qRXVV41ZyyfDT4w3VrcAroviFvMhk7JLnkfrXsgIIBByD0NAC0UUUAFFFFAAOoqSox1FSUAFNfpTqa/SgQ2iiigYUVna7qp0XR5r5bSa8MQz5MABZvpmuAPxN8VXILaf4CvmQ/daWRV/rQB6hRXlDeMPincf8e3gy1iB6eZcdP0pyXnxiuRv+waRbZ/hMpOP/HaQHqtFeYix+L0i86josee3zHH/AI5TG8K/FC6XbP4vs4QevlQ5/pTA9RormvB+ha9otvKniDXP7WZ/uHy9uyuloAjmmjt4WlndY40GWZjgAVzyfEHw1Nqken2+pJNcyHCrGN3P1revLSG/s5bW6QSQyqVdD0INeW2nwy8RWOqSSaTc6PpkAkJieO2DyBfqVHP40gPWKWoLKKaCyiiupvPmVQHkxjcfXFT0wM3xBoVn4l0O50rUV3W9wu1sdR71nW0en+APBiRXV4xtbGLAkmb5jgcCuir5l+IvizWtf+IBsta0bUf7AsJiPs9uuTNg8E8ikB6H8HYbjV9Z8QeLp42ii1KXZArDG5Qev6V6xXkWgfGOzD2elWfg/VraHKxIBEuEHTPWvXFO5QcYyM4NAC0UUUwPA/jTH4p1XxhY2kejTX+h2uJTHGeJWzyD+VXrX4oeMLK1jtrbwHLHFGoVFXgAV7dnHevMfH3xPnsb4eHPBkJ1HXJvlO37kPuTSA5OX4/61Za3babqPhhoLidgBHu+bH0r3a3kM1vHIy7S6hip7V5v4G+Fh0+//wCEh8Y3H9qa9Lzuf5kh9lzXplMAooooAK8p8aEa/wDGPw5o2d0Vl/pUq/Q5H8q9WryTQT9u/aL1iU8i1tFUfiDSAufCu9udU8TeK7y7uZJNl8YUiY8IoAxgfjWN8afiE+k6tpGiaReNFctcB52jPRfQ1q6t8KNXj8SXupeEPEb6TFqDb7iHaT83qK5L4ifC+18MfD271Wa7l1LVvOR5bybqB6Dk0Ae3azrlnoWhy6pfvtgiXcSO/tXO+CviVp3jS/uLK3tprS5hXeI5urr6j86NftB4i+Fcam5jgjktklkmdd21cckD1rO+F3hHRrC3PiDTdTn1Wa6j8r7RMu3AHYDJ9KAPRaKKzPEEmrR6JO3h6OGXUAB5SzsQp59QDTA0683+Ody0fw6a0Q4+3XMdu3urNg1Z8Nf8LLl1iKTxGdMisc/vI4mJf8PlrN+OgI8N6S5HyLqcO4+nzCkBU8SfEhPhpqGi6VNbg6YbNS20fMW9BXReH/ix4f1zwveayztapZDM8Uv3l9P5VwPxp0ZtY8Q+EYoombzGQFguRjNcn8ZfCT6J480200cmG11oLFNEnCsy+340AejWnx+0+S6RrvRry30+RsJdkfLj1r1KHVbKfTI9QS5j+yyIHWUtgYNYV/4Q0+68ANoctvGYltdq/KOCB1rzT4Z6MfGvw+uvC+r3s8Uej6iUPlMQZEBYBTz0oA9osNWsNURm067iuVU4YxsDiq914j0qz1y30i4u0W+uQWjh7kf5FeENr+mfCT4m6vaWIlFobX9zaht2+Qjj9ao/D3+2r/48WupeLkK3N5bNPBG5+4hBAA9OKAPbPiH4q1HwnoAvdJ0/7bKWwQTgKPU1f8F+JB4s8J2esCLyTOp3J6EHBpvjLRNP13w3PBrE88FnGpklaFyp2jr0qH4fX2jX3g62PhqGSHToi0USyDBODyaAOmqFbqB7l7dJkMyDLRg8gfSquta3YeH9Mk1DVZvJt4/vMFJ/QV4LZ/Ey0tfjjealY2eoXdlqECosaxgOSO4BPTmmB9FU13WNC8jBVHUk4Aqvp96NQsI7kQSweYM+XKAGH1xXmfxUvb/VfFWh+D7C7ezhv8vcyRnDFR2BoA9FTX9JkuBAmo2zSk4CCQZJqj408N23irwreaddIGLIWibHKsOQRWHpHwe8J6RNDcRW08tzCwYSyTMSWHeu6xxjt0oA88+DviCXUvC02l3zE3ukzG3kz6DpWRcZ0L9ouFo/li1a1G4erAmj4Yr9l+K3jK0T/Vl1kx7mp/iYPsfxE8I6gvDecYifb/JpAeqUUHrRTA8l+I5F38YPBVkwyqyvLj6A/wCNetV5L8QB5Xxr8Fz9mMiZ/CvWqQBRRRTAKKgvJzbWM86ruMUbOF9cDOK53wD4xHjTQZL5oBBLFM0Txg5xg0AM+I3hOPxb4SntwMXcAMttIOquKz/hN4pl8Q+FRbag3/Ex09vJnU9eOM13navILDHhP9oKe0jG211qEvgdA+aQHr9FFFMAooooAB1FSVGOoqSgApr9KdTX6UCG0UUUDE69aBx0paa7bI2YgnaCcDvQA6ivKNZ+LXiDSruWQ+Cbx9OiYgz5G4gd8ZrvPCninT/F+gxappbkxvwyN95G7gigDborE8QeMNC8Lxq2t6hHblvupyWP4DmptA8SaX4nsTeaLc/aIVbax2lcH8RQBq0UUUAFFFFABRRRQAVG0MTHLRoT6lRUlFAEYgiU5WJAfUKKfS0UAFFFed/FL4mW3g7TjY6e8c+s3I2Qw7vuZ4yaAKXxK+IF5BexeFPBo+0a3efKzJz5CnjJ9K2Ph38O7bwfYm4uyLrVrj5ri5fk59Aawvhj4d0fwvayazr+q2c2v3/zzSyXCkxg/wAI5rvZPFvh6IZk1qxUf9dl/wAaQGzRWF/wm3hj/oO2P/f0UDxt4YJAGu2JJ/6aimBu0UyKWOeFZYXWSNxlWU5BFPoAK8j8Ijyf2gPEscnDSW6Fffg163XlF8o0L9oayupPlh1W38oH1bp/WkB6xXFfFy2+0/C7WUHaHd+VdrXlfxT+ImiRaDqPh20M17qdxGYVghiY4J9TimBteD5F1X4K2Bf5hJpgU+/y1m/Ah2Pw/aJicRXUirnsNxrd+GOjXOkfDHSNN1SLZNHbKskZ7cdK6DSdGsNDtGttLt1t4WcuVUnqeppAX6SlopgFcD8Z9Nk1D4ZXzwKzy2ZW5UKOTsOa76oriCK6tpLe4QPFKpR1PcHrQBheE72z8SeFdL1Ly45T5S7WYZKMBg1Z1jwtpOu6hY3up2yzT2L74GP8J/yK5T4faHq3g7W9Q0GaJptIZzPaXGeFB/hr0SkA113xsvTIxXCfDbwXfeE77xBNfMjLqF55sW0/w5Y8/nXe0UwPJrn4Svq/xjk8S6uI5LBAGiQnOW7ZFSfFHwvq8Gv6V4w8KW/nXmnDy5bdf44+en516rRQBwUviG88Q/DLV7nUNLm02YWrgxyjGTjtSfBQ5+FGmfWT/wBCNdjq+nLq2j3VhIxRbiJoyw7ZFZ/g7w1H4R8L22jQzNOsBY+YwwTk5pAa11Z299CYbyFJoz1RxkVwOteBru4+LWja/p8cUdlawNHKAAPTtXotFMBBXm/xV8M6nczab4m8PLvv9JfcYh1kTuK9JooA8ssPjpo5hRNU0+/troDEkf2djhq9I07UYtS0yK+hV0jlTeokXaQPcUraZYSSb5LG2Z/7xhUn+VYHxC8SxeE/Bd3eZCysnlQIB1Y8DApAcZ8Km+2/EnxlqC8p5yxA/SrHxaIk8V+EYT1N3n+VbPwk8NtoPgtLi7X/AE3UXNzOx689BWB41lGrfG7w1pa/MLVPOf25NAHrR4ooNFMDyP40iSx17wfq6/KlvqIR39AytXrUbb41YchgCDXJfFHw+3iPwBf20K5uYQJ4D3DKf8M034X+JV8S+B7OZ2P2m3QQzqeoZeDSApa98W9I0DWbjTLmyvpLiAgfu4WYNkZ4P40/wz8TF8T6wlnb6JfwRsP9fNEVUV2j2NpLL5slrA8n99olJ/PFSpGkYxGir/uqBQAkqebDJGf41K15L8D3Nvd+JtObgw3pIH51673rzvwL4P1PQPHXiLUbsKtpeyBocHr70wPRK8j+Ki/2d8Q/COrx/KftPlMfUEV65XkXxWk+3/EHwjpMfzObnzWX0AFID109TRQep+tFMAooooAB1FSVGOoqSgApr9KdTX6UCG0UUUDCkJABJ4AGTS1znxAvrjTvh/rN1ZkiZLVgpHbIxmgDktb+K6z6rcaR4X0ObXGhytw0akoPUZFc58AtSkm8ReK7c272kCzLILZh/qid2R+lW/CHjDwt4H+FMN0Ly3l1GZGd40YGWSQ9iOtbXwZ8OXVnouoa9qqGO91uYyspGNqdv5mkBkeANDtfHHivW/EmvoLwQ3Bgt4peVQD2r1qw0yy0uExadax2yMclY1wCa8h+HXiSw8Ea9rnhzxLOtjI10ZoZJeFcH3r1PTvFOiaveG10zUoLqYLuKxOGwPwoA1qKKKYBRRRQAUUUUAFFFFABRRRQAZxya848VfBfw94u159XvJbhLh8ZKScfhTviZ/al7qGm6VDrKaHpc+5rq83hWIAJ2jPrj9aw/g7qF4PE2u6TDqk+q6RaMPs9zKc5OOcH60gLsPwB8LouJri+mPqZzU6fAXwcrZeK6cejTGvTaKYHnK/AzwUv/LlMfrMakj+CXgqOQMLCQkHPMpr0KigCG0tYbGzitbZNkMKhEX0AqaiigAryv42RPp9vo3iWIf8AIKu1dyP7uQTXqlZHijQYPEvhm90m5UFLmJkBPYkcGgC/Y3cd/p9vdwNujmjV1I9CKrLoGkpfNeLp1v8AaGOTL5Y3E/WuD+DniGV9KuPCurtt1TRpDCVbqydj/OvTaAEpaKKACiiigAooooAKKKKACiiigAooooAKKKKACiiigAooooAK4nxj4LuPFnirR5biUf2VYnzJIj/G+eK7aigCMCO3h7JFGv0CgV5D8OFfxX8U9f8AFcgLW8LfZrV+2B6V0Hxd1bV4dBh0Pw5byvfau/2cTIpIiU8En04NdD4J8L2/hHwta6XbjLIu6V+7ueppAdDRRRTARlDKVYZBGCPWvKNI0278CfFieCCCRtF1kl1KLlYpOuPavWKaVViCygkdMjpQA6iiigAooooAK8e0Yf8ACX/Hu91LlrTRYjGh7bs16rq8k0OjXclqheZYWMajqTjiuR+FPhi48PeGpZtTXGoX0xmmz1HPApAd1RRRTAKKKKAAdRUlRjqKkoAKa/SnU1+lAhtFFFAwqK5t4ru2kt7hBJFKpV1YcEGpaKAOJtPhF4Os9RF5FpamQNuAZsqD9K7RUWOMIgCqowAO1OooAwNf8FaB4nZW1nT453Xo+MN+dHh3wXoPhZnbRbFYHkGGfqSPrW9RQAtFFFABRRRQAUUUUAFFFFABRRRQBjeIfCmkeKYoo9atvPWI5QbsYrnvh1q+j3Nxq2k6Hpq2Memz+U2B9/3ruh1ryz4TWF3Z+KPFr3VvJEsl7lCwwGGO1ID0bU9YsNGtvP1O6itougaRsA1m6Z448OazfCz03Vbe4nbpGjZJrL+JNjHeaPatJ4bXxAYpsiBn27Pfoa53wnaakmvwTQeAdO0eDo04bMij24oA7vxhqk2i+DtT1G1/11vAWTPrWL8KtV1PXPAdpqWtXK3FxcfNkDGB6Vq+OoWn8CaxHGNzNatgetc38D5Vf4V6aq9UBVgexoA9DooopgFFFFAHFa18Oob7xhb+JNKvH06+TAnMY4mX0NdooIUAnJA6+tLRQAUUUUAFFFFABRRRQAUUUUAFFFFABRRRQAUUUUAFFFFABRRRQAUUUUANKKzAsoJXoSOlOoooAKKKKACiiigAooooAKKKKACiiigAooooAKKKKAAdRUlRjqKkoAKa/SnU1+lAhtFFFAwooooAKKKKACiiigAooooAKKKKACiiigAooooAKKKKACmqirkqoBPXA606igAooooAa6LLGySKGVhgg9xVfT9NtNKtRb6fAkEQOdiDAq1RQAUUUUAFFFFABRRRQAUUUUAFFFFABRRRQAUUUUAFFFFABRRRQAUUUUAFFFFABRRRQAUUUUAFFFFABRRRQAUUUUAFFFFABRRRQAUUUUAFFFFABRRRQADqKkqMdRUlABTX6UUUCG0UUUDCiiigAooooAKKKKACiiigAooooAKKKKACiiigAooooAKKKKACiiigAooooAKKKKACiiigAooooAKKKKACiiigAooooAKKKKACiiigAooooAKKKKACiiigAooooAKKKKACiiigAooooAKKKKACiiigAooooAKKKKACiiigAooooAB1FSUUUAf/2Q==)"
      ],
      "metadata": {
        "id": "uiWrJZg3IiNi"
      }
    },
    {
      "cell_type": "markdown",
      "metadata": {
        "id": "n4MIzQXnWd7Y"
      },
      "source": [
        "    3.3  Now we update the current value of m and c using the following equation:"
      ]
    },
    {
      "cell_type": "markdown",
      "source": [
        "![Adhesive_2.JPG](data:image/jpeg;base64,/9j/4AAQSkZJRgABAQEAeAB4AAD/4REiRXhpZgAATU0AKgAAAAgABAE7AAIAAAAdAAAISodpAAQAAAABAAAIaJydAAEAAAA6AAAQ4OocAAcAAAgMAAAAPgAAAAAc6gAAAAgAAAAAAAAAAAAAAAAAAAAAAAAAAAAAAAAAAAAAAAAAAAAAAAAAAAAAAAAAAAAAAAAAAAAAAAAAAAAAAAAAAAAAAAAAAAAAAAAAAAAAAAAAAAAAAAAAAAAAAAAAAAAAAAAAAAAAAAAAAAAAAAAAAAAAAAAAAAAAAAAAAAAAAAAAAAAAAAAAAAAAAAAAAAAAAAAAAAAAAAAAAAAAAAAAAAAAAAAAAAAAAAAAAAAAAAAAAAAAAAAAAAAAAAAAAAAAAAAAAAAAAAAAAAAAAAAAAAAAAAAAAAAAAAAAAAAAAAAAAAAAAAAAAAAAAAAAAAAAAAAAAAAAAAAAAAAAAAAAAAAAAAAAAAAAAAAAAAAAAAAAAAAAAAAAAAAAAAAAAAAAAAAAAAAAAAAAAAAAAAAAAAAAAAAAAAAAAAAAAAAAAAAAAAAAAAAAAAAAAAAAAAAAAAAAAAAAAAAAAAAAAAAAAAAAAAAAAAAAAAAAAAAAAAAAAAAAAAAAAAAAAAAAAAAAAAAAAAAAAAAAAAAAAAAAAAAAAAAAAAAAAAAAAAAAAAAAAAAAAAAAAAAAAAAAAAAAAAAAAAAAAAAAAAAAAAAAAAAAAAAAAAAAAAAAAAAAAAAAAAAAAAAAAAAAAAAAAAAAAAAAAAAAAAAAAAAAAAAAAAAAAAAAAAAAAAAAAAAAAAAAAAAAAAAAAAAAAAAAAAAAAAAAAAAAAAAAAAAAAAAAAAAAAAAAAAAAAAAAAAAAAAAAAAAAAAAAAAAAAAAAAAAAAAAAAAAAAAAAAAAAAAAAAAAAAAAAAAAAAAAAAAAAAAAAAAAAAAAAAAAAAAAAAAAAAAAAAAAAAAAAAAAAAAAAAAAAAAAAAAAAAAAAAAAAAAAAAAAAAAAAAAAAAAAAAAAAAAAAAAAAAAAAAAAAAAAAAAAAAAAAAAAAAAAAAAAAAAAAAAAAAAAAAAAAAAAAAAAAAAAAAAAAAAAAAAAAAAAAAAAAAAAAAAAAAAAAAAAAAAAAAAAAAAAAAAAAAAAAAAAAAAAAAAAAAAAAAAAAAAAAAAAAAAAAAAAAAAAAAAAAAAAAAAAAAAAAAAAAAAAAAAAAAAAAAAAAAAAAAAAAAAAAAAAAAAAAAAAAAAAAAAAAAAAAAAAAAAAAAAAAAAAAAAAAAAAAAAAAAAAAAAAAAAAAAAAAAAAAAAAAAAAAAAAAAAAAAAAAAAAAAAAAAAAAAAAAAAAAAAAAAAAAAAAAAAAAAAAAAAAAAAAAAAAAAAAAAAAAAAAAAAAAAAAAAAAAAAAAAAAAAAAAAAAAAAAAAAAAAAAAAAAAAAAAAAAAAAAAAAAAAAAAAAAAAAAAAAAAAAAAAAAAAAAAAAAAAAAAAAAAAAAAAAAAAAAAAAAAAAAAAAAAAAAAAAAAAAAAAAAAAAAAAAAAAAAAAAAAAAAAAAAAAAAAAAAAAAAAAAAAAAAAAAAAAAAAAAAAAAAAAAAAAAAAAAAAAAAAAAAAAAAAAAAAAAAAAAAAAAAAAAAAAAAAAAAAAAAAAAAAAAAAAAAAAAAAAAAAAAAAAAAAAAAAAAAAAAAAAAAAAAAAAAAAAAAAAAAAAAAAAAAAAAAAAAAAAAAAAAAAAAAAAAAAAAAAAAAAAAAAAAAAAAAAAAAAAAAAAAAAAAAAAAAAAAAAAAAAAAAAAAAAAAAAAAAAAAAAAAAAAAAAAAAAAAAAAAAAAAAAAAAAAAAAAAAAAAAAAAAAAAAAAAAAAAAAAAAAAAAAAAAAAAAAAAAAAAAAAAAAAAAAAAAAAAAAAAAAAAAAAAAAAAAAAAAAAAAAAAAAAAAAAAAAAAAAAAAAAAAAAAAAAAAAAAAAAAAAAAAAAAAAAAAAAAAAAAAAAAAAAAAAAAAAAAAAAAAAAAAAAAAAAAAAAAAAAAAAAAAAAAAAAAAAAAAAAAAAAAAAAAAAAAAAAAAAAAAAAAAAAAAAAAAAAAAAAAAAAAAAAAAAAAAAAAAAAAAAAAAAAAAAAAAAAAAAAAAAAAAAAAAAAAAAAAAAAAAAAAAAAAAAAAAAAAAAAAAAAAAAAAAAAAAAAAAAAAAAAAAAAAAAAAAAAAAAAAAAAAAAAAAAAAAAAAAAAAAAAAAAAAAAAAAAAAAAAAAAAAAAAAAAAAAAAAAAAAAAAAAAAAAAAAAAAAAAAAAAAAAAAAAAAAAAAAAAAAAAAAAAAAAAAAAAAAAAAAAAAAAAAAAAAAAAAAAAAAAAAAAAAAAAAAAAAAAAAAAAAAAAAAAAAAAAAAAAAAAAAAAAAAAAAAAAAAAAAAAAAAAAAAAAAAAAAAAAAAAAAAAAAAAAAAAAAAAAAAAAAAAAAAAAAAAAAAAAAAAAAAAAAAAAAAAAAAAAAAAAAAAAAAAAAAAAAAAAAAAAAAAAAAAAAAAAAAAAAAAAAAAAAAAAAAAAAAAAAAAAAAAAAAAAAAAAAAAAAAAAAAAAAAAAAAAAAAAAAAAAAAAAAAAAAAAAAAAAAAAAAAAAAAAAAAAAAAAAAAAAAAAAAAAAAAAAAAAAAAAAAAAAAAAAAAAAAAAAAAAAAAAAAAAAAAAAAAAAAAAAAAAAAAAAAAAAAAAAAAAAAAAAAAAAAAAAAAAAAAAAAAAAAAAAAAAAAAAAAAAAAAAAAAAAAAAAAAAAAAAAAAAAAAAAAAAAAAAAAAAAAAAAAAAAAAAAAAAAAAAAAAAAAAAAAAAAAAAAAAAAAAAAAAAAAAAAAAAAAAAAAAAAAAAAAAAAAAAAAAAAAEFudWdhbnRpIFN1cmVzaCAoQ29uc3VsdGFudCkAAAAFkAMAAgAAABQAABC2kAQAAgAAABQAABDKkpEAAgAAAAM4NgAAkpIAAgAAAAM4NgAA6hwABwAACAwAAAiqAAAAABzqAAAACAAAAAAAAAAAAAAAAAAAAAAAAAAAAAAAAAAAAAAAAAAAAAAAAAAAAAAAAAAAAAAAAAAAAAAAAAAAAAAAAAAAAAAAAAAAAAAAAAAAAAAAAAAAAAAAAAAAAAAAAAAAAAAAAAAAAAAAAAAAAAAAAAAAAAAAAAAAAAAAAAAAAAAAAAAAAAAAAAAAAAAAAAAAAAAAAAAAAAAAAAAAAAAAAAAAAAAAAAAAAAAAAAAAAAAAAAAAAAAAAAAAAAAAAAAAAAAAAAAAAAAAAAAAAAAAAAAAAAAAAAAAAAAAAAAAAAAAAAAAAAAAAAAAAAAAAAAAAAAAAAAAAAAAAAAAAAAAAAAAAAAAAAAAAAAAAAAAAAAAAAAAAAAAAAAAAAAAAAAAAAAAAAAAAAAAAAAAAAAAAAAAAAAAAAAAAAAAAAAAAAAAAAAAAAAAAAAAAAAAAAAAAAAAAAAAAAAAAAAAAAAAAAAAAAAAAAAAAAAAAAAAAAAAAAAAAAAAAAAAAAAAAAAAAAAAAAAAAAAAAAAAAAAAAAAAAAAAAAAAAAAAAAAAAAAAAAAAAAAAAAAAAAAAAAAAAAAAAAAAAAAAAAAAAAAAAAAAAAAAAAAAAAAAAAAAAAAAAAAAAAAAAAAAAAAAAAAAAAAAAAAAAAAAAAAAAAAAAAAAAAAAAAAAAAAAAAAAAAAAAAAAAAAAAAAAAAAAAAAAAAAAAAAAAAAAAAAAAAAAAAAAAAAAAAAAAAAAAAAAAAAAAAAAAAAAAAAAAAAAAAAAAAAAAAAAAAAAAAAAAAAAAAAAAAAAAAAAAAAAAAAAAAAAAAAAAAAAAAAAAAAAAAAAAAAAAAAAAAAAAAAAAAAAAAAAAAAAAAAAAAAAAAAAAAAAAAAAAAAAAAAAAAAAAAAAAAAAAAAAAAAAAAAAAAAAAAAAAAAAAAAAAAAAAAAAAAAAAAAAAAAAAAAAAAAAAAAAAAAAAAAAAAAAAAAAAAAAAAAAAAAAAAAAAAAAAAAAAAAAAAAAAAAAAAAAAAAAAAAAAAAAAAAAAAAAAAAAAAAAAAAAAAAAAAAAAAAAAAAAAAAAAAAAAAAAAAAAAAAAAAAAAAAAAAAAAAAAAAAAAAAAAAAAAAAAAAAAAAAAAAAAAAAAAAAAAAAAAAAAAAAAAAAAAAAAAAAAAAAAAAAAAAAAAAAAAAAAAAAAAAAAAAAAAAAAAAAAAAAAAAAAAAAAAAAAAAAAAAAAAAAAAAAAAAAAAAAAAAAAAAAAAAAAAAAAAAAAAAAAAAAAAAAAAAAAAAAAAAAAAAAAAAAAAAAAAAAAAAAAAAAAAAAAAAAAAAAAAAAAAAAAAAAAAAAAAAAAAAAAAAAAAAAAAAAAAAAAAAAAAAAAAAAAAAAAAAAAAAAAAAAAAAAAAAAAAAAAAAAAAAAAAAAAAAAAAAAAAAAAAAAAAAAAAAAAAAAAAAAAAAAAAAAAAAAAAAAAAAAAAAAAAAAAAAAAAAAAAAAAAAAAAAAAAAAAAAAAAAAAAAAAAAAAAAAAAAAAAAAAAAAAAAAAAAAAAAAAAAAAAAAAAAAAAAAAAAAAAAAAAAAAAAAAAAAAAAAAAAAAAAAAAAAAAAAAAAAAAAAAAAAAAAAAAAAAAAAAAAAAAAAAAAAAAAAAAAAAAAAAAAAAAAAAAAAAAAAAAAAAAAAAAAAAAAAAAAAAAAAAAAAAAAAAAAAAAAAAAAAAAAAAAAAAAAAAAAAAAAAAAAAAAAAAAAAAAAAAAAAAAAAAAAAAAAAAAAAAAAAAAAAAAAAAAAAAAAAAAAAAAAAAAAAAAAAAAAAAAAAAAAAAAAAAAAAAAAAAAAAAAAAAAAAAAAAAAAAAAAAAAAAAAAAAAAAAAAAAAAAAAAAAAAAAAAAAAAAAAAAAAAAAAAAAAAAAAAAAAAAAAAAAAAAAAAAAAAAAAAAAAAAAAAAAAAAAAAAAAAAAAAAAAAAAAAAAAAAAAAAAAAAAAAAAAAAAAAAAAAAAAAAAAAAAAAAAAAAAAAAAAAAAAAAAAAAAAAAAAAAAAAAAAAAAAAAAAAAAAAAAAAAAAAAAAAAAAAAAAAAAAAAAAAAAAAAAAAAAAAAAAAAAAAAAAAAAAAAAAAAAAAAAAAAAAAAAAAAAAAAAAAAAAAAAAAAAAAAAAAAAAAAAAAAAAAAAAAAAAAAAAAAAAAAAAAAAAAAAAAAAAAAAAAAAAAAAAAAAAAAAAAAAAAAAAAAAAAAAAAAAAAAAAAAAAAAAAAAAAAAAAAAAAAAAAAAAAAAAAAAAAAAAAAAAAAAAAAAAAAAAAAAAAAAAAAAAAAAAAAAAAAAAAAAAAAAAAAAAAAAAAAAAAAAAAAAAAAAAAAAAAAAAAAAAAAAAAAAAAAAAAAAAAAAAAAAAAAAAAAAAAAAAAAAAAAAAAAAAAAAAAAAAAAAAAAAAAAAAAAAAAAAAAAAAAAAAAAAAAAAAAAAAAAAAAAAAAAAAAAAAAAAAAAAAAAAAAAAAAAAAAAAAAAAAAAAAAAAAAAAAAAAAAAAAAAAAAAAAAAAAAAAAAAAAAAAAAAAAAAAAAAAAAAAAAAAAAAAAAAAAAAAAAAAAAAAAAAAAAAAAAAAAAAAAAAAAAAAAAAAAAAAAAAAAAAAAAAAAAAAAAAAAAAAAAAAAAAAAAAAAAAAAAAAAAAAAAAAAAAAAAAAAAAAAAAAAAAAAAAAAAAAAAAAAAAAAAAAAAAAAAAAAAAAAAAAAAAAAAAAAAAAAAAAAAAAAAAAAAAAAMjAyMjowMToxOCAxMzoxMjoyMwAyMDIyOjAxOjE4IDEzOjEyOjIzAAAAQQBuAHUAZwBhAG4AdABpACAAUwB1AHIAZQBzAGgAIAAoAEMAbwBuAHMAdQBsAHQAYQBuAHQAKQAAAP/hCy9odHRwOi8vbnMuYWRvYmUuY29tL3hhcC8xLjAvADw/eHBhY2tldCBiZWdpbj0n77u/JyBpZD0nVzVNME1wQ2VoaUh6cmVTek5UY3prYzlkJz8+DQo8eDp4bXBtZXRhIHhtbG5zOng9ImFkb2JlOm5zOm1ldGEvIj48cmRmOlJERiB4bWxuczpyZGY9Imh0dHA6Ly93d3cudzMub3JnLzE5OTkvMDIvMjItcmRmLXN5bnRheC1ucyMiPjxyZGY6RGVzY3JpcHRpb24gcmRmOmFib3V0PSJ1dWlkOmZhZjViZGQ1LWJhM2QtMTFkYS1hZDMxLWQzM2Q3NTE4MmYxYiIgeG1sbnM6ZGM9Imh0dHA6Ly9wdXJsLm9yZy9kYy9lbGVtZW50cy8xLjEvIi8+PHJkZjpEZXNjcmlwdGlvbiByZGY6YWJvdXQ9InV1aWQ6ZmFmNWJkZDUtYmEzZC0xMWRhLWFkMzEtZDMzZDc1MTgyZjFiIiB4bWxuczp4bXA9Imh0dHA6Ly9ucy5hZG9iZS5jb20veGFwLzEuMC8iPjx4bXA6Q3JlYXRlRGF0ZT4yMDIyLTAxLTE4VDEzOjEyOjIzLjg2MzwveG1wOkNyZWF0ZURhdGU+PC9yZGY6RGVzY3JpcHRpb24+PHJkZjpEZXNjcmlwdGlvbiByZGY6YWJvdXQ9InV1aWQ6ZmFmNWJkZDUtYmEzZC0xMWRhLWFkMzEtZDMzZDc1MTgyZjFiIiB4bWxuczpkYz0iaHR0cDovL3B1cmwub3JnL2RjL2VsZW1lbnRzLzEuMS8iPjxkYzpjcmVhdG9yPjxyZGY6U2VxIHhtbG5zOnJkZj0iaHR0cDovL3d3dy53My5vcmcvMTk5OS8wMi8yMi1yZGYtc3ludGF4LW5zIyI+PHJkZjpsaT5BbnVnYW50aSBTdXJlc2ggKENvbnN1bHRhbnQpPC9yZGY6bGk+PC9yZGY6U2VxPg0KCQkJPC9kYzpjcmVhdG9yPjwvcmRmOkRlc2NyaXB0aW9uPjwvcmRmOlJERj48L3g6eG1wbWV0YT4NCiAgICAgICAgICAgICAgICAgICAgICAgICAgICAgICAgICAgICAgICAgICAgICAgICAgICAgICAgICAgICAgICAgICAgICAgICAgICAgICAgICAgICAgICAgICAgICAgICAgICAKICAgICAgICAgICAgICAgICAgICAgICAgICAgICAgICAgICAgICAgICAgICAgICAgICAgICAgICAgICAgICAgICAgICAgICAgICAgICAgICAgICAgICAgICAgICAgICAgICAgIAogICAgICAgICAgICAgICAgICAgICAgICAgICAgICAgICAgICAgICAgICAgICAgICAgICAgICAgICAgICAgICAgICAgICAgICAgICAgICAgICAgICAgICAgICAgICAgICAgICAgCiAgICAgICAgICAgICAgICAgICAgICAgICAgICAgICAgICAgICAgICAgICAgICAgICAgICAgICAgICAgICAgICAgICAgICAgICAgICAgICAgICAgICAgICAgICAgICAgICAgICAKICAgICAgICAgICAgICAgICAgICAgICAgICAgICAgICAgICAgICAgICAgICAgICAgICAgICAgICAgICAgICAgICAgICAgICAgICAgICAgICAgICAgICAgICAgICAgICAgICAgIAogICAgICAgICAgICAgICAgICAgICAgICAgICAgICAgICAgICAgICAgICAgICAgICAgICAgICAgICAgICAgICAgICAgICAgICAgICAgICAgICAgICAgICAgICAgICAgICAgICAgCiAgICAgICAgICAgICAgICAgICAgICAgICAgICAgICAgICAgICAgICAgICAgICAgICAgICAgICAgICAgICAgICAgICAgICAgICAgICAgICAgICAgICAgICAgICAgICAgICAgICAKICAgICAgICAgICAgICAgICAgICAgICAgICAgICAgICAgICAgICAgICAgICAgICAgICAgICAgICAgICAgICAgICAgICAgICAgICAgICAgICAgICAgICAgICAgICAgICAgICAgIAogICAgICAgICAgICAgICAgICAgICAgICAgICAgICAgICAgICAgICAgICAgICAgICAgICAgICAgICAgICAgICAgICAgICAgICAgICAgICAgICAgICAgICAgICAgICAgICAgICAgCiAgICAgICAgICAgICAgICAgICAgICAgICAgICAgICAgICAgICAgICAgICAgICAgICAgICAgICAgICAgICAgICAgICAgICAgICAgICAgICAgICAgICAgICAgICAgICAgICAgICAKICAgICAgICAgICAgICAgICAgICAgICAgICAgICAgICAgICAgICAgICAgICAgICAgICAgICAgICAgICAgICAgICAgICAgICAgICAgICAgICAgICAgICAgICAgICAgICAgICAgIAogICAgICAgICAgICAgICAgICAgICAgICAgICAgICAgICAgICAgICAgICAgICAgICAgICAgICAgICAgICAgICAgICAgICAgICAgICAgICAgICAgICAgICAgICAgICAgICAgICAgCiAgICAgICAgICAgICAgICAgICAgICAgICAgICAgICAgICAgICAgICAgICAgICAgICAgICAgICAgICAgICAgICAgICAgICAgICAgICAgICAgICAgICAgICAgICAgICAgICAgICAKICAgICAgICAgICAgICAgICAgICAgICAgICAgICAgICAgICAgICAgICAgICAgICAgICAgICAgICAgICAgICAgICAgICAgICAgICAgICAgICAgICAgICAgICAgICAgICAgICAgIAogICAgICAgICAgICAgICAgICAgICAgICAgICAgICAgICAgICAgICAgICAgICAgICAgICAgICAgICAgICAgICAgICAgICAgICAgICAgICAgICAgICAgICAgICAgICAgICAgICAgCiAgICAgICAgICAgICAgICAgICAgICAgICAgICAgICAgICAgICAgICAgICAgICAgICAgICAgICAgICAgICAgICAgICAgICAgICAgICAgICAgICAgICAgICAgICAgICAgICAgICAKICAgICAgICAgICAgICAgICAgICAgICAgICAgICAgICAgICAgICAgICAgICAgICAgICAgICAgICAgICAgICAgICAgICAgICAgICAgICAgICAgICAgICAgICAgICAgICAgICAgIAogICAgICAgICAgICAgICAgICAgICAgICAgICAgICAgICAgICAgICAgICAgICAgICAgICAgICAgICAgICAgICAgICAgICAgICAgICAgICAgICAgICAgICAgICAgICAgICAgICAgCiAgICAgICAgICAgICAgICAgICAgICAgICAgICAgICAgICAgICAgICAgICAgICAgICAgICAgICAgICAgICAgICAgICAgICAgICAgICAgICAgICAgICAgICAgICAgICAgICAgICAKICAgICAgICAgICAgICAgICAgICAgICAgICAgICAgICAgICAgICAgICAgICAgICAgICAgICAgICAgICAgICAgICAgICAgICAgICAgICAgICAgICAgICAgICAgICAgICAgICAgIAogICAgICAgICAgICAgICAgICAgICAgICAgICAgPD94cGFja2V0IGVuZD0ndyc/Pv/bAEMABwUFBgUEBwYFBggHBwgKEQsKCQkKFQ8QDBEYFRoZGBUYFxseJyEbHSUdFxgiLiIlKCkrLCsaIC8zLyoyJyorKv/bAEMBBwgICgkKFAsLFCocGBwqKioqKioqKioqKioqKioqKioqKioqKioqKioqKioqKioqKioqKioqKioqKioqKioqKv/AABEIAJ8BSQMBIgACEQEDEQH/xAAfAAABBQEBAQEBAQAAAAAAAAAAAQIDBAUGBwgJCgv/xAC1EAACAQMDAgQDBQUEBAAAAX0BAgMABBEFEiExQQYTUWEHInEUMoGRoQgjQrHBFVLR8CQzYnKCCQoWFxgZGiUmJygpKjQ1Njc4OTpDREVGR0hJSlNUVVZXWFlaY2RlZmdoaWpzdHV2d3h5eoOEhYaHiImKkpOUlZaXmJmaoqOkpaanqKmqsrO0tba3uLm6wsPExcbHyMnK0tPU1dbX2Nna4eLj5OXm5+jp6vHy8/T19vf4+fr/xAAfAQADAQEBAQEBAQEBAAAAAAAAAQIDBAUGBwgJCgv/xAC1EQACAQIEBAMEBwUEBAABAncAAQIDEQQFITEGEkFRB2FxEyIygQgUQpGhscEJIzNS8BVictEKFiQ04SXxFxgZGiYnKCkqNTY3ODk6Q0RFRkdISUpTVFVWV1hZWmNkZWZnaGlqc3R1dnd4eXqCg4SFhoeIiYqSk5SVlpeYmZqio6Slpqeoqaqys7S1tre4ubrCw8TFxsfIycrS09TV1tfY2dri4+Tl5ufo6ery8/T19vf4+fr/2gAMAwEAAhEDEQA/APo+iiigAooooAKKKKACiiigAooooAKKKKACiiigAoqCa6jhyCct6Cs+a5kmPJwPQU0rmcqiiXZ71IwRH8zfoKzZJHlbLnJptFaJJHLKbkFJS0lUZhSGlpDTAKSlpM0xEsF1Jbt8pyvdTWpBeRz8A7W9DWLR0qXFM0hUlE6KiseC/kiwH+dffrWpDOk6boz9R6Vk4tHXCopbElFFFSaBRRRQAUUmaKAFopM0tABRRRQAUUUUAFFFFABRRRQAUZrG1/XG0lYIbW3+13tySIYN+0HHJJPYCsDRviKmv27Q6Vpks2pxyNHNbeZhIscbi+OmenGaAO3zS5rh7b4jRRatdaPrWnPa6pBjZBC/mifPTacD9aluPG93pOs6faeINH+xQalIIYJknEhVz0DDAx+tG+wbHZ0UgpHdY42eRgqqMknsKAHUVi/8Jd4fH/MXtP8Av5R/wl/h/wD6DFp/38FAG1RWL/wl/h/IA1i0yTgfvBzVye/UDEJyf71OxMpKO5almSFcu2Pb1qjLqDuCEG0evesfWtWi0rTZr+8LMsYzgdWPYD3Nclb/ABIVNYudG1TS5bfVI1VobaGTzfODDIGcDBHemkc06rex3ROTknJozXE3fj6XQ9WtbXxRpi6db3mRFcJP5mD6MMDH4ZpdU8cX+m6adXbQJDpKEbpZJtsu0n7wTB49s1XQxO1NJVawvYdS06C8tjmKdA6n2NWaoApKWkpiCkNLSGgBD0rzb4leIPEXhKD+0rDUbf7PLII4rV4Mn35r0k15B8WGbWfG/hzw9GSQ0gkkA9z/APWp9UgOw8MQeK7hbLUNY1a2e3miEj20dvtIyMgZ/KuupkaLFEkaDCqAoHoKdVdSUFOSRo23IxB9qbXOarrl3oOsK+pRo2jz4VbhFObdv9v1B9aBnZwapyBOBj+8K0UkSRdyMCPauQ1DVbPTdNe/u5lW3Vchhzuz0A9Sar+G9U1e7jkvb2FbSGVs29vj5wnq59T6Vm4X2N4VmtGdzSGqkGowyrhz5be9WgQy5ByPasWmjqjJSV0eWfEHxH4r8LarZx2OqW0g1G4KQQG3yUXIAye/WuiTSPHDxKx8R2asQCQbTofSuU8RH/hIvj5penA7odLhEjjsG+9/7MteuYoXw3KfxHBaN4y1Sw8XDwx4wihS6lXda3cIwk4+nY13wrxv4sT/APFyPDEVuf36srcdcF//ANdexr90Z9KFqrg9GOopBS0AFFFFABRRRQAUUUUAc/4qW0sNNutcmU/aLS0kSNs8AH/69c/8HtMFn4HS9kjC3F/K0ztjkjPH9a2viBouoeIfCU+maUyLNOyhi7YG3PNaWmaa2k+G7fT7bbvt7fYp7Fsdfzpdw7Hn3gyJNe+LniPWmUOlo/2eFiM4I4yPwFS+Nj/b/wAVvDOhRfMto5vZ8fw45H/oP61u/Dfwpd+FdCnj1No2vLmdpZTGcjnpzVC48Ka5ZfEDUtb0n7PMNStvJWaZiDaHjJA/i6dOOaezXkHdnewTRTxh4JFkTONynIpZ3jjgkebAjVSXz0x3qnomlQ6LpMFhbklYlwWPVj3J9yatz3CQr8xyewFArpK7OU/4SvwPnmfT/wDvyP8ACq0/jjwHHws+ns3tCP8ACuhmnMvYKvoBUHlp/cX8qdjCVb+U5c+L/BlzOuLiwLkgKBEBz7cV1IwV46Unlp/cX8qdVHM227lLUtNtdTt0jvULxxyLKBnupyM15z8PY01z4j+KvEEihwlx9mgY84C8cfgBXpd8s0lhOlrjzmQhN3TOOK5n4ceFrjwp4V+y6gUa9mmeecocjJ7Z78AU1uweqOZ8ZIviH4veH9GdRJDaA3Eynp6jP5VpfGG+MXhCLS4P9fqdwsCKPTPP9KuaN4Tvrf4lar4i1Fo2ilQR2oU5IX39KTxt4X1DVdf0XWNNSK5bTXYtazOVVs9CDzzQtkmPq2dFoVvFp+j2unJIpe2hRXQHleO4rSPtWN4e0eaw+1Xmousl/evvmKfdUDoo9hW3VdSUc5LpXiZ5naHX4EjLEqptM4HpnNM/sjxT/wBDFB/4B/8A166akpgc/a6Z4jiu4nutchmhVgXjFrtLD0znit7vTqQ0wEPSvHdGJ8R/H7ULw/NDpqmNT2BHH9K9K12PXpI4h4ens4WyfMNzGXz6YwRXCeGfAPi3wteXt3Yanpss1626VpoGJ654+amt7ie1j0y7uYrO0lubhwkUKF3Y9gBk1k+E7681TQkv744N0zSRLjG2Mn5R+Vcnr/hHxt4ojitNU120hsN4M8FrCU81c9Cc5P06V6FbQJbW0cMQASNQoA7AUCZLWdrd3p9lo9xLrDILQKQ4fkMPTHetGsO68OjUfEEd/qc5uILbBtbUrhEb++f7x+vSmM4PTLa50u9sr/xJBOvh3ef7PhlbP2IsflMo9D29Ohr1VGV41ZCCpGQR0Ipk8EV1byQXEayxSAq6OMhgexFZmhaNJocc1sl281luzbxScmEf3Qe4poRr1NDfyWik9UHJBqHtXO+JbTxJe5h0G7sraGSMq5niZnBPcEEUmrouLaehg/Ce6TxL8RPFHiHOQJjDHn0yf6Ba9hkkSKJpJGCooyzE4AFeI+EvBXi/wbp0tnpWpaYyySmVnlt2LEkAdQw9K6E6H4k11RbeLtdDacT+8tNPj8oSj0ZsliPbNZyp6aHRCtd+8Z/h+zbx78WLvxNtJ0nTm8m1cjiQrxke3U/jXrLXltHcpbvPGszjKxlhuYewqHSrSwsNOitNLhjgtolCpHGMACvO/GekR3njbRdLSaRri+vftU0ynDxxIv3VYcqOvT1rLZqJ0b3kekRahZzTyQw3UMksf30VwSv1FLbX1pdu62tzFM0Zw4jcNtPvivOta0myv/ilo+j2MC28FnaNLcfZ/k3KTwjY6j2qxaPaL8XbmWzWK0stNsRBO0YCq0jsAqnHWktRs9GopoOadQAUUUUAFFFFACGilpGYKuWIA9TQAtMkkSJcucVXmv0UYi+Y+vas93aRtznJoMZVUti1Lfs2RENo9T1qoWLHJOTSUVRzSk5bhRRRTJCiiigAopaSmAlFLRQAlFKaSqAKSlpKYgpDS0hpgJSGnUlMQhpKWigApDS0hpgJRS0mMnA5NMBKKtDT7kj/AFePqaT+zrn/AJ5/qKXMi+SXYq0Va/s66/55/qKP7Ouv+ef6inzLuHJLsVkleFg0bbTTIrSxk8Sx61dI5vEhMKvu+VQe+PWrf9nXP/PL9RVZ0MchRhhgeaVoyKTnAv2mh2EOv3Wtw7nurtFR2LZAVRgADtUEfhHTI9Zn1FRJvnlWaSIt8jSL91seoqO3upLZsocjuD0Na1vqMM2Ax2N6GsZU3HY6YVVLctilo60VmahRRRQAUVHLOkIy559KzZrySU8HavoKDOVRRL092kPH3m9BWfNcSTH5zx2FRdaKDmlUcgooqa3tmnJxwB3pkJNuyIaKv/2b/wBNP0o/s09pB+VBp7OXYoUVe/s1+zrSf2bJ/fWncXs5dilRVz+zpf7y0n9ny+q/nTuL2cuxUoq3/Z83+z+dJ/Z83t+dO6Dkl2KtFWfsE/oPzoNjP/dH50XQuSXYrGkqwbKf+5+tJ9jn/wCeZp3QcsuxBSVP9kn/AOeRpPsk/wDzzandC5ZdiGkNTfZZ/wDnm1J9mm/55t+VO6FyvsRUhqX7PN/zyb8qQ28v/PNvyp3QuVkVBqQwSj/lm35UnlSd0b8qd0KzGUlOKMP4T+VNIx1p3CzCrmm2/mT+Yw+VP51URC7hV6k4rfghWGFUXsOfeonKysbUoczuS0UUVgdoUUUUAQ3MwggZz2HH1rnWYsxZuSTk1c1K58642KfkTj6mqVdNONlc4qs+Z2EpKWitDItW2oy2+ATvT0Pati3uo7lAYzz3B6iucoDFTlTg+oqJU0zWFVx3OporGtNVaP5LjLr2buKvf2la/wDPSsHBpnTGpFozWYscscn3pKKKg4gpaSloAXqcCtm3iEMKqPxqhYwb5PMYfKvT61qUHTRjbVhRRRQdAYooooAKKKKACiiigAooooAKKKKACiiigAooooAKKKKADFGKKKAEIFY2oTebckL0XitG9uBBCefmbhRWKiNLIFUZZjWtNdWc1aX2UXdLgLSGU9F4Hua1qjgiEMKoOwqSok7s2px5Y2CiiipLCoLycW9uzd+gHvU2axNRuRPNtQ5RenuauEbszqS5YlInPWiiiuo4BKKKKBiUhpaQ0wEooNJQMvUUUVwgFPRTJIFXqTTKuacAbg56heKCoq8rGjFGIowq9qfRSZoO/bQWikzRnNAC0UUUAFFFFABRRRQAUUmaWgAooooAKKKKACiikblSAce9ABmivH/F+reKNE8a6ZommeIJpn1OTkPEv7lS2OPwz+VejaFo+pabLI+o63PqQcABZUVQv5ULVXB6Oxt0UVUv7jyYMKfmbge1NK7FJqKuzNvJjNcMey8CrelwDBmPXOBWdEhllVFHJOK34lWKNUUcAVpN2VkctJc0uZklFJmlrI6wJxSZpk6NJBIkbmN2UhXA+6fWvHru+8UL8ToPC9n4muZI2TfLMY1ygxk/ypdbB0ues6jc+RanHDNwKw81y2reHvFDu7WnjC5Z4x+7WWFSpPvgVQ8D+MrzVNTvdA8QxJDq9icsUGFlX+8K6qcbI4asryO3opAc0taGQlFFFAxKQ0tIaYCGkpTSUDL1FFFcIBUsMphlDr+VRUtAJ2dzcjkWWMMp4IqlrWtWPh/SZtR1ScQ28QySeST6AdyagtLnyHw33D19q89+Ibya58UPDPh1yTabxcyp2fGT/JT+dG7SO6ElJXNrUfHOs2WgnxBNpVtZ6YMFI7u4YTyg9MBVIUn0JrsNF1SPWdFtdSgVkjuYw4Vuoz2pb/SrHVLH7HqFtHcW/B8uRcjjpVmCKKC3SK3VViRdqKvQD2oLI72/ttNtHur2XyoU+85BOPyrG/4Tzw1/0FE/79v/APE1rale2+n2MlxeKzQp94Km4/lWB/wmvh7/AJ97j/wDb/CgCOX4l+HYpSjahHx/sP8A/E1LZfELQ9RvEtbO7SWaT7qBXGfzFU73xX4flXelvcbh/wBObc/pVTT/ABTo19fxW1rDMszn5S1qVA/HHFUrM5ZynFnY/wBpn/nn+tRXGuRWlvJPchYoo1LO7NgAVVrzP42ahcw+HbHTLVmX+0boRuV7qMcfmR+VDRKqSOlT4j6hrFpc3+gaXAml2wYm9v5yiyhepVVUnHua1/BXj238YeH11KK2aEiRo3XORuB6g4GQevSotK0q2tvDdtprRK0AgEbIRwRjnNWdN06x0qxW00yCO3t4+kcYwAarlSYvbSaub39pxf3X/KlGpw+jflWNcxPNbSRxSmF2UhZFGSp9a5//AIRvWf8Aoarz/vwlHKh+2kd1/aMP+1+VH9owdyfyrhf+Eb1n/oarz/vwlXNM0jULG6Ml3rdxfIRgRyRqoB9eKfKg9tI68ahbn+P9DS/bbf8A56CsbpVbUbpbLTbi5c4WKNmJPsKTikNVpHBadd2/iX9oa4uDIHg0iAheeN2Mfzc/lXsIu4P+eq/nXhPwSt2u313XpRl7y52qx9Mkn+YrvfFmtjRNBlljbFzKRFbqOrOeBin7NJJC9u227HcteQKpPmL+dY91O1zIW6DoPaqGnxTQ6bbR3UhlnWNRI5/ibHJq7FEZpQi9/wBKpRUSZVHPQyNE1O80fWvsHibbtunJsL5V2pIP+ebf3XHbsRW5r/iBdJSO2tITealc/Lb2qnlj6seyjuao+MrqzGlro5thfXt4NltbDqCP4yf4QOuax/DEE3hXWvs3ihvPu7wAQak5JDD/AJ55PQj9awbudkYqKsdrpUV9DpsS6pPHPd4zK8a7VyecAeg6fhV2kBFLmgoRiFBJ4AHNeLeCLk6v8SfEWuE7trGGIn+EZx/IGvT/ABfqa6T4Q1O9Ztvl27YPuRgfzrzX4RWmzwk98w+a9mL5Pcf5Jq6cbyv2Mq0uWFl1O8NeN6XMbr9o+5Nt9yON1kI9kP8AWvWtU1W10PS7jUb51WOBMqpPLt2UfjXJfDbwZdK194t1CIpe6kxKxsMEJnOfx4rdSSnY5fZtwudsKWql7qtjpqg391FAD03tipre5hu4FmtpVliYZV0OQatGZJRRRQMSkNLSGmAhpKU0lAy9RRRXCAUtJS0ABrI1vw1LrWo6fq2mXMdrq+mMTC0qlklQ8FGxz+PatelVirAjgimXCfKypJp/irV4vs+o3ljpluwxIbANJK47gM2Av5GuhsrOKwsorS3DCKFQq7mLHHuT1p1tN50Ibv0NTUjtTuriYpaKKBhWZf2+xhIvRjzWnTXQOpVhkGmROPMrGFXP+MPCsHizR1tZJTbzwyCa3nC5Mbjpx3FdNcQGCQqenY1DVnE007HKQ2/jV7ZLSWfSbYKu03cavI5HqEOAD+JrZ0XR49GsPs8c01w7MZJZp33PI5PJPYfQcCtGlpk2EopTSUxhSUtJTEBrk/FfhvX/ABAs9tZeIIrCwnj2NCbLzG9zu3j+VdZSGgDzrQPAHifwzpS6dpPiy2jt1YsA2l7iSffzKkt/h7q9x4qtNZ8SeJTqiWjbo7YWnlIG7HhiP0r0Ckqr9RCdK1dOtysJkPDMOPYVRtIvOuVQ9OprdAwMCs5vodFCGvMY+k+HodNvbm/lle7v7lvnuZcZVM8IoH3VHoOvU1c1PS7XWNPks7+ESwuOncH1B7H3q5S1idZS0qxl07TYrWe7kvGiG0TSgbmGeM46kDjPerZHpTqRjtUk9AKe4HnfxA8J+IPEtndaf/wksNrp9yRtt1sNzKB6tvGeawdL8HeLtH0yDT7Dxbax28C7EU6UCQP+/legXExnmZz36e1T6dbedcbmGVTn6muiK5InDJupMwNH+HSyTxah4r1KfW7pDvSORBHBGfURjv8AUmu1f91CSq8KvCipaQ1hJ3O2KSVjyLwXpLeIbDUvFGqAvdX88kQ55togSoRf7vet/wAN6Zp2kaOtno0hltkdvnaTeS2eea6L/hENLWaZ4UmhSdy8sEUhWN2PUlfeo7jS4tNQLZxLHbjhUQYC1tTnpZnLVp2fMivRRRWxgJSGlpDTAQ0lKaSgZeooorhAKWkpaACiiimBPbXBgf1U9RWsjB1DKcg1hVesJ8N5TdD0oN6U7OzNGiiikdQUUUUAQ3EAnjKnr2NY7KVYqwwR2reqjfW28eanUdR61SZhVhdXRnUUUVZygaSlNJTAKSlpKYgpDS0hpgFJS1PaW/nzgH7q8tReyBK7sXtPtvLj8xvvMPyFXaQcdKWsG7s9CMeVWCiiikUFUdTufKi8tfvOOfYVbkcRxlm6AZNYFxMZ5mc9zwPQVcI3ZjWnyqyIqu6fdi3co4+Vj19Kp0ldDV1Y5IycXdHTAgjjmlrL02858mQk/wB01qCuWUWnY7oSUldBTZI1kQo4yD1p1FIswL6yNq4KnKN0PpVSulnhWeIpIOD+lYF1bPaybX5B6Ed66ac76M46lPld0QUhpaQ1qYiGkpTSUDP/2Q==)"
      ],
      "metadata": {
        "id": "bS_lqHWEIr9H"
      }
    },
    {
      "cell_type": "markdown",
      "source": [
        "    3.4 We repeat this process until our loss function is a very small value or ideally 0 (which means 0 error or 100% accuracy). The value of m and c that we are left with now will be the optimum values."
      ],
      "metadata": {
        "id": "ddjFi4FRIsSG"
      }
    },
    {
      "cell_type": "markdown",
      "metadata": {
        "id": "mj852tk2Wd7Y"
      },
      "source": [
        "Now to apply gradient descent from scratch in python we need our X and y variables as numpy arrays, Let's convert them."
      ]
    },
    {
      "cell_type": "code",
      "execution_count": 13,
      "metadata": {
        "id": "LpPXSVauWd7Y"
      },
      "outputs": [],
      "source": [
        "# Convert X and y into numpy arrays\n",
        "X = np.array(X)\n",
        "y = np.array(y)"
      ]
    },
    {
      "cell_type": "code",
      "execution_count": 14,
      "metadata": {
        "id": "UhZyA_B1Wd7Y"
      },
      "outputs": [],
      "source": [
        "# Initialising m=0\n",
        "m = 0\n",
        "\n",
        "# Initialising c=0\n",
        "c = 0\n",
        "\n",
        "# The learning Rate (here using 0.01)\n",
        "L =  0.01\n",
        "\n",
        "# The number of iterations to perform gradient descent (1000)\n",
        "epochs = 1000\n",
        "\n",
        "# Number of elements in y ( y should be of float type)\n",
        "n = float(len(y))\n",
        "\n",
        "# Create an empty dataframe gd_df with columns 'm_current', 'c_current' and 'cost'\n",
        "gd_df = pd.DataFrame(columns=['m_current', 'c_current', 'cost'])"
      ]
    },
    {
      "cell_type": "markdown",
      "metadata": {
        "id": "2yVcgcAMWd7Z"
      },
      "source": [
        "Performing Gradient Descent "
      ]
    },
    {
      "cell_type": "code",
      "execution_count": 15,
      "metadata": {
        "id": "RbXE4vsVWd7Z"
      },
      "outputs": [],
      "source": [
        "# iterate over range of epochs\n",
        "for i in range(epochs):\n",
        "\n",
        "    # The current predicted value of Y\n",
        "    Y_pred = m*X+c\n",
        "\n",
        "    # Calculate cost according to formula \n",
        "    cost = sum([data**2 for data in (y-Y_pred)]) / n\n",
        "\n",
        "    # Derivative w.r.t m\n",
        "    D_m = (-2/n) * sum(X * (y-Y_pred))\n",
        "\n",
        "    # Derivative w.r.t c\n",
        "    D_c = (-2/n) * sum(y-Y_pred)\n",
        "\n",
        "    # Update m\n",
        "    m = m-L * D_m \n",
        "\n",
        "    # Update c\n",
        "    c = c - L * D_c\n",
        "\n",
        "    # get m,c and cost value at each epochs in gd_df\n",
        "    gd_df.loc[i] = [m, c, cost]"
      ]
    },
    {
      "cell_type": "code",
      "execution_count": 16,
      "metadata": {
        "id": "ys3f7CzLWd7Z",
        "outputId": "f6dcb26a-d53f-4057-d3c6-8908b8f07032",
        "colab": {
          "base_uri": "https://localhost:8080/",
          "height": 423
        }
      },
      "outputs": [
        {
          "output_type": "execute_result",
          "data": {
            "text/html": [
              "\n",
              "  <div id=\"df-1319929d-13ba-4817-9e0b-f854feffec4d\">\n",
              "    <div class=\"colab-df-container\">\n",
              "      <div>\n",
              "<style scoped>\n",
              "    .dataframe tbody tr th:only-of-type {\n",
              "        vertical-align: middle;\n",
              "    }\n",
              "\n",
              "    .dataframe tbody tr th {\n",
              "        vertical-align: top;\n",
              "    }\n",
              "\n",
              "    .dataframe thead th {\n",
              "        text-align: right;\n",
              "    }\n",
              "</style>\n",
              "<table border=\"1\" class=\"dataframe\">\n",
              "  <thead>\n",
              "    <tr style=\"text-align: right;\">\n",
              "      <th></th>\n",
              "      <th>m_current</th>\n",
              "      <th>c_current</th>\n",
              "      <th>cost</th>\n",
              "    </tr>\n",
              "  </thead>\n",
              "  <tbody>\n",
              "    <tr>\n",
              "      <th>0</th>\n",
              "      <td>0.010700</td>\n",
              "      <td>3.731979e-18</td>\n",
              "      <td>0.998165</td>\n",
              "    </tr>\n",
              "    <tr>\n",
              "      <th>1</th>\n",
              "      <td>0.021187</td>\n",
              "      <td>1.981697e-17</td>\n",
              "      <td>0.986830</td>\n",
              "    </tr>\n",
              "    <tr>\n",
              "      <th>2</th>\n",
              "      <td>0.031464</td>\n",
              "      <td>2.998621e-17</td>\n",
              "      <td>0.975943</td>\n",
              "    </tr>\n",
              "    <tr>\n",
              "      <th>3</th>\n",
              "      <td>0.041536</td>\n",
              "      <td>2.656387e-17</td>\n",
              "      <td>0.965486</td>\n",
              "    </tr>\n",
              "    <tr>\n",
              "      <th>4</th>\n",
              "      <td>0.051407</td>\n",
              "      <td>2.433120e-17</td>\n",
              "      <td>0.955442</td>\n",
              "    </tr>\n",
              "    <tr>\n",
              "      <th>...</th>\n",
              "      <td>...</td>\n",
              "      <td>...</td>\n",
              "      <td>...</td>\n",
              "    </tr>\n",
              "    <tr>\n",
              "      <th>995</th>\n",
              "      <td>0.535997</td>\n",
              "      <td>2.741375e-16</td>\n",
              "      <td>0.711399</td>\n",
              "    </tr>\n",
              "    <tr>\n",
              "      <th>996</th>\n",
              "      <td>0.535997</td>\n",
              "      <td>2.679610e-16</td>\n",
              "      <td>0.711399</td>\n",
              "    </tr>\n",
              "    <tr>\n",
              "      <th>997</th>\n",
              "      <td>0.535997</td>\n",
              "      <td>2.660787e-16</td>\n",
              "      <td>0.711399</td>\n",
              "    </tr>\n",
              "    <tr>\n",
              "      <th>998</th>\n",
              "      <td>0.535997</td>\n",
              "      <td>2.639846e-16</td>\n",
              "      <td>0.711399</td>\n",
              "    </tr>\n",
              "    <tr>\n",
              "      <th>999</th>\n",
              "      <td>0.535997</td>\n",
              "      <td>2.666165e-16</td>\n",
              "      <td>0.711399</td>\n",
              "    </tr>\n",
              "  </tbody>\n",
              "</table>\n",
              "<p>1000 rows × 3 columns</p>\n",
              "</div>\n",
              "      <button class=\"colab-df-convert\" onclick=\"convertToInteractive('df-1319929d-13ba-4817-9e0b-f854feffec4d')\"\n",
              "              title=\"Convert this dataframe to an interactive table.\"\n",
              "              style=\"display:none;\">\n",
              "        \n",
              "  <svg xmlns=\"http://www.w3.org/2000/svg\" height=\"24px\"viewBox=\"0 0 24 24\"\n",
              "       width=\"24px\">\n",
              "    <path d=\"M0 0h24v24H0V0z\" fill=\"none\"/>\n",
              "    <path d=\"M18.56 5.44l.94 2.06.94-2.06 2.06-.94-2.06-.94-.94-2.06-.94 2.06-2.06.94zm-11 1L8.5 8.5l.94-2.06 2.06-.94-2.06-.94L8.5 2.5l-.94 2.06-2.06.94zm10 10l.94 2.06.94-2.06 2.06-.94-2.06-.94-.94-2.06-.94 2.06-2.06.94z\"/><path d=\"M17.41 7.96l-1.37-1.37c-.4-.4-.92-.59-1.43-.59-.52 0-1.04.2-1.43.59L10.3 9.45l-7.72 7.72c-.78.78-.78 2.05 0 2.83L4 21.41c.39.39.9.59 1.41.59.51 0 1.02-.2 1.41-.59l7.78-7.78 2.81-2.81c.8-.78.8-2.07 0-2.86zM5.41 20L4 18.59l7.72-7.72 1.47 1.35L5.41 20z\"/>\n",
              "  </svg>\n",
              "      </button>\n",
              "      \n",
              "  <style>\n",
              "    .colab-df-container {\n",
              "      display:flex;\n",
              "      flex-wrap:wrap;\n",
              "      gap: 12px;\n",
              "    }\n",
              "\n",
              "    .colab-df-convert {\n",
              "      background-color: #E8F0FE;\n",
              "      border: none;\n",
              "      border-radius: 50%;\n",
              "      cursor: pointer;\n",
              "      display: none;\n",
              "      fill: #1967D2;\n",
              "      height: 32px;\n",
              "      padding: 0 0 0 0;\n",
              "      width: 32px;\n",
              "    }\n",
              "\n",
              "    .colab-df-convert:hover {\n",
              "      background-color: #E2EBFA;\n",
              "      box-shadow: 0px 1px 2px rgba(60, 64, 67, 0.3), 0px 1px 3px 1px rgba(60, 64, 67, 0.15);\n",
              "      fill: #174EA6;\n",
              "    }\n",
              "\n",
              "    [theme=dark] .colab-df-convert {\n",
              "      background-color: #3B4455;\n",
              "      fill: #D2E3FC;\n",
              "    }\n",
              "\n",
              "    [theme=dark] .colab-df-convert:hover {\n",
              "      background-color: #434B5C;\n",
              "      box-shadow: 0px 1px 3px 1px rgba(0, 0, 0, 0.15);\n",
              "      filter: drop-shadow(0px 1px 2px rgba(0, 0, 0, 0.3));\n",
              "      fill: #FFFFFF;\n",
              "    }\n",
              "  </style>\n",
              "\n",
              "      <script>\n",
              "        const buttonEl =\n",
              "          document.querySelector('#df-1319929d-13ba-4817-9e0b-f854feffec4d button.colab-df-convert');\n",
              "        buttonEl.style.display =\n",
              "          google.colab.kernel.accessAllowed ? 'block' : 'none';\n",
              "\n",
              "        async function convertToInteractive(key) {\n",
              "          const element = document.querySelector('#df-1319929d-13ba-4817-9e0b-f854feffec4d');\n",
              "          const dataTable =\n",
              "            await google.colab.kernel.invokeFunction('convertToInteractive',\n",
              "                                                     [key], {});\n",
              "          if (!dataTable) return;\n",
              "\n",
              "          const docLinkHtml = 'Like what you see? Visit the ' +\n",
              "            '<a target=\"_blank\" href=https://colab.research.google.com/notebooks/data_table.ipynb>data table notebook</a>'\n",
              "            + ' to learn more about interactive tables.';\n",
              "          element.innerHTML = '';\n",
              "          dataTable['output_type'] = 'display_data';\n",
              "          await google.colab.output.renderOutput(dataTable, element);\n",
              "          const docLink = document.createElement('div');\n",
              "          docLink.innerHTML = docLinkHtml;\n",
              "          element.appendChild(docLink);\n",
              "        }\n",
              "      </script>\n",
              "    </div>\n",
              "  </div>\n",
              "  "
            ],
            "text/plain": [
              "     m_current     c_current      cost\n",
              "0     0.010700  3.731979e-18  0.998165\n",
              "1     0.021187  1.981697e-17  0.986830\n",
              "2     0.031464  2.998621e-17  0.975943\n",
              "3     0.041536  2.656387e-17  0.965486\n",
              "4     0.051407  2.433120e-17  0.955442\n",
              "..         ...           ...       ...\n",
              "995   0.535997  2.741375e-16  0.711399\n",
              "996   0.535997  2.679610e-16  0.711399\n",
              "997   0.535997  2.660787e-16  0.711399\n",
              "998   0.535997  2.639846e-16  0.711399\n",
              "999   0.535997  2.666165e-16  0.711399\n",
              "\n",
              "[1000 rows x 3 columns]"
            ]
          },
          "metadata": {},
          "execution_count": 16
        }
      ],
      "source": [
        "# print gd_df\n",
        "gd_df"
      ]
    },
    {
      "cell_type": "code",
      "execution_count": 17,
      "metadata": {
        "id": "l7ZskwFSWd7Z",
        "outputId": "002053aa-4c41-4a7f-bb3e-739c48367022",
        "colab": {
          "base_uri": "https://localhost:8080/",
          "height": 265
        }
      },
      "outputs": [
        {
          "output_type": "display_data",
          "data": {
            "image/png": "[encoded data removed]",
            "text/plain": [
              "<Figure size 432x288 with 1 Axes>"
            ]
          },
          "metadata": {
            "needs_background": "light"
          }
        }
      ],
      "source": [
        "# Making predictions\n",
        "Y_pred = m*X + c\n",
        "\n",
        "# Plotting parity plot as shown\n",
        "plt.scatter(X, y)\n",
        "plt.plot([min(X), max(X)], [min(Y_pred), max(Y_pred)], color='red')\n",
        "plt.show()"
      ]
    },
    {
      "cell_type": "code",
      "execution_count": 18,
      "metadata": {
        "id": "3_ChmJImWd7Z",
        "outputId": "c16a1087-8cbe-4f53-d1dd-d5f0714eb8ce",
        "colab": {
          "base_uri": "https://localhost:8080/",
          "height": 265
        }
      },
      "outputs": [
        {
          "output_type": "display_data",
          "data": {
            "image/png": "[encoded data removed]",
            "text/plain": [
              "<Figure size 432x288 with 1 Axes>"
            ]
          },
          "metadata": {
            "needs_background": "light"
          }
        }
      ],
      "source": [
        "# plotting cost against num_iterations\n",
        "plt.plot(gd_df.index, gd_df['cost'])\n",
        "plt.show()"
      ]
    },
    {
      "cell_type": "markdown",
      "metadata": {
        "id": "DX3JZbKcWd7Z"
      },
      "source": [
        "Above is a plot of all of the values for the cost function over the 1000 iterations that you should see. I think that 100 iterations or 100 epochs is a nice round number and a good place to stop, because in graph you can see that error becomes constant after 100th iteration. You could keep going if you wanted.\n",
        "\n"
      ]
    },
    {
      "cell_type": "code",
      "execution_count": 19,
      "metadata": {
        "id": "XFdF8prZWd7Z",
        "outputId": "850ec892-ab6e-40d1-b92e-ffce7214f6f0",
        "colab": {
          "base_uri": "https://localhost:8080/"
        }
      },
      "outputs": [
        {
          "output_type": "stream",
          "name": "stdout",
          "text": [
            "0.5359973448415949 2.66616494427413e-16\n"
          ]
        }
      ],
      "source": [
        "# print final m and c value\n",
        "print(m, c)"
      ]
    },
    {
      "cell_type": "markdown",
      "metadata": {
        "id": "SeU1yfFDWd7a"
      },
      "source": [
        "Hence optimum slope/weight would be 0.53 and intercept/bias would be 2.66. This value would reduce the error and gives the best fit line for simple linear regression problem."
      ]
    },
    {
      "cell_type": "markdown",
      "metadata": {
        "id": "TXg2wb3sWd7a"
      },
      "source": [
        "### Multiple Regression: Applying Gradient Descent for Multiple (>1) Features\n",
        "\n",
        "Now you know how to optimize simple linear regression. Lets try it for multiple linear regression.\n",
        "\n",
        "If we have multiple independent variables, the formula for linear regression will look like:"
      ]
    },
    {
      "cell_type": "markdown",
      "source": [
        "![Adhesive_3.JPG](data:image/jpeg;base64,/9j/4AAQSkZJRgABAQEAeAB4AAD/4REiRXhpZgAATU0AKgAAAAgABAE7AAIAAAAdAAAISodpAAQAAAABAAAIaJydAAEAAAA6AAAQ4OocAAcAAAgMAAAAPgAAAAAc6gAAAAgAAAAAAAAAAAAAAAAAAAAAAAAAAAAAAAAAAAAAAAAAAAAAAAAAAAAAAAAAAAAAAAAAAAAAAAAAAAAAAAAAAAAAAAAAAAAAAAAAAAAAAAAAAAAAAAAAAAAAAAAAAAAAAAAAAAAAAAAAAAAAAAAAAAAAAAAAAAAAAAAAAAAAAAAAAAAAAAAAAAAAAAAAAAAAAAAAAAAAAAAAAAAAAAAAAAAAAAAAAAAAAAAAAAAAAAAAAAAAAAAAAAAAAAAAAAAAAAAAAAAAAAAAAAAAAAAAAAAAAAAAAAAAAAAAAAAAAAAAAAAAAAAAAAAAAAAAAAAAAAAAAAAAAAAAAAAAAAAAAAAAAAAAAAAAAAAAAAAAAAAAAAAAAAAAAAAAAAAAAAAAAAAAAAAAAAAAAAAAAAAAAAAAAAAAAAAAAAAAAAAAAAAAAAAAAAAAAAAAAAAAAAAAAAAAAAAAAAAAAAAAAAAAAAAAAAAAAAAAAAAAAAAAAAAAAAAAAAAAAAAAAAAAAAAAAAAAAAAAAAAAAAAAAAAAAAAAAAAAAAAAAAAAAAAAAAAAAAAAAAAAAAAAAAAAAAAAAAAAAAAAAAAAAAAAAAAAAAAAAAAAAAAAAAAAAAAAAAAAAAAAAAAAAAAAAAAAAAAAAAAAAAAAAAAAAAAAAAAAAAAAAAAAAAAAAAAAAAAAAAAAAAAAAAAAAAAAAAAAAAAAAAAAAAAAAAAAAAAAAAAAAAAAAAAAAAAAAAAAAAAAAAAAAAAAAAAAAAAAAAAAAAAAAAAAAAAAAAAAAAAAAAAAAAAAAAAAAAAAAAAAAAAAAAAAAAAAAAAAAAAAAAAAAAAAAAAAAAAAAAAAAAAAAAAAAAAAAAAAAAAAAAAAAAAAAAAAAAAAAAAAAAAAAAAAAAAAAAAAAAAAAAAAAAAAAAAAAAAAAAAAAAAAAAAAAAAAAAAAAAAAAAAAAAAAAAAAAAAAAAAAAAAAAAAAAAAAAAAAAAAAAAAAAAAAAAAAAAAAAAAAAAAAAAAAAAAAAAAAAAAAAAAAAAAAAAAAAAAAAAAAAAAAAAAAAAAAAAAAAAAAAAAAAAAAAAAAAAAAAAAAAAAAAAAAAAAAAAAAAAAAAAAAAAAAAAAAAAAAAAAAAAAAAAAAAAAAAAAAAAAAAAAAAAAAAAAAAAAAAAAAAAAAAAAAAAAAAAAAAAAAAAAAAAAAAAAAAAAAAAAAAAAAAAAAAAAAAAAAAAAAAAAAAAAAAAAAAAAAAAAAAAAAAAAAAAAAAAAAAAAAAAAAAAAAAAAAAAAAAAAAAAAAAAAAAAAAAAAAAAAAAAAAAAAAAAAAAAAAAAAAAAAAAAAAAAAAAAAAAAAAAAAAAAAAAAAAAAAAAAAAAAAAAAAAAAAAAAAAAAAAAAAAAAAAAAAAAAAAAAAAAAAAAAAAAAAAAAAAAAAAAAAAAAAAAAAAAAAAAAAAAAAAAAAAAAAAAAAAAAAAAAAAAAAAAAAAAAAAAAAAAAAAAAAAAAAAAAAAAAAAAAAAAAAAAAAAAAAAAAAAAAAAAAAAAAAAAAAAAAAAAAAAAAAAAAAAAAAAAAAAAAAAAAAAAAAAAAAAAAAAAAAAAAAAAAAAAAAAAAAAAAAAAAAAAAAAAAAAAAAAAAAAAAAAAAAAAAAAAAAAAAAAAAAAAAAAAAAAAAAAAAAAAAAAAAAAAAAAAAAAAAAAAAAAAAAAAAAAAAAAAAAAAAAAAAAAAAAAAAAAAAAAAAAAAAAAAAAAAAAAAAAAAAAAAAAAAAAAAAAAAAAAAAAAAAAAAAAAAAAAAAAAAAAAAAAAAAAAAAAAAAAAAAAAAAAAAAAAAAAAAAAAAAAAAAAAAAAAAAAAAAAAAAAAAAAAAAAAAAAAAAAAAAAAAAAAAAAAAAAAAAAAAAAAAAAAAAAAAAAAAAAAAAAAAAAAAAAAAAAAAAAAAAAAAAAAAAAAAAAAAAAAAAAAAAAAAAAAAAAAAAAAAAAAAAAAAAAAAAAAAAAAAAAAAAAAAAAAAAAAAAAAAAAAAAAAAAAAAAAAAAAAAAAAAAAAAAAAAAAAAAAAAAAAAAAAAAAAAAAAAAAAAAAAAAAAAAAAAAAAAAAAAAAAAAAAAAAAAAAAAAAAAAAAAAAAAAAAAAAAAAAAAAAAAAAAAAAAAAAAAAAAAAAAAAAAAAAAAAAAAAAAAAAAAAAAAAAAAAAAAAAAAAAAAAAAAAAAAAAAAAAAAAAAAAAAAAAAAAAAAAAAAAAAAAAAAAAAAAAAAAAAAAAAAAAAAAAAAAAAAAAAAAAAAAAAAAAAAAAAAAAAAAAAAAAAAAAAAAAAAAAAAAAAAAAAAAAAAAAAAAAAAAAAAAAAAAAAAAAAAAAAAAAAAAAAAAAAAAAAAAAAAAAAAAAAAAAAAAAAAAAAAAAAAAAAAAAAAAAAAAAAAAAAAAAAAAAAAAAAAAAAAAAAAAAAAAAAAAAAAAAAAAAAAAAAAAAAAAAAAAAAAAAAAAAAAAAAAAAAAAAAAAAAAAAAAAAAAAAAAAAAAAAAAAAAAAAAAAAAAAAAAAAAAAAAAAAAAAAAAAAAAAAAAAAAAAAAAAAAAAAAAAAAAAAAAAAAAAAAAAAAAAAAAAAAAAAAAAAAAAAAAAAAAAAAAAAAAAAAAAAAAAAAAAAAAAAAAAAAAAAAAAAAAAAAAAAAAAAAAAAAAAAAAAAAAAAAAAAAAAAAAAAAAAAAAAAAAAAAAAAAAAAAAAAAAAAAAAAAAAAAAAAAAAAAAAAAAEFudWdhbnRpIFN1cmVzaCAoQ29uc3VsdGFudCkAAAAFkAMAAgAAABQAABC2kAQAAgAAABQAABDKkpEAAgAAAAM5NQAAkpIAAgAAAAM5NQAA6hwABwAACAwAAAiqAAAAABzqAAAACAAAAAAAAAAAAAAAAAAAAAAAAAAAAAAAAAAAAAAAAAAAAAAAAAAAAAAAAAAAAAAAAAAAAAAAAAAAAAAAAAAAAAAAAAAAAAAAAAAAAAAAAAAAAAAAAAAAAAAAAAAAAAAAAAAAAAAAAAAAAAAAAAAAAAAAAAAAAAAAAAAAAAAAAAAAAAAAAAAAAAAAAAAAAAAAAAAAAAAAAAAAAAAAAAAAAAAAAAAAAAAAAAAAAAAAAAAAAAAAAAAAAAAAAAAAAAAAAAAAAAAAAAAAAAAAAAAAAAAAAAAAAAAAAAAAAAAAAAAAAAAAAAAAAAAAAAAAAAAAAAAAAAAAAAAAAAAAAAAAAAAAAAAAAAAAAAAAAAAAAAAAAAAAAAAAAAAAAAAAAAAAAAAAAAAAAAAAAAAAAAAAAAAAAAAAAAAAAAAAAAAAAAAAAAAAAAAAAAAAAAAAAAAAAAAAAAAAAAAAAAAAAAAAAAAAAAAAAAAAAAAAAAAAAAAAAAAAAAAAAAAAAAAAAAAAAAAAAAAAAAAAAAAAAAAAAAAAAAAAAAAAAAAAAAAAAAAAAAAAAAAAAAAAAAAAAAAAAAAAAAAAAAAAAAAAAAAAAAAAAAAAAAAAAAAAAAAAAAAAAAAAAAAAAAAAAAAAAAAAAAAAAAAAAAAAAAAAAAAAAAAAAAAAAAAAAAAAAAAAAAAAAAAAAAAAAAAAAAAAAAAAAAAAAAAAAAAAAAAAAAAAAAAAAAAAAAAAAAAAAAAAAAAAAAAAAAAAAAAAAAAAAAAAAAAAAAAAAAAAAAAAAAAAAAAAAAAAAAAAAAAAAAAAAAAAAAAAAAAAAAAAAAAAAAAAAAAAAAAAAAAAAAAAAAAAAAAAAAAAAAAAAAAAAAAAAAAAAAAAAAAAAAAAAAAAAAAAAAAAAAAAAAAAAAAAAAAAAAAAAAAAAAAAAAAAAAAAAAAAAAAAAAAAAAAAAAAAAAAAAAAAAAAAAAAAAAAAAAAAAAAAAAAAAAAAAAAAAAAAAAAAAAAAAAAAAAAAAAAAAAAAAAAAAAAAAAAAAAAAAAAAAAAAAAAAAAAAAAAAAAAAAAAAAAAAAAAAAAAAAAAAAAAAAAAAAAAAAAAAAAAAAAAAAAAAAAAAAAAAAAAAAAAAAAAAAAAAAAAAAAAAAAAAAAAAAAAAAAAAAAAAAAAAAAAAAAAAAAAAAAAAAAAAAAAAAAAAAAAAAAAAAAAAAAAAAAAAAAAAAAAAAAAAAAAAAAAAAAAAAAAAAAAAAAAAAAAAAAAAAAAAAAAAAAAAAAAAAAAAAAAAAAAAAAAAAAAAAAAAAAAAAAAAAAAAAAAAAAAAAAAAAAAAAAAAAAAAAAAAAAAAAAAAAAAAAAAAAAAAAAAAAAAAAAAAAAAAAAAAAAAAAAAAAAAAAAAAAAAAAAAAAAAAAAAAAAAAAAAAAAAAAAAAAAAAAAAAAAAAAAAAAAAAAAAAAAAAAAAAAAAAAAAAAAAAAAAAAAAAAAAAAAAAAAAAAAAAAAAAAAAAAAAAAAAAAAAAAAAAAAAAAAAAAAAAAAAAAAAAAAAAAAAAAAAAAAAAAAAAAAAAAAAAAAAAAAAAAAAAAAAAAAAAAAAAAAAAAAAAAAAAAAAAAAAAAAAAAAAAAAAAAAAAAAAAAAAAAAAAAAAAAAAAAAAAAAAAAAAAAAAAAAAAAAAAAAAAAAAAAAAAAAAAAAAAAAAAAAAAAAAAAAAAAAAAAAAAAAAAAAAAAAAAAAAAAAAAAAAAAAAAAAAAAAAAAAAAAAAAAAAAAAAAAAAAAAAAAAAAAAAAAAAAAAAAAAAAAAAAAAAAAAAAAAAAAAAAAAAAAAAAAAAAAAAAAAAAAAAAAAAAAAAAAAAAAAAAAAAAAAAAAAAAAAAAAAAAAAAAAAAAAAAAAAAAAAAAAAAAAAAAAAAAAAAAAAAAAAAAAAAAAAAAAAAAAAAAAAAAAAAAAAAAAAAAAAAAAAAAAAAAAAAAAAAAAAAAAAAAAAAAAAAAAAAAAAAAAAAAAAAAAAAAAAAAAAAAAAAAAAAAAAAAAAAAAAAAAAAAAAAAAAAAAAAAAAAAAAAAAAAAAAAAAAAAAAAAAAAAAAAAAAAAAAAAAAAAAAAAAAAAAAAAAAAAAAAAAAAAAAAAAAAAAAAAAAAAAAAAAAAAAAAAAAAAAAAAAAAAAAAAAAAAAAAAAAAAAAAAAAAAAAAAAAAAAAAAAAAAAAAAAAAAAAAAAAAAAAAAAAAAAAAAAAAAAAAAAAAAAAAAAAAAAAAAAAAAAAAAAAAAAAAAAAAAAAAAAAAAAAAAAAAAAAAAAAAAAAAAAAAAAAAAAAAAAAAAAAAAAAAAAAAAAAAAAAAAAAAAAAAAAAAAAAAAAAAAAAAAAAAAAAAAAAAAAAAAAAAAAAAAAAAAAAAAAAAAAAAAAAAAAAAAAAAAAAAAAAAAAAAAAAAAAAAAAAAAAAAAAAAAAAAAAAAAAAAAAAAAAAAAAAAAAAAAAAAAAAAAAAAAAAAAAAAAAAAAAAAAAAAAAAAAAAAAAAAAAAAAAAAAAAAAAAAAAAAAAAAAAAAAAAAAAAAAAAAAAAAAAAAAAAAAAAAAAAAAAAAAAAAAAAAAAAAAAAAAAAAAAAAAAAAAAAAAAAAAAAAAAAAAAAAAAAAAAAAAAAAAAAAAAAAAAAAAAAAAAAAAAAAAAAAAAAAAAAAAAAAAAAAAAAAAAAAAAAAAAAAAAAAAAAAAAAAAAAAAAAAAAAAAAAAAAAAAAAAAAAAAMjAyMjowMToxOCAxMzoxMzowNwAyMDIyOjAxOjE4IDEzOjEzOjA3AAAAQQBuAHUAZwBhAG4AdABpACAAUwB1AHIAZQBzAGgAIAAoAEMAbwBuAHMAdQBsAHQAYQBuAHQAKQAAAP/hCy9odHRwOi8vbnMuYWRvYmUuY29tL3hhcC8xLjAvADw/eHBhY2tldCBiZWdpbj0n77u/JyBpZD0nVzVNME1wQ2VoaUh6cmVTek5UY3prYzlkJz8+DQo8eDp4bXBtZXRhIHhtbG5zOng9ImFkb2JlOm5zOm1ldGEvIj48cmRmOlJERiB4bWxuczpyZGY9Imh0dHA6Ly93d3cudzMub3JnLzE5OTkvMDIvMjItcmRmLXN5bnRheC1ucyMiPjxyZGY6RGVzY3JpcHRpb24gcmRmOmFib3V0PSJ1dWlkOmZhZjViZGQ1LWJhM2QtMTFkYS1hZDMxLWQzM2Q3NTE4MmYxYiIgeG1sbnM6ZGM9Imh0dHA6Ly9wdXJsLm9yZy9kYy9lbGVtZW50cy8xLjEvIi8+PHJkZjpEZXNjcmlwdGlvbiByZGY6YWJvdXQ9InV1aWQ6ZmFmNWJkZDUtYmEzZC0xMWRhLWFkMzEtZDMzZDc1MTgyZjFiIiB4bWxuczp4bXA9Imh0dHA6Ly9ucy5hZG9iZS5jb20veGFwLzEuMC8iPjx4bXA6Q3JlYXRlRGF0ZT4yMDIyLTAxLTE4VDEzOjEzOjA3Ljk1MTwveG1wOkNyZWF0ZURhdGU+PC9yZGY6RGVzY3JpcHRpb24+PHJkZjpEZXNjcmlwdGlvbiByZGY6YWJvdXQ9InV1aWQ6ZmFmNWJkZDUtYmEzZC0xMWRhLWFkMzEtZDMzZDc1MTgyZjFiIiB4bWxuczpkYz0iaHR0cDovL3B1cmwub3JnL2RjL2VsZW1lbnRzLzEuMS8iPjxkYzpjcmVhdG9yPjxyZGY6U2VxIHhtbG5zOnJkZj0iaHR0cDovL3d3dy53My5vcmcvMTk5OS8wMi8yMi1yZGYtc3ludGF4LW5zIyI+PHJkZjpsaT5BbnVnYW50aSBTdXJlc2ggKENvbnN1bHRhbnQpPC9yZGY6bGk+PC9yZGY6U2VxPg0KCQkJPC9kYzpjcmVhdG9yPjwvcmRmOkRlc2NyaXB0aW9uPjwvcmRmOlJERj48L3g6eG1wbWV0YT4NCiAgICAgICAgICAgICAgICAgICAgICAgICAgICAgICAgICAgICAgICAgICAgICAgICAgICAgICAgICAgICAgICAgICAgICAgICAgICAgICAgICAgICAgICAgICAgICAgICAgICAKICAgICAgICAgICAgICAgICAgICAgICAgICAgICAgICAgICAgICAgICAgICAgICAgICAgICAgICAgICAgICAgICAgICAgICAgICAgICAgICAgICAgICAgICAgICAgICAgICAgIAogICAgICAgICAgICAgICAgICAgICAgICAgICAgICAgICAgICAgICAgICAgICAgICAgICAgICAgICAgICAgICAgICAgICAgICAgICAgICAgICAgICAgICAgICAgICAgICAgICAgCiAgICAgICAgICAgICAgICAgICAgICAgICAgICAgICAgICAgICAgICAgICAgICAgICAgICAgICAgICAgICAgICAgICAgICAgICAgICAgICAgICAgICAgICAgICAgICAgICAgICAKICAgICAgICAgICAgICAgICAgICAgICAgICAgICAgICAgICAgICAgICAgICAgICAgICAgICAgICAgICAgICAgICAgICAgICAgICAgICAgICAgICAgICAgICAgICAgICAgICAgIAogICAgICAgICAgICAgICAgICAgICAgICAgICAgICAgICAgICAgICAgICAgICAgICAgICAgICAgICAgICAgICAgICAgICAgICAgICAgICAgICAgICAgICAgICAgICAgICAgICAgCiAgICAgICAgICAgICAgICAgICAgICAgICAgICAgICAgICAgICAgICAgICAgICAgICAgICAgICAgICAgICAgICAgICAgICAgICAgICAgICAgICAgICAgICAgICAgICAgICAgICAKICAgICAgICAgICAgICAgICAgICAgICAgICAgICAgICAgICAgICAgICAgICAgICAgICAgICAgICAgICAgICAgICAgICAgICAgICAgICAgICAgICAgICAgICAgICAgICAgICAgIAogICAgICAgICAgICAgICAgICAgICAgICAgICAgICAgICAgICAgICAgICAgICAgICAgICAgICAgICAgICAgICAgICAgICAgICAgICAgICAgICAgICAgICAgICAgICAgICAgICAgCiAgICAgICAgICAgICAgICAgICAgICAgICAgICAgICAgICAgICAgICAgICAgICAgICAgICAgICAgICAgICAgICAgICAgICAgICAgICAgICAgICAgICAgICAgICAgICAgICAgICAKICAgICAgICAgICAgICAgICAgICAgICAgICAgICAgICAgICAgICAgICAgICAgICAgICAgICAgICAgICAgICAgICAgICAgICAgICAgICAgICAgICAgICAgICAgICAgICAgICAgIAogICAgICAgICAgICAgICAgICAgICAgICAgICAgICAgICAgICAgICAgICAgICAgICAgICAgICAgICAgICAgICAgICAgICAgICAgICAgICAgICAgICAgICAgICAgICAgICAgICAgCiAgICAgICAgICAgICAgICAgICAgICAgICAgICAgICAgICAgICAgICAgICAgICAgICAgICAgICAgICAgICAgICAgICAgICAgICAgICAgICAgICAgICAgICAgICAgICAgICAgICAKICAgICAgICAgICAgICAgICAgICAgICAgICAgICAgICAgICAgICAgICAgICAgICAgICAgICAgICAgICAgICAgICAgICAgICAgICAgICAgICAgICAgICAgICAgICAgICAgICAgIAogICAgICAgICAgICAgICAgICAgICAgICAgICAgICAgICAgICAgICAgICAgICAgICAgICAgICAgICAgICAgICAgICAgICAgICAgICAgICAgICAgICAgICAgICAgICAgICAgICAgCiAgICAgICAgICAgICAgICAgICAgICAgICAgICAgICAgICAgICAgICAgICAgICAgICAgICAgICAgICAgICAgICAgICAgICAgICAgICAgICAgICAgICAgICAgICAgICAgICAgICAKICAgICAgICAgICAgICAgICAgICAgICAgICAgICAgICAgICAgICAgICAgICAgICAgICAgICAgICAgICAgICAgICAgICAgICAgICAgICAgICAgICAgICAgICAgICAgICAgICAgIAogICAgICAgICAgICAgICAgICAgICAgICAgICAgICAgICAgICAgICAgICAgICAgICAgICAgICAgICAgICAgICAgICAgICAgICAgICAgICAgICAgICAgICAgICAgICAgICAgICAgCiAgICAgICAgICAgICAgICAgICAgICAgICAgICAgICAgICAgICAgICAgICAgICAgICAgICAgICAgICAgICAgICAgICAgICAgICAgICAgICAgICAgICAgICAgICAgICAgICAgICAKICAgICAgICAgICAgICAgICAgICAgICAgICAgICAgICAgICAgICAgICAgICAgICAgICAgICAgICAgICAgICAgICAgICAgICAgICAgICAgICAgICAgICAgICAgICAgICAgICAgIAogICAgICAgICAgICAgICAgICAgICAgICAgICAgPD94cGFja2V0IGVuZD0ndyc/Pv/bAEMABwUFBgUEBwYFBggHBwgKEQsKCQkKFQ8QDBEYFRoZGBUYFxseJyEbHSUdFxgiLiIlKCkrLCsaIC8zLyoyJyorKv/bAEMBBwgICgkKFAsLFCocGBwqKioqKioqKioqKioqKioqKioqKioqKioqKioqKioqKioqKioqKioqKioqKioqKioqKv/AABEIADcB4AMBIgACEQEDEQH/xAAfAAABBQEBAQEBAQAAAAAAAAAAAQIDBAUGBwgJCgv/xAC1EAACAQMDAgQDBQUEBAAAAX0BAgMABBEFEiExQQYTUWEHInEUMoGRoQgjQrHBFVLR8CQzYnKCCQoWFxgZGiUmJygpKjQ1Njc4OTpDREVGR0hJSlNUVVZXWFlaY2RlZmdoaWpzdHV2d3h5eoOEhYaHiImKkpOUlZaXmJmaoqOkpaanqKmqsrO0tba3uLm6wsPExcbHyMnK0tPU1dbX2Nna4eLj5OXm5+jp6vHy8/T19vf4+fr/xAAfAQADAQEBAQEBAQEBAAAAAAAAAQIDBAUGBwgJCgv/xAC1EQACAQIEBAMEBwUEBAABAncAAQIDEQQFITEGEkFRB2FxEyIygQgUQpGhscEJIzNS8BVictEKFiQ04SXxFxgZGiYnKCkqNTY3ODk6Q0RFRkdISUpTVFVWV1hZWmNkZWZnaGlqc3R1dnd4eXqCg4SFhoeIiYqSk5SVlpeYmZqio6Slpqeoqaqys7S1tre4ubrCw8TFxsfIycrS09TV1tfY2dri4+Tl5ufo6ery8/T19vf4+fr/2gAMAwEAAhEDEQA/APpGiiigAooooAKKKKACiiigAooooAKKKKACiiigAooooAKKKKACiiigAooooAKKKKACiiigAooooAKKKKACiiigAooooAKKKKACiiigAooooAKKKKACiiigAooooAKKKKACiiigAooooAKKKKACiiigAooooAKKKKACiiigDyH4iWNjf/HHwZHiOGW2gnvb6YnbmFMCPd7B93516RonijQ/Ennf2Fqltf8AkNtl8h92w+9eVW+ip4//AGiPEU965bStCs7exeIdLgtmTYf9kNkkd8DtV74YabZH4t+NtR0a1jtLCBksVjhXbGzDksAOO1AHrtVZNUsIZGjmvraN1OGVplBH4Zq1XiPi+b4Cr4u1IeLBB/bPnH7ZuS7J34/2Bt9OlAHsX9saZ/0EbT/v+v8AjViC5guo99tNHMmcbo2DD9K+fPP/AGafS2/7933+FerfDRvBL+GpD8N9n9l+ed+xZQPM7/6zmgDsax/FniSz8IeFb/XNRP7iziL7R1duiqPckgfjWxXk/wAc421geE/C/mtFBrGtQxXDLjPlg5OMgjPQjPpQAtzaeJZvhvd+LNc12/sdWNv9rhtbWZo4bYdVjKDhuODuzXdeCdZl8Q+CNJ1W5GJrq2V5OMZboT+leZfGbT7/AEfwOunweKtbvrnV50s4rWY2+1wTzwkKtgcdCK72LVLPwJ4c0HRJIbi9v5IVt7aytFVpZ3VMuRuZVAGCSWIA9aAOtorE8N+K7DxMt0trHcWt1ZymG6s7pAssD+hwSD9QSPete4877LL9l2efsPl+ZnbuxxnHbNAFTXbuWx8P311bELLDA7oSM4IGRWd4E1a713wHpGqai6yXV1bLJKyqFBY+w6VwWvx/Gn+wdQ+2TeCTa+Q/meWLrftxzjIxnFZvgKP4wnwDo50ObwaNP+zL9nF2LnzdvbdtGM/SgD2+uP8AiL4wm8K6TaQaVGs+s6tcC00+Jhkbz1cj0Ucn8K6bTRfDS7f+1zAb7yx55ts+Xv77c84+teUeKbKTxZ+0jpGk/brmxTRdFkv45rYpvWR5PLON6svTb2oAk8bvrPw+0LS9fPiDUr2++2RR3cMs5MMyswDKI/ur17CvXa8L8faLeal8TPCfhNdf1TVkacXt2l2YSsUaHr+7jU5+pr0/V/H+g6NrllpE88s97eXAt1S3jLiNyM4dvuqcc4znnpQB0teO251PQv2ipbDV/EWqNotzYtfWNvNeOYgw4dCCcEA7iB2GPSvYq8A+NF2fFNwur6PaedpXhOcJf36OQZy7KJYY8feCjAY56tgdDQB1Xh+z1jxj8R7zxHa69q1t4Wt3C21ot06x3Ui/eYLn7nt3r1Ws7R5tPXw5ZzWAigsPs6vGAQFRMZrN0Tx3oviLxHeaNpMk081nCk0kxiKxMr5xtJwW6dQMehNAHR0UVFdfaPsc32LyxceW3lebnZvxxuxzjOM0AUfEt7PpvhPVr60YLPbWU00TEZAZUJHHfkVW8E6pda34C0LVNQcPdXunwTzMqhQXZAScDpya858TR/GgeE9W/tKbwSbP7FN54gF15nl7Du25GM4zjNVvA8fxjPgDQTos3gwad/Z0H2UXQufNEfljbv2jG7GM44zQB7XRVfT/ALYNOt/7UMJvPLHnm3z5e/HO3POM+tWKAOA8S+JNS1bx7aeCPDNwbWXyTd6pfIMtbwg4Cr6MxwM9utUbbUL3wv8AGjTvDEep32oafqWmvcMt7O0zRSKSMhmyQD6Vg/DfRp/FXizxp4kTXdS02aTUzZj7GYuViGMHzI3/AExTfA1rLqfx18Ra1Pqd5qVjoMBso7q72Fi+PnHyKoI79KAPbaZNH50LxlmTepG5Gww+h7VxMvxX0mHT4tUk0nWF0WWYQrqpgj8ncW2gld/mAZ4zsxXavcRR2xuJJFSFV3l2OABjOaAPHfh/qd54c8eeN7Txl4j1C5j0hUltVvLpnQWz5bcATywwq5/xrZ+Gui+IL3Vr3xRrWtasdPupWbTdMuLpmVIj0LKTycdBXBeMLiHWviZoPjq508L4VlvU0cuzEG+GWZZWXp5Yk6Z67M9MV7xrWuaf4b0KbVNRcx2cCAkxoWOOwAFAGlRXJWnxCs5fEWn6NqWkatpNzqas1i17FHsuNoyQDG7bSBzhgDXW0AFc58QdYvPD/wAP9Y1XTHWO7tbV5ImZQwDAccHrWxqo1A6TcjRTbi/2H7Obrd5W7tu284+leMfEOP4vj4e6ydfl8HHTvsr/AGgWYufN2Y527hjP1oA9m0i4ku9Esbmc5lmt45HIGMkqCauV5Pokfxp/sfT/ACJvBP2XyI9m8XW/ZtGM8YzivVYfN+zx/aNvm7Rv2fd3Y5xntmgB9ee614h1LxH8Qh4N8OXT2UFpF5+rX0Q+dFJ+WJD2Y+vUCvQXYIjM3RRk14p8JdBufEreJvEw17U9NnvtWlhcWZhwyx8LnzI2PQ9iKAOh0XUr3QfjRL4S/tG9v9PuNNF4gvZmmeFwcEb25weuK9LrxD4c/wCk/E3xn4uv9Su77TtLBsYby5CsziP75+RVBHAxgV3C/FLTFOmTXmk6vZ6fqs6W9nqE8MYhkdzhRgOXXPYsoFAHX39qb3T57ZZpYDKhUSwuUdD6gjkGvHvhr4hn8PWHjJvHGv6heXOjXXlFbm5ZyIm/1exSfvN0GOelexXt9badYTXt9MsNvAheSRzgKB3rwCRkuvjfoHi7V9M+z6B4gna3tUkY5eaNT5M8i9MsThRzjGaAPQfhX4e8RW1pLrXinWdUuJbwlrewurppFt4z90EE/exXotZPiPxHYeFtJF/qfnGIyrCiQRl3d2OFUAev5Vm6X47tL/xOvh+90vUtI1KSA3EMV8keJowQCVaN3HGehINAHUUUVm+IRrZ0G5HhY2K6thfs51Df5Gdwzu2fN93OMd8UAYPxR8Q6h4X8CXGp6PKsV1HLEqsyBhhmAPB9q7CvAPinH8WB4CuD4ml8Itp/nRbxYC483dvG3G4YxnrXbWkfxq+2Q/bZvBBtvMXzvKF1v2Z+bbkYzjOM0Aek0UgztG7Gcc4rmIL7xg3xIurO40uzXwqtsrQXol/fPLxkFc+u7t0AOecAA6iiuXuL7xgvxGtrS30uzbwu0Baa9aXEqyY4AXPrjsfqKNYvvGEPjrSbbRtLs5/DssZN/dyy4kibJwFGf93sep6YoA6iiiigAoOcHHXtRRQBx/w/8F3HhE69PqF3HeXesapLetJGpAVGA2pz6YP51S8F+AtV8LX16r6tE9hcXzXgWJCJJM/wuT2HtXe0UAFQPZWsjl5LaFmPUtGCTU9FAFf+z7L/AJ9IP+/S/wCFSxQxwrthjSNeuEUAU+igArlPHHg5/FA0q7sblLXUtIvUvLWSRdyFl/hYehrq6KAOKtvBF3qXi628R+L7uG8ubJStla2ykQQE9XG7kt7ms3XyYf2gPCj3RxDLYXkdvkcCTapIz6lQa9HrM1vw7pXiKCKLV7QTiFxJE6u0bxN6q6kMp+hoA4rwijSfG/xxc25Bs/LtYjtHHmiMbvxr0is/R9D03QLRrbSbYQRu5dzuZ2dj1ZmYlmPuSa0KAKGuWkt/oF9aW4BlmgdEBOASRgVn+BdIu9B8CaRpeoqq3VrbLHKFbcAR79636KACuM1vwZfv4/t/GHhy6toNRWxawniu0YxyxFw4Py8gg12dFAHJ+F/BA0bWr7X9Wuv7Q1u/4luNuFjQdEQdlFYvxRSKLVPBpVURm11CxAAJ/dvzXo1cxrnw68M+JNTF/rVlcXNyrB0b7fcIsbAAAqquFU4A6AUASeN9K8Qa34dm0/wvqVvps9wCj3MysWRT1246H3rOXwTdW/wjXwjZtYx3Js/s0kpRvLZj96THXJPzfU11lhYwabYx2lr5nlRDC+bK8rY92ckn8TVigDk/h34Z1Xwr4Mt9C169t9Q+yjy4pYkYZT0OaxtG8tPj94iRNqgaVaDaO3L16G6CSNkbOGGDgkH8xXJ23wu8J2erHVLexu0viVLXH9p3Rd8dAxMnzD2ORQB11FFFAGZ4lsZtT8K6rYWgDT3VnNDGGOAWZCBz9TVbwVpdzofgPQtKv1Vbqy0+CCZVbcA6oAcHvyK3KKACiiigDz2y8Ca94eutai8LarZ2thrFw1yxmiYzW0jDDFMcH15rpPCHhLTvBmgJpmnAsMl5ppPvTOerMa3qbJGssTRuMq4KkA44NAHnviO70nxeJdOur22tfDWmzCW/laRV+0PGdwjH+ypGWPqAPWrfxD8LeIfGGjwaZoGrWen6c+03G9XLTIP4cj+Eiqz/AAI+G0sjSSeGUd2JZma7nJJPf79egRosUaxxjCqAqj0AoA4j4h+Bbzxb8PY/DWkS2WngGP53RisQTGNgHTpj6Vv6Ulxo/hKFPFN1bTSWkOJ7hQRGwUfew1bVUNb0TT/EWkT6XrEH2izuBtli8xk3D0ypB/WgDj7V9O8SeLNM8S6vdwQxWxeLRLRpBvZnX5pSPVlXgdgPeu/riNH+DngLQNXt9U0jw/HbXts26KUXEzbTjHQuR0NdvQAVznj/AEa88Q+AdY0rTVV7q7tXjiV22gsRxz2ro6KAKmk28lnotlbTACSG3jjcA55CgGrdFFAAQGUgjIPBFec6d8P/ABB4fsdV0jw3rNraaXqVzJcCVo2NxbmT72w9PoT0r0aigDC8O+HNI8D+FY9MsVWGytkLSSSH756s7H1PWuA8fpcabqPh7xHPqKa7pJ1SBbfTWjVUQudqSJt+8y5yM16xcW8V3bSW9zGJIpVKujdGB6iufsPh/wCGdNuoLi105t1s2+BZrmWWOFuxRHYqp9wBQBkePPCPiLxfeWEFnqVlbaNBKstxayo5a5xztYjjFM+KPgTVPG+g6bp2iXtnprWV2l0s0sbEoyAhdmOnU/pXfUUAZTTNZaDbrr15aw3TBYjOF+TzTwCob36Zrz/T4rzw/wDHKztdYuv7dn1XT5TBeyIFktFQglQo4CtkdO4FejaxomneINOax1i1W6tmYNsYkYYdCCCCCPUVV0fwlouhXb3WnWjC5dPLNxPPJPJsznaHkZiBnsDigDZooooA5D4n+HdQ8U+BbjS9IRHupJYnUO4UYVgTyfauvoooAKKKKACiiigAooooAKKKKACiiigAooooAKKKKACiiigAooooAKKKKACiiigAooooAKKKKACiiigAooooAKKKKACiiigAooooAKKKKACiiigAooooAKKKKACiiigAooooAKKKKACiiigAooooAKKKKACiiigAooooAKKKKACiiigAooooA//Z)"
      ],
      "metadata": {
        "id": "Re_R6aQ4JA7a"
      }
    },
    {
      "cell_type": "markdown",
      "source": [
        "Here, ‘h’ is called the hypothesis. This is the predicted output variable. Theta0 is the bias term and all the other theta values are coefficients. They are initiated randomly in the beginning, then optimized with the algorithm so that this formula can predict the dependent variable closely.\n",
        "\n",
        "We will first try with only 2 input variable i.e area and bedrooms"
      ],
      "metadata": {
        "id": "71KwFJSgJBO-"
      }
    },
    {
      "cell_type": "code",
      "execution_count": 20,
      "metadata": {
        "id": "H-5JQhLnWd7a"
      },
      "outputs": [],
      "source": [
        "# Assigning feature variable X (with area and bedroom)\n",
        "X = housing[['area', 'bedrooms']]\n",
        "\n",
        "# Assigning response variable y (price)\n",
        "y = housing['price']"
      ]
    },
    {
      "cell_type": "markdown",
      "metadata": {
        "id": "bIxnCFkzWd7a"
      },
      "source": [
        "1. Add a column of ones for the bias term. I chose 1 because if you multiply one with any value, that value does not change.\n",
        "\n",
        "The intercept column is needed for convenient matrix representation of cost function\n"
      ]
    },
    {
      "cell_type": "code",
      "execution_count": 21,
      "metadata": {
        "id": "xDwaH_WlWd7a",
        "outputId": "1425ff92-ae03-4f55-c4df-812ba6fb172d",
        "colab": {
          "base_uri": "https://localhost:8080/",
          "height": 310
        }
      },
      "outputs": [
        {
          "output_type": "stream",
          "name": "stderr",
          "text": [
            "/usr/local/lib/python3.7/dist-packages/ipykernel_launcher.py:2: SettingWithCopyWarning: \n",
            "A value is trying to be set on a copy of a slice from a DataFrame.\n",
            "Try using .loc[row_indexer,col_indexer] = value instead\n",
            "\n",
            "See the caveats in the documentation: https://pandas.pydata.org/pandas-docs/stable/user_guide/indexing.html#returning-a-view-versus-a-copy\n",
            "  \n"
          ]
        },
        {
          "output_type": "execute_result",
          "data": {
            "text/html": [
              "\n",
              "  <div id=\"df-c8a6d915-c295-41aa-8312-2424af136e5c\">\n",
              "    <div class=\"colab-df-container\">\n",
              "      <div>\n",
              "<style scoped>\n",
              "    .dataframe tbody tr th:only-of-type {\n",
              "        vertical-align: middle;\n",
              "    }\n",
              "\n",
              "    .dataframe tbody tr th {\n",
              "        vertical-align: top;\n",
              "    }\n",
              "\n",
              "    .dataframe thead th {\n",
              "        text-align: right;\n",
              "    }\n",
              "</style>\n",
              "<table border=\"1\" class=\"dataframe\">\n",
              "  <thead>\n",
              "    <tr style=\"text-align: right;\">\n",
              "      <th></th>\n",
              "      <th>intercept</th>\n",
              "      <th>area</th>\n",
              "      <th>bedrooms</th>\n",
              "    </tr>\n",
              "  </thead>\n",
              "  <tbody>\n",
              "    <tr>\n",
              "      <th>0</th>\n",
              "      <td>1</td>\n",
              "      <td>1.045766</td>\n",
              "      <td>1.402131</td>\n",
              "    </tr>\n",
              "    <tr>\n",
              "      <th>1</th>\n",
              "      <td>1</td>\n",
              "      <td>1.755397</td>\n",
              "      <td>1.402131</td>\n",
              "    </tr>\n",
              "    <tr>\n",
              "      <th>2</th>\n",
              "      <td>1</td>\n",
              "      <td>2.216196</td>\n",
              "      <td>0.047235</td>\n",
              "    </tr>\n",
              "    <tr>\n",
              "      <th>3</th>\n",
              "      <td>1</td>\n",
              "      <td>1.082630</td>\n",
              "      <td>1.402131</td>\n",
              "    </tr>\n",
              "    <tr>\n",
              "      <th>4</th>\n",
              "      <td>1</td>\n",
              "      <td>1.045766</td>\n",
              "      <td>1.402131</td>\n",
              "    </tr>\n",
              "  </tbody>\n",
              "</table>\n",
              "</div>\n",
              "      <button class=\"colab-df-convert\" onclick=\"convertToInteractive('df-c8a6d915-c295-41aa-8312-2424af136e5c')\"\n",
              "              title=\"Convert this dataframe to an interactive table.\"\n",
              "              style=\"display:none;\">\n",
              "        \n",
              "  <svg xmlns=\"http://www.w3.org/2000/svg\" height=\"24px\"viewBox=\"0 0 24 24\"\n",
              "       width=\"24px\">\n",
              "    <path d=\"M0 0h24v24H0V0z\" fill=\"none\"/>\n",
              "    <path d=\"M18.56 5.44l.94 2.06.94-2.06 2.06-.94-2.06-.94-.94-2.06-.94 2.06-2.06.94zm-11 1L8.5 8.5l.94-2.06 2.06-.94-2.06-.94L8.5 2.5l-.94 2.06-2.06.94zm10 10l.94 2.06.94-2.06 2.06-.94-2.06-.94-.94-2.06-.94 2.06-2.06.94z\"/><path d=\"M17.41 7.96l-1.37-1.37c-.4-.4-.92-.59-1.43-.59-.52 0-1.04.2-1.43.59L10.3 9.45l-7.72 7.72c-.78.78-.78 2.05 0 2.83L4 21.41c.39.39.9.59 1.41.59.51 0 1.02-.2 1.41-.59l7.78-7.78 2.81-2.81c.8-.78.8-2.07 0-2.86zM5.41 20L4 18.59l7.72-7.72 1.47 1.35L5.41 20z\"/>\n",
              "  </svg>\n",
              "      </button>\n",
              "      \n",
              "  <style>\n",
              "    .colab-df-container {\n",
              "      display:flex;\n",
              "      flex-wrap:wrap;\n",
              "      gap: 12px;\n",
              "    }\n",
              "\n",
              "    .colab-df-convert {\n",
              "      background-color: #E8F0FE;\n",
              "      border: none;\n",
              "      border-radius: 50%;\n",
              "      cursor: pointer;\n",
              "      display: none;\n",
              "      fill: #1967D2;\n",
              "      height: 32px;\n",
              "      padding: 0 0 0 0;\n",
              "      width: 32px;\n",
              "    }\n",
              "\n",
              "    .colab-df-convert:hover {\n",
              "      background-color: #E2EBFA;\n",
              "      box-shadow: 0px 1px 2px rgba(60, 64, 67, 0.3), 0px 1px 3px 1px rgba(60, 64, 67, 0.15);\n",
              "      fill: #174EA6;\n",
              "    }\n",
              "\n",
              "    [theme=dark] .colab-df-convert {\n",
              "      background-color: #3B4455;\n",
              "      fill: #D2E3FC;\n",
              "    }\n",
              "\n",
              "    [theme=dark] .colab-df-convert:hover {\n",
              "      background-color: #434B5C;\n",
              "      box-shadow: 0px 1px 3px 1px rgba(0, 0, 0, 0.15);\n",
              "      filter: drop-shadow(0px 1px 2px rgba(0, 0, 0, 0.3));\n",
              "      fill: #FFFFFF;\n",
              "    }\n",
              "  </style>\n",
              "\n",
              "      <script>\n",
              "        const buttonEl =\n",
              "          document.querySelector('#df-c8a6d915-c295-41aa-8312-2424af136e5c button.colab-df-convert');\n",
              "        buttonEl.style.display =\n",
              "          google.colab.kernel.accessAllowed ? 'block' : 'none';\n",
              "\n",
              "        async function convertToInteractive(key) {\n",
              "          const element = document.querySelector('#df-c8a6d915-c295-41aa-8312-2424af136e5c');\n",
              "          const dataTable =\n",
              "            await google.colab.kernel.invokeFunction('convertToInteractive',\n",
              "                                                     [key], {});\n",
              "          if (!dataTable) return;\n",
              "\n",
              "          const docLinkHtml = 'Like what you see? Visit the ' +\n",
              "            '<a target=\"_blank\" href=https://colab.research.google.com/notebooks/data_table.ipynb>data table notebook</a>'\n",
              "            + ' to learn more about interactive tables.';\n",
              "          element.innerHTML = '';\n",
              "          dataTable['output_type'] = 'display_data';\n",
              "          await google.colab.output.renderOutput(dataTable, element);\n",
              "          const docLink = document.createElement('div');\n",
              "          docLink.innerHTML = docLinkHtml;\n",
              "          element.appendChild(docLink);\n",
              "        }\n",
              "      </script>\n",
              "    </div>\n",
              "  </div>\n",
              "  "
            ],
            "text/plain": [
              "   intercept      area  bedrooms\n",
              "0          1  1.045766  1.402131\n",
              "1          1  1.755397  1.402131\n",
              "2          1  2.216196  0.047235\n",
              "3          1  1.082630  1.402131\n",
              "4          1  1.045766  1.402131"
            ]
          },
          "metadata": {},
          "execution_count": 21
        }
      ],
      "source": [
        "# Add a column of ones as intercept\n",
        "X['intercept'] = 1\n",
        "\n",
        "# reindex columns in sequence:- 'intercept','area' and 'bedrooms'\n",
        "X = X.reindex(['intercept', 'area', 'bedrooms'], axis=1)\n",
        "\n",
        "# print head of X\n",
        "X.head()"
      ]
    },
    {
      "cell_type": "code",
      "execution_count": 22,
      "metadata": {
        "id": "ayJyS3agWd7a"
      },
      "outputs": [],
      "source": [
        "# Convert X and y to numpy arrays\n",
        "X = np.array(X)\n",
        "y = np.array(y)"
      ]
    },
    {
      "cell_type": "markdown",
      "metadata": {
        "id": "mei_x5mjWd7a"
      },
      "source": [
        "4. Initiate the theta values. I am initiating them as zeros. But any other number should be alright."
      ]
    },
    {
      "cell_type": "code",
      "execution_count": 23,
      "metadata": {
        "id": "2G4DfYfYWd7a"
      },
      "outputs": [],
      "source": [
        "# initiate theta values with array of zeroes equal to number of columns present in X\n",
        "theta = np.array([0]*X.shape[1])"
      ]
    },
    {
      "cell_type": "markdown",
      "metadata": {
        "id": "T3X5--fyWd7b"
      },
      "source": [
        "2. Cost function in  Multiple linear regression"
      ]
    },
    {
      "cell_type": "markdown",
      "source": [
        "![Adhesive_4.JPG](data:image/jpeg;base64,/9j/4AAQSkZJRgABAQEAeAB4AAD/4REiRXhpZgAATU0AKgAAAAgABAE7AAIAAAAdAAAISodpAAQAAAABAAAIaJydAAEAAAA6AAAQ4OocAAcAAAgMAAAAPgAAAAAc6gAAAAgAAAAAAAAAAAAAAAAAAAAAAAAAAAAAAAAAAAAAAAAAAAAAAAAAAAAAAAAAAAAAAAAAAAAAAAAAAAAAAAAAAAAAAAAAAAAAAAAAAAAAAAAAAAAAAAAAAAAAAAAAAAAAAAAAAAAAAAAAAAAAAAAAAAAAAAAAAAAAAAAAAAAAAAAAAAAAAAAAAAAAAAAAAAAAAAAAAAAAAAAAAAAAAAAAAAAAAAAAAAAAAAAAAAAAAAAAAAAAAAAAAAAAAAAAAAAAAAAAAAAAAAAAAAAAAAAAAAAAAAAAAAAAAAAAAAAAAAAAAAAAAAAAAAAAAAAAAAAAAAAAAAAAAAAAAAAAAAAAAAAAAAAAAAAAAAAAAAAAAAAAAAAAAAAAAAAAAAAAAAAAAAAAAAAAAAAAAAAAAAAAAAAAAAAAAAAAAAAAAAAAAAAAAAAAAAAAAAAAAAAAAAAAAAAAAAAAAAAAAAAAAAAAAAAAAAAAAAAAAAAAAAAAAAAAAAAAAAAAAAAAAAAAAAAAAAAAAAAAAAAAAAAAAAAAAAAAAAAAAAAAAAAAAAAAAAAAAAAAAAAAAAAAAAAAAAAAAAAAAAAAAAAAAAAAAAAAAAAAAAAAAAAAAAAAAAAAAAAAAAAAAAAAAAAAAAAAAAAAAAAAAAAAAAAAAAAAAAAAAAAAAAAAAAAAAAAAAAAAAAAAAAAAAAAAAAAAAAAAAAAAAAAAAAAAAAAAAAAAAAAAAAAAAAAAAAAAAAAAAAAAAAAAAAAAAAAAAAAAAAAAAAAAAAAAAAAAAAAAAAAAAAAAAAAAAAAAAAAAAAAAAAAAAAAAAAAAAAAAAAAAAAAAAAAAAAAAAAAAAAAAAAAAAAAAAAAAAAAAAAAAAAAAAAAAAAAAAAAAAAAAAAAAAAAAAAAAAAAAAAAAAAAAAAAAAAAAAAAAAAAAAAAAAAAAAAAAAAAAAAAAAAAAAAAAAAAAAAAAAAAAAAAAAAAAAAAAAAAAAAAAAAAAAAAAAAAAAAAAAAAAAAAAAAAAAAAAAAAAAAAAAAAAAAAAAAAAAAAAAAAAAAAAAAAAAAAAAAAAAAAAAAAAAAAAAAAAAAAAAAAAAAAAAAAAAAAAAAAAAAAAAAAAAAAAAAAAAAAAAAAAAAAAAAAAAAAAAAAAAAAAAAAAAAAAAAAAAAAAAAAAAAAAAAAAAAAAAAAAAAAAAAAAAAAAAAAAAAAAAAAAAAAAAAAAAAAAAAAAAAAAAAAAAAAAAAAAAAAAAAAAAAAAAAAAAAAAAAAAAAAAAAAAAAAAAAAAAAAAAAAAAAAAAAAAAAAAAAAAAAAAAAAAAAAAAAAAAAAAAAAAAAAAAAAAAAAAAAAAAAAAAAAAAAAAAAAAAAAAAAAAAAAAAAAAAAAAAAAAAAAAAAAAAAAAAAAAAAAAAAAAAAAAAAAAAAAAAAAAAAAAAAAAAAAAAAAAAAAAAAAAAAAAAAAAAAAAAAAAAAAAAAAAAAAAAAAAAAAAAAAAAAAAAAAAAAAAAAAAAAAAAAAAAAAAAAAAAAAAAAAAAAAAAAAAAAAAAAAAAAAAAAAAAAAAAAAAAAAAAAAAAAAAAAAAAAAAAAAAAAAAAAAAAAAAAAAAAAAAAAAAAAAAAAAAAAAAAAAAAAAAAAAAAAAAAAAAAAAAAAAAAAAAAAAAAAAAAAAAAAAAAAAAAAAAAAAAAAAAAAAAAAAAAAAAAAAAAAAAAAAAAAAAAAAAAAAAAAAAAAAAAAAAAAAAAAAAAAAAAAAAAAAAAAAAAAAAAAAAAAAAAAAAAAAAAAAAAAAAAAAAAAAAAAAAAAAAAAAAAAAAAAAAAAAAAAAAAAAAAAAAAAAAAAAAAAAAAAAAAAAAAAAAAAAAAAAAAAAAAAAAAAAAAAAAAAAAAAAAAAAAAAAAAAAAAAAAAAAAAAAAAAAAAAAAAAAAAAAAAAAAAAAAAAAAAAAAAAAAAAAAAAAAAAAAAAAAAAAAAAAAAAAAAAAAAAAAAAAAAAAAAAAAAAAAAAAAAAAAAAAAAAAAAAAAAAAAAAAAAAAAAAAAAAAAAAAAAAAAAAAAAAAAAAAAAAAAAAAAAAAAAAAAAAAAAAAAAAAAAAAAAAAAAAAAAAAAAAAAAAAAAAAAAAAAAAAAAAAAAAAAAAAAAAAAAAAAAAAAAAAAAAAAAAAAAAAAAAAAAAAAAAAAAAAAAAAAAAAAAAAAAAAAAAAAAAAAAAAAAAAAAAAAAAAAAAAAAAAAAAAAAAAAAAAAAAAAAAAAAAAAAAAAAAAAAAAAAAAAAAAAAAAAAAAAAAAAAAAAAAAAAAAAAAAAAAAAAAAAAAAAAAAAAAAAAAAAAAAAAAAAAAAAAAAAAAAAAAAAAAAAAAAAAAAAAAAAAAAAAAAAAAAAAAAAAAAAAAAAAAAAAAAAAAAAAAAAAAAAAAAAAAAAAAAAAAAAAAAAAAAAAAAAAAAAAAAAAAAAAAAAAAAAAAAAAAAAAAAAAAAAAAAAAAAAAAAAAAAAAAAAAAAAAAAAAAAAAAAAAAAAAAAAAAAAAAAAAAAAAAAAAAAAAAAAAAAAAAAAAAAAAAAAAAAAAAAAAAAAAAAAAAAAAAAAAAAAAAAAAAAAAAAAAAAAAAAAAAAAAAAAAAAAAAAAAAAAAAAAAAAAAAAAAAAAAAAAAAAAAAAAAAAAAAAAAAAAAAAAAAAAAAAAAAAAAAAAAAAAAAAAAAAAAAAAAAAAAAAAAAAAAAAAAAAAAAAAAAAAAAAAAAAAAAAAAAAAAAAAAEFudWdhbnRpIFN1cmVzaCAoQ29uc3VsdGFudCkAAAAFkAMAAgAAABQAABC2kAQAAgAAABQAABDKkpEAAgAAAAMwOAAAkpIAAgAAAAMwOAAA6hwABwAACAwAAAiqAAAAABzqAAAACAAAAAAAAAAAAAAAAAAAAAAAAAAAAAAAAAAAAAAAAAAAAAAAAAAAAAAAAAAAAAAAAAAAAAAAAAAAAAAAAAAAAAAAAAAAAAAAAAAAAAAAAAAAAAAAAAAAAAAAAAAAAAAAAAAAAAAAAAAAAAAAAAAAAAAAAAAAAAAAAAAAAAAAAAAAAAAAAAAAAAAAAAAAAAAAAAAAAAAAAAAAAAAAAAAAAAAAAAAAAAAAAAAAAAAAAAAAAAAAAAAAAAAAAAAAAAAAAAAAAAAAAAAAAAAAAAAAAAAAAAAAAAAAAAAAAAAAAAAAAAAAAAAAAAAAAAAAAAAAAAAAAAAAAAAAAAAAAAAAAAAAAAAAAAAAAAAAAAAAAAAAAAAAAAAAAAAAAAAAAAAAAAAAAAAAAAAAAAAAAAAAAAAAAAAAAAAAAAAAAAAAAAAAAAAAAAAAAAAAAAAAAAAAAAAAAAAAAAAAAAAAAAAAAAAAAAAAAAAAAAAAAAAAAAAAAAAAAAAAAAAAAAAAAAAAAAAAAAAAAAAAAAAAAAAAAAAAAAAAAAAAAAAAAAAAAAAAAAAAAAAAAAAAAAAAAAAAAAAAAAAAAAAAAAAAAAAAAAAAAAAAAAAAAAAAAAAAAAAAAAAAAAAAAAAAAAAAAAAAAAAAAAAAAAAAAAAAAAAAAAAAAAAAAAAAAAAAAAAAAAAAAAAAAAAAAAAAAAAAAAAAAAAAAAAAAAAAAAAAAAAAAAAAAAAAAAAAAAAAAAAAAAAAAAAAAAAAAAAAAAAAAAAAAAAAAAAAAAAAAAAAAAAAAAAAAAAAAAAAAAAAAAAAAAAAAAAAAAAAAAAAAAAAAAAAAAAAAAAAAAAAAAAAAAAAAAAAAAAAAAAAAAAAAAAAAAAAAAAAAAAAAAAAAAAAAAAAAAAAAAAAAAAAAAAAAAAAAAAAAAAAAAAAAAAAAAAAAAAAAAAAAAAAAAAAAAAAAAAAAAAAAAAAAAAAAAAAAAAAAAAAAAAAAAAAAAAAAAAAAAAAAAAAAAAAAAAAAAAAAAAAAAAAAAAAAAAAAAAAAAAAAAAAAAAAAAAAAAAAAAAAAAAAAAAAAAAAAAAAAAAAAAAAAAAAAAAAAAAAAAAAAAAAAAAAAAAAAAAAAAAAAAAAAAAAAAAAAAAAAAAAAAAAAAAAAAAAAAAAAAAAAAAAAAAAAAAAAAAAAAAAAAAAAAAAAAAAAAAAAAAAAAAAAAAAAAAAAAAAAAAAAAAAAAAAAAAAAAAAAAAAAAAAAAAAAAAAAAAAAAAAAAAAAAAAAAAAAAAAAAAAAAAAAAAAAAAAAAAAAAAAAAAAAAAAAAAAAAAAAAAAAAAAAAAAAAAAAAAAAAAAAAAAAAAAAAAAAAAAAAAAAAAAAAAAAAAAAAAAAAAAAAAAAAAAAAAAAAAAAAAAAAAAAAAAAAAAAAAAAAAAAAAAAAAAAAAAAAAAAAAAAAAAAAAAAAAAAAAAAAAAAAAAAAAAAAAAAAAAAAAAAAAAAAAAAAAAAAAAAAAAAAAAAAAAAAAAAAAAAAAAAAAAAAAAAAAAAAAAAAAAAAAAAAAAAAAAAAAAAAAAAAAAAAAAAAAAAAAAAAAAAAAAAAAAAAAAAAAAAAAAAAAAAAAAAAAAAAAAAAAAAAAAAAAAAAAAAAAAAAAAAAAAAAAAAAAAAAAAAAAAAAAAAAAAAAAAAAAAAAAAAAAAAAAAAAAAAAAAAAAAAAAAAAAAAAAAAAAAAAAAAAAAAAAAAAAAAAAAAAAAAAAAAAAAAAAAAAAAAAAAAAAAAAAAAAAAAAAAAAAAAAAAAAAAAAAAAAAAAAAAAAAAAAAAAAAAAAAAAAAAAAAAAAAAAAAAAAAAAAAAAAAAAAAAAAAAAAAAAAAAAAAAAAAAAAAAAAAAAAAAAAAAAAAAAAAAAAAAAAAAAAAAAAAAAAAAAAAAAAAAAAAAAAAAAAAAAAAAAAAAAAAAAAAAAAAAAAAAAAAAAAAAAAAAAAAAAAAAAAAAAAAAAAAAAAAAAAAAAAAAAAAAAAAAAAAAAAAAAAAAAAAAAAAAAAAAAAAAAAAAAAAAAAAAAAAAAAAAAAAAAAAAAAAAAAAAAAAAAAAAAAAAAAAAAAAAAAAAAAAAAAAAAAAAAAAAAAAAAAAAAAAAAAAAAAAAAAAAAAAAAAAAAAAAAAAAAAAAAAAAAAAAAAAAAAAAAAAAAAAAAAAAAAAAAAAAAAAAAAAAAAAAAAAAAAAAAAAAAAAAAAAAAAAAAAAAAAAAAAAAAAAAAAAAAAAAAAAAAAAAAAAAAAAAAAAAAAAAAAAAAAAAAAAAAAAAAAAAAAAAAAAAAAAAAAAAAAAAAAAAAAAAAAAAAAAAAAAAAAAAAAAAAAAAAAAAAAAAAAAAAAAAAAAAAAAAAAAAAAAAAAAAAAAAAAAAAAAAAAAAAAAAAAAAAAAAAAAAAAAAAAAAAAAAAAAAAAAAAAAAAAAAAAAAAAAAAAAAAAAAAAAAAAAAAAAAAAAAAAAAAAAAAAAAAAAAAAAAAAAAAAAAAAAAAAAAAAAAAAAAAAAAAAAAAAAAAAAAAAAAAAAAAAAAAAAAAAAAAAAAAAAAAAAAAAAAAAAAAAAAAAAAAAAAAAAAAAAAAAAAAAAAAAAAAAAAAAAAAAAAAAAAAAAAAAAAAAAAAAAAAAAAAAAAAAAAAAAAAAAAAAAAAAAAAAAAAAAAAAAAAAAAAAAAAAAAAAAAAAAAAAAAAAAAAAAAAAAAAAAAAAAAAAAAAAAAAAAAMjAyMjowMToxOCAxMzoxNDozNAAyMDIyOjAxOjE4IDEzOjE0OjM0AAAAQQBuAHUAZwBhAG4AdABpACAAUwB1AHIAZQBzAGgAIAAoAEMAbwBuAHMAdQBsAHQAYQBuAHQAKQAAAP/hCy9odHRwOi8vbnMuYWRvYmUuY29tL3hhcC8xLjAvADw/eHBhY2tldCBiZWdpbj0n77u/JyBpZD0nVzVNME1wQ2VoaUh6cmVTek5UY3prYzlkJz8+DQo8eDp4bXBtZXRhIHhtbG5zOng9ImFkb2JlOm5zOm1ldGEvIj48cmRmOlJERiB4bWxuczpyZGY9Imh0dHA6Ly93d3cudzMub3JnLzE5OTkvMDIvMjItcmRmLXN5bnRheC1ucyMiPjxyZGY6RGVzY3JpcHRpb24gcmRmOmFib3V0PSJ1dWlkOmZhZjViZGQ1LWJhM2QtMTFkYS1hZDMxLWQzM2Q3NTE4MmYxYiIgeG1sbnM6ZGM9Imh0dHA6Ly9wdXJsLm9yZy9kYy9lbGVtZW50cy8xLjEvIi8+PHJkZjpEZXNjcmlwdGlvbiByZGY6YWJvdXQ9InV1aWQ6ZmFmNWJkZDUtYmEzZC0xMWRhLWFkMzEtZDMzZDc1MTgyZjFiIiB4bWxuczp4bXA9Imh0dHA6Ly9ucy5hZG9iZS5jb20veGFwLzEuMC8iPjx4bXA6Q3JlYXRlRGF0ZT4yMDIyLTAxLTE4VDEzOjE0OjM0LjA3NjwveG1wOkNyZWF0ZURhdGU+PC9yZGY6RGVzY3JpcHRpb24+PHJkZjpEZXNjcmlwdGlvbiByZGY6YWJvdXQ9InV1aWQ6ZmFmNWJkZDUtYmEzZC0xMWRhLWFkMzEtZDMzZDc1MTgyZjFiIiB4bWxuczpkYz0iaHR0cDovL3B1cmwub3JnL2RjL2VsZW1lbnRzLzEuMS8iPjxkYzpjcmVhdG9yPjxyZGY6U2VxIHhtbG5zOnJkZj0iaHR0cDovL3d3dy53My5vcmcvMTk5OS8wMi8yMi1yZGYtc3ludGF4LW5zIyI+PHJkZjpsaT5BbnVnYW50aSBTdXJlc2ggKENvbnN1bHRhbnQpPC9yZGY6bGk+PC9yZGY6U2VxPg0KCQkJPC9kYzpjcmVhdG9yPjwvcmRmOkRlc2NyaXB0aW9uPjwvcmRmOlJERj48L3g6eG1wbWV0YT4NCiAgICAgICAgICAgICAgICAgICAgICAgICAgICAgICAgICAgICAgICAgICAgICAgICAgICAgICAgICAgICAgICAgICAgICAgICAgICAgICAgICAgICAgICAgICAgICAgICAgICAKICAgICAgICAgICAgICAgICAgICAgICAgICAgICAgICAgICAgICAgICAgICAgICAgICAgICAgICAgICAgICAgICAgICAgICAgICAgICAgICAgICAgICAgICAgICAgICAgICAgIAogICAgICAgICAgICAgICAgICAgICAgICAgICAgICAgICAgICAgICAgICAgICAgICAgICAgICAgICAgICAgICAgICAgICAgICAgICAgICAgICAgICAgICAgICAgICAgICAgICAgCiAgICAgICAgICAgICAgICAgICAgICAgICAgICAgICAgICAgICAgICAgICAgICAgICAgICAgICAgICAgICAgICAgICAgICAgICAgICAgICAgICAgICAgICAgICAgICAgICAgICAKICAgICAgICAgICAgICAgICAgICAgICAgICAgICAgICAgICAgICAgICAgICAgICAgICAgICAgICAgICAgICAgICAgICAgICAgICAgICAgICAgICAgICAgICAgICAgICAgICAgIAogICAgICAgICAgICAgICAgICAgICAgICAgICAgICAgICAgICAgICAgICAgICAgICAgICAgICAgICAgICAgICAgICAgICAgICAgICAgICAgICAgICAgICAgICAgICAgICAgICAgCiAgICAgICAgICAgICAgICAgICAgICAgICAgICAgICAgICAgICAgICAgICAgICAgICAgICAgICAgICAgICAgICAgICAgICAgICAgICAgICAgICAgICAgICAgICAgICAgICAgICAKICAgICAgICAgICAgICAgICAgICAgICAgICAgICAgICAgICAgICAgICAgICAgICAgICAgICAgICAgICAgICAgICAgICAgICAgICAgICAgICAgICAgICAgICAgICAgICAgICAgIAogICAgICAgICAgICAgICAgICAgICAgICAgICAgICAgICAgICAgICAgICAgICAgICAgICAgICAgICAgICAgICAgICAgICAgICAgICAgICAgICAgICAgICAgICAgICAgICAgICAgCiAgICAgICAgICAgICAgICAgICAgICAgICAgICAgICAgICAgICAgICAgICAgICAgICAgICAgICAgICAgICAgICAgICAgICAgICAgICAgICAgICAgICAgICAgICAgICAgICAgICAKICAgICAgICAgICAgICAgICAgICAgICAgICAgICAgICAgICAgICAgICAgICAgICAgICAgICAgICAgICAgICAgICAgICAgICAgICAgICAgICAgICAgICAgICAgICAgICAgICAgIAogICAgICAgICAgICAgICAgICAgICAgICAgICAgICAgICAgICAgICAgICAgICAgICAgICAgICAgICAgICAgICAgICAgICAgICAgICAgICAgICAgICAgICAgICAgICAgICAgICAgCiAgICAgICAgICAgICAgICAgICAgICAgICAgICAgICAgICAgICAgICAgICAgICAgICAgICAgICAgICAgICAgICAgICAgICAgICAgICAgICAgICAgICAgICAgICAgICAgICAgICAKICAgICAgICAgICAgICAgICAgICAgICAgICAgICAgICAgICAgICAgICAgICAgICAgICAgICAgICAgICAgICAgICAgICAgICAgICAgICAgICAgICAgICAgICAgICAgICAgICAgIAogICAgICAgICAgICAgICAgICAgICAgICAgICAgICAgICAgICAgICAgICAgICAgICAgICAgICAgICAgICAgICAgICAgICAgICAgICAgICAgICAgICAgICAgICAgICAgICAgICAgCiAgICAgICAgICAgICAgICAgICAgICAgICAgICAgICAgICAgICAgICAgICAgICAgICAgICAgICAgICAgICAgICAgICAgICAgICAgICAgICAgICAgICAgICAgICAgICAgICAgICAKICAgICAgICAgICAgICAgICAgICAgICAgICAgICAgICAgICAgICAgICAgICAgICAgICAgICAgICAgICAgICAgICAgICAgICAgICAgICAgICAgICAgICAgICAgICAgICAgICAgIAogICAgICAgICAgICAgICAgICAgICAgICAgICAgICAgICAgICAgICAgICAgICAgICAgICAgICAgICAgICAgICAgICAgICAgICAgICAgICAgICAgICAgICAgICAgICAgICAgICAgCiAgICAgICAgICAgICAgICAgICAgICAgICAgICAgICAgICAgICAgICAgICAgICAgICAgICAgICAgICAgICAgICAgICAgICAgICAgICAgICAgICAgICAgICAgICAgICAgICAgICAKICAgICAgICAgICAgICAgICAgICAgICAgICAgICAgICAgICAgICAgICAgICAgICAgICAgICAgICAgICAgICAgICAgICAgICAgICAgICAgICAgICAgICAgICAgICAgICAgICAgIAogICAgICAgICAgICAgICAgICAgICAgICAgICAgPD94cGFja2V0IGVuZD0ndyc/Pv/bAEMABwUFBgUEBwYFBggHBwgKEQsKCQkKFQ8QDBEYFRoZGBUYFxseJyEbHSUdFxgiLiIlKCkrLCsaIC8zLyoyJyorKv/bAEMBBwgICgkKFAsLFCocGBwqKioqKioqKioqKioqKioqKioqKioqKioqKioqKioqKioqKioqKioqKioqKioqKioqKv/AABEIAF0BxAMBIgACEQEDEQH/xAAfAAABBQEBAQEBAQAAAAAAAAAAAQIDBAUGBwgJCgv/xAC1EAACAQMDAgQDBQUEBAAAAX0BAgMABBEFEiExQQYTUWEHInEUMoGRoQgjQrHBFVLR8CQzYnKCCQoWFxgZGiUmJygpKjQ1Njc4OTpDREVGR0hJSlNUVVZXWFlaY2RlZmdoaWpzdHV2d3h5eoOEhYaHiImKkpOUlZaXmJmaoqOkpaanqKmqsrO0tba3uLm6wsPExcbHyMnK0tPU1dbX2Nna4eLj5OXm5+jp6vHy8/T19vf4+fr/xAAfAQADAQEBAQEBAQEBAAAAAAAAAQIDBAUGBwgJCgv/xAC1EQACAQIEBAMEBwUEBAABAncAAQIDEQQFITEGEkFRB2FxEyIygQgUQpGhscEJIzNS8BVictEKFiQ04SXxFxgZGiYnKCkqNTY3ODk6Q0RFRkdISUpTVFVWV1hZWmNkZWZnaGlqc3R1dnd4eXqCg4SFhoeIiYqSk5SVlpeYmZqio6Slpqeoqaqys7S1tre4ubrCw8TFxsfIycrS09TV1tfY2dri4+Tl5ufo6ery8/T19vf4+fr/2gAMAwEAAhEDEQA/APpGiiigAooooAKKKKACiiigAooooAKKKKACiiigAooooAKKKKACiiigAooooAKKKKACiiigAooooAKKKKACiisvWfEujeHvI/tnUIbRrhxHCjnLSMeMBRyaANSiiigAooooAKKKKACiiigAooooAKKKKACiiigAooooAKKKKACiiigAooooAKKKKACiiigAooooAKKKKACiiigAooooAKKKKACiiigAooooAKKKKACiiigAooooAKKKKACiiigAooooAKKKKACiiigArwP4weE7LRtR8KX5lmvNRn1UCa7uHLO4449gOwFe+V438frmCKfwekk0aMNVDEM4BA+Xn6UAeyUUisrqGQhlIyCDkGloAranLdQaTdy6dCs95HA7QROcCSQKSqk+hOBXgXh/49+N/EniZ9AsfDOjxaipYeTc3TxZI6gZPWvoavAvj18NLmK4Xx94QVotRtGEl3HCMFsf8tBjuO/rQB1/9u/GT/oT/D//AIMT/jR/bvxk/wChP8P/APgxP+NaHwi+JVt8RvCSzyFY9VtMR3sAP8WOHH+y36HIrvqAPFfFnxK+KXgvRTquteDdI+xqwV5ILtpNmehODwK9T8KaxJ4g8J6bq08SwyXlusrRoSQpPYZp3ifQofE/hfUNFuWCR3sDRbym7YT0bGRnBwcZ7UvhrRv+Ed8MafpHn/afsUCxebs2b8d8ZOPzoA1KKKKACiiigAooooAKKKKACiiigAooooAKKKQkKpLEAAZJPagBaKzrbxDot5emzs9XsJ7odYIrlGcf8BBzWjQAUUUUAFFFFAGL4v1a80HwjqWradHbyz2UDThLhiqMFGSMjvjp71l/DXxPrHjDwfDrmuWNrYC6+e3jgdmynq2ax/jtqclh8J7+3tji51KWKxg56s7A4/FVat/7N/wjHwuNvZYU2Om4TjoQlAGNZa5q3jzxRf2+h3Z0/wAPaTObaa7iH7y7nXlkU/wquQCe5ro/Ffimx8HaF9uv98rFlihgTmSeQ8BQO5Jrm/gXapbfBnQ2X5pLhZZpXPV3aVsk/hgfhXO+LptS8Q/H3SdN0uytr9PD9r9te2ubkwIZG+624I/I+lAHR3njjX/D99or+KdLsrax1e4FsoglZpbZ2GVD54PpxXoFeH/ES/13xB8QfBXhbVtJsbN2vvt5FrftcnbH0LZiTaMg+ua9kvdY0zTJI01LUbS0eQ4RZ51jL/TJ5oAuUUAhgCDkHkEd6KAOa8W+MYfDUllZW9u19q2oyeXaWcZ5fHVj6KPWs208ZatYeOtN8M+KbOzhm1aCWW0ls5GZcxjLI27vjuK43S7jW9f+O/iXW9J0yy1KLRVXS4Fu75rcREDL4xE+SWz6YpqXmq+J/wBpbR4NVsLW1Ph6wmnkS1u2uFHmLtGWMaYOdvGKAPa6KiN1ALpbYzxidl3CIuNxHrjripaACuQ1bxncN4rHhjwvZx32qJF51zJMxENqnbeRzknoBzXUX1yLLT7i6b7sMTSHPsM1438H38USaNqfiax0TTb9tfvpLj7Tc6m8DmNTtRdogfgc/wAVAHfeEvGFzrOu6xoOsW0NvqmkuvmfZ2LRyIwyrLnn8662vHPg9dz69448a+LL6KG2SW4W0BjlLoBH6OQuR74FeqWeu6RqNy1vp+qWV1Ogy0UFwjsv1AOaAL9FFFABRRRQBxXjObxD4aEviTRbh76zgG+80uQZzGOrRnswHOO9dRo+q2mu6Laapp0gltbuJZYmHcEZ/OrF1GstnNHIoZWQggjIIxXmnwAkdfhzcWBYmHTtUurWDJ6IH3AfmxoA9Qopk6SSW8iQyeVIykK+3O0+uO9eaf8ACC/FD/orZ/8ACft//iqAPTqK8x/4QX4of9FbP/hP2/8A8VXommQXVrpNpb6jefbruKBEnuvLEfnuFAZ9o4XJycDpmgC1RRXD6j8Zvh/pOqXOnaj4jhgu7SVoZojBKSjqcMMhMcEUAdxXLXnwz8F6hcNPfeG7C4lZixeSLccnvWP/AML2+Gv/AENMP/gPN/8AEUf8L2+Gv/Q0w/8AgPN/8RQB2WkaHpmgWrW2jWUVnCzbikQwCfWr9eff8L2+Gv8A0NMP/gPN/wDEUf8AC9vhr/0NMP8A4Dzf/EUAeg02SNJY2jkUMjDDKRwRVPRda0/xFo1vqui3IurG5BMUyqVDAEg8EA9QavUAfL3jjQdS+BfxMt/F/hlGbQ76QrNAv3Vzy0Z9j1X6e1fRnhrxFYeKvD9rq+lSiS3uEDDHVT3B9xTvEXh/T/FHh+70fV4RNa3SFGGOVPZh6EHkV4V8DbXXvCfxQ1zwhbzrqOhWxYy3CHKxP/Dj/aPQigD6Io6daKwPHeqS6J8P9c1O2/1tpYyyp9QpNAGPaeK9T8V+Jbuy8KiGLStMn8m71KUbvNkGN0UY746E9jVH4r+IfEPh5tBHhnUIoJtSv0svIkt1k8wseoJ6YFX/AIPadHpvwj8Pxx5LTW32mRyclnkJcknvy1cj8R7jUtY+NnhXQ9DWNp7SKS6aSQZW3YjCyEd8dccZ6ZFAHslFeO+F7fWNA+P9xoSeJdU1qxfSRdXg1CQMI5i2AFCgBQRyAAOvfGa9Sn13TbbXbXRp7pV1C8jeSCDaSXVfvHIGBj3NAGhRRXn2sfF+w0bWLnTpfC3iq5e3fYZrXS98b+6tu5FAHoNFeY/8Ly03/oTvGf8A4J//ALOu08KeJ4fFujHUbfTtR05BK0Xk6lb+TLkAHO3J456/WgDaoorzb4xadq0XgnVtf0rWLy2vNNSO4tI7eRo0QI4Mm8A/vMrnhuBjp1oA9Joryz4h38/iT4a6E+j3l3baprEsAtGsrp4W+cAsSVIyAPWu6i1LTtAbRdBv9QZr+7jMNsJdzvcGNMuxPPOBkk0AY3ivxFrXg65OrXMMd/4f3AXHlriW0H9//aX1ro7q3svEnh6SBpDLY6hb43xPgsjjqCOnB60/V7SK/wBGvLW4QPFNC6Mp7givOPg5LqOqfBqXTLe++z3dlPcafb3kieYU2n5W25GcbuBnsKAJtX8L2OreJdA0rw1axwRaBcpPc3aD/VgdI892Nem15VpHwv8AHGmC2t3+JjyafFMJJLePR44ml5yQZA+7J7kk16rQAUUUUAFFFRXQuGtZBZSRx3BU+W8qF0U+pUEEj2yKAPLPit/xPPiT4A8LoN6teyajOv8AdEKgqT9TuFematYrqWjXdi3CzwtHx7jFc7ofgiS18YXHivxDqK6nrMtuLWJoofJhtoc5Kom5jyeSSxP0rrqAPN/gbdNF8PR4fvPl1HQLuaxuYzweHLK2PQhhg98VDNp9/wCFfjTqfiZ9Mvr/AE7VNOSBWsoGmaORSDhlXJAPrXTan4KSXxMPEWg30mkaq6rHcvGoeK7QdBJGeCR2YYI6ZxxXTrkKNxBbHJAxk0AeeeEfC2p6j4+1Hx34ot/s1zNGLXTbJjlra3HdvRmPOO2apeFbK28VeK/HsmuW4uDHdCyjSYZ8qIIeB6Zr1GuJufA2pWniPVdU8La3Fpq6wo+2wz2fnfOBjzEIZdrYPfcPagDA+Hnie90z9nqPWLkG8n0yK4RDMxHmrFM6Lk/QAfhXc+C9en8T+C9L1q8tRaTXsAleAEkJyeOap2/gDR7fwHZ+EgZzplsqq6iTBnwdx3kdQzHJAx+VdJBBFa28cFvGsUUahURRgKB0AoA8s8OQap4B8U+MVl0TUdQXV9Tk1CyltIGkjfzOdjMOEweOa3Phz4NvdGm1XxB4iKnXNal8ycKc+Qg+7GD/AD+ld3RQB5ZZ6Nb6L+0HaRWzzStNoLSSyTSF2kfzWG4k98AV0PxH8b3Xgm00SSysUvZNT1WKwKOxG0OGO4Y6njpWfL4I8XS/ECLxWfEulCaK1Nott/ZL+X5W4t/z3zuyTzn8K6q+8M2Oq63puq6mGuJ9Ny1vGT+6SQ8eZt/vDnBJOMnvzQBa1iybU9BvLNTta4geMH0JGK8s8MyeKPD3wng8G6ZoN8uvwJJapcyQlbZAzsfO837pADZAznIr2GigDjPDvw20zR/hwnhS5Z5YpFzdSxsUaVycscj3rJk8PWmsfErQp/DttHa2XhsSC6u4hgSsybVgGPvEfePpx6123iKwv9U8P3dlpGoDTbueMol0YvM8rPcLkc/jXCeHvh3440i702O9+In2vSrGUSNYw6THb+aADwXRtxyTk5zk8nNAG54j8b3Wi/ETw/4bt7BLiLVgxkmLHdEAeoFa/jHVtU0PwjfajoGltq2oQBDDZICTKS6g9OeASfwqRfDOnjxS/iGVHm1AxCGJ5WyIE7hB2z3PU1r0AVNKubi80i1ub23NrcSxK0kJzmNiORzWJ4Q1/XNbu9aj13Q30qOyvngs3cMPtUQJxIMjv7V01FAGd4g1a20Lw9fanfOEgtoWkck+grjvgjo11pHwxtJtRQx3eqTS6hKh/h8xsr/47tP41s654L/4SfV4n1/UJLjSYGEkelxoEjdx0Mp6vz24Hsa6gAKoCgAAYAHagBs8K3FvJDJnbIpU4ODg15p/woHwf/z8a1/4M5K9OooA8x/4UD4P/wCfjWv/AAZyV6Jpmnw6TpNpp1qXMFnAkEZkYsxVVCjJPU4HWrVFABWTqh8PabG11rC6fbqxy0twiDJ9cmtaua1XwFout+NbHxNqiSXNzY25ggt5NrQjLFt+0jO7nrn8KAH6PqPg7xBI6aJNpF+8fLrbiNyv1xWt/Y+mf9A60/78L/hXkviCwiuv2lPDP/CLwrFcWNvLJq8tuoVRERhQ+OpPIwfUV2Hin4inwvqFqs+jySWE12LR7t5hGVbuyoVO5R65FAHVf2Ppn/QOtP8Avwv+FH9j6Z/0DrT/AL8L/hXn+ofGaDS/EmnW2oeH7y20TUZ/s9vrM0qqjP2OzGdvuSOOalj+LhPjXTNGufDV9a2GrSGKx1KaRR5zevl4yB9Tn2oA9EiijgiWOCNY416Ki4A/AU+isDxn4tsfBfhqfVtQOdg2wxD70rnoo/GgDnfij4zutIt7Xw14ZHneJNaPlWqL/wAsE/ilb0AH+eK2/AXgy18EeGo9PgPm3LnzLq5b700h6kmud+F/hK+W4u/G/i8eZ4h1lQVRullb9ViX07E/h759IoAKwvG+lSa74D1vS4f9ZeWUsS/UqRW4zKiFnYKqjJJOABUdtdW97AJrOeK4ibpJE4ZT+IoA434OakmpfCXQyuVktYDaTRkYZHjYoQR2PGfxrM8I6NqNx8Z/FXiLU7C4t4VjSyspJoyqyoDncuevpWtF4Q1Dw54oudU8HzwJZanMJdQ0y5BEZkOA00bDlWIHI5BPpXaUAeVeHbPW9N+MPjDUJ9FupZNSmtktbp0IgFuiYJD9Mj065rc0HV9T1H4s6/YTT29xpmmwR+Vi3VZIpHPK7+pGAfzrua5Pw/4OvNC8VavqaauJLXVLn7TJb/ZwHLbdoVnJOVHUYAPvQB1lFFFABRRRQAVmeJrKPUfCerWUxUR3NlNExboAyEf1rTrz3UfDHjTxLr+oWGv6tZw+EZp1dbe1U/aJogBmFnwNqEg5xkkEjIzQBifBTS9Q1Xw5o+sa5CY4dNtBaaZE/dRwZfx6D2ArpbXV9Tu/jZd6OZoJtLsdLW5INuPMhmd9oUP15VWNdpb28VrbR29tGsUMShURRgKB0Arl9N8HXmmePtX1+DVx9m1UwtNbG3BcGNSoUSE4CfMSRtznvjigDe1u+h03Qr29unCRQQO7MewArh/gXp9xZfDCC5u42ik1K6mvhGwwVV24/QZ/GtXxP4W1XxjfDT9UvIrXw4rBpbe3z515j+F2P3V9h19a66CGK2t44LeNY4olCIijAVQMAAemKAH0UUUAFFFFABRRRQAUUUUAFFFFABRRRQAUUUUAFFFFABRRRQAUUUUAFFFFABRRRQAUUUUAFFFFABRRRQAUUUUAFcf4+8YP4dtrXTtL8t9a1RjHaI7YWMd5G9FFdhXJeK/hd4Q8b6lHf+J9Ka9uYo/KR/tU0e1ck4wjgdSaAKHh/wD4R3wJa2kM+oRXerazdpFNcq2+S4nf9Qo/QVz3xUt18S/FHwX4WkBaASPfXCA9UHH8xXQ6L8E/AHh/WbbVdJ0IwXtq/mQyG8nfa3rhnIP4iumbwvpDeK18SNaZ1ZIDbrcGV/ljPVQudv6UAedfEGyt/Enxg8D+FZIUeytfO1C5ixwBGn7vj03cVJ4klj1b9oDQNPbYlpoVk97KzcCNz936cV6CvhfSE8Wv4mFqTq7232Q3Blc/ut27aFJ2jnuBmq+oeCfD+qa8us3th5l8I/KaQTOokT+66ghXHswNAGtLfWsOnNfyTxraLF5xmLfKExndn0xzXzbN8WfCPir4oNqvjDUJIdE0h8abZC3eQTP/AM9W2gj8DX0XrGiafr2h3Gj6pB5thcII5IVdo8qCDjKkEdB0NcJ/wz38Mv8AoWz/AOB9z/8AHKAK/wDw0Z8Nh/zGLj/wBl/+Jpf+GjPht/0GLj/wBl/+Jqf/AIZ7+GX/AELZ/wDA+5/+OUf8M9/DL/oWz/4H3P8A8coA5nxv+0T4Nn8GalbeHb2e61C5gaGJTbPGF3DBbLADgE13HwaiMXwf8OljkyWiyE/Ws3/hnv4Zf9C2f/A+5/8AjlegaXplpo2l2+nabF5NpbRiOKPcW2qOgyck/jQBaooooAKKKKACiiigAooooAKKKKACiiigAooooAKKKKACiiigAooooAKKKKACiiigAooooAKKKKACiiigAooooAKKKKACiiigAooooAKKKKACiiigAooooAKKKKACiiigAooooAKKKKACiiigAooooAKKKKACiiigAooooAKKKKACiiigAooooAKKKKACiiigAooooAKKKKAP/9k=)"
      ],
      "metadata": {
        "id": "A9LRHEkxJfXU"
      }
    },
    {
      "cell_type": "code",
      "execution_count": 24,
      "metadata": {
        "id": "g1yXYsjjWd7b"
      },
      "outputs": [],
      "source": [
        "# Initialise m as no.of samples in X\n",
        "m = len(X)"
      ]
    },
    {
      "cell_type": "markdown",
      "metadata": {
        "id": "mu-PHmM1Wd7b"
      },
      "source": [
        "Note: \n",
        "You can make use matmul function https://numpy.org/doc/stable/reference/generated/numpy.matmul.html for multiplying all theta values with X to implement above cost function formula"
      ]
    },
    {
      "cell_type": "markdown",
      "metadata": {
        "id": "TYmg4otFWd7b"
      },
      "source": [
        "Now our next part is to update the theta values. We take the partial differential of the cost function with respect to each theta value and deduct that value from the existing theta value,"
      ]
    },
    {
      "cell_type": "markdown",
      "source": [
        "![Adhesive_5.JPG](data:image/jpeg;base64,/9j/4AAQSkZJRgABAQEAeAB4AAD/4REiRXhpZgAATU0AKgAAAAgABAE7AAIAAAAdAAAISodpAAQAAAABAAAIaJydAAEAAAA6AAAQ4OocAAcAAAgMAAAAPgAAAAAc6gAAAAgAAAAAAAAAAAAAAAAAAAAAAAAAAAAAAAAAAAAAAAAAAAAAAAAAAAAAAAAAAAAAAAAAAAAAAAAAAAAAAAAAAAAAAAAAAAAAAAAAAAAAAAAAAAAAAAAAAAAAAAAAAAAAAAAAAAAAAAAAAAAAAAAAAAAAAAAAAAAAAAAAAAAAAAAAAAAAAAAAAAAAAAAAAAAAAAAAAAAAAAAAAAAAAAAAAAAAAAAAAAAAAAAAAAAAAAAAAAAAAAAAAAAAAAAAAAAAAAAAAAAAAAAAAAAAAAAAAAAAAAAAAAAAAAAAAAAAAAAAAAAAAAAAAAAAAAAAAAAAAAAAAAAAAAAAAAAAAAAAAAAAAAAAAAAAAAAAAAAAAAAAAAAAAAAAAAAAAAAAAAAAAAAAAAAAAAAAAAAAAAAAAAAAAAAAAAAAAAAAAAAAAAAAAAAAAAAAAAAAAAAAAAAAAAAAAAAAAAAAAAAAAAAAAAAAAAAAAAAAAAAAAAAAAAAAAAAAAAAAAAAAAAAAAAAAAAAAAAAAAAAAAAAAAAAAAAAAAAAAAAAAAAAAAAAAAAAAAAAAAAAAAAAAAAAAAAAAAAAAAAAAAAAAAAAAAAAAAAAAAAAAAAAAAAAAAAAAAAAAAAAAAAAAAAAAAAAAAAAAAAAAAAAAAAAAAAAAAAAAAAAAAAAAAAAAAAAAAAAAAAAAAAAAAAAAAAAAAAAAAAAAAAAAAAAAAAAAAAAAAAAAAAAAAAAAAAAAAAAAAAAAAAAAAAAAAAAAAAAAAAAAAAAAAAAAAAAAAAAAAAAAAAAAAAAAAAAAAAAAAAAAAAAAAAAAAAAAAAAAAAAAAAAAAAAAAAAAAAAAAAAAAAAAAAAAAAAAAAAAAAAAAAAAAAAAAAAAAAAAAAAAAAAAAAAAAAAAAAAAAAAAAAAAAAAAAAAAAAAAAAAAAAAAAAAAAAAAAAAAAAAAAAAAAAAAAAAAAAAAAAAAAAAAAAAAAAAAAAAAAAAAAAAAAAAAAAAAAAAAAAAAAAAAAAAAAAAAAAAAAAAAAAAAAAAAAAAAAAAAAAAAAAAAAAAAAAAAAAAAAAAAAAAAAAAAAAAAAAAAAAAAAAAAAAAAAAAAAAAAAAAAAAAAAAAAAAAAAAAAAAAAAAAAAAAAAAAAAAAAAAAAAAAAAAAAAAAAAAAAAAAAAAAAAAAAAAAAAAAAAAAAAAAAAAAAAAAAAAAAAAAAAAAAAAAAAAAAAAAAAAAAAAAAAAAAAAAAAAAAAAAAAAAAAAAAAAAAAAAAAAAAAAAAAAAAAAAAAAAAAAAAAAAAAAAAAAAAAAAAAAAAAAAAAAAAAAAAAAAAAAAAAAAAAAAAAAAAAAAAAAAAAAAAAAAAAAAAAAAAAAAAAAAAAAAAAAAAAAAAAAAAAAAAAAAAAAAAAAAAAAAAAAAAAAAAAAAAAAAAAAAAAAAAAAAAAAAAAAAAAAAAAAAAAAAAAAAAAAAAAAAAAAAAAAAAAAAAAAAAAAAAAAAAAAAAAAAAAAAAAAAAAAAAAAAAAAAAAAAAAAAAAAAAAAAAAAAAAAAAAAAAAAAAAAAAAAAAAAAAAAAAAAAAAAAAAAAAAAAAAAAAAAAAAAAAAAAAAAAAAAAAAAAAAAAAAAAAAAAAAAAAAAAAAAAAAAAAAAAAAAAAAAAAAAAAAAAAAAAAAAAAAAAAAAAAAAAAAAAAAAAAAAAAAAAAAAAAAAAAAAAAAAAAAAAAAAAAAAAAAAAAAAAAAAAAAAAAAAAAAAAAAAAAAAAAAAAAAAAAAAAAAAAAAAAAAAAAAAAAAAAAAAAAAAAAAAAAAAAAAAAAAAAAAAAAAAAAAAAAAAAAAAAAAAAAAAAAAAAAAAAAAAAAAAAAAAAAAAAAAAAAAAAAAAAAAAAAAAAAAAAAAAAAAAAAAAAAAAAAAAAAAAAAAAAAAAAAAAAAAAAAAAAAAAAAAAAAAAAAAAAAAAAAAAAAAAAAAAAAAAAAAAAAAAAAAAAAAAAAAAAAAAAAAAAAAAAAAAAAAAAAAAAAAAAAAAAAAAAAAAAAAAAAAAAAAAAAAAAAAAAAAAAAAAAAAAAAAAAAAAAAAAAAAAAAAAAAAAAAAAAAAAAAAAAAAAAAAAAAAAAAAAAAAAAAAAAAAAAAAAAAAAAAAAAAAAAAAAAAAAAAAAAAAAAAAAAAAAAAAAAAAAAAAAAAAAAAAAAAAAAAAAAAAAAAAAAAAAAAAAAAAAAAAAAAAAAAAAAAAAAAAAAAAAAAAAAAAAAAAAAAAAAAAAAAAAAAAAAAAAAAAAAAAAAAAAAAAAAAAAAAAAAAAAAAAAAAAAAAAAAAAAAAAAAAAAAAAAAAAAAAAAAAAAAAAAAAAAAAAAAAAAAAAAAAAAAAAAAAAAAAAAAAAAAAAAAAAAAAAAAAAAAAAAAAAAAAAAAAAAAAAAAAAAAAAAAAAAAAAAAAAAAAAAAAAAAAAAAAAAAAAAAAAAAAAAAAAAAAAAAAAAAAAAAAAAAAAAAAAAAAAAAAAAAAAAAAAAAAAAAAAAAAAAAAAAAAAAAAAAAAAAAAAAAAAAAAAAAAAAAAAAAAAAAAAAAAAAAAAAAAAAAAAAAAAAAAAAAAAAAAAAAAAAAAAAAAAAAAAAAAAAAAAAAAAAAAAAAAAAAAAAAAAAAAAAAAAAAAAAAAAAAAAAAAAAAAAAAAAAAAAAAAAAAAAAAAAAAAAAAAAAAAAAAAAAAAAAAAAAAAAAAAAAAAAAAAAAAAAAAAAAAAAAAAAAAAAAAAAEFudWdhbnRpIFN1cmVzaCAoQ29uc3VsdGFudCkAAAAFkAMAAgAAABQAABC2kAQAAgAAABQAABDKkpEAAgAAAAMzOAAAkpIAAgAAAAMzOAAA6hwABwAACAwAAAiqAAAAABzqAAAACAAAAAAAAAAAAAAAAAAAAAAAAAAAAAAAAAAAAAAAAAAAAAAAAAAAAAAAAAAAAAAAAAAAAAAAAAAAAAAAAAAAAAAAAAAAAAAAAAAAAAAAAAAAAAAAAAAAAAAAAAAAAAAAAAAAAAAAAAAAAAAAAAAAAAAAAAAAAAAAAAAAAAAAAAAAAAAAAAAAAAAAAAAAAAAAAAAAAAAAAAAAAAAAAAAAAAAAAAAAAAAAAAAAAAAAAAAAAAAAAAAAAAAAAAAAAAAAAAAAAAAAAAAAAAAAAAAAAAAAAAAAAAAAAAAAAAAAAAAAAAAAAAAAAAAAAAAAAAAAAAAAAAAAAAAAAAAAAAAAAAAAAAAAAAAAAAAAAAAAAAAAAAAAAAAAAAAAAAAAAAAAAAAAAAAAAAAAAAAAAAAAAAAAAAAAAAAAAAAAAAAAAAAAAAAAAAAAAAAAAAAAAAAAAAAAAAAAAAAAAAAAAAAAAAAAAAAAAAAAAAAAAAAAAAAAAAAAAAAAAAAAAAAAAAAAAAAAAAAAAAAAAAAAAAAAAAAAAAAAAAAAAAAAAAAAAAAAAAAAAAAAAAAAAAAAAAAAAAAAAAAAAAAAAAAAAAAAAAAAAAAAAAAAAAAAAAAAAAAAAAAAAAAAAAAAAAAAAAAAAAAAAAAAAAAAAAAAAAAAAAAAAAAAAAAAAAAAAAAAAAAAAAAAAAAAAAAAAAAAAAAAAAAAAAAAAAAAAAAAAAAAAAAAAAAAAAAAAAAAAAAAAAAAAAAAAAAAAAAAAAAAAAAAAAAAAAAAAAAAAAAAAAAAAAAAAAAAAAAAAAAAAAAAAAAAAAAAAAAAAAAAAAAAAAAAAAAAAAAAAAAAAAAAAAAAAAAAAAAAAAAAAAAAAAAAAAAAAAAAAAAAAAAAAAAAAAAAAAAAAAAAAAAAAAAAAAAAAAAAAAAAAAAAAAAAAAAAAAAAAAAAAAAAAAAAAAAAAAAAAAAAAAAAAAAAAAAAAAAAAAAAAAAAAAAAAAAAAAAAAAAAAAAAAAAAAAAAAAAAAAAAAAAAAAAAAAAAAAAAAAAAAAAAAAAAAAAAAAAAAAAAAAAAAAAAAAAAAAAAAAAAAAAAAAAAAAAAAAAAAAAAAAAAAAAAAAAAAAAAAAAAAAAAAAAAAAAAAAAAAAAAAAAAAAAAAAAAAAAAAAAAAAAAAAAAAAAAAAAAAAAAAAAAAAAAAAAAAAAAAAAAAAAAAAAAAAAAAAAAAAAAAAAAAAAAAAAAAAAAAAAAAAAAAAAAAAAAAAAAAAAAAAAAAAAAAAAAAAAAAAAAAAAAAAAAAAAAAAAAAAAAAAAAAAAAAAAAAAAAAAAAAAAAAAAAAAAAAAAAAAAAAAAAAAAAAAAAAAAAAAAAAAAAAAAAAAAAAAAAAAAAAAAAAAAAAAAAAAAAAAAAAAAAAAAAAAAAAAAAAAAAAAAAAAAAAAAAAAAAAAAAAAAAAAAAAAAAAAAAAAAAAAAAAAAAAAAAAAAAAAAAAAAAAAAAAAAAAAAAAAAAAAAAAAAAAAAAAAAAAAAAAAAAAAAAAAAAAAAAAAAAAAAAAAAAAAAAAAAAAAAAAAAAAAAAAAAAAAAAAAAAAAAAAAAAAAAAAAAAAAAAAAAAAAAAAAAAAAAAAAAAAAAAAAAAAAAAAAAAAAAAAAAAAAAAAAAAAAAAAAAAAAAAAAAAAAAAAAAAAAAAAAAAAAAAAAAAAAAAAAAAAAAAAAAAAAAAAAAAAAAAAAAAAAAAAAAAAAAAAAAAAAAAAAAAAAAAAAAAAAAAAAAAAAAAAAAAAAAAAAAAAAAAAAAAAAAAAAAAAAAAAAAAAAAAAAAAAAAAAAAAAAAAAAAAAAAAAAAAAAAAAAAAAAAAAAAAAAAAAAAAAAAAAAAAAAAAAAAAAAAAAAAAAAAAAAAAAAAAAAAAAAAAAAAAAAAAAAAAAAAAAAAAAAAAAAAAAAAAAAAAAAAAAAAAAAAAAAAAAAAAAAAAAAAAAAAAAAAAAAAAAAAAAAAAAAAAAAAAAAAAAAAAAAAAAAAAAAAAAAAAAAAAAAAAAAAAAAAAAAAAAAAAAAAAAAAAAAAAAAAAAAAAAAAAAAAAAAAAAAAAAAAAAAAAAAAAAAAAAAAAAAAAAAAAAAAAAAAAAAAAAAAAAAAAAAAAAAAAAAAAAAAAAAAAAAAAAAAAAAAAAAAAAAAAAAAAAAAAAAAAAAAAAAAAAAAAAAAAAAAAAAAAAAAAAAAAAAAAAAAAAAAAAAAAAAAAAAAAAAAAAAAAAAAAAAAAAAAAAAAAAAAAAAAAAAAAAAAAAAAAAAAAAAAAAAAAAAAAAAAAAAAAAAAAAAAAAAAAAAAAAAAAAAAAAAAAAAAAAAAAAAAAAAAAAAAAAAAAAAAAAAAAAAAAAAAAAAAAAAAAAAAAAAAAAAAAAAAAAAAAAAAAAAAAAAAAAAAAAAAAAAAAAAAAAAAAAAAAAAAAAAAAAAAAAAAAAAAAAAAAAAAAAAAAAAAAAAAAAAAAAAAAAAAAAAAAAAAAAAAAAAAAAAAAAAAAAAAAAAAAAAAAAAAAAAAAAAAAAAAAAAAAAAAAAAAAAAAAAAAAAAAAAAAAAAAAAAAAAAAAAAAAAAAAAAAAAAAAAAAAAAAAAAAAAAAAAAAAAAAAAAAAAAAAAAAAAAAAAAAAAAAAAAAAAAAAAAAAAAAAAAAAAAAAAAAAAAAAAAAAAAAAAAAAAAAAAAAAAAAAAAAAAAAAAAAAAAAAAAAAAAAAAAAAAAAAAAAAMjAyMjowMToxOCAxMzoxNDo1OAAyMDIyOjAxOjE4IDEzOjE0OjU4AAAAQQBuAHUAZwBhAG4AdABpACAAUwB1AHIAZQBzAGgAIAAoAEMAbwBuAHMAdQBsAHQAYQBuAHQAKQAAAP/hCy9odHRwOi8vbnMuYWRvYmUuY29tL3hhcC8xLjAvADw/eHBhY2tldCBiZWdpbj0n77u/JyBpZD0nVzVNME1wQ2VoaUh6cmVTek5UY3prYzlkJz8+DQo8eDp4bXBtZXRhIHhtbG5zOng9ImFkb2JlOm5zOm1ldGEvIj48cmRmOlJERiB4bWxuczpyZGY9Imh0dHA6Ly93d3cudzMub3JnLzE5OTkvMDIvMjItcmRmLXN5bnRheC1ucyMiPjxyZGY6RGVzY3JpcHRpb24gcmRmOmFib3V0PSJ1dWlkOmZhZjViZGQ1LWJhM2QtMTFkYS1hZDMxLWQzM2Q3NTE4MmYxYiIgeG1sbnM6ZGM9Imh0dHA6Ly9wdXJsLm9yZy9kYy9lbGVtZW50cy8xLjEvIi8+PHJkZjpEZXNjcmlwdGlvbiByZGY6YWJvdXQ9InV1aWQ6ZmFmNWJkZDUtYmEzZC0xMWRhLWFkMzEtZDMzZDc1MTgyZjFiIiB4bWxuczp4bXA9Imh0dHA6Ly9ucy5hZG9iZS5jb20veGFwLzEuMC8iPjx4bXA6Q3JlYXRlRGF0ZT4yMDIyLTAxLTE4VDEzOjE0OjU4LjM4MzwveG1wOkNyZWF0ZURhdGU+PC9yZGY6RGVzY3JpcHRpb24+PHJkZjpEZXNjcmlwdGlvbiByZGY6YWJvdXQ9InV1aWQ6ZmFmNWJkZDUtYmEzZC0xMWRhLWFkMzEtZDMzZDc1MTgyZjFiIiB4bWxuczpkYz0iaHR0cDovL3B1cmwub3JnL2RjL2VsZW1lbnRzLzEuMS8iPjxkYzpjcmVhdG9yPjxyZGY6U2VxIHhtbG5zOnJkZj0iaHR0cDovL3d3dy53My5vcmcvMTk5OS8wMi8yMi1yZGYtc3ludGF4LW5zIyI+PHJkZjpsaT5BbnVnYW50aSBTdXJlc2ggKENvbnN1bHRhbnQpPC9yZGY6bGk+PC9yZGY6U2VxPg0KCQkJPC9kYzpjcmVhdG9yPjwvcmRmOkRlc2NyaXB0aW9uPjwvcmRmOlJERj48L3g6eG1wbWV0YT4NCiAgICAgICAgICAgICAgICAgICAgICAgICAgICAgICAgICAgICAgICAgICAgICAgICAgICAgICAgICAgICAgICAgICAgICAgICAgICAgICAgICAgICAgICAgICAgICAgICAgICAKICAgICAgICAgICAgICAgICAgICAgICAgICAgICAgICAgICAgICAgICAgICAgICAgICAgICAgICAgICAgICAgICAgICAgICAgICAgICAgICAgICAgICAgICAgICAgICAgICAgIAogICAgICAgICAgICAgICAgICAgICAgICAgICAgICAgICAgICAgICAgICAgICAgICAgICAgICAgICAgICAgICAgICAgICAgICAgICAgICAgICAgICAgICAgICAgICAgICAgICAgCiAgICAgICAgICAgICAgICAgICAgICAgICAgICAgICAgICAgICAgICAgICAgICAgICAgICAgICAgICAgICAgICAgICAgICAgICAgICAgICAgICAgICAgICAgICAgICAgICAgICAKICAgICAgICAgICAgICAgICAgICAgICAgICAgICAgICAgICAgICAgICAgICAgICAgICAgICAgICAgICAgICAgICAgICAgICAgICAgICAgICAgICAgICAgICAgICAgICAgICAgIAogICAgICAgICAgICAgICAgICAgICAgICAgICAgICAgICAgICAgICAgICAgICAgICAgICAgICAgICAgICAgICAgICAgICAgICAgICAgICAgICAgICAgICAgICAgICAgICAgICAgCiAgICAgICAgICAgICAgICAgICAgICAgICAgICAgICAgICAgICAgICAgICAgICAgICAgICAgICAgICAgICAgICAgICAgICAgICAgICAgICAgICAgICAgICAgICAgICAgICAgICAKICAgICAgICAgICAgICAgICAgICAgICAgICAgICAgICAgICAgICAgICAgICAgICAgICAgICAgICAgICAgICAgICAgICAgICAgICAgICAgICAgICAgICAgICAgICAgICAgICAgIAogICAgICAgICAgICAgICAgICAgICAgICAgICAgICAgICAgICAgICAgICAgICAgICAgICAgICAgICAgICAgICAgICAgICAgICAgICAgICAgICAgICAgICAgICAgICAgICAgICAgCiAgICAgICAgICAgICAgICAgICAgICAgICAgICAgICAgICAgICAgICAgICAgICAgICAgICAgICAgICAgICAgICAgICAgICAgICAgICAgICAgICAgICAgICAgICAgICAgICAgICAKICAgICAgICAgICAgICAgICAgICAgICAgICAgICAgICAgICAgICAgICAgICAgICAgICAgICAgICAgICAgICAgICAgICAgICAgICAgICAgICAgICAgICAgICAgICAgICAgICAgIAogICAgICAgICAgICAgICAgICAgICAgICAgICAgICAgICAgICAgICAgICAgICAgICAgICAgICAgICAgICAgICAgICAgICAgICAgICAgICAgICAgICAgICAgICAgICAgICAgICAgCiAgICAgICAgICAgICAgICAgICAgICAgICAgICAgICAgICAgICAgICAgICAgICAgICAgICAgICAgICAgICAgICAgICAgICAgICAgICAgICAgICAgICAgICAgICAgICAgICAgICAKICAgICAgICAgICAgICAgICAgICAgICAgICAgICAgICAgICAgICAgICAgICAgICAgICAgICAgICAgICAgICAgICAgICAgICAgICAgICAgICAgICAgICAgICAgICAgICAgICAgIAogICAgICAgICAgICAgICAgICAgICAgICAgICAgICAgICAgICAgICAgICAgICAgICAgICAgICAgICAgICAgICAgICAgICAgICAgICAgICAgICAgICAgICAgICAgICAgICAgICAgCiAgICAgICAgICAgICAgICAgICAgICAgICAgICAgICAgICAgICAgICAgICAgICAgICAgICAgICAgICAgICAgICAgICAgICAgICAgICAgICAgICAgICAgICAgICAgICAgICAgICAKICAgICAgICAgICAgICAgICAgICAgICAgICAgICAgICAgICAgICAgICAgICAgICAgICAgICAgICAgICAgICAgICAgICAgICAgICAgICAgICAgICAgICAgICAgICAgICAgICAgIAogICAgICAgICAgICAgICAgICAgICAgICAgICAgICAgICAgICAgICAgICAgICAgICAgICAgICAgICAgICAgICAgICAgICAgICAgICAgICAgICAgICAgICAgICAgICAgICAgICAgCiAgICAgICAgICAgICAgICAgICAgICAgICAgICAgICAgICAgICAgICAgICAgICAgICAgICAgICAgICAgICAgICAgICAgICAgICAgICAgICAgICAgICAgICAgICAgICAgICAgICAKICAgICAgICAgICAgICAgICAgICAgICAgICAgICAgICAgICAgICAgICAgICAgICAgICAgICAgICAgICAgICAgICAgICAgICAgICAgICAgICAgICAgICAgICAgICAgICAgICAgIAogICAgICAgICAgICAgICAgICAgICAgICAgICAgPD94cGFja2V0IGVuZD0ndyc/Pv/bAEMABwUFBgUEBwYFBggHBwgKEQsKCQkKFQ8QDBEYFRoZGBUYFxseJyEbHSUdFxgiLiIlKCkrLCsaIC8zLyoyJyorKv/bAEMBBwgICgkKFAsLFCocGBwqKioqKioqKioqKioqKioqKioqKioqKioqKioqKioqKioqKioqKioqKioqKioqKioqKv/AABEIAKUBRQMBIgACEQEDEQH/xAAfAAABBQEBAQEBAQAAAAAAAAAAAQIDBAUGBwgJCgv/xAC1EAACAQMDAgQDBQUEBAAAAX0BAgMABBEFEiExQQYTUWEHInEUMoGRoQgjQrHBFVLR8CQzYnKCCQoWFxgZGiUmJygpKjQ1Njc4OTpDREVGR0hJSlNUVVZXWFlaY2RlZmdoaWpzdHV2d3h5eoOEhYaHiImKkpOUlZaXmJmaoqOkpaanqKmqsrO0tba3uLm6wsPExcbHyMnK0tPU1dbX2Nna4eLj5OXm5+jp6vHy8/T19vf4+fr/xAAfAQADAQEBAQEBAQEBAAAAAAAAAQIDBAUGBwgJCgv/xAC1EQACAQIEBAMEBwUEBAABAncAAQIDEQQFITEGEkFRB2FxEyIygQgUQpGhscEJIzNS8BVictEKFiQ04SXxFxgZGiYnKCkqNTY3ODk6Q0RFRkdISUpTVFVWV1hZWmNkZWZnaGlqc3R1dnd4eXqCg4SFhoeIiYqSk5SVlpeYmZqio6Slpqeoqaqys7S1tre4ubrCw8TFxsfIycrS09TV1tfY2dri4+Tl5ufo6ery8/T19vf4+fr/2gAMAwEAAhEDEQA/APcaKKKDzRRRQKKBhRRRTAKKKKYzS0+cFPKY8jpV2sJHKMGU4I6VrW04njz/ABDqKTOmlO6syeiiikbhRRRQBQv7bI81ByPvCs+t4gMpB6Gsi6t/Ik4+6ehq4s5qsLaor0UUVZzAaSlNJTADQiGRwq9SaDV/TIQd0reuBQ3ZFQjzSsX4YxFGqDsKfRRWB6GwUUVDcXltZqGu7iKAMcAyuFz+dAE1Y2o3Hmz7FPypx9TWheXHlWpdCMtwprDJyea1prqc1eX2RKSlNJWxyhRRRQAlWrK8NtJhuUPUenvVWkptXVik2ndHTqwZQVOQehp1Ymn3phfy5D+7PT2NbQOa5ZRcWd0JqSuLSEZpaKksw9Ts/s7+ZH9xj09DWfXUyxrKhSQZU9RWDf2RtXyuTGeh9K6Kc7qzOSrTs7opUUtFbGJdooorhEKKKBRQMKKKKYBRRRTGFTW0/kTbux4IqGimCdnc3lYMoK8g0tZtjcbG8pzwentWlUHbCSkrhRRRQWFRzxCaMo34e1SUUBa5hSxmKRkbqDTK1L6281N6D51/WsvpWqdzhqR5WBpKU0lUZjoozLIEXqTW5FGIolRegFU9Og2oZSOW4H0q/Wcnc7KMLK4UUUVBsQXt7badZyXd/PHb28Qy8kjBVUfWvN/iFrej+KdH0/RLVZZJ9Rv4I4mmtJIvkMg3OjOoyMdSPWtPxwP7R8aeGNHuDiykmeeVD0kK/dH4dao+JNTtr/4qaJZRsnlaXBNcyMSAobbtHPsTmmldik7K5197OJHEacJGMDFVaM5oroSsjzpScndiGkpTSVQgooooASkpaQ1QwrSsNQ2bYZskHhW9KzaSpcVJWKjJxd0dVRWdp1+JVEUxw46E960a5WmnY7oyUldBUc8KzwtG3Rh+VSUUitzmrmzktpdrDIPQjvRXRsit94Z/CitlVZzujroYNFFFYnKKKralqNrpOmz32oSrDbwLudz2FWa4H4mtc3914d0CzZFbUL0u3mAlSIgGw2Occ0DLsvjW+tLW01PUNHW20m7mSJZGuMzIHOFZo9uAOR/Fn2rsa8t8cf23d6j4e8PXzae6Xl9GxS0jcMsaEEk7iRgYr0G/8QaVpdwkGoX0MErgEI55wf5UwNGikVldQykMpGQQetUtWWRrQCHVP7Mbd/rtqNn2+cEUwL1Fcv5N5/0O/wD5Btv/AImtHR450mk87xB/agxwnlxLs9/kANMDYrWtLjzo8N94dayKfFK0Thk60GkJcrJvEPiG38P2cTyRvcXNzKIbW1i+/NIew9B1JJ4AqjZeJr1fEsGi65YQ2lxdQNNbtBcGVWA6q2VXB/Me9c1ctqOv/F4PpjWu3RbDcq3asyrJIcEjaRztFJpzajq/xpzqTWsn9j2RVjaqwQF/XcTyKg7dz0qis1PEWkSan/Z6X8LXeSvlbuc+npn2rSoAKzNQgCMJVHB61Fd+Ifsl08H9k6rNsOPMhtdyN9DnmqV54qQWr7tD1rpx/oZ/xpp6kVEnEkNPhjMsqoO5qCCb7RbxzeXJFvUNskXay+xHY1sWMAihMr/eIz9BWjdkccI8zLaKEQKvQDFOrgNIur7xpDqesS6ldWOlwyyRWMdrMY9wTgyMw5OSDx04qx4Bk1rWol1zWb2TyTGYbe3V/kcAkGRh3JrI7zt6K5vxH4m1PRb6KDT/AAxfavG8e9prZgFU5I2nPfjP41kf8J94g/6J9rH/AH8WgDq9V0PTtaWL+07ZZjA2+JtxVkPqCCCK5zVfDeh32pw3EmnxtJbIY42DMPl7g4PzA++ay7/4j+IYYdq/D/WNzf8ATReKxv8AhP8AxB/0T/WP+/i1rTj1OWvP7J3eMDA4FJXCnx94g/6J/rH/AH8Wk/4T7xB/0T7WP+/i1qcx3ZrkL3xdqcHxEtvDNrpNvMk0IuDcm6KmOIHDErsPPoM88cit7Q9SudW0mO7vdNn0yZywNtOQXXBwCcevWuT8L/8AE2+KvibVsZSzii0+F/UffYfmBTA6PxD4hXRVt4IIGu9QvJPLtbZTjefUnso7mtDTlvlsk/tR4XuTy3kKQq+wzyfrx9K49D9s+Nkwn+YWGnL5PtvPNdzQBj+IPEMGgwQho3ubu6kEVtaxY3yue3PAHuapWHiS8/4SZND1ywhtLme2NzA1vcGVGUEAqSVUhhkdiPeuduF1PWfjBcvpzWu3R7RVj+1KzKGfrgKRzUejPqOr/Gq6k1FraQaNpwhZrVWCCSRgw+8TzjNUM9Jrnte1q+8Oz/b7uKOfRsqsrxgiW2zxuI6MueuMEehroaoa3bx3eg39vMu6OS3kVgf900CLkUqSxJLEwZHAZWHcdjW/p14LiEI5/eKOff3rzf4aXMlz4A0/zm3GNTGCepAOBXWRyNFIHjOGHTFTKPMjSnPlZ1NFV7OZ57cNKm1v51Yrleh3J3VwooopDOfqa3gM8u0cDuahrXsofKhBI+ZuTQcNOPMyL+zF/wCeh/Kua8TeC7rUdX0jV9Jnh+2aZI5EVwSqSq4AILAEjp6GuzooOr2cOxxWleB7o+JJPEOv3MMt/wCX5VvDACY7ZO+CQCSfXA+lYVjpMd3fePv7QkVmEhTLrysYhXb+HevUqxNR8I6Tql/JeXEcqyzKEnEUrIs6joHA+9+NAezh2MnwHp07+A9JNxNmT7OMkg8jJx+mK2bvw/bX8QivooLmMHISaIOM+uDWrDDHbwpDCgSONQqqBwAO1Pph7KJzf/CDaJ/0CNN/8A0/wqxaeF7HT3Z7C0tLVmGGaGBUJHvgVuUUXF7KJnf2Y/8Az0X8qP7Mf/nov5Vo0UXYeyicUnhfXNH8XahrGgvYTpqUCRzRXcjx+W6Zw4Kq27g/d4+taOieGx4c0fUJXnN1qV3vnubnGN7kHoOwHYV0lBGRg8g0jRJJWR5Mqq/wb8P3K4+2/wBowyIw+8ZjOQ3PXOCc16wmfLXd1wM1hQeDdHtr5bmOGTEcxnjgMpMSSHq6p0B5PNb1AwrM1GcMwjX+Hk/Wr1zMIYSx69h6msUksxJ5Jq4owrSsuUktovOuFXt1NbLJujKdARiq1hB5cW9h8zVbpSd2VSjyxOH8P+DtX0nwnL4YlubVdPUyiG4idjK6OzMFZSoCnLckE1reDNH1XQdCttM1JrMxWkflxm3ZmL853EkDH0wfrXRUVJqFYPjPxDceFvDVxq9vZxXi22GljknMXy9ODtbJzjjik8X+JP8AhHNMiaCHz727mEFtF2Zz3PsK4P4ix661romi6lqcd2us38UVxbrCqiNFYOxBHJA296aV2TJ8qudut5LfQxXE8Xku6KWj3Z2HHIzxms7WdcstBshcX7sN7iOKKNS0krnoqqOSTWjXm97dX+q/F1mtdP8A7Rg0O2+SPz1j2TSfxc9flzXQjzm7u51mm+J4NQ1Z9MuLK706+WITLBdhMuh43AozA/nmtqvOdIvLrW/jTczXVmbRtL08QPGJRIAXO7qOK9DW4heUxrKjSDqgYZH4UwINUv4dM0u4vLqVYo4YyxZjgDArlfhbYy2/hN7+5Rkm1S6lvGDj5gGPyj8hn8a6e/0bTtTkik1CyhuXhOYzKgbb9KuKoVQqgADgAdqYHD6yv/CP/E2x1ub5bHUYfsc8p6RyD7mfQH1ruKhu7O3v7V7a8hSaGQYZHGQRTNPsIdMs0tbXf5SZ2h3LbR6DPagDmpfD+tab4p1HVdAaxkTUY1EiXcjoYnA+8Nqtu+nH1pINOXwH4Q1bUQxvtQdXu7mYjHnSY447KPT0rrqjnhjuIHhnQPHIpV1YZDA8EVQHns+qa3pekaJrp1iS7F9PElxaSRoIyrnHyYGQRnuTXUeMdXTR/C95KfmnmQwW0Q+9JI4woA79c/hRp3gTSoLm3a2huJVtm3QQyTM8cJ9VU8Cukg8H6e2sLqt9F592gxHvbcsf+6D0/CplJR3LjBy2MPwL4ZudJ8I2FhIMSpGDKx6bjya7G102KDBf539SOlXAMdBgUtYSqNnXGlGIYooorM1CiiigDJsIPNm3H7q/zrWqjpjDy3XvnNXqDKkkohRRRQahRRSbh6igBaKTI9RS5oAKKM0UAFFFFABRRRQAUUVBdTeTCTnk8CgTdlcoX0vmXBXsvFNsofOuBn7q8moCSTk9TWtZQeTCCR8zcmtHojlguedyziiiiszrCiiigDjvHOkX93qnh/VtPtmvV0q5eSa2R1VnVlAyNxA4x3Ncnrtt4h1D4haPr76U89lbJMFtUmQNCzLhWfJA787c4969P1GfZF5a9W6/SsqtYLqcleV3YYhcxKZVVXwNwU5APseM1xUNhq/hzxfr1/Z6TLqkWreXJE0UyL5TqCNr7iCF5zkA/Su3orU5zjNI0K58L+GdX1K9mSfWb0SXVzKgO1XIJCrn+EVzhto7Dwn4S12zXZqU2o24nnH37gSvtdGPcEN36YFepTRJPA8Uo3JIpVh6g1zNj4HhtJbGOW/nuLHT5jPaWbqAsT84Oepxk4z0oA6jtSUppKYBRR1q5badJMQ0nyJ79TQ2luVGLk9CmAWOAMk1o2mllxvuMgf3a0IbWGH/AFaAH171NWMql9jphRS1YyOJIl2xqFHtT6KKyOgKKKKACignHWs+71SOFSsJ3v69hTSb2JlJRWpoZormZL24kbLTN+BxRWvsmZe2XYtQytDIHX8fetiGVZow69/0rDqzZT+VMFJ+VuDWJlSnyuxr0UCig7BCMjB5rKu7doHyDlCePataoriITQlD+FBE48yMbJ9aNzeppXQoxVhgim1RxajvMf8AvN+dL50n/PRvzplFMLskE8o/5aN+dO+0zD/lo1Q0tA+Zkv2uf/noaUXs/wDfqCimHNLuWft04/iH5VDLM8xzIc0yjGaYOTe5ZsrfzZdzfdX9a1qhtYvKt1UjnGTU1Zt3Z1048qCiiikaBTZHEaFm6AU6s/U5cBYlPXk00rsmcuVXKE8xnmZz36D0qOiiug85u+onaiisDxT4o/4ReO0lfT5ruO6nW3DROo2OxwvB65pgbxoozkU5InkbCKWPsKA3GVYt7KW45UbV9TV620xUw03zH07VfCgDAGBWcqnY6IUb6yKltp8cB3N87+p6VcFFFZNt7nTGKirIKKKKRQUUZqOWeOJSZHCj3NAbElVLnUIbY4J3N/dWqFzqryZWD5F9e9ZxJJyTk1tGnfc551rfCW7vUZLn5R8iegPWqZoordJLY5nJt3YlFJRTAvUUUVwiNOxud6+W/UdPcVdrBVijBlOCOhrZgmE0QYde9B10p3VmS0UUUG5VvLfzU3KPnX9ayq36y7228t96D5T19jTRz1YdUVKKKKo5gpRSUooASiiimAVbsId8m9hwvT61VUbmAHUnFbcMYijCL2pNmtKN3cfRRRUHYFFFFADZHEaFm6AZrClkMsrO3UmrmpTkt5SngctVCtYK2px1pXdhKKDRWhgc94n8THRJLOysrcXep6hJ5dtCWwox1Zj6CuW1pdd1Lx/4W0TWGsp4xcHUC1nC8e0xKSAwZ2zyRzx9K3dZ0O/i+J2ka7LZ3Nxp0dk9uRbxGRo5C2QxA6DB61ZsrXUrb4qSaneaPdNC+niG0MablQlxnc3RTgZ5qXNI2jSlLVnZ2umkkNPwP7taSIqKAgAHtTqKxbbOqMFHYKKKKRYUUGkDArkHI9aAFprOEXLEADuao3OppHlYfnb17Csua5lnbMjk+3YVpGDZjKrGOxfu9U/gtvxasx3Z2LOSxPc0lJkHoQfWt4xS2OWU3LcKQ0tIaskQ0lKaSgBKKKKBl6iiiuEQoqrq3iGLwxol3qlz80UEZYr/AHj0A/OrQrhvisDN4f02zb/VXeqQRSk9CmSSD9cUFJtO6LmqpqcXw8uvFOo6rew6r5P2mBIblkhh7qnlg7W7Z3A16Fply95pNpczLtkmgSRl9CVBIryTxd4f0mWTS/C2jWvl3uoXC7mWViYoV5ZiCenFeheIPEj+HfskNtpks0TzRwGX7sce7gdevHpmg7oy5lc6Oq97cWtrbF76eKCInbvlcKM/U1Yqjq5YWPyaWdUO4fuAUH4/OQOKCjCuNc0aCUodYsD3B+0p/jTrXVNPvpCllfW1w4GSsMyuQPwNVruOaaPjwG28dP3lp/8AF1FpBl+1OJPDTaThf9YWhO72+RiapHFUhys2KUUlKKozOW8Y67d2c2m6JorBNT1eUxxyEZ8iNRmSTHqB0z3NZV0JvDXjjQbOz1C+uV1Det1HdXTyhsD74DEhef7uB7VDfaba698bGttUi823s9F8yKNmK/O0oBYYPpxVfw7odpqPxcub3SLfZp+kRG3DKzOHmP3sZJ5FAHrFhb7n81ui9PrWlXN6Z4jluPFj6G2my20cdp9pSaYgGQbwvC9R364NdJUM7oR5VYKKyLvT9clune01yK3hY/JEbEOV/wCBbhmoP7L8R/8AQxw/+C5f/i6RZvUyWQRRl26Ckt0ljto0uJRNKqgPIE27j647Vl63e+VbybeRGhYgd8CmldkTlyq5h6r4p0jT75or+9VJvvNGqs5QHu20HaPrT4Nc0261L7BbXaS3IiExRMnCHoc9K4TwXNDF8L77xLqKia91X7RPMcbmY7mVUHsAo47c11vwq8M2un+D7W/cGS6v0E0rscnqcL9BWzaSOOMXN6HRwWks5+UYX1NaUFhHDgt87eprE8ReGtW1i+im0zxPeaPEkWxobeJWDHJO7nvzj8Kyf+ED8S/9FC1T/vwn+NZOTZ1RpRid3RXCf8IH4l/6KFqn/fhP8aP+ED8S/wDRQtU/78J/jUmp3dFcJ/wgfiX/AKKFqn/fhP8AGk/4QPxL/wBFC1T/AL8J/jQB3led6BDPqHxe12RdS1BrDTUjUWxvJDF5zjP3d2CAAeOmTXZwv/Y+hxpf3rXUltB+8nkwGlKjliPU1598Nb6W80bU9XBx/amoSyq46tGDtX+RqlFszlUUdzZ8R64+p+MIvC9nPJFBFD9o1BoH2uVP3UBHIz3I5rVjdLazSzsoltraMYSKPoOc/wA+a4Lw8cfF7xQr/fMEBGeu3Fd1W0YJHLKrKRx+vare6p4st/C+kXL2oEfn39zF9+OPsqnsT61X0e4l0z4pXfh+2urq4086Wl2Vurh5jFL5hUgM5LYIwcZxxWboOkadrnjbxbfa1AJGtroQIWcrhAuc8EcU34d2MK6p4j8UW1tILK4lFvYxoGcvHHwWXqSGb+RrUzPSq4zxZG/hQf8ACTaPuijSZf7Rtgf3c0bHBfb2cEg5GM981reG/EM2uz6lHcWLWTWU/k7HYMx4zk44qH4gsq/D/WC5AX7Mev1FAG9BMlxbxzRHKSKGU+xFPNZPhUMvhLTA4Ib7Mmc/StY0wENJSmkoASiiigZeooorhEKKqanpdnrNi1nqUCzwMQ20kggjoQRyCPUVbFFAzM0rw9pujXElxZQv9okAV7iaZ5pWA6De5LY9s1R8e67bjTrGzKzyXKXkMzpFA74QE5bIGK6GpIJjDKGHTuKZpTnys1LK9g1C0S5tWLRSDKlkKn8iAanpqMHUMpyDTqR2hVHUIBt81RyOtXqRgGXBGQaZMo8ysYNLU93b+RJlfuHpVeqOFpp2Zlap4b0zWLqO6vIpVuY0Maz287wvtPVSyEEr7Hitrw7pNnpFiIdPto7e3QYVEXA9z7n3pIYjNKEHfrWyiBFCqMAdKGzalG7ucGviCx/4W0Zf9I8j+zfsvnfZpNnm+bnbnH69K77rRRUHUFFFFAEU8nlQO/oOKw2+fO7nPWruoT7pPKU8L1+tVEQu4VepNaxVkcdWXNKyKXh/wTomnRzfZrMrDKXxC0rtGm/O7YhJCZyfugVtaP4f07QYfK0yFo1xtG+VpCq/3QWJIHsOKvxRiKJUHRRin1m3dnTCPLGwE4GTwK4b4l6vB/whV3/ZWqOmoI6LB9hvCkgdmCgHYwJHPQ1J8RL+5LaLoNlK0L6zdGJ5E6+WoywB7ZzWV4o0TSR4v8I6JYW0ccq3f2mTYPmaONS3zHvkgdaRZ6JZwtbWMEDyNK0caoZHYszEDGSTyTXPeIPEF2muWXh3Qtg1C7Bkknddy20I6uR3J6DtmumJA615Tpyf258SPFN7Hf3ls9o0VpE9rIFyuCxByD3xTSbJlJR3On03WL/T/HM/h/U9QbUIvsi3Mc8sSI6HOCp2KBj8K3bjU+qwD/gRrybwW8l54z8Sa/dX9xc2Nuws4Li6cEsE+8cgAEZrr9E8S2ev3V9BZRzqbJlVzNEU3FgSMA8446+9axh3OWdZv4Sp4xudVudNn0zR7Caa6u4ygumIEUWeCSc5z7Yq/wCHNHTQPDljpcRBW2iCEjuepP5k1p0lamBymvaVd6f4ot/E2kwm4ZY/IvbZPvSx9mHuK6Syu47+zjuYA4SQZAdSrDtyDU9FAGHf+ENF1K9lurq2k82YATCKeSNZgOgdVYB/xBrTxbaZYYRFgtrdOFjThFA6AD+lWKQ1QzhPBWt2k/iTXowtwhu7zzIDJbuokXHUEjH51a8TQ3Pi6dNAtIZI9OWZW1C5kXarKpz5ajvkgZPtXY0UCGRxrFEkcYwqKFUegFKaWkNMYhpKU0lACUUUUDL1FFFcIhRRQKKBhRRRTAt2d15R2P8AdPT2rUrBrVs7gSxhSfmXr70HTSn0ZZooopHQQ3Sq1u+/oB1rGq/qE+SIlPuaqQRGaUKPxqlsclR80rIvafDtj8w9W6fSrtIqhVAHAFLUnTGPKrBRRRQUFQ3U/kQlu54FTVl6jNvkCL0Xr9aaV2RUlyxKbEliT1NX9Ot/+WzfRapRRmSVUHc4rcRQihV6AVcmc9GN3djqKKjlnjhXMjAe1ZnU3bcyfEPhq28QNZSyTzWt1Yy+bb3EON0ZIweoIIPuKyNQ8K2La1aaqupXqajbq6NNGylpQwwQcjA9tuMdq2rnUHlBWP5V9e5qnWkYdznnW6RJZLmR0CBmCKMAFiSfqTya5W68GxS6nfXljqV5p/8AaIAvI7YqBNgYzkglTjjKkGukorVKxzOTb1KWnabY6FpMVlYRJbWluuFUcADuSf61ynhPVbC48ceKI4byB3kmh2BZAd+EOcev4V2zosiFXUMrDBBGQapw6PpltMstvp1pFIv3XSBVI+hApiLhpKU0lMAooooASkNLSGqGFFFFAhKQ0tIaYxDSUppKAEooooGXqKKK4RCiiiigYUUUUwCnxuY3DL1FFFMZtRtuQH1FJKxSJmHUCiikd32TEJLMSeprT0+MLBu7tRRTexz0tZFuiiipOoKKKKAIrhzHA7L1A4rEJzyaKK0iclbcvabGCzOeo4FaNFFTLc2p/CUb28eJvLTj3rNZi7ZY5PvRRWkTmqNuVhpoooqzITtRRRTAQ0lFFAAaSiimAUUUUAJSGiiqGFFFFAhKQ0UUxiGkoooASiiigZ//2Q==)"
      ],
      "metadata": {
        "id": "tV38eRoSJoP3"
      }
    },
    {
      "cell_type": "markdown",
      "source": [
        "Here, alpha is the learning rate and it is a constant. I am not showing the same formula for all the theta values. But It is the same formula for all the theta values. After the differentiation, the formula comes out to be:"
      ],
      "metadata": {
        "id": "7guZg8BdJome"
      }
    },
    {
      "cell_type": "markdown",
      "source": [
        "![copy.JPG](data:image/jpeg;base64,/9j/4AAQSkZJRgABAQEAeAB4AAD/4REiRXhpZgAATU0AKgAAAAgABAE7AAIAAAAdAAAISodpAAQAAAABAAAIaJydAAEAAAA6AAAQ4OocAAcAAAgMAAAAPgAAAAAc6gAAAAgAAAAAAAAAAAAAAAAAAAAAAAAAAAAAAAAAAAAAAAAAAAAAAAAAAAAAAAAAAAAAAAAAAAAAAAAAAAAAAAAAAAAAAAAAAAAAAAAAAAAAAAAAAAAAAAAAAAAAAAAAAAAAAAAAAAAAAAAAAAAAAAAAAAAAAAAAAAAAAAAAAAAAAAAAAAAAAAAAAAAAAAAAAAAAAAAAAAAAAAAAAAAAAAAAAAAAAAAAAAAAAAAAAAAAAAAAAAAAAAAAAAAAAAAAAAAAAAAAAAAAAAAAAAAAAAAAAAAAAAAAAAAAAAAAAAAAAAAAAAAAAAAAAAAAAAAAAAAAAAAAAAAAAAAAAAAAAAAAAAAAAAAAAAAAAAAAAAAAAAAAAAAAAAAAAAAAAAAAAAAAAAAAAAAAAAAAAAAAAAAAAAAAAAAAAAAAAAAAAAAAAAAAAAAAAAAAAAAAAAAAAAAAAAAAAAAAAAAAAAAAAAAAAAAAAAAAAAAAAAAAAAAAAAAAAAAAAAAAAAAAAAAAAAAAAAAAAAAAAAAAAAAAAAAAAAAAAAAAAAAAAAAAAAAAAAAAAAAAAAAAAAAAAAAAAAAAAAAAAAAAAAAAAAAAAAAAAAAAAAAAAAAAAAAAAAAAAAAAAAAAAAAAAAAAAAAAAAAAAAAAAAAAAAAAAAAAAAAAAAAAAAAAAAAAAAAAAAAAAAAAAAAAAAAAAAAAAAAAAAAAAAAAAAAAAAAAAAAAAAAAAAAAAAAAAAAAAAAAAAAAAAAAAAAAAAAAAAAAAAAAAAAAAAAAAAAAAAAAAAAAAAAAAAAAAAAAAAAAAAAAAAAAAAAAAAAAAAAAAAAAAAAAAAAAAAAAAAAAAAAAAAAAAAAAAAAAAAAAAAAAAAAAAAAAAAAAAAAAAAAAAAAAAAAAAAAAAAAAAAAAAAAAAAAAAAAAAAAAAAAAAAAAAAAAAAAAAAAAAAAAAAAAAAAAAAAAAAAAAAAAAAAAAAAAAAAAAAAAAAAAAAAAAAAAAAAAAAAAAAAAAAAAAAAAAAAAAAAAAAAAAAAAAAAAAAAAAAAAAAAAAAAAAAAAAAAAAAAAAAAAAAAAAAAAAAAAAAAAAAAAAAAAAAAAAAAAAAAAAAAAAAAAAAAAAAAAAAAAAAAAAAAAAAAAAAAAAAAAAAAAAAAAAAAAAAAAAAAAAAAAAAAAAAAAAAAAAAAAAAAAAAAAAAAAAAAAAAAAAAAAAAAAAAAAAAAAAAAAAAAAAAAAAAAAAAAAAAAAAAAAAAAAAAAAAAAAAAAAAAAAAAAAAAAAAAAAAAAAAAAAAAAAAAAAAAAAAAAAAAAAAAAAAAAAAAAAAAAAAAAAAAAAAAAAAAAAAAAAAAAAAAAAAAAAAAAAAAAAAAAAAAAAAAAAAAAAAAAAAAAAAAAAAAAAAAAAAAAAAAAAAAAAAAAAAAAAAAAAAAAAAAAAAAAAAAAAAAAAAAAAAAAAAAAAAAAAAAAAAAAAAAAAAAAAAAAAAAAAAAAAAAAAAAAAAAAAAAAAAAAAAAAAAAAAAAAAAAAAAAAAAAAAAAAAAAAAAAAAAAAAAAAAAAAAAAAAAAAAAAAAAAAAAAAAAAAAAAAAAAAAAAAAAAAAAAAAAAAAAAAAAAAAAAAAAAAAAAAAAAAAAAAAAAAAAAAAAAAAAAAAAAAAAAAAAAAAAAAAAAAAAAAAAAAAAAAAAAAAAAAAAAAAAAAAAAAAAAAAAAAAAAAAAAAAAAAAAAAAAAAAAAAAAAAAAAAAAAAAAAAAAAAAAAAAAAAAAAAAAAAAAAAAAAAAAAAAAAAAAAAAAAAAAAAAAAAAAAAAAAAAAAAAAAAAAAAAAAAAAAAAAAAAAAAAAAAAAAAAAAAAAAAAAAAAAAAAAAAAAAAAAAAAAAAAAAAAAAAAAAAAAAAAAAAAAAAAAAAAAAAAAAAAAAAAAAAAAAAAAAAAAAAAAAAAAAAAAAAAAAAAAAAAAAAAAAAAAAAAAAAAAAAAAAAAAAAAAAAAAAAAAAAAAAAAAAAAAAAAAAAAAAAAAAAAAAAAAAAAAAAAAAAAAAAAAAAAAAAAAAAAAAAAAAAAAAAAAAAAAAAAAAAAAAAAAAAAAAAAAAAAAAAAAAAAAAAAAAAAAAAAAAAAAAAAAAAAAAAAAAAAAAAAAAAAAAAAAAAAAAAAAAAAAAAAAAAAAAAAAAAAAAAAAAAAAAAAAAAAAAAAAAAAAAAAAAAAAAAAAAAAAAAAAAAAAAAAAAAAAAAAAAAAAAAAAAAAAAAAAAAAAAAAAAAAAAAAAAAAAAAAAAAAAAAAAAAAAAAAAAAAAAAAAAAAAAAAAAAAAAAAAAAAAAAAAAAAAAAAAAAAAAAAAAAAAAAAAAAAAAAAAAAAAAAAAAAAAAAAAAAAAAAAAAAAAAAAAAAAAAAAAAAAAAAAAAAAAAAAAAAAAAAAAAAAAAAAAAAAAAAAAAAAAAAAAAAAAAAAAAAAAAAAAAAAAAAAAAAAAAAAAAAAAAAAAAAAAAAAAAAAAAAAAAAAAAAAAAAAAAAAAAAAAAAAAAAAAAAAAAAAAAAAAAAAAAAAAAAAAAAAAAAAAAAAAAAAAAAAAAAAAAAAAAAAAAAAAAAAAAAAAAAAAAAAAAAAAAAAAAAAAAAAAAAAAAAAAAAAAAAAAAAAAAAAAAAAAAAAAAAAAAAAAAAAAAAAAAAAAAAAAAAAAAAAAAAAAAAAAAAAAAAAAAAAAAAAAAAAAAAAAAAAAAAAAAAAAAAAAAAAAAAAAAAAAAAAAAAAAEFudWdhbnRpIFN1cmVzaCAoQ29uc3VsdGFudCkAAAAFkAMAAgAAABQAABC2kAQAAgAAABQAABDKkpEAAgAAAAMyOQAAkpIAAgAAAAMyOQAA6hwABwAACAwAAAiqAAAAABzqAAAACAAAAAAAAAAAAAAAAAAAAAAAAAAAAAAAAAAAAAAAAAAAAAAAAAAAAAAAAAAAAAAAAAAAAAAAAAAAAAAAAAAAAAAAAAAAAAAAAAAAAAAAAAAAAAAAAAAAAAAAAAAAAAAAAAAAAAAAAAAAAAAAAAAAAAAAAAAAAAAAAAAAAAAAAAAAAAAAAAAAAAAAAAAAAAAAAAAAAAAAAAAAAAAAAAAAAAAAAAAAAAAAAAAAAAAAAAAAAAAAAAAAAAAAAAAAAAAAAAAAAAAAAAAAAAAAAAAAAAAAAAAAAAAAAAAAAAAAAAAAAAAAAAAAAAAAAAAAAAAAAAAAAAAAAAAAAAAAAAAAAAAAAAAAAAAAAAAAAAAAAAAAAAAAAAAAAAAAAAAAAAAAAAAAAAAAAAAAAAAAAAAAAAAAAAAAAAAAAAAAAAAAAAAAAAAAAAAAAAAAAAAAAAAAAAAAAAAAAAAAAAAAAAAAAAAAAAAAAAAAAAAAAAAAAAAAAAAAAAAAAAAAAAAAAAAAAAAAAAAAAAAAAAAAAAAAAAAAAAAAAAAAAAAAAAAAAAAAAAAAAAAAAAAAAAAAAAAAAAAAAAAAAAAAAAAAAAAAAAAAAAAAAAAAAAAAAAAAAAAAAAAAAAAAAAAAAAAAAAAAAAAAAAAAAAAAAAAAAAAAAAAAAAAAAAAAAAAAAAAAAAAAAAAAAAAAAAAAAAAAAAAAAAAAAAAAAAAAAAAAAAAAAAAAAAAAAAAAAAAAAAAAAAAAAAAAAAAAAAAAAAAAAAAAAAAAAAAAAAAAAAAAAAAAAAAAAAAAAAAAAAAAAAAAAAAAAAAAAAAAAAAAAAAAAAAAAAAAAAAAAAAAAAAAAAAAAAAAAAAAAAAAAAAAAAAAAAAAAAAAAAAAAAAAAAAAAAAAAAAAAAAAAAAAAAAAAAAAAAAAAAAAAAAAAAAAAAAAAAAAAAAAAAAAAAAAAAAAAAAAAAAAAAAAAAAAAAAAAAAAAAAAAAAAAAAAAAAAAAAAAAAAAAAAAAAAAAAAAAAAAAAAAAAAAAAAAAAAAAAAAAAAAAAAAAAAAAAAAAAAAAAAAAAAAAAAAAAAAAAAAAAAAAAAAAAAAAAAAAAAAAAAAAAAAAAAAAAAAAAAAAAAAAAAAAAAAAAAAAAAAAAAAAAAAAAAAAAAAAAAAAAAAAAAAAAAAAAAAAAAAAAAAAAAAAAAAAAAAAAAAAAAAAAAAAAAAAAAAAAAAAAAAAAAAAAAAAAAAAAAAAAAAAAAAAAAAAAAAAAAAAAAAAAAAAAAAAAAAAAAAAAAAAAAAAAAAAAAAAAAAAAAAAAAAAAAAAAAAAAAAAAAAAAAAAAAAAAAAAAAAAAAAAAAAAAAAAAAAAAAAAAAAAAAAAAAAAAAAAAAAAAAAAAAAAAAAAAAAAAAAAAAAAAAAAAAAAAAAAAAAAAAAAAAAAAAAAAAAAAAAAAAAAAAAAAAAAAAAAAAAAAAAAAAAAAAAAAAAAAAAAAAAAAAAAAAAAAAAAAAAAAAAAAAAAAAAAAAAAAAAAAAAAAAAAAAAAAAAAAAAAAAAAAAAAAAAAAAAAAAAAAAAAAAAAAAAAAAAAAAAAAAAAAAAAAAAAAAAAAAAAAAAAAAAAAAAAAAAAAAAAAAAAAAAAAAAAAAAAAAAAAAAAAAAAAAAAAAAAAAAAAAAAAAAAAAAAAAAAAAAAAAAAAAAAAAAAAAAAAAAAAAAAAAAAAAAAAAAAAAAAAAAAAAAAAAAAAAAAAAAAAAAAAAAAAAAAAAAAAAAAAAAAAAAAAAAAAAAAAAAAAAAAAAAAAAAAAAAAAAAAAAAAAAAAAAAAAAAAAAAAAAAAAAAAAAAAAAAAAAAAAAAAAAAAAAAAAAAAAAAAAAAAAAAAAAAAAAAAAAAAAAAAAAAAAAAAAAAAAAAAAAAAAAAAAAAAAAAAAAAAAAAAAAAAAAAAAAAAAAAAAAAAAAAAAAAAAAAAAAAAAAAAAAAAAAAAAAAAAAAAAAAAAAAAAAAAAAAAAAAAAAAAAAAAAAAAAAAAAAAAAAAAAAAAAAAAAAAAAAAAAAAAAAAAAAAAAAAAAAAAAAAAAAAAAAAAAAAAAAAAAAAAAAAAAAAAAAAAAAAAAAAAAAAAAAAAAAAAAAAAAAAAAAAAAAAAAAAAAAAAAAAAAAAAAAAAAAAAAAAAAAAAAAAAAAAAAAAAAAAAAAAAAAAAAAAAAAAAAAAAAAAAAAAAAAAAAAAAAAAAAAAAAAAAAAAAAAAAAAAAAAAAAAAAAAAAAAAAAAAAAAAAAAAAAAAAAAAAAAAAAAAAAAAAAAAAAAAAAAAAAAAAAAAAAAAAAAAAAAAAAAAAAAAAAAAAAAAAAAAAAAAAAAAAAAAAAAAAAAAAAAAAAAAAAAAAAAAAAAAAAAAAAAAAAAAAAAAAAAAAAAAAAAAAAAAAAAAAAAAAAAAAAAAAAAAAAAAAAAAAAAAAAAAAAAAAAAAAAAAAAAAAAAAAAAAAAAAAAAAAAAAAAAAAAAAAAAAAAAAAAAAAAAAAAAAAAAAAAAAAAAAAAAAAAAAAAAAAAAAAAAAAAAAAAAAAAAAAAAAAAAAAAAAAAAAAAAAAAAAAAAAAAAAAAAAAAAAAAAAAAAAAAAAAAAAAAAAAAAAAAAAAAAAAAAAAAAAAAAAAAAAAAAAAAAAAAAAAAAAAAAAAAAAAAAAAAAAAAAAAAAAAAAAAAAAAAAAAAAAAAAAAAAAAAAAAAAAAAAAAAAAAAAAAAAAAAAAAAAMjAyMjowMToxOCAxMzoxNToxNAAyMDIyOjAxOjE4IDEzOjE1OjE0AAAAQQBuAHUAZwBhAG4AdABpACAAUwB1AHIAZQBzAGgAIAAoAEMAbwBuAHMAdQBsAHQAYQBuAHQAKQAAAP/hCy9odHRwOi8vbnMuYWRvYmUuY29tL3hhcC8xLjAvADw/eHBhY2tldCBiZWdpbj0n77u/JyBpZD0nVzVNME1wQ2VoaUh6cmVTek5UY3prYzlkJz8+DQo8eDp4bXBtZXRhIHhtbG5zOng9ImFkb2JlOm5zOm1ldGEvIj48cmRmOlJERiB4bWxuczpyZGY9Imh0dHA6Ly93d3cudzMub3JnLzE5OTkvMDIvMjItcmRmLXN5bnRheC1ucyMiPjxyZGY6RGVzY3JpcHRpb24gcmRmOmFib3V0PSJ1dWlkOmZhZjViZGQ1LWJhM2QtMTFkYS1hZDMxLWQzM2Q3NTE4MmYxYiIgeG1sbnM6ZGM9Imh0dHA6Ly9wdXJsLm9yZy9kYy9lbGVtZW50cy8xLjEvIi8+PHJkZjpEZXNjcmlwdGlvbiByZGY6YWJvdXQ9InV1aWQ6ZmFmNWJkZDUtYmEzZC0xMWRhLWFkMzEtZDMzZDc1MTgyZjFiIiB4bWxuczp4bXA9Imh0dHA6Ly9ucy5hZG9iZS5jb20veGFwLzEuMC8iPjx4bXA6Q3JlYXRlRGF0ZT4yMDIyLTAxLTE4VDEzOjE1OjE0LjI4ODwveG1wOkNyZWF0ZURhdGU+PC9yZGY6RGVzY3JpcHRpb24+PHJkZjpEZXNjcmlwdGlvbiByZGY6YWJvdXQ9InV1aWQ6ZmFmNWJkZDUtYmEzZC0xMWRhLWFkMzEtZDMzZDc1MTgyZjFiIiB4bWxuczpkYz0iaHR0cDovL3B1cmwub3JnL2RjL2VsZW1lbnRzLzEuMS8iPjxkYzpjcmVhdG9yPjxyZGY6U2VxIHhtbG5zOnJkZj0iaHR0cDovL3d3dy53My5vcmcvMTk5OS8wMi8yMi1yZGYtc3ludGF4LW5zIyI+PHJkZjpsaT5BbnVnYW50aSBTdXJlc2ggKENvbnN1bHRhbnQpPC9yZGY6bGk+PC9yZGY6U2VxPg0KCQkJPC9kYzpjcmVhdG9yPjwvcmRmOkRlc2NyaXB0aW9uPjwvcmRmOlJERj48L3g6eG1wbWV0YT4NCiAgICAgICAgICAgICAgICAgICAgICAgICAgICAgICAgICAgICAgICAgICAgICAgICAgICAgICAgICAgICAgICAgICAgICAgICAgICAgICAgICAgICAgICAgICAgICAgICAgICAKICAgICAgICAgICAgICAgICAgICAgICAgICAgICAgICAgICAgICAgICAgICAgICAgICAgICAgICAgICAgICAgICAgICAgICAgICAgICAgICAgICAgICAgICAgICAgICAgICAgIAogICAgICAgICAgICAgICAgICAgICAgICAgICAgICAgICAgICAgICAgICAgICAgICAgICAgICAgICAgICAgICAgICAgICAgICAgICAgICAgICAgICAgICAgICAgICAgICAgICAgCiAgICAgICAgICAgICAgICAgICAgICAgICAgICAgICAgICAgICAgICAgICAgICAgICAgICAgICAgICAgICAgICAgICAgICAgICAgICAgICAgICAgICAgICAgICAgICAgICAgICAKICAgICAgICAgICAgICAgICAgICAgICAgICAgICAgICAgICAgICAgICAgICAgICAgICAgICAgICAgICAgICAgICAgICAgICAgICAgICAgICAgICAgICAgICAgICAgICAgICAgIAogICAgICAgICAgICAgICAgICAgICAgICAgICAgICAgICAgICAgICAgICAgICAgICAgICAgICAgICAgICAgICAgICAgICAgICAgICAgICAgICAgICAgICAgICAgICAgICAgICAgCiAgICAgICAgICAgICAgICAgICAgICAgICAgICAgICAgICAgICAgICAgICAgICAgICAgICAgICAgICAgICAgICAgICAgICAgICAgICAgICAgICAgICAgICAgICAgICAgICAgICAKICAgICAgICAgICAgICAgICAgICAgICAgICAgICAgICAgICAgICAgICAgICAgICAgICAgICAgICAgICAgICAgICAgICAgICAgICAgICAgICAgICAgICAgICAgICAgICAgICAgIAogICAgICAgICAgICAgICAgICAgICAgICAgICAgICAgICAgICAgICAgICAgICAgICAgICAgICAgICAgICAgICAgICAgICAgICAgICAgICAgICAgICAgICAgICAgICAgICAgICAgCiAgICAgICAgICAgICAgICAgICAgICAgICAgICAgICAgICAgICAgICAgICAgICAgICAgICAgICAgICAgICAgICAgICAgICAgICAgICAgICAgICAgICAgICAgICAgICAgICAgICAKICAgICAgICAgICAgICAgICAgICAgICAgICAgICAgICAgICAgICAgICAgICAgICAgICAgICAgICAgICAgICAgICAgICAgICAgICAgICAgICAgICAgICAgICAgICAgICAgICAgIAogICAgICAgICAgICAgICAgICAgICAgICAgICAgICAgICAgICAgICAgICAgICAgICAgICAgICAgICAgICAgICAgICAgICAgICAgICAgICAgICAgICAgICAgICAgICAgICAgICAgCiAgICAgICAgICAgICAgICAgICAgICAgICAgICAgICAgICAgICAgICAgICAgICAgICAgICAgICAgICAgICAgICAgICAgICAgICAgICAgICAgICAgICAgICAgICAgICAgICAgICAKICAgICAgICAgICAgICAgICAgICAgICAgICAgICAgICAgICAgICAgICAgICAgICAgICAgICAgICAgICAgICAgICAgICAgICAgICAgICAgICAgICAgICAgICAgICAgICAgICAgIAogICAgICAgICAgICAgICAgICAgICAgICAgICAgICAgICAgICAgICAgICAgICAgICAgICAgICAgICAgICAgICAgICAgICAgICAgICAgICAgICAgICAgICAgICAgICAgICAgICAgCiAgICAgICAgICAgICAgICAgICAgICAgICAgICAgICAgICAgICAgICAgICAgICAgICAgICAgICAgICAgICAgICAgICAgICAgICAgICAgICAgICAgICAgICAgICAgICAgICAgICAKICAgICAgICAgICAgICAgICAgICAgICAgICAgICAgICAgICAgICAgICAgICAgICAgICAgICAgICAgICAgICAgICAgICAgICAgICAgICAgICAgICAgICAgICAgICAgICAgICAgIAogICAgICAgICAgICAgICAgICAgICAgICAgICAgICAgICAgICAgICAgICAgICAgICAgICAgICAgICAgICAgICAgICAgICAgICAgICAgICAgICAgICAgICAgICAgICAgICAgICAgCiAgICAgICAgICAgICAgICAgICAgICAgICAgICAgICAgICAgICAgICAgICAgICAgICAgICAgICAgICAgICAgICAgICAgICAgICAgICAgICAgICAgICAgICAgICAgICAgICAgICAKICAgICAgICAgICAgICAgICAgICAgICAgICAgICAgICAgICAgICAgICAgICAgICAgICAgICAgICAgICAgICAgICAgICAgICAgICAgICAgICAgICAgICAgICAgICAgICAgICAgIAogICAgICAgICAgICAgICAgICAgICAgICAgICAgPD94cGFja2V0IGVuZD0ndyc/Pv/bAEMABwUFBgUEBwYFBggHBwgKEQsKCQkKFQ8QDBEYFRoZGBUYFxseJyEbHSUdFxgiLiIlKCkrLCsaIC8zLyoyJyorKv/bAEMBBwgICgkKFAsLFCocGBwqKioqKioqKioqKioqKioqKioqKioqKioqKioqKioqKioqKioqKioqKioqKioqKioqKv/AABEIAJkBUgMBIgACEQEDEQH/xAAfAAABBQEBAQEBAQAAAAAAAAAAAQIDBAUGBwgJCgv/xAC1EAACAQMDAgQDBQUEBAAAAX0BAgMABBEFEiExQQYTUWEHInEUMoGRoQgjQrHBFVLR8CQzYnKCCQoWFxgZGiUmJygpKjQ1Njc4OTpDREVGR0hJSlNUVVZXWFlaY2RlZmdoaWpzdHV2d3h5eoOEhYaHiImKkpOUlZaXmJmaoqOkpaanqKmqsrO0tba3uLm6wsPExcbHyMnK0tPU1dbX2Nna4eLj5OXm5+jp6vHy8/T19vf4+fr/xAAfAQADAQEBAQEBAQEBAAAAAAAAAQIDBAUGBwgJCgv/xAC1EQACAQIEBAMEBwUEBAABAncAAQIDEQQFITEGEkFRB2FxEyIygQgUQpGhscEJIzNS8BVictEKFiQ04SXxFxgZGiYnKCkqNTY3ODk6Q0RFRkdISUpTVFVWV1hZWmNkZWZnaGlqc3R1dnd4eXqCg4SFhoeIiYqSk5SVlpeYmZqio6Slpqeoqaqys7S1tre4ubrCw8TFxsfIycrS09TV1tfY2dri4+Tl5ufo6ery8/T19vf4+fr/2gAMAwEAAhEDEQA/APo+iiigAooooAKKKKAEZQy4YZFUbixI+aHp6VfooJlFS3MMgqSGGCKStmSCOUfOoJ9e9UJ7J4+U+Zao5pUmtirRRRTMQoopaAEooopgFBooNMBKKKKYhDRQaKYCGig0UwENJSmkpiA0UGimAhpKU0lAAaKDRTASiijr0pgJQAWICjJNXLbTpJsM/wAiep61qQ2sUH+rQA+veolUSNoUnLcoWul7gHuOB/dFaaIsa7UUKPQU6isJSctzqjBR2CiiipLCiiigAooooAKKKKACiiigAooooAKKKKACiiigCtNZpLyvyN6iqM1tJAeeR6itekIBGCMincylTjIw6WtC4sQ2Wh4PpVF4nj4dSKq5zSg4jKKKKogKDRQaAEooopiENeZfFddYtdEW7/tVoYDeRRrbQDaGUnHzN1NemmvPfjO6r4Mg3MBm9hxk/wC1TA9BooByARyMUUwENJSmkpiA0UGimAhpKU0lMAop6RPKcRoWPsK0bbTAuGn5P90VLkkXGEpbFG3tJbn7gwvdjWlbaekB3Md7fyq2qhRhQAPQUtYym2dcaUYhRRRUGoUUUUAFFFFABRRRQAUUUUAFFFFAGN4i8RRaFFbxpC11fXcgitbWM/NIx/kB3NU7DxHfL4qTQdbtbeC4mtjcwvbyF1ZQcEHIGCK52SPU9a+L13Pps9pGNItBHH9rhaVVZ/vEBWXBx70zQ/7Q1b4z31xqU1tcf2PYi2L20TJHuc7sYZmORyOtAHpVFZUPibR7jUhYQ30bXBYqFwQGI6gNjBPsDWrQAUVh60R9rXPil9I+X/Ur9n+b3/eITWblf+ihy/nZf/GqAOuoqjpGPsAxqrar8x/0hvL59v3YC/pV6gDJ8ReILfw9YJNMjTTzyrBbW6femkboo/nn0FZ1t4k1G38R2ela7ZW9u19GzwPbyl8EdVbIHP04rB1hNR1r4x2tvp01tGNG05rhTdRNIgkkbZ91WXnb3zUMB1TVfjPbQalPa3C6RaM7m1haNVZ+mdzNzQB6XSMiuuGAI96y/wDhJtH/ALUGn/b4/tJfYFwcbv7u7GM+2c1q0AZ09gy5MXzD0qoQQcEYNS3uuy2d48C6JqlyExiWCNCjcZ4JcH26VTl15peX8Na1n1EMf/xyqTMJUU9iag09YpHtUn8mWIOMmOUAOnsQCajY4Uk9AM1aOZxa3CivP9Gnu/G1vqet3epXdppkcskVhFZ3DQjbHkGVmQgsSQeCccdKsfD8axrEK69rV/M8ZjMNtbrIRG6gkeYy9CxpiO3NYmqeDtA1q4M2q6ZFdSMckyFj+mcVX8SeIdb0i+jh0jwtcazE8e9porhYwjZI24I9AD+NY/8Awm/iz/ond9/4HR/4UxHX6dpVlpEDQadAIY2bcVDE8/iat1wh8b+LP+id33/gdH/hXX6Td3N/pMFzfWL6fcSLl7Z3DGM56Ejg0wOWfxZrc3jq98OWthp8bwRiWGS5ndfPQ9wFU9O9aGha3q974i1LS9WsLaAWUcbia3lZw+/OOoH901k61Zf2x8TdJuNFfbc6WCL6YD5RGekZPc98V28cqTLuidXXJGVORkUxHOz67d6n4gm0jQBGPsePtl3KMrGT/AB3b+VVfG2r6xpF1oMejXEIa+1BLWWKSHdlCCzODnjAX9ap/CJjc+C31GXBuL28nkmbH3m3kU/XbK9174s6DptlJ5K2FrNeTSYyUD4jBA6Z6gZ6Zz2oukNRb2O2AJwOp9qvW2nM+Gm+VfTua5XwZFLB4/8AEVpBeXVzp1qsaILqdpikuPmwWJIHsOK7K21OK61S8sUinV7MIXkePCNuBI2nvjHPpkVnKp2OmFFLWRbSNY1CooUe1Ooqhqepvp3lbNOvb7zM5+yorbMY67mHXP6GsjpL9FYP/CTTf9C5rX/fmP8A+OVo6bqL6hG7PYXlltONt0iqW9xhjQBdorK8QaVJq2myRQ313ZuEYobWYxHdjgllweD2zj1rhhrN/wCIPg/pgW9u4NbvJBapLBM0cnmo5VmJUjPCkn8KAPTq5vV9cvfDmopPqSpNpFxKIxNGMNbMem4d1z3rQjvF0r+zNMn+1XM86+WJtpflVyWdj06VX8aW0d34K1aGddyG2Y49wMj9RQBtghlBU5BGQR3pawfBF1Le+B9JuJzuke2XJ+nH9K3qACiiigAooooAKKKKAOTk8O6vp/ibUNV0CWzK6kiiVLosDGw/iGAc/Q4qWw8Op4Z8J6msErXF9cRy3FxcsPmllKkk+3PQV09IQCCCMg9RQB5U6q3wt8KSwbftY1C2aIr1Mhmw36E5r1asS08H6LZX6XdvasHjkMscbSu0cTnqyxk7VPPUCtugCtcadZXcge6s7edwMBpIlYgfiKi/sTSv+gZZ/wDgOv8AhV6igCOC3htY/LtoY4UznbGoUfkKkoooA5a88PapbeMJ9e0GS0L3VqLeeG6ZlAKtkOCoOeuMfrVjQ/DY0GyvriWY3WpXhaW5uMY3NjoB2AroaKAPJQok+B1vMcfbv7QDqf4jN9rxz3zivV4c/Z49/wB7aM/XFYyeDtEj1H7YloQ/nfaBF5reUJf+enl527v9rGa3KACiiigAqpc2Ec6tt+QsMVboo2E4p7nl+jeBNW0PwxL4anurf+zFaUQzRFvMZHZmCsMADluoJrR8HaLqegaJb6ZqE1q8NrGY4vI3EtznJJAx9K74gMMEZFUbiwyd0OP92tFI5p0WtjPNFc748utS0Xw3d6jaXv2EWsW/iFXZ2zgD5gRj8M1zPiHxH4m07wfpmuR3Aiup5YEGnrCjCfeRkEkZBPsRVnPsejmqGtx6nLo9xHoUkEV867YpLgnYhPfgE8Vy2paxr2m+MvD1rJeI8epu4ubNYl2wqBkFWxu68cmu6SN5Gwilj7Uw3PMNP8L/ABH0vS2sbPVtBRXyXlMUhkdj1Ytjk13fhLQLjSfDtpp0riWaJSZphnDOSST+ZrobbTv4p/wWtBVCrhRgegqXPsbwot6yPO/hzpkXhq91LwteHEttcPPaBuBJC5yCPXBODXRaV4cubTxxrGu3csLpdxRQWqJndGi5LBsjucdK1dS0aw1byjfQCR4W3RSAlXjP+yw5H4VeAwMVk23udMYqOxyfh7w3qehavqszXFqbS+u3uWcbjKc9iCMDHrk1L4Fubu90u+ury7muo5NQmW2aUglYlO0DgeqtXTMoZSrDIIwRWfpGg6focciabC0ayMSQ0jPjJLYGScDLE4HGSaRRo0UUUAFFFFAFS91Sw09JDfXcMGyIysJHAIQcFsemTXFfDvw5Ij3OtXZf7NPczy6ZbyLgxQyOW3Eercfhj1rptV8IaHrerW2patYJdXNqMRGQkqO/3c4P4itocdKAOXt7m7n+Jl1bxXkxsraxVpYCQUEjH5ccemaT4g6ibbwzJp9r89/qZ+zW0Q5LE9Tj0AzmtceH9OXW31YQt9rkADN5jbTjoducZGeuM1JDo1hDqsupLAGvJRhpnJZgP7qk/dHsOKAG6Fpq6PoFlp6/8u8Kofrjn9a0KKKACiiigAooooAKKKKACiiigAooooAKKKKACiiigAooooAKKKKACiiigAooooAKKKKAOU+IWiX/AIi0O203T4BKsl5G1wS4XbEDk9SM/hWV4t8I6hqXiLwytnb+Zpen3P2md96jYUX5BtJycn0Br0Cimm0RKCluecah4a1uT4l2WtxWH2qxisjAn75E8ty2SSCc9PQGvQ4YhFEqhQpxzj1qSim22EYKOwUUUVJYUUUUAFFFFABRRRQAUUUUAFFFFABRRRQAUUUUAFFFFABRRRQA7FGKKKADFGKKKADFGKKKADFGKKKADFGKKKADFGKKKADFGKKKADFGKKKADFGKKKADFGKKKADFGK8y+NlprA+Hmu6jb63PZ21rbK0dtajYZCSAd7dSOTwOK7HwWS3gfRiTkmzjyT/uigDcxRiiigAxRiiigAxRiiigAxRiiigAxRiiigAxRiiigAxRiiigAxRiiigAxRiiigAxRiiigAxRRRQAUUUUAFFc94u8Ww+GLW2SOBrzUb+YQWVmhwZpD79gOpNZlj4s1iz8b2fhzxNbWSyX9q1xby2ZbAKnBRgx689RQB2lFFFABRRRQAUUUUAFFcdN4u1HV/Et7ovg62tZ204D7beXZbyY3PIjAXktjk+lXfA/is+LdBe7mgW3uYJ3t7iJTlQ6HBwfSgDpKKKKACiiigAooooAKKKKAOC+NzonwX8R72Vd1sFXJxk714roPA7K/gPRWRgwNlHyDn+EU/WfB3h3xFOJtd0Wy1CVV2BriEOQPTmpdF8MaH4d8z+wtKtdP8wAP9njCbsdOlAGrRRXnvifxt4g0n4maX4YsrfTIrbVYGa2vLzzDulUElMKR2xj60AehUVxmn654tj8fQaHrNnpr2Ulm1y13ZiQbTnAX5j7VNrnii8m8UR+FfDKxtqRh+0XVzKMpaRZwCR3YngCgDraK4T4naxrfhnwHHe6Tqoi1COWOHe1ujidmOMbSMD8K7SwFwNOthesHuREvnMBjL4G447c5oAnooooAKKKKACiiigAooooAKK5Xxdq2s+GVfXYAt7pFum67swmJI0H3pEbuQOcH0rorG+t9T023vrCVZbe5iWWKQdGVhkH8jQBYorgfC3jPxBqnxD1zw/rdnp1pb6UgkEkTPvlRvusMnGPWpPAHi3xJ4tvtQuL7T7GHRIZnis7uEvuugrEbwCfu8daAO6ooooAKKKKACiiigDyTULfVvEv7QEv9lX9raDQNNBie7tGuV8yQ4b5VkTBx3z+FQaImr63+0VP/at/a6gnh3TRC8tpZtboskh3AYaR8kDOTmutvfCGsWfjW+8Q+GL2zifUbZYLiK8RiAVPDrt7+x4rQ8K+ErTwjpN3uuHuby8ke5v75+Hmkblm9vYdqANWx1hb/VdQsVsryE2LIpnni2xzFgT+7OfmxjnjvVy4Ki1lLzeQuw5lBA2DH3snjjrzXH/C24vL3wtPeX19cXn2m9me3NxKXZYQ21Rk9uDXaEAggjIPUGgDzr7ZoP8A0WC4/wDBjp3/AMZqzp93orahAIfipPfOXG22N/YN5p/u4WIE/ga7P+zrL/nzt/8Av0v+FKthZowZLSBWHQiMDFAFiqWtXo03Q728Jx5EDvn3Aq7VbUrGLU9LubG4/wBXcRNG30IxQB494Ag8S6B8I5vE667pVpFdrPqtzHcaVJM5YknBkE65yFGPlHWtn4Qifw78GxrOp29zdT3LS37xW0O6WQO2QFXqTg9M1Yg+G+s3Phiy8J6zq1tJ4etGAdbdGE11GrbljcngDOM464q98RWmstK0PTdEvLjTri41CG3h+yymP5M/MDjqMUAdtaz/AGqzhuPKki82NX8uUYdMjOGHYjvWZq2uXmm3SxWvhvVdUUrky2bWwUe37yZDn8K2AQygqcg8gjvRQBzH/CW6p/0IviL/AL7sf/kmtvS76bULET3Om3emuWI+z3ZjLjHf927rg/WrlFABXmWn3F18RfHmtQz3tzb+HtEkFssFrK0RupiOWZ1IbA9ARXptcJongbVdB1bWkstTgXStWuDcMNh8+InqFPTHv1oAwvh7Zatr3iO9u73VriXRPD1/dWOmxrO265IkOWlP8YUYQZznaTXXeMPEHirRZ7VPCvg0+I45VYzONRjtfJIIwMODuzz09Kq+BPBupeDRd2IvbZ9Ke8nuYI44z5mJH3BWJ/u9OK7SgDzH/hPPid/0SNv/AAoIP/iaP+E8+J3/AESNv/Cgg/8Aia9OooAyvDWoarqmgwXfiDRv7Ev3LCSxNys/lgMQDvUAHIAPtmuJ+JunL4r1zQNF0Ryuu2N/FqAuVGVsokOSzn/a6Be59gTXod+t2+nzrprxR3ZQiJ5QSqt2JAryfSvAPxT0Vrt7HxhookvJTLNLJYF3cn1Y84HYdqAPW4bmGZpI4Z45XhbZKEYEo2M4IHQ+1ec/C4m78Y+O9Rn+a4k1JICx7IifKB6dTXRfD/wvf+FfD0lvrV+mo6lc3MlzdXSAgSM7E9/bArntBUeC/i5rVhenyrDxIEvLGVuF85BiSPPqQQ34UAQ/Ft7rVPEHhHw3pxTzru/+0SlxkIiD72O/NJp6XFn+0Aml6df3s1vFojXGoiednR5DIFQhScK3U/KAMV00/hG4uvilbeKprqNre0sWtobfB3Ascls9KqW/g3VrH4kar4hsdQtlttUSBJVeMtLGIycqvbDZ57igDpm1hR4iXSBZXhZoPON0Iv3C842l8/e9sVoVw/g25ur3xv4slfULmaxhuxb28E0xZY2UfPtB6DdkYruKAKOq6hPptqJrbSrzVHLY8mzMQce/7x0GPxrG/wCEt1T/AKEXxF/33Y//ACTXT0UAZOj61d6nPJHdeHdU0lUXcJL1rcq5z0HlSuc/UAVa1TTU1WyNrNPcQxscv9nkMbMPTcOQPpg+9XKqX+q2GliI6jdw2omYrGZXC7iASQM+wJoA8p8N63JpngTxno+v3l5dNot1JbRuZm85w4Plorg7iewOc+9db4XjvPAnw80Ky1oanrGoSMkVw8WbiRZZCWYsxP3FORn0ArnPC/hyLxP8S9V8WQu50IzI9vGRhbmdAR5vuo7e9dB4gurp/iz4bsbPULmCNbWe5vIFmIikQEKm5ehO5m/IUAdncQx3FrLDMgeORCrKRwQR0rzz4DTyyfCWxhlcyC1nuLeNm67FlYKD9BgfhXUeM/EsPhfwzdXzfvLnYVtrdeWmlPCqB3ycVyei+BfEejfBew8NaFqFtp+qSQlru5nVmKPISzgY75YjPtQBx/xBvbXUPilp17YvdQaJcSromtX9uwVJd7AiMN1wMYZh03cc17nHDb6XpoitLcR29tFhIYU6Ko4CgfyrhPE/w4utY+E0XhDTJbK0nxH5lwysVDKwYuuOdxI7+tWvGVxquj/CaY6hqDJq6RRxC6sXaPfKSFBB685zigDrNH1MazpMF+tpdWazAkQ3cflyrgkfMuTjpn6Vdqno8csWi2UdzM086QIssjNks4UbiT9c1coAKKKKACiiigApsiLLG0cg3KwKsD3Bp1FAGZonhzSvDlu8GjWv2eNzkjzGfuTgFicDJPA45rToooAKKKKACiiigArM1nw9pfiBbddWtvP+zSebCRI6FG9QVINadFADYokghSKFAkcahVVRgKBwBTqKKACiiigAooooAKyPEouV0eWaDVG0yKBGlnmiiV5NgUn5S2VU+5Vvp3rXrmPiNpuraz8PdX0zw/Est9e25gRXkCDDfK3J9iaAPOovFXjK6+AUfi6+1h9Ov4bZZITDBGxvDuADOGUgBs8BceuecDQ8ReI/GGmeHfCusTakLXUdTv7W2OlRRI0UqyEZDEru3YycgqB0xWz4w8Fajf8AgHw/4X0SOP7PaTWqXJLhcQxAAgZ65wKl8deGtX1DxN4U1DR7OO9tNHuWlltmlWM52kIwLehoA76iorUzm0iN4sazlB5gjJKhsc4z2qWgAqnqek2GtWRtNVtY7qAkNskHQjoQeoI9RzVyigCO3gS1t44IQwjjUKoZixwPc8n8akoooAytP8M6RpeqXWo2FmIrq7kMsz+YzAsepCkkKT3wBWrRRQAUUUUAFY3iLwloXi2K2i8Rael9HayebEkjsFVvUgEZ+hzWzRQBHb28Npbx29rEkMMahUjRcKo9ABWdfeGdI1LWbfVb2zEt7bx+XHL5jD5c7sFQcMM88g81q0UAZ8mhaZNrSatNaJLfRrtjlkJbyx/sgnCn3ABrQoooAKo6zoun6/pr2Gr2/wBotnIYpvZeQcggqQQfoavUUAQWdnBp9oltaR+XFGMKuSfzJ5J9zU9FFABRRRQAUUUUAFFFFABRRRQAUUUUAFFFFABRRRQAUUUUAFFFFABRRRQAUUUUAFFFFABRRRQAUUUUAFFFFABRRRQAUUUUAFFFFABRRRQAUUUUAFFFFABRRRQAUUUUAf/Z)"
      ],
      "metadata": {
        "id": "AZ0FOdHeJvF3"
      }
    },
    {
      "cell_type": "markdown",
      "source": [
        "This is how we are updating bias and intercept accordingly in order to minimize cost function. This is called gradient descent."
      ],
      "metadata": {
        "id": "YgKS45_3Jvcd"
      }
    },
    {
      "cell_type": "code",
      "execution_count": 25,
      "metadata": {
        "id": "VKCQbqmlWd7b"
      },
      "outputs": [],
      "source": [
        "# Create an empty dataframe with columns theta and cost\n",
        "gdm_df2 = pd.DataFrame(columns=['theta', 'cost'])"
      ]
    },
    {
      "cell_type": "markdown",
      "metadata": {
        "id": "8db-6B7sWd7b"
      },
      "source": [
        "Now since you are aware of all formulas and method to implement gradient descent. Lets apply it here.\n",
        "\n",
        "Reference video: https://www.youtube.com/watch?v=xrPZbHrxrWo"
      ]
    },
    {
      "cell_type": "code",
      "execution_count": 27,
      "metadata": {
        "id": "S_B_G8zRWd7b",
        "outputId": "dafb194f-cd6f-475d-99b5-621a1f2b540d",
        "colab": {
          "base_uri": "https://localhost:8080/",
          "height": 423
        }
      },
      "outputs": [
        {
          "output_type": "execute_result",
          "data": {
            "text/html": [
              "\n",
              "  <div id=\"df-a5e5c57b-36bd-4a50-8a1d-cee8cd7387de\">\n",
              "    <div class=\"colab-df-container\">\n",
              "      <div>\n",
              "<style scoped>\n",
              "    .dataframe tbody tr th:only-of-type {\n",
              "        vertical-align: middle;\n",
              "    }\n",
              "\n",
              "    .dataframe tbody tr th {\n",
              "        vertical-align: top;\n",
              "    }\n",
              "\n",
              "    .dataframe thead th {\n",
              "        text-align: right;\n",
              "    }\n",
              "</style>\n",
              "<table border=\"1\" class=\"dataframe\">\n",
              "  <thead>\n",
              "    <tr style=\"text-align: right;\">\n",
              "      <th></th>\n",
              "      <th>theta</th>\n",
              "      <th>cost</th>\n",
              "    </tr>\n",
              "  </thead>\n",
              "  <tbody>\n",
              "    <tr>\n",
              "      <th>0</th>\n",
              "      <td>[2.7786132212636947e-18, 0.010641328951860773,...</td>\n",
              "      <td>0.490824</td>\n",
              "    </tr>\n",
              "    <tr>\n",
              "      <th>1</th>\n",
              "      <td>[4.774977559121774e-18, 0.015874226967184046, ...</td>\n",
              "      <td>0.486834</td>\n",
              "    </tr>\n",
              "    <tr>\n",
              "      <th>2</th>\n",
              "      <td>[3.890873352356053e-18, 0.021049481374934613, ...</td>\n",
              "      <td>0.482935</td>\n",
              "    </tr>\n",
              "    <tr>\n",
              "      <th>3</th>\n",
              "      <td>[6.530963333850004e-18, 0.02616773358401025, 0...</td>\n",
              "      <td>0.479124</td>\n",
              "    </tr>\n",
              "    <tr>\n",
              "      <th>4</th>\n",
              "      <td>[8.804374151247572e-18, 0.03122961780945073, 0...</td>\n",
              "      <td>0.475400</td>\n",
              "    </tr>\n",
              "    <tr>\n",
              "      <th>...</th>\n",
              "      <td>...</td>\n",
              "      <td>...</td>\n",
              "    </tr>\n",
              "    <tr>\n",
              "      <th>995</th>\n",
              "      <td>[3.321094673479617e-16, 0.49165609672441285, 0...</td>\n",
              "      <td>0.314176</td>\n",
              "    </tr>\n",
              "    <tr>\n",
              "      <th>996</th>\n",
              "      <td>[3.310623946238198e-16, 0.49165631727115394, 0...</td>\n",
              "      <td>0.314176</td>\n",
              "    </tr>\n",
              "    <tr>\n",
              "      <th>997</th>\n",
              "      <td>[3.3111128517903266e-16, 0.49165653581645663, ...</td>\n",
              "      <td>0.314176</td>\n",
              "    </tr>\n",
              "    <tr>\n",
              "      <th>998</th>\n",
              "      <td>[3.3275726720453196e-16, 0.4916567523788092, 0...</td>\n",
              "      <td>0.314176</td>\n",
              "    </tr>\n",
              "    <tr>\n",
              "      <th>999</th>\n",
              "      <td>[3.314698159172602e-16, 0.49165696697652556, 0...</td>\n",
              "      <td>0.314176</td>\n",
              "    </tr>\n",
              "  </tbody>\n",
              "</table>\n",
              "<p>1000 rows × 2 columns</p>\n",
              "</div>\n",
              "      <button class=\"colab-df-convert\" onclick=\"convertToInteractive('df-a5e5c57b-36bd-4a50-8a1d-cee8cd7387de')\"\n",
              "              title=\"Convert this dataframe to an interactive table.\"\n",
              "              style=\"display:none;\">\n",
              "        \n",
              "  <svg xmlns=\"http://www.w3.org/2000/svg\" height=\"24px\"viewBox=\"0 0 24 24\"\n",
              "       width=\"24px\">\n",
              "    <path d=\"M0 0h24v24H0V0z\" fill=\"none\"/>\n",
              "    <path d=\"M18.56 5.44l.94 2.06.94-2.06 2.06-.94-2.06-.94-.94-2.06-.94 2.06-2.06.94zm-11 1L8.5 8.5l.94-2.06 2.06-.94-2.06-.94L8.5 2.5l-.94 2.06-2.06.94zm10 10l.94 2.06.94-2.06 2.06-.94-2.06-.94-.94-2.06-.94 2.06-2.06.94z\"/><path d=\"M17.41 7.96l-1.37-1.37c-.4-.4-.92-.59-1.43-.59-.52 0-1.04.2-1.43.59L10.3 9.45l-7.72 7.72c-.78.78-.78 2.05 0 2.83L4 21.41c.39.39.9.59 1.41.59.51 0 1.02-.2 1.41-.59l7.78-7.78 2.81-2.81c.8-.78.8-2.07 0-2.86zM5.41 20L4 18.59l7.72-7.72 1.47 1.35L5.41 20z\"/>\n",
              "  </svg>\n",
              "      </button>\n",
              "      \n",
              "  <style>\n",
              "    .colab-df-container {\n",
              "      display:flex;\n",
              "      flex-wrap:wrap;\n",
              "      gap: 12px;\n",
              "    }\n",
              "\n",
              "    .colab-df-convert {\n",
              "      background-color: #E8F0FE;\n",
              "      border: none;\n",
              "      border-radius: 50%;\n",
              "      cursor: pointer;\n",
              "      display: none;\n",
              "      fill: #1967D2;\n",
              "      height: 32px;\n",
              "      padding: 0 0 0 0;\n",
              "      width: 32px;\n",
              "    }\n",
              "\n",
              "    .colab-df-convert:hover {\n",
              "      background-color: #E2EBFA;\n",
              "      box-shadow: 0px 1px 2px rgba(60, 64, 67, 0.3), 0px 1px 3px 1px rgba(60, 64, 67, 0.15);\n",
              "      fill: #174EA6;\n",
              "    }\n",
              "\n",
              "    [theme=dark] .colab-df-convert {\n",
              "      background-color: #3B4455;\n",
              "      fill: #D2E3FC;\n",
              "    }\n",
              "\n",
              "    [theme=dark] .colab-df-convert:hover {\n",
              "      background-color: #434B5C;\n",
              "      box-shadow: 0px 1px 3px 1px rgba(0, 0, 0, 0.15);\n",
              "      filter: drop-shadow(0px 1px 2px rgba(0, 0, 0, 0.3));\n",
              "      fill: #FFFFFF;\n",
              "    }\n",
              "  </style>\n",
              "\n",
              "      <script>\n",
              "        const buttonEl =\n",
              "          document.querySelector('#df-a5e5c57b-36bd-4a50-8a1d-cee8cd7387de button.colab-df-convert');\n",
              "        buttonEl.style.display =\n",
              "          google.colab.kernel.accessAllowed ? 'block' : 'none';\n",
              "\n",
              "        async function convertToInteractive(key) {\n",
              "          const element = document.querySelector('#df-a5e5c57b-36bd-4a50-8a1d-cee8cd7387de');\n",
              "          const dataTable =\n",
              "            await google.colab.kernel.invokeFunction('convertToInteractive',\n",
              "                                                     [key], {});\n",
              "          if (!dataTable) return;\n",
              "\n",
              "          const docLinkHtml = 'Like what you see? Visit the ' +\n",
              "            '<a target=\"_blank\" href=https://colab.research.google.com/notebooks/data_table.ipynb>data table notebook</a>'\n",
              "            + ' to learn more about interactive tables.';\n",
              "          element.innerHTML = '';\n",
              "          dataTable['output_type'] = 'display_data';\n",
              "          await google.colab.output.renderOutput(dataTable, element);\n",
              "          const docLink = document.createElement('div');\n",
              "          docLink.innerHTML = docLinkHtml;\n",
              "          element.appendChild(docLink);\n",
              "        }\n",
              "      </script>\n",
              "    </div>\n",
              "  </div>\n",
              "  "
            ],
            "text/plain": [
              "                                                 theta      cost\n",
              "0    [2.7786132212636947e-18, 0.010641328951860773,...  0.490824\n",
              "1    [4.774977559121774e-18, 0.015874226967184046, ...  0.486834\n",
              "2    [3.890873352356053e-18, 0.021049481374934613, ...  0.482935\n",
              "3    [6.530963333850004e-18, 0.02616773358401025, 0...  0.479124\n",
              "4    [8.804374151247572e-18, 0.03122961780945073, 0...  0.475400\n",
              "..                                                 ...       ...\n",
              "995  [3.321094673479617e-16, 0.49165609672441285, 0...  0.314176\n",
              "996  [3.310623946238198e-16, 0.49165631727115394, 0...  0.314176\n",
              "997  [3.3111128517903266e-16, 0.49165653581645663, ...  0.314176\n",
              "998  [3.3275726720453196e-16, 0.4916567523788092, 0...  0.314176\n",
              "999  [3.314698159172602e-16, 0.49165696697652556, 0...  0.314176\n",
              "\n",
              "[1000 rows x 2 columns]"
            ]
          },
          "metadata": {},
          "execution_count": 27
        }
      ],
      "source": [
        "# Define alpha/ learning rate (here 0.01)\n",
        "alpha = 0.01\n",
        "\n",
        "# intialise iterations to 1000\n",
        "iterations = 1000\n",
        "\n",
        "# iterate over number of iterations\n",
        "for i in range(iterations):\n",
        "    # calculate the derivative of each theta value/ coefficients \n",
        "    gradient = (1/m) * np.matmul(X.T, np.matmul(X, theta) - y)\n",
        "    # update the theta value according to the formula after differentiation\n",
        "    theta = theta - alpha * gradient\n",
        "    # calculate the hypothesis by multiplying X with theta values (Hint: Use numpy matmul())\n",
        "    h = np.matmul(X, theta)\n",
        "    # calculate cost function\n",
        "    cost = np.sum(np.square(h-y)) / (2*len(y))\n",
        "    # append rows in gdm_df with updated theta and cost value\n",
        "    gdm_df2.loc[i] = [theta, cost]\n",
        "\n",
        "# print gdm_df\n",
        "gdm_df2"
      ]
    },
    {
      "cell_type": "code",
      "execution_count": 28,
      "metadata": {
        "id": "i0s3g6xyWd7b",
        "outputId": "ba80d6ac-3b1c-42a4-dafb-8f5d0d1df91b",
        "colab": {
          "base_uri": "https://localhost:8080/",
          "height": 265
        }
      },
      "outputs": [
        {
          "output_type": "display_data",
          "data": {
            "image/png": "[encoded data removed]",
            "text/plain": [
              "<Figure size 432x288 with 1 Axes>"
            ]
          },
          "metadata": {
            "needs_background": "light"
          }
        }
      ],
      "source": [
        "# plotting cost against num_iterations\n",
        "plt.plot(gd_df.index, gd_df['cost'])\n",
        "plt.show()"
      ]
    },
    {
      "cell_type": "markdown",
      "metadata": {
        "id": "wpeMgzr9Wd7b"
      },
      "source": [
        "Above is a plot of all of the values for the cost function over the 1000 iterations that you should see. I think that 100 iterations or 100 epochs is a nice round number and a good place to stop in case of multiple regression problem aswell, because in graph you can see that error becomes constant after 100th iteration. You could keep going if you wanted.\n",
        "\n",
        "\n",
        "Now you have just tried out gradient descent on just 1 to 2 input variables. You can also try on multiple linear regression with more than 2 variables as well. So what are you waiting for? explore more and have happy learning with us."
      ]
    },
    {
      "cell_type": "markdown",
      "metadata": {
        "id": "uKGgz1gyWd7b"
      },
      "source": [
        "------------------------------\n",
        "\n",
        "# Awesome! Congratulations you have optimized your Regression problem!\n",
        "-------------------------------------\n",
        "\n",
        "# Its Feedback Time!\n",
        "\n",
        "We hope you’ve enjoyed this course so far. We’re committed to help you use \"AI for All\" course to its full potential, so that you have a great learning experience. And that’s why we need your help in form of a feedback here.\n",
        "\n",
        "**Please fill this feedback form**\n",
        " https://zfrmz.in/MtRG5oWXBdesm6rmSM7N"
      ]
    }
  ],
  "metadata": {
    "kernelspec": {
      "display_name": "Python 3",
      "language": "python",
      "name": "python3"
    },
    "language_info": {
      "codemirror_mode": {
        "name": "ipython",
        "version": 3
      },
      "file_extension": ".py",
      "mimetype": "text/x-python",
      "name": "python",
      "nbconvert_exporter": "python",
      "pygments_lexer": "ipython3",
      "version": "3.8.5"
    },
    "colab": {
      "name": "Gradient Descent_CloudyML.ipynb",
      "provenance": [],
      "collapsed_sections": [],
      "include_colab_link": true
    }
  },
  "nbformat": 4,
  "nbformat_minor": 0
}