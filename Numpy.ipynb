{
  "nbformat": 4,
  "nbformat_minor": 0,
  "metadata": {
    "kernelspec": {
      "display_name": "Python 3",
      "language": "python",
      "name": "python3"
    },
    "language_info": {
      "codemirror_mode": {
        "name": "ipython",
        "version": 3
      },
      "file_extension": ".py",
      "mimetype": "text/x-python",
      "name": "python",
      "nbconvert_exporter": "python",
      "pygments_lexer": "ipython3",
      "version": "3.8.5"
    },
    "colab": {
      "name": "Numpy.ipynb",
      "provenance": [],
      "collapsed_sections": [
        "FswnfsvvpUga",
        "rNYIuG9ppUgc",
        "hjWRs7FUpUgg",
        "FQDAhMLqpUgi",
        "BvP_nOjLpUgm",
        "zHPXTcaGpUgo",
        "uao-weGjpUgu",
        "NlKfYkYIpUgy",
        "qqhpdM01pUg2",
        "qDKKKCjppUg3",
        "af81CRz-pUg8"
      ],
      "include_colab_link": true
    }
  },
  "cells": [
    {
      "cell_type": "markdown",
      "metadata": {
        "id": "view-in-github",
        "colab_type": "text"
      },
      "source": [
        "<a href=\"https://colab.research.google.com/github/sureshmecad/CloudyML-AI-FOR-ALL/blob/main/Numpy.ipynb\" target=\"_parent\"><img src=\"https://colab.research.google.com/assets/colab-badge.svg\" alt=\"Open In Colab\"/></a>"
      ]
    },
    {
      "cell_type": "markdown",
      "metadata": {
        "id": "XfEZxkgmpUgP"
      },
      "source": [
        "# <center> Numpy Basics </center>"
      ]
    },
    {
      "cell_type": "markdown",
      "metadata": {
        "id": "aE_ZVV-8pUgT"
      },
      "source": [
        "Welcome to section of Numpy. This is one of the \n",
        "the most used Python libraries for data science. NumPy consists of a powerful data structure called multidimensional arrays. Pandas is another powerful Python library that provides fast and easy data analysis platform.\n",
        "\n",
        "NumPy is a library written for scientific computing and data analysis. It stands for numerical python and also known as array oriented computing.\n",
        "\n",
        "The most basic object in NumPy is the ndarray, or simply an array which is an n-dimensional, homogeneous array. By homogenous, we mean that all the elements in a NumPy array have to be of the same data type, which is commonly numeric (float or integer).\n",
        "\n",
        "\n",
        " # Why Numpy?\n",
        " convenience & speed\n",
        " \n",
        " Numpy is much faster than the standard python ways to do computations.\n",
        " \n",
        "Vectorised code typically does not contain explicit looping and indexing etc. (all of this happens behind the scenes, in precompiled C-code), and thus it is much more concise.\n",
        "\n",
        "Also, many Numpy operations are implemented in C which is basically being executed behind the scenes, avoiding the general cost of loops in Python, pointer indirection and per-element dynamic type checking. The speed boost depends on which operations you're performing.\n",
        " \n",
        " NumPy arrays are more compact than lists, i.e. they take much lesser storage space than lists\n",
        " \n",
        " ***Let's get started  with our Numpy Assigment**\n",
        " \n",
        " <p style='text-align: right;'> 2 points </p>\n",
        "\n",
        "\n",
        "You can check this numpy video too! : https://www.youtube.com/watch?v=QUT1VHiLmmI"
      ]
    },
    {
      "cell_type": "code",
      "metadata": {
        "id": "j3Cw1-V_pUgU"
      },
      "source": [
        "#import numpy module with alias np\n"
      ],
      "execution_count": null,
      "outputs": []
    },
    {
      "cell_type": "markdown",
      "metadata": {
        "id": "DbFWIUS5pUgV"
      },
      "source": [
        "We can create a NumPy ndarray object by using the array() function.\n",
        "To create an ndarray, we can pass a list, tuple or any array-like object into the array() method, and it will be converted into an ndarray:\n"
      ]
    },
    {
      "cell_type": "code",
      "metadata": {
        "id": "5uECrRrspUgV"
      },
      "source": [
        "# Define a numpy array passing a list with  1,2 and 3 as elements in it\n",
        "a = "
      ],
      "execution_count": null,
      "outputs": []
    },
    {
      "cell_type": "code",
      "metadata": {
        "id": "vypw7Ws2pUgW",
        "outputId": "1056ebb3-0078-47bd-bb25-797feb2496db"
      },
      "source": [
        "# print a\n",
        "a"
      ],
      "execution_count": null,
      "outputs": [
        {
          "output_type": "execute_result",
          "data": {
            "text/plain": [
              "array([1, 2, 3])"
            ]
          },
          "metadata": {
            "tags": []
          },
          "execution_count": 3
        }
      ]
    },
    {
      "cell_type": "markdown",
      "metadata": {
        "id": "wBghhb57pUgX"
      },
      "source": [
        "## Dimensions in Arrays\n",
        "\n",
        "Reference: https://www.youtube.com/watch?v=BNAfVruKKkU\n",
        "\n",
        "Numpy array can be of n dimentions\n",
        "\n",
        "Lets create arrays of different dimentions.\n",
        "\n",
        "a=A numpy array with one single integer 10\n",
        "\n",
        "b=A numpy array passing a list having a list= [1,2,3]\n",
        "\n",
        "c=A numpy array passing nested list having [[1, 2, 3], [4, 5, 6]] as elements\n",
        "\n",
        "d=A numpy array passing nested list having [[[1, 2, 3], [4, 5, 6]], [[1, 2, 3], [4, 5, 6]]] as elements\n",
        "\n",
        "<p style='text-align: right;'> 3 points </p>\n"
      ]
    },
    {
      "cell_type": "code",
      "metadata": {
        "id": "RcoGDTf6pUgX"
      },
      "source": [
        "#define a,b,c and d as instructed above\n",
        "\n",
        "a = \n",
        "b = \n",
        "c = \n",
        "d ="
      ],
      "execution_count": null,
      "outputs": []
    },
    {
      "cell_type": "markdown",
      "metadata": {
        "id": "y6ZAlfYfpUgX"
      },
      "source": [
        "Are you ready to check its dimention? Use ndim attribute on each variable to check its dimention"
      ]
    },
    {
      "cell_type": "code",
      "metadata": {
        "id": "UWeTZu8JpUgY",
        "outputId": "4f1c351d-e71f-49e6-b571-9bbf9481e33a"
      },
      "source": [
        "#print dimentions of a,b, c and d\n",
        "\n"
      ],
      "execution_count": null,
      "outputs": [
        {
          "output_type": "stream",
          "text": [
            "a dimention: 0\n",
            "b dimention: 1\n",
            "c dimention: 2\n",
            "d dimention: 3\n"
          ],
          "name": "stdout"
        }
      ]
    },
    {
      "cell_type": "markdown",
      "metadata": {
        "id": "IATgFHFSpUgY"
      },
      "source": [
        "Hey hey. Did you see! you have created 0-D,1-DeprecationWarning, 2-D and 3-D arrays.\n",
        "\n",
        "Lets print there shape as well. You can check shape using shape attribute\n",
        "\n"
      ]
    },
    {
      "cell_type": "code",
      "metadata": {
        "id": "1AK1WqGHpUgY",
        "outputId": "5287c2fa-be3f-4c5b-b5fb-cce9cfa5ff37"
      },
      "source": [
        "# print shape of each a,b ,c and d\n"
      ],
      "execution_count": null,
      "outputs": [
        {
          "output_type": "stream",
          "text": [
            "shape of a: ()\n",
            "shape of b: (3,)\n",
            "shape of c: (2, 3)\n",
            "shape of d: (2, 2, 3)\n"
          ],
          "name": "stdout"
        }
      ]
    },
    {
      "cell_type": "markdown",
      "metadata": {
        "id": "PolNnru7pUgZ"
      },
      "source": [
        "Lets check data type passed in our array. To check data type you can use dtype attribute"
      ]
    },
    {
      "cell_type": "code",
      "metadata": {
        "id": "HRAV01pvpUgZ",
        "outputId": "7e59822c-c105-4fed-c4ff-bcb10510c66c"
      },
      "source": [
        "# print data type of c and d\n",
        "\n"
      ],
      "execution_count": null,
      "outputs": [
        {
          "output_type": "stream",
          "text": [
            "int32\n",
            "int32\n"
          ],
          "name": "stdout"
        }
      ]
    },
    {
      "cell_type": "markdown",
      "metadata": {
        "id": "zCiv49wrpUgZ"
      },
      "source": [
        "Above output mean our array is having int type elements in it."
      ]
    },
    {
      "cell_type": "markdown",
      "metadata": {
        "id": "B4QK_kbcpUgZ"
      },
      "source": [
        "Lets check the type of our variable. To check type of any numpy variable use type() function "
      ]
    },
    {
      "cell_type": "code",
      "metadata": {
        "id": "Cltd7mN3pUga",
        "outputId": "bcfe2fe9-0426-4a19-f586-0808710d3830"
      },
      "source": [
        "#print type of a and b variable\n",
        "\n"
      ],
      "execution_count": null,
      "outputs": [
        {
          "output_type": "stream",
          "text": [
            "<class 'numpy.ndarray'>\n",
            "<class 'numpy.ndarray'>\n"
          ],
          "name": "stdout"
        }
      ]
    },
    {
      "cell_type": "code",
      "metadata": {
        "id": "ojqYqZXRpUga",
        "outputId": "a55362f6-6b90-4118-afb8-e47f22fd59b2"
      },
      "source": [
        "# Lets check length of array b, using len() function\n"
      ],
      "execution_count": null,
      "outputs": [
        {
          "output_type": "execute_result",
          "data": {
            "text/plain": [
              "3"
            ]
          },
          "metadata": {
            "tags": []
          },
          "execution_count": 9
        }
      ]
    },
    {
      "cell_type": "markdown",
      "metadata": {
        "id": "24qpKmvepUga"
      },
      "source": [
        "Bravo!You have Defined ndarray i.e numpy array in variable a nd b. Also you have successfully learned how to create numpy. "
      ]
    },
    {
      "cell_type": "markdown",
      "metadata": {
        "id": "FswnfsvvpUga"
      },
      "source": [
        "## Performance measurement\n",
        "\n",
        "I mentioned that the key advantages of numpy are convenience and speed of computation.\n",
        "\n",
        "You'll often work with extremely large datasets, and thus it is important point for you to understand how much computation time (and memory) you can save using numpy, compared to standard python lists.\n",
        "\n",
        "<p style='text-align: right;'> 2 points </p>\n"
      ]
    },
    {
      "cell_type": "markdown",
      "metadata": {
        "id": "No-QhynQpUgb"
      },
      "source": [
        "Create two list l1 and l2 where, l1=[10,20,30] and l2=[40,50,60]\n",
        "Also define two numpy arrays l3,l4 where l3 has l1 as element and l4 has l2 as element\n"
      ]
    },
    {
      "cell_type": "code",
      "metadata": {
        "id": "J87Hqk7xpUgb"
      },
      "source": [
        "# Define l1,l2,l3 and l4 as stated above.\n",
        "l1 = \n",
        "l2 = \n",
        "l3 = \n",
        "l4 = "
      ],
      "execution_count": null,
      "outputs": []
    },
    {
      "cell_type": "markdown",
      "metadata": {
        "id": "b7jk-m_lpUgb"
      },
      "source": [
        "Lets multiply each elements of l1 with corresponding elements of l2\n",
        "\n",
        "Here use list comprehention to do so. Lets see how much you remember your work in other assignments.\n",
        "\n",
        "Note: use %timeit as prefix before your line of code inorder to calculate total time taken to run that line<br>\n",
        "eg. %timeit my_code"
      ]
    },
    {
      "cell_type": "code",
      "metadata": {
        "id": "9uCp9O39pUgb",
        "outputId": "f0efd18d-4518-4e25-b6a6-c124a6acf0cf"
      },
      "source": [
        "#code here as instructed above\n",
        "%timeit #code here"
      ],
      "execution_count": null,
      "outputs": [
        {
          "output_type": "stream",
          "text": [
            "1.6 µs ± 248 ns per loop (mean ± std. dev. of 7 runs, 1000000 loops each)\n"
          ],
          "name": "stdout"
        }
      ]
    },
    {
      "cell_type": "markdown",
      "metadata": {
        "id": "C6skzQNJpUgb"
      },
      "source": [
        "Lets mulptiply l3 and l4\n",
        "\n",
        "Note: use %timeit as prefix before your line of code inorder to calculate total time taken to run that line"
      ]
    },
    {
      "cell_type": "code",
      "metadata": {
        "id": "QRHISgfPpUgc",
        "outputId": "5cd72da8-f10c-48e6-c420-83931f67eb02"
      },
      "source": [
        "%timeit #code here"
      ],
      "execution_count": null,
      "outputs": [
        {
          "output_type": "stream",
          "text": [
            "1.31 µs ± 117 ns per loop (mean ± std. dev. of 7 runs, 1000000 loops each)\n"
          ],
          "name": "stdout"
        }
      ]
    },
    {
      "cell_type": "markdown",
      "metadata": {
        "id": "RYUcvDNCpUgc"
      },
      "source": [
        "Don't worry if still your one line of code is running. Its because your system is calculating total time taken to run your code.\n",
        "\n",
        "Did you notice buddy! time taken to multiply two lists takes more time than multiplyimg two numpy array.\n",
        "Hence proved that numpy arrays are faster than lists.\n",
        "\n",
        "**Fun Fact time!:**\n",
        "\n",
        "You know in many data science interviews it is asked that what is the difference between list and array.<br>\n",
        "The answer is: https://www.youtube.com/watch?v=XI6PHo_gP4E\n",
        "\n"
      ]
    },
    {
      "cell_type": "markdown",
      "metadata": {
        "id": "a1-A1w-GpUgc"
      },
      "source": [
        "so in numpy arrays I can do everything without even writing a loop? yes... ohh wao"
      ]
    },
    {
      "cell_type": "markdown",
      "metadata": {
        "id": "rNYIuG9ppUgc"
      },
      "source": [
        "### Creating Numpy array\n",
        "\n",
        "\n",
        "There are multiple ways to create numpy array. Lets walk over them\n",
        "\n",
        "1. Using arrange() function <br>\n",
        "Refer: https://numpy.org/doc/stable/reference/generated/numpy.arange.html\n",
        "\n",
        "<p style='text-align: right;'> 8 points </p>\n"
      ]
    },
    {
      "cell_type": "code",
      "metadata": {
        "id": "pP3i9Y39pUgc",
        "outputId": "f1620c82-9fd9-4ed5-bb74-aeb379abe779"
      },
      "source": [
        "#Create a numpy array using arange with 1 and 11 as parameter in it\n"
      ],
      "execution_count": null,
      "outputs": [
        {
          "output_type": "execute_result",
          "data": {
            "text/plain": [
              "array([ 1,  2,  3,  4,  5,  6,  7,  8,  9, 10])"
            ]
          },
          "metadata": {
            "tags": []
          },
          "execution_count": 13
        }
      ]
    },
    {
      "cell_type": "markdown",
      "metadata": {
        "id": "1WcwYUfUpUgd"
      },
      "source": [
        "This means using arrange we get evenly spaced values within a given interval. Interval? Yes you can mention interval as well as third parameter in it."
      ]
    },
    {
      "cell_type": "code",
      "metadata": {
        "id": "SnMJC7QdpUgd",
        "outputId": "b0b8dbe7-36bd-4cbb-d8b4-27ff7be9705d"
      },
      "source": [
        "# Create an array using arange passing 1,11 and 2 as parameters\n"
      ],
      "execution_count": null,
      "outputs": [
        {
          "output_type": "execute_result",
          "data": {
            "text/plain": [
              "array([1, 3, 5, 7, 9])"
            ]
          },
          "metadata": {
            "tags": []
          },
          "execution_count": 14
        }
      ]
    },
    {
      "cell_type": "markdown",
      "metadata": {
        "id": "U8GxGR9SpUgd"
      },
      "source": [
        "Did you see? you got all odd numbers as you had mentioned interval between 1 and 10. Also note that 11 is excluded and hence arrange function counted till 10\n",
        "\n",
        "2. Using eye Function <br>\n",
        "Refer: https://numpy.org/devdocs/reference/generated/numpy.eye.html"
      ]
    },
    {
      "cell_type": "code",
      "metadata": {
        "id": "_X_EtKfwpUgd",
        "outputId": "cf299686-d9a7-46c9-8114-f0814ada1e61"
      },
      "source": [
        "# create numpy array using eye function with 3 as passed parameter\n"
      ],
      "execution_count": null,
      "outputs": [
        {
          "output_type": "execute_result",
          "data": {
            "text/plain": [
              "array([[1., 0., 0.],\n",
              "       [0., 1., 0.],\n",
              "       [0., 0., 1.]])"
            ]
          },
          "metadata": {
            "tags": []
          },
          "execution_count": 15
        }
      ]
    },
    {
      "cell_type": "markdown",
      "metadata": {
        "id": "TJGLYyYdpUge"
      },
      "source": [
        "Wohoo! eye return a 2-D array with ones on the diagonal and zeros elsewhere.\n",
        "\n",
        "3. Using zero function<br>\n",
        "Refer: https://numpy.org/doc/stable/reference/generated/numpy.zeros.html"
      ]
    },
    {
      "cell_type": "code",
      "metadata": {
        "id": "OetpPBkepUge",
        "outputId": "88225fc6-8b5e-4d78-c7c8-aaeda11d0291"
      },
      "source": [
        "#create a numpy array using zero function with (3,2) as passed parameter\n",
        "\n"
      ],
      "execution_count": null,
      "outputs": [
        {
          "output_type": "execute_result",
          "data": {
            "text/plain": [
              "array([[0., 0.],\n",
              "       [0., 0.],\n",
              "       [0., 0.]])"
            ]
          },
          "metadata": {
            "tags": []
          },
          "execution_count": 16
        }
      ]
    },
    {
      "cell_type": "markdown",
      "metadata": {
        "id": "EkDfGHN0pUge"
      },
      "source": [
        "Zero function returns a new array of given shape and type, filled with zeros.\n",
        "\n",
        "4. Using ones Function <br>\n",
        "Refer: https://numpy.org/doc/stable/reference/generated/numpy.ones.html"
      ]
    },
    {
      "cell_type": "code",
      "metadata": {
        "id": "ez61wpaWpUgf",
        "outputId": "04a02336-47bd-4f6c-fbdd-1211dfdab0ea"
      },
      "source": [
        "#create a numpy array using ones function with (3,2) as passed parameter\n",
        "\n"
      ],
      "execution_count": null,
      "outputs": [
        {
          "output_type": "execute_result",
          "data": {
            "text/plain": [
              "array([[1., 1.],\n",
              "       [1., 1.],\n",
              "       [1., 1.]])"
            ]
          },
          "metadata": {
            "tags": []
          },
          "execution_count": 17
        }
      ]
    },
    {
      "cell_type": "markdown",
      "metadata": {
        "id": "hNc3ACCbpUgf"
      },
      "source": [
        "You noticed! ones function returns a new array of given shape and type, filled with ones.\n",
        "\n",
        "5. Using full Function<br>\n",
        "Refer: https://numpy.org/doc/stable/reference/generated/numpy.full.html"
      ]
    },
    {
      "cell_type": "code",
      "metadata": {
        "id": "V1LMVwYmpUgf",
        "outputId": "d674220f-d062-4f68-fb37-f049587990f6"
      },
      "source": [
        "#create a numpy array using full function with (3,2) and 2 as passed parameter\n",
        "\n"
      ],
      "execution_count": null,
      "outputs": [
        {
          "output_type": "execute_result",
          "data": {
            "text/plain": [
              "array([[2, 2, 2],\n",
              "       [2, 2, 2],\n",
              "       [2, 2, 2]])"
            ]
          },
          "metadata": {
            "tags": []
          },
          "execution_count": 18
        }
      ]
    },
    {
      "cell_type": "markdown",
      "metadata": {
        "id": "1vxGNDfQpUgf"
      },
      "source": [
        "Yeah! full function return a new array of given shape and type, filled with fill_value, here it is 2\n",
        "\n",
        "6. Using diag function<br>\n",
        "Refer: https://numpy.org/doc/stable/reference/generated/numpy.diag.html"
      ]
    },
    {
      "cell_type": "code",
      "metadata": {
        "id": "aNrXaN4kpUgf",
        "outputId": "3dfb8f3c-e107-4b3a-ebd3-8356ebff8c54"
      },
      "source": [
        "#create a numpy array using diag function passing a list [1,2,3,4,5]\n",
        "\n"
      ],
      "execution_count": null,
      "outputs": [
        {
          "output_type": "execute_result",
          "data": {
            "text/plain": [
              "array([[1, 0, 0, 0, 0],\n",
              "       [0, 2, 0, 0, 0],\n",
              "       [0, 0, 3, 0, 0],\n",
              "       [0, 0, 0, 4, 0],\n",
              "       [0, 0, 0, 0, 5]])"
            ]
          },
          "metadata": {
            "tags": []
          },
          "execution_count": 19
        }
      ]
    },
    {
      "cell_type": "markdown",
      "metadata": {
        "id": "HDotYEBmpUgg"
      },
      "source": [
        "Oh yeah! diag function extract a diagonal or construct a diagonal array.\n",
        "\n",
        " 7. Using tile function<br>\n",
        "    Refer: https://numpy.org/doc/stable/reference/generated/numpy.tile.html"
      ]
    },
    {
      "cell_type": "code",
      "metadata": {
        "id": "u86Yg99DpUgg",
        "outputId": "204846ee-4e91-460d-be50-d3953bf055ae"
      },
      "source": [
        "# Create a numpy array v with [1,2,3] as its elements\n",
        "v = \n",
        "\n",
        "#Use tile function of numpy and pass v and (3,1) as its parametrs\n",
        "\n"
      ],
      "execution_count": null,
      "outputs": [
        {
          "output_type": "execute_result",
          "data": {
            "text/plain": [
              "array([[1, 2, 3],\n",
              "       [1, 2, 3],\n",
              "       [1, 2, 3]])"
            ]
          },
          "metadata": {
            "tags": []
          },
          "execution_count": 20
        }
      ]
    },
    {
      "cell_type": "markdown",
      "metadata": {
        "id": "55UKsU8XpUgg"
      },
      "source": [
        "Returns an array by repeating an input array the number of times given by mentioned shape.\n",
        "Here you can see that you stacked 3 copies of v on top of each other\n",
        "\n",
        "8. Using linspace Function<br>\n",
        "Refer: https://numpy.org/doc/stable/reference/generated/numpy.linspace.html"
      ]
    },
    {
      "cell_type": "code",
      "metadata": {
        "id": "viA2NPv7pUgg",
        "outputId": "8bb27966-a736-43e5-9641-f212620c3289"
      },
      "source": [
        "# Create an array with 100 values between 1 and 50 using linspace\n"
      ],
      "execution_count": null,
      "outputs": [
        {
          "output_type": "execute_result",
          "data": {
            "text/plain": [
              "array([ 1.        ,  1.49494949,  1.98989899,  2.48484848,  2.97979798,\n",
              "        3.47474747,  3.96969697,  4.46464646,  4.95959596,  5.45454545,\n",
              "        5.94949495,  6.44444444,  6.93939394,  7.43434343,  7.92929293,\n",
              "        8.42424242,  8.91919192,  9.41414141,  9.90909091, 10.4040404 ,\n",
              "       10.8989899 , 11.39393939, 11.88888889, 12.38383838, 12.87878788,\n",
              "       13.37373737, 13.86868687, 14.36363636, 14.85858586, 15.35353535,\n",
              "       15.84848485, 16.34343434, 16.83838384, 17.33333333, 17.82828283,\n",
              "       18.32323232, 18.81818182, 19.31313131, 19.80808081, 20.3030303 ,\n",
              "       20.7979798 , 21.29292929, 21.78787879, 22.28282828, 22.77777778,\n",
              "       23.27272727, 23.76767677, 24.26262626, 24.75757576, 25.25252525,\n",
              "       25.74747475, 26.24242424, 26.73737374, 27.23232323, 27.72727273,\n",
              "       28.22222222, 28.71717172, 29.21212121, 29.70707071, 30.2020202 ,\n",
              "       30.6969697 , 31.19191919, 31.68686869, 32.18181818, 32.67676768,\n",
              "       33.17171717, 33.66666667, 34.16161616, 34.65656566, 35.15151515,\n",
              "       35.64646465, 36.14141414, 36.63636364, 37.13131313, 37.62626263,\n",
              "       38.12121212, 38.61616162, 39.11111111, 39.60606061, 40.1010101 ,\n",
              "       40.5959596 , 41.09090909, 41.58585859, 42.08080808, 42.57575758,\n",
              "       43.07070707, 43.56565657, 44.06060606, 44.55555556, 45.05050505,\n",
              "       45.54545455, 46.04040404, 46.53535354, 47.03030303, 47.52525253,\n",
              "       48.02020202, 48.51515152, 49.01010101, 49.50505051, 50.        ])"
            ]
          },
          "metadata": {
            "tags": []
          },
          "execution_count": 21
        }
      ]
    },
    {
      "cell_type": "markdown",
      "metadata": {
        "id": "hjWRs7FUpUgg"
      },
      "source": [
        "Wao! linspace returns evenly spaced numbers over a specified interval.\n",
        "\n",
        "Hey but you saw some similar defination for arrange function\n",
        "\n",
        "The main difference both of them is that arange return values with in a range which has a space between values (in other words the step) and linspace returns set of samples with in a given interval.\n",
        "\n",
        "## Numpy Random numbers\n",
        "\n",
        "\n",
        "Fun Fact:\n",
        "\n",
        "You can create a numpy array with random numbers also. How? Uisng random function<br>\n",
        "Lets see how\n",
        "Refer: https://numpy.org/doc/stable/reference/random/generated/numpy.random.rand.html\n",
        "\n",
        "<p style='text-align: right;'> 3 points </p>\n"
      ]
    },
    {
      "cell_type": "code",
      "metadata": {
        "id": "6ZWSB18_pUgh",
        "outputId": "77d26d96-354a-4f9b-bbc8-68729a8aa6ba"
      },
      "source": [
        "# Generate one random number between 0 and 1 using numpy's random.rand() function.\n",
        "\n"
      ],
      "execution_count": null,
      "outputs": [
        {
          "output_type": "execute_result",
          "data": {
            "text/plain": [
              "0.9629715603545379"
            ]
          },
          "metadata": {
            "tags": []
          },
          "execution_count": 22
        }
      ]
    },
    {
      "cell_type": "markdown",
      "metadata": {
        "id": "tdg3_KyTpUgh"
      },
      "source": [
        "Run the above cell again and check if number changes.\n",
        "\n",
        "Yeah it changes. That's so random :)"
      ]
    },
    {
      "cell_type": "code",
      "metadata": {
        "id": "6cC53stWpUgh",
        "outputId": "1b4a78a3-6caf-44ce-c884-170e2095a6bc"
      },
      "source": [
        "# so let say I want a random value between 2 and 50\n"
      ],
      "execution_count": null,
      "outputs": [
        {
          "output_type": "execute_result",
          "data": {
            "text/plain": [
              "22.429818654925413"
            ]
          },
          "metadata": {
            "tags": []
          },
          "execution_count": 23
        }
      ]
    },
    {
      "cell_type": "markdown",
      "metadata": {
        "id": "jwUAGq6cpUgi"
      },
      "source": [
        "Run the above cell again and check if number changes and its between 2 to 50.\n",
        "\n",
        "Now lets create an array with random numbers 0 to 1 of shape 3X3"
      ]
    },
    {
      "cell_type": "code",
      "metadata": {
        "id": "EzS84gqcpUgi",
        "outputId": "404bf8d8-7324-485b-ace2-0a30529ec6f0"
      },
      "source": [
        "#get an array as stated above\n"
      ],
      "execution_count": null,
      "outputs": [
        {
          "output_type": "execute_result",
          "data": {
            "text/plain": [
              "array([[0.47070116, 0.88920761, 0.19064915],\n",
              "       [0.21150292, 0.52151531, 0.42883075],\n",
              "       [0.27538653, 0.7992213 , 0.49010051]])"
            ]
          },
          "metadata": {
            "tags": []
          },
          "execution_count": 24
        }
      ]
    },
    {
      "cell_type": "markdown",
      "metadata": {
        "id": "FQDAhMLqpUgi"
      },
      "source": [
        "Smile! you got it how to create a numpy array with random numbers.\n",
        "\n",
        "## Numpy Reshape\n",
        "\n",
        "Reference: https://www.youtube.com/watch?v=sGCuryS8zjc\n",
        "\n",
        "reference doc: https://numpy.org/doc/stable/reference/generated/numpy.reshape.html\n",
        "\n",
        "Reshaping means changing the shape of an array.\n",
        "The shape of an array is the number of elements in each dimension.\n",
        "By reshaping we can add or remove dimensions or change number of elements in each dimension.\n",
        "\n",
        "<p style='text-align: right;'> 6 points </p>\n"
      ]
    },
    {
      "cell_type": "code",
      "metadata": {
        "id": "1Mkntnq8pUgj"
      },
      "source": [
        "# Using arange() to generate numpy array x with numbers between 1 to 16\n",
        "x="
      ],
      "execution_count": null,
      "outputs": []
    },
    {
      "cell_type": "markdown",
      "metadata": {
        "id": "avdXlnCbpUgj"
      },
      "source": [
        "So here x is our 1-D array along with being sweet sixteen array ;). Lets reshape our x into 2-D and 3-D array using Reshape\n",
        "\n",
        "1. Reshaping 1-D to 2-D"
      ]
    },
    {
      "cell_type": "code",
      "metadata": {
        "id": "IiFs0khIpUgk",
        "outputId": "f6cd5ff8-2419-473a-bdf2-5463c11ffaf3"
      },
      "source": [
        "# Reshape x with 2 rows and 8 columns\n"
      ],
      "execution_count": null,
      "outputs": [
        {
          "output_type": "execute_result",
          "data": {
            "text/plain": [
              "array([[ 1,  2,  3,  4,  5,  6,  7,  8],\n",
              "       [ 9, 10, 11, 12, 13, 14, 15, 16]])"
            ]
          },
          "metadata": {
            "tags": []
          },
          "execution_count": 26
        }
      ]
    },
    {
      "cell_type": "markdown",
      "metadata": {
        "id": "tKTTFU0opUgk"
      },
      "source": [
        "As you can see above that our x changed into 2D matrix\n",
        "\n",
        "2. Reshaping 1-D to 3-D array\n"
      ]
    },
    {
      "cell_type": "code",
      "metadata": {
        "id": "QYTZwSSLpUgk",
        "outputId": "0faa00a6-886c-471f-b30c-440ae93bab0c"
      },
      "source": [
        "# reshape x with dimension that will have 2 arrays that contains 4 arrays, each with 2 elements:\n"
      ],
      "execution_count": null,
      "outputs": [
        {
          "output_type": "execute_result",
          "data": {
            "text/plain": [
              "array([[[ 1,  2],\n",
              "        [ 3,  4],\n",
              "        [ 5,  6],\n",
              "        [ 7,  8]],\n",
              "\n",
              "       [[ 9, 10],\n",
              "        [11, 12],\n",
              "        [13, 14],\n",
              "        [15, 16]]])"
            ]
          },
          "metadata": {
            "tags": []
          },
          "execution_count": 27
        }
      ]
    },
    {
      "cell_type": "markdown",
      "metadata": {
        "id": "XuvNYyiSpUgl"
      },
      "source": [
        "**Fun Fact:**\n",
        "\n",
        "<u>Unknown Dimension</u>\n",
        "\n",
        "You are allowed to have one \"unknown\" dimension.Meaning that you do not have to specify an exact number for one of the dimensions in the reshape method.\n",
        "Pass -1 as the value, and NumPy will calculate this number for you. Awesome right?\n"
      ]
    },
    {
      "cell_type": "code",
      "metadata": {
        "id": "roDb10yLpUgl",
        "outputId": "1bbd003a-136b-4eb0-8701-915936c20621"
      },
      "source": [
        "# Use unknown dimention to reshape x into 2-D numpy array with shape 4*4\n"
      ],
      "execution_count": null,
      "outputs": [
        {
          "output_type": "execute_result",
          "data": {
            "text/plain": [
              "array([[ 1,  2,  3,  4],\n",
              "       [ 5,  6,  7,  8],\n",
              "       [ 9, 10, 11, 12],\n",
              "       [13, 14, 15, 16]])"
            ]
          },
          "metadata": {
            "tags": []
          },
          "execution_count": 28
        }
      ]
    },
    {
      "cell_type": "code",
      "metadata": {
        "id": "M-GmAbvlpUgl",
        "outputId": "2ab721b4-fab1-4c13-8ff6-d8f62c1a835b"
      },
      "source": [
        "# Use unknown dimention to  reshape x into 3-D numpy array with 2 arrays that contains 4 arrays\n",
        "y=\n",
        "\n",
        "# print y\n",
        "print(y)"
      ],
      "execution_count": null,
      "outputs": [
        {
          "output_type": "stream",
          "text": [
            "[[[ 1  2]\n",
            "  [ 3  4]\n",
            "  [ 5  6]\n",
            "  [ 7  8]]\n",
            "\n",
            " [[ 9 10]\n",
            "  [11 12]\n",
            "  [13 14]\n",
            "  [15 16]]]\n"
          ],
          "name": "stdout"
        }
      ]
    },
    {
      "cell_type": "markdown",
      "metadata": {
        "id": "jrl2StmmpUgl"
      },
      "source": [
        "Note: We can not pass -1 to more than one dimension.\n",
        "\n",
        "Another cool Fact: -1 can be used to flatten an array which means converting a multidimensional array into a 1D array.\n",
        "\n",
        "    Lets apply this technique on y which is 3-D array"
      ]
    },
    {
      "cell_type": "code",
      "metadata": {
        "id": "gwipaekHpUgm",
        "outputId": "8a611621-329d-46eb-d567-b25a65a4c29e"
      },
      "source": [
        "# Flattening y\n"
      ],
      "execution_count": null,
      "outputs": [
        {
          "output_type": "execute_result",
          "data": {
            "text/plain": [
              "array([ 1,  2,  3,  4,  5,  6,  7,  8,  9, 10, 11, 12, 13, 14, 15, 16])"
            ]
          },
          "metadata": {
            "tags": []
          },
          "execution_count": 30
        }
      ]
    },
    {
      "cell_type": "markdown",
      "metadata": {
        "id": "BvP_nOjLpUgm"
      },
      "source": [
        "Awesome work!\n",
        "\n",
        "## NumPy Array Indexing\n",
        "\n",
        "Reference: https://www.youtube.com/watch?v=bFv66_RXLb4\n",
        "\n",
        "Array indexing is the same as accessing an array element. You can access an array element by referring to its index number.\n",
        "\n",
        "The indexes in NumPy arrays start with 0, meaning that the first element has index 0, and the second has index 1 etc.\n",
        "\n",
        "<p style='text-align: right;'> 4 points </p>\n"
      ]
    },
    {
      "cell_type": "code",
      "metadata": {
        "id": "FGxHe9bgpUgm",
        "outputId": "5b18ed58-22d6-4577-d933-770111797cc6"
      },
      "source": [
        "# Create an array a with all even numbers between 1 to 17\n",
        "a = \n",
        "\n",
        "# print a\n",
        "a"
      ],
      "execution_count": null,
      "outputs": [
        {
          "output_type": "execute_result",
          "data": {
            "text/plain": [
              "array([ 2,  4,  6,  8, 10, 12, 14, 16])"
            ]
          },
          "metadata": {
            "tags": []
          },
          "execution_count": 31
        }
      ]
    },
    {
      "cell_type": "code",
      "metadata": {
        "id": "SCi5EO46pUgm",
        "outputId": "3774552b-13e8-4696-d9a0-f94c219578bf"
      },
      "source": [
        "# Get third element in array a\n"
      ],
      "execution_count": null,
      "outputs": [
        {
          "output_type": "execute_result",
          "data": {
            "text/plain": [
              "6"
            ]
          },
          "metadata": {
            "tags": []
          },
          "execution_count": 32
        }
      ]
    },
    {
      "cell_type": "code",
      "metadata": {
        "id": "P7c9eCL-pUgm",
        "outputId": "09bb29a2-fe19-4b20-d9c2-cb5a74af9349"
      },
      "source": [
        "#Print 3rd, 5th, and 7th element in array a\n"
      ],
      "execution_count": null,
      "outputs": [
        {
          "output_type": "execute_result",
          "data": {
            "text/plain": [
              "array([ 6, 10, 14])"
            ]
          },
          "metadata": {
            "tags": []
          },
          "execution_count": 33
        }
      ]
    },
    {
      "cell_type": "markdown",
      "metadata": {
        "id": "MdxjJvLEpUgn"
      },
      "source": [
        "Lets check the same for 2 D array"
      ]
    },
    {
      "cell_type": "code",
      "metadata": {
        "id": "R3xi9KcdpUgn"
      },
      "source": [
        "# Define an array 2-D a with [[1,2,3],[4,5,6],[7,8,9]] as its elements.\n"
      ],
      "execution_count": null,
      "outputs": []
    },
    {
      "cell_type": "code",
      "metadata": {
        "id": "tSOlo9TlpUgn",
        "outputId": "3a916cf8-bbb3-4b81-e940-a781280e73d7"
      },
      "source": [
        "# print the 3rd element from the 3rd row of a\n"
      ],
      "execution_count": null,
      "outputs": [
        {
          "output_type": "execute_result",
          "data": {
            "text/plain": [
              "9"
            ]
          },
          "metadata": {
            "tags": []
          },
          "execution_count": 35
        }
      ]
    },
    {
      "cell_type": "markdown",
      "metadata": {
        "id": "wVooiE5kpUgn"
      },
      "source": [
        "Well done!\n",
        "\n",
        "Now lets check indexing for 3 D array "
      ]
    },
    {
      "cell_type": "code",
      "metadata": {
        "id": "G3LFerQEpUgn"
      },
      "source": [
        "# Define an array b again with [[[1, 2, 3], [4, 5, 6]], [[7, 8, 9], [10, 11, 12]]] as its elements.\n",
        "b = "
      ],
      "execution_count": null,
      "outputs": []
    },
    {
      "cell_type": "code",
      "metadata": {
        "id": "_TlenkdYpUgo",
        "outputId": "4a787a8e-179f-4d41-aec2-4b036efc6b1f"
      },
      "source": [
        "# Print 3rd element from 2nd list which is 1st list in nested list passed. Confusing right? 'a' have nested array.Understand the braket differences.\n"
      ],
      "execution_count": null,
      "outputs": [
        {
          "output_type": "execute_result",
          "data": {
            "text/plain": [
              "6"
            ]
          },
          "metadata": {
            "tags": []
          },
          "execution_count": 37
        }
      ]
    },
    {
      "cell_type": "markdown",
      "metadata": {
        "id": "lRwcKR5EpUgo"
      },
      "source": [
        "Well done.!\n",
        "\n",
        "Have you heared about **negative indexing?**\n",
        "\n",
        "\n",
        "We can use negative indexing to access an array from the end."
      ]
    },
    {
      "cell_type": "code",
      "metadata": {
        "id": "4E5GRHdvpUgo",
        "outputId": "a4fa3235-829b-4197-e1d7-0a58fa48457d"
      },
      "source": [
        "# Print the second last element from the 2nd dim using negative indexing\n"
      ],
      "execution_count": null,
      "outputs": [
        {
          "output_type": "execute_result",
          "data": {
            "text/plain": [
              "5"
            ]
          },
          "metadata": {
            "tags": []
          },
          "execution_count": 38
        }
      ]
    },
    {
      "cell_type": "markdown",
      "metadata": {
        "id": "zHPXTcaGpUgo"
      },
      "source": [
        "Great job! \n",
        "So now you have learned how to to indexing on various dimentions of numpy array.\n",
        "\n",
        "## NumPy Array Slicing\n",
        "\n",
        "Reference: https://www.youtube.com/watch?v=fIXh-gmR7mQ\n",
        "\n",
        "Slicing in python means taking elements from one given index to another given index.\n",
        "\n",
        "    1. We pass slice instead of index like this: [start:end].\n",
        "    2. We can also define the step, like this: [start:end:step].\n",
        "    3. If we don't pass start its considered 0\n",
        "    4. If we don't pass end its considered length of array in that dimension\n",
        "    5. If we don't pass step its considered 1\n",
        "    \n",
        "<p style='text-align: right;'> 5 points </p>\n",
        "\n",
        "    \n",
        "1. **Array slicing in 1-D array.**"
      ]
    },
    {
      "cell_type": "code",
      "metadata": {
        "id": "ZlW3oJERpUgo",
        "outputId": "b049bb02-7694-4cdb-ecbd-4e91ce84a76d"
      },
      "source": [
        "arr=np.arange(1,11)\n",
        "arr"
      ],
      "execution_count": null,
      "outputs": [
        {
          "output_type": "execute_result",
          "data": {
            "text/plain": [
              "array([ 1,  2,  3,  4,  5,  6,  7,  8,  9, 10])"
            ]
          },
          "metadata": {
            "tags": []
          },
          "execution_count": 39
        }
      ]
    },
    {
      "cell_type": "code",
      "metadata": {
        "id": "x7nAaX0PpUgo",
        "outputId": "dfdf6447-e288-47e1-ea99-5e8b7ce2fb44"
      },
      "source": [
        "# Slice elements from 1st to 5th element from array arr:\n",
        "\n"
      ],
      "execution_count": null,
      "outputs": [
        {
          "output_type": "execute_result",
          "data": {
            "text/plain": [
              "array([1, 2, 3, 4, 5])"
            ]
          },
          "metadata": {
            "tags": []
          },
          "execution_count": 40
        }
      ]
    },
    {
      "cell_type": "markdown",
      "metadata": {
        "id": "9aJRsrKPpUgp"
      },
      "source": [
        "Note: The result includes the start index, but excludes the end index.\n",
        "\n"
      ]
    },
    {
      "cell_type": "code",
      "metadata": {
        "id": "9cI9SZ2zpUgp",
        "outputId": "df7b010e-d598-4a14-d0a5-ab1e05c88b07"
      },
      "source": [
        "# Slice elements from index 5 to the end of the array arr:\n"
      ],
      "execution_count": null,
      "outputs": [
        {
          "output_type": "execute_result",
          "data": {
            "text/plain": [
              "array([ 6,  7,  8,  9, 10])"
            ]
          },
          "metadata": {
            "tags": []
          },
          "execution_count": 41
        }
      ]
    },
    {
      "cell_type": "code",
      "metadata": {
        "id": "9HdaV4VipUgp",
        "outputId": "55ea5910-f32c-4d82-ece4-5beb26a590cc"
      },
      "source": [
        "# Slice elements from the beginning to index 5 (not included) in array arr:\n",
        "\n"
      ],
      "execution_count": null,
      "outputs": [
        {
          "output_type": "execute_result",
          "data": {
            "text/plain": [
              "array([1, 2, 3, 4, 5])"
            ]
          },
          "metadata": {
            "tags": []
          },
          "execution_count": 42
        }
      ]
    },
    {
      "cell_type": "markdown",
      "metadata": {
        "id": "zmNip1BdpUgp"
      },
      "source": [
        "Have you heared about **Negative Slicing?**\n",
        "\n",
        "We can use the minus operator to refer to an index from the end:\n",
        "\n"
      ]
    },
    {
      "cell_type": "code",
      "metadata": {
        "id": "srEHtB13pUgp",
        "outputId": "4c770081-22fa-49cb-b1fe-6c06f8b251d4"
      },
      "source": [
        "# Slice from the index 3 from the end to index 1 from the end:\n",
        "\n"
      ],
      "execution_count": null,
      "outputs": [
        {
          "output_type": "execute_result",
          "data": {
            "text/plain": [
              "array([8, 9])"
            ]
          },
          "metadata": {
            "tags": []
          },
          "execution_count": 43
        }
      ]
    },
    {
      "cell_type": "markdown",
      "metadata": {
        "id": "hhw3Zbm4pUgq"
      },
      "source": [
        "**STEP**\n",
        "\n",
        "Use the step value to determine the step of the slicing:"
      ]
    },
    {
      "cell_type": "code",
      "metadata": {
        "id": "5Es4pZqtpUgq",
        "outputId": "40610821-8b29-4f0a-b279-2a5c1b5b9891"
      },
      "source": [
        "# Print every other element from index 1 to index 7:\n",
        "\n"
      ],
      "execution_count": null,
      "outputs": [
        {
          "output_type": "execute_result",
          "data": {
            "text/plain": [
              "array([2, 4, 6])"
            ]
          },
          "metadata": {
            "tags": []
          },
          "execution_count": 44
        }
      ]
    },
    {
      "cell_type": "markdown",
      "metadata": {
        "id": "iIk0YohppUgq"
      },
      "source": [
        "Did you see? using step you were able to get alternate elements within specified index numbers."
      ]
    },
    {
      "cell_type": "code",
      "metadata": {
        "id": "6eGz2psmpUgq",
        "outputId": "18a6c88b-efd5-49b1-b0a3-7ea4eff284f7"
      },
      "source": [
        "# Return every other element from the entire array arr:\n"
      ],
      "execution_count": null,
      "outputs": [
        {
          "output_type": "execute_result",
          "data": {
            "text/plain": [
              "array([1, 3, 5, 7, 9])"
            ]
          },
          "metadata": {
            "tags": []
          },
          "execution_count": 45
        }
      ]
    },
    {
      "cell_type": "markdown",
      "metadata": {
        "id": "1RcYCXM3pUgs"
      },
      "source": [
        "well done!\n",
        "\n",
        "Lets do some slicing on 2-D array also. We already have 'a' as our 2-D array. We will use it here.\n",
        "\n",
        "**2. Array slicing in 2-D array.**"
      ]
    },
    {
      "cell_type": "code",
      "metadata": {
        "id": "Xc5hgEmppUgt",
        "outputId": "b8abbf25-15f9-41f0-bfd5-95807f49274f"
      },
      "source": [
        "# Print array a\n",
        "a"
      ],
      "execution_count": null,
      "outputs": [
        {
          "output_type": "execute_result",
          "data": {
            "text/plain": [
              "array([[1, 2, 3],\n",
              "       [4, 5, 6],\n",
              "       [7, 8, 9]])"
            ]
          },
          "metadata": {
            "tags": []
          },
          "execution_count": 46
        }
      ]
    },
    {
      "cell_type": "code",
      "metadata": {
        "id": "0bmWwEK4pUgt",
        "outputId": "97895761-2cb6-4f1a-893e-20dddffa2436"
      },
      "source": [
        "# From the third element, slice elements from index 1 to index 5 (not included) from array 'a'\n",
        "\n"
      ],
      "execution_count": null,
      "outputs": [
        {
          "output_type": "execute_result",
          "data": {
            "text/plain": [
              "array([8, 9])"
            ]
          },
          "metadata": {
            "tags": []
          },
          "execution_count": 47
        }
      ]
    },
    {
      "cell_type": "code",
      "metadata": {
        "id": "W_9L7ERopUgt",
        "outputId": "160e9a2c-74a7-4b2a-d225-08e688a8bac6"
      },
      "source": [
        "# In array 'a' print index 2 from all the rows :\n",
        "\n"
      ],
      "execution_count": null,
      "outputs": [
        {
          "output_type": "execute_result",
          "data": {
            "text/plain": [
              "array([3, 6, 9])"
            ]
          },
          "metadata": {
            "tags": []
          },
          "execution_count": 48
        }
      ]
    },
    {
      "cell_type": "code",
      "metadata": {
        "id": "oGjup_crpUgt",
        "outputId": "74f0b9ac-25ff-4ee7-95dd-23501ab0dbc6"
      },
      "source": [
        "# From all the elements in 'a', slice index 1 till end, this will return a 2-D array:\n",
        "\n"
      ],
      "execution_count": null,
      "outputs": [
        {
          "output_type": "execute_result",
          "data": {
            "text/plain": [
              "array([[2, 3],\n",
              "       [5, 6],\n",
              "       [8, 9]])"
            ]
          },
          "metadata": {
            "tags": []
          },
          "execution_count": 49
        }
      ]
    },
    {
      "cell_type": "markdown",
      "metadata": {
        "id": "FZSBKSVPpUgt"
      },
      "source": [
        "Hurray! You have learned Slicing in Numpy array. Now you know to access any numpy array."
      ]
    },
    {
      "cell_type": "markdown",
      "metadata": {
        "id": "uao-weGjpUgu"
      },
      "source": [
        "## Numpy copy vs view\n",
        "\n",
        "Reference: https://www.youtube.com/watch?v=h2db8BLWyVw\n",
        "\n",
        "<p style='text-align: right;'> 7 points </p>\n"
      ]
    },
    {
      "cell_type": "code",
      "metadata": {
        "id": "dEv5ubMxpUgu"
      },
      "source": [
        "x1= np.arange(10)"
      ],
      "execution_count": null,
      "outputs": []
    },
    {
      "cell_type": "code",
      "metadata": {
        "id": "Xk5usKzCpUgu"
      },
      "source": [
        "# assign x2 = x1\n"
      ],
      "execution_count": null,
      "outputs": []
    },
    {
      "cell_type": "code",
      "metadata": {
        "id": "ri7jAYUapUgu",
        "outputId": "b8d33e34-0f2d-42a1-cd26-6e1403ca180b"
      },
      "source": [
        "#print x1 and x2\n",
        "\n"
      ],
      "execution_count": null,
      "outputs": [
        {
          "output_type": "stream",
          "text": [
            "[0 1 2 3 4 5 6 7 8 9]\n",
            "[0 1 2 3 4 5 6 7 8 9]\n"
          ],
          "name": "stdout"
        }
      ]
    },
    {
      "cell_type": "markdown",
      "metadata": {
        "id": "lp4CGHPwpUgu"
      },
      "source": [
        "Ok now you have seen that both of them are same "
      ]
    },
    {
      "cell_type": "code",
      "metadata": {
        "id": "tIU0PVJ9pUgv"
      },
      "source": [
        "# change 1st element of x2 as 10\n"
      ],
      "execution_count": null,
      "outputs": []
    },
    {
      "cell_type": "code",
      "metadata": {
        "id": "hq_sAUKWpUgv",
        "outputId": "311d22bc-5a8e-459d-ecbb-a3047e6aea56"
      },
      "source": [
        "#Again print x1 and x2\n"
      ],
      "execution_count": null,
      "outputs": [
        {
          "output_type": "stream",
          "text": [
            "[10  1  2  3  4  5  6  7  8  9]\n",
            "[10  1  2  3  4  5  6  7  8  9]\n"
          ],
          "name": "stdout"
        }
      ]
    },
    {
      "cell_type": "markdown",
      "metadata": {
        "id": "ajn1h8yBpUgv"
      },
      "source": [
        "Wait a minute. Just check your above result on change of x2, x1 also got changed. Why?\n",
        "\n",
        "Lets check if both the variables shares memory. Use numpy shares_memory() function to check if both x1 and x2 shares a  memory.\n",
        "\n",
        "Refer: https://numpy.org/doc/stable/reference/generated/numpy.shares_memory.html"
      ]
    },
    {
      "cell_type": "code",
      "metadata": {
        "id": "J2e6zSsrpUgv",
        "outputId": "5f1ec359-4977-4203-bc08-24f4bfae54f0"
      },
      "source": [
        "# Check memory share between x1 and x2\n"
      ],
      "execution_count": null,
      "outputs": [
        {
          "output_type": "execute_result",
          "data": {
            "text/plain": [
              "True"
            ]
          },
          "metadata": {
            "tags": []
          },
          "execution_count": 55
        }
      ]
    },
    {
      "cell_type": "markdown",
      "metadata": {
        "id": "hJNRRe9tpUgv"
      },
      "source": [
        "Hey It's True they both share memory\n",
        "\n",
        "Shall we try **view()** function also likwise."
      ]
    },
    {
      "cell_type": "code",
      "metadata": {
        "id": "rdr-nyLIpUgv"
      },
      "source": [
        "# Create a view of x1 and store it in x3.\n",
        "x3 = "
      ],
      "execution_count": null,
      "outputs": []
    },
    {
      "cell_type": "code",
      "metadata": {
        "id": "m1gcRuFOpUgw",
        "outputId": "70f7749f-4089-426a-febe-3ffd37e4e77b"
      },
      "source": [
        "# Again check memory share between x1 and x3\n"
      ],
      "execution_count": null,
      "outputs": [
        {
          "output_type": "execute_result",
          "data": {
            "text/plain": [
              "True"
            ]
          },
          "metadata": {
            "tags": []
          },
          "execution_count": 57
        }
      ]
    },
    {
      "cell_type": "markdown",
      "metadata": {
        "id": "rKaXbX3ppUgw"
      },
      "source": [
        "Woh! simple assignment is similar to view. That means \n",
        "The view does not own the data and any changes made to the view will affect the original array, and any changes made to the original array will affect the view.\n",
        "\n",
        "Don't agree? ok lets change x3 and see if original array i.e. x1 also changes"
      ]
    },
    {
      "cell_type": "code",
      "metadata": {
        "id": "Gk6ZcPNppUgw"
      },
      "source": [
        "#Change 1st element of x3=100\n"
      ],
      "execution_count": null,
      "outputs": []
    },
    {
      "cell_type": "code",
      "metadata": {
        "id": "9VdTBJJSpUgw",
        "outputId": "d4e23450-28b7-4c66-a720-faa3170db431"
      },
      "source": [
        "#print x1 and x3 to check if changes reflected in both\n"
      ],
      "execution_count": null,
      "outputs": [
        {
          "output_type": "stream",
          "text": [
            "[100   1   2   3   4   5   6   7   8   9]\n",
            "[100   1   2   3   4   5   6   7   8   9]\n"
          ],
          "name": "stdout"
        }
      ]
    },
    {
      "cell_type": "markdown",
      "metadata": {
        "id": "xx802J9QpUgw"
      },
      "source": [
        "Now its proved.\n",
        "\n",
        "Lets see how **Copy()** function works"
      ]
    },
    {
      "cell_type": "code",
      "metadata": {
        "id": "cvurR9WYpUgw"
      },
      "source": [
        "# Now create an array x4 which is copy of x1\n",
        "\n",
        "x4="
      ],
      "execution_count": null,
      "outputs": []
    },
    {
      "cell_type": "code",
      "metadata": {
        "id": "gDsPJDNipUgx"
      },
      "source": [
        "# Change the last element of x4 as 900\n"
      ],
      "execution_count": null,
      "outputs": []
    },
    {
      "cell_type": "code",
      "metadata": {
        "id": "I1E_TA6vpUgx",
        "outputId": "65fa856b-91ff-43fa-b787-71938ef380b5"
      },
      "source": [
        "# print both x1 and x4 to check if changes reflected in both\n"
      ],
      "execution_count": null,
      "outputs": [
        {
          "output_type": "stream",
          "text": [
            "[100   1   2   3   4   5   6   7   8   9]\n",
            "[100   1   2   3   4   5   6   7   8 900]\n"
          ],
          "name": "stdout"
        }
      ]
    },
    {
      "cell_type": "markdown",
      "metadata": {
        "id": "MNG2-xxnpUgx"
      },
      "source": [
        "Hey! such an intresting output. You noticed buddy! your original array didn't get changed on change of its copy ie. x4.\n",
        "\n",
        "Still not convinced? Ok lets see if they both share memory or not"
      ]
    },
    {
      "cell_type": "code",
      "metadata": {
        "id": "K1CjRA5gpUgy",
        "outputId": "78bfd2dd-4d85-4bb7-9373-44367ba0a20b"
      },
      "source": [
        "#Check memory share between x1 and x4\n"
      ],
      "execution_count": null,
      "outputs": [
        {
          "output_type": "execute_result",
          "data": {
            "text/plain": [
              "False"
            ]
          },
          "metadata": {
            "tags": []
          },
          "execution_count": 63
        }
      ]
    },
    {
      "cell_type": "markdown",
      "metadata": {
        "id": "K3JOHmTXpUgy"
      },
      "source": [
        "You see! x1 and x4 don't share its memory. \n",
        "\n",
        "So with all our outputs we can takeaway few points:\n",
        "\n",
        "    1. The main difference between a copy and a view of an array is that the copy is a new array, and the view is just a view of the original array.\n",
        "\n",
        "    2. The copy owns the data and any changes made to the copy will not affect original array, and any changes made to the original array will not affect the copy.\n",
        "\n",
        "    3. The view does not own the data and any changes made to the view will affect the original array, and any changes made to the original array will affect the view."
      ]
    },
    {
      "cell_type": "markdown",
      "metadata": {
        "id": "NlKfYkYIpUgy"
      },
      "source": [
        "## More operations on Numpy\n",
        "\n",
        "**1. Applying conditions**\n",
        "\n",
        "Reference: https://thispointer.com/python-numpy-select-elements-or-indices-by-conditions-from-numpy-array/\n",
        "\n",
        "<p style='text-align: right;'> 5 points </p>\n"
      ]
    },
    {
      "cell_type": "code",
      "metadata": {
        "id": "fOPtQB-spUgz",
        "outputId": "1ecf829a-0270-48c7-a58c-5580ae25681c"
      },
      "source": [
        "#print a\n",
        "a"
      ],
      "execution_count": null,
      "outputs": [
        {
          "output_type": "execute_result",
          "data": {
            "text/plain": [
              "array([[1, 2, 3],\n",
              "       [4, 5, 6],\n",
              "       [7, 8, 9]])"
            ]
          },
          "metadata": {
            "tags": []
          },
          "execution_count": 64
        }
      ]
    },
    {
      "cell_type": "markdown",
      "metadata": {
        "id": "so-bjJGZpUgz"
      },
      "source": [
        "We are going to use 'a' array for all our array condition operations.\n"
      ]
    },
    {
      "cell_type": "code",
      "metadata": {
        "id": "4pY2GPH-pUgz",
        "outputId": "54ae064e-941f-423a-a7d9-bf2a0b80ab48"
      },
      "source": [
        "# Check if every element in array a greater than 3 or not Using '>' notation\n"
      ],
      "execution_count": null,
      "outputs": [
        {
          "output_type": "execute_result",
          "data": {
            "text/plain": [
              "array([[False, False, False],\n",
              "       [ True,  True,  True],\n",
              "       [ True,  True,  True]])"
            ]
          },
          "metadata": {
            "tags": []
          },
          "execution_count": 65
        }
      ]
    },
    {
      "cell_type": "code",
      "metadata": {
        "id": "h7x4MsNwpUgz",
        "outputId": "d2a35dfb-e9c0-4c16-e22e-429e95aa0d08"
      },
      "source": [
        "# Get a list with all elements of array 'a' grater than 3\n"
      ],
      "execution_count": null,
      "outputs": [
        {
          "output_type": "execute_result",
          "data": {
            "text/plain": [
              "array([4, 5, 6, 7, 8, 9])"
            ]
          },
          "metadata": {
            "tags": []
          },
          "execution_count": 66
        }
      ]
    },
    {
      "cell_type": "code",
      "metadata": {
        "id": "2nuF5q8fpUgz",
        "outputId": "e0507f9d-750f-4d43-839d-7aeae2f1f4af"
      },
      "source": [
        "# Get a list with all elements of array 'a' greater than 3 but less than 6\n"
      ],
      "execution_count": null,
      "outputs": [
        {
          "output_type": "execute_result",
          "data": {
            "text/plain": [
              "array([4, 5])"
            ]
          },
          "metadata": {
            "tags": []
          },
          "execution_count": 67
        }
      ]
    },
    {
      "cell_type": "code",
      "metadata": {
        "id": "os-GyNAipUg0",
        "outputId": "4fd42a40-b12b-4427-f613-212dfbb2bb3d"
      },
      "source": [
        "# check if each elements in array 'x1' equals array 'x4' using '==' notation\n"
      ],
      "execution_count": null,
      "outputs": [
        {
          "output_type": "execute_result",
          "data": {
            "text/plain": [
              "array([ True,  True,  True,  True,  True,  True,  True,  True,  True,\n",
              "       False])"
            ]
          },
          "metadata": {
            "tags": []
          },
          "execution_count": 68
        }
      ]
    },
    {
      "cell_type": "markdown",
      "metadata": {
        "id": "vqTpa41jpUg0"
      },
      "source": [
        "You can see in above output that the last element is not same in both x1 and x4\n",
        "\n",
        "Well done so far.\n",
        "\n",
        "Lets check how to transpose an array\n",
        "\n",
        "**2. Transposing array**\n",
        "\n",
        "Reference: https://www.youtube.com/watch?v=8qpMys9ptBs"
      ]
    },
    {
      "cell_type": "code",
      "metadata": {
        "id": "mP0_dCUxpUg0",
        "outputId": "56b25a35-e386-4fae-9441-87ae9d630dd9"
      },
      "source": [
        "# Print Transpose of array 'a'\n",
        "\n",
        "#print array 'a'\n",
        "print(\"-----------------\")\n"
      ],
      "execution_count": null,
      "outputs": [
        {
          "output_type": "stream",
          "text": [
            "[[1 4 7]\n",
            " [2 5 8]\n",
            " [3 6 9]]\n",
            "-----------------\n",
            "[[1 2 3]\n",
            " [4 5 6]\n",
            " [7 8 9]]\n"
          ],
          "name": "stdout"
        }
      ]
    },
    {
      "cell_type": "markdown",
      "metadata": {
        "id": "WpOBWNoppUg0"
      },
      "source": [
        "In above output all the rows became columns by transposing "
      ]
    },
    {
      "cell_type": "markdown",
      "metadata": {
        "id": "8puKXbJwpUg0"
      },
      "source": [
        "**3. hstack vs vstack function**\n",
        "\n",
        "Reference: https://www.youtube.com/watch?v=p1bsYXwg97Q\n",
        "\n",
        "Stacking is same as concatenation, the only difference is that stacking is done along a new axis.\n",
        "\n",
        "NumPy provides a helper function: \n",
        "\n",
        "1. hstack() to stack along rows.\n",
        "2. vstack()  to stack along columns\n",
        "\n",
        "You wanna see how? Then here we go...!\n",
        "\n",
        "reference doc: https://scipython.com/book/chapter-6-numpy/examples/vstack-and-hstack/"
      ]
    },
    {
      "cell_type": "code",
      "metadata": {
        "id": "DOE-0gTwpUg1",
        "outputId": "3158b1a9-e129-4102-8d5a-293a1d5a0d93"
      },
      "source": [
        "# stack x1 and x4 along columns.\n"
      ],
      "execution_count": null,
      "outputs": [
        {
          "output_type": "execute_result",
          "data": {
            "text/plain": [
              "array([[100,   1,   2,   3,   4,   5,   6,   7,   8,   9],\n",
              "       [100,   1,   2,   3,   4,   5,   6,   7,   8, 900]])"
            ]
          },
          "metadata": {
            "tags": []
          },
          "execution_count": 70
        }
      ]
    },
    {
      "cell_type": "code",
      "metadata": {
        "id": "V2bNzfrkpUg1",
        "outputId": "faf89122-651d-48b0-f983-7245fc98f547"
      },
      "source": [
        "#stack x1 and x4 along rows\n"
      ],
      "execution_count": null,
      "outputs": [
        {
          "output_type": "execute_result",
          "data": {
            "text/plain": [
              "array([100,   1,   2,   3,   4,   5,   6,   7,   8,   9, 100,   1,   2,\n",
              "         3,   4,   5,   6,   7,   8, 900])"
            ]
          },
          "metadata": {
            "tags": []
          },
          "execution_count": 71
        }
      ]
    },
    {
      "cell_type": "markdown",
      "metadata": {
        "id": "7DMln7YZpUg1"
      },
      "source": [
        "We hope now you saw the difference between them.\n",
        "\n",
        "Fun fact! you can even use concatenate() function to join 2 arrays along with the axis. If axis is not explicitly passed, it is taken as 0 ie. along column\n",
        "\n",
        "Lets try this function as well\n",
        "\n",
        "Reference: https://www.youtube.com/watch?v=X4zjs_wPxLU"
      ]
    },
    {
      "cell_type": "code",
      "metadata": {
        "id": "hjI-wuqRpUg1",
        "outputId": "b7ea8903-b5d1-415f-bd88-525e0af377d8"
      },
      "source": [
        "arr1 = np.array([[1, 2], [3, 4]])\n",
        "\n",
        "arr2 = np.array([[5, 6], [7, 8]])\n",
        "\n",
        "##join arr1 and arr2 along rows using concatenate() function\n"
      ],
      "execution_count": null,
      "outputs": [
        {
          "output_type": "execute_result",
          "data": {
            "text/plain": [
              "array([[1, 2, 5, 6],\n",
              "       [3, 4, 7, 8]])"
            ]
          },
          "metadata": {
            "tags": []
          },
          "execution_count": 72
        }
      ]
    },
    {
      "cell_type": "code",
      "metadata": {
        "id": "WH70hNeIpUg1",
        "outputId": "48f6b694-374b-45c0-94d2-ff1efb3eb0d2"
      },
      "source": [
        "##join arr1 and arr2 along columns using concatenate() function\n"
      ],
      "execution_count": null,
      "outputs": [
        {
          "output_type": "execute_result",
          "data": {
            "text/plain": [
              "array([[1, 2],\n",
              "       [3, 4],\n",
              "       [5, 6],\n",
              "       [7, 8]])"
            ]
          },
          "metadata": {
            "tags": []
          },
          "execution_count": 73
        }
      ]
    },
    {
      "cell_type": "markdown",
      "metadata": {
        "id": "qqhpdM01pUg2"
      },
      "source": [
        "## Adding, Insert and delete Numpy array\n",
        "\n",
        "Reference: https://www.youtube.com/watch?v=dEnCfapUbEw\n",
        "\n",
        "<p style='text-align: right;'> 3 points </p>\n"
      ]
    },
    {
      "cell_type": "markdown",
      "metadata": {
        "id": "A8LM2NiepUg2"
      },
      "source": [
        "You can also add 2 arrays using append() function also. This function appends values to end of array\n",
        "\n",
        "Lets see how"
      ]
    },
    {
      "cell_type": "code",
      "metadata": {
        "id": "TWK1Wiu2pUg2",
        "outputId": "1a3f53a4-2c46-48d3-c1de-41001d507d6e"
      },
      "source": [
        "# append arr2 to arr1\n"
      ],
      "execution_count": null,
      "outputs": [
        {
          "output_type": "execute_result",
          "data": {
            "text/plain": [
              "array([1, 2, 3, 4, 5, 6, 7, 8])"
            ]
          },
          "metadata": {
            "tags": []
          },
          "execution_count": 74
        }
      ]
    },
    {
      "cell_type": "markdown",
      "metadata": {
        "id": "OPXhLAR-pUg2"
      },
      "source": [
        "Lets use insert() function which Inserts values into array before specified index value"
      ]
    },
    {
      "cell_type": "code",
      "metadata": {
        "id": "Ptc8f_BapUg2",
        "outputId": "1e329235-f0d6-4260-d48f-d67fe87a80f2"
      },
      "source": [
        "# Inserts values into array x1 before index 4 with elements of x4\n"
      ],
      "execution_count": null,
      "outputs": [
        {
          "output_type": "execute_result",
          "data": {
            "text/plain": [
              "array([100,   1,   2,   3, 100,   1,   2,   3,   4,   5,   6,   7,   8,\n",
              "       900,   4,   5,   6,   7,   8,   9])"
            ]
          },
          "metadata": {
            "tags": []
          },
          "execution_count": 75
        }
      ]
    },
    {
      "cell_type": "markdown",
      "metadata": {
        "id": "REUCmBvzpUg2"
      },
      "source": [
        "You can see in above output we have inserted all the elements of x4 before index 4 in array x1."
      ]
    },
    {
      "cell_type": "code",
      "metadata": {
        "id": "xKRx-b0JpUg3",
        "outputId": "829d9d08-ece4-484a-d8dd-571529a5d752"
      },
      "source": [
        "# delete 2nd element from array x2\n",
        "\n"
      ],
      "execution_count": null,
      "outputs": [
        {
          "output_type": "execute_result",
          "data": {
            "text/plain": [
              "array([100,   1,   3,   4,   5,   6,   7,   8,   9])"
            ]
          },
          "metadata": {
            "tags": []
          },
          "execution_count": 76
        }
      ]
    },
    {
      "cell_type": "markdown",
      "metadata": {
        "id": "d33aIsHmpUg3"
      },
      "source": [
        "Did you see? 2 value is deleted from x2 which was at index position 2"
      ]
    },
    {
      "cell_type": "markdown",
      "metadata": {
        "id": "qDKKKCjppUg3"
      },
      "source": [
        "## Mathmatical operations on Numpy array\n",
        "\n",
        "Reference doc for Numpy Mathmatical functions: https://numpy.org/doc/stable/reference/routines.math.html\n",
        "\n",
        "<p style='text-align: right;'> 8 points </p>\n"
      ]
    },
    {
      "cell_type": "code",
      "metadata": {
        "id": "O7foeULTpUg3"
      },
      "source": [
        "#defining a\n",
        "a= np.array([[1,2,3],[4,5,6],[7,8,9]]"
      ],
      "execution_count": null,
      "outputs": []
    },
    {
      "cell_type": "code",
      "metadata": {
        "id": "LMWlqmDypUg3",
        "outputId": "6488fa20-3921-4010-e027-c7a09107dd86"
      },
      "source": [
        "# print trigonometric sin value of each element of a\n"
      ],
      "execution_count": null,
      "outputs": [
        {
          "output_type": "execute_result",
          "data": {
            "text/plain": [
              "array([[ 0.84147098,  0.90929743,  0.14112001],\n",
              "       [-0.7568025 , -0.95892427, -0.2794155 ],\n",
              "       [ 0.6569866 ,  0.98935825,  0.41211849]])"
            ]
          },
          "metadata": {
            "tags": []
          },
          "execution_count": 77
        }
      ]
    },
    {
      "cell_type": "code",
      "metadata": {
        "id": "9bSn6dZApUg3",
        "outputId": "af5f4316-d843-403e-884a-5d79a0041f5b"
      },
      "source": [
        "# print trigonometric cos value of each element of a\n",
        "\n"
      ],
      "execution_count": null,
      "outputs": [
        {
          "output_type": "execute_result",
          "data": {
            "text/plain": [
              "array([[ 0.54030231, -0.41614684, -0.9899925 ],\n",
              "       [-0.65364362,  0.28366219,  0.96017029],\n",
              "       [ 0.75390225, -0.14550003, -0.91113026]])"
            ]
          },
          "metadata": {
            "tags": []
          },
          "execution_count": 78
        }
      ]
    },
    {
      "cell_type": "code",
      "metadata": {
        "id": "E4bfMU4ipUg4",
        "outputId": "5ddafab6-c8cf-4625-e265-f4cc266bb65b"
      },
      "source": [
        "# Print exponential value of each elements of a\n"
      ],
      "execution_count": null,
      "outputs": [
        {
          "output_type": "execute_result",
          "data": {
            "text/plain": [
              "array([[2.71828183e+00, 7.38905610e+00, 2.00855369e+01],\n",
              "       [5.45981500e+01, 1.48413159e+02, 4.03428793e+02],\n",
              "       [1.09663316e+03, 2.98095799e+03, 8.10308393e+03]])"
            ]
          },
          "metadata": {
            "tags": []
          },
          "execution_count": 79
        }
      ]
    },
    {
      "cell_type": "markdown",
      "metadata": {
        "id": "6_FQV12dpUg4"
      },
      "source": [
        "Referal: https://numpy.org/doc/stable/reference/generated/numpy.sum.html"
      ]
    },
    {
      "cell_type": "code",
      "metadata": {
        "id": "QRSyMRmzpUg4",
        "outputId": "ffd49ca2-d998-4be7-8c16-0c8d2b2fda97"
      },
      "source": [
        "# print total sum of elements of a\n"
      ],
      "execution_count": null,
      "outputs": [
        {
          "output_type": "execute_result",
          "data": {
            "text/plain": [
              "45"
            ]
          },
          "metadata": {
            "tags": []
          },
          "execution_count": 80
        }
      ]
    },
    {
      "cell_type": "code",
      "metadata": {
        "id": "d1mFBqXVpUg4",
        "outputId": "3968783b-40fc-463b-e146-f803808e73ff"
      },
      "source": [
        "# Print sum in array a column wise\n"
      ],
      "execution_count": null,
      "outputs": [
        {
          "output_type": "execute_result",
          "data": {
            "text/plain": [
              "array([ 6, 15, 24])"
            ]
          },
          "metadata": {
            "tags": []
          },
          "execution_count": 81
        }
      ]
    },
    {
      "cell_type": "code",
      "metadata": {
        "id": "4Cx--WYVpUg4",
        "outputId": "648dab47-3417-4249-fc40-90fcf2fe6dd4"
      },
      "source": [
        "# Print sum in array a row wise\n"
      ],
      "execution_count": null,
      "outputs": [
        {
          "output_type": "execute_result",
          "data": {
            "text/plain": [
              "array([12, 15, 18])"
            ]
          },
          "metadata": {
            "tags": []
          },
          "execution_count": 82
        }
      ]
    },
    {
      "cell_type": "markdown",
      "metadata": {
        "id": "0_PWO_AfpUg5"
      },
      "source": [
        "Refrence doc: https://numpy.org/doc/stable/reference/generated/numpy.median.html"
      ]
    },
    {
      "cell_type": "code",
      "metadata": {
        "id": "ZpttxTHppUg5",
        "outputId": "c8822169-be26-4d0f-cfe2-a7952a515313"
      },
      "source": [
        "# print median of array a\n",
        "\n"
      ],
      "execution_count": null,
      "outputs": [
        {
          "output_type": "execute_result",
          "data": {
            "text/plain": [
              "5.0"
            ]
          },
          "metadata": {
            "tags": []
          },
          "execution_count": 83
        }
      ]
    },
    {
      "cell_type": "markdown",
      "metadata": {
        "id": "r3gfixY8pUg5"
      },
      "source": [
        "Refrence doc: https://numpy.org/doc/stable/reference/generated/numpy.std.html"
      ]
    },
    {
      "cell_type": "code",
      "metadata": {
        "id": "u-EKr6VMpUg5",
        "outputId": "2afd3894-2df6-49de-acb6-5da309376e5c"
      },
      "source": [
        "# print standard deviation of array a\n",
        "\n"
      ],
      "execution_count": null,
      "outputs": [
        {
          "output_type": "execute_result",
          "data": {
            "text/plain": [
              "2.581988897471611"
            ]
          },
          "metadata": {
            "tags": []
          },
          "execution_count": 84
        }
      ]
    },
    {
      "cell_type": "markdown",
      "metadata": {
        "id": "Wm5ZOQGypUg5"
      },
      "source": [
        "Refrence doc: https://numpy.org/doc/stable/reference/generated/numpy.linalg.det.html"
      ]
    },
    {
      "cell_type": "code",
      "metadata": {
        "id": "zZ6BtfK2pUg6",
        "outputId": "c34febe8-8c74-40b2-d652-16369ca3bdf5"
      },
      "source": [
        "# print the determinant of array a\n",
        "\n",
        "\n"
      ],
      "execution_count": null,
      "outputs": [
        {
          "output_type": "execute_result",
          "data": {
            "text/plain": [
              "6.66133814775094e-16"
            ]
          },
          "metadata": {
            "tags": []
          },
          "execution_count": 85
        }
      ]
    },
    {
      "cell_type": "markdown",
      "metadata": {
        "id": "m8plVWhCpUg6"
      },
      "source": [
        "reference doc: https://numpy.org/doc/stable/reference/generated/numpy.linalg.inv.html"
      ]
    },
    {
      "cell_type": "code",
      "metadata": {
        "id": "d49BZw4UpUg6",
        "outputId": "1a664d80-86d9-4a32-be8c-3481f3f46dd0"
      },
      "source": [
        "# print the (multiplicative) inverse of array a\n"
      ],
      "execution_count": null,
      "outputs": [
        {
          "output_type": "execute_result",
          "data": {
            "text/plain": [
              "array([[-4.50359963e+15,  9.00719925e+15, -4.50359963e+15],\n",
              "       [ 9.00719925e+15, -1.80143985e+16,  9.00719925e+15],\n",
              "       [-4.50359963e+15,  9.00719925e+15, -4.50359963e+15]])"
            ]
          },
          "metadata": {
            "tags": []
          },
          "execution_count": 86
        }
      ]
    },
    {
      "cell_type": "markdown",
      "metadata": {
        "id": "SeLxFtJ1pUg6"
      },
      "source": [
        "Reference doc: https://numpy.org/doc/stable/reference/generated/numpy.linalg.eig.html"
      ]
    },
    {
      "cell_type": "code",
      "metadata": {
        "id": "SSkuIbpxpUg6",
        "outputId": "78213894-a828-452d-c4a3-250040f83543"
      },
      "source": [
        "# Print the eigenvalues and right eigenvectors of array a.\n",
        "\n"
      ],
      "execution_count": null,
      "outputs": [
        {
          "output_type": "execute_result",
          "data": {
            "text/plain": [
              "(array([ 1.61168440e+01, -1.11684397e+00, -1.30367773e-15]),\n",
              " array([[-0.23197069, -0.78583024,  0.40824829],\n",
              "        [-0.52532209, -0.08675134, -0.81649658],\n",
              "        [-0.8186735 ,  0.61232756,  0.40824829]]))"
            ]
          },
          "metadata": {
            "tags": []
          },
          "execution_count": 87
        }
      ]
    },
    {
      "cell_type": "markdown",
      "metadata": {
        "id": "HI_9Qz9opUg7"
      },
      "source": [
        "Reference doc: https://numpy.org/doc/stable/reference/generated/numpy.dot.html"
      ]
    },
    {
      "cell_type": "code",
      "metadata": {
        "id": "hSnyCGoHpUg7",
        "outputId": "74f68147-1fdd-4eca-9607-612715436658"
      },
      "source": [
        "# compute dot product of arr1 and arr2\n"
      ],
      "execution_count": null,
      "outputs": [
        {
          "output_type": "execute_result",
          "data": {
            "text/plain": [
              "array([[19, 22],\n",
              "       [43, 50]])"
            ]
          },
          "metadata": {
            "tags": []
          },
          "execution_count": 88
        }
      ]
    },
    {
      "cell_type": "markdown",
      "metadata": {
        "id": "8pU5OWUvpUg7"
      },
      "source": [
        "reference doc: https://numpy.org/doc/stable/reference/generated/numpy.ndarray.max.html"
      ]
    },
    {
      "cell_type": "code",
      "metadata": {
        "id": "KDSwMgUQpUg7",
        "outputId": "78292610-4d86-41bd-f52f-8b845c384dcc"
      },
      "source": [
        "#print largest element present in array a\n"
      ],
      "execution_count": null,
      "outputs": [
        {
          "output_type": "execute_result",
          "data": {
            "text/plain": [
              "9"
            ]
          },
          "metadata": {
            "tags": []
          },
          "execution_count": 89
        }
      ]
    },
    {
      "cell_type": "markdown",
      "metadata": {
        "id": "_p4OEEttpUg7"
      },
      "source": [
        "Reference doc: https://numpy.org/doc/stable/reference/generated/numpy.argmax.html"
      ]
    },
    {
      "cell_type": "code",
      "metadata": {
        "id": "rS6eX9g-pUg7",
        "outputId": "51271a37-c58d-49d0-d2bb-b98e1b00d777"
      },
      "source": [
        "#print index of largest element present in array a \n"
      ],
      "execution_count": null,
      "outputs": [
        {
          "output_type": "execute_result",
          "data": {
            "text/plain": [
              "8"
            ]
          },
          "metadata": {
            "tags": []
          },
          "execution_count": 90
        }
      ]
    },
    {
      "cell_type": "markdown",
      "metadata": {
        "id": "o4uaNzg5pUg8"
      },
      "source": [
        "Reference doc: https://numpy.org/doc/stable/reference/generated/numpy.sort.html"
      ]
    },
    {
      "cell_type": "code",
      "metadata": {
        "id": "NcN6sQIVpUg8",
        "outputId": "81c9c488-e26c-4bf2-c444-6af2fcbcbbe4"
      },
      "source": [
        "# print sorted x4 array\n"
      ],
      "execution_count": null,
      "outputs": [
        {
          "output_type": "execute_result",
          "data": {
            "text/plain": [
              "array([  1,   2,   3,   4,   5,   6,   7,   8, 100, 900])"
            ]
          },
          "metadata": {
            "tags": []
          },
          "execution_count": 91
        }
      ]
    },
    {
      "cell_type": "markdown",
      "metadata": {
        "id": "Ni14Zx8XpUg8"
      },
      "source": [
        "Reference doc: https://numpy.org/doc/stable/reference/generated/numpy.argsort.html"
      ]
    },
    {
      "cell_type": "code",
      "metadata": {
        "id": "ptEWGVthpUg8",
        "outputId": "cf5eff5c-4e8e-4830-e2d4-750eecf486df"
      },
      "source": [
        "# print indices of each sorted element in x4 array\n",
        "\n"
      ],
      "execution_count": null,
      "outputs": [
        {
          "output_type": "execute_result",
          "data": {
            "text/plain": [
              "array([1, 2, 3, 4, 5, 6, 7, 8, 0, 9], dtype=int64)"
            ]
          },
          "metadata": {
            "tags": []
          },
          "execution_count": 92
        }
      ]
    },
    {
      "cell_type": "markdown",
      "metadata": {
        "id": "af81CRz-pUg8"
      },
      "source": [
        "## Searching Arrays\n",
        "\n",
        "Reference: https://www.youtube.com/watch?v=0t6FRh0Pmtw\n",
        "\n",
        "You can search an array for a certain value, and return the indexes that get a match.\n",
        "\n",
        "To search an array, use the where() method.\n",
        "\n",
        "<p style='text-align: right;'> 4 points </p>\n"
      ]
    },
    {
      "cell_type": "code",
      "metadata": {
        "id": "RDWxyTF6pUg9",
        "outputId": "845fbbd3-43b2-4f2c-f070-754820257c27"
      },
      "source": [
        "# print the indexes where the value is 4 in array x1\n",
        "\n"
      ],
      "execution_count": null,
      "outputs": [
        {
          "output_type": "execute_result",
          "data": {
            "text/plain": [
              "(array([4], dtype=int64),)"
            ]
          },
          "metadata": {
            "tags": []
          },
          "execution_count": 93
        }
      ]
    },
    {
      "cell_type": "markdown",
      "metadata": {
        "id": "NTdnDA1-pUg9"
      },
      "source": [
        "Which means that the value 4 is present at index 4\n",
        "\n",
        "You can check it by printing array x1"
      ]
    },
    {
      "cell_type": "code",
      "metadata": {
        "id": "nPY8DKHTpUg9",
        "outputId": "032f0320-9009-4622-a0ce-404a0461520e"
      },
      "source": [
        "#print array x1\n"
      ],
      "execution_count": null,
      "outputs": [
        {
          "output_type": "stream",
          "text": [
            "[100   1   2   3   4   5   6   7   8   9]\n"
          ],
          "name": "stdout"
        }
      ]
    },
    {
      "cell_type": "code",
      "metadata": {
        "id": "atfURRUtpUg9",
        "outputId": "17745033-d6f1-423f-df4b-0999402671a6"
      },
      "source": [
        "# Print the indexes where the values are even in array x1\n",
        "\n"
      ],
      "execution_count": null,
      "outputs": [
        {
          "output_type": "execute_result",
          "data": {
            "text/plain": [
              "(array([0, 2, 4, 6, 8], dtype=int64),)"
            ]
          },
          "metadata": {
            "tags": []
          },
          "execution_count": 95
        }
      ]
    },
    {
      "cell_type": "code",
      "metadata": {
        "id": "fPIY6xLlpUg9",
        "outputId": "a530136a-866c-48bc-c490-e937dc6b8a10"
      },
      "source": [
        "# Print x1 where x1 is greater than 5, also if number is less than 5 then replace it with 0\n",
        "\n"
      ],
      "execution_count": null,
      "outputs": [
        {
          "output_type": "execute_result",
          "data": {
            "text/plain": [
              "array([100,   0,   0,   0,   0,   0,   6,   7,   8,   9])"
            ]
          },
          "metadata": {
            "tags": []
          },
          "execution_count": 96
        }
      ]
    },
    {
      "cell_type": "markdown",
      "metadata": {
        "id": "aDFNOJuApUg-"
      },
      "source": [
        "Good Job learner! \n",
        "\n",
        "---------------------\n",
        "# Bam! Congratulations You have completed your 4th milestone challenge too!\n",
        "\n",
        "----------------------\n",
        "\n",
        "# Its Feedback Time!\n",
        "\n",
        "We hope you’ve enjoyed this course so far. We’re committed to help you use \"AI for All\" course to its full potential, so that you have a great learning experience. And that’s why we need your help in form of a feedback here.\n",
        "\n",
        "**Please fill this feedback form**\n",
        " https://zfrmz.in/MtRG5oWXBdesm6rmSM7N"
      ]
    }
  ]
}