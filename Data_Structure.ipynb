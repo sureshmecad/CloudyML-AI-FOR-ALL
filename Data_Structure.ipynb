{
  "nbformat": 4,
  "nbformat_minor": 5,
  "metadata": {
    "kernelspec": {
      "display_name": "Python 3",
      "language": "python",
      "name": "python3"
    },
    "language_info": {
      "codemirror_mode": {
        "name": "ipython",
        "version": 3
      },
      "file_extension": ".py",
      "mimetype": "text/x-python",
      "name": "python",
      "nbconvert_exporter": "python",
      "pygments_lexer": "ipython3",
      "version": "3.8.5"
    },
    "colab": {
      "name": "Data Structure.ipynb",
      "provenance": [],
      "collapsed_sections": [
        "Vo9sf9iJLIHB",
        "ZHbZrWPMLIHF",
        "pMCqRb_7LIHJ",
        "yc0HixyRLIHN",
        "lVRj9Uq6LIHQ",
        "1BumA9rqLIHV"
      ],
      "include_colab_link": true
    }
  },
  "cells": [
    {
      "cell_type": "markdown",
      "metadata": {
        "id": "view-in-github",
        "colab_type": "text"
      },
      "source": [
        "<a href=\"https://colab.research.google.com/github/sureshmecad/CloudyML-AI-FOR-ALL/blob/main/Data_Structure.ipynb\" target=\"_parent\"><img src=\"https://colab.research.google.com/assets/colab-badge.svg\" alt=\"Open In Colab\"/></a>"
      ]
    },
    {
      "cell_type": "markdown",
      "metadata": {
        "id": "cdBeKX2iLIGn"
      },
      "source": [
        "# <center> <u>Data Structures <u> </center>"
      ],
      "id": "cdBeKX2iLIGn"
    },
    {
      "cell_type": "markdown",
      "metadata": {
        "id": "fPfBh7RJLIGo"
      },
      "source": [
        "## 1. Lists\n",
        "\n",
        "Reference:- https://www.youtube.com/watch?v=ohCDWZgNIU0\n"
      ],
      "id": "fPfBh7RJLIGo"
    },
    {
      "cell_type": "markdown",
      "metadata": {
        "id": "X8Qs6ifQLIGq"
      },
      "source": [
        "<p style='text-align: right;'> 1+1+1 = 3 points</p>\n"
      ],
      "id": "X8Qs6ifQLIGq"
    },
    {
      "cell_type": "markdown",
      "metadata": {
        "id": "BJns3FPILIGr"
      },
      "source": [
        "#### 1.1 Create an empty list with the name ‘a’, print the value of a and type(a).\n"
      ],
      "id": "BJns3FPILIGr"
    },
    {
      "cell_type": "code",
      "metadata": {
        "id": "yAfvSqtaLIGs"
      },
      "source": [
        "# create empty list, name it 'a'\n",
        "a = []"
      ],
      "id": "yAfvSqtaLIGs",
      "execution_count": 1,
      "outputs": []
    },
    {
      "cell_type": "code",
      "metadata": {
        "colab": {
          "base_uri": "https://localhost:8080/"
        },
        "id": "eJ4CE6UzLIGu",
        "outputId": "45af598c-1429-4b6a-f617-b64420f526e6"
      },
      "source": [
        "# print the value of a\n",
        "print(a)"
      ],
      "id": "eJ4CE6UzLIGu",
      "execution_count": 2,
      "outputs": [
        {
          "output_type": "stream",
          "text": [
            "[]\n"
          ],
          "name": "stdout"
        }
      ]
    },
    {
      "cell_type": "code",
      "metadata": {
        "colab": {
          "base_uri": "https://localhost:8080/"
        },
        "id": "8E_qrHqkLIGv",
        "outputId": "efed2bfa-f754-4430-b2ff-74f366665430"
      },
      "source": [
        "# print the type of a\n",
        "type(a)"
      ],
      "id": "8E_qrHqkLIGv",
      "execution_count": 3,
      "outputs": [
        {
          "output_type": "execute_result",
          "data": {
            "text/plain": [
              "list"
            ]
          },
          "metadata": {
            "tags": []
          },
          "execution_count": 3
        }
      ]
    },
    {
      "cell_type": "markdown",
      "metadata": {
        "id": "EZ50iXm1LIGx"
      },
      "source": [
        "#### 1.2.Create a list , languages = ['R','Python', 'SAS', 'Scala', 42], "
      ],
      "id": "EZ50iXm1LIGx"
    },
    {
      "cell_type": "markdown",
      "metadata": {
        "id": "lcIZt_dNLIGy"
      },
      "source": [
        "<p style='text-align: right;'> 1+1+1+1+1+1+1+1 = 7 points</p>\n"
      ],
      "id": "lcIZt_dNLIGy"
    },
    {
      "cell_type": "code",
      "metadata": {
        "id": "8QDslp6qLIGz"
      },
      "source": [
        "#code here\n",
        "languages = ['R','Python', 'SAS', 'Scala', 42]"
      ],
      "id": "8QDslp6qLIGz",
      "execution_count": 5,
      "outputs": []
    },
    {
      "cell_type": "markdown",
      "metadata": {
        "id": "nQHmGdLaLIG0"
      },
      "source": [
        "Print the number of elements in the list"
      ],
      "id": "nQHmGdLaLIG0"
    },
    {
      "cell_type": "code",
      "metadata": {
        "colab": {
          "base_uri": "https://localhost:8080/"
        },
        "id": "1gwT9uC8LIG0",
        "outputId": "339d017f-4877-46bb-8c25-7d999c0003bc"
      },
      "source": [
        "#code here\n",
        "len(languages)"
      ],
      "id": "1gwT9uC8LIG0",
      "execution_count": 6,
      "outputs": [
        {
          "output_type": "execute_result",
          "data": {
            "text/plain": [
              "5"
            ]
          },
          "metadata": {
            "tags": []
          },
          "execution_count": 6
        }
      ]
    },
    {
      "cell_type": "markdown",
      "metadata": {
        "id": "n4-1yAaXLIG1"
      },
      "source": [
        "Using for loop iterate and print all the elements in the list"
      ],
      "id": "n4-1yAaXLIG1"
    },
    {
      "cell_type": "code",
      "metadata": {
        "colab": {
          "base_uri": "https://localhost:8080/"
        },
        "id": "jkyBNGaWLIG2",
        "outputId": "3e0dfaae-e09f-4952-ada0-5fb064f91459"
      },
      "source": [
        "#code here\n",
        "for i in languages:\n",
        "  print(i)"
      ],
      "id": "jkyBNGaWLIG2",
      "execution_count": 7,
      "outputs": [
        {
          "output_type": "stream",
          "text": [
            "R\n",
            "Python\n",
            "SAS\n",
            "Scala\n",
            "42\n"
          ],
          "name": "stdout"
        }
      ]
    },
    {
      "cell_type": "markdown",
      "metadata": {
        "id": "VUa9NdtLLIG3"
      },
      "source": [
        "Select the second item, 'Python' and store it in a new variable named 'temp'"
      ],
      "id": "VUa9NdtLLIG3"
    },
    {
      "cell_type": "code",
      "metadata": {
        "id": "AJZBuJnNLIG4"
      },
      "source": [
        "#code here\n",
        "temp = languages[1]"
      ],
      "id": "AJZBuJnNLIG4",
      "execution_count": 8,
      "outputs": []
    },
    {
      "cell_type": "markdown",
      "metadata": {
        "id": "tNtDeq-RLIG4"
      },
      "source": [
        "Print the value of temp and type(temp)"
      ],
      "id": "tNtDeq-RLIG4"
    },
    {
      "cell_type": "code",
      "metadata": {
        "colab": {
          "base_uri": "https://localhost:8080/"
        },
        "id": "m19wpXq3LIG5",
        "outputId": "94a2757c-b304-46d0-9f63-464b29c68626"
      },
      "source": [
        "#code here\n",
        "print(temp)\n",
        "print(type(temp))"
      ],
      "id": "m19wpXq3LIG5",
      "execution_count": 11,
      "outputs": [
        {
          "output_type": "stream",
          "text": [
            "Python\n",
            "<class 'str'>\n"
          ],
          "name": "stdout"
        }
      ]
    },
    {
      "cell_type": "markdown",
      "metadata": {
        "id": "3nAVGlifLIG6"
      },
      "source": [
        "Using list comprehension, print the last two elemets of list"
      ],
      "id": "3nAVGlifLIG6"
    },
    {
      "cell_type": "code",
      "metadata": {
        "colab": {
          "base_uri": "https://localhost:8080/"
        },
        "id": "kcX9q_f8LIG6",
        "outputId": "d08d6b12-1c09-45c7-c056-adbd01f21dad"
      },
      "source": [
        "# code here\n",
        "languages[3:5]"
      ],
      "id": "kcX9q_f8LIG6",
      "execution_count": 14,
      "outputs": [
        {
          "output_type": "execute_result",
          "data": {
            "text/plain": [
              "['Scala', 42]"
            ]
          },
          "metadata": {
            "tags": []
          },
          "execution_count": 14
        }
      ]
    },
    {
      "cell_type": "markdown",
      "metadata": {
        "id": "yelsLMCFLIG7"
      },
      "source": [
        "Append the element 'Java' in the list"
      ],
      "id": "yelsLMCFLIG7"
    },
    {
      "cell_type": "code",
      "metadata": {
        "id": "3RhrxXpyLIG7"
      },
      "source": [
        "#code here\n",
        "languages.append('Java')"
      ],
      "id": "3RhrxXpyLIG7",
      "execution_count": 15,
      "outputs": []
    },
    {
      "cell_type": "markdown",
      "metadata": {
        "id": "xSfvCnFGLIG8"
      },
      "source": [
        "Remove the element 42 from the list and print the list"
      ],
      "id": "xSfvCnFGLIG8"
    },
    {
      "cell_type": "code",
      "metadata": {
        "colab": {
          "base_uri": "https://localhost:8080/"
        },
        "id": "EVNQzY50LIG8",
        "outputId": "73344e0b-7478-49fd-af51-7247eb06cc20"
      },
      "source": [
        "#code here\n",
        "languages.remove(42)\n",
        "print(languages)"
      ],
      "id": "EVNQzY50LIG8",
      "execution_count": 16,
      "outputs": [
        {
          "output_type": "stream",
          "text": [
            "['R', 'Python', 'SAS', 'Scala', 'Java']\n"
          ],
          "name": "stdout"
        }
      ]
    },
    {
      "cell_type": "markdown",
      "metadata": {
        "id": "yjpVzMZ5LIG9"
      },
      "source": [
        "#### 1.3. Create a list, colors = [‘Red’, ‘Blue’, ‘White’]"
      ],
      "id": "yjpVzMZ5LIG9"
    },
    {
      "cell_type": "markdown",
      "metadata": {
        "id": "1s3ZGpTqLIG9"
      },
      "source": [
        "<p style='text-align: right;'> 1+1+1+1+1+1+1 = 6 points</p>\n"
      ],
      "id": "1s3ZGpTqLIG9"
    },
    {
      "cell_type": "code",
      "metadata": {
        "id": "MJ9q8tl8LIG9"
      },
      "source": [
        "#code here\n"
      ],
      "id": "MJ9q8tl8LIG9",
      "execution_count": null,
      "outputs": []
    },
    {
      "cell_type": "markdown",
      "metadata": {
        "id": "maBE5RgYLIG-"
      },
      "source": [
        "Append the element 'Black' to colors"
      ],
      "id": "maBE5RgYLIG-"
    },
    {
      "cell_type": "code",
      "metadata": {
        "id": "7lp96C8fLIG-"
      },
      "source": [
        "#code here"
      ],
      "id": "7lp96C8fLIG-",
      "execution_count": null,
      "outputs": []
    },
    {
      "cell_type": "markdown",
      "metadata": {
        "id": "TFl1EjxyLIG-"
      },
      "source": [
        "Append the color 'Orange' to second position (index=1) and print the list"
      ],
      "id": "TFl1EjxyLIG-"
    },
    {
      "cell_type": "code",
      "metadata": {
        "id": "Ue4wpHDiLIG-"
      },
      "source": [
        "# code here"
      ],
      "id": "Ue4wpHDiLIG-",
      "execution_count": null,
      "outputs": []
    },
    {
      "cell_type": "markdown",
      "metadata": {
        "id": "eTdvTcgHLIG-"
      },
      "source": [
        "Print the list\n"
      ],
      "id": "eTdvTcgHLIG-"
    },
    {
      "cell_type": "code",
      "metadata": {
        "id": "PGuj-CGOLIG_",
        "outputId": "7ea8af48-6c39-4b39-fbe6-ca1122aacf2a"
      },
      "source": [
        "# code here"
      ],
      "id": "PGuj-CGOLIG_",
      "execution_count": null,
      "outputs": [
        {
          "output_type": "execute_result",
          "data": {
            "text/plain": [
              "['Red', 'Orange', 'Blue', 'White', 'Black']"
            ]
          },
          "metadata": {
            "tags": []
          },
          "execution_count": 30
        }
      ]
    },
    {
      "cell_type": "markdown",
      "metadata": {
        "id": "LHKkhVxLLIG_"
      },
      "source": [
        "Create another list, colors2 = [‘Grey’, ‘Sky Blue’]"
      ],
      "id": "LHKkhVxLLIG_"
    },
    {
      "cell_type": "code",
      "metadata": {
        "id": "MxAA8oYLLIG_"
      },
      "source": [
        "# code here"
      ],
      "id": "MxAA8oYLLIG_",
      "execution_count": null,
      "outputs": []
    },
    {
      "cell_type": "markdown",
      "metadata": {
        "id": "P0Q6_HRyLIG_"
      },
      "source": [
        "Add the elements of colors2 to colors using extend function in the list"
      ],
      "id": "P0Q6_HRyLIG_"
    },
    {
      "cell_type": "code",
      "metadata": {
        "id": "Tm95xb4MLIG_"
      },
      "source": [
        "#code here"
      ],
      "id": "Tm95xb4MLIG_",
      "execution_count": null,
      "outputs": []
    },
    {
      "cell_type": "markdown",
      "metadata": {
        "id": "ar-YzCZwLIHA"
      },
      "source": [
        "Print len of colors and its elements"
      ],
      "id": "ar-YzCZwLIHA"
    },
    {
      "cell_type": "code",
      "metadata": {
        "id": "GtMDYSjfLIHA",
        "outputId": "6cbf8504-32fc-4e15-9e39-7fabd3ade5be"
      },
      "source": [
        "# code here\n",
        "\n"
      ],
      "id": "GtMDYSjfLIHA",
      "execution_count": null,
      "outputs": [
        {
          "output_type": "stream",
          "text": [
            "7\n",
            "['Red', 'Orange', 'Blue', 'White', 'Black', 'Grey', 'Sky Blue']\n"
          ],
          "name": "stdout"
        }
      ]
    },
    {
      "cell_type": "markdown",
      "metadata": {
        "id": "ZUEsfhoKLIHA"
      },
      "source": [
        "Sort the list and print it."
      ],
      "id": "ZUEsfhoKLIHA"
    },
    {
      "cell_type": "code",
      "metadata": {
        "id": "hIk1ltCILIHA",
        "outputId": "869c7aae-afcd-4fb8-c3cb-5366874fcee1"
      },
      "source": [
        "# code here\n",
        "\n"
      ],
      "id": "hIk1ltCILIHA",
      "execution_count": null,
      "outputs": [
        {
          "output_type": "stream",
          "text": [
            "['Black', 'Blue', 'Grey', 'Orange', 'Red', 'Sky Blue', 'White']\n"
          ],
          "name": "stdout"
        }
      ]
    },
    {
      "cell_type": "markdown",
      "metadata": {
        "id": "Vo9sf9iJLIHB"
      },
      "source": [
        "#### 1.4. Create a string, sent = ‘Coronavirus Caused Lockdowns Around The World.”"
      ],
      "id": "Vo9sf9iJLIHB"
    },
    {
      "cell_type": "markdown",
      "metadata": {
        "id": "1DHX-JEeLIHB"
      },
      "source": [
        "<p style='text-align: right;'> 7 points</p>\n"
      ],
      "id": "1DHX-JEeLIHB"
    },
    {
      "cell_type": "code",
      "metadata": {
        "id": "aEDe7IIJLIHB"
      },
      "source": [
        "# code here"
      ],
      "id": "aEDe7IIJLIHB",
      "execution_count": null,
      "outputs": []
    },
    {
      "cell_type": "markdown",
      "metadata": {
        "id": "191v_Os1LIHB"
      },
      "source": [
        "Use split function to convert the string into a list of words and save it in variable words and print the same"
      ],
      "id": "191v_Os1LIHB"
    },
    {
      "cell_type": "code",
      "metadata": {
        "id": "YA8DAAqmLIHC",
        "outputId": "06868101-806a-493d-9124-d5d04d9e4f37"
      },
      "source": [
        "# code here"
      ],
      "id": "YA8DAAqmLIHC",
      "execution_count": null,
      "outputs": [
        {
          "output_type": "stream",
          "text": [
            "['Coronavirus', 'Caused', 'Lockdowns', 'Around', 'The', 'World.']\n"
          ],
          "name": "stdout"
        }
      ]
    },
    {
      "cell_type": "markdown",
      "metadata": {
        "id": "rT0x2iCyLIHC"
      },
      "source": [
        "Using list comprehensions, convert each word in the list to lower case and store it in variable words_lower. \n",
        "Print words_lower"
      ],
      "id": "rT0x2iCyLIHC"
    },
    {
      "cell_type": "code",
      "metadata": {
        "id": "a310wwppLIHC",
        "outputId": "bbb45f2d-bff6-43d1-d220-74ae2d40304c"
      },
      "source": [
        "# code here"
      ],
      "id": "a310wwppLIHC",
      "execution_count": null,
      "outputs": [
        {
          "output_type": "stream",
          "text": [
            "['coronavirus', 'caused', 'lockdowns', 'around', 'the', 'world.']\n"
          ],
          "name": "stdout"
        }
      ]
    },
    {
      "cell_type": "markdown",
      "metadata": {
        "id": "VMMKMZKqLIHC"
      },
      "source": [
        "Check whether ‘country’ is in the list"
      ],
      "id": "VMMKMZKqLIHC"
    },
    {
      "cell_type": "code",
      "metadata": {
        "id": "JF3pxS9bLIHD",
        "outputId": "67864152-12eb-47b1-fdfb-0080224bcc34"
      },
      "source": [
        "# code here"
      ],
      "id": "JF3pxS9bLIHD",
      "execution_count": null,
      "outputs": [
        {
          "output_type": "execute_result",
          "data": {
            "text/plain": [
              "False"
            ]
          },
          "metadata": {
            "tags": []
          },
          "execution_count": 53
        }
      ]
    },
    {
      "cell_type": "markdown",
      "metadata": {
        "id": "x52miLwfLIHD"
      },
      "source": [
        "Remove the element ‘the’ from the list and print the list."
      ],
      "id": "x52miLwfLIHD"
    },
    {
      "cell_type": "code",
      "metadata": {
        "id": "7UFBKTJrLIHD",
        "outputId": "660175a7-36a0-437c-bc11-30337c74ae42"
      },
      "source": [
        "# code here"
      ],
      "id": "7UFBKTJrLIHD",
      "execution_count": null,
      "outputs": [
        {
          "output_type": "stream",
          "text": [
            "['coronavirus', 'caused', 'lockdowns', 'around', 'world.']\n"
          ],
          "name": "stdout"
        }
      ]
    },
    {
      "cell_type": "markdown",
      "metadata": {
        "id": "ELMu7K2NLIHD"
      },
      "source": [
        "Select the first 4 words from the list words_lower using slicing and store them in a new variable x4"
      ],
      "id": "ELMu7K2NLIHD"
    },
    {
      "cell_type": "code",
      "metadata": {
        "id": "7U-sG1XoLIHD"
      },
      "source": [
        "#code here"
      ],
      "id": "7U-sG1XoLIHD",
      "execution_count": null,
      "outputs": []
    },
    {
      "cell_type": "code",
      "metadata": {
        "id": "c3A8juT9LIHE",
        "outputId": "729ce5bd-8cdc-46d2-917a-ec25e23494ae"
      },
      "source": [
        "# print x4\n"
      ],
      "id": "c3A8juT9LIHE",
      "execution_count": null,
      "outputs": [
        {
          "output_type": "stream",
          "text": [
            "['coronavirus', 'caused', 'lockdowns', 'around']\n"
          ],
          "name": "stdout"
        }
      ]
    },
    {
      "cell_type": "markdown",
      "metadata": {
        "id": "Qyhbhb4ILIHE"
      },
      "source": [
        "Convert the list of elements to single string using join function and print it"
      ],
      "id": "Qyhbhb4ILIHE"
    },
    {
      "cell_type": "code",
      "metadata": {
        "id": "nriDrCn8LIHE",
        "outputId": "db2cf335-c1a2-4d4a-e94c-92aac03aa8b1"
      },
      "source": [
        "#code here"
      ],
      "id": "nriDrCn8LIHE",
      "execution_count": null,
      "outputs": [
        {
          "output_type": "execute_result",
          "data": {
            "text/plain": [
              "'coronavirus caused lockdowns around'"
            ]
          },
          "metadata": {
            "tags": []
          },
          "execution_count": 60
        }
      ]
    },
    {
      "cell_type": "markdown",
      "metadata": {
        "id": "od8sDEoCLIHE"
      },
      "source": [
        "## 2. Sets\n",
        "\n",
        "Reference:-https://www.youtube.com/watch?v=sBvaPopWOmQ"
      ],
      "id": "od8sDEoCLIHE"
    },
    {
      "cell_type": "markdown",
      "metadata": {
        "id": "ZHbZrWPMLIHF"
      },
      "source": [
        "#### 2.1. Create stud_grades = ['A','A','B','C','C','F']"
      ],
      "id": "ZHbZrWPMLIHF"
    },
    {
      "cell_type": "markdown",
      "metadata": {
        "id": "7V2CzSOiLIHF"
      },
      "source": [
        "<p style='text-align: right;'> 7 points</p>\n"
      ],
      "id": "7V2CzSOiLIHF"
    },
    {
      "cell_type": "code",
      "metadata": {
        "id": "mQCeos5cLIHF"
      },
      "source": [
        "#code here\n"
      ],
      "id": "mQCeos5cLIHF",
      "execution_count": null,
      "outputs": []
    },
    {
      "cell_type": "markdown",
      "metadata": {
        "id": "QCyVLbo4LIHF"
      },
      "source": [
        "Print the len of stud_grades"
      ],
      "id": "QCyVLbo4LIHF"
    },
    {
      "cell_type": "code",
      "metadata": {
        "id": "zVWPPPSsLIHF",
        "outputId": "c9c5ec69-362e-455b-e636-6b42fae0d450"
      },
      "source": [
        "#code here"
      ],
      "id": "zVWPPPSsLIHF",
      "execution_count": null,
      "outputs": [
        {
          "output_type": "stream",
          "text": [
            "6\n"
          ],
          "name": "stdout"
        }
      ]
    },
    {
      "cell_type": "markdown",
      "metadata": {
        "id": "i04ZyLG_LIHG"
      },
      "source": [
        "Create a new variable, stud_grades_set = set(stud_grades)"
      ],
      "id": "i04ZyLG_LIHG"
    },
    {
      "cell_type": "code",
      "metadata": {
        "id": "m1192KhJLIHG"
      },
      "source": [
        "#code here\n"
      ],
      "id": "m1192KhJLIHG",
      "execution_count": null,
      "outputs": []
    },
    {
      "cell_type": "markdown",
      "metadata": {
        "id": "W_xCyVuILIHG"
      },
      "source": [
        "Print stud_grades_set. "
      ],
      "id": "W_xCyVuILIHG"
    },
    {
      "cell_type": "code",
      "metadata": {
        "id": "FqjPcuB1LIHG",
        "outputId": "98f5651f-d994-4fa6-a6f0-12a3cce73f9c"
      },
      "source": [
        "#code here\n"
      ],
      "id": "FqjPcuB1LIHG",
      "execution_count": null,
      "outputs": [
        {
          "output_type": "stream",
          "text": [
            "{'A', 'B', 'F', 'C'}\n"
          ],
          "name": "stdout"
        }
      ]
    },
    {
      "cell_type": "markdown",
      "metadata": {
        "id": "PlBJoSvULIHH"
      },
      "source": [
        "print the type of stud_grades and stud_grades_set and print their corresponding elements. Try to understand the difference between them."
      ],
      "id": "PlBJoSvULIHH"
    },
    {
      "cell_type": "code",
      "metadata": {
        "id": "xq4k0s9nLIHH",
        "outputId": "364c6b36-7ca5-4230-b4e0-08dc3caf6db2"
      },
      "source": [
        "#code here\n",
        "\n"
      ],
      "id": "xq4k0s9nLIHH",
      "execution_count": null,
      "outputs": [
        {
          "output_type": "stream",
          "text": [
            "<class 'list'> ['A', 'A', 'B', 'C', 'C', 'F']\n",
            "<class 'set'> {'A', 'B', 'F', 'C'}\n"
          ],
          "name": "stdout"
        }
      ]
    },
    {
      "cell_type": "markdown",
      "metadata": {
        "id": "SZk6Jwa1LIHH"
      },
      "source": [
        "Add a new element ‘G’ to stud_grades_set"
      ],
      "id": "SZk6Jwa1LIHH"
    },
    {
      "cell_type": "code",
      "metadata": {
        "id": "72kE895cLIHH"
      },
      "source": [
        "#code here\n",
        "\n"
      ],
      "id": "72kE895cLIHH",
      "execution_count": null,
      "outputs": []
    },
    {
      "cell_type": "markdown",
      "metadata": {
        "id": "WJ6uxXzVLIHI"
      },
      "source": [
        "Add element 'F' to stud_grades_set. and print it."
      ],
      "id": "WJ6uxXzVLIHI"
    },
    {
      "cell_type": "code",
      "metadata": {
        "id": "m4suf41LLIHI",
        "outputId": "42e20d38-5f7b-454d-adf6-bc1138c17dd4"
      },
      "source": [
        "#code here\n",
        "\n"
      ],
      "id": "m4suf41LLIHI",
      "execution_count": null,
      "outputs": [
        {
          "output_type": "stream",
          "text": [
            "{'G', 'A', 'B', 'F', 'C'}\n"
          ],
          "name": "stdout"
        }
      ]
    },
    {
      "cell_type": "markdown",
      "metadata": {
        "id": "5N76Qh8eLIHI"
      },
      "source": [
        "!!Did you notice? set doesn't add an element if it's already present in it, unlike lists."
      ],
      "id": "5N76Qh8eLIHI"
    },
    {
      "cell_type": "markdown",
      "metadata": {
        "id": "g4Xk_xXrLIHI"
      },
      "source": [
        "Remove ‘F’ from stud_grades_set"
      ],
      "id": "g4Xk_xXrLIHI"
    },
    {
      "cell_type": "code",
      "metadata": {
        "id": "3f462WToLIHI"
      },
      "source": [
        "#code here\n",
        "\n"
      ],
      "id": "3f462WToLIHI",
      "execution_count": null,
      "outputs": []
    },
    {
      "cell_type": "markdown",
      "metadata": {
        "id": "lUqecFR5LIHJ"
      },
      "source": [
        "Print the elements and the length of stud_grades_set"
      ],
      "id": "lUqecFR5LIHJ"
    },
    {
      "cell_type": "code",
      "metadata": {
        "id": "C_jG203PLIHJ",
        "outputId": "807ad620-509e-438f-ad2f-0e3578714fe2"
      },
      "source": [
        "#code here\n",
        "\n"
      ],
      "id": "C_jG203PLIHJ",
      "execution_count": null,
      "outputs": [
        {
          "output_type": "stream",
          "text": [
            "{'G', 'A', 'B', 'C'}\n",
            "4\n"
          ],
          "name": "stdout"
        }
      ]
    },
    {
      "cell_type": "markdown",
      "metadata": {
        "id": "pMCqRb_7LIHJ"
      },
      "source": [
        "#### 2.2. Create colors = [‘red’,’blue’,’orange’], and fruits = [‘orange’,’grapes’,’apples’] "
      ],
      "id": "pMCqRb_7LIHJ"
    },
    {
      "cell_type": "markdown",
      "metadata": {
        "id": "0WF1burQLIHJ"
      },
      "source": [
        "<p style='text-align: right;'> 6 points</p>\n"
      ],
      "id": "0WF1burQLIHJ"
    },
    {
      "cell_type": "code",
      "metadata": {
        "id": "3GQyKGWFLIHK"
      },
      "source": [
        "#code here\n",
        "\n"
      ],
      "id": "3GQyKGWFLIHK",
      "execution_count": null,
      "outputs": []
    },
    {
      "cell_type": "markdown",
      "metadata": {
        "id": "_tCu8s47LIHK"
      },
      "source": [
        "Print color and fruits"
      ],
      "id": "_tCu8s47LIHK"
    },
    {
      "cell_type": "code",
      "metadata": {
        "id": "SxHmakHPLIHK",
        "outputId": "14e751e0-7f25-46d2-d4e4-d1b31892c4d9"
      },
      "source": [
        "#code here\n"
      ],
      "id": "SxHmakHPLIHK",
      "execution_count": null,
      "outputs": [
        {
          "output_type": "stream",
          "text": [
            "['red', 'blue', 'orange']\n",
            "['orange', 'grapes', 'apples']\n"
          ],
          "name": "stdout"
        }
      ]
    },
    {
      "cell_type": "markdown",
      "metadata": {
        "id": "E20c14A3LIHK"
      },
      "source": [
        "Create colors_set, and fruits_set. (using set() ) and print them"
      ],
      "id": "E20c14A3LIHK"
    },
    {
      "cell_type": "code",
      "metadata": {
        "id": "s2lNPvm0LIHK",
        "outputId": "e5b276ef-7523-490b-922c-8ddd5b74c505"
      },
      "source": [
        "#code here\n",
        "\n"
      ],
      "id": "s2lNPvm0LIHK",
      "execution_count": null,
      "outputs": [
        {
          "output_type": "stream",
          "text": [
            "{'blue', 'orange', 'red'}\n",
            "{'grapes', 'orange', 'apples'}\n"
          ],
          "name": "stdout"
        }
      ]
    },
    {
      "cell_type": "markdown",
      "metadata": {
        "id": "v2iggip5LIHL"
      },
      "source": [
        "Find the union of both the sets."
      ],
      "id": "v2iggip5LIHL"
    },
    {
      "cell_type": "code",
      "metadata": {
        "id": "CaaD5qb5LIHL",
        "outputId": "5255d665-2ebb-43a7-b9b9-87f668d788a9"
      },
      "source": [
        "#code here\n",
        "\n"
      ],
      "id": "CaaD5qb5LIHL",
      "execution_count": null,
      "outputs": [
        {
          "output_type": "execute_result",
          "data": {
            "text/plain": [
              "{'apples', 'blue', 'grapes', 'orange', 'red'}"
            ]
          },
          "metadata": {
            "tags": []
          },
          "execution_count": 87
        }
      ]
    },
    {
      "cell_type": "markdown",
      "metadata": {
        "id": "VGeGXuXTLIHL"
      },
      "source": [
        "Find the intersection of both the sets "
      ],
      "id": "VGeGXuXTLIHL"
    },
    {
      "cell_type": "code",
      "metadata": {
        "id": "32eyXNkwLIHL",
        "outputId": "95ae70a9-c166-445e-9476-2bb628f1e2ac"
      },
      "source": [
        "#code here\n",
        "\n"
      ],
      "id": "32eyXNkwLIHL",
      "execution_count": null,
      "outputs": [
        {
          "output_type": "execute_result",
          "data": {
            "text/plain": [
              "{'orange'}"
            ]
          },
          "metadata": {
            "tags": []
          },
          "execution_count": 89
        }
      ]
    },
    {
      "cell_type": "markdown",
      "metadata": {
        "id": "EMOAeTxuLIHM"
      },
      "source": [
        "Find the elements which are Fruits but not colors (using set.difference() )"
      ],
      "id": "EMOAeTxuLIHM"
    },
    {
      "cell_type": "code",
      "metadata": {
        "id": "FL_uvoEULIHM",
        "outputId": "a34a224e-ab2c-404f-f33f-e5098fab56b3"
      },
      "source": [
        "#code here\n",
        "\n"
      ],
      "id": "FL_uvoEULIHM",
      "execution_count": null,
      "outputs": [
        {
          "output_type": "execute_result",
          "data": {
            "text/plain": [
              "{'apples', 'grapes'}"
            ]
          },
          "metadata": {
            "tags": []
          },
          "execution_count": 91
        }
      ]
    },
    {
      "cell_type": "markdown",
      "metadata": {
        "id": "GmQrmZZdLIHM"
      },
      "source": [
        "## 3. TUPLES\n",
        "\n",
        "Reference:-https://www.youtube.com/watch?v=NI26dqhs2Rk"
      ],
      "id": "GmQrmZZdLIHM"
    },
    {
      "cell_type": "markdown",
      "metadata": {
        "id": "yc0HixyRLIHN"
      },
      "source": [
        "#### 3.1 . Create temp = [17, ’Virat’, 50.0]"
      ],
      "id": "yc0HixyRLIHN"
    },
    {
      "cell_type": "markdown",
      "metadata": {
        "id": "80W6ShQFLIHN"
      },
      "source": [
        "<p style='text-align: right;'> 7 points</p>\n"
      ],
      "id": "80W6ShQFLIHN"
    },
    {
      "cell_type": "code",
      "metadata": {
        "id": "6Lykv7e7LIHN"
      },
      "source": [
        "#code here\n",
        "\n",
        "\n"
      ],
      "id": "6Lykv7e7LIHN",
      "execution_count": null,
      "outputs": []
    },
    {
      "cell_type": "markdown",
      "metadata": {
        "id": "cgM8yqejLIHN"
      },
      "source": [
        "Iterate through temp and print all the items in temp"
      ],
      "id": "cgM8yqejLIHN"
    },
    {
      "cell_type": "code",
      "metadata": {
        "id": "46m-LVevLIHO",
        "outputId": "2c2ebcc3-7c14-4712-b1a7-8cac82d96058"
      },
      "source": [
        "#code here\n",
        "\n",
        "\n"
      ],
      "id": "46m-LVevLIHO",
      "execution_count": null,
      "outputs": [
        {
          "output_type": "stream",
          "text": [
            "17\n",
            "Virat\n",
            "50.0\n"
          ],
          "name": "stdout"
        }
      ]
    },
    {
      "cell_type": "markdown",
      "metadata": {
        "id": "_2Gng3KZLIHO"
      },
      "source": [
        "replace first element with 11 in temp"
      ],
      "id": "_2Gng3KZLIHO"
    },
    {
      "cell_type": "code",
      "metadata": {
        "id": "O0Y9h4JNLIHO"
      },
      "source": [
        "#code here\n",
        "\n"
      ],
      "id": "O0Y9h4JNLIHO",
      "execution_count": null,
      "outputs": []
    },
    {
      "cell_type": "markdown",
      "metadata": {
        "id": "NK7uSccZLIHO"
      },
      "source": [
        "Set temp1 = tuple(temp)"
      ],
      "id": "NK7uSccZLIHO"
    },
    {
      "cell_type": "code",
      "metadata": {
        "id": "mmk9dWrYLIHP"
      },
      "source": [
        "#code here\n",
        "\n"
      ],
      "id": "mmk9dWrYLIHP",
      "execution_count": null,
      "outputs": []
    },
    {
      "cell_type": "markdown",
      "metadata": {
        "id": "NDsPj0B1LIHP"
      },
      "source": [
        "Iterate through temp1 and print all the items in temp1. "
      ],
      "id": "NDsPj0B1LIHP"
    },
    {
      "cell_type": "code",
      "metadata": {
        "id": "ibjLjV8kLIHP",
        "outputId": "a2e5c26d-99a8-49db-f713-4100adbbb85f"
      },
      "source": [
        "#code here\n",
        "\n"
      ],
      "id": "ibjLjV8kLIHP",
      "execution_count": null,
      "outputs": [
        {
          "output_type": "stream",
          "text": [
            "11\n",
            "Virat\n",
            "50.0\n"
          ],
          "name": "stdout"
        }
      ]
    },
    {
      "cell_type": "markdown",
      "metadata": {
        "id": "AGS3ZHmxLIHP"
      },
      "source": [
        "replace first element with 17 in temp1"
      ],
      "id": "AGS3ZHmxLIHP"
    },
    {
      "cell_type": "code",
      "metadata": {
        "id": "vUKqVsmRLIHP",
        "outputId": "d466f37f-941d-44d1-f2a7-a532024714a3"
      },
      "source": [
        "#code here\n",
        "\n"
      ],
      "id": "vUKqVsmRLIHP",
      "execution_count": null,
      "outputs": [
        {
          "output_type": "error",
          "ename": "TypeError",
          "evalue": "'tuple' object does not support item assignment",
          "traceback": [
            "\u001b[0;31m---------------------------------------------------------------------------\u001b[0m",
            "\u001b[0;31mTypeError\u001b[0m                                 Traceback (most recent call last)",
            "\u001b[0;32m<ipython-input-107-0207b6185b0a>\u001b[0m in \u001b[0;36m<module>\u001b[0;34m\u001b[0m\n\u001b[0;32m----> 1\u001b[0;31m \u001b[0mtemp1\u001b[0m\u001b[0;34m[\u001b[0m\u001b[0;36m0\u001b[0m\u001b[0;34m]\u001b[0m \u001b[0;34m=\u001b[0m \u001b[0;36m17\u001b[0m\u001b[0;34m\u001b[0m\u001b[0;34m\u001b[0m\u001b[0m\n\u001b[0m",
            "\u001b[0;31mTypeError\u001b[0m: 'tuple' object does not support item assignment"
          ]
        }
      ]
    },
    {
      "cell_type": "markdown",
      "metadata": {
        "id": "K6EQAylwLIHQ"
      },
      "source": [
        "<b>Oops!! You got an error. Hey Don't worry! Its because Once a tuple is created, you cannot change its values unlike list.</b>"
      ],
      "id": "K6EQAylwLIHQ"
    },
    {
      "cell_type": "markdown",
      "metadata": {
        "id": "lVRj9Uq6LIHQ"
      },
      "source": [
        "#### 3.2 . Create city = (\"Bangalore\", 28.9949521, 72)"
      ],
      "id": "lVRj9Uq6LIHQ"
    },
    {
      "cell_type": "markdown",
      "metadata": {
        "id": "U9Mm28ffLIHQ"
      },
      "source": [
        "<p style='text-align: right;'> 6 points</p>\n"
      ],
      "id": "U9Mm28ffLIHQ"
    },
    {
      "cell_type": "code",
      "metadata": {
        "id": "SFxA_LSJLIHQ"
      },
      "source": [
        "#code here\n",
        "\n"
      ],
      "id": "SFxA_LSJLIHQ",
      "execution_count": null,
      "outputs": []
    },
    {
      "cell_type": "markdown",
      "metadata": {
        "id": "8e0tlvwJLIHR"
      },
      "source": [
        "Print first element of city"
      ],
      "id": "8e0tlvwJLIHR"
    },
    {
      "cell_type": "code",
      "metadata": {
        "id": "pxyoGABrLIHR",
        "outputId": "55658604-1bc1-4336-f2aa-427e50c8edf3"
      },
      "source": [
        "#code here\n",
        "\n"
      ],
      "id": "pxyoGABrLIHR",
      "execution_count": null,
      "outputs": [
        {
          "output_type": "stream",
          "text": [
            "Bangalore\n"
          ],
          "name": "stdout"
        }
      ]
    },
    {
      "cell_type": "markdown",
      "metadata": {
        "id": "XOGgkR7cLIHR"
      },
      "source": [
        "Create city2 = (‘Chennai’, 30.01, 74)"
      ],
      "id": "XOGgkR7cLIHR"
    },
    {
      "cell_type": "code",
      "metadata": {
        "id": "FTsn6rNzLIHS"
      },
      "source": [
        "#code here\n",
        "\n"
      ],
      "id": "FTsn6rNzLIHS",
      "execution_count": null,
      "outputs": []
    },
    {
      "cell_type": "markdown",
      "metadata": {
        "id": "g0WzG58iLIHS"
      },
      "source": [
        "Create cities which consist of city and city2"
      ],
      "id": "g0WzG58iLIHS"
    },
    {
      "cell_type": "code",
      "metadata": {
        "id": "a80Pb9mnLIHS"
      },
      "source": [
        "#code here\n",
        "\n"
      ],
      "id": "a80Pb9mnLIHS",
      "execution_count": null,
      "outputs": []
    },
    {
      "cell_type": "markdown",
      "metadata": {
        "id": "7hT7RjC-LIHS"
      },
      "source": [
        "Print cities"
      ],
      "id": "7hT7RjC-LIHS"
    },
    {
      "cell_type": "code",
      "metadata": {
        "id": "gi6_zm_DLIHT",
        "outputId": "e1c271fa-2a7f-40a4-a945-23e696735be2"
      },
      "source": [
        "#code here\n",
        "\n"
      ],
      "id": "gi6_zm_DLIHT",
      "execution_count": null,
      "outputs": [
        {
          "output_type": "execute_result",
          "data": {
            "text/plain": [
              "(('Bangalore', 28.9949521, 72), ('Chennai', 30.01, 74))"
            ]
          },
          "metadata": {
            "tags": []
          },
          "execution_count": 115
        }
      ]
    },
    {
      "cell_type": "markdown",
      "metadata": {
        "id": "eVuLV3EKLIHT"
      },
      "source": [
        "Print type of first element in cities"
      ],
      "id": "eVuLV3EKLIHT"
    },
    {
      "cell_type": "code",
      "metadata": {
        "id": "Y8TzkrLlLIHT",
        "outputId": "cc8f27c2-716e-4038-87e4-f5f93f327101"
      },
      "source": [
        "#code here\n",
        "\n"
      ],
      "id": "Y8TzkrLlLIHT",
      "execution_count": null,
      "outputs": [
        {
          "output_type": "stream",
          "text": [
            "<class 'tuple'>\n"
          ],
          "name": "stdout"
        }
      ]
    },
    {
      "cell_type": "markdown",
      "metadata": {
        "id": "tdoCwjogLIHT"
      },
      "source": [
        "print the type of cities\n"
      ],
      "id": "tdoCwjogLIHT"
    },
    {
      "cell_type": "code",
      "metadata": {
        "id": "gLpeaJl1LIHU",
        "outputId": "b61638f9-effc-4984-8a03-96a8fabc64c0"
      },
      "source": [
        "#code here\n",
        "\n"
      ],
      "id": "gLpeaJl1LIHU",
      "execution_count": null,
      "outputs": [
        {
          "output_type": "stream",
          "text": [
            "<class 'tuple'>\n"
          ],
          "name": "stdout"
        }
      ]
    },
    {
      "cell_type": "markdown",
      "metadata": {
        "id": "fRrFxES8LIHU"
      },
      "source": [
        "Hey that implies you made a nested tuples!!"
      ],
      "id": "fRrFxES8LIHU"
    },
    {
      "cell_type": "markdown",
      "metadata": {
        "id": "YDXbkHYoLIHU"
      },
      "source": [
        "## 4. DICT\n",
        "\n",
        "Reference:-https://www.youtube.com/watch?v=XCcpzWs-CI4"
      ],
      "id": "YDXbkHYoLIHU"
    },
    {
      "cell_type": "markdown",
      "metadata": {
        "id": "yrXkNuRnLIHU"
      },
      "source": [
        "<p style='text-align: right;'> 11 points</p>\n"
      ],
      "id": "yrXkNuRnLIHU"
    },
    {
      "cell_type": "markdown",
      "metadata": {
        "id": "1BumA9rqLIHV"
      },
      "source": [
        "#### 4.1 Create a dictionary d = {\"actor\":\"amir\",\"animal\":\"cat\",\"earth\":2,\"list\":[23,32,12]}"
      ],
      "id": "1BumA9rqLIHV"
    },
    {
      "cell_type": "code",
      "metadata": {
        "id": "iz4UOT0aLIHV"
      },
      "source": [
        "#code here\n",
        "\n"
      ],
      "id": "iz4UOT0aLIHV",
      "execution_count": null,
      "outputs": []
    },
    {
      "cell_type": "markdown",
      "metadata": {
        "id": "q3-V-ysNLIHV"
      },
      "source": [
        "Print the value of d[0]"
      ],
      "id": "q3-V-ysNLIHV"
    },
    {
      "cell_type": "code",
      "metadata": {
        "id": "OmSXi-PTLIHV",
        "outputId": "68b25989-b918-43d6-dd2e-e2f7ab42f316"
      },
      "source": [
        "#code here\n",
        "\n"
      ],
      "id": "OmSXi-PTLIHV",
      "execution_count": null,
      "outputs": [
        {
          "output_type": "error",
          "ename": "KeyError",
          "evalue": "0",
          "traceback": [
            "\u001b[0;31m---------------------------------------------------------------------------\u001b[0m",
            "\u001b[0;31mKeyError\u001b[0m                                  Traceback (most recent call last)",
            "\u001b[0;32m<ipython-input-123-123a9cc6df61>\u001b[0m in \u001b[0;36m<module>\u001b[0;34m\u001b[0m\n\u001b[0;32m----> 1\u001b[0;31m \u001b[0md\u001b[0m\u001b[0;34m[\u001b[0m\u001b[0;36m0\u001b[0m\u001b[0;34m]\u001b[0m\u001b[0;34m\u001b[0m\u001b[0;34m\u001b[0m\u001b[0m\n\u001b[0m",
            "\u001b[0;31mKeyError\u001b[0m: 0"
          ]
        }
      ]
    },
    {
      "cell_type": "markdown",
      "metadata": {
        "id": "bSDe1RqZLIHV"
      },
      "source": [
        "<b>Oops!! again an error. again a fun fact. Dictionary return the value for key if key is in the dictionary, else throws KeyError\n",
        "and we don't have key 0 here :( </b>"
      ],
      "id": "bSDe1RqZLIHV"
    },
    {
      "cell_type": "markdown",
      "metadata": {
        "id": "mzxbGuStLIHW"
      },
      "source": [
        "Store the value of d[‘actor’] to a new variable actor."
      ],
      "id": "mzxbGuStLIHW"
    },
    {
      "cell_type": "code",
      "metadata": {
        "id": "SjrZWDyjLIHW"
      },
      "source": [
        "#code here\n",
        "\n"
      ],
      "id": "SjrZWDyjLIHW",
      "execution_count": null,
      "outputs": []
    },
    {
      "cell_type": "markdown",
      "metadata": {
        "id": "X1ULjib6LIHW"
      },
      "source": [
        "Print the type of actor"
      ],
      "id": "X1ULjib6LIHW"
    },
    {
      "cell_type": "code",
      "metadata": {
        "id": "XS65bauBLIHW",
        "outputId": "b281a68c-f3b5-45f5-b195-816fd4c7c214"
      },
      "source": [
        "#code here\n",
        "\n"
      ],
      "id": "XS65bauBLIHW",
      "execution_count": null,
      "outputs": [
        {
          "output_type": "stream",
          "text": [
            "<class 'str'>\n"
          ],
          "name": "stdout"
        }
      ]
    },
    {
      "cell_type": "markdown",
      "metadata": {
        "id": "fD65a9OLLIHW"
      },
      "source": [
        "Store the value of d[‘list’] in new variable l. "
      ],
      "id": "fD65a9OLLIHW"
    },
    {
      "cell_type": "code",
      "metadata": {
        "id": "iaZ3YkGtLIHX"
      },
      "source": [
        "#code here\n",
        "\n"
      ],
      "id": "iaZ3YkGtLIHX",
      "execution_count": null,
      "outputs": []
    },
    {
      "cell_type": "markdown",
      "metadata": {
        "id": "jb5wRNX7LIHX"
      },
      "source": [
        "Print the type of l. "
      ],
      "id": "jb5wRNX7LIHX"
    },
    {
      "cell_type": "code",
      "metadata": {
        "id": "6XBI3ZXlLIHX",
        "outputId": "ba72a77f-e45a-4db4-d142-d32784e49dcf"
      },
      "source": [
        "#code here\n",
        "\n"
      ],
      "id": "6XBI3ZXlLIHX",
      "execution_count": null,
      "outputs": [
        {
          "output_type": "stream",
          "text": [
            "<class 'list'>\n"
          ],
          "name": "stdout"
        }
      ]
    },
    {
      "cell_type": "markdown",
      "metadata": {
        "id": "iW2yb38aLIHX"
      },
      "source": [
        "Create d1 = { ‘singer’ : ‘Kr$na’ , ‘album’: ‘Still here’, ‘genre’ : ‘hip-hop’}"
      ],
      "id": "iW2yb38aLIHX"
    },
    {
      "cell_type": "code",
      "metadata": {
        "id": "am7vaHGoLIHX"
      },
      "source": [
        "#code here\n",
        "\n"
      ],
      "id": "am7vaHGoLIHX",
      "execution_count": null,
      "outputs": []
    },
    {
      "cell_type": "markdown",
      "metadata": {
        "id": "4uhXqj1RLIHY"
      },
      "source": [
        "Merge d1 into d."
      ],
      "id": "4uhXqj1RLIHY"
    },
    {
      "cell_type": "code",
      "metadata": {
        "id": "i5DyTrcgLIHY"
      },
      "source": [
        "#code here\n",
        "\n"
      ],
      "id": "i5DyTrcgLIHY",
      "execution_count": null,
      "outputs": []
    },
    {
      "cell_type": "markdown",
      "metadata": {
        "id": "Vgk-1JBzLIHa"
      },
      "source": [
        "print d"
      ],
      "id": "Vgk-1JBzLIHa"
    },
    {
      "cell_type": "code",
      "metadata": {
        "id": "u-ANNDHBLIHa",
        "outputId": "5cb21b83-1f91-49af-a702-e961db13875e"
      },
      "source": [
        "#code here\n",
        "\n"
      ],
      "id": "u-ANNDHBLIHa",
      "execution_count": null,
      "outputs": [
        {
          "output_type": "execute_result",
          "data": {
            "text/plain": [
              "{'actor': 'amir',\n",
              " 'animal': 'cat',\n",
              " 'earth': 2,\n",
              " 'list': [23, 32, 12],\n",
              " 'singer': 'Kr$na',\n",
              " 'album': 'Still here',\n",
              " 'genre': 'hip-hop'}"
            ]
          },
          "metadata": {
            "tags": []
          },
          "execution_count": 134
        }
      ]
    },
    {
      "cell_type": "markdown",
      "metadata": {
        "id": "Vm4xzm1zLIHa"
      },
      "source": [
        "Print all the keys in d"
      ],
      "id": "Vm4xzm1zLIHa"
    },
    {
      "cell_type": "code",
      "metadata": {
        "id": "5R1RfEhPLIHb",
        "outputId": "afc804aa-4150-4d79-b55a-63b4cd8ddb07"
      },
      "source": [
        "#code here\n",
        "\n"
      ],
      "id": "5R1RfEhPLIHb",
      "execution_count": null,
      "outputs": [
        {
          "output_type": "execute_result",
          "data": {
            "text/plain": [
              "dict_keys(['actor', 'animal', 'earth', 'list', 'singer', 'album', 'genre'])"
            ]
          },
          "metadata": {
            "tags": []
          },
          "execution_count": 137
        }
      ]
    },
    {
      "cell_type": "markdown",
      "metadata": {
        "id": "Xz43jBUkLIHb"
      },
      "source": [
        "Print all the values in d"
      ],
      "id": "Xz43jBUkLIHb"
    },
    {
      "cell_type": "code",
      "metadata": {
        "id": "npEqkiYILIHb",
        "outputId": "4f76dbf7-bc90-442e-e568-ee1ab14b7fe3"
      },
      "source": [
        "#code here\n",
        "\n"
      ],
      "id": "npEqkiYILIHb",
      "execution_count": null,
      "outputs": [
        {
          "output_type": "execute_result",
          "data": {
            "text/plain": [
              "dict_values(['amir', 'cat', 2, [23, 32, 12], 'Kr$na', 'Still here', 'hip-hop'])"
            ]
          },
          "metadata": {
            "tags": []
          },
          "execution_count": 138
        }
      ]
    },
    {
      "cell_type": "markdown",
      "metadata": {
        "id": "YDbxr0UvLIHb"
      },
      "source": [
        "Iterate over d, and print each key, value pair as given in output"
      ],
      "id": "YDbxr0UvLIHb"
    },
    {
      "cell_type": "code",
      "metadata": {
        "id": "BP6IX_-NLIHc",
        "outputId": "d017079d-bc34-4b86-9636-507439d9a092"
      },
      "source": [
        "#code here\n",
        "\n"
      ],
      "id": "BP6IX_-NLIHc",
      "execution_count": null,
      "outputs": [
        {
          "output_type": "stream",
          "text": [
            "actor ----> amir\n",
            "animal ----> cat\n",
            "earth ----> 2\n",
            "list ----> [23, 32, 12]\n",
            "singer ----> Kr$na\n",
            "album ----> Still here\n",
            "genre ----> hip-hop\n"
          ],
          "name": "stdout"
        }
      ]
    },
    {
      "cell_type": "markdown",
      "metadata": {
        "id": "Vg2P_kwYLIHc"
      },
      "source": [
        "count the number of occurences of charachters in string named \"sent\" using dictionary and print the same.\n"
      ],
      "id": "Vg2P_kwYLIHc"
    },
    {
      "cell_type": "code",
      "metadata": {
        "id": "fNah2K0fLIHc",
        "outputId": "5d228189-03f1-451a-c7a7-9a0d899252e1"
      },
      "source": [
        "#code here\n",
        "\n",
        "\n",
        "\n"
      ],
      "id": "fNah2K0fLIHc",
      "execution_count": null,
      "outputs": [
        {
          "output_type": "execute_result",
          "data": {
            "text/plain": [
              "{'C': 2,\n",
              " 'o': 6,\n",
              " 'r': 4,\n",
              " 'n': 3,\n",
              " 'a': 2,\n",
              " 'v': 1,\n",
              " 'i': 1,\n",
              " 'u': 3,\n",
              " 's': 3,\n",
              " ' ': 5,\n",
              " 'e': 2,\n",
              " 'd': 4,\n",
              " 'L': 1,\n",
              " 'c': 1,\n",
              " 'k': 1,\n",
              " 'w': 1,\n",
              " 'A': 1,\n",
              " 'T': 1,\n",
              " 'h': 1,\n",
              " 'W': 1,\n",
              " 'l': 1,\n",
              " '.': 1}"
            ]
          },
          "metadata": {
            "tags": []
          },
          "execution_count": 2
        }
      ]
    },
    {
      "cell_type": "markdown",
      "metadata": {
        "id": "GdynzvZaLIHc"
      },
      "source": [
        "# --------------------------------------------------------------------"
      ],
      "id": "GdynzvZaLIHc"
    },
    {
      "cell_type": "markdown",
      "metadata": {
        "id": "qYgodSfFLIHd"
      },
      "source": [
        "# Hurray!! Second milestone completed. The next challenge is waiting for you :)\n",
        "\n",
        "# --------------------------------------------------------------------\n",
        "\n",
        "-----------------\n",
        "# FeedBack\n",
        "We hope you’ve enjoyed this course so far. We’re committed to help you use \"AI for All\" course to its full potential, so that you have a great learning experience. And that’s why we need your help in form of a feedback here.\n",
        "\n",
        "Please fill this feedback form  https://zfrmz.in/MtRG5oWXBdesm6rmSM7N"
      ],
      "id": "qYgodSfFLIHd"
    }
  ]
}