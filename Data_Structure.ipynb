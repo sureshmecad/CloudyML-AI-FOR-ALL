{
  "nbformat": 4,
  "nbformat_minor": 5,
  "metadata": {
    "kernelspec": {
      "display_name": "Python 3",
      "language": "python",
      "name": "python3"
    },
    "language_info": {
      "codemirror_mode": {
        "name": "ipython",
        "version": 3
      },
      "file_extension": ".py",
      "mimetype": "text/x-python",
      "name": "python",
      "nbconvert_exporter": "python",
      "pygments_lexer": "ipython3",
      "version": "3.8.5"
    },
    "colab": {
      "name": "Data Structure.ipynb",
      "provenance": [],
      "collapsed_sections": [],
      "include_colab_link": true
    }
  },
  "cells": [
    {
      "cell_type": "markdown",
      "metadata": {
        "id": "view-in-github",
        "colab_type": "text"
      },
      "source": [
        "<a href=\"https://colab.research.google.com/github/sureshmecad/CloudyML-AI-FOR-ALL/blob/main/Data_Structure.ipynb\" target=\"_parent\"><img src=\"https://colab.research.google.com/assets/colab-badge.svg\" alt=\"Open In Colab\"/></a>"
      ]
    },
    {
      "cell_type": "markdown",
      "metadata": {
        "id": "cdBeKX2iLIGn"
      },
      "source": [
        "# <center> <u>Data Structures <u> </center>"
      ],
      "id": "cdBeKX2iLIGn"
    },
    {
      "cell_type": "markdown",
      "metadata": {
        "id": "fPfBh7RJLIGo"
      },
      "source": [
        "## 1. Lists\n",
        "\n",
        "Reference:- https://www.youtube.com/watch?v=ohCDWZgNIU0\n"
      ],
      "id": "fPfBh7RJLIGo"
    },
    {
      "cell_type": "markdown",
      "metadata": {
        "id": "X8Qs6ifQLIGq"
      },
      "source": [
        "<p style='text-align: right;'> 1+1+1 = 3 points</p>\n"
      ],
      "id": "X8Qs6ifQLIGq"
    },
    {
      "cell_type": "markdown",
      "metadata": {
        "id": "BJns3FPILIGr"
      },
      "source": [
        "#### 1.1 Create an empty list with the name ‘a’, print the value of a and type(a).\n"
      ],
      "id": "BJns3FPILIGr"
    },
    {
      "cell_type": "code",
      "metadata": {
        "id": "yAfvSqtaLIGs"
      },
      "source": [
        "# create empty list, name it 'a'\n",
        "a = []"
      ],
      "id": "yAfvSqtaLIGs",
      "execution_count": 1,
      "outputs": []
    },
    {
      "cell_type": "code",
      "metadata": {
        "id": "eJ4CE6UzLIGu",
        "colab": {
          "base_uri": "https://localhost:8080/"
        },
        "outputId": "22af1615-a034-47f6-c0e4-e3a83aec49ad"
      },
      "source": [
        "# print the value of a\n",
        "print(a)"
      ],
      "id": "eJ4CE6UzLIGu",
      "execution_count": 2,
      "outputs": [
        {
          "output_type": "stream",
          "text": [
            "[]\n"
          ],
          "name": "stdout"
        }
      ]
    },
    {
      "cell_type": "code",
      "metadata": {
        "id": "8E_qrHqkLIGv",
        "colab": {
          "base_uri": "https://localhost:8080/"
        },
        "outputId": "f9f12bf2-4d92-497c-eeed-10d97f616765"
      },
      "source": [
        "# print the type of a\n",
        "type(a)"
      ],
      "id": "8E_qrHqkLIGv",
      "execution_count": 3,
      "outputs": [
        {
          "output_type": "execute_result",
          "data": {
            "text/plain": [
              "list"
            ]
          },
          "metadata": {
            "tags": []
          },
          "execution_count": 3
        }
      ]
    },
    {
      "cell_type": "markdown",
      "metadata": {
        "id": "EZ50iXm1LIGx"
      },
      "source": [
        "#### 1.2.Create a list , languages = ['R','Python', 'SAS', 'Scala', 42], "
      ],
      "id": "EZ50iXm1LIGx"
    },
    {
      "cell_type": "markdown",
      "metadata": {
        "id": "lcIZt_dNLIGy"
      },
      "source": [
        "<p style='text-align: right;'> 1+1+1+1+1+1+1+1 = 7 points</p>\n"
      ],
      "id": "lcIZt_dNLIGy"
    },
    {
      "cell_type": "code",
      "metadata": {
        "id": "8QDslp6qLIGz"
      },
      "source": [
        "#code here\n",
        "languages = ['R','Python', 'SAS', 'Scala', 42]"
      ],
      "id": "8QDslp6qLIGz",
      "execution_count": 4,
      "outputs": []
    },
    {
      "cell_type": "markdown",
      "metadata": {
        "id": "nQHmGdLaLIG0"
      },
      "source": [
        "Print the number of elements in the list"
      ],
      "id": "nQHmGdLaLIG0"
    },
    {
      "cell_type": "code",
      "metadata": {
        "id": "1gwT9uC8LIG0",
        "colab": {
          "base_uri": "https://localhost:8080/"
        },
        "outputId": "628b9741-9dcb-4fd2-973b-0ed0c3ad0d34"
      },
      "source": [
        "#code here\n",
        "len(languages)"
      ],
      "id": "1gwT9uC8LIG0",
      "execution_count": 5,
      "outputs": [
        {
          "output_type": "execute_result",
          "data": {
            "text/plain": [
              "5"
            ]
          },
          "metadata": {
            "tags": []
          },
          "execution_count": 5
        }
      ]
    },
    {
      "cell_type": "markdown",
      "metadata": {
        "id": "n4-1yAaXLIG1"
      },
      "source": [
        "Using for loop iterate and print all the elements in the list"
      ],
      "id": "n4-1yAaXLIG1"
    },
    {
      "cell_type": "code",
      "metadata": {
        "id": "jkyBNGaWLIG2",
        "colab": {
          "base_uri": "https://localhost:8080/"
        },
        "outputId": "420128d3-915f-48ac-fa77-2174e7f0ec60"
      },
      "source": [
        "#code here\n",
        "for i in languages:\n",
        "  print(i)"
      ],
      "id": "jkyBNGaWLIG2",
      "execution_count": 6,
      "outputs": [
        {
          "output_type": "stream",
          "text": [
            "R\n",
            "Python\n",
            "SAS\n",
            "Scala\n",
            "42\n"
          ],
          "name": "stdout"
        }
      ]
    },
    {
      "cell_type": "markdown",
      "metadata": {
        "id": "VUa9NdtLLIG3"
      },
      "source": [
        "Select the second item, 'Python' and store it in a new variable named 'temp'"
      ],
      "id": "VUa9NdtLLIG3"
    },
    {
      "cell_type": "code",
      "metadata": {
        "id": "AJZBuJnNLIG4"
      },
      "source": [
        "#code here\n",
        "temp = languages[1]"
      ],
      "id": "AJZBuJnNLIG4",
      "execution_count": 7,
      "outputs": []
    },
    {
      "cell_type": "markdown",
      "metadata": {
        "id": "tNtDeq-RLIG4"
      },
      "source": [
        "Print the value of temp and type(temp)"
      ],
      "id": "tNtDeq-RLIG4"
    },
    {
      "cell_type": "code",
      "metadata": {
        "id": "m19wpXq3LIG5",
        "colab": {
          "base_uri": "https://localhost:8080/"
        },
        "outputId": "0e4cc1a3-519d-4058-cb87-4579584a11cd"
      },
      "source": [
        "#code here\n",
        "print(temp)\n",
        "print(type(temp))"
      ],
      "id": "m19wpXq3LIG5",
      "execution_count": 8,
      "outputs": [
        {
          "output_type": "stream",
          "text": [
            "Python\n",
            "<class 'str'>\n"
          ],
          "name": "stdout"
        }
      ]
    },
    {
      "cell_type": "markdown",
      "metadata": {
        "id": "3nAVGlifLIG6"
      },
      "source": [
        "Using list comprehension, print the last two elemets of list"
      ],
      "id": "3nAVGlifLIG6"
    },
    {
      "cell_type": "code",
      "metadata": {
        "id": "kcX9q_f8LIG6",
        "colab": {
          "base_uri": "https://localhost:8080/"
        },
        "outputId": "c8b537e1-114b-4f9e-c38e-f0fe1253e4aa"
      },
      "source": [
        "# code here\n",
        "languages[3:5]"
      ],
      "id": "kcX9q_f8LIG6",
      "execution_count": 9,
      "outputs": [
        {
          "output_type": "execute_result",
          "data": {
            "text/plain": [
              "['Scala', 42]"
            ]
          },
          "metadata": {
            "tags": []
          },
          "execution_count": 9
        }
      ]
    },
    {
      "cell_type": "markdown",
      "metadata": {
        "id": "yelsLMCFLIG7"
      },
      "source": [
        "Append the element 'Java' in the list"
      ],
      "id": "yelsLMCFLIG7"
    },
    {
      "cell_type": "code",
      "metadata": {
        "id": "3RhrxXpyLIG7"
      },
      "source": [
        "#code here\n",
        "languages.append('Java')"
      ],
      "id": "3RhrxXpyLIG7",
      "execution_count": 10,
      "outputs": []
    },
    {
      "cell_type": "markdown",
      "metadata": {
        "id": "xSfvCnFGLIG8"
      },
      "source": [
        "Remove the element 42 from the list and print the list"
      ],
      "id": "xSfvCnFGLIG8"
    },
    {
      "cell_type": "code",
      "metadata": {
        "id": "EVNQzY50LIG8",
        "colab": {
          "base_uri": "https://localhost:8080/"
        },
        "outputId": "93779787-0005-41eb-b17c-8506c5f45886"
      },
      "source": [
        "#code here\n",
        "languages.remove(42)\n",
        "print(languages)"
      ],
      "id": "EVNQzY50LIG8",
      "execution_count": 11,
      "outputs": [
        {
          "output_type": "stream",
          "text": [
            "['R', 'Python', 'SAS', 'Scala', 'Java']\n"
          ],
          "name": "stdout"
        }
      ]
    },
    {
      "cell_type": "markdown",
      "metadata": {
        "id": "yjpVzMZ5LIG9"
      },
      "source": [
        "#### 1.3. Create a list, colors = [‘Red’, ‘Blue’, ‘White’]"
      ],
      "id": "yjpVzMZ5LIG9"
    },
    {
      "cell_type": "markdown",
      "metadata": {
        "id": "1s3ZGpTqLIG9"
      },
      "source": [
        "<p style='text-align: right;'> 1+1+1+1+1+1+1 = 6 points</p>\n"
      ],
      "id": "1s3ZGpTqLIG9"
    },
    {
      "cell_type": "code",
      "metadata": {
        "id": "MJ9q8tl8LIG9"
      },
      "source": [
        "#code here\n",
        "colors = ['Red', 'Blue', 'White']"
      ],
      "id": "MJ9q8tl8LIG9",
      "execution_count": 12,
      "outputs": []
    },
    {
      "cell_type": "markdown",
      "metadata": {
        "id": "maBE5RgYLIG-"
      },
      "source": [
        "Append the element 'Black' to colors"
      ],
      "id": "maBE5RgYLIG-"
    },
    {
      "cell_type": "code",
      "metadata": {
        "id": "7lp96C8fLIG-"
      },
      "source": [
        "#code here\n",
        "colors.append('Black')"
      ],
      "id": "7lp96C8fLIG-",
      "execution_count": 13,
      "outputs": []
    },
    {
      "cell_type": "markdown",
      "metadata": {
        "id": "TFl1EjxyLIG-"
      },
      "source": [
        "Append the color 'Orange' to second position (index=1) and print the list"
      ],
      "id": "TFl1EjxyLIG-"
    },
    {
      "cell_type": "code",
      "metadata": {
        "id": "Ue4wpHDiLIG-",
        "colab": {
          "base_uri": "https://localhost:8080/"
        },
        "outputId": "d4e14d6f-ad88-45a0-a62e-bc929ba7e331"
      },
      "source": [
        "# code here\n",
        "colors.insert(1, 'Orange')\n",
        "print(colors)"
      ],
      "id": "Ue4wpHDiLIG-",
      "execution_count": 14,
      "outputs": [
        {
          "output_type": "stream",
          "text": [
            "['Red', 'Orange', 'Blue', 'White', 'Black']\n"
          ],
          "name": "stdout"
        }
      ]
    },
    {
      "cell_type": "markdown",
      "metadata": {
        "id": "eTdvTcgHLIG-"
      },
      "source": [
        "Print the list\n"
      ],
      "id": "eTdvTcgHLIG-"
    },
    {
      "cell_type": "code",
      "metadata": {
        "id": "PGuj-CGOLIG_",
        "colab": {
          "base_uri": "https://localhost:8080/"
        },
        "outputId": "b2e9c5b4-e1fa-421a-fd12-433cd38bf38f"
      },
      "source": [
        "# code here\n",
        "print(colors)"
      ],
      "id": "PGuj-CGOLIG_",
      "execution_count": 15,
      "outputs": [
        {
          "output_type": "stream",
          "text": [
            "['Red', 'Orange', 'Blue', 'White', 'Black']\n"
          ],
          "name": "stdout"
        }
      ]
    },
    {
      "cell_type": "markdown",
      "metadata": {
        "id": "LHKkhVxLLIG_"
      },
      "source": [
        "Create another list, colors2 = [‘Grey’, ‘Sky Blue’]"
      ],
      "id": "LHKkhVxLLIG_"
    },
    {
      "cell_type": "code",
      "metadata": {
        "id": "MxAA8oYLLIG_"
      },
      "source": [
        "# code here\n",
        "colors2 = ['Grey', 'Sky Blue']"
      ],
      "id": "MxAA8oYLLIG_",
      "execution_count": 16,
      "outputs": []
    },
    {
      "cell_type": "markdown",
      "metadata": {
        "id": "P0Q6_HRyLIG_"
      },
      "source": [
        "Add the elements of colors2 to colors using extend function in the list"
      ],
      "id": "P0Q6_HRyLIG_"
    },
    {
      "cell_type": "code",
      "metadata": {
        "id": "Tm95xb4MLIG_"
      },
      "source": [
        "#code here\n",
        "colors.extend(colors2)"
      ],
      "id": "Tm95xb4MLIG_",
      "execution_count": 17,
      "outputs": []
    },
    {
      "cell_type": "markdown",
      "metadata": {
        "id": "ar-YzCZwLIHA"
      },
      "source": [
        "Print len of colors and its elements"
      ],
      "id": "ar-YzCZwLIHA"
    },
    {
      "cell_type": "code",
      "metadata": {
        "id": "GtMDYSjfLIHA",
        "colab": {
          "base_uri": "https://localhost:8080/"
        },
        "outputId": "81ca5894-8bb4-453d-a1f2-2c6ba9396227"
      },
      "source": [
        "# code here\n",
        "print(len(colors))\n",
        "print(colors)"
      ],
      "id": "GtMDYSjfLIHA",
      "execution_count": 18,
      "outputs": [
        {
          "output_type": "stream",
          "text": [
            "7\n",
            "['Red', 'Orange', 'Blue', 'White', 'Black', 'Grey', 'Sky Blue']\n"
          ],
          "name": "stdout"
        }
      ]
    },
    {
      "cell_type": "markdown",
      "metadata": {
        "id": "ZUEsfhoKLIHA"
      },
      "source": [
        "Sort the list and print it."
      ],
      "id": "ZUEsfhoKLIHA"
    },
    {
      "cell_type": "code",
      "metadata": {
        "id": "hIk1ltCILIHA",
        "colab": {
          "base_uri": "https://localhost:8080/"
        },
        "outputId": "17ec9894-ca19-4011-b67b-78b377fec3d6"
      },
      "source": [
        "# code here\n",
        "colors.sort()\n",
        "print(colors)"
      ],
      "id": "hIk1ltCILIHA",
      "execution_count": 19,
      "outputs": [
        {
          "output_type": "stream",
          "text": [
            "['Black', 'Blue', 'Grey', 'Orange', 'Red', 'Sky Blue', 'White']\n"
          ],
          "name": "stdout"
        }
      ]
    },
    {
      "cell_type": "markdown",
      "metadata": {
        "id": "Vo9sf9iJLIHB"
      },
      "source": [
        "#### 1.4. Create a string, sent = ‘Coronavirus Caused Lockdowns Around The World.”"
      ],
      "id": "Vo9sf9iJLIHB"
    },
    {
      "cell_type": "markdown",
      "metadata": {
        "id": "1DHX-JEeLIHB"
      },
      "source": [
        "<p style='text-align: right;'> 7 points</p>\n"
      ],
      "id": "1DHX-JEeLIHB"
    },
    {
      "cell_type": "code",
      "metadata": {
        "id": "aEDe7IIJLIHB"
      },
      "source": [
        "# code here\n",
        "sent = \"Coronavirus Caused Lockdowns Around The World.\""
      ],
      "id": "aEDe7IIJLIHB",
      "execution_count": 20,
      "outputs": []
    },
    {
      "cell_type": "markdown",
      "metadata": {
        "id": "191v_Os1LIHB"
      },
      "source": [
        "Use split function to convert the string into a list of words and save it in variable words and print the same"
      ],
      "id": "191v_Os1LIHB"
    },
    {
      "cell_type": "code",
      "metadata": {
        "id": "YA8DAAqmLIHC",
        "colab": {
          "base_uri": "https://localhost:8080/"
        },
        "outputId": "4f9dafc0-429b-4e84-e0f5-ee8818d1dc84"
      },
      "source": [
        "# code here\n",
        "s = sent.split()\n",
        "print(s)"
      ],
      "id": "YA8DAAqmLIHC",
      "execution_count": 21,
      "outputs": [
        {
          "output_type": "stream",
          "text": [
            "['Coronavirus', 'Caused', 'Lockdowns', 'Around', 'The', 'World.']\n"
          ],
          "name": "stdout"
        }
      ]
    },
    {
      "cell_type": "markdown",
      "metadata": {
        "id": "rT0x2iCyLIHC"
      },
      "source": [
        "Using list comprehensions, convert each word in the list to lower case and store it in variable words_lower. \n",
        "Print words_lower"
      ],
      "id": "rT0x2iCyLIHC"
    },
    {
      "cell_type": "code",
      "metadata": {
        "id": "a310wwppLIHC",
        "colab": {
          "base_uri": "https://localhost:8080/"
        },
        "outputId": "1c7ccb20-2b67-4c97-d13c-14cd1e55758c"
      },
      "source": [
        "# code here\n",
        "words_lower = []\n",
        "for i in range(len(s)):\n",
        "  words_lower.append(s[i].lower())\n",
        "\n",
        "print(words_lower)"
      ],
      "id": "a310wwppLIHC",
      "execution_count": 22,
      "outputs": [
        {
          "output_type": "stream",
          "text": [
            "['coronavirus', 'caused', 'lockdowns', 'around', 'the', 'world.']\n"
          ],
          "name": "stdout"
        }
      ]
    },
    {
      "cell_type": "markdown",
      "metadata": {
        "id": "VMMKMZKqLIHC"
      },
      "source": [
        "Check whether ‘country’ is in the list"
      ],
      "id": "VMMKMZKqLIHC"
    },
    {
      "cell_type": "code",
      "metadata": {
        "id": "JF3pxS9bLIHD",
        "colab": {
          "base_uri": "https://localhost:8080/"
        },
        "outputId": "9948daa5-44be-41ae-d252-fb18df971492"
      },
      "source": [
        "# code here\n",
        "data_string = \"country\"\n",
        "res = [ele for ele in words_lower if(ele in data_string)]\n",
        "print(str(bool(res)))"
      ],
      "id": "JF3pxS9bLIHD",
      "execution_count": 23,
      "outputs": [
        {
          "output_type": "stream",
          "text": [
            "False\n"
          ],
          "name": "stdout"
        }
      ]
    },
    {
      "cell_type": "markdown",
      "metadata": {
        "id": "x52miLwfLIHD"
      },
      "source": [
        "Remove the element ‘the’ from the list and print the list."
      ],
      "id": "x52miLwfLIHD"
    },
    {
      "cell_type": "code",
      "metadata": {
        "id": "7UFBKTJrLIHD",
        "colab": {
          "base_uri": "https://localhost:8080/"
        },
        "outputId": "7243e974-ad1c-451d-aaff-4cb79c585795"
      },
      "source": [
        "# code here\n",
        "words_lower.remove(\"the\")\n",
        "print(words_lower)"
      ],
      "id": "7UFBKTJrLIHD",
      "execution_count": 24,
      "outputs": [
        {
          "output_type": "stream",
          "text": [
            "['coronavirus', 'caused', 'lockdowns', 'around', 'world.']\n"
          ],
          "name": "stdout"
        }
      ]
    },
    {
      "cell_type": "markdown",
      "metadata": {
        "id": "ELMu7K2NLIHD"
      },
      "source": [
        "Select the first 4 words from the list words_lower using slicing and store them in a new variable x4"
      ],
      "id": "ELMu7K2NLIHD"
    },
    {
      "cell_type": "code",
      "metadata": {
        "id": "7U-sG1XoLIHD",
        "colab": {
          "base_uri": "https://localhost:8080/"
        },
        "outputId": "9631a27b-e952-497d-adfa-1e65b73c76a2"
      },
      "source": [
        "#code here\n",
        "x4 = words_lower[0:4]\n",
        "print(x4)"
      ],
      "id": "7U-sG1XoLIHD",
      "execution_count": 25,
      "outputs": [
        {
          "output_type": "stream",
          "text": [
            "['coronavirus', 'caused', 'lockdowns', 'around']\n"
          ],
          "name": "stdout"
        }
      ]
    },
    {
      "cell_type": "code",
      "metadata": {
        "id": "c3A8juT9LIHE",
        "colab": {
          "base_uri": "https://localhost:8080/"
        },
        "outputId": "c9fb7e07-7563-4d35-f483-a64754af6876"
      },
      "source": [
        "print (x4)\n"
      ],
      "id": "c3A8juT9LIHE",
      "execution_count": 26,
      "outputs": [
        {
          "output_type": "stream",
          "text": [
            "['coronavirus', 'caused', 'lockdowns', 'around']\n"
          ],
          "name": "stdout"
        }
      ]
    },
    {
      "cell_type": "markdown",
      "metadata": {
        "id": "Qyhbhb4ILIHE"
      },
      "source": [
        "Convert the list of elements to single string using join function and print it"
      ],
      "id": "Qyhbhb4ILIHE"
    },
    {
      "cell_type": "code",
      "metadata": {
        "id": "nriDrCn8LIHE",
        "colab": {
          "base_uri": "https://localhost:8080/"
        },
        "outputId": "048161ba-a165-4e1e-da72-a078c1d0651c"
      },
      "source": [
        "#code here\n",
        "str = \" \"\n",
        "print(str.join(x4))"
      ],
      "id": "nriDrCn8LIHE",
      "execution_count": 27,
      "outputs": [
        {
          "output_type": "stream",
          "text": [
            "coronavirus caused lockdowns around\n"
          ],
          "name": "stdout"
        }
      ]
    },
    {
      "cell_type": "markdown",
      "metadata": {
        "id": "od8sDEoCLIHE"
      },
      "source": [
        "## 2. Sets\n",
        "\n",
        "Reference:-https://www.youtube.com/watch?v=sBvaPopWOmQ"
      ],
      "id": "od8sDEoCLIHE"
    },
    {
      "cell_type": "markdown",
      "metadata": {
        "id": "ZHbZrWPMLIHF"
      },
      "source": [
        "#### 2.1. Create stud_grades = ['A','A','B','C','C','F']"
      ],
      "id": "ZHbZrWPMLIHF"
    },
    {
      "cell_type": "markdown",
      "metadata": {
        "id": "7V2CzSOiLIHF"
      },
      "source": [
        "<p style='text-align: right;'> 7 points</p>\n"
      ],
      "id": "7V2CzSOiLIHF"
    },
    {
      "cell_type": "code",
      "metadata": {
        "id": "mQCeos5cLIHF"
      },
      "source": [
        "#code here\n",
        "stud_grades = ['A','A','B','C','C','F']"
      ],
      "id": "mQCeos5cLIHF",
      "execution_count": 28,
      "outputs": []
    },
    {
      "cell_type": "markdown",
      "metadata": {
        "id": "QCyVLbo4LIHF"
      },
      "source": [
        "Print the len of stud_grades"
      ],
      "id": "QCyVLbo4LIHF"
    },
    {
      "cell_type": "code",
      "metadata": {
        "id": "zVWPPPSsLIHF",
        "colab": {
          "base_uri": "https://localhost:8080/"
        },
        "outputId": "d8d01fb1-178a-42ac-c499-d661238ab568"
      },
      "source": [
        "#code here\n",
        "len(stud_grades)"
      ],
      "id": "zVWPPPSsLIHF",
      "execution_count": 29,
      "outputs": [
        {
          "output_type": "execute_result",
          "data": {
            "text/plain": [
              "6"
            ]
          },
          "metadata": {
            "tags": []
          },
          "execution_count": 29
        }
      ]
    },
    {
      "cell_type": "markdown",
      "metadata": {
        "id": "i04ZyLG_LIHG"
      },
      "source": [
        "Create a new variable, stud_grades_set = set(stud_grades)"
      ],
      "id": "i04ZyLG_LIHG"
    },
    {
      "cell_type": "code",
      "metadata": {
        "id": "m1192KhJLIHG"
      },
      "source": [
        "#code here\n",
        "stud_grades_set = set(stud_grades)\n",
        "#stud_grades_set = sorted(stud_grades_set)"
      ],
      "id": "m1192KhJLIHG",
      "execution_count": 30,
      "outputs": []
    },
    {
      "cell_type": "markdown",
      "metadata": {
        "id": "W_xCyVuILIHG"
      },
      "source": [
        "Print stud_grades_set. "
      ],
      "id": "W_xCyVuILIHG"
    },
    {
      "cell_type": "code",
      "metadata": {
        "id": "FqjPcuB1LIHG",
        "colab": {
          "base_uri": "https://localhost:8080/"
        },
        "outputId": "756b756c-b2f0-49f6-d81b-4c67cd083740"
      },
      "source": [
        "#code here\n",
        "print(stud_grades_set)"
      ],
      "id": "FqjPcuB1LIHG",
      "execution_count": 31,
      "outputs": [
        {
          "output_type": "stream",
          "text": [
            "{'F', 'A', 'C', 'B'}\n"
          ],
          "name": "stdout"
        }
      ]
    },
    {
      "cell_type": "markdown",
      "metadata": {
        "id": "PlBJoSvULIHH"
      },
      "source": [
        "print the type of stud_grades and stud_grades_set and print their corresponding elements. Try to understand the difference between them."
      ],
      "id": "PlBJoSvULIHH"
    },
    {
      "cell_type": "code",
      "metadata": {
        "id": "xq4k0s9nLIHH",
        "colab": {
          "base_uri": "https://localhost:8080/"
        },
        "outputId": "33147ed5-4a1b-4219-c7d8-a8513360870e"
      },
      "source": [
        "#code here\n",
        "print(type(stud_grades), (stud_grades))\n",
        "print(type(stud_grades_set), (stud_grades_set))"
      ],
      "id": "xq4k0s9nLIHH",
      "execution_count": 32,
      "outputs": [
        {
          "output_type": "stream",
          "text": [
            "<class 'list'> ['A', 'A', 'B', 'C', 'C', 'F']\n",
            "<class 'set'> {'F', 'A', 'C', 'B'}\n"
          ],
          "name": "stdout"
        }
      ]
    },
    {
      "cell_type": "markdown",
      "metadata": {
        "id": "SZk6Jwa1LIHH"
      },
      "source": [
        "Add a new element ‘G’ to stud_grades_set"
      ],
      "id": "SZk6Jwa1LIHH"
    },
    {
      "cell_type": "code",
      "metadata": {
        "id": "72kE895cLIHH"
      },
      "source": [
        "#code here\n",
        "stud_grades_set.add('G')"
      ],
      "id": "72kE895cLIHH",
      "execution_count": 33,
      "outputs": []
    },
    {
      "cell_type": "markdown",
      "metadata": {
        "id": "WJ6uxXzVLIHI"
      },
      "source": [
        "Add element 'F' to stud_grades_set. and print it."
      ],
      "id": "WJ6uxXzVLIHI"
    },
    {
      "cell_type": "code",
      "metadata": {
        "id": "m4suf41LLIHI",
        "colab": {
          "base_uri": "https://localhost:8080/"
        },
        "outputId": "5b5263c6-62e7-484c-fb6b-1a95b469ef10"
      },
      "source": [
        "#code here\n",
        "stud_grades_set.add('F')\n",
        "print(stud_grades_set)"
      ],
      "id": "m4suf41LLIHI",
      "execution_count": 34,
      "outputs": [
        {
          "output_type": "stream",
          "text": [
            "{'C', 'A', 'B', 'G', 'F'}\n"
          ],
          "name": "stdout"
        }
      ]
    },
    {
      "cell_type": "markdown",
      "metadata": {
        "id": "5N76Qh8eLIHI"
      },
      "source": [
        "!!Did you notice? set doesn't add an element if it's already present in it, unlike lists."
      ],
      "id": "5N76Qh8eLIHI"
    },
    {
      "cell_type": "markdown",
      "metadata": {
        "id": "g4Xk_xXrLIHI"
      },
      "source": [
        "Remove ‘F’ from stud_grades_set"
      ],
      "id": "g4Xk_xXrLIHI"
    },
    {
      "cell_type": "code",
      "metadata": {
        "id": "3f462WToLIHI"
      },
      "source": [
        "#code here\n",
        "stud_grades_set.remove('F')"
      ],
      "id": "3f462WToLIHI",
      "execution_count": 35,
      "outputs": []
    },
    {
      "cell_type": "markdown",
      "metadata": {
        "id": "lUqecFR5LIHJ"
      },
      "source": [
        "Print the elements and the length of stud_grades_set"
      ],
      "id": "lUqecFR5LIHJ"
    },
    {
      "cell_type": "code",
      "metadata": {
        "id": "C_jG203PLIHJ",
        "colab": {
          "base_uri": "https://localhost:8080/"
        },
        "outputId": "485a4b58-66ce-49ec-e735-370b9d91b97a"
      },
      "source": [
        "#code here\n",
        "print(stud_grades_set)\n",
        "len(stud_grades_set)"
      ],
      "id": "C_jG203PLIHJ",
      "execution_count": 36,
      "outputs": [
        {
          "output_type": "stream",
          "text": [
            "{'C', 'A', 'B', 'G'}\n"
          ],
          "name": "stdout"
        },
        {
          "output_type": "execute_result",
          "data": {
            "text/plain": [
              "4"
            ]
          },
          "metadata": {
            "tags": []
          },
          "execution_count": 36
        }
      ]
    },
    {
      "cell_type": "markdown",
      "metadata": {
        "id": "pMCqRb_7LIHJ"
      },
      "source": [
        "#### 2.2. Create colors = [‘red’,’blue’,’orange’], and fruits = [‘orange’,’grapes’,’apples’] "
      ],
      "id": "pMCqRb_7LIHJ"
    },
    {
      "cell_type": "markdown",
      "metadata": {
        "id": "0WF1burQLIHJ"
      },
      "source": [
        "<p style='text-align: right;'> 6 points</p>\n"
      ],
      "id": "0WF1burQLIHJ"
    },
    {
      "cell_type": "code",
      "metadata": {
        "id": "3GQyKGWFLIHK"
      },
      "source": [
        "#code here\n",
        "colors = ['red','blue','orange']\n",
        "fruits = ['orange','grapes','apples']"
      ],
      "id": "3GQyKGWFLIHK",
      "execution_count": 37,
      "outputs": []
    },
    {
      "cell_type": "markdown",
      "metadata": {
        "id": "_tCu8s47LIHK"
      },
      "source": [
        "Print color and fruits"
      ],
      "id": "_tCu8s47LIHK"
    },
    {
      "cell_type": "code",
      "metadata": {
        "id": "SxHmakHPLIHK",
        "colab": {
          "base_uri": "https://localhost:8080/"
        },
        "outputId": "053386b0-08a1-4962-aac7-43cec3649269"
      },
      "source": [
        "#code here\n",
        "print(colors)\n",
        "print(fruits)"
      ],
      "id": "SxHmakHPLIHK",
      "execution_count": 38,
      "outputs": [
        {
          "output_type": "stream",
          "text": [
            "['red', 'blue', 'orange']\n",
            "['orange', 'grapes', 'apples']\n"
          ],
          "name": "stdout"
        }
      ]
    },
    {
      "cell_type": "markdown",
      "metadata": {
        "id": "E20c14A3LIHK"
      },
      "source": [
        "Create colors_set, and fruits_set. (using set() ) and print them"
      ],
      "id": "E20c14A3LIHK"
    },
    {
      "cell_type": "code",
      "metadata": {
        "id": "s2lNPvm0LIHK",
        "colab": {
          "base_uri": "https://localhost:8080/"
        },
        "outputId": "39738849-8342-40c4-f7f9-1d93bbd1cc77"
      },
      "source": [
        "#code here\n",
        "colors_set = set(colors)\n",
        "fruits_set = set(fruits)\n",
        "print(colors_set)\n",
        "print(fruits_set)"
      ],
      "id": "s2lNPvm0LIHK",
      "execution_count": 39,
      "outputs": [
        {
          "output_type": "stream",
          "text": [
            "{'orange', 'red', 'blue'}\n",
            "{'apples', 'orange', 'grapes'}\n"
          ],
          "name": "stdout"
        }
      ]
    },
    {
      "cell_type": "markdown",
      "metadata": {
        "id": "v2iggip5LIHL"
      },
      "source": [
        "Find the union of both the sets."
      ],
      "id": "v2iggip5LIHL"
    },
    {
      "cell_type": "code",
      "metadata": {
        "id": "CaaD5qb5LIHL",
        "colab": {
          "base_uri": "https://localhost:8080/"
        },
        "outputId": "a11dc3d9-a07e-4ffd-bb46-319011ba3387"
      },
      "source": [
        "#code here\n",
        "colors_set.union(fruits_set)"
      ],
      "id": "CaaD5qb5LIHL",
      "execution_count": 40,
      "outputs": [
        {
          "output_type": "execute_result",
          "data": {
            "text/plain": [
              "{'apples', 'blue', 'grapes', 'orange', 'red'}"
            ]
          },
          "metadata": {
            "tags": []
          },
          "execution_count": 40
        }
      ]
    },
    {
      "cell_type": "markdown",
      "metadata": {
        "id": "VGeGXuXTLIHL"
      },
      "source": [
        "Find the intersection of both the sets "
      ],
      "id": "VGeGXuXTLIHL"
    },
    {
      "cell_type": "code",
      "metadata": {
        "id": "32eyXNkwLIHL",
        "colab": {
          "base_uri": "https://localhost:8080/"
        },
        "outputId": "190af7b9-c4e5-4a80-be0d-1d4919a011d5"
      },
      "source": [
        "#code here\n",
        "\n",
        "colors_set.intersection(fruits_set)"
      ],
      "id": "32eyXNkwLIHL",
      "execution_count": 41,
      "outputs": [
        {
          "output_type": "execute_result",
          "data": {
            "text/plain": [
              "{'orange'}"
            ]
          },
          "metadata": {
            "tags": []
          },
          "execution_count": 41
        }
      ]
    },
    {
      "cell_type": "markdown",
      "metadata": {
        "id": "EMOAeTxuLIHM"
      },
      "source": [
        "Find the elements which are Fruits but not colors (using set.difference() )"
      ],
      "id": "EMOAeTxuLIHM"
    },
    {
      "cell_type": "code",
      "metadata": {
        "id": "FL_uvoEULIHM",
        "colab": {
          "base_uri": "https://localhost:8080/"
        },
        "outputId": "4eebbbe3-4932-48bb-c7e3-ebe7a0c36e36"
      },
      "source": [
        "#code here\n",
        "fruits_set.difference(colors_set)"
      ],
      "id": "FL_uvoEULIHM",
      "execution_count": 42,
      "outputs": [
        {
          "output_type": "execute_result",
          "data": {
            "text/plain": [
              "{'apples', 'grapes'}"
            ]
          },
          "metadata": {
            "tags": []
          },
          "execution_count": 42
        }
      ]
    },
    {
      "cell_type": "markdown",
      "metadata": {
        "id": "GmQrmZZdLIHM"
      },
      "source": [
        "## 3. TUPLES\n",
        "\n",
        "Reference:-https://www.youtube.com/watch?v=NI26dqhs2Rk"
      ],
      "id": "GmQrmZZdLIHM"
    },
    {
      "cell_type": "markdown",
      "metadata": {
        "id": "yc0HixyRLIHN"
      },
      "source": [
        "#### 3.1 . Create temp = [17, ’Virat’, 50.0]"
      ],
      "id": "yc0HixyRLIHN"
    },
    {
      "cell_type": "markdown",
      "metadata": {
        "id": "80W6ShQFLIHN"
      },
      "source": [
        "<p style='text-align: right;'> 7 points</p>\n"
      ],
      "id": "80W6ShQFLIHN"
    },
    {
      "cell_type": "code",
      "metadata": {
        "id": "6Lykv7e7LIHN"
      },
      "source": [
        "#code here\n",
        "temp = [17, 'Virat', 50.0]"
      ],
      "id": "6Lykv7e7LIHN",
      "execution_count": 43,
      "outputs": []
    },
    {
      "cell_type": "markdown",
      "metadata": {
        "id": "cgM8yqejLIHN"
      },
      "source": [
        "Iterate through temp and print all the items in temp"
      ],
      "id": "cgM8yqejLIHN"
    },
    {
      "cell_type": "code",
      "metadata": {
        "id": "46m-LVevLIHO",
        "colab": {
          "base_uri": "https://localhost:8080/"
        },
        "outputId": "39f3f41b-f1a6-4561-8451-3a52996ac86f"
      },
      "source": [
        "#code here\n",
        "for i in temp:\n",
        "  print(i)"
      ],
      "id": "46m-LVevLIHO",
      "execution_count": 44,
      "outputs": [
        {
          "output_type": "stream",
          "text": [
            "17\n",
            "Virat\n",
            "50.0\n"
          ],
          "name": "stdout"
        }
      ]
    },
    {
      "cell_type": "markdown",
      "metadata": {
        "id": "_2Gng3KZLIHO"
      },
      "source": [
        "replace first element with 11 in temp"
      ],
      "id": "_2Gng3KZLIHO"
    },
    {
      "cell_type": "code",
      "metadata": {
        "id": "O0Y9h4JNLIHO"
      },
      "source": [
        "#code here\n",
        "temp1 = list(temp)\n",
        "temp1[0] = '11'\n",
        "temp = tuple(temp1)"
      ],
      "id": "O0Y9h4JNLIHO",
      "execution_count": 45,
      "outputs": []
    },
    {
      "cell_type": "markdown",
      "metadata": {
        "id": "NK7uSccZLIHO"
      },
      "source": [
        "Set temp1 = tuple(temp)"
      ],
      "id": "NK7uSccZLIHO"
    },
    {
      "cell_type": "code",
      "metadata": {
        "id": "mmk9dWrYLIHP"
      },
      "source": [
        "#code here\n",
        "temp = tuple(temp1)"
      ],
      "id": "mmk9dWrYLIHP",
      "execution_count": 46,
      "outputs": []
    },
    {
      "cell_type": "markdown",
      "metadata": {
        "id": "NDsPj0B1LIHP"
      },
      "source": [
        "Iterate through temp1 and print all the items in temp1. "
      ],
      "id": "NDsPj0B1LIHP"
    },
    {
      "cell_type": "code",
      "metadata": {
        "id": "ibjLjV8kLIHP",
        "colab": {
          "base_uri": "https://localhost:8080/"
        },
        "outputId": "d21c3e5b-3a92-4fd8-ee30-f259b893b65d"
      },
      "source": [
        "#code here\n",
        "for i in temp:\n",
        "  print(i)"
      ],
      "id": "ibjLjV8kLIHP",
      "execution_count": 47,
      "outputs": [
        {
          "output_type": "stream",
          "text": [
            "11\n",
            "Virat\n",
            "50.0\n"
          ],
          "name": "stdout"
        }
      ]
    },
    {
      "cell_type": "markdown",
      "metadata": {
        "id": "AGS3ZHmxLIHP"
      },
      "source": [
        "replace first element with 17 in temp1"
      ],
      "id": "AGS3ZHmxLIHP"
    },
    {
      "cell_type": "code",
      "metadata": {
        "id": "vUKqVsmRLIHP",
        "colab": {
          "base_uri": "https://localhost:8080/",
          "height": 197
        },
        "outputId": "a6d21269-20f9-4db1-c16e-47319e07cda2"
      },
      "source": [
        "#code here\n",
        "temp[0]=17\n",
        "tuple(temp)"
      ],
      "id": "vUKqVsmRLIHP",
      "execution_count": 48,
      "outputs": [
        {
          "output_type": "error",
          "ename": "TypeError",
          "evalue": "ignored",
          "traceback": [
            "\u001b[0;31m---------------------------------------------------------------------------\u001b[0m",
            "\u001b[0;31mTypeError\u001b[0m                                 Traceback (most recent call last)",
            "\u001b[0;32m<ipython-input-48-c8004fbdfd42>\u001b[0m in \u001b[0;36m<module>\u001b[0;34m()\u001b[0m\n\u001b[1;32m      1\u001b[0m \u001b[0;31m#code here\u001b[0m\u001b[0;34m\u001b[0m\u001b[0;34m\u001b[0m\u001b[0;34m\u001b[0m\u001b[0m\n\u001b[0;32m----> 2\u001b[0;31m \u001b[0mtemp\u001b[0m\u001b[0;34m[\u001b[0m\u001b[0;36m0\u001b[0m\u001b[0;34m]\u001b[0m\u001b[0;34m=\u001b[0m\u001b[0;36m17\u001b[0m\u001b[0;34m\u001b[0m\u001b[0;34m\u001b[0m\u001b[0m\n\u001b[0m\u001b[1;32m      3\u001b[0m \u001b[0mtuple\u001b[0m\u001b[0;34m(\u001b[0m\u001b[0mtemp\u001b[0m\u001b[0;34m)\u001b[0m\u001b[0;34m\u001b[0m\u001b[0;34m\u001b[0m\u001b[0m\n",
            "\u001b[0;31mTypeError\u001b[0m: 'tuple' object does not support item assignment"
          ]
        }
      ]
    },
    {
      "cell_type": "markdown",
      "metadata": {
        "id": "K6EQAylwLIHQ"
      },
      "source": [
        "<b>Oops!! You got an error. Hey Don't worry! Its because Once a tuple is created, you cannot change its values unlike list.</b>"
      ],
      "id": "K6EQAylwLIHQ"
    },
    {
      "cell_type": "markdown",
      "metadata": {
        "id": "lVRj9Uq6LIHQ"
      },
      "source": [
        "#### 3.2 . Create city = (\"Bangalore\", 28.9949521, 72)"
      ],
      "id": "lVRj9Uq6LIHQ"
    },
    {
      "cell_type": "markdown",
      "metadata": {
        "id": "U9Mm28ffLIHQ"
      },
      "source": [
        "<p style='text-align: right;'> 6 points</p>\n"
      ],
      "id": "U9Mm28ffLIHQ"
    },
    {
      "cell_type": "code",
      "metadata": {
        "id": "SFxA_LSJLIHQ"
      },
      "source": [
        "#code here\n",
        "city = (\"Bangalore\", 28.9949521, 72)"
      ],
      "id": "SFxA_LSJLIHQ",
      "execution_count": 49,
      "outputs": []
    },
    {
      "cell_type": "markdown",
      "metadata": {
        "id": "8e0tlvwJLIHR"
      },
      "source": [
        "Print first element of city"
      ],
      "id": "8e0tlvwJLIHR"
    },
    {
      "cell_type": "code",
      "metadata": {
        "id": "pxyoGABrLIHR",
        "colab": {
          "base_uri": "https://localhost:8080/",
          "height": 35
        },
        "outputId": "bc247a29-3138-4287-d94f-c6c360c9939a"
      },
      "source": [
        "#code here\n",
        "city[0]"
      ],
      "id": "pxyoGABrLIHR",
      "execution_count": 50,
      "outputs": [
        {
          "output_type": "execute_result",
          "data": {
            "application/vnd.google.colaboratory.intrinsic+json": {
              "type": "string"
            },
            "text/plain": [
              "'Bangalore'"
            ]
          },
          "metadata": {
            "tags": []
          },
          "execution_count": 50
        }
      ]
    },
    {
      "cell_type": "markdown",
      "metadata": {
        "id": "XOGgkR7cLIHR"
      },
      "source": [
        "Create city2 = (‘Chennai’, 30.01, 74)"
      ],
      "id": "XOGgkR7cLIHR"
    },
    {
      "cell_type": "code",
      "metadata": {
        "id": "FTsn6rNzLIHS"
      },
      "source": [
        "#code here\n",
        "city2 = ('Chennai', 30.01, 74)"
      ],
      "id": "FTsn6rNzLIHS",
      "execution_count": 51,
      "outputs": []
    },
    {
      "cell_type": "markdown",
      "metadata": {
        "id": "g0WzG58iLIHS"
      },
      "source": [
        "Create cities which consist of city and city2"
      ],
      "id": "g0WzG58iLIHS"
    },
    {
      "cell_type": "code",
      "metadata": {
        "id": "a80Pb9mnLIHS"
      },
      "source": [
        "#code here\n",
        "cities = ((city, ) + (city2, ))"
      ],
      "id": "a80Pb9mnLIHS",
      "execution_count": 52,
      "outputs": []
    },
    {
      "cell_type": "markdown",
      "metadata": {
        "id": "7hT7RjC-LIHS"
      },
      "source": [
        "Print cities"
      ],
      "id": "7hT7RjC-LIHS"
    },
    {
      "cell_type": "code",
      "metadata": {
        "id": "gi6_zm_DLIHT",
        "colab": {
          "base_uri": "https://localhost:8080/"
        },
        "outputId": "75d6b3c6-cbee-42ff-c81f-71ab7f7262c3"
      },
      "source": [
        "#code here\n",
        "print(cities)"
      ],
      "id": "gi6_zm_DLIHT",
      "execution_count": 53,
      "outputs": [
        {
          "output_type": "stream",
          "text": [
            "(('Bangalore', 28.9949521, 72), ('Chennai', 30.01, 74))\n"
          ],
          "name": "stdout"
        }
      ]
    },
    {
      "cell_type": "markdown",
      "metadata": {
        "id": "eVuLV3EKLIHT"
      },
      "source": [
        "Print type of first element in cities"
      ],
      "id": "eVuLV3EKLIHT"
    },
    {
      "cell_type": "code",
      "metadata": {
        "id": "Y8TzkrLlLIHT",
        "colab": {
          "base_uri": "https://localhost:8080/"
        },
        "outputId": "fe9fae7d-7d90-4680-f9cc-1ee040160979"
      },
      "source": [
        "#code here\n",
        "print(type(cities[0]))"
      ],
      "id": "Y8TzkrLlLIHT",
      "execution_count": 54,
      "outputs": [
        {
          "output_type": "stream",
          "text": [
            "<class 'tuple'>\n"
          ],
          "name": "stdout"
        }
      ]
    },
    {
      "cell_type": "markdown",
      "metadata": {
        "id": "tdoCwjogLIHT"
      },
      "source": [
        "print the type of cities\n"
      ],
      "id": "tdoCwjogLIHT"
    },
    {
      "cell_type": "code",
      "metadata": {
        "id": "gLpeaJl1LIHU",
        "colab": {
          "base_uri": "https://localhost:8080/"
        },
        "outputId": "bb0619f7-177a-4bef-d1cd-d44d7eee1526"
      },
      "source": [
        "#code here\n",
        "print(type(cities))"
      ],
      "id": "gLpeaJl1LIHU",
      "execution_count": 55,
      "outputs": [
        {
          "output_type": "stream",
          "text": [
            "<class 'tuple'>\n"
          ],
          "name": "stdout"
        }
      ]
    },
    {
      "cell_type": "markdown",
      "metadata": {
        "id": "fRrFxES8LIHU"
      },
      "source": [
        "Hey that implies you made a nested tuples!!"
      ],
      "id": "fRrFxES8LIHU"
    },
    {
      "cell_type": "markdown",
      "metadata": {
        "id": "YDXbkHYoLIHU"
      },
      "source": [
        "## 4. DICT\n",
        "\n",
        "Reference:-https://www.youtube.com/watch?v=XCcpzWs-CI4"
      ],
      "id": "YDXbkHYoLIHU"
    },
    {
      "cell_type": "markdown",
      "metadata": {
        "id": "yrXkNuRnLIHU"
      },
      "source": [
        "<p style='text-align: right;'> 11 points</p>\n"
      ],
      "id": "yrXkNuRnLIHU"
    },
    {
      "cell_type": "markdown",
      "metadata": {
        "id": "1BumA9rqLIHV"
      },
      "source": [
        "#### 4.1 Create a dictionary d = {\"actor\":\"amir\",\"animal\":\"cat\",\"earth\":2,\"list\":[23,32,12]}"
      ],
      "id": "1BumA9rqLIHV"
    },
    {
      "cell_type": "code",
      "metadata": {
        "id": "iz4UOT0aLIHV"
      },
      "source": [
        "#code here\n",
        "d = {\"actor\":\"amir\",\"animal\":\"cat\",\"earth\":2,\"list\":[23,32,12]}"
      ],
      "id": "iz4UOT0aLIHV",
      "execution_count": 56,
      "outputs": []
    },
    {
      "cell_type": "markdown",
      "metadata": {
        "id": "q3-V-ysNLIHV"
      },
      "source": [
        "Print the value of d[0]"
      ],
      "id": "q3-V-ysNLIHV"
    },
    {
      "cell_type": "code",
      "metadata": {
        "id": "OmSXi-PTLIHV",
        "colab": {
          "base_uri": "https://localhost:8080/",
          "height": 180
        },
        "outputId": "0fdcabc1-453c-4973-9df6-4b63e3340f35"
      },
      "source": [
        "#code here\n",
        "d[0]"
      ],
      "id": "OmSXi-PTLIHV",
      "execution_count": 57,
      "outputs": [
        {
          "output_type": "error",
          "ename": "KeyError",
          "evalue": "ignored",
          "traceback": [
            "\u001b[0;31m---------------------------------------------------------------------------\u001b[0m",
            "\u001b[0;31mKeyError\u001b[0m                                  Traceback (most recent call last)",
            "\u001b[0;32m<ipython-input-57-a306cefea1b5>\u001b[0m in \u001b[0;36m<module>\u001b[0;34m()\u001b[0m\n\u001b[1;32m      1\u001b[0m \u001b[0;31m#code here\u001b[0m\u001b[0;34m\u001b[0m\u001b[0;34m\u001b[0m\u001b[0;34m\u001b[0m\u001b[0m\n\u001b[0;32m----> 2\u001b[0;31m \u001b[0md\u001b[0m\u001b[0;34m[\u001b[0m\u001b[0;36m0\u001b[0m\u001b[0;34m]\u001b[0m\u001b[0;34m\u001b[0m\u001b[0;34m\u001b[0m\u001b[0m\n\u001b[0m",
            "\u001b[0;31mKeyError\u001b[0m: 0"
          ]
        }
      ]
    },
    {
      "cell_type": "markdown",
      "metadata": {
        "id": "bSDe1RqZLIHV"
      },
      "source": [
        "<b>Oops!! again an error. again a fun fact. Dictionary return the value for key if key is in the dictionary, else throws KeyError\n",
        "and we don't have key 0 here :( </b>"
      ],
      "id": "bSDe1RqZLIHV"
    },
    {
      "cell_type": "markdown",
      "metadata": {
        "id": "mzxbGuStLIHW"
      },
      "source": [
        "Store the value of d[‘actor’] to a new variable actor."
      ],
      "id": "mzxbGuStLIHW"
    },
    {
      "cell_type": "code",
      "metadata": {
        "id": "SjrZWDyjLIHW"
      },
      "source": [
        "#code here\n",
        "actor = d['actor']"
      ],
      "id": "SjrZWDyjLIHW",
      "execution_count": 58,
      "outputs": []
    },
    {
      "cell_type": "markdown",
      "metadata": {
        "id": "X1ULjib6LIHW"
      },
      "source": [
        "Print the type of actor"
      ],
      "id": "X1ULjib6LIHW"
    },
    {
      "cell_type": "code",
      "metadata": {
        "id": "XS65bauBLIHW",
        "colab": {
          "base_uri": "https://localhost:8080/"
        },
        "outputId": "9877ffbe-0559-4750-ed2c-fe694951a378"
      },
      "source": [
        "#code here\n",
        "print(type(actor))"
      ],
      "id": "XS65bauBLIHW",
      "execution_count": 59,
      "outputs": [
        {
          "output_type": "stream",
          "text": [
            "<class 'str'>\n"
          ],
          "name": "stdout"
        }
      ]
    },
    {
      "cell_type": "markdown",
      "metadata": {
        "id": "fD65a9OLLIHW"
      },
      "source": [
        "Store the value of d[‘list’] in new variable l. "
      ],
      "id": "fD65a9OLLIHW"
    },
    {
      "cell_type": "code",
      "metadata": {
        "id": "iaZ3YkGtLIHX"
      },
      "source": [
        "#code here\n",
        "I = d['list']"
      ],
      "id": "iaZ3YkGtLIHX",
      "execution_count": 60,
      "outputs": []
    },
    {
      "cell_type": "markdown",
      "metadata": {
        "id": "jb5wRNX7LIHX"
      },
      "source": [
        "Print the type of l. "
      ],
      "id": "jb5wRNX7LIHX"
    },
    {
      "cell_type": "code",
      "metadata": {
        "id": "6XBI3ZXlLIHX",
        "colab": {
          "base_uri": "https://localhost:8080/"
        },
        "outputId": "da9f26e5-b980-4622-e12a-77ab956d9510"
      },
      "source": [
        "#code here\n",
        "print(type(I))"
      ],
      "id": "6XBI3ZXlLIHX",
      "execution_count": 61,
      "outputs": [
        {
          "output_type": "stream",
          "text": [
            "<class 'list'>\n"
          ],
          "name": "stdout"
        }
      ]
    },
    {
      "cell_type": "markdown",
      "metadata": {
        "id": "iW2yb38aLIHX"
      },
      "source": [
        "Create d1 = { ‘singer’ : ‘Kr$na’ , ‘album’: ‘Still here’, ‘genre’ : ‘hip-hop’}"
      ],
      "id": "iW2yb38aLIHX"
    },
    {
      "cell_type": "code",
      "metadata": {
        "id": "am7vaHGoLIHX"
      },
      "source": [
        "#code here\n",
        "d1 = { 'singer' : 'Kr$na' , 'album': 'Still here', 'genre' : 'hip-hop'}"
      ],
      "id": "am7vaHGoLIHX",
      "execution_count": 62,
      "outputs": []
    },
    {
      "cell_type": "markdown",
      "metadata": {
        "id": "4uhXqj1RLIHY"
      },
      "source": [
        "Merge d1 into d."
      ],
      "id": "4uhXqj1RLIHY"
    },
    {
      "cell_type": "code",
      "metadata": {
        "id": "i5DyTrcgLIHY"
      },
      "source": [
        "#code here\n",
        "d.update(d1)"
      ],
      "id": "i5DyTrcgLIHY",
      "execution_count": 63,
      "outputs": []
    },
    {
      "cell_type": "markdown",
      "metadata": {
        "id": "Vgk-1JBzLIHa"
      },
      "source": [
        "print d"
      ],
      "id": "Vgk-1JBzLIHa"
    },
    {
      "cell_type": "code",
      "metadata": {
        "id": "u-ANNDHBLIHa",
        "colab": {
          "base_uri": "https://localhost:8080/"
        },
        "outputId": "9bdb91cb-af34-4b9c-d6e0-b118caa9743d"
      },
      "source": [
        "#code here\n",
        "print(d)"
      ],
      "id": "u-ANNDHBLIHa",
      "execution_count": 64,
      "outputs": [
        {
          "output_type": "stream",
          "text": [
            "{'actor': 'amir', 'animal': 'cat', 'earth': 2, 'list': [23, 32, 12], 'singer': 'Kr$na', 'album': 'Still here', 'genre': 'hip-hop'}\n"
          ],
          "name": "stdout"
        }
      ]
    },
    {
      "cell_type": "markdown",
      "metadata": {
        "id": "Vm4xzm1zLIHa"
      },
      "source": [
        "Print all the keys in d"
      ],
      "id": "Vm4xzm1zLIHa"
    },
    {
      "cell_type": "code",
      "metadata": {
        "id": "5R1RfEhPLIHb",
        "colab": {
          "base_uri": "https://localhost:8080/"
        },
        "outputId": "ae459aad-e88b-4264-88a9-2a7a97570eda"
      },
      "source": [
        "#code here\n",
        "d.keys()"
      ],
      "id": "5R1RfEhPLIHb",
      "execution_count": 65,
      "outputs": [
        {
          "output_type": "execute_result",
          "data": {
            "text/plain": [
              "dict_keys(['actor', 'animal', 'earth', 'list', 'singer', 'album', 'genre'])"
            ]
          },
          "metadata": {
            "tags": []
          },
          "execution_count": 65
        }
      ]
    },
    {
      "cell_type": "markdown",
      "metadata": {
        "id": "Xz43jBUkLIHb"
      },
      "source": [
        "Print all the values in d"
      ],
      "id": "Xz43jBUkLIHb"
    },
    {
      "cell_type": "code",
      "metadata": {
        "id": "npEqkiYILIHb",
        "colab": {
          "base_uri": "https://localhost:8080/"
        },
        "outputId": "91df811b-c4be-4aac-9142-b41f3c1a369a"
      },
      "source": [
        "#code here\n",
        "d.values()"
      ],
      "id": "npEqkiYILIHb",
      "execution_count": 66,
      "outputs": [
        {
          "output_type": "execute_result",
          "data": {
            "text/plain": [
              "dict_values(['amir', 'cat', 2, [23, 32, 12], 'Kr$na', 'Still here', 'hip-hop'])"
            ]
          },
          "metadata": {
            "tags": []
          },
          "execution_count": 66
        }
      ]
    },
    {
      "cell_type": "markdown",
      "metadata": {
        "id": "YDbxr0UvLIHb"
      },
      "source": [
        "Iterate over d, and print each key, value pair as given in output"
      ],
      "id": "YDbxr0UvLIHb"
    },
    {
      "cell_type": "code",
      "metadata": {
        "id": "BP6IX_-NLIHc",
        "colab": {
          "base_uri": "https://localhost:8080/"
        },
        "outputId": "fe886a33-32a2-44e8-c847-041c2dd9a17c"
      },
      "source": [
        "#code here\n",
        "for i in d:\n",
        "  print(i, '->', d[i])"
      ],
      "id": "BP6IX_-NLIHc",
      "execution_count": 67,
      "outputs": [
        {
          "output_type": "stream",
          "text": [
            "actor -> amir\n",
            "animal -> cat\n",
            "earth -> 2\n",
            "list -> [23, 32, 12]\n",
            "singer -> Kr$na\n",
            "album -> Still here\n",
            "genre -> hip-hop\n"
          ],
          "name": "stdout"
        }
      ]
    },
    {
      "cell_type": "markdown",
      "metadata": {
        "id": "Vg2P_kwYLIHc"
      },
      "source": [
        "count the number of occurences of charachters in string named \"sent\" using dictionary and print the same.\n"
      ],
      "id": "Vg2P_kwYLIHc"
    },
    {
      "cell_type": "code",
      "metadata": {
        "id": "fNah2K0fLIHc",
        "colab": {
          "base_uri": "https://localhost:8080/"
        },
        "outputId": "a82e161e-77a5-4f47-9d90-9e9d77762777"
      },
      "source": [
        "#code here\n",
        "dict1 = {}\n",
        "for i in sent:\n",
        "    dict1[i]=0\n",
        "for j in sent:\n",
        "    dict1[j]=dict1[j]+1\n",
        "\n",
        "dict1"
      ],
      "id": "fNah2K0fLIHc",
      "execution_count": 68,
      "outputs": [
        {
          "output_type": "execute_result",
          "data": {
            "text/plain": [
              "{' ': 5,\n",
              " '.': 1,\n",
              " 'A': 1,\n",
              " 'C': 2,\n",
              " 'L': 1,\n",
              " 'T': 1,\n",
              " 'W': 1,\n",
              " 'a': 2,\n",
              " 'c': 1,\n",
              " 'd': 4,\n",
              " 'e': 2,\n",
              " 'h': 1,\n",
              " 'i': 1,\n",
              " 'k': 1,\n",
              " 'l': 1,\n",
              " 'n': 3,\n",
              " 'o': 6,\n",
              " 'r': 4,\n",
              " 's': 3,\n",
              " 'u': 3,\n",
              " 'v': 1,\n",
              " 'w': 1}"
            ]
          },
          "metadata": {
            "tags": []
          },
          "execution_count": 68
        }
      ]
    },
    {
      "cell_type": "markdown",
      "metadata": {
        "id": "GdynzvZaLIHc"
      },
      "source": [
        "# --------------------------------------------------------------------"
      ],
      "id": "GdynzvZaLIHc"
    },
    {
      "cell_type": "markdown",
      "metadata": {
        "id": "qYgodSfFLIHd"
      },
      "source": [
        "# Hurray!! Second milestone completed. The next challenge is waiting for you :)\n",
        "\n",
        "# --------------------------------------------------------------------\n",
        "\n",
        "-----------------\n",
        "# FeedBack\n",
        "We hope you’ve enjoyed this course so far. We’re committed to help you use \"AI for All\" course to its full potential, so that you have a great learning experience. And that’s why we need your help in form of a feedback here.\n",
        "\n",
        "Please fill this feedback form  https://zfrmz.in/MtRG5oWXBdesm6rmSM7N"
      ],
      "id": "qYgodSfFLIHd"
    }
  ]
}