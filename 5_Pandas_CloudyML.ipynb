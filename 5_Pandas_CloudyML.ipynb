{
  "nbformat": 4,
  "nbformat_minor": 5,
  "metadata": {
    "kernelspec": {
      "display_name": "Python 3",
      "language": "python",
      "name": "python3"
    },
    "language_info": {
      "codemirror_mode": {
        "name": "ipython",
        "version": 3
      },
      "file_extension": ".py",
      "mimetype": "text/x-python",
      "name": "python",
      "nbconvert_exporter": "python",
      "pygments_lexer": "ipython3",
      "version": "3.8.5"
    },
    "colab": {
      "name": "5_Pandas_CloudyML.ipynb",
      "provenance": [],
      "collapsed_sections": [],
      "include_colab_link": true
    }
  },
  "cells": [
    {
      "cell_type": "markdown",
      "metadata": {
        "id": "view-in-github",
        "colab_type": "text"
      },
      "source": [
        "<a href=\"https://colab.research.google.com/github/sureshmecad/CloudyML-AI-FOR-ALL/blob/main/5_Pandas_CloudyML.ipynb\" target=\"_parent\"><img src=\"https://colab.research.google.com/assets/colab-badge.svg\" alt=\"Open In Colab\"/></a>"
      ]
    },
    {
      "cell_type": "markdown",
      "metadata": {
        "id": "PANBxgY3Tj4t"
      },
      "source": [
        "# <center><u>Pandas <u> </center>"
      ],
      "id": "PANBxgY3Tj4t"
    },
    {
      "cell_type": "markdown",
      "metadata": {
        "id": "h3M-0VYJTj4u"
      },
      "source": [
        "## 1.[Pandas Series](https://pandas.pydata.org/pandas-docs/stable/reference/series.html)"
      ],
      "id": "h3M-0VYJTj4u"
    },
    {
      "cell_type": "markdown",
      "metadata": {
        "id": "SVaNxosZTj4v"
      },
      "source": [
        "resource - https://www.youtube.com/watch?v=m7gxnZx2vT4"
      ],
      "id": "SVaNxosZTj4v"
    },
    {
      "cell_type": "markdown",
      "metadata": {
        "id": "SYeUyq67Tj4v"
      },
      "source": [
        "<p style='text-align: right;'> 1*4=4 points</p>\n"
      ],
      "id": "SYeUyq67Tj4v"
    },
    {
      "cell_type": "markdown",
      "metadata": {
        "id": "B7kGnjDoTj4v"
      },
      "source": [
        "Import pandas and numpy with their aliases"
      ],
      "id": "B7kGnjDoTj4v"
    },
    {
      "cell_type": "code",
      "metadata": {
        "id": "WH36K915Tj4w"
      },
      "source": [
        "import numpy as np\n",
        "import pandas as pd"
      ],
      "id": "WH36K915Tj4w",
      "execution_count": 1,
      "outputs": []
    },
    {
      "cell_type": "markdown",
      "metadata": {
        "id": "w9Jxv3MPTj4w"
      },
      "source": [
        "Create a variable a = pd.Series([ 100, 200, 300, 400])"
      ],
      "id": "w9Jxv3MPTj4w"
    },
    {
      "cell_type": "code",
      "metadata": {
        "id": "NKFfE8vcTj4w"
      },
      "source": [
        "a = pd.Series([ 100, 200, 300, 400])"
      ],
      "id": "NKFfE8vcTj4w",
      "execution_count": 2,
      "outputs": []
    },
    {
      "cell_type": "markdown",
      "metadata": {
        "id": "q3dNZloETj4x"
      },
      "source": [
        "Print a, and data type"
      ],
      "id": "q3dNZloETj4x"
    },
    {
      "cell_type": "code",
      "metadata": {
        "colab": {
          "base_uri": "https://localhost:8080/"
        },
        "id": "Xs-5Zm08Tj4x",
        "outputId": "4eece8da-1c06-40ee-c849-50bc140d3496"
      },
      "source": [
        "print(a)\n",
        "print(type(a))"
      ],
      "id": "Xs-5Zm08Tj4x",
      "execution_count": 3,
      "outputs": [
        {
          "output_type": "stream",
          "text": [
            "0    100\n",
            "1    200\n",
            "2    300\n",
            "3    400\n",
            "dtype: int64\n",
            "<class 'pandas.core.series.Series'>\n"
          ],
          "name": "stdout"
        }
      ]
    },
    {
      "cell_type": "markdown",
      "metadata": {
        "id": "JB5izz0wTj4y"
      },
      "source": [
        "Using indexing access the element 300 from the series a."
      ],
      "id": "JB5izz0wTj4y"
    },
    {
      "cell_type": "code",
      "metadata": {
        "colab": {
          "base_uri": "https://localhost:8080/"
        },
        "id": "jf6Y1od-Tj4y",
        "outputId": "ccb5c30c-dfca-4c56-81af-2cd78a86b06c"
      },
      "source": [
        "a[2]"
      ],
      "id": "jf6Y1od-Tj4y",
      "execution_count": 4,
      "outputs": [
        {
          "output_type": "execute_result",
          "data": {
            "text/plain": [
              "300"
            ]
          },
          "metadata": {
            "tags": []
          },
          "execution_count": 4
        }
      ]
    },
    {
      "cell_type": "markdown",
      "metadata": {
        "id": "B6Yac7AQTj4y"
      },
      "source": [
        "What are the values of index for series a?"
      ],
      "id": "B6Yac7AQTj4y"
    },
    {
      "cell_type": "markdown",
      "metadata": {
        "id": "-BYDGuAuTj4y"
      },
      "source": [
        "<p style='text-align: right;'> 2*4 = 8 points</p>\n"
      ],
      "id": "-BYDGuAuTj4y"
    },
    {
      "cell_type": "code",
      "metadata": {
        "colab": {
          "base_uri": "https://localhost:8080/"
        },
        "id": "VJjFVrnnTj4z",
        "outputId": "1d44a7d8-f40b-4b57-9036-c1695854d9bb"
      },
      "source": [
        "range(0,4,1)"
      ],
      "id": "VJjFVrnnTj4z",
      "execution_count": 5,
      "outputs": [
        {
          "output_type": "execute_result",
          "data": {
            "text/plain": [
              "range(0, 4)"
            ]
          },
          "metadata": {
            "tags": []
          },
          "execution_count": 5
        }
      ]
    },
    {
      "cell_type": "markdown",
      "metadata": {
        "id": "m_p3a6MPTj4z"
      },
      "source": [
        "Change the index to  ['c', 'a', 'b', 'd']"
      ],
      "id": "m_p3a6MPTj4z"
    },
    {
      "cell_type": "code",
      "metadata": {
        "colab": {
          "base_uri": "https://localhost:8080/"
        },
        "id": "YJOH_f0HTj4z",
        "outputId": "81a1e833-058b-410d-ff47-f72575332b92"
      },
      "source": [
        "a.index = ['c', 'a', 'b', 'd']\n",
        "a"
      ],
      "id": "YJOH_f0HTj4z",
      "execution_count": 6,
      "outputs": [
        {
          "output_type": "execute_result",
          "data": {
            "text/plain": [
              "c    100\n",
              "a    200\n",
              "b    300\n",
              "d    400\n",
              "dtype: int64"
            ]
          },
          "metadata": {
            "tags": []
          },
          "execution_count": 6
        }
      ]
    },
    {
      "cell_type": "markdown",
      "metadata": {
        "id": "mkX6Ah14Tj4z"
      },
      "source": [
        "Access the value in the series with index 'd'"
      ],
      "id": "mkX6Ah14Tj4z"
    },
    {
      "cell_type": "code",
      "metadata": {
        "colab": {
          "base_uri": "https://localhost:8080/"
        },
        "id": "rV01auX6Tj4z",
        "outputId": "84a0f813-b7a4-468d-95b5-52a807320c41"
      },
      "source": [
        "a['d']"
      ],
      "id": "rV01auX6Tj4z",
      "execution_count": 7,
      "outputs": [
        {
          "output_type": "execute_result",
          "data": {
            "text/plain": [
              "400"
            ]
          },
          "metadata": {
            "tags": []
          },
          "execution_count": 7
        }
      ]
    },
    {
      "cell_type": "markdown",
      "metadata": {
        "id": "eHnQuSQBTj40"
      },
      "source": [
        "Sort the values wrt to the index and print it"
      ],
      "id": "eHnQuSQBTj40"
    },
    {
      "cell_type": "code",
      "metadata": {
        "colab": {
          "base_uri": "https://localhost:8080/"
        },
        "id": "pzcB82cVTj40",
        "outputId": "9682d73d-d76e-4993-8b81-12d759710dec"
      },
      "source": [
        "a.sort_index()"
      ],
      "id": "pzcB82cVTj40",
      "execution_count": 8,
      "outputs": [
        {
          "output_type": "execute_result",
          "data": {
            "text/plain": [
              "a    200\n",
              "b    300\n",
              "c    100\n",
              "d    400\n",
              "dtype: int64"
            ]
          },
          "metadata": {
            "tags": []
          },
          "execution_count": 8
        }
      ]
    },
    {
      "cell_type": "markdown",
      "metadata": {
        "id": "OqvjWQG1Tj40"
      },
      "source": [
        "Create a new Pandas Series b having index as 'e', 'f', and 'g' and value 800,450,100 and print it"
      ],
      "id": "OqvjWQG1Tj40"
    },
    {
      "cell_type": "markdown",
      "metadata": {
        "id": "DCXo4eqPTj40"
      },
      "source": [
        "<p style='text-align: right;'> 4*2=8 points</p>\n"
      ],
      "id": "DCXo4eqPTj40"
    },
    {
      "cell_type": "code",
      "metadata": {
        "colab": {
          "base_uri": "https://localhost:8080/"
        },
        "id": "qx4eXwr3Tj40",
        "outputId": "e23eb11e-7560-4ca0-b598-22a6e024bb0e"
      },
      "source": [
        "b = pd.Series([800, 450, 100], index=['e', 'f', 'g'])\n",
        "b"
      ],
      "id": "qx4eXwr3Tj40",
      "execution_count": 9,
      "outputs": [
        {
          "output_type": "execute_result",
          "data": {
            "text/plain": [
              "e    800\n",
              "f    450\n",
              "g    100\n",
              "dtype: int64"
            ]
          },
          "metadata": {
            "tags": []
          },
          "execution_count": 9
        }
      ]
    },
    {
      "cell_type": "markdown",
      "metadata": {
        "id": "Y_z1oL_rTj41"
      },
      "source": [
        "Append b series at the end of a series"
      ],
      "id": "Y_z1oL_rTj41"
    },
    {
      "cell_type": "code",
      "metadata": {
        "colab": {
          "base_uri": "https://localhost:8080/"
        },
        "id": "7X_Gsg4_Tj41",
        "outputId": "95c70705-ea23-4b82-8004-2ea9e5f77811"
      },
      "source": [
        "a = a.append(b)\n",
        "a"
      ],
      "id": "7X_Gsg4_Tj41",
      "execution_count": 10,
      "outputs": [
        {
          "output_type": "execute_result",
          "data": {
            "text/plain": [
              "c    100\n",
              "a    200\n",
              "b    300\n",
              "d    400\n",
              "e    800\n",
              "f    450\n",
              "g    100\n",
              "dtype: int64"
            ]
          },
          "metadata": {
            "tags": []
          },
          "execution_count": 10
        }
      ]
    },
    {
      "cell_type": "code",
      "metadata": {
        "colab": {
          "base_uri": "https://localhost:8080/"
        },
        "id": "Bf593PceTj41",
        "outputId": "8c8ac5da-7dd5-477b-c7f3-a928e3f8cfa8"
      },
      "source": [
        "#print a again after appending b into it\n",
        "a"
      ],
      "id": "Bf593PceTj41",
      "execution_count": 11,
      "outputs": [
        {
          "output_type": "execute_result",
          "data": {
            "text/plain": [
              "c    100\n",
              "a    200\n",
              "b    300\n",
              "d    400\n",
              "e    800\n",
              "f    450\n",
              "g    100\n",
              "dtype: int64"
            ]
          },
          "metadata": {
            "tags": []
          },
          "execution_count": 11
        }
      ]
    },
    {
      "cell_type": "markdown",
      "metadata": {
        "id": "RBJIDiJkTj41"
      },
      "source": [
        "Sort the values in descending order of a and print the index of the sorted series"
      ],
      "id": "RBJIDiJkTj41"
    },
    {
      "cell_type": "code",
      "metadata": {
        "id": "1aANEzGTTj41",
        "colab": {
          "base_uri": "https://localhost:8080/"
        },
        "outputId": "0018e376-fae0-4a52-b53a-df8f4375bd3d"
      },
      "source": [
        "a=a.sort_values(ascending=False)\n",
        "a"
      ],
      "id": "1aANEzGTTj41",
      "execution_count": 12,
      "outputs": [
        {
          "output_type": "execute_result",
          "data": {
            "text/plain": [
              "e    800\n",
              "f    450\n",
              "d    400\n",
              "b    300\n",
              "a    200\n",
              "g    100\n",
              "c    100\n",
              "dtype: int64"
            ]
          },
          "metadata": {
            "tags": []
          },
          "execution_count": 12
        }
      ]
    },
    {
      "cell_type": "code",
      "metadata": {
        "id": "wNQbzqxhTj42",
        "colab": {
          "base_uri": "https://localhost:8080/"
        },
        "outputId": "0b73db94-0fef-4c83-e97c-9fcb6a3c5c95"
      },
      "source": [
        "# print index of a\n",
        "a.index\n"
      ],
      "id": "wNQbzqxhTj42",
      "execution_count": 13,
      "outputs": [
        {
          "output_type": "execute_result",
          "data": {
            "text/plain": [
              "Index(['e', 'f', 'd', 'b', 'a', 'g', 'c'], dtype='object')"
            ]
          },
          "metadata": {
            "tags": []
          },
          "execution_count": 13
        }
      ]
    },
    {
      "cell_type": "markdown",
      "metadata": {
        "id": "09nHpd9RTj42"
      },
      "source": [
        "## 2. [Pandas DataFrame](https://pandas.pydata.org/pandas-docs/stable/reference/api/pandas.DataFrame.html)\n",
        "\n",
        "Reference:-https://www.youtube.com/watch?v=KB-19V-cSs4"
      ],
      "id": "09nHpd9RTj42"
    },
    {
      "cell_type": "markdown",
      "metadata": {
        "id": "Bm0gCr2hTj42"
      },
      "source": [
        "<p style='text-align: right;'> 8*2 = 16 points</p>\n"
      ],
      "id": "Bm0gCr2hTj42"
    },
    {
      "cell_type": "markdown",
      "metadata": {
        "id": "XijGxUbaTj42"
      },
      "source": [
        "### Part 1"
      ],
      "id": "XijGxUbaTj42"
    },
    {
      "cell_type": "markdown",
      "metadata": {
        "id": "wdYCOxjYTj43"
      },
      "source": [
        "<p style='text-align: right;'> 5 points</p>\n"
      ],
      "id": "wdYCOxjYTj43"
    },
    {
      "cell_type": "markdown",
      "metadata": {
        "id": "Iur3AMH_Tj43"
      },
      "source": [
        "Create a pandas dataframe df from the series 'a' that we used in the last section, print the dataframe"
      ],
      "id": "Iur3AMH_Tj43"
    },
    {
      "cell_type": "code",
      "metadata": {
        "id": "7QTFaN9gTj43",
        "colab": {
          "base_uri": "https://localhost:8080/",
          "height": 266
        },
        "outputId": "fc4743f3-b1ea-4214-f0fc-07e3195db241"
      },
      "source": [
        "df = pd.DataFrame(a)\n",
        "df"
      ],
      "id": "7QTFaN9gTj43",
      "execution_count": 14,
      "outputs": [
        {
          "output_type": "execute_result",
          "data": {
            "text/html": [
              "<div>\n",
              "<style scoped>\n",
              "    .dataframe tbody tr th:only-of-type {\n",
              "        vertical-align: middle;\n",
              "    }\n",
              "\n",
              "    .dataframe tbody tr th {\n",
              "        vertical-align: top;\n",
              "    }\n",
              "\n",
              "    .dataframe thead th {\n",
              "        text-align: right;\n",
              "    }\n",
              "</style>\n",
              "<table border=\"1\" class=\"dataframe\">\n",
              "  <thead>\n",
              "    <tr style=\"text-align: right;\">\n",
              "      <th></th>\n",
              "      <th>0</th>\n",
              "    </tr>\n",
              "  </thead>\n",
              "  <tbody>\n",
              "    <tr>\n",
              "      <th>e</th>\n",
              "      <td>800</td>\n",
              "    </tr>\n",
              "    <tr>\n",
              "      <th>f</th>\n",
              "      <td>450</td>\n",
              "    </tr>\n",
              "    <tr>\n",
              "      <th>d</th>\n",
              "      <td>400</td>\n",
              "    </tr>\n",
              "    <tr>\n",
              "      <th>b</th>\n",
              "      <td>300</td>\n",
              "    </tr>\n",
              "    <tr>\n",
              "      <th>a</th>\n",
              "      <td>200</td>\n",
              "    </tr>\n",
              "    <tr>\n",
              "      <th>g</th>\n",
              "      <td>100</td>\n",
              "    </tr>\n",
              "    <tr>\n",
              "      <th>c</th>\n",
              "      <td>100</td>\n",
              "    </tr>\n",
              "  </tbody>\n",
              "</table>\n",
              "</div>"
            ],
            "text/plain": [
              "     0\n",
              "e  800\n",
              "f  450\n",
              "d  400\n",
              "b  300\n",
              "a  200\n",
              "g  100\n",
              "c  100"
            ]
          },
          "metadata": {
            "tags": []
          },
          "execution_count": 14
        }
      ]
    },
    {
      "cell_type": "markdown",
      "metadata": {
        "id": "Lt7lLN4qTj43"
      },
      "source": [
        "Point to ponder! Don't you think series a and dataframe df looks alike? But there must be some difference between them. \n",
        "Hey buddy think and write your thoughts below."
      ],
      "id": "Lt7lLN4qTj43"
    },
    {
      "cell_type": "code",
      "metadata": {
        "id": "_IHgUvk8Tj43"
      },
      "source": [
        "# happy to know your comment\n",
        " \n",
        "# A Pandas Series is one dimensioned whereas a DataFrame is two dimensioned. Therefore, a single column DataFrame can have a name for its single column but a Series cannot have a column name. In fact, each column of a DataFrame can be converted to a series"
      ],
      "id": "_IHgUvk8Tj43",
      "execution_count": 15,
      "outputs": []
    },
    {
      "cell_type": "markdown",
      "metadata": {
        "id": "a2rNCqKLTj44"
      },
      "source": [
        "<p style='text-align: right;'> 2 + 1*4 = 6 points</p>\n"
      ],
      "id": "a2rNCqKLTj44"
    },
    {
      "cell_type": "markdown",
      "metadata": {
        "id": "3FImOk-wTj44"
      },
      "source": [
        "What is the shape of the datafarme <br>\n"
      ],
      "id": "3FImOk-wTj44"
    },
    {
      "cell_type": "code",
      "metadata": {
        "id": "bpeT13F-Tj44",
        "colab": {
          "base_uri": "https://localhost:8080/"
        },
        "outputId": "3696f61f-3735-47ef-ca06-ee40c67a0c8c"
      },
      "source": [
        "df.shape"
      ],
      "id": "bpeT13F-Tj44",
      "execution_count": 16,
      "outputs": [
        {
          "output_type": "execute_result",
          "data": {
            "text/plain": [
              "(7, 1)"
            ]
          },
          "metadata": {
            "tags": []
          },
          "execution_count": 16
        }
      ]
    },
    {
      "cell_type": "markdown",
      "metadata": {
        "id": "-k77ncJfTj44"
      },
      "source": [
        "Hey! remember shape (7,1) implies dataframe has 7 rows and 1 column. "
      ],
      "id": "-k77ncJfTj44"
    },
    {
      "cell_type": "markdown",
      "metadata": {
        "id": "XLOMnoMWTj44"
      },
      "source": [
        "What is the index of the dataframe, is it same as the series 'a' ?"
      ],
      "id": "XLOMnoMWTj44"
    },
    {
      "cell_type": "code",
      "metadata": {
        "id": "FzwhAXiLTj45",
        "colab": {
          "base_uri": "https://localhost:8080/"
        },
        "outputId": "7f8f42ee-e384-497a-dbfe-383390e76876"
      },
      "source": [
        "df.index"
      ],
      "id": "FzwhAXiLTj45",
      "execution_count": 17,
      "outputs": [
        {
          "output_type": "execute_result",
          "data": {
            "text/plain": [
              "Index(['e', 'f', 'd', 'b', 'a', 'g', 'c'], dtype='object')"
            ]
          },
          "metadata": {
            "tags": []
          },
          "execution_count": 17
        }
      ]
    },
    {
      "cell_type": "markdown",
      "metadata": {
        "id": "IjVDgqDuTj45"
      },
      "source": [
        "print the head and tail of the dataframe. <br>\n",
        "Additional - (what does head and tali represent?)"
      ],
      "id": "IjVDgqDuTj45"
    },
    {
      "cell_type": "code",
      "metadata": {
        "id": "Cd5EHxTpTj45",
        "colab": {
          "base_uri": "https://localhost:8080/",
          "height": 204
        },
        "outputId": "78e2e201-6338-422d-a282-826fb64f0b85"
      },
      "source": [
        "#head\n",
        "# head prints first 5 rows of dataframe\n",
        "df.head()"
      ],
      "id": "Cd5EHxTpTj45",
      "execution_count": 18,
      "outputs": [
        {
          "output_type": "execute_result",
          "data": {
            "text/html": [
              "<div>\n",
              "<style scoped>\n",
              "    .dataframe tbody tr th:only-of-type {\n",
              "        vertical-align: middle;\n",
              "    }\n",
              "\n",
              "    .dataframe tbody tr th {\n",
              "        vertical-align: top;\n",
              "    }\n",
              "\n",
              "    .dataframe thead th {\n",
              "        text-align: right;\n",
              "    }\n",
              "</style>\n",
              "<table border=\"1\" class=\"dataframe\">\n",
              "  <thead>\n",
              "    <tr style=\"text-align: right;\">\n",
              "      <th></th>\n",
              "      <th>0</th>\n",
              "    </tr>\n",
              "  </thead>\n",
              "  <tbody>\n",
              "    <tr>\n",
              "      <th>e</th>\n",
              "      <td>800</td>\n",
              "    </tr>\n",
              "    <tr>\n",
              "      <th>f</th>\n",
              "      <td>450</td>\n",
              "    </tr>\n",
              "    <tr>\n",
              "      <th>d</th>\n",
              "      <td>400</td>\n",
              "    </tr>\n",
              "    <tr>\n",
              "      <th>b</th>\n",
              "      <td>300</td>\n",
              "    </tr>\n",
              "    <tr>\n",
              "      <th>a</th>\n",
              "      <td>200</td>\n",
              "    </tr>\n",
              "  </tbody>\n",
              "</table>\n",
              "</div>"
            ],
            "text/plain": [
              "     0\n",
              "e  800\n",
              "f  450\n",
              "d  400\n",
              "b  300\n",
              "a  200"
            ]
          },
          "metadata": {
            "tags": []
          },
          "execution_count": 18
        }
      ]
    },
    {
      "cell_type": "code",
      "metadata": {
        "id": "M39Zx7_vTj45",
        "colab": {
          "base_uri": "https://localhost:8080/",
          "height": 204
        },
        "outputId": "b025dfe2-dba1-41aa-b436-d811c0f8b269"
      },
      "source": [
        "#tail\n",
        "# tail prints last 5 rows of dataframe\n",
        "df.tail()"
      ],
      "id": "M39Zx7_vTj45",
      "execution_count": 19,
      "outputs": [
        {
          "output_type": "execute_result",
          "data": {
            "text/html": [
              "<div>\n",
              "<style scoped>\n",
              "    .dataframe tbody tr th:only-of-type {\n",
              "        vertical-align: middle;\n",
              "    }\n",
              "\n",
              "    .dataframe tbody tr th {\n",
              "        vertical-align: top;\n",
              "    }\n",
              "\n",
              "    .dataframe thead th {\n",
              "        text-align: right;\n",
              "    }\n",
              "</style>\n",
              "<table border=\"1\" class=\"dataframe\">\n",
              "  <thead>\n",
              "    <tr style=\"text-align: right;\">\n",
              "      <th></th>\n",
              "      <th>0</th>\n",
              "    </tr>\n",
              "  </thead>\n",
              "  <tbody>\n",
              "    <tr>\n",
              "      <th>d</th>\n",
              "      <td>400</td>\n",
              "    </tr>\n",
              "    <tr>\n",
              "      <th>b</th>\n",
              "      <td>300</td>\n",
              "    </tr>\n",
              "    <tr>\n",
              "      <th>a</th>\n",
              "      <td>200</td>\n",
              "    </tr>\n",
              "    <tr>\n",
              "      <th>g</th>\n",
              "      <td>100</td>\n",
              "    </tr>\n",
              "    <tr>\n",
              "      <th>c</th>\n",
              "      <td>100</td>\n",
              "    </tr>\n",
              "  </tbody>\n",
              "</table>\n",
              "</div>"
            ],
            "text/plain": [
              "     0\n",
              "d  400\n",
              "b  300\n",
              "a  200\n",
              "g  100\n",
              "c  100"
            ]
          },
          "metadata": {
            "tags": []
          },
          "execution_count": 19
        }
      ]
    },
    {
      "cell_type": "markdown",
      "metadata": {
        "id": "BLK_k_BLTj45"
      },
      "source": [
        "Rename the columns of the dataframe as 'points'"
      ],
      "id": "BLK_k_BLTj45"
    },
    {
      "cell_type": "markdown",
      "metadata": {
        "id": "kI3PFEpWTj45"
      },
      "source": [
        "<p style='text-align: right;'> 2 points</p>\n"
      ],
      "id": "kI3PFEpWTj45"
    },
    {
      "cell_type": "code",
      "metadata": {
        "id": "X-I4HOoiTj46",
        "colab": {
          "base_uri": "https://localhost:8080/",
          "height": 266
        },
        "outputId": "00581ebf-7d72-4742-df1b-c20eaef9e56c"
      },
      "source": [
        "df.columns = [\"points\"]\n",
        "df"
      ],
      "id": "X-I4HOoiTj46",
      "execution_count": 20,
      "outputs": [
        {
          "output_type": "execute_result",
          "data": {
            "text/html": [
              "<div>\n",
              "<style scoped>\n",
              "    .dataframe tbody tr th:only-of-type {\n",
              "        vertical-align: middle;\n",
              "    }\n",
              "\n",
              "    .dataframe tbody tr th {\n",
              "        vertical-align: top;\n",
              "    }\n",
              "\n",
              "    .dataframe thead th {\n",
              "        text-align: right;\n",
              "    }\n",
              "</style>\n",
              "<table border=\"1\" class=\"dataframe\">\n",
              "  <thead>\n",
              "    <tr style=\"text-align: right;\">\n",
              "      <th></th>\n",
              "      <th>points</th>\n",
              "    </tr>\n",
              "  </thead>\n",
              "  <tbody>\n",
              "    <tr>\n",
              "      <th>e</th>\n",
              "      <td>800</td>\n",
              "    </tr>\n",
              "    <tr>\n",
              "      <th>f</th>\n",
              "      <td>450</td>\n",
              "    </tr>\n",
              "    <tr>\n",
              "      <th>d</th>\n",
              "      <td>400</td>\n",
              "    </tr>\n",
              "    <tr>\n",
              "      <th>b</th>\n",
              "      <td>300</td>\n",
              "    </tr>\n",
              "    <tr>\n",
              "      <th>a</th>\n",
              "      <td>200</td>\n",
              "    </tr>\n",
              "    <tr>\n",
              "      <th>g</th>\n",
              "      <td>100</td>\n",
              "    </tr>\n",
              "    <tr>\n",
              "      <th>c</th>\n",
              "      <td>100</td>\n",
              "    </tr>\n",
              "  </tbody>\n",
              "</table>\n",
              "</div>"
            ],
            "text/plain": [
              "   points\n",
              "e     800\n",
              "f     450\n",
              "d     400\n",
              "b     300\n",
              "a     200\n",
              "g     100\n",
              "c     100"
            ]
          },
          "metadata": {
            "tags": []
          },
          "execution_count": 20
        }
      ]
    },
    {
      "cell_type": "markdown",
      "metadata": {
        "id": "a_ge5oMBTj46"
      },
      "source": [
        "Create another Series 'fruits', which contains random names of fruits from ['orange','mango','apple']. The series should contain 7 elements, randomly selected from ['orange','mango','apple']"
      ],
      "id": "a_ge5oMBTj46"
    },
    {
      "cell_type": "markdown",
      "metadata": {
        "id": "CWOIoEKHTj46"
      },
      "source": [
        "<p style='text-align: right;'> 5 points</p>\n"
      ],
      "id": "CWOIoEKHTj46"
    },
    {
      "cell_type": "code",
      "metadata": {
        "id": "92BGQOkSTj46",
        "colab": {
          "base_uri": "https://localhost:8080/"
        },
        "outputId": "f73e9bbe-64e0-43a8-a4ec-d27d96f72117"
      },
      "source": [
        "#Create fruits array\n",
        "import random\n",
        "import numpy as np\n",
        "#fruits = ['orange','mango','apple']\n",
        "fruits_array = np.random.choice(['orange', 'mango', 'apple'], 7)\n",
        "fruits_array"
      ],
      "id": "92BGQOkSTj46",
      "execution_count": 21,
      "outputs": [
        {
          "output_type": "execute_result",
          "data": {
            "text/plain": [
              "array(['mango', 'apple', 'orange', 'apple', 'apple', 'orange', 'orange'],\n",
              "      dtype='<U6')"
            ]
          },
          "metadata": {
            "tags": []
          },
          "execution_count": 21
        }
      ]
    },
    {
      "cell_type": "markdown",
      "metadata": {
        "id": "tsKYe_FjTj46"
      },
      "source": [
        "The above output might vary based randomness"
      ],
      "id": "tsKYe_FjTj46"
    },
    {
      "cell_type": "code",
      "metadata": {
        "id": "EQm8-NWmTj47",
        "colab": {
          "base_uri": "https://localhost:8080/"
        },
        "outputId": "6b7808b4-2e9b-4379-e095-300d0c853448"
      },
      "source": [
        "#Create series fruits out of fruits array\n",
        "fruits = pd.Series(fruits_array)\n",
        "fruits"
      ],
      "id": "EQm8-NWmTj47",
      "execution_count": 22,
      "outputs": [
        {
          "output_type": "execute_result",
          "data": {
            "text/plain": [
              "0     mango\n",
              "1     apple\n",
              "2    orange\n",
              "3     apple\n",
              "4     apple\n",
              "5    orange\n",
              "6    orange\n",
              "dtype: object"
            ]
          },
          "metadata": {
            "tags": []
          },
          "execution_count": 22
        }
      ]
    },
    {
      "cell_type": "markdown",
      "metadata": {
        "id": "nJVSOFB_Tj47"
      },
      "source": [
        "Change the index of fruits to the index of dataframe df"
      ],
      "id": "nJVSOFB_Tj47"
    },
    {
      "cell_type": "markdown",
      "metadata": {
        "id": "_YEo7SvBTj47"
      },
      "source": [
        "<p style='text-align: right;'> 5 points</p>\n"
      ],
      "id": "_YEo7SvBTj47"
    },
    {
      "cell_type": "code",
      "metadata": {
        "id": "9ZCDDHJuTj47",
        "colab": {
          "base_uri": "https://localhost:8080/"
        },
        "outputId": "0d7fbfdb-ac51-4a34-dc04-87aa9fa2384b"
      },
      "source": [
        "fruits.index = ['e', 'f', 'd', 'b', 'a', 'g', 'c']\n",
        "fruits"
      ],
      "id": "9ZCDDHJuTj47",
      "execution_count": 23,
      "outputs": [
        {
          "output_type": "execute_result",
          "data": {
            "text/plain": [
              "e     mango\n",
              "f     apple\n",
              "d    orange\n",
              "b     apple\n",
              "a     apple\n",
              "g    orange\n",
              "c    orange\n",
              "dtype: object"
            ]
          },
          "metadata": {
            "tags": []
          },
          "execution_count": 23
        }
      ]
    },
    {
      "cell_type": "markdown",
      "metadata": {
        "id": "--NgNWDrTj47"
      },
      "source": [
        "Add this fruits series as a new column to the dataframe df with its column name as 'fruits' <br> print the head of the dataframe to verify"
      ],
      "id": "--NgNWDrTj47"
    },
    {
      "cell_type": "code",
      "metadata": {
        "id": "0RtavqECTj48",
        "colab": {
          "base_uri": "https://localhost:8080/",
          "height": 204
        },
        "outputId": "2210e380-0d9c-4fa5-8443-bdf6b3a48f17"
      },
      "source": [
        "fruits = pd.DataFrame(fruits)\n",
        "fruits.columns = [\"fruits\"]\n",
        "df1 = pd.concat([fruits, df], axis=1)\n",
        "df1.head()"
      ],
      "id": "0RtavqECTj48",
      "execution_count": 24,
      "outputs": [
        {
          "output_type": "execute_result",
          "data": {
            "text/html": [
              "<div>\n",
              "<style scoped>\n",
              "    .dataframe tbody tr th:only-of-type {\n",
              "        vertical-align: middle;\n",
              "    }\n",
              "\n",
              "    .dataframe tbody tr th {\n",
              "        vertical-align: top;\n",
              "    }\n",
              "\n",
              "    .dataframe thead th {\n",
              "        text-align: right;\n",
              "    }\n",
              "</style>\n",
              "<table border=\"1\" class=\"dataframe\">\n",
              "  <thead>\n",
              "    <tr style=\"text-align: right;\">\n",
              "      <th></th>\n",
              "      <th>fruits</th>\n",
              "      <th>points</th>\n",
              "    </tr>\n",
              "  </thead>\n",
              "  <tbody>\n",
              "    <tr>\n",
              "      <th>e</th>\n",
              "      <td>mango</td>\n",
              "      <td>800</td>\n",
              "    </tr>\n",
              "    <tr>\n",
              "      <th>f</th>\n",
              "      <td>apple</td>\n",
              "      <td>450</td>\n",
              "    </tr>\n",
              "    <tr>\n",
              "      <th>d</th>\n",
              "      <td>orange</td>\n",
              "      <td>400</td>\n",
              "    </tr>\n",
              "    <tr>\n",
              "      <th>b</th>\n",
              "      <td>apple</td>\n",
              "      <td>300</td>\n",
              "    </tr>\n",
              "    <tr>\n",
              "      <th>a</th>\n",
              "      <td>apple</td>\n",
              "      <td>200</td>\n",
              "    </tr>\n",
              "  </tbody>\n",
              "</table>\n",
              "</div>"
            ],
            "text/plain": [
              "   fruits  points\n",
              "e   mango     800\n",
              "f   apple     450\n",
              "d  orange     400\n",
              "b   apple     300\n",
              "a   apple     200"
            ]
          },
          "metadata": {
            "tags": []
          },
          "execution_count": 24
        }
      ]
    },
    {
      "cell_type": "markdown",
      "metadata": {
        "id": "a19dCmdJTj48"
      },
      "source": [
        "<u>Bonus optional question:</u> <br>\n",
        "What if we had to changed the index of the dataframe? <br>\n",
        "Try to add any series to the dataframe with the origianl index (when index of series is not same as to the index of dataframe)\n",
        "\n",
        "Use series as pd.Series([100,200,300,400,500,600,700]) and try to add it to df with column name Bonus_number.\n",
        "\n",
        "Bonus marks: 5 points"
      ],
      "id": "a19dCmdJTj48"
    },
    {
      "cell_type": "code",
      "metadata": {
        "id": "gULrBJcDTj48",
        "colab": {
          "base_uri": "https://localhost:8080/",
          "height": 266
        },
        "outputId": "3b5e91e8-1575-4a5a-f687-7e95fc688e67"
      },
      "source": [
        "#bonus code here\n",
        "\n",
        "new = pd.Series([100,200,300,400,500,600,700])\n",
        "new.index = ['e', 'f', 'd', 'b', 'a', 'g', 'c']\n",
        "new = pd.DataFrame(new)\n",
        "new.columns = ['Bonus_number']\n",
        "df2 = pd.concat([df1, new], axis=1)\n",
        "df2\n"
      ],
      "id": "gULrBJcDTj48",
      "execution_count": 25,
      "outputs": [
        {
          "output_type": "execute_result",
          "data": {
            "text/html": [
              "<div>\n",
              "<style scoped>\n",
              "    .dataframe tbody tr th:only-of-type {\n",
              "        vertical-align: middle;\n",
              "    }\n",
              "\n",
              "    .dataframe tbody tr th {\n",
              "        vertical-align: top;\n",
              "    }\n",
              "\n",
              "    .dataframe thead th {\n",
              "        text-align: right;\n",
              "    }\n",
              "</style>\n",
              "<table border=\"1\" class=\"dataframe\">\n",
              "  <thead>\n",
              "    <tr style=\"text-align: right;\">\n",
              "      <th></th>\n",
              "      <th>fruits</th>\n",
              "      <th>points</th>\n",
              "      <th>Bonus_number</th>\n",
              "    </tr>\n",
              "  </thead>\n",
              "  <tbody>\n",
              "    <tr>\n",
              "      <th>e</th>\n",
              "      <td>mango</td>\n",
              "      <td>800</td>\n",
              "      <td>100</td>\n",
              "    </tr>\n",
              "    <tr>\n",
              "      <th>f</th>\n",
              "      <td>apple</td>\n",
              "      <td>450</td>\n",
              "      <td>200</td>\n",
              "    </tr>\n",
              "    <tr>\n",
              "      <th>d</th>\n",
              "      <td>orange</td>\n",
              "      <td>400</td>\n",
              "      <td>300</td>\n",
              "    </tr>\n",
              "    <tr>\n",
              "      <th>b</th>\n",
              "      <td>apple</td>\n",
              "      <td>300</td>\n",
              "      <td>400</td>\n",
              "    </tr>\n",
              "    <tr>\n",
              "      <th>a</th>\n",
              "      <td>apple</td>\n",
              "      <td>200</td>\n",
              "      <td>500</td>\n",
              "    </tr>\n",
              "    <tr>\n",
              "      <th>g</th>\n",
              "      <td>orange</td>\n",
              "      <td>100</td>\n",
              "      <td>600</td>\n",
              "    </tr>\n",
              "    <tr>\n",
              "      <th>c</th>\n",
              "      <td>orange</td>\n",
              "      <td>100</td>\n",
              "      <td>700</td>\n",
              "    </tr>\n",
              "  </tbody>\n",
              "</table>\n",
              "</div>"
            ],
            "text/plain": [
              "   fruits  points  Bonus_number\n",
              "e   mango     800           100\n",
              "f   apple     450           200\n",
              "d  orange     400           300\n",
              "b   apple     300           400\n",
              "a   apple     200           500\n",
              "g  orange     100           600\n",
              "c  orange     100           700"
            ]
          },
          "metadata": {
            "tags": []
          },
          "execution_count": 25
        }
      ]
    },
    {
      "cell_type": "markdown",
      "metadata": {
        "id": "kA9Nxvv_Tj48"
      },
      "source": [
        "### Part 2\n",
        "Reference:- https://www.youtube.com/watch?v=yPVQZZmheCg"
      ],
      "id": "kA9Nxvv_Tj48"
    },
    {
      "cell_type": "markdown",
      "metadata": {
        "id": "nXQivRmeTj48"
      },
      "source": [
        "Create a dataframe  d1 where the columns are  ‘city’ : [‘Chandigarh’, ‘Delhi’, ‘Kanpur’, ‘Chennai’, ‘Manali’ ] and ‘Temperature’ : [15, 22, 20, 26,-2] "
      ],
      "id": "nXQivRmeTj48"
    },
    {
      "cell_type": "markdown",
      "metadata": {
        "id": "ZxXXIic7Tj4-"
      },
      "source": [
        "<p style='text-align: right;'> 2*5=10 points</p>\n"
      ],
      "id": "ZxXXIic7Tj4-"
    },
    {
      "cell_type": "code",
      "metadata": {
        "id": "BkwwEc2KTj4-"
      },
      "source": [
        "dict = {'city' : ['Chandigarh', 'Delhi', 'Kanpur', 'Chennai', 'Manali'], 'Temperature' : [15, 22, 20, 26,-2]}\n",
        "d1 = pd.DataFrame(dict)"
      ],
      "id": "BkwwEc2KTj4-",
      "execution_count": 26,
      "outputs": []
    },
    {
      "cell_type": "markdown",
      "metadata": {
        "id": "iPlnc3f6Tj4-"
      },
      "source": [
        "Print d1"
      ],
      "id": "iPlnc3f6Tj4-"
    },
    {
      "cell_type": "code",
      "metadata": {
        "id": "YpkZZ-m2Tj4_",
        "colab": {
          "base_uri": "https://localhost:8080/",
          "height": 204
        },
        "outputId": "4ce95373-0a2f-405b-aad6-05bdc1f720e8"
      },
      "source": [
        "d1"
      ],
      "id": "YpkZZ-m2Tj4_",
      "execution_count": 27,
      "outputs": [
        {
          "output_type": "execute_result",
          "data": {
            "text/html": [
              "<div>\n",
              "<style scoped>\n",
              "    .dataframe tbody tr th:only-of-type {\n",
              "        vertical-align: middle;\n",
              "    }\n",
              "\n",
              "    .dataframe tbody tr th {\n",
              "        vertical-align: top;\n",
              "    }\n",
              "\n",
              "    .dataframe thead th {\n",
              "        text-align: right;\n",
              "    }\n",
              "</style>\n",
              "<table border=\"1\" class=\"dataframe\">\n",
              "  <thead>\n",
              "    <tr style=\"text-align: right;\">\n",
              "      <th></th>\n",
              "      <th>city</th>\n",
              "      <th>Temperature</th>\n",
              "    </tr>\n",
              "  </thead>\n",
              "  <tbody>\n",
              "    <tr>\n",
              "      <th>0</th>\n",
              "      <td>Chandigarh</td>\n",
              "      <td>15</td>\n",
              "    </tr>\n",
              "    <tr>\n",
              "      <th>1</th>\n",
              "      <td>Delhi</td>\n",
              "      <td>22</td>\n",
              "    </tr>\n",
              "    <tr>\n",
              "      <th>2</th>\n",
              "      <td>Kanpur</td>\n",
              "      <td>20</td>\n",
              "    </tr>\n",
              "    <tr>\n",
              "      <th>3</th>\n",
              "      <td>Chennai</td>\n",
              "      <td>26</td>\n",
              "    </tr>\n",
              "    <tr>\n",
              "      <th>4</th>\n",
              "      <td>Manali</td>\n",
              "      <td>-2</td>\n",
              "    </tr>\n",
              "  </tbody>\n",
              "</table>\n",
              "</div>"
            ],
            "text/plain": [
              "         city  Temperature\n",
              "0  Chandigarh           15\n",
              "1       Delhi           22\n",
              "2      Kanpur           20\n",
              "3     Chennai           26\n",
              "4      Manali           -2"
            ]
          },
          "metadata": {
            "tags": []
          },
          "execution_count": 27
        }
      ]
    },
    {
      "cell_type": "markdown",
      "metadata": {
        "id": "krbGpWdaTj4_"
      },
      "source": [
        "What is the shape of d1."
      ],
      "id": "krbGpWdaTj4_"
    },
    {
      "cell_type": "code",
      "metadata": {
        "id": "z9r9drDwTj4_",
        "colab": {
          "base_uri": "https://localhost:8080/"
        },
        "outputId": "0cca4e8a-ebad-40fe-b823-08fbb17fa346"
      },
      "source": [
        "d1.shape"
      ],
      "id": "z9r9drDwTj4_",
      "execution_count": 28,
      "outputs": [
        {
          "output_type": "execute_result",
          "data": {
            "text/plain": [
              "(5, 2)"
            ]
          },
          "metadata": {
            "tags": []
          },
          "execution_count": 28
        }
      ]
    },
    {
      "cell_type": "markdown",
      "metadata": {
        "id": "QbwTbOISTj4_"
      },
      "source": [
        "Set city = d1['city']"
      ],
      "id": "QbwTbOISTj4_"
    },
    {
      "cell_type": "code",
      "metadata": {
        "id": "SWLl1D1bTj4_"
      },
      "source": [
        "city = d1['city']"
      ],
      "id": "SWLl1D1bTj4_",
      "execution_count": 29,
      "outputs": []
    },
    {
      "cell_type": "markdown",
      "metadata": {
        "id": "UMM3ZPMVTj4_"
      },
      "source": [
        "print city <br>\n",
        "What is the type of city."
      ],
      "id": "UMM3ZPMVTj4_"
    },
    {
      "cell_type": "code",
      "metadata": {
        "id": "HK8OT3HlTj4_",
        "colab": {
          "base_uri": "https://localhost:8080/"
        },
        "outputId": "f5068792-7ec4-4b7f-8395-3f382a97b596"
      },
      "source": [
        "print(city)\n",
        "print(type(city))"
      ],
      "id": "HK8OT3HlTj4_",
      "execution_count": 30,
      "outputs": [
        {
          "output_type": "stream",
          "text": [
            "0    Chandigarh\n",
            "1         Delhi\n",
            "2        Kanpur\n",
            "3       Chennai\n",
            "4        Manali\n",
            "Name: city, dtype: object\n",
            "<class 'pandas.core.series.Series'>\n"
          ],
          "name": "stdout"
        }
      ]
    },
    {
      "cell_type": "markdown",
      "metadata": {
        "id": "O9AWqQWpTj5A"
      },
      "source": [
        "Create another dataframe d2 where the columns are <br>\n",
        "'city' - ['Bengalaru','Coimbatore','Srirangam','Pondicherry'] <br>\n",
        "'Temperature' - [24,35,36,39]"
      ],
      "id": "O9AWqQWpTj5A"
    },
    {
      "cell_type": "markdown",
      "metadata": {
        "id": "BfLACPlTTj5A"
      },
      "source": [
        "<p style='text-align: right;'> 3+2+5 = 10 points</p>\n"
      ],
      "id": "BfLACPlTTj5A"
    },
    {
      "cell_type": "code",
      "metadata": {
        "id": "YUhb1G3QTj5A",
        "colab": {
          "base_uri": "https://localhost:8080/",
          "height": 173
        },
        "outputId": "b9c14113-44db-4428-b00f-8a42b0a2000b"
      },
      "source": [
        "dict2 = {'city': ['Bengalaru','Coimbatore','Srirangam','Pondicherry'], 'Temperature': [24,35,36,39]}\n",
        "d2 = pd.DataFrame(dict2)\n",
        "d2"
      ],
      "id": "YUhb1G3QTj5A",
      "execution_count": 31,
      "outputs": [
        {
          "output_type": "execute_result",
          "data": {
            "text/html": [
              "<div>\n",
              "<style scoped>\n",
              "    .dataframe tbody tr th:only-of-type {\n",
              "        vertical-align: middle;\n",
              "    }\n",
              "\n",
              "    .dataframe tbody tr th {\n",
              "        vertical-align: top;\n",
              "    }\n",
              "\n",
              "    .dataframe thead th {\n",
              "        text-align: right;\n",
              "    }\n",
              "</style>\n",
              "<table border=\"1\" class=\"dataframe\">\n",
              "  <thead>\n",
              "    <tr style=\"text-align: right;\">\n",
              "      <th></th>\n",
              "      <th>city</th>\n",
              "      <th>Temperature</th>\n",
              "    </tr>\n",
              "  </thead>\n",
              "  <tbody>\n",
              "    <tr>\n",
              "      <th>0</th>\n",
              "      <td>Bengalaru</td>\n",
              "      <td>24</td>\n",
              "    </tr>\n",
              "    <tr>\n",
              "      <th>1</th>\n",
              "      <td>Coimbatore</td>\n",
              "      <td>35</td>\n",
              "    </tr>\n",
              "    <tr>\n",
              "      <th>2</th>\n",
              "      <td>Srirangam</td>\n",
              "      <td>36</td>\n",
              "    </tr>\n",
              "    <tr>\n",
              "      <th>3</th>\n",
              "      <td>Pondicherry</td>\n",
              "      <td>39</td>\n",
              "    </tr>\n",
              "  </tbody>\n",
              "</table>\n",
              "</div>"
            ],
            "text/plain": [
              "          city  Temperature\n",
              "0    Bengalaru           24\n",
              "1   Coimbatore           35\n",
              "2    Srirangam           36\n",
              "3  Pondicherry           39"
            ]
          },
          "metadata": {
            "tags": []
          },
          "execution_count": 31
        }
      ]
    },
    {
      "cell_type": "markdown",
      "metadata": {
        "id": "fummvsWQTj5A"
      },
      "source": [
        "print the shape of this dataframe"
      ],
      "id": "fummvsWQTj5A"
    },
    {
      "cell_type": "code",
      "metadata": {
        "id": "89PDpTzATj5A",
        "colab": {
          "base_uri": "https://localhost:8080/"
        },
        "outputId": "dcd7cfa5-62c7-4f98-fab3-a06595ca336a"
      },
      "source": [
        "d2.shape"
      ],
      "id": "89PDpTzATj5A",
      "execution_count": 32,
      "outputs": [
        {
          "output_type": "execute_result",
          "data": {
            "text/plain": [
              "(4, 2)"
            ]
          },
          "metadata": {
            "tags": []
          },
          "execution_count": 32
        }
      ]
    },
    {
      "cell_type": "markdown",
      "metadata": {
        "id": "o9J-VwSjTj5A"
      },
      "source": [
        "merge the two dataframes together, save it in a new dataframe named 'd3'\n"
      ],
      "id": "o9J-VwSjTj5A"
    },
    {
      "cell_type": "code",
      "metadata": {
        "id": "lwoYCTrJTj5B",
        "colab": {
          "base_uri": "https://localhost:8080/",
          "height": 328
        },
        "outputId": "a19e3302-d1da-486e-ad9f-75741e5fe94b"
      },
      "source": [
        "d3 = pd.concat([d1, d2], axis=0)\n",
        "d3"
      ],
      "id": "lwoYCTrJTj5B",
      "execution_count": 33,
      "outputs": [
        {
          "output_type": "execute_result",
          "data": {
            "text/html": [
              "<div>\n",
              "<style scoped>\n",
              "    .dataframe tbody tr th:only-of-type {\n",
              "        vertical-align: middle;\n",
              "    }\n",
              "\n",
              "    .dataframe tbody tr th {\n",
              "        vertical-align: top;\n",
              "    }\n",
              "\n",
              "    .dataframe thead th {\n",
              "        text-align: right;\n",
              "    }\n",
              "</style>\n",
              "<table border=\"1\" class=\"dataframe\">\n",
              "  <thead>\n",
              "    <tr style=\"text-align: right;\">\n",
              "      <th></th>\n",
              "      <th>city</th>\n",
              "      <th>Temperature</th>\n",
              "    </tr>\n",
              "  </thead>\n",
              "  <tbody>\n",
              "    <tr>\n",
              "      <th>0</th>\n",
              "      <td>Chandigarh</td>\n",
              "      <td>15</td>\n",
              "    </tr>\n",
              "    <tr>\n",
              "      <th>1</th>\n",
              "      <td>Delhi</td>\n",
              "      <td>22</td>\n",
              "    </tr>\n",
              "    <tr>\n",
              "      <th>2</th>\n",
              "      <td>Kanpur</td>\n",
              "      <td>20</td>\n",
              "    </tr>\n",
              "    <tr>\n",
              "      <th>3</th>\n",
              "      <td>Chennai</td>\n",
              "      <td>26</td>\n",
              "    </tr>\n",
              "    <tr>\n",
              "      <th>4</th>\n",
              "      <td>Manali</td>\n",
              "      <td>-2</td>\n",
              "    </tr>\n",
              "    <tr>\n",
              "      <th>0</th>\n",
              "      <td>Bengalaru</td>\n",
              "      <td>24</td>\n",
              "    </tr>\n",
              "    <tr>\n",
              "      <th>1</th>\n",
              "      <td>Coimbatore</td>\n",
              "      <td>35</td>\n",
              "    </tr>\n",
              "    <tr>\n",
              "      <th>2</th>\n",
              "      <td>Srirangam</td>\n",
              "      <td>36</td>\n",
              "    </tr>\n",
              "    <tr>\n",
              "      <th>3</th>\n",
              "      <td>Pondicherry</td>\n",
              "      <td>39</td>\n",
              "    </tr>\n",
              "  </tbody>\n",
              "</table>\n",
              "</div>"
            ],
            "text/plain": [
              "          city  Temperature\n",
              "0   Chandigarh           15\n",
              "1        Delhi           22\n",
              "2       Kanpur           20\n",
              "3      Chennai           26\n",
              "4       Manali           -2\n",
              "0    Bengalaru           24\n",
              "1   Coimbatore           35\n",
              "2    Srirangam           36\n",
              "3  Pondicherry           39"
            ]
          },
          "metadata": {
            "tags": []
          },
          "execution_count": 33
        }
      ]
    },
    {
      "cell_type": "markdown",
      "metadata": {
        "id": "jPk5D1MWTj5B"
      },
      "source": [
        "# fun fact at high level\n",
        "\n",
        "1. .concat() simply stacks multiple DataFrame together either vertically, or stitches horizontally after aligning on index\n",
        "2. .merge() first aligns two DataFrame' selected common column(s) or index, and then pick up the remaining columns from the aligned rows of each DataFrame\n",
        "\n",
        "Do you know about join function? This interesting quest we give to you to find. "
      ],
      "id": "jPk5D1MWTj5B"
    },
    {
      "cell_type": "markdown",
      "metadata": {
        "id": "KP6-TdaBTj5B"
      },
      "source": [
        "Select the part of the dataframe such that it contains cities where temp is less then or equal to 20 <br>\n",
        "How many cities are there? "
      ],
      "id": "KP6-TdaBTj5B"
    },
    {
      "cell_type": "markdown",
      "metadata": {
        "id": "LRLIn37zTj5B"
      },
      "source": [
        "<p style='text-align: right;'> 5+5=10 points</p>\n"
      ],
      "id": "LRLIn37zTj5B"
    },
    {
      "cell_type": "code",
      "metadata": {
        "id": "Mb3XX4U1Tj5B",
        "colab": {
          "base_uri": "https://localhost:8080/",
          "height": 142
        },
        "outputId": "7b59a413-fec2-41d9-bba8-cf0e052038dc"
      },
      "source": [
        "d3[(d3['Temperature']<= 20)]"
      ],
      "id": "Mb3XX4U1Tj5B",
      "execution_count": 34,
      "outputs": [
        {
          "output_type": "execute_result",
          "data": {
            "text/html": [
              "<div>\n",
              "<style scoped>\n",
              "    .dataframe tbody tr th:only-of-type {\n",
              "        vertical-align: middle;\n",
              "    }\n",
              "\n",
              "    .dataframe tbody tr th {\n",
              "        vertical-align: top;\n",
              "    }\n",
              "\n",
              "    .dataframe thead th {\n",
              "        text-align: right;\n",
              "    }\n",
              "</style>\n",
              "<table border=\"1\" class=\"dataframe\">\n",
              "  <thead>\n",
              "    <tr style=\"text-align: right;\">\n",
              "      <th></th>\n",
              "      <th>city</th>\n",
              "      <th>Temperature</th>\n",
              "    </tr>\n",
              "  </thead>\n",
              "  <tbody>\n",
              "    <tr>\n",
              "      <th>0</th>\n",
              "      <td>Chandigarh</td>\n",
              "      <td>15</td>\n",
              "    </tr>\n",
              "    <tr>\n",
              "      <th>2</th>\n",
              "      <td>Kanpur</td>\n",
              "      <td>20</td>\n",
              "    </tr>\n",
              "    <tr>\n",
              "      <th>4</th>\n",
              "      <td>Manali</td>\n",
              "      <td>-2</td>\n",
              "    </tr>\n",
              "  </tbody>\n",
              "</table>\n",
              "</div>"
            ],
            "text/plain": [
              "         city  Temperature\n",
              "0  Chandigarh           15\n",
              "2      Kanpur           20\n",
              "4      Manali           -2"
            ]
          },
          "metadata": {
            "tags": []
          },
          "execution_count": 34
        }
      ]
    },
    {
      "cell_type": "markdown",
      "metadata": {
        "id": "X2gQEH9HTj5C"
      },
      "source": [
        "Select the part of the dataframe such that it contains the cities where tempearature greater than or equal to 35"
      ],
      "id": "X2gQEH9HTj5C"
    },
    {
      "cell_type": "code",
      "metadata": {
        "id": "GYpJ101RTj5C",
        "colab": {
          "base_uri": "https://localhost:8080/",
          "height": 142
        },
        "outputId": "0b930c4b-b71f-4f0c-ce6c-a45b46220f14"
      },
      "source": [
        "d3[(d3['Temperature']>= 35)]"
      ],
      "id": "GYpJ101RTj5C",
      "execution_count": 35,
      "outputs": [
        {
          "output_type": "execute_result",
          "data": {
            "text/html": [
              "<div>\n",
              "<style scoped>\n",
              "    .dataframe tbody tr th:only-of-type {\n",
              "        vertical-align: middle;\n",
              "    }\n",
              "\n",
              "    .dataframe tbody tr th {\n",
              "        vertical-align: top;\n",
              "    }\n",
              "\n",
              "    .dataframe thead th {\n",
              "        text-align: right;\n",
              "    }\n",
              "</style>\n",
              "<table border=\"1\" class=\"dataframe\">\n",
              "  <thead>\n",
              "    <tr style=\"text-align: right;\">\n",
              "      <th></th>\n",
              "      <th>city</th>\n",
              "      <th>Temperature</th>\n",
              "    </tr>\n",
              "  </thead>\n",
              "  <tbody>\n",
              "    <tr>\n",
              "      <th>1</th>\n",
              "      <td>Coimbatore</td>\n",
              "      <td>35</td>\n",
              "    </tr>\n",
              "    <tr>\n",
              "      <th>2</th>\n",
              "      <td>Srirangam</td>\n",
              "      <td>36</td>\n",
              "    </tr>\n",
              "    <tr>\n",
              "      <th>3</th>\n",
              "      <td>Pondicherry</td>\n",
              "      <td>39</td>\n",
              "    </tr>\n",
              "  </tbody>\n",
              "</table>\n",
              "</div>"
            ],
            "text/plain": [
              "          city  Temperature\n",
              "1   Coimbatore           35\n",
              "2    Srirangam           36\n",
              "3  Pondicherry           39"
            ]
          },
          "metadata": {
            "tags": []
          },
          "execution_count": 35
        }
      ]
    },
    {
      "cell_type": "markdown",
      "metadata": {
        "id": "79mHpn-eTj5C"
      },
      "source": [
        "## 3. Applying functions to columns and creating new columns\n",
        "\n",
        "Reference: https://www.youtube.com/watch?v=L0wMml__Gow"
      ],
      "id": "79mHpn-eTj5C"
    },
    {
      "cell_type": "markdown",
      "metadata": {
        "id": "YTRlOTgtTj5C"
      },
      "source": [
        "<p style='text-align: right;'> 20 points</p>\n"
      ],
      "id": "YTRlOTgtTj5C"
    },
    {
      "cell_type": "markdown",
      "metadata": {
        "id": "zNmfCCdlTj5C"
      },
      "source": [
        "We need to create another column in d3, which contains  a boolean value for each city to indicate whether it's a union territory or not. \n",
        "- HINT: Chandigarh, Pondicherry and Delhi are only 3 union territories here. \n"
      ],
      "id": "zNmfCCdlTj5C"
    },
    {
      "cell_type": "code",
      "metadata": {
        "id": "Ht8ZEvJOTj5C"
      },
      "source": [
        "# write function here\n",
        "union_terrs = [\"Chandigarh\", \"Pondicherry\", \"Delhi\"]\n",
        "d3[\"is_ut\"] = d3[\"city\"].isin(union_terrs)  "
      ],
      "id": "Ht8ZEvJOTj5C",
      "execution_count": 43,
      "outputs": []
    },
    {
      "cell_type": "code",
      "metadata": {
        "id": "X24Clnd-Tj5D",
        "colab": {
          "base_uri": "https://localhost:8080/",
          "height": 328
        },
        "outputId": "3310b6b8-22d0-4944-b0f5-fb9d271e00a0"
      },
      "source": [
        "#print d3\n",
        "d3"
      ],
      "id": "X24Clnd-Tj5D",
      "execution_count": 44,
      "outputs": [
        {
          "output_type": "execute_result",
          "data": {
            "text/html": [
              "<div>\n",
              "<style scoped>\n",
              "    .dataframe tbody tr th:only-of-type {\n",
              "        vertical-align: middle;\n",
              "    }\n",
              "\n",
              "    .dataframe tbody tr th {\n",
              "        vertical-align: top;\n",
              "    }\n",
              "\n",
              "    .dataframe thead th {\n",
              "        text-align: right;\n",
              "    }\n",
              "</style>\n",
              "<table border=\"1\" class=\"dataframe\">\n",
              "  <thead>\n",
              "    <tr style=\"text-align: right;\">\n",
              "      <th></th>\n",
              "      <th>city</th>\n",
              "      <th>Temperature</th>\n",
              "      <th>is_ut</th>\n",
              "    </tr>\n",
              "  </thead>\n",
              "  <tbody>\n",
              "    <tr>\n",
              "      <th>0</th>\n",
              "      <td>Chandigarh</td>\n",
              "      <td>15</td>\n",
              "      <td>True</td>\n",
              "    </tr>\n",
              "    <tr>\n",
              "      <th>1</th>\n",
              "      <td>Delhi</td>\n",
              "      <td>22</td>\n",
              "      <td>True</td>\n",
              "    </tr>\n",
              "    <tr>\n",
              "      <th>2</th>\n",
              "      <td>Kanpur</td>\n",
              "      <td>20</td>\n",
              "      <td>False</td>\n",
              "    </tr>\n",
              "    <tr>\n",
              "      <th>3</th>\n",
              "      <td>Chennai</td>\n",
              "      <td>26</td>\n",
              "      <td>False</td>\n",
              "    </tr>\n",
              "    <tr>\n",
              "      <th>4</th>\n",
              "      <td>Manali</td>\n",
              "      <td>-2</td>\n",
              "      <td>False</td>\n",
              "    </tr>\n",
              "    <tr>\n",
              "      <th>0</th>\n",
              "      <td>Bengalaru</td>\n",
              "      <td>24</td>\n",
              "      <td>False</td>\n",
              "    </tr>\n",
              "    <tr>\n",
              "      <th>1</th>\n",
              "      <td>Coimbatore</td>\n",
              "      <td>35</td>\n",
              "      <td>False</td>\n",
              "    </tr>\n",
              "    <tr>\n",
              "      <th>2</th>\n",
              "      <td>Srirangam</td>\n",
              "      <td>36</td>\n",
              "      <td>False</td>\n",
              "    </tr>\n",
              "    <tr>\n",
              "      <th>3</th>\n",
              "      <td>Pondicherry</td>\n",
              "      <td>39</td>\n",
              "      <td>True</td>\n",
              "    </tr>\n",
              "  </tbody>\n",
              "</table>\n",
              "</div>"
            ],
            "text/plain": [
              "          city  Temperature  is_ut\n",
              "0   Chandigarh           15   True\n",
              "1        Delhi           22   True\n",
              "2       Kanpur           20  False\n",
              "3      Chennai           26  False\n",
              "4       Manali           -2  False\n",
              "0    Bengalaru           24  False\n",
              "1   Coimbatore           35  False\n",
              "2    Srirangam           36  False\n",
              "3  Pondicherry           39   True"
            ]
          },
          "metadata": {
            "tags": []
          },
          "execution_count": 44
        }
      ]
    },
    {
      "cell_type": "markdown",
      "metadata": {
        "id": "IDIB9DJvTj5D"
      },
      "source": [
        "The temperatures mentioned in ‘Temperature’ column are mentioned in Celsius, we need another column which contains the same in Fahrenheit. "
      ],
      "id": "IDIB9DJvTj5D"
    },
    {
      "cell_type": "markdown",
      "metadata": {
        "id": "jwV8DMORTj5D"
      },
      "source": [
        "HINT - \n",
        "- Define a function c_to_f which takes input temp in celsius and returns a value with temperature in Fahrenheit.\n",
        "- To check: c_to_f(10) should return 50. \n"
      ],
      "id": "jwV8DMORTj5D"
    },
    {
      "cell_type": "code",
      "metadata": {
        "id": "-VzHMqoiTj5D"
      },
      "source": [
        "# write function here\n",
        "\n",
        "def c_to_f(Temperature):\n",
        "    \"\"\"Convert Celsius to Fahrenheit\n",
        "    \n",
        "    Return Fahrenheit conversion of input\"\"\"\n",
        "    temp_Fahrenheit = (Temperature*1.8) + 32\n",
        "    return temp_Fahrenheit\n",
        "\n",
        "#d3.assign(temp_farenhiet = lambda x: (9/5)*x['Temperature']+32)"
      ],
      "id": "-VzHMqoiTj5D",
      "execution_count": 58,
      "outputs": []
    },
    {
      "cell_type": "code",
      "metadata": {
        "id": "GB--vApNTj5D",
        "colab": {
          "base_uri": "https://localhost:8080/"
        },
        "outputId": "414bbe36-cc16-4985-82e8-e5c6cf5bd266"
      },
      "source": [
        "# check  function c_to_f(10)\n",
        "c_to_f(10)"
      ],
      "id": "GB--vApNTj5D",
      "execution_count": 59,
      "outputs": [
        {
          "output_type": "execute_result",
          "data": {
            "text/plain": [
              "50.0"
            ]
          },
          "metadata": {
            "tags": []
          },
          "execution_count": 59
        }
      ]
    },
    {
      "cell_type": "code",
      "metadata": {
        "id": "ecrW1uu4Tj5D",
        "colab": {
          "base_uri": "https://localhost:8080/",
          "height": 328
        },
        "outputId": "3213341d-ccd8-41b4-8c51-d0272088f34b"
      },
      "source": [
        "# apply function c_to_f to d3 to create a column 'temp_farenhiet'\n",
        "\n",
        "d3['temp_farenhiet'] = (d3['Temperature']*1.8 + 32)\n",
        "d3"
      ],
      "id": "ecrW1uu4Tj5D",
      "execution_count": 61,
      "outputs": [
        {
          "output_type": "execute_result",
          "data": {
            "text/html": [
              "<div>\n",
              "<style scoped>\n",
              "    .dataframe tbody tr th:only-of-type {\n",
              "        vertical-align: middle;\n",
              "    }\n",
              "\n",
              "    .dataframe tbody tr th {\n",
              "        vertical-align: top;\n",
              "    }\n",
              "\n",
              "    .dataframe thead th {\n",
              "        text-align: right;\n",
              "    }\n",
              "</style>\n",
              "<table border=\"1\" class=\"dataframe\">\n",
              "  <thead>\n",
              "    <tr style=\"text-align: right;\">\n",
              "      <th></th>\n",
              "      <th>city</th>\n",
              "      <th>Temperature</th>\n",
              "      <th>is_ut</th>\n",
              "      <th>temp_farenhiet</th>\n",
              "    </tr>\n",
              "  </thead>\n",
              "  <tbody>\n",
              "    <tr>\n",
              "      <th>0</th>\n",
              "      <td>Chandigarh</td>\n",
              "      <td>15</td>\n",
              "      <td>True</td>\n",
              "      <td>59.0</td>\n",
              "    </tr>\n",
              "    <tr>\n",
              "      <th>1</th>\n",
              "      <td>Delhi</td>\n",
              "      <td>22</td>\n",
              "      <td>True</td>\n",
              "      <td>71.6</td>\n",
              "    </tr>\n",
              "    <tr>\n",
              "      <th>2</th>\n",
              "      <td>Kanpur</td>\n",
              "      <td>20</td>\n",
              "      <td>False</td>\n",
              "      <td>68.0</td>\n",
              "    </tr>\n",
              "    <tr>\n",
              "      <th>3</th>\n",
              "      <td>Chennai</td>\n",
              "      <td>26</td>\n",
              "      <td>False</td>\n",
              "      <td>78.8</td>\n",
              "    </tr>\n",
              "    <tr>\n",
              "      <th>4</th>\n",
              "      <td>Manali</td>\n",
              "      <td>-2</td>\n",
              "      <td>False</td>\n",
              "      <td>28.4</td>\n",
              "    </tr>\n",
              "    <tr>\n",
              "      <th>0</th>\n",
              "      <td>Bengalaru</td>\n",
              "      <td>24</td>\n",
              "      <td>False</td>\n",
              "      <td>75.2</td>\n",
              "    </tr>\n",
              "    <tr>\n",
              "      <th>1</th>\n",
              "      <td>Coimbatore</td>\n",
              "      <td>35</td>\n",
              "      <td>False</td>\n",
              "      <td>95.0</td>\n",
              "    </tr>\n",
              "    <tr>\n",
              "      <th>2</th>\n",
              "      <td>Srirangam</td>\n",
              "      <td>36</td>\n",
              "      <td>False</td>\n",
              "      <td>96.8</td>\n",
              "    </tr>\n",
              "    <tr>\n",
              "      <th>3</th>\n",
              "      <td>Pondicherry</td>\n",
              "      <td>39</td>\n",
              "      <td>True</td>\n",
              "      <td>102.2</td>\n",
              "    </tr>\n",
              "  </tbody>\n",
              "</table>\n",
              "</div>"
            ],
            "text/plain": [
              "          city  Temperature  is_ut  temp_farenhiet\n",
              "0   Chandigarh           15   True            59.0\n",
              "1        Delhi           22   True            71.6\n",
              "2       Kanpur           20  False            68.0\n",
              "3      Chennai           26  False            78.8\n",
              "4       Manali           -2  False            28.4\n",
              "0    Bengalaru           24  False            75.2\n",
              "1   Coimbatore           35  False            95.0\n",
              "2    Srirangam           36  False            96.8\n",
              "3  Pondicherry           39   True           102.2"
            ]
          },
          "metadata": {
            "tags": []
          },
          "execution_count": 61
        }
      ]
    },
    {
      "cell_type": "markdown",
      "metadata": {
        "id": "MGJEcOlgTj5E"
      },
      "source": [
        "## 4. Indexing and selecting rows in DataFrame\n",
        "\n",
        "Reference:-https://www.youtube.com/watch?v=XKFRFDgA7ZY"
      ],
      "id": "MGJEcOlgTj5E"
    },
    {
      "cell_type": "markdown",
      "metadata": {
        "id": "Rq188Lb9Tj5E"
      },
      "source": [
        "<p style='text-align: right;'> 20 points</p>\n"
      ],
      "id": "Rq188Lb9Tj5E"
    },
    {
      "cell_type": "markdown",
      "metadata": {
        "id": "gryBESm2Tj5E"
      },
      "source": [
        "Select subset of the dataframe d3 such that it contains the cities which are union territories."
      ],
      "id": "gryBESm2Tj5E"
    },
    {
      "cell_type": "code",
      "metadata": {
        "id": "apicyagvTj5E",
        "colab": {
          "base_uri": "https://localhost:8080/",
          "height": 142
        },
        "outputId": "8578cfb0-c00b-4df8-b068-129eb4034864"
      },
      "source": [
        "d3.iloc[[0, 1, 8], [0, 1, 2, 3]]"
      ],
      "id": "apicyagvTj5E",
      "execution_count": 72,
      "outputs": [
        {
          "output_type": "execute_result",
          "data": {
            "text/html": [
              "<div>\n",
              "<style scoped>\n",
              "    .dataframe tbody tr th:only-of-type {\n",
              "        vertical-align: middle;\n",
              "    }\n",
              "\n",
              "    .dataframe tbody tr th {\n",
              "        vertical-align: top;\n",
              "    }\n",
              "\n",
              "    .dataframe thead th {\n",
              "        text-align: right;\n",
              "    }\n",
              "</style>\n",
              "<table border=\"1\" class=\"dataframe\">\n",
              "  <thead>\n",
              "    <tr style=\"text-align: right;\">\n",
              "      <th></th>\n",
              "      <th>city</th>\n",
              "      <th>Temperature</th>\n",
              "      <th>is_ut</th>\n",
              "      <th>temp_farenhiet</th>\n",
              "    </tr>\n",
              "  </thead>\n",
              "  <tbody>\n",
              "    <tr>\n",
              "      <th>0</th>\n",
              "      <td>Chandigarh</td>\n",
              "      <td>15</td>\n",
              "      <td>True</td>\n",
              "      <td>59.0</td>\n",
              "    </tr>\n",
              "    <tr>\n",
              "      <th>1</th>\n",
              "      <td>Delhi</td>\n",
              "      <td>22</td>\n",
              "      <td>True</td>\n",
              "      <td>71.6</td>\n",
              "    </tr>\n",
              "    <tr>\n",
              "      <th>3</th>\n",
              "      <td>Pondicherry</td>\n",
              "      <td>39</td>\n",
              "      <td>True</td>\n",
              "      <td>102.2</td>\n",
              "    </tr>\n",
              "  </tbody>\n",
              "</table>\n",
              "</div>"
            ],
            "text/plain": [
              "          city  Temperature  is_ut  temp_farenhiet\n",
              "0   Chandigarh           15   True            59.0\n",
              "1        Delhi           22   True            71.6\n",
              "3  Pondicherry           39   True           102.2"
            ]
          },
          "metadata": {
            "tags": []
          },
          "execution_count": 72
        }
      ]
    },
    {
      "cell_type": "markdown",
      "metadata": {
        "id": "dQlOdyb8Tj5E"
      },
      "source": [
        "Select a subset of the dataframe d3 such that it contains the cities which only have temperature above 90 Farenhiet."
      ],
      "id": "dQlOdyb8Tj5E"
    },
    {
      "cell_type": "code",
      "metadata": {
        "id": "a0bA1WmRTj5E",
        "colab": {
          "base_uri": "https://localhost:8080/",
          "height": 142
        },
        "outputId": "1f8b679b-29b0-489f-a22a-389674380ef2"
      },
      "source": [
        "d3[(d3['temp_farenhiet']>90)]"
      ],
      "id": "a0bA1WmRTj5E",
      "execution_count": 73,
      "outputs": [
        {
          "output_type": "execute_result",
          "data": {
            "text/html": [
              "<div>\n",
              "<style scoped>\n",
              "    .dataframe tbody tr th:only-of-type {\n",
              "        vertical-align: middle;\n",
              "    }\n",
              "\n",
              "    .dataframe tbody tr th {\n",
              "        vertical-align: top;\n",
              "    }\n",
              "\n",
              "    .dataframe thead th {\n",
              "        text-align: right;\n",
              "    }\n",
              "</style>\n",
              "<table border=\"1\" class=\"dataframe\">\n",
              "  <thead>\n",
              "    <tr style=\"text-align: right;\">\n",
              "      <th></th>\n",
              "      <th>city</th>\n",
              "      <th>Temperature</th>\n",
              "      <th>is_ut</th>\n",
              "      <th>temp_farenhiet</th>\n",
              "    </tr>\n",
              "  </thead>\n",
              "  <tbody>\n",
              "    <tr>\n",
              "      <th>1</th>\n",
              "      <td>Coimbatore</td>\n",
              "      <td>35</td>\n",
              "      <td>False</td>\n",
              "      <td>95.0</td>\n",
              "    </tr>\n",
              "    <tr>\n",
              "      <th>2</th>\n",
              "      <td>Srirangam</td>\n",
              "      <td>36</td>\n",
              "      <td>False</td>\n",
              "      <td>96.8</td>\n",
              "    </tr>\n",
              "    <tr>\n",
              "      <th>3</th>\n",
              "      <td>Pondicherry</td>\n",
              "      <td>39</td>\n",
              "      <td>True</td>\n",
              "      <td>102.2</td>\n",
              "    </tr>\n",
              "  </tbody>\n",
              "</table>\n",
              "</div>"
            ],
            "text/plain": [
              "          city  Temperature  is_ut  temp_farenhiet\n",
              "1   Coimbatore           35  False            95.0\n",
              "2    Srirangam           36  False            96.8\n",
              "3  Pondicherry           39   True           102.2"
            ]
          },
          "metadata": {
            "tags": []
          },
          "execution_count": 73
        }
      ]
    },
    {
      "cell_type": "markdown",
      "metadata": {
        "id": "eW5Y3_9pTj5F"
      },
      "source": [
        "Select only the first three rows of the dataframe d3. \n"
      ],
      "id": "eW5Y3_9pTj5F"
    },
    {
      "cell_type": "code",
      "metadata": {
        "id": "CWdJxZpkTj5F",
        "colab": {
          "base_uri": "https://localhost:8080/",
          "height": 142
        },
        "outputId": "c6c1c598-52d9-4f10-ed4d-025378df70a3"
      },
      "source": [
        "d3.head(3)"
      ],
      "id": "CWdJxZpkTj5F",
      "execution_count": 74,
      "outputs": [
        {
          "output_type": "execute_result",
          "data": {
            "text/html": [
              "<div>\n",
              "<style scoped>\n",
              "    .dataframe tbody tr th:only-of-type {\n",
              "        vertical-align: middle;\n",
              "    }\n",
              "\n",
              "    .dataframe tbody tr th {\n",
              "        vertical-align: top;\n",
              "    }\n",
              "\n",
              "    .dataframe thead th {\n",
              "        text-align: right;\n",
              "    }\n",
              "</style>\n",
              "<table border=\"1\" class=\"dataframe\">\n",
              "  <thead>\n",
              "    <tr style=\"text-align: right;\">\n",
              "      <th></th>\n",
              "      <th>city</th>\n",
              "      <th>Temperature</th>\n",
              "      <th>is_ut</th>\n",
              "      <th>temp_farenhiet</th>\n",
              "    </tr>\n",
              "  </thead>\n",
              "  <tbody>\n",
              "    <tr>\n",
              "      <th>0</th>\n",
              "      <td>Chandigarh</td>\n",
              "      <td>15</td>\n",
              "      <td>True</td>\n",
              "      <td>59.0</td>\n",
              "    </tr>\n",
              "    <tr>\n",
              "      <th>1</th>\n",
              "      <td>Delhi</td>\n",
              "      <td>22</td>\n",
              "      <td>True</td>\n",
              "      <td>71.6</td>\n",
              "    </tr>\n",
              "    <tr>\n",
              "      <th>2</th>\n",
              "      <td>Kanpur</td>\n",
              "      <td>20</td>\n",
              "      <td>False</td>\n",
              "      <td>68.0</td>\n",
              "    </tr>\n",
              "  </tbody>\n",
              "</table>\n",
              "</div>"
            ],
            "text/plain": [
              "         city  Temperature  is_ut  temp_farenhiet\n",
              "0  Chandigarh           15   True            59.0\n",
              "1       Delhi           22   True            71.6\n",
              "2      Kanpur           20  False            68.0"
            ]
          },
          "metadata": {
            "tags": []
          },
          "execution_count": 74
        }
      ]
    },
    {
      "cell_type": "markdown",
      "metadata": {
        "id": "YBwia2cITj5F"
      },
      "source": [
        "Select all the rows and last two columns in the dataframe.\n",
        "\n",
        "\n"
      ],
      "id": "YBwia2cITj5F"
    },
    {
      "cell_type": "code",
      "metadata": {
        "id": "M0bKZ4oATj5F",
        "colab": {
          "base_uri": "https://localhost:8080/",
          "height": 328
        },
        "outputId": "b6ab1bd1-91e3-49e9-fbee-0b1087f11325"
      },
      "source": [
        "d3.iloc[:, 2:4]"
      ],
      "id": "M0bKZ4oATj5F",
      "execution_count": 75,
      "outputs": [
        {
          "output_type": "execute_result",
          "data": {
            "text/html": [
              "<div>\n",
              "<style scoped>\n",
              "    .dataframe tbody tr th:only-of-type {\n",
              "        vertical-align: middle;\n",
              "    }\n",
              "\n",
              "    .dataframe tbody tr th {\n",
              "        vertical-align: top;\n",
              "    }\n",
              "\n",
              "    .dataframe thead th {\n",
              "        text-align: right;\n",
              "    }\n",
              "</style>\n",
              "<table border=\"1\" class=\"dataframe\">\n",
              "  <thead>\n",
              "    <tr style=\"text-align: right;\">\n",
              "      <th></th>\n",
              "      <th>is_ut</th>\n",
              "      <th>temp_farenhiet</th>\n",
              "    </tr>\n",
              "  </thead>\n",
              "  <tbody>\n",
              "    <tr>\n",
              "      <th>0</th>\n",
              "      <td>True</td>\n",
              "      <td>59.0</td>\n",
              "    </tr>\n",
              "    <tr>\n",
              "      <th>1</th>\n",
              "      <td>True</td>\n",
              "      <td>71.6</td>\n",
              "    </tr>\n",
              "    <tr>\n",
              "      <th>2</th>\n",
              "      <td>False</td>\n",
              "      <td>68.0</td>\n",
              "    </tr>\n",
              "    <tr>\n",
              "      <th>3</th>\n",
              "      <td>False</td>\n",
              "      <td>78.8</td>\n",
              "    </tr>\n",
              "    <tr>\n",
              "      <th>4</th>\n",
              "      <td>False</td>\n",
              "      <td>28.4</td>\n",
              "    </tr>\n",
              "    <tr>\n",
              "      <th>0</th>\n",
              "      <td>False</td>\n",
              "      <td>75.2</td>\n",
              "    </tr>\n",
              "    <tr>\n",
              "      <th>1</th>\n",
              "      <td>False</td>\n",
              "      <td>95.0</td>\n",
              "    </tr>\n",
              "    <tr>\n",
              "      <th>2</th>\n",
              "      <td>False</td>\n",
              "      <td>96.8</td>\n",
              "    </tr>\n",
              "    <tr>\n",
              "      <th>3</th>\n",
              "      <td>True</td>\n",
              "      <td>102.2</td>\n",
              "    </tr>\n",
              "  </tbody>\n",
              "</table>\n",
              "</div>"
            ],
            "text/plain": [
              "   is_ut  temp_farenhiet\n",
              "0   True            59.0\n",
              "1   True            71.6\n",
              "2  False            68.0\n",
              "3  False            78.8\n",
              "4  False            28.4\n",
              "0  False            75.2\n",
              "1  False            95.0\n",
              "2  False            96.8\n",
              "3   True           102.2"
            ]
          },
          "metadata": {
            "tags": []
          },
          "execution_count": 75
        }
      ]
    },
    {
      "cell_type": "markdown",
      "metadata": {
        "id": "opZzTgioTj5F"
      },
      "source": [
        "## 5. Reading csv file and group by\n",
        "\n",
        "Reference: https://www.youtube.com/watch?v=ENhGz1HkzvY <br>\n",
        "https://www.youtube.com/watch?v=nulx_VmV7dE"
      ],
      "id": "opZzTgioTj5F"
    },
    {
      "cell_type": "markdown",
      "metadata": {
        "id": "rdm-7ZiBTj5G"
      },
      "source": [
        "<p style='text-align: right;'> 2*2=4 points</p>\n"
      ],
      "id": "rdm-7ZiBTj5G"
    },
    {
      "cell_type": "markdown",
      "metadata": {
        "id": "9bPMTOBvTj5G"
      },
      "source": [
        "Read the file 'weather_data.csv' and store it in a pandas dataframe 'df' "
      ],
      "id": "9bPMTOBvTj5G"
    },
    {
      "cell_type": "code",
      "metadata": {
        "id": "ZuH9dd_eTj5G",
        "colab": {
          "resources": {
            "http://localhost:8080/nbextensions/google.colab/files.js": {
              "data": "Ly8gQ29weXJpZ2h0IDIwMTcgR29vZ2xlIExMQwovLwovLyBMaWNlbnNlZCB1bmRlciB0aGUgQXBhY2hlIExpY2Vuc2UsIFZlcnNpb24gMi4wICh0aGUgIkxpY2Vuc2UiKTsKLy8geW91IG1heSBub3QgdXNlIHRoaXMgZmlsZSBleGNlcHQgaW4gY29tcGxpYW5jZSB3aXRoIHRoZSBMaWNlbnNlLgovLyBZb3UgbWF5IG9idGFpbiBhIGNvcHkgb2YgdGhlIExpY2Vuc2UgYXQKLy8KLy8gICAgICBodHRwOi8vd3d3LmFwYWNoZS5vcmcvbGljZW5zZXMvTElDRU5TRS0yLjAKLy8KLy8gVW5sZXNzIHJlcXVpcmVkIGJ5IGFwcGxpY2FibGUgbGF3IG9yIGFncmVlZCB0byBpbiB3cml0aW5nLCBzb2Z0d2FyZQovLyBkaXN0cmlidXRlZCB1bmRlciB0aGUgTGljZW5zZSBpcyBkaXN0cmlidXRlZCBvbiBhbiAiQVMgSVMiIEJBU0lTLAovLyBXSVRIT1VUIFdBUlJBTlRJRVMgT1IgQ09ORElUSU9OUyBPRiBBTlkgS0lORCwgZWl0aGVyIGV4cHJlc3Mgb3IgaW1wbGllZC4KLy8gU2VlIHRoZSBMaWNlbnNlIGZvciB0aGUgc3BlY2lmaWMgbGFuZ3VhZ2UgZ292ZXJuaW5nIHBlcm1pc3Npb25zIGFuZAovLyBsaW1pdGF0aW9ucyB1bmRlciB0aGUgTGljZW5zZS4KCi8qKgogKiBAZmlsZW92ZXJ2aWV3IEhlbHBlcnMgZm9yIGdvb2dsZS5jb2xhYiBQeXRob24gbW9kdWxlLgogKi8KKGZ1bmN0aW9uKHNjb3BlKSB7CmZ1bmN0aW9uIHNwYW4odGV4dCwgc3R5bGVBdHRyaWJ1dGVzID0ge30pIHsKICBjb25zdCBlbGVtZW50ID0gZG9jdW1lbnQuY3JlYXRlRWxlbWVudCgnc3BhbicpOwogIGVsZW1lbnQudGV4dENvbnRlbnQgPSB0ZXh0OwogIGZvciAoY29uc3Qga2V5IG9mIE9iamVjdC5rZXlzKHN0eWxlQXR0cmlidXRlcykpIHsKICAgIGVsZW1lbnQuc3R5bGVba2V5XSA9IHN0eWxlQXR0cmlidXRlc1trZXldOwogIH0KICByZXR1cm4gZWxlbWVudDsKfQoKLy8gTWF4IG51bWJlciBvZiBieXRlcyB3aGljaCB3aWxsIGJlIHVwbG9hZGVkIGF0IGEgdGltZS4KY29uc3QgTUFYX1BBWUxPQURfU0laRSA9IDEwMCAqIDEwMjQ7CgpmdW5jdGlvbiBfdXBsb2FkRmlsZXMoaW5wdXRJZCwgb3V0cHV0SWQpIHsKICBjb25zdCBzdGVwcyA9IHVwbG9hZEZpbGVzU3RlcChpbnB1dElkLCBvdXRwdXRJZCk7CiAgY29uc3Qgb3V0cHV0RWxlbWVudCA9IGRvY3VtZW50LmdldEVsZW1lbnRCeUlkKG91dHB1dElkKTsKICAvLyBDYWNoZSBzdGVwcyBvbiB0aGUgb3V0cHV0RWxlbWVudCB0byBtYWtlIGl0IGF2YWlsYWJsZSBmb3IgdGhlIG5leHQgY2FsbAogIC8vIHRvIHVwbG9hZEZpbGVzQ29udGludWUgZnJvbSBQeXRob24uCiAgb3V0cHV0RWxlbWVudC5zdGVwcyA9IHN0ZXBzOwoKICByZXR1cm4gX3VwbG9hZEZpbGVzQ29udGludWUob3V0cHV0SWQpOwp9CgovLyBUaGlzIGlzIHJvdWdobHkgYW4gYXN5bmMgZ2VuZXJhdG9yIChub3Qgc3VwcG9ydGVkIGluIHRoZSBicm93c2VyIHlldCksCi8vIHdoZXJlIHRoZXJlIGFyZSBtdWx0aXBsZSBhc3luY2hyb25vdXMgc3RlcHMgYW5kIHRoZSBQeXRob24gc2lkZSBpcyBnb2luZwovLyB0byBwb2xsIGZvciBjb21wbGV0aW9uIG9mIGVhY2ggc3RlcC4KLy8gVGhpcyB1c2VzIGEgUHJvbWlzZSB0byBibG9jayB0aGUgcHl0aG9uIHNpZGUgb24gY29tcGxldGlvbiBvZiBlYWNoIHN0ZXAsCi8vIHRoZW4gcGFzc2VzIHRoZSByZXN1bHQgb2YgdGhlIHByZXZpb3VzIHN0ZXAgYXMgdGhlIGlucHV0IHRvIHRoZSBuZXh0IHN0ZXAuCmZ1bmN0aW9uIF91cGxvYWRGaWxlc0NvbnRpbnVlKG91dHB1dElkKSB7CiAgY29uc3Qgb3V0cHV0RWxlbWVudCA9IGRvY3VtZW50LmdldEVsZW1lbnRCeUlkKG91dHB1dElkKTsKICBjb25zdCBzdGVwcyA9IG91dHB1dEVsZW1lbnQuc3RlcHM7CgogIGNvbnN0IG5leHQgPSBzdGVwcy5uZXh0KG91dHB1dEVsZW1lbnQubGFzdFByb21pc2VWYWx1ZSk7CiAgcmV0dXJuIFByb21pc2UucmVzb2x2ZShuZXh0LnZhbHVlLnByb21pc2UpLnRoZW4oKHZhbHVlKSA9PiB7CiAgICAvLyBDYWNoZSB0aGUgbGFzdCBwcm9taXNlIHZhbHVlIHRvIG1ha2UgaXQgYXZhaWxhYmxlIHRvIHRoZSBuZXh0CiAgICAvLyBzdGVwIG9mIHRoZSBnZW5lcmF0b3IuCiAgICBvdXRwdXRFbGVtZW50Lmxhc3RQcm9taXNlVmFsdWUgPSB2YWx1ZTsKICAgIHJldHVybiBuZXh0LnZhbHVlLnJlc3BvbnNlOwogIH0pOwp9CgovKioKICogR2VuZXJhdG9yIGZ1bmN0aW9uIHdoaWNoIGlzIGNhbGxlZCBiZXR3ZWVuIGVhY2ggYXN5bmMgc3RlcCBvZiB0aGUgdXBsb2FkCiAqIHByb2Nlc3MuCiAqIEBwYXJhbSB7c3RyaW5nfSBpbnB1dElkIEVsZW1lbnQgSUQgb2YgdGhlIGlucHV0IGZpbGUgcGlja2VyIGVsZW1lbnQuCiAqIEBwYXJhbSB7c3RyaW5nfSBvdXRwdXRJZCBFbGVtZW50IElEIG9mIHRoZSBvdXRwdXQgZGlzcGxheS4KICogQHJldHVybiB7IUl0ZXJhYmxlPCFPYmplY3Q+fSBJdGVyYWJsZSBvZiBuZXh0IHN0ZXBzLgogKi8KZnVuY3Rpb24qIHVwbG9hZEZpbGVzU3RlcChpbnB1dElkLCBvdXRwdXRJZCkgewogIGNvbnN0IGlucHV0RWxlbWVudCA9IGRvY3VtZW50LmdldEVsZW1lbnRCeUlkKGlucHV0SWQpOwogIGlucHV0RWxlbWVudC5kaXNhYmxlZCA9IGZhbHNlOwoKICBjb25zdCBvdXRwdXRFbGVtZW50ID0gZG9jdW1lbnQuZ2V0RWxlbWVudEJ5SWQob3V0cHV0SWQpOwogIG91dHB1dEVsZW1lbnQuaW5uZXJIVE1MID0gJyc7CgogIGNvbnN0IHBpY2tlZFByb21pc2UgPSBuZXcgUHJvbWlzZSgocmVzb2x2ZSkgPT4gewogICAgaW5wdXRFbGVtZW50LmFkZEV2ZW50TGlzdGVuZXIoJ2NoYW5nZScsIChlKSA9PiB7CiAgICAgIHJlc29sdmUoZS50YXJnZXQuZmlsZXMpOwogICAgfSk7CiAgfSk7CgogIGNvbnN0IGNhbmNlbCA9IGRvY3VtZW50LmNyZWF0ZUVsZW1lbnQoJ2J1dHRvbicpOwogIGlucHV0RWxlbWVudC5wYXJlbnRFbGVtZW50LmFwcGVuZENoaWxkKGNhbmNlbCk7CiAgY2FuY2VsLnRleHRDb250ZW50ID0gJ0NhbmNlbCB1cGxvYWQnOwogIGNvbnN0IGNhbmNlbFByb21pc2UgPSBuZXcgUHJvbWlzZSgocmVzb2x2ZSkgPT4gewogICAgY2FuY2VsLm9uY2xpY2sgPSAoKSA9PiB7CiAgICAgIHJlc29sdmUobnVsbCk7CiAgICB9OwogIH0pOwoKICAvLyBXYWl0IGZvciB0aGUgdXNlciB0byBwaWNrIHRoZSBmaWxlcy4KICBjb25zdCBmaWxlcyA9IHlpZWxkIHsKICAgIHByb21pc2U6IFByb21pc2UucmFjZShbcGlja2VkUHJvbWlzZSwgY2FuY2VsUHJvbWlzZV0pLAogICAgcmVzcG9uc2U6IHsKICAgICAgYWN0aW9uOiAnc3RhcnRpbmcnLAogICAgfQogIH07CgogIGNhbmNlbC5yZW1vdmUoKTsKCiAgLy8gRGlzYWJsZSB0aGUgaW5wdXQgZWxlbWVudCBzaW5jZSBmdXJ0aGVyIHBpY2tzIGFyZSBub3QgYWxsb3dlZC4KICBpbnB1dEVsZW1lbnQuZGlzYWJsZWQgPSB0cnVlOwoKICBpZiAoIWZpbGVzKSB7CiAgICByZXR1cm4gewogICAgICByZXNwb25zZTogewogICAgICAgIGFjdGlvbjogJ2NvbXBsZXRlJywKICAgICAgfQogICAgfTsKICB9CgogIGZvciAoY29uc3QgZmlsZSBvZiBmaWxlcykgewogICAgY29uc3QgbGkgPSBkb2N1bWVudC5jcmVhdGVFbGVtZW50KCdsaScpOwogICAgbGkuYXBwZW5kKHNwYW4oZmlsZS5uYW1lLCB7Zm9udFdlaWdodDogJ2JvbGQnfSkpOwogICAgbGkuYXBwZW5kKHNwYW4oCiAgICAgICAgYCgke2ZpbGUudHlwZSB8fCAnbi9hJ30pIC0gJHtmaWxlLnNpemV9IGJ5dGVzLCBgICsKICAgICAgICBgbGFzdCBtb2RpZmllZDogJHsKICAgICAgICAgICAgZmlsZS5sYXN0TW9kaWZpZWREYXRlID8gZmlsZS5sYXN0TW9kaWZpZWREYXRlLnRvTG9jYWxlRGF0ZVN0cmluZygpIDoKICAgICAgICAgICAgICAgICAgICAgICAgICAgICAgICAgICAgJ24vYSd9IC0gYCkpOwogICAgY29uc3QgcGVyY2VudCA9IHNwYW4oJzAlIGRvbmUnKTsKICAgIGxpLmFwcGVuZENoaWxkKHBlcmNlbnQpOwoKICAgIG91dHB1dEVsZW1lbnQuYXBwZW5kQ2hpbGQobGkpOwoKICAgIGNvbnN0IGZpbGVEYXRhUHJvbWlzZSA9IG5ldyBQcm9taXNlKChyZXNvbHZlKSA9PiB7CiAgICAgIGNvbnN0IHJlYWRlciA9IG5ldyBGaWxlUmVhZGVyKCk7CiAgICAgIHJlYWRlci5vbmxvYWQgPSAoZSkgPT4gewogICAgICAgIHJlc29sdmUoZS50YXJnZXQucmVzdWx0KTsKICAgICAgfTsKICAgICAgcmVhZGVyLnJlYWRBc0FycmF5QnVmZmVyKGZpbGUpOwogICAgfSk7CiAgICAvLyBXYWl0IGZvciB0aGUgZGF0YSB0byBiZSByZWFkeS4KICAgIGxldCBmaWxlRGF0YSA9IHlpZWxkIHsKICAgICAgcHJvbWlzZTogZmlsZURhdGFQcm9taXNlLAogICAgICByZXNwb25zZTogewogICAgICAgIGFjdGlvbjogJ2NvbnRpbnVlJywKICAgICAgfQogICAgfTsKCiAgICAvLyBVc2UgYSBjaHVua2VkIHNlbmRpbmcgdG8gYXZvaWQgbWVzc2FnZSBzaXplIGxpbWl0cy4gU2VlIGIvNjIxMTU2NjAuCiAgICBsZXQgcG9zaXRpb24gPSAwOwogICAgZG8gewogICAgICBjb25zdCBsZW5ndGggPSBNYXRoLm1pbihmaWxlRGF0YS5ieXRlTGVuZ3RoIC0gcG9zaXRpb24sIE1BWF9QQVlMT0FEX1NJWkUpOwogICAgICBjb25zdCBjaHVuayA9IG5ldyBVaW50OEFycmF5KGZpbGVEYXRhLCBwb3NpdGlvbiwgbGVuZ3RoKTsKICAgICAgcG9zaXRpb24gKz0gbGVuZ3RoOwoKICAgICAgY29uc3QgYmFzZTY0ID0gYnRvYShTdHJpbmcuZnJvbUNoYXJDb2RlLmFwcGx5KG51bGwsIGNodW5rKSk7CiAgICAgIHlpZWxkIHsKICAgICAgICByZXNwb25zZTogewogICAgICAgICAgYWN0aW9uOiAnYXBwZW5kJywKICAgICAgICAgIGZpbGU6IGZpbGUubmFtZSwKICAgICAgICAgIGRhdGE6IGJhc2U2NCwKICAgICAgICB9LAogICAgICB9OwoKICAgICAgbGV0IHBlcmNlbnREb25lID0gZmlsZURhdGEuYnl0ZUxlbmd0aCA9PT0gMCA/CiAgICAgICAgICAxMDAgOgogICAgICAgICAgTWF0aC5yb3VuZCgocG9zaXRpb24gLyBmaWxlRGF0YS5ieXRlTGVuZ3RoKSAqIDEwMCk7CiAgICAgIHBlcmNlbnQudGV4dENvbnRlbnQgPSBgJHtwZXJjZW50RG9uZX0lIGRvbmVgOwoKICAgIH0gd2hpbGUgKHBvc2l0aW9uIDwgZmlsZURhdGEuYnl0ZUxlbmd0aCk7CiAgfQoKICAvLyBBbGwgZG9uZS4KICB5aWVsZCB7CiAgICByZXNwb25zZTogewogICAgICBhY3Rpb246ICdjb21wbGV0ZScsCiAgICB9CiAgfTsKfQoKc2NvcGUuZ29vZ2xlID0gc2NvcGUuZ29vZ2xlIHx8IHt9OwpzY29wZS5nb29nbGUuY29sYWIgPSBzY29wZS5nb29nbGUuY29sYWIgfHwge307CnNjb3BlLmdvb2dsZS5jb2xhYi5fZmlsZXMgPSB7CiAgX3VwbG9hZEZpbGVzLAogIF91cGxvYWRGaWxlc0NvbnRpbnVlLAp9Owp9KShzZWxmKTsK",
              "ok": true,
              "headers": [
                [
                  "content-type",
                  "application/javascript"
                ]
              ],
              "status": 200,
              "status_text": "OK"
            }
          },
          "base_uri": "https://localhost:8080/",
          "height": 72
        },
        "outputId": "96a7aa51-e36a-416d-8caa-e8c919c8905e"
      },
      "source": [
        "from google.colab import files\n",
        "uploaded = files.upload()"
      ],
      "id": "ZuH9dd_eTj5G",
      "execution_count": 76,
      "outputs": [
        {
          "output_type": "display_data",
          "data": {
            "text/html": [
              "\n",
              "     <input type=\"file\" id=\"files-aafffd9d-ef33-498e-ae44-75e04d6be865\" name=\"files[]\" multiple disabled\n",
              "        style=\"border:none\" />\n",
              "     <output id=\"result-aafffd9d-ef33-498e-ae44-75e04d6be865\">\n",
              "      Upload widget is only available when the cell has been executed in the\n",
              "      current browser session. Please rerun this cell to enable.\n",
              "      </output>\n",
              "      <script src=\"/nbextensions/google.colab/files.js\"></script> "
            ],
            "text/plain": [
              "<IPython.core.display.HTML object>"
            ]
          },
          "metadata": {
            "tags": []
          }
        },
        {
          "output_type": "stream",
          "text": [
            "Saving weather_data.csv to weather_data.csv\n"
          ],
          "name": "stdout"
        }
      ]
    },
    {
      "cell_type": "markdown",
      "metadata": {
        "id": "opKBgj3CTj5G"
      },
      "source": [
        "print the shape and head of the dataframe"
      ],
      "id": "opKBgj3CTj5G"
    },
    {
      "cell_type": "code",
      "metadata": {
        "id": "2X5FwELSTj5G",
        "colab": {
          "base_uri": "https://localhost:8080/"
        },
        "outputId": "eb295a61-289e-408a-af48-ba1cc6ff6d12"
      },
      "source": [
        "df = pd.read_csv(\"weather_data.csv\")\n",
        "print(df.shape)\n",
        "print(df.head())"
      ],
      "id": "2X5FwELSTj5G",
      "execution_count": 81,
      "outputs": [
        {
          "output_type": "stream",
          "text": [
            "(6, 4)\n",
            "        day  temperature  windspeed  event\n",
            "0  1/1/2017           32          6   Rain\n",
            "1  1/2/2017           35          7  Sunny\n",
            "2  1/3/2017           28          2   Snow\n",
            "3  1/4/2017           24          7   Snow\n",
            "4  1/5/2017           32          4   Rain\n"
          ],
          "name": "stdout"
        }
      ]
    },
    {
      "cell_type": "markdown",
      "metadata": {
        "id": "ZaFF7VYDTj5G"
      },
      "source": [
        "Group the dataframe wrt to 'event' and save the resulting output in a variable named 'g'"
      ],
      "id": "ZaFF7VYDTj5G"
    },
    {
      "cell_type": "markdown",
      "metadata": {
        "id": "6oxOMGzWTj5G"
      },
      "source": [
        "<p style='text-align: right;'> 5*3 = 15 points</p>\n"
      ],
      "id": "6oxOMGzWTj5G"
    },
    {
      "cell_type": "code",
      "metadata": {
        "id": "E0T-hdYqTj5H"
      },
      "source": [
        "g = df.groupby(['event'])"
      ],
      "id": "E0T-hdYqTj5H",
      "execution_count": 79,
      "outputs": []
    },
    {
      "cell_type": "markdown",
      "metadata": {
        "id": "w1X4dJQuTj5H"
      },
      "source": [
        "Print g and  type(g)"
      ],
      "id": "w1X4dJQuTj5H"
    },
    {
      "cell_type": "code",
      "metadata": {
        "id": "WZlS_AyJTj5H",
        "colab": {
          "base_uri": "https://localhost:8080/"
        },
        "outputId": "ddadd2c3-4d60-45a8-a2f2-c47274db91ac"
      },
      "source": [
        "print(g)\n",
        "print(type(g))"
      ],
      "id": "WZlS_AyJTj5H",
      "execution_count": 82,
      "outputs": [
        {
          "output_type": "stream",
          "text": [
            "<pandas.core.groupby.generic.DataFrameGroupBy object at 0x7f45704c0050>\n",
            "<class 'pandas.core.groupby.generic.DataFrameGroupBy'>\n"
          ],
          "name": "stdout"
        }
      ]
    },
    {
      "cell_type": "markdown",
      "metadata": {
        "id": "NoHGRUDnTj5H"
      },
      "source": [
        "Iterate over all the temperatures in g and print them "
      ],
      "id": "NoHGRUDnTj5H"
    },
    {
      "cell_type": "code",
      "metadata": {
        "id": "8TLrNXAkTj5H",
        "colab": {
          "base_uri": "https://localhost:8080/"
        },
        "outputId": "107b21dc-d95d-4423-a25a-b086aaa800d9"
      },
      "source": [
        "for i in g:\n",
        "   print(i)"
      ],
      "id": "8TLrNXAkTj5H",
      "execution_count": 100,
      "outputs": [
        {
          "output_type": "stream",
          "text": [
            "('Rain',         day  temperature  windspeed event\n",
            "0  1/1/2017           32          6  Rain\n",
            "4  1/5/2017           32          4  Rain)\n",
            "('Snow',         day  temperature  windspeed event\n",
            "2  1/3/2017           28          2  Snow\n",
            "3  1/4/2017           24          7  Snow)\n",
            "('Sunny',         day  temperature  windspeed  event\n",
            "1  1/2/2017           35          7  Sunny\n",
            "5  1/6/2017           31          2  Sunny)\n"
          ],
          "name": "stdout"
        }
      ]
    },
    {
      "cell_type": "markdown",
      "metadata": {
        "id": "B_8ENztFTj5H"
      },
      "source": [
        "Use the describle method on g to get the complete description on it."
      ],
      "id": "B_8ENztFTj5H"
    },
    {
      "cell_type": "code",
      "metadata": {
        "id": "uiwiZhu1Tj5I",
        "colab": {
          "base_uri": "https://localhost:8080/",
          "height": 204
        },
        "outputId": "c37a1729-0314-4f16-a2f4-628b94913091"
      },
      "source": [
        "g.describe()"
      ],
      "id": "uiwiZhu1Tj5I",
      "execution_count": 83,
      "outputs": [
        {
          "output_type": "execute_result",
          "data": {
            "text/html": [
              "<div>\n",
              "<style scoped>\n",
              "    .dataframe tbody tr th:only-of-type {\n",
              "        vertical-align: middle;\n",
              "    }\n",
              "\n",
              "    .dataframe tbody tr th {\n",
              "        vertical-align: top;\n",
              "    }\n",
              "\n",
              "    .dataframe thead tr th {\n",
              "        text-align: left;\n",
              "    }\n",
              "\n",
              "    .dataframe thead tr:last-of-type th {\n",
              "        text-align: right;\n",
              "    }\n",
              "</style>\n",
              "<table border=\"1\" class=\"dataframe\">\n",
              "  <thead>\n",
              "    <tr>\n",
              "      <th></th>\n",
              "      <th colspan=\"8\" halign=\"left\">temperature</th>\n",
              "      <th colspan=\"8\" halign=\"left\">windspeed</th>\n",
              "    </tr>\n",
              "    <tr>\n",
              "      <th></th>\n",
              "      <th>count</th>\n",
              "      <th>mean</th>\n",
              "      <th>std</th>\n",
              "      <th>min</th>\n",
              "      <th>25%</th>\n",
              "      <th>50%</th>\n",
              "      <th>75%</th>\n",
              "      <th>max</th>\n",
              "      <th>count</th>\n",
              "      <th>mean</th>\n",
              "      <th>std</th>\n",
              "      <th>min</th>\n",
              "      <th>25%</th>\n",
              "      <th>50%</th>\n",
              "      <th>75%</th>\n",
              "      <th>max</th>\n",
              "    </tr>\n",
              "    <tr>\n",
              "      <th>event</th>\n",
              "      <th></th>\n",
              "      <th></th>\n",
              "      <th></th>\n",
              "      <th></th>\n",
              "      <th></th>\n",
              "      <th></th>\n",
              "      <th></th>\n",
              "      <th></th>\n",
              "      <th></th>\n",
              "      <th></th>\n",
              "      <th></th>\n",
              "      <th></th>\n",
              "      <th></th>\n",
              "      <th></th>\n",
              "      <th></th>\n",
              "      <th></th>\n",
              "    </tr>\n",
              "  </thead>\n",
              "  <tbody>\n",
              "    <tr>\n",
              "      <th>Rain</th>\n",
              "      <td>2.0</td>\n",
              "      <td>32.0</td>\n",
              "      <td>0.000000</td>\n",
              "      <td>32.0</td>\n",
              "      <td>32.0</td>\n",
              "      <td>32.0</td>\n",
              "      <td>32.0</td>\n",
              "      <td>32.0</td>\n",
              "      <td>2.0</td>\n",
              "      <td>5.0</td>\n",
              "      <td>1.414214</td>\n",
              "      <td>4.0</td>\n",
              "      <td>4.50</td>\n",
              "      <td>5.0</td>\n",
              "      <td>5.50</td>\n",
              "      <td>6.0</td>\n",
              "    </tr>\n",
              "    <tr>\n",
              "      <th>Snow</th>\n",
              "      <td>2.0</td>\n",
              "      <td>26.0</td>\n",
              "      <td>2.828427</td>\n",
              "      <td>24.0</td>\n",
              "      <td>25.0</td>\n",
              "      <td>26.0</td>\n",
              "      <td>27.0</td>\n",
              "      <td>28.0</td>\n",
              "      <td>2.0</td>\n",
              "      <td>4.5</td>\n",
              "      <td>3.535534</td>\n",
              "      <td>2.0</td>\n",
              "      <td>3.25</td>\n",
              "      <td>4.5</td>\n",
              "      <td>5.75</td>\n",
              "      <td>7.0</td>\n",
              "    </tr>\n",
              "    <tr>\n",
              "      <th>Sunny</th>\n",
              "      <td>2.0</td>\n",
              "      <td>33.0</td>\n",
              "      <td>2.828427</td>\n",
              "      <td>31.0</td>\n",
              "      <td>32.0</td>\n",
              "      <td>33.0</td>\n",
              "      <td>34.0</td>\n",
              "      <td>35.0</td>\n",
              "      <td>2.0</td>\n",
              "      <td>4.5</td>\n",
              "      <td>3.535534</td>\n",
              "      <td>2.0</td>\n",
              "      <td>3.25</td>\n",
              "      <td>4.5</td>\n",
              "      <td>5.75</td>\n",
              "      <td>7.0</td>\n",
              "    </tr>\n",
              "  </tbody>\n",
              "</table>\n",
              "</div>"
            ],
            "text/plain": [
              "      temperature                              ... windspeed                      \n",
              "            count  mean       std   min   25%  ...       min   25%  50%   75%  max\n",
              "event                                          ...                                \n",
              "Rain          2.0  32.0  0.000000  32.0  32.0  ...       4.0  4.50  5.0  5.50  6.0\n",
              "Snow          2.0  26.0  2.828427  24.0  25.0  ...       2.0  3.25  4.5  5.75  7.0\n",
              "Sunny         2.0  33.0  2.828427  31.0  32.0  ...       2.0  3.25  4.5  5.75  7.0\n",
              "\n",
              "[3 rows x 16 columns]"
            ]
          },
          "metadata": {
            "tags": []
          },
          "execution_count": 83
        }
      ]
    },
    {
      "cell_type": "markdown",
      "metadata": {
        "id": "SfUehL76Tj5I"
      },
      "source": [
        "Create a new column in the dataframe df, named 'hot_temp' which contains True if temp is above 30, else False"
      ],
      "id": "SfUehL76Tj5I"
    },
    {
      "cell_type": "markdown",
      "metadata": {
        "id": "t7nfuNBbTj5I"
      },
      "source": [
        "<p style='text-align: right;'> 5 points</p>\n"
      ],
      "id": "t7nfuNBbTj5I"
    },
    {
      "cell_type": "code",
      "metadata": {
        "id": "D3lZwKz_Tj5I"
      },
      "source": [
        "#code here to filter df with above condition\n",
        "df['hot_temp'] = df['temperature']>30"
      ],
      "id": "D3lZwKz_Tj5I",
      "execution_count": 86,
      "outputs": []
    },
    {
      "cell_type": "code",
      "metadata": {
        "id": "Awg56g-BTj5I",
        "colab": {
          "base_uri": "https://localhost:8080/",
          "height": 235
        },
        "outputId": "d98a3428-db1a-4d26-a967-be7893e577a2"
      },
      "source": [
        "# print df\n",
        "df"
      ],
      "id": "Awg56g-BTj5I",
      "execution_count": 87,
      "outputs": [
        {
          "output_type": "execute_result",
          "data": {
            "text/html": [
              "<div>\n",
              "<style scoped>\n",
              "    .dataframe tbody tr th:only-of-type {\n",
              "        vertical-align: middle;\n",
              "    }\n",
              "\n",
              "    .dataframe tbody tr th {\n",
              "        vertical-align: top;\n",
              "    }\n",
              "\n",
              "    .dataframe thead th {\n",
              "        text-align: right;\n",
              "    }\n",
              "</style>\n",
              "<table border=\"1\" class=\"dataframe\">\n",
              "  <thead>\n",
              "    <tr style=\"text-align: right;\">\n",
              "      <th></th>\n",
              "      <th>day</th>\n",
              "      <th>temperature</th>\n",
              "      <th>windspeed</th>\n",
              "      <th>event</th>\n",
              "      <th>hot_temp</th>\n",
              "    </tr>\n",
              "  </thead>\n",
              "  <tbody>\n",
              "    <tr>\n",
              "      <th>0</th>\n",
              "      <td>1/1/2017</td>\n",
              "      <td>32</td>\n",
              "      <td>6</td>\n",
              "      <td>Rain</td>\n",
              "      <td>True</td>\n",
              "    </tr>\n",
              "    <tr>\n",
              "      <th>1</th>\n",
              "      <td>1/2/2017</td>\n",
              "      <td>35</td>\n",
              "      <td>7</td>\n",
              "      <td>Sunny</td>\n",
              "      <td>True</td>\n",
              "    </tr>\n",
              "    <tr>\n",
              "      <th>2</th>\n",
              "      <td>1/3/2017</td>\n",
              "      <td>28</td>\n",
              "      <td>2</td>\n",
              "      <td>Snow</td>\n",
              "      <td>False</td>\n",
              "    </tr>\n",
              "    <tr>\n",
              "      <th>3</th>\n",
              "      <td>1/4/2017</td>\n",
              "      <td>24</td>\n",
              "      <td>7</td>\n",
              "      <td>Snow</td>\n",
              "      <td>False</td>\n",
              "    </tr>\n",
              "    <tr>\n",
              "      <th>4</th>\n",
              "      <td>1/5/2017</td>\n",
              "      <td>32</td>\n",
              "      <td>4</td>\n",
              "      <td>Rain</td>\n",
              "      <td>True</td>\n",
              "    </tr>\n",
              "    <tr>\n",
              "      <th>5</th>\n",
              "      <td>1/6/2017</td>\n",
              "      <td>31</td>\n",
              "      <td>2</td>\n",
              "      <td>Sunny</td>\n",
              "      <td>True</td>\n",
              "    </tr>\n",
              "  </tbody>\n",
              "</table>\n",
              "</div>"
            ],
            "text/plain": [
              "        day  temperature  windspeed  event  hot_temp\n",
              "0  1/1/2017           32          6   Rain      True\n",
              "1  1/2/2017           35          7  Sunny      True\n",
              "2  1/3/2017           28          2   Snow     False\n",
              "3  1/4/2017           24          7   Snow     False\n",
              "4  1/5/2017           32          4   Rain      True\n",
              "5  1/6/2017           31          2  Sunny      True"
            ]
          },
          "metadata": {
            "tags": []
          },
          "execution_count": 87
        }
      ]
    },
    {
      "cell_type": "markdown",
      "metadata": {
        "id": "V7eY8IDXTj5I"
      },
      "source": [
        "## Data Range\n",
        "\n",
        "Reference:-https://www.youtube.com/watch?v=dRxCvSbMEto"
      ],
      "id": "V7eY8IDXTj5I"
    },
    {
      "cell_type": "markdown",
      "metadata": {
        "id": "gqaTMfvJTj5J"
      },
      "source": [
        "<p style='text-align: right;'> 5*3 = 15 points</p>\n"
      ],
      "id": "gqaTMfvJTj5J"
    },
    {
      "cell_type": "markdown",
      "metadata": {
        "id": "71j4ZKIBTj5J"
      },
      "source": [
        "Create a pandas daterange where starting date is 1st of January,2020 and end date is 1st of April 2021, store it in a new variable named 'a'"
      ],
      "id": "71j4ZKIBTj5J"
    },
    {
      "cell_type": "code",
      "metadata": {
        "id": "dOdUdgguTj5J"
      },
      "source": [
        "date1 = '2020-01-01'\n",
        "date2 = '2021-01-04'\n",
        "a = pd.date_range(date1, date2)"
      ],
      "id": "dOdUdgguTj5J",
      "execution_count": 93,
      "outputs": []
    },
    {
      "cell_type": "markdown",
      "metadata": {
        "id": "rrv6DlKYTj5J"
      },
      "source": [
        "print a"
      ],
      "id": "rrv6DlKYTj5J"
    },
    {
      "cell_type": "code",
      "metadata": {
        "id": "FgbHTOxLTj5J",
        "colab": {
          "base_uri": "https://localhost:8080/"
        },
        "outputId": "2b8a2593-1e99-4c8d-bc45-e473d839dd0e"
      },
      "source": [
        "a"
      ],
      "id": "FgbHTOxLTj5J",
      "execution_count": 94,
      "outputs": [
        {
          "output_type": "execute_result",
          "data": {
            "text/plain": [
              "DatetimeIndex(['2020-01-01', '2020-01-02', '2020-01-03', '2020-01-04',\n",
              "               '2020-01-05', '2020-01-06', '2020-01-07', '2020-01-08',\n",
              "               '2020-01-09', '2020-01-10',\n",
              "               ...\n",
              "               '2020-12-26', '2020-12-27', '2020-12-28', '2020-12-29',\n",
              "               '2020-12-30', '2020-12-31', '2021-01-01', '2021-01-02',\n",
              "               '2021-01-03', '2021-01-04'],\n",
              "              dtype='datetime64[ns]', length=370, freq='D')"
            ]
          },
          "metadata": {
            "tags": []
          },
          "execution_count": 94
        }
      ]
    },
    {
      "cell_type": "markdown",
      "metadata": {
        "id": "SFE-HYMtTj5J"
      },
      "source": [
        "What is the len of a?"
      ],
      "id": "SFE-HYMtTj5J"
    },
    {
      "cell_type": "code",
      "metadata": {
        "id": "yKhSCTubTj5K",
        "colab": {
          "base_uri": "https://localhost:8080/"
        },
        "outputId": "0cad56d5-7c0d-478a-ef87-2b4d0514146a"
      },
      "source": [
        "len(a)"
      ],
      "id": "yKhSCTubTj5K",
      "execution_count": 95,
      "outputs": [
        {
          "output_type": "execute_result",
          "data": {
            "text/plain": [
              "370"
            ]
          },
          "metadata": {
            "tags": []
          },
          "execution_count": 95
        }
      ]
    },
    {
      "cell_type": "markdown",
      "metadata": {
        "id": "2a1TsoudTj5K"
      },
      "source": [
        "What is the type of a?"
      ],
      "id": "2a1TsoudTj5K"
    },
    {
      "cell_type": "code",
      "metadata": {
        "id": "SC1xBR3lTj5K",
        "colab": {
          "base_uri": "https://localhost:8080/"
        },
        "outputId": "55490b29-365b-41ff-93e5-3cba06461d5f"
      },
      "source": [
        "type(a)"
      ],
      "id": "SC1xBR3lTj5K",
      "execution_count": 96,
      "outputs": [
        {
          "output_type": "execute_result",
          "data": {
            "text/plain": [
              "pandas.core.indexes.datetimes.DatetimeIndex"
            ]
          },
          "metadata": {
            "tags": []
          },
          "execution_count": 96
        }
      ]
    },
    {
      "cell_type": "markdown",
      "metadata": {
        "id": "gbUSqpa5Tj5K"
      },
      "source": [
        "________________\n",
        "# Hey high five! You solved the 4th milestone challenge too! Pawri to banti hai ;)\n",
        "________________\n",
        "\n",
        "# Its Feedback Time!\n",
        "\n",
        "We hope you’ve enjoyed this course so far. We’re committed to help you use \"AI for All\" course to its full potential, so that you have a great learning experience. And that’s why we need your help in form of a feedback here.\n",
        "\n",
        "**Please fill this feedback form**\n",
        " https://zfrmz.in/MtRG5oWXBdesm6rmSM7N"
      ],
      "id": "gbUSqpa5Tj5K"
    }
  ]
}