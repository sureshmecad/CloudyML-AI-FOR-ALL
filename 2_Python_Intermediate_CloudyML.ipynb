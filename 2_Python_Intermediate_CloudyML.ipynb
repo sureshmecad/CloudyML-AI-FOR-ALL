{
  "nbformat": 4,
  "nbformat_minor": 0,
  "metadata": {
    "kernelspec": {
      "display_name": "Python 3",
      "language": "python",
      "name": "python3"
    },
    "language_info": {
      "codemirror_mode": {
        "name": "ipython",
        "version": 3
      },
      "file_extension": ".py",
      "mimetype": "text/x-python",
      "name": "python",
      "nbconvert_exporter": "python",
      "pygments_lexer": "ipython3",
      "version": "3.8.5"
    },
    "colab": {
      "name": "2_Python Intermediate_CloudyML.ipynb",
      "provenance": [],
      "collapsed_sections": [],
      "include_colab_link": true
    }
  },
  "cells": [
    {
      "cell_type": "markdown",
      "metadata": {
        "id": "view-in-github",
        "colab_type": "text"
      },
      "source": [
        "<a href=\"https://colab.research.google.com/github/sureshmecad/CloudyML-AI-FOR-ALL/blob/main/2_Python_Intermediate_CloudyML.ipynb\" target=\"_parent\"><img src=\"https://colab.research.google.com/assets/colab-badge.svg\" alt=\"Open In Colab\"/></a>"
      ]
    },
    {
      "cell_type": "markdown",
      "metadata": {
        "id": "oDfSgJZkzlMh"
      },
      "source": [
        "# <center><u> Python-Intermediate </u></center>\n"
      ]
    },
    {
      "cell_type": "markdown",
      "metadata": {
        "id": "EJKdxTFgzlMm"
      },
      "source": [
        "Here you can start digging into our intermediate-level programming questions that will teach you new Python concepts. This category is for intermediate Python developers who already know the basics of Python development and want to expand their knowledge.\n",
        "\n",
        "Below are some flowcharts on various python statements which will be useful to understand their use .\n",
        "\n",
        "\n",
        "**1. BREAK**\n",
        "![image-7.png](attachment:image-7.png)\n",
        "**2. CONTINUE**\n",
        "![image.png](attachment:image.png)\n",
        "**3. WHILE LOOP**\n",
        "![image-2.png](attachment:image-2.png)\n",
        "**4. FOR LOOP**\n",
        "![image-3.png](attachment:image-3.png)\n",
        "**5. IF STATEMENT**\n",
        "![image-4.png](attachment:image-4.png)\n",
        "**6. IF ELSE**\n",
        "![image-5.png](attachment:image-5.png)\n",
        "**7. IF ELSE IF ELSE**\n",
        "![image-6.png](attachment:image-6.png)\n",
        "\n",
        "\n",
        "\n",
        "Becoming a Python expert takes time, but over time you’ll master this beautiful programming language. It’s worth it! \n",
        "\n",
        "So lets get started!"
      ]
    },
    {
      "cell_type": "markdown",
      "metadata": {
        "id": "sz8BTB7QzlMn"
      },
      "source": [
        "1.Lets remove duplicates from list names=['A','B','C','A','D','E','F','G','H','E','D']\n",
        "\n"
      ]
    },
    {
      "cell_type": "code",
      "metadata": {
        "colab": {
          "base_uri": "https://localhost:8080/"
        },
        "id": "rFh1BY8mzlMo",
        "outputId": "57b87b53-c8dd-4439-b597-d9ba926b1ac8"
      },
      "source": [
        "#code here\n",
        "names=['A','B','C','A','D','E','F','G','H','E','D']\n",
        "temp_list = []\n",
        "\n",
        "for i in names:\n",
        "    if i not in temp_list:\n",
        "        temp_list.append(i)\n",
        "\n",
        "names = temp_list\n",
        "names"
      ],
      "execution_count": 4,
      "outputs": [
        {
          "output_type": "execute_result",
          "data": {
            "text/plain": [
              "['A', 'B', 'C', 'D', 'E', 'F', 'G', 'H']"
            ]
          },
          "metadata": {
            "tags": []
          },
          "execution_count": 4
        }
      ]
    },
    {
      "cell_type": "markdown",
      "metadata": {
        "id": "d3TjjN2EzlMq"
      },
      "source": [
        "2. Good! Shall we try solving above problem in shhorter way using list comprehention? It will be amazing. Here we go!\n"
      ]
    },
    {
      "cell_type": "code",
      "metadata": {
        "colab": {
          "base_uri": "https://localhost:8080/"
        },
        "id": "cjj7amREzlMr",
        "outputId": "ddea84cf-fc8c-4b87-915d-62f6a3e337ab"
      },
      "source": [
        "#code here\n",
        "import numpy as np\n",
        "myFinalList = np.unique(names).tolist()\n",
        "print(myFinalList)"
      ],
      "execution_count": 6,
      "outputs": [
        {
          "output_type": "stream",
          "text": [
            "['A', 'B', 'C', 'D', 'E', 'F', 'G', 'H']\n"
          ],
          "name": "stdout"
        }
      ]
    },
    {
      "cell_type": "markdown",
      "metadata": {
        "id": "6nWmOTdUzlMu"
      },
      "source": [
        "3. define a funtion 'occurence' which takes 2 inputs, one list 'lst' and another one a number 'n' and count the number of occurrences of n in your list lst."
      ]
    },
    {
      "cell_type": "code",
      "metadata": {
        "id": "1JKQwzFozlMu",
        "outputId": "b493c0f9-1ec8-4bb1-9160-3aab743724b9"
      },
      "source": [
        "#your code\n",
        "\n",
        "\n",
        " \n",
        "#lets use your function\n",
        "occurence([2,3,4,8,1,3,5,2,1,3,1,2,2], 2)"
      ],
      "execution_count": null,
      "outputs": [
        {
          "output_type": "execute_result",
          "data": {
            "text/plain": [
              "4"
            ]
          },
          "metadata": {
            "tags": []
          },
          "execution_count": 3
        }
      ]
    },
    {
      "cell_type": "markdown",
      "metadata": {
        "id": "rjgx9EytzlMv"
      },
      "source": [
        "4. Calculate factorial of a number ( Here number=3) using while loop"
      ]
    },
    {
      "cell_type": "code",
      "metadata": {
        "id": "DuccHT7OzlMw",
        "outputId": "4e2f8891-f40d-4fb0-8aa7-f4b5462054bf"
      },
      "source": [
        "number = 3\n",
        "#code here\n",
        "\n",
        "\n",
        "\n"
      ],
      "execution_count": null,
      "outputs": [
        {
          "output_type": "stream",
          "text": [
            "6\n"
          ],
          "name": "stdout"
        }
      ]
    },
    {
      "cell_type": "markdown",
      "metadata": {
        "id": "mQ6wU9dYzlMx"
      },
      "source": [
        "5. Reverse a given integer number num = 47594038222 and display the count of total number of digits in your revered number using while loop."
      ]
    },
    {
      "cell_type": "code",
      "metadata": {
        "id": "p_SjE0mtzlMx",
        "outputId": "74a7fc46-c5f7-4410-f7c7-ce671f8493cd"
      },
      "source": [
        "#code here\n",
        "\n",
        "\n",
        "\n"
      ],
      "execution_count": null,
      "outputs": [
        {
          "output_type": "stream",
          "text": [
            "Total number of digits in  22283049574 are 11\n"
          ],
          "name": "stdout"
        }
      ]
    },
    {
      "cell_type": "markdown",
      "metadata": {
        "id": "gufCDqrKzlMy"
      },
      "source": [
        "6. Can you reverse you given num without using loop in just one line?\n",
        "\n",
        "Hint: apply some slicing trick to do it."
      ]
    },
    {
      "cell_type": "code",
      "metadata": {
        "id": "lr6e4RcjzlMz",
        "outputId": "20a0fccc-5e42-4e16-e09f-6d4a2a824faf"
      },
      "source": [
        "num = 47594038222\n",
        "\n",
        "#one line code here\n",
        "\n"
      ],
      "execution_count": null,
      "outputs": [
        {
          "output_type": "stream",
          "text": [
            "22283049574\n"
          ],
          "name": "stdout"
        }
      ]
    },
    {
      "cell_type": "markdown",
      "metadata": {
        "id": "d1wv5usrzlMz"
      },
      "source": [
        "7. Write a function that checks whether a given sequence of number is IP address or not and print all valid possible IP from a given digit. If not an IP then it prints empty list\n",
        "\n",
        "**Note:** According to Wikipedia, IPv4 addresses are canonically represented in dot-decimal notation, which consists of four decimal numbers, each ranging from 0 to 255, separated by dots, e.g., 172.16.254.1"
      ]
    },
    {
      "cell_type": "code",
      "metadata": {
        "id": "9JU4JIV3zlM0",
        "outputId": "7ccbf5d7-db1a-4ea8-b152-24179f91a608"
      },
      "source": [
        "#Code here\n",
        "\n",
        "\n",
        "\n",
        "\n",
        "\n",
        "\n",
        "\n",
        " \n",
        "# Check your code with below numbers    \n",
        "A = \"25525511135\"\n",
        "B = \"25505011536\"\n",
        " \n",
        "\n",
        "    \n",
        "    \n"
      ],
      "execution_count": null,
      "outputs": [
        {
          "output_type": "stream",
          "text": [
            "['255.255.11.135', '255.255.111.35']\n",
            "[]\n"
          ],
          "name": "stdout"
        }
      ]
    },
    {
      "cell_type": "markdown",
      "metadata": {
        "id": "_ontX0YhzlM0"
      },
      "source": [
        "8. Solve the quadratic equation ax**2 + bx + c = 0 where a =4, b=6, c=2"
      ]
    },
    {
      "cell_type": "code",
      "metadata": {
        "id": "N6haqfilzlM1",
        "outputId": "411d43e0-483f-4fe7-e578-ba46abbcd761"
      },
      "source": [
        "#code here\n",
        "\n",
        "\n",
        "\n",
        "\n"
      ],
      "execution_count": null,
      "outputs": [
        {
          "output_type": "stream",
          "text": [
            "The solution are -1.0 and -0.5\n"
          ],
          "name": "stdout"
        }
      ]
    },
    {
      "cell_type": "markdown",
      "metadata": {
        "id": "_USmcacNzlM1"
      },
      "source": [
        "9. Write a program to Remove Punctuations From a String \n",
        "\n",
        "s=\"Wow!!!, we are going ahead with our course to learn *machine learning* ---are'nt you excited? :)\""
      ]
    },
    {
      "cell_type": "code",
      "metadata": {
        "id": "lejWJgGazlM2",
        "outputId": "f3e8889c-079c-4c67-fd48-a750c8029cec"
      },
      "source": [
        "# code here\n",
        "\n",
        "\n",
        "\n",
        "\n"
      ],
      "execution_count": null,
      "outputs": [
        {
          "output_type": "stream",
          "text": [
            "Wow we are going ahead with our course to learn machine learning arent you excited \n"
          ],
          "name": "stdout"
        }
      ]
    },
    {
      "cell_type": "markdown",
      "metadata": {
        "id": "lcazIDqwzlM2"
      },
      "source": [
        "10. Write a program which takes 2 digits, X,Y as input and generates a 2-dimensional array. The element value in the i-th row and j-th column of the array should be i*j.\n",
        "\n",
        "Note: i=0,1.., X-1; j=0,1,i^Y-1."
      ]
    },
    {
      "cell_type": "code",
      "metadata": {
        "id": "XF_R79JpzlM3",
        "outputId": "fe263abc-4bad-42a1-fc48-da75ec787990"
      },
      "source": [
        "digit1=3\n",
        "digit2=4\n",
        "\n",
        "#code here\n",
        "\n",
        "\n",
        "\n",
        "\n"
      ],
      "execution_count": null,
      "outputs": [
        {
          "output_type": "stream",
          "text": [
            "[[0, 0, 0, 0], [0, 1, 2, 3], [0, 2, 4, 6]]\n"
          ],
          "name": "stdout"
        }
      ]
    },
    {
      "cell_type": "markdown",
      "metadata": {
        "id": "ni50fIR4zlM3"
      },
      "source": [
        "11. Write a function 'solve_coin_change' which takes list of denominations and amount and checks number of ways you can make change with coins and a total amount.\n",
        "\n",
        "Note: You have unlimited amount of mentioned denominations\n",
        "\n",
        "![image.png](attachment:image.png)"
      ]
    },
    {
      "cell_type": "code",
      "metadata": {
        "id": "inX57LuSzlM4",
        "outputId": "b8663e14-1d14-4c16-eedb-edf0390a2a7c"
      },
      "source": [
        "#code here\n",
        "\n",
        "\n",
        "\n",
        "\n",
        "\n",
        "\n",
        "\n",
        "\n",
        "# Checking your code\n",
        "print(solve_coin_change([1, 5, 10],20))\n",
        "print(solve_coin_change([1, 2, 5],7))"
      ],
      "execution_count": null,
      "outputs": [
        {
          "output_type": "stream",
          "text": [
            "9\n",
            "6\n"
          ],
          "name": "stdout"
        }
      ]
    },
    {
      "cell_type": "markdown",
      "metadata": {
        "id": "45yIxPmKzlM4"
      },
      "source": [
        "12. For given string S and integers P and Q, which denotes the cost of removal of substrings “he” and “lo” respectively from S, the task is to find the maximum cost of removing all occurrences of substrings “he” and “lo”.\n",
        "\n",
        "example if S = “hellohellohellohellohello”, P = 6, Q = 4, then cost to remove 'he' and 'lo' is 50"
      ]
    },
    {
      "cell_type": "code",
      "metadata": {
        "id": "vCzZNz33zlM5",
        "outputId": "06e83970-8843-489c-853a-a48b67d6117b"
      },
      "source": [
        "# code here\n",
        " \n",
        "\n",
        "    \n",
        "    \n",
        "# Check code with \n",
        "\n",
        "S = \"hellohellohellohellohello\"\n",
        "\n",
        "# Costs\n",
        "P = 6;\n",
        "Q = 4;\n",
        "\n",
        "\n",
        "print(MaxCollection(S, P, Q));"
      ],
      "execution_count": null,
      "outputs": [
        {
          "output_type": "stream",
          "text": [
            "50\n"
          ],
          "name": "stdout"
        }
      ]
    },
    {
      "cell_type": "markdown",
      "metadata": {
        "id": "gT0TVVRPzlM6"
      },
      "source": [
        "13. Given a binary string S , the task is to find the smallest string possible by removing all occurrences of substrings “01” and “11”. After removal of any substring, concatenate the remaining parts of the string.\n",
        "\n",
        "Example\n",
        "    \n",
        "    Input: S = “0010110”\n",
        "    Output: String = 0\n",
        "    \n",
        "    Explanation: String can be transformed by the following steps: \n",
        "    0010110 → 00110 → 010 → 0. \n",
        "    Since no occurrence of substrings 01 and 11 are remaining, the string “0” is of minimum possible length 1."
      ]
    },
    {
      "cell_type": "code",
      "metadata": {
        "id": "HFFQGkZ3zlM6",
        "outputId": "1bd5787b-6e08-4ecc-d330-916f2da8a4f1"
      },
      "source": [
        "#code here\n",
        "\n",
        "\n",
        "\n",
        "\n",
        "#check code here\n",
        "    \n",
        "s=\"0010110\"\n",
        "\n",
        "\n",
        "\n"
      ],
      "execution_count": null,
      "outputs": [
        {
          "output_type": "stream",
          "text": [
            "The final string is: 0\n",
            "The final string size is: 1\n"
          ],
          "name": "stdout"
        }
      ]
    },
    {
      "cell_type": "markdown",
      "metadata": {
        "id": "xf06PoftzlM7"
      },
      "source": [
        "14. Write a function such that it accepts two integers n, m as arguments Find the sum of all numbers in range from 1 to m(both inclusive) that are not divisible by n. Return difference between sum of integers not divisible by n with sum of numbers divisible by n\n",
        "\n",
        "Example\n",
        "\n",
        "    Input\n",
        "    n:4\n",
        "    m:20\n",
        "    Output\n",
        "    90"
      ]
    },
    {
      "cell_type": "code",
      "metadata": {
        "id": "WHwpOc8lzlM8",
        "outputId": "ef1af177-9dfb-4c25-a219-33188bfdd0c2"
      },
      "source": [
        "#code here\n",
        "\n",
        "\n",
        "\n"
      ],
      "execution_count": null,
      "outputs": [
        {
          "output_type": "stream",
          "text": [
            "4\n",
            "20\n",
            "90\n"
          ],
          "name": "stdout"
        }
      ]
    },
    {
      "cell_type": "markdown",
      "metadata": {
        "id": "cqVYI6JXzlM9"
      },
      "source": [
        "15. Write a function count_code that return the number of times that the string \"code\" appears anywhere in the given string, except we'll accept any letter for the 'd', so \"cope\" and \"cooe\" count.\n",
        "\n",
        "\n",
        "    count_code('aaacodebbb') → 1\n",
        "    count_code('codexxcode') → 2\n",
        "    count_code('cozexxcope') → 2"
      ]
    },
    {
      "cell_type": "code",
      "metadata": {
        "id": "XJI-ZyY6zlM9",
        "outputId": "56cc6219-c897-4b3a-fbbf-5bba08d195f9"
      },
      "source": [
        "#code here\n",
        "\n",
        "\n",
        "\n",
        "\n",
        "\n",
        "#check your code \n",
        "print(count_code('aaacodebbb'))\n",
        "print(count_code('codexxcode'))\n",
        "print(count_code('cozexxcope'))\n"
      ],
      "execution_count": null,
      "outputs": [
        {
          "output_type": "stream",
          "text": [
            "1\n",
            "2\n",
            "2\n"
          ],
          "name": "stdout"
        }
      ]
    },
    {
      "cell_type": "markdown",
      "metadata": {
        "id": "4K-65i8jzlM-"
      },
      "source": [
        "16. Lets have one moderate level question for you. \n",
        "\n",
        "Find the sum of the series 4 +44 + 444 + 4444 + .. n terms\n",
        "\n",
        "here keep n=5"
      ]
    },
    {
      "cell_type": "code",
      "metadata": {
        "id": "4n_gELJvzlM_",
        "outputId": "89b9b0a3-574b-456e-b7cc-e6d29a67014b"
      },
      "source": [
        "#code here\n",
        "\n",
        "\n",
        "\n"
      ],
      "execution_count": null,
      "outputs": [
        {
          "output_type": "stream",
          "text": [
            "4 44 444 4444 44444 \n",
            "Sum of above series is: 49380\n"
          ],
          "name": "stdout"
        }
      ]
    },
    {
      "cell_type": "markdown",
      "metadata": {
        "id": "-Z673tZ3zlNA"
      },
      "source": [
        "17. Assume s is a string of lower case characters.\n",
        "<br>\n",
        "Write a program that counts up the number of vowels contained in the string s. Valid vowels are: 'a', 'e', 'i', 'o', and 'u'. For example, if s = 'azcbobobegghakl', your program should print:<br>\n",
        "```Number of vowels: 5```"
      ]
    },
    {
      "cell_type": "code",
      "metadata": {
        "id": "qQm4xVa6zlNB",
        "outputId": "7b454930-c1db-4a60-c364-d96bfe73f7ee"
      },
      "source": [
        "#code here\n",
        "\n",
        "\n",
        "\n",
        "\n"
      ],
      "execution_count": null,
      "outputs": [
        {
          "output_type": "stream",
          "text": [
            "Number of vowels: 5\n"
          ],
          "name": "stdout"
        }
      ]
    },
    {
      "cell_type": "markdown",
      "metadata": {
        "id": "6AvRBdsKzlNC"
      },
      "source": [
        "18. well done. Now we want you to solve above question in just one line. have faith in your, you can do it. "
      ]
    },
    {
      "cell_type": "code",
      "metadata": {
        "id": "m0kgWPaNzlNC",
        "outputId": "86a56cff-3d4c-42b9-8145-1ccc2086903e"
      },
      "source": [
        "# one line code here.\n",
        "\n",
        "\n",
        "\n",
        "\n"
      ],
      "execution_count": null,
      "outputs": [
        {
          "output_type": "stream",
          "text": [
            "Number of vowels: 5\n"
          ],
          "name": "stdout"
        }
      ]
    },
    {
      "cell_type": "markdown",
      "metadata": {
        "id": "7M9_lhZPzlND"
      },
      "source": [
        "19. Assume s is a string of lower case characters.\n",
        "\n",
        "Write a program that prints the number of times the string 'bob' occurs in s. For example, if s = 'azcbobobegghakl', then your program should print\n",
        "\n",
        "```Number of times bob occurs is: 2```"
      ]
    },
    {
      "cell_type": "code",
      "metadata": {
        "id": "8yhCsAVFzlND",
        "outputId": "8006ad11-aa9d-4594-91f9-3213e2717926"
      },
      "source": [
        "#code here\n",
        "\n",
        "\n",
        "\n"
      ],
      "execution_count": null,
      "outputs": [
        {
          "output_type": "stream",
          "text": [
            "Number of times bob occurs is: 2\n"
          ],
          "name": "stdout"
        }
      ]
    },
    {
      "cell_type": "markdown",
      "metadata": {
        "id": "YvuWT59CzlNE"
      },
      "source": [
        "20. Assume s is a string of lower case characters.\n",
        "\n",
        "Write a program that prints the longest substring of s in which the letters occur in alphabetical order. For example, if s = 'azcbobobegghakl', then your program should print\n",
        "\n",
        "```Longest substring in alphabetical order is: beggh```<br><br>\n",
        "In the case of ties, print the first substring. For example, if s = 'abcbcd', then your program should print\n",
        "\n",
        "```Longest substring in alphabetical order is: abc```"
      ]
    },
    {
      "cell_type": "code",
      "metadata": {
        "id": "C6ceL6KFzlNE",
        "outputId": "7f36068b-f63a-48b0-e0b5-42549dee4267"
      },
      "source": [
        "#code here\n",
        "\n",
        "\n",
        "\n",
        "\n"
      ],
      "execution_count": null,
      "outputs": [
        {
          "output_type": "stream",
          "text": [
            "Longest substring in alphabetical order is: beggh\n"
          ],
          "name": "stdout"
        }
      ]
    },
    {
      "cell_type": "markdown",
      "metadata": {
        "id": "67I4IqFfzlNE"
      },
      "source": [
        "Awsesome! Great job so far. Hope you fell in love with python now.\n",
        "\n",
        "\n",
        "But wait we want to give a treat..:) We have a surprise for you in form of one of the task, in this task you have to create a game in python. You can take up this task as a mini project of your's in python. Hmm.. Sounds good. Isn't it?\n",
        "\n",
        "So lets gets started.. we have given the instructions below for the task in detail \n",
        "\n",
        "# Hangman Game\n",
        "## In this project we are going to create Hangman Game using python\n",
        "\n",
        "\n",
        "**Q. What is the hangman game?**<br>\n",
        "A:- Hangman is a guessing game. The player will tries to guess a word picked by the computer, by suggesting letters within a certain number of guesses\n",
        "\n",
        "\n",
        "# Task 1\n",
        "Create a function **is_word_guessed** that takes in two arguments :- <br> **secret_word**, **letters_guessed** <br>**returns True** if all of the letter of secret_word are in letters_guessed, **returns False** if not\n",
        "\n",
        "\n",
        "**Assumptions**<br>\n",
        "**secret_word**: string, the word the user is guessing; assumes all letters are lowercase<br>\n",
        "**letters_guessed**: list (of letters), which letters have been guessed so far; assumes that all letters are lowercase<br>\n",
        "\n",
        "**Example**:-<br> \n",
        "secret_word = 'apple'<br>\n",
        "letters_guessed = ['e', 'a', 'k', 'p', 'l', 's']<br>\n",
        "is_word_guessed() will return True.<br><br> \n",
        "secret_word = 'apple'<br>\n",
        "letters_guessed = ['e', 'i', 'k', 'p', 'r', 's']<br>\n",
        "is_word_guessed() will return False.<br><br> \n",
        "\n",
        "\n",
        "\n"
      ]
    },
    {
      "cell_type": "code",
      "metadata": {
        "id": "zlkht-fOzlNF"
      },
      "source": [
        "def is_word_guessed(secret_word, letters_guessed):\n",
        "    \n",
        "    # Code here\n",
        "\n",
        "\n",
        "   \n",
        "\n",
        "\n"
      ],
      "execution_count": null,
      "outputs": []
    },
    {
      "cell_type": "markdown",
      "metadata": {
        "id": "TdGCe0nyzlNF"
      },
      "source": [
        "# Task 2\n",
        "Create a function **get_guessed_word** that takes in two arguments :-<br> **secret_word**, **letters_guessed** <br>**returns** string, comprised of known letters, and unknown letters represented by an underscore and a space (_ )<br>\n",
        "\n",
        "**Assumptions**<br>\n",
        "**secret_word**: string, the word the user is guessing;<br>\n",
        "**letters_guessed**: list (of letters), which letters have been guessed so far<br>\n",
        "\n",
        "**Example**:-<br>\n",
        "secret_word = 'apple'<br>\n",
        "letters_guessed = ['e', 'i', 'k', 'p', 'r', 's']<br>\n",
        "get_guessed_word() will return '_ pp_ e'\n",
        "\n",
        "```\n",
        "You want something like a_ _ _ d_ j and Not a___d_j,\n",
        "which might make it hard for the user to know how many characters are there to be guessed, \n",
        "that's why you want to use '_ ' instead of '_'\n",
        "```"
      ]
    },
    {
      "cell_type": "code",
      "metadata": {
        "id": "bSshOy4ZzlNG"
      },
      "source": [
        "# importing modules needed for the project\n",
        "import random\n",
        "import string\n",
        "\n",
        "def get_guessed_word(secret_word, letters_guessed):\n",
        "    \n",
        "#     code here"
      ],
      "execution_count": null,
      "outputs": []
    },
    {
      "cell_type": "markdown",
      "metadata": {
        "id": "Pd_UGTtwzlNG"
      },
      "source": [
        "# Task 3\n",
        "\n",
        "Create a function **get_available_letter** that takes in one arguments <br> **letters_guessed** <br>**returns** string (of letters), comprised of letters that represents which letters have not yet been guessed.\n",
        "\n",
        "**Assumptions**<br>\n",
        "**letters_guessed**: list (of letters), which letters have been guessed so far;<br>\n",
        "\n",
        "**Example**:-<br>\n",
        "letters_guessed = [’a’, ’l’, ’m’]<br>\n",
        "get_available_letter() will return 'bcdefghijknopqrstuvwxyz'<br>\n",
        "```\n",
        "You might want to consider using string.ascii_lowercase :=\n",
        "\n",
        "import string\n",
        "print(string.ascii_lowercase)\n",
        "output:- abcdefghijklmnopqrstuvwxyz\n",
        "```"
      ]
    },
    {
      "cell_type": "code",
      "metadata": {
        "id": "lnyiDVaCzlNH"
      },
      "source": [
        "\n",
        "def get_available_letters(letters_guessed):\n",
        "    '''\n",
        "    letters_guessed: list (of letters), which letters have been guessed so far\n",
        "    returns: string (of letters), comprised of letters that represents which letters have not\n",
        "      yet been guessed.\n",
        "    '''\n",
        "    # FILL IN YOUR CODE HERE \n",
        "    \n",
        "    "
      ],
      "execution_count": null,
      "outputs": []
    },
    {
      "cell_type": "markdown",
      "metadata": {
        "id": "ovaCDXQ3zlNH"
      },
      "source": [
        "### Great, We have created all of the Helper functions, now let's start our work on the actual Hangman Game\n",
        "\n",
        "# Hangman Game\n",
        "\n",
        "Create a function **hangman** that takes in one argument<br>\n",
        "**secret_word** :- string, the secret word to guess.<br>\n",
        "\n",
        "**The function should do the following**:-<br>\n",
        "Starts up an interactive game of Hangman.\n",
        "\n",
        "* At the start of the game, let the user know how many letters the secret_word contains and how many guesses s/he starts with.\n",
        "\n",
        "* The user should start with 6 guesses\n",
        "\n",
        "* Before each round, you should display to the user how many guesses s/he has left and the letters that the user has not yet guessed.\n",
        "\n",
        "* Ask the user to supply one guess per round. Remember to make sure that the user puts in a letter!\n",
        "\n",
        "* The user should receive feedback immediately after each guess about whether their guess appears in the computer's word.\n",
        "\n",
        "* After each guess, you should display to the user the partially guessed word so far.\n",
        "\n",
        "* If the user inputs a letter that hasn’t been guessed before and the letter is in the secret word, the user loses no guesses.\n",
        "\n",
        "* Consonants: If the user inputs a consonant that hasn’t been guessed and the consonant is not in the secret word, the user loses one guess if it’s a consonant.\n",
        "* Vowels: If the vowel hasn’t been guessed and the vowel is not in the secret word, the user loses two guesses. Vowels are a, e, i, o, and u. y does not count as a vowel.\n",
        "\n",
        "* The game should end when the user constructs the full word or runs out of guesses.\n",
        "* If the player runs out of guesses before completing the word, tell them they lost and reveal the word to the user when the game ends.\n",
        "* If the user wins, print a congratulatory message and tell the user their score.\n",
        "* The total score is the number of guesses_remaining once the user has guessed the secret_word times the number of unique letters in secret_word.\n",
        "```\n",
        "Total score = guesses_remaining * number unique letters in secret_word\n",
        "```"
      ]
    },
    {
      "cell_type": "markdown",
      "metadata": {
        "id": "V2KLYTY_zlNI"
      },
      "source": [
        "## Demo Game 1\n",
        "```\n",
        "Welcome to the game Hangman!\n",
        "I am thinking of a word that is 4 letters long.\n",
        "-------------\n",
        "You have 6 guesses left.\n",
        "Available letters: abcdefghijklmnopqrstuvwxyz\n",
        "Please guess a letter: ​a\n",
        "Good guess: _ a_ _\n",
        "------------\n",
        "You have 6 guesses left.\n",
        "Available letters: bcdefghijklmnopqrstuvwxyz\n",
        "Please guess a letter: ​s\n",
        "Oops! That letter is not in my word.\n",
        "Please guess a letter: _ a_ _\n",
        "------------\n",
        "You have 5 guesses left.\n",
        "Available letters: bcdefghijklmnopqrtuvwxyz\n",
        "Please guess a letter: ​t\n",
        "Good guess: ta_ t\n",
        "------------\n",
        "You have 5 guesses left.\n",
        "Available letters: bcdefghijklmnopqrtuvwxyz\n",
        "Please guess a letter: ​e\n",
        "Oops! That letter is not in my word: ta_ t\n",
        "------------\n",
        "You have 3 guesses left.\n",
        "Available letters: bcdfghijklnopquvwxyz Please guess a letter: ​c\n",
        "Good guess: tact\n",
        "------------\n",
        "Congratulations, you won!\n",
        "Your total score for this game is: 6\n",
        "```"
      ]
    },
    {
      "cell_type": "markdown",
      "metadata": {
        "id": "eGfc5d8LzlNJ"
      },
      "source": [
        "## Demo Game 2\n",
        "```\n",
        "Welcome to the game Hangman!\n",
        "I am thinking of a word that is 4 letters long\n",
        "-----------\n",
        "You have 6 guesses left\n",
        "Available Letters: abcdefghijklmnopqrstuvwxyz\n",
        "Please guess a letter: ​a\n",
        "Oops! That letter is not in my word: _ _ _ _\n",
        "-----------\n",
        "You have 4 guesses left\n",
        "Available Letters: bcdefghijklmnopqrstuvwxyz\n",
        "Please guess a letter: ​b\n",
        "Oops! That letter is not in my word: _ _ _ _\n",
        "-----------\n",
        "You have 3 guesses left\n",
        "Available Letters: cdefghijklmnopqrstuvwxyz\n",
        "Please guess a letter: ​c\n",
        "Oops! That letter is not in my word: _ _ _ _\n",
        "-----------\n",
        "You have 2 guesses left\n",
        "Available Letters: defghijklmnopqrstuvwxyz\n",
        "Please guess a letter: ​d\n",
        "Oops! That letter is not in my word: _ _ _ _\n",
        "-----------\n",
        "You have 1 guesses left\n",
        "Available Letters: efghijklmnopqrstuvwxyz\n",
        "Please guess a letter: ​e\n",
        "Good guess: e_ _ e\n",
        "-----------\n",
        "You have 1 guesses left\n",
        "Available Letters: fghijklmnopqrstuvwxyz\n",
        "Please guess a letter: ​f\n",
        "Oops! That letter is not in my word: e_ _ e\n",
        "-----------\n",
        "Sorry, you ran out of guesses. The word was else.\n",
        "```"
      ]
    },
    {
      "cell_type": "markdown",
      "metadata": {
        "id": "IK4nU3-EzlNJ"
      },
      "source": [
        "## Hints\n",
        "**Try to keep the output as similar to the one's above**<br>\n",
        "**Hints:-**\n",
        "```\n",
        "1. Consider writing additional helper functions if you need them.\n",
        "2. There are four important pieces of information you may wish to store:\n",
        "a. secret_word​: The word to guess. This is already used as the parameter name for the ​hangman​ function.\n",
        "b. letters_guessed​: The letters that have been guessed so far. If they guess a letter that is already in ​letters_guessed​, you should print a message telling them they've already guessed that but do not penalize them for it.\n",
        "c. guesses_remaining​: The number of guesses the user has left. Note that in our example game, the penalty for choosing an incorrect vowel is different than the penalty for choosing an incorrect consonant.\n",
        "```"
      ]
    },
    {
      "cell_type": "code",
      "metadata": {
        "id": "vFQ6Y8FpzlNK"
      },
      "source": [
        "\n",
        "def no_of_unique_words(string):\n",
        "    #code here\n",
        "\n",
        "\n",
        "\n",
        "    \n",
        "    \n",
        "    \n",
        "def hangman(secret_word):\n",
        "    #code here\n"
      ],
      "execution_count": null,
      "outputs": []
    },
    {
      "cell_type": "code",
      "metadata": {
        "id": "quGpFGaqzlNK",
        "outputId": "5fe0917a-9eda-489a-bce4-07f896dc509e"
      },
      "source": [
        "# When you've completed your hangman function, test it out to see it is working fine\n",
        "# (hint: you might want to pick your own\n",
        "# secret_word while you're doing your own testing by changing 'apple' to any other string)\n",
        "hangman('apple')"
      ],
      "execution_count": null,
      "outputs": [
        {
          "output_type": "stream",
          "text": [
            "Welcome to the game Hangman!\n",
            "I am thinking of a word that is 5 letters long.\n",
            " -----------------------------------\n",
            "You have 6 guesses left.\n",
            "Available letters: abcdefghijklmnopqrstuvwxyz\n",
            "Please guess a letter: a\n",
            "Good guess: a_ _ _ _ \n",
            " -----------------------------------\n",
            "You have 6 guesses left.\n",
            "Available letters: bcdefghijklmnopqrstuvwxyz\n",
            "Please guess a letter: a\n",
            "You've already guessed that letter\n",
            " -----------------------------------\n",
            "You have 6 guesses left.\n",
            "Available letters: bcdefghijklmnopqrstuvwxyz\n",
            "Please guess a letter: c\n",
            "Oops! That letter is not in my word: a_ _ _ _ \n",
            " -----------------------------------\n",
            "You have 5 guesses left.\n",
            "Available letters: bdefghijklmnopqrstuvwxyz\n",
            "Please guess a letter: d\n",
            "Oops! That letter is not in my word: a_ _ _ _ \n",
            " -----------------------------------\n",
            "You have 4 guesses left.\n",
            "Available letters: befghijklmnopqrstuvwxyz\n",
            "Please guess a letter: e\n",
            "Good guess: a_ _ _ e\n",
            " -----------------------------------\n",
            "You have 4 guesses left.\n",
            "Available letters: bfghijklmnopqrstuvwxyz\n",
            "Please guess a letter: f\n",
            "Oops! That letter is not in my word: a_ _ _ e\n",
            " -----------------------------------\n",
            "You have 3 guesses left.\n",
            "Available letters: bghijklmnopqrstuvwxyz\n",
            "Please guess a letter: g\n",
            "Oops! That letter is not in my word: a_ _ _ e\n",
            " -----------------------------------\n",
            "You have 2 guesses left.\n",
            "Available letters: bhijklmnopqrstuvwxyz\n",
            "Please guess a letter: h\n",
            "Oops! That letter is not in my word: a_ _ _ e\n",
            " -----------------------------------\n",
            "You have 1 guesses left.\n",
            "Available letters: bijklmnopqrstuvwxyz\n",
            "Please guess a letter: i\n",
            "Oops! That letter is not in my word: a_ _ _ e\n",
            " -----------------------------------\n"
          ],
          "name": "stdout"
        }
      ]
    },
    {
      "cell_type": "markdown",
      "metadata": {
        "id": "67Imnr3pzlNL"
      },
      "source": [
        "## Congratulations all of your hardwork paid of, you have just created the Hangman Game<br>\n",
        "**now go ahead and play the game you created, run the cell below**\n",
        "\n"
      ]
    },
    {
      "cell_type": "code",
      "metadata": {
        "id": "QzirSnOvzlNL",
        "outputId": "8d537837-5259-4d56-9f81-c757b16b7c7d"
      },
      "source": [
        "words = ['army', 'beautiful', 'became', 'if', 'actually', 'beside', 'between','come','eye','five','fur','imposter', 'problem' ,'revenge' ,'few' ,'circle' ,'district','trade','quota','stop','depressed','disorder','dentist']\n",
        "\n",
        "#choose a random word from list using random.choice() function\n",
        "random_word = \n",
        "\n",
        "#check you function\n",
        "hangman(random_word)"
      ],
      "execution_count": null,
      "outputs": [
        {
          "output_type": "stream",
          "text": [
            "Welcome to the game Hangman!\n",
            "I am thinking of a word that is 7 letters long.\n",
            " -----------------------------------\n",
            "You have 6 guesses left.\n",
            "Available letters: abcdefghijklmnopqrstuvwxyz\n",
            "Please guess a letter: j\n",
            "Oops! That letter is not in my word: _ _ _ _ _ _ _ \n",
            " -----------------------------------\n",
            "You have 5 guesses left.\n",
            "Available letters: abcdefghiklmnopqrstuvwxyz\n",
            "Please guess a letter: k\n",
            "Oops! That letter is not in my word: _ _ _ _ _ _ _ \n",
            " -----------------------------------\n",
            "You have 4 guesses left.\n",
            "Available letters: abcdefghilmnopqrstuvwxyz\n",
            "Please guess a letter: l\n",
            "Oops! That letter is not in my word: _ _ _ _ _ _ _ \n",
            " -----------------------------------\n",
            "You have 3 guesses left.\n",
            "Available letters: abcdefghimnopqrstuvwxyz\n",
            "Please guess a letter: m\n",
            "Oops! That letter is not in my word: _ _ _ _ _ _ _ \n",
            " -----------------------------------\n",
            "You have 2 guesses left.\n",
            "Available letters: abcdefghinopqrstuvwxyz\n",
            "Please guess a letter: o\n",
            "Oops! That letter is not in my word: _ _ _ _ _ _ _ \n",
            " -----------------------------------\n",
            "Sorry, you ran out of guesses. The word was between\n"
          ],
          "name": "stdout"
        }
      ]
    },
    {
      "cell_type": "markdown",
      "metadata": {
        "id": "IsK6_jHqzlNM"
      },
      "source": [
        "--------------------------------------\n",
        "Wohooo! You did a really good job. We hope you enjoyed your first mini python project here. \n",
        "\n",
        "We understand it was bit challenging and time taking, but it's worth it, coz here you are to achieve your goal and this course will help you in all posible way to make your dreams come true.\n",
        "\n"
      ]
    },
    {
      "cell_type": "markdown",
      "metadata": {
        "id": "6lMmwNLXzlNM"
      },
      "source": [
        "\n",
        "\n",
        "----------------------------------------------------------------------"
      ]
    },
    {
      "cell_type": "markdown",
      "metadata": {
        "id": "mFImfWN-zlNN"
      },
      "source": [
        "# Bam!, you completed the second milestone challenge too:)!! "
      ]
    },
    {
      "cell_type": "markdown",
      "metadata": {
        "id": "PgLqNujMzlNN"
      },
      "source": [
        "# FeedBack\n",
        "We hope you’ve enjoyed this course so far. We’re committed to help you use \"AI for All\" course to its full potential, so that you have a great learning experience. And that’s why we need your help in form of a feedback here.\n",
        "\n",
        "Please fill this feedback form https://docs.google.com/forms/d/e/1FAIpQLSfjBmH0yJSSA34IhSVx4h2eDMgOAeG4Dk-yHid__NMTk3Hq5g/viewform"
      ]
    }
  ]
}